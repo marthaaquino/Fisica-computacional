{
 "cells": [
  {
   "cell_type": "code",
   "execution_count": 4,
   "metadata": {},
   "outputs": [],
   "source": [
    "using Plots\n",
    "using LaTeXStrings"
   ]
  },
  {
   "cell_type": "code",
   "execution_count": 123,
   "metadata": {
    "scrolled": true
   },
   "outputs": [
    {
     "data": {
      "text/plain": [
       "circ (generic function with 2 methods)"
      ]
     },
     "execution_count": 123,
     "metadata": {},
     "output_type": "execute_result"
    }
   ],
   "source": [
    "function circ(x)\n",
    "    return [x[1],x[3]+x[1]]\n",
    "end "
   ]
  },
  {
   "cell_type": "markdown",
   "metadata": {},
   "source": [
    "##### 1.- En clase vimos el método de Euler mejorado en el que nosotros introducimos el Jacobiano de forma analítica para ser evaluado por el método de integración. Realice una función que implemente el mismo método de integración, pero en lugar de calcular el Jacobiano con una función que lo evalúa analíticamente, ahora sea calculado de manera numérica utilizando la derivación numérica."
   ]
  },
  {
   "cell_type": "code",
   "execution_count": 127,
   "metadata": {},
   "outputs": [
    {
     "data": {
      "text/plain": [
       "jacobiano (generic function with 1 method)"
      ]
     },
     "execution_count": 127,
     "metadata": {},
     "output_type": "execute_result"
    }
   ],
   "source": [
    "#jacobiano autónomo general\n",
    "function jacobiano(xi,h,func)\n",
    "    \n",
    "    jac=zeros(length(func(xi)),length(xi))\n",
    "    \n",
    "    for i in 1:length(func(xi)), j in 1:length(xi)\n",
    "        \n",
    "        xp1=zeros(length(xi))\n",
    "        xp2=zeros(length(xi))\n",
    "        for k in 1:length(xi)\n",
    "            if  k==j #k==i ||\n",
    "                xp1[k]=xi[j]+h\n",
    "                xp2[k]=xi[j]-h\n",
    "            else\n",
    "                xp1[k]=xi[j]\n",
    "                xp2[k]=xi[j]\n",
    "            end\n",
    "        end\n",
    "        jac[i,j]=(func(xp1)[i]-func(xp2)[i])/(xp1[j]-xp2[j])\n",
    "    end\n",
    "    return jac\n",
    "end"
   ]
  },
  {
   "cell_type": "markdown",
   "metadata": {},
   "source": []
  },
  {
   "cell_type": "code",
   "execution_count": 128,
   "metadata": {},
   "outputs": [
    {
     "data": {
      "text/plain": [
       "jacobianotemp (generic function with 1 method)"
      ]
     },
     "execution_count": 128,
     "metadata": {},
     "output_type": "execute_result"
    }
   ],
   "source": [
    "#jacobiano autónomo general\n",
    "function jacobianotemp(xi,h,func)\n",
    "    m=func(xi)\n",
    "    jac=zeros(length(func(xi)),length(xi))\n",
    "    for i in 1:length(func(xi)), j in 1:length(xi)\n",
    "        xp1=zeros(length(xi))\n",
    "        xp2=zeros(length(xi))\n",
    "        for k in 1:length(xi)\n",
    "            if  k==j #k==i ||\n",
    "                xp1[k]=xi[j]+h\n",
    "                xp2[k]=xi[j]-h\n",
    "            else\n",
    "                xp1[k]=xi[j]\n",
    "                xp2[k]=xi[j]\n",
    "            end\n",
    "        end\n",
    "        jac[i,j]=(func(xp1)[i]-func(xp2)[i])/(xp1[j]-xp2[j])\n",
    "    end\n",
    "    return jac\n",
    "end"
   ]
  },
  {
   "cell_type": "code",
   "execution_count": 129,
   "metadata": {},
   "outputs": [
    {
     "data": {
      "text/plain": [
       "2×3 Array{Float64,2}:\n",
       " 1.0  0.0  0.0\n",
       " 1.0  0.0  1.0"
      ]
     },
     "execution_count": 129,
     "metadata": {},
     "output_type": "execute_result"
    }
   ],
   "source": [
    "x=1,1,1\n",
    "A=jacobianotemp(x,0.1,circ)"
   ]
  },
  {
   "cell_type": "code",
   "execution_count": 130,
   "metadata": {},
   "outputs": [
    {
     "data": {
      "text/plain": [
       "Euler_mejorado_J (generic function with 2 methods)"
      ]
     },
     "execution_count": 130,
     "metadata": {},
     "output_type": "execute_result"
    }
   ],
   "source": [
    "function Euler_mejorado_J(edo,p_ini,t,jacob)\n",
    "    # Este solo tiene J y g sin dependencia temporal.\n",
    "    sol = zeros(length(t),length(p_ini))\n",
    "    sol[1,:] = p_ini\n",
    "    δ = t[2]-t[1]\n",
    "    for i in 1:(length(t)-1)\n",
    "        J=jacobianotemp(xi, δ ,edo)\n",
    "        sol[i+1,:] .= sol[i,:] .+ δ .*edo(sol[i,:],t[i])\n",
    "        sol[i+1,:] .+= 0.5*(δ^2) .*(jacob(sol[i,:],t[i]) *edo(sol[i,:],t[i])) # ojo sistema autonomo\n",
    "    end\n",
    "    return sol\n",
    "end"
   ]
  },
  {
   "cell_type": "code",
   "execution_count": 119,
   "metadata": {},
   "outputs": [
    {
     "ename": "LoadError",
     "evalue": "syntax: incomplete: \"function\" at In[119]:1 requires end",
     "output_type": "error",
     "traceback": [
      "syntax: incomplete: \"function\" at In[119]:1 requires end",
      "",
      "Stacktrace:",
      " [1] top-level scope at In[119]:1",
      " [2] include_string(::Function, ::Module, ::String, ::String) at .\\loading.jl:1091"
     ]
    }
   ],
   "source": [
    "function Euler_mejorado_Jp(edo,p_ini,t,jacob)\n",
    "    # Este solo tiene J y g sin dependencia temporal.\n",
    "    sol = zeros(length(t),length(p_ini))\n",
    "    sol[1,:] = p_ini\n",
    "    δ = t[2]-t[1]\n",
    "    for i in 1:(length(t)-1)\n",
    "        xi=[i for i in sol[i,:]]\n",
    "        push!(xi,t[i])\n",
    "        J=jacobianotemp(xi,h,func)\n",
    "        eval_edo=[sol[1,:],t[i]]\n",
    "        if length(eval_edo)==lenght(p_ini)\n",
    "            sol[i+1,:] .= sol[i,:] .+δ .*eval_edo\n",
    "        else \n",
    "            sol[i+1,:] .= sol[i,:] .+ δ .*edo[1:(end-1)]\n",
    "\n",
    "        sol[i+1,:] .+= 0.5*(δ^2) .*(J*edo(sol[i,:],t[i])) # ojo sistema autonomo\n",
    "        end\n",
    "    return sol\n",
    "end"
   ]
  },
  {
   "cell_type": "markdown",
   "metadata": {},
   "source": [
    "### 2.- Utilizando los integradores de Euler mejorado con Jacobiano analítico, Euler mejorado con Jacobiano numérico, Runge-Kutta de $2^{\\circ}$ orden y Runge-Kutta de $4^{\\circ}$ orden, encuentre un paso de integración que proporcione una precisión de $10^{−4}$ en la solución para la siguiente ecuación:\n",
    "\n",
    "$$\n",
    "\\dddot{y} + \\ddot{y}^2 - 3\\dot{y}^3 + \\cos^2{y} = e^{-t}\\sin{3t}\n",
    "$$\n",
    "\n",
    "##### Con condiciones iniciales $\\ddot{y}(1)=1$, $\\dot{y}(1)=2$, $y(1)=1$. En particular, ¿qué sucede en en $t\\in[1,2]$ y $t\\in[1,2.1]$?"
   ]
  },
  {
   "cell_type": "markdown",
   "metadata": {},
   "source": [
    "Transcribimos las funciones Euler mejorado con Jacobiano analítico:"
   ]
  },
  {
   "cell_type": "code",
   "execution_count": 47,
   "metadata": {},
   "outputs": [
    {
     "data": {
      "text/plain": [
       "Euler_mejorado_J_t_p (generic function with 2 methods)"
      ]
     },
     "execution_count": 47,
     "metadata": {},
     "output_type": "execute_result"
    }
   ],
   "source": [
    "function Euler_mejorado_J_t_p(edo,p_ini,t,jacob)\n",
    "    # J y g con dependencia temporal y de parametros externos\n",
    "    sol = zeros(length(t),length(p_ini))\n",
    "    sol[1,:] = p_ini\n",
    "    δ = t[2]-t[1]\n",
    "    for i in 1:(length(t)-1)\n",
    "        eval_edo = edo(sol[i,:],t[i])\n",
    "        if length(eval_edo) == length(p_ini)\n",
    "            sol[i+1,:] .= sol[i,:] .+ δ .*eval_edo\n",
    "        else\n",
    "            sol[i+1,:] .= sol[i,:] .+ δ .*eval_edo[1:(end-1)]\n",
    "        end\n",
    "        sol[i+1,:] .+= 0.5*(δ^2) .*(jacob(sol[i,:],t[i]) *eval_edo )\n",
    "    end\n",
    "    return sol\n",
    "end"
   ]
  },
  {
   "cell_type": "markdown",
   "metadata": {},
   "source": [
    "Runge-Kutta de 2do orden: "
   ]
  },
  {
   "cell_type": "code",
   "execution_count": 54,
   "metadata": {},
   "outputs": [
    {
     "data": {
      "text/plain": [
       "RK_2 (generic function with 1 method)"
      ]
     },
     "execution_count": 54,
     "metadata": {},
     "output_type": "execute_result"
    }
   ],
   "source": [
    "function RK_2(edo,x_ini,t)\n",
    "    sol = zeros( length(t) , length(x_ini) )\n",
    "    sol[1,:] .= x_ini\n",
    "    δ = t[2]-t[1]\n",
    "    for i in 1:length(t)-1\n",
    "        k1 = sol[i,:] .+ 0.5*δ .*edo(sol[i,:],t[i])\n",
    "        sol[i+1,:] .= sol[i,:] .+ δ*edo(k1,t[i]+0.5*δ)\n",
    "    end\n",
    "    return sol\n",
    "end"
   ]
  },
  {
   "cell_type": "markdown",
   "metadata": {},
   "source": [
    "Runge-Kutta de 4to orden:"
   ]
  },
  {
   "cell_type": "code",
   "execution_count": 43,
   "metadata": {},
   "outputs": [
    {
     "data": {
      "text/plain": [
       "RK_4 (generic function with 1 method)"
      ]
     },
     "execution_count": 43,
     "metadata": {},
     "output_type": "execute_result"
    }
   ],
   "source": [
    "function RK_4(edo,x_ini,t)\n",
    "    sol = zeros( length(t) , length(x_ini) )\n",
    "    sol[1,:] .= x_ini\n",
    "    δ = t[2]-t[1]\n",
    "    for i in 1:length(t)-1\n",
    "        k1 = edo(sol[i,:],t[i])\n",
    "        k2 = edo(sol[i,:] .+ 0.5*δ.*k1 , t[i] + 0.5*δ)\n",
    "        k3 = edo(sol[i,:] .+ 0.5*δ.*k2 , t[i] + 0.5*δ)\n",
    "        k4 = edo(sol[i,:] .+ δ.*k2 , t[i] + δ)\n",
    "        sol[i+1,:] .= sol[i,:] .+ (δ/6.0).*(k1 .+ 2.0.*k2 .+ 2.0.*k3 .+ k4)\n",
    "    end\n",
    "    return sol\n",
    "end"
   ]
  },
  {
   "cell_type": "markdown",
   "metadata": {},
   "source": [
    "Ahora definimos las funciones de las ecuaciones diferenciales. Para ello notemos que podemos reescribir la ecuación diferencial como un sistema de ecuaciones diferenciales:\n",
    "\n",
    "$$\n",
    "x_1=y\\\\\n",
    "\\dot{x}_1 = x_2\\\\\n",
    "\\dot{x}_2 = x_3\\\\\n",
    "\\dot{x}_3 = -x_3^2 + 3x_2^3 - \\cos^2{(x_1)} + e^{-t}\\sin{(3t)}\n",
    "$$\n",
    "\n",
    "Y cuyas condiciones iniciales son: $x_1(1)=1$, $x_2(1)=2$ y $x_3(1)=1$. Las cuales, podemos escribir en una función de la siguiente manera:"
   ]
  },
  {
   "cell_type": "code",
   "execution_count": 49,
   "metadata": {},
   "outputs": [
    {
     "data": {
      "text/plain": [
       "EDO1 (generic function with 1 method)"
      ]
     },
     "execution_count": 49,
     "metadata": {},
     "output_type": "execute_result"
    }
   ],
   "source": [
    "function EDO1(vec,t)\n",
    "    # vec = [x1, x2, x3]\n",
    "    dx1 = vec[2]\n",
    "    dx2 = vec[3]\n",
    "    dx3 = -vec[3]*vec[3] + 3*vec[2]*vec[2]*vec[2] - cos(vec[1])*cos(vec[1]) + exp(-t)*sin(3*t)\n",
    "    return [dx1,dx2,dx3,1.0]\n",
    "end"
   ]
  },
  {
   "cell_type": "markdown",
   "metadata": {},
   "source": [
    "Y ahora definimos su Jacobiano analítico"
   ]
  },
  {
   "cell_type": "code",
   "execution_count": 45,
   "metadata": {},
   "outputs": [
    {
     "data": {
      "text/plain": [
       "EDO1_J (generic function with 1 method)"
      ]
     },
     "execution_count": 45,
     "metadata": {},
     "output_type": "execute_result"
    }
   ],
   "source": [
    "function EDO1_J(vec,t)\n",
    "    # vec = [x1, x2, x3]\n",
    "    J = zeros(3,4)\n",
    "    J[1,2] = 1.0\n",
    "    J[2,3] = 1.0\n",
    "    J[3,1] = 2*cos(vec[1])*sin(vec[1])\n",
    "    J[3,2] = 9*vec[2]*vec[2]\n",
    "    J[3,3] = -2*vec[3]\n",
    "    J[3,4] = 3*exp(-1*t)*cos(3*t)-exp(-1*t)*sin(3*t)\n",
    "    return J\n",
    "end"
   ]
  },
  {
   "cell_type": "markdown",
   "metadata": {},
   "source": [
    "Ahora resolvamos esta ecuación diferencial con los diversos métodos en t=[1,2], para obtener un error de menos de 10^{-4}"
   ]
  },
  {
   "cell_type": "markdown",
   "metadata": {},
   "source": [
    "#### 3.- Modifique las funciones integradoras que programamos en clase (Euler mejorado, Runge-Kutta de $2^{\\circ}$ orden y Runge-Kutta de $4^{\\circ}$ orden) para que se puedan pasar argumentos opcionales al sistema de ecuaciones diferenciales de tal manera que se puedan modificar parámetros al momento de hacer la integración. Una vez hecho esto, obtenga la solución de la siguiente ecuación diferencial\n",
    "\n",
    "$$\n",
    "\\ddot{x} + \\frac{1}{10}\\dot{x}+4\\sin{x} = \\frac{1}{2}\\sin{(\\omega t)}\n",
    "$$\n",
    "\n",
    "#### Con condiciones iniciales $\\dot{x}(0)=1$ y $x(0)=1$ y para $\\omega\\in\\{1,1.1,1.2,1.3,...,2.9,3\\}$. Realice la gráfica de algunas soluciones que representen el comportamiento de la solución en función de $\\omega$ y explique su resultado. La solución debe tener una precisión de por lo menos $10^{−5}$."
   ]
  },
  {
   "cell_type": "markdown",
   "metadata": {},
   "source": [
    "Notemos que podemos escribir la ecuación diferencial como un sistema de ecuaciones diferenciales donde:\n",
    "$$\n",
    "x=x_1\\\\\n",
    "\\dot{x}_1 = x_2\\\\\n",
    "\\dot{x}_2 = -\\frac{1}{10}x_2 - 4\\sin{(x_1)} + \\frac{1}{2}\\sin{(\\omega t)}\n",
    "$$\n",
    "Ahora escribamos este sistema como una función en Julia y su jacobiano de manera analítica."
   ]
  },
  {
   "cell_type": "code",
   "execution_count": 152,
   "metadata": {},
   "outputs": [
    {
     "data": {
      "text/plain": [
       "EDO2 (generic function with 2 methods)"
      ]
     },
     "execution_count": 152,
     "metadata": {},
     "output_type": "execute_result"
    }
   ],
   "source": [
    "function EDO2(vec,t,ω)\n",
    "    # vec = [x1, x2]\n",
    "    dx1 = vec[2]\n",
    "    dx2 = -vec[2]/10 - 4*sin(vec[1]) + 0.5*sin(ω*t)\n",
    "    return [dx1,dx2]#1.0]\n",
    "end"
   ]
  },
  {
   "cell_type": "markdown",
   "metadata": {},
   "source": [
    "Ahora el jacobiano analítico:"
   ]
  },
  {
   "cell_type": "code",
   "execution_count": 155,
   "metadata": {},
   "outputs": [
    {
     "data": {
      "text/plain": [
       "EDO2_J (generic function with 1 method)"
      ]
     },
     "execution_count": 155,
     "metadata": {},
     "output_type": "execute_result"
    }
   ],
   "source": [
    "function EDO2_J(vec,t,ω)\n",
    "    # param = [ omega ]\n",
    "    # vec = [x1, x2]\n",
    "    #ω = param\n",
    "    J = zeros(length(vec),length(vec)+1)\n",
    "    J[1,2] = 1.0\n",
    "    J[2,1] = -4*cos(vec[1])\n",
    "    J[2,2] = -1/10\n",
    "    J[2,3] = 0.5*ω*cos(ω*t)\n",
    "    return J\n",
    "end"
   ]
  },
  {
   "cell_type": "markdown",
   "metadata": {},
   "source": [
    "Ahora modifiquemos las funciones de Euler mejorado:"
   ]
  },
  {
   "cell_type": "code",
   "execution_count": 156,
   "metadata": {},
   "outputs": [
    {
     "data": {
      "text/plain": [
       "Euler_mejorado_J (generic function with 2 methods)"
      ]
     },
     "execution_count": 156,
     "metadata": {},
     "output_type": "execute_result"
    }
   ],
   "source": [
    "function Euler_mejorado_J(edo,p_ini,t,jacob,ω)\n",
    "    # J y g con dependencia temporal y de parametros externos\n",
    "    sol = zeros(length(t),length(p_ini))\n",
    "    sol[1,:] = p_ini\n",
    "    δ = t[2]-t[1]\n",
    "    for i in 1:(length(t)-1)\n",
    "        eval_edo = edo(sol[i,:],t[i],ω)\n",
    "        if length(eval_edo) == length(p_ini)\n",
    "            sol[i+1,:] .= sol[i,:] .+ δ .*eval_edo\n",
    "        else\n",
    "            sol[i+1,:] .= sol[i,:] .+ δ .*eval_edo[1:(end-1)]\n",
    "        end\n",
    "        sol[i+1,:] .+= 0.5*(δ^2) .*(jacob(sol[i,:],t[i],ω) *eval_edo )\n",
    "    end\n",
    "    return sol\n",
    "end"
   ]
  },
  {
   "cell_type": "code",
   "execution_count": 158,
   "metadata": {},
   "outputs": [
    {
     "data": {
      "image/svg+xml": [
       "<?xml version=\"1.0\" encoding=\"utf-8\"?>\n",
       "<svg xmlns=\"http://www.w3.org/2000/svg\" xmlns:xlink=\"http://www.w3.org/1999/xlink\" width=\"600\" height=\"400\" viewBox=\"0 0 2400 1600\">\n",
       "<defs>\n",
       "  <clipPath id=\"clip680\">\n",
       "    <rect x=\"0\" y=\"0\" width=\"2400\" height=\"1600\"/>\n",
       "  </clipPath>\n",
       "</defs>\n",
       "<path clip-path=\"url(#clip680)\" d=\"\n",
       "M0 1600 L2400 1600 L2400 0 L0 0  Z\n",
       "  \" fill=\"#ffffff\" fill-rule=\"evenodd\" fill-opacity=\"1\"/>\n",
       "<defs>\n",
       "  <clipPath id=\"clip681\">\n",
       "    <rect x=\"480\" y=\"0\" width=\"1681\" height=\"1600\"/>\n",
       "  </clipPath>\n",
       "</defs>\n",
       "<path clip-path=\"url(#clip680)\" d=\"\n",
       "M242.922 1423.18 L2352.76 1423.18 L2352.76 123.472 L242.922 123.472  Z\n",
       "  \" fill=\"#ffffff\" fill-rule=\"evenodd\" fill-opacity=\"1\"/>\n",
       "<defs>\n",
       "  <clipPath id=\"clip682\">\n",
       "    <rect x=\"242\" y=\"123\" width=\"2111\" height=\"1301\"/>\n",
       "  </clipPath>\n",
       "</defs>\n",
       "<polyline clip-path=\"url(#clip682)\" style=\"stroke:#000000; stroke-width:2; stroke-opacity:0.1; fill:none\" points=\"\n",
       "  302.634,1423.18 302.634,123.472 \n",
       "  \"/>\n",
       "<polyline clip-path=\"url(#clip682)\" style=\"stroke:#000000; stroke-width:2; stroke-opacity:0.1; fill:none\" points=\"\n",
       "  619.578,1423.18 619.578,123.472 \n",
       "  \"/>\n",
       "<polyline clip-path=\"url(#clip682)\" style=\"stroke:#000000; stroke-width:2; stroke-opacity:0.1; fill:none\" points=\"\n",
       "  936.522,1423.18 936.522,123.472 \n",
       "  \"/>\n",
       "<polyline clip-path=\"url(#clip682)\" style=\"stroke:#000000; stroke-width:2; stroke-opacity:0.1; fill:none\" points=\"\n",
       "  1253.47,1423.18 1253.47,123.472 \n",
       "  \"/>\n",
       "<polyline clip-path=\"url(#clip682)\" style=\"stroke:#000000; stroke-width:2; stroke-opacity:0.1; fill:none\" points=\"\n",
       "  1570.41,1423.18 1570.41,123.472 \n",
       "  \"/>\n",
       "<polyline clip-path=\"url(#clip682)\" style=\"stroke:#000000; stroke-width:2; stroke-opacity:0.1; fill:none\" points=\"\n",
       "  1887.36,1423.18 1887.36,123.472 \n",
       "  \"/>\n",
       "<polyline clip-path=\"url(#clip682)\" style=\"stroke:#000000; stroke-width:2; stroke-opacity:0.1; fill:none\" points=\"\n",
       "  2204.3,1423.18 2204.3,123.472 \n",
       "  \"/>\n",
       "<polyline clip-path=\"url(#clip680)\" style=\"stroke:#000000; stroke-width:4; stroke-opacity:1; fill:none\" points=\"\n",
       "  242.922,1423.18 2352.76,1423.18 \n",
       "  \"/>\n",
       "<polyline clip-path=\"url(#clip680)\" style=\"stroke:#000000; stroke-width:4; stroke-opacity:1; fill:none\" points=\"\n",
       "  302.634,1423.18 302.634,1407.58 \n",
       "  \"/>\n",
       "<polyline clip-path=\"url(#clip680)\" style=\"stroke:#000000; stroke-width:4; stroke-opacity:1; fill:none\" points=\"\n",
       "  619.578,1423.18 619.578,1407.58 \n",
       "  \"/>\n",
       "<polyline clip-path=\"url(#clip680)\" style=\"stroke:#000000; stroke-width:4; stroke-opacity:1; fill:none\" points=\"\n",
       "  936.522,1423.18 936.522,1407.58 \n",
       "  \"/>\n",
       "<polyline clip-path=\"url(#clip680)\" style=\"stroke:#000000; stroke-width:4; stroke-opacity:1; fill:none\" points=\"\n",
       "  1253.47,1423.18 1253.47,1407.58 \n",
       "  \"/>\n",
       "<polyline clip-path=\"url(#clip680)\" style=\"stroke:#000000; stroke-width:4; stroke-opacity:1; fill:none\" points=\"\n",
       "  1570.41,1423.18 1570.41,1407.58 \n",
       "  \"/>\n",
       "<polyline clip-path=\"url(#clip680)\" style=\"stroke:#000000; stroke-width:4; stroke-opacity:1; fill:none\" points=\"\n",
       "  1887.36,1423.18 1887.36,1407.58 \n",
       "  \"/>\n",
       "<polyline clip-path=\"url(#clip680)\" style=\"stroke:#000000; stroke-width:4; stroke-opacity:1; fill:none\" points=\"\n",
       "  2204.3,1423.18 2204.3,1407.58 \n",
       "  \"/>\n",
       "<path clip-path=\"url(#clip680)\" d=\"M 0 0 M302.634 1452.37 Q299.023 1452.37 297.194 1455.94 Q295.389 1459.48 295.389 1466.61 Q295.389 1473.71 297.194 1477.28 Q299.023 1480.82 302.634 1480.82 Q306.268 1480.82 308.074 1477.28 Q309.902 1473.71 309.902 1466.61 Q309.902 1459.48 308.074 1455.94 Q306.268 1452.37 302.634 1452.37 M302.634 1448.67 Q308.444 1448.67 311.5 1453.27 Q314.578 1457.86 314.578 1466.61 Q314.578 1475.33 311.5 1479.94 Q308.444 1484.52 302.634 1484.52 Q296.824 1484.52 293.745 1479.94 Q290.69 1475.33 290.69 1466.61 Q290.69 1457.86 293.745 1453.27 Q296.824 1448.67 302.634 1448.67 Z\" fill=\"#000000\" fill-rule=\"evenodd\" fill-opacity=\"1\" /><path clip-path=\"url(#clip680)\" d=\"M 0 0 M609.96 1479.92 L617.599 1479.92 L617.599 1453.55 L609.289 1455.22 L609.289 1450.96 L617.553 1449.29 L622.229 1449.29 L622.229 1479.92 L629.867 1479.92 L629.867 1483.85 L609.96 1483.85 L609.96 1479.92 Z\" fill=\"#000000\" fill-rule=\"evenodd\" fill-opacity=\"1\" /><path clip-path=\"url(#clip680)\" d=\"M 0 0 M931.175 1479.92 L947.495 1479.92 L947.495 1483.85 L925.55 1483.85 L925.55 1479.92 Q928.212 1477.16 932.796 1472.53 Q937.402 1467.88 938.583 1466.54 Q940.828 1464.01 941.708 1462.28 Q942.61 1460.52 942.61 1458.83 Q942.61 1456.07 940.666 1454.34 Q938.745 1452.6 935.643 1452.6 Q933.444 1452.6 930.99 1453.37 Q928.559 1454.13 925.782 1455.68 L925.782 1450.96 Q928.606 1449.82 931.059 1449.25 Q933.513 1448.67 935.55 1448.67 Q940.921 1448.67 944.115 1451.35 Q947.309 1454.04 947.309 1458.53 Q947.309 1460.66 946.499 1462.58 Q945.712 1464.48 943.606 1467.07 Q943.027 1467.74 939.925 1470.96 Q936.823 1474.15 931.175 1479.92 Z\" fill=\"#000000\" fill-rule=\"evenodd\" fill-opacity=\"1\" /><path clip-path=\"url(#clip680)\" d=\"M 0 0 M1257.71 1465.22 Q1261.07 1465.94 1262.95 1468.2 Q1264.84 1470.47 1264.84 1473.81 Q1264.84 1478.92 1261.33 1481.72 Q1257.81 1484.52 1251.33 1484.52 Q1249.15 1484.52 1246.83 1484.08 Q1244.54 1483.67 1242.09 1482.81 L1242.09 1478.3 Q1244.03 1479.43 1246.35 1480.01 Q1248.66 1480.59 1251.19 1480.59 Q1255.58 1480.59 1257.88 1478.85 Q1260.19 1477.12 1260.19 1473.81 Q1260.19 1470.75 1258.04 1469.04 Q1255.91 1467.3 1252.09 1467.3 L1248.06 1467.3 L1248.06 1463.46 L1252.27 1463.46 Q1255.72 1463.46 1257.55 1462.09 Q1259.38 1460.7 1259.38 1458.11 Q1259.38 1455.45 1257.48 1454.04 Q1255.61 1452.6 1252.09 1452.6 Q1250.17 1452.6 1247.97 1453.02 Q1245.77 1453.44 1243.13 1454.31 L1243.13 1450.15 Q1245.79 1449.41 1248.11 1449.04 Q1250.45 1448.67 1252.51 1448.67 Q1257.83 1448.67 1260.93 1451.1 Q1264.03 1453.5 1264.03 1457.63 Q1264.03 1460.5 1262.39 1462.49 Q1260.75 1464.45 1257.71 1465.22 Z\" fill=\"#000000\" fill-rule=\"evenodd\" fill-opacity=\"1\" /><path clip-path=\"url(#clip680)\" d=\"M 0 0 M1573.42 1453.37 L1561.61 1471.81 L1573.42 1471.81 L1573.42 1453.37 M1572.19 1449.29 L1578.07 1449.29 L1578.07 1471.81 L1583 1471.81 L1583 1475.7 L1578.07 1475.7 L1578.07 1483.85 L1573.42 1483.85 L1573.42 1475.7 L1557.82 1475.7 L1557.82 1471.19 L1572.19 1449.29 Z\" fill=\"#000000\" fill-rule=\"evenodd\" fill-opacity=\"1\" /><path clip-path=\"url(#clip680)\" d=\"M 0 0 M1877.63 1449.29 L1895.99 1449.29 L1895.99 1453.23 L1881.92 1453.23 L1881.92 1461.7 Q1882.93 1461.35 1883.95 1461.19 Q1884.97 1461 1885.99 1461 Q1891.78 1461 1895.16 1464.18 Q1898.54 1467.35 1898.54 1472.76 Q1898.54 1478.34 1895.06 1481.44 Q1891.59 1484.52 1885.27 1484.52 Q1883.1 1484.52 1880.83 1484.15 Q1878.58 1483.78 1876.17 1483.04 L1876.17 1478.34 Q1878.26 1479.48 1880.48 1480.03 Q1882.7 1480.59 1885.18 1480.59 Q1889.18 1480.59 1891.52 1478.48 Q1893.86 1476.38 1893.86 1472.76 Q1893.86 1469.15 1891.52 1467.05 Q1889.18 1464.94 1885.18 1464.94 Q1883.3 1464.94 1881.43 1465.36 Q1879.58 1465.77 1877.63 1466.65 L1877.63 1449.29 Z\" fill=\"#000000\" fill-rule=\"evenodd\" fill-opacity=\"1\" /><path clip-path=\"url(#clip680)\" d=\"M 0 0 M2204.7 1464.71 Q2201.56 1464.71 2199.7 1466.86 Q2197.88 1469.01 2197.88 1472.76 Q2197.88 1476.49 2199.7 1478.67 Q2201.56 1480.82 2204.7 1480.82 Q2207.85 1480.82 2209.68 1478.67 Q2211.53 1476.49 2211.53 1472.76 Q2211.53 1469.01 2209.68 1466.86 Q2207.85 1464.71 2204.7 1464.71 M2213.99 1450.06 L2213.99 1454.31 Q2212.23 1453.48 2210.42 1453.04 Q2208.64 1452.6 2206.88 1452.6 Q2202.25 1452.6 2199.8 1455.73 Q2197.37 1458.85 2197.02 1465.17 Q2198.38 1463.16 2200.45 1462.09 Q2202.51 1461 2204.98 1461 Q2210.19 1461 2213.2 1464.18 Q2216.23 1467.32 2216.23 1472.76 Q2216.23 1478.09 2213.08 1481.31 Q2209.94 1484.52 2204.7 1484.52 Q2198.71 1484.52 2195.54 1479.94 Q2192.37 1475.33 2192.37 1466.61 Q2192.37 1458.41 2196.26 1453.55 Q2200.14 1448.67 2206.7 1448.67 Q2208.45 1448.67 2210.24 1449.01 Q2212.04 1449.36 2213.99 1450.06 Z\" fill=\"#000000\" fill-rule=\"evenodd\" fill-opacity=\"1\" /><path clip-path=\"url(#clip680)\" d=\"M 0 0 M1296.9 1510.27 L1296.9 1520.4 L1308.96 1520.4 L1308.96 1524.95 L1296.9 1524.95 L1296.9 1544.3 Q1296.9 1548.66 1298.08 1549.9 Q1299.29 1551.14 1302.95 1551.14 L1308.96 1551.14 L1308.96 1556.04 L1302.95 1556.04 Q1296.17 1556.04 1293.59 1553.53 Q1291.01 1550.98 1291.01 1544.3 L1291.01 1524.95 L1286.71 1524.95 L1286.71 1520.4 L1291.01 1520.4 L1291.01 1510.27 L1296.9 1510.27 Z\" fill=\"#000000\" fill-rule=\"evenodd\" fill-opacity=\"1\" /><polyline clip-path=\"url(#clip682)\" style=\"stroke:#000000; stroke-width:2; stroke-opacity:0.1; fill:none\" points=\"\n",
       "  242.922,1299.78 2352.76,1299.78 \n",
       "  \"/>\n",
       "<polyline clip-path=\"url(#clip682)\" style=\"stroke:#000000; stroke-width:2; stroke-opacity:0.1; fill:none\" points=\"\n",
       "  242.922,1034.21 2352.76,1034.21 \n",
       "  \"/>\n",
       "<polyline clip-path=\"url(#clip682)\" style=\"stroke:#000000; stroke-width:2; stroke-opacity:0.1; fill:none\" points=\"\n",
       "  242.922,768.645 2352.76,768.645 \n",
       "  \"/>\n",
       "<polyline clip-path=\"url(#clip682)\" style=\"stroke:#000000; stroke-width:2; stroke-opacity:0.1; fill:none\" points=\"\n",
       "  242.922,503.077 2352.76,503.077 \n",
       "  \"/>\n",
       "<polyline clip-path=\"url(#clip682)\" style=\"stroke:#000000; stroke-width:2; stroke-opacity:0.1; fill:none\" points=\"\n",
       "  242.922,237.509 2352.76,237.509 \n",
       "  \"/>\n",
       "<polyline clip-path=\"url(#clip680)\" style=\"stroke:#000000; stroke-width:4; stroke-opacity:1; fill:none\" points=\"\n",
       "  242.922,1423.18 242.922,123.472 \n",
       "  \"/>\n",
       "<polyline clip-path=\"url(#clip680)\" style=\"stroke:#000000; stroke-width:4; stroke-opacity:1; fill:none\" points=\"\n",
       "  242.922,1299.78 268.24,1299.78 \n",
       "  \"/>\n",
       "<polyline clip-path=\"url(#clip680)\" style=\"stroke:#000000; stroke-width:4; stroke-opacity:1; fill:none\" points=\"\n",
       "  242.922,1034.21 268.24,1034.21 \n",
       "  \"/>\n",
       "<polyline clip-path=\"url(#clip680)\" style=\"stroke:#000000; stroke-width:4; stroke-opacity:1; fill:none\" points=\"\n",
       "  242.922,768.645 268.24,768.645 \n",
       "  \"/>\n",
       "<polyline clip-path=\"url(#clip680)\" style=\"stroke:#000000; stroke-width:4; stroke-opacity:1; fill:none\" points=\"\n",
       "  242.922,503.077 268.24,503.077 \n",
       "  \"/>\n",
       "<polyline clip-path=\"url(#clip680)\" style=\"stroke:#000000; stroke-width:4; stroke-opacity:1; fill:none\" points=\"\n",
       "  242.922,237.509 268.24,237.509 \n",
       "  \"/>\n",
       "<path clip-path=\"url(#clip680)\" d=\"M 0 0 M114.492 1300.23 L144.167 1300.23 L144.167 1304.17 L114.492 1304.17 L114.492 1300.23 Z\" fill=\"#000000\" fill-rule=\"evenodd\" fill-opacity=\"1\" /><path clip-path=\"url(#clip680)\" d=\"M 0 0 M150.047 1313.12 L157.686 1313.12 L157.686 1286.76 L149.376 1288.43 L149.376 1284.17 L157.64 1282.5 L162.315 1282.5 L162.315 1313.12 L169.954 1313.12 L169.954 1317.06 L150.047 1317.06 L150.047 1313.12 Z\" fill=\"#000000\" fill-rule=\"evenodd\" fill-opacity=\"1\" /><path clip-path=\"url(#clip680)\" d=\"M 0 0 M175.024 1311.18 L179.908 1311.18 L179.908 1317.06 L175.024 1317.06 L175.024 1311.18 Z\" fill=\"#000000\" fill-rule=\"evenodd\" fill-opacity=\"1\" /><path clip-path=\"url(#clip680)\" d=\"M 0 0 M194.977 1285.58 Q191.366 1285.58 189.538 1289.14 Q187.732 1292.69 187.732 1299.81 Q187.732 1306.92 189.538 1310.49 Q191.366 1314.03 194.977 1314.03 Q198.612 1314.03 200.417 1310.49 Q202.246 1306.92 202.246 1299.81 Q202.246 1292.69 200.417 1289.14 Q198.612 1285.58 194.977 1285.58 M194.977 1281.87 Q200.787 1281.87 203.843 1286.48 Q206.922 1291.06 206.922 1299.81 Q206.922 1308.54 203.843 1313.15 Q200.787 1317.73 194.977 1317.73 Q189.167 1317.73 186.088 1313.15 Q183.033 1308.54 183.033 1299.81 Q183.033 1291.06 186.088 1286.48 Q189.167 1281.87 194.977 1281.87 Z\" fill=\"#000000\" fill-rule=\"evenodd\" fill-opacity=\"1\" /><path clip-path=\"url(#clip680)\" d=\"M 0 0 M114.26 1034.66 L143.936 1034.66 L143.936 1038.6 L114.26 1038.6 L114.26 1034.66 Z\" fill=\"#000000\" fill-rule=\"evenodd\" fill-opacity=\"1\" /><path clip-path=\"url(#clip680)\" d=\"M 0 0 M159.005 1020.01 Q155.394 1020.01 153.566 1023.58 Q151.76 1027.12 151.76 1034.25 Q151.76 1041.35 153.566 1044.92 Q155.394 1048.46 159.005 1048.46 Q162.64 1048.46 164.445 1044.92 Q166.274 1041.35 166.274 1034.25 Q166.274 1027.12 164.445 1023.58 Q162.64 1020.01 159.005 1020.01 M159.005 1016.31 Q164.815 1016.31 167.871 1020.91 Q170.95 1025.5 170.95 1034.25 Q170.95 1042.97 167.871 1047.58 Q164.815 1052.16 159.005 1052.16 Q153.195 1052.16 150.116 1047.58 Q147.061 1042.97 147.061 1034.25 Q147.061 1025.5 150.116 1020.91 Q153.195 1016.31 159.005 1016.31 Z\" fill=\"#000000\" fill-rule=\"evenodd\" fill-opacity=\"1\" /><path clip-path=\"url(#clip680)\" d=\"M 0 0 M176.019 1045.61 L180.903 1045.61 L180.903 1051.49 L176.019 1051.49 L176.019 1045.61 Z\" fill=\"#000000\" fill-rule=\"evenodd\" fill-opacity=\"1\" /><path clip-path=\"url(#clip680)\" d=\"M 0 0 M186.019 1016.93 L204.375 1016.93 L204.375 1020.87 L190.301 1020.87 L190.301 1029.34 Q191.32 1028.99 192.338 1028.83 Q193.357 1028.65 194.375 1028.65 Q200.162 1028.65 203.542 1031.82 Q206.922 1034.99 206.922 1040.4 Q206.922 1045.98 203.449 1049.08 Q199.977 1052.16 193.658 1052.16 Q191.482 1052.16 189.213 1051.79 Q186.968 1051.42 184.561 1050.68 L184.561 1045.98 Q186.644 1047.12 188.866 1047.67 Q191.088 1048.23 193.565 1048.23 Q197.57 1048.23 199.908 1046.12 Q202.246 1044.02 202.246 1040.4 Q202.246 1036.79 199.908 1034.69 Q197.57 1032.58 193.565 1032.58 Q191.69 1032.58 189.815 1033 Q187.963 1033.41 186.019 1034.29 L186.019 1016.93 Z\" fill=\"#000000\" fill-rule=\"evenodd\" fill-opacity=\"1\" /><path clip-path=\"url(#clip680)\" d=\"M 0 0 M158.01 754.443 Q154.399 754.443 152.57 758.008 Q150.765 761.55 150.765 768.679 Q150.765 775.786 152.57 779.351 Q154.399 782.892 158.01 782.892 Q161.644 782.892 163.45 779.351 Q165.278 775.786 165.278 768.679 Q165.278 761.55 163.45 758.008 Q161.644 754.443 158.01 754.443 M158.01 750.74 Q163.82 750.74 166.876 755.346 Q169.954 759.929 169.954 768.679 Q169.954 777.406 166.876 782.013 Q163.82 786.596 158.01 786.596 Q152.2 786.596 149.121 782.013 Q146.066 777.406 146.066 768.679 Q146.066 759.929 149.121 755.346 Q152.2 750.74 158.01 750.74 Z\" fill=\"#000000\" fill-rule=\"evenodd\" fill-opacity=\"1\" /><path clip-path=\"url(#clip680)\" d=\"M 0 0 M175.024 780.045 L179.908 780.045 L179.908 785.925 L175.024 785.925 L175.024 780.045 Z\" fill=\"#000000\" fill-rule=\"evenodd\" fill-opacity=\"1\" /><path clip-path=\"url(#clip680)\" d=\"M 0 0 M194.977 754.443 Q191.366 754.443 189.538 758.008 Q187.732 761.55 187.732 768.679 Q187.732 775.786 189.538 779.351 Q191.366 782.892 194.977 782.892 Q198.612 782.892 200.417 779.351 Q202.246 775.786 202.246 768.679 Q202.246 761.55 200.417 758.008 Q198.612 754.443 194.977 754.443 M194.977 750.74 Q200.787 750.74 203.843 755.346 Q206.922 759.929 206.922 768.679 Q206.922 777.406 203.843 782.013 Q200.787 786.596 194.977 786.596 Q189.167 786.596 186.088 782.013 Q183.033 777.406 183.033 768.679 Q183.033 759.929 186.088 755.346 Q189.167 750.74 194.977 750.74 Z\" fill=\"#000000\" fill-rule=\"evenodd\" fill-opacity=\"1\" /><path clip-path=\"url(#clip680)\" d=\"M 0 0 M159.005 488.876 Q155.394 488.876 153.566 492.441 Q151.76 495.982 151.76 503.112 Q151.76 510.218 153.566 513.783 Q155.394 517.325 159.005 517.325 Q162.64 517.325 164.445 513.783 Q166.274 510.218 166.274 503.112 Q166.274 495.982 164.445 492.441 Q162.64 488.876 159.005 488.876 M159.005 485.172 Q164.815 485.172 167.871 489.779 Q170.95 494.362 170.95 503.112 Q170.95 511.839 167.871 516.445 Q164.815 521.028 159.005 521.028 Q153.195 521.028 150.116 516.445 Q147.061 511.839 147.061 503.112 Q147.061 494.362 150.116 489.779 Q153.195 485.172 159.005 485.172 Z\" fill=\"#000000\" fill-rule=\"evenodd\" fill-opacity=\"1\" /><path clip-path=\"url(#clip680)\" d=\"M 0 0 M176.019 514.477 L180.903 514.477 L180.903 520.357 L176.019 520.357 L176.019 514.477 Z\" fill=\"#000000\" fill-rule=\"evenodd\" fill-opacity=\"1\" /><path clip-path=\"url(#clip680)\" d=\"M 0 0 M186.019 485.797 L204.375 485.797 L204.375 489.732 L190.301 489.732 L190.301 498.204 Q191.32 497.857 192.338 497.695 Q193.357 497.51 194.375 497.51 Q200.162 497.51 203.542 500.681 Q206.922 503.853 206.922 509.269 Q206.922 514.848 203.449 517.95 Q199.977 521.028 193.658 521.028 Q191.482 521.028 189.213 520.658 Q186.968 520.288 184.561 519.547 L184.561 514.848 Q186.644 515.982 188.866 516.538 Q191.088 517.093 193.565 517.093 Q197.57 517.093 199.908 514.987 Q202.246 512.88 202.246 509.269 Q202.246 505.658 199.908 503.552 Q197.57 501.445 193.565 501.445 Q191.69 501.445 189.815 501.862 Q187.963 502.278 186.019 503.158 L186.019 485.797 Z\" fill=\"#000000\" fill-rule=\"evenodd\" fill-opacity=\"1\" /><path clip-path=\"url(#clip680)\" d=\"M 0 0 M150.047 250.854 L157.686 250.854 L157.686 224.489 L149.376 226.155 L149.376 221.896 L157.64 220.229 L162.315 220.229 L162.315 250.854 L169.954 250.854 L169.954 254.789 L150.047 254.789 L150.047 250.854 Z\" fill=\"#000000\" fill-rule=\"evenodd\" fill-opacity=\"1\" /><path clip-path=\"url(#clip680)\" d=\"M 0 0 M175.024 248.91 L179.908 248.91 L179.908 254.789 L175.024 254.789 L175.024 248.91 Z\" fill=\"#000000\" fill-rule=\"evenodd\" fill-opacity=\"1\" /><path clip-path=\"url(#clip680)\" d=\"M 0 0 M194.977 223.308 Q191.366 223.308 189.538 226.873 Q187.732 230.415 187.732 237.544 Q187.732 244.651 189.538 248.215 Q191.366 251.757 194.977 251.757 Q198.612 251.757 200.417 248.215 Q202.246 244.651 202.246 237.544 Q202.246 230.415 200.417 226.873 Q198.612 223.308 194.977 223.308 M194.977 219.604 Q200.787 219.604 203.843 224.211 Q206.922 228.794 206.922 237.544 Q206.922 246.271 203.843 250.877 Q200.787 255.461 194.977 255.461 Q189.167 255.461 186.088 250.877 Q183.033 246.271 183.033 237.544 Q183.033 228.794 186.088 224.211 Q189.167 219.604 194.977 219.604 Z\" fill=\"#000000\" fill-rule=\"evenodd\" fill-opacity=\"1\" /><path clip-path=\"url(#clip680)\" d=\"M 0 0 M52.3562 788.731 L69.7028 801.622 L88.0042 788.063 L88.0042 794.969 L73.9996 805.345 L88.0042 815.722 L88.0042 822.628 L69.3526 808.783 L52.3562 821.451 L52.3562 814.544 L65.0558 805.091 L52.3562 795.638 L52.3562 788.731 Z\" fill=\"#000000\" fill-rule=\"evenodd\" fill-opacity=\"1\" /><path clip-path=\"url(#clip680)\" d=\"M 0 0 M38.5426 767.851 Q45.8632 772.116 53.0246 774.185 Q60.186 776.254 67.5384 776.254 Q74.8908 776.254 82.1159 774.185 Q89.3091 772.085 96.5979 767.851 L96.5979 772.944 Q89.1182 777.718 81.8931 780.105 Q74.668 782.461 67.5384 782.461 Q60.4406 782.461 53.2474 780.105 Q46.0542 777.75 38.5426 772.944 L38.5426 767.851 Z\" fill=\"#000000\" fill-rule=\"evenodd\" fill-opacity=\"1\" /><path clip-path=\"url(#clip680)\" d=\"M 0 0 M42.2347 755.916 L52.3562 755.916 L52.3562 743.853 L56.9077 743.853 L56.9077 755.916 L76.2594 755.916 Q80.6199 755.916 81.8613 754.738 Q83.1026 753.529 83.1026 749.868 L83.1026 743.853 L88.0042 743.853 L88.0042 749.868 Q88.0042 756.648 85.4897 759.226 Q82.9434 761.804 76.2594 761.804 L56.9077 761.804 L56.9077 766.101 L52.3562 766.101 L52.3562 761.804 L42.2347 761.804 L42.2347 755.916 Z\" fill=\"#000000\" fill-rule=\"evenodd\" fill-opacity=\"1\" /><path clip-path=\"url(#clip680)\" d=\"M 0 0 M38.5426 738.633 L38.5426 733.54 Q46.0542 728.766 53.2474 726.411 Q60.4406 724.024 67.5384 724.024 Q74.668 724.024 81.8931 726.411 Q89.1182 728.766 96.5979 733.54 L96.5979 738.633 Q89.3091 734.4 82.1159 732.331 Q74.8908 730.23 67.5384 730.23 Q60.186 730.23 53.0246 732.331 Q45.8632 734.4 38.5426 738.633 Z\" fill=\"#000000\" fill-rule=\"evenodd\" fill-opacity=\"1\" /><path clip-path=\"url(#clip680)\" d=\"M 0 0 M87.0843 14.0809 L87.0843 22.0612 Q82.4258 19.8332 78.2938 18.7395 Q74.1619 17.6457 70.3136 17.6457 Q63.6296 17.6457 59.9837 20.2383 Q56.3784 22.8309 56.3784 27.611 Q56.3784 31.6214 58.7685 33.6873 Q61.199 35.7128 67.9235 36.9686 L72.8656 37.9813 Q82.0207 39.7232 86.3551 44.1387 Q90.7301 48.5136 90.7301 55.8863 Q90.7301 64.6767 84.8158 69.2137 Q78.942 73.7508 67.5589 73.7508 Q63.265 73.7508 58.4039 72.7785 Q53.5833 71.8063 48.3982 69.9024 L48.3982 61.4765 Q53.3808 64.2716 58.1608 65.6895 Q62.9409 67.1073 67.5589 67.1073 Q74.567 67.1073 78.3748 64.3527 Q82.1827 61.598 82.1827 56.4939 Q82.1827 52.0379 79.4281 49.5264 Q76.714 47.0148 70.4756 45.759 L65.493 44.7868 Q56.3379 42.9639 52.2465 39.075 Q48.1551 35.1862 48.1551 28.2591 Q48.1551 20.2383 53.7859 15.6203 Q59.4571 11.0023 69.3818 11.0023 Q73.6353 11.0023 78.0508 11.7719 Q82.4663 12.5416 87.0843 14.0809 Z\" fill=\"#000000\" fill-rule=\"evenodd\" fill-opacity=\"1\" /><path clip-path=\"url(#clip680)\" d=\"M 0 0 M98.5484 27.2059 L106.002 27.2059 L106.002 72.576 L98.5484 72.576 L98.5484 27.2059 M98.5484 9.54393 L106.002 9.54393 L106.002 18.9825 L98.5484 18.9825 L98.5484 9.54393 Z\" fill=\"#000000\" fill-rule=\"evenodd\" fill-opacity=\"1\" /><path clip-path=\"url(#clip680)\" d=\"M 0 0 M142.744 28.5427 L142.744 35.5912 Q139.584 33.9709 136.181 33.1607 Q132.778 32.3505 129.133 32.3505 Q123.583 32.3505 120.788 34.0519 Q118.033 35.7533 118.033 39.156 Q118.033 41.7486 120.018 43.2475 Q122.003 44.7058 127.998 46.0426 L130.55 46.6097 Q138.49 48.3111 141.812 51.4303 Q145.174 54.509 145.174 60.0587 Q145.174 66.3781 140.151 70.0644 Q135.169 73.7508 126.419 73.7508 Q122.773 73.7508 118.803 73.0216 Q114.873 72.3329 110.499 70.9151 L110.499 63.2184 Q114.63 65.3654 118.641 66.4591 Q122.651 67.5124 126.581 67.5124 Q131.847 67.5124 134.682 65.73 Q137.518 63.9071 137.518 60.6258 Q137.518 57.5877 135.452 55.9673 Q133.427 54.3469 126.5 52.8481 L123.907 52.2405 Q116.98 50.7821 113.901 47.7845 Q110.823 44.7463 110.823 39.4801 Q110.823 33.0797 115.36 29.5959 Q119.897 26.1121 128.241 26.1121 Q132.373 26.1121 136.019 26.7198 Q139.665 27.3274 142.744 28.5427 Z\" fill=\"#000000\" fill-rule=\"evenodd\" fill-opacity=\"1\" /><path clip-path=\"url(#clip680)\" d=\"M 0 0 M160.365 14.324 L160.365 27.2059 L175.718 27.2059 L175.718 32.9987 L160.365 32.9987 L160.365 57.6282 Q160.365 63.1779 161.864 64.7578 Q163.403 66.3376 168.062 66.3376 L175.718 66.3376 L175.718 72.576 L168.062 72.576 Q159.433 72.576 156.152 69.3758 Q152.871 66.1351 152.871 57.6282 L152.871 32.9987 L147.402 32.9987 L147.402 27.2059 L152.871 27.2059 L152.871 14.324 L160.365 14.324 Z\" fill=\"#000000\" fill-rule=\"evenodd\" fill-opacity=\"1\" /><path clip-path=\"url(#clip680)\" d=\"M 0 0 M222.344 48.0275 L222.344 51.6733 L188.073 51.6733 Q188.559 59.3701 192.691 63.421 Q196.864 67.4314 204.277 67.4314 Q208.571 67.4314 212.581 66.3781 Q216.632 65.3249 220.602 63.2184 L220.602 70.267 Q216.592 71.9684 212.379 72.8596 Q208.166 73.7508 203.831 73.7508 Q192.975 73.7508 186.615 67.4314 Q180.296 61.1119 180.296 50.3365 Q180.296 39.1965 186.291 32.6746 Q192.327 26.1121 202.535 26.1121 Q211.69 26.1121 216.997 32.0264 Q222.344 37.9003 222.344 48.0275 M214.89 45.84 Q214.809 39.7232 211.447 36.0774 Q208.125 32.4315 202.616 32.4315 Q196.378 32.4315 192.61 35.9558 Q188.884 39.4801 188.316 45.8805 L214.89 45.84 Z\" fill=\"#000000\" fill-rule=\"evenodd\" fill-opacity=\"1\" /><path clip-path=\"url(#clip680)\" d=\"M 0 0 M265.486 35.9153 Q268.281 30.8922 272.17 28.5022 Q276.059 26.1121 281.325 26.1121 Q288.414 26.1121 292.263 31.0947 Q296.111 36.0368 296.111 45.1919 L296.111 72.576 L288.617 72.576 L288.617 45.4349 Q288.617 38.913 286.308 35.7533 Q283.999 32.5936 279.259 32.5936 Q273.466 32.5936 270.104 36.4419 Q266.742 40.2903 266.742 46.9338 L266.742 72.576 L259.248 72.576 L259.248 45.4349 Q259.248 38.8725 256.939 35.7533 Q254.63 32.5936 249.809 32.5936 Q244.097 32.5936 240.735 36.4824 Q237.373 40.3308 237.373 46.9338 L237.373 72.576 L229.879 72.576 L229.879 27.2059 L237.373 27.2059 L237.373 34.2544 Q239.925 30.082 243.49 28.0971 Q247.055 26.1121 251.956 26.1121 Q256.898 26.1121 260.341 28.6237 Q263.825 31.1352 265.486 35.9153 Z\" fill=\"#000000\" fill-rule=\"evenodd\" fill-opacity=\"1\" /><path clip-path=\"url(#clip680)\" d=\"M 0 0 M324.548 49.7694 Q315.515 49.7694 312.031 51.8354 Q308.547 53.9013 308.547 58.8839 Q308.547 62.8538 311.14 65.2034 Q313.773 67.5124 318.269 67.5124 Q324.467 67.5124 328.194 63.1374 Q331.961 58.7219 331.961 51.4303 L331.961 49.7694 L324.548 49.7694 M339.415 46.6907 L339.415 72.576 L331.961 72.576 L331.961 65.6895 Q329.409 69.8214 325.602 71.8063 Q321.794 73.7508 316.284 73.7508 Q309.317 73.7508 305.185 69.8619 Q301.094 65.9325 301.094 59.3701 Q301.094 51.7138 306.198 47.825 Q311.342 43.9361 321.51 43.9361 L331.961 43.9361 L331.961 43.2069 Q331.961 38.0623 328.559 35.2672 Q325.196 32.4315 319.08 32.4315 Q315.191 32.4315 311.504 33.3632 Q307.818 34.295 304.415 36.1584 L304.415 29.2718 Q308.507 27.692 312.355 26.9223 Q316.203 26.1121 319.849 26.1121 Q329.693 26.1121 334.554 31.2163 Q339.415 36.3204 339.415 46.6907 Z\" fill=\"#000000\" fill-rule=\"evenodd\" fill-opacity=\"1\" /><path clip-path=\"url(#clip680)\" d=\"M 0 0 M406.255 28.9478 L406.255 35.9153 Q403.095 34.1734 399.895 33.3227 Q396.735 32.4315 393.495 32.4315 Q386.244 32.4315 382.233 37.0496 Q378.223 41.6271 378.223 49.9314 Q378.223 58.2358 382.233 62.8538 Q386.244 67.4314 393.495 67.4314 Q396.735 67.4314 399.895 66.5807 Q403.095 65.6895 406.255 63.9476 L406.255 70.8341 Q403.136 72.2924 399.774 73.0216 Q396.452 73.7508 392.685 73.7508 Q382.436 73.7508 376.4 67.3098 Q370.364 60.8689 370.364 49.9314 Q370.364 38.832 376.44 32.472 Q382.557 26.1121 393.171 26.1121 Q396.614 26.1121 399.895 26.8413 Q403.176 27.5299 406.255 28.9478 Z\" fill=\"#000000\" fill-rule=\"evenodd\" fill-opacity=\"1\" /><path clip-path=\"url(#clip680)\" d=\"M 0 0 M431.654 32.4315 Q425.659 32.4315 422.175 37.1306 Q418.691 41.7891 418.691 49.9314 Q418.691 58.0738 422.135 62.7728 Q425.618 67.4314 431.654 67.4314 Q437.609 67.4314 441.093 62.7323 Q444.577 58.0333 444.577 49.9314 Q444.577 41.8701 441.093 37.1711 Q437.609 32.4315 431.654 32.4315 M431.654 26.1121 Q441.376 26.1121 446.926 32.4315 Q452.476 38.7509 452.476 49.9314 Q452.476 61.0714 446.926 67.4314 Q441.376 73.7508 431.654 73.7508 Q421.892 73.7508 416.342 67.4314 Q410.833 61.0714 410.833 49.9314 Q410.833 38.7509 416.342 32.4315 Q421.892 26.1121 431.654 26.1121 Z\" fill=\"#000000\" fill-rule=\"evenodd\" fill-opacity=\"1\" /><path clip-path=\"url(#clip680)\" d=\"M 0 0 M498.008 45.1919 L498.008 72.576 L490.554 72.576 L490.554 45.4349 Q490.554 38.994 488.043 35.7938 Q485.531 32.5936 480.508 32.5936 Q474.472 32.5936 470.988 36.4419 Q467.505 40.2903 467.505 46.9338 L467.505 72.576 L460.011 72.576 L460.011 27.2059 L467.505 27.2059 L467.505 34.2544 Q470.178 30.163 473.784 28.1376 Q477.429 26.1121 482.169 26.1121 Q489.987 26.1121 493.998 30.9732 Q498.008 35.7938 498.008 45.1919 Z\" fill=\"#000000\" fill-rule=\"evenodd\" fill-opacity=\"1\" /><path clip-path=\"url(#clip680)\" d=\"M 0 0 M562.053 34.0924 L562.053 9.54393 L569.506 9.54393 L569.506 72.576 L562.053 72.576 L562.053 65.7705 Q559.703 69.8214 556.098 71.8063 Q552.533 73.7508 547.51 73.7508 Q539.287 73.7508 534.102 67.1883 Q528.957 60.6258 528.957 49.9314 Q528.957 39.2371 534.102 32.6746 Q539.287 26.1121 547.51 26.1121 Q552.533 26.1121 556.098 28.0971 Q559.703 30.0415 562.053 34.0924 M536.654 49.9314 Q536.654 58.1548 540.016 62.8538 Q543.419 67.5124 549.333 67.5124 Q555.247 67.5124 558.65 62.8538 Q562.053 58.1548 562.053 49.9314 Q562.053 41.7081 558.65 37.0496 Q555.247 32.3505 549.333 32.3505 Q543.419 32.3505 540.016 37.0496 Q536.654 41.7081 536.654 49.9314 Z\" fill=\"#000000\" fill-rule=\"evenodd\" fill-opacity=\"1\" /><path clip-path=\"url(#clip680)\" d=\"M 0 0 M577.325 27.2059 L584.778 27.2059 L584.778 72.576 L577.325 72.576 L577.325 27.2059 M577.325 9.54393 L584.778 9.54393 L584.778 18.9825 L577.325 18.9825 L577.325 9.54393 Z\" fill=\"#000000\" fill-rule=\"evenodd\" fill-opacity=\"1\" /><path clip-path=\"url(#clip680)\" d=\"M 0 0 M615.565 9.54393 L615.565 15.7418 L608.436 15.7418 Q604.425 15.7418 602.845 17.3622 Q601.306 18.9825 601.306 23.1955 L601.306 27.2059 L613.58 27.2059 L613.58 32.9987 L601.306 32.9987 L601.306 72.576 L593.812 72.576 L593.812 32.9987 L586.682 32.9987 L586.682 27.2059 L593.812 27.2059 L593.812 24.0462 Q593.812 16.471 597.336 13.0277 Q600.86 9.54393 608.517 9.54393 L615.565 9.54393 Z\" fill=\"#000000\" fill-rule=\"evenodd\" fill-opacity=\"1\" /><path clip-path=\"url(#clip680)\" d=\"M 0 0 M662.191 48.0275 L662.191 51.6733 L627.921 51.6733 Q628.407 59.3701 632.539 63.421 Q636.711 67.4314 644.124 67.4314 Q648.418 67.4314 652.428 66.3781 Q656.479 65.3249 660.449 63.2184 L660.449 70.267 Q656.439 71.9684 652.226 72.8596 Q648.013 73.7508 643.679 73.7508 Q632.822 73.7508 626.462 67.4314 Q620.143 61.1119 620.143 50.3365 Q620.143 39.1965 626.138 32.6746 Q632.174 26.1121 642.382 26.1121 Q651.537 26.1121 656.844 32.0264 Q662.191 37.9003 662.191 48.0275 M654.738 45.84 Q654.656 39.7232 651.294 36.0774 Q647.972 32.4315 642.463 32.4315 Q636.225 32.4315 632.458 35.9558 Q628.731 39.4801 628.164 45.8805 L654.738 45.84 Z\" fill=\"#000000\" fill-rule=\"evenodd\" fill-opacity=\"1\" /><path clip-path=\"url(#clip680)\" d=\"M 0 0 M696.3 34.1734 Q695.044 33.4443 693.545 33.1202 Q692.087 32.7556 690.304 32.7556 Q683.985 32.7556 680.582 36.8875 Q677.22 40.9789 677.22 48.6757 L677.22 72.576 L669.726 72.576 L669.726 27.2059 L677.22 27.2059 L677.22 34.2544 Q679.57 30.1225 683.337 28.1376 Q687.104 26.1121 692.492 26.1121 Q693.262 26.1121 694.193 26.2337 Q695.125 26.3147 696.259 26.5172 L696.3 34.1734 Z\" fill=\"#000000\" fill-rule=\"evenodd\" fill-opacity=\"1\" /><path clip-path=\"url(#clip680)\" d=\"M 0 0 M741.103 48.0275 L741.103 51.6733 L706.832 51.6733 Q707.318 59.3701 711.45 63.421 Q715.623 67.4314 723.036 67.4314 Q727.33 67.4314 731.34 66.3781 Q735.391 65.3249 739.361 63.2184 L739.361 70.267 Q735.35 71.9684 731.138 72.8596 Q726.925 73.7508 722.59 73.7508 Q711.734 73.7508 705.374 67.4314 Q699.054 61.1119 699.054 50.3365 Q699.054 39.1965 705.05 32.6746 Q711.086 26.1121 721.294 26.1121 Q730.449 26.1121 735.756 32.0264 Q741.103 37.9003 741.103 48.0275 M733.649 45.84 Q733.568 39.7232 730.206 36.0774 Q726.884 32.4315 721.375 32.4315 Q715.136 32.4315 711.369 35.9558 Q707.642 39.4801 707.075 45.8805 L733.649 45.84 Z\" fill=\"#000000\" fill-rule=\"evenodd\" fill-opacity=\"1\" /><path clip-path=\"url(#clip680)\" d=\"M 0 0 M786.635 45.1919 L786.635 72.576 L779.181 72.576 L779.181 45.4349 Q779.181 38.994 776.67 35.7938 Q774.158 32.5936 769.135 32.5936 Q763.099 32.5936 759.615 36.4419 Q756.132 40.2903 756.132 46.9338 L756.132 72.576 L748.637 72.576 L748.637 27.2059 L756.132 27.2059 L756.132 34.2544 Q758.805 30.163 762.411 28.1376 Q766.056 26.1121 770.796 26.1121 Q778.614 26.1121 782.625 30.9732 Q786.635 35.7938 786.635 45.1919 Z\" fill=\"#000000\" fill-rule=\"evenodd\" fill-opacity=\"1\" /><path clip-path=\"url(#clip680)\" d=\"M 0 0 M801.826 14.324 L801.826 27.2059 L817.179 27.2059 L817.179 32.9987 L801.826 32.9987 L801.826 57.6282 Q801.826 63.1779 803.325 64.7578 Q804.864 66.3376 809.523 66.3376 L817.179 66.3376 L817.179 72.576 L809.523 72.576 Q800.894 72.576 797.613 69.3758 Q794.332 66.1351 794.332 57.6282 L794.332 32.9987 L788.863 32.9987 L788.863 27.2059 L794.332 27.2059 L794.332 14.324 L801.826 14.324 Z\" fill=\"#000000\" fill-rule=\"evenodd\" fill-opacity=\"1\" /><path clip-path=\"url(#clip680)\" d=\"M 0 0 M863.805 48.0275 L863.805 51.6733 L829.534 51.6733 Q830.02 59.3701 834.152 63.421 Q838.324 67.4314 845.738 67.4314 Q850.032 67.4314 854.042 66.3781 Q858.093 65.3249 862.063 63.2184 L862.063 70.267 Q858.052 71.9684 853.839 72.8596 Q849.627 73.7508 845.292 73.7508 Q834.436 73.7508 828.076 67.4314 Q821.756 61.1119 821.756 50.3365 Q821.756 39.1965 827.752 32.6746 Q833.787 26.1121 843.996 26.1121 Q853.151 26.1121 858.457 32.0264 Q863.805 37.9003 863.805 48.0275 M856.351 45.84 Q856.27 39.7232 852.908 36.0774 Q849.586 32.4315 844.077 32.4315 Q837.838 32.4315 834.071 35.9558 Q830.344 39.4801 829.777 45.8805 L856.351 45.84 Z\" fill=\"#000000\" fill-rule=\"evenodd\" fill-opacity=\"1\" /><path clip-path=\"url(#clip680)\" d=\"M 0 0 M900.546 28.5427 L900.546 35.5912 Q897.387 33.9709 893.984 33.1607 Q890.581 32.3505 886.935 32.3505 Q881.386 32.3505 878.59 34.0519 Q875.836 35.7533 875.836 39.156 Q875.836 41.7486 877.821 43.2475 Q879.806 44.7058 885.801 46.0426 L888.353 46.6097 Q896.293 48.3111 899.615 51.4303 Q902.977 54.509 902.977 60.0587 Q902.977 66.3781 897.954 70.0644 Q892.971 73.7508 884.221 73.7508 Q880.575 73.7508 876.606 73.0216 Q872.676 72.3329 868.301 70.9151 L868.301 63.2184 Q872.433 65.3654 876.443 66.4591 Q880.454 67.5124 884.383 67.5124 Q889.649 67.5124 892.485 65.73 Q895.321 63.9071 895.321 60.6258 Q895.321 57.5877 893.255 55.9673 Q891.229 54.3469 884.302 52.8481 L881.71 52.2405 Q874.783 50.7821 871.704 47.7845 Q868.625 44.7463 868.625 39.4801 Q868.625 33.0797 873.162 29.5959 Q877.699 26.1121 886.044 26.1121 Q890.176 26.1121 893.822 26.7198 Q897.468 27.3274 900.546 28.5427 Z\" fill=\"#000000\" fill-rule=\"evenodd\" fill-opacity=\"1\" /><path clip-path=\"url(#clip680)\" d=\"M 0 0 M931.819 27.2059 L939.719 27.2059 L953.897 65.2844 L968.075 27.2059 L975.974 27.2059 L958.96 72.576 L948.833 72.576 L931.819 27.2059 Z\" fill=\"#000000\" fill-rule=\"evenodd\" fill-opacity=\"1\" /><path clip-path=\"url(#clip680)\" d=\"M 0 0 M1004.41 49.7694 Q995.378 49.7694 991.894 51.8354 Q988.41 53.9013 988.41 58.8839 Q988.41 62.8538 991.003 65.2034 Q993.636 67.5124 998.133 67.5124 Q1004.33 67.5124 1008.06 63.1374 Q1011.82 58.7219 1011.82 51.4303 L1011.82 49.7694 L1004.41 49.7694 M1019.28 46.6907 L1019.28 72.576 L1011.82 72.576 L1011.82 65.6895 Q1009.27 69.8214 1005.46 71.8063 Q1001.66 73.7508 996.148 73.7508 Q989.18 73.7508 985.048 69.8619 Q980.957 65.9325 980.957 59.3701 Q980.957 51.7138 986.061 47.825 Q991.206 43.9361 1001.37 43.9361 L1011.82 43.9361 L1011.82 43.2069 Q1011.82 38.0623 1008.42 35.2672 Q1005.06 32.4315 998.943 32.4315 Q995.054 32.4315 991.368 33.3632 Q987.681 34.295 984.279 36.1584 L984.279 29.2718 Q988.37 27.692 992.218 26.9223 Q996.067 26.1121 999.713 26.1121 Q1009.56 26.1121 1014.42 31.2163 Q1019.28 36.3204 1019.28 46.6907 Z\" fill=\"#000000\" fill-rule=\"evenodd\" fill-opacity=\"1\" /><path clip-path=\"url(#clip680)\" d=\"M 0 0 M1027.1 9.54393 L1034.55 9.54393 L1034.55 72.576 L1027.1 72.576 L1027.1 9.54393 Z\" fill=\"#000000\" fill-rule=\"evenodd\" fill-opacity=\"1\" /><path clip-path=\"url(#clip680)\" d=\"M 0 0 M1059.95 32.4315 Q1053.95 32.4315 1050.47 37.1306 Q1046.99 41.7891 1046.99 49.9314 Q1046.99 58.0738 1050.43 62.7728 Q1053.91 67.4314 1059.95 67.4314 Q1065.9 67.4314 1069.39 62.7323 Q1072.87 58.0333 1072.87 49.9314 Q1072.87 41.8701 1069.39 37.1711 Q1065.9 32.4315 1059.95 32.4315 M1059.95 26.1121 Q1069.67 26.1121 1075.22 32.4315 Q1080.77 38.7509 1080.77 49.9314 Q1080.77 61.0714 1075.22 67.4314 Q1069.67 73.7508 1059.95 73.7508 Q1050.19 73.7508 1044.64 67.4314 Q1039.13 61.0714 1039.13 49.9314 Q1039.13 38.7509 1044.64 32.4315 Q1050.19 26.1121 1059.95 26.1121 Z\" fill=\"#000000\" fill-rule=\"evenodd\" fill-opacity=\"1\" /><path clip-path=\"url(#clip680)\" d=\"M 0 0 M1114.88 34.1734 Q1113.62 33.4443 1112.13 33.1202 Q1110.67 32.7556 1108.88 32.7556 Q1102.56 32.7556 1099.16 36.8875 Q1095.8 40.9789 1095.8 48.6757 L1095.8 72.576 L1088.31 72.576 L1088.31 27.2059 L1095.8 27.2059 L1095.8 34.2544 Q1098.15 30.1225 1101.92 28.1376 Q1105.68 26.1121 1111.07 26.1121 Q1111.84 26.1121 1112.77 26.2337 Q1113.7 26.3147 1114.84 26.5172 L1114.88 34.1734 Z\" fill=\"#000000\" fill-rule=\"evenodd\" fill-opacity=\"1\" /><path clip-path=\"url(#clip680)\" d=\"M 0 0 M1159.68 48.0275 L1159.68 51.6733 L1125.41 51.6733 Q1125.9 59.3701 1130.03 63.421 Q1134.2 67.4314 1141.62 67.4314 Q1145.91 67.4314 1149.92 66.3781 Q1153.97 65.3249 1157.94 63.2184 L1157.94 70.267 Q1153.93 71.9684 1149.72 72.8596 Q1145.5 73.7508 1141.17 73.7508 Q1130.31 73.7508 1123.95 67.4314 Q1117.63 61.1119 1117.63 50.3365 Q1117.63 39.1965 1123.63 32.6746 Q1129.67 26.1121 1139.87 26.1121 Q1149.03 26.1121 1154.34 32.0264 Q1159.68 37.9003 1159.68 48.0275 M1152.23 45.84 Q1152.15 39.7232 1148.79 36.0774 Q1145.46 32.4315 1139.95 32.4315 Q1133.72 32.4315 1129.95 35.9558 Q1126.22 39.4801 1125.66 45.8805 L1152.23 45.84 Z\" fill=\"#000000\" fill-rule=\"evenodd\" fill-opacity=\"1\" /><path clip-path=\"url(#clip680)\" d=\"M 0 0 M1196.42 28.5427 L1196.42 35.5912 Q1193.26 33.9709 1189.86 33.1607 Q1186.46 32.3505 1182.81 32.3505 Q1177.26 32.3505 1174.47 34.0519 Q1171.71 35.7533 1171.71 39.156 Q1171.71 41.7486 1173.7 43.2475 Q1175.68 44.7058 1181.68 46.0426 L1184.23 46.6097 Q1192.17 48.3111 1195.49 51.4303 Q1198.85 54.509 1198.85 60.0587 Q1198.85 66.3781 1193.83 70.0644 Q1188.85 73.7508 1180.1 73.7508 Q1176.45 73.7508 1172.48 73.0216 Q1168.55 72.3329 1164.18 70.9151 L1164.18 63.2184 Q1168.31 65.3654 1172.32 66.4591 Q1176.33 67.5124 1180.26 67.5124 Q1185.53 67.5124 1188.36 65.73 Q1191.2 63.9071 1191.2 60.6258 Q1191.2 57.5877 1189.13 55.9673 Q1187.11 54.3469 1180.18 52.8481 L1177.59 52.2405 Q1170.66 50.7821 1167.58 47.7845 Q1164.5 44.7463 1164.5 39.4801 Q1164.5 33.0797 1169.04 29.5959 Q1173.58 26.1121 1181.92 26.1121 Q1186.05 26.1121 1189.7 26.7198 Q1193.35 27.3274 1196.42 28.5427 Z\" fill=\"#000000\" fill-rule=\"evenodd\" fill-opacity=\"1\" /><path clip-path=\"url(#clip680)\" d=\"M 0 0 M1240.26 65.7705 L1240.26 89.8329 L1232.76 89.8329 L1232.76 27.2059 L1240.26 27.2059 L1240.26 34.0924 Q1242.6 30.0415 1246.17 28.0971 Q1249.77 26.1121 1254.76 26.1121 Q1263.02 26.1121 1268.17 32.6746 Q1273.35 39.2371 1273.35 49.9314 Q1273.35 60.6258 1268.17 67.1883 Q1263.02 73.7508 1254.76 73.7508 Q1249.77 73.7508 1246.17 71.8063 Q1242.6 69.8214 1240.26 65.7705 M1265.61 49.9314 Q1265.61 41.7081 1262.21 37.0496 Q1258.85 32.3505 1252.93 32.3505 Q1247.02 32.3505 1243.62 37.0496 Q1240.26 41.7081 1240.26 49.9314 Q1240.26 58.1548 1243.62 62.8538 Q1247.02 67.5124 1252.93 67.5124 Q1258.85 67.5124 1262.21 62.8538 Q1265.61 58.1548 1265.61 49.9314 Z\" fill=\"#000000\" fill-rule=\"evenodd\" fill-opacity=\"1\" /><path clip-path=\"url(#clip680)\" d=\"M 0 0 M1301.79 49.7694 Q1292.75 49.7694 1289.27 51.8354 Q1285.79 53.9013 1285.79 58.8839 Q1285.79 62.8538 1288.38 65.2034 Q1291.01 67.5124 1295.51 67.5124 Q1301.71 67.5124 1305.43 63.1374 Q1309.2 58.7219 1309.2 51.4303 L1309.2 49.7694 L1301.79 49.7694 M1316.66 46.6907 L1316.66 72.576 L1309.2 72.576 L1309.2 65.6895 Q1306.65 69.8214 1302.84 71.8063 Q1299.03 73.7508 1293.52 73.7508 Q1286.56 73.7508 1282.43 69.8619 Q1278.33 65.9325 1278.33 59.3701 Q1278.33 51.7138 1283.44 47.825 Q1288.58 43.9361 1298.75 43.9361 L1309.2 43.9361 L1309.2 43.2069 Q1309.2 38.0623 1305.8 35.2672 Q1302.44 32.4315 1296.32 32.4315 Q1292.43 32.4315 1288.74 33.3632 Q1285.06 34.295 1281.66 36.1584 L1281.66 29.2718 Q1285.75 27.692 1289.6 26.9223 Q1293.44 26.1121 1297.09 26.1121 Q1306.93 26.1121 1311.79 31.2163 Q1316.66 36.3204 1316.66 46.6907 Z\" fill=\"#000000\" fill-rule=\"evenodd\" fill-opacity=\"1\" /><path clip-path=\"url(#clip680)\" d=\"M 0 0 M1350.76 34.1734 Q1349.51 33.4443 1348.01 33.1202 Q1346.55 32.7556 1344.77 32.7556 Q1338.45 32.7556 1335.05 36.8875 Q1331.68 40.9789 1331.68 48.6757 L1331.68 72.576 L1324.19 72.576 L1324.19 27.2059 L1331.68 27.2059 L1331.68 34.2544 Q1334.03 30.1225 1337.8 28.1376 Q1341.57 26.1121 1346.96 26.1121 Q1347.73 26.1121 1348.66 26.2337 Q1349.59 26.3147 1350.72 26.5172 L1350.76 34.1734 Z\" fill=\"#000000\" fill-rule=\"evenodd\" fill-opacity=\"1\" /><path clip-path=\"url(#clip680)\" d=\"M 0 0 M1379.2 49.7694 Q1370.17 49.7694 1366.68 51.8354 Q1363.2 53.9013 1363.2 58.8839 Q1363.2 62.8538 1365.79 65.2034 Q1368.43 67.5124 1372.92 67.5124 Q1379.12 67.5124 1382.85 63.1374 Q1386.61 58.7219 1386.61 51.4303 L1386.61 49.7694 L1379.2 49.7694 M1394.07 46.6907 L1394.07 72.576 L1386.61 72.576 L1386.61 65.6895 Q1384.06 69.8214 1380.25 71.8063 Q1376.45 73.7508 1370.94 73.7508 Q1363.97 73.7508 1359.84 69.8619 Q1355.75 65.9325 1355.75 59.3701 Q1355.75 51.7138 1360.85 47.825 Q1366 43.9361 1376.16 43.9361 L1386.61 43.9361 L1386.61 43.2069 Q1386.61 38.0623 1383.21 35.2672 Q1379.85 32.4315 1373.73 32.4315 Q1369.84 32.4315 1366.16 33.3632 Q1362.47 34.295 1359.07 36.1584 L1359.07 29.2718 Q1363.16 27.692 1367.01 26.9223 Q1370.86 26.1121 1374.5 26.1121 Q1384.35 26.1121 1389.21 31.2163 Q1394.07 36.3204 1394.07 46.6907 Z\" fill=\"#000000\" fill-rule=\"evenodd\" fill-opacity=\"1\" /><path clip-path=\"url(#clip680)\" d=\"M 0 0 M1445.84 32.4315 Q1439.84 32.4315 1436.36 37.1306 Q1432.88 41.7891 1432.88 49.9314 Q1432.88 58.0738 1436.32 62.7728 Q1439.8 67.4314 1445.84 67.4314 Q1451.79 67.4314 1455.28 62.7323 Q1458.76 58.0333 1458.76 49.9314 Q1458.76 41.8701 1455.28 37.1711 Q1451.79 32.4315 1445.84 32.4315 M1445.84 26.1121 Q1455.56 26.1121 1461.11 32.4315 Q1466.66 38.7509 1466.66 49.9314 Q1466.66 61.0714 1461.11 67.4314 Q1455.56 73.7508 1445.84 73.7508 Q1436.08 73.7508 1430.53 67.4314 Q1425.02 61.0714 1425.02 49.9314 Q1425.02 38.7509 1430.53 32.4315 Q1436.08 26.1121 1445.84 26.1121 Z\" fill=\"#000000\" fill-rule=\"evenodd\" fill-opacity=\"1\" /><path clip-path=\"url(#clip680)\" d=\"M 0 0 M1509.8 35.9153 Q1512.6 30.8922 1516.49 28.5022 Q1520.38 26.1121 1525.64 26.1121 Q1532.73 26.1121 1536.58 31.0947 Q1540.43 36.0368 1540.43 45.1919 L1540.43 72.576 L1532.93 72.576 L1532.93 45.4349 Q1532.93 38.913 1530.62 35.7533 Q1528.31 32.5936 1523.58 32.5936 Q1517.78 32.5936 1514.42 36.4419 Q1511.06 40.2903 1511.06 46.9338 L1511.06 72.576 L1503.56 72.576 L1503.56 45.4349 Q1503.56 38.8725 1501.25 35.7533 Q1498.95 32.5936 1494.13 32.5936 Q1488.41 32.5936 1485.05 36.4824 Q1481.69 40.3308 1481.69 46.9338 L1481.69 72.576 L1474.19 72.576 L1474.19 27.2059 L1481.69 27.2059 L1481.69 34.2544 Q1484.24 30.082 1487.81 28.0971 Q1491.37 26.1121 1496.27 26.1121 Q1501.21 26.1121 1504.66 28.6237 Q1508.14 31.1352 1509.8 35.9153 Z\" fill=\"#000000\" fill-rule=\"evenodd\" fill-opacity=\"1\" /><path clip-path=\"url(#clip680)\" d=\"M 0 0 M1587.05 48.0275 L1587.05 51.6733 L1552.78 51.6733 Q1553.27 59.3701 1557.4 63.421 Q1561.57 67.4314 1568.99 67.4314 Q1573.28 67.4314 1577.29 66.3781 Q1581.34 65.3249 1585.31 63.2184 L1585.31 70.267 Q1581.3 71.9684 1577.09 72.8596 Q1572.87 73.7508 1568.54 73.7508 Q1557.68 73.7508 1551.32 67.4314 Q1545 61.1119 1545 50.3365 Q1545 39.1965 1551 32.6746 Q1557.04 26.1121 1567.24 26.1121 Q1576.4 26.1121 1581.71 32.0264 Q1587.05 37.9003 1587.05 48.0275 M1579.6 45.84 Q1579.52 39.7232 1576.16 36.0774 Q1572.83 32.4315 1567.33 32.4315 Q1561.09 32.4315 1557.32 35.9558 Q1553.59 39.4801 1553.03 45.8805 L1579.6 45.84 Z\" fill=\"#000000\" fill-rule=\"evenodd\" fill-opacity=\"1\" /><path clip-path=\"url(#clip680)\" d=\"M 0 0 M1624.73 49.3643 Q1624.73 41.2625 1621.36 36.8065 Q1618.04 32.3505 1612.01 32.3505 Q1606.01 32.3505 1602.65 36.8065 Q1599.33 41.2625 1599.33 49.3643 Q1599.33 57.4256 1602.65 61.8816 Q1606.01 66.3376 1612.01 66.3376 Q1618.04 66.3376 1621.36 61.8816 Q1624.73 57.4256 1624.73 49.3643 M1632.18 66.9452 Q1632.18 78.5308 1627.04 84.1616 Q1621.89 89.8329 1611.28 89.8329 Q1607.35 89.8329 1603.86 89.2252 Q1600.38 88.6581 1597.1 87.4428 L1597.1 80.1917 Q1600.38 81.9741 1603.58 82.8248 Q1606.78 83.6755 1610.1 83.6755 Q1617.43 83.6755 1621.08 79.8271 Q1624.73 76.0193 1624.73 68.282 L1624.73 64.5957 Q1622.42 68.6061 1618.81 70.5911 Q1615.21 72.576 1610.18 72.576 Q1601.84 72.576 1596.73 66.2161 Q1591.63 59.8562 1591.63 49.3643 Q1591.63 38.832 1596.73 32.472 Q1601.84 26.1121 1610.18 26.1121 Q1615.21 26.1121 1618.81 28.0971 Q1622.42 30.082 1624.73 34.0924 L1624.73 27.2059 L1632.18 27.2059 L1632.18 66.9452 Z\" fill=\"#000000\" fill-rule=\"evenodd\" fill-opacity=\"1\" /><path clip-path=\"url(#clip680)\" d=\"M 0 0 M1660.62 49.7694 Q1651.58 49.7694 1648.1 51.8354 Q1644.62 53.9013 1644.62 58.8839 Q1644.62 62.8538 1647.21 65.2034 Q1649.84 67.5124 1654.34 67.5124 Q1660.54 67.5124 1664.26 63.1374 Q1668.03 58.7219 1668.03 51.4303 L1668.03 49.7694 L1660.62 49.7694 M1675.48 46.6907 L1675.48 72.576 L1668.03 72.576 L1668.03 65.6895 Q1665.48 69.8214 1661.67 71.8063 Q1657.86 73.7508 1652.35 73.7508 Q1645.39 73.7508 1641.25 69.8619 Q1637.16 65.9325 1637.16 59.3701 Q1637.16 51.7138 1642.27 47.825 Q1647.41 43.9361 1657.58 43.9361 L1668.03 43.9361 L1668.03 43.2069 Q1668.03 38.0623 1664.63 35.2672 Q1661.27 32.4315 1655.15 32.4315 Q1651.26 32.4315 1647.57 33.3632 Q1643.89 34.295 1640.48 36.1584 L1640.48 29.2718 Q1644.58 27.692 1648.42 26.9223 Q1652.27 26.1121 1655.92 26.1121 Q1665.76 26.1121 1670.62 31.2163 Q1675.48 36.3204 1675.48 46.6907 Z\" fill=\"#000000\" fill-rule=\"evenodd\" fill-opacity=\"1\" /><path clip-path=\"url(#clip680)\" d=\"M 0 0 M1708.9 54.671 L1708.9 27.2059 L1716.36 27.2059 L1716.36 54.3874 Q1716.36 60.8284 1718.87 64.0691 Q1721.38 67.2693 1726.4 67.2693 Q1732.44 67.2693 1735.92 63.421 Q1739.45 59.5726 1739.45 52.9291 L1739.45 27.2059 L1746.9 27.2059 L1746.9 72.576 L1739.45 72.576 L1739.45 65.6084 Q1736.73 69.7404 1733.13 71.7658 Q1729.56 73.7508 1724.82 73.7508 Q1717.01 73.7508 1712.96 68.8897 Q1708.9 64.0286 1708.9 54.671 M1727.66 26.1121 L1727.66 26.1121 Z\" fill=\"#000000\" fill-rule=\"evenodd\" fill-opacity=\"1\" /><path clip-path=\"url(#clip680)\" d=\"M 0 0 M1783.64 28.5427 L1783.64 35.5912 Q1780.48 33.9709 1777.08 33.1607 Q1773.68 32.3505 1770.03 32.3505 Q1764.48 32.3505 1761.69 34.0519 Q1758.93 35.7533 1758.93 39.156 Q1758.93 41.7486 1760.92 43.2475 Q1762.9 44.7058 1768.9 46.0426 L1771.45 46.6097 Q1779.39 48.3111 1782.71 51.4303 Q1786.07 54.509 1786.07 60.0587 Q1786.07 66.3781 1781.05 70.0644 Q1776.07 73.7508 1767.32 73.7508 Q1763.67 73.7508 1759.7 73.0216 Q1755.77 72.3329 1751.4 70.9151 L1751.4 63.2184 Q1755.53 65.3654 1759.54 66.4591 Q1763.55 67.5124 1767.48 67.5124 Q1772.75 67.5124 1775.58 65.73 Q1778.42 63.9071 1778.42 60.6258 Q1778.42 57.5877 1776.35 55.9673 Q1774.33 54.3469 1767.4 52.8481 L1764.81 52.2405 Q1757.88 50.7821 1754.8 47.7845 Q1751.72 44.7463 1751.72 39.4801 Q1751.72 33.0797 1756.26 29.5959 Q1760.8 26.1121 1769.14 26.1121 Q1773.27 26.1121 1776.92 26.7198 Q1780.56 27.3274 1783.64 28.5427 Z\" fill=\"#000000\" fill-rule=\"evenodd\" fill-opacity=\"1\" /><path clip-path=\"url(#clip680)\" d=\"M 0 0 M1814.51 49.7694 Q1805.48 49.7694 1801.99 51.8354 Q1798.51 53.9013 1798.51 58.8839 Q1798.51 62.8538 1801.1 65.2034 Q1803.74 67.5124 1808.23 67.5124 Q1814.43 67.5124 1818.16 63.1374 Q1821.92 58.7219 1821.92 51.4303 L1821.92 49.7694 L1814.51 49.7694 M1829.38 46.6907 L1829.38 72.576 L1821.92 72.576 L1821.92 65.6895 Q1819.37 69.8214 1815.56 71.8063 Q1811.76 73.7508 1806.25 73.7508 Q1799.28 73.7508 1795.15 69.8619 Q1791.06 65.9325 1791.06 59.3701 Q1791.06 51.7138 1796.16 47.825 Q1801.31 43.9361 1811.47 43.9361 L1821.92 43.9361 L1821.92 43.2069 Q1821.92 38.0623 1818.52 35.2672 Q1815.16 32.4315 1809.04 32.4315 Q1805.15 32.4315 1801.47 33.3632 Q1797.78 34.295 1794.38 36.1584 L1794.38 29.2718 Q1798.47 27.692 1802.32 26.9223 Q1806.17 26.1121 1809.81 26.1121 Q1819.66 26.1121 1824.52 31.2163 Q1829.38 36.3204 1829.38 46.6907 Z\" fill=\"#000000\" fill-rule=\"evenodd\" fill-opacity=\"1\" /><path clip-path=\"url(#clip680)\" d=\"M 0 0 M1874.91 45.1919 L1874.91 72.576 L1867.46 72.576 L1867.46 45.4349 Q1867.46 38.994 1864.95 35.7938 Q1862.43 32.5936 1857.41 32.5936 Q1851.37 32.5936 1847.89 36.4419 Q1844.41 40.2903 1844.41 46.9338 L1844.41 72.576 L1836.91 72.576 L1836.91 27.2059 L1844.41 27.2059 L1844.41 34.2544 Q1847.08 30.163 1850.69 28.1376 Q1854.33 26.1121 1859.07 26.1121 Q1866.89 26.1121 1870.9 30.9732 Q1874.91 35.7938 1874.91 45.1919 Z\" fill=\"#000000\" fill-rule=\"evenodd\" fill-opacity=\"1\" /><path clip-path=\"url(#clip680)\" d=\"M 0 0 M1912.58 34.0924 L1912.58 9.54393 L1920.04 9.54393 L1920.04 72.576 L1912.58 72.576 L1912.58 65.7705 Q1910.23 69.8214 1906.63 71.8063 Q1903.06 73.7508 1898.04 73.7508 Q1889.82 73.7508 1884.63 67.1883 Q1879.49 60.6258 1879.49 49.9314 Q1879.49 39.2371 1884.63 32.6746 Q1889.82 26.1121 1898.04 26.1121 Q1903.06 26.1121 1906.63 28.0971 Q1910.23 30.0415 1912.58 34.0924 M1887.18 49.9314 Q1887.18 58.1548 1890.55 62.8538 Q1893.95 67.5124 1899.86 67.5124 Q1905.78 67.5124 1909.18 62.8538 Q1912.58 58.1548 1912.58 49.9314 Q1912.58 41.7081 1909.18 37.0496 Q1905.78 32.3505 1899.86 32.3505 Q1893.95 32.3505 1890.55 37.0496 Q1887.18 41.7081 1887.18 49.9314 Z\" fill=\"#000000\" fill-rule=\"evenodd\" fill-opacity=\"1\" /><path clip-path=\"url(#clip680)\" d=\"M 0 0 M1945.44 32.4315 Q1939.44 32.4315 1935.96 37.1306 Q1932.47 41.7891 1932.47 49.9314 Q1932.47 58.0738 1935.92 62.7728 Q1939.4 67.4314 1945.44 67.4314 Q1951.39 67.4314 1954.88 62.7323 Q1958.36 58.0333 1958.36 49.9314 Q1958.36 41.8701 1954.88 37.1711 Q1951.39 32.4315 1945.44 32.4315 M1945.44 26.1121 Q1955.16 26.1121 1960.71 32.4315 Q1966.26 38.7509 1966.26 49.9314 Q1966.26 61.0714 1960.71 67.4314 Q1955.16 73.7508 1945.44 73.7508 Q1935.67 73.7508 1930.12 67.4314 Q1924.61 61.0714 1924.61 49.9314 Q1924.61 38.7509 1930.12 32.4315 Q1935.67 26.1121 1945.44 26.1121 Z\" fill=\"#000000\" fill-rule=\"evenodd\" fill-opacity=\"1\" /><path clip-path=\"url(#clip680)\" d=\"M 0 0 M2000.77 12.096 L2039.01 12.096 L2039.01 18.9825 L2008.95 18.9825 L2008.95 36.8875 L2037.76 36.8875 L2037.76 43.7741 L2008.95 43.7741 L2008.95 65.6895 L2039.74 65.6895 L2039.74 72.576 L2000.77 72.576 L2000.77 12.096 Z\" fill=\"#000000\" fill-rule=\"evenodd\" fill-opacity=\"1\" /><path clip-path=\"url(#clip680)\" d=\"M 0 0 M2046.79 54.671 L2046.79 27.2059 L2054.24 27.2059 L2054.24 54.3874 Q2054.24 60.8284 2056.76 64.0691 Q2059.27 67.2693 2064.29 67.2693 Q2070.33 67.2693 2073.81 63.421 Q2077.33 59.5726 2077.33 52.9291 L2077.33 27.2059 L2084.79 27.2059 L2084.79 72.576 L2077.33 72.576 L2077.33 65.6084 Q2074.62 69.7404 2071.01 71.7658 Q2067.45 73.7508 2062.71 73.7508 Q2054.89 73.7508 2050.84 68.8897 Q2046.79 64.0286 2046.79 54.671 M2065.55 26.1121 L2065.55 26.1121 Z\" fill=\"#000000\" fill-rule=\"evenodd\" fill-opacity=\"1\" /><path clip-path=\"url(#clip680)\" d=\"M 0 0 M2092.61 9.54393 L2100.06 9.54393 L2100.06 72.576 L2092.61 72.576 L2092.61 9.54393 Z\" fill=\"#000000\" fill-rule=\"evenodd\" fill-opacity=\"1\" /><path clip-path=\"url(#clip680)\" d=\"M 0 0 M2146.69 48.0275 L2146.69 51.6733 L2112.41 51.6733 Q2112.9 59.3701 2117.03 63.421 Q2121.21 67.4314 2128.62 67.4314 Q2132.91 67.4314 2136.92 66.3781 Q2140.97 65.3249 2144.94 63.2184 L2144.94 70.267 Q2140.93 71.9684 2136.72 72.8596 Q2132.51 73.7508 2128.17 73.7508 Q2117.32 73.7508 2110.96 67.4314 Q2104.64 61.1119 2104.64 50.3365 Q2104.64 39.1965 2110.63 32.6746 Q2116.67 26.1121 2126.88 26.1121 Q2136.03 26.1121 2141.34 32.0264 Q2146.69 37.9003 2146.69 48.0275 M2139.23 45.84 Q2139.15 39.7232 2135.79 36.0774 Q2132.47 32.4315 2126.96 32.4315 Q2120.72 32.4315 2116.95 35.9558 Q2113.23 39.4801 2112.66 45.8805 L2139.23 45.84 Z\" fill=\"#000000\" fill-rule=\"evenodd\" fill-opacity=\"1\" /><path clip-path=\"url(#clip680)\" d=\"M 0 0 M2180.79 34.1734 Q2179.54 33.4443 2178.04 33.1202 Q2176.58 32.7556 2174.8 32.7556 Q2168.48 32.7556 2165.08 36.8875 Q2161.71 40.9789 2161.71 48.6757 L2161.71 72.576 L2154.22 72.576 L2154.22 27.2059 L2161.71 27.2059 L2161.71 34.2544 Q2164.06 30.1225 2167.83 28.1376 Q2171.6 26.1121 2176.99 26.1121 Q2177.76 26.1121 2178.69 26.2337 Q2179.62 26.3147 2180.75 26.5172 L2180.79 34.1734 Z\" fill=\"#000000\" fill-rule=\"evenodd\" fill-opacity=\"1\" /><path clip-path=\"url(#clip680)\" d=\"M 0 0 M2215.31 12.096 L2227.5 12.096 L2242.94 53.2532 L2258.45 12.096 L2270.64 12.096 L2270.64 72.576 L2262.66 72.576 L2262.66 19.4686 L2247.07 60.9499 L2238.84 60.9499 L2223.25 19.4686 L2223.25 72.576 L2215.31 72.576 L2215.31 12.096 Z\" fill=\"#000000\" fill-rule=\"evenodd\" fill-opacity=\"1\" /><path clip-path=\"url(#clip680)\" d=\"M 0 0 M2317.27 48.0275 L2317.27 51.6733 L2283 51.6733 Q2283.48 59.3701 2287.62 63.421 Q2291.79 67.4314 2299.2 67.4314 Q2303.5 67.4314 2307.51 66.3781 Q2311.56 65.3249 2315.53 63.2184 L2315.53 70.267 Q2311.52 71.9684 2307.3 72.8596 Q2303.09 73.7508 2298.76 73.7508 Q2287.9 73.7508 2281.54 67.4314 Q2275.22 61.1119 2275.22 50.3365 Q2275.22 39.1965 2281.22 32.6746 Q2287.25 26.1121 2297.46 26.1121 Q2306.62 26.1121 2311.92 32.0264 Q2317.27 37.9003 2317.27 48.0275 M2309.82 45.84 Q2309.73 39.7232 2306.37 36.0774 Q2303.05 32.4315 2297.54 32.4315 Q2291.3 32.4315 2287.54 35.9558 Q2283.81 39.4801 2283.24 45.8805 L2309.82 45.84 Z\" fill=\"#000000\" fill-rule=\"evenodd\" fill-opacity=\"1\" /><path clip-path=\"url(#clip680)\" d=\"M 0 0 M2325.09 27.2059 L2332.54 27.2059 L2332.54 73.3862 Q2332.54 82.0551 2329.22 85.944 Q2325.94 89.8329 2318.61 89.8329 L2315.77 89.8329 L2315.77 83.5134 L2317.76 83.5134 Q2322.01 83.5134 2323.55 81.5285 Q2325.09 79.5841 2325.09 73.3862 L2325.09 27.2059 M2325.09 9.54393 L2332.54 9.54393 L2332.54 18.9825 L2325.09 18.9825 L2325.09 9.54393 Z\" fill=\"#000000\" fill-rule=\"evenodd\" fill-opacity=\"1\" /><path clip-path=\"url(#clip680)\" d=\"M 0 0 M2357.94 32.4315 Q2351.94 32.4315 2348.46 37.1306 Q2344.98 41.7891 2344.98 49.9314 Q2344.98 58.0738 2348.42 62.7728 Q2351.9 67.4314 2357.94 67.4314 Q2363.9 67.4314 2367.38 62.7323 Q2370.86 58.0333 2370.86 49.9314 Q2370.86 41.8701 2367.38 37.1711 Q2363.9 32.4315 2357.94 32.4315 M2357.94 26.1121 Q2367.66 26.1121 2373.21 32.4315 Q2378.76 38.7509 2378.76 49.9314 Q2378.76 61.0714 2373.21 67.4314 Q2367.66 73.7508 2357.94 73.7508 Q2348.18 73.7508 2342.63 67.4314 Q2337.12 61.0714 2337.12 49.9314 Q2337.12 38.7509 2342.63 32.4315 Q2348.18 26.1121 2357.94 26.1121 Z\" fill=\"#000000\" fill-rule=\"evenodd\" fill-opacity=\"1\" /><path clip-path=\"url(#clip680)\" d=\"M 0 0 M2412.87 34.1734 Q2411.61 33.4443 2410.12 33.1202 Q2408.66 32.7556 2406.88 32.7556 Q2400.56 32.7556 2397.15 36.8875 Q2393.79 40.9789 2393.79 48.6757 L2393.79 72.576 L2386.3 72.576 L2386.3 27.2059 L2393.79 27.2059 L2393.79 34.2544 Q2396.14 30.1225 2399.91 28.1376 Q2403.67 26.1121 2409.06 26.1121 Q2409.83 26.1121 2410.76 26.2337 Q2411.7 26.3147 2412.83 26.5172 L2412.87 34.1734 Z\" fill=\"#000000\" fill-rule=\"evenodd\" fill-opacity=\"1\" /><path clip-path=\"url(#clip680)\" d=\"M 0 0 M2441.31 49.7694 Q2432.27 49.7694 2428.79 51.8354 Q2425.31 53.9013 2425.31 58.8839 Q2425.31 62.8538 2427.9 65.2034 Q2430.53 67.5124 2435.03 67.5124 Q2441.23 67.5124 2444.95 63.1374 Q2448.72 58.7219 2448.72 51.4303 L2448.72 49.7694 L2441.31 49.7694 M2456.17 46.6907 L2456.17 72.576 L2448.72 72.576 L2448.72 65.6895 Q2446.17 69.8214 2442.36 71.8063 Q2438.55 73.7508 2433.04 73.7508 Q2426.08 73.7508 2421.94 69.8619 Q2417.85 65.9325 2417.85 59.3701 Q2417.85 51.7138 2422.96 47.825 Q2428.1 43.9361 2438.27 43.9361 L2448.72 43.9361 L2448.72 43.2069 Q2448.72 38.0623 2445.32 35.2672 Q2441.96 32.4315 2435.84 32.4315 Q2431.95 32.4315 2428.26 33.3632 Q2424.58 34.295 2421.17 36.1584 L2421.17 29.2718 Q2425.27 27.692 2429.11 26.9223 Q2432.96 26.1121 2436.61 26.1121 Q2446.45 26.1121 2451.31 31.2163 Q2456.17 36.3204 2456.17 46.6907 Z\" fill=\"#000000\" fill-rule=\"evenodd\" fill-opacity=\"1\" /><path clip-path=\"url(#clip680)\" d=\"M 0 0 M2493.85 34.0924 L2493.85 9.54393 L2501.3 9.54393 L2501.3 72.576 L2493.85 72.576 L2493.85 65.7705 Q2491.5 69.8214 2487.89 71.8063 Q2484.33 73.7508 2479.31 73.7508 Q2471.08 73.7508 2465.9 67.1883 Q2460.75 60.6258 2460.75 49.9314 Q2460.75 39.2371 2465.9 32.6746 Q2471.08 26.1121 2479.31 26.1121 Q2484.33 26.1121 2487.89 28.0971 Q2491.5 30.0415 2493.85 34.0924 M2468.45 49.9314 Q2468.45 58.1548 2471.81 62.8538 Q2475.21 67.5124 2481.13 67.5124 Q2487.04 67.5124 2490.45 62.8538 Q2493.85 58.1548 2493.85 49.9314 Q2493.85 41.7081 2490.45 37.0496 Q2487.04 32.3505 2481.13 32.3505 Q2475.21 32.3505 2471.81 37.0496 Q2468.45 41.7081 2468.45 49.9314 Z\" fill=\"#000000\" fill-rule=\"evenodd\" fill-opacity=\"1\" /><path clip-path=\"url(#clip680)\" d=\"M 0 0 M2526.7 32.4315 Q2520.71 32.4315 2517.22 37.1306 Q2513.74 41.7891 2513.74 49.9314 Q2513.74 58.0738 2517.18 62.7728 Q2520.67 67.4314 2526.7 67.4314 Q2532.66 67.4314 2536.14 62.7323 Q2539.62 58.0333 2539.62 49.9314 Q2539.62 41.8701 2536.14 37.1711 Q2532.66 32.4315 2526.7 32.4315 M2526.7 26.1121 Q2536.42 26.1121 2541.97 32.4315 Q2547.52 38.7509 2547.52 49.9314 Q2547.52 61.0714 2541.97 67.4314 Q2536.42 73.7508 2526.7 73.7508 Q2516.94 73.7508 2511.39 67.4314 Q2505.88 61.0714 2505.88 49.9314 Q2505.88 38.7509 2511.39 32.4315 Q2516.94 26.1121 2526.7 26.1121 Z\" fill=\"#000000\" fill-rule=\"evenodd\" fill-opacity=\"1\" /><polyline clip-path=\"url(#clip682)\" style=\"stroke:#009af9; stroke-width:4; stroke-opacity:1; fill:none\" points=\"\n",
       "  302.634,237.509 305.803,232.29 308.973,227.256 312.142,222.406 315.312,217.743 318.481,213.266 321.651,208.977 324.82,204.874 327.99,200.959 331.159,197.232 \n",
       "  334.328,193.693 337.498,190.343 340.667,187.181 343.837,184.208 347.006,181.424 350.176,178.829 353.345,176.422 356.515,174.205 359.684,172.176 362.853,170.336 \n",
       "  366.023,168.684 369.192,167.221 372.362,165.946 375.531,164.859 378.701,163.96 381.87,163.248 385.039,162.723 388.209,162.385 391.378,162.234 394.548,162.268 \n",
       "  397.717,162.488 400.887,162.892 404.056,163.481 407.226,164.255 410.395,165.211 413.564,166.35 416.734,167.672 419.903,169.175 423.073,170.859 426.242,172.723 \n",
       "  429.412,174.766 432.581,176.988 435.751,179.388 438.92,181.965 442.089,184.717 445.259,187.645 448.428,190.747 451.598,194.023 454.767,197.47 457.937,201.089 \n",
       "  461.106,204.877 464.276,208.835 467.445,212.96 470.614,217.251 473.784,221.708 476.953,226.329 480.123,231.113 483.292,236.057 486.462,241.162 489.631,246.424 \n",
       "  492.801,251.844 495.97,257.418 499.139,263.146 502.309,269.026 505.478,275.056 508.648,281.234 511.817,287.558 514.987,294.027 518.156,300.639 521.325,307.391 \n",
       "  524.495,314.281 527.664,321.308 530.834,328.469 534.003,335.762 537.173,343.185 540.342,350.734 543.512,358.409 546.681,366.205 549.85,374.122 553.02,382.155 \n",
       "  556.189,390.303 559.359,398.562 562.528,406.93 565.698,415.404 568.867,423.982 572.037,432.659 575.206,441.433 578.375,450.301 581.545,459.259 584.714,468.305 \n",
       "  587.884,477.435 591.053,486.646 594.223,495.934 597.392,505.296 600.562,514.729 603.731,524.228 606.9,533.791 610.07,543.413 613.239,553.091 616.409,562.821 \n",
       "  619.578,572.6 622.748,582.423 625.917,592.287 629.087,602.187 632.256,612.12 635.425,622.082 638.595,632.069 641.764,642.077 644.934,652.102 648.103,662.139 \n",
       "  651.273,672.186 654.442,682.237 657.612,692.288 660.781,702.336 663.95,712.376 667.12,722.405 670.289,732.418 673.459,742.411 676.628,752.38 679.798,762.321 \n",
       "  682.967,772.23 686.136,782.103 689.306,791.936 692.475,801.724 695.645,811.465 698.814,821.154 701.984,830.787 705.153,840.36 708.323,849.87 711.492,859.312 \n",
       "  714.661,868.684 717.831,877.98 721,887.199 724.17,896.335 727.339,905.386 730.509,914.348 733.678,923.217 736.848,931.991 740.017,940.666 743.186,949.238 \n",
       "  746.356,957.705 749.525,966.063 752.695,974.31 755.864,982.442 759.034,990.456 762.203,998.35 765.373,1006.12 768.542,1013.76 771.711,1021.28 774.881,1028.67 \n",
       "  778.05,1035.92 781.22,1043.03 784.389,1050.01 787.559,1056.84 790.728,1063.54 793.898,1070.08 797.067,1076.48 800.236,1082.73 803.406,1088.83 806.575,1094.78 \n",
       "  809.745,1100.57 812.914,1106.21 816.084,1111.68 819.253,1117 822.422,1122.16 825.592,1127.15 828.761,1131.98 831.931,1136.64 835.1,1141.14 838.27,1145.47 \n",
       "  841.439,1149.63 844.609,1153.62 847.778,1157.44 850.947,1161.08 854.117,1164.56 857.286,1167.86 860.456,1170.98 863.625,1173.93 866.795,1176.71 869.964,1179.31 \n",
       "  873.134,1181.73 876.303,1183.97 879.472,1186.04 882.642,1187.93 885.811,1189.64 888.981,1191.17 892.15,1192.52 895.32,1193.7 898.489,1194.69 901.659,1195.51 \n",
       "  904.828,1196.15 907.997,1196.6 911.167,1196.88 914.336,1196.99 917.506,1196.91 920.675,1196.65 923.845,1196.22 927.014,1195.61 930.184,1194.83 933.353,1193.86 \n",
       "  936.522,1192.72 939.692,1191.41 942.861,1189.92 946.031,1188.26 949.2,1186.43 952.37,1184.42 955.539,1182.24 958.708,1179.89 961.878,1177.38 965.047,1174.69 \n",
       "  968.217,1171.84 971.386,1168.82 974.556,1165.63 977.725,1162.28 980.895,1158.77 984.064,1155.1 987.233,1151.27 990.403,1147.27 993.572,1143.13 996.742,1138.82 \n",
       "  999.911,1134.37 1003.08,1129.76 1006.25,1125 1009.42,1120.09 1012.59,1115.04 1015.76,1109.84 1018.93,1104.5 1022.1,1099.02 1025.27,1093.4 1028.44,1087.64 \n",
       "  1031.61,1081.75 1034.78,1075.73 1037.94,1069.58 1041.11,1063.3 1044.28,1056.89 1047.45,1050.37 1050.62,1043.72 1053.79,1036.95 1056.96,1030.08 1060.13,1023.09 \n",
       "  1063.3,1015.99 1066.47,1008.78 1069.64,1001.47 1072.81,994.063 1075.98,986.557 1079.15,978.956 1082.32,971.264 1085.49,963.484 1088.66,955.619 1091.83,947.672 \n",
       "  1094.99,939.646 1098.16,931.546 1101.33,923.374 1104.5,915.134 1107.67,906.829 1110.84,898.462 1114.01,890.038 1117.18,881.559 1120.35,873.03 1123.52,864.454 \n",
       "  1126.69,855.834 1129.86,847.174 1133.03,838.479 1136.2,829.751 1139.37,820.994 1142.54,812.212 1145.71,803.409 1148.88,794.589 1152.04,785.756 1155.21,776.912 \n",
       "  1158.38,768.062 1161.55,759.21 1164.72,750.36 1167.89,741.515 1171.06,732.679 1174.23,723.856 1177.4,715.049 1180.57,706.263 1183.74,697.5 1186.91,688.766 \n",
       "  1190.08,680.063 1193.25,671.394 1196.42,662.765 1199.59,654.178 1202.76,645.637 1205.92,637.145 1209.09,628.706 1212.26,620.323 1215.43,612.001 1218.6,603.741 \n",
       "  1221.77,595.548 1224.94,587.425 1228.11,579.375 1231.28,571.401 1234.45,563.506 1237.62,555.695 1240.79,547.969 1243.96,540.331 1247.13,532.785 1250.3,525.334 \n",
       "  1253.47,517.98 1256.64,510.726 1259.81,503.575 1262.97,496.53 1266.14,489.592 1269.31,482.766 1272.48,476.053 1275.65,469.455 1278.82,462.976 1281.99,456.617 \n",
       "  1285.16,450.381 1288.33,444.27 1291.5,438.285 1294.67,432.43 1297.84,426.706 1301.01,421.115 1304.18,415.66 1307.35,410.341 1310.52,405.161 1313.69,400.121 \n",
       "  1316.86,395.224 1320.02,390.47 1323.19,385.862 1326.36,381.4 1329.53,377.087 1332.7,372.923 1335.87,368.91 1339.04,365.05 1342.21,361.343 1345.38,357.791 \n",
       "  1348.55,354.395 1351.72,351.156 1354.89,348.074 1358.06,345.152 1361.23,342.389 1364.4,339.788 1367.57,337.347 1370.74,335.069 1373.91,332.954 1377.07,331.003 \n",
       "  1380.24,329.216 1383.41,327.594 1386.58,326.137 1389.75,324.846 1392.92,323.722 1396.09,322.764 1399.26,321.974 1402.43,321.35 1405.6,320.895 1408.77,320.607 \n",
       "  1411.94,320.487 1415.11,320.535 1418.28,320.752 1421.45,321.137 1424.62,321.689 1427.79,322.41 1430.96,323.299 1434.12,324.356 1437.29,325.58 1440.46,326.972 \n",
       "  1443.63,328.531 1446.8,330.256 1449.97,332.148 1453.14,334.205 1456.31,336.428 1459.48,338.816 1462.65,341.368 1465.82,344.084 1468.99,346.962 1472.16,350.003 \n",
       "  1475.33,353.205 1478.5,356.568 1481.67,360.09 1484.84,363.771 1488.01,367.61 1491.17,371.605 1494.34,375.756 1497.51,380.061 1500.68,384.52 1503.85,389.13 \n",
       "  1507.02,393.891 1510.19,398.801 1513.36,403.859 1516.53,409.063 1519.7,414.412 1522.87,419.904 1526.04,425.538 1529.21,431.311 1532.38,437.222 1535.55,443.269 \n",
       "  1538.72,449.45 1541.89,455.763 1545.06,462.207 1548.22,468.778 1551.39,475.476 1554.56,482.297 1557.73,489.239 1560.9,496.301 1564.07,503.479 1567.24,510.771 \n",
       "  1570.41,518.176 1573.58,525.689 1576.75,533.309 1579.92,541.033 1583.09,548.858 1586.26,556.781 1589.43,564.8 1592.6,572.911 1595.77,581.112 1598.94,589.4 \n",
       "  1602.11,597.771 1605.27,606.223 1608.44,614.752 1611.61,623.355 1614.78,632.03 1617.95,640.772 1621.12,649.578 1624.29,658.445 1627.46,667.37 1630.63,676.349 \n",
       "  1633.8,685.379 1636.97,694.456 1640.14,703.577 1643.31,712.738 1646.48,721.936 1649.65,731.167 1652.82,740.428 1655.99,749.714 1659.16,759.023 1662.32,768.35 \n",
       "  1665.49,777.692 1668.66,787.046 1671.83,796.407 1675,805.772 1678.17,815.138 1681.34,824.501 1684.51,833.857 1687.68,843.202 1690.85,852.533 1694.02,861.847 \n",
       "  1697.19,871.14 1700.36,880.407 1703.53,889.647 1706.7,898.854 1709.87,908.027 1713.04,917.16 1716.21,926.252 1719.37,935.298 1722.54,944.295 1725.71,953.241 \n",
       "  1728.88,962.13 1732.05,970.962 1735.22,979.731 1738.39,988.435 1741.56,997.072 1744.73,1005.64 1747.9,1014.13 1751.07,1022.54 1754.24,1030.88 1757.41,1039.13 \n",
       "  1760.58,1047.3 1763.75,1055.37 1766.92,1063.36 1770.09,1071.26 1773.26,1079.05 1776.42,1086.75 1779.59,1094.35 1782.76,1101.85 1785.93,1109.24 1789.1,1116.52 \n",
       "  1792.27,1123.69 1795.44,1130.75 1798.61,1137.7 1801.78,1144.52 1804.95,1151.24 1808.12,1157.83 1811.29,1164.29 1814.46,1170.64 1817.63,1176.86 1820.8,1182.95 \n",
       "  1823.97,1188.91 1827.14,1194.74 1830.31,1200.44 1833.47,1206.01 1836.64,1211.44 1839.81,1216.73 1842.98,1221.89 1846.15,1226.91 1849.32,1231.79 1852.49,1236.52 \n",
       "  1855.66,1241.12 1858.83,1245.57 1862,1249.87 1865.17,1254.03 1868.34,1258.05 1871.51,1261.92 1874.68,1265.63 1877.85,1269.2 1881.02,1272.62 1884.19,1275.89 \n",
       "  1887.36,1279.01 1890.52,1281.98 1893.69,1284.8 1896.86,1287.46 1900.03,1289.97 1903.2,1292.32 1906.37,1294.52 1909.54,1296.57 1912.71,1298.46 1915.88,1300.19 \n",
       "  1919.05,1301.77 1922.22,1303.19 1925.39,1304.46 1928.56,1305.57 1931.73,1306.52 1934.9,1307.32 1938.07,1307.96 1941.24,1308.44 1944.4,1308.76 1947.57,1308.93 \n",
       "  1950.74,1308.94 1953.91,1308.79 1957.08,1308.49 1960.25,1308.03 1963.42,1307.41 1966.59,1306.63 1969.76,1305.7 1972.93,1304.61 1976.1,1303.37 1979.27,1301.97 \n",
       "  1982.44,1300.41 1985.61,1298.7 1988.78,1296.84 1991.95,1294.82 1995.12,1292.64 1998.29,1290.32 2001.45,1287.84 2004.62,1285.2 2007.79,1282.42 2010.96,1279.48 \n",
       "  2014.13,1276.4 2017.3,1273.16 2020.47,1269.78 2023.64,1266.24 2026.81,1262.56 2029.98,1258.73 2033.15,1254.76 2036.32,1250.64 2039.49,1246.38 2042.66,1241.97 \n",
       "  2045.83,1237.43 2049,1232.74 2052.17,1227.91 2055.34,1222.94 2058.5,1217.84 2061.67,1212.6 2064.84,1207.23 2068.01,1201.72 2071.18,1196.08 2074.35,1190.31 \n",
       "  2077.52,1184.41 2080.69,1178.39 2083.86,1172.24 2087.03,1165.97 2090.2,1159.57 2093.37,1153.05 2096.54,1146.42 2099.71,1139.67 2102.88,1132.8 2106.05,1125.82 \n",
       "  2109.22,1118.73 2112.39,1111.54 2115.55,1104.23 2118.72,1096.83 2121.89,1089.32 2125.06,1081.71 2128.23,1074 2131.4,1066.2 2134.57,1058.31 2137.74,1050.33 \n",
       "  2140.91,1042.26 2144.08,1034.11 2147.25,1025.88 2150.42,1017.56 2153.59,1009.17 2156.76,1000.71 2159.93,992.18 2163.1,983.581 2166.27,974.917 2169.44,966.192 \n",
       "  2172.6,957.408 2175.77,948.569 2178.94,939.679 2182.11,930.739 2185.28,921.754 2188.45,912.726 2191.62,903.659 2194.79,894.556 2197.96,885.42 2201.13,876.255 \n",
       "  2204.3,867.064 2207.47,857.851 2210.64,848.619 2213.81,839.371 2216.98,830.11 2220.15,820.841 2223.32,811.566 2226.49,802.289 2229.65,793.014 2232.82,783.744 \n",
       "  2235.99,774.482 2239.16,765.231 2242.33,755.996 2245.5,746.78 2248.67,737.585 2251.84,728.416 2255.01,719.276 2258.18,710.168 2261.35,701.095 2264.52,692.061 \n",
       "  2267.69,683.069 2270.86,674.122 2274.03,665.223 2277.2,656.377 2280.37,647.585 2283.54,638.851 2286.7,630.178 2289.87,621.569 2293.04,613.027 \n",
       "  \"/>\n",
       "<polyline clip-path=\"url(#clip682)\" style=\"stroke:#e26f46; stroke-width:4; stroke-opacity:1; fill:none\" points=\"\n",
       "  302.634,237.509 305.803,232.29 308.973,227.255 312.142,222.406 315.312,217.742 318.481,213.264 321.651,208.972 324.82,204.867 327.99,200.948 331.159,197.216 \n",
       "  334.328,193.671 337.498,190.314 340.667,187.144 343.837,184.16 347.006,181.364 350.176,178.755 353.345,176.333 356.515,174.098 359.684,172.049 362.853,170.187 \n",
       "  366.023,168.511 369.192,167.021 372.362,165.716 375.531,164.597 378.701,163.662 381.87,162.912 385.039,162.346 388.209,161.963 391.378,161.764 394.548,161.747 \n",
       "  397.717,161.912 400.887,162.259 404.056,162.786 407.226,163.494 410.395,164.381 413.564,165.447 416.734,166.692 419.903,168.113 423.073,169.712 426.242,171.486 \n",
       "  429.412,173.436 432.581,175.56 435.751,177.857 438.92,180.327 442.089,182.968 445.259,185.78 448.428,188.761 451.598,191.911 454.767,195.229 457.937,198.713 \n",
       "  461.106,202.362 464.276,206.176 467.445,210.152 470.614,214.29 473.784,218.589 476.953,223.046 480.123,227.662 483.292,232.434 486.462,237.361 489.631,242.441 \n",
       "  492.801,247.674 495.97,253.057 499.139,258.588 502.309,264.267 505.478,270.092 508.648,276.06 511.817,282.17 514.987,288.42 518.156,294.809 521.325,301.334 \n",
       "  524.495,307.993 527.664,314.784 530.834,321.706 534.003,328.755 537.173,335.931 540.342,343.23 543.512,350.65 546.681,358.189 549.85,365.845 553.02,373.614 \n",
       "  556.189,381.495 559.359,389.485 562.528,397.581 565.698,405.78 568.867,414.08 572.037,422.478 575.206,430.971 578.375,439.557 581.545,448.231 584.714,456.991 \n",
       "  587.884,465.835 591.053,474.758 594.223,483.758 597.392,492.831 600.562,501.975 603.731,511.186 606.9,520.46 610.07,529.794 613.239,539.185 616.409,548.628 \n",
       "  619.578,558.122 622.748,567.661 625.917,577.243 629.087,586.864 632.256,596.52 635.425,606.207 638.595,615.922 641.764,625.661 644.934,635.42 648.103,645.196 \n",
       "  651.273,654.984 654.442,664.781 657.612,674.583 660.781,684.386 663.95,694.187 667.12,703.982 670.289,713.766 673.459,723.536 676.628,733.288 679.798,743.019 \n",
       "  682.967,752.724 686.136,762.4 689.306,772.043 692.475,781.649 695.645,791.215 698.814,800.737 701.984,810.212 705.153,819.635 708.323,829.003 711.492,838.313 \n",
       "  714.661,847.561 717.831,856.743 721,865.857 724.17,874.899 727.339,883.865 730.509,892.752 733.678,901.558 736.848,910.279 740.017,918.911 743.186,927.452 \n",
       "  746.356,935.899 749.525,944.249 752.695,952.499 755.864,960.646 759.034,968.687 762.203,976.62 765.373,984.443 768.542,992.152 771.711,999.745 774.881,1007.22 \n",
       "  778.05,1014.57 781.22,1021.81 784.389,1028.91 787.559,1035.89 790.728,1042.74 793.898,1049.46 797.067,1056.05 800.236,1062.5 803.406,1068.81 806.575,1074.98 \n",
       "  809.745,1081.02 812.914,1086.91 816.084,1092.66 819.253,1098.27 822.422,1103.73 825.592,1109.04 828.761,1114.2 831.931,1119.21 835.1,1124.07 838.27,1128.78 \n",
       "  841.439,1133.34 844.609,1137.74 847.778,1141.99 850.947,1146.08 854.117,1150.02 857.286,1153.8 860.456,1157.42 863.625,1160.88 866.795,1164.18 869.964,1167.33 \n",
       "  873.134,1170.31 876.303,1173.14 879.472,1175.8 882.642,1178.31 885.811,1180.65 888.981,1182.83 892.15,1184.85 895.32,1186.71 898.489,1188.41 901.659,1189.95 \n",
       "  904.828,1191.33 907.997,1192.54 911.167,1193.6 914.336,1194.49 917.506,1195.23 920.675,1195.81 923.845,1196.22 927.014,1196.48 930.184,1196.58 933.353,1196.52 \n",
       "  936.522,1196.31 939.692,1195.93 942.861,1195.41 946.031,1194.72 949.2,1193.88 952.37,1192.89 955.539,1191.75 958.708,1190.45 961.878,1189 965.047,1187.4 \n",
       "  968.217,1185.66 971.386,1183.76 974.556,1181.72 977.725,1179.53 980.895,1177.2 984.064,1174.72 987.233,1172.1 990.403,1169.34 993.572,1166.44 996.742,1163.4 \n",
       "  999.911,1160.23 1003.08,1156.92 1006.25,1153.47 1009.42,1149.9 1012.59,1146.19 1015.76,1142.35 1018.93,1138.39 1022.1,1134.3 1025.27,1130.09 1028.44,1125.75 \n",
       "  1031.61,1121.3 1034.78,1116.72 1037.94,1112.03 1041.11,1107.23 1044.28,1102.31 1047.45,1097.28 1050.62,1092.14 1053.79,1086.9 1056.96,1081.56 1060.13,1076.11 \n",
       "  1063.3,1070.56 1066.47,1064.92 1069.64,1059.18 1072.81,1053.35 1075.98,1047.43 1079.15,1041.42 1082.32,1035.33 1085.49,1029.15 1088.66,1022.9 1091.83,1016.56 \n",
       "  1094.99,1010.16 1098.16,1003.68 1101.33,997.133 1104.5,990.52 1107.67,983.843 1110.84,977.106 1114.01,970.311 1117.18,963.461 1120.35,956.56 1123.52,949.609 \n",
       "  1126.69,942.612 1129.86,935.572 1133.03,928.492 1136.2,921.375 1139.37,914.224 1142.54,907.042 1145.71,899.833 1148.88,892.598 1152.04,885.342 1155.21,878.067 \n",
       "  1158.38,870.776 1161.55,863.473 1164.72,856.161 1167.89,848.843 1171.06,841.522 1174.23,834.201 1177.4,826.884 1180.57,819.572 1183.74,812.27 1186.91,804.981 \n",
       "  1190.08,797.708 1193.25,790.453 1196.42,783.22 1199.59,776.012 1202.76,768.832 1205.92,761.683 1209.09,754.568 1212.26,747.49 1215.43,740.452 1218.6,733.457 \n",
       "  1221.77,726.507 1224.94,719.606 1228.11,712.757 1231.28,705.962 1234.45,699.223 1237.62,692.545 1240.79,685.929 1243.96,679.378 1247.13,672.895 1250.3,666.482 \n",
       "  1253.47,660.142 1256.64,653.877 1259.81,647.691 1262.97,641.584 1266.14,635.56 1269.31,629.621 1272.48,623.769 1275.65,618.007 1278.82,612.336 1281.99,606.759 \n",
       "  1285.16,601.278 1288.33,595.894 1291.5,590.611 1294.67,585.428 1297.84,580.35 1301.01,575.377 1304.18,570.511 1307.35,565.753 1310.52,561.106 1313.69,556.572 \n",
       "  1316.86,552.15 1320.02,547.844 1323.19,543.654 1326.36,539.583 1329.53,535.63 1332.7,531.797 1335.87,528.087 1339.04,524.499 1342.21,521.035 1345.38,517.696 \n",
       "  1348.55,514.482 1351.72,511.396 1354.89,508.437 1358.06,505.607 1361.23,502.906 1364.4,500.335 1367.57,497.894 1370.74,495.585 1373.91,493.407 1377.07,491.362 \n",
       "  1380.24,489.449 1383.41,487.67 1386.58,486.024 1389.75,484.511 1392.92,483.132 1396.09,481.888 1399.26,480.777 1402.43,479.801 1405.6,478.959 1408.77,478.251 \n",
       "  1411.94,477.678 1415.11,477.238 1418.28,476.932 1421.45,476.76 1424.62,476.721 1427.79,476.815 1430.96,477.041 1434.12,477.399 1437.29,477.889 1440.46,478.511 \n",
       "  1443.63,479.262 1446.8,480.144 1449.97,481.154 1453.14,482.293 1456.31,483.56 1459.48,484.953 1462.65,486.472 1465.82,488.117 1468.99,489.885 1472.16,491.776 \n",
       "  1475.33,493.789 1478.5,495.923 1481.67,498.177 1484.84,500.549 1488.01,503.039 1491.17,505.644 1494.34,508.363 1497.51,511.196 1500.68,514.141 1503.85,517.196 \n",
       "  1507.02,520.359 1510.19,523.63 1513.36,527.007 1516.53,530.487 1519.7,534.069 1522.87,537.752 1526.04,541.533 1529.21,545.412 1532.38,549.385 1535.55,553.452 \n",
       "  1538.72,557.609 1541.89,561.856 1545.06,566.19 1548.22,570.609 1551.39,575.111 1554.56,579.694 1557.73,584.355 1560.9,589.093 1564.07,593.906 1567.24,598.79 \n",
       "  1570.41,603.744 1573.58,608.765 1576.75,613.851 1579.92,619 1583.09,624.209 1586.26,629.476 1589.43,634.798 1592.6,640.173 1595.77,645.598 1598.94,651.07 \n",
       "  1602.11,656.588 1605.27,662.148 1608.44,667.748 1611.61,673.385 1614.78,679.057 1617.95,684.761 1621.12,690.494 1624.29,696.253 1627.46,702.037 1630.63,707.841 \n",
       "  1633.8,713.664 1636.97,719.503 1640.14,725.354 1643.31,731.216 1646.48,737.085 1649.65,742.959 1652.82,748.835 1655.99,754.71 1659.16,760.581 1662.32,766.447 \n",
       "  1665.49,772.303 1668.66,778.148 1671.83,783.978 1675,789.791 1678.17,795.584 1681.34,801.354 1684.51,807.1 1687.68,812.817 1690.85,818.504 1694.02,824.158 \n",
       "  1697.19,829.777 1700.36,835.356 1703.53,840.896 1706.7,846.391 1709.87,851.841 1713.04,857.243 1716.21,862.594 1719.37,867.891 1722.54,873.133 1725.71,878.317 \n",
       "  1728.88,883.441 1732.05,888.502 1735.22,893.498 1738.39,898.427 1741.56,903.287 1744.73,908.075 1747.9,912.79 1751.07,917.429 1754.24,921.99 1757.41,926.471 \n",
       "  1760.58,930.871 1763.75,935.188 1766.92,939.418 1770.09,943.562 1773.26,947.616 1776.42,951.579 1779.59,955.45 1782.76,959.227 1785.93,962.907 1789.1,966.49 \n",
       "  1792.27,969.974 1795.44,973.358 1798.61,976.64 1801.78,979.818 1804.95,982.892 1808.12,985.86 1811.29,988.72 1814.46,991.472 1817.63,994.115 1820.8,996.647 \n",
       "  1823.97,999.067 1827.14,1001.37 1830.31,1003.57 1833.47,1005.65 1836.64,1007.61 1839.81,1009.46 1842.98,1011.19 1846.15,1012.8 1849.32,1014.29 1852.49,1015.67 \n",
       "  1855.66,1016.92 1858.83,1018.06 1862,1019.07 1865.17,1019.97 1868.34,1020.74 1871.51,1021.39 1874.68,1021.91 1877.85,1022.32 1881.02,1022.6 1884.19,1022.76 \n",
       "  1887.36,1022.8 1890.52,1022.72 1893.69,1022.51 1896.86,1022.18 1900.03,1021.72 1903.2,1021.15 1906.37,1020.45 1909.54,1019.63 1912.71,1018.69 1915.88,1017.63 \n",
       "  1919.05,1016.45 1922.22,1015.14 1925.39,1013.72 1928.56,1012.18 1931.73,1010.52 1934.9,1008.74 1938.07,1006.84 1941.24,1004.83 1944.4,1002.7 1947.57,1000.46 \n",
       "  1950.74,998.098 1953.91,995.627 1957.08,993.044 1960.25,990.35 1963.42,987.547 1966.59,984.634 1969.76,981.614 1972.93,978.487 1976.1,975.256 1979.27,971.92 \n",
       "  1982.44,968.482 1985.61,964.943 1988.78,961.305 1991.95,957.568 1995.12,953.735 1998.29,949.807 2001.45,945.786 2004.62,941.673 2007.79,937.47 2010.96,933.179 \n",
       "  2014.13,928.802 2017.3,924.34 2020.47,919.796 2023.64,915.172 2026.81,910.468 2029.98,905.688 2033.15,900.833 2036.32,895.906 2039.49,890.909 2042.66,885.843 \n",
       "  2045.83,880.711 2049,875.515 2052.17,870.258 2055.34,864.941 2058.5,859.568 2061.67,854.139 2064.84,848.659 2068.01,843.128 2071.18,837.55 2074.35,831.928 \n",
       "  2077.52,826.262 2080.69,820.557 2083.86,814.814 2087.03,809.036 2090.2,803.226 2093.37,797.386 2096.54,791.519 2099.71,785.627 2102.88,779.713 2106.05,773.779 \n",
       "  2109.22,767.829 2112.39,761.865 2115.55,755.89 2118.72,749.905 2121.89,743.915 2125.06,737.921 2128.23,731.926 2131.4,725.933 2134.57,719.945 2137.74,713.964 \n",
       "  2140.91,707.993 2144.08,702.034 2147.25,696.091 2150.42,690.166 2153.59,684.261 2156.76,678.379 2159.93,672.523 2163.1,666.695 2166.27,660.898 2169.44,655.135 \n",
       "  2172.6,649.407 2175.77,643.719 2178.94,638.071 2182.11,632.467 2185.28,626.909 2188.45,621.399 2191.62,615.941 2194.79,610.536 2197.96,605.186 2201.13,599.894 \n",
       "  2204.3,594.663 2207.47,589.494 2210.64,584.39 2213.81,579.354 2216.98,574.386 2220.15,569.49 2223.32,564.668 2226.49,559.921 2229.65,555.252 2232.82,550.663 \n",
       "  2235.99,546.155 2239.16,541.732 2242.33,537.393 2245.5,533.143 2248.67,528.981 2251.84,524.911 2255.01,520.933 2258.18,517.05 2261.35,513.264 2264.52,509.575 \n",
       "  2267.69,505.986 2270.86,502.498 2274.03,499.112 2277.2,495.831 2280.37,492.655 2283.54,489.586 2286.7,486.625 2289.87,483.774 2293.04,481.034 \n",
       "  \"/>\n",
       "<polyline clip-path=\"url(#clip682)\" style=\"stroke:#3da44d; stroke-width:4; stroke-opacity:1; fill:none\" points=\"\n",
       "  302.634,237.509 305.803,232.29 308.973,227.255 312.142,222.405 315.312,217.741 318.481,213.261 321.651,208.967 324.82,204.859 327.99,200.937 331.159,197.2 \n",
       "  334.328,193.65 337.498,190.285 340.667,187.106 343.837,184.113 347.006,181.305 350.176,178.682 353.345,176.244 356.515,173.992 359.684,171.923 362.853,170.039 \n",
       "  366.023,168.339 369.192,166.822 372.362,165.488 375.531,164.337 378.701,163.368 381.87,162.58 385.039,161.974 388.209,161.548 391.378,161.302 394.548,161.236 \n",
       "  397.717,161.348 400.887,161.639 404.056,162.107 407.226,162.752 410.395,163.573 413.564,164.569 416.734,165.74 419.903,167.085 423.073,168.603 426.242,170.293 \n",
       "  429.412,172.154 432.581,174.186 435.751,176.388 438.92,178.758 442.089,181.296 445.259,184.001 448.428,186.872 451.598,189.907 454.767,193.107 457.937,196.469 \n",
       "  461.106,199.992 464.276,203.676 467.445,207.52 470.614,211.521 473.784,215.68 476.953,219.994 480.123,224.463 483.292,229.085 486.462,233.858 489.631,238.782 \n",
       "  492.801,243.855 495.97,249.075 499.139,254.441 502.309,259.952 505.478,265.606 508.648,271.401 511.817,277.336 514.987,283.408 518.156,289.617 521.325,295.96 \n",
       "  524.495,302.436 527.664,309.043 530.834,315.778 534.003,322.64 537.173,329.628 540.342,336.738 543.512,343.968 546.681,351.317 549.85,358.783 553.02,366.363 \n",
       "  556.189,374.054 559.359,381.855 562.528,389.763 565.698,397.775 568.867,405.89 572.037,414.104 575.206,422.415 578.375,430.82 581.545,439.317 584.714,447.903 \n",
       "  587.884,456.574 591.053,465.329 594.223,474.165 597.392,483.077 600.562,492.064 603.731,501.123 606.9,510.25 610.07,519.442 613.239,528.696 616.409,538.009 \n",
       "  619.578,547.377 622.748,556.799 625.917,566.269 629.087,575.785 632.256,585.344 635.425,594.941 638.595,604.575 641.764,614.24 644.934,623.935 648.103,633.655 \n",
       "  651.273,643.397 654.442,653.157 657.612,662.932 660.781,672.719 663.95,682.513 667.12,692.312 670.289,702.112 673.459,711.909 676.628,721.7 679.798,731.481 \n",
       "  682.967,741.248 686.136,750.999 689.306,760.73 692.475,770.437 695.645,780.117 698.814,789.766 701.984,799.382 705.153,808.96 708.323,818.497 711.492,827.99 \n",
       "  714.661,837.436 717.831,846.832 721,856.173 724.17,865.458 727.339,874.683 730.509,883.844 733.678,892.939 736.848,901.965 740.017,910.919 743.186,919.798 \n",
       "  746.356,928.599 749.525,937.319 752.695,945.956 755.864,954.507 759.034,962.969 762.203,971.34 765.373,979.616 768.542,987.797 771.711,995.879 774.881,1003.86 \n",
       "  778.05,1011.74 781.22,1019.51 784.389,1027.17 787.559,1034.73 790.728,1042.17 793.898,1049.5 797.067,1056.72 800.236,1063.81 803.406,1070.79 806.575,1077.65 \n",
       "  809.745,1084.38 812.914,1090.99 816.084,1097.47 819.253,1103.83 822.422,1110.06 825.592,1116.16 828.761,1122.13 831.931,1127.96 835.1,1133.66 838.27,1139.23 \n",
       "  841.439,1144.66 844.609,1149.96 847.778,1155.11 850.947,1160.13 854.117,1165.01 857.286,1169.75 860.456,1174.34 863.625,1178.8 866.795,1183.11 869.964,1187.28 \n",
       "  873.134,1191.31 876.303,1195.19 879.472,1198.93 882.642,1202.53 885.811,1205.97 888.981,1209.28 892.15,1212.43 895.32,1215.45 898.489,1218.31 901.659,1221.03 \n",
       "  904.828,1223.6 907.997,1226.02 911.167,1228.3 914.336,1230.43 917.506,1232.42 920.675,1234.25 923.845,1235.94 927.014,1237.49 930.184,1238.88 933.353,1240.13 \n",
       "  936.522,1241.24 939.692,1242.2 942.861,1243.01 946.031,1243.68 949.2,1244.2 952.37,1244.57 955.539,1244.81 958.708,1244.89 961.878,1244.84 965.047,1244.64 \n",
       "  968.217,1244.3 971.386,1243.82 974.556,1243.19 977.725,1242.42 980.895,1241.52 984.064,1240.47 987.233,1239.28 990.403,1237.96 993.572,1236.49 996.742,1234.89 \n",
       "  999.911,1233.16 1003.08,1231.28 1006.25,1229.27 1009.42,1227.13 1012.59,1224.85 1015.76,1222.44 1018.93,1219.9 1022.1,1217.23 1025.27,1214.43 1028.44,1211.5 \n",
       "  1031.61,1208.44 1034.78,1205.25 1037.94,1201.94 1041.11,1198.5 1044.28,1194.94 1047.45,1191.26 1050.62,1187.46 1053.79,1183.53 1056.96,1179.49 1060.13,1175.33 \n",
       "  1063.3,1171.05 1066.47,1166.65 1069.64,1162.15 1072.81,1157.53 1075.98,1152.8 1079.15,1147.95 1082.32,1143.01 1085.49,1137.95 1088.66,1132.79 1091.83,1127.53 \n",
       "  1094.99,1122.16 1098.16,1116.69 1101.33,1111.13 1104.5,1105.47 1107.67,1099.71 1110.84,1093.86 1114.01,1087.92 1117.18,1081.88 1120.35,1075.76 1123.52,1069.56 \n",
       "  1126.69,1063.27 1129.86,1056.89 1133.03,1050.44 1136.2,1043.91 1139.37,1037.31 1142.54,1030.62 1145.71,1023.87 1148.88,1017.05 1152.04,1010.16 1155.21,1003.21 \n",
       "  1158.38,996.19 1161.55,989.112 1164.72,981.975 1167.89,974.783 1171.06,967.536 1174.23,960.239 1177.4,952.892 1180.57,945.499 1183.74,938.062 1186.91,930.583 \n",
       "  1190.08,923.065 1193.25,915.511 1196.42,907.922 1199.59,900.302 1202.76,892.653 1205.92,884.978 1209.09,877.278 1212.26,869.558 1215.43,861.819 1218.6,854.063 \n",
       "  1221.77,846.294 1224.94,838.515 1228.11,830.727 1231.28,822.933 1234.45,815.137 1237.62,807.34 1240.79,799.546 1243.96,791.756 1247.13,783.974 1250.3,776.202 \n",
       "  1253.47,768.442 1256.64,760.698 1259.81,752.972 1262.97,745.266 1266.14,737.583 1269.31,729.925 1272.48,722.296 1275.65,714.697 1278.82,707.13 1281.99,699.599 \n",
       "  1285.16,692.106 1288.33,684.653 1291.5,677.243 1294.67,669.878 1297.84,662.56 1301.01,655.291 1304.18,648.074 1307.35,640.911 1310.52,633.805 1313.69,626.757 \n",
       "  1316.86,619.769 1320.02,612.844 1323.19,605.984 1326.36,599.19 1329.53,592.466 1332.7,585.812 1335.87,579.23 1339.04,572.723 1342.21,566.293 1345.38,559.94 \n",
       "  1348.55,553.667 1351.72,547.476 1354.89,541.369 1358.06,535.346 1361.23,529.41 1364.4,523.562 1367.57,517.804 1370.74,512.137 1373.91,506.562 1377.07,501.081 \n",
       "  1380.24,495.696 1383.41,490.407 1386.58,485.217 1389.75,480.125 1392.92,475.134 1396.09,470.244 1399.26,465.457 1402.43,460.774 1405.6,456.196 1408.77,451.723 \n",
       "  1411.94,447.358 1415.11,443.099 1418.28,438.95 1421.45,434.91 1424.62,430.98 1427.79,427.161 1430.96,423.454 1434.12,419.86 1437.29,416.378 1440.46,413.011 \n",
       "  1443.63,409.758 1446.8,406.62 1449.97,403.597 1453.14,400.691 1456.31,397.901 1459.48,395.228 1462.65,392.672 1465.82,390.234 1468.99,387.915 1472.16,385.714 \n",
       "  1475.33,383.631 1478.5,381.668 1481.67,379.824 1484.84,378.099 1488.01,376.494 1491.17,375.009 1494.34,373.644 1497.51,372.399 1500.68,371.274 1503.85,370.269 \n",
       "  1507.02,369.384 1510.19,368.62 1513.36,367.976 1516.53,367.452 1519.7,367.048 1522.87,366.764 1526.04,366.599 1529.21,366.555 1532.38,366.63 1535.55,366.824 \n",
       "  1538.72,367.138 1541.89,367.57 1545.06,368.121 1548.22,368.79 1551.39,369.577 1554.56,370.482 1557.73,371.504 1560.9,372.643 1564.07,373.898 1567.24,375.269 \n",
       "  1570.41,376.756 1573.58,378.359 1576.75,380.075 1579.92,381.906 1583.09,383.85 1586.26,385.908 1589.43,388.077 1592.6,390.358 1595.77,392.751 1598.94,395.253 \n",
       "  1602.11,397.865 1605.27,400.587 1608.44,403.416 1611.61,406.353 1614.78,409.396 1617.95,412.545 1621.12,415.799 1624.29,419.156 1627.46,422.617 1630.63,426.18 \n",
       "  1633.8,429.844 1636.97,433.608 1640.14,437.472 1643.31,441.433 1646.48,445.491 1649.65,449.645 1652.82,453.894 1655.99,458.236 1659.16,462.67 1662.32,467.196 \n",
       "  1665.49,471.811 1668.66,476.515 1671.83,481.306 1675,486.182 1678.17,491.144 1681.34,496.188 1684.51,501.314 1687.68,506.519 1690.85,511.804 1694.02,517.166 \n",
       "  1697.19,522.603 1700.36,528.114 1703.53,533.697 1706.7,539.351 1709.87,545.074 1713.04,550.864 1716.21,556.72 1719.37,562.64 1722.54,568.622 1725.71,574.664 \n",
       "  1728.88,580.764 1732.05,586.921 1735.22,593.133 1738.39,599.397 1741.56,605.712 1744.73,612.076 1747.9,618.487 1751.07,624.942 1754.24,631.441 1757.41,637.98 \n",
       "  1760.58,644.558 1763.75,651.173 1766.92,657.822 1770.09,664.504 1773.26,671.216 1776.42,677.956 1779.59,684.723 1782.76,691.513 1785.93,698.325 1789.1,705.156 \n",
       "  1792.27,712.005 1795.44,718.869 1798.61,725.746 1801.78,732.633 1804.95,739.529 1808.12,746.431 1811.29,753.337 1814.46,760.245 1817.63,767.152 1820.8,774.057 \n",
       "  1823.97,780.956 1827.14,787.849 1830.31,794.732 1833.47,801.603 1836.64,808.46 1839.81,815.302 1842.98,822.125 1846.15,828.928 1849.32,835.708 1852.49,842.463 \n",
       "  1855.66,849.191 1858.83,855.891 1862,862.559 1865.17,869.194 1868.34,875.793 1871.51,882.355 1874.68,888.877 1877.85,895.358 1881.02,901.795 1884.19,908.187 \n",
       "  1887.36,914.531 1890.52,920.826 1893.69,927.069 1896.86,933.259 1900.03,939.393 1903.2,945.471 1906.37,951.489 1909.54,957.447 1912.71,963.343 1915.88,969.174 \n",
       "  1919.05,974.94 1922.22,980.637 1925.39,986.266 1928.56,991.823 1931.73,997.309 1934.9,1002.72 1938.07,1008.05 1941.24,1013.31 1944.4,1018.49 1947.57,1023.59 \n",
       "  1950.74,1028.61 1953.91,1033.55 1957.08,1038.4 1960.25,1043.16 1963.42,1047.84 1966.59,1052.43 1969.76,1056.93 1972.93,1061.34 1976.1,1065.66 1979.27,1069.89 \n",
       "  1982.44,1074.02 1985.61,1078.06 1988.78,1082 1991.95,1085.84 1995.12,1089.58 1998.29,1093.23 2001.45,1096.78 2004.62,1100.22 2007.79,1103.56 2010.96,1106.8 \n",
       "  2014.13,1109.94 2017.3,1112.97 2020.47,1115.9 2023.64,1118.72 2026.81,1121.43 2029.98,1124.04 2033.15,1126.54 2036.32,1128.93 2039.49,1131.21 2042.66,1133.39 \n",
       "  2045.83,1135.45 2049,1137.4 2052.17,1139.24 2055.34,1140.97 2058.5,1142.58 2061.67,1144.09 2064.84,1145.48 2068.01,1146.75 2071.18,1147.92 2074.35,1148.96 \n",
       "  2077.52,1149.9 2080.69,1150.72 2083.86,1151.42 2087.03,1152.01 2090.2,1152.49 2093.37,1152.85 2096.54,1153.09 2099.71,1153.22 2102.88,1153.23 2106.05,1153.13 \n",
       "  2109.22,1152.91 2112.39,1152.57 2115.55,1152.12 2118.72,1151.55 2121.89,1150.87 2125.06,1150.07 2128.23,1149.16 2131.4,1148.13 2134.57,1146.98 2137.74,1145.72 \n",
       "  2140.91,1144.34 2144.08,1142.85 2147.25,1141.25 2150.42,1139.53 2153.59,1137.69 2156.76,1135.75 2159.93,1133.69 2163.1,1131.51 2166.27,1129.23 2169.44,1126.83 \n",
       "  2172.6,1124.32 2175.77,1121.7 2178.94,1118.97 2182.11,1116.13 2185.28,1113.18 2188.45,1110.13 2191.62,1106.96 2194.79,1103.69 2197.96,1100.31 2201.13,1096.83 \n",
       "  2204.3,1093.24 2207.47,1089.54 2210.64,1085.75 2213.81,1081.85 2216.98,1077.85 2220.15,1073.75 2223.32,1069.55 2226.49,1065.25 2229.65,1060.85 2232.82,1056.36 \n",
       "  2235.99,1051.77 2239.16,1047.09 2242.33,1042.32 2245.5,1037.46 2248.67,1032.5 2251.84,1027.46 2255.01,1022.33 2258.18,1017.11 2261.35,1011.81 2264.52,1006.43 \n",
       "  2267.69,1000.96 2270.86,995.414 2274.03,989.79 2277.2,984.088 2280.37,978.311 2283.54,972.461 2286.7,966.539 2289.87,960.546 2293.04,954.485 \n",
       "  \"/>\n",
       "<polyline clip-path=\"url(#clip682)\" style=\"stroke:#c271d2; stroke-width:4; stroke-opacity:1; fill:none\" points=\"\n",
       "  302.634,237.509 305.803,232.29 308.973,227.255 312.142,222.405 315.312,217.739 318.481,213.259 321.651,208.963 324.82,204.852 327.99,200.926 331.159,197.185 \n",
       "  334.328,193.628 337.498,190.256 340.667,187.069 343.837,184.065 347.006,181.245 350.176,178.609 353.345,176.156 356.515,173.886 359.684,171.799 362.853,169.893 \n",
       "  366.023,168.169 369.192,166.626 372.362,165.264 375.531,164.082 378.701,163.079 381.87,162.255 385.039,161.61 388.209,161.142 391.378,160.852 394.548,160.738 \n",
       "  397.717,160.8 400.887,161.037 404.056,161.449 407.226,162.035 410.395,162.793 413.564,163.724 416.734,164.826 419.903,166.1 423.073,167.543 426.242,169.155 \n",
       "  429.412,170.936 432.581,172.884 435.751,174.999 438.92,177.279 442.089,179.725 445.259,182.335 448.428,185.107 451.598,188.042 454.767,191.138 457.937,194.394 \n",
       "  461.106,197.809 464.276,201.383 467.445,205.113 470.614,209 473.784,213.041 476.953,217.236 480.123,221.585 483.292,226.084 486.462,230.734 489.631,235.533 \n",
       "  492.801,240.48 495.97,245.574 499.139,250.813 502.309,256.196 505.478,261.721 508.648,267.388 511.817,273.195 514.987,279.14 518.156,285.222 521.325,291.439 \n",
       "  524.495,297.789 527.664,304.272 530.834,310.885 534.003,317.627 537.173,324.496 540.342,331.49 543.512,338.608 546.681,345.847 549.85,353.206 553.02,360.682 \n",
       "  556.189,368.274 559.359,375.98 562.528,383.797 565.698,391.724 568.867,399.758 572.037,407.896 575.206,416.138 578.375,424.48 581.545,432.92 584.714,441.455 \n",
       "  587.884,450.084 591.053,458.803 594.223,467.61 597.392,476.503 600.562,485.478 603.731,494.533 606.9,503.666 610.07,512.874 613.239,522.153 616.409,531.501 \n",
       "  619.578,540.914 622.748,550.391 625.917,559.928 629.087,569.522 632.256,579.17 635.425,588.868 638.595,598.615 641.764,608.406 644.934,618.238 648.103,628.108 \n",
       "  651.273,638.014 654.442,647.951 657.612,657.916 660.781,667.907 663.95,677.919 667.12,687.95 670.289,697.996 673.459,708.054 676.628,718.12 679.798,728.191 \n",
       "  682.967,738.264 686.136,748.335 689.306,758.401 692.475,768.459 695.645,778.505 698.814,788.536 701.984,798.548 705.153,808.539 708.323,818.505 711.492,828.442 \n",
       "  714.661,838.348 717.831,848.219 721,858.052 724.17,867.844 727.339,877.591 730.509,887.291 733.678,896.94 736.848,906.536 740.017,916.075 743.186,925.554 \n",
       "  746.356,934.971 749.525,944.322 752.695,953.604 755.864,962.816 759.034,971.953 762.203,981.014 765.373,989.996 768.542,998.895 771.711,1007.71 774.881,1016.44 \n",
       "  778.05,1025.08 781.22,1033.62 784.389,1042.07 787.559,1050.43 790.728,1058.68 793.898,1066.84 797.067,1074.89 800.236,1082.83 803.406,1090.67 806.575,1098.4 \n",
       "  809.745,1106.02 812.914,1113.52 816.084,1120.91 819.253,1128.18 822.422,1135.33 825.592,1142.36 828.761,1149.27 831.931,1156.05 835.1,1162.71 838.27,1169.24 \n",
       "  841.439,1175.65 844.609,1181.92 847.778,1188.06 850.947,1194.07 854.117,1199.95 857.286,1205.69 860.456,1211.29 863.625,1216.76 866.795,1222.09 869.964,1227.27 \n",
       "  873.134,1232.32 876.303,1237.23 879.472,1241.99 882.642,1246.61 885.811,1251.08 888.981,1255.41 892.15,1259.6 895.32,1263.63 898.489,1267.52 901.659,1271.26 \n",
       "  904.828,1274.85 907.997,1278.28 911.167,1281.57 914.336,1284.71 917.506,1287.69 920.675,1290.53 923.845,1293.2 927.014,1295.73 930.184,1298.1 933.353,1300.31 \n",
       "  936.522,1302.37 939.692,1304.28 942.861,1306.03 946.031,1307.62 949.2,1309.05 952.37,1310.33 955.539,1311.44 958.708,1312.41 961.878,1313.21 965.047,1313.85 \n",
       "  968.217,1314.33 971.386,1314.66 974.556,1314.82 977.725,1314.83 980.895,1314.67 984.064,1314.35 987.233,1313.88 990.403,1313.24 993.572,1312.44 996.742,1311.48 \n",
       "  999.911,1310.36 1003.08,1309.08 1006.25,1307.64 1009.42,1306.04 1012.59,1304.27 1015.76,1302.35 1018.93,1300.26 1022.1,1298.01 1025.27,1295.6 1028.44,1293.03 \n",
       "  1031.61,1290.3 1034.78,1287.41 1037.94,1284.36 1041.11,1281.15 1044.28,1277.78 1047.45,1274.25 1050.62,1270.56 1053.79,1266.72 1056.96,1262.71 1060.13,1258.55 \n",
       "  1063.3,1254.23 1066.47,1249.75 1069.64,1245.12 1072.81,1240.34 1075.98,1235.39 1079.15,1230.3 1082.32,1225.05 1085.49,1219.65 1088.66,1214.1 1091.83,1208.4 \n",
       "  1094.99,1202.55 1098.16,1196.55 1101.33,1190.4 1104.5,1184.11 1107.67,1177.67 1110.84,1171.09 1114.01,1164.37 1117.18,1157.51 1120.35,1150.51 1123.52,1143.37 \n",
       "  1126.69,1136.1 1129.86,1128.69 1133.03,1121.15 1136.2,1113.48 1139.37,1105.69 1142.54,1097.76 1145.71,1089.71 1148.88,1081.54 1152.04,1073.25 1155.21,1064.84 \n",
       "  1158.38,1056.32 1161.55,1047.68 1164.72,1038.94 1167.89,1030.08 1171.06,1021.12 1174.23,1012.06 1177.4,1002.89 1180.57,993.635 1183.74,984.282 1186.91,974.837 \n",
       "  1190.08,965.305 1193.25,955.688 1196.42,945.99 1199.59,936.213 1202.76,926.361 1205.92,916.438 1209.09,906.446 1212.26,896.39 1215.43,886.272 1218.6,876.097 \n",
       "  1221.77,865.867 1224.94,855.588 1228.11,845.262 1231.28,834.893 1234.45,824.485 1237.62,814.042 1240.79,803.568 1243.96,793.066 1247.13,782.541 1250.3,771.997 \n",
       "  1253.47,761.437 1256.64,750.866 1259.81,740.287 1262.97,729.704 1266.14,719.123 1269.31,708.546 1272.48,697.978 1275.65,687.422 1278.82,676.883 1281.99,666.365 \n",
       "  1285.16,655.872 1288.33,645.408 1291.5,634.976 1294.67,624.582 1297.84,614.228 1301.01,603.919 1304.18,593.658 1307.35,583.45 1310.52,573.298 1313.69,563.206 \n",
       "  1316.86,553.178 1320.02,543.218 1323.19,533.329 1326.36,523.514 1329.53,513.779 1332.7,504.125 1335.87,494.557 1339.04,485.077 1342.21,475.69 1345.38,466.399 \n",
       "  1348.55,457.207 1351.72,448.117 1354.89,439.132 1358.06,430.256 1361.23,421.492 1364.4,412.842 1367.57,404.309 1370.74,395.897 1373.91,387.608 1377.07,379.445 \n",
       "  1380.24,371.411 1383.41,363.508 1386.58,355.738 1389.75,348.105 1392.92,340.611 1396.09,333.258 1399.26,326.049 1402.43,318.985 1405.6,312.07 1408.77,305.305 \n",
       "  1411.94,298.692 1415.11,292.233 1418.28,285.931 1421.45,279.787 1424.62,273.803 1427.79,267.981 1430.96,262.323 1434.12,256.83 1437.29,251.505 1440.46,246.348 \n",
       "  1443.63,241.362 1446.8,236.548 1449.97,231.907 1453.14,227.441 1456.31,223.151 1459.48,219.038 1462.65,215.105 1465.82,211.352 1468.99,207.779 1472.16,204.39 \n",
       "  1475.33,201.184 1478.5,198.163 1481.67,195.327 1484.84,192.678 1488.01,190.217 1491.17,187.945 1494.34,185.862 1497.51,183.97 1500.68,182.269 1503.85,180.759 \n",
       "  1507.02,179.443 1510.19,178.32 1513.36,177.391 1516.53,176.657 1519.7,176.119 1522.87,175.776 1526.04,175.629 1529.21,175.68 1532.38,175.928 1535.55,176.373 \n",
       "  1538.72,177.017 1541.89,177.859 1545.06,178.9 1548.22,180.139 1551.39,181.578 1554.56,183.216 1557.73,185.054 1560.9,187.091 1564.07,189.327 1567.24,191.763 \n",
       "  1570.41,194.398 1573.58,197.232 1576.75,200.266 1579.92,203.498 1583.09,206.929 1586.26,210.558 1589.43,214.384 1592.6,218.408 1595.77,222.629 1598.94,227.046 \n",
       "  1602.11,231.658 1605.27,236.466 1608.44,241.467 1611.61,246.662 1614.78,252.049 1617.95,257.627 1621.12,263.396 1624.29,269.353 1627.46,275.499 1630.63,281.831 \n",
       "  1633.8,288.348 1636.97,295.049 1640.14,301.933 1643.31,308.996 1646.48,316.239 1649.65,323.659 1652.82,331.254 1655.99,339.022 1659.16,346.961 1662.32,355.069 \n",
       "  1665.49,363.344 1668.66,371.783 1671.83,380.384 1675,389.144 1678.17,398.061 1681.34,407.131 1684.51,416.353 1687.68,425.722 1690.85,435.236 1694.02,444.892 \n",
       "  1697.19,454.687 1700.36,464.616 1703.53,474.677 1706.7,484.867 1709.87,495.181 1713.04,505.615 1716.21,516.166 1719.37,526.83 1722.54,537.603 1725.71,548.481 \n",
       "  1728.88,559.46 1732.05,570.534 1735.22,581.7 1738.39,592.954 1741.56,604.291 1744.73,615.705 1747.9,627.194 1751.07,638.751 1754.24,650.372 1757.41,662.053 \n",
       "  1760.58,673.787 1763.75,685.571 1766.92,697.399 1770.09,709.266 1773.26,721.168 1776.42,733.098 1779.59,745.052 1782.76,757.024 1785.93,769.01 1789.1,781.004 \n",
       "  1792.27,793.001 1795.44,804.995 1798.61,816.982 1801.78,828.956 1804.95,840.912 1808.12,852.844 1811.29,864.748 1814.46,876.618 1817.63,888.449 1820.8,900.237 \n",
       "  1823.97,911.975 1827.14,923.659 1830.31,935.284 1833.47,946.845 1836.64,958.337 1839.81,969.756 1842.98,981.095 1846.15,992.352 1849.32,1003.52 1852.49,1014.6 \n",
       "  1855.66,1025.57 1858.83,1036.45 1862,1047.22 1865.17,1057.88 1868.34,1068.43 1871.51,1078.86 1874.68,1089.17 1877.85,1099.35 1881.02,1109.4 1884.19,1119.31 \n",
       "  1887.36,1129.09 1890.52,1138.72 1893.69,1148.22 1896.86,1157.56 1900.03,1166.75 1903.2,1175.79 1906.37,1184.67 1909.54,1193.38 1912.71,1201.94 1915.88,1210.33 \n",
       "  1919.05,1218.54 1922.22,1226.59 1925.39,1234.46 1928.56,1242.15 1931.73,1249.67 1934.9,1257 1938.07,1264.15 1941.24,1271.11 1944.4,1277.88 1947.57,1284.46 \n",
       "  1950.74,1290.85 1953.91,1297.05 1957.08,1303.04 1960.25,1308.85 1963.42,1314.45 1966.59,1319.85 1969.76,1325.05 1972.93,1330.04 1976.1,1334.83 1979.27,1339.42 \n",
       "  1982.44,1343.79 1985.61,1347.96 1988.78,1351.92 1991.95,1355.66 1995.12,1359.2 1998.29,1362.52 2001.45,1365.63 2004.62,1368.52 2007.79,1371.2 2010.96,1373.67 \n",
       "  2014.13,1375.91 2017.3,1377.94 2020.47,1379.76 2023.64,1381.35 2026.81,1382.73 2029.98,1383.89 2033.15,1384.83 2036.32,1385.55 2039.49,1386.05 2042.66,1386.33 \n",
       "  2045.83,1386.4 2049,1386.24 2052.17,1385.86 2055.34,1385.27 2058.5,1384.45 2061.67,1383.41 2064.84,1382.16 2068.01,1380.69 2071.18,1379 2074.35,1377.09 \n",
       "  2077.52,1374.96 2080.69,1372.62 2083.86,1370.05 2087.03,1367.28 2090.2,1364.28 2093.37,1361.08 2096.54,1357.65 2099.71,1354.02 2102.88,1350.17 2106.05,1346.11 \n",
       "  2109.22,1341.84 2112.39,1337.36 2115.55,1332.68 2118.72,1327.78 2121.89,1322.68 2125.06,1317.38 2128.23,1311.87 2131.4,1306.17 2134.57,1300.26 2137.74,1294.15 \n",
       "  2140.91,1287.85 2144.08,1281.35 2147.25,1274.66 2150.42,1267.78 2153.59,1260.71 2156.76,1253.46 2159.93,1246.02 2163.1,1238.4 2166.27,1230.6 2169.44,1222.62 \n",
       "  2172.6,1214.46 2175.77,1206.14 2178.94,1197.65 2182.11,1188.99 2185.28,1180.17 2188.45,1171.19 2191.62,1162.05 2194.79,1152.76 2197.96,1143.31 2201.13,1133.73 \n",
       "  2204.3,1124 2207.47,1114.13 2210.64,1104.12 2213.81,1093.98 2216.98,1083.72 2220.15,1073.33 2223.32,1062.82 2226.49,1052.2 2229.65,1041.46 2232.82,1030.62 \n",
       "  2235.99,1019.68 2239.16,1008.64 2242.33,997.504 2245.5,986.283 2248.67,974.978 2251.84,963.595 2255.01,952.138 2258.18,940.613 2261.35,929.024 2264.52,917.377 \n",
       "  2267.69,905.677 2270.86,893.928 2274.03,882.137 2277.2,870.309 2280.37,858.449 2283.54,846.561 2286.7,834.653 2289.87,822.728 2293.04,810.793 \n",
       "  \"/>\n",
       "<polyline clip-path=\"url(#clip682)\" style=\"stroke:#ac8d18; stroke-width:4; stroke-opacity:1; fill:none\" points=\"\n",
       "  302.634,237.509 305.803,232.29 308.973,227.255 312.142,222.404 315.312,217.738 318.481,213.256 321.651,208.958 324.82,204.844 327.99,200.915 331.159,197.169 \n",
       "  334.328,193.606 337.498,190.227 340.667,187.031 343.837,184.018 347.006,181.187 350.176,178.537 353.345,176.069 356.515,173.782 359.684,171.676 362.853,169.749 \n",
       "  366.023,168.002 369.192,166.433 372.362,165.043 375.531,163.831 378.701,162.796 381.87,161.938 385.039,161.255 388.209,160.748 391.378,160.415 394.548,160.256 \n",
       "  397.717,160.271 400.887,160.458 404.056,160.817 407.226,161.348 410.395,162.048 413.564,162.919 416.734,163.959 419.903,165.167 423.073,166.543 426.242,168.086 \n",
       "  429.412,169.794 432.581,171.669 435.751,173.707 438.92,175.91 442.089,178.276 445.259,180.804 448.428,183.493 451.598,186.343 454.767,189.353 457.937,192.522 \n",
       "  461.106,195.849 464.276,199.334 467.445,202.974 470.614,206.771 473.784,210.722 476.953,214.827 480.123,219.085 483.292,223.495 486.462,228.055 489.631,232.766 \n",
       "  492.801,237.626 495.97,242.633 499.139,247.788 502.309,253.088 505.478,258.533 508.648,264.122 511.817,269.853 514.987,275.726 518.156,281.739 521.325,287.89 \n",
       "  524.495,294.179 527.664,300.604 530.834,307.165 534.003,313.858 537.173,320.684 540.342,327.641 543.512,334.726 546.681,341.94 549.85,349.279 553.02,356.743 \n",
       "  556.189,364.329 559.359,372.036 562.528,379.863 565.698,387.807 568.867,395.866 572.037,404.039 575.206,412.324 578.375,420.718 581.545,429.22 584.714,437.827 \n",
       "  587.884,446.538 591.053,455.349 594.223,464.259 597.392,473.266 600.562,482.366 603.731,491.558 606.9,500.839 610.07,510.207 613.239,519.658 616.409,529.191 \n",
       "  619.578,538.802 622.748,548.488 625.917,558.248 629.087,568.078 632.256,577.974 635.425,587.935 638.595,597.957 641.764,608.037 644.934,618.173 648.103,628.36 \n",
       "  651.273,638.595 654.442,648.876 657.612,659.199 660.781,669.562 663.95,679.959 667.12,690.389 670.289,700.848 673.459,711.332 676.628,721.838 679.798,732.363 \n",
       "  682.967,742.902 686.136,753.453 689.306,764.012 692.475,774.576 695.645,785.14 698.814,795.702 701.984,806.258 705.153,816.803 708.323,827.336 711.492,837.852 \n",
       "  714.661,848.347 717.831,858.818 721,869.262 724.17,879.674 727.339,890.052 730.509,900.392 733.678,910.691 736.848,920.944 740.017,931.149 743.186,941.302 \n",
       "  746.356,951.4 749.525,961.44 752.695,971.417 755.864,981.329 759.034,991.173 762.203,1000.95 765.373,1010.64 768.542,1020.26 771.711,1029.8 774.881,1039.25 \n",
       "  778.05,1048.62 781.22,1057.9 784.389,1067.08 787.559,1076.17 790.728,1085.15 793.898,1094.04 797.067,1102.82 800.236,1111.5 803.406,1120.06 806.575,1128.51 \n",
       "  809.745,1136.85 812.914,1145.07 816.084,1153.17 819.253,1161.14 822.422,1169 825.592,1176.72 828.761,1184.32 831.931,1191.78 835.1,1199.11 838.27,1206.3 \n",
       "  841.439,1213.36 844.609,1220.27 847.778,1227.05 850.947,1233.67 854.117,1240.16 857.286,1246.49 860.456,1252.68 863.625,1258.71 866.795,1264.59 869.964,1270.31 \n",
       "  873.134,1275.88 876.303,1281.29 879.472,1286.54 882.642,1291.63 885.811,1296.55 888.981,1301.31 892.15,1305.91 895.32,1310.33 898.489,1314.59 901.659,1318.68 \n",
       "  904.828,1322.6 907.997,1326.34 911.167,1329.91 914.336,1333.3 917.506,1336.52 920.675,1339.56 923.845,1342.42 927.014,1345.1 930.184,1347.61 933.353,1349.93 \n",
       "  936.522,1352.06 939.692,1354.01 942.861,1355.78 946.031,1357.36 949.2,1358.76 952.37,1359.97 955.539,1360.99 958.708,1361.82 961.878,1362.46 965.047,1362.91 \n",
       "  968.217,1363.17 971.386,1363.24 974.556,1363.11 977.725,1362.8 980.895,1362.29 984.064,1361.58 987.233,1360.68 990.403,1359.59 993.572,1358.3 996.742,1356.81 \n",
       "  999.911,1355.13 1003.08,1353.25 1006.25,1351.18 1009.42,1348.91 1012.59,1346.44 1015.76,1343.77 1018.93,1340.91 1022.1,1337.86 1025.27,1334.6 1028.44,1331.15 \n",
       "  1031.61,1327.5 1034.78,1323.66 1037.94,1319.62 1041.11,1315.38 1044.28,1310.95 1047.45,1306.33 1050.62,1301.51 1053.79,1296.5 1056.96,1291.29 1060.13,1285.9 \n",
       "  1063.3,1280.31 1066.47,1274.53 1069.64,1268.57 1072.81,1262.41 1075.98,1256.07 1079.15,1249.55 1082.32,1242.84 1085.49,1235.95 1088.66,1228.88 1091.83,1221.62 \n",
       "  1094.99,1214.2 1098.16,1206.59 1101.33,1198.82 1104.5,1190.87 1107.67,1182.75 1110.84,1174.46 1114.01,1166.01 1117.18,1157.4 1120.35,1148.63 1123.52,1139.7 \n",
       "  1126.69,1130.62 1129.86,1121.39 1133.03,1112 1136.2,1102.48 1139.37,1092.81 1142.54,1083 1145.71,1073.06 1148.88,1062.98 1152.04,1052.78 1155.21,1042.46 \n",
       "  1158.38,1032.01 1161.55,1021.45 1164.72,1010.77 1167.89,999.988 1171.06,989.101 1174.23,978.114 1177.4,967.032 1180.57,955.859 1183.74,944.601 1186.91,933.261 \n",
       "  1190.08,921.844 1193.25,910.356 1196.42,898.802 1199.59,887.185 1202.76,875.511 1205.92,863.786 1209.09,852.015 1212.26,840.202 1215.43,828.353 1218.6,816.473 \n",
       "  1221.77,804.568 1224.94,792.643 1228.11,780.703 1231.28,768.754 1234.45,756.801 1237.62,744.85 1240.79,732.906 1243.96,720.974 1247.13,709.06 1250.3,697.169 \n",
       "  1253.47,685.307 1256.64,673.48 1259.81,661.691 1262.97,649.948 1266.14,638.254 1269.31,626.616 1272.48,615.039 1275.65,603.527 1278.82,592.086 1281.99,580.721 \n",
       "  1285.16,569.436 1288.33,558.238 1291.5,547.13 1294.67,536.117 1297.84,525.205 1301.01,514.397 1304.18,503.699 1307.35,493.115 1310.52,482.648 1313.69,472.304 \n",
       "  1316.86,462.087 1320.02,452 1323.19,442.048 1326.36,432.235 1329.53,422.564 1332.7,413.04 1335.87,403.665 1339.04,394.444 1342.21,385.379 1345.38,376.475 \n",
       "  1348.55,367.733 1351.72,359.158 1354.89,350.753 1358.06,342.52 1361.23,334.462 1364.4,326.582 1367.57,318.882 1370.74,311.365 1373.91,304.034 1377.07,296.89 \n",
       "  1380.24,289.936 1383.41,283.175 1386.58,276.607 1389.75,270.236 1392.92,264.062 1396.09,258.088 1399.26,252.315 1402.43,246.746 1405.6,241.38 1408.77,236.22 \n",
       "  1411.94,231.268 1415.11,226.524 1418.28,221.989 1421.45,217.665 1424.62,213.552 1427.79,209.652 1430.96,205.965 1434.12,202.493 1437.29,199.235 1440.46,196.193 \n",
       "  1443.63,193.366 1446.8,190.756 1449.97,188.363 1453.14,186.188 1456.31,184.229 1459.48,182.489 1462.65,180.966 1465.82,179.661 1468.99,178.575 1472.16,177.706 \n",
       "  1475.33,177.055 1478.5,176.621 1481.67,176.405 1484.84,176.406 1488.01,176.624 1491.17,177.058 1494.34,177.708 1497.51,178.573 1500.68,179.653 1503.85,180.947 \n",
       "  1507.02,182.454 1510.19,184.173 1513.36,186.105 1516.53,188.247 1519.7,190.599 1522.87,193.159 1526.04,195.928 1529.21,198.902 1532.38,202.083 1535.55,205.467 \n",
       "  1538.72,209.053 1541.89,212.841 1545.06,216.829 1548.22,221.015 1551.39,225.397 1554.56,229.975 1557.73,234.745 1560.9,239.707 1564.07,244.858 1567.24,250.197 \n",
       "  1570.41,255.722 1573.58,261.429 1576.75,267.318 1579.92,273.386 1583.09,279.631 1586.26,286.05 1589.43,292.64 1592.6,299.4 1595.77,306.327 1598.94,313.417 \n",
       "  1602.11,320.669 1605.27,328.079 1608.44,335.645 1611.61,343.363 1614.78,351.23 1617.95,359.244 1621.12,367.401 1624.29,375.697 1627.46,384.13 1630.63,392.696 \n",
       "  1633.8,401.391 1636.97,410.212 1640.14,419.155 1643.31,428.217 1646.48,437.393 1649.65,446.68 1652.82,456.074 1655.99,465.571 1659.16,475.167 1662.32,484.857 \n",
       "  1665.49,494.638 1668.66,504.506 1671.83,514.455 1675,524.482 1678.17,534.582 1681.34,544.751 1684.51,554.985 1687.68,565.278 1690.85,575.627 1694.02,586.026 \n",
       "  1697.19,596.472 1700.36,606.959 1703.53,617.482 1706.7,628.038 1709.87,638.622 1713.04,649.228 1716.21,659.852 1719.37,670.49 1722.54,681.136 1725.71,691.786 \n",
       "  1728.88,702.434 1732.05,713.078 1735.22,723.711 1738.39,734.329 1741.56,744.928 1744.73,755.502 1747.9,766.048 1751.07,776.56 1754.24,787.035 1757.41,797.467 \n",
       "  1760.58,807.852 1763.75,818.186 1766.92,828.465 1770.09,838.685 1773.26,848.84 1776.42,858.927 1779.59,868.942 1782.76,878.882 1785.93,888.741 1789.1,898.516 \n",
       "  1792.27,908.203 1795.44,917.799 1798.61,927.3 1801.78,936.703 1804.95,946.004 1808.12,955.199 1811.29,964.285 1814.46,973.26 1817.63,982.12 1820.8,990.862 \n",
       "  1823.97,999.483 1827.14,1007.98 1830.31,1016.35 1833.47,1024.59 1836.64,1032.7 1839.81,1040.68 1842.98,1048.52 1846.15,1056.22 1849.32,1063.78 1852.49,1071.2 \n",
       "  1855.66,1078.47 1858.83,1085.6 1862,1092.57 1865.17,1099.4 1868.34,1106.08 1871.51,1112.6 1874.68,1118.97 1877.85,1125.18 1881.02,1131.23 1884.19,1137.13 \n",
       "  1887.36,1142.86 1890.52,1148.44 1893.69,1153.85 1896.86,1159.11 1900.03,1164.19 1903.2,1169.12 1906.37,1173.88 1909.54,1178.48 1912.71,1182.91 1915.88,1187.17 \n",
       "  1919.05,1191.27 1922.22,1195.2 1925.39,1198.97 1928.56,1202.57 1931.73,1206 1934.9,1209.26 1938.07,1212.36 1941.24,1215.3 1944.4,1218.06 1947.57,1220.66 \n",
       "  1950.74,1223.1 1953.91,1225.36 1957.08,1227.47 1960.25,1229.4 1963.42,1231.18 1966.59,1232.79 1969.76,1234.23 1972.93,1235.52 1976.1,1236.64 1979.27,1237.6 \n",
       "  1982.44,1238.4 1985.61,1239.04 1988.78,1239.52 1991.95,1239.84 1995.12,1240 1998.29,1240.01 2001.45,1239.86 2004.62,1239.56 2007.79,1239.1 2010.96,1238.49 \n",
       "  2014.13,1237.73 2017.3,1236.82 2020.47,1235.76 2023.64,1234.54 2026.81,1233.19 2029.98,1231.68 2033.15,1230.03 2036.32,1228.24 2039.49,1226.3 2042.66,1224.22 \n",
       "  2045.83,1222 2049,1219.65 2052.17,1217.15 2055.34,1214.52 2058.5,1211.76 2061.67,1208.86 2064.84,1205.82 2068.01,1202.66 2071.18,1199.37 2074.35,1195.95 \n",
       "  2077.52,1192.4 2080.69,1188.73 2083.86,1184.94 2087.03,1181.02 2090.2,1176.99 2093.37,1172.83 2096.54,1168.56 2099.71,1164.17 2102.88,1159.67 2106.05,1155.05 \n",
       "  2109.22,1150.33 2112.39,1145.49 2115.55,1140.55 2118.72,1135.51 2121.89,1130.36 2125.06,1125.1 2128.23,1119.75 2131.4,1114.3 2134.57,1108.75 2137.74,1103.11 \n",
       "  2140.91,1097.37 2144.08,1091.54 2147.25,1085.63 2150.42,1079.62 2153.59,1073.54 2156.76,1067.36 2159.93,1061.11 2163.1,1054.78 2166.27,1048.37 2169.44,1041.88 \n",
       "  2172.6,1035.32 2175.77,1028.69 2178.94,1021.99 2182.11,1015.22 2185.28,1008.39 2188.45,1001.49 2191.62,994.532 2194.79,987.517 2197.96,980.444 2201.13,973.317 \n",
       "  2204.3,966.138 2207.47,958.909 2210.64,951.632 2213.81,944.309 2216.98,936.943 2220.15,929.536 2223.32,922.09 2226.49,914.608 2229.65,907.091 2232.82,899.542 \n",
       "  2235.99,891.963 2239.16,884.357 2242.33,876.726 2245.5,869.072 2248.67,861.398 2251.84,853.705 2255.01,845.997 2258.18,838.275 2261.35,830.542 2264.52,822.8 \n",
       "  2267.69,815.051 2270.86,807.298 2274.03,799.544 2277.2,791.789 2280.37,784.038 2283.54,776.291 2286.7,768.552 2289.87,760.822 2293.04,753.105 \n",
       "  \"/>\n",
       "<path clip-path=\"url(#clip680)\" d=\"\n",
       "M1806.85 529.676 L2282.43 529.676 L2282.43 166.796 L1806.85 166.796  Z\n",
       "  \" fill=\"#ffffff\" fill-rule=\"evenodd\" fill-opacity=\"1\"/>\n",
       "<polyline clip-path=\"url(#clip680)\" style=\"stroke:#000000; stroke-width:4; stroke-opacity:1; fill:none\" points=\"\n",
       "  1806.85,529.676 2282.43,529.676 2282.43,166.796 1806.85,166.796 1806.85,529.676 \n",
       "  \"/>\n",
       "<polyline clip-path=\"url(#clip680)\" style=\"stroke:#009af9; stroke-width:4; stroke-opacity:1; fill:none\" points=\"\n",
       "  1830.29,227.276 1970.94,227.276 \n",
       "  \"/>\n",
       "<path clip-path=\"url(#clip680)\" d=\"M 0 0 M2006.28 221.616 Q2002.86 221.616 2000.87 224.301 Q1998.88 226.963 1998.88 231.616 Q1998.88 236.269 2000.85 238.954 Q2002.84 241.616 2006.28 241.616 Q2009.69 241.616 2011.68 238.931 Q2013.67 236.246 2013.67 231.616 Q2013.67 227.01 2011.68 224.324 Q2009.69 221.616 2006.28 221.616 M2006.28 218.005 Q2011.84 218.005 2015.01 221.616 Q2018.18 225.227 2018.18 231.616 Q2018.18 237.982 2015.01 241.616 Q2011.84 245.227 2006.28 245.227 Q2000.71 245.227 1997.53 241.616 Q1994.39 237.982 1994.39 231.616 Q1994.39 225.227 1997.53 221.616 Q2000.71 218.005 2006.28 218.005 Z\" fill=\"#000000\" fill-rule=\"evenodd\" fill-opacity=\"1\" /><path clip-path=\"url(#clip680)\" d=\"M 0 0 M2042.84 223.607 Q2044.43 220.736 2046.66 219.371 Q2048.88 218.005 2051.89 218.005 Q2055.94 218.005 2058.14 220.852 Q2060.34 223.676 2060.34 228.908 L2060.34 244.556 L2056.05 244.556 L2056.05 229.047 Q2056.05 225.32 2054.73 223.514 Q2053.41 221.709 2050.71 221.709 Q2047.4 221.709 2045.47 223.908 Q2043.55 226.107 2043.55 229.903 L2043.55 244.556 L2039.27 244.556 L2039.27 229.047 Q2039.27 225.297 2037.95 223.514 Q2036.63 221.709 2033.88 221.709 Q2030.61 221.709 2028.69 223.931 Q2026.77 226.13 2026.77 229.903 L2026.77 244.556 L2022.49 244.556 L2022.49 218.63 L2026.77 218.63 L2026.77 222.658 Q2028.23 220.273 2030.27 219.139 Q2032.3 218.005 2035.1 218.005 Q2037.93 218.005 2039.9 219.44 Q2041.89 220.875 2042.84 223.607 Z\" fill=\"#000000\" fill-rule=\"evenodd\" fill-opacity=\"1\" /><path clip-path=\"url(#clip680)\" d=\"M 0 0 M2086.98 230.528 L2086.98 232.611 L2067.4 232.611 Q2067.67 237.009 2070.03 239.324 Q2072.42 241.616 2076.65 241.616 Q2079.11 241.616 2081.4 241.014 Q2083.72 240.412 2085.98 239.209 L2085.98 243.236 Q2083.69 244.208 2081.28 244.718 Q2078.88 245.227 2076.4 245.227 Q2070.2 245.227 2066.56 241.616 Q2062.95 238.005 2062.95 231.847 Q2062.95 225.482 2066.38 221.755 Q2069.83 218.005 2075.66 218.005 Q2080.89 218.005 2083.92 221.385 Q2086.98 224.741 2086.98 230.528 M2082.72 229.278 Q2082.67 225.783 2080.75 223.699 Q2078.85 221.616 2075.71 221.616 Q2072.14 221.616 2069.99 223.63 Q2067.86 225.644 2067.53 229.301 L2082.72 229.278 Z\" fill=\"#000000\" fill-rule=\"evenodd\" fill-opacity=\"1\" /><path clip-path=\"url(#clip680)\" d=\"M 0 0 M2108.51 231.292 Q2108.51 226.662 2106.59 224.116 Q2104.69 221.57 2101.24 221.57 Q2097.81 221.57 2095.89 224.116 Q2093.99 226.662 2093.99 231.292 Q2093.99 235.898 2095.89 238.445 Q2097.81 240.991 2101.24 240.991 Q2104.69 240.991 2106.59 238.445 Q2108.51 235.898 2108.51 231.292 M2112.77 241.338 Q2112.77 247.958 2109.83 251.176 Q2106.89 254.417 2100.82 254.417 Q2098.58 254.417 2096.59 254.07 Q2094.59 253.745 2092.72 253.051 L2092.72 248.908 Q2094.59 249.926 2096.42 250.412 Q2098.25 250.898 2100.15 250.898 Q2104.34 250.898 2106.42 248.699 Q2108.51 246.523 2108.51 242.102 L2108.51 239.996 Q2107.19 242.287 2105.13 243.421 Q2103.07 244.556 2100.2 244.556 Q2095.43 244.556 2092.51 240.921 Q2089.59 237.287 2089.59 231.292 Q2089.59 225.273 2092.51 221.639 Q2095.43 218.005 2100.2 218.005 Q2103.07 218.005 2105.13 219.139 Q2107.19 220.273 2108.51 222.565 L2108.51 218.63 L2112.77 218.63 L2112.77 241.338 Z\" fill=\"#000000\" fill-rule=\"evenodd\" fill-opacity=\"1\" /><path clip-path=\"url(#clip680)\" d=\"M 0 0 M2129.02 231.523 Q2123.85 231.523 2121.86 232.704 Q2119.87 233.884 2119.87 236.732 Q2119.87 239 2121.35 240.343 Q2122.86 241.662 2125.43 241.662 Q2128.97 241.662 2131.1 239.162 Q2133.25 236.639 2133.25 232.472 L2133.25 231.523 L2129.02 231.523 M2137.51 229.764 L2137.51 244.556 L2133.25 244.556 L2133.25 240.621 Q2131.79 242.982 2129.62 244.116 Q2127.44 245.227 2124.29 245.227 Q2120.31 245.227 2117.95 243.005 Q2115.61 240.759 2115.61 237.009 Q2115.61 232.634 2118.53 230.412 Q2121.47 228.19 2127.28 228.19 L2133.25 228.19 L2133.25 227.773 Q2133.25 224.834 2131.31 223.236 Q2129.39 221.616 2125.89 221.616 Q2123.67 221.616 2121.56 222.148 Q2119.46 222.681 2117.51 223.746 L2117.51 219.81 Q2119.85 218.908 2122.05 218.468 Q2124.25 218.005 2126.33 218.005 Q2131.96 218.005 2134.73 220.922 Q2137.51 223.838 2137.51 229.764 Z\" fill=\"#000000\" fill-rule=\"evenodd\" fill-opacity=\"1\" /><path clip-path=\"url(#clip680)\" d=\"M 0 0 M2142.53 223.028 L2172.21 223.028 L2172.21 226.917 L2142.53 226.917 L2142.53 223.028 M2142.53 232.472 L2172.21 232.472 L2172.21 236.408 L2142.53 236.408 L2142.53 232.472 Z\" fill=\"#000000\" fill-rule=\"evenodd\" fill-opacity=\"1\" /><path clip-path=\"url(#clip680)\" d=\"M 0 0 M2178.09 240.621 L2185.73 240.621 L2185.73 214.255 L2177.42 215.922 L2177.42 211.662 L2185.68 209.996 L2190.36 209.996 L2190.36 240.621 L2198 240.621 L2198 244.556 L2178.09 244.556 L2178.09 240.621 Z\" fill=\"#000000\" fill-rule=\"evenodd\" fill-opacity=\"1\" /><path clip-path=\"url(#clip680)\" d=\"M 0 0 M2203.07 238.676 L2207.95 238.676 L2207.95 244.556 L2203.07 244.556 L2203.07 238.676 Z\" fill=\"#000000\" fill-rule=\"evenodd\" fill-opacity=\"1\" /><path clip-path=\"url(#clip680)\" d=\"M 0 0 M2223.02 213.074 Q2219.41 213.074 2217.58 216.639 Q2215.77 220.181 2215.77 227.31 Q2215.77 234.417 2217.58 237.982 Q2219.41 241.523 2223.02 241.523 Q2226.65 241.523 2228.46 237.982 Q2230.29 234.417 2230.29 227.31 Q2230.29 220.181 2228.46 216.639 Q2226.65 213.074 2223.02 213.074 M2223.02 209.371 Q2228.83 209.371 2231.89 213.977 Q2234.96 218.56 2234.96 227.31 Q2234.96 236.037 2231.89 240.644 Q2228.83 245.227 2223.02 245.227 Q2217.21 245.227 2214.13 240.644 Q2211.08 236.037 2211.08 227.31 Q2211.08 218.56 2214.13 213.977 Q2217.21 209.371 2223.02 209.371 Z\" fill=\"#000000\" fill-rule=\"evenodd\" fill-opacity=\"1\" /><polyline clip-path=\"url(#clip680)\" style=\"stroke:#e26f46; stroke-width:4; stroke-opacity:1; fill:none\" points=\"\n",
       "  1830.29,287.756 1970.94,287.756 \n",
       "  \"/>\n",
       "<path clip-path=\"url(#clip680)\" d=\"M 0 0 M2006.28 282.096 Q2002.86 282.096 2000.87 284.781 Q1998.88 287.443 1998.88 292.096 Q1998.88 296.749 2000.85 299.434 Q2002.84 302.096 2006.28 302.096 Q2009.69 302.096 2011.68 299.411 Q2013.67 296.726 2013.67 292.096 Q2013.67 287.49 2011.68 284.804 Q2009.69 282.096 2006.28 282.096 M2006.28 278.485 Q2011.84 278.485 2015.01 282.096 Q2018.18 285.707 2018.18 292.096 Q2018.18 298.462 2015.01 302.096 Q2011.84 305.707 2006.28 305.707 Q2000.71 305.707 1997.53 302.096 Q1994.39 298.462 1994.39 292.096 Q1994.39 285.707 1997.53 282.096 Q2000.71 278.485 2006.28 278.485 Z\" fill=\"#000000\" fill-rule=\"evenodd\" fill-opacity=\"1\" /><path clip-path=\"url(#clip680)\" d=\"M 0 0 M2042.84 284.087 Q2044.43 281.216 2046.66 279.851 Q2048.88 278.485 2051.89 278.485 Q2055.94 278.485 2058.14 281.332 Q2060.34 284.156 2060.34 289.388 L2060.34 305.036 L2056.05 305.036 L2056.05 289.527 Q2056.05 285.8 2054.73 283.994 Q2053.41 282.189 2050.71 282.189 Q2047.4 282.189 2045.47 284.388 Q2043.55 286.587 2043.55 290.383 L2043.55 305.036 L2039.27 305.036 L2039.27 289.527 Q2039.27 285.777 2037.95 283.994 Q2036.63 282.189 2033.88 282.189 Q2030.61 282.189 2028.69 284.411 Q2026.77 286.61 2026.77 290.383 L2026.77 305.036 L2022.49 305.036 L2022.49 279.11 L2026.77 279.11 L2026.77 283.138 Q2028.23 280.753 2030.27 279.619 Q2032.3 278.485 2035.1 278.485 Q2037.93 278.485 2039.9 279.92 Q2041.89 281.355 2042.84 284.087 Z\" fill=\"#000000\" fill-rule=\"evenodd\" fill-opacity=\"1\" /><path clip-path=\"url(#clip680)\" d=\"M 0 0 M2086.98 291.008 L2086.98 293.091 L2067.4 293.091 Q2067.67 297.489 2070.03 299.804 Q2072.42 302.096 2076.65 302.096 Q2079.11 302.096 2081.4 301.494 Q2083.72 300.892 2085.98 299.689 L2085.98 303.716 Q2083.69 304.688 2081.28 305.198 Q2078.88 305.707 2076.4 305.707 Q2070.2 305.707 2066.56 302.096 Q2062.95 298.485 2062.95 292.327 Q2062.95 285.962 2066.38 282.235 Q2069.83 278.485 2075.66 278.485 Q2080.89 278.485 2083.92 281.865 Q2086.98 285.221 2086.98 291.008 M2082.72 289.758 Q2082.67 286.263 2080.75 284.179 Q2078.85 282.096 2075.71 282.096 Q2072.14 282.096 2069.99 284.11 Q2067.86 286.124 2067.53 289.781 L2082.72 289.758 Z\" fill=\"#000000\" fill-rule=\"evenodd\" fill-opacity=\"1\" /><path clip-path=\"url(#clip680)\" d=\"M 0 0 M2108.51 291.772 Q2108.51 287.142 2106.59 284.596 Q2104.69 282.05 2101.24 282.05 Q2097.81 282.05 2095.89 284.596 Q2093.99 287.142 2093.99 291.772 Q2093.99 296.378 2095.89 298.925 Q2097.81 301.471 2101.24 301.471 Q2104.69 301.471 2106.59 298.925 Q2108.51 296.378 2108.51 291.772 M2112.77 301.818 Q2112.77 308.438 2109.83 311.656 Q2106.89 314.897 2100.82 314.897 Q2098.58 314.897 2096.59 314.55 Q2094.59 314.225 2092.72 313.531 L2092.72 309.388 Q2094.59 310.406 2096.42 310.892 Q2098.25 311.378 2100.15 311.378 Q2104.34 311.378 2106.42 309.179 Q2108.51 307.003 2108.51 302.582 L2108.51 300.476 Q2107.19 302.767 2105.13 303.901 Q2103.07 305.036 2100.2 305.036 Q2095.43 305.036 2092.51 301.401 Q2089.59 297.767 2089.59 291.772 Q2089.59 285.753 2092.51 282.119 Q2095.43 278.485 2100.2 278.485 Q2103.07 278.485 2105.13 279.619 Q2107.19 280.753 2108.51 283.045 L2108.51 279.11 L2112.77 279.11 L2112.77 301.818 Z\" fill=\"#000000\" fill-rule=\"evenodd\" fill-opacity=\"1\" /><path clip-path=\"url(#clip680)\" d=\"M 0 0 M2129.02 292.003 Q2123.85 292.003 2121.86 293.184 Q2119.87 294.364 2119.87 297.212 Q2119.87 299.48 2121.35 300.823 Q2122.86 302.142 2125.43 302.142 Q2128.97 302.142 2131.1 299.642 Q2133.25 297.119 2133.25 292.952 L2133.25 292.003 L2129.02 292.003 M2137.51 290.244 L2137.51 305.036 L2133.25 305.036 L2133.25 301.101 Q2131.79 303.462 2129.62 304.596 Q2127.44 305.707 2124.29 305.707 Q2120.31 305.707 2117.95 303.485 Q2115.61 301.239 2115.61 297.489 Q2115.61 293.114 2118.53 290.892 Q2121.47 288.67 2127.28 288.67 L2133.25 288.67 L2133.25 288.253 Q2133.25 285.314 2131.31 283.716 Q2129.39 282.096 2125.89 282.096 Q2123.67 282.096 2121.56 282.628 Q2119.46 283.161 2117.51 284.226 L2117.51 280.29 Q2119.85 279.388 2122.05 278.948 Q2124.25 278.485 2126.33 278.485 Q2131.96 278.485 2134.73 281.402 Q2137.51 284.318 2137.51 290.244 Z\" fill=\"#000000\" fill-rule=\"evenodd\" fill-opacity=\"1\" /><path clip-path=\"url(#clip680)\" d=\"M 0 0 M2142.53 283.508 L2172.21 283.508 L2172.21 287.397 L2142.53 287.397 L2142.53 283.508 M2142.53 292.952 L2172.21 292.952 L2172.21 296.888 L2142.53 296.888 L2142.53 292.952 Z\" fill=\"#000000\" fill-rule=\"evenodd\" fill-opacity=\"1\" /><path clip-path=\"url(#clip680)\" d=\"M 0 0 M2178.09 301.101 L2185.73 301.101 L2185.73 274.735 L2177.42 276.402 L2177.42 272.142 L2185.68 270.476 L2190.36 270.476 L2190.36 301.101 L2198 301.101 L2198 305.036 L2178.09 305.036 L2178.09 301.101 Z\" fill=\"#000000\" fill-rule=\"evenodd\" fill-opacity=\"1\" /><path clip-path=\"url(#clip680)\" d=\"M 0 0 M2203.07 299.156 L2207.95 299.156 L2207.95 305.036 L2203.07 305.036 L2203.07 299.156 Z\" fill=\"#000000\" fill-rule=\"evenodd\" fill-opacity=\"1\" /><path clip-path=\"url(#clip680)\" d=\"M 0 0 M2213.07 270.476 L2231.42 270.476 L2231.42 274.411 L2217.35 274.411 L2217.35 282.883 Q2218.37 282.536 2219.39 282.374 Q2220.4 282.189 2221.42 282.189 Q2227.21 282.189 2230.59 285.36 Q2233.97 288.531 2233.97 293.948 Q2233.97 299.526 2230.5 302.628 Q2227.02 305.707 2220.71 305.707 Q2218.53 305.707 2216.26 305.337 Q2214.02 304.966 2211.61 304.226 L2211.61 299.526 Q2213.69 300.661 2215.91 301.216 Q2218.14 301.772 2220.61 301.772 Q2224.62 301.772 2226.95 299.665 Q2229.29 297.559 2229.29 293.948 Q2229.29 290.337 2226.95 288.23 Q2224.62 286.124 2220.61 286.124 Q2218.74 286.124 2216.86 286.54 Q2215.01 286.957 2213.07 287.837 L2213.07 270.476 Z\" fill=\"#000000\" fill-rule=\"evenodd\" fill-opacity=\"1\" /><polyline clip-path=\"url(#clip680)\" style=\"stroke:#3da44d; stroke-width:4; stroke-opacity:1; fill:none\" points=\"\n",
       "  1830.29,348.236 1970.94,348.236 \n",
       "  \"/>\n",
       "<path clip-path=\"url(#clip680)\" d=\"M 0 0 M2006.28 342.576 Q2002.86 342.576 2000.87 345.261 Q1998.88 347.923 1998.88 352.576 Q1998.88 357.229 2000.85 359.914 Q2002.84 362.576 2006.28 362.576 Q2009.69 362.576 2011.68 359.891 Q2013.67 357.206 2013.67 352.576 Q2013.67 347.97 2011.68 345.284 Q2009.69 342.576 2006.28 342.576 M2006.28 338.965 Q2011.84 338.965 2015.01 342.576 Q2018.18 346.187 2018.18 352.576 Q2018.18 358.942 2015.01 362.576 Q2011.84 366.187 2006.28 366.187 Q2000.71 366.187 1997.53 362.576 Q1994.39 358.942 1994.39 352.576 Q1994.39 346.187 1997.53 342.576 Q2000.71 338.965 2006.28 338.965 Z\" fill=\"#000000\" fill-rule=\"evenodd\" fill-opacity=\"1\" /><path clip-path=\"url(#clip680)\" d=\"M 0 0 M2042.84 344.567 Q2044.43 341.696 2046.66 340.331 Q2048.88 338.965 2051.89 338.965 Q2055.94 338.965 2058.14 341.812 Q2060.34 344.636 2060.34 349.868 L2060.34 365.516 L2056.05 365.516 L2056.05 350.007 Q2056.05 346.28 2054.73 344.474 Q2053.41 342.669 2050.71 342.669 Q2047.4 342.669 2045.47 344.868 Q2043.55 347.067 2043.55 350.863 L2043.55 365.516 L2039.27 365.516 L2039.27 350.007 Q2039.27 346.257 2037.95 344.474 Q2036.63 342.669 2033.88 342.669 Q2030.61 342.669 2028.69 344.891 Q2026.77 347.09 2026.77 350.863 L2026.77 365.516 L2022.49 365.516 L2022.49 339.59 L2026.77 339.59 L2026.77 343.618 Q2028.23 341.233 2030.27 340.099 Q2032.3 338.965 2035.1 338.965 Q2037.93 338.965 2039.9 340.4 Q2041.89 341.835 2042.84 344.567 Z\" fill=\"#000000\" fill-rule=\"evenodd\" fill-opacity=\"1\" /><path clip-path=\"url(#clip680)\" d=\"M 0 0 M2086.98 351.488 L2086.98 353.571 L2067.4 353.571 Q2067.67 357.969 2070.03 360.284 Q2072.42 362.576 2076.65 362.576 Q2079.11 362.576 2081.4 361.974 Q2083.72 361.372 2085.98 360.169 L2085.98 364.196 Q2083.69 365.168 2081.28 365.678 Q2078.88 366.187 2076.4 366.187 Q2070.2 366.187 2066.56 362.576 Q2062.95 358.965 2062.95 352.807 Q2062.95 346.442 2066.38 342.715 Q2069.83 338.965 2075.66 338.965 Q2080.89 338.965 2083.92 342.345 Q2086.98 345.701 2086.98 351.488 M2082.72 350.238 Q2082.67 346.743 2080.75 344.659 Q2078.85 342.576 2075.71 342.576 Q2072.14 342.576 2069.99 344.59 Q2067.86 346.604 2067.53 350.261 L2082.72 350.238 Z\" fill=\"#000000\" fill-rule=\"evenodd\" fill-opacity=\"1\" /><path clip-path=\"url(#clip680)\" d=\"M 0 0 M2108.51 352.252 Q2108.51 347.622 2106.59 345.076 Q2104.69 342.53 2101.24 342.53 Q2097.81 342.53 2095.89 345.076 Q2093.99 347.622 2093.99 352.252 Q2093.99 356.858 2095.89 359.405 Q2097.81 361.951 2101.24 361.951 Q2104.69 361.951 2106.59 359.405 Q2108.51 356.858 2108.51 352.252 M2112.77 362.298 Q2112.77 368.918 2109.83 372.136 Q2106.89 375.377 2100.82 375.377 Q2098.58 375.377 2096.59 375.03 Q2094.59 374.705 2092.72 374.011 L2092.72 369.868 Q2094.59 370.886 2096.42 371.372 Q2098.25 371.858 2100.15 371.858 Q2104.34 371.858 2106.42 369.659 Q2108.51 367.483 2108.51 363.062 L2108.51 360.956 Q2107.19 363.247 2105.13 364.381 Q2103.07 365.516 2100.2 365.516 Q2095.43 365.516 2092.51 361.881 Q2089.59 358.247 2089.59 352.252 Q2089.59 346.233 2092.51 342.599 Q2095.43 338.965 2100.2 338.965 Q2103.07 338.965 2105.13 340.099 Q2107.19 341.233 2108.51 343.525 L2108.51 339.59 L2112.77 339.59 L2112.77 362.298 Z\" fill=\"#000000\" fill-rule=\"evenodd\" fill-opacity=\"1\" /><path clip-path=\"url(#clip680)\" d=\"M 0 0 M2129.02 352.483 Q2123.85 352.483 2121.86 353.664 Q2119.87 354.844 2119.87 357.692 Q2119.87 359.96 2121.35 361.303 Q2122.86 362.622 2125.43 362.622 Q2128.97 362.622 2131.1 360.122 Q2133.25 357.599 2133.25 353.432 L2133.25 352.483 L2129.02 352.483 M2137.51 350.724 L2137.51 365.516 L2133.25 365.516 L2133.25 361.581 Q2131.79 363.942 2129.62 365.076 Q2127.44 366.187 2124.29 366.187 Q2120.31 366.187 2117.95 363.965 Q2115.61 361.719 2115.61 357.969 Q2115.61 353.594 2118.53 351.372 Q2121.47 349.15 2127.28 349.15 L2133.25 349.15 L2133.25 348.733 Q2133.25 345.794 2131.31 344.196 Q2129.39 342.576 2125.89 342.576 Q2123.67 342.576 2121.56 343.108 Q2119.46 343.641 2117.51 344.706 L2117.51 340.77 Q2119.85 339.868 2122.05 339.428 Q2124.25 338.965 2126.33 338.965 Q2131.96 338.965 2134.73 341.882 Q2137.51 344.798 2137.51 350.724 Z\" fill=\"#000000\" fill-rule=\"evenodd\" fill-opacity=\"1\" /><path clip-path=\"url(#clip680)\" d=\"M 0 0 M2142.53 343.988 L2172.21 343.988 L2172.21 347.877 L2142.53 347.877 L2142.53 343.988 M2142.53 353.432 L2172.21 353.432 L2172.21 357.368 L2142.53 357.368 L2142.53 353.432 Z\" fill=\"#000000\" fill-rule=\"evenodd\" fill-opacity=\"1\" /><path clip-path=\"url(#clip680)\" d=\"M 0 0 M2181.31 361.581 L2197.63 361.581 L2197.63 365.516 L2175.68 365.516 L2175.68 361.581 Q2178.34 358.826 2182.93 354.196 Q2187.53 349.544 2188.71 348.201 Q2190.96 345.678 2191.84 343.942 Q2192.74 342.183 2192.74 340.493 Q2192.74 337.738 2190.8 336.002 Q2188.88 334.266 2185.77 334.266 Q2183.58 334.266 2181.12 335.03 Q2178.69 335.794 2175.91 337.345 L2175.91 332.622 Q2178.74 331.488 2181.19 330.909 Q2183.65 330.331 2185.68 330.331 Q2191.05 330.331 2194.25 333.016 Q2197.44 335.701 2197.44 340.192 Q2197.44 342.321 2196.63 344.243 Q2195.84 346.141 2193.74 348.733 Q2193.16 349.405 2190.06 352.622 Q2186.96 355.817 2181.31 361.581 Z\" fill=\"#000000\" fill-rule=\"evenodd\" fill-opacity=\"1\" /><path clip-path=\"url(#clip680)\" d=\"M 0 0 M2202.7 359.636 L2207.58 359.636 L2207.58 365.516 L2202.7 365.516 L2202.7 359.636 Z\" fill=\"#000000\" fill-rule=\"evenodd\" fill-opacity=\"1\" /><path clip-path=\"url(#clip680)\" d=\"M 0 0 M2222.65 334.034 Q2219.04 334.034 2217.21 337.599 Q2215.4 341.141 2215.4 348.27 Q2215.4 355.377 2217.21 358.942 Q2219.04 362.483 2222.65 362.483 Q2226.28 362.483 2228.09 358.942 Q2229.92 355.377 2229.92 348.27 Q2229.92 341.141 2228.09 337.599 Q2226.28 334.034 2222.65 334.034 M2222.65 330.331 Q2228.46 330.331 2231.52 334.937 Q2234.59 339.52 2234.59 348.27 Q2234.59 356.997 2231.52 361.604 Q2228.46 366.187 2222.65 366.187 Q2216.84 366.187 2213.76 361.604 Q2210.71 356.997 2210.71 348.27 Q2210.71 339.52 2213.76 334.937 Q2216.84 330.331 2222.65 330.331 Z\" fill=\"#000000\" fill-rule=\"evenodd\" fill-opacity=\"1\" /><polyline clip-path=\"url(#clip680)\" style=\"stroke:#c271d2; stroke-width:4; stroke-opacity:1; fill:none\" points=\"\n",
       "  1830.29,408.716 1970.94,408.716 \n",
       "  \"/>\n",
       "<path clip-path=\"url(#clip680)\" d=\"M 0 0 M2006.28 403.056 Q2002.86 403.056 2000.87 405.741 Q1998.88 408.403 1998.88 413.056 Q1998.88 417.709 2000.85 420.394 Q2002.84 423.056 2006.28 423.056 Q2009.69 423.056 2011.68 420.371 Q2013.67 417.686 2013.67 413.056 Q2013.67 408.45 2011.68 405.764 Q2009.69 403.056 2006.28 403.056 M2006.28 399.445 Q2011.84 399.445 2015.01 403.056 Q2018.18 406.667 2018.18 413.056 Q2018.18 419.422 2015.01 423.056 Q2011.84 426.667 2006.28 426.667 Q2000.71 426.667 1997.53 423.056 Q1994.39 419.422 1994.39 413.056 Q1994.39 406.667 1997.53 403.056 Q2000.71 399.445 2006.28 399.445 Z\" fill=\"#000000\" fill-rule=\"evenodd\" fill-opacity=\"1\" /><path clip-path=\"url(#clip680)\" d=\"M 0 0 M2042.84 405.047 Q2044.43 402.176 2046.66 400.811 Q2048.88 399.445 2051.89 399.445 Q2055.94 399.445 2058.14 402.292 Q2060.34 405.116 2060.34 410.348 L2060.34 425.996 L2056.05 425.996 L2056.05 410.487 Q2056.05 406.76 2054.73 404.954 Q2053.41 403.149 2050.71 403.149 Q2047.4 403.149 2045.47 405.348 Q2043.55 407.547 2043.55 411.343 L2043.55 425.996 L2039.27 425.996 L2039.27 410.487 Q2039.27 406.737 2037.95 404.954 Q2036.63 403.149 2033.88 403.149 Q2030.61 403.149 2028.69 405.371 Q2026.77 407.57 2026.77 411.343 L2026.77 425.996 L2022.49 425.996 L2022.49 400.07 L2026.77 400.07 L2026.77 404.098 Q2028.23 401.713 2030.27 400.579 Q2032.3 399.445 2035.1 399.445 Q2037.93 399.445 2039.9 400.88 Q2041.89 402.315 2042.84 405.047 Z\" fill=\"#000000\" fill-rule=\"evenodd\" fill-opacity=\"1\" /><path clip-path=\"url(#clip680)\" d=\"M 0 0 M2086.98 411.968 L2086.98 414.051 L2067.4 414.051 Q2067.67 418.449 2070.03 420.764 Q2072.42 423.056 2076.65 423.056 Q2079.11 423.056 2081.4 422.454 Q2083.72 421.852 2085.98 420.649 L2085.98 424.676 Q2083.69 425.648 2081.28 426.158 Q2078.88 426.667 2076.4 426.667 Q2070.2 426.667 2066.56 423.056 Q2062.95 419.445 2062.95 413.287 Q2062.95 406.922 2066.38 403.195 Q2069.83 399.445 2075.66 399.445 Q2080.89 399.445 2083.92 402.825 Q2086.98 406.181 2086.98 411.968 M2082.72 410.718 Q2082.67 407.223 2080.75 405.139 Q2078.85 403.056 2075.71 403.056 Q2072.14 403.056 2069.99 405.07 Q2067.86 407.084 2067.53 410.741 L2082.72 410.718 Z\" fill=\"#000000\" fill-rule=\"evenodd\" fill-opacity=\"1\" /><path clip-path=\"url(#clip680)\" d=\"M 0 0 M2108.51 412.732 Q2108.51 408.102 2106.59 405.556 Q2104.69 403.01 2101.24 403.01 Q2097.81 403.01 2095.89 405.556 Q2093.99 408.102 2093.99 412.732 Q2093.99 417.338 2095.89 419.885 Q2097.81 422.431 2101.24 422.431 Q2104.69 422.431 2106.59 419.885 Q2108.51 417.338 2108.51 412.732 M2112.77 422.778 Q2112.77 429.398 2109.83 432.616 Q2106.89 435.857 2100.82 435.857 Q2098.58 435.857 2096.59 435.51 Q2094.59 435.185 2092.72 434.491 L2092.72 430.348 Q2094.59 431.366 2096.42 431.852 Q2098.25 432.338 2100.15 432.338 Q2104.34 432.338 2106.42 430.139 Q2108.51 427.963 2108.51 423.542 L2108.51 421.436 Q2107.19 423.727 2105.13 424.861 Q2103.07 425.996 2100.2 425.996 Q2095.43 425.996 2092.51 422.361 Q2089.59 418.727 2089.59 412.732 Q2089.59 406.713 2092.51 403.079 Q2095.43 399.445 2100.2 399.445 Q2103.07 399.445 2105.13 400.579 Q2107.19 401.713 2108.51 404.005 L2108.51 400.07 L2112.77 400.07 L2112.77 422.778 Z\" fill=\"#000000\" fill-rule=\"evenodd\" fill-opacity=\"1\" /><path clip-path=\"url(#clip680)\" d=\"M 0 0 M2129.02 412.963 Q2123.85 412.963 2121.86 414.144 Q2119.87 415.324 2119.87 418.172 Q2119.87 420.44 2121.35 421.783 Q2122.86 423.102 2125.43 423.102 Q2128.97 423.102 2131.1 420.602 Q2133.25 418.079 2133.25 413.912 L2133.25 412.963 L2129.02 412.963 M2137.51 411.204 L2137.51 425.996 L2133.25 425.996 L2133.25 422.061 Q2131.79 424.422 2129.62 425.556 Q2127.44 426.667 2124.29 426.667 Q2120.31 426.667 2117.95 424.445 Q2115.61 422.199 2115.61 418.449 Q2115.61 414.074 2118.53 411.852 Q2121.47 409.63 2127.28 409.63 L2133.25 409.63 L2133.25 409.213 Q2133.25 406.274 2131.31 404.676 Q2129.39 403.056 2125.89 403.056 Q2123.67 403.056 2121.56 403.588 Q2119.46 404.121 2117.51 405.186 L2117.51 401.25 Q2119.85 400.348 2122.05 399.908 Q2124.25 399.445 2126.33 399.445 Q2131.96 399.445 2134.73 402.362 Q2137.51 405.278 2137.51 411.204 Z\" fill=\"#000000\" fill-rule=\"evenodd\" fill-opacity=\"1\" /><path clip-path=\"url(#clip680)\" d=\"M 0 0 M2142.53 404.468 L2172.21 404.468 L2172.21 408.357 L2142.53 408.357 L2142.53 404.468 M2142.53 413.912 L2172.21 413.912 L2172.21 417.848 L2142.53 417.848 L2142.53 413.912 Z\" fill=\"#000000\" fill-rule=\"evenodd\" fill-opacity=\"1\" /><path clip-path=\"url(#clip680)\" d=\"M 0 0 M2181.31 422.061 L2197.63 422.061 L2197.63 425.996 L2175.68 425.996 L2175.68 422.061 Q2178.34 419.306 2182.93 414.676 Q2187.53 410.024 2188.71 408.681 Q2190.96 406.158 2191.84 404.422 Q2192.74 402.663 2192.74 400.973 Q2192.74 398.218 2190.8 396.482 Q2188.88 394.746 2185.77 394.746 Q2183.58 394.746 2181.12 395.51 Q2178.69 396.274 2175.91 397.825 L2175.91 393.102 Q2178.74 391.968 2181.19 391.389 Q2183.65 390.811 2185.68 390.811 Q2191.05 390.811 2194.25 393.496 Q2197.44 396.181 2197.44 400.672 Q2197.44 402.801 2196.63 404.723 Q2195.84 406.621 2193.74 409.213 Q2193.16 409.885 2190.06 413.102 Q2186.96 416.297 2181.31 422.061 Z\" fill=\"#000000\" fill-rule=\"evenodd\" fill-opacity=\"1\" /><path clip-path=\"url(#clip680)\" d=\"M 0 0 M2202.7 420.116 L2207.58 420.116 L2207.58 425.996 L2202.7 425.996 L2202.7 420.116 Z\" fill=\"#000000\" fill-rule=\"evenodd\" fill-opacity=\"1\" /><path clip-path=\"url(#clip680)\" d=\"M 0 0 M2212.7 391.436 L2231.05 391.436 L2231.05 395.371 L2216.98 395.371 L2216.98 403.843 Q2218 403.496 2219.02 403.334 Q2220.03 403.149 2221.05 403.149 Q2226.84 403.149 2230.22 406.32 Q2233.6 409.491 2233.6 414.908 Q2233.6 420.486 2230.13 423.588 Q2226.65 426.667 2220.33 426.667 Q2218.16 426.667 2215.89 426.297 Q2213.64 425.926 2211.24 425.186 L2211.24 420.486 Q2213.32 421.621 2215.54 422.176 Q2217.77 422.732 2220.24 422.732 Q2224.25 422.732 2226.58 420.625 Q2228.92 418.519 2228.92 414.908 Q2228.92 411.297 2226.58 409.19 Q2224.25 407.084 2220.24 407.084 Q2218.37 407.084 2216.49 407.5 Q2214.64 407.917 2212.7 408.797 L2212.7 391.436 Z\" fill=\"#000000\" fill-rule=\"evenodd\" fill-opacity=\"1\" /><polyline clip-path=\"url(#clip680)\" style=\"stroke:#ac8d18; stroke-width:4; stroke-opacity:1; fill:none\" points=\"\n",
       "  1830.29,469.196 1970.94,469.196 \n",
       "  \"/>\n",
       "<path clip-path=\"url(#clip680)\" d=\"M 0 0 M2006.28 463.536 Q2002.86 463.536 2000.87 466.221 Q1998.88 468.883 1998.88 473.536 Q1998.88 478.189 2000.85 480.874 Q2002.84 483.536 2006.28 483.536 Q2009.69 483.536 2011.68 480.851 Q2013.67 478.166 2013.67 473.536 Q2013.67 468.93 2011.68 466.244 Q2009.69 463.536 2006.28 463.536 M2006.28 459.925 Q2011.84 459.925 2015.01 463.536 Q2018.18 467.147 2018.18 473.536 Q2018.18 479.902 2015.01 483.536 Q2011.84 487.147 2006.28 487.147 Q2000.71 487.147 1997.53 483.536 Q1994.39 479.902 1994.39 473.536 Q1994.39 467.147 1997.53 463.536 Q2000.71 459.925 2006.28 459.925 Z\" fill=\"#000000\" fill-rule=\"evenodd\" fill-opacity=\"1\" /><path clip-path=\"url(#clip680)\" d=\"M 0 0 M2042.84 465.527 Q2044.43 462.656 2046.66 461.291 Q2048.88 459.925 2051.89 459.925 Q2055.94 459.925 2058.14 462.772 Q2060.34 465.596 2060.34 470.828 L2060.34 486.476 L2056.05 486.476 L2056.05 470.967 Q2056.05 467.24 2054.73 465.434 Q2053.41 463.629 2050.71 463.629 Q2047.4 463.629 2045.47 465.828 Q2043.55 468.027 2043.55 471.823 L2043.55 486.476 L2039.27 486.476 L2039.27 470.967 Q2039.27 467.217 2037.95 465.434 Q2036.63 463.629 2033.88 463.629 Q2030.61 463.629 2028.69 465.851 Q2026.77 468.05 2026.77 471.823 L2026.77 486.476 L2022.49 486.476 L2022.49 460.55 L2026.77 460.55 L2026.77 464.578 Q2028.23 462.193 2030.27 461.059 Q2032.3 459.925 2035.1 459.925 Q2037.93 459.925 2039.9 461.36 Q2041.89 462.795 2042.84 465.527 Z\" fill=\"#000000\" fill-rule=\"evenodd\" fill-opacity=\"1\" /><path clip-path=\"url(#clip680)\" d=\"M 0 0 M2086.98 472.448 L2086.98 474.531 L2067.4 474.531 Q2067.67 478.929 2070.03 481.244 Q2072.42 483.536 2076.65 483.536 Q2079.11 483.536 2081.4 482.934 Q2083.72 482.332 2085.98 481.129 L2085.98 485.156 Q2083.69 486.128 2081.28 486.638 Q2078.88 487.147 2076.4 487.147 Q2070.2 487.147 2066.56 483.536 Q2062.95 479.925 2062.95 473.767 Q2062.95 467.402 2066.38 463.675 Q2069.83 459.925 2075.66 459.925 Q2080.89 459.925 2083.92 463.305 Q2086.98 466.661 2086.98 472.448 M2082.72 471.198 Q2082.67 467.703 2080.75 465.619 Q2078.85 463.536 2075.71 463.536 Q2072.14 463.536 2069.99 465.55 Q2067.86 467.564 2067.53 471.221 L2082.72 471.198 Z\" fill=\"#000000\" fill-rule=\"evenodd\" fill-opacity=\"1\" /><path clip-path=\"url(#clip680)\" d=\"M 0 0 M2108.51 473.212 Q2108.51 468.582 2106.59 466.036 Q2104.69 463.49 2101.24 463.49 Q2097.81 463.49 2095.89 466.036 Q2093.99 468.582 2093.99 473.212 Q2093.99 477.818 2095.89 480.365 Q2097.81 482.911 2101.24 482.911 Q2104.69 482.911 2106.59 480.365 Q2108.51 477.818 2108.51 473.212 M2112.77 483.258 Q2112.77 489.878 2109.83 493.096 Q2106.89 496.337 2100.82 496.337 Q2098.58 496.337 2096.59 495.99 Q2094.59 495.665 2092.72 494.971 L2092.72 490.828 Q2094.59 491.846 2096.42 492.332 Q2098.25 492.818 2100.15 492.818 Q2104.34 492.818 2106.42 490.619 Q2108.51 488.443 2108.51 484.022 L2108.51 481.916 Q2107.19 484.207 2105.13 485.341 Q2103.07 486.476 2100.2 486.476 Q2095.43 486.476 2092.51 482.841 Q2089.59 479.207 2089.59 473.212 Q2089.59 467.193 2092.51 463.559 Q2095.43 459.925 2100.2 459.925 Q2103.07 459.925 2105.13 461.059 Q2107.19 462.193 2108.51 464.485 L2108.51 460.55 L2112.77 460.55 L2112.77 483.258 Z\" fill=\"#000000\" fill-rule=\"evenodd\" fill-opacity=\"1\" /><path clip-path=\"url(#clip680)\" d=\"M 0 0 M2129.02 473.443 Q2123.85 473.443 2121.86 474.624 Q2119.87 475.804 2119.87 478.652 Q2119.87 480.92 2121.35 482.263 Q2122.86 483.582 2125.43 483.582 Q2128.97 483.582 2131.1 481.082 Q2133.25 478.559 2133.25 474.392 L2133.25 473.443 L2129.02 473.443 M2137.51 471.684 L2137.51 486.476 L2133.25 486.476 L2133.25 482.541 Q2131.79 484.902 2129.62 486.036 Q2127.44 487.147 2124.29 487.147 Q2120.31 487.147 2117.95 484.925 Q2115.61 482.679 2115.61 478.929 Q2115.61 474.554 2118.53 472.332 Q2121.47 470.11 2127.28 470.11 L2133.25 470.11 L2133.25 469.693 Q2133.25 466.754 2131.31 465.156 Q2129.39 463.536 2125.89 463.536 Q2123.67 463.536 2121.56 464.068 Q2119.46 464.601 2117.51 465.666 L2117.51 461.73 Q2119.85 460.828 2122.05 460.388 Q2124.25 459.925 2126.33 459.925 Q2131.96 459.925 2134.73 462.842 Q2137.51 465.758 2137.51 471.684 Z\" fill=\"#000000\" fill-rule=\"evenodd\" fill-opacity=\"1\" /><path clip-path=\"url(#clip680)\" d=\"M 0 0 M2142.53 464.948 L2172.21 464.948 L2172.21 468.837 L2142.53 468.837 L2142.53 464.948 M2142.53 474.392 L2172.21 474.392 L2172.21 478.328 L2142.53 478.328 L2142.53 474.392 Z\" fill=\"#000000\" fill-rule=\"evenodd\" fill-opacity=\"1\" /><path clip-path=\"url(#clip680)\" d=\"M 0 0 M2191.45 467.842 Q2194.8 468.559 2196.68 470.828 Q2198.58 473.096 2198.58 476.429 Q2198.58 481.545 2195.06 484.346 Q2191.54 487.147 2185.06 487.147 Q2182.88 487.147 2180.57 486.707 Q2178.27 486.291 2175.82 485.434 L2175.82 480.92 Q2177.77 482.054 2180.08 482.633 Q2182.4 483.212 2184.92 483.212 Q2189.32 483.212 2191.61 481.476 Q2193.92 479.74 2193.92 476.429 Q2193.92 473.374 2191.77 471.661 Q2189.64 469.925 2185.82 469.925 L2181.79 469.925 L2181.79 466.082 L2186.01 466.082 Q2189.46 466.082 2191.28 464.717 Q2193.11 463.328 2193.11 460.735 Q2193.11 458.073 2191.21 456.661 Q2189.34 455.226 2185.82 455.226 Q2183.9 455.226 2181.7 455.643 Q2179.5 456.059 2176.86 456.939 L2176.86 452.772 Q2179.52 452.031 2181.84 451.661 Q2184.18 451.291 2186.24 451.291 Q2191.56 451.291 2194.66 453.721 Q2197.77 456.129 2197.77 460.249 Q2197.77 463.119 2196.12 465.11 Q2194.48 467.078 2191.45 467.842 Z\" fill=\"#000000\" fill-rule=\"evenodd\" fill-opacity=\"1\" /><path clip-path=\"url(#clip680)\" d=\"M 0 0 M2203.64 480.596 L2208.53 480.596 L2208.53 486.476 L2203.64 486.476 L2203.64 480.596 Z\" fill=\"#000000\" fill-rule=\"evenodd\" fill-opacity=\"1\" /><path clip-path=\"url(#clip680)\" d=\"M 0 0 M2223.6 454.994 Q2219.99 454.994 2218.16 458.559 Q2216.35 462.101 2216.35 469.23 Q2216.35 476.337 2218.16 479.902 Q2219.99 483.443 2223.6 483.443 Q2227.23 483.443 2229.04 479.902 Q2230.87 476.337 2230.87 469.23 Q2230.87 462.101 2229.04 458.559 Q2227.23 454.994 2223.6 454.994 M2223.6 451.291 Q2229.41 451.291 2232.46 455.897 Q2235.54 460.48 2235.54 469.23 Q2235.54 477.957 2232.46 482.564 Q2229.41 487.147 2223.6 487.147 Q2217.79 487.147 2214.71 482.564 Q2211.65 477.957 2211.65 469.23 Q2211.65 460.48 2214.71 455.897 Q2217.79 451.291 2223.6 451.291 Z\" fill=\"#000000\" fill-rule=\"evenodd\" fill-opacity=\"1\" /></svg>\n"
      ]
     },
     "execution_count": 158,
     "metadata": {},
     "output_type": "execute_result"
    }
   ],
   "source": [
    "plot(title=\"Sistema con diferentes valores para omega usando Euler Mejorado\",xlabel=\"t\",ylabel=\"x(t)\")\n",
    "tiempo = collect(0:0.01:2π)\n",
    "omegas = collect(1:0.5:3) #tomamos solamente 5 valores de ω\n",
    "for ω in omegas\n",
    "    solucion = Euler_mejorado_J(EDO2,[1,1],tiempo,EDO2_J,ω)\n",
    "    plot!(tiempo,solucion[:,1],label =\"omega=$(ω)\", lw=1.0)\n",
    "end\n",
    "plot!()"
   ]
  },
  {
   "cell_type": "code",
   "execution_count": 133,
   "metadata": {},
   "outputs": [
    {
     "data": {
      "text/plain": [
       "RK_2_1 (generic function with 1 method)"
      ]
     },
     "execution_count": 133,
     "metadata": {},
     "output_type": "execute_result"
    }
   ],
   "source": [
    "function RK_2_1(edo,x_ini,t,ω)\n",
    "    sol = zeros( length(t) , length(x_ini) )\n",
    "    sol[1,:] .= x_ini\n",
    "    δ = t[2]-t[1]\n",
    "    for i in 1:length(t)-1\n",
    "        k1 = sol[i,:] .+ 0.5*δ .*edo(sol[i,:],t[i],ω) #solo agregamos un param para que no haya problemas de matcheo\n",
    "        sol[i+1,:] .= sol[i,:] .+ δ*edo(k1,t[i]+0.5*δ,ω)\n",
    "    end\n",
    "    return sol\n",
    "end"
   ]
  },
  {
   "cell_type": "code",
   "execution_count": 134,
   "metadata": {},
   "outputs": [
    {
     "data": {
      "text/plain": [
       "RK_4_1 (generic function with 1 method)"
      ]
     },
     "execution_count": 134,
     "metadata": {},
     "output_type": "execute_result"
    }
   ],
   "source": [
    "function RK_4_1(edo,x_ini,t,ω)\n",
    "    sol = zeros( length(t) , length(x_ini) )\n",
    "    sol[1,:] .= x_ini\n",
    "    δ = t[2]-t[1]\n",
    "    for i in 1:length(t)-1\n",
    "        k1 = edo(sol[i,:],t[i],ω)\n",
    "        k2 = edo(sol[i,:] .+ 0.5*δ.*k1 , t[i] + 0.5*δ,ω)\n",
    "        k3 = edo(sol[i,:] .+ 0.5*δ.*k2 , t[i] + 0.5*δ,ω)\n",
    "        k4 = edo(sol[i,:] .+ δ.*k2 , t[i] + δ,ω)\n",
    "        sol[i+1,:] .= sol[i,:] .+ (δ/6.0).*(k1 .+ 2.0.*k2 .+ 2.0.*k3 .+ k4)\n",
    "    end\n",
    "    return sol\n",
    "end"
   ]
  },
  {
   "cell_type": "markdown",
   "metadata": {},
   "source": [
    "Entonces resolvamos el sistema con las condiciones dadas y para diversas omegas, para ello, encontremos el espacio en nuestra malla para que nos de un error menor a 10^{-5}"
   ]
  }
 ],
 "metadata": {
  "kernelspec": {
   "display_name": "Julia 1.5.1",
   "language": "julia",
   "name": "julia-1.5"
  },
  "language_info": {
   "file_extension": ".jl",
   "mimetype": "application/julia",
   "name": "julia",
   "version": "1.5.1"
  }
 },
 "nbformat": 4,
 "nbformat_minor": 4
}
