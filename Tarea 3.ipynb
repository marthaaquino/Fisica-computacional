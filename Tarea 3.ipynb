{
 "cells": [
  {
   "cell_type": "code",
   "execution_count": 4,
   "metadata": {},
   "outputs": [],
   "source": [
    "using Plots\n",
    "using LaTeXStrings"
   ]
  },
  {
   "cell_type": "code",
   "execution_count": 17,
   "metadata": {
    "scrolled": true
   },
   "outputs": [
    {
     "data": {
      "text/plain": [
       "circ (generic function with 2 methods)"
      ]
     },
     "execution_count": 17,
     "metadata": {},
     "output_type": "execute_result"
    }
   ],
   "source": [
    "function circ(x)\n",
    "    return [x[1],x[2],x[3]+x[1]]\n",
    "end "
   ]
  },
  {
   "cell_type": "markdown",
   "metadata": {},
   "source": [
    "##### 1.- En clase vimos el método de Euler mejorado en el que nosotros introducimos el Jacobiano de forma analítica para ser evaluado por el método de integración. Realice una función que implemente el mismo método de integración, pero en lugar de calcular el Jacobiano con una función que lo evalúa analíticamente, ahora sea calculado de manera numérica utilizando la derivación numérica."
   ]
  },
  {
   "cell_type": "code",
   "execution_count": 6,
   "metadata": {},
   "outputs": [
    {
     "data": {
      "text/plain": [
       "jacobiano (generic function with 1 method)"
      ]
     },
     "execution_count": 6,
     "metadata": {},
     "output_type": "execute_result"
    }
   ],
   "source": [
    "#jacobiano autónomo general\n",
    "function jacobiano(xi,h,func)\n",
    "    m=func(xi)\n",
    "    jac=zeros(length(func(xi)),length(xi))\n",
    "    for i in 1:length(func(xi)), j in 1:length(xi)\n",
    "        xp1=zeros(length(xi))\n",
    "        xp2=zeros(length(xi))\n",
    "        for k in 1:length(xi)\n",
    "            if  k==j #k==i ||\n",
    "                xp1[k]=xi[j]+h\n",
    "                xp2[k]=xi[j]-h\n",
    "            else\n",
    "                xp1[k]=xi[j]\n",
    "                xp2[k]=xi[j]\n",
    "            end\n",
    "        end\n",
    "        jac[i,j]=(circ(xp1)[i]-circ(xp2)[i])/(xp1[j]-xp2[j])\n",
    "    end\n",
    "    return jac\n",
    "end"
   ]
  },
  {
   "cell_type": "markdown",
   "metadata": {},
   "source": []
  },
  {
   "cell_type": "code",
   "execution_count": 9,
   "metadata": {},
   "outputs": [
    {
     "data": {
      "text/plain": [
       "jacobianotemp (generic function with 1 method)"
      ]
     },
     "execution_count": 9,
     "metadata": {},
     "output_type": "execute_result"
    }
   ],
   "source": [
    "#jacobiano autónomo general\n",
    "function jacobianotemp(xi,h,func)\n",
    "    m=func(xi)\n",
    "    jac=zeros(length(func(xi)),length(xi))\n",
    "    for i in 1:length(func(xi)), j in 1:length(xi)\n",
    "        xp1=zeros(length(xi))\n",
    "        xp2=zeros(length(xi))\n",
    "        for k in 1:length(xi)\n",
    "            if  k==j #k==i ||\n",
    "                xp1[k]=xi[j]+h\n",
    "                xp2[k]=xi[j]-h\n",
    "            else\n",
    "                xp1[k]=xi[j]\n",
    "                xp2[k]=xi[j]\n",
    "            end\n",
    "        end\n",
    "        jac[i,j]=(circ(xp1)[i]-circ(xp2)[i])/(xp1[j]-xp2[j])\n",
    "    end\n",
    "    return jac\n",
    "end"
   ]
  },
  {
   "cell_type": "code",
   "execution_count": 18,
   "metadata": {},
   "outputs": [
    {
     "data": {
      "text/plain": [
       "3×3 Array{Float64,2}:\n",
       " 1.0  0.0  0.0\n",
       " 0.0  1.0  0.0\n",
       " 1.0  0.0  1.0"
      ]
     },
     "execution_count": 18,
     "metadata": {},
     "output_type": "execute_result"
    }
   ],
   "source": [
    "x=1,1,1\n",
    "A=jacobianotemp(x,0.1,circ)"
   ]
  },
  {
   "cell_type": "code",
   "execution_count": 24,
   "metadata": {},
   "outputs": [
    {
     "data": {
      "text/plain": [
       "Euler_mejorado_J (generic function with 1 method)"
      ]
     },
     "execution_count": 24,
     "metadata": {},
     "output_type": "execute_result"
    }
   ],
   "source": [
    "function Euler_mejorado_J(edo,p_ini,t,jacob)\n",
    "    # Este solo tiene J y g sin dependencia temporal.\n",
    "    sol = zeros(length(t),length(p_ini))\n",
    "    sol[1,:] = p_ini\n",
    "    δ = t[2]-t[1]\n",
    "    for i in 1:(length(t)-1)\n",
    "        eva=[sol[1,:],t[i]]\n",
    "        \n",
    "        sol[i+1,:] .= sol[i,:] .+ δ .*edo(sol[i,:],t[i])\n",
    "        sol[i+1,:] .+= 0.5*(δ^2) .*(jacobianotemp(eva,h,t[i]) *edo(sol[i,:],t[i])) # ojo sistema autonomo\n",
    "    end\n",
    "    return sol\n",
    "end"
   ]
  },
  {
   "cell_type": "markdown",
   "metadata": {},
   "source": [
    "### 2.- Utilizando los integradores de Euler mejorado con Jacobiano analítico, Euler mejorado con Jacobiano numérico, Runge-Kutta de $2^{\\circ}$ orden y Runge-Kutta de $4^{\\circ}$ orden, encuentre un paso de integración que proporcione una precisión de $10^{−4}$ en la solución para la siguiente ecuación:\n",
    "\n",
    "$$\n",
    "\\dddot{y} + \\ddot{y}^2 - 3\\dot{y}^3 + \\cos^2{y} = e^{-t}\\sin{3t}\n",
    "$$\n",
    "\n",
    "##### Con condiciones iniciales $\\ddot{y}(1)=1$, $\\dot{y}(1)=2$, $y(1)=1$. En particular, ¿qué sucede en en $t\\in[1,2]$ y $t\\in[1,2.1]$?"
   ]
  },
  {
   "cell_type": "markdown",
   "metadata": {},
   "source": [
    "Transcribimos las funciones Euler mejorado con Jacobiano analítico:"
   ]
  },
  {
   "cell_type": "code",
   "execution_count": 47,
   "metadata": {},
   "outputs": [
    {
     "data": {
      "text/plain": [
       "Euler_mejorado_J_t_p (generic function with 2 methods)"
      ]
     },
     "execution_count": 47,
     "metadata": {},
     "output_type": "execute_result"
    }
   ],
   "source": [
    "function Euler_mejorado_J_t_p(edo,p_ini,t,jacob)\n",
    "    # J y g con dependencia temporal y de parametros externos\n",
    "    sol = zeros(length(t),length(p_ini))\n",
    "    sol[1,:] = p_ini\n",
    "    δ = t[2]-t[1]\n",
    "    for i in 1:(length(t)-1)\n",
    "        eval_edo = edo(sol[i,:],t[i])\n",
    "        if length(eval_edo) == length(p_ini)\n",
    "            sol[i+1,:] .= sol[i,:] .+ δ .*eval_edo\n",
    "        else\n",
    "            sol[i+1,:] .= sol[i,:] .+ δ .*eval_edo[1:(end-1)]\n",
    "        end\n",
    "        sol[i+1,:] .+= 0.5*(δ^2) .*(jacob(sol[i,:],t[i]) *eval_edo )\n",
    "    end\n",
    "    return sol\n",
    "end"
   ]
  },
  {
   "cell_type": "markdown",
   "metadata": {},
   "source": [
    "Runge-Kutta de 2do orden: "
   ]
  },
  {
   "cell_type": "code",
   "execution_count": 54,
   "metadata": {},
   "outputs": [
    {
     "data": {
      "text/plain": [
       "RK_2 (generic function with 1 method)"
      ]
     },
     "execution_count": 54,
     "metadata": {},
     "output_type": "execute_result"
    }
   ],
   "source": [
    "function RK_2(edo,x_ini,t)\n",
    "    sol = zeros( length(t) , length(x_ini) )\n",
    "    sol[1,:] .= x_ini\n",
    "    δ = t[2]-t[1]\n",
    "    for i in 1:length(t)-1\n",
    "        k1 = sol[i,:] .+ 0.5*δ .*edo(sol[i,:],t[i])\n",
    "        sol[i+1,:] .= sol[i,:] .+ δ*edo(k1,t[i]+0.5*δ)\n",
    "    end\n",
    "    return sol\n",
    "end"
   ]
  },
  {
   "cell_type": "markdown",
   "metadata": {},
   "source": [
    "Runge-Kutta de 4to orden:"
   ]
  },
  {
   "cell_type": "code",
   "execution_count": 43,
   "metadata": {},
   "outputs": [
    {
     "data": {
      "text/plain": [
       "RK_4 (generic function with 1 method)"
      ]
     },
     "execution_count": 43,
     "metadata": {},
     "output_type": "execute_result"
    }
   ],
   "source": [
    "function RK_4(edo,x_ini,t)\n",
    "    sol = zeros( length(t) , length(x_ini) )\n",
    "    sol[1,:] .= x_ini\n",
    "    δ = t[2]-t[1]\n",
    "    for i in 1:length(t)-1\n",
    "        k1 = edo(sol[i,:],t[i])\n",
    "        k2 = edo(sol[i,:] .+ 0.5*δ.*k1 , t[i] + 0.5*δ)\n",
    "        k3 = edo(sol[i,:] .+ 0.5*δ.*k2 , t[i] + 0.5*δ)\n",
    "        k4 = edo(sol[i,:] .+ δ.*k2 , t[i] + δ)\n",
    "        sol[i+1,:] .= sol[i,:] .+ (δ/6.0).*(k1 .+ 2.0.*k2 .+ 2.0.*k3 .+ k4)\n",
    "    end\n",
    "    return sol\n",
    "end"
   ]
  },
  {
   "cell_type": "markdown",
   "metadata": {},
   "source": [
    "Ahora definimos las funciones de las ecuaciones diferenciales. Para ello notemos que podemos reescribir la ecuación diferencial como un sistema de ecuaciones diferenciales:\n",
    "\n",
    "$$\n",
    "x_1=y\\\\\n",
    "\\dot{x}_1 = x_2\\\\\n",
    "\\dot{x}_2 = x_3\\\\\n",
    "\\dot{x}_3 = -x_3^2 + 3x_2^3 - \\cos^2{(x_1)} + e^{-t}\\sin{(3t)}\n",
    "$$\n",
    "\n",
    "Y cuyas condiciones iniciales son: $x_1(1)=1$, $x_2(1)=2$ y $x_3(1)=1$. Las cuales, podemos escribir en una función de la siguiente manera:"
   ]
  },
  {
   "cell_type": "code",
   "execution_count": 49,
   "metadata": {},
   "outputs": [
    {
     "data": {
      "text/plain": [
       "EDO1 (generic function with 1 method)"
      ]
     },
     "execution_count": 49,
     "metadata": {},
     "output_type": "execute_result"
    }
   ],
   "source": [
    "function EDO1(vec,t)\n",
    "    # vec = [x1, x2, x3]\n",
    "    dx1 = vec[2]\n",
    "    dx2 = vec[3]\n",
    "    dx3 = -vec[3]*vec[3] + 3*vec[2]*vec[2]*vec[2] - cos(vec[1])*cos(vec[1]) + exp(-t)*sin(3*t)\n",
    "    return [dx1,dx2,dx3,1.0]\n",
    "end"
   ]
  },
  {
   "cell_type": "markdown",
   "metadata": {},
   "source": [
    "Y ahora definimos su Jacobiano analítico"
   ]
  },
  {
   "cell_type": "code",
   "execution_count": 45,
   "metadata": {},
   "outputs": [
    {
     "data": {
      "text/plain": [
       "EDO1_J (generic function with 1 method)"
      ]
     },
     "execution_count": 45,
     "metadata": {},
     "output_type": "execute_result"
    }
   ],
   "source": [
    "function EDO1_J(vec,t)\n",
    "    # vec = [x1, x2, x3]\n",
    "    J = zeros(3,4)\n",
    "    J[1,2] = 1.0\n",
    "    J[2,3] = 1.0\n",
    "    J[3,1] = 2*cos(vec[1])*sin(vec[1])\n",
    "    J[3,2] = 9*vec[2]*vec[2]\n",
    "    J[3,3] = -2*vec[3]\n",
    "    J[3,4] = 3*exp(-1*t)*cos(3*t)-exp(-1*t)*sin(3*t)\n",
    "    return J\n",
    "end"
   ]
  },
  {
   "cell_type": "markdown",
   "metadata": {},
   "source": [
    "Ahora resolvamos esta ecuación diferencial con los diversos métodos en t=[1,2], para obtener un error de menos de 10^{-4}"
   ]
  },
  {
   "cell_type": "markdown",
   "metadata": {},
   "source": [
    "#### 3.- Modifique las funciones integradoras que programamos en clase (Euler mejorado, Runge-Kutta de $2^{\\circ}$ orden y Runge-Kutta de $4^{\\circ}$ orden) para que se puedan pasar argumentos opcionales al sistema de ecuaciones diferenciales de tal manera que se puedan modificar parámetros al momento de hacer la integración. Una vez hecho esto, obtenga la solución de la siguiente ecuación diferencial\n",
    "\n",
    "$$\n",
    "\\ddot{x} + \\frac{1}{10}\\dot{x}+4\\sin{x} = \\frac{1}{2}\\sin{(\\omega t)}\n",
    "$$\n",
    "\n",
    "#### Con condiciones iniciales $\\dot{x}(0)=1$ y $x(0)=1$ y para $\\omega\\in\\{1,1.1,1.2,1.3,...,2.9,3\\}$. Realice la gráfica de algunas soluciones que representen el comportamiento de la solución en función de $\\omega$ y explique su resultado. La solución debe tener una precisión de por lo menos $10^{−5}$."
   ]
  },
  {
   "cell_type": "markdown",
   "metadata": {},
   "source": [
    "Notemos que podemos escribir la ecuación diferencial como un sistema de ecuaciones diferenciales donde:\n",
    "$$\n",
    "x=x_1\\\\\n",
    "\\dot{x}_1 = x_2\\\\\n",
    "\\dot{x}_2 = -\\frac{1}{10}x_2 - 4\\sin{(x_1)} + \\frac{1}{2}\\sin{(\\omega t)}\n",
    "$$\n",
    "Ahora escribamos este sistema como una función en Julia y su jacobiano de manera analítica."
   ]
  },
  {
   "cell_type": "code",
   "execution_count": 85,
   "metadata": {},
   "outputs": [
    {
     "data": {
      "text/plain": [
       "EDO2 (generic function with 2 methods)"
      ]
     },
     "execution_count": 85,
     "metadata": {},
     "output_type": "execute_result"
    }
   ],
   "source": [
    "function EDO2(vec,t,ω)\n",
    "    # vec = [x1, x2]\n",
    "    dx1 = vec[2]\n",
    "    dx2 = -vec[2]/10 - 4*sin(vec[1]) + 0.5*sin(ω*t)\n",
    "    return [dx1,dx2]#,1.0]\n",
    "end"
   ]
  },
  {
   "cell_type": "markdown",
   "metadata": {},
   "source": [
    "Ahora el jacobiano analítico:"
   ]
  },
  {
   "cell_type": "code",
   "execution_count": 86,
   "metadata": {},
   "outputs": [
    {
     "data": {
      "text/plain": [
       "EDO2_J (generic function with 1 method)"
      ]
     },
     "execution_count": 86,
     "metadata": {},
     "output_type": "execute_result"
    }
   ],
   "source": [
    "function EDO2_J(vec,t,ω)\n",
    "    # param = [ omega ]\n",
    "    # vec = [x1, x2]\n",
    "    #ω = param\n",
    "    J = zeros(length(vec),length(vec)+1)\n",
    "    J[1,2] = 1.0\n",
    "    J[2,1] = -4*cos(vec[1])\n",
    "    J[2,2] = -1/10\n",
    "    J[2,3] = 0.5*ω*cos(ω*t)\n",
    "    return J\n",
    "end"
   ]
  },
  {
   "cell_type": "markdown",
   "metadata": {},
   "source": [
    "Ahora modifiquemos las funciones de Euler mejorado:"
   ]
  },
  {
   "cell_type": "code",
   "execution_count": 89,
   "metadata": {},
   "outputs": [
    {
     "data": {
      "text/plain": [
       "Euler_mejorado_J (generic function with 2 methods)"
      ]
     },
     "execution_count": 89,
     "metadata": {},
     "output_type": "execute_result"
    }
   ],
   "source": [
    "function Euler_mejorado_J(edo,p_ini,t,jacob,ω)\n",
    "    # J y g con dependencia temporal y de parametros externos\n",
    "    sol = zeros(length(t),length(p_ini))\n",
    "    sol[1,:] = p_ini\n",
    "    δ = t[2]-t[1]\n",
    "    for i in 1:(length(t)-1)\n",
    "        eval_edo = edo(sol[i,:],t[i],ω)\n",
    "        if length(eval_edo) == length(p_ini)\n",
    "            sol[i+1,:] .= sol[i,:] .+ δ .*eval_edo\n",
    "        else\n",
    "            sol[i+1,:] .= sol[i,:] .+ δ .*eval_edo[1:(end-1)]\n",
    "        end\n",
    "        sol[i+1,:] .+= 0.5*(δ^2) .*(jacob(sol[i,:],t[i],ω) *eval_edo )\n",
    "    end\n",
    "    return sol\n",
    "end"
   ]
  },
  {
   "cell_type": "markdown",
   "metadata": {},
   "source": [
    "Entonces resolvamos el sistema con las condiciones dadas y para diversas omegas:"
   ]
  },
  {
   "cell_type": "code",
   "execution_count": null,
   "metadata": {},
   "outputs": [],
   "source": []
  }
 ],
 "metadata": {
  "kernelspec": {
   "display_name": "Julia 1.5.1",
   "language": "julia",
   "name": "julia-1.5"
  },
  "language_info": {
   "file_extension": ".jl",
   "mimetype": "application/julia",
   "name": "julia",
   "version": "1.5.1"
  }
 },
 "nbformat": 4,
 "nbformat_minor": 4
}
