{
 "cells": [
  {
   "cell_type": "markdown",
   "metadata": {},
   "source": [
    "# Tarea 2\n",
    "### Aquino Chapa Martha Abril\n",
    "Hecho en Python 🐍"
   ]
  },
  {
   "cell_type": "code",
   "execution_count": 1,
   "metadata": {},
   "outputs": [],
   "source": [
    "#importamos las paqueterías\n",
    "from pylab import *\n",
    "import random\n",
    "from numpy import array\n",
    "# from numpy import *\n",
    "import math\n",
    "#from tabulate import tabulate"
   ]
  },
  {
   "cell_type": "markdown",
   "metadata": {},
   "source": [
    "#### 1. En clase vimos la forma de hacer la integral numérica en la que se aproxima la integral de una función de la siguiente manera $$ \\int_{x_i-h}^{x_i+h}f(x)dx=\\frac{f(x_i-1)+4f(x_i)+f(x_i+1)}{3}h+\\mathcal{O}(h^{5})$$\n",
    "donde se desprecian los términos $\\mathcal{O}$. Calcule las integrales de las siguientes funciones para una malla uniforme:\n",
    "\n",
    "* $$\\int_0^{5}f(x)dx$$\n",
    "* $$ \\int_{-5}^{5}f^{2}(x)dx$$\n",
    "* $$ \\int_{0.5}^{5}g(x)dx$$\n",
    "\n",
    "Donde $f(x)=e^{-x^{2}}\\sin(x)$ y $g(x)=-{\\frac{2}{x^{6}}}+{\\frac{1}{x^{12}}}$. Muestre que ha podido integrar hasta una precisión de $10^{-4}$."
   ]
  },
  {
   "cell_type": "code",
   "execution_count": 2,
   "metadata": {},
   "outputs": [],
   "source": [
    "#Definimos la función integral del ejercicio 1a\n",
    "#La función dependera de a y b, los límites de la integral, n el número de puntos en la malla y f(x) la función de x\n",
    "def int1(f,x):\n",
    "    #Definimos la malla con la que trabajaremos\n",
    "   ## x=linspace(a,b,n)\n",
    "    #Definimos el espacio entre dos puntos contiguos en la malla\n",
    "    h = x[2] - x[1]\n",
    "    #Le damos un valor incial a la integral desde el cual empezará a sumar el valor de la integral\n",
    "    integral = 0 \n",
    "    #Definimos la condiciones en las cuales se evaluará nuestra integral:\n",
    "    #Si la malla en la cual vamos a integrar es par, pedimos que saque la integral del a partir de segundo elemento\n",
    "    if mod(len(f),2) == 0:\n",
    "        inicio = 2\n",
    "    #Si el número de puntos en la malla no es par le pedimos que inicie un elemento despues del primero en la malla\n",
    "    elif mod(len(f),2) == 1:\n",
    "        inicio = 1\n",
    "    #Definimos la parte del código con la que sumaremos las particiones de la integral y que vaya saltando 2 puntos\n",
    "    for i in range(inicio,len(f)-1,2):\n",
    "        integral += f[i+1] + 4*f[i] + f[i-1]\n",
    "    integral = integral*(h/3)\n",
    "    # punto inicial si se tiene un arreglo par\n",
    "    if mod(len(f),2) == 0:\n",
    "        integral += (h/48)*(23*f[0] + 26*f[1] - 4*f[2] + 6*f[3] -3*f[4])\n",
    "    return integral"
   ]
  },
  {
   "cell_type": "code",
   "execution_count": 106,
   "metadata": {},
   "outputs": [
    {
     "name": "stdout",
     "output_type": "stream",
     "text": [
      "La integral de $e^{-x^{2}}$ es  0.1021341884080086\n",
      "La precisión de la integral es:  1.1398421098651745e-07\n"
     ]
    }
   ],
   "source": [
    "# Obtenemos entonces la integral de f(x):\n",
    "#Definimos la malla\n",
    "x=linspace(0,5,1000)\n",
    "f=exp(-(x*x))*sin(10*x)\n",
    "print(r\"La integral de $e^{-x^{2}}$ es \", int1(f,x))\n",
    "#Dicha integral, hecha en wolfram tiene el valor de :\n",
    "#m=integrate(cos(x), (x,0,pi/2.0))\n",
    "m=0.1021340744237976138708054220876899\n",
    "#Obtenemos el error asociado a la integral, segun la integral de wolfram\n",
    "print(\"La precisión de la integral es: \", abs(m-int1(f,x)))"
   ]
  },
  {
   "cell_type": "code",
   "execution_count": 3,
   "metadata": {},
   "outputs": [],
   "source": [
    "# Obteniendo ahora el algoritmo para la segunda integral, es lo mismo pero en este caso tendremos f^2\n",
    "#Para ello hacemos el cambio de variable de f a f^2\n",
    "#Definimos la función integral del ejercicio 1a\n",
    "#La función dependera de a y b, los límites de la integral, n el número de puntos en la malla y f(x) la función de x\n",
    "def int2(f,x):\n",
    "    #Definimos la malla con la que trabajaremos\n",
    "   ## x=linspace(a,b,n)\n",
    "    #Definimos el espacio entre dos puntos contiguos en la malla\n",
    "    h = x[2] - x[1]\n",
    "    #Le damos un valor incial a la integral desde el cual empezará a sumar el valor de la integral\n",
    "    integral = 0 \n",
    "    #Definimos la condiciones en las cuales se evaluará nuestra integral:\n",
    "    #Si la malla en la cual vamos a integrar es par, pedimos que saque la integral del a partir de segundo elemento\n",
    "    if mod(len(f),2) == 0:\n",
    "        inicio = 2\n",
    "    #Si el número de puntos en la malla no es par le pedimos que inicie un elemento despues del primero en la malla\n",
    "    elif mod(len(f),2) == 1:\n",
    "        inicio = 1\n",
    "    #Definimos la parte del código con la que sumaremos las particiones de la integral y que vaya saltando 2 puntos\n",
    "    for i in range(inicio,len(f)-1,2):\n",
    "        integral += f[i+1]*f[i+1] + 4*f[i]*f[i] + f[i-1]*f[i-1]\n",
    "    integral = integral*(h/3)\n",
    "    # punto inicial si se tiene un arreglo par\n",
    "    if mod(len(f),2) == 0:\n",
    "        integral += (h/48)*(23*f[0]*f[0] + 26*f[1]*f[1] - 4*f[2]*f[2] + 6*f[3]*f[3] -3*f[4]*f[4])\n",
    "    return integral"
   ]
  },
  {
   "cell_type": "code",
   "execution_count": 108,
   "metadata": {},
   "outputs": [
    {
     "name": "stdout",
     "output_type": "stream",
     "text": [
      "La integral de $(e^{-x^{2}})^{2}$ es  0.6266644078503681\n",
      "La precisión de la integral es:  7.339192617972223e-06\n"
     ]
    }
   ],
   "source": [
    "# Obtenemos entonces la integral de f(x):\n",
    "#Definimos la malla\n",
    "x=linspace(-5,5,48)\n",
    "f=exp(-(x*x))*sin(10*x)\n",
    "print(\"La integral de $(e^{-x^{2}})^{2}$ es \", int2(f,x))\n",
    "#Dicha integral, hecha en wolfram tiene el valor de :\n",
    "m=0.6266570686577501256038175123698260447534631408887006665615074330\n",
    "#Obtenemos el error asociado a la integral, segun la integral de wolfram\n",
    "print(\"La precisión de la integral es: \", abs(m-int2(f,x)))"
   ]
  },
  {
   "cell_type": "code",
   "execution_count": 109,
   "metadata": {},
   "outputs": [
    {
     "name": "stdout",
     "output_type": "stream",
     "text": [
      "La integral de $-(2/x**6)+(1/x**12)$ es  173.3819466718035\n",
      "La precisión de la integral es:  5.3328196514712545e-05\n"
     ]
    }
   ],
   "source": [
    "#Notemos que el código para la primera integral nos sirve para el inciso c\n",
    "x=linspace(0.5,5,10000)\n",
    "f=-(2/x**6)+(1/x**12)\n",
    "m=173.382\n",
    "print(\"La integral de $-(2/x**6)+(1/x**12)$ es \", int1(f,x))\n",
    "#Obtenemos el error asociado a la integral, segun la integral de wolfram\n",
    "print(\"La precisión de la integral es: \", abs(m-int1(f,x)))"
   ]
  },
  {
   "cell_type": "markdown",
   "metadata": {},
   "source": [
    "#### 2. Haga una función que implemente la integral numérica utilizando la regla de ''Simpson $\\frac{3}{8}$'' dada por la relación: \n",
    "$$\\int_{x_i}^{x_i+3}=\\frac{3h}{8}\\left(  f(x_i)+3f(x_{i+1})+3f(x_{i+2})+f(x_{i+3})\\right)+\\mathcal{O}(h^{5})$$\n",
    "\n",
    "#### donde se desprecian los términos $\\mathcal{O}(h^{5}$. Utilice este algoritmo para obtener lasa integrales del problema anterior con una precisión de $10^{-4}$.\n",
    "\n"
   ]
  },
  {
   "cell_type": "code",
   "execution_count": 4,
   "metadata": {},
   "outputs": [],
   "source": [
    "#Definimos la función que nos calcule la integral de Simpson\n",
    "#La función dependera de a y b, los límites de la integral, n el número de puntos en la malla y f(x) la función de x\n",
    "def intSimpson(f,x):\n",
    "    #Definimos el espacio entre dos puntos contiguos en la malla\n",
    "    h = x[2] - x[1]\n",
    "    #Le damos un valor incial a la integral desde el cual empezará a sumar el valor de la integral\n",
    "    integral = 0 \n",
    "    #Definimos la condiciones en las cuales se evaluará nuestra integral:\n",
    "    #Si la malla en la cual vamos a integrar es par, pedimos que saque la integral del a partir de segundo elemento\n",
    "    if mod(len(f)-1,3) == 0:\n",
    "        inicio = 0\n",
    "        \n",
    "    if mod(len(f)-1,3) == 1:\n",
    "        inicio = 1\n",
    "        \n",
    "    elif mod(len(f)-1,3) == 2:\n",
    "        inicio = 2\n",
    "    #Definimos la parte del código con la que sumaremos las particiones de la integral y que vaya saltando 2 puntos\n",
    "    for i in range(inicio,len(f)-4 ,3):\n",
    "        integral += f[i]+3*f[i+1]+3*f[i+2]+f[i+3]\n",
    "    integral = integral*(3*h/8)\n",
    "    \n",
    "    # Si es divisible entre 3 la malla\n",
    "    if mod(len(f)-1,3) == 2:\n",
    "        integral += (f[0] + 4*f[1] + f[2])*(h/3)\n",
    "        \n",
    "    \n",
    "    if mod(len(f)-1,3) == 1:\n",
    "        integral += (h/48)*(23*f[0]+ 26*f[1] - 4*f[2] + 6*f[3] -3*f[4])\n",
    "        #integral += (h/48)*(23*f[0]*f[0] + 26*f[1]*f[1] - 4*f[2]*f[2] + 6*f[3]*f[3] -3*f[4]*f[4])\n",
    "    return integral"
   ]
  },
  {
   "cell_type": "markdown",
   "metadata": {},
   "source": [
    "Ya que tenemos el algoritmo para la integral de una función f usemosla para obtener la integral de las funciones del ejercicio 1.\n",
    "Iniciamos con $f(x)$"
   ]
  },
  {
   "cell_type": "code",
   "execution_count": 111,
   "metadata": {},
   "outputs": [
    {
     "name": "stdout",
     "output_type": "stream",
     "text": [
      "La integral de $e^{-x^{2}}$ es  0.10222669406705334\n",
      "La precisión de la integral es:  9.261964325572858e-05\n"
     ]
    }
   ],
   "source": [
    "x=linspace(0,5,100)\n",
    "f=exp(-(x*x))*sin(10*x)\n",
    "print(r\"La integral de $e^{-x^{2}}$ es \", intSimpson(f,x))\n",
    "#Dicha integral, hecha en wolfram tiene el valor de :\n",
    "#m=integrate(cos(x), (x,0,pi/2.0))\n",
    "m=0.1021340744237976138708054220876899\n",
    "#Obtenemos el error asociado a la integral, segun la integral de wolfram\n",
    "print(\"La precisión de la integral es: \", abs(m-intSimpson(f,x)))"
   ]
  },
  {
   "cell_type": "markdown",
   "metadata": {},
   "source": [
    "Debido a que queremos la integral de una función al cuadrado, la función intSimpson no nos sirve, a menos que queramos elevar nuestra función al cuadrado, pero aveces somos flojos, entonces modificamos el código de la función anterior intercambiando f por $f^{2}$ para solo meter la función y ahorrar tiempo :D"
   ]
  },
  {
   "cell_type": "code",
   "execution_count": 5,
   "metadata": {},
   "outputs": [],
   "source": [
    "#Definimos la función que nos calcule la integral de Simpson\n",
    "#La función dependera de a y b, los límites de la integral, n el número de puntos en la malla y f(x) la función de x\n",
    "def intSimpson2(f,x):\n",
    "    #Definimos el espacio entre dos puntos contiguos en la malla\n",
    "    h = x[2] - x[1]\n",
    "    #Le damos un valor incial a la integral desde el cual empezará a sumar el valor de la integral\n",
    "    integral = 0 \n",
    "    #Definimos la condiciones en las cuales se evaluará nuestra integral:\n",
    "    #Si la malla en la cual vamos a integrar es par, pedimos que saque la integral del a partir de segundo elemento\n",
    "    if mod(len(f)-1,3) == 0:\n",
    "        inicio = 0\n",
    "        \n",
    "    if mod(len(f)-1,3) == 1:\n",
    "        inicio = 1\n",
    "        \n",
    "    elif mod(len(f)-1,3) == 2:\n",
    "        inicio = 2\n",
    "    #Definimos la parte del código con la que sumaremos las particiones de la integral y que vaya saltando 2 puntos\n",
    "    for i in range(inicio,len(f)-4 ,3):\n",
    "        integral += f[i]*f[i]+3*f[i+1]*f[i+1]+3*f[i+2]*f[i+2]+f[i+3]*f[i+3]\n",
    "    integral = integral*(3*h/8)\n",
    "    \n",
    "    # Si es divisible entre 3 la malla\n",
    "    if mod(len(f)-1,3) == 2:\n",
    "        integral += (f[0]*f[0] + 4*f[1]*f[1] + f[2]*f[2])*(h/3)\n",
    "        \n",
    "    \n",
    "    if mod(len(f)-1,3) == 2:\n",
    "        integral += (h/48)*(23*f[0]*f[0] + 26*f[1]*f[1] - 4*f[2]*f[2] + 6*f[3]*f[3] -3*f[4]*f[4])\n",
    "    return integral"
   ]
  },
  {
   "cell_type": "code",
   "execution_count": 113,
   "metadata": {},
   "outputs": [
    {
     "name": "stdout",
     "output_type": "stream",
     "text": [
      "La integral de $(e^{-x^{2}})^{2}$ es  0.6266582861443991\n",
      "La precisión de la integral es:  1.2174866489411684e-06\n"
     ]
    }
   ],
   "source": [
    "# Obtenemos entonces la integral de f(x):\n",
    "#Definimos la malla\n",
    "x=linspace(-5,5,140)\n",
    "f=exp(-(x*x))*sin(10*x)\n",
    "print(\"La integral de $(e^{-x^{2}})^{2}$ es \", intSimpson2(f,x))\n",
    "#Dicha integral, hecha en wolfram tiene el valor de :\n",
    "m=0.6266570686577501256038175123698260447534631408887006665615074330\n",
    "#Obtenemos el error asociado a la integral, segun la integral de wolfram\n",
    "print(\"La precisión de la integral es: \", abs(m-intSimpson2(f,x)))"
   ]
  },
  {
   "cell_type": "markdown",
   "metadata": {},
   "source": [
    "Ahora obtenemos la integral de la función g utilizando la función intSimp"
   ]
  },
  {
   "cell_type": "code",
   "execution_count": 114,
   "metadata": {},
   "outputs": [
    {
     "name": "stdout",
     "output_type": "stream",
     "text": [
      "La integral de $-(2/x**6)+(1/x**12)$ es  173.38194638945512\n",
      "La precisión de la integral es:  5.3610544881621536e-05\n"
     ]
    }
   ],
   "source": [
    "#Notemos que el código para la primera integral nos sirve para el inciso c\n",
    "x=linspace(0.5,5,10000)\n",
    "f=-(2/x**6)+(1/x**12)\n",
    "m=173.382\n",
    "print(\"La integral de $-(2/x**6)+(1/x**12)$ es \", intSimpson(f,x))\n",
    "#Obtenemos el error asociado a la integral, segun la integral de wolfram\n",
    "print(\"La precisión de la integral es: \", abs(m-intSimpson(f,x)))"
   ]
  },
  {
   "cell_type": "markdown",
   "metadata": {},
   "source": [
    "### 3. Haga una función que implemente la integral númerica utilizando la regla de ''Boole'' dada por la relación \n",
    "$$\\int_{x_i}^{x_{i+4}}f(x)={\\frac{2h}{48}}(7f(x_i)+32f(x_{i+1})+12f(x_{i+2})+32f(x_{i+3})+7f(x_{i+4}))+\\mathcal{O}(h^{7}) $$\n",
    "### donde se desprecian los términos $\\mathcal{O}(h^{7})$. Utilice este algoritmo para obtener las integrales del problema anterior con una precisión de $10^{-4}$."
   ]
  },
  {
   "cell_type": "code",
   "execution_count": 6,
   "metadata": {},
   "outputs": [],
   "source": [
    "#Definimos la función que nos calcule la integral de Boole\n",
    "#La función dependera de a y b, los límites de la integral, n el número de puntos en la malla y f(x) la función de x\n",
    "def intBoole(f,x):\n",
    "    #Definimos el espacio entre dos puntos contiguos en la malla\n",
    "    h = x[2] - x[1]\n",
    "    #Le damos un valor incial a la integral desde el cual empezará a sumar el valor de la integral\n",
    "    integral = 0 \n",
    "    #Definimos la condiciones en las cuales se evaluará nuestra integral:\n",
    "    #Si la malla en la cual vamos a integrar es par, pedimos que saque la integral del a partir de segundo elemento\n",
    "    if mod(len(f)-1,4) == 0:\n",
    "        inicio = 0\n",
    "        \n",
    "    if mod(len(f)-1,4) == 1:\n",
    "        inicio = 1\n",
    "        \n",
    "    if mod(len(f)-1,4) == 2:\n",
    "        inicio = 2\n",
    "    \n",
    "    if mod(len(f)-1,4) == 3:\n",
    "        inicio = 3\n",
    "    #Definimos la parte del código con la que sumaremos las particiones de la integral y que vaya saltando 2 puntos\n",
    "    for i in range(inicio,len(f)-4 ,4):\n",
    "        integral += 7*f[i]+32*f[i+1]+12*f[i+2]+32*f[i+3]+7*f[i+4]\n",
    "    integral = integral*(2*h/45)\n",
    "    \n",
    "    if mod(len(f)-1,4) == 3:\n",
    "        integral +=(f[i]+3*f[i+1]+3*f[i+2]+f[i+3])*(3*h/8)\n",
    "    \n",
    "    if mod(len(f)-1,4) == 2:\n",
    "        integral += ((f[0] + 4*f[1] + f[2]))*(h/3)\n",
    "        \n",
    "    \n",
    "    if mod(len(f)-1,4) == 1:\n",
    "        integral += (h/48)*(23*f[0]+ 26*f[1] - 4*f[2] + 6*f[3] -3*f[4])\n",
    "        #integral += (h/48)*(23*f[0]*f[0] + 26*f[1]*f[1] - 4*f[2]*f[2] + 6*f[3]*f[3] -3*f[4]*f[4])\n",
    "    return integral"
   ]
  },
  {
   "cell_type": "code",
   "execution_count": 116,
   "metadata": {},
   "outputs": [
    {
     "name": "stdout",
     "output_type": "stream",
     "text": [
      "La integral de $e^{-x^{2}}$ es  0.102093434309707\n",
      "La precisión de la integral es:  4.064011409060653e-05\n"
     ]
    }
   ],
   "source": [
    "x=linspace(0,5,73)\n",
    "f=exp(-(x*x))*sin(10*x)\n",
    "print(r\"La integral de $e^{-x^{2}}$ es \", intBoole(f,x))\n",
    "#Dicha integral, hecha en wolfram tiene el valor de :\n",
    "#m=integrate(cos(x), (x,0,pi/2.0))\n",
    "m=0.1021340744237976138708054220876899\n",
    "#Obtenemos el error asociado a la integral, segun la integral de wolfram\n",
    "print(\"La precisión de la integral es: \", abs(m-intBoole(f,x)))"
   ]
  },
  {
   "cell_type": "markdown",
   "metadata": {},
   "source": [
    "Modificamos la función intBoole para obtener la integral de una función $f^{2}$"
   ]
  },
  {
   "cell_type": "code",
   "execution_count": 7,
   "metadata": {},
   "outputs": [],
   "source": [
    "#Definimos la función que nos calcule la integral de Boole\n",
    "#La función dependera de a y b, los límites de la integral, n el número de puntos en la malla y f(x) la función de x\n",
    "def intBoole2(f,x):\n",
    "    #Definimos el espacio entre dos puntos contiguos en la malla\n",
    "    h = x[2] - x[1]\n",
    "    #Le damos un valor incial a la integral desde el cual empezará a sumar el valor de la integral\n",
    "    integral = 0 \n",
    "    #Definimos la condiciones en las cuales se evaluará nuestra integral:\n",
    "    #Si la malla en la cual vamos a integrar es par, pedimos que saque la integral del a partir de segundo elemento\n",
    "    if mod(len(f)-1,4) == 0:\n",
    "        inicio = 0\n",
    "        \n",
    "    if mod(len(f)-1,4) == 1:\n",
    "        inicio = 1\n",
    "        \n",
    "    if mod(len(f)-1,4) == 2:\n",
    "        inicio = 2\n",
    "    \n",
    "    if mod(len(f)-1,4) == 3:\n",
    "        inicio = 3\n",
    "    #Definimos la parte del código con la que sumaremos las particiones de la integral y que vaya saltando 2 puntos\n",
    "    for i in range(inicio,len(f)-4 ,4):\n",
    "        integral += 7*f[i]*f[i]+32*f[i+1]*f[i+1]+12*f[i+2]*f[i+2]+32*f[i+3]*f[i+3]+7*f[i+4]*f[i+4]\n",
    "    integral = integral*(2*h/45)\n",
    "    \n",
    "    if mod(len(f)-1,4) == 3:\n",
    "        integral +=(f[i]*f[i]+3*f[i+1]*f[i+1]+3*f[i+2]*f[i+2]+f[i+3]*f[i+3])*(3*h/8)\n",
    "    \n",
    "    if mod(len(f)-1,4) == 2:\n",
    "        integral += ((f[0]*f[0] + 4*f[1]*f[1] + f[2]*f[2]))*(h/3)\n",
    "        \n",
    "    \n",
    "    if mod(len(f)-1,4) == 1:\n",
    "        integral += (h/48)*(23*f[0]*f[0]+ 26*f[1]*f[1] - 4*f[2]*f[2] + 6*f[3]*f[3] -3*f[4]*f[4])\n",
    "    return integral"
   ]
  },
  {
   "cell_type": "markdown",
   "metadata": {},
   "source": [
    "Obtenemos la integral para $f^{2}(x)$"
   ]
  },
  {
   "cell_type": "code",
   "execution_count": 118,
   "metadata": {},
   "outputs": [
    {
     "name": "stdout",
     "output_type": "stream",
     "text": [
      "La integral de $(e^{-x^{2}})^{2}$ es  0.6266570651298398\n",
      "La precisión de la integral es:  3.5279104082519552e-09\n"
     ]
    }
   ],
   "source": [
    "#Definimos la malla\n",
    "x=linspace(-5,5,103)\n",
    "f=exp(-(x*x))*sin(10*x)\n",
    "print(\"La integral de $(e^{-x^{2}})^{2}$ es \", intBoole2(f,x))\n",
    "#Dicha integral, hecha en wolfram tiene el valor de :\n",
    "m=0.6266570686577501256038175123698260447534631408887006665615074330\n",
    "#Obtenemos el error asociado a la integral, segun la integral de wolfram\n",
    "print(\"La precisión de la integral es: \", abs(m-intBoole2(f,x)))"
   ]
  },
  {
   "cell_type": "markdown",
   "metadata": {},
   "source": [
    "Ahora obtenemos la integral usando la función intBoole"
   ]
  },
  {
   "cell_type": "code",
   "execution_count": 119,
   "metadata": {},
   "outputs": [
    {
     "name": "stdout",
     "output_type": "stream",
     "text": [
      "La integral de $-(2/x**6)+(1/x**12)$ es  173.3819473696758\n",
      "La precisión de la integral es:  5.263032420543823e-05\n"
     ]
    }
   ],
   "source": [
    "#Notemos que el código para la primera integral nos sirve para el inciso c\n",
    "x=linspace(0.5,5,1001)\n",
    "f=-(2/x**6)+(1/x**12)\n",
    "m=173.382\n",
    "print(\"La integral de $-(2/x**6)+(1/x**12)$ es \", intBoole(f,x))\n",
    "#Obtenemos el error asociado a la integral, segun la integral de wolfram\n",
    "print(\"La precisión de la integral es: \", abs(m-intBoole(f,x)))"
   ]
  },
  {
   "cell_type": "markdown",
   "metadata": {},
   "source": [
    "### 4.Utilizando la integral del problema 1(a), realicce una tabla en la que se muestre la convergencia de los 3 algoritmos anteriores comenzando con h=0.25 hasta h=00001. La tabla debe tener por lo menos 30 diferentes h's. Obtenga el número de puntos en la malla para cada h y haga una gráfica en la que se muestre la convergencia de los 3 algoritmos, Números de puntos vs valor de la integral."
   ]
  },
  {
   "cell_type": "code",
   "execution_count": 27,
   "metadata": {},
   "outputs": [
    {
     "name": "stdout",
     "output_type": "stream",
     "text": [
      "     Integral1           Integral2           Integral3               h          \n",
      "    0.1021340746        0.1021340746         0.10208906            0.001        \n",
      "    0.1021341248        0.1021356692        0.1021340742       0.009586206897   \n",
      "    0.1021347304        0.102153813         0.1021341146       0.01817241379    \n",
      "    0.1022179266        0.1021406341        0.1022147844       0.02675862069    \n",
      "    0.1021438235        0.1021529255        0.1021334985       0.03534482759    \n",
      "    0.1021581129         0.10263214         0.1021317657       0.04393103448    \n",
      "    0.1021830899        0.1029567347        0.1021595482       0.05251724138    \n",
      "    0.1022289353        0.1022598677        0.1021140294       0.06110344828    \n",
      "    0.1022986983        0.1034991111        0.1022901761       0.06968965517    \n",
      "    0.1024070885        0.1023468474        0.1024696028       0.07827586207    \n",
      "    0.1025533202        0.1023397538        0.101885252        0.08686206897    \n",
      "    0.1006763761        0.1037956002       -0.08982094276      0.09544827586    \n",
      "   0.09833710531        0.1020245992       -0.09118687748       0.1040344828    \n",
      "   0.09444509073       0.09520963507       -0.08600546964       0.1126206897    \n",
      "    0.1039525229       0.09084696123       0.09747364844        0.1212068966    \n",
      "   0.08411313519       0.08450627332       0.09228851905        0.1297931034    \n",
      "   0.07917737055       0.09655988193       -0.05030454013       0.1383793103    \n",
      "   0.07352053662        0.1235859288       0.08933091811        0.1469655172    \n",
      "   0.06731288507        0.0513162795      -0.003494672393       0.1555517241    \n",
      "   0.06080158191        0.1078918527       0.07135196068        0.164137931     \n",
      "   0.05399185634        0.1382258797       0.06455280371        0.1727241379    \n",
      "    0.1181590208        0.1613191514        0.1018908147        0.1813103448    \n",
      "   0.04537626705       -0.01353745556      0.04041088761        0.1898965517    \n",
      "    0.1294076382       0.07375911613        0.1574672696        0.1984827586    \n",
      "   0.02768328359        0.2009784698       0.09130241876        0.2070689655    \n",
      "    0.1557140375       0.03871268199        0.1560178488        0.2156551724    \n",
      "   -0.01693035588      0.002881915115       -0.046647829        0.2242413793    \n",
      "    0.2011356401        0.1552570443        0.2487800658        0.2328275862    \n",
      "   -0.0789387645       0.08214808672       -0.05391375088       0.2414137931    \n",
      "   -0.0789387645       0.08214808672       -0.05391375088           0.25        \n"
     ]
    }
   ],
   "source": [
    "h = linspace(0.001,0.25,30)\n",
    "print('{:^20}{:^20}{:^20}{:^20}'.format('Integral1','Integral2','Integral3','h'))\n",
    "for i in range(len(h)):\n",
    "    m=h[i]\n",
    "    num=int(5/h[i])\n",
    "    x = linspace(0,5,num)\n",
    "    f = exp(-(x*x))*sin(10*x)\n",
    "    integral1=int1(f,x)\n",
    "    integral2=intSimpson(f,x)\n",
    "    integral3=intBoole(f,x)\n",
    "    print('{:^20.10}{:^20.10}{:^20.10}{:^20.10}'.format(integral1,integral2,integral3,m))\n",
    "    "
   ]
  },
  {
   "cell_type": "code",
   "execution_count": 120,
   "metadata": {},
   "outputs": [
    {
     "name": "stdout",
     "output_type": "stream",
     "text": [
      "     Integral1           Integral2           Integral3               h          \n",
      "    0.8443069625        0.8443090733        0.8443069017            0.25        \n",
      "    0.1348053133        0.1348056504        0.1348053036       0.04166666667    \n",
      "   0.07325037574       0.07325055887       0.07325037047       0.02272727273    \n",
      "   0.05028787551       0.05028800123       0.05028787189          0.015625      \n",
      "   0.03828599591       0.03828609163       0.03828599316        0.0119047619    \n",
      "   0.03090911809       0.03090919536       0.03090911586       0.009615384615   \n",
      "    0.0259157226       0.02591578739       0.02591572073       0.008064516129   \n",
      "   0.02231131055       0.02231136633       0.02231130895       0.006944444444   \n",
      "   0.01958709681       0.01958714578        0.0195870954       0.006097560976   \n",
      "   0.01745574786        0.0174557915       0.01745574661       0.005434782609   \n",
      "    0.0157427206       0.01574275995       0.01574271946       0.004901960784   \n",
      "   0.01433586442       0.01433590026       0.01433586339       0.004464285714   \n",
      "    0.0131598296        0.0131598625       0.01315982866       0.004098360656   \n",
      "   0.01216211697       0.01216214738        0.0121621161       0.003787878788   \n",
      "   0.01130502628       0.01130505454       0.01130502546       0.003521126761   \n",
      "   0.01056078492       0.01056081132       0.01056078416       0.003289473684   \n",
      "   0.009908481956      0.009908506728      0.009908481243      0.003086419753   \n",
      "   0.009332072302      0.009332095633      0.00933207163       0.002906976744   \n",
      "   0.00881903919       0.008819061239      0.008819038556      0.002747252747   \n",
      "   0.008359474876      0.008359495775      0.008359474274      0.002604166667   \n",
      "   0.007945434516      0.00794545438       0.007945433944      0.002475247525   \n",
      "    0.007570473        0.007570491927      0.007570472455      0.002358490566   \n",
      "   0.007229307024      0.007229325098      0.007229306504      0.002252252252   \n",
      "   0.006917564591      0.006917581886      0.006917564093      0.002155172414   \n",
      "   0.006631596646      0.006631613226      0.006631596169      0.002066115702   \n",
      "   0.00636833358       0.006368349501      0.006368333121      0.001984126984   \n",
      "   0.006125174604      0.006125189917      0.006125174163      0.001908396947   \n",
      "   0.00589990154       0.00589991629       0.005899901115      0.001838235294   \n",
      "   0.005690610957      0.005690625184      0.005690610547      0.001773049645   \n",
      "   0.005495660256      0.005495673996      0.00549565986       0.001712328767   \n",
      "   0.005313624474      0.005313637759      0.005313624092      0.001655629139   \n",
      "   0.005143261394      0.005143274252      0.005143261024      0.001602564103   \n",
      "   0.004983483158      0.004983495618       0.0049834828       0.001552795031   \n",
      "   0.004833333018      0.004833345102      0.00483333267       0.001506024096   \n",
      "   0.004691966156      0.004691977886      0.004691965818      0.001461988304   \n",
      "   0.004558633784      0.004558645181      0.004558633456      0.001420454545   \n",
      "   0.004432669878      0.00443268096       0.004432669559      0.00138121547    \n",
      "   0.004313480045      0.004313490829      0.004313479735      0.001344086022   \n",
      "   0.004200532152      0.004200542653      0.004200531849      0.001308900524   \n",
      "   0.004093348376      0.00409335861       0.004093348082      0.001275510204   \n",
      "   0.003991498454      0.003991508433      0.003991498167      0.001243781095   \n",
      "   0.003894593903      0.00389460364       0.003894593623      0.001213592233   \n",
      "   0.003802283073      0.00380229258        0.0038022828       0.001184834123   \n",
      "   0.003714246883      0.003714256169      0.003714246616      0.001157407407   \n",
      "   0.003630195132      0.003630204208      0.00363019487       0.001131221719   \n",
      "   0.003549863308      0.003549872183      0.003549863052      0.00110619469    \n",
      "   0.003473009804      0.003473018487      0.003473009555      0.001082251082   \n",
      "   0.003399413496      0.003399421995      0.003399413251      0.001059322034   \n",
      "   0.00332887161       0.003328879932      0.00332887137       0.001037344398   \n",
      "   0.003261197863      0.003261206016      0.003261197628      0.001016260163   \n"
     ]
    }
   ],
   "source": [
    "print('{:^20}{:^20}{:^20}{:^20}'.format('Integral1','Integral2','Integral3','h'))\n",
    "f=exp(-(x*x))*sin(10*x)\n",
    "for i in range (20,5000,100):\n",
    "    h=5/i\n",
    "    x = linspace(0,5,i)\n",
    "    integral1=int1(f,x)\n",
    "    integral2=intSimpson(f,x)\n",
    "    integral3=intBoole(f,x)\n",
    "    print('{:^20.10}{:^20.10}{:^20.10}{:^20.10}'.format(integral1,integral2,integral3,h))\n",
    "    \n",
    "    \n",
    "    #print(\"Integral1: \",integral1,\"Integral 2\",integral2, \"integral3\",integral3)"
   ]
  },
  {
   "cell_type": "code",
   "execution_count": 30,
   "metadata": {},
   "outputs": [
    {
     "data": {
      "image/png": "[encoded data removed]",
      "text/plain": [
       "<Figure size 432x288 with 1 Axes>"
      ]
     },
     "metadata": {
      "needs_background": "light"
     },
     "output_type": "display_data"
    }
   ],
   "source": [
    "h = linspace(0.001,0.25,30)\n",
    "integral1 = np.zeros(len(h))\n",
    "integral2 = np.zeros(len(h))\n",
    "integral3 = np.zeros(len(h))\n",
    "convergencia = np.zeros(len(h))\n",
    "\n",
    "num1=np.zeros(len(h))\n",
    "for i in range(len(h)):\n",
    "    num1[i]=int(5/h[i])\n",
    "    num=int(5/h[i])\n",
    "    x = linspace(0,5,num)\n",
    "    f = exp(-(x*x))*sin(10*x)\n",
    "    integral1[i] = int1(f,x)\n",
    "    integral2[i]=intSimpson(f,x)\n",
    "    integral3[i]=intBoole(f,x)\n",
    "    convergencia[i]=0.1021340744237976138708054220876899\n",
    "    \n",
    "#plot(num1,integral1)\n",
    "#plot(num1,integral2)\n",
    "plot(num1,integral3)\n",
    "plot(num1,convergencia)\n",
    "#title(\"Función $K(m)$\"),xlabel(\"$h$\"),grid()\n",
    "show()"
   ]
  },
  {
   "cell_type": "code",
   "execution_count": 122,
   "metadata": {},
   "outputs": [
    {
     "name": "stdout",
     "output_type": "stream",
     "text": [
      "1/10 - cos(50)/10\n"
     ]
    }
   ],
   "source": [
    "from sympy import *\n",
    "X = Symbol('X')\n",
    "m=integrate(( sin(10*X)),(X,0, 5) )\n",
    "print(m)"
   ]
  }
 ],
 "metadata": {
  "kernelspec": {
   "display_name": "Python 3",
   "language": "python",
   "name": "python3"
  },
  "language_info": {
   "codemirror_mode": {
    "name": "ipython",
    "version": 3
   },
   "file_extension": ".py",
   "mimetype": "text/x-python",
   "name": "python",
   "nbconvert_exporter": "python",
   "pygments_lexer": "ipython3",
   "version": "3.7.6"
  }
 },
 "nbformat": 4,
 "nbformat_minor": 4
}
