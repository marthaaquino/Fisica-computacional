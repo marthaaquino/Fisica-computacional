{
 "cells": [
  {
   "cell_type": "markdown",
   "metadata": {},
   "source": [
    "# Tarea 2\n",
    "### Aquino Chapa Martha Abril\n",
    "Hecho en Python"
   ]
  },
  {
   "cell_type": "code",
   "execution_count": 30,
   "metadata": {},
   "outputs": [],
   "source": [
    "#importamos las paqueterías\n",
    "from pylab import *\n",
    "import random\n",
    "from numpy import array\n",
    "# from numpy import *\n",
    "import math\n"
   ]
  },
  {
   "cell_type": "markdown",
   "metadata": {},
   "source": [
    "#### 1. En clase vimos la forma de hacer la integral numérica en la que se aproxima la integral de una función de la siguiente manera $$ \\int_{x_i-h}^{x_i+h}f(x)dx=\\frac{f(x_i-1)+4f(x_i)+f(x_i+1)}{3}h+\\mathcal{O}(h^{5})$$\n",
    "donde se desprecian los términos $\\mathcal{O}$. Calcule las integrales de las siguientes funciones para una malla uniforme:\n",
    "\n",
    "* $$\\int_0^{5}f(x)dx$$\n",
    "* $$ \\int_{-5}^{5}f^{2}(x)dx$$\n",
    "* $$ \\int_{0.5}^{5}g(x)dx$$\n",
    "\n",
    "Donde $f(x)=e^{-x^{2}}\\sin(x)$ y $g(x)=-{\\frac{2}{x^{6}}}+{\\frac{1}{x^{12}}}$. Muestre que ha podido integrar hasta una precisión de $10^{-4}$."
   ]
  },
  {
   "cell_type": "code",
   "execution_count": 14,
   "metadata": {},
   "outputs": [],
   "source": [
    "#Definimos la función integral del ejercicio 1a\n",
    "#La función dependera de a y b, los límites de la integral, n el número de puntos en la malla y f(x) la función de x\n",
    "def int1(f,x):\n",
    "    #Definimos la malla con la que trabajaremos\n",
    "   ## x=linspace(a,b,n)\n",
    "    #Definimos el espacio entre dos puntos contiguos en la malla\n",
    "    h = x[2] - x[1]\n",
    "    #Le damos un valor incial a la integral desde el cual empezará a sumar el valor de la integral\n",
    "    integral = 0 \n",
    "    #Definimos la condiciones en las cuales se evaluará nuestra integral:\n",
    "    #Si la malla en la cual vamos a integrar es par, pedimos que saque la integral del a partir de segundo elemento\n",
    "    if mod(len(f),2) == 0:\n",
    "        inicio = 2\n",
    "    #Si el número de puntos en la malla no es par le pedimos que inicie un elemento despues del primero en la malla\n",
    "    elif mod(len(f),2) == 1:\n",
    "        inicio = 1\n",
    "    #Definimos la parte del código con la que sumaremos las particiones de la integral y que vaya saltando 2 puntos\n",
    "    for i in range(inicio,len(f)-1,2):\n",
    "        integral += f[i+1] + 4*f[i] + f[i-1]\n",
    "    integral = integral*(h/3)\n",
    "    # punto inicial si se tiene un arreglo par\n",
    "    if mod(len(f),2) == 0:\n",
    "        integral += (h/48)*(23*f[0] + 26*f[1] - 4*f[2] + 6*f[3] -3*f[4])\n",
    "    return integral"
   ]
  },
  {
   "cell_type": "code",
   "execution_count": 31,
   "metadata": {},
   "outputs": [
    {
     "name": "stdout",
     "output_type": "stream",
     "text": [
      "La integral de $e^{-x^{2}}$ es  0.1021341884080086\n",
      "La precisión de la integral es:  1.1398421098651745e-07\n"
     ]
    }
   ],
   "source": [
    "# Obtenemos entonces la integral de f(x):\n",
    "#Definimos la malla\n",
    "x=linspace(0,5,1000)\n",
    "f=exp(-(x*x))*sin(10*x)\n",
    "print(r\"La integral de $e^{-x^{2}}$ es \", int1(f,x))\n",
    "#Dicha integral, hecha en wolfram tiene el valor de :\n",
    "#m=integrate(cos(x), (x,0,pi/2.0))\n",
    "m=0.1021340744237976138708054220876899\n",
    "#Obtenemos el error asociado a la integral, segun la integral de wolfram\n",
    "print(\"La precisión de la integral es: \", abs(m-int1(f,x)))"
   ]
  },
  {
   "cell_type": "code",
   "execution_count": null,
   "metadata": {},
   "outputs": [],
   "source": [
    "# Obteniendo ahora el algoritmo para la segunda integral, es lo mismo pero en este caso tendremos f^2\n",
    "#Para ello hacemos el cambio de variable de f a f^2\n",
    "#Definimos la función integral del ejercicio 1a\n",
    "#La función dependera de a y b, los límites de la integral, n el número de puntos en la malla y f(x) la función de x\n",
    "def int2(f,x):\n",
    "    #Definimos la malla con la que trabajaremos\n",
    "   ## x=linspace(a,b,n)\n",
    "    #Definimos el espacio entre dos puntos contiguos en la malla\n",
    "    h = x[2] - x[1]\n",
    "    #Le damos un valor incial a la integral desde el cual empezará a sumar el valor de la integral\n",
    "    integral = 0 \n",
    "    #Definimos la condiciones en las cuales se evaluará nuestra integral:\n",
    "    #Si la malla en la cual vamos a integrar es par, pedimos que saque la integral del a partir de segundo elemento\n",
    "    if mod(len(f),2) == 0:\n",
    "        inicio = 2\n",
    "    #Si el número de puntos en la malla no es par le pedimos que inicie un elemento despues del primero en la malla\n",
    "    elif mod(len(f),2) == 1:\n",
    "        inicio = 1\n",
    "    #Definimos la parte del código con la que sumaremos las particiones de la integral y que vaya saltando 2 puntos\n",
    "    for i in range(inicio,len(f)-1,2):\n",
    "        integral += f[i+1]*f[i+1] + 4*f[i]*f[i] + f[i-1]*f[i-1]\n",
    "    integral = integral*(h/3)\n",
    "    # punto inicial si se tiene un arreglo par\n",
    "    if mod(len(f),2) == 0:\n",
    "        integral += (h/48)*(23*f[0]*f[0] + 26*f[1]*f[1] - 4*f[2]*f[2] + 6*f[3]*f[3] -3*f[4]*f[4])\n",
    "    return integral"
   ]
  },
  {
   "cell_type": "code",
   "execution_count": null,
   "metadata": {},
   "outputs": [],
   "source": [
    "# Obtenemos entonces la integral de f(x):\n",
    "#Definimos la malla\n",
    "x=linspace(-5,5,1000)\n",
    "f=exp(-(x*x))*sin(10*x)\n",
    "print(\"La integral de $(e^{-x^{2}})^{2}$ es \", int2(f,x))\n",
    "#Dicha integral, hecha en wolfram tiene el valor de :\n",
    "m=0.6266570686577501256038175123698260447534631408887006665615074330\n",
    "#Obtenemos el error asociado a la integral, segun la integral de wolfram\n",
    "print(\"La precisión de la integral es: \", abs(m-int2(f,x)))"
   ]
  },
  {
   "cell_type": "code",
   "execution_count": null,
   "metadata": {},
   "outputs": [],
   "source": [
    "#Notemos que el código para la primera integral nos sirve para el inciso c\n",
    "x=linspace(0.5,5,10000)\n",
    "f=-(2/x**6)+(1/x**12)\n",
    "m=173.382\n",
    "print(\"La integral de $-(2/x**6)+(1/x**12)$ es \", int1(f,x))\n",
    "#Obtenemos el error asociado a la integral, segun la integral de wolfram\n",
    "print(\"La precisión de la integral es: \", abs(m-int1(f,x)))"
   ]
  },
  {
   "cell_type": "markdown",
   "metadata": {},
   "source": [
    "#### 2. Haga una función que implemente la integral numérica utilizando la regla de ''Simpson $\\frac{3}{8}$'' dada por la relación: \n",
    "$$\\int_{x_i}^{x_i+3}=\\frac{3h}{8}\\left(  f(x_i)+3f(x_{i+1})+3f(x_{i+2})+f(x_{i+3})\\right)+\\mathcal{O}(h^{5})$$\n",
    "\n",
    "#### donde se desprecian los términos $\\mathcal{O}(h^{5}$. Utilice este algoritmo para obtener lasa integrales del problema anterior con una precisión de $10^{-4}$.\n",
    "\n"
   ]
  },
  {
   "cell_type": "code",
   "execution_count": 38,
   "metadata": {},
   "outputs": [],
   "source": [
    "#Definimos la función que nos calcule la integral de Simpson\n",
    "#La función dependera de a y b, los límites de la integral, n el número de puntos en la malla y f(x) la función de x\n",
    "def intSimpson(f,x):\n",
    "    #Definimos el espacio entre dos puntos contiguos en la malla\n",
    "    h = x[2] - x[1]\n",
    "    #Le damos un valor incial a la integral desde el cual empezará a sumar el valor de la integral\n",
    "    integral = 0 \n",
    "    #Definimos la condiciones en las cuales se evaluará nuestra integral:\n",
    "    #Si la malla en la cual vamos a integrar es par, pedimos que saque la integral del a partir de segundo elemento\n",
    "    if mod(len(f)-1,3) == 0:\n",
    "        inicio = 0\n",
    "        \n",
    "    if mod(len(f)-1,3) == 1:\n",
    "        inicio = 1\n",
    "        \n",
    "    elif mod(len(f)-1,3) == 2:\n",
    "        inicio = 2\n",
    "    #Definimos la parte del código con la que sumaremos las particiones de la integral y que vaya saltando 2 puntos\n",
    "    for i in range(inicio,len(f)-4 ,3):\n",
    "        integral += f[i]+3*f[i+1]+3*f[i+2]+f[i+3]\n",
    "    integral = integral*(3*h/8)\n",
    "    \n",
    "    # Si es divisible entre 3 la malla\n",
    "    if mod(len(f)-1,3) == 2:\n",
    "        integral += (f[0] + 4*f[1] + f[2])*(h/3)\n",
    "        \n",
    "    \n",
    "    if mod(len(f)-1,3) == 2:\n",
    "        integral += (h/48)*(23*f[0]*f[0] + 26*f[1]*f[1] - 4*f[2]*f[2] + 6*f[3]*f[3] -3*f[4]*f[4])\n",
    "    return integral"
   ]
  },
  {
   "cell_type": "code",
   "execution_count": 39,
   "metadata": {},
   "outputs": [
    {
     "name": "stdout",
     "output_type": "stream",
     "text": [
      "La integral de $e^{-x^{2}}$ es  0.1021341884080086\n",
      "La precisión de la integral es:  8.320179337162337e-09\n"
     ]
    }
   ],
   "source": [
    "## Solo lo use para probar la válides de la intregral y aproxima mejor la intengral del inciso 1 a :D\n",
    "x=linspace(0,5,1000)\n",
    "f=exp(-(x*x))*sin(10*x)\n",
    "print(r\"La integral de $e^{-x^{2}}$ es \", int1(f,x))\n",
    "#Dicha integral, hecha en wolfram tiene el valor de :\n",
    "#m=integrate(cos(x), (x,0,pi/2.0))\n",
    "m=0.1021340744237976138708054220876899\n",
    "#Obtenemos el error asociado a la integral, segun la integral de wolfram\n",
    "print(\"La precisión de la integral es: \", abs(m-intSimpson(f,x)))"
   ]
  }
 ],
 "metadata": {
  "kernelspec": {
   "display_name": "Python 3",
   "language": "python",
   "name": "python3"
  },
  "language_info": {
   "codemirror_mode": {
    "name": "ipython",
    "version": 3
   },
   "file_extension": ".py",
   "mimetype": "text/x-python",
   "name": "python",
   "nbconvert_exporter": "python",
   "pygments_lexer": "ipython3",
   "version": "3.7.6"
  }
 },
 "nbformat": 4,
 "nbformat_minor": 4
}
