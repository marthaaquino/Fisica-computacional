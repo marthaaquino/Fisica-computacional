{
 "cells": [
  {
   "cell_type": "markdown",
   "metadata": {},
   "source": [
    "# Tarea 2\n",
    "### Aquino Chapa Martha Abril\n",
    "Hecho en Python 🐍"
   ]
  },
  {
   "cell_type": "code",
   "execution_count": null,
   "metadata": {},
   "outputs": [],
   "source": [
    "#importamos las paqueterías\n",
    "from pylab import *\n",
    "import random\n",
    "from numpy import array\n",
    "import math"
   ]
  },
  {
   "cell_type": "markdown",
   "metadata": {},
   "source": [
    "#### 1. En clase vimos la forma de hacer la integral numérica en la que se aproxima la integral de una función de la siguiente manera $$ \\int_{x_i-h}^{x_i+h}f(x)dx=\\frac{f(x_i-1)+4f(x_i)+f(x_i+1)}{3}h+\\mathcal{O}(h^{5})$$\n",
    "donde se desprecian los términos $\\mathcal{O}$. Calcule las integrales de las siguientes funciones para una malla uniforme:\n",
    "\n",
    "* $$\\int_0^{5}f(x)dx$$\n",
    "* $$ \\int_{-5}^{5}f^{2}(x)dx$$\n",
    "* $$ \\int_{0.5}^{5}g(x)dx$$\n",
    "\n",
    "Donde $f(x)=e^{-x^{2}}\\sin(x)$ y $g(x)=-{\\frac{2}{x^{6}}}+{\\frac{1}{x^{12}}}$. Muestre que ha podido integrar hasta una precisión de $10^{-4}$."
   ]
  },
  {
   "cell_type": "code",
   "execution_count": 2,
   "metadata": {},
   "outputs": [],
   "source": [
    "#Definimos la función integral del ejercicio \n",
    "def int1(f,x):\n",
    "    #Definimos el espacio entre dos puntos contiguos en la malla\n",
    "    h = x[2] - x[1]\n",
    "    #Le damos un valor incial a la integral desde el cual empezará a sumar el valor de la integral\n",
    "    integral = 0 \n",
    "    #Definimos la condiciones en las cuales se evaluará nuestra integral:\n",
    "    #Si la malla en la cual vamos a integrar es par, pedimos que saque la integral a partir de segundo elemento\n",
    "    if mod(len(f),2) == 0:\n",
    "        inicio = 2\n",
    "    #Si el número de puntos en la malla no es par le pedimos que inicie un elemento despues del primer elemento en la malla\n",
    "    elif mod(len(f),2) == 1:\n",
    "        inicio = 1\n",
    "    #Definimos la parte del código con la que sumaremos las particiones de la integral y que vaya saltando 2 puntos\n",
    "    for i in range(inicio,len(f)-1,2):\n",
    "        integral += f[i+1] + 4*f[i] + f[i-1]\n",
    "    integral = integral*(h/3)\n",
    "    #la integral en la frontera es\n",
    "    if mod(len(f),2) == 0:\n",
    "        integral += (h/48)*(23*f[0] + 26*f[1] - 4*f[2] + 6*f[3] -3*f[4])\n",
    "    return integral"
   ]
  },
  {
   "cell_type": "markdown",
   "metadata": {},
   "source": [
    "Obtenemos la integral de f(x) de 0 a 5:"
   ]
  },
  {
   "cell_type": "code",
   "execution_count": 3,
   "metadata": {},
   "outputs": [
    {
     "name": "stdout",
     "output_type": "stream",
     "text": [
      "La integral de f(x) es:  0.10216413209752144\n",
      "La precisión de la integral es:  3.0057673723826728e-05\n"
     ]
    }
   ],
   "source": [
    "# Obtenemos entonces la integral de f(x):\n",
    "#Definimos la malla\n",
    "x=linspace(0,5,107)\n",
    "f=exp(-(x*x))*sin(10*x)\n",
    "print('La integral de f(x) es: ',int1(f,x))\n",
    "#Dicha integral, hecha en wolfram tiene el valor de :\n",
    "m=0.1021340744237976138708054220876899\n",
    "#Obtenemos el error asociado a la integral, segun la integral de wolfram\n",
    "print(\"La precisión de la integral es: \", abs(m-int1(f,x)))"
   ]
  },
  {
   "cell_type": "markdown",
   "metadata": {},
   "source": [
    "Ahora obtenemos un algoritmo para la integral de $f^{2}(x)$, para ello en la funcion int1, hacemos el cambio de $f(x)\\rightarrow f^{2}(x)$."
   ]
  },
  {
   "cell_type": "code",
   "execution_count": 4,
   "metadata": {},
   "outputs": [],
   "source": [
    "# Obteniendo ahora el algoritmo para la segunda integral, es lo mismo pero en este caso tendremos f^2\n",
    "#Para ello hacemos el cambio de variable de f a f^2\n",
    "#Definimos la función integral del ejercicio 1a\n",
    "def int2(f,x):\n",
    "    #Definimos el espacio entre dos puntos contiguos en la malla\n",
    "    h = x[2] - x[1]\n",
    "    #Le damos un valor incial a la integral desde el cual empezará a sumar el valor de la integral\n",
    "    integral = 0 \n",
    "    #Definimos la condiciones en las cuales se evaluará nuestra integral:\n",
    "    #Si la malla en la cual vamos a integrar es par, pedimos que saque la integral a partir de tercer elemento\n",
    "    if mod(len(f),2) == 0:\n",
    "        inicio = 2\n",
    "    #Si el número de puntos en la malla no es par le pedimos que inicie un elemento despues del primero en la malla\n",
    "    elif mod(len(f),2) == 1:\n",
    "        inicio = 1\n",
    "    #Definimos la parte del código con la que sumaremos las particiones de la integral y que vaya saltando 2 puntos\n",
    "    for i in range(inicio,len(f)-1,2):\n",
    "        integral += f[i+1]*f[i+1] + 4*f[i]*f[i] + f[i-1]*f[i-1]\n",
    "    integral = integral*(h/3)\n",
    "    # punto inicial si se tiene un arreglo par\n",
    "    if mod(len(f),2) == 0:\n",
    "        integral += (h/48)*(23*f[0]*f[0] + 26*f[1]*f[1] - 4*f[2]*f[2] + 6*f[3]*f[3] -3*f[4]*f[4])\n",
    "    return integral"
   ]
  },
  {
   "cell_type": "markdown",
   "metadata": {},
   "source": [
    "Obtenemos la integral de $f^{2}(x)$"
   ]
  },
  {
   "cell_type": "code",
   "execution_count": 5,
   "metadata": {},
   "outputs": [
    {
     "name": "stdout",
     "output_type": "stream",
     "text": [
      "La integral de $f^{2}(x)$ es  0.6266644078503681\n",
      "La precisión de la integral es:  7.339192617972223e-06\n"
     ]
    }
   ],
   "source": [
    "# Obtenemos entonces la integral de f(x):\n",
    "#Definimos la malla\n",
    "x=linspace(-5,5,48)\n",
    "f=exp(-(x*x))*sin(10*x)\n",
    "print(r'La integral de $f^{2}(x)$ es ', int2(f,x))\n",
    "#Dicha integral, hecha en wolfram tiene el valor de :\n",
    "m=0.6266570686577501256038175123698260447534631408887006665615074330\n",
    "#Obtenemos el error asociado a la integral, segun la integral de wolfram\n",
    "print(\"La precisión de la integral es: \", abs(m-int2(f,x)))"
   ]
  },
  {
   "cell_type": "markdown",
   "metadata": {},
   "source": [
    "Obtenemos ahora la integral de g(x), donde usaremos la función int1."
   ]
  },
  {
   "cell_type": "code",
   "execution_count": 6,
   "metadata": {},
   "outputs": [
    {
     "name": "stdout",
     "output_type": "stream",
     "text": [
      "La integral de g(x) es  173.38207938379168\n",
      "La precisión de la integral es:  7.938379167171661e-05\n"
     ]
    }
   ],
   "source": [
    "#Notemos que el código para la primera integral nos sirve para el inciso c\n",
    "x=linspace(0.5,5,1051)\n",
    "f=-(2/x**6)+(1/x**12)\n",
    "m=173.382\n",
    "print(\"La integral de g(x) es \", int1(f,x))\n",
    "#Obtenemos el error asociado a la integral, segun la integral de wolfram\n",
    "print(\"La precisión de la integral es: \", abs(m-int1(f,x)))"
   ]
  },
  {
   "cell_type": "markdown",
   "metadata": {},
   "source": [
    "#### 2. Haga una función que implemente la integral numérica utilizando la regla de ''Simpson $\\frac{3}{8}$'' dada por la relación: \n",
    "$$\\int_{x_i}^{x_i+3}=\\frac{3h}{8}\\left(  f(x_i)+3f(x_{i+1})+3f(x_{i+2})+f(x_{i+3})\\right)+\\mathcal{O}(h^{5})$$\n",
    "\n",
    "#### donde se desprecian los términos $\\mathcal{O}(h^{5}$. Utilice este algoritmo para obtener lasa integrales del problema anterior con una precisión de $10^{-4}$.\n",
    "\n"
   ]
  },
  {
   "cell_type": "code",
   "execution_count": 7,
   "metadata": {},
   "outputs": [],
   "source": [
    "#Definimos la función que nos calcule la integral de Simpson\n",
    "def intSimpson(f,x):\n",
    "    #Definimos el espacio entre dos puntos contiguos en la malla\n",
    "    h = x[2] - x[1]\n",
    "    #Le damos un valor incial a la integral desde el cual empezará a sumar el valor de la integral\n",
    "    integral = 0 \n",
    "    #Definimos la condiciones en las cuales se evaluará nuestra integral:\n",
    "    #Si la malla,menos el primer punto, en la cual vamos a integrar es divisible entre 3, pedimos que saque la integral a partir de primer elemento\n",
    "    if mod(len(f)-1,3) == 0:\n",
    "        inicio = 0\n",
    "    #Si la malla,menos el primer punto,el residuo de dividir entre 3 es 1, pedimos que saque la integral del a partir del segundo elemento   \n",
    "    if mod(len(f)-1,3) == 1:\n",
    "        inicio = 1\n",
    "    #Si la malla,menos el primer punto,el residuo de dividir entre 3 es 2, pedimos que saque la integral del a partir del tercer elemento       \n",
    "    elif mod(len(f)-1,3) == 2:\n",
    "        inicio = 2\n",
    "    #Definimos la parte del código con la que sumaremos las particiones de la integral y que vaya saltando 3 puntos\n",
    "    for i in range(inicio,len(f)-4 ,3):\n",
    "        integral += f[i]+3*f[i+1]+3*f[i+2]+f[i+3]\n",
    "    integral = integral*(3*h/8)\n",
    "    \n",
    "    # Si nos sobran tres puntos, podemos usar el algoritmo del ejercicio 1.\n",
    "    if mod(len(f)-1,3) == 2:\n",
    "        integral += (f[0] + 4*f[1] + f[2])*(h/3)\n",
    "        \n",
    "    #Si solo tenemos dos puntos en la frontera, le sumamos el siguiente valor a la integral \n",
    "    if mod(len(f)-1,3) == 1:\n",
    "        integral += (h/48)*(23*f[0]+ 26*f[1] - 4*f[2] + 6*f[3] -3*f[4])\n",
    "    return integral"
   ]
  },
  {
   "cell_type": "markdown",
   "metadata": {},
   "source": [
    "Ya que tenemos el algoritmo para la integral de Simpson, usemosla para obtener la integral de las funciones del ejercicio 1.\n",
    "Iniciamos con $f(x)$"
   ]
  },
  {
   "cell_type": "code",
   "execution_count": 8,
   "metadata": {},
   "outputs": [
    {
     "name": "stdout",
     "output_type": "stream",
     "text": [
      "La integral de Simpson $f(x)$ es  0.10222669406705334\n",
      "La precisión de la integral es:  9.261964325572858e-05\n"
     ]
    }
   ],
   "source": [
    "x=linspace(0,5,100)\n",
    "f=exp(-(x*x))*sin(10*x)\n",
    "print(r\"La integral de Simpson $f(x)$ es \", intSimpson(f,x))\n",
    "#Dicha integral, hecha en wolfram tiene el valor de :\n",
    "m=0.1021340744237976138708054220876899\n",
    "#Obtenemos el error asociado a la integral, segun la integral de wolfram\n",
    "print(\"La precisión de la integral es: \", abs(m-intSimpson(f,x)))"
   ]
  },
  {
   "cell_type": "markdown",
   "metadata": {},
   "source": [
    "Debido a que queremos la integral de una función al cuadrado, la función intSimpson no nos sirve, a menos que queramos elevar nuestra función al cuadrado, pero aveces somos flojos, entonces modificamos el código de la función anterior intercambiando $f$ por $f^{2}$ para solo meter la función y ahorrar tiempo :D"
   ]
  },
  {
   "cell_type": "code",
   "execution_count": 10,
   "metadata": {},
   "outputs": [],
   "source": [
    "#Definimos la función que nos calcule la integral de Simpson de una función f^2\n",
    "def intSimpson2(f,x):\n",
    "    #Definimos el espacio entre dos puntos contiguos en la malla\n",
    "    h = x[2] - x[1]\n",
    "    #Le damos un valor incial a la integral desde el cual empezará a sumar el valor de la integral\n",
    "    integral = 0 \n",
    "    #Definimos la condiciones en las cuales se evaluará nuestra integral:\n",
    "    #Si la malla,menos el primer punto, en la cual vamos a integrar es divisible entre 3, pedimos que saque la integral a partir de primer elemento\n",
    "    if mod(len(f)-1,3) == 0:\n",
    "        inicio = 0\n",
    "    #Si la malla,menos el primer punto,el residuo de dividir entre 3 es 1, pedimos que saque la integral del a partir del segundo elemento   \n",
    "    if mod(len(f)-1,3) == 1:\n",
    "        inicio = 1\n",
    "    #Si la malla,menos el primer punto,el residuo de dividir entre 3 es 2, pedimos que saque la integral del a partir del tercer elemento       \n",
    "    elif mod(len(f)-1,3) == 2:\n",
    "        inicio = 2\n",
    "    #Definimos la parte del código con la que sumaremos las particiones de la integral y que vaya saltando 2 puntos\n",
    "    for i in range(inicio,len(f)-4 ,3):\n",
    "        integral += f[i]*f[i]+3*f[i+1]*f[i+1]+3*f[i+2]*f[i+2]+f[i+3]*f[i+3]\n",
    "    integral = integral*(3*h/8)\n",
    "    # Si nos sobran tres puntos, podemos usar el algoritmo del ejercicio 1.\n",
    "    if mod(len(f)-1,3) == 2:\n",
    "        integral += (f[0]*f[0] + 4*f[1]*f[1] + f[2]*f[2])*(h/3)\n",
    "        \n",
    "    #Si solo tenemos dos puntos en la frontera, le sumamos el siguiente valor a la integral \n",
    "    if mod(len(f)-1,3) == 1:\n",
    "        integral += (h/48)*(23*f[0]*f[0] + 26*f[1]*f[1] - 4*f[2]*f[2] + 6*f[3]*f[3] -3*f[4]*f[4])\n",
    "    return integral"
   ]
  },
  {
   "cell_type": "markdown",
   "metadata": {},
   "source": [
    "Obtenemos la integral de $f^{2}$"
   ]
  },
  {
   "cell_type": "code",
   "execution_count": 11,
   "metadata": {},
   "outputs": [
    {
     "name": "stdout",
     "output_type": "stream",
     "text": [
      "La integral de Simpson de f^2 es  0.6266582861443991\n",
      "La precisión de la integral es:  1.2174866489411684e-06\n"
     ]
    }
   ],
   "source": [
    "#Definimos la malla\n",
    "x=linspace(-5,5,140)\n",
    "f=exp(-(x*x))*sin(10*x)\n",
    "print(\"La integral de Simpson de f^2 es \", intSimpson2(f,x))\n",
    "#Dicha integral, hecha en wolfram tiene el valor de :\n",
    "m=0.6266570686577501256038175123698260447534631408887006665615074330\n",
    "#Obtenemos el error asociado a la integral, segun la integral de wolfram\n",
    "print(\"La precisión de la integral es: \", abs(m-intSimpson2(f,x)))"
   ]
  },
  {
   "cell_type": "markdown",
   "metadata": {},
   "source": [
    "Ahora obtenemos la integral de la función g utilizando la función intSimp"
   ]
  },
  {
   "cell_type": "code",
   "execution_count": 12,
   "metadata": {},
   "outputs": [
    {
     "name": "stdout",
     "output_type": "stream",
     "text": [
      "La integral de g(x) es  173.38194638945512\n",
      "La precisión de la integral es:  5.3610544881621536e-05\n"
     ]
    }
   ],
   "source": [
    "#Notemos que el código para la primera integral nos sirve para el inciso c\n",
    "x=linspace(0.5,5,10000)\n",
    "f=-(2/x**6)+(1/x**12)\n",
    "m=173.382\n",
    "print(\"La integral de g(x) es \", intSimpson(f,x))\n",
    "#Obtenemos el error asociado a la integral, segun la integral de wolfram\n",
    "print(\"La precisión de la integral es: \", abs(m-intSimpson(f,x)))"
   ]
  },
  {
   "cell_type": "markdown",
   "metadata": {},
   "source": [
    "### 3. Haga una función que implemente la integral númerica utilizando la regla de ''Boole'' dada por la relación \n",
    "$$\\int_{x_i}^{x_{i+4}}f(x)={\\frac{2h}{48}}(7f(x_i)+32f(x_{i+1})+12f(x_{i+2})+32f(x_{i+3})+7f(x_{i+4}))+\\mathcal{O}(h^{7}) $$\n",
    "### donde se desprecian los términos $\\mathcal{O}(h^{7})$. Utilice este algoritmo para obtener las integrales del problema anterior con una precisión de $10^{-4}$."
   ]
  },
  {
   "cell_type": "code",
   "execution_count": 13,
   "metadata": {},
   "outputs": [],
   "source": [
    "#Definimos la función que nos calcule la integral de Boole\n",
    "def intBoole(f,x):\n",
    "    #Definimos el espacio entre dos puntos contiguos en la malla\n",
    "    h = x[2] - x[1]\n",
    "    #Le damos un valor incial a la integral desde el cual empezará a sumar el valor de la integral\n",
    "    integral = 0 \n",
    "    #Definimos la condiciones en las cuales se evaluará nuestra integral:\n",
    "    #Si la malla, menos un punto, en la cual vamos a integrar es divisible entre 4, pedimos que saque la integral del a partir del primer elemento\n",
    "    if mod(len(f)-1,4) == 0:\n",
    "        inicio = 0\n",
    "    #Si el residuo de el num de puntos en la malla,menos 1, entre 4 es 1, pedimos que saque la integral del a partir del segundo elemento de la malla\n",
    "    if mod(len(f)-1,4) == 1:\n",
    "        inicio = 1\n",
    "        \n",
    "    #Si el residuo de el num de puntos en la malla,menos 1, entre 4, es 2, pedimos que saque la integral del a partir del tercer elemento de la malla\n",
    "    if mod(len(f)-1,4) == 2:\n",
    "        inicio = 2\n",
    "        \n",
    "    #Si el residuo de el num de puntos en la malla,menos 1, entre 4, es 3 pedimos que saque la integral del a partir del cuarto elemento de la malla\n",
    "    if mod(len(f)-1,4) == 3:\n",
    "        inicio = 3\n",
    "    #Definimos la parte del código con la que sumaremos las particiones de la integral y que vaya saltando 4 puntos\n",
    "    for i in range(inicio,len(f)-4 ,4):\n",
    "        integral += 7*f[i]+32*f[i+1]+12*f[i+2]+32*f[i+3]+7*f[i+4]\n",
    "    integral = integral*(2*h/45)\n",
    "    #Definimos la integral correspondiente a los puntos frontera para sumarlos a la integral total.\n",
    "    \n",
    "    if mod(len(f)-1,4) == 3:\n",
    "        integral +=(f[i]+3*f[i+1]+3*f[i+2]+f[i+3])*(3*h/8)\n",
    "    \n",
    "    if mod(len(f)-1,4) == 2:\n",
    "        integral += ((f[0] + 4*f[1] + f[2]))*(h/3)\n",
    "        \n",
    "    \n",
    "    if mod(len(f)-1,4) == 1:\n",
    "        integral += (h/48)*(23*f[0]+ 26*f[1] - 4*f[2] + 6*f[3] -3*f[4])\n",
    "        #integral += (h/48)*(23*f[0]*f[0] + 26*f[1]*f[1] - 4*f[2]*f[2] + 6*f[3]*f[3] -3*f[4]*f[4])\n",
    "    return integral"
   ]
  },
  {
   "cell_type": "code",
   "execution_count": 14,
   "metadata": {},
   "outputs": [
    {
     "name": "stdout",
     "output_type": "stream",
     "text": [
      "La integral de f(x) es  0.102093434309707\n",
      "La precisión de la integral es:  4.064011409060653e-05\n"
     ]
    }
   ],
   "source": [
    "#Definimos la malla\n",
    "x=linspace(0,5,73)\n",
    "f=exp(-(x*x))*sin(10*x)\n",
    "print(r\"La integral de f(x) es \", intBoole(f,x))\n",
    "#Dicha integral, hecha en wolfram tiene el valor de :\n",
    "#m=integrate(cos(x), (x,0,pi/2.0))\n",
    "m=0.1021340744237976138708054220876899\n",
    "#Obtenemos el error asociado a la integral, segun la integral de wolfram\n",
    "print(\"La precisión de la integral es: \", abs(m-intBoole(f,x)))"
   ]
  },
  {
   "cell_type": "markdown",
   "metadata": {},
   "source": [
    "Modificamos la función intBoole para obtener la integral de una función $f^{2}$"
   ]
  },
  {
   "cell_type": "code",
   "execution_count": 15,
   "metadata": {},
   "outputs": [],
   "source": [
    "#Definimos la función que nos calcule la integral de Boole para una función f^2\n",
    "#Para ello solo cambiaremos en la función intBoole f por f*f\n",
    "def intBoole2(f,x):\n",
    "    #Definimos el espacio entre dos puntos contiguos en la malla\n",
    "    h = x[2] - x[1]\n",
    "    #Le damos un valor incial a la integral desde el cual empezará a sumar el valor de la integral\n",
    "    integral = 0 \n",
    "    #Definimos la condiciones en las cuales se evaluará nuestra integral:\n",
    "    if mod(len(f)-1,4) == 0:\n",
    "        inicio = 0\n",
    "        \n",
    "    if mod(len(f)-1,4) == 1:\n",
    "        inicio = 1\n",
    "        \n",
    "    if mod(len(f)-1,4) == 2:\n",
    "        inicio = 2\n",
    "    \n",
    "    if mod(len(f)-1,4) == 3:\n",
    "        inicio = 3\n",
    "    #Definimos la parte del código con la que sumaremos las particiones de la integral y que vaya saltando 2 puntos\n",
    "    for i in range(inicio,len(f)-4 ,4):\n",
    "        integral += 7*f[i]*f[i]+32*f[i+1]*f[i+1]+12*f[i+2]*f[i+2]+32*f[i+3]*f[i+3]+7*f[i+4]*f[i+4]\n",
    "    integral = integral*(2*h/45)\n",
    "    \n",
    "    if mod(len(f)-1,4) == 3:\n",
    "        integral +=(f[i]*f[i]+3*f[i+1]*f[i+1]+3*f[i+2]*f[i+2]+f[i+3]*f[i+3])*(3*h/8)\n",
    "    \n",
    "    if mod(len(f)-1,4) == 2:\n",
    "        integral += ((f[0]*f[0] + 4*f[1]*f[1] + f[2]*f[2]))*(h/3)\n",
    "        \n",
    "    \n",
    "    if mod(len(f)-1,4) == 1:\n",
    "        integral += (h/48)*(23*f[0]*f[0]+ 26*f[1]*f[1] - 4*f[2]*f[2] + 6*f[3]*f[3] -3*f[4]*f[4])\n",
    "    return integral"
   ]
  },
  {
   "cell_type": "markdown",
   "metadata": {},
   "source": [
    "Obtenemos la integral para $f^{2}(x)$"
   ]
  },
  {
   "cell_type": "code",
   "execution_count": 16,
   "metadata": {},
   "outputs": [
    {
     "name": "stdout",
     "output_type": "stream",
     "text": [
      "La integral de f^2(x)  0.6266497344529481\n",
      "La precisión de la integral es:  7.334204802034172e-06\n"
     ]
    }
   ],
   "source": [
    "#Definimos la malla\n",
    "x=linspace(-5,5,80)\n",
    "f=exp(-(x*x))*sin(10*x)\n",
    "print(\"La integral de f^2(x) \", intBoole2(f,x))\n",
    "#Dicha integral, hecha en wolfram tiene el valor de :\n",
    "m=0.6266570686577501256038175123698260447534631408887006665615074330\n",
    "#Obtenemos el error asociado a la integral, segun la integral de wolfram\n",
    "print(\"La precisión de la integral es: \", abs(m-intBoole2(f,x)))"
   ]
  },
  {
   "cell_type": "markdown",
   "metadata": {},
   "source": [
    "Ahora obtenemos la integral usando la función intBoole"
   ]
  },
  {
   "cell_type": "code",
   "execution_count": 17,
   "metadata": {},
   "outputs": [
    {
     "name": "stdout",
     "output_type": "stream",
     "text": [
      "La integral de g(x) es  173.3819473696758\n",
      "La precisión de la integral es:  5.263032420543823e-05\n"
     ]
    }
   ],
   "source": [
    "#Notemos que el código para la primera integral nos sirve para el inciso c\n",
    "x=linspace(0.5,5,1001)\n",
    "f=-(2/x**6)+(1/x**12)\n",
    "m=173.382\n",
    "print(\"La integral de g(x) es \", intBoole(f,x))\n",
    "#Obtenemos el error asociado a la integral, segun la integral de wolfram\n",
    "print(\"La precisión de la integral es: \", abs(m-intBoole(f,x)))"
   ]
  },
  {
   "cell_type": "markdown",
   "metadata": {},
   "source": [
    "### 4.Utilizando la integral del problema 1(a), realicce una tabla en la que se muestre la convergencia de los 3 algoritmos anteriores comenzando con h=0.25 hasta h=00001. La tabla debe tener por lo menos 30 diferentes h's. Obtenga el número de puntos en la malla para cada h y haga una gráfica en la que se muestre la convergencia de los 3 algoritmos, Números de puntos vs valor de la integral."
   ]
  },
  {
   "cell_type": "code",
   "execution_count": 18,
   "metadata": {},
   "outputs": [
    {
     "name": "stdout",
     "output_type": "stream",
     "text": [
      "         h               Integral1          Int. Simpson         Int.Boole      \n",
      "       0.001            0.1021340746        0.1021340746         0.10208906     \n",
      "   0.009586206897       0.1021341248        0.1021356692        0.1021340742    \n",
      "   0.01817241379        0.1021347304        0.102153813         0.1021341146    \n",
      "   0.02675862069        0.1022179266        0.1021406341        0.1022147844    \n",
      "   0.03534482759        0.1021438235        0.1021529255        0.1021334985    \n",
      "   0.04393103448        0.1021581129         0.10263214         0.1021317657    \n",
      "   0.05251724138        0.1021830899        0.1029567347        0.1021595482    \n",
      "   0.06110344828        0.1022289353        0.1022598677        0.1021140294    \n",
      "   0.06968965517        0.1022986983        0.1034991111        0.1022901761    \n",
      "   0.07827586207        0.1024070885        0.1023468474        0.1024696028    \n",
      "   0.08686206897        0.1025533202        0.1023397538        0.101885252     \n",
      "   0.09544827586        0.1006763761        0.1037956002       -0.08982094276   \n",
      "    0.1040344828       0.09833710531        0.1020245992       -0.09118687748   \n",
      "    0.1126206897       0.09444509073       0.09520963507       -0.08600546964   \n",
      "    0.1212068966        0.1039525229       0.09084696123       0.09747364844    \n",
      "    0.1297931034       0.08411313519       0.08450627332       0.09228851905    \n",
      "    0.1383793103       0.07917737055       0.09655988193       -0.05030454013   \n",
      "    0.1469655172       0.07352053662        0.1235859288       0.08933091811    \n",
      "    0.1555517241       0.06731288507        0.0513162795      -0.003494672393   \n",
      "    0.164137931        0.06080158191        0.1078918527       0.07135196068    \n",
      "    0.1727241379       0.05399185634        0.1382258797       0.06455280371    \n",
      "    0.1813103448        0.1181590208        0.1613191514        0.1018908147    \n",
      "    0.1898965517       0.04537626705       -0.01353745556      0.04041088761    \n",
      "    0.1984827586        0.1294076382       0.07375911613        0.1574672696    \n",
      "    0.2070689655       0.02768328359        0.2009784698       0.09130241876    \n",
      "    0.2156551724        0.1557140375       0.03871268199        0.1560178488    \n",
      "    0.2242413793       -0.01693035588      0.002881915115       -0.046647829    \n",
      "    0.2328275862        0.2011356401        0.1552570443        0.2487800658    \n",
      "    0.2414137931       -0.0789387645       0.08214808672       -0.05391375088   \n",
      "        0.25           -0.0789387645       0.08214808672       -0.05391375088   \n"
     ]
    }
   ],
   "source": [
    "#Definimos el intervalo de h's que queremos cubrir\n",
    "h = linspace(0.001,0.25,30)\n",
    "print('{:^20}{:^20}{:^20}{:^20}'.format('h','Integral1','Int. Simpson','Int.Boole'))\n",
    "for i in range(len(h)):\n",
    "    #Tomamos el elmento i de las h's\n",
    "    m=h[i]\n",
    "    #Obtenemos el número de puntos en la malla cuya distancia entre dos puntos consecuentes es h\n",
    "    num=int(5/h[i])\n",
    "    #Definimos la malla donde integraremos\n",
    "    x = linspace(0,5,num)\n",
    "    #Definimos la función f(x)\n",
    "    f = exp(-(x*x))*sin(10*x)\n",
    "    #Obtenemos la integral de f(x) con los tres diferentes algoritmos\n",
    "    #Con la función del ejercicio 1\n",
    "    integral1=int1(f,x)\n",
    "    #Con la función del ejercicio 2\n",
    "    integral2=intSimpson(f,x)\n",
    "    #Con la función del ejercicio 3\n",
    "    integral3=intBoole(f,x)\n",
    "    #Inprimimos cada uno de los valores de la integral con la respectiva h\n",
    "    print('{:^20.10}{:^20.10}{:^20.10}{:^20.10}'.format(m,integral1,integral2,integral3))\n",
    "    "
   ]
  },
  {
   "cell_type": "markdown",
   "metadata": {},
   "source": [
    "Obteniendo ahora las graficas de convergencia para cada algoritmo, iniciando por el correspondiente al ejercicio 1:"
   ]
  },
  {
   "cell_type": "code",
   "execution_count": 39,
   "metadata": {},
   "outputs": [],
   "source": [
    "#Definimos nuestro espacio de h's, distancia entre dos puntos consecutivos\n",
    "h = linspace(0.25,0.001,30)\n",
    "#Definimos los arreglos donde iremos ingresando los valores de la integral con las diferentes h's\n",
    "integral_1 = np.zeros(len(h))\n",
    "integral_2 = np.zeros(len(h))\n",
    "integral_3 = np.zeros(len(h))\n",
    "#Definimos un arreglo para anexar el valor de Wolfram de la integral\n",
    "convergencia = np.zeros(len(h))\n",
    "#Hacemos un último arreglo para anexar el número de puntos correspondientes al espacio de lasa h's\n",
    "num1=np.zeros(len(h))\n",
    "for i in range(len(h)):\n",
    "    #Obtenemos el num de puntos en malla con distancia entre sus puntos h[i] con los que definiremos la malla de la integral\n",
    "    num1[i]=int(5/h[i])\n",
    "    #Obtenemos el num de puntos en malla con distancia entre sus puntos h[i] para nuestro arreglo de número de puntos\n",
    "    num=int(5/h[i])\n",
    "    #Definimos la malla donde integraremos\n",
    "    x = linspace(0,5,num)\n",
    "    #Definimos la función f(x)\n",
    "    f= exp(-(x*x))*sin(10*x)\n",
    "    #Obtenemos las integrales correspondientes a num de puntos en la malla \n",
    "    integral_1[i] = int1(f,x)\n",
    "    integral_2[i]=intSimpson(f,x)\n",
    "    integral_3[i]=intBoole(f,x)\n",
    "    convergencia[i]=0.1021340744237976138708054220876899"
   ]
  },
  {
   "cell_type": "markdown",
   "metadata": {},
   "source": [
    "Obtenemos las gráficas de convergencia, donde la línea horizontal marca el valor de la integral según Wolfram.\n",
    "La convergencia para la integral del primer algoritmo:"
   ]
  },
  {
   "cell_type": "code",
   "execution_count": 40,
   "metadata": {},
   "outputs": [
    {
     "data": {
      "image/png": "[encoded data removed]",
      "text/plain": [
       "<Figure size 432x288 with 1 Axes>"
      ]
     },
     "metadata": {
      "needs_background": "light"
     },
     "output_type": "display_data"
    },
    {
     "data": {
      "text/plain": [
       "(Text(0.5, 17.700000000000003, 'Número de puntos'),\n",
       " Text(17.200000000000003, 0.5, 'Valor de la integral'),\n",
       " None,\n",
       " None)"
      ]
     },
     "execution_count": 40,
     "metadata": {},
     "output_type": "execute_result"
    }
   ],
   "source": [
    "plot(num1,integral_1)\n",
    "plot(num1,convergencia )\n",
    "title(\"Convergencia de la integral 1\")\n",
    "xlabel(\"Número de puntos\"),ylabel(\"Valor de la integral\"),grid(),show()"
   ]
  },
  {
   "cell_type": "markdown",
   "metadata": {},
   "source": [
    "La convergencia para el algoritmo de la integral de Simpson:"
   ]
  },
  {
   "cell_type": "code",
   "execution_count": 41,
   "metadata": {},
   "outputs": [
    {
     "data": {
      "image/png": "[encoded data removed]",
      "text/plain": [
       "<Figure size 432x288 with 1 Axes>"
      ]
     },
     "metadata": {
      "needs_background": "light"
     },
     "output_type": "display_data"
    },
    {
     "data": {
      "text/plain": [
       "(Text(0.5, 1, 'Convergencia de la integral 2'),\n",
       " Text(0.5, 17.700000000000003, 'Número de puntos'),\n",
       " Text(17.200000000000003, 0.5, 'Valor de la integral'),\n",
       " None,\n",
       " None)"
      ]
     },
     "execution_count": 41,
     "metadata": {},
     "output_type": "execute_result"
    }
   ],
   "source": [
    "plot(num1,integral_2)\n",
    "plot(num1,convergencia)\n",
    "title(\"Convergencia de la integral 2\"),xlabel(\"Número de puntos\"),ylabel(\"Valor de la integral\"),grid(),show()"
   ]
  },
  {
   "cell_type": "markdown",
   "metadata": {},
   "source": [
    "Convergencia del algoritmo de la integral con la relación de Boole."
   ]
  },
  {
   "cell_type": "code",
   "execution_count": 42,
   "metadata": {},
   "outputs": [
    {
     "data": {
      "image/png": "[encoded data removed]",
      "text/plain": [
       "<Figure size 432x288 with 1 Axes>"
      ]
     },
     "metadata": {
      "needs_background": "light"
     },
     "output_type": "display_data"
    },
    {
     "data": {
      "text/plain": [
       "(Text(0.5, 1, 'Convergencia de la integral 3'),\n",
       " Text(0.5, 17.700000000000003, 'Número de puntos'),\n",
       " Text(17.200000000000003, 0.5, 'Valor de la integral'),\n",
       " None,\n",
       " None)"
      ]
     },
     "execution_count": 42,
     "metadata": {},
     "output_type": "execute_result"
    }
   ],
   "source": [
    "plot(num1,integral_3)\n",
    "plot(num1,convergencia)\n",
    "title(\"Convergencia de la integral 3\"),xlabel(\"Número de puntos\"),ylabel(\"Valor de la integral\"),grid(),show()"
   ]
  },
  {
   "cell_type": "markdown",
   "metadata": {},
   "source": [
    "Apreciamos que las integrales no convergen de una manera agraciada con pequeños puntos en la malla, sin embargo, conforme se aumenta el número de puntos en la malla la integral converge al valor de la integral obtenido con Wolfram.\n",
    "Sin embargo no converge de una manera suave, ya que con pocos puntos en la malla oscila incluso entre valores negativos. También esperaba que la convergencia de la integral fuera una curva suave similar a un polinomio o un logaritmo, sin embargo considero que esto se podría deber a que la función f(x) no es integrable, que el algoritmo esté mal, o incluso que la relación matemática de la integral númerica no se adapte bien a las fronteras. Por ejemplo si tomamos la convergencia de la integral con la relación de Simpson:"
   ]
  },
  {
   "cell_type": "code",
   "execution_count": 51,
   "metadata": {},
   "outputs": [
    {
     "data": {
      "image/png": "[encoded data removed]",
      "text/plain": [
       "<Figure size 432x288 with 1 Axes>"
      ]
     },
     "metadata": {
      "needs_background": "light"
     },
     "output_type": "display_data"
    },
    {
     "data": {
      "text/plain": [
       "(Text(0.5, 1, 'Convergencia de la integral de g(x)'),\n",
       " Text(0.5, 17.700000000000003, 'Número de puntos'),\n",
       " Text(17.200000000000003, 0.5, 'Valor de la integral'),\n",
       " None,\n",
       " None)"
      ]
     },
     "execution_count": 51,
     "metadata": {},
     "output_type": "execute_result"
    }
   ],
   "source": [
    "#Definimos nuestro espacio de h's, distancia entre dos puntos consecutivos\n",
    "h = linspace(0.25,0.005,30)\n",
    "#Definimos los arreglos donde iremos ingresando los valores de la integral con las diferentes h's\n",
    "integral_g = np.zeros(len(h))\n",
    "#Definimos un arreglo para anexar el valor de Wolfram de la integral\n",
    "convergencia = np.zeros(len(h))\n",
    "#Hacemos un último arreglo para anexar el número de puntos correspondientes al espacio de lasa h's\n",
    "num1=np.zeros(len(h))\n",
    "for i in range(len(h)):\n",
    "    #Obtenemos el num de puntos en malla con distancia entre sus puntos h[i] con los que definiremos la malla de la integral\n",
    "    num1[i]=int(5/h[i])\n",
    "    #Obtenemos el num de puntos en malla con distancia entre sus puntos h[i] para nuestro arreglo de número de puntos\n",
    "    num=int(5/h[i])\n",
    "    #Definimos la malla donde integraremos\n",
    "    x = linspace(0.5,5,num)\n",
    "    #Definimos la función f(x)\n",
    "    f= -(2/x**6)+(1/x**12)\n",
    "    #Obtenemos las integrales correspondientes a num de puntos en la malla \n",
    "    integral_g[i]=int1(f,x)\n",
    "    convergencia[i]=173.382\n",
    "plot(num1,integral_g)\n",
    "plot(num1,convergencia)\n",
    "title(\"Convergencia de la integral de g(x)\"),xlabel(\"Número de puntos\"),ylabel(\"Valor de la integral\"),grid(),show()"
   ]
  },
  {
   "cell_type": "markdown",
   "metadata": {},
   "source": [
    "Vemos que la convergencia de la integral de Simpson, ya no oscila de gran manera, sin embargo ahora toma valores muy grandes con pocos puntos. Así que en conclusión, si uno deseará encontrar la integral de una función con los algoritmos anteriormente presentados deberá tomar más puntos en su malla para tener mayor aproximación con la integral \"real\"."
   ]
  }
 ],
 "metadata": {
  "kernelspec": {
   "display_name": "Python 3",
   "language": "python",
   "name": "python3"
  },
  "language_info": {
   "codemirror_mode": {
    "name": "ipython",
    "version": 3
   },
   "file_extension": ".py",
   "mimetype": "text/x-python",
   "name": "python",
   "nbconvert_exporter": "python",
   "pygments_lexer": "ipython3",
   "version": "3.7.6"
  }
 },
 "nbformat": 4,
 "nbformat_minor": 4
}
