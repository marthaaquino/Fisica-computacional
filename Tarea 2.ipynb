{
 "cells": [
  {
   "cell_type": "markdown",
   "metadata": {},
   "source": [
    "# Tarea 2\n",
    "### Aquino Chapa Martha Abril\n",
    "Hecho en Python"
   ]
  },
  {
   "cell_type": "code",
   "execution_count": 3,
   "metadata": {},
   "outputs": [],
   "source": [
    "#importamos las paqueterías\n",
    "from pylab import *\n",
    "import random\n",
    "from numpy import array\n",
    "# from numpy import *\n",
    "import math\n",
    "#from tabulate import tabulate"
   ]
  },
  {
   "cell_type": "markdown",
   "metadata": {},
   "source": [
    "#### 1. En clase vimos la forma de hacer la integral numérica en la que se aproxima la integral de una función de la siguiente manera $$ \\int_{x_i-h}^{x_i+h}f(x)dx=\\frac{f(x_i-1)+4f(x_i)+f(x_i+1)}{3}h+\\mathcal{O}(h^{5})$$\n",
    "donde se desprecian los términos $\\mathcal{O}$. Calcule las integrales de las siguientes funciones para una malla uniforme:\n",
    "\n",
    "* $$\\int_0^{5}f(x)dx$$\n",
    "* $$ \\int_{-5}^{5}f^{2}(x)dx$$\n",
    "* $$ \\int_{0.5}^{5}g(x)dx$$\n",
    "\n",
    "Donde $f(x)=e^{-x^{2}}\\sin(x)$ y $g(x)=-{\\frac{2}{x^{6}}}+{\\frac{1}{x^{12}}}$. Muestre que ha podido integrar hasta una precisión de $10^{-4}$."
   ]
  },
  {
   "cell_type": "code",
   "execution_count": 4,
   "metadata": {},
   "outputs": [],
   "source": [
    "#Definimos la función integral del ejercicio 1a\n",
    "#La función dependera de a y b, los límites de la integral, n el número de puntos en la malla y f(x) la función de x\n",
    "def int1(f,x):\n",
    "    #Definimos la malla con la que trabajaremos\n",
    "   ## x=linspace(a,b,n)\n",
    "    #Definimos el espacio entre dos puntos contiguos en la malla\n",
    "    h = x[2] - x[1]\n",
    "    #Le damos un valor incial a la integral desde el cual empezará a sumar el valor de la integral\n",
    "    integral = 0 \n",
    "    #Definimos la condiciones en las cuales se evaluará nuestra integral:\n",
    "    #Si la malla en la cual vamos a integrar es par, pedimos que saque la integral del a partir de segundo elemento\n",
    "    if mod(len(f),2) == 0:\n",
    "        inicio = 2\n",
    "    #Si el número de puntos en la malla no es par le pedimos que inicie un elemento despues del primero en la malla\n",
    "    elif mod(len(f),2) == 1:\n",
    "        inicio = 1\n",
    "    #Definimos la parte del código con la que sumaremos las particiones de la integral y que vaya saltando 2 puntos\n",
    "    for i in range(inicio,len(f)-1,2):\n",
    "        integral += f[i+1] + 4*f[i] + f[i-1]\n",
    "    integral = integral*(h/3)\n",
    "    # punto inicial si se tiene un arreglo par\n",
    "    if mod(len(f),2) == 0:\n",
    "        integral += (h/48)*(23*f[0] + 26*f[1] - 4*f[2] + 6*f[3] -3*f[4])\n",
    "    return integral"
   ]
  },
  {
   "cell_type": "code",
   "execution_count": 5,
   "metadata": {},
   "outputs": [
    {
     "name": "stdout",
     "output_type": "stream",
     "text": [
      "La integral de $e^{-x^{2}}$ es  0.1021341884080086\n",
      "La precisión de la integral es:  1.1398421098651745e-07\n"
     ]
    }
   ],
   "source": [
    "# Obtenemos entonces la integral de f(x):\n",
    "#Definimos la malla\n",
    "x=linspace(0,5,1000)\n",
    "f=exp(-(x*x))*sin(10*x)\n",
    "print(r\"La integral de $e^{-x^{2}}$ es \", int1(f,x))\n",
    "#Dicha integral, hecha en wolfram tiene el valor de :\n",
    "#m=integrate(cos(x), (x,0,pi/2.0))\n",
    "m=0.1021340744237976138708054220876899\n",
    "#Obtenemos el error asociado a la integral, segun la integral de wolfram\n",
    "print(\"La precisión de la integral es: \", abs(m-int1(f,x)))"
   ]
  },
  {
   "cell_type": "code",
   "execution_count": 6,
   "metadata": {},
   "outputs": [],
   "source": [
    "# Obteniendo ahora el algoritmo para la segunda integral, es lo mismo pero en este caso tendremos f^2\n",
    "#Para ello hacemos el cambio de variable de f a f^2\n",
    "#Definimos la función integral del ejercicio 1a\n",
    "#La función dependera de a y b, los límites de la integral, n el número de puntos en la malla y f(x) la función de x\n",
    "def int2(f,x):\n",
    "    #Definimos la malla con la que trabajaremos\n",
    "   ## x=linspace(a,b,n)\n",
    "    #Definimos el espacio entre dos puntos contiguos en la malla\n",
    "    h = x[2] - x[1]\n",
    "    #Le damos un valor incial a la integral desde el cual empezará a sumar el valor de la integral\n",
    "    integral = 0 \n",
    "    #Definimos la condiciones en las cuales se evaluará nuestra integral:\n",
    "    #Si la malla en la cual vamos a integrar es par, pedimos que saque la integral del a partir de segundo elemento\n",
    "    if mod(len(f),2) == 0:\n",
    "        inicio = 2\n",
    "    #Si el número de puntos en la malla no es par le pedimos que inicie un elemento despues del primero en la malla\n",
    "    elif mod(len(f),2) == 1:\n",
    "        inicio = 1\n",
    "    #Definimos la parte del código con la que sumaremos las particiones de la integral y que vaya saltando 2 puntos\n",
    "    for i in range(inicio,len(f)-1,2):\n",
    "        integral += f[i+1]*f[i+1] + 4*f[i]*f[i] + f[i-1]*f[i-1]\n",
    "    integral = integral*(h/3)\n",
    "    # punto inicial si se tiene un arreglo par\n",
    "    if mod(len(f),2) == 0:\n",
    "        integral += (h/48)*(23*f[0]*f[0] + 26*f[1]*f[1] - 4*f[2]*f[2] + 6*f[3]*f[3] -3*f[4]*f[4])\n",
    "    return integral"
   ]
  },
  {
   "cell_type": "code",
   "execution_count": 7,
   "metadata": {},
   "outputs": [
    {
     "name": "stdout",
     "output_type": "stream",
     "text": [
      "La integral de $(e^{-x^{2}})^{2}$ es  0.6266644078503681\n",
      "La precisión de la integral es:  7.339192617972223e-06\n"
     ]
    }
   ],
   "source": [
    "# Obtenemos entonces la integral de f(x):\n",
    "#Definimos la malla\n",
    "x=linspace(-5,5,48)\n",
    "f=exp(-(x*x))*sin(10*x)\n",
    "print(\"La integral de $(e^{-x^{2}})^{2}$ es \", int2(f,x))\n",
    "#Dicha integral, hecha en wolfram tiene el valor de :\n",
    "m=0.6266570686577501256038175123698260447534631408887006665615074330\n",
    "#Obtenemos el error asociado a la integral, segun la integral de wolfram\n",
    "print(\"La precisión de la integral es: \", abs(m-int2(f,x)))"
   ]
  },
  {
   "cell_type": "code",
   "execution_count": 8,
   "metadata": {},
   "outputs": [
    {
     "name": "stdout",
     "output_type": "stream",
     "text": [
      "La integral de $-(2/x**6)+(1/x**12)$ es  173.3819466718035\n",
      "La precisión de la integral es:  5.3328196514712545e-05\n"
     ]
    }
   ],
   "source": [
    "#Notemos que el código para la primera integral nos sirve para el inciso c\n",
    "x=linspace(0.5,5,10000)\n",
    "f=-(2/x**6)+(1/x**12)\n",
    "m=173.382\n",
    "print(\"La integral de $-(2/x**6)+(1/x**12)$ es \", int1(f,x))\n",
    "#Obtenemos el error asociado a la integral, segun la integral de wolfram\n",
    "print(\"La precisión de la integral es: \", abs(m-int1(f,x)))"
   ]
  },
  {
   "cell_type": "markdown",
   "metadata": {},
   "source": [
    "#### 2. Haga una función que implemente la integral numérica utilizando la regla de ''Simpson $\\frac{3}{8}$'' dada por la relación: \n",
    "$$\\int_{x_i}^{x_i+3}=\\frac{3h}{8}\\left(  f(x_i)+3f(x_{i+1})+3f(x_{i+2})+f(x_{i+3})\\right)+\\mathcal{O}(h^{5})$$\n",
    "\n",
    "#### donde se desprecian los términos $\\mathcal{O}(h^{5}$. Utilice este algoritmo para obtener lasa integrales del problema anterior con una precisión de $10^{-4}$.\n",
    "\n"
   ]
  },
  {
   "cell_type": "code",
   "execution_count": 9,
   "metadata": {},
   "outputs": [],
   "source": [
    "#Definimos la función que nos calcule la integral de Simpson\n",
    "#La función dependera de a y b, los límites de la integral, n el número de puntos en la malla y f(x) la función de x\n",
    "def intSimpson(f,x):\n",
    "    #Definimos el espacio entre dos puntos contiguos en la malla\n",
    "    h = x[2] - x[1]\n",
    "    #Le damos un valor incial a la integral desde el cual empezará a sumar el valor de la integral\n",
    "    integral = 0 \n",
    "    #Definimos la condiciones en las cuales se evaluará nuestra integral:\n",
    "    #Si la malla en la cual vamos a integrar es par, pedimos que saque la integral del a partir de segundo elemento\n",
    "    if mod(len(f)-1,3) == 0:\n",
    "        inicio = 0\n",
    "        \n",
    "    if mod(len(f)-1,3) == 1:\n",
    "        inicio = 1\n",
    "        \n",
    "    elif mod(len(f)-1,3) == 2:\n",
    "        inicio = 2\n",
    "    #Definimos la parte del código con la que sumaremos las particiones de la integral y que vaya saltando 2 puntos\n",
    "    for i in range(inicio,len(f)-4 ,3):\n",
    "        integral += f[i]+3*f[i+1]+3*f[i+2]+f[i+3]\n",
    "    integral = integral*(3*h/8)\n",
    "    \n",
    "    # Si es divisible entre 3 la malla\n",
    "    if mod(len(f)-1,3) == 2:\n",
    "        integral += (f[0] + 4*f[1] + f[2])*(h/3)\n",
    "        \n",
    "    \n",
    "    if mod(len(f)-1,3) == 1:\n",
    "        integral += (h/48)*(23*f[0]+ 26*f[1] - 4*f[2] + 6*f[3] -3*f[4])\n",
    "        #integral += (h/48)*(23*f[0]*f[0] + 26*f[1]*f[1] - 4*f[2]*f[2] + 6*f[3]*f[3] -3*f[4]*f[4])\n",
    "    return integral"
   ]
  },
  {
   "cell_type": "markdown",
   "metadata": {},
   "source": [
    "Ya que tenemos el algoritmo para la integral de una función f usemosla para obtener la integral de las funciones del ejercicio 1.\n",
    "Iniciamos con $f(x)$"
   ]
  },
  {
   "cell_type": "code",
   "execution_count": 10,
   "metadata": {},
   "outputs": [
    {
     "name": "stdout",
     "output_type": "stream",
     "text": [
      "La integral de $e^{-x^{2}}$ es  0.10222669406705334\n",
      "La precisión de la integral es:  9.261964325572858e-05\n"
     ]
    }
   ],
   "source": [
    "x=linspace(0,5,100)\n",
    "f=exp(-(x*x))*sin(10*x)\n",
    "print(r\"La integral de $e^{-x^{2}}$ es \", intSimpson(f,x))\n",
    "#Dicha integral, hecha en wolfram tiene el valor de :\n",
    "#m=integrate(cos(x), (x,0,pi/2.0))\n",
    "m=0.1021340744237976138708054220876899\n",
    "#Obtenemos el error asociado a la integral, segun la integral de wolfram\n",
    "print(\"La precisión de la integral es: \", abs(m-intSimpson(f,x)))"
   ]
  },
  {
   "cell_type": "markdown",
   "metadata": {},
   "source": [
    "Debido a que queremos la integral de una función al cuadrado, la función intSimpson no nos sirve, a menos que queramos elevar nuestra función al cuadrado, pero aveces somos flojos, entonces modificamos el código de la función anterior intercambiando f por $f^{2}$ para solo meter la función y ahorrar tiempo :D"
   ]
  },
  {
   "cell_type": "code",
   "execution_count": 11,
   "metadata": {},
   "outputs": [],
   "source": [
    "#Definimos la función que nos calcule la integral de Simpson\n",
    "#La función dependera de a y b, los límites de la integral, n el número de puntos en la malla y f(x) la función de x\n",
    "def intSimpson2(f,x):\n",
    "    #Definimos el espacio entre dos puntos contiguos en la malla\n",
    "    h = x[2] - x[1]\n",
    "    #Le damos un valor incial a la integral desde el cual empezará a sumar el valor de la integral\n",
    "    integral = 0 \n",
    "    #Definimos la condiciones en las cuales se evaluará nuestra integral:\n",
    "    #Si la malla en la cual vamos a integrar es par, pedimos que saque la integral del a partir de segundo elemento\n",
    "    if mod(len(f)-1,3) == 0:\n",
    "        inicio = 0\n",
    "        \n",
    "    if mod(len(f)-1,3) == 1:\n",
    "        inicio = 1\n",
    "        \n",
    "    elif mod(len(f)-1,3) == 2:\n",
    "        inicio = 2\n",
    "    #Definimos la parte del código con la que sumaremos las particiones de la integral y que vaya saltando 2 puntos\n",
    "    for i in range(inicio,len(f)-4 ,3):\n",
    "        integral += f[i]*f[i]+3*f[i+1]*f[i+1]+3*f[i+2]*f[i+2]+f[i+3]*f[i+3]\n",
    "    integral = integral*(3*h/8)\n",
    "    \n",
    "    # Si es divisible entre 3 la malla\n",
    "    if mod(len(f)-1,3) == 2:\n",
    "        integral += (f[0]*f[0] + 4*f[1]*f[1] + f[2]*f[2])*(h/3)\n",
    "        \n",
    "    \n",
    "    if mod(len(f)-1,3) == 2:\n",
    "        integral += (h/48)*(23*f[0]*f[0] + 26*f[1]*f[1] - 4*f[2]*f[2] + 6*f[3]*f[3] -3*f[4]*f[4])\n",
    "    return integral"
   ]
  },
  {
   "cell_type": "code",
   "execution_count": 12,
   "metadata": {},
   "outputs": [
    {
     "name": "stdout",
     "output_type": "stream",
     "text": [
      "La integral de $(e^{-x^{2}})^{2}$ es  0.6266582861443991\n",
      "La precisión de la integral es:  1.2174866489411684e-06\n"
     ]
    }
   ],
   "source": [
    "# Obtenemos entonces la integral de f(x):\n",
    "#Definimos la malla\n",
    "x=linspace(-5,5,140)\n",
    "f=exp(-(x*x))*sin(10*x)\n",
    "print(\"La integral de $(e^{-x^{2}})^{2}$ es \", intSimpson2(f,x))\n",
    "#Dicha integral, hecha en wolfram tiene el valor de :\n",
    "m=0.6266570686577501256038175123698260447534631408887006665615074330\n",
    "#Obtenemos el error asociado a la integral, segun la integral de wolfram\n",
    "print(\"La precisión de la integral es: \", abs(m-intSimpson2(f,x)))"
   ]
  },
  {
   "cell_type": "markdown",
   "metadata": {},
   "source": [
    "Ahora obtenemos la integral de la función g utilizando la función intSimp"
   ]
  },
  {
   "cell_type": "code",
   "execution_count": 13,
   "metadata": {},
   "outputs": [
    {
     "name": "stdout",
     "output_type": "stream",
     "text": [
      "La integral de $-(2/x**6)+(1/x**12)$ es  173.38194638945512\n",
      "La precisión de la integral es:  5.3610544881621536e-05\n"
     ]
    }
   ],
   "source": [
    "#Notemos que el código para la primera integral nos sirve para el inciso c\n",
    "x=linspace(0.5,5,10000)\n",
    "f=-(2/x**6)+(1/x**12)\n",
    "m=173.382\n",
    "print(\"La integral de $-(2/x**6)+(1/x**12)$ es \", intSimpson(f,x))\n",
    "#Obtenemos el error asociado a la integral, segun la integral de wolfram\n",
    "print(\"La precisión de la integral es: \", abs(m-intSimpson(f,x)))"
   ]
  },
  {
   "cell_type": "markdown",
   "metadata": {},
   "source": [
    "### 3. Haga una función que implemente la integral númerica utilizando la regla de ''Boole'' dada por la relación \n",
    "$$\\int_{x_i}^{x_{i+4}}f(x)={\\frac{2h}{48}}(7f(x_i)+32f(x_{i+1})+12f(x_{i+2})+32f(x_{i+3})+7f(x_{i+4}))+\\mathcal{O}(h^{7}) $$\n",
    "### donde se desprecian los términos $\\mathcal{O}(h^{7})$. Utilice este algoritmo para obtener las integrales del problema anterior con una precisión de $10^{-4}$."
   ]
  },
  {
   "cell_type": "code",
   "execution_count": 14,
   "metadata": {},
   "outputs": [],
   "source": [
    "#Definimos la función que nos calcule la integral de Boole\n",
    "#La función dependera de a y b, los límites de la integral, n el número de puntos en la malla y f(x) la función de x\n",
    "def intBoole(f,x):\n",
    "    #Definimos el espacio entre dos puntos contiguos en la malla\n",
    "    h = x[2] - x[1]\n",
    "    #Le damos un valor incial a la integral desde el cual empezará a sumar el valor de la integral\n",
    "    integral = 0 \n",
    "    #Definimos la condiciones en las cuales se evaluará nuestra integral:\n",
    "    #Si la malla en la cual vamos a integrar es par, pedimos que saque la integral del a partir de segundo elemento\n",
    "    if mod(len(f)-1,4) == 0:\n",
    "        inicio = 0\n",
    "        \n",
    "    if mod(len(f)-1,4) == 1:\n",
    "        inicio = 1\n",
    "        \n",
    "    if mod(len(f)-1,4) == 2:\n",
    "        inicio = 2\n",
    "    \n",
    "    if mod(len(f)-1,4) == 3:\n",
    "        inicio = 3\n",
    "    #Definimos la parte del código con la que sumaremos las particiones de la integral y que vaya saltando 2 puntos\n",
    "    for i in range(inicio,len(f)-4 ,4):\n",
    "        integral += 7*f[i]+32*f[i+1]+12*f[i+2]+32*f[i+3]+7*f[i+4]\n",
    "    integral = integral*(2*h/45)\n",
    "    \n",
    "    if mod(len(f)-1,4) == 3:\n",
    "        integral +=(f[i]+3*f[i+1]+3*f[i+2]+f[i+3])*(3*h/8)\n",
    "    \n",
    "    if mod(len(f)-1,4) == 2:\n",
    "        integral += ((f[0] + 4*f[1] + f[2]))*(h/3)\n",
    "        \n",
    "    \n",
    "    if mod(len(f)-1,4) == 1:\n",
    "        integral += (h/48)*(23*f[0]+ 26*f[1] - 4*f[2] + 6*f[3] -3*f[4])\n",
    "        #integral += (h/48)*(23*f[0]*f[0] + 26*f[1]*f[1] - 4*f[2]*f[2] + 6*f[3]*f[3] -3*f[4]*f[4])\n",
    "    return integral"
   ]
  },
  {
   "cell_type": "code",
   "execution_count": 15,
   "metadata": {},
   "outputs": [
    {
     "name": "stdout",
     "output_type": "stream",
     "text": [
      "La integral de $e^{-x^{2}}$ es  0.102093434309707\n",
      "La precisión de la integral es:  4.064011409060653e-05\n"
     ]
    }
   ],
   "source": [
    "x=linspace(0,5,73)\n",
    "f=exp(-(x*x))*sin(10*x)\n",
    "print(r\"La integral de $e^{-x^{2}}$ es \", intBoole(f,x))\n",
    "#Dicha integral, hecha en wolfram tiene el valor de :\n",
    "#m=integrate(cos(x), (x,0,pi/2.0))\n",
    "m=0.1021340744237976138708054220876899\n",
    "#Obtenemos el error asociado a la integral, segun la integral de wolfram\n",
    "print(\"La precisión de la integral es: \", abs(m-intBoole(f,x)))"
   ]
  },
  {
   "cell_type": "markdown",
   "metadata": {},
   "source": [
    "Modificamos la función intBoole para obtener la integral de una función $f^{2}$"
   ]
  },
  {
   "cell_type": "code",
   "execution_count": 16,
   "metadata": {},
   "outputs": [],
   "source": [
    "#Definimos la función que nos calcule la integral de Boole\n",
    "#La función dependera de a y b, los límites de la integral, n el número de puntos en la malla y f(x) la función de x\n",
    "def intBoole2(f,x):\n",
    "    #Definimos el espacio entre dos puntos contiguos en la malla\n",
    "    h = x[2] - x[1]\n",
    "    #Le damos un valor incial a la integral desde el cual empezará a sumar el valor de la integral\n",
    "    integral = 0 \n",
    "    #Definimos la condiciones en las cuales se evaluará nuestra integral:\n",
    "    #Si la malla en la cual vamos a integrar es par, pedimos que saque la integral del a partir de segundo elemento\n",
    "    if mod(len(f)-1,4) == 0:\n",
    "        inicio = 0\n",
    "        \n",
    "    if mod(len(f)-1,4) == 1:\n",
    "        inicio = 1\n",
    "        \n",
    "    if mod(len(f)-1,4) == 2:\n",
    "        inicio = 2\n",
    "    \n",
    "    if mod(len(f)-1,4) == 3:\n",
    "        inicio = 3\n",
    "    #Definimos la parte del código con la que sumaremos las particiones de la integral y que vaya saltando 2 puntos\n",
    "    for i in range(inicio,len(f)-4 ,4):\n",
    "        integral += 7*f[i]*f[i]+32*f[i+1]*f[i+1]+12*f[i+2]*f[i+2]+32*f[i+3]*f[i+3]+7*f[i+4]*f[i+4]\n",
    "    integral = integral*(2*h/45)\n",
    "    \n",
    "    if mod(len(f)-1,4) == 3:\n",
    "        integral +=(f[i]*f[i]+3*f[i+1]*f[i+1]+3*f[i+2]*f[i+2]+f[i+3]*f[i+3])*(3*h/8)\n",
    "    \n",
    "    if mod(len(f)-1,4) == 2:\n",
    "        integral += ((f[0]*f[0] + 4*f[1]*f[1] + f[2]*f[2]))*(h/3)\n",
    "        \n",
    "    \n",
    "    if mod(len(f)-1,4) == 1:\n",
    "        integral += (h/48)*(23*f[0]*f[0]+ 26*f[1]*f[1] - 4*f[2]*f[2] + 6*f[3]*f[3] -3*f[4]*f[4])\n",
    "    return integral"
   ]
  },
  {
   "cell_type": "markdown",
   "metadata": {},
   "source": [
    "Obtenemos la integral para $f^{2}(x)$"
   ]
  },
  {
   "cell_type": "code",
   "execution_count": 17,
   "metadata": {},
   "outputs": [
    {
     "name": "stdout",
     "output_type": "stream",
     "text": [
      "La integral de $(e^{-x^{2}})^{2}$ es  0.6266570651298398\n",
      "La precisión de la integral es:  3.5279104082519552e-09\n"
     ]
    }
   ],
   "source": [
    "#Definimos la malla\n",
    "x=linspace(-5,5,103)\n",
    "f=exp(-(x*x))*sin(10*x)\n",
    "print(\"La integral de $(e^{-x^{2}})^{2}$ es \", intBoole2(f,x))\n",
    "#Dicha integral, hecha en wolfram tiene el valor de :\n",
    "m=0.6266570686577501256038175123698260447534631408887006665615074330\n",
    "#Obtenemos el error asociado a la integral, segun la integral de wolfram\n",
    "print(\"La precisión de la integral es: \", abs(m-intBoole2(f,x)))"
   ]
  },
  {
   "cell_type": "markdown",
   "metadata": {},
   "source": [
    "Ahora obtenemos la integral usando la función intBoole"
   ]
  },
  {
   "cell_type": "code",
   "execution_count": 18,
   "metadata": {},
   "outputs": [
    {
     "name": "stdout",
     "output_type": "stream",
     "text": [
      "La integral de $-(2/x**6)+(1/x**12)$ es  173.3819473696758\n",
      "La precisión de la integral es:  5.263032420543823e-05\n"
     ]
    }
   ],
   "source": [
    "#Notemos que el código para la primera integral nos sirve para el inciso c\n",
    "x=linspace(0.5,5,1001)\n",
    "f=-(2/x**6)+(1/x**12)\n",
    "m=173.382\n",
    "print(\"La integral de $-(2/x**6)+(1/x**12)$ es \", intBoole(f,x))\n",
    "#Obtenemos el error asociado a la integral, segun la integral de wolfram\n",
    "print(\"La precisión de la integral es: \", abs(m-intBoole(f,x)))"
   ]
  },
  {
   "cell_type": "markdown",
   "metadata": {},
   "source": [
    "### 4.Utilizando la integral del problema 1(a), realicce una tabla en la que se muestre la convergencia de los 3 algoritmos anteriores comenzando con h=0.25 hasta h=00001. La tabla debe tener por lo menos 30 diferentes h's. Obtenga el número de puntos en la malla para cada h y haga una gráfica en la que se muestre la convergencia de los 3 algoritmos, Números de puntos vs valor de la integral."
   ]
  },
  {
   "cell_type": "code",
   "execution_count": 19,
   "metadata": {},
   "outputs": [
    {
     "name": "stdout",
     "output_type": "stream",
     "text": [
      "   Integral1      Integral2      Integral3   \n",
      "    0.6684096786        0.6684113497        0.6684096305    \n",
      "    0.1293696152        0.1293699387        0.1293696059    \n",
      "   0.07161532271       0.07161550175       0.07161531756    \n",
      "   0.04951182805       0.04951195183       0.04951182448    \n",
      "   0.03783451011        0.0378346047       0.03783450739    \n",
      "   0.03061418375       0.03061426029       0.03061418155    \n",
      "   0.02570806456       0.02570812883       0.02570806271    \n",
      "   0.02215722692       0.02215728231       0.02215722532    \n",
      "   0.01946824307       0.01946829174       0.01946824167    \n",
      "   0.01736129035       0.01736133376        0.0173612891    \n",
      "   0.01566585184       0.01566589101       0.01566585072    \n",
      "   0.01427209278       0.01427212846       0.01427209176    \n",
      "   0.01310607213        0.0131061049       0.01310607119    \n",
      "   0.01211618753       0.01211621782       0.01211618666    \n",
      "   0.01126533166       0.01126535983       0.01126533085    \n",
      "   0.01052613667       0.01052616299       0.01052613591    \n",
      "   0.009877975546      0.009878000242      0.009877974835   \n",
      "   0.009305007127      0.00930503039       0.009305006457   \n",
      "   0.008794864192      0.00879488618       0.00879486356    \n",
      "   0.008337750669      0.008337771514      0.008337750069   \n",
      "   0.007925806466      0.007925826281      0.007925805896   \n",
      "   0.007552651736      0.007552670618      0.007552651192   \n",
      "   0.007213054086      0.007213072119      0.007213053567   \n",
      "   0.006902681707      0.006902698964      0.00690268121    \n",
      "   0.00661791761       0.006617934156      0.006617917134   \n",
      "   0.006355718022      0.006355733912      0.006355717564   \n",
      "   0.006113503158      0.006113518442      0.006113502718   \n",
      "   0.005889072058      0.005889086782      0.005889071635   \n",
      "   0.005680535512      0.005680549714      0.005680535104   \n",
      "   0.005486262752      0.005486276468      0.005486262357   \n",
      "   0.005304838719      0.005304851982      0.005304838338   \n",
      "   0.005135029541      0.005135042379      0.005135029172   \n",
      "   0.004975754431      0.004975766871      0.004975754073   \n",
      "   0.004826062662      0.004826074727      0.004826062314   \n",
      "   0.00468511457       0.004685126283      0.004685114233   \n",
      "   0.004552165802      0.004552177183      0.004552165475   \n",
      "   0.004426554163      0.00442656523       0.004426553845   \n",
      "   0.004307688584      0.004307699354      0.004307688274   \n",
      "   0.004195039824      0.004195050312      0.004195039522   \n",
      "   0.004088132591      0.004088142812      0.004088132297   \n",
      "   0.003986538839      0.003986548805      0.003986538552   \n",
      "   0.003889872039      0.003889881764      0.003889871759   \n",
      "   0.003797782265      0.00379779176       0.003797781992   \n",
      "   0.003709951963      0.003709961238      0.003709951696   \n",
      "   0.003626092289      0.003626101355      0.003626092028   \n",
      "   0.00354593994       0.003545948805      0.003545939684   \n",
      "   0.003469254387      0.003469263061      0.003469254138   \n",
      "   0.003395815471      0.003395823961      0.003395815227   \n",
      "   0.003325421287      0.003325429601      0.003325421047   \n",
      "   0.00325788633       0.003257894475      0.003257886095   \n"
     ]
    }
   ],
   "source": [
    "print('{:^15}{:^15}{:^15}'.format('Integral1','Integral2','Integral3'))\n",
    "f=exp(-(x*x))*sin(10*x)\n",
    "for i in range (25,5000,100):\n",
    "    x = linspace(0,5,i)\n",
    "    integral1=int1(f,x)\n",
    "    integral2=intSimpson(f,x)\n",
    "    integral3=intBoole(f,x)\n",
    "    print('{:^20.10}{:^20.10}{:^20.10}'.format(integral1,integral2,integral3))\n",
    "    \n",
    "    \n",
    "    #print(\"Integral1: \",integral1,\"Integral 2\",integral2, \"integral3\",integral3)"
   ]
  },
  {
   "cell_type": "code",
   "execution_count": 30,
   "metadata": {},
   "outputs": [
    {
     "data": {
      "image/png": "[encoded data removed]",
      "text/plain": [
       "<Figure size 432x288 with 1 Axes>"
      ]
     },
     "metadata": {
      "needs_background": "light"
     },
     "output_type": "display_data"
    }
   ],
   "source": [
    "f=exp(-(x*x))*sin(10*x)\n",
    "num_puntos = linspace(25,5000,100)\n",
    "integral=np.zeros(len(num_puntos))\n",
    "integral2=np.zeros(len(num_puntos))\n",
    "integral3=np.zeros(len(num_puntos))\n",
    "convergencia=np.zeros(len(num_puntos))\n",
    "for i in range (0,len(num_puntos)):\n",
    "    x = linspace(0,5,25+i)\n",
    "    \n",
    "    integral[i]=int1(f,x)\n",
    "    integral2[i]=intSimpson(f,x)\n",
    "    integral3[i]=intBoole(f,x)\n",
    "    convergencia[i]=0.1021340744237976138708054220876899\n",
    "\n",
    "plot(num_puntos,integral,label=\"Integral 1\")\n",
    "plot(num_puntos,integral2,label=\"Integral 2\")\n",
    "plot(num_puntos,integral2,label=\"Integral 3\")  \n",
    "plot(num_puntos,convergencia,label='convergencia')\n",
    "    #plot(i,integral2,label=\"Integral de Simpson\")\n",
    "    #plot(i,integral3,label=\"Integral de Boole\")\n",
    "title(\"Convergencia para diferentes valores de $h$\"),xlabel(\"Número de puntos\")\n",
    "#hlines(pi/2,num_puntos[0],num_puntos[-1],colors='r', linestyles='dashed',lw=2,label=\"$\\pi /2$\")\n",
    "legend(),grid(),xlim([25,5000])\n",
    "show()"
   ]
  }
 ],
 "metadata": {
  "kernelspec": {
   "display_name": "Python 3",
   "language": "python",
   "name": "python3"
  },
  "language_info": {
   "codemirror_mode": {
    "name": "ipython",
    "version": 3
   },
   "file_extension": ".py",
   "mimetype": "text/x-python",
   "name": "python",
   "nbconvert_exporter": "python",
   "pygments_lexer": "ipython3",
   "version": "3.7.6"
  }
 },
 "nbformat": 4,
 "nbformat_minor": 4
}
