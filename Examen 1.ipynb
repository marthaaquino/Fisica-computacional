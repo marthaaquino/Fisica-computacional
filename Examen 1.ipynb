{
 "cells": [
  {
   "cell_type": "markdown",
   "metadata": {},
   "source": [
    "# Examen 1\n",
    "## Aquino Chapa Martha Abril\n",
    "Hecho en Python 🐍"
   ]
  },
  {
   "cell_type": "code",
   "execution_count": 3,
   "metadata": {},
   "outputs": [],
   "source": [
    "#importamos las paqueterías\n",
    "from pylab import *\n",
    "import random\n",
    "from numpy import array\n",
    "import math"
   ]
  },
  {
   "cell_type": "markdown",
   "metadata": {},
   "source": [
    "Definimos la función que integrará:"
   ]
  },
  {
   "cell_type": "code",
   "execution_count": 4,
   "metadata": {},
   "outputs": [],
   "source": [
    "#Definimos la función con la cual podemos obtener la integral de una función\n",
    "def int1(f,x):\n",
    "    #Definimos el espacio entre dos puntos contiguos en la malla\n",
    "    h = x[1] - x[0]\n",
    "    #Le damos un valor incial a la integral desde el cual empezará a sumar el valor de la integral\n",
    "    integral = 0 \n",
    "    #Definimos la condiciones en las cuales se evaluará nuestra integral:\n",
    "    #Si la malla en la cual vamos a integrar es par, pedimos que saque la integral a partir de segundo elemento\n",
    "    if mod(len(f),2) == 0:\n",
    "        inicio = 2\n",
    "    #Si el número de puntos en la malla no es par le pedimos que inicie un elemento despues del primer elemento en la malla\n",
    "    elif mod(len(f),2) == 1:\n",
    "        inicio = 1\n",
    "    #Definimos la parte del código con la que sumaremos las particiones de la integral y que vaya saltando 2 puntos\n",
    "    for i in range(inicio,len(f)-1,2):\n",
    "        integral += f[i+1] + 4*f[i] + f[i-1]\n",
    "    integral = integral*(h/3)\n",
    "    #la integral en la frontera es\n",
    "    if mod(len(f),2) == 0:\n",
    "        integral += (h/48)*(23*f[0] + 26*f[1] - 4*f[2] + 6*f[3] -3*f[4])\n",
    "    return integral"
   ]
  },
  {
   "cell_type": "code",
   "execution_count": 14,
   "metadata": {},
   "outputs": [
    {
     "name": "stdout",
     "output_type": "stream",
     "text": [
      "-12.566370614359172\n"
     ]
    }
   ],
   "source": [
    "x=linspace(0,2*pi,5)\n",
    "print(int1(x,np.cos(x)))"
   ]
  },
  {
   "cell_type": "markdown",
   "metadata": {},
   "source": [
    "### 1.En clase vimos como en un arreglo puede representar la gráfica de una función f(x) con los puntos {xi,fi} con i = 1, 2, 3, ..., N. También vimos como obtener las primeras derivadas numéricas en cadapunto, f'(xi) y f''(xi), es decir, podemos obtener el conjunto de puntos {xi, f'i } y {xi, f''i}. Esteproblema consiste en hacer lo mismo pero para el caso de la integral, y para ello realice una función que tenga como entrada los puntos {xi, fi} y que regrese {xi, Fi}, donde Fi representa la integral de la función hasta el xi-ésimo punto. Para corroborar que su función trabaja de manera adecuada, puede utilizar la función cos(x) en el intervalo [0, 2π]. Puede utilizar cualquier algoritmo de integración que vimos en clase o en las tareas.\n"
   ]
  },
  {
   "cell_type": "code",
   "execution_count": 3,
   "metadata": {},
   "outputs": [],
   "source": [
    "def fun(x,f):\n",
    "    h=x[1]-x[0]\n",
    "    a=min(x)\n",
    "    F=np.zeros(len(f))\n",
    "    F[0]=0\n",
    "    F[1]=(f[1]-f[0])*(x[1]-x[0])\n",
    "    F[2]=(f[2]-f[0])/(x[2]-x[0])\n",
    "    F[3]=h*(f[3]-f[0])\n",
    "    F[-1]=int1(f,x)\n",
    "    s=np.zeros(len(f))\n",
    "    s=np.zeros(len(f))\n",
    "    for i in range (4,len(f)-1):\n",
    "        s[i]=x[i]\n",
    "        y=(x[x<=x[i]])\n",
    "        F[i]=int1(f,y)\n",
    "    return x,F"
   ]
  },
  {
   "cell_type": "markdown",
   "metadata": {},
   "source": [
    "# ES ESTA LA DEL EJERCICIO 1"
   ]
  },
  {
   "cell_type": "code",
   "execution_count": 166,
   "metadata": {},
   "outputs": [],
   "source": [
    "def fun3(x,f):\n",
    "    #Hacemos un arreglo que llenaremos de los valores de la integral hasta el punto xi\n",
    "    F=np.zeros(len(f))\n",
    "    #Para el primer punto la derivada es 0 puesto que no hay área bajo un punto\n",
    "\n",
    "    #Para una función cuyos primeros dos valores son positivos definimos la integral hasta el primer punto\n",
    "    if len(f)==1:\n",
    "        F[0]=0\n",
    "        \n",
    "    if len(f)==2:\n",
    "        F[0]=0\n",
    "        if f[1]>=0 and f[0]>=0:\n",
    "            F[1]=(abs(f[1]-f[0]))*(x[1]-x[0])\n",
    "            \n",
    "        if f[1]<=0 and f[0]<=0:\n",
    "            F[1]=-(abs(f[1]-f[0]))*(x[1]-x[0])\n",
    "            \n",
    "    if len(f)==3:\n",
    "        if f[1]>=0 and f[0]>=0:\n",
    "            F[0]=0\n",
    "            F[1]=(abs(f[1]-f[0]))*(x[1]-x[0])\n",
    "            F[2]=(abs(f[2]-f[0]))*(x[2]-x[0])\n",
    "        if f[1]<=0 and f[0]<=0:\n",
    "            F[0]=0\n",
    "            F[1]=-(abs(f[1]-f[0]))*(x[1]-x[0])\n",
    "            F[2]=-(abs(f[2]-f[0]))*(x[2]-x[0])\n",
    "    if len(f)==4:\n",
    "       # if f[1]>=0 and f[0]>=0:\n",
    "            F[0]=0\n",
    "            F[1]=(abs(f[1]-f[0]))*(x[1]-x[0])\n",
    "            F[2]=(abs(f[2]-f[0]))*(x[2]-x[0])\n",
    "            F[3]=(abs(f[3]-f[0]))*(x[3]-x[0])\n",
    "            # if f[1]<=0 and f[0]<=0:\n",
    "        #    F[0]=0\n",
    "         #   F[1]=-(abs(f[1]-f[0]))*(x[1]-x[0])\n",
    "          #  F[2]=-(abs(f[2]-f[0]))*(x[2]-x[0])\n",
    "           # F[3]=-(abs(f[3]-f[0]))*[x[3]-x[0]]\n",
    "\n",
    "    if len(f)>4:    \n",
    "        F[0]=0\n",
    "        F[1]=(abs(f[1]-f[0]))*(x[1]-x[0])\n",
    "        F[2]=(abs(f[2]-f[0]))*(x[2]-x[0])\n",
    "        F[3]=(abs(f[3]-f[0]))*(x[3]-x[0])\n",
    "        \n",
    "            \n",
    "        h=x[1]-x[0]\n",
    "        for i in range (4,len(f)):\n",
    "            F[i]=0\n",
    "            #if mod((i),2) == 0:\n",
    "                #inicio = 2\n",
    "            #if :\n",
    "                        #inicio = 1\n",
    "            if mod((i),2) == 1:\n",
    "                for j in range(1,i-1,2):\n",
    "                    F[i] += (f[j+1] + 4*f[j] + f[j-1])*(h/3)\n",
    "                    \n",
    "            if mod((i),2) == 0:\n",
    "                p=0\n",
    "                for j in range(2,i-1,2):\n",
    "                    p += (f[j+1] + 4*f[j] + f[j-1])*(h/3)\n",
    "                    F[i]=p+(h/48)*(23*f[0] + 26*f[1] - 4*f[2] + 6*f[3] -3*f[4])\n",
    "                #    F[i] += \n",
    "            \n",
    "    return F"
   ]
  },
  {
   "cell_type": "code",
   "execution_count": 167,
   "metadata": {},
   "outputs": [
    {
     "data": {
      "text/plain": [
       "[<matplotlib.lines.Line2D at 0x2692cce9048>]"
      ]
     },
     "execution_count": 167,
     "metadata": {},
     "output_type": "execute_result"
    },
    {
     "data": {
      "image/png": "[encoded data removed]",
      "text/plain": [
       "<Figure size 432x288 with 1 Axes>"
      ]
     },
     "metadata": {
      "needs_background": "light"
     },
     "output_type": "display_data"
    }
   ],
   "source": [
    "x=linspace(0,pi,100)\n",
    "m=fun3(x,np.cos(x))\n",
    "plot(x,np.sin(x))\n",
    "plot(x,m)\n",
    "#s=m[:,1]\n",
    "#print('{:^20}{:^20}'.format(r'x_i','Integral en x_i'))\n",
    "#for i in range (len(x)):\n",
    " #   print('{:^20}{:^20}'.format(x[i],m[i]))"
   ]
  },
  {
   "cell_type": "code",
   "execution_count": 10,
   "metadata": {},
   "outputs": [],
   "source": [
    "def fun4(x,f):\n",
    "    #Hacemos un arreglo que llenaremos de los valores de la integral hasta el punto xi\n",
    "    F=np.zeros(len(f))\n",
    "    #Para el primer punto la derivada es 0 puesto que no hay área bajo un punto\n",
    "\n",
    "    #Para una función cuyos primeros dos valores son positivos definimos la integral hasta el primer punto\n",
    "    #if f[1]>=0 and f[0]>=0:\n",
    "    F[0]=0\n",
    "    F[1]=(abs(f[1]-f[0]))*(x[1]-x[0])\n",
    "    F[2]=(abs(f[2]-f[0]))*(x[2]-x[0])\n",
    "    F[3]=(abs(f[3]-f[0]))*[x[3]-x[0]]\n",
    "    #if f[1]<=0 and f[0]<=0:\n",
    "     #   F[0]=0\n",
    "      #  F[1]=-(abs(f[1]-f[0]))*(x[1]-x[0])\n",
    "       # F[2]=-(abs(f[2]-f[0]))*(x[2]-x[0])\n",
    "        #F[3]=-(abs(f[3]-f[0]))*[x[3]-x[0]]\n",
    "            \n",
    "    h=x[1]-x[0]\n",
    "    for i in range (4,len(f)-1):\n",
    "        integral=0\n",
    "        if mod((i),2) == 0:\n",
    "            inicio = 2\n",
    "        elif mod((i),2) == 1:\n",
    "            inicio = 1\n",
    "    \n",
    "        for j in range(inicio,i-1,2):\n",
    "            integral += (f[j+1] + 4*f[j] + f[j-1])*(h/3)\n",
    "           # return integral\n",
    "        integral=F[i]\n",
    "    return F"
   ]
  },
  {
   "cell_type": "code",
   "execution_count": 65,
   "metadata": {},
   "outputs": [],
   "source": [
    "## Código donde se necesita la integral int1\n",
    "def fun2(x,f):\n",
    "    #Hacemos un arreglo que llenaremos de los valores de la integral hasta el punto xi\n",
    "    F=np.zeros(len(f))\n",
    "    #Para el primer punto la derivada es 0 puesto que no hay área bajo un punto\n",
    "    F[0]=0\n",
    "    #Para una función cuyos primeros dos valores son positivos definimos la integral hasta el primer punto\n",
    "    if f[1]>=0 and f[0]>=0:\n",
    "        F[1]=(abs(f[1]-f[0]))*(x[1]-x[0])\n",
    "    #Para una función cuyas dos imagenes son negativas\n",
    "    if f[1]<=0 and f[0]<=0:\n",
    "        F[1]=-(abs(f[1]-f[0]))*(x[1]-x[0])\n",
    "        \n",
    "    #habrá que ver que pasa si un punto es negativo y otro positivo:\n",
    "    #La integral para el último punto es la integral sobre todos los valores    \n",
    "    F[-1]=int1(f,x)\n",
    "    s=np.zeros(len(f))\n",
    "    #Definimos la función para puntos que no sean fronteras y que la función int1 funcione correctamente\n",
    "    for i in range (2,len(f)-1):\n",
    "        #Definimos el conjunto de puntos hasta xi\n",
    "        y=(x[x<x[i]])\n",
    "        #Definimos la integral hasta el punto xi\n",
    "        F[i]=int1(f,y)\n",
    "    return F"
   ]
  },
  {
   "cell_type": "code",
   "execution_count": 67,
   "metadata": {},
   "outputs": [
    {
     "data": {
      "text/plain": [
       "[<matplotlib.lines.Line2D at 0x26929f14808>]"
      ]
     },
     "execution_count": 67,
     "metadata": {},
     "output_type": "execute_result"
    },
    {
     "data": {
      "image/png": "[encoded data removed]",
      "text/plain": [
       "<Figure size 432x288 with 1 Axes>"
      ]
     },
     "metadata": {
      "needs_background": "light"
     },
     "output_type": "display_data"
    }
   ],
   "source": [
    "x=linspace(0,pi,100)\n",
    "m=fun2(x,np.cos(x))\n",
    "#plot(x,np.sin(x))\n",
    "plot(x,m)\n",
    "#s=m[:,1]\n",
    "#print('{:^20}{:^20}'.format(r'x_i','Integral en x_i'))\n",
    "#for i in range (len(x)):\n",
    " #   print('{:^20}{:^20}'.format(x[i],m[i]))"
   ]
  },
  {
   "cell_type": "markdown",
   "metadata": {},
   "source": [
    "### 2."
   ]
  },
  {
   "cell_type": "markdown",
   "metadata": {},
   "source": [
    "#### a) Haga la gráfica de datos"
   ]
  },
  {
   "cell_type": "code",
   "execution_count": null,
   "metadata": {},
   "outputs": [],
   "source": [
    "from pylab import *\n",
    "datos = loadtxt ('t_acel.dat' )\n",
    "ti=datos[:,0]\n",
    "ai=datos[:,1]\n"
   ]
  },
  {
   "cell_type": "code",
   "execution_count": null,
   "metadata": {},
   "outputs": [],
   "source": [
    "title(\"Gráfica de datos\"),xlabel(\"Tiempo\"),ylabel('Aceleración'),grid()\n",
    "plot(datos[:,0],datos[:,1],label='1')"
   ]
  },
  {
   "cell_type": "markdown",
   "metadata": {},
   "source": [
    "#### b) Calcule la derivada en cada punto utilizando algoritmos que desprecian términos en $h^{3}$ y $h^{5}$. Compare las gráficas de cada uno de los algoritmos y proporcione el error máximo entre los algoritmos utilizados.\n"
   ]
  },
  {
   "cell_type": "markdown",
   "metadata": {},
   "source": [
    "Antes de empezar a trabajar con las derivadas, debemos observar si la malla es uniforme:"
   ]
  },
  {
   "cell_type": "code",
   "execution_count": null,
   "metadata": {},
   "outputs": [],
   "source": [
    "#Definimos un arreglo que llenaremos de la diferencia del tiempo entre dos puntos contiguos\n",
    "malla=np.zeros(len(datos[:,0]))\n",
    "tiempo=datos[:,0]\n",
    "#Definimos un ciclo for para obtener las diferencia entre puntos\n",
    "for i in range (1,len(datos[:,0])):\n",
    "    malla[i]=tiempo[i]-tiempo[i-1]\n",
    "#Obtenemos la diferencia entre el espacio más grande entre puntos y el más pequeño\n",
    "print(max(malla)-min(malla))\n",
    "\n"
   ]
  },
  {
   "cell_type": "markdown",
   "metadata": {},
   "source": [
    "Vemos entonces que debido a que el máximo y el mínimo no son iguales, entonces la malla no es uniforme, así que tendremos que trabajar con algoritmos no simétricos."
   ]
  },
  {
   "cell_type": "markdown",
   "metadata": {},
   "source": [
    "En la tarea vimos que la derivada de segundo orden está dada por:"
   ]
  },
  {
   "cell_type": "markdown",
   "metadata": {},
   "source": [
    "$$ f'(x_i)=\\frac{f_{i+1}-f_{i-1}}{x_{i+1}-x_{i-1}}$$"
   ]
  },
  {
   "cell_type": "markdown",
   "metadata": {},
   "source": [
    "Y en los extremos se deben usar las relaciones:"
   ]
  },
  {
   "cell_type": "markdown",
   "metadata": {},
   "source": [
    "$$f'(x_0)=\\frac{-0.5f_2+2f_1-1.5f_0}{x_1-x_0}$$\n",
    "\n",
    "$$f'(x_0)=-\\frac{-0.5f_2+2f_1-1.5f_0}{x_{N}-x_{N-1}}$$"
   ]
  },
  {
   "cell_type": "markdown",
   "metadata": {},
   "source": [
    "Donde estamos asumiento que nuestro conjuntos de puntos tiene N+1 elementos.\n",
    "\n",
    "Ahora si, definamos nuestra función para obtener las derivada de orden 2, donde se desprecian términos $h^{3}$."
   ]
  },
  {
   "cell_type": "code",
   "execution_count": null,
   "metadata": {},
   "outputs": [],
   "source": [
    "def deriv_h3(f,x):\n",
    "    f_prima = zeros(len(f))\n",
    "    #h = x[1] - x[0]\n",
    "    #dosh = 2*h\n",
    "    #Iniciamos obteniendo la derivada en los puntos que no están en las fronteras\n",
    "    for i in range(1,len(f)-1):\n",
    "        f_prima[i] = ( f[i+1]-f[i-1] )/(x[i+1]-x[i-1])\n",
    "    #Obtenemos la derivada en el primer punto\n",
    "    f_prima[0] = ( -0.5*f[2] + 2*f[1] -1.5*f[0] )/(x[1]-x[0])\n",
    "    # calcular el ultimo punto\n",
    "    f_prima[-1] = -( -0.5*f[-3] + 2*f[-2] -1.5*f[-1] )/(x[-1]-x[-2])    \n",
    "    return f_prima"
   ]
  },
  {
   "cell_type": "code",
   "execution_count": null,
   "metadata": {},
   "outputs": [],
   "source": [
    "#Graficamos ahora la derivada en cada tiempo, donde f serán las aceleraciónes y x los tiempos\n",
    "title(\"Derivada de orden 2\"),xlabel(\"Tiempo\"),ylabel('Derivada de la aceleración'),grid()\n",
    "plot(datos[:,0],deriv_h3(datos[:,1],datos[:,0]))"
   ]
  },
  {
   "cell_type": "markdown",
   "metadata": {},
   "source": [
    "Ahora, para la derivada de orden 4 donde se desprecian términos $h^{5}$ se tiene que está está dada por:"
   ]
  },
  {
   "cell_type": "markdown",
   "metadata": {},
   "source": [
    "#### b) Calcule la derivada en cada punto utilizando algoritmos que desprecian términos en $h^{3}$ y $h^{5}$. Compare las gráficas de cada uno de los algoritmos y proporcione el error máximo entre los algoritmos utilizados."
   ]
  },
  {
   "cell_type": "markdown",
   "metadata": {},
   "source": [
    "En clase se obtuvo que la integral que despreciaba términos del orden de $h^{3}$ está dada por el algoritmo:\n",
    "$$\\int_{x_i-h}^{x_i+h}f(x)dx=h\\frac{f_{i+1}+4f_i+f_{i-1}}{3}$$"
   ]
  },
  {
   "cell_type": "markdown",
   "metadata": {},
   "source": [
    "Donde el valor de la integral en la fronta derecha está dada por:\n",
    "$$\\int_{x_0}^{x_0+h}f(x)dx=\\frac{h}{48}(23f_{0}+26f_{1}-4f_{2}+6f_{3}-3f_{4})$$"
   ]
  },
  {
   "cell_type": "markdown",
   "metadata": {},
   "source": [
    "En clase vimos que este algoritmo está dado por la función int_algo2."
   ]
  },
  {
   "cell_type": "code",
   "execution_count": null,
   "metadata": {},
   "outputs": [],
   "source": [
    "#Definimos la función int_alg2\n",
    "def int_alg2(x,y):\n",
    "    integral = 0\n",
    "    h = x[1] - x[0]\n",
    "    if mod(len(y),2) == 0:\n",
    "        inicio = 2\n",
    "    elif mod(len(y),2) == 1:\n",
    "        inicio = 1\n",
    "    for i in range(inicio,len(y)-1,2):\n",
    "        integral += y[i+1] + 4*y[i] + y[i-1]\n",
    "    integral = integral*(h/3)\n",
    "    # punto inicial si se tiene un arreglo par\n",
    "    if mod(len(y),2) == 0:\n",
    "        integral += (h/48)*(23*y[0] + 26*y[1] - 4*y[2] + 6*y[3] -3*y[4])\n",
    "    return integral"
   ]
  },
  {
   "cell_type": "code",
   "execution_count": null,
   "metadata": {},
   "outputs": [],
   "source": [
    "#Obtenemos el valor de la integral:\n",
    "print('La integral despreciando valor de h^{3} es:',int_alg2(ti,ai))"
   ]
  },
  {
   "cell_type": "markdown",
   "metadata": {},
   "source": [
    "De clase, sabemos que la integral de Simpson desprecia términos del orden $h^{5}$.\n",
    "Cuyo algoritmo está dado por:\n",
    "$$\\int_{x_i}^{x_i+3}=\\frac{3h}{8}\\left(  f(x_i)+3f(x_{i+1})+3f(x_{i+2})+f(x_{i+3})\\right)+\\mathcal{O}(h^{5})$$\n"
   ]
  },
  {
   "cell_type": "code",
   "execution_count": null,
   "metadata": {},
   "outputs": [],
   "source": [
    "#Definimos la función que nos calcule la integral de Simpson\n",
    "def intSimpson(f,x):\n",
    "    #Definimos el espacio entre dos puntos contiguos en la malla\n",
    "    h = x[2] - x[1]\n",
    "    #Le damos un valor incial a la integral desde el cual empezará a sumar el valor de la integral\n",
    "    integral = 0 \n",
    "    #Definimos la condiciones en las cuales se evaluará nuestra integral:\n",
    "    #Si la malla,menos el primer punto, en la cual vamos a integrar es divisible entre 3, pedimos que saque la integral a partir de primer elemento\n",
    "    if mod(len(f)-1,3) == 0:\n",
    "        inicio = 0\n",
    "    #Si la malla,menos el primer punto,el residuo de dividir entre 3 es 1, pedimos que saque la integral del a partir del segundo elemento   \n",
    "    if mod(len(f)-1,3) == 1:\n",
    "        inicio = 1\n",
    "    #Si la malla,menos el primer punto,el residuo de dividir entre 3 es 2, pedimos que saque la integral del a partir del tercer elemento       \n",
    "    elif mod(len(f)-1,3) == 2:\n",
    "        inicio = 2\n",
    "    #Definimos la parte del código con la que sumaremos las particiones de la integral y que vaya saltando 3 puntos\n",
    "    for i in range(inicio,len(f)-4 ,3):\n",
    "        integral += f[i]+3*f[i+1]+3*f[i+2]+f[i+3]\n",
    "    integral = integral*(3*h/8)\n",
    "    \n",
    "    # Si nos sobran tres puntos, podemos usar el algoritmo del ejercicio 1.\n",
    "    if mod(len(f)-1,3) == 2:\n",
    "        integral += (f[0] + 4*f[1] + f[2])*(h/3)\n",
    "        \n",
    "    #Si solo tenemos dos puntos en la frontera, le sumamos el siguiente valor a la integral \n",
    "    if mod(len(f)-1,3) == 1:\n",
    "        integral += (h/48)*(23*f[0]+ 26*f[1] - 4*f[2] + 6*f[3] -3*f[4])\n",
    "    return integral"
   ]
  },
  {
   "cell_type": "code",
   "execution_count": null,
   "metadata": {},
   "outputs": [],
   "source": [
    "#Obtenemos el valor de la integral:\n",
    "print('La integral despreciando términos h^5 es',intSimpson(ai,ti))"
   ]
  },
  {
   "cell_type": "markdown",
   "metadata": {},
   "source": [
    "#### c) Calcule la integral total de los datos con el algoritmo int_alg2 que viene en el NB 6 de la página del curso y compare el resultado utilizando el algoritmo de Boole. ¿Cuál es la diferencia numérica entre ambos algoritmos?"
   ]
  },
  {
   "cell_type": "markdown",
   "metadata": {},
   "source": [
    "La integral de Boole está dada por:\n",
    "$$\\int_{x_i}^{x_{i+4}}f(x)={\\frac{2h}{48}}(7f(x_i)+32f(x_{i+1})+12f(x_{i+2})+32f(x_{i+3})+7f(x_{i+4}))+\\mathcal{O}(h^{7}) $$"
   ]
  },
  {
   "cell_type": "code",
   "execution_count": null,
   "metadata": {},
   "outputs": [],
   "source": [
    "#Definimos la función que nos calcule la integral de Boole\n",
    "def intBoole(f,x):\n",
    "    #Definimos el espacio entre dos puntos contiguos en la malla\n",
    "    h = x[2] - x[1]\n",
    "    #Le damos un valor incial a la integral desde el cual empezará a sumar el valor de la integral\n",
    "    integral = 0 \n",
    "    #Definimos la condiciones en las cuales se evaluará nuestra integral:\n",
    "    #Si la malla, menos un punto, en la cual vamos a integrar es divisible entre 4, pedimos que saque la integral del a partir del primer elemento\n",
    "    if mod(len(f)-1,4) == 0:\n",
    "        inicio = 0\n",
    "    #Si el residuo de el num de puntos en la malla,menos 1, entre 4 es 1, pedimos que saque la integral del a partir del segundo elemento de la malla\n",
    "    if mod(len(f)-1,4) == 1:\n",
    "        inicio = 1\n",
    "        \n",
    "    #Si el residuo de el num de puntos en la malla,menos 1, entre 4, es 2, pedimos que saque la integral del a partir del tercer elemento de la malla\n",
    "    if mod(len(f)-1,4) == 2:\n",
    "        inicio = 2\n",
    "        \n",
    "    #Si el residuo de el num de puntos en la malla,menos 1, entre 4, es 3 pedimos que saque la integral del a partir del cuarto elemento de la malla\n",
    "    if mod(len(f)-1,4) == 3:\n",
    "        inicio = 3\n",
    "    #Definimos la parte del código con la que sumaremos las particiones de la integral y que vaya saltando 4 puntos\n",
    "    for i in range(inicio,len(f)-4 ,4):\n",
    "        integral += 7*f[i]+32*f[i+1]+12*f[i+2]+32*f[i+3]+7*f[i+4]\n",
    "    integral = integral*(2*h/45)\n",
    "    #Definimos la integral correspondiente a los puntos frontera para sumarlos a la integral total.\n",
    "    \n",
    "    if mod(len(f)-1,4) == 3:\n",
    "        integral +=(f[i]+3*f[i+1]+3*f[i+2]+f[i+3])*(3*h/8)\n",
    "    \n",
    "    if mod(len(f)-1,4) == 2:\n",
    "        integral += ((f[0] + 4*f[1] + f[2]))*(h/3)\n",
    "        \n",
    "    \n",
    "    if mod(len(f)-1,4) == 1:\n",
    "        integral += (h/48)*(23*f[0]+ 26*f[1] - 4*f[2] + 6*f[3] -3*f[4])\n",
    "        #integral += (h/48)*(23*f[0]*f[0] + 26*f[1]*f[1] - 4*f[2]*f[2] + 6*f[3]*f[3] -3*f[4]*f[4])\n",
    "    return integral"
   ]
  },
  {
   "cell_type": "code",
   "execution_count": null,
   "metadata": {},
   "outputs": [],
   "source": [
    "#Obtenemos el valor de la integral:\n",
    "Boole=intBoole(ai,ti)\n",
    "algo_2=int_alg2(ti,ai)\n",
    "diferencia=abs(Boole-algo_2)\n",
    "print('La diferencia la integral con el algoritmo de Boole e int_algo2 es:',diferencia)"
   ]
  },
  {
   "cell_type": "markdown",
   "metadata": {},
   "source": [
    "#### d) Calcule la integral de los datos, es decir, un conjunto de puntos {ti, vi} tales que su derivada numérica sean los puntos {ti,ai} proporcionados por el archivo"
   ]
  },
  {
   "cell_type": "markdown",
   "metadata": {},
   "source": [
    "Para este ejercicio podemos apreciar que podemos usar en el ejercicio 1."
   ]
  },
  {
   "cell_type": "code",
   "execution_count": null,
   "metadata": {},
   "outputs": [],
   "source": [
    "ai=datos[:,1]\n",
    "ti=datos[:,0]\n",
    "vi=fun2(ti,ai)\n",
    "#s=m[:,1]\n",
    "print('{:^20}{:^20}'.format(r't_i','v_i'))\n",
    "#for i in range (len(ai)):\n",
    "    #está comentado para ahorrar espacio\n",
    "  #  print('{:^20}{:^20}'.format(ti[i],vi[i]))"
   ]
  },
  {
   "cell_type": "markdown",
   "metadata": {},
   "source": [
    "### 3. Sabemos que $\\int_{1}^{\\infty}{\\frac{dx}{x^{2}}}$, sin embargo numéricamente no es factible utilizar el infinito. De esta manera genere una forma de calcular dicha integral hasta obtener una precisión de 10−3. Explique su procedimiento de tal manera que pueda garantizar el resultado de dicha integral y cual sería su generalización."
   ]
  },
  {
   "cell_type": "code",
   "execution_count": null,
   "metadata": {},
   "outputs": [],
   "source": [
    "#Le damos un valor inicial al espacio donde evaluaremos nuestra integral (1,i,100)\n",
    "i=1\n",
    "#El orden del mayor error que deseamos obtener\n",
    "error=0.001\n",
    "#print(abs(1-int1(x**(-2),x)))\n",
    "#La malla donde evaluaremos al integra\n",
    "x=linspace(1,i,100)\n",
    "#El ciclo que nos irá aumentando el intervalo de integración, el cual se cumplirá mientrar el error de la malla (a,i,n) sea mayor al error\n",
    "while (abs(1-int1(x**(-2),x)))>=error:\n",
    "#Iremos aumentando de un punto a nuestra malla\n",
    "    i +=1\n",
    "#Definimos nuestro nuevo espacio i\n",
    "    x=linspace(1,i,100)\n",
    "#Si el error de la integral es menor al propuesto le pedimos al que nos imprima el número i\n",
    "if  (abs(1-int1(x**(-2),x)))<=error:\n",
    "    print(i)"
   ]
  },
  {
   "cell_type": "code",
   "execution_count": null,
   "metadata": {},
   "outputs": [],
   "source": [
    "#Hacemos nuestra malla con la i obtenida en la celda anterior\n",
    "x=linspace(1,i,100)\n",
    "print(\"La integral es: \",int1(x**(-2),x))\n",
    "print('El error de la integral es: ',abs(1-int1(x**(-2),x)))"
   ]
  },
  {
   "cell_type": "code",
   "execution_count": null,
   "metadata": {},
   "outputs": [],
   "source": []
  },
  {
   "cell_type": "code",
   "execution_count": null,
   "metadata": {},
   "outputs": [],
   "source": [
    "#Le damos un valor inicial al espacio donde evaluaremos nuestra integral (1,i,100)\n",
    "i=1\n",
    "#El orden del mayor error que deseamos obtener\n",
    "error=0.001\n",
    "#print(abs(1-int1(x**(-2),x)))\n",
    "#La malla donde evaluaremos al integra\n",
    "x=linspace(1,i,100)\n",
    "#El ciclo que nos irá aumentando el intervalo de integración, el cual se cumplirá mientrar el error de la malla (a,i,n) sea mayor al error\n",
    "while (abs(1-int1(x**(-2),x)))>=error:\n",
    "#Iremos aumentando de un punto a nuestra malla\n",
    "    i +=1\n",
    "#Definimos nuestro nuevo espacio i\n",
    "    x=(linspace(1,i,100))/(linspace(1,i,100))\n",
    "#Si el error de la integral es menor al propuesto le pedimos al que nos imprima el número i\n",
    "if  (abs(1-int1(x**(-2),x)))<=error:\n",
    "    print(i)"
   ]
  }
 ],
 "metadata": {
  "kernelspec": {
   "display_name": "Python 3",
   "language": "python",
   "name": "python3"
  },
  "language_info": {
   "codemirror_mode": {
    "name": "ipython",
    "version": 3
   },
   "file_extension": ".py",
   "mimetype": "text/x-python",
   "name": "python",
   "nbconvert_exporter": "python",
   "pygments_lexer": "ipython3",
   "version": "3.7.6"
  }
 },
 "nbformat": 4,
 "nbformat_minor": 4
}
