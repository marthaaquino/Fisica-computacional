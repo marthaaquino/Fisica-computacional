{
 "cells": [
  {
   "cell_type": "markdown",
   "metadata": {},
   "source": [
    "<div class=\"alert alert-info\" role=\"alert\">\n",
    " <p class =\"lead\"> \n",
    " <h1>Física Computacional </h1>\n",
    " <h2>Proyecto Final</h2>\n",
    " </div>\n",
    "\n",
    "<img src=\"https://upload.wikimedia.org/wikipedia/commons/thumb/1/1f/Julia_Programming_Language_Logo.svg/1200px-Julia_Programming_Language_Logo.svg.png\" style=\"height:42px;display:inline\">\n",
    "\n",
    "> Autores: Aquino Chapa Martha Abril, Castro Granados Celeste y Rizo Franco Samantha"
   ]
  },
  {
   "cell_type": "code",
   "execution_count": null,
   "metadata": {},
   "outputs": [],
   "source": [
    "using Plots\n",
    "using Interact"
   ]
  },
  {
   "cell_type": "markdown",
   "metadata": {},
   "source": [
    "# Planteamiento del Problema:"
   ]
  },
  {
   "cell_type": "markdown",
   "metadata": {},
   "source": [
    "Supongamos una astronauta orbitando alrededor de la Luna que de repente lanza con una fuerza $f$ una herramienta hacia el espacio exterior. ¿Se volverán a encontrar en algún momento la astronauta y su herramienta? "
   ]
  },
  {
   "cell_type": "markdown",
   "metadata": {},
   "source": [
    "# Desarrollo del problema."
   ]
  },
  {
   "cell_type": "markdown",
   "metadata": {},
   "source": [
    "Consideraremos un sistema en el que la Luna se encuentra en el centro y su movimiento debido al astronauta y la herramienta es prácticamente nulo debido a que la magnitud de su masa es mucho mayor, por lo cual, será un sistema de referencia fijo.\n",
    "Por lo tanto, podemos enfocarnos a encontrar solamente el movimiento de la astronauta y de la herramienta a partir de la fuerza gravitacional que siente cada uno de ellos debido a la interacción con los demás cuerpos del sistema. "
   ]
  },
  {
   "cell_type": "markdown",
   "metadata": {},
   "source": [
    "Recordemos que la fuerza gravitacional que siente una masa $m_1$ debido a una masa $m_2$ , separadas por una distancia $r$, es:\n",
    "\n",
    "$$ \\vec{F_{12}} = - G \\frac{m_1 m_2}{(r_{12})^2} \\hat{r_{12}}$$\n",
    "\n",
    "Con $G$ la constante de gravitación de Newton ($G = 6.67 \\times 10^{−11} N m^2/kg^2$) y $\\hat{r_{12}}$ el vector unitario con\n",
    "origen en la partícula 1 y que apunta a la partícula 2."
   ]
  },
  {
   "cell_type": "markdown",
   "metadata": {},
   "source": [
    "> *Como nota interesante: los satélites se mantienen en su órbita gracias a un determinado equilibrio de fuerzas. La fuerza de la gravedad, que lo mantiene unido a la Tierra o el objeto sobre el que se mueven, y la inercia del peso, que es la fuerza que tiene el propio satélite que lo empuja fuera de la órbita. Si este equilibrio se rompe, el satélite puede salirse de su órbita.*"
   ]
  },
  {
   "cell_type": "markdown",
   "metadata": {},
   "source": [
    "Escribimos ahora las ecuaciones de movimiento en el esquema newtoniano: \n",
    "\n",
    "1. **Ecuaciones del astronauta:**\n",
    "\n",
    "Sea $\\vec f = m_A \\vec{a_A}$ la fuerza con que la astronauta lanza la herramienta. \n",
    "\n",
    "$$ \\Rightarrow m_A\\ddot{\\vec{r}}_A=-\\frac{GM_Lm_A}{r_A^2}\\hat{r_A}+\\frac{Gm_Am_H}{|\\vec{r}_A-\\vec{r}_H|^2}(\\vec{r}_H-\\vec{r}_A)-m_A\\vec{a}_A$$\n",
    "\n",
    "Realizamos el siguiente cambio de variable $\\tau=\\sqrt{GM_L}$ (las unidades de tiempo están en términos de $\\tau$) y tenemos que:\n",
    "\n",
    "$$\\frac{d}{d\\tau}=\\frac{dt}{d\\tau}\\frac{d}{dt}=\\frac{1}{\\sqrt{GM_L}}\\frac{d}{dt}\\quad\\quad \\Rightarrow \\quad\\quad \\frac{d^2}{d\\tau}=\\frac{1}{GM_L}\\frac{d^2}{dt^2}$$\n",
    "\n",
    "De esta manera:\n",
    "\n",
    "$$\\frac{1}{GM_L}\\frac{d^2\\vec{r}_A}{dt^2}=\\frac{d^2\\vec{r}_A}{d\\tau^2}=-\\frac{\\vec{r}_A}{r_A^3}+\\frac{m_H}{M_L}\\frac{(\\vec{r}_H-\\vec{r}_A)}{|\\vec{r}_H-\\vec{r}_A|^3}-\\frac{\\vec{a}_A}{GM_L}$$\n",
    "\n",
    "Ahora, sea $\\vec{r}_{HA}=(\\vec{r}_H-\\vec{r}_A)\\Rightarrow$ $r_{HA}$ es la norma de $\\vec{r}_{HA}$. \n",
    "\n",
    "$$\\Rightarrow \\frac{d^2\\vec{r}_A}{d\\tau^2}=-\\frac{\\vec{r}_A}{r_A^3}+\\frac{m_H}{M_L}\\frac{\\vec{r}_{HA}}{r_{HA}^3}-\\frac{\\vec{a}_A}{GM_L}$$\n",
    "\n",
    "Consideramos que el movimiento se realiza en el plano $xy$, por lo tanto:\n",
    "\n",
    "$$\\frac{d^2 x_A}{d\\tau^2}=-\\frac{x_A}{r_A^3}+\\frac{m_H}{M_L}\\frac{(x_H-x_A)}{r_{HA}^3}-\\frac{a_{AX}}{GM_L}$$\n",
    "$$\\frac{d^2 y_A}{d\\tau^2}=-\\frac{y_A}{r_A^3}+\\frac{m_H}{M_L}\\frac{(y_H-y_A)}{r_{HA}^3}-\\frac{a_{AY}}{GM_L}$$\n",
    "\n",
    "2. **Ecuaciones de la herramienta:**\n",
    "\n",
    "Recordamos primero que la fuerza con la que el astronauta lanza la herramienta es $$\\vec{F}_A=m_A\\vec{a}_A$$.\n",
    "\n",
    "Luego, la tercera ley de Newton establece que con toda acción ocurre siempre una reacción igual y contraria: i.e. las acciones mutuas de dos cuerpos siempre son iguales y dirigidas en sentido opuesto, por lo que, sea $\\vec{F}_A$ la fuerza que siente el astronauta al lanzar la herramienta y $\\vec{F}_H$ la fuerza que siente la herramienta al ser lanzada:\n",
    "$$ \\Rightarrow \\vec{F}_A=-\\vec{F}_H$$\n",
    "$$\\Rightarrow m_A\\vec{a}_A=-m_H\\vec{a}_H$$\n",
    "\n",
    "Por lo que podemos relacionar la aceleración que siente el astronauta con la que siente la herramienta por medio de las siguientes expresiones: \n",
    "\n",
    "$$\\vec{a}_A=-\\frac{m_H\\vec{a}_H}{m_A}\\quad\\quad\\wedge\\quad\\quad \\vec{a}_H=-\\frac{m_A\\vec{a}_A}{m_H}$$\n",
    "\n",
    "Ahora, seguimos un procedimiento análogo al anterior para escribir las ecuaciones de la herramienta: \n",
    "\n",
    "$$ \\Rightarrow m_H\\ddot{\\vec{r}}_H=-\\frac{GM_Lm_H}{r_H^2}\\hat{r}_H+\\frac{Gm_Hm_A}{|\\vec{r}_H-\\vec{r}_A|^2}(\\vec{r}_A-\\vec{r}_H)-m_H\\vec{a}_H$$\n",
    "\n",
    "Realizamos nuevamente el cambio de variable $\\tau=\\sqrt{GM_L}$ (las unidades de tiempo están en términos de $\\tau$) y tenemos que:\n",
    "\n",
    "$$\\frac{d}{d\\tau}=\\frac{dt}{d\\tau}\\frac{d}{dt}=\\frac{1}{\\sqrt{GM_L}}\\frac{d}{dt}\\quad\\quad \\Rightarrow \\quad\\quad \\frac{d^2}{d\\tau}=\\frac{1}{GM_L}\\frac{d^2}{dt^2}$$\n",
    "\n",
    "De esta manera:\n",
    "$$\\frac{1}{GM_L}\\frac{d^2\\vec{r}_H}{dt^2}=\\frac{d^2\\vec{r}_H}{d\\tau^2}=-\\frac{\\vec{r}_H}{r_H^3}+\\frac{m_A}{M_L}\\frac{(\\vec{r}_A-\\vec{r}_H)}{|\\vec{r}_A-\\vec{r}_H|^3}-\\frac{\\vec{a}_H}{GM_L}$$\n",
    "\n",
    "Ahora, sea $\\vec{r}_{AH}=(\\vec{r}_A-\\vec{r}_H) \\Rightarrow r_{AH}$ es la norma de $\\vec{r_AH}$, y además $r_{AH}=r_{HA}$.\n",
    "\n",
    "$$\\Rightarrow \\frac{d^2\\vec{r}_H}{d\\tau^2}=-\\frac{\\vec{r}_H}{r_H^3}+\\frac{m_A}{M_L}\\frac{\\vec{r}_{HA}}{r_{HA}^3}-\\frac{\\vec{a}_H}{GM_L}$$\n",
    "\n",
    "Consideramos que el movimiento se realiza en el plano $xy$, por lo tanto:\n",
    "\n",
    "$$\\frac{d^2 x_H}{d\\tau^2}=-\\frac{x_H}{r_H^3}+\\frac{m_A}{M_L}\\frac{(x_H - x_A)}{r_{HA}^3}-\\frac{a_{HX}}{GM_L}$$\n",
    "$$\\frac{d^2 y_H}{d\\tau^2}=-\\frac{y_H}{r_H^3}+\\frac{m_A}{M_L}\\frac{(y_H - y_A)}{r_{HA}^3}-\\frac{a_{HY}}{GM_L}$$\n",
    "\n",
    "Utilizando todo lo anterior, a continuación procedemos a programar este sistema:\n"
   ]
  },
  {
   "cell_type": "code",
   "execution_count": null,
   "metadata": {},
   "outputs": [],
   "source": [
    "### r=[xA,yA,vxA,vyA,xH,yH,vxH,vyH]\n",
    "### r= 1, 2,  3,  4,  5, 6, 7,  8\n",
    "function sistema_AH(r,t)\n",
    "    G=6.674e-11 #constante de gravitación universal\n",
    "    mL=7.349e22 #masa de la luna\n",
    "    mA=70 #masa del astronauta\n",
    "    mH=5 #masa de la herramienta\n",
    "    \n",
    "    #definimos las aceleraciones\n",
    "    axH=100\n",
    "    ayH=100\n",
    "    \n",
    "    axA=-(mH/mA)*axH\n",
    "    ayA=-(mH/mA)*ayH\n",
    "    \n",
    "    #definimos la norma del astronauta\n",
    "    rA = sqrt(r[1]^2 + r[2]^2)\n",
    "    #definimos la norma de la herramienta\n",
    "    rH=sqrt(r[5]^2 + r[6]^2)\n",
    "    #definimos la distancia del astronauta a la herramienta\n",
    "    rAH=sqrt((r[1]-r[5])^2 + (r[2]-r[6])^2)\n",
    "    \n",
    "    #Ecuaciones del astronauta\n",
    "    vxA = r[3]\n",
    "    dvxA = -( r[1]/(rA^3) )+( (mH/mL)*((r[5]-r[1])/(rAH^3)) )+(axA/(G*mL))\n",
    "    \n",
    "    vyA = r[4]\n",
    "    dvyA = -( r[2]/(rA^3) )+( (mH/mL)*((r[6]-r[2])/(rAH^3)) )+(ayA/(G*mL))\n",
    "    #Ecuaciones de la herramienta\n",
    "    vxH=r[7]\n",
    "    dvxH = -( r[5]/(rH^3) )-( (mA/mL)*((r[5]-r[1])/(rAH^3)) )+(axH/(G*mL))\n",
    "    vyH=r[8]\n",
    "    dvyH = -( r[6]/(rH^3) )-( (mA/mL)*((r[6]-r[2])/(rAH^3)) )+(ayH/(G*mL))\n",
    "    \n",
    "    return([vxA,vyA,dvxA,dvyA,vxH,vyH,dvxH,dvyH])\n",
    "end    "
   ]
  },
  {
   "cell_type": "markdown",
   "metadata": {},
   "source": [
    "Y definimos también la función del método de Runge-Kutta de orden 4 vista en clase para poder resolver nuestro sistema de ecuaciones diferenciales:"
   ]
  },
  {
   "cell_type": "code",
   "execution_count": null,
   "metadata": {},
   "outputs": [],
   "source": [
    "function RK_4(edo,x_ini,t)\n",
    "    sol = zeros( length(t) , length(x_ini) )\n",
    "    sol[1,:] .= x_ini\n",
    "    δ = t[2]-t[1]\n",
    "    for i in 1:length(t)-1\n",
    "        k1 = edo(sol[i,:],t[i])\n",
    "        k2 = edo(sol[i,:] .+ 0.5*δ.*k1 , t[i] + 0.5*δ)\n",
    "        k3 = edo(sol[i,:] .+ 0.5*δ.*k2 , t[i] + 0.5*δ)\n",
    "        k4 = edo(sol[i,:] .+ δ.*k2 , t[i] + δ)\n",
    "        sol[i+1,:] .= sol[i,:] .+ (δ/6.0).*(k1 .+ 2.0.*k2 .+ 2.0.*k3 .+ k4)\n",
    "    end\n",
    "    return sol\n",
    "end"
   ]
  },
  {
   "cell_type": "markdown",
   "metadata": {},
   "source": [
    "Vamos a obtener ahora sí la solución del problema:\n",
    "\n",
    "Consideramos una velocidad menor para la herramienta de tal manera que pueda haber una intersección con la trayectoria del astronauta. En este caso pondremos $v_H=(0,0.65)$ y haremos la simulación por un tiempo $\\tau=30\\pi$ que representa 15 vueltas del astronauta en torno a la Luna."
   ]
  },
  {
   "cell_type": "code",
   "execution_count": null,
   "metadata": {},
   "outputs": [],
   "source": [
    "tiempo1=collect(0:0.5:30*π) #intervalo de tiempo\n",
    "cond_inic1=[1, 0, 0, 1, 1.5, 0,0, 0.65] #condición inicial\n",
    "solucion1=RK_4(sistema_AH,cond_inic1,tiempo1)\n",
    "\n",
    "#solucion=[xA,yA,vxA,vyA,xH,yH,vxH,vyH]\n",
    "\n",
    "plot(title=\"Sistema Astronauta-Herramienta\",xlabel=\"x\",ylabel=\"y\")\n",
    "plot!(solucion1[:,1],solucion1[:,2], label=\"Órbita Astronauta\",lw=1.0)\n",
    "plot!(solucion1[:,5],solucion1[:,6], label=\"Órbita Herramienta\",lw=1.0)\n",
    "scatter!([0],[0],markershape=:circle,markersize=10,markercolor=:gray,label=\"Luna\",xlim=(-2,2.5),ylim=(-2,2))"
   ]
  },
  {
   "cell_type": "markdown",
   "metadata": {},
   "source": [
    "Y probamos con diferentes pasos de integración para observar como aumenta la precisión de la solución anterior:"
   ]
  },
  {
   "cell_type": "code",
   "execution_count": null,
   "metadata": {},
   "outputs": [],
   "source": [
    "tiempo2=collect(0:0.1:30*π) #paso=0.1\n",
    "cond_inic2=[1, 0, 0, 1, 1.5, 0,0, 0.65]\n",
    "solucion2=RK_4(sistema_AH,cond_inic2,tiempo2)\n",
    "\n",
    "#solucion=[xA,yA,vxA,vyA,xH,yH,vxH,vyH]\n",
    "\n",
    "plot(title=\"Sistema Astronauta-Herramienta\",xlabel=\"x\",ylabel=\"y\")\n",
    "plot!(solucion2[:,1],solucion2[:,2], label=\"Órbita Astronauta\",lw=1.0)\n",
    "plot!(solucion2[:,5],solucion2[:,6], label=\"Órbita Herramienta\",lw=1.0)\n",
    "scatter!([0],[0],markershape=:circle,markersize=10,markercolor=:gray,label=\"Luna\",xlim=(-2,2),ylim=(-2,2))"
   ]
  },
  {
   "cell_type": "code",
   "execution_count": null,
   "metadata": {},
   "outputs": [],
   "source": [
    "tiempo3=collect(0:0.05:30*π) #paso=0.05\n",
    "cond_inic3=[1, 0, 0, 1, 1.5, 0,0, 0.65]\n",
    "solucion3=RK_4(sistema_AH,cond_inic3,tiempo3)\n",
    "\n",
    "#solucion=[xA,yA,vxA,vyA,xH,yH,vxH,vyH]\n",
    "\n",
    "plot(title=\"Sistema Astronauta-Herramienta\",xlabel=\"x\",ylabel=\"y\")\n",
    "plot!(solucion3[:,1],solucion3[:,2], label=\"Órbita Astronauta\",lw=1.0)\n",
    "plot!(solucion3[:,5],solucion3[:,6], label=\"Órbita Herramienta\",lw=1.0)\n",
    "scatter!([0],[0],markershape=:circle,markersize=10,markercolor=:gray,label=\"Luna\",xlim=(-2,2),ylim=(-2,2))"
   ]
  },
  {
   "cell_type": "markdown",
   "metadata": {},
   "source": [
    "Observando las gráficas anteriores podemos ver que tenemos tiempos para los cuales la astronauta y su herramienta si se vuelven a encontrar.\n",
    "\n",
    "Por lo tanto, para conocer en qué momento específico el astronauta podrá volver a tomar su herramienta, definimos una función que compare las posiciones de la herramienta en ambos ejes, seleccionando sólo los tiempos que cumplen que las posiciones alrededor de la astronauta están a una distancia menor de 36.5 cm, que corresponde al promedio del largo del brazo de una persona."
   ]
  },
  {
   "cell_type": "code",
   "execution_count": null,
   "metadata": {},
   "outputs": [],
   "source": [
    "function interseccion(rAx,rAy,rHx,rHy,t)\n",
    "    #creamos un arreglo vacío donde anexaremos los tiempos donde la astronauta puede volver a tomar su herramienta.\n",
    "    distancia=0.365\n",
    "    tiempo_interseccion=[]\n",
    "   for i in 1:length(t)\n",
    "        if abs(rAx[i]-rHx[i])<=distancia || abs(rAy[i]-rHy[i])<=distancia\n",
    "            push!(tiempo_interseccion,tiempo[i])\n",
    "        else\n",
    "            false\n",
    "        end\n",
    "            \n",
    "    end\n",
    "    return tiempo_interseccion\n",
    "end"
   ]
  },
  {
   "cell_type": "markdown",
   "metadata": {},
   "source": [
    "Probamos la función:"
   ]
  },
  {
   "cell_type": "code",
   "execution_count": null,
   "metadata": {},
   "outputs": [],
   "source": [
    "plot(title=\"Tiempo en el cual la astronauta podrá recoger su herramienta\",xlabel=\"\",ylabel=\"tiempo [s]\")\n",
    "plot!(interseccion(solucion2[:,1],solucion2[:,2],solucion2[:,5],solucion2[:,6],tiempo2))"
   ]
  },
  {
   "cell_type": "markdown",
   "metadata": {},
   "source": [
    "Finalmente, vamos a volver a graficar pero ahora para distintos valores de la velocidad inicial de la herramienta para observar como va variando su órbita en función de con que velocidad inicia. \n",
    "> *La órbita azul rey corresponderá a la órbita de la astronauta la cual se mantendrá constante.*"
   ]
  },
  {
   "cell_type": "code",
   "execution_count": null,
   "metadata": {},
   "outputs": [],
   "source": [
    "tiempo=collect(0:0.1:30*π)\n",
    "plot(title=\"Sistema Astronauta-Herramienta\",xlabel=\"x\",ylabel=\"y\",legend=false)\n",
    "for i in 0.5:0.05:1 \n",
    "    vHy=i    \n",
    "    cond_inic=[1, 0, 0, 1, 1.5, 0,0, vHy]\n",
    "    solucion=RK_4(sistema_AH,cond_inic,tiempo)\n",
    "    plot!(solucion[:,1],solucion[:,2],lw=1.0, color=\"blue\")\n",
    "    plot!(solucion[:,5],solucion[:,6],lw=1.0)\n",
    "end\n",
    "scatter!([0],[0],markershape=:circle,markersize=10,markercolor=:gray,label=\"Luna\",xlim=(-5,3),ylim=(-4,4)) "
   ]
  },
  {
   "cell_type": "code",
   "execution_count": null,
   "metadata": {},
   "outputs": [],
   "source": [
    "@manipulate for vHy=0.5:0.1:1 || i in \n",
    "    tiempo=collect(0:0.1:30*π) \n",
    "    cond_inic=[1, 0, 0, 1, 1.5, 0,0, vHy]\n",
    "    solucion=RK_4(sistema_AH,cond_inic,tiempo)\n",
    "    plot(title=\"Sistema Astronauta-Herramienta\",xlabel=\"x\",ylabel=\"y\")\n",
    "    plot!(solucion[:,1],solucion[:,2], label=\"Órbita Astronauta\",lw=1.0)\n",
    "    plot!(solucion[:,5],solucion[:,6], label=\"Órbita Herramienta\",lw=1.0)\n",
    "    scatter!([0],[0],markershape=:circle,markersize=10,markercolor=:gray,label=\"Luna\",xlim=(-2,2),ylim=(-2,2))\n",
    "end"
   ]
  },
  {
   "cell_type": "code",
   "execution_count": null,
   "metadata": {},
   "outputs": [],
   "source": []
  }
 ],
 "metadata": {
  "@webio": {
   "lastCommId": null,
   "lastKernelId": null
  },
  "kernelspec": {
   "display_name": "Julia 1.5.1",
   "language": "julia",
   "name": "julia-1.5"
  },
  "language_info": {
   "file_extension": ".jl",
   "mimetype": "application/julia",
   "name": "julia",
   "version": "1.5.1"
  }
 },
 "nbformat": 4,
 "nbformat_minor": 4
}
