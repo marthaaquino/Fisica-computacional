{
 "cells": [
  {
   "cell_type": "code",
   "execution_count": 1,
   "metadata": {},
   "outputs": [],
   "source": [
    "using Plots\n",
    "using Roots\n",
    "using BenchmarkTools\n",
    "using Statistics"
   ]
  },
  {
   "cell_type": "code",
   "execution_count": 2,
   "metadata": {},
   "outputs": [
    {
     "data": {
      "text/plain": [
       "generador_indice_vecinos (generic function with 1 method)"
      ]
     },
     "execution_count": 2,
     "metadata": {},
     "output_type": "execute_result"
    }
   ],
   "source": [
    "function generador_indice_vecinos(red)\n",
    "    N² = length(red)\n",
    "    N= Int((N²)^(1/2))\n",
    "    v = zeros(Int64,(N²,4))\n",
    "    #v[i] = [arriba, derecha, abajo, izquierda]\n",
    "\n",
    "    #Obtenemos el arreglado donde acomodamos los situos de los\n",
    "    \n",
    "    #Iniciamos a indexar los vecinos de arriba\n",
    "    for j in 1:N²\n",
    "        if j+N<= N²\n",
    "            v[j,1] = j+N \n",
    "\n",
    "        elseif j+N>N²\n",
    "            v[j,1] = j - N*(N-1)\n",
    "        end\n",
    "\n",
    "        #Para los vecinos de la derecha\n",
    "        if j%N != 0 \n",
    "            v[j,2] = j+1\n",
    "        elseif j%N ==0\n",
    "            v[j,2] = j-N+1 \n",
    "        end\n",
    "\n",
    "\n",
    "        #Para los vecinos de abajo\n",
    "\n",
    "        if j-N>=1\n",
    "            v[j,3] = j-N\n",
    "        elseif j-N<1\n",
    "            v[j,3] =j+N*(N-1)\n",
    "        end\n",
    "\n",
    "        #Para los vecinos izquierda\n",
    "\n",
    "        if (j-1)%N != 0\n",
    "            v[j,4] = j-1\n",
    "        elseif (j-1)%N ==0\n",
    "            v[j,4] = j+N-1\n",
    "        end\n",
    "    end\n",
    "    #Regresamos el arreglo donde están los vecinos\n",
    "    return v\n",
    "end"
   ]
  },
  {
   "cell_type": "code",
   "execution_count": 15,
   "metadata": {},
   "outputs": [
    {
     "data": {
      "text/plain": [
       "energia_total_del_sistema (generic function with 1 method)"
      ]
     },
     "execution_count": 15,
     "metadata": {},
     "output_type": "execute_result"
    }
   ],
   "source": [
    "function energia_total_del_sistema(red_lista)\n",
    "    J=0.5\n",
    "    #generamos los indices de los vecinos\n",
    "    vecinos_lista = generador_indice_vecinos(red_lista)\n",
    "    #Creamos un arreglo donde iremos sumando cada elemento de la suma de la energía total\n",
    "    energia_total = 0\n",
    "    #Creamos un arreglo que obtenga la energía de interacción de cada elemento de la red\n",
    "    N² = length(red_lista)\n",
    "    for i in 1:N²\n",
    "        #Obtenemos los indices de los vecinos\n",
    "        vecinosi= vecinos_lista[i,:]\n",
    "        for j in vecinosi\n",
    "            energia_total += red_lista[i]*red_lista[j]\n",
    "        end\n",
    "    \n",
    "    end\n",
    "    return energia_total*(-J)\n",
    "end"
   ]
  },
  {
   "cell_type": "code",
   "execution_count": 14,
   "metadata": {},
   "outputs": [
    {
     "data": {
      "text/plain": [
       "ising2 (generic function with 2 methods)"
      ]
     },
     "execution_count": 14,
     "metadata": {},
     "output_type": "execute_result"
    }
   ],
   "source": [
    "function ising2(red,T,Q=5000)\n",
    "    J=0.5\n",
    "    red = copy(red)\n",
    "    E=[]\n",
    "    M=[]\n",
    "    flips = [0]\n",
    "    flips_contador = 0\n",
    "    vecinos = generador_indice_vecinos(red)\n",
    "    for i in 1:5000\n",
    "        j = rand(1:length(red))\n",
    "        spin_ini = red[j]\n",
    "        energia_inicial = energia_total_del_sistema(red)\n",
    "        red_f = copy(red)\n",
    "        red_f[j] = (-1)*red[j]\n",
    "        energia_final = energia_total_del_sistema(red_f)\n",
    "        dE=energia_final-energia_inicial\n",
    "        if dE<=0\n",
    "            red[j] = (-1)*spin_ini\n",
    "            flips_cotador +=1\n",
    "        elseif (rand()<exp(-dE/T))\n",
    "            red[j] = (-1)*spin_ini\n",
    "            flips_cotador +=1\n",
    "        end\n",
    "        if flips[i] != flips_contador\n",
    "            append!(E,energia_final)\n",
    "            append!(M,sum(red_inicial))\n",
    "            flips_contador +=1\n",
    "            append!(flips,flips_contador)\n",
    "        end\n",
    "    end\n",
    "    return flips, E, M\n",
    "    \n",
    "    \n",
    "    \n",
    "end"
   ]
  },
  {
   "cell_type": "code",
   "execution_count": 17,
   "metadata": {},
   "outputs": [
    {
     "ename": "LoadError",
     "evalue": "BoundsError: attempt to access 1-element Array{Int64,1} at index [2]",
     "output_type": "error",
     "traceback": [
      "BoundsError: attempt to access 1-element Array{Int64,1} at index [2]",
      "",
      "Stacktrace:",
      " [1] getindex at .\\array.jl:809 [inlined]",
      " [2] ising2(::Array{Int64,1}, ::Float64, ::Int64) at .\\In[14]:24",
      " [3] ising2(::Array{Int64,1}, ::Float64) at .\\In[14]:2",
      " [4] top-level scope at In[17]:2",
      " [5] include_string(::Function, ::Module, ::String, ::String) at .\\loading.jl:1091"
     ]
    }
   ],
   "source": [
    "malla_20x20 = [1 for i in  1:20^2]\n",
    "flips_20 , energias_20, M_20 = ising2(malla_20x20,1.5)\n",
    "plot(flips_20[2:end], energias_20./20^2,label = \"Malla de 20x20\")"
   ]
  }
 ],
 "metadata": {
  "kernelspec": {
   "display_name": "Julia 1.5.1",
   "language": "julia",
   "name": "julia-1.5"
  },
  "language_info": {
   "file_extension": ".jl",
   "mimetype": "application/julia",
   "name": "julia",
   "version": "1.5.1"
  }
 },
 "nbformat": 4,
 "nbformat_minor": 4
}
