{
 "cells": [
  {
   "cell_type": "markdown",
   "metadata": {},
   "source": [
    "Pata guardar los resultados en csv\n",
    "using CSV, DataFrames\n",
    "\n",
    " \n",
    "# using write method\n",
    "CSV.write(\"segundo_cuadrante_primera_prueba.csv\", DataFrame(primero_segundo_cuadrante),\n",
    "                         header = false)      "
   ]
  },
  {
   "cell_type": "markdown",
   "metadata": {},
   "source": [
    "#la siguiente función es con la que se a generado el fractal\n",
    "function condicion2(θ_1,θ_2)\n",
    "    #definimos una matriz de ceros que iremos modificando acorde a los colores del fractal\n",
    "    valores = zeros(length(θ_2),length(θ_1))\n",
    "    #Tiempo para resolver las ecuaciones difenciales\n",
    "    tiempo1 = collect(0:0.01:10000) #collect(0:0.001:11)\n",
    "    \n",
    "    #ciclo para analizar organizadamente cada combinación de pares de angulos\n",
    "    for i in 1:length(θ_1)\n",
    "        for j in 1:length(θ_2)\n",
    "            #iniciamos excluyendo los ángulos que sabemos que podrán dar vuelta los pendulos\n",
    "            if angulos_excluidos(θ_1[i], θ_2[j]) == false\n",
    "                #definimos que para estos ángulos el elemento en la malla valga 1\n",
    "                valores[j,i] = 1\n",
    "            #para los ángulos que quizá si den vuelta \n",
    "            elseif angulos_excluidos(θ_1[i], θ_2[j]) == true\n",
    "                #obtenemos la solución\n",
    "               solucion =  RK_4(EDO_pendulo_doble, [θ_1[i],θ_2[j], 0,0], tiempo1)\n",
    "                #ocupamos la función que nos permite saber si el elemento ha dado vuelta en un tiempo máximo de 10 unidades\n",
    "                if vuelta(solucion[:,2])==true\n",
    "                    #y se toma el valor de ese elemento en la malla como 2\n",
    "                    valores[j,i] = 2\n",
    "                end\n",
    "            end\n",
    "        end\n",
    "    end\n",
    "    #se regresa la malla que son los valores que se graficaran\n",
    "    return valores\n",
    "end"
   ]
  },
  {
   "cell_type": "markdown",
   "metadata": {},
   "source": [
    "<div class=\"alert alert-info\" role=\"alert\">\n",
    " <p class =\"lead\"> \n",
    " <h1> Laboratorio de Física Contemporánea II </h1>\n",
    " <h2> Péndulo doble </h2>\n",
    " <h3>Autor: Aquino Chapa Martha Abril<h3>\n",
    " </div>\n",
    " \n",
    " Hecho en Julia 🔴🟢🟣 "
   ]
  },
  {
   "cell_type": "code",
   "execution_count": null,
   "metadata": {},
   "outputs": [],
   "source": [
    "#Paqueterías que se usarán\n",
    "using Plots\n",
    "using Statistics"
   ]
  },
  {
   "cell_type": "code",
   "execution_count": null,
   "metadata": {},
   "outputs": [],
   "source": [
    "#Se definen las constantes del problema\n",
    "#Masa\n",
    "m = 1\n",
    "#valor de la gravedad\n",
    "g = 1\n",
    "#Longitud de los péndulos\n",
    "l = 1;"
   ]
  },
  {
   "cell_type": "markdown",
   "metadata": {},
   "source": [
    "El algoritmo que se utilizará para resolver el sistema de ecuaciones diferencias es el método Runge-Kutta de cuarto orden, por lo cual se crea una función la cual reciba otra función que determine el sistema de ecuaciones diferenciales, las condiciones iniciales y el tiempo para el cual se vaya a resolver el sistema."
   ]
  },
  {
   "cell_type": "code",
   "execution_count": null,
   "metadata": {},
   "outputs": [],
   "source": [
    "function RK_4(edo,x_ini,t,ω²=1)\n",
    "    sol = zeros( length(t) , length(x_ini) )\n",
    "    sol[1,:] .= x_ini\n",
    "    δ = t[2]-t[1]\n",
    "    for i in 1:length(t)-1\n",
    "        k1 = edo(t[i], sol[i,:], ω²)\n",
    "        k2 = edo(t[i] + 0.5*δ, sol[i,:] .+ 0.5*δ.*k1, ω²)\n",
    "        k3 = edo(t[i] + 0.5*δ, sol[i,:] .+ 0.5*δ.*k2 , ω²)\n",
    "        k4 = edo( t[i] + δ, sol[i,:] .+ δ.*k2, ω²)\n",
    "        sol[i+1,:] .= sol[i,:] .+ (δ/6.0).*(k1 .+ 2.0.*k2 .+ 2.0.*k3 .+ k4)\n",
    "    end\n",
    "    return sol\n",
    "end"
   ]
  },
  {
   "cell_type": "markdown",
   "metadata": {},
   "source": [
    "Se crea ahora una función la cual regrese los valores del sistema de ecuaciones diferenciales general:"
   ]
  },
  {
   "cell_type": "code",
   "execution_count": null,
   "metadata": {},
   "outputs": [],
   "source": [
    "function EDO_pendulo_doble(t,variables,ω² = 1)\n",
    "    # alpha = \\theta1-\\theta2\n",
    "    α = variables[1]-variables[2]\n",
    "    dθ_1 = 6/(m*l^2)*(2*variables[3]-3*variables[4]*cos(α))/(16-9*(cos(α))^2)\n",
    "    dθ_2 = 6/(m*l^2)*(8*variables[4]-3*cos(α)*variables[3])/(16-9*(cos(α))^2)\n",
    "    dp_1 = -1/2*(m*l^2)*(dθ_1*dθ_2*sin(α)+3*ω²*sin(variables[1]) )\n",
    "    dp_2 = -1/2*(m*l^2)*(-dθ_1*dθ_2*sin(α) + ω²*sin(variables[2]))\n",
    "    \n",
    "    return[dθ_1, dθ_2, dp_1, dp_2]\n",
    "end"
   ]
  },
  {
   "cell_type": "markdown",
   "metadata": {},
   "source": [
    "Para determinar si el método Runge Kutta creado es funcional se obtendrá la solución al pendulo doble para ángulos pequeños con la finalidad de comparar la solución númerica y la solución analítica."
   ]
  },
  {
   "cell_type": "code",
   "execution_count": null,
   "metadata": {},
   "outputs": [],
   "source": [
    "#variables = [θ1, θ2, p1,p2]\n",
    "function EDO_pendulo_doble_angulos_pequeños(t,variables,ω²) \n",
    "    m = 1\n",
    "    l = 1\n",
    "    dθ1 = (12/(7*m*l^2))*variables[3] - (18/(7*m*l^2))*variables[4]\n",
    "    dθ2 = (48/(7*m*l^2))*variables[4] - (18/(7*m*l^2))*variables[3]\n",
    "    dp1 = -(3/2)*m*(l^2)*ω²*variables[1]\n",
    "    dp2 = -(1/2)*m*(l^2)*ω²*variables[2]\n",
    "    return [dθ1,dθ2,dp1,dp2]\n",
    "end"
   ]
  },
  {
   "cell_type": "code",
   "execution_count": null,
   "metadata": {},
   "outputs": [],
   "source": [
    "#Tiempo para el cual se obtendrán las soluciones\n",
    "tiempo_1 = collect(0:0.0001:30)\n",
    "#solución númerica considerando el sistema de ecuaciones diferenciales con las aproximaciones\n",
    "soluciones_numericas_con_aproximacion = RK_4(EDO_pendulo_doble_angulos_pequeños, [0.01,0.01, 0,0], tiempo_1,1);\n",
    "#Solución númerica considerando las ecuaciones diferenciales generales\n",
    "soluciones_numericas = RK_4(EDO_pendulo_doble, [0.01,0.01, 0,0], tiempo_1,1);"
   ]
  },
  {
   "cell_type": "code",
   "execution_count": null,
   "metadata": {},
   "outputs": [],
   "source": [
    "#Solución analítica\n",
    "θ_1 = []\n",
    "θ_2 = []\n",
    "for t in tiempo_1\n",
    "    push!(θ_1,\n",
    "         2*(2.18882)* (12875750/46188059293)* cos(2.29517*t)+2*(1.19636)*(169478750/46188059293)*cos(0.855695*t)       \n",
    "        )\n",
    "    push!(θ_2, \n",
    "        -2*(4.59033)* (12875750/46188059293)* cos(2.29517*t)+2*(1.71139)*(169478750/46188059293)*cos(0.855695*t)    \n",
    "        )\n",
    "    end;\n"
   ]
  },
  {
   "cell_type": "code",
   "execution_count": null,
   "metadata": {},
   "outputs": [],
   "source": [
    "plot(tiempo_1,soluciones_numericas_con_aproximacion[:,1], label = \"Solución númerica con aproximación\", linewidth = 2.5)#color = :black)\n",
    "plot!(tiempo_1, θ_1, label = \"Solución analítica\", linewidth = 2.5)\n",
    "plot!(tiempo_1,soluciones_numericas[:,1], label = \"Solución númerica con aproximación\", linewidth = 2.5)#color = :black)\n",
    "plot!(title = \"Comparacines de sokuciones para θ₁\", xlabel = \"Tiempo\", ylabel = \"θ₁\")"
   ]
  },
  {
   "cell_type": "code",
   "execution_count": null,
   "metadata": {},
   "outputs": [],
   "source": [
    "plot(tiempo_1,soluciones_numericas_con_aproximacion[:,2], label = \"Solución númerica con aproximación\", linewidth = 2.5)#color = :black)\n",
    "plot!(tiempo_1, θ_2, label = \"Solución analítica\", linewidth = 2.5)\n",
    "plot!(tiempo_1,soluciones_numericas[:,2], label = \"Solución númerica con aproximación\", linewidth = 2.5)#color = :black)\n",
    "plot!(title = \"Comparacines de sokuciones para θ₂\", xlabel = \"Tiempo\", y_label = \"θ₂\")"
   ]
  },
  {
   "cell_type": "markdown",
   "metadata": {},
   "source": [
    "para tiempo_1 = collect(0:0.0001:30)\n",
    "\n",
    "La diferencia máxima (para θ₁) considerando la ecuación diferencial aproximada es:  2.0589532292135393e-7\n",
    "\n",
    "siendo el error porcentual promedio: 0.00227672445295688% \n",
    "\n",
    "La diferencia máxima (para θ₁) considerando la ecuación diferencial general es:  1.4272353750131254e-6\n",
    "\n",
    "siendo el error porcentual promedio: 0.04719245149445637% \n",
    "\n",
    "La diferencia máxima (para θ₂) considerando la ecuación diferencial aproximada es:  4.2806300241515077e-7\n",
    "\n",
    "siendo el error porcentual promedio: 0.0007184025507861713% \n",
    "\n",
    "La diferencia máxima (para θ₂) considerando la ecuación diferencial general es:  2.0403255086166167e-6\n",
    "\n",
    "siendo el error porcentual promedio: 0.011902697748276346% \n"
   ]
  },
  {
   "cell_type": "markdown",
   "metadata": {},
   "source": [
    "Ahorar obtenemos las diferencias máximas entre la solución analítica y las soluciones númericas."
   ]
  },
  {
   "cell_type": "code",
   "execution_count": null,
   "metadata": {},
   "outputs": [],
   "source": [
    "δθ1_aproximacion_numerica = maximum(θ_1.-soluciones_numericas_con_aproximacion[:,1])\n",
    "#calculando el error porcentual promedio\n",
    "δθ1_aproximacion_numerica_porcentual = abs(mean(100*(θ_1.-soluciones_numericas_con_aproximacion[:,1])./θ_1))\n",
    "print(\"La diferencia máxima (para θ₁) considerando la ecuación diferencial aproximada es:  \", δθ1_aproximacion_numerica, \"\\n\")\n",
    "print(\"siendo el error porcentual promedio: \", δθ1_aproximacion_numerica_porcentual, \"% \\n\")\n",
    "\n",
    "δθ1_numerica = maximum(θ_1.-soluciones_numericas[:,1])\n",
    "δθ1_numerica_porcentual = abs(mean(100*(θ_1.-soluciones_numericas[:,1])./θ_1))\n",
    "print(\"La diferencia máxima (para θ₁) considerando la ecuación diferencial general es:  \", δθ1_numerica, \"\\n\")\n",
    "print(\"siendo el error porcentual promedio: \", δθ1_numerica_porcentual, \"% \\n\")\n",
    "\n",
    "δθ2_aproximacion_numerica = maximum(θ_2.-soluciones_numericas_con_aproximacion[:,2])\n",
    "δθ2_aproximacion_numerica_porcentual = abs(mean(100*(θ_2.-soluciones_numericas_con_aproximacion[:,2])./θ_2))\n",
    "print(\"La diferencia máxima (para θ₂) considerando la ecuación diferencial aproximada es:  \", δθ2_aproximacion_numerica, \"\\n\")\n",
    "print(\"siendo el error porcentual promedio: \", δθ2_aproximacion_numerica_porcentual, \"% \\n\")\n",
    "\n",
    "δθ2_numerica = maximum(θ_2.-soluciones_numericas[:,2])\n",
    "δθ1_numerica_porcentual = abs(mean(100*(θ_2.-soluciones_numericas[:,2])./θ_2))\n",
    "print(\"La diferencia máxima (para θ₂) considerando la ecuación diferencial general es:  \", δθ2_numerica, \"\\n\")\n",
    "print(\"siendo el error porcentual promedio: \", δθ1_numerica_porcentual, \"% \\n\")\n"
   ]
  },
  {
   "cell_type": "markdown",
   "metadata": {},
   "source": [
    "### Graficando las curvas de Lissajous"
   ]
  },
  {
   "cell_type": "code",
   "execution_count": null,
   "metadata": {},
   "outputs": [],
   "source": [
    "plot(soluciones_numericas[:,1], soluciones_numericas[:,2], xlabel = \"θ₁\", ylabel = \"θ₂\", label = false)\n",
    "plot!(soluciones_numericas_con_aproximacion[:,1], soluciones_numericas_con_aproximacion[:,2], xlabel = \"θ₁\", ylabel = \"θ₂\",\n",
    "    label = false)#, linewidth = 2.5)\n",
    "plot!(θ_1,θ_2, style = :dash, linewidth = 2.5 , label = \"Analítica\")"
   ]
  },
  {
   "cell_type": "markdown",
   "metadata": {},
   "source": [
    "### Calculando las soluciones ahora para una frecuencia en los racionales y otra en los irracionales."
   ]
  },
  {
   "cell_type": "code",
   "execution_count": null,
   "metadata": {},
   "outputs": [],
   "source": [
    "plot(soluciones_numericas[:,1], soluciones_numericas[:,3], style = :dash, xlabel = \"θ_1\", ylabel = \"p₁\")"
   ]
  },
  {
   "cell_type": "code",
   "execution_count": null,
   "metadata": {},
   "outputs": [],
   "source": [
    "plot(soluciones_numericas[:,2], soluciones_numericas[:,4], style = :dash, xlabel = \"θ₂\", ylabel = \"p₂\")"
   ]
  },
  {
   "cell_type": "code",
   "execution_count": null,
   "metadata": {},
   "outputs": [],
   "source": [
    "#Obteniendo lo anterior para ahora con frecuencias racionales\n",
    "l = 1/0.5\n",
    "soluciones_numericas_w_in_Q = RK_4(EDO_pendulo_doble, [0.01,0.01, 0,0], collect(0:0.01:1000),0.5);\n",
    "plot(soluciones_numericas_w_in_Q[:,1], soluciones_numericas_w_in_Q[:,2], xlabel = \"θ₁\", ylabel = \"θ₂\")"
   ]
  },
  {
   "cell_type": "code",
   "execution_count": null,
   "metadata": {},
   "outputs": [],
   "source": [
    "l = 1/(π/8)\n",
    "soluciones_numericas_w_no_in_Q = RK_4(EDO_pendulo_doble, [0.01,0.01, 0,0], collect(0:0.01:1000),π/8);\n",
    "plot(soluciones_numericas_w_no_in_Q[:,1], soluciones_numericas_w_no_in_Q[:,2], xlabel = \"θ₁\", ylabel = \"θ₂\")"
   ]
  },
  {
   "cell_type": "code",
   "execution_count": null,
   "metadata": {},
   "outputs": [],
   "source": [
    "plot(soluciones_numericas_w_in_Q[:,1], soluciones_numericas_w_in_Q[:,2], xlabel = \"θ₁\", ylabel = \"θ₂\", label = \"ω racional\")\n",
    "plot!(soluciones_numericas_w_no_in_Q[:,1], soluciones_numericas_w_no_in_Q[:,2], xlabel = \"θ₁\", ylabel = \"θ₂\", label = \"ω no racional\")"
   ]
  },
  {
   "cell_type": "code",
   "execution_count": null,
   "metadata": {},
   "outputs": [],
   "source": [
    "plot(soluciones_numericas_w_in_Q[:,1], soluciones_numericas_w_in_Q[:,3], xlabel = \"θ₁\", ylabel = \"P₁\" ,\n",
    "                label = \"ω en Q\", ylim = [-0.05,0.05])\n",
    "plot!(soluciones_numericas_w_no_in_Q[:,1], soluciones_numericas_w_no_in_Q[:,3], xlabel = \"θ₁\", ylabel = \"P₁\" ,\n",
    "                label = \"ω no en Q\", ylim = [-0.09,0.09])"
   ]
  },
  {
   "cell_type": "code",
   "execution_count": null,
   "metadata": {},
   "outputs": [],
   "source": [
    "plot(soluciones_numericas_w_in_Q[:,2], soluciones_numericas_w_in_Q[:,4], xlabel = \"θ₂\", ylabel = \"p₂\" ,\n",
    "                label = \"ω en Q\", ylim = [-0.05,0.05])\n",
    "plot!(soluciones_numericas_w_no_in_Q[:,2], soluciones_numericas_w_no_in_Q[:,4], xlabel = \"θ₁\", ylabel = \"P₁\" ,\n",
    "                label = \"ω no en Q\", ylim = [-0.05,0.05])"
   ]
  },
  {
   "cell_type": "markdown",
   "metadata": {},
   "source": [
    "## Empezando a generar el fractal para cuando el péndulo da vuelta"
   ]
  },
  {
   "cell_type": "code",
   "execution_count": null,
   "metadata": {},
   "outputs": [],
   "source": [
    "#la siguiente función determina la distancia mayor entre elementos de una red\n",
    "function diferencias(x)\n",
    "    #arreglo de ceros\n",
    "    diferencias = zeros(length(x)-1)\n",
    "    #entre cada elemento del arreglo se determina la diferencia\n",
    "    for i in 1:length(x)-1\n",
    "       diferencias[i] = x[i+1] - x[i] \n",
    "    end\n",
    "    #se regresa el valor máximo de las diferencias\n",
    "    return abs(mean(diferencias)\n",
    "end"
   ]
  },
  {
   "cell_type": "code",
   "execution_count": null,
   "metadata": {},
   "outputs": [],
   "source": []
  },
  {
   "cell_type": "code",
   "execution_count": null,
   "metadata": {},
   "outputs": [],
   "source": [
    "#La siguiente función determinará si el péndulo gira\n",
    "#Para ello se considera que los puntos de la solución son bien portados\n",
    "#Puede que exista un problema en dado caso que pi se encuentre cerca de los picos de los ángulo\n",
    "function vuelta(x)\n",
    "    #se obtiene la diferencia mayor entre los elementos de la red x\n",
    "    \n",
    "    #arreglo de ceros\n",
    "    diferencias = zeros(length(x)-1)\n",
    "    #entre cada elemento del arreglo se determina la diferencia\n",
    "    for i in 1:length(x)-1\n",
    "       diferencias[i] = x[i+1] - x[i] \n",
    "    end\n",
    "    #se regresa el valor máximo de las diferencias\n",
    "    ϵ = abs(mean(diferencias))\n",
    "\n",
    "    #El contador contará cuantos elementos hay alrededor de pi, considerando una vecinidad de radio 2*la diferencia mayor\n",
    "    #entre elementos en la res\n",
    "    contador = 0\n",
    "    #Se obtiene que elementos si están alrededor de pi \n",
    "    #quizá podría implementarse que la vecindad sea de epsilon\n",
    "    for i in x\n",
    "        if abs(π-abs(i)) < ϵ\n",
    "            contador +=1\n",
    "        else contador +=0\n",
    "        end\n",
    "    end\n",
    "    #si hay elementos alrededor de pi se regresa un verdadero\n",
    "    if contador >0\n",
    "        return true\n",
    "    elseif contador==0\n",
    "        return false\n",
    "    end\n",
    "end"
   ]
  },
  {
   "cell_type": "code",
   "execution_count": null,
   "metadata": {},
   "outputs": [],
   "source": [
    "#Esta solución da una vuelta para el ángulo 2 por ello se usa como prueba\n",
    "diferencias( RK_4(EDO_pendulo_doble, [2.0 ,2.0, 0,0],  collect(0:0.01:10)))"
   ]
  },
  {
   "cell_type": "code",
   "execution_count": null,
   "metadata": {},
   "outputs": [],
   "source": [
    "vuelta(soluciones[:,2])"
   ]
  },
  {
   "cell_type": "code",
   "execution_count": null,
   "metadata": {},
   "outputs": [],
   "source": [
    "#esta función determina si los ángulos que se están tomando pueden que permita que se vuelta\n",
    "function angulos_excluidos(θ1,θ2)\n",
    "   if  3*cos(θ1) + cos(θ2) <= 2\n",
    "        return true\n",
    "    else return false\n",
    "    end\n",
    "end"
   ]
  },
  {
   "cell_type": "code",
   "execution_count": null,
   "metadata": {},
   "outputs": [],
   "source": [
    "#la siguiente función es con la que se a generado el fractal\n",
    "#Tiempo para resolver las ecuaciones difenciales\n",
    "tiempo = collect(0:0.01:10000)\n",
    "\n",
    "#Calculo los indices para los conjuntos de tiempo\n",
    "#para ello se uso inicialmente \n",
    "#indexin(10, tiempo1)\n",
    "indice_t10 = indexin(10, tiempo)  \n",
    "indice_t100 = indexin(100, tiempo)\n",
    "indice_t1000 = indexin(1000, tiempo)\n",
    "indice_t10000 = indexin(10000, tiempo)\n",
    "\n",
    "function condicion2(θ_1,θ_2)\n",
    "    #definimos una matriz de ceros que iremos modificando acorde a los colores del fractal\n",
    "    valores = zeros(length(θ_2),length(θ_1))\n",
    "    #ciclo para analizar organizadamente cada combinación de pares de angulos\n",
    "    for i in 1:length(θ_1)\n",
    "        for j in 1:length(θ_2)\n",
    "            #### Excluimos los ángulos\n",
    "            if 3*cos(θ_1[i]) + cos(θ_2[j]) > 2\n",
    "                valores[j,i] = 1\n",
    "            else \n",
    "                #obtenemos la solución con dichas soluciones iniciales\n",
    "                solucion = zeros( length(tiempo) , 4 )\n",
    "                solucion[1,:] .= [θ_1[i],θ_2[j],0,0]\n",
    "                δ = tiempo[2]-tiempo[1]\n",
    "                for i in 1:length(tiempo)-1\n",
    "                    k1 = EDO_pendulo_doble(tiempo[i], solucion[i,:])\n",
    "                    k2 = EDO_pendulo_doble(tiempo[i] + 0.5*δ, solucion[i,:] .+ 0.5*δ.*k1)\n",
    "                    k3 = EDO_pendulo_doble(tiempo[i] + 0.5*δ, solucion[i,:] .+ 0.5*δ.*k2 )\n",
    "                    k4 = EDO_pendulo_doble(tiempo[i] + δ, solucion[i,:] .+ δ.*k2)\n",
    "                    solucion[i+1,:] .= solucion[i,:] .+ (δ/6.0).*(k1 .+ 2.0.*k2 .+ 2.0.*k3 .+ k4)\n",
    "                end\n",
    "                \n",
    "                #obtenemos el promedio entre las diferencias entre puntos\n",
    "                #arreglo de ceros\n",
    "                diferencias_1 = zeros(length(solucion[:,1])-1)\n",
    "                diferencias_2 = zeros(length(solucion[:,1])-1)\n",
    "                #entre cada elemento del arreglo se determina la diferencia\n",
    "                for i in 1:length(solucion[:,1])-1\n",
    "                diferencias_1[i] = solucion[i+1,1] - solucion[i,1] \n",
    "                diferencias_2[i] = solucion[i+1,2] - solucion[i,2] \n",
    "                end\n",
    "                #se regresa el valor máximo de las diferencias\n",
    "                ϵ_1 = abs(mean(diferencias_1))\n",
    "                ϵ_2 = abs(mean(diferencias_2))\n",
    "                \n",
    "                #viendo si alguno de los péndulos da vuelta\n",
    "                \n",
    "                #vuelta para el primer conjto de tiempo\n",
    "                contador_1 = 0\n",
    "                #vueltas para el segundo cjto de tiempo\n",
    "                contador_2 = 0\n",
    "                #vueltas para el tercer cjto de tiempo\n",
    "                contador_3 = 0\n",
    "                \n",
    "                #Contando cuantos flips da\n",
    "                for i in 1:1002\n",
    "                   if abs(π-abs(solucion[i,1])) <= ϵ_1 || abs(π-abs(solucion[i,2]))<= ϵ_2\n",
    "                        contador_1 += 1\n",
    "                    end\n",
    "                end\n",
    "                   \n",
    "                for i in 10001:100001\n",
    "                   if abs(π-abs(solucion[i,1])) <= ϵ_1 || abs(π-abs(solucion[i,2]))<= ϵ_2\n",
    "                        contador_2 += 1\n",
    "                    end\n",
    "                end\n",
    "                \n",
    "                for i in 100001:1000001\n",
    "                   if abs(π-abs(solucion[i,1])) <= ϵ_1 || abs(π-abs(solucion[i,2]))<= ϵ_2\n",
    "                        contador_3 += 1\n",
    "                    end\n",
    "                end\n",
    "\n",
    "                #Ocupamos la función que nos permite saber si el elemento ha dado vuelta en un tiempo \n",
    "                #veamos si la solución da vuelta de 0 a 10 unidades\n",
    "                if contador_1 > 0\n",
    "                    #y se toma el valor de ese elemento en la malla como 2\n",
    "                    valores[j,i] = 2\n",
    "                \n",
    "                #ahora veamos si da la vuelta de 100 a 1000\n",
    "                elseif contador_2 > 0\n",
    "                    valores[j,i] = 3\n",
    "                #ahora veamos si da vuelta entre 1000 y 10000\n",
    "                elseif contador_3 >0\n",
    "                    valores[j,i] = 4\n",
    "                end\n",
    "                \n",
    "            end\n",
    "        end\n",
    "    end\n",
    "    #se regresa la malla que son los valores que se graficaran\n",
    "    return valores\n",
    "end"
   ]
  },
  {
   "cell_type": "code",
   "execution_count": null,
   "metadata": {},
   "outputs": [],
   "source": [
    "indice_t10 = indexin(10, tiempo)  \n",
    "indice_t100 = indexin(100, tiempo)\n",
    "indice_t1000 = indexin(1000, tiempo)\n",
    "indice_t10000 = indexin(10000, tiempo)\n",
    "tiempo[1000001\n",
    "]"
   ]
  },
  {
   "cell_type": "code",
   "execution_count": null,
   "metadata": {},
   "outputs": [],
   "source": [
    "using Statistics"
   ]
  },
  {
   "cell_type": "code",
   "execution_count": null,
   "metadata": {},
   "outputs": [],
   "source": [
    "@time begin\n",
    "valores = condicion2(collect(0:0.01:2),collect(1:0.01:3))\n",
    "end"
   ]
  },
  {
   "cell_type": "code",
   "execution_count": null,
   "metadata": {},
   "outputs": [],
   "source": [
    "heatmap(valores)"
   ]
  },
  {
   "cell_type": "code",
   "execution_count": null,
   "metadata": {},
   "outputs": [],
   "source": [
    "using CSV, DataFrames\n",
    "\n",
    " \n",
    "# using write method\n",
    "CSV.write(\"primer_cuadrante_prueba3.csv\", DataFrame(valores),\n",
    "                         header = false)      "
   ]
  },
  {
   "cell_type": "markdown",
   "metadata": {},
   "source": [
    "Para la primera prueba de obtención del fractal cuando el tiempo de giro se encuentra a menos de 10 unidades de tiempo se uso que la malla de ángulo era\n",
    "\n",
    "angulo_1 = collect(0:0.01:π)\n",
    "\n",
    "angulo_2 = collect(0:0.01:π)\n",
    "\n",
    "es decir 315x315 la malla para los ángulos 99225 elementos en total.\n",
    "\n",
    "Así mismo, para resolver las ecuaciones diferenciales se uso la siguiente malla de tiempo \n",
    "\n",
    "collect(0:0.001:11)\n",
    "\n",
    "que acorde al algorithmo Runge-Kutta el error de la solución es del orden de 10^{-12}.\n"
   ]
  },
  {
   "cell_type": "code",
   "execution_count": null,
   "metadata": {},
   "outputs": [],
   "source": [
    "segundo_cuadrante_1 = CSV.read(\"segundo_cuadrante_primera_prueba.csv\", DataFrame)\n",
    "primer_cuadrante_1 = CSV.read(\"primer_cuadrande_primera_prueba.csv\", DataFrame)\n",
    "\n",
    "#convertimos los datos a una matriz para poder gráficarlos\n",
    "primero = Matrix(primer_cuadrante_1)\n",
    "segundo = Matrix(segundo_cuadrante_1)\n",
    "#Los tamaños del cuarto y tercer cuadrante deben ser iguales a los de sus respectivos cuadrantes\n",
    "cuarto_cuadrante = zeros(314,315)\n",
    "tercer_cuadrante = zeros(314,316)\n",
    "\n",
    "for i in 0:length(segundo)-1\n",
    "    tercer_cuadrante[i+1] = segundo[end-i]\n",
    "end\n",
    "\n",
    "for i in 0:length(primero)-1\n",
    "    cuarto_cuadrante[i+1] = primero[end-i]\n",
    "end\n",
    "\n",
    "#unimos en dos trozos los cuatro cuadrantes\n",
    "tercero_cuarto = hcat(cuarto_cuadrante , tercer_cuadrante)\n",
    "primero_segundo = hcat(segundo,primero )\n",
    "\n",
    "#unimos todo el fractal\n",
    "fractal = vcat(tercero_cuarto, primero_segundo)\n"
   ]
  },
  {
   "cell_type": "code",
   "execution_count": null,
   "metadata": {},
   "outputs": [],
   "source": [
    "using Plots\n",
    "using DataFrames\n",
    "using CSV\n",
    "fractal = CSV.read(\"fractal_prueba1.csv\", DataFrame)\n",
    "\n",
    "#convertimos los datos a una matriz para poder gráficarlos\n",
    "primero = Matrix(fractal)\n",
    "heatmap(primero)"
   ]
  },
  {
   "cell_type": "code",
   "execution_count": null,
   "metadata": {},
   "outputs": [],
   "source": [
    "#intentando implementar rk con pasos adaptivos\n",
    "\n",
    "function RK_4(edo,x_ini,t,ω²=1)\n",
    "    sol = zeros( length(t) , length(x_ini) )\n",
    "    sol[1,:] .= x_ini\n",
    "    δ = t[2]-t[1]\n",
    "    for i in 1:length(t)-1\n",
    "        k1 = edo(t[i], sol[i,:], ω²)\n",
    "        k2 = edo(t[i] + 0.5*δ, sol[i,:] .+ 0.5*δ.*k1, ω²)\n",
    "        k3 = edo(t[i] + 0.5*δ, sol[i,:] .+ 0.5*δ.*k2 , ω²)\n",
    "        k4 = edo( t[i] + δ, sol[i,:] .+ δ.*k2, ω²)\n",
    "        sol[i+1,:] .= sol[i,:] .+ (δ/6.0).*(k1 .+ 2.0.*k2 .+ 2.0.*k3 .+ k4)\n",
    "    end\n",
    "    return sol\n",
    "end\n"
   ]
  },
  {
   "cell_type": "markdown",
   "metadata": {},
   "source": [
    "## Analizando las cosas con el tiempo de latigazo"
   ]
  },
  {
   "cell_type": "code",
   "execution_count": null,
   "metadata": {},
   "outputs": [],
   "source": [
    "#listas de momentos \n",
    "function latigazo(p_1,p_2)\n",
    "    producto = p_1.*p_2\n",
    "    latigazo_contador = 0\n",
    "    for i in producto\n",
    "        if i<0\n",
    "            latigazo_contador +=1\n",
    "        end\n",
    "    end\n",
    "    return latigazo_contador\n",
    "end"
   ]
  },
  {
   "cell_type": "code",
   "execution_count": null,
   "metadata": {},
   "outputs": [],
   "source": [
    "#la siguiente función es con la que se a generado el fractal para el latizago\n",
    "function condicion3(θ_1,θ_2)\n",
    "    #definimos una matriz de ceros que iremos modificando acorde a los colores del fractal\n",
    "    valores = zeros(length(θ_2),length(θ_1))\n",
    "    #Tiempo para resolver las ecuaciones difenciales\n",
    "    tiempo1 = collect(0:0.01:11)\n",
    "    \n",
    "    #ciclo para analizar organizadamente cada combinación de pares de angulos\n",
    "    for i in 1:length(θ_1)\n",
    "        for j in 1:length(θ_2)\n",
    "            solucion =  RK_4(EDO_pendulo_doble, [θ_1[i],θ_2[j], 0,0], tiempo1)\n",
    "            \n",
    "            if latigazo(solucion[:,3],solucion[:,4]) !=0 \n",
    "                    #y se toma el valor de ese elemento en la malla como 2\n",
    "                    valores[j,i] = 1\n",
    "            end\n",
    "        end\n",
    "    end\n",
    "    #se regresa la malla que son los valores que se graficaran\n",
    "    return valores\n",
    "end"
   ]
  },
  {
   "cell_type": "code",
   "execution_count": 1,
   "metadata": {},
   "outputs": [
    {
     "data": {
      "text/plain": [
       "EDO_pendulo_doble (generic function with 2 methods)"
      ]
     },
     "execution_count": 1,
     "metadata": {},
     "output_type": "execute_result"
    }
   ],
   "source": [
    "function EDO_pendulo_doble(t,variables,ω² = 1)\n",
    "    # alpha = \\theta1-\\theta2\n",
    "    l = 1\n",
    "    m = 1\n",
    "    α = variables[1]-variables[2]\n",
    "    dθ_1 = 6/(m*l^2)*(2*variables[3]-3*variables[4]*cos(α))/(16-9*(cos(α))^2)\n",
    "    dθ_2 = 6/(m*l^2)*(8*variables[4]-3*cos(α)*variables[3])/(16-9*(cos(α))^2)\n",
    "    dp_1 = -1/2*(m*l^2)*(dθ_1*dθ_2*sin(α)+3*ω²*sin(variables[1]) )\n",
    "    dp_2 = -1/2*(m*l^2)*(-dθ_1*dθ_2*sin(α) + ω²*sin(variables[2]))\n",
    "    \n",
    "    return[dθ_1, dθ_2, dp_1, dp_2]\n",
    "end"
   ]
  },
  {
   "cell_type": "code",
   "execution_count": null,
   "metadata": {},
   "outputs": [],
   "source": [
    "function generador_fractal(θ_1, θ_2, t_0, t_f, δ, ϵ)\n",
    "   #matriz de ceros donde se aneará si el angulo da vuelta o no\n",
    "    valores = zeros(length(θ_1), length(θ_2))\n",
    "    \n",
    "    #ciclo para barrer en todos los ángulos\n",
    "    for i in 1:length(θ_1)\n",
    "        for j in 1:length(θ_2)\n",
    "            #empezamos a descartar los ángulos que sabemos que no giraran\n",
    "            if 3*cos(θ_1[i]) + cos(θ_2[j]) > 2\n",
    "                valores[j,i] = 1\n",
    "            \n",
    "            #para los valores que sabemos que van a girar\n",
    "            else\n",
    "                solucion_t_1 = [θ_1[i], θ_2[j],0,0]\n",
    "                t_1 = t_0\n",
    "                #buscamos el elemento de la solución tal que este alrededor de una vecindad epsilon de π\n",
    "                while abs(abs(solucion_t_1[2])-π) > ϵ #|| abs(abs(solucion_t_1[2])-π) > ϵ #\n",
    "                    t_1 = t_1 + δ\n",
    "                #obtenemos la solución del siguiente tiempo\n",
    "                    k1_1 = EDO_pendulo_doble(t_1, solucion_t_1)\n",
    "                    k2_1 = EDO_pendulo_doble(t_1 + 0.5*δ, solucion_t_1 .+ 0.5*δ.*k1_1)\n",
    "                    k3_1 = EDO_pendulo_doble(t_1 + 0.5*δ, solucion_t_1.+ 0.5*δ.*k2_1 )\n",
    "                    k4_1 = EDO_pendulo_doble(t_1 + δ, solucion_t_1.+ δ.*k2_1)\n",
    "                    solucion_t_1 = solucion_t_1 .+ (δ/6.0).*(k1_1 .+ 2.0.*k2_1 .+ 2.0.*k3_1 .+ k4_1)\n",
    "                    if t_1 > t_f\n",
    "                        break\n",
    "                    end\n",
    "                end\n",
    "                \n",
    "                solucion_t_2 = [θ_1[i], θ_2[j],0,0]\n",
    "                t_2 = t_0\n",
    "                while abs(abs(solucion_t_2[2])-π) > ϵ \n",
    "                    t_2 = t_2 + δ\n",
    "                #obtenemos la solución del siguiente tiempo\n",
    "                    k1_2 = EDO_pendulo_doble(t_2, solucion_t_2)\n",
    "                    k2_2 = EDO_pendulo_doble(t_2 + 0.5*δ, solucion_t_2 .+ 0.5*δ.*k1_2)\n",
    "                    k3_2 = EDO_pendulo_doble(t_2 + 0.5*δ, solucion_t_2.+ 0.5*δ.*k2_2)\n",
    "                    k4_2 = EDO_pendulo_doble(t_2 + δ, solucion_t_2.+ δ.*k2_2)\n",
    "                    solucion_t_2 = solucion_t_2 .+ (δ/6.0).*(k1_2 .+ 2.0.*k2_2 .+ 2.0.*k3_2 .+ k4_2)\n",
    "                    if t_2 > t_f\n",
    "                        break\n",
    "                    end\n",
    "                end\n",
    "                \n",
    "                \n",
    "                if abs(abs(solucion_t_1[1])-π) < ϵ || abs(abs(solucion_t_2[2])-π) < ϵ\n",
    "                    if t_1 <= 10 || t_2 <= 10\n",
    "                        valores[j,i] = 2\n",
    "                    elseif 100 <= t_1 <= 1000 || 100 <= t_2 <= 1000\n",
    "                        valores[j,i] = 3\n",
    "                    elseif 1000 <=  t_1 <= 10000 || 1000 <=  t_2 <= 10000\n",
    "                        valores[j,i] = 4\n",
    "                    end        \n",
    "                end\n",
    "               \n",
    "                \n",
    "            end\n",
    "        end\n",
    "    end\n",
    "    return valores\n",
    "    \n",
    "end"
   ]
  },
  {
   "cell_type": "code",
   "execution_count": null,
   "metadata": {
    "scrolled": true
   },
   "outputs": [],
   "source": [
    "function generador_fractal(θ_1, θ_2, t_0, t_f, δ, ϵ)\n",
    "   #matriz de ceros donde se aneará si el angulo da vuelta o no\n",
    "    valores = zeros(length(θ_1), length(θ_2))\n",
    "    \n",
    "    #ciclo para barrer en todos los ángulos\n",
    "    for i in 1:length(θ_1)\n",
    "        for j in 1:length(θ_2)\n",
    "            #empezamos a descartar los ángulos que sabemos que no giraran\n",
    "            if 3*cos(θ_1[i]) + cos(θ_2[j]) > 2\n",
    "                valores[j,i] = 15\n",
    "            \n",
    "            #para los valores que sabemos que van a girar\n",
    "            else\n",
    "                solucion_t_1 = [θ_1[i], θ_2[j],0,0]\n",
    "                t_1 = t_0\n",
    "                #buscamos el elemento de la solución tal que este alrededor de una vecindad epsilon de π\n",
    "                while abs(abs(solucion_t_1[1])-π) > ϵ #\n",
    "                    t_1 = t_1 + δ\n",
    "                #obtenemos la solución del siguiente tiempo\n",
    "                    k1_1 = EDO_pendulo_doble(t_1, solucion_t_1)\n",
    "                    k2_1 = EDO_pendulo_doble(t_1 + 0.5*δ, solucion_t_1 .+ 0.5*δ.*k1_1)\n",
    "                    k3_1 = EDO_pendulo_doble(t_1 + 0.5*δ, solucion_t_1.+ 0.5*δ.*k2_1 )\n",
    "                    k4_1 = EDO_pendulo_doble(t_1 + δ, solucion_t_1.+ δ.*k2_1)\n",
    "                    solucion_t_1 = solucion_t_1 .+ (δ/6.0).*(k1_1 .+ 2.0.*k2_1 .+ 2.0.*k3_1 .+ k4_1)\n",
    "                    if t_1 > t_f\n",
    "                        break\n",
    "                    end\n",
    "                end\n",
    "                \n",
    "                solucion_t_2 = [θ_1[i], θ_2[j],0,0]\n",
    "                t_2 = t_0\n",
    "                while abs(abs(solucion_t_2[2])-π) > ϵ \n",
    "                    t_2 = t_2 + δ\n",
    "                #obtenemos la solución del siguiente tiempo\n",
    "                    k1_2 = EDO_pendulo_doble(t_2, solucion_t_2)\n",
    "                    k2_2 = EDO_pendulo_doble(t_2 + 0.5*δ, solucion_t_2 .+ 0.5*δ.*k1_2)\n",
    "                    k3_2 = EDO_pendulo_doble(t_2 + 0.5*δ, solucion_t_2.+ 0.5*δ.*k2_2)\n",
    "                    k4_2 = EDO_pendulo_doble(t_2 + δ, solucion_t_2.+ δ.*k2_2)\n",
    "                    solucion_t_2 = solucion_t_2 .+ (δ/6.0).*(k1_2 .+ 2.0.*k2_2 .+ 2.0.*k3_2 .+ k4_2)\n",
    "                    if t_2 > t_f\n",
    "                        break\n",
    "                    end\n",
    "                end\n",
    "                \n",
    "                    \n",
    "                if abs(abs(solucion_t_1[1])-π) < ϵ || abs(abs(solucion_t_2[2])-π) < ϵ  \n",
    "                    valores[j,i] = minimum([t_1,t_2])\n",
    "                end\n",
    "                \n",
    "            end\n",
    "        end\n",
    "    end\n",
    "    return valores\n",
    "    \n",
    "end\n"
   ]
  },
  {
   "cell_type": "code",
   "execution_count": null,
   "metadata": {},
   "outputs": [],
   "source": [
    "θ1 = collect(0:0.005:π)\n",
    "θ2 = collect(0:0.005:π)\n",
    "\n",
    "@time begin\n",
    "datos = generador_fractal(θ1, θ2, 0, 10, 0.008, 0.08)\n",
    "end\n",
    "heatmap(datos)\n",
    "#CSV.write(\"I_t_10.csv\", DataFrame(datos), header = false)\n",
    "#376.760518 seconds (4.93 G allocations: 514.140 GiB, 5.41% gc time)\n"
   ]
  },
  {
   "cell_type": "code",
   "execution_count": null,
   "metadata": {},
   "outputs": [],
   "source": [
    "using Plots\n",
    "heatmap(datos)"
   ]
  },
  {
   "cell_type": "code",
   "execution_count": null,
   "metadata": {},
   "outputs": [],
   "source": [
    "using CSV, DataFrames\n",
    "CSV.write(\"I_t_10_1.csv\", DataFrame(datos), header = false)\n"
   ]
  },
  {
   "cell_type": "code",
   "execution_count": null,
   "metadata": {},
   "outputs": [],
   "source": [
    "using CSV, DataFrames\n",
    "CSV.write(\"I_t_10.csv\", DataFrame(datos), header = false)\n"
   ]
  },
  {
   "cell_type": "code",
   "execution_count": null,
   "metadata": {},
   "outputs": [],
   "source": [
    "using Plots\n",
    "heatmap(datos)"
   ]
  },
  {
   "cell_type": "code",
   "execution_count": null,
   "metadata": {},
   "outputs": [],
   "source": [
    "θ1 = collect(0:0.005:π)\n",
    "θ2 = collect(0:0.005:π)\n",
    "\n",
    "@time begin\n",
    "datos = generador_fractal(θ1, θ2, 0, 1000, 0.008, 0.08)\n",
    "end\n",
    "using Plots, CSV, DataFrames\n",
    "datos = CSV. read(\"I_prueba6.csv\", DataFrame)\n",
    "heatmap(Matrix(datos))\n",
    "#39107.296141 seconds (233.89 G allocations: 23.824 TiB, 12.57% gc time)\n"
   ]
  },
  {
   "cell_type": "code",
   "execution_count": null,
   "metadata": {},
   "outputs": [],
   "source": [
    "print(datos)"
   ]
  },
  {
   "cell_type": "code",
   "execution_count": null,
   "metadata": {},
   "outputs": [],
   "source": []
  },
  {
   "cell_type": "code",
   "execution_count": null,
   "metadata": {},
   "outputs": [],
   "source": [
    "#CSV.write(\"I_prueba5.csv\", DataFrame(datos), header = false)\n",
    "#CSV.write(\"I_prueba5.csv\", DataFrame(datos), header = false)\n",
    "#CSV.write(\"I_prueba5.csv\", DataFrame(datos), header = false)\n",
    "CSV.write(\"I_prueba6.csv\", DataFrame(datos), header = false)\n"
   ]
  },
  {
   "cell_type": "code",
   "execution_count": null,
   "metadata": {},
   "outputs": [],
   "source": [
    "using CSV, Plots, DataFrames\n",
    "datos_1 = CSV.read(\"I_prueba4.csv\", DataFrame)\n",
    "graf1 = Matrix(datos_1)\n",
    "heatmap(graf1)"
   ]
  },
  {
   "cell_type": "code",
   "execution_count": null,
   "metadata": {},
   "outputs": [],
   "source": [
    "datos = CSV.read(\"I_prueba5.csv\", DataFrame)\n",
    "heatmap(Matrix(datos))"
   ]
  },
  {
   "cell_type": "code",
   "execution_count": null,
   "metadata": {},
   "outputs": [],
   "source": [
    "heatmap(graf2.*(1/10).+(graf1.*(1/00)),c=cgrad([:white, :darkgreen,:red, :yello00"
   ]
  },
  {
   "cell_type": "code",
   "execution_count": null,
   "metadata": {},
   "outputs": [],
   "source": [
    "graf3 = graf1-graf2\n",
    "heatmap(graf2.+graf3*(1/10), c=cgrad([:white, :green, :red]))"
   ]
  },
  {
   "cell_type": "markdown",
   "metadata": {},
   "source": [
    "θ1 = collect(0:0.01:π)\n",
    "θ2 = collect(0:0.01:π)\n",
    "\n",
    "@time begin\n",
    "datos = generador_fractal(θ1, θ2, 0, 1000, 0.01, 0.05)\n",
    "end\n",
    "\n",
    "heatmap(datos)\n",
    "#CSV.write(\"I_prueba5.csv\", DataFrame(datos), header = false)\n",
    "###11000"
   ]
  },
  {
   "cell_type": "markdown",
   "metadata": {},
   "source": [
    "θ1 = collect(0:0.01:π)\n",
    "θ2 = collect(0:0.01:π)\n",
    "\n",
    "@time begin\n",
    "datos = generador_fractal(θ1, θ2, 0, 1000, 0.01, 0.05)\n",
    "end\n",
    "6800.346702 \n",
    "CSV.write(\"I_prueba4.csv\", DataFrame(datos), header = false)"
   ]
  },
  {
   "cell_type": "code",
   "execution_count": null,
   "metadata": {},
   "outputs": [],
   "source": [
    "CSV.write(\"I_prueba4.csv\", DataFrame(datos), header = false)"
   ]
  },
  {
   "cell_type": "markdown",
   "metadata": {},
   "source": [
    "θ1 = collect(0:0.01:π)\n",
    "θ2 = collect(0:0.01:π)\n",
    "using Plots\n",
    "\n",
    "@time begin\n",
    "datos = generador_fractal(θ1, θ2, 0, 10, 0.01, 0.05)\n",
    "end\n",
    "heatmap(datos)\n",
    "using CSV, DataFrames\n",
    "CSV.write(\"I_prueba3.csv\", DataFrame(datos), header = false)\n",
    "158.866783 seconds (1.00 G allocations: 104.506 GiB, 8.16% gc time)\n"
   ]
  },
  {
   "cell_type": "code",
   "execution_count": null,
   "metadata": {},
   "outputs": [],
   "source": [
    "θ1 = collect(0:0.01:π)\n",
    "θ2 = collect(0:0.01:π)\n",
    "using Plots\n",
    "\n",
    "@time begin\n",
    "datos = generador_fractal(θ1, θ2, 0, 10, 0.01, 0.05)\n",
    "end\n",
    "heatmap(datos)\n",
    "using CSV, DataFrames\n",
    "CSV.write(\"I_prueba3.csv\", DataFrame(datos), header = false)\n",
    "158.866783 seconds (1.00 G allocations: 104.506 GiB, 8.16% gc time)\n",
    "\n",
    "datos_1 = CSV.read(\"I_prueba3.csv\", DataFrame)\n",
    "datos_grafica = Matrix(datos_1)\n",
    "heatmap(datos_grafica)"
   ]
  },
  {
   "cell_type": "markdown",
   "metadata": {},
   "source": [
    "CSV.write(\"I_prueba2.csv\", DataFrame(datos), header = false)\n",
    "\n",
    "θ1 = collect(0:0.005:π)\n",
    "θ2 = collect(0:0.005:π)\n",
    "\n",
    "@time begin\n",
    "datos = generador_fractal(θ1, θ2, 0, 10, 0.01, 0.005)\n",
    "end\n",
    "heatmap(datos)\n",
    "599.611880 seconds (4.31 G allocations: 448.897 GiB, 12.58% gc time)\n"
   ]
  },
  {
   "cell_type": "markdown",
   "metadata": {},
   "source": [
    "using CSV, DataFrames\n",
    "\n",
    " \n",
    "# using write method\n",
    "CSV.write(\"I_prueba1.csv\", DataFrame(datos),\n",
    "                         header = false)      \n",
    "### θ1 = collect(0:0.005:π)\n",
    "θ2 = collect(0:0.005:π)\n",
    "\n",
    "@time begin\n",
    "datos = generador_fractal(θ1, θ2, 0, 10, 0.01, 0.01)\n",
    "end\n",
    "heatmap(datos)\n",
    "## 622.811574 "
   ]
  },
  {
   "cell_type": "code",
   "execution_count": null,
   "metadata": {},
   "outputs": [],
   "source": []
  },
  {
   "cell_type": "code",
   "execution_count": null,
   "metadata": {},
   "outputs": [],
   "source": [
    "using Plots\n",
    "θ1 = collect(0:0.01:3)\n",
    "θ2 = collect(0:0.01:3)\n",
    "\n",
    "@time begin\n",
    "datos = generador_fractal(θ1, θ2, 0, 10, 0.01, 0.01)\n",
    "end\n",
    "heatmap(datos)"
   ]
  },
  {
   "cell_type": "code",
   "execution_count": null,
   "metadata": {},
   "outputs": [],
   "source": [
    "@time begin\n",
    "datos = generador_fractal(θ1, θ2, 0, 10, 0.01, 0.01)\n",
    "end\n",
    "heatmap(datos)"
   ]
  },
  {
   "cell_type": "code",
   "execution_count": null,
   "metadata": {},
   "outputs": [],
   "source": [
    "using Plots\n",
    "θ1 = collect(0:0.01:3)\n",
    "θ2 = collect(0:0.01:3)\n",
    "\n",
    "@time begin\n",
    "datos = generador_fractal(θ1, θ2, 0, 10, 0.01, 0.01)\n",
    "end\n",
    "heatmap(datos)"
   ]
  },
  {
   "cell_type": "code",
   "execution_count": null,
   "metadata": {},
   "outputs": [],
   "source": [
    "θ1 = collect(0:0.01:3)\n",
    "θ2 = collect(0:0.01:3)\n",
    "\n",
    "@time begin\n",
    "datos = generador_fractal(θ1, θ2, 0, 10, 0.01, 0.01)\n",
    "end\n",
    "heatmap(datos)"
   ]
  },
  {
   "cell_type": "code",
   "execution_count": null,
   "metadata": {},
   "outputs": [],
   "source": [
    "θ1 = collect(0:0.01:3)\n",
    "θ2 = collect(0:0.01:3)\n",
    "@time begin\n",
    "datos = generador_fractal(θ1, θ2, 0, 10, 0.01, 0.01)\n",
    "end\n",
    "heatmap(datos)"
   ]
  },
  {
   "cell_type": "code",
   "execution_count": null,
   "metadata": {},
   "outputs": [],
   "source": [
    "θ1 = collect(0:0.1:3)\n",
    "θ2 = collect(0:0.1:3)\n",
    "@time begin\n",
    "datos = generador_fractal(θ1, θ2, 0, 10, 0.01, 0.001)\n",
    "end\n"
   ]
  },
  {
   "cell_type": "code",
   "execution_count": null,
   "metadata": {},
   "outputs": [],
   "source": [
    "using Plots\n",
    "heatmap(datos)"
   ]
  },
  {
   "cell_type": "code",
   "execution_count": null,
   "metadata": {},
   "outputs": [],
   "source": [
    "diferencias( RK_4(EDO_pendulo_doble, [2.0 ,2.0, 0,0],  collect(0:0.01:10)))"
   ]
  },
  {
   "cell_type": "code",
   "execution_count": null,
   "metadata": {},
   "outputs": [],
   "source": [
    "            if 3*cos(θ_1[i]) + cos(θ_2[j]) > 2\n",
    "                valores[j,i] = 1\n",
    "            else \n",
    "                #obtenemos la solución con dichas soluciones iniciales\n",
    "                solucion = zeros( length(tiempo) , 4 )\n",
    "                solucion[1,:] .= [θ_1[i],θ_2[j],0,0]\n",
    "                δ = tiempo[2]-tiempo[1]\n",
    "                for i in 1:length(tiempo)-1\n",
    "                    k1 = EDO_pendulo_doble(tiempo[i], solucion[i,:])\n",
    "                    k2 = EDO_pendulo_doble(tiempo[i] + 0.5*δ, solucion[i,:] .+ 0.5*δ.*k1)\n",
    "                    k3 = EDO_pendulo_doble(tiempo[i] + 0.5*δ, solucion[i,:] .+ 0.5*δ.*k2 )\n",
    "                    k4 = EDO_pendulo_doble(tiempo[i] + δ, solucion[i,:] .+ δ.*k2)\n",
    "                    solucion[i+1,:] .= solucion[i,:] .+ (δ/6.0).*(k1 .+ 2.0.*k2 .+ 2.0.*k3 .+ k4)\n",
    "                end\n",
    "                \n",
    "                #obtenemos el promedio entre las diferencias entre puntos\n",
    "                #arreglo de ceros\n",
    "                diferencias_1 = zeros(length(solucion[:,1])-1)\n",
    "                diferencias_2 = zeros(length(solucion[:,1])-1)\n",
    "                #entre cada elemento del arreglo se determina la diferencia\n",
    "                for i in 1:length(solucion[:,1])-1\n",
    "                diferencias_1[i] = solucion[i+1,1] - solucion[i,1] \n",
    "                diferencias_2[i] = solucion[i+1,2] - solucion[i,2] \n",
    "                end\n",
    "                #se regresa el valor máximo de las diferencias\n",
    "                ϵ_1 = abs(mean(diferencias_1))\n",
    "                ϵ_2 = abs(mean(diferencias_2))\n",
    "                \n",
    "                #viendo si alguno de los péndulos da vuelta\n",
    "                \n",
    "                #vuelta para el primer conjto de tiempo\n",
    "                contador_1 = 0\n",
    "                #vueltas para el segundo cjto de tiempo\n",
    "                contador_2 = 0\n",
    "                #vueltas para el tercer cjto de tiempo\n",
    "                contador_3 = 0\n",
    "                \n",
    "                #Contando cuantos flips da\n",
    "                for i in 1:1002\n",
    "                   if abs(π-abs(solucion[i,1])) <= ϵ_1 || abs(π-abs(solucion[i,2]))<= ϵ_2\n",
    "                        contador_1 += 1\n",
    "                    end\n",
    "                end\n",
    "                   \n",
    "                for i in 10001:100001\n",
    "                   if abs(π-abs(solucion[i,1])) <= ϵ_1 || abs(π-abs(solucion[i,2]))<= ϵ_2\n",
    "                        contador_2 += 1\n",
    "                    end\n",
    "                end\n",
    "                \n",
    "                for i in 100001:1000001\n",
    "                   if abs(π-abs(solucion[i,1])) <= ϵ_1 || abs(π-abs(solucion[i,2]))<= ϵ_2\n",
    "                        contador_3 += 1\n",
    "                    end\n",
    "                end\n",
    "\n",
    "                #Ocupamos la función que nos permite saber si el elemento ha dado vuelta en un tiempo \n",
    "                #veamos si la solución da vuelta de 0 a 10 unidades\n",
    "                if contador_1 > 0\n",
    "                    #y se toma el valor de ese elemento en la malla como 2\n",
    "                    valores[j,i] = 2\n",
    "                \n",
    "                #ahora veamos si da la vuelta de 100 a 1000\n",
    "                elseif contador_2 > 0\n",
    "                    valores[j,i] = 3\n",
    "                #ahora veamos si da vuelta entre 1000 y 10000\n",
    "                elseif contador_3 >0\n",
    "                    valores[j,i] = 4\n",
    "                end\n",
    "                \n",
    "            end\n",
    "        end\n",
    "    end\n",
    "    #se regresa la malla que son los valores que se graficaran\n",
    "    return valores\n",
    "end"
   ]
  },
  {
   "cell_type": "code",
   "execution_count": null,
   "metadata": {},
   "outputs": [],
   "source": []
  },
  {
   "cell_type": "code",
   "execution_count": null,
   "metadata": {},
   "outputs": [],
   "source": [
    "using Plots\n",
    "using DataFrames\n",
    "using CSV\n",
    "\n",
    "prueba = CSV.read(\"primer_cuadrante_prueba2.csv\", DataFrame);\n",
    "\n",
    "fractal = Matrix(prueba)\n",
    "heatmap(fractal)"
   ]
  },
  {
   "cell_type": "code",
   "execution_count": null,
   "metadata": {},
   "outputs": [],
   "source": [
    "prueba2 = CSV.read(\"fractal_prueba1.csv\", DataFrame);\n",
    "\n",
    "fractal = Matrix(prueba)\n",
    "heatmap(fractal)"
   ]
  }
 ],
 "metadata": {
  "kernelspec": {
   "display_name": "Julia 1.5.1",
   "language": "julia",
   "name": "julia-1.5"
  },
  "language_info": {
   "file_extension": ".jl",
   "mimetype": "application/julia",
   "name": "julia",
   "version": "1.5.1"
  }
 },
 "nbformat": 4,
 "nbformat_minor": 4
}
