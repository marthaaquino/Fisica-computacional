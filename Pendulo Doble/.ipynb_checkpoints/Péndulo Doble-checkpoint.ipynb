{
 "cells": [
  {
   "cell_type": "markdown",
   "metadata": {},
   "source": [
    "<div class=\"alert alert-info\" role=\"alert\">\n",
    " <p class =\"lead\"> \n",
    " <h1> Laboratorio de Física Contemporánea II </h1>\n",
    " <h2> Péndulo doble </h2>\n",
    " <h3>Autor: Aquino Chapa Martha Abril<h3>\n",
    " </div>\n",
    " \n",
    " Hecho en Julia 🔴🟢🟣 "
   ]
  },
  {
   "cell_type": "code",
   "execution_count": null,
   "metadata": {},
   "outputs": [],
   "source": [
    "#Paqueterías que se usarán\n",
    "using Plots\n",
    "using Statistics"
   ]
  },
  {
   "cell_type": "markdown",
   "metadata": {},
   "source": [
    "El problema del péndulo doble considera dos péndulos unidos con masas los suficientemente grandes para despreciar efectos gravitacionales y además las varillas de los péndulos son rígidas.\n",
    "\n",
    "Este problema es complicado de resolver analíticamente por lo que se ocupan algoritmos computacionales con la finalidad de calcular los momentos y ángulos de ambos péndulos en función del ángulo."
   ]
  },
  {
   "cell_type": "markdown",
   "metadata": {},
   "source": [
    "## PARTE 1:"
   ]
  },
  {
   "cell_type": "markdown",
   "metadata": {},
   "source": [
    "El algoritmo que se utilizará para resolver el sistema de ecuaciones diferencias es el método Runge-Kutta de cuarto orden, por lo cual se crea una función la cual reciba otra función que determine el sistema de ecuaciones diferenciales, las condiciones iniciales y el tiempo para el cual se vaya a resolver el sistema."
   ]
  },
  {
   "cell_type": "code",
   "execution_count": 1,
   "metadata": {},
   "outputs": [
    {
     "data": {
      "text/plain": [
       "RK_4 (generic function with 2 methods)"
      ]
     },
     "execution_count": 1,
     "metadata": {},
     "output_type": "execute_result"
    }
   ],
   "source": [
    "#esta función regresa una lista de soluciones, cada entrada de\n",
    "#arregla de salida corresponde a los datos en el tiempo i.\n",
    "function RK_4(edo,x_ini,t,ω²=1)\n",
    "    sol = zeros( length(t) , length(x_ini) )\n",
    "    sol[1,:] .= x_ini\n",
    "    δ = t[2]-t[1]\n",
    "    for i in 1:length(t)-1\n",
    "        k1 = edo(t[i], sol[i,:], ω²)\n",
    "        k2 = edo(t[i] + 0.5*δ, sol[i,:] .+ 0.5*δ.*k1, ω²)\n",
    "        k3 = edo(t[i] + 0.5*δ, sol[i,:] .+ 0.5*δ.*k2 , ω²)\n",
    "        k4 = edo( t[i] + δ, sol[i,:] .+ δ.*k2, ω²)\n",
    "        sol[i+1,:] .= sol[i,:] .+ (δ/6.0).*(k1 .+ 2.0.*k2 .+ 2.0.*k3 .+ k4)\n",
    "    end\n",
    "    return sol\n",
    "end"
   ]
  },
  {
   "cell_type": "markdown",
   "metadata": {},
   "source": [
    "Se crea ahora una función la cual regrese los valores del sistema de ecuaciones diferenciales general:"
   ]
  },
  {
   "cell_type": "code",
   "execution_count": null,
   "metadata": {},
   "outputs": [],
   "source": [
    "function EDO_pendulo_doble(t,variables,ω² = 1)\n",
    "    # alpha = \\theta1-\\theta2\n",
    "    α = variables[1]-variables[2]\n",
    "    dθ_1 = 6/(m*l^2)*(2*variables[3]-3*variables[4]*cos(α))/(16-9*(cos(α))^2)\n",
    "    dθ_2 = 6/(m*l^2)*(8*variables[4]-3*cos(α)*variables[3])/(16-9*(cos(α))^2)\n",
    "    dp_1 = -1/2*(m*l^2)*(dθ_1*dθ_2*sin(α)+3*ω²*sin(variables[1]) )\n",
    "    dp_2 = -1/2*(m*l^2)*(-dθ_1*dθ_2*sin(α) + ω²*sin(variables[2]))\n",
    "    \n",
    "    return[dθ_1, dθ_2, dp_1, dp_2]\n",
    "end"
   ]
  },
  {
   "cell_type": "markdown",
   "metadata": {},
   "source": [
    "Para determinar si el método Runge Kutta creado es funcional se obtendrá la solución al pendulo doble para ángulos pequeños con la finalidad de comparar la solución númerica y la solución analítica."
   ]
  },
  {
   "cell_type": "code",
   "execution_count": null,
   "metadata": {},
   "outputs": [],
   "source": [
    "#variables = [θ1, θ2, p1,p2]\n",
    "function EDO_pendulo_doble_angulos_pequeños(t,variables,ω²) \n",
    "    m = 1\n",
    "    l = 1\n",
    "    dθ1 = (12/(7*m*l^2))*variables[3] - (18/(7*m*l^2))*variables[4]\n",
    "    dθ2 = (48/(7*m*l^2))*variables[4] - (18/(7*m*l^2))*variables[3]\n",
    "    dp1 = -(3/2)*m*(l^2)*ω²*variables[1]\n",
    "    dp2 = -(1/2)*m*(l^2)*ω²*variables[2]\n",
    "    return [dθ1,dθ2,dp1,dp2]\n",
    "end"
   ]
  },
  {
   "cell_type": "code",
   "execution_count": null,
   "metadata": {},
   "outputs": [],
   "source": [
    "#Tiempo para el cual se obtendrán las soluciones\n",
    "tiempo_1 = collect(0:0.0001:15)\n",
    "#solución númerica considerando el sistema de ecuaciones diferenciales con las aproximaciones\n",
    "soluciones_numericas_con_aproximacion = RK_4(EDO_pendulo_doble_angulos_pequeños, [0.01,0.01, 0,0], tiempo_1,1);\n",
    "#Solución númerica considerando las ecuaciones diferenciales generales\n",
    "soluciones_numericas = RK_4(EDO_pendulo_doble, [0.01,0.01, 0,0], tiempo_1,1);"
   ]
  },
  {
   "cell_type": "code",
   "execution_count": null,
   "metadata": {},
   "outputs": [],
   "source": [
    "#Solución analítica\n",
    "θ_1 = []\n",
    "θ_2 = []\n",
    "for t in tiempo_1\n",
    "    push!(θ_1,\n",
    "         2*(2.18882)* (12875750/46188059293)* cos(2.29517*t)+2*(1.19636)*(169478750/46188059293)*cos(0.855695*t)       \n",
    "        )\n",
    "    push!(θ_2, \n",
    "        -2*(4.59033)* (12875750/46188059293)* cos(2.29517*t)+2*(1.71139)*(169478750/46188059293)*cos(0.855695*t)    \n",
    "        )\n",
    "    end;\n"
   ]
  },
  {
   "cell_type": "code",
   "execution_count": null,
   "metadata": {},
   "outputs": [],
   "source": [
    "#plot(tiempo_1,soluciones_numericas_con_aproximacion[:,1], label = \"Solución númerica con aproximación\", linewidth = 2.5)#color = :black)\n",
    "plot(tiempo_1, θ_1, label = \"Solución analítica\", linewidth = 2.5)\n",
    "plot!(tiempo_1,soluciones_numericas[:,1], label = \"Solución númerica\", linewidth = 2.5)#color = :black)\n",
    "plot!(xlabel = \"Tiempo\", ylabel = \"θ₁\")"
   ]
  },
  {
   "cell_type": "code",
   "execution_count": null,
   "metadata": {},
   "outputs": [],
   "source": [
    "#plot(tiempo_1,soluciones_numericas_con_aproximacion[:,2], label = \"Solución númerica con aproximación\", linewidth = 2.5)#color = :black)\n",
    "plot(tiempo_1, θ_2, label = \"Solución analítica\", linewidth = 2.5)\n",
    "plot!(tiempo_1,soluciones_numericas[:,2], label = \"Solución númerica\", linewidth = 2.5)#color = :black)\n",
    "plot!(xlabel = \"Tiempo\", ylabel = \"θ₂\")"
   ]
  },
  {
   "cell_type": "markdown",
   "metadata": {},
   "source": [
    "Ahorar obtenemos las diferencias máximas entre la solución analítica y las soluciones númericas para determinar si el tamaño en el paso en el tiempo es el adecuado para obtener un error de almenos 10$^{-6}$"
   ]
  },
  {
   "cell_type": "code",
   "execution_count": null,
   "metadata": {},
   "outputs": [],
   "source": [
    "δθ1_aproximacion_numerica = maximum(θ_1.-soluciones_numericas_con_aproximacion[:,1])\n",
    "#calculando el error porcentual promedio\n",
    "δθ1_aproximacion_numerica_porcentual = abs(mean(100*(θ_1.-soluciones_numericas_con_aproximacion[:,1])./θ_1))\n",
    "print(\"La diferencia máxima (para θ₁) considerando la ecuación diferencial aproximada es:  \", δθ1_aproximacion_numerica, \"\\n\")\n",
    "print(\"siendo el error porcentual promedio: \", δθ1_aproximacion_numerica_porcentual, \"% \\n\")\n",
    "\n",
    "δθ1_numerica = maximum(θ_1.-soluciones_numericas[:,1])\n",
    "δθ1_numerica_porcentual = abs(mean(100*(θ_1.-soluciones_numericas[:,1])./θ_1))\n",
    "print(\"La diferencia máxima (para θ₁) considerando la ecuación diferencial general es:  \", δθ1_numerica, \"\\n\")\n",
    "print(\"siendo el error porcentual promedio: \", δθ1_numerica_porcentual, \"% \\n\")\n",
    "\n",
    "δθ2_aproximacion_numerica = maximum(θ_2.-soluciones_numericas_con_aproximacion[:,2])\n",
    "δθ2_aproximacion_numerica_porcentual = abs(mean(100*(θ_2.-soluciones_numericas_con_aproximacion[:,2])./θ_2))\n",
    "print(\"La diferencia máxima (para θ₂) considerando la ecuación diferencial aproximada es:  \", δθ2_aproximacion_numerica, \"\\n\")\n",
    "print(\"siendo el error porcentual promedio: \", δθ2_aproximacion_numerica_porcentual, \"% \\n\")\n",
    "\n",
    "δθ2_numerica = maximum(θ_2.-soluciones_numericas[:,2])\n",
    "δθ1_numerica_porcentual = abs(mean(100*(θ_2.-soluciones_numericas[:,2])./θ_2))\n",
    "print(\"La diferencia máxima (para θ₂) considerando la ecuación diferencial general es:  \", δθ2_numerica, \"\\n\")\n",
    "print(\"siendo el error porcentual promedio: \", δθ1_numerica_porcentual, \"% \\n\")\n"
   ]
  },
  {
   "cell_type": "markdown",
   "metadata": {},
   "source": [
    "A partir de graficar diversas configuraciones entre los momentos y ángulos del péndulo doble es posible observar las curvas de Lissajous."
   ]
  },
  {
   "cell_type": "code",
   "execution_count": null,
   "metadata": {},
   "outputs": [],
   "source": [
    "plot(soluciones_numericas[:,1], soluciones_numericas[:,2], xlabel = \"θ₁\", ylabel = \"θ₂\", label = false)\n",
    "plot!(soluciones_numericas_con_aproximacion[:,1], soluciones_numericas_con_aproximacion[:,2], xlabel = \"θ₁\", ylabel = \"θ₂\",\n",
    "    label = false)#, linewidth = 2.5)\n",
    "plot!(θ_1,θ_2, style = :dash, linewidth = 2.5 , label = \"Analítica\")"
   ]
  },
  {
   "cell_type": "markdown",
   "metadata": {},
   "source": [
    "## PARTE 2:\n",
    "Para determinar si el péndulo gira se calcularán las soluciones en cada paso del tiempo y se compara cada ángulo para analizar si se encuentra alrededor de una vecindad centrada en $pi$"
   ]
  },
  {
   "cell_type": "code",
   "execution_count": null,
   "metadata": {},
   "outputs": [],
   "source": [
    "#esta solamente es una copia de la función que almacena\n",
    "#la información del sistema de ecuaciones diferenciales y es\n",
    "#en la que evaluará el método Runge-Kutta\n",
    "function EDO_pendulo_doble(t,variables)\n",
    "    ω² = 1\n",
    "    l = 1 #0.98\n",
    "    m = 1\n",
    "    # alpha = \\theta1-\\theta2\n",
    "    α = variables[1]-variables[2]\n",
    "    dθ_1 = 6/(m*l^2)*(2*variables[3]-3*variables[4]*cos(α))/(16-9*(cos(α))^2)\n",
    "    dθ_2 = 6/(m*l^2)*(8*variables[4]-3*cos(α)*variables[3])/(16-9*(cos(α))^2)\n",
    "    dp_1 = -1/2*(m*l^2)*(dθ_1*dθ_2*sin(α)+3*ω²*sin(variables[1]) )\n",
    "    dp_2 = -1/2*(m*l^2)*(-dθ_1*dθ_2*sin(α) + ω²*sin(variables[2]))\n",
    "    \n",
    "    return[dθ_1, dθ_2, dp_1, dp_2]\n",
    "end"
   ]
  },
  {
   "cell_type": "code",
   "execution_count": 2,
   "metadata": {},
   "outputs": [
    {
     "data": {
      "text/plain": [
       "generador_fractal (generic function with 1 method)"
      ]
     },
     "execution_count": 2,
     "metadata": {},
     "output_type": "execute_result"
    }
   ],
   "source": [
    "#Esta función genera una matriz donde en cada entrada almacena el tiempo de giro\n",
    "# de la  solución tal que su condicion inicial es [θ_1[i],θ_2[j],0,0]\n",
    "#Acepta un arreglo de condiciones iniciales θ_1 y θ_2\n",
    "#El tiempo inicial, tiempo final, el paso en el tiempo y el tamaño de la\n",
    "#vecindad con respecto a la cual se buscará si alguno de los péndulos gira\n",
    "function generador_fractal(θ_1, θ_2, t_0, t_f, δ, ϵ)\n",
    "   #matriz de ceros donde se aneará si el angulo da vuelta o no\n",
    "    valores = zeros(length(θ_1), length(θ_2))\n",
    "    \n",
    "    #Número de pasos de tiempo que se darán antes de inicial a corroborar \n",
    "    #si el péndulo da vuelta\n",
    "    pasos = 18\n",
    "    \n",
    "    #ciclo para barrer en todos los ángulos\n",
    "    for i in 1:length(θ_1)\n",
    "        for j in 1:length(θ_2)\n",
    "            #empezamos a descartar los ángulos que sabemos que no giraran\n",
    "            if 3*cos(θ_1[i]) + cos(θ_2[j]) > 2\n",
    "                #y se le asigna un valor mayor al tiempo final para determinar que les tomará \n",
    "                #más tiempo girar\n",
    "                valores[j,i] = t_f+10\n",
    "            \n",
    "            #para los valores que sabemos que podrían girar\n",
    "            else\n",
    "                #Calculando la solución para los primersos pasos de tiempo\n",
    "                t_1 = t_0\n",
    "                solucion_t_1 = [θ_1[i], θ_2[j],0,0]\n",
    "                \n",
    "                t_2 = t_0\n",
    "                solucion_t_2 = [θ_1[i], θ_2[j],0,0]\n",
    "                \n",
    "                \n",
    "                for i in 1:pasos\n",
    "                    t_1 = t_1 + δ\n",
    "                    #obtenemos la solución del siguiente tiempo\n",
    "                    k1_1 = EDO_pendulo_doble(t_1, solucion_t_1)\n",
    "                    k2_1 = EDO_pendulo_doble(t_1 + 0.5*δ, solucion_t_1 .+ 0.5*δ.*k1_1)\n",
    "                    k3_1 = EDO_pendulo_doble(t_1 + 0.5*δ, solucion_t_1.+ 0.5*δ.*k2_1 )\n",
    "                    k4_1 = EDO_pendulo_doble(t_1 + δ, solucion_t_1.+ δ.*k2_1)\n",
    "                    solucion_t_1 = solucion_t_1 .+ (δ/6.0).*(k1_1 .+ 2.0.*k2_1 .+ 2.0.*k3_1 .+ k4_1)\n",
    "                    \n",
    "                    t_2 = t_2 + δ\n",
    "                    #obtenemos la solución del siguiente tiempo\n",
    "                    k1_2 = EDO_pendulo_doble(t_2, solucion_t_2)\n",
    "                    k2_2 = EDO_pendulo_doble(t_2 + 0.5*δ, solucion_t_2 .+ 0.5*δ.*k1_2)\n",
    "                    k3_2 = EDO_pendulo_doble(t_2 + 0.5*δ, solucion_t_2.+ 0.5*δ.*k2_2)\n",
    "                    k4_2 = EDO_pendulo_doble(t_2 + δ, solucion_t_2.+ δ.*k2_2)\n",
    "                    solucion_t_2 = solucion_t_2 .+ (δ/6.0).*(k1_2 .+ 2.0.*k2_2 .+ 2.0.*k3_2 .+ k4_2)\n",
    "                end \n",
    "                \n",
    "\n",
    "                #buscamos el elemento de la solución tal que este alrededor de una vecindad epsilon de π\n",
    "                while abs(abs(solucion_t_1[1])-π) > ϵ #\n",
    "                    t_1 = t_1 + δ\n",
    "                #obtenemos la solución del siguiente tiempo\n",
    "                    k1_1 = EDO_pendulo_doble(t_1, solucion_t_1)\n",
    "                    k2_1 = EDO_pendulo_doble(t_1 + 0.5*δ, solucion_t_1 .+ 0.5*δ.*k1_1)\n",
    "                    k3_1 = EDO_pendulo_doble(t_1 + 0.5*δ, solucion_t_1.+ 0.5*δ.*k2_1 )\n",
    "                    k4_1 = EDO_pendulo_doble(t_1 + δ, solucion_t_1.+ δ.*k2_1)\n",
    "                    solucion_t_1 = solucion_t_1 .+ (δ/6.0).*(k1_1 .+ 2.0.*k2_1 .+ 2.0.*k3_1 .+ k4_1)\n",
    "                    if t_1 > t_f\n",
    "                        break\n",
    "                    end\n",
    "                end\n",
    "                \n",
    "                \n",
    "                \n",
    "                while abs(abs(solucion_t_2[2])-π) > ϵ \n",
    "                    t_2 = t_2 + δ\n",
    "                #obtenemos la solución del siguiente tiempo\n",
    "                    k1_2 = EDO_pendulo_doble(t_2, solucion_t_2)\n",
    "                    k2_2 = EDO_pendulo_doble(t_2 + 0.5*δ, solucion_t_2 .+ 0.5*δ.*k1_2)\n",
    "                    k3_2 = EDO_pendulo_doble(t_2 + 0.5*δ, solucion_t_2.+ 0.5*δ.*k2_2)\n",
    "                    k4_2 = EDO_pendulo_doble(t_2 + δ, solucion_t_2.+ δ.*k2_2)\n",
    "                    solucion_t_2 = solucion_t_2 .+ (δ/6.0).*(k1_2 .+ 2.0.*k2_2 .+ 2.0.*k3_2 .+ k4_2)\n",
    "                    if t_2 > t_f\n",
    "                        break\n",
    "                    end\n",
    "                end\n",
    "                \n",
    "                #si el péndulo da vuelta le pedimos le asignamos el tiempo menor donde dará vuelta    \n",
    "                if abs(abs(solucion_t_1[1])-π) < ϵ || abs(abs(solucion_t_2[2])-π) < ϵ  \n",
    "                    valores[j,i] = minimum([t_1,t_2])\n",
    "                end\n",
    "                \n",
    "            end\n",
    "        end\n",
    "    end\n",
    "    return valores\n",
    "    \n",
    "end"
   ]
  },
  {
   "cell_type": "markdown",
   "metadata": {},
   "source": [
    "Para guardar y hacer un primer mapeo del fractal se realiza:\n",
    "using Plots, DataFrames, CSV\n",
    "\n",
    "Para escribir el archivo csv\n",
    "CSV.write(\"nombre.csv\", DataFrame(datos), header = false)\n",
    "\n",
    "Para leer el archivo y transformarlo en una matriz para poder usar despues la función heatmap\n",
    "\n",
    "fractal_datos = Matrix(CSV.read(\"nombre.cvs\", DataFrame))\n",
    "\n",
    "Para mapear el fractal\n",
    "heatmap(fractal_datos)"
   ]
  }
 ],
 "metadata": {
  "kernelspec": {
   "display_name": "Julia 1.5.1",
   "language": "julia",
   "name": "julia-1.5"
  },
  "language_info": {
   "file_extension": ".jl",
   "mimetype": "application/julia",
   "name": "julia",
   "version": "1.5.1"
  }
 },
 "nbformat": 4,
 "nbformat_minor": 4
}
