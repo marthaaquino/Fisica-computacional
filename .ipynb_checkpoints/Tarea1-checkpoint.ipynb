{
 "cells": [
  {
   "cell_type": "markdown",
   "metadata": {},
   "source": [
    "\n",
    "# Tarea 1 de Física computacional\n",
    "\n",
    "## Aquino Chapa Martha Abril\n",
    "##### Hecho en Python 🐍"
   ]
  },
  {
   "cell_type": "markdown",
   "metadata": {},
   "source": [
    " <span style='color:green'>"
   ]
  },
  {
   "cell_type": "code",
   "execution_count": 3,
   "metadata": {},
   "outputs": [],
   "source": [
    "from pylab import *\n",
    "import random\n",
    "from numpy import array\n",
    "from numpy import *\n",
    "import math"
   ]
  },
  {
   "cell_type": "markdown",
   "metadata": {},
   "source": [
    "## 1. Realice y explique los desarrollos necesarios para obtener los siguientes algoritmos:\n",
    "#### (a) Encuentre una expresión para la segunda derivada numérica de orden 4 con malla uniforme. (Se desprecian téminos $h^{5}$ en la serie de Taylor)\n"
   ]
  },
  {
   "cell_type": "markdown",
   "metadata": {},
   "source": [
    "Iniciamos expandiendo en serie de Taylor la función f en 4 diferentes puntos alrededor de $x_0$\n",
    "\n",
    "$$\n",
    "f(x_0+h)=f(x_0) + f^{(1)}(x_0)h + \\frac{f^{(2)}(x_0)}{2!}h^2 + \\frac{f^{(3)}(x_0)}{3!}h^3 + \\frac{f^{(4)}(x_0)}{4!}h^4 + \\mathcal{O}(h^5)\n",
    "$$\n",
    "$$\n",
    "f(x_0-h)=f(x_0) - f^{(1)}(x_0)h + \\frac{f^{(2)}(x_0)}{2!}h^2 - \\frac{f^{(3)}(x_0)}{3!}h^3 + \\frac{f^{(4)}(x_0)}{4!}h^4 + \\mathcal{O}(h^5)\n",
    "$$\n",
    "$$\n",
    "f(x_0+2h)=f(x_0) + 2f^{(1)}(x_0)h + 2f^{(2)}(x_0)h^2 + \\frac{4}{3}f^{(3)}(x_0)h^3 + \\frac{2}{3}f^{(4)}(x_0)h^4 + \\mathcal{O}(h^5)\n",
    "$$\n",
    "$$\n",
    "f(x_0-2h)=f(x_0) - 2f^{(1)}(x_0)h + 2f^{(2)}(x_0)h^2 - \\frac{4}{3}f^{(3)}(x_0)h^3 + \\frac{2}{3}f^{(4)}(x_0)h^4 + \\mathcal{O}(h^5)\n",
    "$$\n",
    "Debido a que queremos queremos la segunda derivada de orden cuatro despreciamos los términos de orden $h^5$, sumamos la primera y segunda expresión así como la tercera y cuarta expresión. Con lo que obtenemos las siguientes dos ecuaciones:\n",
    "\n",
    "$$\n",
    "f(x_0+h)+f(x_0-h)=2f(x_0)+f^{(2)}(x_0)h^2 + \\frac{1}{12}f^{(4)}(x_0)h^4\n",
    "$$\n",
    "$$\n",
    "f(x_0+2h)+f(x_0-2h)=2f(x_0)+4f^{(2)}(x_0)h^2 + \\frac{4}{3}f^{(4)}(x_0)h^4\n",
    "$$\n",
    "\n",
    "Ahora mutiplicamos la primera de estas igualdades por $16$ y la segundad igualdad por $-1$ y obtenemos el siguiente sistema de ecuaciones:\n",
    "$$\n",
    "16f(x_0+h)+16f(x_0-h)=32f(x_0) + 16f^{(2)}(x_0)h^2 + \\frac{4}{3}f^{(4)}(x_0)h^4\n",
    "$$\n",
    "$$\n",
    "-f(x_0+2h)-f(x_0-2h)=-2f(x_0)-4f^{(2)}(x_0)h^2 - \\frac{4}{3}f^{(4)}(x_0)h^4\n",
    "$$\n",
    "Al sumar las dos ecuaciones anteriores se obtiene: \n",
    "$$\n",
    "16f(x_0+h)+16f(x_0-h)-f(x_0+2h)-f(x_0-2h)=30f(x_0)+12f^{(2)}(x_0)h^2\n",
    "$$\n",
    "\n",
    "Por lo que tenemos la expresión para la segunda derivada de orden cuatro:\n",
    "\n",
    "$$\n",
    "f^{(2)}(x_0) = \\frac{16f(x_0+h)+16f(x_0-h)-f(x_0+2h)-f(x_0-2h) - 30f(x_0)}{12h^2}\n",
    "$$\n",
    "Donde se ha tomado $h=[x+i]-h[i]$, por lo cual hay que notar que la expresión anterior hace uso del hecho de que se tienen puntos a la derecha y a la izquiera de $x_0$, por lo cual la expresión anterior no se vale en los puntos frontera. Entonces obtengamos la derivada en los puntos frontera. \n",
    "\n",
    "Para esto, usaremos los h, 2h, 3h, 4h es decir nos estamos tomando los puntos a la derecha.\n",
    "Realizando las expansiones en serie de Taylor correspondiente, despresiando terminos $h^{5}$, se obtiene:\n",
    "\n",
    "$$f(x_0+h)=f(x_0)+hf^{(1)}(x_0)+{\\frac{1}{2}}f^{(2)}(x_0)h^{2}+\\frac{f^{(3)}(x_0)}{3!}h^{3}+{\\frac{f^{(4)}}{4!}}h^{4}   $$\n"
   ]
  },
  {
   "cell_type": "markdown",
   "metadata": {},
   "source": [
    "$$f(x_0+2h)=f(x_0)+2hf^{(1)}(x_0)+{\\frac{4}{2}}f^{(2)}(x_0)h^{2}+\\frac{8f^{(3)}(x_0)}{3!}h^{3}+{16\\frac{f^{(4)}}{4!}}h^{4}   $$"
   ]
  },
  {
   "cell_type": "markdown",
   "metadata": {},
   "source": [
    "$$f(x_0+3h)=f(x_0)+3hf^{(1)}(x_0)+{\\frac{9}{2}}f^{(2)}(x_0)h^{2}+\\frac{27f^{(3)}(x_0)}{3!}h^{3}+{81\\frac{f^{(4)}}{4!}}h^{4}   $$"
   ]
  },
  {
   "cell_type": "markdown",
   "metadata": {},
   "source": [
    "$$f(x_0+4h)=f(x_0)+4hf^{(1)}(x_0)+{\\frac{16}{2}}f^{(2)}(x_0)h^{2}+\\frac{64f^{(3)}(x_0)}{3!}h^{3}+{256\\frac{f^{(4)}}{4!}}h^{4}   $$"
   ]
  },
  {
   "cell_type": "markdown",
   "metadata": {},
   "source": [
    "Es posible ver el sistema anterior como la siguiente matriz:\n",
    "$$\n",
    "\\begin{bmatrix}\n",
    "1 & \\frac{1}{2} & \\frac{1}{6} & \\frac{1}{24} \\\\\n",
    "2 & 2 & \\frac{4}{3} & \\frac{2}{3} \\\\\n",
    "3 & \\frac{9}{2} & \\frac{9}{2} & \\frac{27}{8} \\\\\n",
    "4 & 8 & \\frac{32}{3} & \\frac{32}{3}\n",
    "\\end{bmatrix}\n",
    "\\begin{bmatrix}\n",
    "hf_i' \\\\\n",
    "h^2f_i'' \\\\\n",
    "h^3f_i''' \\\\\n",
    "h^4f_i''''\n",
    "\\end{bmatrix}\n",
    "=\n",
    "\\begin{bmatrix}\n",
    "f_{i+1}-f_i \\\\\n",
    "f_{i+2}-f_i \\\\\n",
    "f_{i+3}-f_i \\\\\n",
    "f_{i+4}-f_i \n",
    "\\end{bmatrix}\n",
    "$$\n",
    "Cuya solución para la segunda derivada es:"
   ]
  },
  {
   "cell_type": "markdown",
   "metadata": {},
   "source": [
    "$$f^{(2)}(x_0)={\\frac{-104(f_{i+1}-f_i)+114(f_{i+2}-f_i)-56(f_{i+3}-f_i)+11(f_{i+4}-f_i)}{12h^{2}}}  $$\n",
    "Lo cual se puede reducir a lo siguiente:"
   ]
  },
  {
   "cell_type": "markdown",
   "metadata": {},
   "source": [
    "$$f^{(2)}(x_0)={\\frac{-104f_{i+1}+114f_{i+2}-56f_{i+3}+11f_{i+4}+35f_i)}{12h^{2}}}  $$\n",
    "Esta ecuación es para la frontera izquiera, para la frontera derecha basta hacer los siguientes cambios $i+1\\rightarrow i-1$, $i+2\\rightarrow i-2$, $i+3\\rightarrow i-3$, $i+4\\rightarrow i-4$, así como utilizarda i=N"
   ]
  },
  {
   "cell_type": "code",
   "execution_count": 34,
   "metadata": {},
   "outputs": [],
   "source": [
    "##Definimos la segunda derivada de orden 4 para una función f y cuya malla es uniforme.\n",
    "def deriv(f,x):\n",
    "    f_prima1 = zeros(len(f))\n",
    "    h=x[2]-x[1]\n",
    "   \n",
    "    for i in range (2,len(f)-2):\n",
    "        f_prima1[i]=(16*f[i+1]+16*f[i-1]-f[i+2]-f[i-2]-30*f[i])/(12*h*h)\n",
    "    \n",
    "    # calcular los puntos frontera izquierda\n",
    "        f_prima1[0] = (-(26/3)*f[1]+(19/2)*f[2]-(14/3)*f[3]+(11/12)*f[4]+(35/12)*f[0])/(h*h)\n",
    "        f_prima1[1] = (-(26/3)*f[2]+(19/2)*f[3]-(14/3)*f[4]+(11/12)*f[5]+(35/12)*f[1])/(h*h)\n",
    "        \n",
    "        ### revisar\n",
    "        #Calculando los puntos para frontera derecha\n",
    "        f[-2]=(11*f[-1]+6*f[-3]+4*f[-4]-f[-5]+20*f[-2])/(12*h*h)\n",
    "       # f[-2]=((-26/3)*f[-3]+(19/2)*f[-4]-(14/3)*f[-5]+(11/12)*f[-6]+(35/12)*f[-2])/(h*h)\n",
    "        f[-1]=(640*f[-2]-512*f[-3]+128*f[-4]-536*f[-2]*h+398*f[-3]*h-72*f[-4]-11*f[-5]*h-256*f[-1]+221*f[-1]*h)/(116*h**3-128*h**2)\n",
    "        #((-26/3)*f[-2]+(19/2)*f[-3]-(14/3)*f[-4]+(11/12)*f[-5]+(35/12)*f[-1])/(h*h)\n",
    "    \n",
    "        #f[-1]=((-26/3)*f[-2]+(19/2)*f[-3]-(14/3)*f[-4]+(11/12)*f[-5]+(35/12)*f[-1])/(h*h)\n",
    "    return f_prima1"
   ]
  },
  {
   "cell_type": "code",
   "execution_count": 35,
   "metadata": {},
   "outputs": [
    {
     "name": "stderr",
     "output_type": "stream",
     "text": [
      "C:\\Users\\marth\\anaconda3\\lib\\site-packages\\ipykernel_launcher.py:17: RuntimeWarning: overflow encountered in double_scalars\n",
      "C:\\Users\\marth\\anaconda3\\lib\\site-packages\\ipykernel_launcher.py:17: RuntimeWarning: invalid value encountered in double_scalars\n"
     ]
    },
    {
     "data": {
      "image/png": "[encoded data removed]",
      "text/plain": [
       "<Figure size 432x288 with 1 Axes>"
      ]
     },
     "metadata": {
      "needs_background": "light"
     },
     "output_type": "display_data"
    },
    {
     "name": "stdout",
     "output_type": "stream",
     "text": [
      "Error de la segunda derivada uniforme = 37.69911184307752\n"
     ]
    }
   ],
   "source": [
    "###Escogemos la malla uniforme\n",
    "x1 = linspace(0,2*pi,500)\n",
    "#Escogemos la función de prueba\n",
    "y1 =x1**3\n",
    "y_deriv2 =6*x1\n",
    "y_num_deriv2 = deriv(y1,x1)\n",
    "#Graficamos para corroborar que la derivada numerica corresponda con la derivinada analítica\n",
    "plot(x1,y_deriv2,label=\"$f'(x)$\")\n",
    "plot(x1,y_num_deriv2,label=\"f'(x) numérica\")\n",
    "legend(),grid()\n",
    "show()\n",
    "print(\"Error de la segunda derivada uniforme =\" ,\n",
    "      max(abs(y_deriv2-y_num_deriv2)) )"
   ]
  },
  {
   "cell_type": "markdown",
   "metadata": {},
   "source": [
    "##### (b) Encuentre una expresión para la derivada numérica de 2o orden para una malla no uniforme. (Se desprecian términos $h^{3}$ en la serie de Taylor)\n",
    "Debido a que queremos la derivada en una malla no uniforme, tendremos dos valores de h, h1 para el lado izquierdo y h2 para el lado derecho, además despreciaremos términos $h^{3}$, consideremos entonces los siguientes expansiones en serie de Taylor alrededor de un punto $x_0$:\n",
    "$$\n",
    "f(x_0-h_1)=f(x_0)-f^{(1)}(x_0)h_1 + \\frac{1}{2}f^{(2)}(x_0)h_1^2 + \\mathcal{O}(h^3)\n",
    "$$\n",
    "\n",
    "$$\n",
    "f(x_0+h_2)=f(x_0)+f^{(1)}(x_0)h_2 + \\frac{1}{2}f^{(2)}(x_0)h_2^2 + \\mathcal{O}(h^3)\n",
    "$$\n",
    "Multiplicamos por $h_2^{2}$ la primera ecuación y por $h_1^{2}$ la segunda y las restamos las ecuaciones anteriores se obtiene:\n"
   ]
  },
  {
   "cell_type": "markdown",
   "metadata": {},
   "source": [
    "$$ h_2^{2}f(x_0-h_1)=h_2^{2}f(x_0)-h_2^{2}f^{(1)}(x_0)h_1+{\\frac{1}{2}}f^{(2)}(x_0)h_1^{2}h_2^{2}+\\mathcal{O}(h^{3})  $$\n",
    "\n",
    "$$\n",
    "h_1^{2}f(x_0+h_2)=h_1^{2}f(x_0)+h_1^{2}f^{(1)}(x_0)h_2 + h_1^{2}\\frac{1}{2}f^{(2)}(x_0)h_2^2 + \\mathcal{O}(h^3)\n",
    "$$"
   ]
  },
  {
   "cell_type": "markdown",
   "metadata": {},
   "source": [
    "Restando las dos ecuaciones anteriores y despreciando los terminos al cubo\n",
    "$$h_1^{2}f(x_0+h_2)-h_2^{2}f(x_0-h_1)=f(x_0)(h_1^{2}-h_2^{2})+f^{(1)}(x_0)(h_2^{2}h_1+h_2h_1^{2}) $$"
   ]
  },
  {
   "cell_type": "markdown",
   "metadata": {},
   "source": [
    "Por lo cual se obtiene que la segunda derivada de 2do orden, en los puntos que no están en la frontera está dados por:\n",
    "$$ f^{(1)}(x_0)={\\frac{h_1^{2}f(x_0+h_2)-h_2^{2}f(x_0-h_1)-f(x_0)(h_1^{2}-h_2^{2})}{h_2^{2}h_1+h_2h_1^{2}}} $$\n",
    "Obteniendo ahora la derivada para los puntos frontera, inciemos con la frontera derecha, por lo cual tomaremos h1=x1-x0, h2=x2-x0.\n",
    "Realizamos la expansión en serie de Taylor:"
   ]
  },
  {
   "cell_type": "markdown",
   "metadata": {},
   "source": [
    "$$\n",
    "f(x_0+h_1)=f(x_0)+f^{(1)}(x_0)h_1 + \\frac{1}{2}f^{(2)}(x_0)h_1^2 + \\mathcal{O}(h^3)\n",
    "$$\n",
    "\n",
    "$$\n",
    "f(x_0+h_2)=f(x_0)+f^{(1)}(x_0)h_2 + \\frac{1}{2}f^{(2)}(x_0)h_2^2 + \\mathcal{O}(h^3)\n",
    "$$\n",
    "Despreciando los terminos al cubo y situando el sistema anterior como un sistema matricial obtenemos que:"
   ]
  },
  {
   "cell_type": "markdown",
   "metadata": {},
   "source": [
    "$$\n",
    "\\begin{bmatrix}\n",
    "h1 & \\frac{h1^{2}}{2}\\\\ \n",
    "h2& \\frac{h2^{2}}{2} \\\\\n",
    "\\end{bmatrix}\n",
    "\\begin{bmatrix}\n",
    "f_i' \\\\\n",
    "f_i'' \n",
    "\\end{bmatrix}\n",
    "=\n",
    "\\begin{bmatrix}\n",
    "f_{i+1}-f_i \\\\\n",
    "f_{i+2}-f_i \n",
    "\\end{bmatrix}\n",
    "$$"
   ]
  },
  {
   "cell_type": "markdown",
   "metadata": {},
   "source": [
    "El cual al resolver para f' se obtiene :\n",
    "$$f'(x_0)=\\frac{-(f_{i+2}-f_i)h_1^{2}+h_2^{2}(f_{i+1}-f_i)}{h_1h_2^{2}-h_1^{2}h_2}    $$"
   ]
  },
  {
   "cell_type": "markdown",
   "metadata": {},
   "source": [
    "Lo que podemos reducir a:\n",
    "$$f'(x_0)=\\frac{-h_1^{2}f_{i+2}+h_2^{2}f_{i+1}+f_i(-h_2^{2}+h_1^{2})}{h_1h_2^{2}-h_1^{2}h_2}   $$\n",
    "Esta ecuación es para la frontera izquiera, para la frontera derecha basta hacer los siguientes cambios $i+1\\rightarrow i-1$, $i+2\\rightarrow i-2$ así como utilizarda i=N"
   ]
  },
  {
   "cell_type": "code",
   "execution_count": 37,
   "metadata": {},
   "outputs": [],
   "source": [
    "## Ya está bien definida :D probada como sinx,cosx,e^(x^2)\n",
    "#Definimos la funcion para la primera derivada en un malla no uniforme\n",
    "def deriv_1(f,x):\n",
    "    f_prima = zeros(len(f))\n",
    "    for i in range (1,len(f)-1):\n",
    "        f_prima[i]=(((x[i]-x[i-1])**2)*(f[i+1])-((x[i+1]-x[i])**2)*f[i-1]-f[i]*((x[i]-x[i-1])**2-(x[i+1]-x[i])**2))/((x[i+1]-x[i])**2*(x[i]-x[i-1])+(x[i]-x[i-1])**2*(x[i]-x[i-1]))\n",
    "    #Obtenemos la derivada en la frontera:\n",
    "        h1=x[1]-x[0]\n",
    "        h2=x[2]-x[0]\n",
    "        \n",
    "        h11=(x[-1]-x[-2])\n",
    "        h22=(x[-1]-x[-3])\n",
    "        ## Iniciamos con la frontera izquierda\n",
    "        f_prima[0]=(-h1**2*f[2]+h2**2*f[1]+f[0]*(-h2**2+h1**2))/(h1*h2**2-h1**2*h2)\n",
    "        #Ahora obtenemos con la frontera derecha\n",
    "        f_prima[-1]=((+h11**2*f[-3])-h22**2*f[-2]+f[-1]*(+h22**2-h1**2))/(h11*h22**2-h11**2*h22)\n",
    "    return f_prima"
   ]
  },
  {
   "cell_type": "code",
   "execution_count": null,
   "metadata": {
    "scrolled": true
   },
   "outputs": [],
   "source": [
    "#Definimos una función que nos modificará una malla uniforme\n",
    "def f(x):\n",
    "    return x\n",
    "\n",
    "#Definimos la malla uniforme con 500 puntos y se le aplica la funcion\n",
    "x = 2*np.pi*f(np.linspace(0.01, 1, 500, endpoint=False))\n",
    "#Definimos la función a la que le aplicaremos la derivida\n",
    "y = x**3\n",
    "#Definimos la primera derivada analítica\n",
    "y_deriv = 3*x**2\n",
    "#Definimos la primera derivada númerica\n",
    "y_deriv_1_num = deriv_1(y,x)\n",
    "\n",
    "#Las graficamos para comparar las primera derivadas y revisar que el código funciona adecuadamente\n",
    "plot(x,y_deriv,label=\"$f'(x)$\")\n",
    "plot(x,y_deriv_1_num,label=\"f'(x) numérica\")\n",
    "legend(),grid()\n",
    "show()\n",
    "##Se aprecia que la derivada analítica se acopla a la derivada númerica"
   ]
  },
  {
   "cell_type": "markdown",
   "metadata": {},
   "source": [
    "##### (c) Encuentre una expresión para la segunda derivada numérica de 2o orden con malla no uniforme. (Se desprecian términos $h^{3}$  en la serie de Taylor)\n",
    "\n",
    "Debido a que queremos la derivada en una malla no uniforme, tendremos dos valores de h, h1 para el lado izquierdo y h2 para el lado derecho, además despreciaremos términos $h^{3}$, consideremos entonces los siguientes expansiones en serie de Taylor alrededor de un punto $x_0$:\n",
    "$$ f(x0-h_1)=f(x_0)-f^{(1)}(x_0)h_1+{1/2}f^{(2)}(x_0)h_1^{2}+\\mathcal{O}(h_1^{3})  $$\n",
    "$$ f(x0+h_2)=f(x_0)+f^{(1)}(x_0)h_2+{1/2}f^{(2)}(x_0)h_2^{2}+\\mathcal{O}(h_2^{3})  $$\n",
    "\n",
    "Multiplicando por $h_1$ y por $h_2$ la segunda y la primera ecuación se obtiene que:"
   ]
  },
  {
   "cell_type": "markdown",
   "metadata": {},
   "source": [
    "$$ h_2f(x0-h_1)=h_2f(x_0)-h_2f^{(1)}(x_0)h_1+{1/2}h_2f^{(2)}(x_0)h_1^{2}+\\mathcal{O}(h_1^{3})  $$\n",
    "$$ h_1f(x0+h_2)=h_1f(x_0)+h_1f^{(1)}(x_0)h_2+{1/2}h_1f^{(2)}(x_0)h_2^{2}+\\mathcal{O}(h_2^{3})  $$"
   ]
  },
  {
   "cell_type": "markdown",
   "metadata": {},
   "source": [
    "Sumando las ecuaciones anteriores y despreciando terminos al cubo:\n",
    "$$h_2f(x_0-h_1)+h_1f(x_0+h_2)=f(x_0)(h_2+h_1)+{\\frac{1}{2}}f^{(2)}(x_0)(h_2h_1^{2}+h_1h_2^{2}) $$"
   ]
  },
  {
   "cell_type": "markdown",
   "metadata": {},
   "source": [
    "$$ f^{(2)}(x_0)=2*\\frac{h_2f(x_0-h_1)+h_1f(x_0+h_2)-f(x_0)(h_2+h_1)}{(h_2h_1^{2}+h_1h_2^{2})} $$"
   ]
  },
  {
   "cell_type": "markdown",
   "metadata": {},
   "source": [
    "Obteniendo ahora la derivada para los puntos frontera, inciemos con la frontera derecha, por lo cual tomaremos h1=x1-x0, h2=x2-x0.\n",
    "Realizamos la expansión en serie de Taylor:\n",
    "$$\n",
    "f(x_0+h_1)=f(x_0)+f^{(1)}(x_0)h_1 + \\frac{1}{2}f^{(2)}(x_0)h_1^2 + \\mathcal{O}(h^3)\n",
    "$$\n",
    "\n",
    "$$\n",
    "f(x_0+h_2)=f(x_0)+f^{(1)}(x_0)h_2 + \\frac{1}{2}f^{(2)}(x_0)h_2^2 + \\mathcal{O}(h^3)\n",
    "$$\n",
    "Despreciando los terminos al cubo y situando el sistema anterior como un sistema matricial obtenemos que:\n",
    "$$\n",
    "\\begin{bmatrix}\n",
    "h1 & \\frac{h1^{2}}{2}\\\\ \n",
    "h2& \\frac{h2^{2}}{2} \\\\\n",
    "\\end{bmatrix}\n",
    "\\begin{bmatrix}\n",
    "f_i' \\\\\n",
    "f_i'' \n",
    "\\end{bmatrix}\n",
    "=\n",
    "\\begin{bmatrix}\n",
    "f_{i+1}-f_i \\\\\n",
    "f_{i+2}-f_i \n",
    "\\end{bmatrix}\n",
    "$$"
   ]
  },
  {
   "cell_type": "markdown",
   "metadata": {},
   "source": [
    "Al resolver el sistema anterior para f'' se obtiene:\n",
    "$$f''(x_0)= 2*{\\frac{(f_{i+2}-f_i)*h_1-(f_{i+1}-f_i)h_2}{h_1h_2^{2}-h_1^{2}h_2}}  $$"
   ]
  },
  {
   "cell_type": "markdown",
   "metadata": {},
   "source": [
    "$$f''(x_0)=2*{\\frac{f_{i+2}h_1-h_2f_{i+1}+f_i(h_2-h_1)}{h_1h_2^{2}-h_1^{2}h_2}}  $$\n",
    "Esta ecuación es para la frontera izquiera, para la frontera derecha basta hacer los siguientes cambios  𝑖+1→𝑖−1 ,  𝑖+2→𝑖−2, así como utilizar i=N.\n",
    "Definiendo ahora una función segunda derivada con una malla no uniforme:"
   ]
  },
  {
   "cell_type": "code",
   "execution_count": 38,
   "metadata": {},
   "outputs": [],
   "source": [
    "### Lista, proboda con x**3, sinx, cosx, sin2x :D \n",
    "##Definimos la funcion segunda derivada para una función f y cuya malla no es uniforme.\n",
    "def deriv_2(f,x):\n",
    "    f_prima2 = zeros(len(f))\n",
    "\n",
    "    for i in range (1,len(f)-1):\n",
    "        h1=x[i]-x[i-1]\n",
    "        h2=x[i+1]-x[i]\n",
    "        f_prima2[i]=(2/(h2*h1**2+h1*h2**2))*(h2*f[i-1]+h1*f[i+1]-f[i]*(h2+h1))\n",
    "    # Obteniendo la derivada en las fronteras\n",
    "    #frontera izquierda\n",
    "        h11=x[1]-x[0]\n",
    "        h22=x[2]-x[0]\n",
    "    ##revisar esta frontera\n",
    "        \n",
    "        f_prima2[0]=(2/(h11*h22**2-h11**2*h22))*(f[2]*h11-h22*f[1]+f[0]*(h22-h11))\n",
    "        \n",
    "     #frontera derecha\n",
    "        h111=x[-1]-x[-2]\n",
    "        h222=x[-1]-x[-3]\n",
    "        f_prima2[-1]=(2/(h111*h222*h222-h111**2*h222))*(f[-3]*h111-h222*f[-2]+f[-1]*(h222-h111))\n",
    "        \n",
    "    return f_prima2"
   ]
  },
  {
   "cell_type": "code",
   "execution_count": 263,
   "metadata": {},
   "outputs": [
    {
     "data": {
      "image/png": "[encoded data removed]",
      "text/plain": [
       "<Figure size 432x288 with 1 Axes>"
      ]
     },
     "metadata": {
      "needs_background": "light"
     },
     "output_type": "display_data"
    }
   ],
   "source": [
    "##Definimos una función f para transformar cualquier malla uniforme a una no uniforme.\n",
    "def f(x):\n",
    "    return x\n",
    "###Escogemos la malla\n",
    "x = f(np.linspace(-100, 100, 5000) )\n",
    "##Escogemos la funcion f a la cual le aplicaremos la primera derivada\n",
    "y = cos(x)\n",
    "y_deriv2 = -cos(x)\n",
    "y_num_deriv_2 = deriv_2(y,x)\n",
    "#plot(x,y,label=\"$f(x)$\")\n",
    "plot(x,y_deriv2,label=\"$f'(x)$\")\n",
    "plot(x,y_num_deriv_2,label=\"f'(x) numérica\")\n",
    "legend(),grid()\n",
    "show()"
   ]
  },
  {
   "cell_type": "markdown",
   "metadata": {},
   "source": [
    "## 2. Utilizando las funciones anteriores calcule el tiempo promedio para una malla con 500 puntos en cadauno de los algoritmos anteriores. De una explicación de las ventajas y desventajas de cada una las funciones antes mencionadas."
   ]
  },
  {
   "cell_type": "markdown",
   "metadata": {},
   "source": [
    "### Iniciamos obteniendo el tiempo con una malla uniforme y con la función segunda derivada de orden 4:"
   ]
  },
  {
   "cell_type": "markdown",
   "metadata": {},
   "source": [
    "### Obteniendo el tiempo con una malla no uniforme y con la función primera derivada de orden 2:\n"
   ]
  },
  {
   "cell_type": "code",
   "execution_count": null,
   "metadata": {},
   "outputs": [],
   "source": [
    "#Iniciamos definiendo la función a la cual se le aplicará \n",
    "#la función primera derivada no uniforme:\n",
    "##Definimos una función f para transformar cualquier malla uniforme a una no uniforme.\n",
    "def f(x):\n",
    "    return x\n",
    "#Definimos la malla uniforme con 500 puntos y se le aplica la funcion\n",
    "x = 2*np.pi*f(np.linspace(0.01, 1, 500, endpoint=False))\n",
    "#Definimos la función a la que le aplicaremos la derivida\n",
    "y = cos(x)\n",
    "#Definimos la primera derivada analítica\n",
    "y_deriv = -sin(x)\n",
    "#Definimos la primera derivada númerica\n",
    "y_deriv_1_num = deriv_1(y,x)\n",
    "\n",
    "#Obtenemos el tiempo de la función \n",
    "%timeit (deriv_1(y,x))"
   ]
  },
  {
   "cell_type": "markdown",
   "metadata": {},
   "source": [
    "### Obteniendo el tiempo con una malla no unfirme y con la función segunda derivada de orden 2:"
   ]
  },
  {
   "cell_type": "code",
   "execution_count": null,
   "metadata": {},
   "outputs": [],
   "source": [
    "##Definimos una función f para transformar cualquier malla uniforme a una no uniforme.\n",
    "def f(x):\n",
    "    return x\n",
    "###Escogemos la malla\n",
    "x = f(np.linspace(0, 10, 500) )\n",
    "##Escogemos la funcion f a la cual le aplicaremos la \n",
    "#segunda derivada\n",
    "y = sin(2*x)\n",
    "#Obtenemos el tiempo de la función \n",
    "%timeit (deriv_2(y,x))"
   ]
  },
  {
   "cell_type": "markdown",
   "metadata": {},
   "source": [
    "### 3. Calcule la derivada analítica de las funciones $f(x) = e^{−x^{2}} sin(10x)$ con $x \\in [−5, 5]$ , y $g(x)=-\\frac{2}{x^{6}}+{\\frac{1}{x^{12}}}$ con $x \\in [0.5, 5]$. Realice las gráficas de las funciones y sus primeras dos derivadas. Con las funciones del problema 1, encuentre una malla adecuada para cada caso en el que el error de cálculo sea menor que $10−5$ para cualquier punto. ¿Las mallas tienen el mismo espacio entre puntos de la malla?, explique porque si o porque no."
   ]
  },
  {
   "cell_type": "markdown",
   "metadata": {},
   "source": [
    "Iniciemos obtiendo las derivadas analíticas:\n",
    "$$f'(x)=2e^{-x^{2}}(5\\cos(10x)-x\\sin(10x) $$\n",
    "$$f^{(2)}=e^{-x^{2}}(2(2x^{2}-51)\\sin(10x)-40x\\cos(10x))$$\n",
    "Por otro lado::\n",
    "$$g'(x)={\\frac{12}{x^{-7}}}-{\\frac{12}{x^{13}}} $$ \n",
    "\n",
    "$$g''(x)=-\\frac{84}{x^{-8}}+\\frac{156}{x^{-14}}  $$"
   ]
  },
  {
   "cell_type": "code",
   "execution_count": 245,
   "metadata": {},
   "outputs": [
    {
     "data": {
      "image/png": "[encoded data removed]",
      "text/plain": [
       "<Figure size 432x288 with 1 Axes>"
      ]
     },
     "metadata": {
      "needs_background": "light"
     },
     "output_type": "display_data"
    }
   ],
   "source": [
    "#Se obtuvo el resultado deseado\n",
    "#Obteniendo la primera derivada con malla no uniforme\n",
    "#x1=linspace(-5,-3.2,10)\n",
    "#x2=linspace(-3.1,-3,5)\n",
    "#x= np.concatenate((x1,x2))\n",
    "#def malla (N=100):\n",
    " #   x4=linspace(2+0.0000000001,2+0.0000000002,400)\n",
    "  #  for i in range (3,N):\n",
    "   #      x4 += linspace(2+0.0000000001*i,2+0.0000000001*(1*+i),400)  \n",
    "   # return x4\n",
    "\n",
    "def malla(x):\n",
    "    return x\n",
    "\n",
    "####x=malla(linspace(-5,5,1000000))\n",
    "\n",
    "x=linspace(-2,-1,1000)\n",
    "y=exp(-(x**2))*sin(10*x)\n",
    "## La derivada analitica\n",
    "yprima1=2*exp(-(x*x))*(5*cos(10*x)-x*sin(10*x))\n",
    "\n",
    "#yprima2=exp(-(x*x))*(((2*x*x-102)*sin(10*x))-(40*x*cos(10*x)))\n",
    "yprima1_num=deriv_1(y,x)\n",
    "\n",
    "#plot(x,y,label=\"f(x)\")\n",
    "#plot(x,yprima1,label=\"f'(x)\")\n",
    "#plot(x,yprima1_num,label=\"f'(x) númerica\")\n",
    "plot(x,y,label=\"f'(x) númerica\")\n",
    "legend(),grid()\n",
    "show()\n",
    "#print(\"Error de la segunda derivada no uniforme =\" ,\n",
    "      #max(abs(yprima1-yprima1_num)) )"
   ]
  },
  {
   "cell_type": "code",
   "execution_count": 362,
   "metadata": {},
   "outputs": [
    {
     "name": "stdout",
     "output_type": "stream",
     "text": [
      "[0.5        0.50037223 0.50074468 0.50111735 0.50149025 0.50186336\n",
      " 0.5022367  0.50261026 0.50298404 0.50335805 0.50373227 0.50410672\n",
      " 0.5044814  0.50485629 0.50523141 0.50560675 0.50598231 0.5063581\n",
      " 0.50673411 0.50711035 0.5074868  0.50786348 0.50824039 0.50861752\n",
      " 0.50899487 0.50937244 0.50975024 0.51012827 0.51050652 0.51088499\n",
      " 0.51126369 0.51164261 0.51202175 0.51240112 0.51278072 0.51316054\n",
      " 0.51354059 0.51392086 0.51430135 0.51468208 0.51506302 0.5154442\n",
      " 0.51582559 0.51620722 0.51658907 0.51697114 0.51735344 0.51773597\n",
      " 0.51811873 0.51850171 0.51888491 0.51926835 0.51965201 0.52003589\n",
      " 0.52042001 0.52080435 0.52118891 0.52157371 0.52195873 0.52234398\n",
      " 0.52272946 0.52311516 0.52350109 0.52388725 0.52427364 0.52466026\n",
      " 0.5250471  0.52543417 0.52582147 0.526209   0.52659676 0.52698474\n",
      " 0.52737295 0.5277614  0.52815007 0.52853897 0.5289281  0.52931746\n",
      " 0.52970704 0.53009686 0.53048691 0.53087719 0.53126769 0.53165843\n",
      " 0.53204939 0.53244059 0.53283201 0.53322367 0.53361556 0.53400767\n",
      " 0.53440002 0.5347926  0.5351854  0.53557844 0.53597171 0.53636521\n",
      " 0.53675895 0.53715291 0.5375471  0.53794153 0.53833619 0.53873108\n",
      " 0.5391262  0.53952155 0.53991713 0.54031295 0.540709   0.54110528\n",
      " 0.54150179 0.54189854 0.54229551 0.54269273 0.54309017 0.54348784\n",
      " 0.54388575 0.5442839  0.54468227 0.54508088 0.54547972 0.5458788\n",
      " 0.5462781  0.54667765 0.54707742 0.54747743 0.54787768 0.54827815\n",
      " 0.54867887 0.54907981 0.54948099 0.54988241 0.55028406 0.55068594\n",
      " 0.55108806 0.55149041 0.551893   0.55229583 0.55269889 0.55310218\n",
      " 0.55350571 0.55390948 0.55431348 0.55471771 0.55512219 0.5555269\n",
      " 0.55593184 0.55633702 0.55674244 0.55714809 0.55755398 0.5579601\n",
      " 0.55836647 0.55877307 0.5591799  0.55958698 0.55999429 0.56040183\n",
      " 0.56080962 0.56121764 0.5616259  0.5620344  0.56244313 0.5628521\n",
      " 0.56326131 0.56367076 0.56408045 0.56449037 0.56490053 0.56531093\n",
      " 0.56572157 0.56613245 0.56654357 0.56695492 0.56736652 0.56777835\n",
      " 0.56819043 0.56860274 0.56901529 0.56942808 0.56984111 0.57025438\n",
      " 0.57066789 0.57108164 0.57149563 0.57190986 0.57232433 0.57273904\n",
      " 0.57315399 0.57356918 0.57398461 0.57440028 0.57481619 0.57523235\n",
      " 0.57564874 0.57606538 0.57648225 0.57689937 0.57731673 0.57773433\n",
      " 0.57815217 0.57857026 0.57898859 0.57940715 0.57982596 0.58024502\n",
      " 0.58066431 0.58108385 0.58150363 0.58192365 0.58234391 0.58276442\n",
      " 0.58318517 0.58360617 0.5840274  0.58444888 0.5848706  0.58529257\n",
      " 0.58571478 0.58613723 0.58655993 0.58698287 0.58740606 0.58782949\n",
      " 0.58825316 0.58867708 0.58910124 0.58952564 0.5899503  0.59037519\n",
      " 0.59080033 0.59122572 0.59165135 0.59207722 0.59250334 0.59292971\n",
      " 0.59335632 0.59378318 0.59421028 0.59463763 0.59506522 0.59549306\n",
      " 0.59592115 0.59634948 0.59677806 0.59720688 0.59763595 0.59806527\n",
      " 0.59849483 0.59892465 0.5993547  0.59978501 0.60021556 0.60064636\n",
      " 0.60107741 0.6015087  0.60194024 0.60237203 0.60280407 0.60323635\n",
      " 0.60366889 0.60410167 0.6045347  0.60496797 0.6054015  0.60583528\n",
      " 0.6062693  0.60670357 0.60713809 0.60757286 0.60800788 0.60844315\n",
      " 0.60887866 0.60931443 0.60975044 0.61018671 0.61062322 0.61105999\n",
      " 0.611497   0.61193427 0.61237178 0.61280955 0.61324756 0.61368583\n",
      " 0.61412435 0.61456311 0.61500213 0.6154414  0.61588092 0.61632069\n",
      " 0.61676071 0.61720098 0.61764151 0.61808228 0.61852331 0.61896459\n",
      " 0.61940612 0.6198479  0.62028994 0.62073223 0.62117477 0.62161756\n",
      " 0.6220606  0.6225039  0.62294745 0.62339125 0.62383531 0.62427961\n",
      " 0.62472417 0.62516899 0.62561406 0.62605938 0.62650495 0.62695078\n",
      " 0.62739686 0.6278432  0.62828979 0.62873663 0.62918373 0.62963109\n",
      " 0.63007869 0.63052656 0.63097467 0.63142304 0.63187167 0.63232055\n",
      " 0.63276969 0.63321908 0.63366872 0.63411863 0.63456878 0.6350192\n",
      " 0.63546986 0.63592079 0.63637197 0.63682341 0.6372751  0.63772705\n",
      " 0.63817925 0.63863171 0.63908443 0.63953741 0.63999064 0.64044413\n",
      " 0.64089787 0.64135188 0.64180614 0.64226066 0.64271543 0.64317046\n",
      " 0.64362575 0.6440813  0.64453711 0.64499317 0.64544949 0.64590608\n",
      " 0.64636291 0.64682001 0.64727737 0.64773498 0.64819286 0.64865099\n",
      " 0.64910938 0.64956803 0.65002694 0.65048611 0.65094554 0.65140522\n",
      " 0.65186517 0.65232538 0.65278585 0.65324657 0.65370756 0.65416881\n",
      " 0.65463032 0.65509208 0.65555411 0.6560164  0.65647895 0.65694176\n",
      " 0.65740484 0.65786817 0.65833176 0.65879562 0.65925974 0.65972411\n",
      " 0.66018875 0.66065366 0.66111882 0.66158425 0.66204993 0.66251588\n",
      " 0.6629821  0.66344857 0.66391531 0.66438231 0.66484957 0.6653171\n",
      " 0.66578489 0.66625294 0.66672125 0.66718983 0.66765867 0.66812778\n",
      " 0.66859715 0.66906678 0.66953668 0.67000684 0.67047726 0.67094795\n",
      " 0.6714189  0.67189012 0.6723616  0.67283335 0.67330536 0.67377764\n",
      " 0.67425018 0.67472299 0.67519606 0.67566939 0.676143   0.67661686\n",
      " 0.677091   0.6775654  0.67804006 0.67851499 0.67899019 0.67946565\n",
      " 0.67994138 0.68041738 0.68089364 0.68137017 0.68184697 0.68232403\n",
      " 0.68280136 0.68327896 0.68375682 0.68423495 0.68471335 0.68519202\n",
      " 0.68567095 0.68615016 0.68662963 0.68710936 0.68758937 0.68806964\n",
      " 0.68855019 0.689031   0.68951208 0.68999343 0.69047504 0.69095693\n",
      " 0.69143908 0.69192151 0.6924042  0.69288716 0.6933704  0.6938539\n",
      " 0.69433767 0.69482171 0.69530602 0.6957906  0.69627545 0.69676058\n",
      " 0.69724597 0.69773163 0.69821756 0.69870377 0.69919024 0.69967699\n",
      " 0.700164   0.70065129 0.70113885 0.70162668 0.70211478 0.70260315\n",
      " 0.7030918  0.70358072 0.70406991 0.70455937 0.7050491  0.7055391\n",
      " 0.70602938 0.70651993 0.70701076 0.70750185 0.70799322 0.70848486\n",
      " 0.70897678 0.70946896 0.70996142 0.71045416 0.71094717 0.71144045\n",
      " 0.711934   0.71242783 0.71292194 0.71341632 0.71391097 0.71440589\n",
      " 0.71490109 0.71539657 0.71589232 0.71638834 0.71688464 0.71738122\n",
      " 0.71787807 0.71837519 0.71887259 0.71937027 0.71986822 0.72036645\n",
      " 0.72086495 0.72136373 0.72186278 0.72236211 0.72286172 0.7233616\n",
      " 0.72386176 0.7243622  0.72486291 0.72536391 0.72586517 0.72636672\n",
      " 0.72686854 0.72737064 0.72787301 0.72837567 0.7288786  0.72938181\n",
      " 0.7298853  0.73038906 0.7308931  0.73139743 0.73190203 0.73240691\n",
      " 0.73291206 0.7334175  0.73392321 0.73442921 0.73493548 0.73544203\n",
      " 0.73594886 0.73645597 0.73696336 0.73747103 0.73797898 0.73848721\n",
      " 0.73899572 0.73950451 0.74001358 0.74052293 0.74103256 0.74154247\n",
      " 0.74205266 0.74256313 0.74307388 0.74358492 0.74409623 0.74460783\n",
      " 0.74511971 0.74563186 0.74614431 0.74665703 0.74717003 0.74768332\n",
      " 0.74819689 0.74871074 0.74922487 0.74973928 0.75025398 0.75076896\n",
      " 0.75128422 0.75179977 0.7523156  0.75283171 0.75334811 0.75386478\n",
      " 0.75438175 0.75489899 0.75541652 0.75593433 0.75645243 0.75697081\n",
      " 0.75748948 0.75800843 0.75852766 0.75904718 0.75956698 0.76008707\n",
      " 0.76060744 0.7611281  0.76164904 0.76217027 0.76269178 0.76321358\n",
      " 0.76373566 0.76425803 0.76478069 0.76530363 0.76582686 0.76635037\n",
      " 0.76687417 0.76739826 0.76792263 0.76844729 0.76897223 0.76949747\n",
      " 0.77002299 0.77054879 0.77107489 0.77160127 0.77212794 0.77265489\n",
      " 0.77318214 0.77370967 0.77423749 0.7747656  0.77529399 0.77582268\n",
      " 0.77635165 0.77688091 0.77741046 0.7779403  0.77847043 0.77900084\n",
      " 0.77953155 0.78006254 0.78059383 0.7811254  0.78165726 0.78218941\n",
      " 0.78272186 0.78325459 0.78378761 0.78432092 0.78485453 0.78538842\n",
      " 0.7859226  0.78645708 0.78699184 0.7875269  0.78806224 0.78859788\n",
      " 0.78913381 0.78967003 0.79020654 0.79074334 0.79128044 0.79181783\n",
      " 0.7923555  0.79289348 0.79343174 0.79397029 0.79450914 0.79504828\n",
      " 0.79558771 0.79612744 0.79666746 0.79720777 0.79774837 0.79828927\n",
      " 0.79883046 0.79937195 0.79991373 0.8004558  0.80099816 0.80154082\n",
      " 0.80208378 0.80262702 0.80317057 0.8037144  0.80425853 0.80480296\n",
      " 0.80534768 0.8058927  0.80643801 0.80698361 0.80752951 0.80807571\n",
      " 0.8086222  0.80916899 0.80971607 0.81026345 0.81081113 0.8113591\n",
      " 0.81190737 0.81245593 0.81300479 0.81355395 0.8141034  0.81465315\n",
      " 0.8152032  0.81575354 0.81630419 0.81685512 0.81740636 0.8179579\n",
      " 0.81850973 0.81906186 0.81961428 0.82016701 0.82072003 0.82127335\n",
      " 0.82182697 0.82238089 0.82293511 0.82348963 0.82404444 0.82459956\n",
      " 0.82515497 0.82571068 0.82626669 0.826823   0.82737962 0.82793653\n",
      " 0.82849374 0.82905125 0.82960906 0.83016717 0.83072558 0.83128429\n",
      " 0.8318433  0.83240261 0.83296223 0.83352214 0.83408236 0.83464287\n",
      " 0.83520369 0.83576481 0.83632623 0.83688796 0.83744998 0.83801231\n",
      " 0.83857493 0.83913787 0.8397011  0.84026463 0.84082847 0.84139261\n",
      " 0.84195705 0.8425218  0.84308685 0.8436522  0.84421786 0.84478382\n",
      " 0.84535008 0.84591664 0.84648351 0.84705069 0.84761816 0.84818594\n",
      " 0.84875403 0.84932242 0.84989112 0.85046011 0.85102942 0.85159903\n",
      " 0.85216894 0.85273916 0.85330968 0.85388051 0.85445165 0.85502309\n",
      " 0.85559483 0.85616688 0.85673924 0.85731191 0.85788488 0.85845815\n",
      " 0.85903174 0.85960562 0.86017982 0.86075432 0.86132913 0.86190425\n",
      " 0.86247967 0.8630554  0.86363144 0.86420779 0.86478444 0.8653614\n",
      " 0.86593867 0.86651625 0.86709414 0.86767233 0.86825083 0.86882964\n",
      " 0.86940876 0.86998819 0.87056793 0.87114797 0.87172833 0.87230899\n",
      " 0.87288997 0.87347125 0.87405284 0.87463475 0.87521696 0.87579948\n",
      " 0.87638232 0.87696546 0.87754891 0.87813268 0.87871675 0.87930114\n",
      " 0.87988583 0.88047084 0.88105616 0.88164179 0.88222773 0.88281398\n",
      " 0.88340054 0.88398742 0.88457461 0.88516211 0.88574992 0.88633804\n",
      " 0.88692648 0.88751523 0.88810429 0.88869366 0.88928335 0.88987335\n",
      " 0.89046366 0.89105429 0.89164523 0.89223648 0.89282805 0.89341993\n",
      " 0.89401213 0.89460463 0.89519746 0.89579059 0.89638404 0.89697781\n",
      " 0.89757189 0.89816628 0.89876099 0.89935602 0.89995136 0.90054701\n",
      " 0.90114298 0.90173927 0.90233587 0.90293279 0.90353002 0.90412757\n",
      " 0.90472544 0.90532362 0.90592212 0.90652093 0.90712006 0.90771951\n",
      " 0.90831927 0.90891936 0.90951975 0.91012047 0.9107215  0.91132285\n",
      " 0.91192452 0.91252651 0.91312881 0.91373143 0.91433437 0.91493763\n",
      " 0.91554121 0.9161451  0.91674932 0.91735385 0.9179587  0.91856387\n",
      " 0.91916936 0.91977517 0.9203813  0.92098775 0.92159451 0.9222016\n",
      " 0.92280901 0.92341673 0.92402478 0.92463315 0.92524184 0.92585085\n",
      " 0.92646017 0.92706982 0.92767979 0.92829009 0.9289007  0.92951163\n",
      " 0.93012289 0.93073447 0.93134636 0.93195858 0.93257113 0.93318399\n",
      " 0.93379718 0.93441069 0.93502452 0.93563867 0.93625315 0.93686795\n",
      " 0.93748307 0.93809852 0.93871428 0.93933038 0.93994679 0.94056353\n",
      " 0.94118059 0.94179798 0.94241569 0.94303372 0.94365208 0.94427076\n",
      " 0.94488977 0.9455091  0.94612876 0.94674874 0.94736905 0.94798968\n",
      " 0.94861064 0.94923192 0.94985353 0.95047546 0.95109772 0.9517203\n",
      " 0.95234321 0.95296645 0.95359001 0.9542139  0.95483812 0.95546266\n",
      " 0.95608753 0.95671273 0.95733825 0.9579641  0.95859028 0.95921678\n",
      " 0.95984362 0.96047078 0.96109826 0.96172608 0.96235422 0.9629827\n",
      " 0.9636115  0.96424063 0.96487008 0.96549987 0.96612998 0.96676043\n",
      " 0.9673912  0.9680223  0.96865373 0.9692855  0.96991759 0.97055001\n",
      " 0.97118276 0.97181584 0.97244925 0.97308299 0.97371706 0.97435146\n",
      " 0.97498619 0.97562125 0.97625665 0.97689237 0.97752843 0.97816481\n",
      " 0.97880153 0.97943858 0.98007596 0.98071368 0.98135172 0.9819901\n",
      " 0.98262881 0.98326785 0.98390723 0.98454693 0.98518697 0.98582734\n",
      " 0.98646805 0.98710909 0.98775046 0.98839216 0.9890342  0.98967657\n",
      " 0.99031928 0.99096232 0.99160569 0.9922494  0.99289344 0.99353782\n",
      " 0.99418253 0.99482757 0.99547295 0.99611867 0.99676472 0.9974111\n",
      " 0.99805783 0.99870488 0.99935227 1.        ]\n"
     ]
    },
    {
     "data": {
      "image/png": "[encoded data removed]",
      "text/plain": [
       "<Figure size 432x288 with 1 Axes>"
      ]
     },
     "metadata": {
      "needs_background": "light"
     },
     "output_type": "display_data"
    },
    {
     "name": "stdout",
     "output_type": "stream",
     "text": [
      "Error de la segunda derivada no uniforme = 517.4061919325235\n"
     ]
    }
   ],
   "source": [
    "def malla(x):\n",
    "    return x**5\n",
    "\n",
    "y1=(linspace(1,1.5,10000))\n",
    "y2=linspace(1.5,2,500)\n",
    "y3=linspace(2,3.5,500)\n",
    "y2=linspace(3.5,5,100)\n",
    "\n",
    "\n",
    "x=malla(linspace(0.5**(1/5),1**(1/5),1000))\n",
    "y=-2/x**6+x**(-12)\n",
    "print(x)\n",
    "## La derivada analitica\n",
    "yprima1=12/x**7-12*x**(-13)\n",
    "\n",
    "yprima1_num=deriv_1(y,x)\n",
    "\n",
    "#plot(x,y,label=\"f(x)\")\n",
    "plot(x,yprima1,label=\"f'(x)\")\n",
    "#plot(x,yprima1_num,label=\"f'(x) númerica\")\n",
    "#plot(x,y,label=\"f'(x) númerica\")\n",
    "legend(),grid()\n",
    "show()\n",
    "print(\"Error de la segunda derivada no uniforme =\" ,\n",
    "      max(abs(yprima1-yprima1_num)) )"
   ]
  },
  {
   "cell_type": "code",
   "execution_count": 293,
   "metadata": {},
   "outputs": [
    {
     "name": "stdout",
     "output_type": "stream",
     "text": [
      "Error de la segunda derivada no uniforme = 55.1320574764647\n"
     ]
    },
    {
     "data": {
      "image/png": "[encoded data removed]",
      "text/plain": [
       "<Figure size 432x288 with 1 Axes>"
      ]
     },
     "metadata": {
      "needs_background": "light"
     },
     "output_type": "display_data"
    }
   ],
   "source": [
    "# Obteniendo la segunda derivada\n",
    "#graficando la segunda funcion\n",
    "x1=linspace(-5,5,15)\n",
    "#x2=linspace(0.500001,0.500002,500)\n",
    "#x3=linspace(1,5,50)\n",
    "\n",
    "def malla1(x):\n",
    "    return x*x*x #x**2*sin(100*x)*cos((x**6))*sin(x**2)\n",
    "\n",
    "#x1=x#=np.concatenate((x, x2), axis=0)\n",
    "#x2=linspace(-5,-2,500)\n",
    "#x3=(linspace(-4,-3.8,50000))\n",
    "##malla de 3.8\n",
    "x0=(linspace(-5,-4,500))##:D\n",
    "x2=linspace(-4,-4.5,600)##:D\n",
    "x3=linspace(-4.5,-3.8,900)#:D\n",
    "x4=linspace(-3.8,-3.6,7000)##:D\n",
    "#x1=linspace(-3.6,-3.5,9000)#:D\n",
    "x5=linspace(-3.5,-3.45,90000)#:D\n",
    "x6=linspace(-3.45,-3.4,100)#:D\n",
    "\n",
    "\n",
    "y1=linspace(-5,-3.5,7000)\n",
    "y2=linspace(-3.5,-2.8,70000)\n",
    "y3=linspace(-2.8,-2.5,90000)\n",
    "y4=linspace(-2.5,-2.3,100000)\n",
    "y5=linspace(-2.3,-2.2,15000)\n",
    "y6=linspace(-2.2,-2,110110)\n",
    "y7=linspace(-2,2,700000)\n",
    "#x1=np.concatenate((y1,y2,y3,y4,y5,y6,y7)) \n",
    "\n",
    "\n",
    "#x1=[x for x in x10 if x != y]\n",
    "#x3,x4,x5),axis=0)\n",
    "#x1.sort()\n",
    "y=exp(-(x1*x1))*sin(10*x1)\n",
    "yprima2=exp(-(x1*x1))*(((4*x1*x1-102)*sin(10*x1))-(40*x1*cos(10*x1)))\n",
    "\n",
    "yprima2_num=deriv_2(y,x1)\n",
    "\n",
    "plot(x1,yprima2,label=\"f(x)\")\n",
    "plot(x1,yprima2_num,label=\"f''(x) númerica\")\n",
    "#legend(),grid()\n",
    "#show()\n",
    "print(\"Error de la segunda derivada no uniforme =\" ,\n",
    "      max(abs(yprima2-yprima2_num)) )\n",
    "\n",
    "#print(exp(log(5)))"
   ]
  },
  {
   "cell_type": "markdown",
   "metadata": {},
   "source": [
    "### 4. Suponga que tiene la función $sinc(x) =\\frac{ sin(3x)}{x}$ en el intervalo$ [−2π, 2π]$. Calcule la derivada analítica de dicha función y calcule la derivada numérica utilizando una malla uniforme.\n",
    "\n",
    "### (a) Dependiendo del lenguaje de programación que utilice, averig\\\"e la manera de obtener los tiempos de ejecución para calcular la derivada utilizando los algoritmos de 2o y 4o orden.\n",
    "\n",
    "### (b) Comparando con la solución analítica, encuentre el espacio entre los puntos de la malla para que el error máximo en el cálculo sea menor a $10^{-5}$ para cada algoritmo.\n",
    "\n",
    "### (c) Realice la gráfica del “Número de puntos en el espaciamiento de la malla” vs “Tiempo de ejecución” partiendo de un espaciamiento en los puntos en la malla de 0.25 hasta el espaciamiento encontrado en el inciso b). Por o menos considere 15 puntos, es decir 15 mallas deferentes, para realizar este ejercicio.\n",
    "\n",
    "### (d) ¿Qué puede concluir de este experimento numérico?"
   ]
  },
  {
   "cell_type": "markdown",
   "metadata": {},
   "source": [
    "Las derivadas analíticas de la función sinc(x) son:\n",
    "    $$sinc'(x)=\\frac{3x\\cos(3x)-\\sin(3x)}{x^2}  $$"
   ]
  },
  {
   "cell_type": "markdown",
   "metadata": {},
   "source": [
    "$$sinc''(x)=\\frac{(2-9x^{2})\\sin(3x)-6x\\cos(3x)}{x^{3}}$$"
   ]
  },
  {
   "cell_type": "markdown",
   "metadata": {},
   "source": [
    "a) Para obtener los tiempos de ejecución se debe importar:"
   ]
  },
  {
   "cell_type": "code",
   "execution_count": null,
   "metadata": {},
   "outputs": [],
   "source": [
    "import time"
   ]
  },
  {
   "cell_type": "code",
   "execution_count": null,
   "metadata": {},
   "outputs": [],
   "source": [
    "##Obteniendo los tiempos de ejecución de la primer derivada en una\n",
    "##malla no uniforme\n",
    "#Iniciamos definiendo la malla donde se evaluara la funcion\n",
    "x = linspace(1,100,500)\n",
    "#Iniciamos a correr el tiempo\n",
    "inicio = time.time()\n",
    "#definimos la función a la que se medirá el tiempo de ejecución\n",
    "deriv_1(sin(3*x)/x,x)\n",
    "#terminamos de contar el tiempo\n",
    "fin = time.time()\n",
    "#Restamos el tiempo inicial y el tiempo final para obtener\n",
    "#el tiempo de ejeción\n",
    "t_i = fin - inicio \n",
    "#Le pedimos al programa que nos imprima el tiempo de ejecución\n",
    "print(\"Tiempo de ejecución de la primera derivada: \",t_i)"
   ]
  },
  {
   "cell_type": "markdown",
   "metadata": {},
   "source": [
    "Obteniendo una mejor aproximación:"
   ]
  },
  {
   "cell_type": "code",
   "execution_count": null,
   "metadata": {},
   "outputs": [],
   "source": [
    "x = linspace(1,100,500)\n",
    "n_experimentos = 100 ## numero de veces que repitos el ciclo\n",
    "t_is =  zeros(n_experimentos)\n",
    "for i in range(n_experimentos):\n",
    "    inicio = time.time()\n",
    "    deriv_1(sin(3*x)/x,x)\n",
    "    fin = time.time()\n",
    "    t_is[i] = fin - inicio\n",
    "print(\"Tiempo de ejecución, más aproximado, de la primera derivada:  \",mean(t_is))"
   ]
  },
  {
   "cell_type": "markdown",
   "metadata": {},
   "source": [
    "Obteniendo el tiempo de ejecución para la segunda derivada: "
   ]
  },
  {
   "cell_type": "code",
   "execution_count": null,
   "metadata": {},
   "outputs": [],
   "source": [
    "##Obteniendo los tiempos de ejecución de la segunda derivada en una\n",
    "##malla no uniforme\n",
    "#Iniciamos definiendo la malla donde se evaluara la funcion\n",
    "x = linspace(1,100,500)\n",
    "#Iniciamos a correr el tiempo\n",
    "inicio = time.time()\n",
    "#definimos la función a la que se medirá el tiempo de ejecución\n",
    "deriv_2(sin(3*x)/x,x)\n",
    "#terminamos de contar el tiempo\n",
    "fin = time.time()\n",
    "#Restamos el tiempo inicial y el tiempo final para obtener\n",
    "#el tiempo de ejeción\n",
    "t_i = fin - inicio \n",
    "#Le pedimos al programa que nos imprima el tiempo de ejecución\n",
    "print(\"Tiempo de ejecución de la segunda derivada: \",t_i)"
   ]
  },
  {
   "cell_type": "markdown",
   "metadata": {},
   "source": [
    "Obteniendo una mejor aproximación:"
   ]
  },
  {
   "cell_type": "code",
   "execution_count": null,
   "metadata": {},
   "outputs": [],
   "source": [
    "x = linspace(1,100,500)\n",
    "n_experimentos = 100 ## numero de veces que repitos el ciclo\n",
    "t_is =  zeros(n_experimentos)\n",
    "for i in range(n_experimentos):\n",
    "    inicio = time.time()\n",
    "    deriv_2(sin(3*x)/x,x)\n",
    "    fin = time.time()\n",
    "    t_is[i] = fin - inicio\n",
    "print(\"Tiempo de ejecución, más aproximado, de la segunda derivada:  \",mean(t_is))"
   ]
  },
  {
   "cell_type": "markdown",
   "metadata": {},
   "source": [
    "### Comparando con la solución analítica, encuentre el espacio entre los puntos de la malla para que el error máximo en el cálculo sea menor a 10−5 para cada algoritmo."
   ]
  },
  {
   "cell_type": "code",
   "execution_count": null,
   "metadata": {},
   "outputs": [],
   "source": [
    "##Definimos la malla:\n",
    "x=linspace(-2*pi,2*pi,7500)\n",
    "#obteniendo el espacio entre los puntos:\n",
    "h=x[1]-x[0]\n",
    "#definimos la función a la que se le aplicará la primera derivada\n",
    "sinc=sin(3*x)/x\n",
    "## La derivada analitica\n",
    "sincprima1=(3*x*cos(3*x)-sin(3*x))/(x*x)\n",
    "\n",
    "#yprima2=exp(-(x*x))*(((2*x*x-102)*sin(10*x))-(40*x*cos(10*x)))\n",
    "sincprima1_num=deriv_1(sinc,x)\n",
    "\n",
    "#plot(x,y,label=\"f(x)\")\n",
    "plot(x,sincprima1,label=\"sinc'(x)\")\n",
    "plot(x,sincprima1_num,label=\"sinc'(x) númerica\")\n",
    "legend(),grid()\n",
    "show()\n",
    "print(\"Error de la segunda derivada no uniforme =\" ,\n",
    "      max(abs(sincprima1-sincprima1_num)) )\n",
    "print(\"El espacio entre los puntos es:\",h)"
   ]
  },
  {
   "cell_type": "markdown",
   "metadata": {},
   "source": [
    "Veamos el caso para la segunda derivada:"
   ]
  },
  {
   "cell_type": "code",
   "execution_count": null,
   "metadata": {},
   "outputs": [],
   "source": [
    "#Lista, el error máximo es de 5.3088466038686555e-05\n",
    "##Notese que no se obtuvo la malla de -2pi a 2pi puesto que la funcion es simétrica \n",
    "##en mi intuición se debería de tener el mismo error\n",
    "##Definimos la malla:\n",
    "x=linspace(-2*pi,0,500000)\n",
    "#obteniendo el espacio entre los puntos:\n",
    "h=x[1]-x[0]\n",
    "#definimos la función a la que se le aplicará la primera derivada\n",
    "sinc=sin(3*x)/x\n",
    "## La derivada analitica\n",
    "sincprima2=((2-9*x**2)*sin(3*x)-6*x*cos(3*x))/(x**3)\n",
    "\n",
    "#yprima2=exp(-(x*x))*(((2*x*x-102)*sin(10*x))-(40*x*cos(10*x)))\n",
    "sincprima2_num=deriv_2(sinc,x)\n",
    "\n",
    "#plot(x,y,label=\"f(x)\")\n",
    "plot(x,sincprima2,label=\"sinc'(x)\")\n",
    "plot(x,sincprima2_num,label=\"sinc'(x) númerica\")\n",
    "legend(),grid()\n",
    "show()\n",
    "print(\"Error de la segunda derivada no uniforme =\" ,\n",
    "      max(abs(sincprima2-sincprima2_num)) )\n",
    "print(\"El espacio entre los puntos es:\",h)"
   ]
  },
  {
   "cell_type": "markdown",
   "metadata": {},
   "source": [
    "### Realice la gráfica del “Número de puntos en el espaciamiento de la malla” vs “Tiempo de ejecución” partiendo de un espaciamiento en los puntos en la malla de 0.25 hasta el espaciamiento encontrado en el inciso b). Por o menos considere 15 puntos, es decir 15 mallas deferentes, para realizar este ejercicio."
   ]
  },
  {
   "cell_type": "code",
   "execution_count": null,
   "metadata": {},
   "outputs": [],
   "source": [
    "#Tiempos para la segunda derivada\n",
    "#Definimos el rango de números de malla en que evaluaremos el tiempo\n",
    "num_puntos = linspace(13,500000,5)\n",
    "\n",
    "#print(\"El esparcimiento inicial es:\",hi)\n",
    "#y=linspace(-2*pi,0,500000)\n",
    "tiempos = zeros(len(num_puntos))\n",
    "for n_i in range (len(num_puntos)):\n",
    "    x = linspace(2*pi,-0.00001,int(num_puntos[n_i]))\n",
    "    #h=x[1]-x[0]\n",
    "    #print(h)\n",
    "    n_experimentos = 2\n",
    "    t_is = zeros(n_experimentos)\n",
    "    for i in range(n_experimentos):\n",
    "        inicio = time.time()\n",
    "        deriv_2(sin(3*x)/x,x)\n",
    "        fin = time.time()\n",
    "        t_is[i] = fin-inicio\n",
    "    tiempos[n_i] = mean(t_is)\n",
    "    \n",
    "title(\"Tiempos promedio\")\n",
    "xlabel(\"Número de puntos en la malla\")\n",
    "ylabel(\"Tiempo en [$\\mu s$]\")\n",
    "plot(num_puntos,tiempos*1e6,'o-')\n",
    "grid()\n",
    "show()"
   ]
  },
  {
   "cell_type": "code",
   "execution_count": null,
   "metadata": {},
   "outputs": [],
   "source": [
    "num_puntos = linspace(13,500000,5)\n",
    "\n",
    "#print(\"El esparcimiento inicial es:\",hi)\n",
    "#y=linspace(-2*pi,0,500000)\n",
    "tiempos = zeros(len(num_puntos))\n",
    "for n_i in range (len(num_puntos)):\n",
    "    x = linspace(2*pi,-0.00001,int(num_puntos[n_i]))\n",
    "    #h=x[1]-x[0]\n",
    "    #print(h)\n",
    "    n_experimentos = 2\n",
    "    t_is = zeros(n_experimentos)\n",
    "    for i in range(n_experimentos):\n",
    "        inicio = time.time()\n",
    "        deriv_2(sin(3*x)/x,x)\n",
    "        fin = time.time()\n",
    "        t_is[i] = fin-inicio\n",
    "    tiempos[n_i] = mean(t_is)\n",
    "    \n",
    "title(\"Tiempos promedio\")\n",
    "xlabel(\"Número de puntos en la malla\")\n",
    "ylabel(\"Tiempo en [$\\mu s$]\")\n",
    "plot(num_puntos,tiempos*1e6,'o-')\n",
    "grid()\n",
    "show()"
   ]
  }
 ],
 "metadata": {
  "kernelspec": {
   "display_name": "Python 3",
   "language": "python",
   "name": "python3"
  },
  "language_info": {
   "codemirror_mode": {
    "name": "ipython",
    "version": 3
   },
   "file_extension": ".py",
   "mimetype": "text/x-python",
   "name": "python",
   "nbconvert_exporter": "python",
   "pygments_lexer": "ipython3",
   "version": "3.7.6"
  }
 },
 "nbformat": 4,
 "nbformat_minor": 4
}
