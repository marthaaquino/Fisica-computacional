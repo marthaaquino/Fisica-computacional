{
 "cells": [
  {
   "cell_type": "markdown",
   "metadata": {},
   "source": [
    "\n",
    "# Tarea 1 de Física computacional\n",
    "\n",
    "## Aquino Chapa Martha Abril\n",
    "##### Hecho en Python 🐍"
   ]
  },
  {
   "cell_type": "markdown",
   "metadata": {},
   "source": [
    " <span style='color:green'>"
   ]
  },
  {
   "cell_type": "code",
   "execution_count": 3,
   "metadata": {},
   "outputs": [],
   "source": [
    "from pylab import *\n",
    "import random\n",
    "from numpy import array\n",
    "from numpy import *\n",
    "import math"
   ]
  },
  {
   "cell_type": "markdown",
   "metadata": {},
   "source": [
    "## 1. Realice y explique los desarrollos necesarios para obtener los siguientes algoritmos:\n",
    "#### (a) Encuentre una expresión para la segunda derivada numérica de orden 4 con malla uniforme. (Se desprecian téminos $h^{5}$ en la serie de Taylor)\n"
   ]
  },
  {
   "cell_type": "markdown",
   "metadata": {},
   "source": [
    "Iniciamos expandiendo en serie de Taylor la función f en 4 diferentes puntos alrededor de $x_0$\n",
    "\n",
    "$$\n",
    "f(x_0+h)=f(x_0) + f^{(1)}(x_0)h + \\frac{f^{(2)}(x_0)}{2!}h^2 + \\frac{f^{(3)}(x_0)}{3!}h^3 + \\frac{f^{(4)}(x_0)}{4!}h^4 + \\mathcal{O}(h^5)\n",
    "$$\n",
    "$$\n",
    "f(x_0-h)=f(x_0) - f^{(1)}(x_0)h + \\frac{f^{(2)}(x_0)}{2!}h^2 - \\frac{f^{(3)}(x_0)}{3!}h^3 + \\frac{f^{(4)}(x_0)}{4!}h^4 + \\mathcal{O}(h^5)\n",
    "$$\n",
    "$$\n",
    "f(x_0+2h)=f(x_0) + 2f^{(1)}(x_0)h + 2f^{(2)}(x_0)h^2 + \\frac{4}{3}f^{(3)}(x_0)h^3 + \\frac{2}{3}f^{(4)}(x_0)h^4 + \\mathcal{O}(h^5)\n",
    "$$\n",
    "$$\n",
    "f(x_0-2h)=f(x_0) - 2f^{(1)}(x_0)h + 2f^{(2)}(x_0)h^2 - \\frac{4}{3}f^{(3)}(x_0)h^3 + \\frac{2}{3}f^{(4)}(x_0)h^4 + \\mathcal{O}(h^5)\n",
    "$$\n",
    "Debido a que queremos queremos la segunda derivada de orden cuatro despreciamos los términos de orden $h^5$, sumamos la primera y segunda expresión así como la tercera y cuarta expresión. Con lo que obtenemos las siguientes dos ecuaciones:\n",
    "\n",
    "$$\n",
    "f(x_0+h)+f(x_0-h)=2f(x_0)+f^{(2)}(x_0)h^2 + \\frac{1}{12}f^{(4)}(x_0)h^4\n",
    "$$\n",
    "$$\n",
    "f(x_0+2h)+f(x_0-2h)=2f(x_0)+4f^{(2)}(x_0)h^2 + \\frac{4}{3}f^{(4)}(x_0)h^4\n",
    "$$\n",
    "\n",
    "Ahora mutiplicamos la primera de estas igualdades por $16$ y la segundad igualdad por $-1$ y obtenemos el siguiente sistema de ecuaciones:\n",
    "$$\n",
    "16f(x_0+h)+16f(x_0-h)=32f(x_0) + 16f^{(2)}(x_0)h^2 + \\frac{4}{3}f^{(4)}(x_0)h^4\n",
    "$$\n",
    "$$\n",
    "-f(x_0+2h)-f(x_0-2h)=-2f(x_0)-4f^{(2)}(x_0)h^2 - \\frac{4}{3}f^{(4)}(x_0)h^4\n",
    "$$\n",
    "Al sumar las dos ecuaciones anteriores se obtiene: \n",
    "$$\n",
    "16f(x_0+h)+16f(x_0-h)-f(x_0+2h)-f(x_0-2h)=30f(x_0)+12f^{(2)}(x_0)h^2\n",
    "$$\n",
    "\n",
    "Por lo que tenemos la expresión para la segunda derivada de orden cuatro:\n",
    "\n",
    "$$\n",
    "f^{(2)}(x_0) = \\frac{16f(x_0+h)+16f(x_0-h)-f(x_0+2h)-f(x_0-2h) - 30f(x_0)}{12h^2}\n",
    "$$\n",
    "Donde se ha tomado $h=[x+i]-h[i]$, por lo cual hay que notar que la expresión anterior hace uso del hecho de que se tienen puntos a la derecha y a la izquiera de $x_0$, por lo cual la expresión anterior no se vale en los puntos frontera. Entonces obtengamos la derivada en los puntos frontera. \n",
    "\n",
    "Para esto, usaremos los h, 2h, 3h, 4h es decir nos estamos tomando los puntos a la derecha.\n",
    "Realizando las expansiones en serie de Taylor correspondiente, despresiando terminos $h^{5}$, se obtiene:\n",
    "\n",
    "$$f(x_0+h)=f(x_0)+hf^{(1)}(x_0)+{\\frac{1}{2}}f^{(2)}(x_0)h^{2}+\\frac{f^{(3)}(x_0)}{3!}h^{3}+{\\frac{f^{(4)}}{4!}}h^{4}   $$\n"
   ]
  },
  {
   "cell_type": "markdown",
   "metadata": {},
   "source": [
    "$$f(x_0+2h)=f(x_0)+2hf^{(1)}(x_0)+{\\frac{4}{2}}f^{(2)}(x_0)h^{2}+\\frac{8f^{(3)}(x_0)}{3!}h^{3}+{16\\frac{f^{(4)}}{4!}}h^{4}   $$"
   ]
  },
  {
   "cell_type": "markdown",
   "metadata": {},
   "source": [
    "$$f(x_0+3h)=f(x_0)+3hf^{(1)}(x_0)+{\\frac{9}{2}}f^{(2)}(x_0)h^{2}+\\frac{27f^{(3)}(x_0)}{3!}h^{3}+{81\\frac{f^{(4)}}{4!}}h^{4}   $$"
   ]
  },
  {
   "cell_type": "markdown",
   "metadata": {},
   "source": [
    "$$f(x_0+4h)=f(x_0)+4hf^{(1)}(x_0)+{\\frac{16}{2}}f^{(2)}(x_0)h^{2}+\\frac{64f^{(3)}(x_0)}{3!}h^{3}+{256\\frac{f^{(4)}}{4!}}h^{4}   $$"
   ]
  },
  {
   "cell_type": "markdown",
   "metadata": {},
   "source": [
    "Es posible ver el sistema anterior como la siguiente matriz:\n",
    "$$\n",
    "\\begin{bmatrix}\n",
    "1 & \\frac{1}{2} & \\frac{1}{6} & \\frac{1}{24} \\\\\n",
    "2 & 2 & \\frac{4}{3} & \\frac{2}{3} \\\\\n",
    "3 & \\frac{9}{2} & \\frac{9}{2} & \\frac{27}{8} \\\\\n",
    "4 & 8 & \\frac{32}{3} & \\frac{32}{3}\n",
    "\\end{bmatrix}\n",
    "\\begin{bmatrix}\n",
    "hf_i' \\\\\n",
    "h^2f_i'' \\\\\n",
    "h^3f_i''' \\\\\n",
    "h^4f_i''''\n",
    "\\end{bmatrix}\n",
    "=\n",
    "\\begin{bmatrix}\n",
    "f_{i+1}-f_i \\\\\n",
    "f_{i+2}-f_i \\\\\n",
    "f_{i+3}-f_i \\\\\n",
    "f_{i+4}-f_i \n",
    "\\end{bmatrix}\n",
    "$$\n",
    "Cuya solución para la segunda derivada es:"
   ]
  },
  {
   "cell_type": "markdown",
   "metadata": {},
   "source": [
    "$$f^{(2)}(x_0)={\\frac{-104(f_{i+1}-f_i)+114(f_{i+2}-f_i)-56(f_{i+3}-f_i)+11(f_{i+4}-f_i)}{12h^{2}}}  $$\n",
    "Lo cual se puede reducir a lo siguiente:"
   ]
  },
  {
   "cell_type": "markdown",
   "metadata": {},
   "source": [
    "$$f^{(2)}(x_0)={\\frac{-104f_{i+1}+114f_{i+2}-56f_{i+3}+11f_{i+4}+35f_i)}{12h^{2}}}  $$\n",
    "Esta ecuación es para la frontera izquiera, para la frontera derecha basta hacer los siguientes cambios $i+1\\rightarrow i-1$, $i+2\\rightarrow i-2$, $i+3\\rightarrow i-3$, $i+4\\rightarrow i-4$, así como utilizarda i=N"
   ]
  },
  {
   "cell_type": "markdown",
   "metadata": {},
   "source": [
    "##### (b) Encuentre una expresión para la derivada numérica de 2o orden para una malla no uniforme. (Se desprecian términos $h^{3}$ en la serie de Taylor)\n",
    "Debido a que queremos la derivada en una malla no uniforme, tendremos dos valores de h, h1 para el lado izquierdo y h2 para el lado derecho, además despreciaremos términos $h^{3}$, consideremos entonces los siguientes expansiones en serie de Taylor alrededor de un punto $x_0$:\n",
    "$$\n",
    "f(x_0-h_1)=f(x_0)-f^{(1)}(x_0)h_1 + \\frac{1}{2}f^{(2)}(x_0)h_1^2 + \\mathcal{O}(h^3)\n",
    "$$\n",
    "\n",
    "$$\n",
    "f(x_0+h_2)=f(x_0)+f^{(1)}(x_0)h_2 + \\frac{1}{2}f^{(2)}(x_0)h_2^2 + \\mathcal{O}(h^3)\n",
    "$$\n",
    "Multiplicamos por $h_2^{2}$ la primera ecuación y por $h_1^{2}$ la segunda y las restamos las ecuaciones anteriores se obtiene:\n"
   ]
  },
  {
   "cell_type": "markdown",
   "metadata": {},
   "source": [
    "$$ h_2^{2}f(x_0-h_1)=h_2^{2}f(x_0)-h_2^{2}f^{(1)}(x_0)h_1+{\\frac{1}{2}}f^{(2)}(x_0)h_1^{2}h_2^{2}+\\mathcal{O}(h^{3})  $$\n",
    "\n",
    "$$\n",
    "h_1^{2}f(x_0+h_2)=h_1^{2}f(x_0)+h_1^{2}f^{(1)}(x_0)h_2 + h_1^{2}\\frac{1}{2}f^{(2)}(x_0)h_2^2 + \\mathcal{O}(h^3)\n",
    "$$"
   ]
  },
  {
   "cell_type": "markdown",
   "metadata": {},
   "source": [
    "Restando las dos ecuaciones anteriores y despreciando los terminos al cubo\n",
    "$$h_1^{2}f(x_0+h_2)-h_2^{2}f(x_0-h_1)=f(x_0)(h_1^{2}-h_2^{2})+f^{(1)}(x_0)(h_2^{2}h_1+h_2h_1^{2}) $$"
   ]
  },
  {
   "cell_type": "markdown",
   "metadata": {},
   "source": [
    "Por lo cual se obtiene que la segunda derivada de 2do orden, en los puntos que no están en la frontera está dados por:\n",
    "$$ f^{(1)}(x_0)={\\frac{h_1^{2}f(x_0+h_2)-h_2^{2}f(x_0-h_1)-f(x_0)(h_1^{2}-h_2^{2})}{h_2^{2}h_1+h_2h_1^{2}}} $$\n",
    "Obteniendo ahora la derivada para los puntos frontera, inciemos con la frontera derecha, por lo cual tomaremos h1=x1-x0, h2=x2-x0.\n",
    "Realizamos la expansión en serie de Taylor:"
   ]
  },
  {
   "cell_type": "markdown",
   "metadata": {},
   "source": [
    "$$\n",
    "f(x_0+h_1)=f(x_0)+f^{(1)}(x_0)h_1 + \\frac{1}{2}f^{(2)}(x_0)h_1^2 + \\mathcal{O}(h^3)\n",
    "$$\n",
    "\n",
    "$$\n",
    "f(x_0+h_2)=f(x_0)+f^{(1)}(x_0)h_2 + \\frac{1}{2}f^{(2)}(x_0)h_2^2 + \\mathcal{O}(h^3)\n",
    "$$\n",
    "Despreciando los terminos al cubo y situando el sistema anterior como un sistema matricial obtenemos que:"
   ]
  },
  {
   "cell_type": "markdown",
   "metadata": {},
   "source": [
    "$$\n",
    "\\begin{bmatrix}\n",
    "h1 & \\frac{h1^{2}}{2}\\\\ \n",
    "h2& \\frac{h2^{2}}{2} \\\\\n",
    "\\end{bmatrix}\n",
    "\\begin{bmatrix}\n",
    "f_i' \\\\\n",
    "f_i'' \n",
    "\\end{bmatrix}\n",
    "=\n",
    "\\begin{bmatrix}\n",
    "f_{i+1}-f_i \\\\\n",
    "f_{i+2}-f_i \n",
    "\\end{bmatrix}\n",
    "$$"
   ]
  },
  {
   "cell_type": "markdown",
   "metadata": {},
   "source": [
    "El cual al resolver para f' se obtiene :\n",
    "$$f'(x_0)=\\frac{-(f_{i+2}-f_i)h_1^{2}+h_2^{2}(f_{i+1}-f_i)}{h_1h_2^{2}-h_1^{2}h_2}    $$"
   ]
  },
  {
   "cell_type": "markdown",
   "metadata": {},
   "source": [
    "Lo que podemos reducir a:\n",
    "$$f'(x_0)=\\frac{-h_1^{2}f_{i+2}+h_2^{2}f_{i+1}+f_i(-h_2^{2}+h_1^{2})}{h_1h_2^{2}-h_1^{2}h_2}   $$\n",
    "Esta ecuación es para la frontera izquiera, para la frontera derecha basta hacer los siguientes cambios $i+1\\rightarrow i-1$, $i+2\\rightarrow i-2$ así como utilizarda i=N"
   ]
  },
  {
   "cell_type": "code",
   "execution_count": 14,
   "metadata": {},
   "outputs": [],
   "source": [
    "## Ya está bien definida :D probada como sinx,cosx,e^(x^2)\n",
    "#Definimos la funcion para la primera derivada en un malla no uniforme\n",
    "def deriv_1(f,x):\n",
    "    f_prima = zeros(len(f))\n",
    "    for i in range (1,len(f)-1):\n",
    "        f_prima[i]=(((x[i]-x[i-1])**2)*(f[i+1])-((x[i+1]-x[i])**2)*f[i-1]-f[i]*((x[i]-x[i-1])**2-(x[i+1]-x[i])**2))/((x[i+1]-x[i])**2*(x[i]-x[i-1])+(x[i]-x[i-1])**2*(x[i]-x[i-1]))\n",
    "    #Obtenemos la derivada en la frontera:\n",
    "        h1=x[1]-x[0]\n",
    "        h2=x[2]-x[0]\n",
    "        \n",
    "        h11=(x[-1]-x[-2])\n",
    "        h22=(x[-1]-x[-3])\n",
    "        ## Iniciamos con la frontera izquierda\n",
    "        f_prima[0]=(-h1**2*f[2]+h2**2*f[1]+f[0]*(-h2**2+h1**2))/(h1*h2**2-h1**2*h2)\n",
    "        #Ahora obtenemos con la frontera derecha\n",
    "        f_prima[-1]=((+h11**2*f[-3])-h22**2*f[-2]+f[-1]*(+h22**2-h1**2))/(h11*h22**2-h11**2*h22)\n",
    "    return f_prima"
   ]
  },
  {
   "cell_type": "code",
   "execution_count": null,
   "metadata": {
    "scrolled": true
   },
   "outputs": [],
   "source": [
    "#Definimos una función que nos modificará una malla uniforme\n",
    "def f(x):\n",
    "    return x\n",
    "\n",
    "#Definimos la malla uniforme con 500 puntos y se le aplica la funcion\n",
    "x = 2*np.pi*f(np.linspace(0.01, 1, 500, endpoint=False))\n",
    "#Definimos la función a la que le aplicaremos la derivida\n",
    "y = x**3\n",
    "#Definimos la primera derivada analítica\n",
    "y_deriv = 3*x**2\n",
    "#Definimos la primera derivada númerica\n",
    "y_deriv_1_num = deriv_1(y,x)\n",
    "\n",
    "#Las graficamos para comparar las primera derivadas y revisar que el código funciona adecuadamente\n",
    "plot(x,y_deriv,label=\"$f'(x)$\")\n",
    "plot(x,y_deriv_1_num,label=\"f'(x) numérica\")\n",
    "legend(),grid()\n",
    "show()\n",
    "##Se aprecia que la derivada analítica se acopla a la derivada númerica"
   ]
  },
  {
   "cell_type": "markdown",
   "metadata": {},
   "source": [
    "##### (c) Encuentre una expresión para la segunda derivada numérica de 2o orden con malla no uniforme. (Se desprecian términos $h^{3}$  en la serie de Taylor)\n",
    "\n",
    "Debido a que queremos la derivada en una malla no uniforme, tendremos dos valores de h, h1 para el lado izquierdo y h2 para el lado derecho, además despreciaremos términos $h^{3}$, consideremos entonces los siguientes expansiones en serie de Taylor alrededor de un punto $x_0$:\n",
    "$$ f(x0-h_1)=f(x_0)-f^{(1)}(x_0)h_1+{1/2}f^{(2)}(x_0)h_1^{2}+\\mathcal{O}(h_1^{3})  $$\n",
    "$$ f(x0+h_2)=f(x_0)+f^{(1)}(x_0)h_2+{1/2}f^{(2)}(x_0)h_2^{2}+\\mathcal{O}(h_2^{3})  $$\n",
    "\n",
    "Multiplicando por $h_1$ y por $h_2$ la segunda y la primera ecuación se obtiene que:"
   ]
  },
  {
   "cell_type": "markdown",
   "metadata": {},
   "source": [
    "$$ h_2f(x0-h_1)=h_2f(x_0)-h_2f^{(1)}(x_0)h_1+{1/2}h_2f^{(2)}(x_0)h_1^{2}+\\mathcal{O}(h_1^{3})  $$\n",
    "$$ h_1f(x0+h_2)=h_1f(x_0)+h_1f^{(1)}(x_0)h_2+{1/2}h_1f^{(2)}(x_0)h_2^{2}+\\mathcal{O}(h_2^{3})  $$"
   ]
  },
  {
   "cell_type": "markdown",
   "metadata": {},
   "source": [
    "Sumando las ecuaciones anteriores y despreciando terminos al cubo:\n",
    "$$h_2f(x_0-h_1)+h_1f(x_0+h_2)=f(x_0)(h_2+h_1)+{\\frac{1}{2}}f^{(2)}(x_0)(h_2h_1^{2}+h_1h_2^{2}) $$"
   ]
  },
  {
   "cell_type": "markdown",
   "metadata": {},
   "source": [
    "$$ f^{(2)}(x_0)=2*\\frac{h_2f(x_0-h_1)+h_1f(x_0+h_2)-f(x_0)(h_2+h_1)}{(h_2h_1^{2}+h_1h_2^{2})} $$"
   ]
  },
  {
   "cell_type": "markdown",
   "metadata": {},
   "source": [
    "Obteniendo ahora la derivada para los puntos frontera, inciemos con la frontera derecha, por lo cual tomaremos h1=x1-x0, h2=x2-x0.\n",
    "Realizamos la expansión en serie de Taylor:\n",
    "$$\n",
    "f(x_0+h_1)=f(x_0)+f^{(1)}(x_0)h_1 + \\frac{1}{2}f^{(2)}(x_0)h_1^2 + \\mathcal{O}(h^3)\n",
    "$$\n",
    "\n",
    "$$\n",
    "f(x_0+h_2)=f(x_0)+f^{(1)}(x_0)h_2 + \\frac{1}{2}f^{(2)}(x_0)h_2^2 + \\mathcal{O}(h^3)\n",
    "$$\n",
    "Despreciando los terminos al cubo y situando el sistema anterior como un sistema matricial obtenemos que:\n",
    "$$\n",
    "\\begin{bmatrix}\n",
    "h1 & \\frac{h1^{2}}{2}\\\\ \n",
    "h2& \\frac{h2^{2}}{2} \\\\\n",
    "\\end{bmatrix}\n",
    "\\begin{bmatrix}\n",
    "f_i' \\\\\n",
    "f_i'' \n",
    "\\end{bmatrix}\n",
    "=\n",
    "\\begin{bmatrix}\n",
    "f_{i+1}-f_i \\\\\n",
    "f_{i+2}-f_i \n",
    "\\end{bmatrix}\n",
    "$$"
   ]
  },
  {
   "cell_type": "markdown",
   "metadata": {},
   "source": [
    "Al resolver el sistema anterior para f'' se obtiene:\n",
    "$$f''(x_0)= 2*{\\frac{(f_{i+2}-f_i)*h_1-(f_{i+1}-f_i)h_2}{h_1h_2^{2}-h_1^{2}h_2}}  $$"
   ]
  },
  {
   "cell_type": "markdown",
   "metadata": {},
   "source": [
    "$$f''(x_0)=2*{\\frac{f_{i+2}h_1-h_2f_{i+1}+f_i(h_2-h_1)}{h_1h_2^{2}-h_1^{2}h_2}}  $$\n",
    "Esta ecuación es para la frontera izquiera, para la frontera derecha basta hacer los siguientes cambios  𝑖+1→𝑖−1 ,  𝑖+2→𝑖−2, así como utilizar i=N.\n",
    "Definiendo ahora una función segunda derivada con una malla no uniforme:"
   ]
  },
  {
   "cell_type": "code",
   "execution_count": 15,
   "metadata": {},
   "outputs": [],
   "source": [
    "### Lista, proboda con x**3, sinx, cosx, sin2x :D \n",
    "##Definimos la funcion segunda derivada para una función f y cuya malla no es uniforme.\n",
    "def deriv_2(f,x):\n",
    "    f_prima2 = zeros(len(f))\n",
    "\n",
    "    for i in range (1,len(f)-1):\n",
    "        h1=x[i]-x[i-1]\n",
    "        h2=x[i+1]-x[i]\n",
    "        f_prima2[i]=(2/(h2*h1**2+h1*h2**2))*(h2*f[i-1]+h1*f[i+1]-f[i]*(h2+h1))\n",
    "    # Obteniendo la derivada en las fronteras\n",
    "    #frontera izquierda\n",
    "        h11=x[1]-x[0]\n",
    "        h22=x[2]-x[0]\n",
    "    ##revisar esta frontera\n",
    "        \n",
    "        f_prima2[0]=(2/(h11*h22**2-h11**2*h22))*(f[2]*h11-h22*f[1]+f[0]*(h22-h11))\n",
    "        \n",
    "     #frontera derecha\n",
    "        h111=x[-1]-x[-2]\n",
    "        h222=x[-1]-x[-3]\n",
    "        f_prima2[-1]=(2/(h111*h222*h222-h111**2*h222))*(f[-3]*h111-h222*f[-2]+f[-1]*(h222-h111))\n",
    "        \n",
    "    return f_prima2"
   ]
  },
  {
   "cell_type": "code",
   "execution_count": null,
   "metadata": {},
   "outputs": [],
   "source": [
    "##Definimos una función f para transformar cualquier malla uniforme a una no uniforme.\n",
    "def f(x):\n",
    "    return x\n",
    "###Escogemos la malla\n",
    "x = f(np.linspace(0, 10, 500) )\n",
    "##Escogemos la funcion f a la cual le aplicaremos la primera derivada\n",
    "y = x**3\n",
    "y_deriv2 = 6*x\n",
    "y_num_deriv_2 = deriv_2(y,x)\n",
    "#plot(x,y,label=\"$f(x)$\")\n",
    "plot(x,y_deriv2,label=\"$f'(x)$\")\n",
    "plot(x,y_num_deriv_2,label=\"f'(x) numérica\")\n",
    "legend(),grid()\n",
    "show()"
   ]
  },
  {
   "cell_type": "markdown",
   "metadata": {},
   "source": [
    "## 2. Utilizando las funciones anteriores calcule el tiempo promedio para una malla con 500 puntos en cadauno de los algoritmos anteriores. De una explicación de las ventajas y desventajas de cada una las funciones antes mencionadas."
   ]
  },
  {
   "cell_type": "markdown",
   "metadata": {},
   "source": [
    "### Iniciamos obteniendo el tiempo con una malla uniforme y con la función segunda derivada de orden 4:"
   ]
  },
  {
   "cell_type": "code",
   "execution_count": null,
   "metadata": {},
   "outputs": [],
   "source": [
    "##Definimos la primera derivada de orden 4 para una función f y cuya malla es uniforme.\n",
    "def deriv_1(f,x):\n",
    "    f_prima1 = zeros(len(f))\n",
    "    h=x[1]-x[0]\n",
    "    for i in range (2,len(f)-2):\n",
    "        f_prima1[i]=(16*f[i+1]+16*f[i-1]-f[i+2]-f[i-2]-30*f[i])/(12*h*h)\n",
    "    # calcular los puntos frontera izquierda\n",
    "        f_prima1[0] = (-(26/3)*f[1]+(19/2)*f[2]-(14/3)*f[3]+(11/12)*f[4]+(35/12)*f[0])/(h*h)\n",
    "        f_prima1[1] = (-(26/3)*f[2]+(19/2)*f[3]-(14/3)*f[4]+(11/12)*f[5]+(35/12)*f[1])/(h*h)\n",
    "        \n",
    "    ##calculo para los dos últimos puntos\n",
    "    ## Falta checar las derivadas en la frontera izquierda\n",
    "        #f_prima1[-1] = (-(26/3)*f[-2]+(19/2)*f[-3]-(14/3)*f[-4]+(11/2)*f[-5]+(35/12)*f[-1])/(h*h)\n",
    "        f_prima1[-2] = (-(26/3)*f[-3]+(19/2)*f[-4]-(14/3)*f[-5]+(11/12)*f*[-6]+(35/12)*f[-2])/(h*h)\n",
    "    return f_prima1"
   ]
  },
  {
   "cell_type": "code",
   "execution_count": null,
   "metadata": {},
   "outputs": [],
   "source": [
    "###Escogemos la malla uniforme\n",
    "x1 = linspace(0,2*pi,500)\n",
    "#Escogemos la función de prueba\n",
    "y1 = sin(x1)\n",
    "y_deriv1 = -sin(x1)\n",
    "y_num_deriv1 = deriv_1(y1,x1)\n",
    "#Graficamos para corroborar que la derivada numerica corresponda con la derivinada analítica\n",
    "plot(x1,y_deriv1,label=\"$f'(x)$\")\n",
    "plot(x1,y_num_deriv1,label=\"f'(x) numérica\")\n",
    "legend(),grid()\n",
    "show()\n",
    "#y_h3 = deriv_h3(y,x)\n",
    "#y_h5 = deriv_h5(y,x)\n",
    "#print(\"Error con h3 =\" , max(abs(y_num_deriv1-y_deriv1)) )"
   ]
  },
  {
   "cell_type": "code",
   "execution_count": null,
   "metadata": {},
   "outputs": [],
   "source": [
    "## Obtenemos el tiempo\n",
    "#Obtenemos el tiempo de la función \n",
    "## %timeit (deriv1(y,x))"
   ]
  },
  {
   "cell_type": "markdown",
   "metadata": {},
   "source": [
    "### Obteniendo el tiempo con una malla no uniforme y con la función primera derivada de orden 2:\n"
   ]
  },
  {
   "cell_type": "code",
   "execution_count": null,
   "metadata": {},
   "outputs": [],
   "source": [
    "#Iniciamos definiendo la función a la cual se le aplicará \n",
    "#la función primera derivada no uniforme:\n",
    "##Definimos una función f para transformar cualquier malla uniforme a una no uniforme.\n",
    "def f(x):\n",
    "    return x\n",
    "#Definimos la malla uniforme con 500 puntos y se le aplica la funcion\n",
    "x = 2*np.pi*f(np.linspace(0.01, 1, 500, endpoint=False))\n",
    "#Definimos la función a la que le aplicaremos la derivida\n",
    "y = cos(x)\n",
    "#Definimos la primera derivada analítica\n",
    "y_deriv = -sin(x)\n",
    "#Definimos la primera derivada númerica\n",
    "y_deriv_1_num = deriv_1(y,x)\n",
    "\n",
    "#Obtenemos el tiempo de la función \n",
    "%timeit (deriv_1(y,x))"
   ]
  },
  {
   "cell_type": "markdown",
   "metadata": {},
   "source": [
    "### Obteniendo el tiempo con una malla no unfirme y con la función segunda derivada de orden 2:"
   ]
  },
  {
   "cell_type": "code",
   "execution_count": null,
   "metadata": {},
   "outputs": [],
   "source": [
    "##Definimos una función f para transformar cualquier malla uniforme a una no uniforme.\n",
    "def f(x):\n",
    "    return x\n",
    "###Escogemos la malla\n",
    "x = f(np.linspace(0, 10, 500) )\n",
    "##Escogemos la funcion f a la cual le aplicaremos la \n",
    "#segunda derivada\n",
    "y = sin(2*x)\n",
    "#Obtenemos el tiempo de la función \n",
    "%timeit (deriv_2(y,x))"
   ]
  },
  {
   "cell_type": "markdown",
   "metadata": {},
   "source": [
    "### 3. Calcule la derivada analítica de las funciones $f(x) = e^{−x^{2}} sin(10x)$ con $x \\in [−5, 5]$ , y $g(x)=-\\frac{2}{x^{6}}+{\\frac{1}{x^{12}}}$ con $x \\in [0.5, 5]$. Realice las gráficas de las funciones y sus primeras dos derivadas. Con las funciones del problema 1, encuentre una malla adecuada para cada caso en el que el error de cálculo sea menor que $10−5$ para cualquier punto. ¿Las mallas tienen el mismo espacio entre puntos de la malla?, explique porque si o porque no."
   ]
  },
  {
   "cell_type": "markdown",
   "metadata": {},
   "source": [
    "Iniciemos obtiendo las derivadas analíticas:\n",
    "$$f'(x)=2e^{-x^{2}}(5\\cos(10x)-x\\sin(10x) $$\n",
    "$$f^{(2)}=e^{-x^{2}}(2(2x^{2}-51)\\sin(10x)-40x\\cos(10x))$$\n",
    "Por otro lado::\n",
    "$$g'(x)={\\frac{12}{x^{-7}}}-{\\frac{12}{x^{13}}} $$ \n",
    "\n",
    "$$g''(x)=-\\frac{84}{x^{-8}}+\\frac{156}{x^{-14}}  $$"
   ]
  },
  {
   "cell_type": "code",
   "execution_count": null,
   "metadata": {},
   "outputs": [],
   "source": [
    "#Se obtuvo el resultado deseado\n",
    "#Obteniendo la primera derivada con malla no uniforme\n",
    "#x1=linspace(-5,-3.2,10)\n",
    "#x2=linspace(-3.1,-3,5)\n",
    "#x= np.concatenate((x1,x2))\n",
    "#def malla (N=100):\n",
    " #   x4=linspace(2+0.0000000001,2+0.0000000002,400)\n",
    "  #  for i in range (3,N):\n",
    "   #      x4 += linspace(2+0.0000000001*i,2+0.0000000001*(1*+i),400)  \n",
    "   # return x4\n",
    "\n",
    "def malla(x):\n",
    "    return x\n",
    "\n",
    "x=malla(linspace(-5,5,1000000))\n",
    "\n",
    "y=exp(-(x**2))*sin(10*x)\n",
    "## La derivada analitica\n",
    "yprima1=2*exp(-(x*x))*(5*cos(10*x)-x*sin(10*x))\n",
    "\n",
    "#yprima2=exp(-(x*x))*(((2*x*x-102)*sin(10*x))-(40*x*cos(10*x)))\n",
    "yprima1_num=deriv_1(y,x)\n",
    "\n",
    "#plot(x,y,label=\"f(x)\")\n",
    "plot(x,yprima1,label=\"f'(x)\")\n",
    "plot(x,yprima1_num,label=\"f'(x) númerica\")\n",
    "legend(),grid()\n",
    "show()\n",
    "print(\"Error de la segunda derivada no uniforme =\" ,\n",
    "      max(abs(yprima1-yprima1_num)) )"
   ]
  },
  {
   "cell_type": "code",
   "execution_count": null,
   "metadata": {},
   "outputs": [],
   "source": [
    "#Obteniendo la segunda derivada\n",
    "#graficando la segunda funcion\n",
    "\n",
    "#x2=linspace(0.500001,0.500002,500)\n",
    "#x3=linspace(1,5,50)\n",
    "\n",
    "def malla1(x):\n",
    "    return exp(1/x**2)#1/x #x**2*sin(100*x)*cos((x**6))*sin(x**2)\n",
    "\n",
    "#x1=malla(linspace(-5,5,2)) con esta malla se logra el resultado esperado, pero es algo tramposo jaja\n",
    "\n",
    "\n",
    "#x1=x#=np.concatenate((x, x2), axis=0)\n",
    "\n",
    "x2=malla1(linspace((1/(log(0.5))**(1/2)),(1/(log(5))**(1/2)),50000))\n",
    "x1=x2+1.5\n",
    "y=exp(-(x1**2))*sin(10*x1)\n",
    "yprima2=exp(-(x1*x1))*(((2*x1*x1-102)*sin(10*x1))-(40*x1*cos(10*x1)))\n",
    "\n",
    "yprima2_num=deriv_2(y,x1)\n",
    "\n",
    "plot(x1,yprima2,label=\"f''(x)\")\n",
    "plot(x1,yprima2_num,label=\"f''(x) númerica\")\n",
    "legend(),grid()\n",
    "show()\n",
    "print(\"Error de la segunda derivada no uniforme =\" ,\n",
    "      max(abs(yprima2-yprima2_num)) )\n",
    "\n",
    "#print(exp(log(5)))"
   ]
  },
  {
   "cell_type": "markdown",
   "metadata": {},
   "source": [
    "### 4. Suponga que tiene la función $sinc(x) =\\frac{ sin(3x)}{x}$ en el intervalo$ [−2π, 2π]$. Calcule la derivada analítica de dicha función y calcule la derivada numérica utilizando una malla uniforme.\n",
    "\n",
    "### (a) Dependiendo del lenguaje de programación que utilice, averig\\\"e la manera de obtener los tiempos de ejecución para calcular la derivada utilizando los algoritmos de 2o y 4o orden.\n",
    "\n",
    "### (b) Comparando con la solución analítica, encuentre el espacio entre los puntos de la malla para que el error máximo en el cálculo sea menor a $10^{-5}$ para cada algoritmo.\n",
    "\n",
    "### (c) Realice la gráfica del “Número de puntos en el espaciamiento de la malla” vs “Tiempo de ejecución” partiendo de un espaciamiento en los puntos en la malla de 0.25 hasta el espaciamiento encontrado en el inciso b). Por o menos considere 15 puntos, es decir 15 mallas deferentes, para realizar este ejercicio.\n",
    "\n",
    "### (d) ¿Qué puede concluir de este experimento numérico?"
   ]
  },
  {
   "cell_type": "markdown",
   "metadata": {},
   "source": [
    "Las derivadas analíticas de la función sinc(x) son:\n",
    "    $$sinc'(x)=\\frac{3x\\cos(3x)-\\sin(3x)}{x^2}  $$"
   ]
  },
  {
   "cell_type": "markdown",
   "metadata": {},
   "source": [
    "$$sinc''(x)=\\frac{(2-9x^{2})\\sin(3x)-6x\\cos(3x)}{x^{3}}$$"
   ]
  },
  {
   "cell_type": "markdown",
   "metadata": {},
   "source": [
    "a) Para obtener los tiempos de ejecución se debe importar:"
   ]
  },
  {
   "cell_type": "code",
   "execution_count": null,
   "metadata": {},
   "outputs": [],
   "source": [
    "import time"
   ]
  },
  {
   "cell_type": "code",
   "execution_count": 4,
   "metadata": {},
   "outputs": [
    {
     "name": "stdout",
     "output_type": "stream",
     "text": [
      "Tiempo de ejecución de la primera derivada:  0.028007030487060547\n"
     ]
    }
   ],
   "source": [
    "##Obteniendo los tiempos de ejecución de la primer derivada en una\n",
    "##malla no uniforme\n",
    "#Iniciamos definiendo la malla donde se evaluara la funcion\n",
    "x = linspace(1,100,500)\n",
    "#Iniciamos a correr el tiempo\n",
    "inicio = time.time()\n",
    "#definimos la función a la que se medirá el tiempo de ejecución\n",
    "deriv_1(sin(3*x)/x,x)\n",
    "#terminamos de contar el tiempo\n",
    "fin = time.time()\n",
    "#Restamos el tiempo inicial y el tiempo final para obtener\n",
    "#el tiempo de ejeción\n",
    "t_i = fin - inicio \n",
    "#Le pedimos al programa que nos imprima el tiempo de ejecución\n",
    "print(\"Tiempo de ejecución de la primera derivada: \",t_i)"
   ]
  },
  {
   "cell_type": "markdown",
   "metadata": {},
   "source": [
    "Obteniendo una mejor aproximación:"
   ]
  },
  {
   "cell_type": "code",
   "execution_count": 3,
   "metadata": {},
   "outputs": [
    {
     "name": "stdout",
     "output_type": "stream",
     "text": [
      "Tiempo de ejecución, más aproximado, de la segunda derivada:   0.01345362663269043\n"
     ]
    }
   ],
   "source": [
    "x = linspace(1,100,500)\n",
    "n_experimentos = 100 ## numero de veces que repitos el ciclo\n",
    "t_is =  zeros(n_experimentos)\n",
    "for i in range(n_experimentos):\n",
    "    inicio = time.time()\n",
    "    deriv_1(sin(3*x)/x,x)\n",
    "    fin = time.time()\n",
    "    t_is[i] = fin - inicio\n",
    "print(\"Tiempo de ejecución, más aproximado, de la primera derivada:  \",mean(t_is))"
   ]
  },
  {
   "cell_type": "markdown",
   "metadata": {},
   "source": [
    "Obteniendo el tiempo de ejecución para la segunda derivada: "
   ]
  },
  {
   "cell_type": "code",
   "execution_count": 7,
   "metadata": {},
   "outputs": [
    {
     "name": "stdout",
     "output_type": "stream",
     "text": [
      "Tiempo de ejecución de la segunda derivada:  0.02985692024230957\n"
     ]
    }
   ],
   "source": [
    "##Obteniendo los tiempos de ejecución de la segunda derivada en una\n",
    "##malla no uniforme\n",
    "#Iniciamos definiendo la malla donde se evaluara la funcion\n",
    "x = linspace(1,100,500)\n",
    "#Iniciamos a correr el tiempo\n",
    "inicio = time.time()\n",
    "#definimos la función a la que se medirá el tiempo de ejecución\n",
    "deriv_2(sin(3*x)/x,x)\n",
    "#terminamos de contar el tiempo\n",
    "fin = time.time()\n",
    "#Restamos el tiempo inicial y el tiempo final para obtener\n",
    "#el tiempo de ejeción\n",
    "t_i = fin - inicio \n",
    "#Le pedimos al programa que nos imprima el tiempo de ejecución\n",
    "print(\"Tiempo de ejecución de la segunda derivada: \",t_i)"
   ]
  },
  {
   "cell_type": "markdown",
   "metadata": {},
   "source": [
    "Obteniendo una mejor aproximación:"
   ]
  },
  {
   "cell_type": "code",
   "execution_count": 8,
   "metadata": {},
   "outputs": [
    {
     "name": "stdout",
     "output_type": "stream",
     "text": [
      "Tiempo de ejecución, más aproximado, de la segunda derivada:   0.008766787052154541\n"
     ]
    }
   ],
   "source": [
    "x = linspace(1,100,500)\n",
    "n_experimentos = 100 ## numero de veces que repitos el ciclo\n",
    "t_is =  zeros(n_experimentos)\n",
    "for i in range(n_experimentos):\n",
    "    inicio = time.time()\n",
    "    deriv_2(sin(3*x)/x,x)\n",
    "    fin = time.time()\n",
    "    t_is[i] = fin - inicio\n",
    "print(\"Tiempo de ejecución, más aproximado, de la segunda derivada:  \",mean(t_is))"
   ]
  },
  {
   "cell_type": "markdown",
   "metadata": {},
   "source": [
    "### Comparando con la solución analítica, encuentre el espacio entre los puntos de la malla para que el error máximo en el cálculo sea menor a 10−5 para cada algoritmo."
   ]
  },
  {
   "cell_type": "code",
   "execution_count": 18,
   "metadata": {},
   "outputs": [
    {
     "data": {
      "image/png": "[encoded data removed]",
      "text/plain": [
       "<Figure size 432x288 with 1 Axes>"
      ]
     },
     "metadata": {
      "needs_background": "light"
     },
     "output_type": "display_data"
    },
    {
     "name": "stdout",
     "output_type": "stream",
     "text": [
      "Error de la segunda derivada no uniforme = 9.026284783608673e-06\n",
      "El espacio entre los puntos es: 0.0016757395138498055\n"
     ]
    }
   ],
   "source": [
    "##Definimos la malla:\n",
    "x=linspace(-2*pi,2*pi,7500)\n",
    "#obteniendo el espacio entre los puntos:\n",
    "h=x[1]-x[0]\n",
    "#definimos la función a la que se le aplicará la primera derivada\n",
    "sinc=sin(3*x)/x\n",
    "## La derivada analitica\n",
    "sincprima1=(3*x*cos(3*x)-sin(3*x))/(x*x)\n",
    "\n",
    "#yprima2=exp(-(x*x))*(((2*x*x-102)*sin(10*x))-(40*x*cos(10*x)))\n",
    "sincprima1_num=deriv_1(sinc,x)\n",
    "\n",
    "#plot(x,y,label=\"f(x)\")\n",
    "plot(x,sincprima1,label=\"sinc'(x)\")\n",
    "plot(x,sincprima1_num,label=\"sinc'(x) númerica\")\n",
    "legend(),grid()\n",
    "show()\n",
    "print(\"Error de la segunda derivada no uniforme =\" ,\n",
    "      max(abs(sincprima1-sincprima1_num)) )\n",
    "print(\"El espacio entre los puntos es:\",h)"
   ]
  },
  {
   "cell_type": "markdown",
   "metadata": {},
   "source": [
    "Veamos el caso para la segunda derivada:"
   ]
  },
  {
   "cell_type": "code",
   "execution_count": 19,
   "metadata": {},
   "outputs": [
    {
     "name": "stderr",
     "output_type": "stream",
     "text": [
      "C:\\Users\\marth\\anaconda3\\lib\\site-packages\\ipykernel_launcher.py:6: RuntimeWarning: invalid value encountered in true_divide\n",
      "  \n",
      "C:\\Users\\marth\\anaconda3\\lib\\site-packages\\ipykernel_launcher.py:8: RuntimeWarning: invalid value encountered in true_divide\n",
      "  \n",
      "C:\\Users\\marth\\anaconda3\\lib\\site-packages\\IPython\\core\\pylabtools.py:132: UserWarning: Creating legend with loc=\"best\" can be slow with large amounts of data.\n",
      "  fig.canvas.print_figure(bytes_io, **kw)\n"
     ]
    },
    {
     "data": {
      "image/png": "[encoded data removed]",
      "text/plain": [
       "<Figure size 432x288 with 1 Axes>"
      ]
     },
     "metadata": {
      "needs_background": "light"
     },
     "output_type": "display_data"
    },
    {
     "name": "stdout",
     "output_type": "stream",
     "text": [
      "Error de la segunda derivada no uniforme = 5.3088466038686555e-05\n",
      "El espacio entre los puntos es: 1.2566395747093395e-05\n"
     ]
    }
   ],
   "source": [
    "#Lista, el error máximo es de 5.3088466038686555e-05\n",
    "##Notese que no se obtuvo la malla de -2pi a 2pi puesto que la funcion es simétrica \n",
    "##en mi intuición se debería de tener el mismo error\n",
    "##Definimos la malla:\n",
    "x=linspace(-2*pi,0,500000)\n",
    "#obteniendo el espacio entre los puntos:\n",
    "h=x[1]-x[0]\n",
    "#definimos la función a la que se le aplicará la primera derivada\n",
    "sinc=sin(3*x)/x\n",
    "## La derivada analitica\n",
    "sincprima2=((2-9*x**2)*sin(3*x)-6*x*cos(3*x))/(x**3)\n",
    "\n",
    "#yprima2=exp(-(x*x))*(((2*x*x-102)*sin(10*x))-(40*x*cos(10*x)))\n",
    "sincprima2_num=deriv_2(sinc,x)\n",
    "\n",
    "#plot(x,y,label=\"f(x)\")\n",
    "plot(x,sincprima2,label=\"sinc'(x)\")\n",
    "plot(x,sincprima2_num,label=\"sinc'(x) númerica\")\n",
    "legend(),grid()\n",
    "show()\n",
    "print(\"Error de la segunda derivada no uniforme =\" ,\n",
    "      max(abs(sincprima2-sincprima2_num)) )\n",
    "print(\"El espacio entre los puntos es:\",h)"
   ]
  },
  {
   "cell_type": "markdown",
   "metadata": {},
   "source": [
    "### Realice la gráfica del “Número de puntos en el espaciamiento de la malla” vs “Tiempo de ejecución” partiendo de un espaciamiento en los puntos en la malla de 0.25 hasta el espaciamiento encontrado en el inciso b). Por o menos considere 15 puntos, es decir 15 mallas deferentes, para realizar este ejercicio."
   ]
  },
  {
   "cell_type": "code",
   "execution_count": 41,
   "metadata": {},
   "outputs": [
    {
     "data": {
      "image/png": "[encoded data removed]",
      "text/plain": [
       "<Figure size 432x288 with 1 Axes>"
      ]
     },
     "metadata": {
      "needs_background": "light"
     },
     "output_type": "display_data"
    }
   ],
   "source": [
    "#Tiempos para la segunda derivada\n",
    "#Definimos el rango de números de malla en que evaluaremos el tiempo\n",
    "num_puntos = linspace(13,500000,5)\n",
    "\n",
    "#print(\"El esparcimiento inicial es:\",hi)\n",
    "#y=linspace(-2*pi,0,500000)\n",
    "tiempos = zeros(len(num_puntos))\n",
    "for n_i in range (len(num_puntos)):\n",
    "    x = linspace(2*pi,-0.00001,int(num_puntos[n_i]))\n",
    "    #h=x[1]-x[0]\n",
    "    #print(h)\n",
    "    n_experimentos = 2\n",
    "    t_is = zeros(n_experimentos)\n",
    "    for i in range(n_experimentos):\n",
    "        inicio = time.time()\n",
    "        deriv_2(sin(3*x)/x,x)\n",
    "        fin = time.time()\n",
    "        t_is[i] = fin-inicio\n",
    "    tiempos[n_i] = mean(t_is)\n",
    "    \n",
    "title(\"Tiempos promedio\")\n",
    "xlabel(\"Número de puntos en la malla\")\n",
    "ylabel(\"Tiempo en [$\\mu s$]\")\n",
    "plot(num_puntos,tiempos*1e6,'o-')\n",
    "grid()\n",
    "show()"
   ]
  },
  {
   "cell_type": "code",
   "execution_count": null,
   "metadata": {},
   "outputs": [],
   "source": [
    "num_puntos = linspace(13,500000,5)\n",
    "\n",
    "#print(\"El esparcimiento inicial es:\",hi)\n",
    "#y=linspace(-2*pi,0,500000)\n",
    "tiempos = zeros(len(num_puntos))\n",
    "for n_i in range (len(num_puntos)):\n",
    "    x = linspace(2*pi,-0.00001,int(num_puntos[n_i]))\n",
    "    #h=x[1]-x[0]\n",
    "    #print(h)\n",
    "    n_experimentos = 2\n",
    "    t_is = zeros(n_experimentos)\n",
    "    for i in range(n_experimentos):\n",
    "        inicio = time.time()\n",
    "        deriv_2(sin(3*x)/x,x)\n",
    "        fin = time.time()\n",
    "        t_is[i] = fin-inicio\n",
    "    tiempos[n_i] = mean(t_is)\n",
    "    \n",
    "title(\"Tiempos promedio\")\n",
    "xlabel(\"Número de puntos en la malla\")\n",
    "ylabel(\"Tiempo en [$\\mu s$]\")\n",
    "plot(num_puntos,tiempos*1e6,'o-')\n",
    "grid()\n",
    "show()"
   ]
  }
 ],
 "metadata": {
  "kernelspec": {
   "display_name": "Python 3",
   "language": "python",
   "name": "python3"
  },
  "language_info": {
   "codemirror_mode": {
    "name": "ipython",
    "version": 3
   },
   "file_extension": ".py",
   "mimetype": "text/x-python",
   "name": "python",
   "nbconvert_exporter": "python",
   "pygments_lexer": "ipython3",
   "version": "3.7.6"
  }
 },
 "nbformat": 4,
 "nbformat_minor": 4
}
