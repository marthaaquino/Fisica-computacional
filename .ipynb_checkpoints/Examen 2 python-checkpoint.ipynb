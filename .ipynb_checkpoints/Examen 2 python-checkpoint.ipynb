{
 "cells": [
  {
   "cell_type": "markdown",
   "metadata": {},
   "source": [
    "# Examen 2\n",
    "## Física computacional\n",
    "#### Aquino Chapa Martha Abril "
   ]
  },
  {
   "cell_type": "markdown",
   "metadata": {},
   "source": [
    "#### 1. Se tiene un oscilador armónico en dos dimensiones (xy) en el que la fuerza está dada por $\\vec{F}= −k\\vec{r}$ y se tiene una fricción $\\vec{f}_{fric} = −γ\\vec{v}$ si $|\\vec{v}| ≤ 1$, pero cuando $|\\vec{v}| > 1$ la fricción es $\\vec{f}_{fric} = −µv^{3/2}\\hat{v}$. Si m = 1, k = 1, γ = 0.1 y µ = 0.2, resuelva las siguientes ejercicios:\n",
    "#### (a) Encuentre las ecuaciones de movimiento en coordenadas cartesianas. No es necesario resolver las ecuaciones.\n",
    "\n",
    "Debido a la segunda ley de Newton, tendremos que la fuerza total del sistema será igual a la masa por la aceleración del sistema. Así se tiene que:\n",
    "$$m\\vec{a}=\\vec{F}+\\vec{f}_{fric}=m\\frac{d^{2}\\vec{r}}{dt^{2}} $$\n",
    "Por lo cual se obtiene que:\n",
    "Si $|\\vec{v}|≤1$\n",
    "$$m\\frac{d^{2}\\vec{r}}{dt^{2}} =−k\\vec{r}−γ\\vec{v}=−k\\vec{r}−γ\\frac{d\\vec{r}}{dt} $$\n",
    "Si $|\\vec{v}|>1$\n",
    "$$m\\frac{d^{2}\\vec{r}}{dt^{2}} =−k\\vec{r}−µv^{3/2}\\hat{v}=−k\\vec{r}−µv^{1/2}\\vec{v}=−k\\vec{r}−µ\\left(\\frac{dr}{dt}\\right)^{1/2}\\frac{d\\vec{r}}{dt}$$\n",
    "\n",
    "Separamos las ecuaciones por componentes cartesianas.\n",
    "\n",
    "En la coordenada $x$:\n",
    "$$ \\begin{cases}\n",
    " m\\frac{d^{2}x}{dt^{2}}=−kx−γ\\frac{dx}{dt} &   si  & |\\vec{v}|≤1 \\\\\n",
    "m\\frac{d^{2}x}{dt^{2}}=−kx−µ\\left(\\left(\\frac{dx}{dt}\\right)^{2}+\\left(\\frac{dy}{dt}\\right)^2\\right)^{1/4}\\frac{dx}{dt} &  si  & |\\vec{v}|>1\n",
    "\\end{cases}$$\n",
    "En el eje y:\n",
    "$$ \\begin{cases}\n",
    " m\\frac{d^{2}y}{dt^{2}}=−ky−γ\\frac{dy}{dt} &   si  & |\\vec{v}|≤1 \\\\\n",
    "m\\frac{d^{2}y}{dt^{2}}=−ky−µ\\left(\\left(\\frac{dx}{dt}\\right)^{2}+\\left(\\frac{dy}{dt}\\right)\\right)^{1/4}\\frac{dy}{dt} &  si  & |\\vec{v}|>1\n",
    "\\end{cases}$$\n",
    "Sustituyendo las constantes obtenemos las ecuaciones de movimiento:\n",
    "En el eje x:\n",
    "$$ \\begin{cases}\n",
    " \\frac{d^{2}x}{dt^{2}}=−x−0.1\\frac{dx}{dt} &   si  & |\\vec{v}|≤1 \\\\\n",
    "\\frac{d^{2}x}{dt^{2}}=−x−0.2\\left(\\left(\\frac{dx}{dt}\\right)^{2}+\\left(\\frac{dy}{dt}\\right)\\right)^{1/4}\\frac{dx}{dt} &  si  & |\\vec{v}|>1\n",
    "\\end{cases}$$\n",
    "En el eje y:\n",
    "$$ \\begin{cases}\n",
    " \\frac{d^{2}y}{dt^{2}}=−y−0.1\\frac{dy}{dt} &   si  & |\\vec{v}|≤1 \\\\\n",
    "\\frac{d^{2}y}{dt^{2}}=−y−0.2\\left(\\left(\\frac{dx}{dt}\\right)^{2}+\\left(\\frac{dy}{dt}\\right)\\right)^{1/4}\\frac{dy}{dt} &  si  & |\\vec{v}|>1\n",
    "\\end{cases}$$\n",
    "Con lo cual podemos escribir el siguiente sistema de ecuaciones diferenciales:\n",
    "$$x'=v_x $$\n",
    "$$y'=v_y$$\n",
    "$$ \\begin{cases}\n",
    " v_x'=−x−0.1v_x &   si  & |\\vec{v}|≤1 \\\\\n",
    "v_x'=−x−0.2\\left(v_x^{2}+v_y^{2}\\right)^{1/4}v_x &  si  & |\\vec{v}|>1\n",
    "\\end{cases}$$\n",
    "En el eje y:\n",
    "$$ \\begin{cases}\n",
    "v'_y=−y−0.1v_y &   si  & |\\vec{v}|≤1 \\\\\n",
    "v_y'=−y−0.2\\left(v_x^{2}+v_y^{2}\\right)^{1/4}v_y &  si  & |\\vec{v}|>1\n",
    "\\end{cases}$$\n",
    "\n",
    "#### (b) Utilice el método de Runge-Kutta de 4to orden para encontrar la solución a las ecuaciones de movimiento en el inciso anterior con condiciones iniciales $\\vec{r}_0 = (0, 1)$ y $\\vec{v}_0 = (\\cos θ,\\sin θ)$, donde $\\theta =\\frac{\\pi n}{6}$ con n = 0, 1, 2, 3, ..., 10, 11.\n",
    "Con las ecuaciones anteriores, podemos crear una función que nos devuelva la información del sistema de ecuaciones diferenciales lineales."
   ]
  },
  {
   "cell_type": "code",
   "execution_count": 4,
   "metadata": {},
   "outputs": [],
   "source": [
    "def sistema1(x,t):\n",
    "    dx=x[2]\n",
    "    dy=x[3]\n",
    "    v=x[2]**2+x[3]**2\n",
    "    if (v)**(1/2)<=1:\n",
    "        dv_x=-x[0]-0.1*x[2]\n",
    "        dv_y=-x[1]-0.1*x[3]\n",
    "    else:\n",
    "        dv_x=-x[0]-0.2*(v**(1/4))*x[2]\n",
    "        dv_y=-x[1]-0.2*(v**(1/4))*x[3]\n",
    "    return [dx,dy,dv_x,dv_y]"
   ]
  },
  {
   "cell_type": "markdown",
   "metadata": {},
   "source": [
    "Ahora, extraemos la función de Runge-Kutta de 4to y 2do orden vistos en clase:"
   ]
  },
  {
   "cell_type": "code",
   "execution_count": 7,
   "metadata": {},
   "outputs": [],
   "source": [
    "def RK_2(edo,x_ini,t):\n",
    "    sol = zeros( (len(t) , len(x_ini)) )\n",
    "    sol[0,:] = x_ini\n",
    "    delta = t[1]-t[0]\n",
    "    for i in range(0,len(t)-1):\n",
    "        k1 = sol[i,:] + 0.5*delta*edo(sol[i,:],t[i])\n",
    "        sol[i+1,:] = sol[i,:] + delta*edo(k1,t[i]+0.5*delta)\n",
    "    return sol\n",
    "\n",
    "def RK_4(edo,x_ini,t):\n",
    "    sol = zeros( (len(t) , len(x_ini)) )\n",
    "    sol[0,:] = x_ini\n",
    "    delta = t[1]-t[0]\n",
    "    for i in range(0,len(t)-1):\n",
    "        k1 = edo(sol[i,:],t[i])\n",
    "        k2 = edo(sol[i,:] + 0.5*delta*k1 , t[i] + 0.5*delta)\n",
    "        k3 = edo(sol[i,:] + 0.5*delta*k2 , t[i] + 0.5*delta)\n",
    "        k4 = edo(sol[i,:] + delta*k2 , t[i] + delta)\n",
    "        sol[i+1,:] = sol[i,:] + (delta/6.0)*(k1 + 2.0*k2 + 2.0*k3 + k4)\n",
    "    return sol\n",
    "def Euler_1(edo,p_ini,t):\n",
    "    sol = zeros((len(t),len(p_ini)))\n",
    "    sol[0,:] = p_ini\n",
    "    delta = t[1]-t[0]\n",
    "    for i in range(0,len(t)-1):\n",
    "        sol[i+1,:] = sol[i,:] + delta*edo(sol[i,:],t[i])\n",
    "    return sol"
   ]
  },
  {
   "cell_type": "code",
   "execution_count": 10,
   "metadata": {},
   "outputs": [],
   "source": [
    "def MovimientoRectilineoUniformementeAcelerado(cond_ini,t):\n",
    "    a = 1\n",
    "    x_dot = cond_ini[3] + a*t\n",
    "    y_dot = 0\n",
    "    z_dot = 0\n",
    "    vx_dot = a\n",
    "    vy_dot = 0\n",
    "    vz_dot = 0\n",
    "    return [x_dot,y_dot,z_dot,vx_dot,vy_dot,vz_dot]\n",
    "def MovimientoRectilineoUniforme(cond_ini,t):\n",
    "        x_dot = cond_ini[3]\n",
    "        y_dot = 0\n",
    "        z_dot = 0\n",
    "        vx_dot = 0\n",
    "        vy_dot = 0\n",
    "        vz_dot = 0\n",
    "        return([x_dot,y_dot,z_dot,vx_dot,vy_dot,vz_dot])"
   ]
  },
  {
   "cell_type": "code",
   "execution_count": null,
   "metadata": {},
   "outputs": [],
   "source": [
    "#Esto es pa graficar, nada más graficas en python\n",
    "#aqui debe ir un linspace\n",
    "t=collect(0:0.01:10)\n",
    "#la condicion inicial, creo que en python debes declarar un array, es decir poner algo así como np.array([a,b,c,d])\n",
    "condicion = [10,0,0,1,0,0]\n",
    "#aqui solo los valores de la posición del MRU analiticamente\n",
    "x=(1/2)*t.^2\n",
    "#graficas el MRU analitico\n",
    "plot(title=\"MRU\")\n",
    "#aqui el numerico, en ka nisma gráfica \n",
    "plot!(t,RK_4(MovimientoRectilineoUniforme,condicion,t)[:,1],label=false)\n",
    "\n",
    "#y aquí hacemos algo similar pero con el acelerado creo...\n",
    "t=collect(0:0.001:10)\n",
    "condicion = [0,0,0,0,0,0]\n",
    "x=(1/2)*t.^2\n",
    "plot(title=\"MRU\")\n",
    "plot!(t,RK_4(MovimientoRectilineoUniformementeAcelerado,condicion,t)[:,1],label=\"RK4\")\n",
    "plot!(t,x,label=\"x^2/2\")\n",
    "plot!(t,Euler_1(MovimientoRectilineoUniformementeAcelerado,condicion,t)[:,1],label=\"Euler\")"
   ]
  },
  {
   "cell_type": "code",
   "execution_count": 11,
   "metadata": {},
   "outputs": [],
   "source": [
    "def deriv_h2(f,x):\n",
    "    f_prima = np.zeros(len(f))\n",
    "    h = x[1] - x[0]\n",
    "    #aquí solo revisa que el rango esté bien, es decir, que recorra todos los elementos para los que sacaras la derivada\n",
    "    for i in range(0,(len(f)-1)):\n",
    "        f_prima[i] = ( f[i+1]-f[i] )/h\n",
    "    # calcular el ultimo punto\n",
    "    f_prima[-1] = - ( f[-1-1]-f[-1] )/h \n",
    "    return f_prima"
   ]
  },
  {
   "cell_type": "code",
   "execution_count": null,
   "metadata": {},
   "outputs": [],
   "source": [
    "#aqui se aplica la funcion derivda. Lae entrada es todos los valores de la funcion, entonces debes meter el arreglo\n",
    "#de lo que desees derivar: velocidad, posición. y también anexarle el arreglo del tiempo\n",
    "deriv_h2(RK_4(MovimientoRectilineoUniformementeAcelerado,condicion,t)[:,4],t)"
   ]
  },
  {
   "cell_type": "markdown",
   "metadata": {},
   "source": [
    "Probamos nuestra solución con n=0, en un tiempo de $[0,50\\pi]$."
   ]
  },
  {
   "cell_type": "code",
   "execution_count": null,
   "metadata": {},
   "outputs": [],
   "source": [
    "#aqui le pones un linspace y pruebas la derivada. Puedes comparar con la derivada analítica para ver que se aproxime bien\n",
    "tiempo1_p=collect(0:0.01:100)\n",
    "sol1_p=RK_4(sistema1,[0.0,1.0,1.0,0.0],tiempo1_p)"
   ]
  },
  {
   "cell_type": "markdown",
   "metadata": {},
   "source": [
    "Ahora, creamos un ciclo para cumplir la condición de que $\\theta=\\frac{\\pi n}{6}$ con n = 0, 1, 2, 3, ..., 10, 11."
   ]
  },
  {
   "cell_type": "code",
   "execution_count": null,
   "metadata": {},
   "outputs": [],
   "source": [
    "#Definimos nuestro conjunto de n's\n",
    "#aqui debes fijarte si el número de puntos cumple con la condicion de que los elementos estén a la distancia requerida\n",
    "n=np.linspace(0,11,50)\n",
    "#Definimos el tiempo donde evaluaremos la función\n",
    "tiempo1=np.linspace(0,100,1000)\n",
    "for i in n:\n",
    "    #aquí vas a aplicar Rungekuta para diversas condiciones iniciales y ocupamos un for para hacerlo más fácil\n",
    "    sol1=RK_4(sistema1,[0.0,1.0,cos(i*π/6),sin(i*π/6)],tiempo1)"
   ]
  },
  {
   "cell_type": "code",
   "execution_count": null,
   "metadata": {},
   "outputs": [],
   "source": [
    "#Ya aquí graficas las soluciones que obtuviste con sus etiquetas de a que condicion inicial corresponde"
   ]
  },
  {
   "cell_type": "markdown",
   "metadata": {},
   "source": [
    "#### (c) Genere una función que calcule la energía para las distintas condiciones iniciales y detenga la simulación cuando esta sea menor al 30 % de su valor inicial. Cabe mencionar que debe hacer su simulación (paso de integración) de tal manera que el error en la trayectoria no tenga variaciones de más del 1 %, es decir se debe asegurar convergencia a la solución con error de a lo mas 1 %.\n",
    "La energía total de nuestro sistema será:\n",
    "$$E=\\frac{m}{2}(v_x^{2}+v_y^{2})+\\frac{k}{2}(x^{2}+y^{2}) $$\n",
    "Sustituimos k=1=m y se tiene que\n",
    "$$E=\\frac{1}{2}(v_x^{2}+v_y^{2}+x^{2}+y^{2}) $$\n",
    "Así, definimos una función que nos de la energía del sistema a cada tiempo:"
   ]
  },
  {
   "cell_type": "code",
   "execution_count": null,
   "metadata": {},
   "outputs": [],
   "source": [
    "def energia(p0,t,EDO):\n",
    "    #Definimos los arreglos donde anexaremos la información sobre las posiciones y velocidades\n",
    "    x=RK_4(EDO,p0,t)[:,0]\n",
    "    y=RK_4(EDO,p0,t)[:,1]\n",
    "    vx=RK_4(EDO,p0,t)[:,2]\n",
    "    vy=RK_4(EDO,p0,t)[:,3]\n",
    "    #Definimos el arreglo donde guardaremos la información de la energía a cada tiempo\n",
    "    U=[]\n",
    "    #Definimos la energía inicial\n",
    "    Uinicial=0.5*(x[0]**2+y[0]**2+vx[0]**2+vy[0]**2)\n",
    "    #Realizamos un ciclo para obtener la energía en los tiempos posteriores\n",
    "    for i in range(0,len(t)):\n",
    "        energia=0.5*(x[i]**2+y[i]**2+vx[i]**2+vy[i]**2)\n",
    "        if energia>=0.3*Uinicial:\n",
    "            #aqui vamos a anexar el valor de energia al arreglo U, fijate que la función push funcione, sino puedes usar un \n",
    "            #append o alguna de python\n",
    "            U.push(energia)\n",
    "        else:\n",
    "            return U\n"
   ]
  },
  {
   "cell_type": "markdown",
   "metadata": {},
   "source": [
    "Ahora, para ver que tenemos una convergencia de 1%, definamos una función que nos de la máxima variación que tiene nuestra solución, esto comparando la solución dada con el método Runge-Kutta de 2do orden y de 4to orden, analizando que se cumpla que el error es menor a 0.01.\n",
    "Se hace uso del método de Runge-Kutta de segundo orden, debido a que si quisieramos utilizar el mismo método (Runge-Kutta de 4to orden), se tendría que cambiar el paso de integración, por lo que los tiempos no necesariamente serían iguales y no se podrían comparar las soluciones correctamente."
   ]
  },
  {
   "cell_type": "code",
   "execution_count": 12,
   "metadata": {},
   "outputs": [],
   "source": [
    "#Pedimos dos soluciones\n",
    "def variacion(sol1,sol2):\n",
    "    #Guardamos la información de la velocidad y posición en arreglos.\n",
    "    x1=sol1[:,0]\n",
    "    y1=sol1[:,1]\n",
    "    vx1=sol1[:,2]\n",
    "    vy1=sol1[:,3]\n",
    "    x2=sol2[:,0]\n",
    "    y2=sol2[:,1]\n",
    "    vx2=sol2[:,2]\n",
    "    vy2=sol2[:,3]\n",
    "    #Definimos los arreglos donde anexaremos la diferencia en soluciones a cada tiempo\n",
    "    difx=[]\n",
    "    dify=[]\n",
    "    difvx=[]\n",
    "    difvy=[]\n",
    "    #Hacemos un ciclo donde iremos anexando las diferencias de cada solución\n",
    "    for i in range(0,len(sol1[:,0])):\n",
    "        difx.push(abs(x1[i]-x2[i]))\n",
    "        dify.push(abs(y2[i]-y1[i]))\n",
    "        difvx.push(abs(vx1[i]-vx2[i]))\n",
    "        difvy.push(abs(vy1[i]-vy2[i]))\n",
    "    #Definimos el arreglo donde anexamos el máximo de cada una de las diferencias en las soluciones en x,y,vx y vy\n",
    "    dif=[max(difx),max(dify),max(difvx),max(difvy)]\n",
    "    #Obtenemos la diferencia máxima\n",
    "    maximum=max(dif)\n",
    "    return maximum"
   ]
  },
  {
   "cell_type": "markdown",
   "metadata": {},
   "source": [
    "Para obtener el tiempo correspondiente a cada energía creamos una función que nos devuelva un arreglo de tiempo"
   ]
  },
  {
   "cell_type": "code",
   "execution_count": 13,
   "metadata": {},
   "outputs": [],
   "source": [
    "def energia_tiempo(p0,t,EDO):\n",
    "    #Definimos los arreglos donde anexaremos la información sobre las posiciones y velocidades\n",
    "    x=RK_4(EDO,p0,t)[:,0]\n",
    "    y=RK_4(EDO,p0,t)[:,1]\n",
    "    vx=RK_4(EDO,p0,t)[:,2]\n",
    "    vy=RK_4(EDO,p0,t)[:,3]\n",
    "    #Definimos el arreglo donde guardaremos la información de la energía a cada tiempo\n",
    "    U=[]\n",
    "    tiempo=[]\n",
    "    #Definimos la energía inicial\n",
    "    Uinicial=0.5*(x[1]**2+y[1]**2+vx[1]**2+vy[1]**2)\n",
    "    #Realizamos un ciclo para obtener la energía en los tiempos posteriores\n",
    "    for i in range(0,len(t)):\n",
    "        energia=0.5*(x[i]**2+y[i]**2+vx[i]**2+vy[i]**2)\n",
    "        if energia>=0.3*Uinicial:\n",
    "            tiempo.push(t[i])\n",
    "        else:\n",
    "            return tiempo\n",
    "   \n"
   ]
  },
  {
   "cell_type": "markdown",
   "metadata": {},
   "source": [
    "Hagamos un ciclo donde se analice la convergencia de las soluciones en un tiempo y notemos si se cumple la solución."
   ]
  },
  {
   "cell_type": "code",
   "execution_count": null,
   "metadata": {},
   "outputs": [],
   "source": [
    "#Definimos nuestro conjunto de n's\n",
    "n=np.linspace(0,11,11)\n",
    "#Definimos el tiempo donde evaluaremos la función\n",
    "tiempo1_v=np.linspace(0,100,1000)\n",
    "#Creamos un arreglo donde anexaremos la convergencia de nuestras soluciones a diferentes i\n",
    "variaciones=[]\n",
    "for i in n: \n",
    "    variaciones.push!(variacion(RK_4(sistema1,[0.0,1.0,cos(i*π/6),sin(i*π/6)],tiempo1_v),RK_2(sistema1,[0.0,1.0,cos(i*π/6),sin(i*π/6)],tiempo1_v)))\n",
    "#Le pedimos a nuestro arrelo que nos regrese la variación convergencia máxima de todas las soluciones.\n",
    "return(max(variaciones))"
   ]
  },
  {
   "cell_type": "markdown",
   "metadata": {},
   "source": [
    "Vemos que se cumple que la convergencia de 0.01, con el tiempo llamado tiempo1_v, así, podemos proceder a obtener la energía para las diferentes n's."
   ]
  },
  {
   "cell_type": "code",
   "execution_count": null,
   "metadata": {},
   "outputs": [],
   "source": [
    "tiempo1_v=np.linspace(0,100,1000)\n",
    "plot(title=\"Energía del sistema\",xlabel=\"t\",ylabel=\"U[N]\")\n",
    "for i in n: \n",
    "    U=(energia([0.0,1.0,cos(i*π/6),sin(i*π/6)],tiempo1_v,sistema1))\n",
    "    t=(energia_tiempo([0.0,1.0,cos(i*π/6),sin(i*π/6)],tiempo1_v,sistema1))\n",
    "    plot!(t,U,label =\"n=$(i)\", lw=1.0)\n",
    "plot!()"
   ]
  },
  {
   "cell_type": "markdown",
   "metadata": {},
   "source": [
    "Al presentar los resultados en una gráfica notamos como la simulación sólo nos devuelve los datos hasta que la energía es menor al 30% de la inicial."
   ]
  },
  {
   "cell_type": "markdown",
   "metadata": {},
   "source": [
    "#### (d) Dibuje las gráficas del momento angular para los casos anteirores en el inciso (1b). \n",
    "Sabemos que el momento angular se define como \n",
    "$$\\vec{L}=\\vec{r}\\times m\\vec{v} $$\n",
    "Sin embargo, debido a que la posición y velocidad se encuentran confinadas en el plano xy, el momento angular será:\n",
    "$$\\vec{L}=m(xv_y-yv_x)\\hat{e}_z $$\n",
    "Entonces dados $x,vy,vx,y$ definimos una función que nos regrese el momento angular. "
   ]
  },
  {
   "cell_type": "code",
   "execution_count": 15,
   "metadata": {},
   "outputs": [],
   "source": [
    "def MomentoAngular(x,y,vx,vy,m=1):\n",
    "    #Definimos un arreglo donde se guardarán los datos del momento\n",
    "    momento=[]\n",
    "    #Realiasamos un ciclo donde se obtendrá el momento en cada tiempo\n",
    "    for i in range(0,len(x)):\n",
    "        momento.push(m*(x[i]*vy[i]-y[i]*vx[i]))\n",
    "    #Le pedimos a la función que nos regrese el arreglo momento\n",
    "    return momento"
   ]
  },
  {
   "cell_type": "markdown",
   "metadata": {},
   "source": [
    "Realizamos un ciclo para gráficar el momento del sistema a cada tiempo para diferentes condiciones iniciales"
   ]
  },
  {
   "cell_type": "code",
   "execution_count": null,
   "metadata": {},
   "outputs": [],
   "source": [
    "tiempo1_v2=np.linspace(0,100,1000)\n",
    "plot(title=\"Momento en el eje z\",xlabel=\"t\",ylabel=\"L_z\")\n",
    "for i in n:\n",
    "    sol=RK_4(sistema1,[0.0,1.0,cos(i*π/6),sin(i*π/6)],tiempo1_v2)\n",
    "    momento=MomentoAngular(sol[:,1],sol[:,2],sol[:,3],sol[:,4])\n",
    "    plot!(tiempo1_v2,momento,label =\"n=$(i)\", lw=1.0)\n",
    "plot!()"
   ]
  },
  {
   "cell_type": "markdown",
   "metadata": {},
   "source": [
    "#### (e) Tome de manera arbitraria alguna condición inicial y dibuje el espacio fase (px, x).\n"
   ]
  },
  {
   "cell_type": "code",
   "execution_count": null,
   "metadata": {},
   "outputs": [],
   "source": [
    "Iniciamos generando nuestra condición inicial random:"
   ]
  },
  {
   "cell_type": "code",
   "execution_count": 18,
   "metadata": {},
   "outputs": [],
   "source": [
    "import random as random\n",
    "condicion=[random.randint(1,10),random.randint(1,10),random.randint(1,10),random.randint(1,10)]"
   ]
  },
  {
   "cell_type": "code",
   "execution_count": null,
   "metadata": {},
   "outputs": [],
   "source": [
    "#Definimos el tiempo\n",
    "tiempo1_v3=np.linspace(0,10*np.pi,100)\n",
    "plot(title=\"Espacio fase\",xlabel=\"x\",ylabel=\"px\")\n",
    "x=RK_4(sistema1,condicion,tiempo1_v3)[:,1]\n",
    "#Debido a que la masa de nuestro sistema es 1 p_x=v_x\n",
    "vx=RK_4(sistema1,condicion,tiempo1_v3)[:,2]\n",
    "plot!(x,vx)"
   ]
  },
  {
   "cell_type": "markdown",
   "metadata": {},
   "source": [
    "#### 2.Suponga que se tiene el sistema como en el problema anterior, pero ahora la partícula tiene carga q>0 y en el origen también se encuentra una partícula de carga q>0.\n",
    "#### Sin considerar la fricción, ¿El sistema puede tener órbitas cerradas? De ser asím encuentre algunas de las órbitas o muestre que el sistema no puede tener este tipo de óbitas. (Apoye sus argumentos con alguna simulación).\n",
    "\n",
    "\n",
    "Debido a la segunda ley de Newton, tendremos que la fuerza total del sistema será igual a la masa por la aceleración del sistema. Además, la fuerza total sobre el sistema será la dada en el ejercicio, sin embargo debido a que tenemos dos partículas cargadas debemos anexarle la fuerza de Coulomb en coordenadas cartesianas.\n",
    "$$m\\vec{a}=\\vec{F}+\\vec{F}_{C}=m\\frac{d^{2}\\vec{r}}{dt^{2}} $$\n",
    "\n",
    "Debido a que una de las cargas se encuentra en el origen, la fuerza de Coulomb se reduce a \n",
    "$$\\vec{F}_{C}=\\frac{q^{2}}{4\\pi\\epsilon_0r^{2}}\\vec{r} $$\n",
    "\n",
    "Así, la expresión final de la fuerza, en el caso sin fricción es:\n",
    "$$m\\vec{a}=-k\\vec{r}+\\frac{q^{2}}{4\\pi\\epsilon_0r^{2}}\\vec{r}=m\\frac{d^{2}\\vec{r}}{dt^{2}}  $$\n",
    "\n",
    "Una manera de pensar un sistema que obedezca a la fuerza dada en el ejercicio es como un resolte que en el origen tiene una carga y en el extremo del resorte posee otra. Recordemos que en caso del resorte, este sí posee orbitas cerradas, sin embargo, al anexarle la fuerza del Coulomb pierde esta sutileza el sistema que lo volvía cerrado en el movimiento. Por lo cual, de manera general, el sistema no puede tener curvas cerradas. Sin embargo, si la fuerza de Coulomb es lo suficientemente pequeña, el cambio en la trayectoria es casi imperceptible con tiempos suficientemente pequeños. Sin embargo, si tomamos tiempo más grandes, esta fuerza actuará por más tiempo en el sistema, generando que las trayectorias no sean cerradas.\n",
    "\n",
    "Tomando cordenadas cartesianas tendremos que: \n",
    "\n",
    "$$m\\vec{a}=-kx\\hat{x}-ky\\hat{y}+\\frac{q^{2}}{4\\pi\\epsilon_0(x^{2}+y^{2})}(x\\hat{x}+y\\hat{y})=m\\frac{d^{2}\\vec{r}}{dt^{2}}$$\n",
    "\n",
    "Por lo cual, separando por componentes obtenemos\n",
    "En x\n",
    "$$m\\frac{d^2x}{dt}=-kx+\\frac{q^{2}x}{4\\pi\\epsilon_0(x^{2}+y^{2})} $$\n",
    "En y\n",
    "$$ m\\frac{d^2y}{dt}=-ky+\\frac{q^{2}y}{4\\pi\\epsilon_0(x^{2}+y^{2})} $$\n",
    "\n",
    "Así, tomando m=1, podemos describir los siguientes sistemas de ecuaciones diferenciales:\n",
    "\n",
    "$$x'=v_x$$\n",
    "$$y'=v_y$$\n",
    "\n",
    "$$v'_x=-kx+\\frac{q^{2}x}{4\\pi\\epsilon_0(x^{2}+y^{2})^{3/2}} $$\n",
    "$$v'_y=-ky+\\frac{q^{2}y}{4\\pi\\epsilon_0(x^{2}+y^{2})^{3/2}} $$\n",
    "Teniendo el sistema de ecuaciónes, con k=1, definamos una función que nos devuelva la información de este sistema:"
   ]
  },
  {
   "cell_type": "code",
   "execution_count": 19,
   "metadata": {},
   "outputs": [],
   "source": [
    "def sistema2_a(x,t):\n",
    "    epsilon=8.85418781e-12\n",
    "    #Definimos la carga del sistema\n",
    "    q=0.0000000000000001\n",
    "    c=q*2/(4*np.pi*epsilon)\n",
    "    dx=x[2]\n",
    "    dy=x[3]\n",
    "    r=x[0]**2+x[1]**2\n",
    "    dv_x=-x[0]+(c)*(x[0]/(r))\n",
    "    dv_y=-x[1]+(c)*(x[1]/(r))\n",
    "    #Notemos que se omitio el if que sí teniamos en el sistema1 debido a que no tenemos la fricción que nos da esa condición\n",
    "    return [dx,dy,dv_x,dv_y]"
   ]
  },
  {
   "cell_type": "markdown",
   "metadata": {},
   "source": [
    "Para confirmar lo dicho sobre el movimiento del sistema, resolvamos las ecuaciones diferenciales con tiempos pequeño, carga q pequeña $q=1x10^{-16}$, la cual tiene sentido físico debido a que es 1000 veces la carga del protón, gráficando la trayectoria."
   ]
  },
  {
   "cell_type": "code",
   "execution_count": null,
   "metadata": {},
   "outputs": [],
   "source": []
  },
  {
   "cell_type": "markdown",
   "metadata": {},
   "source": [
    "Donde tomamos un tiempo de 0 a 2.5$\\pi$ y notamos una órbita cerrada. Sin embargo, tomando las mismas condiciones, pero un tiempo más largo, veamos como se modifica y ya no es cerrada.|"
   ]
  },
  {
   "cell_type": "code",
   "execution_count": null,
   "metadata": {},
   "outputs": [],
   "source": []
  },
  {
   "cell_type": "markdown",
   "metadata": {},
   "source": [
    "Notemos que las condiciones iniciales no afectan de manera trascendente la solución, así, con esto concluimos que nuestro sistema no puede tener órbitas cerradas, sin embargo, bajo condiciones adecuadas, las órbitas de movimiento se pueden aproximar de buena manera a una."
   ]
  },
  {
   "cell_type": "markdown",
   "metadata": {},
   "source": [
    "#### b. Considerando fricción, ¿El sistema puede tener órbitas cerradas?. De ser así, encuentre algunas de estas órbitas o muestre que el sistema no puede tener este tipo de ´orbitas. (Apoye sus argumentos con alguna simulación).\n",
    "\n",
    "Iniciemos analizando la fuerza del sistema para poder obtener el sistema de ecuaciónes lineales diferenciales. En este caso, la fuerza será la obtenida en el inciso anterior, sumando la dada por la fuerza de fricción.\n",
    "\n",
    "Por lo cual se obtiene que:\n",
    "Si $|\\vec{v}|≤1$\n",
    "$$m\\vec{a}=-k\\vec{r}+\\frac{q^{2}}{4\\pi\\epsilon_0r^{2}}\\vec{r}−γ\\frac{d\\vec{r}}{dt} $$\n",
    "Si $|\\vec{v}|>1$\n",
    "$$m\\vec{a}=-k\\vec{r}+\\frac{q^{2}}{4\\pi\\epsilon_0r^{2}}\\vec{r}−µ(\\frac{dr}{dt})^{1/2}\\frac{d\\vec{r}}{dt}$$\n",
    "\n",
    "En este inciso, tenemos un caso similar al de inciso anterior, usando un razonamiento similar, se esperaría que el sistema no tuviera órbitas cerradas, o que se tuviera casi órbitas cerrradas sólo cuando la suma de la fuerza de Coulomb con la fuerza de fricción se aproximaran a cero, y órbitas cerradas cuando la fuerza de Coulomb cancela la fuerza de fricción, sin embargo, como en el caso anterior, esto sólo podría ocurrir para cargas especificas que apoyarán a cancelar la fricción.\n",
    "\n",
    "Por lo que el sistema de ecuaciones es\n",
    "$$x'=v_x $$\n",
    "$$y'=v_y$$\n",
    "$$ \\begin{cases}\n",
    " v_x'=−x−0.1v_x &   si  & |\\vec{v}|≤1 \\\\\n",
    "v_x'=−x−0.2\\left(v_x^{2}+v_y^{2}\\right)^{1/4}v_x+\\frac{q^{2}x}{4\\pi\\epsilon_0(x^{2}+y^{2})^{3/2}} &  si  & |\\vec{v}|>1\n",
    "\\end{cases}$$\n",
    "En el eje y:\n",
    "$$ \\begin{cases}\n",
    "v'_y=−y−0.1v_y &   si  & |\\vec{v}|≤1 \\\\\n",
    "v_y'=−y−0.2\\left(v_x^{2}+v_y^{2}\\right)^{1/4}v_y+\\frac{q^{2}y}{4\\pi\\epsilon_0(x^{2}+y^{2})^{3/2}} &  si  & |\\vec{v}|>1\n",
    "\\end{cases}$$\n",
    "\n",
    "Al analizar el sistema de ecuaciones, para que la fuerza de fricción más la fuerza de Coulomb tiendan a 0,para que el sistema tenga órbitas cerradas,almenos con tiempos pequeños, se tendrían que cumplir las siguientes condiciones:\n",
    "* Que la fuerza de Coulomb cambiará dependiendo de la velocidad.\n",
    "* La carga se tendría que calcular a partir de las ecuaciones diferenciales que se obtienen de igualar o aproximar la fuerza de fricción a la fuerza de Coulomb. \n",
    "Notemos que este último punto nos trae múltiples restricciones, ya que al resolver las ecuaciones para obtener la carga, no se puede asegurar que estas satisfacerían la ecuación diferencial, así, no se cree que el sistema pueda tener órbitas cerradas.\n",
    "\n",
    "Para analizar el comportamiento del sistema, definamos una función que nos da la solución al sistema de ecuaciones diferenciales del sistema."
   ]
  },
  {
   "cell_type": "code",
   "execution_count": 22,
   "metadata": {},
   "outputs": [],
   "source": [
    "def sistema2_b(x,t,q):\n",
    "    epsilon=8.85418781e-12\n",
    "    #q=0.0000000000000001\n",
    "    c=q**2/(4*np.pi*epsilon)\n",
    "    dx=x[2]\n",
    "    dy=x[3]\n",
    "    r=x[0]**2+x[1]**2\n",
    "    v=x[2]**2+x[3]**2\n",
    "    if (v)**(1/2)<=1:\n",
    "        dv_x=-x[0]-0.1*x[2]+((c)*(x[0]/(r)))\n",
    "        dv_y=-x[1]-0.1*x[3]+((c)*(x[1]/(r)))\n",
    "    else:\n",
    "        dv_x=-x[0]-0.2*(v**(1/4))*x[2]+((c)*(x[0]/(r)))\n",
    "        dv_y=-x[1]-0.2*(v**(1/4))*x[3]+((c)*(x[1]/(r)))\n",
    "    return [dx,dy,dv_x,dv_y]"
   ]
  },
  {
   "cell_type": "markdown",
   "metadata": {},
   "source": [
    "Para poder resolver el sistema anterior que depende de la carga es necesario modificar la función de Runge-Kutta para poder evaluar q."
   ]
  },
  {
   "cell_type": "code",
   "execution_count": null,
   "metadata": {},
   "outputs": [],
   "source": [
    "def RK_2(edo,x_ini,t,q):\n",
    "    sol = zeros( (len(t) , len(x_ini)) )\n",
    "    sol[0,:] = x_ini\n",
    "    delta = t[1]-t[0]\n",
    "    for i in range(0,len(t)-1):\n",
    "        k1 = sol[i,:] + 0.5*delta*edo(sol[i,:],t[i],q)\n",
    "        sol[i+1,:] = sol[i,:] + delta*edo(k1,t[i]+0.5*delta,q)\n",
    "    return sol"
   ]
  },
  {
   "cell_type": "code",
   "execution_count": null,
   "metadata": {},
   "outputs": [],
   "source": [
    "cargas=np.array([1e-4,3e-4,8e-4])\n",
    "tiempocargas=np.linspace(0,30,300)\n",
    "plot(title=\"Solución para x y y con diversos valores de q usando RK_2\",xlabel=\"t\",ylabel=\"Posición\")\n",
    "for i in cargas:\n",
    "    x=RK_2_2(sistema2_b,[0.0,0.1,1.0,1.0],tiempocargas,i)[:,0]\n",
    "    y=RK_2_2(sistema2_b,[0.0,0.1,1.0,1.0],tiempocargas,i)[:,1]\n",
    "    plot!(tiempocargas,x,label=\"x,q=$(i)\",lw=1.0)\n",
    "    plot!(tiempocargas,y,label=\"y,q=$(i)\",lw=1.0)\n",
    "plot!()"
   ]
  },
  {
   "cell_type": "markdown",
   "metadata": {},
   "source": [
    "Vemos de la gráfica de arriba que, para algunas cargas, la posición en x o y nunca vuelve a tener el valor que tenía, hasta que llega al reposo. Esto es debido a la fricción y la fuerza de Coulomb del sistema. Con ello confirmamos que sí el sistema tiene una carga q constante, entonces no tendrá órbitas cerradas."
   ]
  },
  {
   "cell_type": "code",
   "execution_count": null,
   "metadata": {},
   "outputs": [],
   "source": []
  },
  {
   "cell_type": "code",
   "execution_count": null,
   "metadata": {},
   "outputs": [],
   "source": []
  },
  {
   "cell_type": "code",
   "execution_count": null,
   "metadata": {},
   "outputs": [],
   "source": []
  },
  {
   "cell_type": "code",
   "execution_count": null,
   "metadata": {},
   "outputs": [],
   "source": []
  }
 ],
 "metadata": {
  "kernelspec": {
   "display_name": "Python 3",
   "language": "python",
   "name": "python3"
  },
  "language_info": {
   "codemirror_mode": {
    "name": "ipython",
    "version": 3
   },
   "file_extension": ".py",
   "mimetype": "text/x-python",
   "name": "python",
   "nbconvert_exporter": "python",
   "pygments_lexer": "ipython3",
   "version": "3.7.6"
  }
 },
 "nbformat": 4,
 "nbformat_minor": 4
}
