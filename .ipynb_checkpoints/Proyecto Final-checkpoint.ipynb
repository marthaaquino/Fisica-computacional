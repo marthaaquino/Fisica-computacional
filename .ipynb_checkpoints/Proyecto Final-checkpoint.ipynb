{
 "cells": [
  {
   "cell_type": "markdown",
   "metadata": {},
   "source": [
    "<div class=\"alert alert-info\" role=\"alert\">\n",
    " <p class =\"lead\"> \n",
    " <h1>Física Computacional </h1>\n",
    " <h2>Proyecto Final</h2>\n",
    " </div>\n",
    "\n",
    "<img src=\"https://upload.wikimedia.org/wikipedia/commons/thumb/1/1f/Julia_Programming_Language_Logo.svg/1200px-Julia_Programming_Language_Logo.svg.png\" style=\"height:42px;display:inline\">\n",
    "\n",
    "holiii\n",
    "\n",
    "> Autores: Aquino Chapa Martha Abril, Castro Granados Celeste y Rizo Franco Samantha"
   ]
  },
  {
   "cell_type": "code",
   "execution_count": 10,
   "metadata": {},
   "outputs": [
    {
     "name": "stderr",
     "output_type": "stream",
     "text": [
      "┌ Info: Recompiling stale cache file C:\\Users\\celsg\\.julia\\compiled\\v1.0\\Plots\\ld3vC.ji for Plots [91a5bcdd-55d7-5caf-9e0b-520d859cae80]\n",
      "└ @ Base loading.jl:1190\n"
     ]
    }
   ],
   "source": [
    "using Plots"
   ]
  },
  {
   "cell_type": "markdown",
   "metadata": {},
   "source": [
    "# Planteamiento del Problema:"
   ]
  },
  {
   "cell_type": "markdown",
   "metadata": {},
   "source": [
    "1. **Ecuaciones del astronauta:**\n",
    "\n",
    "$$ F_{Ax} = - \\frac{G m_L m_A}{(x_A^2 + y_A^2)^{3/2}} x_A - \\frac{G m_A m_H (x_A - x_H)}{((x_A - x_H)^2 + (y_A - y_H)^2)^{3/2}}- f_x $$\n",
    "\n",
    "$$ \\Rightarrow m_A \\ddot{x_A} = - \\frac{G m_L m_A}{(x_A^2 + y_A^2)^{3/2}} x_A - \\frac{G m_A m_H (x_A - x_H)}{((x_A - x_H)^2 + (y_A - y_H)^2)^{3/2}}- f_x $$\n",
    "\n",
    "$$ F_{Ay} = - \\frac{G m_L m_A}{(x_A^2 + y_A^2)^{3/2}} y_A - \\frac{G m_A m_H (y_A - y_H)}{((x_A - x_H)^2 + (y_A - y_H)^2)^{3/2}}- f_y$$\n",
    "\n",
    "$$ \\Rightarrow m_A \\ddot{y_A} = - \\frac{G m_L m_A}{(x_A^2 + y_A^2)^{3/2}} y_A - \\frac{G m_A m_H (y_A - y_H)}{((x_A - x_H)^2 + (y_A - y_H)^2)^{3/2}}- f_y$$\n",
    "\n",
    "Por lo tanto, las ecuaciones son:\n",
    "\n",
    "$$ \\ddot{x_A} = - \\frac{G m_L}{(x_A^2 + y_A^2)^{3/2}} x_A - \\frac{G m_H (x_A - x_H)}{((x_A - x_H)^2 + (y_A - y_H)^2)^{3/2}}- \\frac{f_x}{m_A} $$\n",
    "\n",
    "$$ \\ddot{y_A} = - \\frac{G m_L}{(x_A^2 + y_A^2)^{3/2}} y_A - \\frac{G m_H (y_A - y_H)}{((x_A - x_H)^2 + (y_A - y_H)^2)^{3/2}}- \\frac{f_y}{m_A}$$\n",
    "\n",
    "2. **Ecuaciones de la herramienta:**\n",
    "\n",
    "$$ F_{Hx} = - \\frac{G m_L m_H}{(x_H^2 + y_H^2)^{3/2}} x_H - \\frac{G m_A m_H (x_H - x_A)}{((x_H - x_A)^2 + (y_H - y_A)^2)^{3/2}}+ f_x $$\n",
    "\n",
    "$$ \\Rightarrow m \\ddot{x_H} = - \\frac{G m_L m_H}{(x_H^2 + y_H^2)^{3/2}} x_H - \\frac{G m_A m_H (x_H - x_A)}{((x_H - x_A)^2 + (y_H - y_A)^2)^{3/2}}+ f_x $$\n",
    "\n",
    "\n",
    "$$ F_{Hy} = - \\frac{G m_L m_H}{(x_H^2 + y_H^2)^{3/2}} y_H - \\frac{G m_A m_H (y_H - y_A)}{((x_H - x_A)^2 + (y_H - y_A)^2)^{3/2}}+ f_y$$\n",
    "\n",
    "$$  \\Rightarrow m \\ddot{y_H} = - \\frac{G m_L m_H}{(x_H^2 + y_H^2)^{3/2}} y_H - \\frac{G m_A m_H (y_H - y_A)}{((x_H - x_A)^2 + (y_H - y_A)^2)^{3/2}}+ f_y$$\n",
    "\n",
    "Por lo tanto, las ecuaciones son:\n",
    "\n",
    "$$ \\ddot{x_H} = - \\frac{G m_L}{(x_H^2 + y_H^2)^{3/2}} x_H - \\frac{G m_A (x_H - x_A)}{((x_H - x_A)^2 + (y_H - y_A)^2)^{3/2}}+ \\frac{f_x}{m_H} $$\n",
    "\n",
    "$$ \\ddot{y_H} = - \\frac{G m_L}{(x_H^2 + y_H^2)^{3/2}} y_H - \\frac{G m_A (y_H - y_A)}{((x_H - x_A)^2 + (y_H - y_A)^2)^{3/2}}+\\frac{f_y}{m_H}$$"
   ]
  },
  {
   "cell_type": "code",
   "execution_count": 22,
   "metadata": {},
   "outputs": [
    {
     "data": {
      "text/plain": [
       "orbita_AH (generic function with 1 method)"
      ]
     },
     "execution_count": 22,
     "metadata": {},
     "output_type": "execute_result"
    }
   ],
   "source": [
    "### r=[xA,yA,vxA,vyA,xH,yH,vxH,vyH]\n",
    "function orbita_AH(r,t)\n",
    "    G=6.674e-11 #constante de gravitación universal\n",
    "    mL=7.349e22 #masa de la luna\n",
    "    mA=70 #masa del astronauta\n",
    "    mH=5 #masa de la herramienta\n",
    "    \n",
    "    #definimos la norma de la herramienta\n",
    "    rH=sqrt(r[5]^2 + r[6]^2)\n",
    "    #definimos la norma del astronauta\n",
    "    rA = sqrt(r[1]^2 + r[2]^2)\n",
    "    #definimos la distancia del astronauta a la herramienta\n",
    "    rAH=sqrt((r[1]-r[5])^2 + (r[2]-r[6])^2)\n",
    "    \n",
    "    fx=1 #componente x de la fuerza con que el astronauta empuja a la herramienta\n",
    "    fy=1 #componente y de la fuerza con que el astronauta empuja a la herramienta\n",
    "    \n",
    "    #Ecuaciones del astronauta\n",
    "    vxA = r[3]\n",
    "    dvxA = - (G*mL*r[1])/(rA^3) - (fx/mA) #- #(G*mH*(r[1]-r[5]))/((rAH)^(3))\n",
    "    \n",
    "    vyA = r[4]\n",
    "    dvyA = - (G*mL*r[2])/(rA^3) - (fy/mA) #- (G*mH*(r[2]-r[6]))/((rAH)^(3))\n",
    "    \n",
    "    #Ecuaciones de la herramienta\n",
    "    vxH=r[7]\n",
    "    dvxH=- (G*mL*r[5])/(rH^3) + (fx/mH) #- (G*mA*(r[5]-r[1]))/((rAH)^(3))\n",
    "    \n",
    "    vyH=r[8]\n",
    "    dvyH=- (G*mL*r[6])/(rH^3) + (fx/mH) #- (G*mA*(r[6]-r[2]))/((rAH)^(3))\n",
    "\n",
    "    return([vxA,dvxA,vyA,dvyA,vxH,dvxH,vyH,dvyH])\n",
    "end    "
   ]
  },
  {
   "cell_type": "markdown",
   "metadata": {},
   "source": [
    "**Condiciones iniciales:** $x_{A_0}, y_{A_0}, x_{H_0}, y_{H_0}$"
   ]
  },
  {
   "cell_type": "code",
   "execution_count": 5,
   "metadata": {},
   "outputs": [
    {
     "data": {
      "text/plain": [
       "RK_4 (generic function with 1 method)"
      ]
     },
     "execution_count": 5,
     "metadata": {},
     "output_type": "execute_result"
    }
   ],
   "source": [
    "function RK_4(edo,x_ini,t)\n",
    "    sol = zeros( length(t) , length(x_ini) )\n",
    "    sol[1,:] .= x_ini\n",
    "    δ = t[2]-t[1]\n",
    "    for i in 1:length(t)-1\n",
    "        k1 = edo(sol[i,:],t[i])\n",
    "        k2 = edo(sol[i,:] .+ 0.5*δ.*k1 , t[i] + 0.5*δ)\n",
    "        k3 = edo(sol[i,:] .+ 0.5*δ.*k2 , t[i] + 0.5*δ)\n",
    "        k4 = edo(sol[i,:] .+ δ.*k2 , t[i] + δ)\n",
    "        sol[i+1,:] .= sol[i,:] .+ (δ/6.0).*(k1 .+ 2.0.*k2 .+ 2.0.*k3 .+ k4)\n",
    "    end\n",
    "    return sol\n",
    "end"
   ]
  },
  {
   "cell_type": "markdown",
   "metadata": {},
   "source": []
  },
  {
   "cell_type": "code",
   "execution_count": null,
   "metadata": {},
   "outputs": [],
   "source": [
    "tiempo=collect(1000:1:10000000)\n",
    "cond_inic=[1.73e4, 1.73e4, 1, 1,1.73e4, 1.73e4, 1, 1]\n",
    "solucion_a=RK_4(orbita_AH,cond_inic,tiempo)\n",
    "xA=solucion_a[:,1]\n",
    "yA=solucion_a[:,3]\n",
    "xH=solucion_a[:,5]\n",
    "yH=solucion_a[:,7]\n",
    "\n",
    "plot(title=\"Solución para x(t)\",xlabel=\"t\",ylabel=\"x(t)\")\n",
    "plot!(xA,yA,label=\"Astronauta\",lw=1.0)\n",
    "plot!(xH,yH,label=\"Herramienta\",lw=1.0)\n",
    "#scatter!([0],[0],markershape=:star,markersize=10,markercolor=:yellow,label=\"Estrella\",xlim=(-2,2),ylim=(-2,2))"
   ]
  },
  {
   "cell_type": "code",
   "execution_count": null,
   "metadata": {},
   "outputs": [],
   "source": []
  }
 ],
 "metadata": {
  "kernelspec": {
   "display_name": "Julia 1.5.1",
   "language": "julia",
   "name": "julia-1.5"
  },
  "language_info": {
   "file_extension": ".jl",
   "mimetype": "application/julia",
   "name": "julia",
   "version": "1.5.1"
  }
 },
 "nbformat": 4,
 "nbformat_minor": 4
}
