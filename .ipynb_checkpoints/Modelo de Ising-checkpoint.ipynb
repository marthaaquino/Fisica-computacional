{
 "cells": [
  {
   "cell_type": "markdown",
   "metadata": {},
   "source": [
    "# Modelo de Ising (el problema de Onsanger)\n",
    "\n",
    "Aquino Chapa Martha Abril"
   ]
  },
  {
   "cell_type": "code",
   "execution_count": 100,
   "metadata": {},
   "outputs": [],
   "source": [
    "using Plots"
   ]
  },
  {
   "cell_type": "markdown",
   "metadata": {},
   "source": [
    "Iniciamos creando la red cuadrada de $N^2$ elementos, la cual en vez de presentarla como una matriz será un arreglo\n",
    "\n",
    "$$RED = [1,2,3,...,N^2] $$"
   ]
  },
  {
   "cell_type": "code",
   "execution_count": 2,
   "metadata": {},
   "outputs": [
    {
     "data": {
      "text/plain": [
       "generador_de_red (generic function with 1 method)"
      ]
     },
     "execution_count": 2,
     "metadata": {},
     "output_type": "execute_result"
    }
   ],
   "source": [
    "#función que genera una red considerando de manera aleatoria los elememtos de la red: -1 o 1\n",
    "#El total de elementos en la red es N^2\n",
    "function generador_de_red(N)\n",
    "    return  [rand([-1,1]) for i in 1:N^2]\n",
    "end"
   ]
  },
  {
   "cell_type": "code",
   "execution_count": 115,
   "metadata": {},
   "outputs": [
    {
     "data": {
      "text/plain": [
       "100000000-element Array{Int64,1}:\n",
       "  1\n",
       "  1\n",
       "  1\n",
       " -1\n",
       " -1\n",
       " -1\n",
       "  1\n",
       " -1\n",
       "  1\n",
       "  1\n",
       " -1\n",
       " -1\n",
       " -1\n",
       "  ⋮\n",
       " -1\n",
       "  1\n",
       "  1\n",
       " -1\n",
       "  1\n",
       " -1\n",
       "  1\n",
       "  1\n",
       " -1\n",
       " -1\n",
       "  1\n",
       " -1"
      ]
     },
     "execution_count": 115,
     "metadata": {},
     "output_type": "execute_result"
    }
   ],
   "source": [
    "#Probando la función:\n",
    "N=10000\n",
    "red_prueba = generador_de_red(N)"
   ]
  },
  {
   "cell_type": "markdown",
   "metadata": {},
   "source": [
    "Ahora generamos un arreglo en el cual en cada fila se encuentren acomodados los vecinos del i-ésimo elemento. \n",
    "Estarán acomodados de la siguiente manera: [vecino de arriba, vecino de la derecha, vecino de abajo, vecino de la izquierda]"
   ]
  },
  {
   "cell_type": "code",
   "execution_count": 4,
   "metadata": {},
   "outputs": [
    {
     "data": {
      "text/plain": [
       "generador_indice_vecinos (generic function with 1 method)"
      ]
     },
     "execution_count": 4,
     "metadata": {},
     "output_type": "execute_result"
    }
   ],
   "source": [
    "function generador_indice_vecinos(red)\n",
    "    N² = length(red)\n",
    "    N= Int((N²)^(1/2))\n",
    "    v = zeros(N²,4)\n",
    "    #v[i] = [arriba, derecha, abajo, izquierda]\n",
    "\n",
    "    #Obtenemos el arreglado donde acomodamos los situos de los\n",
    "    \n",
    "    #Iniciamos a indexar los vecinos de arriba\n",
    "    for j in 1:N²\n",
    "        if j+N<= N²\n",
    "            v[j,1] = j+N \n",
    "\n",
    "        elseif j+N>N²\n",
    "            v[j,1] = j - N*(N-1)\n",
    "        end\n",
    "\n",
    "        #Para los vecinos de la derecha\n",
    "        if j%N != 0 \n",
    "            v[j,2] = j+1\n",
    "        elseif j%N ==0\n",
    "            v[j,2] = j-N+1 \n",
    "        end\n",
    "\n",
    "\n",
    "        #Para los vecinos de abajo\n",
    "\n",
    "        if j-N>=1\n",
    "            v[j,3] = j-N\n",
    "        elseif j-N<1\n",
    "            v[j,3] =j+N*(N-1)\n",
    "        end\n",
    "\n",
    "        #Para los vecinos izquierda\n",
    "\n",
    "        if (j-1)%N != 0\n",
    "            v[j,4] = j-1\n",
    "        elseif (j-1)%N ==0\n",
    "            v[j,4] = j+N-1\n",
    "        end\n",
    "    end\n",
    "    #Regresamos el arreglo donde están los vecinos\n",
    "    return v\n",
    "end"
   ]
  },
  {
   "cell_type": "code",
   "execution_count": 116,
   "metadata": {},
   "outputs": [
    {
     "data": {
      "text/plain": [
       "100000000×4 Array{Float64,2}:\n",
       " 10001.0   2.0      9.999e7  10000.0\n",
       " 10002.0   3.0      9.999e7      1.0\n",
       " 10003.0   4.0      9.999e7      2.0\n",
       " 10004.0   5.0      9.999e7      3.0\n",
       " 10005.0   6.0      9.999e7      4.0\n",
       " 10006.0   7.0      9.999e7      5.0\n",
       " 10007.0   8.0      9.999e7      6.0\n",
       " 10008.0   9.0      9.999e7      7.0\n",
       " 10009.0  10.0      9.999e7      8.0\n",
       " 10010.0  11.0      9.999e7      9.0\n",
       " 10011.0  12.0      9.999e7     10.0\n",
       " 10012.0  13.0      9.999e7     11.0\n",
       " 10013.0  14.0      9.999e7     12.0\n",
       "     ⋮                       \n",
       "  9989.0   1.0e8    9.999e7      1.0e8\n",
       "  9990.0   1.0e8    9.999e7      1.0e8\n",
       "  9991.0   1.0e8    9.999e7      1.0e8\n",
       "  9992.0   1.0e8    9.999e7      1.0e8\n",
       "  9993.0   1.0e8    9.999e7      1.0e8\n",
       "  9994.0   1.0e8    9.999e7      1.0e8\n",
       "  9995.0   1.0e8    9.999e7      1.0e8\n",
       "  9996.0   1.0e8    9.999e7      1.0e8\n",
       "  9997.0   1.0e8    9.999e7      1.0e8\n",
       "  9998.0   1.0e8    9.999e7      1.0e8\n",
       "  9999.0   1.0e8    9.999e7      1.0e8\n",
       " 10000.0   9.999e7  9.999e7      1.0e8"
      ]
     },
     "execution_count": 116,
     "metadata": {},
     "output_type": "execute_result"
    }
   ],
   "source": [
    "#Probando la función con la red de prueba\n",
    "vecinos_prueba = generador_indice_vecinos(red_prueba)\n",
    "#print(vecinos_prueba[1,3])"
   ]
  },
  {
   "cell_type": "markdown",
   "metadata": {},
   "source": [
    "En el modelo de Ising considerando geometría cuadrada se tiene que la energía de interacción de un elemento con sus vecinos está dada por\n",
    "$$E= -J\\sum_{<ij>}S_iS_j $$\n",
    "\n",
    "Por lo que la energía de un elemento se calcula con la siguiente función"
   ]
  },
  {
   "cell_type": "markdown",
   "metadata": {},
   "source": [
    "Creamos una función que nos devuelva la energía total del sistema "
   ]
  },
  {
   "cell_type": "code",
   "execution_count": 10,
   "metadata": {},
   "outputs": [
    {
     "data": {
      "text/plain": [
       "energia_total_del_sistema (generic function with 1 method)"
      ]
     },
     "execution_count": 10,
     "metadata": {},
     "output_type": "execute_result"
    }
   ],
   "source": [
    "function energia_total_del_sistema(red_lista,vecinos_lista,J)### Indice del elemento de \n",
    "    #Creamos un arreglo donde iremos sumando cada elemento de la suma de la energía total\n",
    "    energia_total = 0\n",
    "    #Creamos un arreglo que obtenga la energía de interacción de cada elemento de la red\n",
    "    N² = length(red_lista)\n",
    "    for i in 1:N²\n",
    "       #variable donde se anexará el i-ésimo elemento de la suma\n",
    "        energia = 0\n",
    "        #creamos un ciclo que multiplique el spin del elemento de la red por el de sus vecinos\n",
    "        for j in 1:4\n",
    "            #Indice del vecino en la red\n",
    "            k = Int(vecinos_lista[i,j])\n",
    "            energia += red_lista[i]*red_lista[k]\n",
    "        end\n",
    "        energia_total += energia*(-J)\n",
    "    end\n",
    "    return energia_total/2\n",
    "end"
   ]
  },
  {
   "cell_type": "code",
   "execution_count": 112,
   "metadata": {},
   "outputs": [
    {
     "data": {
      "text/plain": [
       "-15.600000000000392"
      ]
     },
     "execution_count": 112,
     "metadata": {},
     "output_type": "execute_result"
    }
   ],
   "source": [
    "energia_total_prueba = energia_total_del_sistema(red_prueba,vecinos_prueba,0.1)"
   ]
  },
  {
   "cell_type": "code",
   "execution_count": 16,
   "metadata": {},
   "outputs": [
    {
     "data": {
      "text/plain": [
       "magnetizacion (generic function with 1 method)"
      ]
     },
     "execution_count": 16,
     "metadata": {},
     "output_type": "execute_result"
    }
   ],
   "source": [
    "function magnetizacion(red_lista)\n",
    "    return sum(red_lista)\n",
    "end"
   ]
  },
  {
   "cell_type": "code",
   "execution_count": 106,
   "metadata": {},
   "outputs": [
    {
     "data": {
      "text/plain": [
       "380"
      ]
     },
     "execution_count": 106,
     "metadata": {},
     "output_type": "execute_result"
    }
   ],
   "source": [
    "magnetizacion_prueba = magnetizacion(red_prueba)"
   ]
  },
  {
   "cell_type": "markdown",
   "metadata": {},
   "source": [
    "### Implementando el algoritmo de Metropolis con Monte Carlo "
   ]
  },
  {
   "cell_type": "markdown",
   "metadata": {},
   "source": [
    "Generando el algoritmo de Metropolis\n",
    "$$\\frac{p_i}{p_j} = e^{(-\\beta(E_i-E_j))} $$\n",
    "y queremos encontrar el estado de equilibrio"
   ]
  },
  {
   "cell_type": "code",
   "execution_count": 84,
   "metadata": {},
   "outputs": [
    {
     "data": {
      "text/plain": [
       "energia_por_elemento (generic function with 2 methods)"
      ]
     },
     "execution_count": 84,
     "metadata": {},
     "output_type": "execute_result"
    }
   ],
   "source": [
    "function energia_por_elemento(elemento,elemento_indice,vecinos_indices,red_lista,J)### Indice del elemento de \n",
    "    #Variable donde se almacenará la suma de los elementos de la energía\n",
    "    energia_suma = 0\n",
    "    for i in 1:4\n",
    "        indice_vecino = Int(vecinos_indices[elemento_indice,i])\n",
    "        energia_suma += elemento*red_lista[indice_vecino]\n",
    "    end\n",
    "    return energia_suma*(-J)\n",
    "    \n",
    "end"
   ]
  },
  {
   "cell_type": "code",
   "execution_count": 98,
   "metadata": {},
   "outputs": [
    {
     "data": {
      "text/plain": [
       "ising (generic function with 2 methods)"
      ]
     },
     "execution_count": 98,
     "metadata": {},
     "output_type": "execute_result"
    }
   ],
   "source": [
    "function ising(red_inicial,energia_inicial,β,J)#Q son las iteraciones máximas\n",
    "    N² = Int(length(red_inicial))\n",
    "    Q=500\n",
    "    red_inicial = copy(red_inicial)\n",
    "    #contando el spin total y la energia total en cada iteracion, omitiendo los de la primera\n",
    "    #iteracion\n",
    "    energias = zeros(Q)\n",
    "    spines = zeros(Q)\n",
    "    vecinos = generador_indice_vecinos(red_inicial)\n",
    "    for i in 1:Q\n",
    "        #Definimos el elemento al que se le cambiará el spin aleatoriamente \n",
    "        x = Int(rand(1:length(red_inicial)))\n",
    "        #sus vecinos \n",
    "        \n",
    "        #cambiamos el spin en la copia de la red\n",
    "        spin_inicial = red_inicial[x] \n",
    "        #La propuesta para cambiar el spin\n",
    "        spin_final = spin_inicial*(-1)\n",
    "        energia_inicial = energia_por_elemento(spin_inicial,Int(x),vecinos,red_inicial,J)\n",
    "    \n",
    "        energia_final = energia_inicial = energia_por_elemento(spin_final,x,vecinos,red_inicial,J)\n",
    "        \n",
    "        dE= energia_final-energia_inicial\n",
    "        if dE<0*(rand()<exp(-β*J*dE))\n",
    "            red_inicial[x] = spin_final\n",
    "        elseif dE<=0\n",
    "            red_inicial[x] = spin_final\n",
    "        end\n",
    "        spines[i] = sum(red_inicial)\n",
    "        energias[i] = energia_total_del_sistema(red_inicial,vecinos,J)\n",
    "    end\n",
    "    return spines, energias\n",
    "end"
   ]
  },
  {
   "cell_type": "code",
   "execution_count": 107,
   "metadata": {},
   "outputs": [
    {
     "data": {
      "text/plain": [
       "([378.0, 380.0, 382.0, 384.0, 382.0, 384.0, 386.0, 384.0, 382.0, 384.0  …  402.0, 400.0, 398.0, 396.0, 398.0, 396.0, 398.0, 400.0, 402.0, 404.0], [-172.0, -172.0, -168.0, -164.0, -172.0, -172.0, -176.0, -172.0, -176.0, -180.0  …  -256.0, -252.0, -248.0, -252.0, -256.0, -260.0, -260.0, -264.0, -260.0, -264.0])"
      ]
     },
     "execution_count": 107,
     "metadata": {},
     "output_type": "execute_result"
    }
   ],
   "source": [
    "spines, energias = ising(red_prueba,energia_total_prueba,1,1)"
   ]
  },
  {
   "cell_type": "code",
   "execution_count": 113,
   "metadata": {},
   "outputs": [
    {
     "data": {
      "image/svg+xml": [
       "<?xml version=\"1.0\" encoding=\"utf-8\"?>\n",
       "<svg xmlns=\"http://www.w3.org/2000/svg\" xmlns:xlink=\"http://www.w3.org/1999/xlink\" width=\"600\" height=\"400\" viewBox=\"0 0 2400 1600\">\n",
       "<defs>\n",
       "  <clipPath id=\"clip880\">\n",
       "    <rect x=\"0\" y=\"0\" width=\"2400\" height=\"1600\"/>\n",
       "  </clipPath>\n",
       "</defs>\n",
       "<path clip-path=\"url(#clip880)\" d=\"\n",
       "M0 1600 L2400 1600 L2400 0 L0 0  Z\n",
       "  \" fill=\"#ffffff\" fill-rule=\"evenodd\" fill-opacity=\"1\"/>\n",
       "<defs>\n",
       "  <clipPath id=\"clip881\">\n",
       "    <rect x=\"480\" y=\"0\" width=\"1681\" height=\"1600\"/>\n",
       "  </clipPath>\n",
       "</defs>\n",
       "<path clip-path=\"url(#clip880)\" d=\"\n",
       "M282.127 1486.45 L2352.76 1486.45 L2352.76 47.2441 L282.127 47.2441  Z\n",
       "  \" fill=\"#ffffff\" fill-rule=\"evenodd\" fill-opacity=\"1\"/>\n",
       "<defs>\n",
       "  <clipPath id=\"clip882\">\n",
       "    <rect x=\"282\" y=\"47\" width=\"2072\" height=\"1440\"/>\n",
       "  </clipPath>\n",
       "</defs>\n",
       "<polyline clip-path=\"url(#clip882)\" style=\"stroke:#000000; stroke-width:2; stroke-opacity:0.1; fill:none\" points=\"\n",
       "  336.815,1486.45 336.815,47.2441 \n",
       "  \"/>\n",
       "<polyline clip-path=\"url(#clip882)\" style=\"stroke:#000000; stroke-width:2; stroke-opacity:0.1; fill:none\" points=\"\n",
       "  728.283,1486.45 728.283,47.2441 \n",
       "  \"/>\n",
       "<polyline clip-path=\"url(#clip882)\" style=\"stroke:#000000; stroke-width:2; stroke-opacity:0.1; fill:none\" points=\"\n",
       "  1119.75,1486.45 1119.75,47.2441 \n",
       "  \"/>\n",
       "<polyline clip-path=\"url(#clip882)\" style=\"stroke:#000000; stroke-width:2; stroke-opacity:0.1; fill:none\" points=\"\n",
       "  1511.22,1486.45 1511.22,47.2441 \n",
       "  \"/>\n",
       "<polyline clip-path=\"url(#clip882)\" style=\"stroke:#000000; stroke-width:2; stroke-opacity:0.1; fill:none\" points=\"\n",
       "  1902.69,1486.45 1902.69,47.2441 \n",
       "  \"/>\n",
       "<polyline clip-path=\"url(#clip882)\" style=\"stroke:#000000; stroke-width:2; stroke-opacity:0.1; fill:none\" points=\"\n",
       "  2294.15,1486.45 2294.15,47.2441 \n",
       "  \"/>\n",
       "<polyline clip-path=\"url(#clip880)\" style=\"stroke:#000000; stroke-width:4; stroke-opacity:1; fill:none\" points=\"\n",
       "  282.127,1486.45 2352.76,1486.45 \n",
       "  \"/>\n",
       "<polyline clip-path=\"url(#clip880)\" style=\"stroke:#000000; stroke-width:4; stroke-opacity:1; fill:none\" points=\"\n",
       "  336.815,1486.45 336.815,1469.18 \n",
       "  \"/>\n",
       "<polyline clip-path=\"url(#clip880)\" style=\"stroke:#000000; stroke-width:4; stroke-opacity:1; fill:none\" points=\"\n",
       "  728.283,1486.45 728.283,1469.18 \n",
       "  \"/>\n",
       "<polyline clip-path=\"url(#clip880)\" style=\"stroke:#000000; stroke-width:4; stroke-opacity:1; fill:none\" points=\"\n",
       "  1119.75,1486.45 1119.75,1469.18 \n",
       "  \"/>\n",
       "<polyline clip-path=\"url(#clip880)\" style=\"stroke:#000000; stroke-width:4; stroke-opacity:1; fill:none\" points=\"\n",
       "  1511.22,1486.45 1511.22,1469.18 \n",
       "  \"/>\n",
       "<polyline clip-path=\"url(#clip880)\" style=\"stroke:#000000; stroke-width:4; stroke-opacity:1; fill:none\" points=\"\n",
       "  1902.69,1486.45 1902.69,1469.18 \n",
       "  \"/>\n",
       "<polyline clip-path=\"url(#clip880)\" style=\"stroke:#000000; stroke-width:4; stroke-opacity:1; fill:none\" points=\"\n",
       "  2294.15,1486.45 2294.15,1469.18 \n",
       "  \"/>\n",
       "<path clip-path=\"url(#clip880)\" d=\"M 0 0 M336.815 1515.64 Q333.204 1515.64 331.375 1519.2 Q329.57 1522.75 329.57 1529.87 Q329.57 1536.98 331.375 1540.55 Q333.204 1544.09 336.815 1544.09 Q340.449 1544.09 342.255 1540.55 Q344.084 1536.98 344.084 1529.87 Q344.084 1522.75 342.255 1519.2 Q340.449 1515.64 336.815 1515.64 M336.815 1511.93 Q342.625 1511.93 345.681 1516.54 Q348.759 1521.12 348.759 1529.87 Q348.759 1538.6 345.681 1543.21 Q342.625 1547.79 336.815 1547.79 Q331.005 1547.79 327.926 1543.21 Q324.871 1538.6 324.871 1529.87 Q324.871 1521.12 327.926 1516.54 Q331.005 1511.93 336.815 1511.93 Z\" fill=\"#000000\" fill-rule=\"evenodd\" fill-opacity=\"1\" /><path clip-path=\"url(#clip880)\" d=\"M 0 0 M691.651 1543.18 L699.29 1543.18 L699.29 1516.82 L690.98 1518.49 L690.98 1514.23 L699.244 1512.56 L703.919 1512.56 L703.919 1543.18 L711.558 1543.18 L711.558 1547.12 L691.651 1547.12 L691.651 1543.18 Z\" fill=\"#000000\" fill-rule=\"evenodd\" fill-opacity=\"1\" /><path clip-path=\"url(#clip880)\" d=\"M 0 0 M726.628 1515.64 Q723.017 1515.64 721.188 1519.2 Q719.382 1522.75 719.382 1529.87 Q719.382 1536.98 721.188 1540.55 Q723.017 1544.09 726.628 1544.09 Q730.262 1544.09 732.067 1540.55 Q733.896 1536.98 733.896 1529.87 Q733.896 1522.75 732.067 1519.2 Q730.262 1515.64 726.628 1515.64 M726.628 1511.93 Q732.438 1511.93 735.493 1516.54 Q738.572 1521.12 738.572 1529.87 Q738.572 1538.6 735.493 1543.21 Q732.438 1547.79 726.628 1547.79 Q720.817 1547.79 717.739 1543.21 Q714.683 1538.6 714.683 1529.87 Q714.683 1521.12 717.739 1516.54 Q720.817 1511.93 726.628 1511.93 Z\" fill=\"#000000\" fill-rule=\"evenodd\" fill-opacity=\"1\" /><path clip-path=\"url(#clip880)\" d=\"M 0 0 M753.641 1515.64 Q750.03 1515.64 748.202 1519.2 Q746.396 1522.75 746.396 1529.87 Q746.396 1536.98 748.202 1540.55 Q750.03 1544.09 753.641 1544.09 Q757.276 1544.09 759.081 1540.55 Q760.91 1536.98 760.91 1529.87 Q760.91 1522.75 759.081 1519.2 Q757.276 1515.64 753.641 1515.64 M753.641 1511.93 Q759.452 1511.93 762.507 1516.54 Q765.586 1521.12 765.586 1529.87 Q765.586 1538.6 762.507 1543.21 Q759.452 1547.79 753.641 1547.79 Q747.831 1547.79 744.753 1543.21 Q741.697 1538.6 741.697 1529.87 Q741.697 1521.12 744.753 1516.54 Q747.831 1511.93 753.641 1511.93 Z\" fill=\"#000000\" fill-rule=\"evenodd\" fill-opacity=\"1\" /><path clip-path=\"url(#clip880)\" d=\"M 0 0 M1087.39 1543.18 L1103.71 1543.18 L1103.71 1547.12 L1081.76 1547.12 L1081.76 1543.18 Q1084.43 1540.43 1089.01 1535.8 Q1093.62 1531.15 1094.8 1529.81 Q1097.04 1527.28 1097.92 1525.55 Q1098.82 1523.79 1098.82 1522.1 Q1098.82 1519.34 1096.88 1517.61 Q1094.96 1515.87 1091.86 1515.87 Q1089.66 1515.87 1087.2 1516.63 Q1084.77 1517.4 1082 1518.95 L1082 1514.23 Q1084.82 1513.09 1087.27 1512.51 Q1089.73 1511.93 1091.76 1511.93 Q1097.13 1511.93 1100.33 1514.62 Q1103.52 1517.31 1103.52 1521.8 Q1103.52 1523.93 1102.71 1525.85 Q1101.93 1527.74 1099.82 1530.34 Q1099.24 1531.01 1096.14 1534.23 Q1093.04 1537.42 1087.39 1543.18 Z\" fill=\"#000000\" fill-rule=\"evenodd\" fill-opacity=\"1\" /><path clip-path=\"url(#clip880)\" d=\"M 0 0 M1118.78 1515.64 Q1115.17 1515.64 1113.34 1519.2 Q1111.53 1522.75 1111.53 1529.87 Q1111.53 1536.98 1113.34 1540.55 Q1115.17 1544.09 1118.78 1544.09 Q1122.41 1544.09 1124.22 1540.55 Q1126.05 1536.98 1126.05 1529.87 Q1126.05 1522.75 1124.22 1519.2 Q1122.41 1515.64 1118.78 1515.64 M1118.78 1511.93 Q1124.59 1511.93 1127.64 1516.54 Q1130.72 1521.12 1130.72 1529.87 Q1130.72 1538.6 1127.64 1543.21 Q1124.59 1547.79 1118.78 1547.79 Q1112.97 1547.79 1109.89 1543.21 Q1106.83 1538.6 1106.83 1529.87 Q1106.83 1521.12 1109.89 1516.54 Q1112.97 1511.93 1118.78 1511.93 Z\" fill=\"#000000\" fill-rule=\"evenodd\" fill-opacity=\"1\" /><path clip-path=\"url(#clip880)\" d=\"M 0 0 M1145.79 1515.64 Q1142.18 1515.64 1140.35 1519.2 Q1138.55 1522.75 1138.55 1529.87 Q1138.55 1536.98 1140.35 1540.55 Q1142.18 1544.09 1145.79 1544.09 Q1149.43 1544.09 1151.23 1540.55 Q1153.06 1536.98 1153.06 1529.87 Q1153.06 1522.75 1151.23 1519.2 Q1149.43 1515.64 1145.79 1515.64 M1145.79 1511.93 Q1151.6 1511.93 1154.66 1516.54 Q1157.74 1521.12 1157.74 1529.87 Q1157.74 1538.6 1154.66 1543.21 Q1151.6 1547.79 1145.79 1547.79 Q1139.98 1547.79 1136.9 1543.21 Q1133.85 1538.6 1133.85 1529.87 Q1133.85 1521.12 1136.9 1516.54 Q1139.98 1511.93 1145.79 1511.93 Z\" fill=\"#000000\" fill-rule=\"evenodd\" fill-opacity=\"1\" /><path clip-path=\"url(#clip880)\" d=\"M 0 0 M1488.45 1528.49 Q1491.81 1529.2 1493.68 1531.47 Q1495.58 1533.74 1495.58 1537.07 Q1495.58 1542.19 1492.06 1544.99 Q1488.54 1547.79 1482.06 1547.79 Q1479.89 1547.79 1477.57 1547.35 Q1475.28 1546.93 1472.83 1546.08 L1472.83 1541.56 Q1474.77 1542.7 1477.09 1543.28 Q1479.4 1543.86 1481.92 1543.86 Q1486.32 1543.86 1488.61 1542.12 Q1490.93 1540.38 1490.93 1537.07 Q1490.93 1534.02 1488.78 1532.31 Q1486.65 1530.57 1482.83 1530.57 L1478.8 1530.57 L1478.8 1526.73 L1483.01 1526.73 Q1486.46 1526.73 1488.29 1525.36 Q1490.12 1523.97 1490.12 1521.38 Q1490.12 1518.72 1488.22 1517.31 Q1486.35 1515.87 1482.83 1515.87 Q1480.91 1515.87 1478.71 1516.29 Q1476.51 1516.7 1473.87 1517.58 L1473.87 1513.42 Q1476.53 1512.68 1478.85 1512.31 Q1481.18 1511.93 1483.24 1511.93 Q1488.57 1511.93 1491.67 1514.37 Q1494.77 1516.77 1494.77 1520.89 Q1494.77 1523.76 1493.13 1525.75 Q1491.48 1527.72 1488.45 1528.49 Z\" fill=\"#000000\" fill-rule=\"evenodd\" fill-opacity=\"1\" /><path clip-path=\"url(#clip880)\" d=\"M 0 0 M1510.65 1515.64 Q1507.04 1515.64 1505.21 1519.2 Q1503.41 1522.75 1503.41 1529.87 Q1503.41 1536.98 1505.21 1540.55 Q1507.04 1544.09 1510.65 1544.09 Q1514.29 1544.09 1516.09 1540.55 Q1517.92 1536.98 1517.92 1529.87 Q1517.92 1522.75 1516.09 1519.2 Q1514.29 1515.64 1510.65 1515.64 M1510.65 1511.93 Q1516.46 1511.93 1519.52 1516.54 Q1522.6 1521.12 1522.6 1529.87 Q1522.6 1538.6 1519.52 1543.21 Q1516.46 1547.79 1510.65 1547.79 Q1504.84 1547.79 1501.76 1543.21 Q1498.71 1538.6 1498.71 1529.87 Q1498.71 1521.12 1501.76 1516.54 Q1504.84 1511.93 1510.65 1511.93 Z\" fill=\"#000000\" fill-rule=\"evenodd\" fill-opacity=\"1\" /><path clip-path=\"url(#clip880)\" d=\"M 0 0 M1537.66 1515.64 Q1534.05 1515.64 1532.22 1519.2 Q1530.42 1522.75 1530.42 1529.87 Q1530.42 1536.98 1532.22 1540.55 Q1534.05 1544.09 1537.66 1544.09 Q1541.3 1544.09 1543.1 1540.55 Q1544.93 1536.98 1544.93 1529.87 Q1544.93 1522.75 1543.1 1519.2 Q1541.3 1515.64 1537.66 1515.64 M1537.66 1511.93 Q1543.47 1511.93 1546.53 1516.54 Q1549.61 1521.12 1549.61 1529.87 Q1549.61 1538.6 1546.53 1543.21 Q1543.47 1547.79 1537.66 1547.79 Q1531.85 1547.79 1528.78 1543.21 Q1525.72 1538.6 1525.72 1529.87 Q1525.72 1521.12 1528.78 1516.54 Q1531.85 1511.93 1537.66 1511.93 Z\" fill=\"#000000\" fill-rule=\"evenodd\" fill-opacity=\"1\" /><path clip-path=\"url(#clip880)\" d=\"M 0 0 M1878.68 1516.63 L1866.88 1535.08 L1878.68 1535.08 L1878.68 1516.63 M1877.45 1512.56 L1883.33 1512.56 L1883.33 1535.08 L1888.26 1535.08 L1888.26 1538.97 L1883.33 1538.97 L1883.33 1547.12 L1878.68 1547.12 L1878.68 1538.97 L1863.08 1538.97 L1863.08 1534.46 L1877.45 1512.56 Z\" fill=\"#000000\" fill-rule=\"evenodd\" fill-opacity=\"1\" /><path clip-path=\"url(#clip880)\" d=\"M 0 0 M1903.33 1515.64 Q1899.72 1515.64 1897.89 1519.2 Q1896.09 1522.75 1896.09 1529.87 Q1896.09 1536.98 1897.89 1540.55 Q1899.72 1544.09 1903.33 1544.09 Q1906.97 1544.09 1908.77 1540.55 Q1910.6 1536.98 1910.6 1529.87 Q1910.6 1522.75 1908.77 1519.2 Q1906.97 1515.64 1903.33 1515.64 M1903.33 1511.93 Q1909.14 1511.93 1912.2 1516.54 Q1915.28 1521.12 1915.28 1529.87 Q1915.28 1538.6 1912.2 1543.21 Q1909.14 1547.79 1903.33 1547.79 Q1897.52 1547.79 1894.44 1543.21 Q1891.39 1538.6 1891.39 1529.87 Q1891.39 1521.12 1894.44 1516.54 Q1897.52 1511.93 1903.33 1511.93 Z\" fill=\"#000000\" fill-rule=\"evenodd\" fill-opacity=\"1\" /><path clip-path=\"url(#clip880)\" d=\"M 0 0 M1930.35 1515.64 Q1926.74 1515.64 1924.91 1519.2 Q1923.1 1522.75 1923.1 1529.87 Q1923.1 1536.98 1924.91 1540.55 Q1926.74 1544.09 1930.35 1544.09 Q1933.98 1544.09 1935.79 1540.55 Q1937.62 1536.98 1937.62 1529.87 Q1937.62 1522.75 1935.79 1519.2 Q1933.98 1515.64 1930.35 1515.64 M1930.35 1511.93 Q1936.16 1511.93 1939.21 1516.54 Q1942.29 1521.12 1942.29 1529.87 Q1942.29 1538.6 1939.21 1543.21 Q1936.16 1547.79 1930.35 1547.79 Q1924.54 1547.79 1921.46 1543.21 Q1918.4 1538.6 1918.4 1529.87 Q1918.4 1521.12 1921.46 1516.54 Q1924.54 1511.93 1930.35 1511.93 Z\" fill=\"#000000\" fill-rule=\"evenodd\" fill-opacity=\"1\" /><path clip-path=\"url(#clip880)\" d=\"M 0 0 M2257.42 1512.56 L2275.77 1512.56 L2275.77 1516.5 L2261.7 1516.5 L2261.7 1524.97 Q2262.72 1524.62 2263.74 1524.46 Q2264.76 1524.27 2265.77 1524.27 Q2271.56 1524.27 2274.94 1527.44 Q2278.32 1530.62 2278.32 1536.03 Q2278.32 1541.61 2274.85 1544.71 Q2271.38 1547.79 2265.06 1547.79 Q2262.88 1547.79 2260.61 1547.42 Q2258.37 1547.05 2255.96 1546.31 L2255.96 1541.61 Q2258.04 1542.74 2260.26 1543.3 Q2262.49 1543.86 2264.96 1543.86 Q2268.97 1543.86 2271.31 1541.75 Q2273.64 1539.64 2273.64 1536.03 Q2273.64 1532.42 2271.31 1530.31 Q2268.97 1528.21 2264.96 1528.21 Q2263.09 1528.21 2261.21 1528.62 Q2259.36 1529.04 2257.42 1529.92 L2257.42 1512.56 Z\" fill=\"#000000\" fill-rule=\"evenodd\" fill-opacity=\"1\" /><path clip-path=\"url(#clip880)\" d=\"M 0 0 M2293.39 1515.64 Q2289.78 1515.64 2287.95 1519.2 Q2286.14 1522.75 2286.14 1529.87 Q2286.14 1536.98 2287.95 1540.55 Q2289.78 1544.09 2293.39 1544.09 Q2297.02 1544.09 2298.83 1540.55 Q2300.66 1536.98 2300.66 1529.87 Q2300.66 1522.75 2298.83 1519.2 Q2297.02 1515.64 2293.39 1515.64 M2293.39 1511.93 Q2299.2 1511.93 2302.26 1516.54 Q2305.33 1521.12 2305.33 1529.87 Q2305.33 1538.6 2302.26 1543.21 Q2299.2 1547.79 2293.39 1547.79 Q2287.58 1547.79 2284.5 1543.21 Q2281.44 1538.6 2281.44 1529.87 Q2281.44 1521.12 2284.5 1516.54 Q2287.58 1511.93 2293.39 1511.93 Z\" fill=\"#000000\" fill-rule=\"evenodd\" fill-opacity=\"1\" /><path clip-path=\"url(#clip880)\" d=\"M 0 0 M2320.4 1515.64 Q2316.79 1515.64 2314.96 1519.2 Q2313.16 1522.75 2313.16 1529.87 Q2313.16 1536.98 2314.96 1540.55 Q2316.79 1544.09 2320.4 1544.09 Q2324.04 1544.09 2325.84 1540.55 Q2327.67 1536.98 2327.67 1529.87 Q2327.67 1522.75 2325.84 1519.2 Q2324.04 1515.64 2320.4 1515.64 M2320.4 1511.93 Q2326.21 1511.93 2329.27 1516.54 Q2332.35 1521.12 2332.35 1529.87 Q2332.35 1538.6 2329.27 1543.21 Q2326.21 1547.79 2320.4 1547.79 Q2314.59 1547.79 2311.51 1543.21 Q2308.46 1538.6 2308.46 1529.87 Q2308.46 1521.12 2311.51 1516.54 Q2314.59 1511.93 2320.4 1511.93 Z\" fill=\"#000000\" fill-rule=\"evenodd\" fill-opacity=\"1\" /><polyline clip-path=\"url(#clip882)\" style=\"stroke:#000000; stroke-width:2; stroke-opacity:0.1; fill:none\" points=\"\n",
       "  282.127,1372.32 2352.76,1372.32 \n",
       "  \"/>\n",
       "<polyline clip-path=\"url(#clip882)\" style=\"stroke:#000000; stroke-width:2; stroke-opacity:0.1; fill:none\" points=\"\n",
       "  282.127,1005.37 2352.76,1005.37 \n",
       "  \"/>\n",
       "<polyline clip-path=\"url(#clip882)\" style=\"stroke:#000000; stroke-width:2; stroke-opacity:0.1; fill:none\" points=\"\n",
       "  282.127,638.411 2352.76,638.411 \n",
       "  \"/>\n",
       "<polyline clip-path=\"url(#clip882)\" style=\"stroke:#000000; stroke-width:2; stroke-opacity:0.1; fill:none\" points=\"\n",
       "  282.127,271.455 2352.76,271.455 \n",
       "  \"/>\n",
       "<polyline clip-path=\"url(#clip880)\" style=\"stroke:#000000; stroke-width:4; stroke-opacity:1; fill:none\" points=\"\n",
       "  282.127,1486.45 282.127,47.2441 \n",
       "  \"/>\n",
       "<polyline clip-path=\"url(#clip880)\" style=\"stroke:#000000; stroke-width:4; stroke-opacity:1; fill:none\" points=\"\n",
       "  282.127,1372.32 306.975,1372.32 \n",
       "  \"/>\n",
       "<polyline clip-path=\"url(#clip880)\" style=\"stroke:#000000; stroke-width:4; stroke-opacity:1; fill:none\" points=\"\n",
       "  282.127,1005.37 306.975,1005.37 \n",
       "  \"/>\n",
       "<polyline clip-path=\"url(#clip880)\" style=\"stroke:#000000; stroke-width:4; stroke-opacity:1; fill:none\" points=\"\n",
       "  282.127,638.411 306.975,638.411 \n",
       "  \"/>\n",
       "<polyline clip-path=\"url(#clip880)\" style=\"stroke:#000000; stroke-width:4; stroke-opacity:1; fill:none\" points=\"\n",
       "  282.127,271.455 306.975,271.455 \n",
       "  \"/>\n",
       "<path clip-path=\"url(#clip880)\" d=\"M 0 0 M69.6263 1377.42 Q72.9827 1378.14 74.8577 1380.4 Q76.7559 1382.67 76.7559 1386.01 Q76.7559 1391.12 73.2374 1393.92 Q69.7189 1396.72 63.2374 1396.72 Q61.0615 1396.72 58.7467 1396.28 Q56.4551 1395.87 54.0014 1395.01 L54.0014 1390.5 Q55.9458 1391.63 58.2606 1392.21 Q60.5754 1392.79 63.0985 1392.79 Q67.4967 1392.79 69.7883 1391.05 Q72.1031 1389.32 72.1031 1386.01 Q72.1031 1382.95 69.9504 1381.24 Q67.8207 1379.5 64.0013 1379.5 L59.9736 1379.5 L59.9736 1375.66 L64.1865 1375.66 Q67.6356 1375.66 69.4642 1374.29 Q71.2929 1372.9 71.2929 1370.31 Q71.2929 1367.65 69.3948 1366.24 Q67.5198 1364.8 64.0013 1364.8 Q62.08 1364.8 59.881 1365.22 Q57.6819 1365.64 55.043 1366.52 L55.043 1362.35 Q57.7051 1361.61 60.0199 1361.24 Q62.3578 1360.87 64.418 1360.87 Q69.742 1360.87 72.8439 1363.3 Q75.9457 1365.7 75.9457 1369.83 Q75.9457 1372.7 74.3022 1374.69 Q72.6587 1376.65 69.6263 1377.42 Z\" fill=\"#000000\" fill-rule=\"evenodd\" fill-opacity=\"1\" /><path clip-path=\"url(#clip880)\" d=\"M 0 0 M81.8253 1390.17 L86.7095 1390.17 L86.7095 1396.05 L81.8253 1396.05 L81.8253 1390.17 Z\" fill=\"#000000\" fill-rule=\"evenodd\" fill-opacity=\"1\" /><path clip-path=\"url(#clip880)\" d=\"M 0 0 M101.779 1379.64 Q98.4456 1379.64 96.5243 1381.42 Q94.6262 1383.2 94.6262 1386.33 Q94.6262 1389.45 96.5243 1391.24 Q98.4456 1393.02 101.779 1393.02 Q105.112 1393.02 107.033 1391.24 Q108.955 1389.43 108.955 1386.33 Q108.955 1383.2 107.033 1381.42 Q105.135 1379.64 101.779 1379.64 M97.103 1377.65 Q94.0937 1376.91 92.4039 1374.85 Q90.7373 1372.79 90.7373 1369.83 Q90.7373 1365.68 93.6771 1363.27 Q96.64 1360.87 101.779 1360.87 Q106.941 1360.87 109.881 1363.27 Q112.82 1365.68 112.82 1369.83 Q112.82 1372.79 111.131 1374.85 Q109.464 1376.91 106.478 1377.65 Q109.858 1378.44 111.733 1380.73 Q113.631 1383.02 113.631 1386.33 Q113.631 1391.35 110.552 1394.04 Q107.496 1396.72 101.779 1396.72 Q96.0613 1396.72 92.9826 1394.04 Q89.9271 1391.35 89.9271 1386.33 Q89.9271 1383.02 91.8252 1380.73 Q93.7234 1378.44 97.103 1377.65 M95.39 1370.27 Q95.39 1372.95 97.0567 1374.45 Q98.7465 1375.96 101.779 1375.96 Q104.788 1375.96 106.478 1374.45 Q108.191 1372.95 108.191 1370.27 Q108.191 1367.58 106.478 1366.08 Q104.788 1364.57 101.779 1364.57 Q98.7465 1364.57 97.0567 1366.08 Q95.39 1367.58 95.39 1370.27 Z\" fill=\"#000000\" fill-rule=\"evenodd\" fill-opacity=\"1\" /><path clip-path=\"url(#clip880)\" d=\"M 0 0 M146.871 1370.59 L136.293 1381.21 L146.871 1391.79 L144.117 1394.59 L133.492 1383.97 L122.867 1394.59 L120.135 1391.79 L130.691 1381.21 L120.135 1370.59 L122.867 1367.79 L133.492 1378.41 L144.117 1367.79 L146.871 1370.59 Z\" fill=\"#000000\" fill-rule=\"evenodd\" fill-opacity=\"1\" /><path clip-path=\"url(#clip880)\" d=\"M 0 0 M152.751 1392.12 L160.39 1392.12 L160.39 1365.75 L152.08 1367.42 L152.08 1363.16 L160.343 1361.49 L165.019 1361.49 L165.019 1392.12 L172.658 1392.12 L172.658 1396.05 L152.751 1396.05 L152.751 1392.12 Z\" fill=\"#000000\" fill-rule=\"evenodd\" fill-opacity=\"1\" /><path clip-path=\"url(#clip880)\" d=\"M 0 0 M187.728 1364.57 Q184.116 1364.57 182.288 1368.14 Q180.482 1371.68 180.482 1378.81 Q180.482 1385.91 182.288 1389.48 Q184.116 1393.02 187.728 1393.02 Q191.362 1393.02 193.167 1389.48 Q194.996 1385.91 194.996 1378.81 Q194.996 1371.68 193.167 1368.14 Q191.362 1364.57 187.728 1364.57 M187.728 1360.87 Q193.538 1360.87 196.593 1365.47 Q199.672 1370.06 199.672 1378.81 Q199.672 1387.53 196.593 1392.14 Q193.538 1396.72 187.728 1396.72 Q181.917 1396.72 178.839 1392.14 Q175.783 1387.53 175.783 1378.81 Q175.783 1370.06 178.839 1365.47 Q181.917 1360.87 187.728 1360.87 Z\" fill=\"#000000\" fill-rule=\"evenodd\" fill-opacity=\"1\" /><path clip-path=\"url(#clip880)\" d=\"M 0 0 M199.672 1354.97 L223.783 1354.97 L223.783 1358.17 L199.672 1358.17 L199.672 1354.97 Z\" fill=\"#000000\" fill-rule=\"evenodd\" fill-opacity=\"1\" /><path clip-path=\"url(#clip880)\" d=\"M 0 0 M238.341 1343.87 L228.749 1358.86 L238.341 1358.86 L238.341 1343.87 M237.344 1340.56 L242.121 1340.56 L242.121 1358.86 L246.127 1358.86 L246.127 1362.02 L242.121 1362.02 L242.121 1368.64 L238.341 1368.64 L238.341 1362.02 L225.664 1362.02 L225.664 1358.35 L237.344 1340.56 Z\" fill=\"#000000\" fill-rule=\"evenodd\" fill-opacity=\"1\" /><path clip-path=\"url(#clip880)\" d=\"M 0 0 M67.08 998.609 L55.2745 1017.06 L67.08 1017.06 L67.08 998.609 M65.8532 994.535 L71.7328 994.535 L71.7328 1017.06 L76.6633 1017.06 L76.6633 1020.95 L71.7328 1020.95 L71.7328 1029.1 L67.08 1029.1 L67.08 1020.95 L51.4782 1020.95 L51.4782 1016.43 L65.8532 994.535 Z\" fill=\"#000000\" fill-rule=\"evenodd\" fill-opacity=\"1\" /><path clip-path=\"url(#clip880)\" d=\"M 0 0 M81.7327 1023.22 L86.6169 1023.22 L86.6169 1029.1 L81.7327 1029.1 L81.7327 1023.22 Z\" fill=\"#000000\" fill-rule=\"evenodd\" fill-opacity=\"1\" /><path clip-path=\"url(#clip880)\" d=\"M 0 0 M101.686 997.614 Q98.0752 997.614 96.2465 1001.18 Q94.441 1004.72 94.441 1011.85 Q94.441 1018.96 96.2465 1022.52 Q98.0752 1026.06 101.686 1026.06 Q105.321 1026.06 107.126 1022.52 Q108.955 1018.96 108.955 1011.85 Q108.955 1004.72 107.126 1001.18 Q105.321 997.614 101.686 997.614 M101.686 993.91 Q107.496 993.91 110.552 998.517 Q113.631 1003.1 113.631 1011.85 Q113.631 1020.58 110.552 1025.18 Q107.496 1029.77 101.686 1029.77 Q95.8761 1029.77 92.7975 1025.18 Q89.7419 1020.58 89.7419 1011.85 Q89.7419 1003.1 92.7975 998.517 Q95.8761 993.91 101.686 993.91 Z\" fill=\"#000000\" fill-rule=\"evenodd\" fill-opacity=\"1\" /><path clip-path=\"url(#clip880)\" d=\"M 0 0 M146.871 1003.63 L136.293 1014.26 L146.871 1024.84 L144.117 1027.64 L133.492 1017.01 L122.867 1027.64 L120.135 1024.84 L130.691 1014.26 L120.135 1003.63 L122.867 1000.83 L133.492 1011.46 L144.117 1000.83 L146.871 1003.63 Z\" fill=\"#000000\" fill-rule=\"evenodd\" fill-opacity=\"1\" /><path clip-path=\"url(#clip880)\" d=\"M 0 0 M152.751 1025.16 L160.39 1025.16 L160.39 998.795 L152.08 1000.46 L152.08 996.202 L160.343 994.535 L165.019 994.535 L165.019 1025.16 L172.658 1025.16 L172.658 1029.1 L152.751 1029.1 L152.751 1025.16 Z\" fill=\"#000000\" fill-rule=\"evenodd\" fill-opacity=\"1\" /><path clip-path=\"url(#clip880)\" d=\"M 0 0 M187.728 997.614 Q184.116 997.614 182.288 1001.18 Q180.482 1004.72 180.482 1011.85 Q180.482 1018.96 182.288 1022.52 Q184.116 1026.06 187.728 1026.06 Q191.362 1026.06 193.167 1022.52 Q194.996 1018.96 194.996 1011.85 Q194.996 1004.72 193.167 1001.18 Q191.362 997.614 187.728 997.614 M187.728 993.91 Q193.538 993.91 196.593 998.517 Q199.672 1003.1 199.672 1011.85 Q199.672 1020.58 196.593 1025.18 Q193.538 1029.77 187.728 1029.77 Q181.917 1029.77 178.839 1025.18 Q175.783 1020.58 175.783 1011.85 Q175.783 1003.1 178.839 998.517 Q181.917 993.91 187.728 993.91 Z\" fill=\"#000000\" fill-rule=\"evenodd\" fill-opacity=\"1\" /><path clip-path=\"url(#clip880)\" d=\"M 0 0 M199.672 988.012 L223.783 988.012 L223.783 991.209 L199.672 991.209 L199.672 988.012 Z\" fill=\"#000000\" fill-rule=\"evenodd\" fill-opacity=\"1\" /><path clip-path=\"url(#clip880)\" d=\"M 0 0 M238.341 976.915 L228.749 991.905 L238.341 991.905 L238.341 976.915 M237.344 973.605 L242.121 973.605 L242.121 991.905 L246.127 991.905 L246.127 995.065 L242.121 995.065 L242.121 1001.68 L238.341 1001.68 L238.341 995.065 L225.664 995.065 L225.664 991.397 L237.344 973.605 Z\" fill=\"#000000\" fill-rule=\"evenodd\" fill-opacity=\"1\" /><path clip-path=\"url(#clip880)\" d=\"M 0 0 M68.6772 631.653 L56.8717 650.102 L68.6772 650.102 L68.6772 631.653 M67.4504 627.579 L73.33 627.579 L73.33 650.102 L78.2605 650.102 L78.2605 653.991 L73.33 653.991 L73.33 662.139 L68.6772 662.139 L68.6772 653.991 L53.0754 653.991 L53.0754 649.477 L67.4504 627.579 Z\" fill=\"#000000\" fill-rule=\"evenodd\" fill-opacity=\"1\" /><path clip-path=\"url(#clip880)\" d=\"M 0 0 M83.3299 656.259 L88.2141 656.259 L88.2141 662.139 L83.3299 662.139 L83.3299 656.259 Z\" fill=\"#000000\" fill-rule=\"evenodd\" fill-opacity=\"1\" /><path clip-path=\"url(#clip880)\" d=\"M 0 0 M97.3113 658.204 L113.631 658.204 L113.631 662.139 L91.6864 662.139 L91.6864 658.204 Q94.3484 655.449 98.9317 650.819 Q103.538 646.167 104.719 644.824 Q106.964 642.301 107.844 640.565 Q108.746 638.806 108.746 637.116 Q108.746 634.361 106.802 632.625 Q104.881 630.889 101.779 630.889 Q99.5798 630.889 97.1261 631.653 Q94.6956 632.417 91.9178 633.968 L91.9178 629.245 Q94.7419 628.111 97.1956 627.532 Q99.6493 626.954 101.686 626.954 Q107.057 626.954 110.251 629.639 Q113.445 632.324 113.445 636.815 Q113.445 638.944 112.635 640.866 Q111.848 642.764 109.742 645.356 Q109.163 646.028 106.061 649.245 Q102.959 652.44 97.3113 658.204 Z\" fill=\"#000000\" fill-rule=\"evenodd\" fill-opacity=\"1\" /><path clip-path=\"url(#clip880)\" d=\"M 0 0 M146.871 636.676 L136.293 647.301 L146.871 657.88 L144.117 660.68 L133.492 650.056 L122.867 660.68 L120.135 657.88 L130.691 647.301 L120.135 636.676 L122.867 633.875 L133.492 644.5 L144.117 633.875 L146.871 636.676 Z\" fill=\"#000000\" fill-rule=\"evenodd\" fill-opacity=\"1\" /><path clip-path=\"url(#clip880)\" d=\"M 0 0 M152.751 658.204 L160.39 658.204 L160.39 631.838 L152.08 633.505 L152.08 629.245 L160.343 627.579 L165.019 627.579 L165.019 658.204 L172.658 658.204 L172.658 662.139 L152.751 662.139 L152.751 658.204 Z\" fill=\"#000000\" fill-rule=\"evenodd\" fill-opacity=\"1\" /><path clip-path=\"url(#clip880)\" d=\"M 0 0 M187.728 630.657 Q184.116 630.657 182.288 634.222 Q180.482 637.764 180.482 644.893 Q180.482 652 182.288 655.565 Q184.116 659.106 187.728 659.106 Q191.362 659.106 193.167 655.565 Q194.996 652 194.996 644.893 Q194.996 637.764 193.167 634.222 Q191.362 630.657 187.728 630.657 M187.728 626.954 Q193.538 626.954 196.593 631.56 Q199.672 636.144 199.672 644.893 Q199.672 653.62 196.593 658.227 Q193.538 662.81 187.728 662.81 Q181.917 662.81 178.839 658.227 Q175.783 653.62 175.783 644.893 Q175.783 636.144 178.839 631.56 Q181.917 626.954 187.728 626.954 Z\" fill=\"#000000\" fill-rule=\"evenodd\" fill-opacity=\"1\" /><path clip-path=\"url(#clip880)\" d=\"M 0 0 M199.672 621.055 L223.783 621.055 L223.783 624.252 L199.672 624.252 L199.672 621.055 Z\" fill=\"#000000\" fill-rule=\"evenodd\" fill-opacity=\"1\" /><path clip-path=\"url(#clip880)\" d=\"M 0 0 M238.341 609.959 L228.749 624.948 L238.341 624.948 L238.341 609.959 M237.344 606.648 L242.121 606.648 L242.121 624.948 L246.127 624.948 L246.127 628.108 L242.121 628.108 L242.121 634.728 L238.341 634.728 L238.341 628.108 L225.664 628.108 L225.664 624.441 L237.344 606.648 Z\" fill=\"#000000\" fill-rule=\"evenodd\" fill-opacity=\"1\" /><path clip-path=\"url(#clip880)\" d=\"M 0 0 M66.5939 264.696 L54.7884 283.145 L66.5939 283.145 L66.5939 264.696 M65.367 260.622 L71.2466 260.622 L71.2466 283.145 L76.1772 283.145 L76.1772 287.034 L71.2466 287.034 L71.2466 295.182 L66.5939 295.182 L66.5939 287.034 L50.9921 287.034 L50.9921 282.52 L65.367 260.622 Z\" fill=\"#000000\" fill-rule=\"evenodd\" fill-opacity=\"1\" /><path clip-path=\"url(#clip880)\" d=\"M 0 0 M81.2466 289.303 L86.1308 289.303 L86.1308 295.182 L81.2466 295.182 L81.2466 289.303 Z\" fill=\"#000000\" fill-rule=\"evenodd\" fill-opacity=\"1\" /><path clip-path=\"url(#clip880)\" d=\"M 0 0 M104.047 264.696 L92.2419 283.145 L104.047 283.145 L104.047 264.696 M102.821 260.622 L108.7 260.622 L108.7 283.145 L113.631 283.145 L113.631 287.034 L108.7 287.034 L108.7 295.182 L104.047 295.182 L104.047 287.034 L88.4456 287.034 L88.4456 282.52 L102.821 260.622 Z\" fill=\"#000000\" fill-rule=\"evenodd\" fill-opacity=\"1\" /><path clip-path=\"url(#clip880)\" d=\"M 0 0 M146.871 269.719 L136.293 280.344 L146.871 290.923 L144.117 293.724 L133.492 283.099 L122.867 293.724 L120.135 290.923 L130.691 280.344 L120.135 269.719 L122.867 266.918 L133.492 277.543 L144.117 266.918 L146.871 269.719 Z\" fill=\"#000000\" fill-rule=\"evenodd\" fill-opacity=\"1\" /><path clip-path=\"url(#clip880)\" d=\"M 0 0 M152.751 291.247 L160.39 291.247 L160.39 264.881 L152.08 266.548 L152.08 262.289 L160.343 260.622 L165.019 260.622 L165.019 291.247 L172.658 291.247 L172.658 295.182 L152.751 295.182 L152.751 291.247 Z\" fill=\"#000000\" fill-rule=\"evenodd\" fill-opacity=\"1\" /><path clip-path=\"url(#clip880)\" d=\"M 0 0 M187.728 263.701 Q184.116 263.701 182.288 267.266 Q180.482 270.807 180.482 277.937 Q180.482 285.043 182.288 288.608 Q184.116 292.15 187.728 292.15 Q191.362 292.15 193.167 288.608 Q194.996 285.043 194.996 277.937 Q194.996 270.807 193.167 267.266 Q191.362 263.701 187.728 263.701 M187.728 259.997 Q193.538 259.997 196.593 264.604 Q199.672 269.187 199.672 277.937 Q199.672 286.664 196.593 291.27 Q193.538 295.853 187.728 295.853 Q181.917 295.853 178.839 291.27 Q175.783 286.664 175.783 277.937 Q175.783 269.187 178.839 264.604 Q181.917 259.997 187.728 259.997 Z\" fill=\"#000000\" fill-rule=\"evenodd\" fill-opacity=\"1\" /><path clip-path=\"url(#clip880)\" d=\"M 0 0 M199.672 254.099 L223.783 254.099 L223.783 257.296 L199.672 257.296 L199.672 254.099 Z\" fill=\"#000000\" fill-rule=\"evenodd\" fill-opacity=\"1\" /><path clip-path=\"url(#clip880)\" d=\"M 0 0 M238.341 243.002 L228.749 257.992 L238.341 257.992 L238.341 243.002 M237.344 239.692 L242.121 239.692 L242.121 257.992 L246.127 257.992 L246.127 261.151 L242.121 261.151 L242.121 267.772 L238.341 267.772 L238.341 261.151 L225.664 261.151 L225.664 257.484 L237.344 239.692 Z\" fill=\"#000000\" fill-rule=\"evenodd\" fill-opacity=\"1\" /><polyline clip-path=\"url(#clip882)\" style=\"stroke:#009af9; stroke-width:4; stroke-opacity:1; fill:none\" points=\"\n",
       "  340.73,1409.02 344.644,1372.32 348.559,1335.63 352.474,1298.93 356.388,1335.63 360.303,1298.93 364.218,1262.24 368.133,1298.93 372.047,1335.63 375.962,1298.93 \n",
       "  379.877,1262.24 383.791,1298.93 387.706,1335.63 391.621,1372.32 395.535,1409.02 399.45,1372.32 403.365,1409.02 407.279,1445.72 411.194,1409.02 415.109,1445.72 \n",
       "  419.023,1409.02 422.938,1372.32 426.853,1335.63 430.767,1298.93 434.682,1262.24 438.597,1298.93 442.511,1262.24 446.426,1298.93 450.341,1262.24 454.255,1225.54 \n",
       "  458.17,1262.24 462.085,1298.93 465.999,1262.24 469.914,1298.93 473.829,1262.24 477.743,1225.54 481.658,1262.24 485.573,1225.54 489.487,1188.85 493.402,1225.54 \n",
       "  497.317,1262.24 501.232,1225.54 505.146,1188.85 509.061,1152.15 512.976,1115.45 516.89,1078.76 520.805,1042.06 524.72,1078.76 528.634,1115.45 532.549,1152.15 \n",
       "  536.464,1188.85 540.378,1225.54 544.293,1262.24 548.208,1225.54 552.122,1262.24 556.037,1298.93 559.952,1262.24 563.866,1225.54 567.781,1262.24 571.696,1225.54 \n",
       "  575.61,1262.24 579.525,1298.93 583.44,1262.24 587.354,1225.54 591.269,1188.85 595.184,1225.54 599.098,1188.85 603.013,1152.15 606.928,1115.45 610.842,1078.76 \n",
       "  614.757,1042.06 618.672,1005.37 622.586,968.672 626.501,931.976 630.416,895.281 634.33,858.585 638.245,821.889 642.16,785.194 646.075,821.889 649.989,858.585 \n",
       "  653.904,821.889 657.819,785.194 661.733,748.498 665.648,711.802 669.563,748.498 673.477,785.194 677.392,821.889 681.307,858.585 685.221,821.889 689.136,785.194 \n",
       "  693.051,821.889 696.965,858.585 700.88,821.889 704.795,858.585 708.709,895.281 712.624,858.585 716.539,821.889 720.453,785.194 724.368,821.889 728.283,785.194 \n",
       "  732.197,821.889 736.112,785.194 740.027,748.498 743.941,711.802 747.856,748.498 751.771,711.802 755.685,748.498 759.6,785.194 763.515,821.889 767.429,785.194 \n",
       "  771.344,821.889 775.259,858.585 779.174,821.889 783.088,858.585 787.003,821.889 790.918,785.194 794.832,748.498 798.747,785.194 802.662,821.889 806.576,785.194 \n",
       "  810.491,821.889 814.406,858.585 818.32,895.281 822.235,931.976 826.15,895.281 830.064,858.585 833.979,821.889 837.894,785.194 841.808,748.498 845.723,711.802 \n",
       "  849.638,748.498 853.552,711.802 857.467,675.107 861.382,638.411 865.296,601.716 869.211,638.411 873.126,601.716 877.04,565.02 880.955,528.324 884.87,565.02 \n",
       "  888.784,528.324 892.699,491.629 896.614,454.933 900.528,418.237 904.443,381.542 908.358,418.237 912.273,454.933 916.187,418.237 920.102,381.542 924.017,418.237 \n",
       "  927.931,454.933 931.846,491.629 935.761,454.933 939.675,418.237 943.59,381.542 947.505,418.237 951.419,381.542 955.334,344.846 959.249,381.542 963.163,418.237 \n",
       "  967.078,381.542 970.993,418.237 974.907,454.933 978.822,418.237 982.737,454.933 986.651,491.629 990.566,528.324 994.481,565.02 998.395,601.716 1002.31,565.02 \n",
       "  1006.22,528.324 1010.14,565.02 1014.05,601.716 1017.97,638.411 1021.88,601.716 1025.8,638.411 1029.71,601.716 1033.63,565.02 1037.54,601.716 1041.46,565.02 \n",
       "  1045.37,528.324 1049.29,565.02 1053.2,601.716 1057.12,565.02 1061.03,528.324 1064.94,491.629 1068.86,454.933 1072.77,418.237 1076.69,381.542 1080.6,418.237 \n",
       "  1084.52,381.542 1088.43,418.237 1092.35,381.542 1096.26,344.846 1100.18,381.542 1104.09,418.237 1108.01,454.933 1111.92,418.237 1115.84,454.933 1119.75,418.237 \n",
       "  1123.67,454.933 1127.58,491.629 1131.49,454.933 1135.41,418.237 1139.32,454.933 1143.24,491.629 1147.15,454.933 1151.07,418.237 1154.98,381.542 1158.9,344.846 \n",
       "  1162.81,308.15 1166.73,271.455 1170.64,234.759 1174.56,198.063 1178.47,234.759 1182.39,198.063 1186.3,161.368 1190.21,124.672 1194.13,161.368 1198.04,124.672 \n",
       "  1201.96,161.368 1205.87,124.672 1209.79,161.368 1213.7,124.672 1217.62,161.368 1221.53,124.672 1225.45,161.368 1229.36,124.672 1233.28,161.368 1237.19,124.672 \n",
       "  1241.11,87.9763 1245.02,124.672 1248.93,87.9763 1252.85,124.672 1256.76,87.9763 1260.68,124.672 1264.59,161.368 1268.51,198.063 1272.42,234.759 1276.34,271.455 \n",
       "  1280.25,308.15 1284.17,344.846 1288.08,381.542 1292,418.237 1295.91,454.933 1299.83,491.629 1303.74,454.933 1307.65,491.629 1311.57,454.933 1315.48,491.629 \n",
       "  1319.4,454.933 1323.31,491.629 1327.23,528.324 1331.14,491.629 1335.06,528.324 1338.97,491.629 1342.89,528.324 1346.8,491.629 1350.72,454.933 1354.63,491.629 \n",
       "  1358.55,528.324 1362.46,491.629 1366.37,454.933 1370.29,418.237 1374.2,454.933 1378.12,491.629 1382.03,454.933 1385.95,491.629 1389.86,454.933 1393.78,491.629 \n",
       "  1397.69,528.324 1401.61,565.02 1405.52,528.324 1409.44,491.629 1413.35,454.933 1417.27,418.237 1421.18,381.542 1425.1,418.237 1429.01,381.542 1432.92,344.846 \n",
       "  1436.84,308.15 1440.75,271.455 1444.67,308.15 1448.58,271.455 1452.5,234.759 1456.41,271.455 1460.33,234.759 1464.24,271.455 1468.16,234.759 1472.07,198.063 \n",
       "  1475.99,234.759 1479.9,271.455 1483.82,308.15 1487.73,344.846 1491.64,381.542 1495.56,418.237 1499.47,454.933 1503.39,491.629 1507.3,528.324 1511.22,565.02 \n",
       "  1515.13,528.324 1519.05,491.629 1522.96,528.324 1526.88,491.629 1530.79,528.324 1534.71,565.02 1538.62,528.324 1542.54,565.02 1546.45,528.324 1550.36,565.02 \n",
       "  1554.28,601.716 1558.19,565.02 1562.11,601.716 1566.02,565.02 1569.94,601.716 1573.85,638.411 1577.77,601.716 1581.68,565.02 1585.6,601.716 1589.51,565.02 \n",
       "  1593.43,601.716 1597.34,638.411 1601.26,675.107 1605.17,638.411 1609.08,675.107 1613,638.411 1616.91,675.107 1620.83,638.411 1624.74,601.716 1628.66,565.02 \n",
       "  1632.57,601.716 1636.49,565.02 1640.4,601.716 1644.32,565.02 1648.23,601.716 1652.15,638.411 1656.06,675.107 1659.98,638.411 1663.89,601.716 1667.81,565.02 \n",
       "  1671.72,601.716 1675.63,638.411 1679.55,675.107 1683.46,711.802 1687.38,675.107 1691.29,638.411 1695.21,675.107 1699.12,638.411 1703.04,601.716 1706.95,638.411 \n",
       "  1710.87,675.107 1714.78,638.411 1718.7,601.716 1722.61,565.02 1726.53,601.716 1730.44,565.02 1734.35,601.716 1738.27,638.411 1742.18,601.716 1746.1,565.02 \n",
       "  1750.01,601.716 1753.93,638.411 1757.84,675.107 1761.76,711.802 1765.67,748.498 1769.59,785.194 1773.5,821.889 1777.42,785.194 1781.33,821.889 1785.25,785.194 \n",
       "  1789.16,821.889 1793.07,785.194 1796.99,821.889 1800.9,785.194 1804.82,748.498 1808.73,785.194 1812.65,821.889 1816.56,785.194 1820.48,821.889 1824.39,858.585 \n",
       "  1828.31,821.889 1832.22,858.585 1836.14,895.281 1840.05,858.585 1843.97,895.281 1847.88,931.976 1851.79,895.281 1855.71,931.976 1859.62,895.281 1863.54,931.976 \n",
       "  1867.45,968.672 1871.37,931.976 1875.28,968.672 1879.2,931.976 1883.11,968.672 1887.03,1005.37 1890.94,1042.06 1894.86,1005.37 1898.77,968.672 1902.69,1005.37 \n",
       "  1906.6,968.672 1910.51,931.976 1914.43,968.672 1918.34,1005.37 1922.26,968.672 1926.17,931.976 1930.09,895.281 1934,931.976 1937.92,895.281 1941.83,931.976 \n",
       "  1945.75,895.281 1949.66,931.976 1953.58,968.672 1957.49,931.976 1961.41,895.281 1965.32,931.976 1969.24,968.672 1973.15,931.976 1977.06,895.281 1980.98,858.585 \n",
       "  1984.89,821.889 1988.81,785.194 1992.72,821.889 1996.64,785.194 2000.55,821.889 2004.47,858.585 2008.38,821.889 2012.3,858.585 2016.21,821.889 2020.13,858.585 \n",
       "  2024.04,821.889 2027.96,785.194 2031.87,821.889 2035.78,785.194 2039.7,748.498 2043.61,785.194 2047.53,748.498 2051.44,711.802 2055.36,748.498 2059.27,711.802 \n",
       "  2063.19,748.498 2067.1,785.194 2071.02,748.498 2074.93,785.194 2078.85,748.498 2082.76,785.194 2086.68,821.889 2090.59,858.585 2094.5,821.889 2098.42,858.585 \n",
       "  2102.33,821.889 2106.25,785.194 2110.16,748.498 2114.08,785.194 2117.99,748.498 2121.91,785.194 2125.82,821.889 2129.74,858.585 2133.65,895.281 2137.57,858.585 \n",
       "  2141.48,821.889 2145.4,858.585 2149.31,821.889 2153.22,858.585 2157.14,895.281 2161.05,931.976 2164.97,968.672 2168.88,931.976 2172.8,895.281 2176.71,931.976 \n",
       "  2180.63,968.672 2184.54,1005.37 2188.46,968.672 2192.37,931.976 2196.29,895.281 2200.2,931.976 2204.12,968.672 2208.03,1005.37 2211.95,1042.06 2215.86,1078.76 \n",
       "  2219.77,1115.45 2223.69,1078.76 2227.6,1042.06 2231.52,1005.37 2235.43,1042.06 2239.35,1078.76 2243.26,1042.06 2247.18,1005.37 2251.09,1042.06 2255.01,1005.37 \n",
       "  2258.92,968.672 2262.84,1005.37 2266.75,1042.06 2270.67,1078.76 2274.58,1042.06 2278.49,1078.76 2282.41,1042.06 2286.32,1005.37 2290.24,968.672 2294.15,931.976 \n",
       "  \n",
       "  \"/>\n",
       "<path clip-path=\"url(#clip880)\" d=\"\n",
       "M2002.65 216.178 L2283.73 216.178 L2283.73 95.2176 L2002.65 95.2176  Z\n",
       "  \" fill=\"#ffffff\" fill-rule=\"evenodd\" fill-opacity=\"1\"/>\n",
       "<polyline clip-path=\"url(#clip880)\" style=\"stroke:#000000; stroke-width:4; stroke-opacity:1; fill:none\" points=\"\n",
       "  2002.65,216.178 2283.73,216.178 2283.73,95.2176 2002.65,95.2176 2002.65,216.178 \n",
       "  \"/>\n",
       "<polyline clip-path=\"url(#clip880)\" style=\"stroke:#009af9; stroke-width:4; stroke-opacity:1; fill:none\" points=\"\n",
       "  2025.65,155.698 2163.7,155.698 \n",
       "  \"/>\n",
       "<path clip-path=\"url(#clip880)\" d=\"M 0 0 M2200.55 175.385 Q2198.74 180.015 2197.03 181.427 Q2195.31 182.839 2192.44 182.839 L2189.04 182.839 L2189.04 179.274 L2191.54 179.274 Q2193.3 179.274 2194.27 178.44 Q2195.24 177.607 2196.42 174.505 L2197.19 172.561 L2186.7 147.052 L2191.22 147.052 L2199.32 167.329 L2207.42 147.052 L2211.93 147.052 L2200.55 175.385 Z\" fill=\"#000000\" fill-rule=\"evenodd\" fill-opacity=\"1\" /><path clip-path=\"url(#clip880)\" d=\"M 0 0 M2217.81 169.042 L2225.45 169.042 L2225.45 142.677 L2217.14 144.343 L2217.14 140.084 L2225.41 138.418 L2230.08 138.418 L2230.08 169.042 L2237.72 169.042 L2237.72 172.978 L2217.81 172.978 L2217.81 169.042 Z\" fill=\"#000000\" fill-rule=\"evenodd\" fill-opacity=\"1\" /></svg>\n"
      ]
     },
     "execution_count": 113,
     "metadata": {},
     "output_type": "execute_result"
    }
   ],
   "source": [
    "plot(spines./(N^2))\n",
    "       "
   ]
  },
  {
   "cell_type": "code",
   "execution_count": 114,
   "metadata": {},
   "outputs": [
    {
     "data": {
      "image/svg+xml": [
       "<?xml version=\"1.0\" encoding=\"utf-8\"?>\n",
       "<svg xmlns=\"http://www.w3.org/2000/svg\" xmlns:xlink=\"http://www.w3.org/1999/xlink\" width=\"600\" height=\"400\" viewBox=\"0 0 2400 1600\">\n",
       "<defs>\n",
       "  <clipPath id=\"clip920\">\n",
       "    <rect x=\"0\" y=\"0\" width=\"2400\" height=\"1600\"/>\n",
       "  </clipPath>\n",
       "</defs>\n",
       "<path clip-path=\"url(#clip920)\" d=\"\n",
       "M0 1600 L2400 1600 L2400 0 L0 0  Z\n",
       "  \" fill=\"#ffffff\" fill-rule=\"evenodd\" fill-opacity=\"1\"/>\n",
       "<defs>\n",
       "  <clipPath id=\"clip921\">\n",
       "    <rect x=\"480\" y=\"0\" width=\"1681\" height=\"1600\"/>\n",
       "  </clipPath>\n",
       "</defs>\n",
       "<path clip-path=\"url(#clip920)\" d=\"\n",
       "M197.061 1486.45 L2352.76 1486.45 L2352.76 47.2441 L197.061 47.2441  Z\n",
       "  \" fill=\"#ffffff\" fill-rule=\"evenodd\" fill-opacity=\"1\"/>\n",
       "<defs>\n",
       "  <clipPath id=\"clip922\">\n",
       "    <rect x=\"197\" y=\"47\" width=\"2157\" height=\"1440\"/>\n",
       "  </clipPath>\n",
       "</defs>\n",
       "<polyline clip-path=\"url(#clip922)\" style=\"stroke:#000000; stroke-width:2; stroke-opacity:0.1; fill:none\" points=\"\n",
       "  253.996,1486.45 253.996,47.2441 \n",
       "  \"/>\n",
       "<polyline clip-path=\"url(#clip922)\" style=\"stroke:#000000; stroke-width:2; stroke-opacity:0.1; fill:none\" points=\"\n",
       "  661.546,1486.45 661.546,47.2441 \n",
       "  \"/>\n",
       "<polyline clip-path=\"url(#clip922)\" style=\"stroke:#000000; stroke-width:2; stroke-opacity:0.1; fill:none\" points=\"\n",
       "  1069.1,1486.45 1069.1,47.2441 \n",
       "  \"/>\n",
       "<polyline clip-path=\"url(#clip922)\" style=\"stroke:#000000; stroke-width:2; stroke-opacity:0.1; fill:none\" points=\"\n",
       "  1476.65,1486.45 1476.65,47.2441 \n",
       "  \"/>\n",
       "<polyline clip-path=\"url(#clip922)\" style=\"stroke:#000000; stroke-width:2; stroke-opacity:0.1; fill:none\" points=\"\n",
       "  1884.2,1486.45 1884.2,47.2441 \n",
       "  \"/>\n",
       "<polyline clip-path=\"url(#clip922)\" style=\"stroke:#000000; stroke-width:2; stroke-opacity:0.1; fill:none\" points=\"\n",
       "  2291.75,1486.45 2291.75,47.2441 \n",
       "  \"/>\n",
       "<polyline clip-path=\"url(#clip920)\" style=\"stroke:#000000; stroke-width:4; stroke-opacity:1; fill:none\" points=\"\n",
       "  197.061,1486.45 2352.76,1486.45 \n",
       "  \"/>\n",
       "<polyline clip-path=\"url(#clip920)\" style=\"stroke:#000000; stroke-width:4; stroke-opacity:1; fill:none\" points=\"\n",
       "  253.996,1486.45 253.996,1469.18 \n",
       "  \"/>\n",
       "<polyline clip-path=\"url(#clip920)\" style=\"stroke:#000000; stroke-width:4; stroke-opacity:1; fill:none\" points=\"\n",
       "  661.546,1486.45 661.546,1469.18 \n",
       "  \"/>\n",
       "<polyline clip-path=\"url(#clip920)\" style=\"stroke:#000000; stroke-width:4; stroke-opacity:1; fill:none\" points=\"\n",
       "  1069.1,1486.45 1069.1,1469.18 \n",
       "  \"/>\n",
       "<polyline clip-path=\"url(#clip920)\" style=\"stroke:#000000; stroke-width:4; stroke-opacity:1; fill:none\" points=\"\n",
       "  1476.65,1486.45 1476.65,1469.18 \n",
       "  \"/>\n",
       "<polyline clip-path=\"url(#clip920)\" style=\"stroke:#000000; stroke-width:4; stroke-opacity:1; fill:none\" points=\"\n",
       "  1884.2,1486.45 1884.2,1469.18 \n",
       "  \"/>\n",
       "<polyline clip-path=\"url(#clip920)\" style=\"stroke:#000000; stroke-width:4; stroke-opacity:1; fill:none\" points=\"\n",
       "  2291.75,1486.45 2291.75,1469.18 \n",
       "  \"/>\n",
       "<path clip-path=\"url(#clip920)\" d=\"M 0 0 M253.996 1515.64 Q250.385 1515.64 248.556 1519.2 Q246.75 1522.75 246.75 1529.87 Q246.75 1536.98 248.556 1540.55 Q250.385 1544.09 253.996 1544.09 Q257.63 1544.09 259.436 1540.55 Q261.264 1536.98 261.264 1529.87 Q261.264 1522.75 259.436 1519.2 Q257.63 1515.64 253.996 1515.64 M253.996 1511.93 Q259.806 1511.93 262.861 1516.54 Q265.94 1521.12 265.94 1529.87 Q265.94 1538.6 262.861 1543.21 Q259.806 1547.79 253.996 1547.79 Q248.186 1547.79 245.107 1543.21 Q242.051 1538.6 242.051 1529.87 Q242.051 1521.12 245.107 1516.54 Q248.186 1511.93 253.996 1511.93 Z\" fill=\"#000000\" fill-rule=\"evenodd\" fill-opacity=\"1\" /><path clip-path=\"url(#clip920)\" d=\"M 0 0 M624.914 1543.18 L632.553 1543.18 L632.553 1516.82 L624.243 1518.49 L624.243 1514.23 L632.507 1512.56 L637.182 1512.56 L637.182 1543.18 L644.821 1543.18 L644.821 1547.12 L624.914 1547.12 L624.914 1543.18 Z\" fill=\"#000000\" fill-rule=\"evenodd\" fill-opacity=\"1\" /><path clip-path=\"url(#clip920)\" d=\"M 0 0 M659.891 1515.64 Q656.28 1515.64 654.451 1519.2 Q652.645 1522.75 652.645 1529.87 Q652.645 1536.98 654.451 1540.55 Q656.28 1544.09 659.891 1544.09 Q663.525 1544.09 665.33 1540.55 Q667.159 1536.98 667.159 1529.87 Q667.159 1522.75 665.33 1519.2 Q663.525 1515.64 659.891 1515.64 M659.891 1511.93 Q665.701 1511.93 668.756 1516.54 Q671.835 1521.12 671.835 1529.87 Q671.835 1538.6 668.756 1543.21 Q665.701 1547.79 659.891 1547.79 Q654.08 1547.79 651.002 1543.21 Q647.946 1538.6 647.946 1529.87 Q647.946 1521.12 651.002 1516.54 Q654.08 1511.93 659.891 1511.93 Z\" fill=\"#000000\" fill-rule=\"evenodd\" fill-opacity=\"1\" /><path clip-path=\"url(#clip920)\" d=\"M 0 0 M686.904 1515.64 Q683.293 1515.64 681.465 1519.2 Q679.659 1522.75 679.659 1529.87 Q679.659 1536.98 681.465 1540.55 Q683.293 1544.09 686.904 1544.09 Q690.539 1544.09 692.344 1540.55 Q694.173 1536.98 694.173 1529.87 Q694.173 1522.75 692.344 1519.2 Q690.539 1515.64 686.904 1515.64 M686.904 1511.93 Q692.715 1511.93 695.77 1516.54 Q698.849 1521.12 698.849 1529.87 Q698.849 1538.6 695.77 1543.21 Q692.715 1547.79 686.904 1547.79 Q681.094 1547.79 678.016 1543.21 Q674.96 1538.6 674.96 1529.87 Q674.96 1521.12 678.016 1516.54 Q681.094 1511.93 686.904 1511.93 Z\" fill=\"#000000\" fill-rule=\"evenodd\" fill-opacity=\"1\" /><path clip-path=\"url(#clip920)\" d=\"M 0 0 M1036.73 1543.18 L1053.05 1543.18 L1053.05 1547.12 L1031.11 1547.12 L1031.11 1543.18 Q1033.77 1540.43 1038.36 1535.8 Q1042.96 1531.15 1044.14 1529.81 Q1046.39 1527.28 1047.27 1525.55 Q1048.17 1523.79 1048.17 1522.1 Q1048.17 1519.34 1046.23 1517.61 Q1044.3 1515.87 1041.2 1515.87 Q1039 1515.87 1036.55 1516.63 Q1034.12 1517.4 1031.34 1518.95 L1031.34 1514.23 Q1034.17 1513.09 1036.62 1512.51 Q1039.07 1511.93 1041.11 1511.93 Q1046.48 1511.93 1049.67 1514.62 Q1052.87 1517.31 1052.87 1521.8 Q1052.87 1523.93 1052.06 1525.85 Q1051.27 1527.74 1049.17 1530.34 Q1048.59 1531.01 1045.48 1534.23 Q1042.38 1537.42 1036.73 1543.18 Z\" fill=\"#000000\" fill-rule=\"evenodd\" fill-opacity=\"1\" /><path clip-path=\"url(#clip920)\" d=\"M 0 0 M1068.12 1515.64 Q1064.51 1515.64 1062.68 1519.2 Q1060.88 1522.75 1060.88 1529.87 Q1060.88 1536.98 1062.68 1540.55 Q1064.51 1544.09 1068.12 1544.09 Q1071.76 1544.09 1073.56 1540.55 Q1075.39 1536.98 1075.39 1529.87 Q1075.39 1522.75 1073.56 1519.2 Q1071.76 1515.64 1068.12 1515.64 M1068.12 1511.93 Q1073.93 1511.93 1076.99 1516.54 Q1080.07 1521.12 1080.07 1529.87 Q1080.07 1538.6 1076.99 1543.21 Q1073.93 1547.79 1068.12 1547.79 Q1062.31 1547.79 1059.23 1543.21 Q1056.18 1538.6 1056.18 1529.87 Q1056.18 1521.12 1059.23 1516.54 Q1062.31 1511.93 1068.12 1511.93 Z\" fill=\"#000000\" fill-rule=\"evenodd\" fill-opacity=\"1\" /><path clip-path=\"url(#clip920)\" d=\"M 0 0 M1095.14 1515.64 Q1091.53 1515.64 1089.7 1519.2 Q1087.89 1522.75 1087.89 1529.87 Q1087.89 1536.98 1089.7 1540.55 Q1091.53 1544.09 1095.14 1544.09 Q1098.77 1544.09 1100.58 1540.55 Q1102.41 1536.98 1102.41 1529.87 Q1102.41 1522.75 1100.58 1519.2 Q1098.77 1515.64 1095.14 1515.64 M1095.14 1511.93 Q1100.95 1511.93 1104 1516.54 Q1107.08 1521.12 1107.08 1529.87 Q1107.08 1538.6 1104 1543.21 Q1100.95 1547.79 1095.14 1547.79 Q1089.33 1547.79 1086.25 1543.21 Q1083.19 1538.6 1083.19 1529.87 Q1083.19 1521.12 1086.25 1516.54 Q1089.33 1511.93 1095.14 1511.93 Z\" fill=\"#000000\" fill-rule=\"evenodd\" fill-opacity=\"1\" /><path clip-path=\"url(#clip920)\" d=\"M 0 0 M1453.88 1528.49 Q1457.24 1529.2 1459.11 1531.47 Q1461.01 1533.74 1461.01 1537.07 Q1461.01 1542.19 1457.49 1544.99 Q1453.97 1547.79 1447.49 1547.79 Q1445.31 1547.79 1443 1547.35 Q1440.71 1546.93 1438.25 1546.08 L1438.25 1541.56 Q1440.2 1542.7 1442.51 1543.28 Q1444.83 1543.86 1447.35 1543.86 Q1451.75 1543.86 1454.04 1542.12 Q1456.36 1540.38 1456.36 1537.07 Q1456.36 1534.02 1454.2 1532.31 Q1452.07 1530.57 1448.25 1530.57 L1444.23 1530.57 L1444.23 1526.73 L1448.44 1526.73 Q1451.89 1526.73 1453.72 1525.36 Q1455.55 1523.97 1455.55 1521.38 Q1455.55 1518.72 1453.65 1517.31 Q1451.77 1515.87 1448.25 1515.87 Q1446.33 1515.87 1444.13 1516.29 Q1441.94 1516.7 1439.3 1517.58 L1439.3 1513.42 Q1441.96 1512.68 1444.27 1512.31 Q1446.61 1511.93 1448.67 1511.93 Q1454 1511.93 1457.1 1514.37 Q1460.2 1516.77 1460.2 1520.89 Q1460.2 1523.76 1458.56 1525.75 Q1456.91 1527.72 1453.88 1528.49 Z\" fill=\"#000000\" fill-rule=\"evenodd\" fill-opacity=\"1\" /><path clip-path=\"url(#clip920)\" d=\"M 0 0 M1476.08 1515.64 Q1472.47 1515.64 1470.64 1519.2 Q1468.83 1522.75 1468.83 1529.87 Q1468.83 1536.98 1470.64 1540.55 Q1472.47 1544.09 1476.08 1544.09 Q1479.71 1544.09 1481.52 1540.55 Q1483.35 1536.98 1483.35 1529.87 Q1483.35 1522.75 1481.52 1519.2 Q1479.71 1515.64 1476.08 1515.64 M1476.08 1511.93 Q1481.89 1511.93 1484.94 1516.54 Q1488.02 1521.12 1488.02 1529.87 Q1488.02 1538.6 1484.94 1543.21 Q1481.89 1547.79 1476.08 1547.79 Q1470.27 1547.79 1467.19 1543.21 Q1464.13 1538.6 1464.13 1529.87 Q1464.13 1521.12 1467.19 1516.54 Q1470.27 1511.93 1476.08 1511.93 Z\" fill=\"#000000\" fill-rule=\"evenodd\" fill-opacity=\"1\" /><path clip-path=\"url(#clip920)\" d=\"M 0 0 M1503.09 1515.64 Q1499.48 1515.64 1497.65 1519.2 Q1495.85 1522.75 1495.85 1529.87 Q1495.85 1536.98 1497.65 1540.55 Q1499.48 1544.09 1503.09 1544.09 Q1506.73 1544.09 1508.53 1540.55 Q1510.36 1536.98 1510.36 1529.87 Q1510.36 1522.75 1508.53 1519.2 Q1506.73 1515.64 1503.09 1515.64 M1503.09 1511.93 Q1508.9 1511.93 1511.96 1516.54 Q1515.04 1521.12 1515.04 1529.87 Q1515.04 1538.6 1511.96 1543.21 Q1508.9 1547.79 1503.09 1547.79 Q1497.28 1547.79 1494.2 1543.21 Q1491.15 1538.6 1491.15 1529.87 Q1491.15 1521.12 1494.2 1516.54 Q1497.28 1511.93 1503.09 1511.93 Z\" fill=\"#000000\" fill-rule=\"evenodd\" fill-opacity=\"1\" /><path clip-path=\"url(#clip920)\" d=\"M 0 0 M1860.19 1516.63 L1848.39 1535.08 L1860.19 1535.08 L1860.19 1516.63 M1858.96 1512.56 L1864.84 1512.56 L1864.84 1535.08 L1869.77 1535.08 L1869.77 1538.97 L1864.84 1538.97 L1864.84 1547.12 L1860.19 1547.12 L1860.19 1538.97 L1844.59 1538.97 L1844.59 1534.46 L1858.96 1512.56 Z\" fill=\"#000000\" fill-rule=\"evenodd\" fill-opacity=\"1\" /><path clip-path=\"url(#clip920)\" d=\"M 0 0 M1884.84 1515.64 Q1881.23 1515.64 1879.4 1519.2 Q1877.6 1522.75 1877.6 1529.87 Q1877.6 1536.98 1879.4 1540.55 Q1881.23 1544.09 1884.84 1544.09 Q1888.48 1544.09 1890.28 1540.55 Q1892.11 1536.98 1892.11 1529.87 Q1892.11 1522.75 1890.28 1519.2 Q1888.48 1515.64 1884.84 1515.64 M1884.84 1511.93 Q1890.65 1511.93 1893.71 1516.54 Q1896.79 1521.12 1896.79 1529.87 Q1896.79 1538.6 1893.71 1543.21 Q1890.65 1547.79 1884.84 1547.79 Q1879.03 1547.79 1875.95 1543.21 Q1872.9 1538.6 1872.9 1529.87 Q1872.9 1521.12 1875.95 1516.54 Q1879.03 1511.93 1884.84 1511.93 Z\" fill=\"#000000\" fill-rule=\"evenodd\" fill-opacity=\"1\" /><path clip-path=\"url(#clip920)\" d=\"M 0 0 M1911.86 1515.64 Q1908.25 1515.64 1906.42 1519.2 Q1904.61 1522.75 1904.61 1529.87 Q1904.61 1536.98 1906.42 1540.55 Q1908.25 1544.09 1911.86 1544.09 Q1915.49 1544.09 1917.3 1540.55 Q1919.13 1536.98 1919.13 1529.87 Q1919.13 1522.75 1917.3 1519.2 Q1915.49 1515.64 1911.86 1515.64 M1911.86 1511.93 Q1917.67 1511.93 1920.72 1516.54 Q1923.8 1521.12 1923.8 1529.87 Q1923.8 1538.6 1920.72 1543.21 Q1917.67 1547.79 1911.86 1547.79 Q1906.05 1547.79 1902.97 1543.21 Q1899.91 1538.6 1899.91 1529.87 Q1899.91 1521.12 1902.97 1516.54 Q1906.05 1511.93 1911.86 1511.93 Z\" fill=\"#000000\" fill-rule=\"evenodd\" fill-opacity=\"1\" /><path clip-path=\"url(#clip920)\" d=\"M 0 0 M2255.01 1512.56 L2273.37 1512.56 L2273.37 1516.5 L2259.29 1516.5 L2259.29 1524.97 Q2260.31 1524.62 2261.33 1524.46 Q2262.35 1524.27 2263.37 1524.27 Q2269.15 1524.27 2272.53 1527.44 Q2275.91 1530.62 2275.91 1536.03 Q2275.91 1541.61 2272.44 1544.71 Q2268.97 1547.79 2262.65 1547.79 Q2260.47 1547.79 2258.2 1547.42 Q2255.96 1547.05 2253.55 1546.31 L2253.55 1541.61 Q2255.63 1542.74 2257.86 1543.3 Q2260.08 1543.86 2262.56 1543.86 Q2266.56 1543.86 2268.9 1541.75 Q2271.24 1539.64 2271.24 1536.03 Q2271.24 1532.42 2268.9 1530.31 Q2266.56 1528.21 2262.56 1528.21 Q2260.68 1528.21 2258.81 1528.62 Q2256.95 1529.04 2255.01 1529.92 L2255.01 1512.56 Z\" fill=\"#000000\" fill-rule=\"evenodd\" fill-opacity=\"1\" /><path clip-path=\"url(#clip920)\" d=\"M 0 0 M2290.98 1515.64 Q2287.37 1515.64 2285.54 1519.2 Q2283.74 1522.75 2283.74 1529.87 Q2283.74 1536.98 2285.54 1540.55 Q2287.37 1544.09 2290.98 1544.09 Q2294.62 1544.09 2296.42 1540.55 Q2298.25 1536.98 2298.25 1529.87 Q2298.25 1522.75 2296.42 1519.2 Q2294.62 1515.64 2290.98 1515.64 M2290.98 1511.93 Q2296.79 1511.93 2299.85 1516.54 Q2302.93 1521.12 2302.93 1529.87 Q2302.93 1538.6 2299.85 1543.21 Q2296.79 1547.79 2290.98 1547.79 Q2285.17 1547.79 2282.09 1543.21 Q2279.04 1538.6 2279.04 1529.87 Q2279.04 1521.12 2282.09 1516.54 Q2285.17 1511.93 2290.98 1511.93 Z\" fill=\"#000000\" fill-rule=\"evenodd\" fill-opacity=\"1\" /><path clip-path=\"url(#clip920)\" d=\"M 0 0 M2318 1515.64 Q2314.38 1515.64 2312.56 1519.2 Q2310.75 1522.75 2310.75 1529.87 Q2310.75 1536.98 2312.56 1540.55 Q2314.38 1544.09 2318 1544.09 Q2321.63 1544.09 2323.44 1540.55 Q2325.26 1536.98 2325.26 1529.87 Q2325.26 1522.75 2323.44 1519.2 Q2321.63 1515.64 2318 1515.64 M2318 1511.93 Q2323.81 1511.93 2326.86 1516.54 Q2329.94 1521.12 2329.94 1529.87 Q2329.94 1538.6 2326.86 1543.21 Q2323.81 1547.79 2318 1547.79 Q2312.19 1547.79 2309.11 1543.21 Q2306.05 1538.6 2306.05 1529.87 Q2306.05 1521.12 2309.11 1516.54 Q2312.19 1511.93 2318 1511.93 Z\" fill=\"#000000\" fill-rule=\"evenodd\" fill-opacity=\"1\" /><polyline clip-path=\"url(#clip922)\" style=\"stroke:#000000; stroke-width:2; stroke-opacity:0.1; fill:none\" points=\"\n",
       "  197.061,1335.63 2352.76,1335.63 \n",
       "  \"/>\n",
       "<polyline clip-path=\"url(#clip922)\" style=\"stroke:#000000; stroke-width:2; stroke-opacity:0.1; fill:none\" points=\"\n",
       "  197.061,1060.41 2352.76,1060.41 \n",
       "  \"/>\n",
       "<polyline clip-path=\"url(#clip922)\" style=\"stroke:#000000; stroke-width:2; stroke-opacity:0.1; fill:none\" points=\"\n",
       "  197.061,785.194 2352.76,785.194 \n",
       "  \"/>\n",
       "<polyline clip-path=\"url(#clip922)\" style=\"stroke:#000000; stroke-width:2; stroke-opacity:0.1; fill:none\" points=\"\n",
       "  197.061,509.976 2352.76,509.976 \n",
       "  \"/>\n",
       "<polyline clip-path=\"url(#clip922)\" style=\"stroke:#000000; stroke-width:2; stroke-opacity:0.1; fill:none\" points=\"\n",
       "  197.061,234.759 2352.76,234.759 \n",
       "  \"/>\n",
       "<polyline clip-path=\"url(#clip920)\" style=\"stroke:#000000; stroke-width:4; stroke-opacity:1; fill:none\" points=\"\n",
       "  197.061,1486.45 197.061,47.2441 \n",
       "  \"/>\n",
       "<polyline clip-path=\"url(#clip920)\" style=\"stroke:#000000; stroke-width:4; stroke-opacity:1; fill:none\" points=\"\n",
       "  197.061,1335.63 222.929,1335.63 \n",
       "  \"/>\n",
       "<polyline clip-path=\"url(#clip920)\" style=\"stroke:#000000; stroke-width:4; stroke-opacity:1; fill:none\" points=\"\n",
       "  197.061,1060.41 222.929,1060.41 \n",
       "  \"/>\n",
       "<polyline clip-path=\"url(#clip920)\" style=\"stroke:#000000; stroke-width:4; stroke-opacity:1; fill:none\" points=\"\n",
       "  197.061,785.194 222.929,785.194 \n",
       "  \"/>\n",
       "<polyline clip-path=\"url(#clip920)\" style=\"stroke:#000000; stroke-width:4; stroke-opacity:1; fill:none\" points=\"\n",
       "  197.061,509.976 222.929,509.976 \n",
       "  \"/>\n",
       "<polyline clip-path=\"url(#clip920)\" style=\"stroke:#000000; stroke-width:4; stroke-opacity:1; fill:none\" points=\"\n",
       "  197.061,234.759 222.929,234.759 \n",
       "  \"/>\n",
       "<path clip-path=\"url(#clip920)\" d=\"M 0 0 M50.9921 1336.08 L80.6679 1336.08 L80.6679 1340.02 L50.9921 1340.02 L50.9921 1336.08 Z\" fill=\"#000000\" fill-rule=\"evenodd\" fill-opacity=\"1\" /><path clip-path=\"url(#clip920)\" d=\"M 0 0 M99.9039 1334.27 Q103.26 1334.99 105.135 1337.26 Q107.033 1339.53 107.033 1342.86 Q107.033 1347.98 103.515 1350.78 Q99.9965 1353.58 93.515 1353.58 Q91.3391 1353.58 89.0243 1353.14 Q86.7327 1352.72 84.279 1351.87 L84.279 1347.35 Q86.2234 1348.49 88.5382 1349.07 Q90.853 1349.64 93.3762 1349.64 Q97.7743 1349.64 100.066 1347.91 Q102.381 1346.17 102.381 1342.86 Q102.381 1339.81 100.228 1338.09 Q98.0984 1336.36 94.2789 1336.36 L90.2512 1336.36 L90.2512 1332.52 L94.4641 1332.52 Q97.9132 1332.52 99.7419 1331.15 Q101.571 1329.76 101.571 1327.17 Q101.571 1324.51 99.6724 1323.09 Q97.7974 1321.66 94.2789 1321.66 Q92.3576 1321.66 90.1586 1322.08 Q87.9595 1322.49 85.3206 1323.37 L85.3206 1319.21 Q87.9827 1318.46 90.2975 1318.09 Q92.6354 1317.72 94.6956 1317.72 Q100.02 1317.72 103.121 1320.15 Q106.223 1322.56 106.223 1326.68 Q106.223 1329.55 104.58 1331.54 Q102.936 1333.51 99.9039 1334.27 Z\" fill=\"#000000\" fill-rule=\"evenodd\" fill-opacity=\"1\" /><path clip-path=\"url(#clip920)\" d=\"M 0 0 M122.103 1321.43 Q118.492 1321.43 116.663 1324.99 Q114.858 1328.53 114.858 1335.66 Q114.858 1342.77 116.663 1346.33 Q118.492 1349.88 122.103 1349.88 Q125.737 1349.88 127.543 1346.33 Q129.371 1342.77 129.371 1335.66 Q129.371 1328.53 127.543 1324.99 Q125.737 1321.43 122.103 1321.43 M122.103 1317.72 Q127.913 1317.72 130.969 1322.33 Q134.047 1326.91 134.047 1335.66 Q134.047 1344.39 130.969 1349 Q127.913 1353.58 122.103 1353.58 Q116.293 1353.58 113.214 1349 Q110.158 1344.39 110.158 1335.66 Q110.158 1326.91 113.214 1322.33 Q116.293 1317.72 122.103 1317.72 Z\" fill=\"#000000\" fill-rule=\"evenodd\" fill-opacity=\"1\" /><path clip-path=\"url(#clip920)\" d=\"M 0 0 M149.117 1321.43 Q145.506 1321.43 143.677 1324.99 Q141.871 1328.53 141.871 1335.66 Q141.871 1342.77 143.677 1346.33 Q145.506 1349.88 149.117 1349.88 Q152.751 1349.88 154.556 1346.33 Q156.385 1342.77 156.385 1335.66 Q156.385 1328.53 154.556 1324.99 Q152.751 1321.43 149.117 1321.43 M149.117 1317.72 Q154.927 1317.72 157.982 1322.33 Q161.061 1326.91 161.061 1335.66 Q161.061 1344.39 157.982 1349 Q154.927 1353.58 149.117 1353.58 Q143.306 1353.58 140.228 1349 Q137.172 1344.39 137.172 1335.66 Q137.172 1326.91 140.228 1322.33 Q143.306 1317.72 149.117 1317.72 Z\" fill=\"#000000\" fill-rule=\"evenodd\" fill-opacity=\"1\" /><path clip-path=\"url(#clip920)\" d=\"M 0 0 M52.844 1060.86 L82.5197 1060.86 L82.5197 1064.8 L52.844 1064.8 L52.844 1060.86 Z\" fill=\"#000000\" fill-rule=\"evenodd\" fill-opacity=\"1\" /><path clip-path=\"url(#clip920)\" d=\"M 0 0 M91.6169 1073.76 L107.936 1073.76 L107.936 1077.69 L85.9919 1077.69 L85.9919 1073.76 Q88.654 1071 93.2373 1066.37 Q97.8437 1061.72 99.0243 1060.38 Q101.27 1057.85 102.149 1056.12 Q103.052 1054.36 103.052 1052.67 Q103.052 1049.91 101.108 1048.18 Q99.1863 1046.44 96.0845 1046.44 Q93.8854 1046.44 91.4317 1047.21 Q89.0012 1047.97 86.2234 1049.52 L86.2234 1044.8 Q89.0475 1043.66 91.5012 1043.08 Q93.9549 1042.51 95.9919 1042.51 Q101.362 1042.51 104.557 1045.19 Q107.751 1047.88 107.751 1052.37 Q107.751 1054.5 106.941 1056.42 Q106.154 1058.32 104.047 1060.91 Q103.469 1061.58 100.367 1064.8 Q97.265 1067.99 91.6169 1073.76 Z\" fill=\"#000000\" fill-rule=\"evenodd\" fill-opacity=\"1\" /><path clip-path=\"url(#clip920)\" d=\"M 0 0 M111.825 1043.13 L134.047 1043.13 L134.047 1045.12 L121.501 1077.69 L116.617 1077.69 L128.422 1047.07 L111.825 1047.07 L111.825 1043.13 Z\" fill=\"#000000\" fill-rule=\"evenodd\" fill-opacity=\"1\" /><path clip-path=\"url(#clip920)\" d=\"M 0 0 M149.117 1046.21 Q145.506 1046.21 143.677 1049.77 Q141.871 1053.32 141.871 1060.45 Q141.871 1067.55 143.677 1071.12 Q145.506 1074.66 149.117 1074.66 Q152.751 1074.66 154.556 1071.12 Q156.385 1067.55 156.385 1060.45 Q156.385 1053.32 154.556 1049.77 Q152.751 1046.21 149.117 1046.21 M149.117 1042.51 Q154.927 1042.51 157.982 1047.11 Q161.061 1051.7 161.061 1060.45 Q161.061 1069.17 157.982 1073.78 Q154.927 1078.36 149.117 1078.36 Q143.306 1078.36 140.228 1073.78 Q137.172 1069.17 137.172 1060.45 Q137.172 1051.7 140.228 1047.11 Q143.306 1042.51 149.117 1042.51 Z\" fill=\"#000000\" fill-rule=\"evenodd\" fill-opacity=\"1\" /><path clip-path=\"url(#clip920)\" d=\"M 0 0 M51.4551 785.645 L81.1309 785.645 L81.1309 789.58 L51.4551 789.58 L51.4551 785.645 Z\" fill=\"#000000\" fill-rule=\"evenodd\" fill-opacity=\"1\" /><path clip-path=\"url(#clip920)\" d=\"M 0 0 M90.228 798.539 L106.547 798.539 L106.547 802.474 L84.6031 802.474 L84.6031 798.539 Q87.2651 795.784 91.8484 791.154 Q96.4548 786.502 97.6354 785.159 Q99.8808 782.636 100.76 780.9 Q101.663 779.141 101.663 777.451 Q101.663 774.696 99.7187 772.96 Q97.7974 771.224 94.6956 771.224 Q92.4965 771.224 90.0428 771.988 Q87.6123 772.752 84.8345 774.303 L84.8345 769.58 Q87.6586 768.446 90.1123 767.868 Q92.566 767.289 94.603 767.289 Q99.9733 767.289 103.168 769.974 Q106.362 772.659 106.362 777.15 Q106.362 779.279 105.552 781.201 Q104.765 783.099 102.659 785.691 Q102.08 786.363 98.978 789.58 Q95.8761 792.775 90.228 798.539 Z\" fill=\"#000000\" fill-rule=\"evenodd\" fill-opacity=\"1\" /><path clip-path=\"url(#clip920)\" d=\"M 0 0 M124.464 771.988 L112.658 790.437 L124.464 790.437 L124.464 771.988 M123.237 767.914 L129.117 767.914 L129.117 790.437 L134.047 790.437 L134.047 794.326 L129.117 794.326 L129.117 802.474 L124.464 802.474 L124.464 794.326 L108.862 794.326 L108.862 789.812 L123.237 767.914 Z\" fill=\"#000000\" fill-rule=\"evenodd\" fill-opacity=\"1\" /><path clip-path=\"url(#clip920)\" d=\"M 0 0 M149.117 770.993 Q145.506 770.993 143.677 774.557 Q141.871 778.099 141.871 785.229 Q141.871 792.335 143.677 795.9 Q145.506 799.441 149.117 799.441 Q152.751 799.441 154.556 795.9 Q156.385 792.335 156.385 785.229 Q156.385 778.099 154.556 774.557 Q152.751 770.993 149.117 770.993 M149.117 767.289 Q154.927 767.289 157.982 771.895 Q161.061 776.479 161.061 785.229 Q161.061 793.955 157.982 798.562 Q154.927 803.145 149.117 803.145 Q143.306 803.145 140.228 798.562 Q137.172 793.955 137.172 785.229 Q137.172 776.479 140.228 771.895 Q143.306 767.289 149.117 767.289 Z\" fill=\"#000000\" fill-rule=\"evenodd\" fill-opacity=\"1\" /><path clip-path=\"url(#clip920)\" d=\"M 0 0 M53.168 510.428 L82.8438 510.428 L82.8438 514.363 L53.168 514.363 L53.168 510.428 Z\" fill=\"#000000\" fill-rule=\"evenodd\" fill-opacity=\"1\" /><path clip-path=\"url(#clip920)\" d=\"M 0 0 M91.941 523.321 L108.26 523.321 L108.26 527.256 L86.316 527.256 L86.316 523.321 Q88.978 520.567 93.5613 515.937 Q98.1678 511.284 99.3483 509.942 Q101.594 507.419 102.473 505.682 Q103.376 503.923 103.376 502.233 Q103.376 499.479 101.432 497.743 Q99.5104 496.007 96.4085 496.007 Q94.2095 496.007 91.7558 496.77 Q89.3253 497.534 86.5475 499.085 L86.5475 494.363 Q89.3715 493.229 91.8252 492.65 Q94.2789 492.071 96.316 492.071 Q101.686 492.071 104.881 494.757 Q108.075 497.442 108.075 501.932 Q108.075 504.062 107.265 505.983 Q106.478 507.881 104.371 510.474 Q103.793 511.145 100.691 514.363 Q97.5891 517.557 91.941 523.321 Z\" fill=\"#000000\" fill-rule=\"evenodd\" fill-opacity=\"1\" /><path clip-path=\"url(#clip920)\" d=\"M 0 0 M114.14 523.321 L121.779 523.321 L121.779 496.956 L113.469 498.622 L113.469 494.363 L121.732 492.696 L126.408 492.696 L126.408 523.321 L134.047 523.321 L134.047 527.256 L114.14 527.256 L114.14 523.321 Z\" fill=\"#000000\" fill-rule=\"evenodd\" fill-opacity=\"1\" /><path clip-path=\"url(#clip920)\" d=\"M 0 0 M149.117 495.775 Q145.506 495.775 143.677 499.34 Q141.871 502.881 141.871 510.011 Q141.871 517.118 143.677 520.682 Q145.506 524.224 149.117 524.224 Q152.751 524.224 154.556 520.682 Q156.385 517.118 156.385 510.011 Q156.385 502.881 154.556 499.34 Q152.751 495.775 149.117 495.775 M149.117 492.071 Q154.927 492.071 157.982 496.678 Q161.061 501.261 161.061 510.011 Q161.061 518.738 157.982 523.344 Q154.927 527.928 149.117 527.928 Q143.306 527.928 140.228 523.344 Q137.172 518.738 137.172 510.011 Q137.172 501.261 140.228 496.678 Q143.306 492.071 149.117 492.071 Z\" fill=\"#000000\" fill-rule=\"evenodd\" fill-opacity=\"1\" /><path clip-path=\"url(#clip920)\" d=\"M 0 0 M51.6634 235.21 L81.3392 235.21 L81.3392 239.145 L51.6634 239.145 L51.6634 235.21 Z\" fill=\"#000000\" fill-rule=\"evenodd\" fill-opacity=\"1\" /><path clip-path=\"url(#clip920)\" d=\"M 0 0 M87.2188 248.104 L94.8576 248.104 L94.8576 221.738 L86.5475 223.405 L86.5475 219.146 L94.8113 217.479 L99.4872 217.479 L99.4872 248.104 L107.126 248.104 L107.126 252.039 L87.2188 252.039 L87.2188 248.104 Z\" fill=\"#000000\" fill-rule=\"evenodd\" fill-opacity=\"1\" /><path clip-path=\"url(#clip920)\" d=\"M 0 0 M122.195 235.627 Q118.862 235.627 116.941 237.409 Q115.043 239.192 115.043 242.317 Q115.043 245.442 116.941 247.224 Q118.862 249.007 122.195 249.007 Q125.529 249.007 127.45 247.224 Q129.371 245.419 129.371 242.317 Q129.371 239.192 127.45 237.409 Q125.552 235.627 122.195 235.627 M117.52 233.636 Q114.51 232.896 112.82 230.835 Q111.154 228.775 111.154 225.812 Q111.154 221.669 114.094 219.261 Q117.057 216.854 122.195 216.854 Q127.357 216.854 130.297 219.261 Q133.237 221.669 133.237 225.812 Q133.237 228.775 131.547 230.835 Q129.881 232.896 126.894 233.636 Q130.274 234.423 132.149 236.715 Q134.047 239.007 134.047 242.317 Q134.047 247.34 130.969 250.025 Q127.913 252.71 122.195 252.71 Q116.478 252.71 113.399 250.025 Q110.344 247.34 110.344 242.317 Q110.344 239.007 112.242 236.715 Q114.14 234.423 117.52 233.636 M115.807 226.252 Q115.807 228.937 117.473 230.442 Q119.163 231.946 122.195 231.946 Q125.205 231.946 126.894 230.442 Q128.607 228.937 128.607 226.252 Q128.607 223.567 126.894 222.062 Q125.205 220.558 122.195 220.558 Q119.163 220.558 117.473 222.062 Q115.807 223.567 115.807 226.252 Z\" fill=\"#000000\" fill-rule=\"evenodd\" fill-opacity=\"1\" /><path clip-path=\"url(#clip920)\" d=\"M 0 0 M149.117 220.558 Q145.506 220.558 143.677 224.122 Q141.871 227.664 141.871 234.794 Q141.871 241.9 143.677 245.465 Q145.506 249.007 149.117 249.007 Q152.751 249.007 154.556 245.465 Q156.385 241.9 156.385 234.794 Q156.385 227.664 154.556 224.122 Q152.751 220.558 149.117 220.558 M149.117 216.854 Q154.927 216.854 157.982 221.46 Q161.061 226.044 161.061 234.794 Q161.061 243.52 157.982 248.127 Q154.927 252.71 149.117 252.71 Q143.306 252.71 140.228 248.127 Q137.172 243.52 137.172 234.794 Q137.172 226.044 140.228 221.46 Q143.306 216.854 149.117 216.854 Z\" fill=\"#000000\" fill-rule=\"evenodd\" fill-opacity=\"1\" /><polyline clip-path=\"url(#clip922)\" style=\"stroke:#009af9; stroke-width:4; stroke-opacity:1; fill:none\" points=\"\n",
       "  258.071,161.368 262.147,161.368 266.222,124.672 270.298,87.9763 274.373,161.368 278.449,161.368 282.524,198.063 286.6,161.368 290.675,198.063 294.751,234.759 \n",
       "  298.826,198.063 302.902,234.759 306.977,271.455 311.053,198.063 315.128,234.759 319.204,198.063 323.279,234.759 327.355,308.15 331.43,271.455 335.506,308.15 \n",
       "  339.581,344.846 343.657,344.846 347.732,344.846 351.808,381.542 355.883,381.542 359.959,418.237 364.034,381.542 368.11,381.542 372.185,418.237 376.261,491.629 \n",
       "  380.336,491.629 384.412,528.324 388.487,528.324 392.563,528.324 396.638,491.629 400.714,418.237 404.789,454.933 408.865,418.237 412.94,454.933 417.016,491.629 \n",
       "  421.091,454.933 425.167,454.933 429.242,418.237 433.318,418.237 437.393,381.542 441.469,418.237 445.544,418.237 449.62,418.237 453.695,418.237 457.771,418.237 \n",
       "  461.846,418.237 465.922,418.237 469.997,381.542 474.073,381.542 478.148,454.933 482.224,381.542 486.299,418.237 490.375,418.237 494.45,381.542 498.526,381.542 \n",
       "  502.601,418.237 506.677,381.542 510.752,344.846 514.828,344.846 518.903,344.846 522.979,308.15 527.054,308.15 531.13,308.15 535.205,308.15 539.281,234.759 \n",
       "  543.356,234.759 547.432,234.759 551.507,234.759 555.583,198.063 559.658,198.063 563.734,271.455 567.809,308.15 571.885,271.455 575.96,234.759 580.036,271.455 \n",
       "  584.111,308.15 588.187,344.846 592.262,344.846 596.338,344.846 600.413,381.542 604.489,418.237 608.564,454.933 612.64,454.933 616.715,491.629 620.791,528.324 \n",
       "  624.866,528.324 628.942,454.933 633.017,454.933 637.093,491.629 641.168,528.324 645.244,454.933 649.319,491.629 653.395,418.237 657.47,344.846 661.546,381.542 \n",
       "  665.621,308.15 669.697,381.542 673.772,344.846 677.848,344.846 681.923,381.542 685.999,344.846 690.074,381.542 694.15,344.846 698.225,344.846 702.301,381.542 \n",
       "  706.376,418.237 710.452,381.542 714.527,344.846 718.603,381.542 722.678,381.542 726.754,381.542 730.829,344.846 734.905,418.237 738.98,454.933 743.056,454.933 \n",
       "  747.131,381.542 751.207,418.237 755.282,454.933 759.358,418.237 763.433,454.933 767.509,491.629 771.584,528.324 775.66,565.02 779.735,491.629 783.811,528.324 \n",
       "  787.886,491.629 791.962,528.324 796.037,491.629 800.113,418.237 804.188,491.629 808.264,454.933 812.339,491.629 816.415,491.629 820.49,491.629 824.566,491.629 \n",
       "  828.641,454.933 832.717,418.237 836.792,418.237 840.868,418.237 844.943,454.933 849.019,454.933 853.094,418.237 857.17,454.933 861.245,454.933 865.321,528.324 \n",
       "  869.396,565.02 873.472,565.02 877.547,565.02 881.623,638.411 885.698,601.716 889.774,565.02 893.849,528.324 897.925,528.324 902,528.324 906.076,528.324 \n",
       "  910.151,601.716 914.227,565.02 918.302,601.716 922.378,601.716 926.453,601.716 930.529,601.716 934.604,601.716 938.68,528.324 942.755,565.02 946.831,491.629 \n",
       "  950.906,491.629 954.982,454.933 959.057,491.629 963.133,528.324 967.208,528.324 971.284,491.629 975.359,454.933 979.435,491.629 983.51,454.933 987.586,491.629 \n",
       "  991.661,491.629 995.737,528.324 999.812,491.629 1003.89,454.933 1007.96,528.324 1012.04,528.324 1016.11,565.02 1020.19,565.02 1024.27,601.716 1028.34,601.716 \n",
       "  1032.42,565.02 1036.49,528.324 1040.57,528.324 1044.64,528.324 1048.72,528.324 1052.79,528.324 1056.87,565.02 1060.94,601.716 1065.02,528.324 1069.1,528.324 \n",
       "  1073.17,528.324 1077.25,528.324 1081.32,565.02 1085.4,528.324 1089.47,565.02 1093.55,601.716 1097.62,601.716 1101.7,601.716 1105.78,638.411 1109.85,675.107 \n",
       "  1113.93,675.107 1118,711.802 1122.08,748.498 1126.15,785.194 1130.23,821.889 1134.3,785.194 1138.38,785.194 1142.45,785.194 1146.53,711.802 1150.61,748.498 \n",
       "  1154.68,821.889 1158.76,895.281 1162.83,858.585 1166.91,895.281 1170.98,968.672 1175.06,968.672 1179.13,968.672 1183.21,931.976 1187.29,968.672 1191.36,895.281 \n",
       "  1195.44,895.281 1199.51,895.281 1203.59,895.281 1207.66,895.281 1211.74,931.976 1215.81,895.281 1219.89,931.976 1223.96,968.672 1228.04,968.672 1232.12,968.672 \n",
       "  1236.19,895.281 1240.27,931.976 1244.34,895.281 1248.42,931.976 1252.49,931.976 1256.57,968.672 1260.64,968.672 1264.72,931.976 1268.8,931.976 1272.87,931.976 \n",
       "  1276.95,968.672 1281.02,895.281 1285.1,858.585 1289.17,785.194 1293.25,821.889 1297.32,858.585 1301.4,895.281 1305.47,931.976 1309.55,895.281 1313.63,931.976 \n",
       "  1317.7,968.672 1321.78,968.672 1325.85,931.976 1329.93,895.281 1334,895.281 1338.08,895.281 1342.15,931.976 1346.23,895.281 1350.31,931.976 1354.38,858.585 \n",
       "  1358.46,821.889 1362.53,821.889 1366.61,858.585 1370.68,821.889 1374.76,821.889 1378.83,821.889 1382.91,858.585 1386.98,895.281 1391.06,931.976 1395.14,931.976 \n",
       "  1399.21,968.672 1403.29,1005.37 1407.36,1005.37 1411.44,931.976 1415.51,931.976 1419.59,931.976 1423.66,895.281 1427.74,895.281 1431.82,931.976 1435.89,895.281 \n",
       "  1439.97,931.976 1444.04,968.672 1448.12,968.672 1452.19,931.976 1456.27,858.585 1460.34,821.889 1464.42,821.889 1468.49,785.194 1472.57,785.194 1476.65,821.889 \n",
       "  1480.72,821.889 1484.8,821.889 1488.87,858.585 1492.95,858.585 1497.02,821.889 1501.1,785.194 1505.17,748.498 1509.25,675.107 1513.33,711.802 1517.4,711.802 \n",
       "  1521.48,748.498 1525.55,821.889 1529.63,821.889 1533.7,785.194 1537.78,785.194 1541.85,748.498 1545.93,711.802 1550,675.107 1554.08,675.107 1558.16,711.802 \n",
       "  1562.23,675.107 1566.31,638.411 1570.38,565.02 1574.46,528.324 1578.53,601.716 1582.61,601.716 1586.68,601.716 1590.76,601.716 1594.84,675.107 1598.91,675.107 \n",
       "  1602.99,638.411 1607.06,675.107 1611.14,675.107 1615.21,748.498 1619.29,785.194 1623.36,748.498 1627.44,711.802 1631.51,748.498 1635.59,711.802 1639.67,785.194 \n",
       "  1643.74,785.194 1647.82,748.498 1651.89,785.194 1655.97,785.194 1660.04,821.889 1664.12,895.281 1668.19,931.976 1672.27,931.976 1676.35,968.672 1680.42,968.672 \n",
       "  1684.5,968.672 1688.57,968.672 1692.65,968.672 1696.72,968.672 1700.8,1005.37 1704.87,931.976 1708.95,1005.37 1713.02,1005.37 1717.1,1005.37 1721.18,1005.37 \n",
       "  1725.25,1005.37 1729.33,1042.06 1733.4,1115.45 1737.48,1188.85 1741.55,1225.54 1745.63,1225.54 1749.7,1188.85 1753.78,1225.54 1757.86,1262.24 1761.93,1262.24 \n",
       "  1766.01,1262.24 1770.08,1262.24 1774.16,1225.54 1778.23,1225.54 1782.31,1262.24 1786.38,1262.24 1790.46,1262.24 1794.53,1262.24 1798.61,1335.63 1802.69,1298.93 \n",
       "  1806.76,1298.93 1810.84,1262.24 1814.91,1225.54 1818.99,1262.24 1823.06,1298.93 1827.14,1298.93 1831.21,1298.93 1835.29,1372.32 1839.37,1445.72 1843.44,1372.32 \n",
       "  1847.52,1298.93 1851.59,1372.32 1855.67,1372.32 1859.74,1372.32 1863.82,1298.93 1867.89,1335.63 1871.97,1335.63 1876.04,1372.32 1880.12,1372.32 1884.2,1335.63 \n",
       "  1888.27,1298.93 1892.35,1298.93 1896.42,1298.93 1900.5,1262.24 1904.57,1225.54 1908.65,1225.54 1912.72,1225.54 1916.8,1225.54 1920.88,1152.15 1924.95,1115.45 \n",
       "  1929.03,1152.15 1933.1,1188.85 1937.18,1188.85 1941.25,1188.85 1945.33,1188.85 1949.4,1225.54 1953.48,1188.85 1957.55,1188.85 1961.63,1152.15 1965.71,1152.15 \n",
       "  1969.78,1152.15 1973.86,1078.76 1977.93,1042.06 1982.01,1005.37 1986.08,1005.37 1990.16,1042.06 1994.23,1042.06 1998.31,1005.37 2002.39,1005.37 2006.46,1005.37 \n",
       "  2010.54,1005.37 2014.61,968.672 2018.69,931.976 2022.76,931.976 2026.84,968.672 2030.91,895.281 2034.99,895.281 2039.06,895.281 2043.14,895.281 2047.22,895.281 \n",
       "  2051.29,931.976 2055.37,931.976 2059.44,968.672 2063.52,968.672 2067.59,931.976 2071.67,931.976 2075.74,931.976 2079.82,968.672 2083.9,1042.06 2087.97,1005.37 \n",
       "  2092.05,1042.06 2096.12,1042.06 2100.2,1042.06 2104.27,1042.06 2108.35,1078.76 2112.42,1115.45 2116.5,1115.45 2120.57,1152.15 2124.65,1188.85 2128.73,1115.45 \n",
       "  2132.8,1115.45 2136.88,1152.15 2140.95,1115.45 2145.03,1115.45 2149.1,1115.45 2153.18,1078.76 2157.25,1042.06 2161.33,1042.06 2165.41,1042.06 2169.48,1042.06 \n",
       "  2173.56,1078.76 2177.63,1115.45 2181.71,1115.45 2185.78,1078.76 2189.86,1115.45 2193.93,1078.76 2198.01,1115.45 2202.08,1078.76 2206.16,1042.06 2210.24,1078.76 \n",
       "  2214.31,1042.06 2218.39,1042.06 2222.46,1005.37 2226.54,968.672 2230.61,931.976 2234.69,858.585 2238.76,895.281 2242.84,895.281 2246.92,931.976 2250.99,968.672 \n",
       "  2255.07,931.976 2259.14,895.281 2263.22,858.585 2267.29,895.281 2271.37,931.976 2275.44,968.672 2279.52,968.672 2283.59,1005.37 2287.67,968.672 2291.75,1005.37 \n",
       "  \n",
       "  \"/>\n",
       "<path clip-path=\"url(#clip920)\" d=\"\n",
       "M1990.36 216.178 L2280.9 216.178 L2280.9 95.2176 L1990.36 95.2176  Z\n",
       "  \" fill=\"#ffffff\" fill-rule=\"evenodd\" fill-opacity=\"1\"/>\n",
       "<polyline clip-path=\"url(#clip920)\" style=\"stroke:#000000; stroke-width:4; stroke-opacity:1; fill:none\" points=\"\n",
       "  1990.36,216.178 2280.9,216.178 2280.9,95.2176 1990.36,95.2176 1990.36,216.178 \n",
       "  \"/>\n",
       "<polyline clip-path=\"url(#clip920)\" style=\"stroke:#009af9; stroke-width:4; stroke-opacity:1; fill:none\" points=\"\n",
       "  2014.31,155.698 2158.02,155.698 \n",
       "  \"/>\n",
       "<path clip-path=\"url(#clip920)\" d=\"M 0 0 M2195.82 175.385 Q2194.01 180.015 2192.3 181.427 Q2190.59 182.839 2187.72 182.839 L2184.31 182.839 L2184.31 179.274 L2186.81 179.274 Q2188.57 179.274 2189.55 178.44 Q2190.52 177.607 2191.7 174.505 L2192.46 172.561 L2181.98 147.052 L2186.49 147.052 L2194.59 167.329 L2202.69 147.052 L2207.21 147.052 L2195.82 175.385 Z\" fill=\"#000000\" fill-rule=\"evenodd\" fill-opacity=\"1\" /><path clip-path=\"url(#clip920)\" d=\"M 0 0 M2213.09 169.042 L2220.73 169.042 L2220.73 142.677 L2212.42 144.343 L2212.42 140.084 L2220.68 138.418 L2225.36 138.418 L2225.36 169.042 L2233 169.042 L2233 172.978 L2213.09 172.978 L2213.09 169.042 Z\" fill=\"#000000\" fill-rule=\"evenodd\" fill-opacity=\"1\" /></svg>\n"
      ]
     },
     "execution_count": 114,
     "metadata": {},
     "output_type": "execute_result"
    }
   ],
   "source": [
    "plot(energias)"
   ]
  },
  {
   "cell_type": "code",
   "execution_count": null,
   "metadata": {},
   "outputs": [],
   "source": []
  },
  {
   "cell_type": "code",
   "execution_count": null,
   "metadata": {},
   "outputs": [],
   "source": []
  },
  {
   "cell_type": "code",
   "execution_count": null,
   "metadata": {},
   "outputs": [],
   "source": []
  },
  {
   "cell_type": "code",
   "execution_count": null,
   "metadata": {},
   "outputs": [],
   "source": []
  }
 ],
 "metadata": {
  "kernelspec": {
   "display_name": "Julia 1.5.1",
   "language": "julia",
   "name": "julia-1.5"
  },
  "language_info": {
   "file_extension": ".jl",
   "mimetype": "application/julia",
   "name": "julia",
   "version": "1.5.1"
  }
 },
 "nbformat": 4,
 "nbformat_minor": 4
}
