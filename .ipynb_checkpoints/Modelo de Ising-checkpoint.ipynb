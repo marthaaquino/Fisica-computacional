{
 "cells": [
  {
   "cell_type": "markdown",
   "metadata": {},
   "source": [
    "# Modelo de Ising (el problema de Onsanger)\n",
    "\n",
    "Aquino Chapa Martha Abril"
   ]
  },
  {
   "cell_type": "markdown",
   "metadata": {},
   "source": [
    "Iniciamos creando la red cuadrada de $N^2$ elementos, la cual en vez de presentarla como una matriz será un arreglo\n",
    "\n",
    "$$RED = [1,2,3,...,N^2] $$"
   ]
  },
  {
   "cell_type": "code",
   "execution_count": 2,
   "metadata": {},
   "outputs": [
    {
     "data": {
      "text/plain": [
       "generador_de_red (generic function with 1 method)"
      ]
     },
     "execution_count": 2,
     "metadata": {},
     "output_type": "execute_result"
    }
   ],
   "source": [
    "#función que genera una red considerando de manera aleatoria los elememtos de la red: -1 o 1\n",
    "#El total de elementos en la red es N^2\n",
    "function generador_de_red(N)\n",
    "    return  [rand([-1,1]) for i in 1:N^2]\n",
    "end"
   ]
  },
  {
   "cell_type": "code",
   "execution_count": 13,
   "metadata": {},
   "outputs": [
    {
     "data": {
      "text/plain": [
       "900-element Array{Int64,1}:\n",
       "  1\n",
       " -1\n",
       " -1\n",
       "  1\n",
       " -1\n",
       "  1\n",
       "  1\n",
       " -1\n",
       "  1\n",
       " -1\n",
       " -1\n",
       "  1\n",
       "  1\n",
       "  ⋮\n",
       " -1\n",
       " -1\n",
       "  1\n",
       "  1\n",
       "  1\n",
       " -1\n",
       "  1\n",
       " -1\n",
       " -1\n",
       "  1\n",
       " -1\n",
       "  1"
      ]
     },
     "execution_count": 13,
     "metadata": {},
     "output_type": "execute_result"
    }
   ],
   "source": [
    "#Probando la función:\n",
    "red_prueba = generador_de_red(30)"
   ]
  },
  {
   "cell_type": "markdown",
   "metadata": {},
   "source": [
    "Ahora generamos un arreglo en el cual en cada fila se encuentren acomodados los vecinos del i-ésimo elemento. \n",
    "Estarán acomodados de la siguiente manera: [vecino de arriba, vecino de la derecha, vecino de abajo, vecino de la izquierda]"
   ]
  },
  {
   "cell_type": "code",
   "execution_count": 4,
   "metadata": {},
   "outputs": [
    {
     "data": {
      "text/plain": [
       "generador_indice_vecinos (generic function with 1 method)"
      ]
     },
     "execution_count": 4,
     "metadata": {},
     "output_type": "execute_result"
    }
   ],
   "source": [
    "function generador_indice_vecinos(red)\n",
    "    N² = length(red)\n",
    "    N= Int((N²)^(1/2))\n",
    "    v = zeros(N²,4)\n",
    "    #v[i] = [arriba, derecha, abajo, izquierda]\n",
    "\n",
    "    #Obtenemos el arreglado donde acomodamos los situos de los\n",
    "    \n",
    "    #Iniciamos a indexar los vecinos de arriba\n",
    "    for j in 1:N²\n",
    "        if j+N<= N²\n",
    "            v[j,1] = j+N \n",
    "\n",
    "        elseif j+N>N²\n",
    "            v[j,1] = j - N*(N-1)\n",
    "        end\n",
    "\n",
    "        #Para los vecinos de la derecha\n",
    "        if j%N != 0 \n",
    "            v[j,2] = j+1\n",
    "        elseif j%N ==0\n",
    "            v[j,2] = j-N+1 \n",
    "        end\n",
    "\n",
    "\n",
    "        #Para los vecinos de abajo\n",
    "\n",
    "        if j-N>=1\n",
    "            v[j,3] = j-N\n",
    "        elseif j-N<1\n",
    "            v[j,3] =j+N*(N-1)\n",
    "        end\n",
    "\n",
    "        #Para los vecinos izquierda\n",
    "\n",
    "        if (j-1)%N != 0\n",
    "            v[j,4] = j-1\n",
    "        elseif (j-1)%N ==0\n",
    "            v[j,4] = j+N-1\n",
    "        end\n",
    "    end\n",
    "    #Regresamos el arreglo donde están los vecinos\n",
    "    return v\n",
    "end"
   ]
  },
  {
   "cell_type": "code",
   "execution_count": 14,
   "metadata": {},
   "outputs": [
    {
     "data": {
      "text/plain": [
       "900×4 Array{Float64,2}:\n",
       " 31.0    2.0  871.0   30.0\n",
       " 32.0    3.0  872.0    1.0\n",
       " 33.0    4.0  873.0    2.0\n",
       " 34.0    5.0  874.0    3.0\n",
       " 35.0    6.0  875.0    4.0\n",
       " 36.0    7.0  876.0    5.0\n",
       " 37.0    8.0  877.0    6.0\n",
       " 38.0    9.0  878.0    7.0\n",
       " 39.0   10.0  879.0    8.0\n",
       " 40.0   11.0  880.0    9.0\n",
       " 41.0   12.0  881.0   10.0\n",
       " 42.0   13.0  882.0   11.0\n",
       " 43.0   14.0  883.0   12.0\n",
       "  ⋮                  \n",
       " 19.0  890.0  859.0  888.0\n",
       " 20.0  891.0  860.0  889.0\n",
       " 21.0  892.0  861.0  890.0\n",
       " 22.0  893.0  862.0  891.0\n",
       " 23.0  894.0  863.0  892.0\n",
       " 24.0  895.0  864.0  893.0\n",
       " 25.0  896.0  865.0  894.0\n",
       " 26.0  897.0  866.0  895.0\n",
       " 27.0  898.0  867.0  896.0\n",
       " 28.0  899.0  868.0  897.0\n",
       " 29.0  900.0  869.0  898.0\n",
       " 30.0  871.0  870.0  899.0"
      ]
     },
     "execution_count": 14,
     "metadata": {},
     "output_type": "execute_result"
    }
   ],
   "source": [
    "#Probando la función con la red de prueba\n",
    "vecinos_prueba = generador_indice_vecinos(red_prueba)\n",
    "#print(vecinos_prueba[1,3])"
   ]
  },
  {
   "cell_type": "markdown",
   "metadata": {},
   "source": [
    "En el modelo de Ising considerando geometría cuadrada se tiene que la energía de interacción de un elemento con sus vecinos está dada por\n",
    "$$E= -J\\sum_{<ij>}S_iS_j $$\n",
    "\n",
    "Por lo que la energía de un elemento se calcula con la siguiente función"
   ]
  },
  {
   "cell_type": "markdown",
   "metadata": {},
   "source": [
    "Creamos una función que nos devuelva la energía total del sistema "
   ]
  },
  {
   "cell_type": "code",
   "execution_count": 10,
   "metadata": {},
   "outputs": [
    {
     "data": {
      "text/plain": [
       "energia_total_del_sistema (generic function with 1 method)"
      ]
     },
     "execution_count": 10,
     "metadata": {},
     "output_type": "execute_result"
    }
   ],
   "source": [
    "function energia_total_del_sistema(red_lista,vecinos_lista,J)### Indice del elemento de \n",
    "    #Creamos un arreglo donde iremos sumando cada elemento de la suma de la energía total\n",
    "    energia_total = 0\n",
    "    #Creamos un arreglo que obtenga la energía de interacción de cada elemento de la red\n",
    "    N² = length(red_lista)\n",
    "    for i in 1:N²\n",
    "       #variable donde se anexará el i-ésimo elemento de la suma\n",
    "        energia = 0\n",
    "        #creamos un ciclo que multiplique el spin del elemento de la red por el de sus vecinos\n",
    "        for j in 1:4\n",
    "            #Indice del vecino en la red\n",
    "            k = Int(vecinos_lista[i,j])\n",
    "            energia += red_lista[i]*red_lista[k]\n",
    "        end\n",
    "        energia_total += energia*(-J)\n",
    "    end\n",
    "    return energia_total/2\n",
    "end"
   ]
  },
  {
   "cell_type": "code",
   "execution_count": 15,
   "metadata": {},
   "outputs": [
    {
     "data": {
      "text/plain": [
       "4.000000000000001"
      ]
     },
     "execution_count": 15,
     "metadata": {},
     "output_type": "execute_result"
    }
   ],
   "source": [
    "energia_total_prueba = energia_total_del_sistema(red_prueba,vecinos_prueba,0.1)"
   ]
  },
  {
   "cell_type": "code",
   "execution_count": 16,
   "metadata": {},
   "outputs": [
    {
     "data": {
      "text/plain": [
       "magnetizacion (generic function with 1 method)"
      ]
     },
     "execution_count": 16,
     "metadata": {},
     "output_type": "execute_result"
    }
   ],
   "source": [
    "function magnetizacion(red_lista)\n",
    "    return sum(red_lista)\n",
    "end"
   ]
  },
  {
   "cell_type": "code",
   "execution_count": 17,
   "metadata": {},
   "outputs": [
    {
     "data": {
      "text/plain": [
       "-36"
      ]
     },
     "execution_count": 17,
     "metadata": {},
     "output_type": "execute_result"
    }
   ],
   "source": [
    "magnetizacion_prueba = magnetizacion(red_prueba)"
   ]
  },
  {
   "cell_type": "markdown",
   "metadata": {},
   "source": [
    "### Implementando el algoritmo de Metropolis con Monte Carlo "
   ]
  },
  {
   "cell_type": "markdown",
   "metadata": {},
   "source": [
    "Generando el algoritmo de Metropolis\n",
    "$$\\frac{p_i}{p_j} = e^{(-\\beta(E_i-E_j))} $$\n",
    "y queremos encontrar el estado de equilibrio"
   ]
  },
  {
   "cell_type": "code",
   "execution_count": 84,
   "metadata": {},
   "outputs": [
    {
     "data": {
      "text/plain": [
       "energia_por_elemento (generic function with 2 methods)"
      ]
     },
     "execution_count": 84,
     "metadata": {},
     "output_type": "execute_result"
    }
   ],
   "source": [
    "function energia_por_elemento(elemento,elemento_indice,vecinos_indices,red_lista,J)### Indice del elemento de \n",
    "    #Variable donde se almacenará la suma de los elementos de la energía\n",
    "    energia_suma = 0\n",
    "    for i in 1:4\n",
    "        indice_vecino = Int(vecinos_indices[elemento_indice,i])\n",
    "        energia_suma += elemento*red_lista[indice_vecino]\n",
    "    end\n",
    "    return energia_suma*(-J)\n",
    "    \n",
    "end"
   ]
  },
  {
   "cell_type": "code",
   "execution_count": 98,
   "metadata": {},
   "outputs": [
    {
     "data": {
      "text/plain": [
       "ising (generic function with 2 methods)"
      ]
     },
     "execution_count": 98,
     "metadata": {},
     "output_type": "execute_result"
    }
   ],
   "source": [
    "function ising(red_inicial,energia_inicial,β,J)#Q son las iteraciones máximas\n",
    "    N² = Int(length(red_inicial))\n",
    "    Q=500\n",
    "    red_inicial = copy(red_inicial)\n",
    "    #contando el spin total y la energia total en cada iteracion, omitiendo los de la primera\n",
    "    #iteracion\n",
    "    energias = zeros(Q)\n",
    "    spines = zeros(Q)\n",
    "    vecinos = generador_indice_vecinos(red_inicial)\n",
    "    for i in 1:Q\n",
    "        #Definimos el elemento al que se le cambiará el spin aleatoriamente \n",
    "        x = Int(rand(1:length(red_inicial)))\n",
    "        #sus vecinos \n",
    "        \n",
    "        #cambiamos el spin en la copia de la red\n",
    "        spin_inicial = red_inicial[x] \n",
    "        #La propuesta para cambiar el spin\n",
    "        spin_final = spin_inicial*(-1)\n",
    "        energia_inicial = energia_por_elemento(spin_inicial,Int(x),vecinos,red_inicial,J)\n",
    "    \n",
    "        energia_final = energia_inicial = energia_por_elemento(spin_final,x,vecinos,red_inicial,J)\n",
    "        \n",
    "        dE= energia_final-energia_inicial\n",
    "        if dE<0*(rand()<exp(-β*J*dE))\n",
    "            red_inicial[x] = spin_final\n",
    "        elseif dE<=0\n",
    "            red_inicial[x] = spin_final\n",
    "        end\n",
    "        spines[i] = sum(red_inicial)\n",
    "        energias[i] = energia_total_del_sistema(red_inicial,vecinos,J)\n",
    "    end\n",
    "    return spines, energias\n",
    "end"
   ]
  },
  {
   "cell_type": "code",
   "execution_count": 99,
   "metadata": {},
   "outputs": [
    {
     "data": {
      "text/plain": [
       "([-38.0, -36.0, -34.0, -36.0, -34.0, -32.0, -30.0, -28.0, -30.0, -28.0  …  -22.0, -20.0, -22.0, -24.0, -22.0, -20.0, -22.0, -24.0, -22.0, -20.0], [44.0, 40.0, 36.0, 36.0, 40.0, 40.0, 32.0, 32.0, 28.0, 20.0  …  8.0, 4.0, 0.0, -4.0, 0.0, 0.0, 4.0, 4.0, 0.0, 4.0])"
      ]
     },
     "execution_count": 99,
     "metadata": {},
     "output_type": "execute_result"
    }
   ],
   "source": [
    "ising(red_prueba,energia_total_prueba,1,1)"
   ]
  },
  {
   "cell_type": "code",
   "execution_count": 43,
   "metadata": {},
   "outputs": [
    {
     "data": {
      "text/plain": [
       "4"
      ]
     },
     "execution_count": 43,
     "metadata": {},
     "output_type": "execute_result"
    }
   ],
   "source": [
    "    \n",
    "       "
   ]
  },
  {
   "cell_type": "code",
   "execution_count": null,
   "metadata": {},
   "outputs": [],
   "source": []
  },
  {
   "cell_type": "code",
   "execution_count": null,
   "metadata": {},
   "outputs": [],
   "source": []
  },
  {
   "cell_type": "code",
   "execution_count": null,
   "metadata": {},
   "outputs": [],
   "source": []
  },
  {
   "cell_type": "code",
   "execution_count": null,
   "metadata": {},
   "outputs": [],
   "source": []
  },
  {
   "cell_type": "code",
   "execution_count": null,
   "metadata": {},
   "outputs": [],
   "source": []
  }
 ],
 "metadata": {
  "kernelspec": {
   "display_name": "Julia 1.5.1",
   "language": "julia",
   "name": "julia-1.5"
  },
  "language_info": {
   "file_extension": ".jl",
   "mimetype": "application/julia",
   "name": "julia",
   "version": "1.5.1"
  }
 },
 "nbformat": 4,
 "nbformat_minor": 4
}
