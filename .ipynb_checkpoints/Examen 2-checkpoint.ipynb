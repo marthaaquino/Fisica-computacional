{
 "cells": [
  {
   "cell_type": "code",
   "execution_count": 1,
   "metadata": {},
   "outputs": [],
   "source": [
    "using Plots\n",
    "using LaTeXStrings\n",
    "using Roots"
   ]
  },
  {
   "cell_type": "markdown",
   "metadata": {},
   "source": [
    "# Examen 2\n",
    "## Física computacional\n",
    "#### Aquino Chapa Martha Abril \n",
    "Hecho en Julia "
   ]
  },
  {
   "cell_type": "markdown",
   "metadata": {},
   "source": [
    "#### 1. Se tiene un oscilador armónico en dos dimensiones (xy) en el que la fuerza está dada por $\\vec{F}= −k\\vec{r}$ y se tiene una fricción $\\vec{f}_{fric} = −γ\\vec{v}$ si $|\\vec{v}| ≤ 1$, pero cuando $|\\vec{v}| > 1$ la fricción es $\\vec{f}_{fric} = −µv^{3/2}\\hat{v}$. Si m = 1, k = 1, γ = 0.1 y µ = 0.2, resuelva las siguientes ejercicios:"
   ]
  },
  {
   "cell_type": "markdown",
   "metadata": {},
   "source": [
    "#### (a) Encuentre las ecuaciones de movimiento en coordenadas cartesianas. No es necesario resolver las ecuaciones."
   ]
  },
  {
   "cell_type": "markdown",
   "metadata": {},
   "source": [
    "Debido a la segunda ley de Newton, tendremos que la fuerza total del sistema será igual a la masa por la aceleración del sistema. Así se tiene que:\n",
    "$$m\\vec{a}=\\vec{F}+\\vec{f}_{fric}=m\\frac{d^{2}\\vec{r}}{dt^{2}} $$"
   ]
  },
  {
   "cell_type": "markdown",
   "metadata": {},
   "source": [
    "Por lo cual se obtiene que:\n",
    "Si $|\\vec{v}|≤1$\n",
    "$$m\\frac{d^{2}\\vec{r}}{dt^{2}} =−k\\vec{r}−γ\\vec{v}=−k\\vec{r}−γ\\frac{d\\vec{r}}{dt} $$\n",
    "Si $|\\vec{v}|>1$\n",
    "$$m\\frac{d^{2}\\vec{r}}{dt^{2}} =−k\\vec{r}−µv^{3/2}\\hat{v}=−k\\vec{r}−µv^{1/2}\\vec{v}=−k\\vec{r}−µ(\\frac{dr}{dt})^{1/2}\\frac{d\\vec{r}}{dt}$$"
   ]
  },
  {
   "cell_type": "markdown",
   "metadata": {},
   "source": [
    "Ahora, sustituimos los valores dados y separamos las ecuaciones por componentes cartesianas.\n",
    "\n",
    "En la coordenada $x$:"
   ]
  },
  {
   "cell_type": "markdown",
   "metadata": {},
   "source": [
    "$$ \\begin{cases}\n",
    " m\\frac{d^{2}x}{dt^{2}}=−kx−γ\\frac{dx}{dt} &   si  & |\\vec{v}|≤1 \\\\\n",
    "m\\frac{d^{2}x}{dt^{2}}=−kx−µ\\left(\\left(\\frac{dx}{dt}\\right)^{2}+\\left(\\frac{dy}{dt}\\right)\\right)^{1/4}\\frac{dx}{dt} &  si  & |\\vec{v}|>1\n",
    "\\end{cases}$$"
   ]
  },
  {
   "cell_type": "markdown",
   "metadata": {},
   "source": [
    "En el eje y:\n",
    "$$ \\begin{cases}\n",
    " m\\frac{d^{2}y}{dt^{2}}=−ky−γ\\frac{dy}{dt} &   si  & |\\vec{v}|≤1 \\\\\n",
    "m\\frac{d^{2}y}{dt^{2}}=−ky−µ\\left(\\left(\\frac{dx}{dt}\\right)^{2}+\\left(\\frac{dy}{dt}\\right)\\right)^{1/4}\\frac{dy}{dt} &  si  & |\\vec{v}|>1\n",
    "\\end{cases}$$"
   ]
  },
  {
   "cell_type": "markdown",
   "metadata": {},
   "source": [
    "Sustituyendo las constantes dadas:"
   ]
  },
  {
   "cell_type": "markdown",
   "metadata": {},
   "source": [
    "En el eje x:\n",
    "$$ \\begin{cases}\n",
    " \\frac{d^{2}x}{dt^{2}}=−x−0.1\\frac{dx}{dt} &   si  & |\\vec{v}|≤1 \\\\\n",
    "\\frac{d^{2}x}{dt^{2}}=−x−0.2\\left(\\left(\\frac{dx}{dt}\\right)^{2}+\\left(\\frac{dy}{dt}\\right)\\right)^{1/4}\\frac{dx}{dt} &  si  & |\\vec{v}|>1\n",
    "\\end{cases}$$\n",
    "En el eje y:\n",
    "$$ \\begin{cases}\n",
    " \\frac{d^{2}y}{dt^{2}}=−y−0.1\\frac{dy}{dt} &   si  & |\\vec{v}|≤1 \\\\\n",
    "\\frac{d^{2}y}{dt^{2}}=−y−0.2\\left(\\left(\\frac{dx}{dt}\\right)^{2}+\\left(\\frac{dy}{dt}\\right)\\right)^{1/4}\\frac{dy}{dt} &  si  & |\\vec{v}|>1\n",
    "\\end{cases}$$\n"
   ]
  },
  {
   "cell_type": "markdown",
   "metadata": {},
   "source": [
    "Con lo cual podemos escribir el siguiente sistema de ecuaciones diferenciales:"
   ]
  },
  {
   "cell_type": "markdown",
   "metadata": {},
   "source": [
    "$$x'=v_x $$\n",
    "$$y'=v_y$$\n",
    "$$ \\begin{cases}\n",
    " v_x'=−x−0.1v_x &   si  & |\\vec{v}|≤1 \\\\\n",
    "v_x'=−x−0.2\\left(v_x^{2}+v_y^{2}\\right)^{1/4}v_x &  si  & |\\vec{v}|>1\n",
    "\\end{cases}$$\n",
    "En el eje y:\n",
    "$$ \\begin{cases}\n",
    "v'_y=−y−0.1v_y &   si  & |\\vec{v}|≤1 \\\\\n",
    "v_y'=−y−0.2\\left(v_x^{2}+v_y^{2}\\right)^{1/4}v_y &  si  & |\\vec{v}|>1\n",
    "\\end{cases}$$"
   ]
  },
  {
   "cell_type": "markdown",
   "metadata": {},
   "source": [
    "#### (b) Utilice el método de Runge-Kutta de 4to orden para encontrar la solución a las ecuaciones de movimiento en el inciso anterior con condiciones iniciales $\\vec{r}_0 = (0, 1)$ y $\\vec{v}_0 = (\\cos θ,\\sin θ)$, donde $\\theta =\\frac{\\pi n}{6}$ con n = 0, 1, 2, 3, ..., 10, 11."
   ]
  },
  {
   "cell_type": "markdown",
   "metadata": {},
   "source": [
    "Con las ecuaciones anteriores, podemos crear una función que nos devuelva la información del sistema de ecuaciones diferenciales lineales."
   ]
  },
  {
   "cell_type": "code",
   "execution_count": 2,
   "metadata": {},
   "outputs": [
    {
     "data": {
      "text/plain": [
       "sistema1 (generic function with 1 method)"
      ]
     },
     "execution_count": 2,
     "metadata": {},
     "output_type": "execute_result"
    }
   ],
   "source": [
    "function sistema1(x,t)\n",
    "    dx=x[3]\n",
    "    dy=x[4]\n",
    "    v=x[3]^2+x[4]^2\n",
    "    if sqrt(v)<=1\n",
    "        dv_x=-x[1]-0.1*x[3]\n",
    "        dv_y=-x[2]-0.1*x[4]\n",
    "    else\n",
    "        dv_x=-x[1]-0.2*(v^(1/4))*x[3]\n",
    "        dv_y=-x[2]-0.2*(v^(1/4))*x[4]\n",
    "    end\n",
    "    return [dx,dy,dv_x,dv_y]\n",
    "end"
   ]
  },
  {
   "cell_type": "markdown",
   "metadata": {},
   "source": [
    "Ahora, extraemos la función de Runge-Kutta de 4to orden visto en clase:"
   ]
  },
  {
   "cell_type": "code",
   "execution_count": 3,
   "metadata": {},
   "outputs": [
    {
     "data": {
      "text/plain": [
       "RK_4 (generic function with 1 method)"
      ]
     },
     "execution_count": 3,
     "metadata": {},
     "output_type": "execute_result"
    }
   ],
   "source": [
    "function RK_4(edo,x_ini,t)\n",
    "    sol = zeros( length(t) , length(x_ini) )\n",
    "    sol[1,:] .= x_ini\n",
    "    δ = t[2]-t[1]\n",
    "    for i in 1:length(t)-1\n",
    "        k1 = edo(sol[i,:],t[i])\n",
    "        k2 = edo(sol[i,:] .+ 0.5*δ.*k1 , t[i] + 0.5*δ)\n",
    "        k3 = edo(sol[i,:] .+ 0.5*δ.*k2 , t[i] + 0.5*δ)\n",
    "        k4 = edo(sol[i,:] .+ δ.*k2 , t[i] + δ)\n",
    "        sol[i+1,:] .= sol[i,:] .+ (δ/6.0).*(k1 .+ 2.0.*k2 .+ 2.0.*k3 .+ k4)\n",
    "    end\n",
    "    return sol\n",
    "end"
   ]
  },
  {
   "cell_type": "markdown",
   "metadata": {},
   "source": [
    "Probamos nuestra solución con n=0."
   ]
  },
  {
   "cell_type": "code",
   "execution_count": null,
   "metadata": {},
   "outputs": [],
   "source": [
    "tiempo1_p=collect(0:0.01:70π)\n",
    "sol1_p=RK_4(sistema1,[0.0,1.0,1.0,0.0],tiempo1_p)\n",
    "#println(sol1_p[:,1])"
   ]
  },
  {
   "cell_type": "markdown",
   "metadata": {},
   "source": [
    "Ahora, creamos un ciclo para cumplir la condición de que $\\theta=\\frac{\\pi n}{6}$ con n = 0, 1, 2, 3, ..., 10, 11."
   ]
  },
  {
   "cell_type": "code",
   "execution_count": null,
   "metadata": {},
   "outputs": [],
   "source": [
    "#Definimos nuestro conjunto de n's\n",
    "n=collect(0:11)\n",
    "#Definimos el tiempo donde evaluaremos la función\n",
    "tiempo1=collect(0:0.1:100)\n",
    "for i in n \n",
    "    sol1=RK_4(sistema1,[0.0,1.0,cos(i*π/6),sin(i*π/6)],tiempo1)\n",
    "end"
   ]
  },
  {
   "cell_type": "markdown",
   "metadata": {},
   "source": [
    "Presentamos el resultado a manera de gráfica:"
   ]
  },
  {
   "cell_type": "code",
   "execution_count": null,
   "metadata": {},
   "outputs": [],
   "source": [
    "plot(title=\"Solución para x_1 con diversos valores de n usando RK_4\",xlabel=\"t\",ylabel=\"x1(t)\")\n",
    "for i in n \n",
    "    sol1=RK_4(sistema1,[0.0,1.0,cos(i*π/6),sin(i*π/6)],tiempo1)\n",
    "    plot!(tiempo1,sol1[:,1],label =\"n=$(i)\", lw=1.0)\n",
    "end\n",
    "plot!()"
   ]
  },
  {
   "cell_type": "code",
   "execution_count": null,
   "metadata": {},
   "outputs": [],
   "source": [
    "plot(title=\"Solución para x_2 con diversos valores de n usando RK_4\",xlabel=\"t\",ylabel=\"x2(t)\")\n",
    "for i in n \n",
    "    sol1=RK_4(sistema1,[0.0,1.0,cos(i*π/6),sin(i*π/6)],tiempo1)\n",
    "    plot!(tiempo1,sol1[:,2],label =\"n=$(i)\", lw=1.0)\n",
    "end\n",
    "plot!()"
   ]
  },
  {
   "cell_type": "code",
   "execution_count": null,
   "metadata": {},
   "outputs": [],
   "source": [
    "plot(title=\"Solución para x_3 con diversos valores de n usando RK_4\",xlabel=\"t\",ylabel=\"x3(t)\")\n",
    "for i in n \n",
    "    sol1=RK_4(sistema1,[0.0,1.0,cos(i*π/6),sin(i*π/6)],tiempo1)\n",
    "    plot!(tiempo1,sol1[:,3],label =\"n=$(i)\", lw=1.0)\n",
    "end\n",
    "plot!()"
   ]
  },
  {
   "cell_type": "code",
   "execution_count": null,
   "metadata": {},
   "outputs": [],
   "source": [
    "plot(title=\"Solución para x_4 con diversos valores de n usando RK_4\",xlabel=\"t\",ylabel=\"x4(t)\")\n",
    "for i in n \n",
    "    sol1=RK_4(sistema1,[0.0,1.0,cos(i*π/6),sin(i*π/6)],tiempo1)\n",
    "    plot!(tiempo1,sol1[:,4],label =\"n=$(i)\", lw=1.0)\n",
    "end\n",
    "plot!()"
   ]
  },
  {
   "cell_type": "markdown",
   "metadata": {},
   "source": [
    "#### (c) Genere una función que calcule la energía para las distintas condiciones iniciales y detenga la simulación cuando esta sea menor al 30 % de su valor inicial. Cabe mencionar que debe hacer su simulación (paso de integración) de tal manera que el error en la trayectoria no tenga variaciones de más del 1 %, es decir se debe asegurar convergencia a la solución con error de a lo mas 1 %."
   ]
  },
  {
   "cell_type": "markdown",
   "metadata": {},
   "source": [
    "La energía total de nuestro sistema será:\n",
    "$$E=\\frac{m}{2}(v_x^{2}+v_y^{2})+\\frac{k}{2}(x^{2}+y^{2}) $$\n",
    "Sustituimos k=1=m y se tiene que\n",
    "$$E=\\frac{1}{2}(v_x^{2}+v_y^{2}+x^{2}+y^{2}) $$\n",
    "Así, definimos una función que nos de la energía del sistema a cada tiempo:"
   ]
  },
  {
   "cell_type": "code",
   "execution_count": 4,
   "metadata": {},
   "outputs": [
    {
     "data": {
      "text/plain": [
       "energia (generic function with 1 method)"
      ]
     },
     "execution_count": 4,
     "metadata": {},
     "output_type": "execute_result"
    }
   ],
   "source": [
    "function energia(p0,t,EDO)\n",
    "    #Definimos los arreglos donde anexaremos la información sobre las posiciones y velocidades\n",
    "    x=RK_4(EDO,p0,t)[:,1]\n",
    "    y=RK_4(EDO,p0,t)[:,2]\n",
    "    vx=RK_4(EDO,p0,t)[:,3]\n",
    "    vy=RK_4(EDO,p0,t)[:,4]\n",
    "    #Definimos el arreglo donde guardaremos la información de la energía a cada tiempo\n",
    "    U=[]\n",
    "    #Definimos la energía inicial\n",
    "    Uinicial=0.5*(x[1]^2+y[1]^2+vx[1]^2+vy[1]^2)\n",
    "    #Realizamos un ciclo para obtener la energía en los tiempos posteriores\n",
    "    for i in 1:length(t)\n",
    "    #Anexamos la ecuación para la i-ésima posición, velocidad\n",
    "        energia=0.5*(x[i]^2+y[i]^2+vx[i]^2+vy[i]^2)\n",
    "        #Debido a que el sistema perderá energía, le pedimos al sistema que guarde la información\n",
    "        #cuando la energía sea mayor a 30%\n",
    "        if energia>=0.3*Uinicial\n",
    "            push!(U,energia)\n",
    "        end\n",
    "    end\n",
    "    return U\n",
    "end"
   ]
  },
  {
   "cell_type": "code",
   "execution_count": 11,
   "metadata": {},
   "outputs": [
    {
     "data": {
      "text/plain": [
       "energia2 (generic function with 1 method)"
      ]
     },
     "execution_count": 11,
     "metadata": {},
     "output_type": "execute_result"
    }
   ],
   "source": [
    "function energia2(p0,t,EDO)\n",
    "    #Definimos los arreglos donde anexaremos la información sobre las posiciones y velocidades\n",
    "    x=RK_4(EDO,p0,t)[:,1]\n",
    "    y=RK_4(EDO,p0,t)[:,2]\n",
    "    vx=RK_4(EDO,p0,t)[:,3]\n",
    "    vy=RK_4(EDO,p0,t)[:,4]\n",
    "    #Definimos el arreglo donde guardaremos la información de la energía a cada tiempo\n",
    "    U=[]\n",
    "    #Definimos la energía inicial\n",
    "    Uinicial=0.5*(x[1]^2+y[1]^2+vx[1]^2+vy[1]^2)\n",
    "    #Realizamos un ciclo para obtener la energía en los tiempos posteriores\n",
    "    for i in 1:length(t)\n",
    "        energia=0.5*(x[i]^2+y[i]^2+vx[i]^2+vy[i]^2)\n",
    "        if energia>=0.3*Uinicial\n",
    "    \n",
    "            push!(U,energia)\n",
    "        else\n",
    "            return U\n",
    "        end \n",
    "    end \n",
    "   \n",
    "end"
   ]
  },
  {
   "cell_type": "code",
   "execution_count": 12,
   "metadata": {},
   "outputs": [
    {
     "data": {
      "text/plain": [
       "1206-element Array{Any,1}:\n",
       " 1.0\n",
       " 0.9990009984994946\n",
       " 0.9980039927724474\n",
       " 0.9970089782334484\n",
       " 0.9960159499093854\n",
       " 0.9950249024418073\n",
       " 0.9940358300894377\n",
       " 0.993048726730836\n",
       " 0.9920635858672043\n",
       " 0.9910804006253428\n",
       " 0.9900991637607472\n",
       " 0.9891198676608489\n",
       " 0.9881425043483966\n",
       " ⋮\n",
       " 0.3035500921838956\n",
       " 0.30323220835392717\n",
       " 0.30291474844446115\n",
       " 0.3025977175652783\n",
       " 0.3022811207653506\n",
       " 0.30196496303082493\n",
       " 0.3016492492830353\n",
       " 0.30133398437654535\n",
       " 0.3010191730972215\n",
       " 0.3007048201603374\n",
       " 0.300390930208711\n",
       " 0.30007750781087394"
      ]
     },
     "execution_count": 12,
     "metadata": {},
     "output_type": "execute_result"
    }
   ],
   "source": [
    "tiempo1_p=collect(0:0.01:70π)\n",
    "sol1_p=energia2([0.0,1.0,1.0,0.0],tiempo1_p,sistema1)"
   ]
  },
  {
   "cell_type": "code",
   "execution_count": 5,
   "metadata": {},
   "outputs": [
    {
     "data": {
      "text/plain": [
       "1206-element Array{Any,1}:\n",
       " 1.0\n",
       " 0.9990009984994946\n",
       " 0.9980039927724474\n",
       " 0.9970089782334484\n",
       " 0.9960159499093854\n",
       " 0.9950249024418073\n",
       " 0.9940358300894377\n",
       " 0.993048726730836\n",
       " 0.9920635858672043\n",
       " 0.9910804006253428\n",
       " 0.9900991637607472\n",
       " 0.9891198676608489\n",
       " 0.9881425043483966\n",
       " ⋮\n",
       " 0.3035500921838956\n",
       " 0.30323220835392717\n",
       " 0.30291474844446115\n",
       " 0.3025977175652783\n",
       " 0.3022811207653506\n",
       " 0.30196496303082493\n",
       " 0.3016492492830353\n",
       " 0.30133398437654535\n",
       " 0.3010191730972215\n",
       " 0.3007048201603374\n",
       " 0.300390930208711\n",
       " 0.30007750781087394"
      ]
     },
     "execution_count": 5,
     "metadata": {},
     "output_type": "execute_result"
    }
   ],
   "source": [
    "tiempo1_p=collect(0:0.01:70π)\n",
    "sol1_p=energia([0.0,1.0,1.0,0.0],tiempo1_p,sistema1)"
   ]
  },
  {
   "cell_type": "markdown",
   "metadata": {},
   "source": [
    "Definamos una función que nos de la máxima variación que tiene nuestra solución entre valores aledaños para asegurar que tenemos una variación menor a 0.01. Para ello compararemos la solución dada con el Runge-Kutta de 2do orden y de 4to orden y que la solución a tiempos iguales no difieran más de 0.01."
   ]
  },
  {
   "cell_type": "code",
   "execution_count": 57,
   "metadata": {},
   "outputs": [
    {
     "data": {
      "text/plain": [
       "RK_2 (generic function with 1 method)"
      ]
     },
     "execution_count": 57,
     "metadata": {},
     "output_type": "execute_result"
    }
   ],
   "source": [
    "function RK_2(edo,x_ini,t)\n",
    "    sol = zeros( length(t) , length(x_ini) )\n",
    "    sol[1,:] .= x_ini\n",
    "    δ = t[2]-t[1]\n",
    "    for i in 1:length(t)-1\n",
    "        k1 = sol[i,:] .+ 0.5*δ .*edo(sol[i,:],t[i])\n",
    "        sol[i+1,:] .= sol[i,:] .+ δ*edo(k1,t[i]+0.5*δ)\n",
    "    end\n",
    "    return sol\n",
    "end"
   ]
  },
  {
   "cell_type": "code",
   "execution_count": 61,
   "metadata": {},
   "outputs": [
    {
     "data": {
      "text/plain": [
       "variacion (generic function with 1 method)"
      ]
     },
     "execution_count": 61,
     "metadata": {},
     "output_type": "execute_result"
    }
   ],
   "source": [
    "#Pedimos dos soluciones\n",
    "function variacion(sol1,sol2)\n",
    "    #Guardamos la información de la velocidad y posición en arreglos.\n",
    "    x1=sol1[:,1]\n",
    "    y1=sol1[:,2]\n",
    "    vx1=sol1[:,3]\n",
    "    vy1=sol1[:,4]\n",
    "    x2=sol2[:,1]\n",
    "    y2=sol2[:,2]\n",
    "    vx2=sol2[:,3]\n",
    "    vy2=sol2[:,4]\n",
    "    #Definimos los arreglos donde anexaremos la diferencia en soluciones a cada tiempo\n",
    "    difx=[]\n",
    "    dify=[]\n",
    "    difvx=[]\n",
    "    difvy=[]\n",
    "    #Hacemos un ciclo donde iremos anexando las diferencias de cada solución\n",
    "    for i in 1:length(sol1[:,1])\n",
    "        push!(difx,abs(x1[i]-x2[i]))\n",
    "        push!(dify,abs(y2[i]-y1[i]))\n",
    "        push!(difvx,abs(vx1[i]-vx2[i]))\n",
    "        push!(difvy,abs(vy1[i]-vy2[i]))\n",
    "    end\n",
    "    #Definimos el arreglo donde anexamos el maximo de cada una de las diferencias en las soluciones en x,y,vx y vy\n",
    "    dif=[maximum(difx),maximum(dify),maximum(difvx),maximum(difvy)]\n",
    "    #Obtener la diferencia máxima\n",
    "    max=maximum(dif)\n",
    "    return max\n",
    "end"
   ]
  },
  {
   "cell_type": "code",
   "execution_count": 63,
   "metadata": {},
   "outputs": [
    {
     "data": {
      "text/plain": [
       "0.00012282714063324707"
      ]
     },
     "execution_count": 63,
     "metadata": {},
     "output_type": "execute_result"
    }
   ],
   "source": [
    "tiempo1_p=collect(0:0.01:70π)\n",
    "#tiempo2_p=collect(0:0.001:1π)\n",
    "variacion(RK_4(sistema1,[0.0,1.0,1.0,0.0],tiempo1_p),RK_2(sistema1,[0.0,1.0,1.0,0.0],tiempo1_p))"
   ]
  },
  {
   "cell_type": "markdown",
   "metadata": {},
   "source": [
    "#### (d) Dibuje las gráficas del momento angular para los casos anteirores en el inciso (1b). "
   ]
  },
  {
   "cell_type": "markdown",
   "metadata": {},
   "source": [
    "Sabemos que el momento angular se define como \n",
    "$$\\vec{L}=\\vec{r}\\times m\\vec{v} $$\n",
    "Sin embargo, debido a que la posición y velocidad se encuentran confinadas en el plano xy, el momento angular será:\n",
    "$$\\vec{L}=m(xv_y-yv_x)\\hat{e}_z $$\n",
    "Entonces dados $x,vy,vx,y$ definimos una función que nos regrese el momento angular. "
   ]
  },
  {
   "cell_type": "code",
   "execution_count": 17,
   "metadata": {},
   "outputs": [
    {
     "data": {
      "text/plain": [
       "MomentoAngular (generic function with 1 method)"
      ]
     },
     "execution_count": 17,
     "metadata": {},
     "output_type": "execute_result"
    }
   ],
   "source": [
    "function MomentoAngular(r,v,m)\n",
    "    return m*(r[1]*v[2]-r[2]*v[1])\n",
    "end"
   ]
  },
  {
   "cell_type": "markdown",
   "metadata": {},
   "source": [
    "#### (e) Tome de manera arbitraria alguna condición inicial y dibuje el espacio fase (px, x)."
   ]
  },
  {
   "cell_type": "code",
   "execution_count": null,
   "metadata": {},
   "outputs": [],
   "source": []
  },
  {
   "cell_type": "code",
   "execution_count": null,
   "metadata": {},
   "outputs": [],
   "source": []
  },
  {
   "cell_type": "markdown",
   "metadata": {},
   "source": [
    "#### 3. Se tiene la siguiente función: $$f(x,y)=2e^{(x+1)^{2}}\\left(e^{-(y+2)^{2}}+e^{-(y-2)^{2}}\\right)+6x(x^{2}+y^{2})e^{-(x^{2}+y^{2})}-1$$ Encuentre los puntos $(\\~x, \\~y)$ tales que $f(\\~x, \\~y)=0$ y dibuje estos puntos en el plano xy.\n",
    "#### Hint: Como podrá notar los puntos a buscar se encuentran en la región x, y ∈ (−4, 4) × (−4, 4). Una forma de obtener los puntos es haciendo un barrido para x fija y encontrando todas las raíces de la ecuación en términos de y. Entre más fino haga el barrido, la curva de nivel que se encuentre será mejor."
   ]
  },
  {
   "cell_type": "code",
   "execution_count": null,
   "metadata": {},
   "outputs": [],
   "source": [
    "function raiz_bf(funcion,intervalo,error=1e-4)\n",
    "    raiz = 0.5*(intervalo[1]+intervalo[2])\n",
    "    iteracion = 0\n",
    "    while abs(intervalo[2]-intervalo[1]) > error\n",
    "        f_izq , f_med = funcion(intervalo[1]) , funcion(raiz)\n",
    "        if f_izq*f_med < 0\n",
    "            intervalo[2] = raiz\n",
    "        else\n",
    "            intervalo[1] = raiz\n",
    "        end\n",
    "        raiz = 0.5*(intervalo[1]+intervalo[2])\n",
    "        iteracion += 1\n",
    "    end\n",
    "    return raiz,iteracion\n",
    "end"
   ]
  },
  {
   "cell_type": "code",
   "execution_count": null,
   "metadata": {},
   "outputs": [],
   "source": []
  },
  {
   "cell_type": "code",
   "execution_count": null,
   "metadata": {},
   "outputs": [],
   "source": [
    "function raiz_NewtonMult2(funcion,inicio,fin,delta,f_prima,error=1e-4)\n",
    "    #Definimos el número de trozos en los que dividiremos nuestro sistema\n",
    "    cortes=floor(Int,(fin-inicio)/delta)\n",
    "    #Definimos el arreglo donde anexaremos las raíces\n",
    "    raices=[]\n",
    "    iteraciones=[]\n",
    "    #Hacemos un ciclo dónde se buscarán las raíces tomando como inicio puntos en ese espacio\n",
    "    for i in 0:cortes-1\n",
    "        #Integramos el método de Newton para cada i\n",
    "        iteracion = 0\n",
    "        #Definimos nuestro punto de inicio\n",
    "        p_ini=inicio+i*delta\n",
    "        while abs(funcion(p_ini)) > error\n",
    "            p_ini += -(funcion(p_ini)/f_prima(p_ini))\n",
    "            iteracion +=1\n",
    "        end\n",
    "        #Anexamos la raíz encontrada al arreglo raíces\n",
    "        push!(raices,p_ini)\n",
    "    end\n",
    "    #Salimos del ciclo for y le pedimos a la función que nos regrese el arreglo de las raíces\n",
    "    return raices\n",
    "end"
   ]
  },
  {
   "cell_type": "code",
   "execution_count": null,
   "metadata": {},
   "outputs": [],
   "source": [
    "function raiz_NewtonMult(funcion,intervalo,delta,f_prima,error=1e-4)\n",
    "    #Definimos el número de trozos en los que dividiremos nuestro sistema\n",
    "    \n",
    "    cortes=floor(Int,((intervalo[2]-intervalo[1])*delta))\n",
    "    #Int((intervalo[2]-intervalo[1])*delta)\n",
    "    #Definimos el arreglo donde anexaremos las raíces\n",
    "    raices=[]\n",
    "    iteraciones=[]\n",
    "    #Hacemos un ciclo dónde se buscarán las raíces tomando como inicio puntos en ese espacio\n",
    "    for i in 1:3\n",
    "        #Integramos el método de Newton para cada i\n",
    "        iteracion = 0\n",
    "        #Definimos nuestro punto de inicio\n",
    "        p_ini=intervalo[1]+i*delta\n",
    "        while abs(funcion(p_ini)) > error\n",
    "            p_ini += -(funcion(p_ini)/f_prima(p_ini))\n",
    "            iteracion +=1\n",
    "        end\n",
    "        #Anexamos la raíz encontrada al arreglo raíces\n",
    "        push!(raices,p_ini)\n",
    "    end\n",
    "    #Salimos del ciclo for y le pedimos a la función que nos regrese el arreglo de las raíces\n",
    "    return raices\n",
    "end"
   ]
  },
  {
   "cell_type": "code",
   "execution_count": null,
   "metadata": {},
   "outputs": [],
   "source": [
    "raiz_NewtonMult(sin,[-1π,2π],0.1,cos)"
   ]
  },
  {
   "cell_type": "code",
   "execution_count": null,
   "metadata": {},
   "outputs": [],
   "source": [
    "function raiz_NewtonMult2(funcion,inicio,fin,delta,f_prima,error=1e-4)\n",
    "    #Definimos el número de trozos en los que dividiremos nuestro sistema\n",
    "    cortes=floor(Int,(fin-inicio)/delta)\n",
    "    #Definimos el arreglo donde anexaremos las raíces\n",
    "    raices=[]\n",
    "    iteraciones=[]\n",
    "    #Hacemos un ciclo dónde se buscarán las raíces tomando como inicio puntos en ese espacio\n",
    "    for i in 0:cortes-1\n",
    "        #Integramos el método de Newton para cada i\n",
    "        iteracion = 0\n",
    "        #Definimos nuestro punto de inicio\n",
    "        p_ini=inicio+i*delta\n",
    "        while abs(funcion(p_ini)) > error\n",
    "            p_ini += -(funcion(p_ini)/f_prima(p_ini))\n",
    "            iteracion +=1\n",
    "        end\n",
    "        #Anexamos la raíz encontrada al arreglo raíces\n",
    "        push!(raices,p_ini)\n",
    "    end\n",
    "    #Salimos del ciclo for y le pedimos a la función que nos regrese el arreglo de las raíces\n",
    "    return raices\n",
    "end"
   ]
  },
  {
   "cell_type": "code",
   "execution_count": null,
   "metadata": {},
   "outputs": [],
   "source": [
    "function raiz_NewtonMult2filtro(funcion,inicio,fin,delta,f_prima,error=1e-4)\n",
    "    #Definimos el número de trozos en los que dividiremos nuestro sistema\n",
    "    cortes=floor(Int,(fin-inicio)/delta)\n",
    "    #Definimos el arreglo donde anexaremos las raíces\n",
    "    raices=[]\n",
    "    iteraciones=[]\n",
    "    #Hacemos un ciclo dónde se buscarán las raíces tomando como inicio puntos en ese espacio\n",
    "    for i in 0:cortes-1\n",
    "        #Integramos el método de Newton para cada i\n",
    "        iteracion = 0\n",
    "        #Definimos nuestro punto de inicio\n",
    "        p_ini=inicio+i*delta\n",
    "        while abs(funcion(p_ini)) > error\n",
    "            p_ini += -(funcion(p_ini)/f_prima(p_ini))\n",
    "            iteracion +=1\n",
    "        end\n",
    "        #Anexamos la raíz encontrada al arreglo raíces, para ello descartamos las raíces que divergen debido al método de Newton\n",
    "        if p_ini==Inf \n",
    "            false\n",
    "        else\n",
    "        # Y anexamos las raíces que no divergen\n",
    "            push!(raices,p_ini)\n",
    "        end\n",
    "    end\n",
    "    #Hagamos un segundo filtrado para tener raíces únicas\n",
    "    #Le pedimos a la función que nos regrese el arreglo de las raíces\n",
    "    return raices\n",
    "end"
   ]
  },
  {
   "cell_type": "code",
   "execution_count": null,
   "metadata": {},
   "outputs": [],
   "source": [
    "f(x,y=0)=2*exp(-(x+1)^2)*(exp(-(y+2)^2)+exp(-(y-2)^2)) + 6*x*(x^2 + y^2)*exp(-(x^2+y^2))-1\n",
    "#df(x,y=0)=12*x^2*exp(-x^2-y^2)-12*x^2*exp(-x^2-y^2)*(x^2+y^2)+6*exp(-x^2-y^2)*(x^2+y^2)"
   ]
  },
  {
   "cell_type": "code",
   "execution_count": null,
   "metadata": {},
   "outputs": [],
   "source": [
    "dfx(x,y=0)=-4*exp(-(x+1)^2)*(x+1)*(exp(-(y-2)^2)+exp(-(y+2)^2))+(exp(-x^2-y^2)*(18*x^2+6*y^2))-(12*x^2*(x^2+y^2)*exp(-(x^2+y^2)))"
   ]
  },
  {
   "cell_type": "code",
   "execution_count": null,
   "metadata": {},
   "outputs": [],
   "source": [
    "raices2=[]\n",
    "y02=collect(-4:1:4)\n",
    "ys2=[]\n",
    "for y0 in yp\n",
    "    fx(x,y=y0)=2*exp(-(x+1)^2)*(exp(-(y+2)^2)+exp(-(y-2)^2)) + 6*x*(x^2 + y^2)*exp(-(x^2+y^2))-1\n",
    "    dfx(x,y=y0)=-4*exp(-(x+1)^2)*(x+1)*(exp(-(y-2)^2)+exp(-(y+2)^2))+(exp(-x^2-y^2)*(18*x^2+6*y^2))-(12*x^2*(x^2+y^2)*exp(-(x^2+y^2)))\n",
    "    n=length(find_zeros(fx,-4,4))\n",
    "    for i in 1:n\n",
    "        elemento=raiz_NewtonMult2filtro(fx,-4,4,1,dfx)\n",
    "        push!(raices2,elemento)\n",
    "        push!(ys2,y02)\n",
    "        #scatter!(y0,elemento,xlabel=\"x\",ylabel=\"f(x)\")\n",
    "    end\n",
    "end\n",
    "scatter(raices2,ys2,xlabel=\"x\",ylabel=\"y\")"
   ]
  },
  {
   "cell_type": "code",
   "execution_count": null,
   "metadata": {},
   "outputs": [],
   "source": [
    "raiz_NewtonMult2filtro(f,-4,4,1.5,dfx)"
   ]
  },
  {
   "cell_type": "code",
   "execution_count": null,
   "metadata": {},
   "outputs": [],
   "source": [
    "#Creamos la función para filtrar las raíces y así tener raíces únicas\n",
    "function filtrodraiz(f,raices,error=1e-4)\n",
    "    nraices=length(raices)\n",
    "    i=1\n",
    "    #func=f(raices[i])\n",
    "    raiz1=[],[]\n",
    "    inicio=1\n",
    "    raiz_inicio=raiz[inicio]\n",
    "    for i in 1:nraices\n",
    "    while raices[i]-raiz_inicio<=error\n",
    "        if abs(raices[i]-raiz_inicio)<=error\n",
    "        suma+=raiz[i]\n",
    "        i+=1\n",
    "        else\n",
    "        raiz_inicio=raiz[i]\n",
    "        end\n",
    "    end\n",
    "  \n",
    "end"
   ]
  },
  {
   "cell_type": "code",
   "execution_count": null,
   "metadata": {},
   "outputs": [],
   "source": [
    "function raiz_Newton(funcion,p_ini,f_prima,error=1e-4)\n",
    "    iteracion = 0\n",
    "    while abs(funcion(p_ini)) > error\n",
    "        p_ini += -(funcion(p_ini)/f_prima(p_ini))\n",
    "        iteracion +=1\n",
    "    end\n",
    "    return p_ini,iteracion\n",
    "end"
   ]
  },
  {
   "cell_type": "code",
   "execution_count": null,
   "metadata": {},
   "outputs": [],
   "source": [
    "raices=[]\n",
    "yp=collect(-4:0.001:4)\n",
    "ys=[]\n",
    "for y0 in yp\n",
    "    fx(x,y=y0)=2*exp(-(x+1)^2)*(exp(-(y+2)^2)+exp(-(y-2)^2)) + 6*x*(x^2 + y^2)*exp(-(x^2+y^2))-1\n",
    "    n=length(find_zeros(fx,-4,4))\n",
    "    for i in 1:n\n",
    "        elemento=find_zeros(fx,-4,4)[i]\n",
    "        push!(raices,elemento)\n",
    "        push!(ys,y0)\n",
    "    end\n",
    "end\n",
    "scatter(raices,ys,xlabel=\"x\",ylabel=\"y\")"
   ]
  },
  {
   "cell_type": "code",
   "execution_count": null,
   "metadata": {},
   "outputs": [],
   "source": [
    "f(x,y)=2*exp((x+1)^2)*(exp(-(y+2)^2)+exp(-(y-2)^2))+6*x*(x^2+y^2)*exp(-(x^2+y^2))-1"
   ]
  }
 ],
 "metadata": {
  "kernelspec": {
   "display_name": "Julia 1.5.1",
   "language": "julia",
   "name": "julia-1.5"
  },
  "language_info": {
   "file_extension": ".jl",
   "mimetype": "application/julia",
   "name": "julia",
   "version": "1.5.1"
  }
 },
 "nbformat": 4,
 "nbformat_minor": 4
}
