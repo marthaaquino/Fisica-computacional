{
 "cells": [
  {
   "cell_type": "code",
   "execution_count": 1,
   "metadata": {},
   "outputs": [],
   "source": [
    "using Plots\n",
    "using LaTeXStrings\n",
    "using Roots"
   ]
  },
  {
   "cell_type": "markdown",
   "metadata": {},
   "source": [
    "# Examen 2\n",
    "## Física computacional\n",
    "#### Aquino Chapa Martha Abril \n",
    "Hecho en Julia 🔴🟢🟣"
   ]
  },
  {
   "cell_type": "markdown",
   "metadata": {},
   "source": [
    "#### 1. Se tiene un oscilador armónico en dos dimensiones (xy) en el que la fuerza está dada por $\\vec{F}= −k\\vec{r}$ y se tiene una fricción $\\vec{f}_{fric} = −γ\\vec{v}$ si $|\\vec{v}| ≤ 1$, pero cuando $|\\vec{v}| > 1$ la fricción es $\\vec{f}_{fric} = −µv^{3/2}\\hat{v}$. Si m = 1, k = 1, γ = 0.1 y µ = 0.2, resuelva las siguientes ejercicios:"
   ]
  },
  {
   "cell_type": "markdown",
   "metadata": {},
   "source": [
    "#### (a) Encuentre las ecuaciones de movimiento en coordenadas cartesianas. No es necesario resolver las ecuaciones."
   ]
  },
  {
   "cell_type": "markdown",
   "metadata": {},
   "source": [
    "Debido a la segunda ley de Newton, tendremos que la fuerza total del sistema será igual a la masa por la aceleración del sistema. Así se tiene que:\n",
    "$$m\\vec{a}=\\vec{F}+\\vec{f}_{fric}=m\\frac{d^{2}\\vec{r}}{dt^{2}} $$"
   ]
  },
  {
   "cell_type": "markdown",
   "metadata": {},
   "source": [
    "Por lo cual se obtiene que:\n",
    "Si $|\\vec{v}|≤1$\n",
    "$$m\\frac{d^{2}\\vec{r}}{dt^{2}} =−k\\vec{r}−γ\\vec{v}=−k\\vec{r}−γ\\frac{d\\vec{r}}{dt} $$\n",
    "Si $|\\vec{v}|>1$\n",
    "$$m\\frac{d^{2}\\vec{r}}{dt^{2}} =−k\\vec{r}−µv^{3/2}\\hat{v}=−k\\vec{r}−µv^{1/2}\\vec{v}=−k\\vec{r}−µ(\\frac{dr}{dt})^{1/2}\\frac{d\\vec{r}}{dt}$$"
   ]
  },
  {
   "cell_type": "markdown",
   "metadata": {},
   "source": [
    "Ahora, sustituimos los valores dados y separamos las ecuaciones por componentes cartesianas.\n",
    "\n",
    "En la coordenada $x$:"
   ]
  },
  {
   "cell_type": "markdown",
   "metadata": {},
   "source": [
    "$$ \\begin{cases}\n",
    " m\\frac{d^{2}x}{dt^{2}}=−kx−γ\\frac{dx}{dt} &   si  & |\\vec{v}|≤1 \\\\\n",
    "m\\frac{d^{2}x}{dt^{2}}=−kx−µ\\left(\\left(\\frac{dx}{dt}\\right)^{2}+\\left(\\frac{dy}{dt}\\right)\\right)^{1/4}\\frac{dx}{dt} &  si  & |\\vec{v}|>1\n",
    "\\end{cases}$$"
   ]
  },
  {
   "cell_type": "markdown",
   "metadata": {},
   "source": [
    "En el eje y:\n",
    "$$ \\begin{cases}\n",
    " m\\frac{d^{2}y}{dt^{2}}=−ky−γ\\frac{dy}{dt} &   si  & |\\vec{v}|≤1 \\\\\n",
    "m\\frac{d^{2}y}{dt^{2}}=−ky−µ\\left(\\left(\\frac{dx}{dt}\\right)^{2}+\\left(\\frac{dy}{dt}\\right)\\right)^{1/4}\\frac{dy}{dt} &  si  & |\\vec{v}|>1\n",
    "\\end{cases}$$"
   ]
  },
  {
   "cell_type": "markdown",
   "metadata": {},
   "source": [
    "Sustituyendo las constantes dadas:"
   ]
  },
  {
   "cell_type": "markdown",
   "metadata": {},
   "source": [
    "En el eje x:\n",
    "$$ \\begin{cases}\n",
    " \\frac{d^{2}x}{dt^{2}}=−x−0.1\\frac{dx}{dt} &   si  & |\\vec{v}|≤1 \\\\\n",
    "\\frac{d^{2}x}{dt^{2}}=−x−0.2\\left(\\left(\\frac{dx}{dt}\\right)^{2}+\\left(\\frac{dy}{dt}\\right)\\right)^{1/4}\\frac{dx}{dt} &  si  & |\\vec{v}|>1\n",
    "\\end{cases}$$\n",
    "En el eje y:\n",
    "$$ \\begin{cases}\n",
    " \\frac{d^{2}y}{dt^{2}}=−y−0.1\\frac{dy}{dt} &   si  & |\\vec{v}|≤1 \\\\\n",
    "\\frac{d^{2}y}{dt^{2}}=−y−0.2\\left(\\left(\\frac{dx}{dt}\\right)^{2}+\\left(\\frac{dy}{dt}\\right)\\right)^{1/4}\\frac{dy}{dt} &  si  & |\\vec{v}|>1\n",
    "\\end{cases}$$\n"
   ]
  },
  {
   "cell_type": "markdown",
   "metadata": {},
   "source": [
    "Con lo cual podemos escribir el siguiente sistema de ecuaciones diferenciales:"
   ]
  },
  {
   "cell_type": "markdown",
   "metadata": {},
   "source": [
    "$$x'=v_x $$\n",
    "$$y'=v_y$$\n",
    "$$ \\begin{cases}\n",
    " v_x'=−x−0.1v_x &   si  & |\\vec{v}|≤1 \\\\\n",
    "v_x'=−x−0.2\\left(v_x^{2}+v_y^{2}\\right)^{1/4}v_x &  si  & |\\vec{v}|>1\n",
    "\\end{cases}$$\n",
    "En el eje y:\n",
    "$$ \\begin{cases}\n",
    "v'_y=−y−0.1v_y &   si  & |\\vec{v}|≤1 \\\\\n",
    "v_y'=−y−0.2\\left(v_x^{2}+v_y^{2}\\right)^{1/4}v_y &  si  & |\\vec{v}|>1\n",
    "\\end{cases}$$"
   ]
  },
  {
   "cell_type": "markdown",
   "metadata": {},
   "source": [
    "#### (b) Utilice el método de Runge-Kutta de 4to orden para encontrar la solución a las ecuaciones de movimiento en el inciso anterior con condiciones iniciales $\\vec{r}_0 = (0, 1)$ y $\\vec{v}_0 = (\\cos θ,\\sin θ)$, donde $\\theta =\\frac{\\pi n}{6}$ con n = 0, 1, 2, 3, ..., 10, 11."
   ]
  },
  {
   "cell_type": "markdown",
   "metadata": {},
   "source": [
    "Con las ecuaciones anteriores, podemos crear una función que nos devuelva la información del sistema de ecuaciones diferenciales lineales."
   ]
  },
  {
   "cell_type": "code",
   "execution_count": null,
   "metadata": {},
   "outputs": [],
   "source": [
    "function sistema1(x,t)\n",
    "    dx=x[3]\n",
    "    dy=x[4]\n",
    "    v=x[3]^2+x[4]^2\n",
    "    if sqrt(v)<=1\n",
    "        dv_x=-x[1]-0.1*x[3]\n",
    "        dv_y=-x[2]-0.1*x[4]\n",
    "    else\n",
    "        dv_x=-x[1]-0.2*(v^(1/4))*x[3]\n",
    "        dv_y=-x[2]-0.2*(v^(1/4))*x[4]\n",
    "    end\n",
    "    return [dx,dy,dv_x,dv_y]\n",
    "end"
   ]
  },
  {
   "cell_type": "markdown",
   "metadata": {},
   "source": [
    "Ahora, extraemos la función de Runge-Kutta de 4to y 2do orden vistos en clase:"
   ]
  },
  {
   "cell_type": "code",
   "execution_count": 2,
   "metadata": {},
   "outputs": [
    {
     "data": {
      "text/plain": [
       "RK_2 (generic function with 1 method)"
      ]
     },
     "execution_count": 2,
     "metadata": {},
     "output_type": "execute_result"
    }
   ],
   "source": [
    "function RK_2(edo,x_ini,t)\n",
    "    sol = zeros( length(t) , length(x_ini) )\n",
    "    sol[1,:] .= x_ini\n",
    "    δ = t[2]-t[1]\n",
    "    for i in 1:length(t)-1\n",
    "        k1 = sol[i,:] .+ 0.5*δ .*edo(sol[i,:],t[i])\n",
    "        sol[i+1,:] .= sol[i,:] .+ δ*edo(k1,t[i]+0.5*δ)\n",
    "    end\n",
    "    return sol\n",
    "end"
   ]
  },
  {
   "cell_type": "code",
   "execution_count": 3,
   "metadata": {},
   "outputs": [
    {
     "data": {
      "text/plain": [
       "RK_4 (generic function with 1 method)"
      ]
     },
     "execution_count": 3,
     "metadata": {},
     "output_type": "execute_result"
    }
   ],
   "source": [
    "function RK_4(edo,x_ini,t)\n",
    "    sol = zeros( length(t) , length(x_ini) )\n",
    "    sol[1,:] .= x_ini\n",
    "    δ = t[2]-t[1]\n",
    "    for i in 1:length(t)-1\n",
    "        k1 = edo(sol[i,:],t[i])\n",
    "        k2 = edo(sol[i,:] .+ 0.5*δ.*k1 , t[i] + 0.5*δ)\n",
    "        k3 = edo(sol[i,:] .+ 0.5*δ.*k2 , t[i] + 0.5*δ)\n",
    "        k4 = edo(sol[i,:] .+ δ.*k2 , t[i] + δ)\n",
    "        sol[i+1,:] .= sol[i,:] .+ (δ/6.0).*(k1 .+ 2.0.*k2 .+ 2.0.*k3 .+ k4)\n",
    "    end\n",
    "    return sol\n",
    "end"
   ]
  },
  {
   "cell_type": "markdown",
   "metadata": {},
   "source": [
    "Probamos nuestra solución con n=0."
   ]
  },
  {
   "cell_type": "code",
   "execution_count": null,
   "metadata": {},
   "outputs": [],
   "source": [
    "tiempo1_p=collect(0:0.01:70π)\n",
    "sol1_p=RK_4(sistema1,[0.0,1.0,1.0,0.0],tiempo1_p)"
   ]
  },
  {
   "cell_type": "markdown",
   "metadata": {},
   "source": [
    "Ahora, creamos un ciclo para cumplir la condición de que $\\theta=\\frac{\\pi n}{6}$ con n = 0, 1, 2, 3, ..., 10, 11."
   ]
  },
  {
   "cell_type": "code",
   "execution_count": null,
   "metadata": {},
   "outputs": [],
   "source": [
    "#Definimos nuestro conjunto de n's\n",
    "n=collect(0:11)\n",
    "#Definimos el tiempo donde evaluaremos la función\n",
    "tiempo1=collect(0:0.1:100)\n",
    "for i in n \n",
    "    sol1=RK_4(sistema1,[0.0,1.0,cos(i*π/6),sin(i*π/6)],tiempo1)\n",
    "end"
   ]
  },
  {
   "cell_type": "markdown",
   "metadata": {},
   "source": [
    "Presentamos el resultado a manera de gráfica:"
   ]
  },
  {
   "cell_type": "code",
   "execution_count": null,
   "metadata": {},
   "outputs": [],
   "source": [
    "plot(title=\"Solución para x con diversos valores de n usando RK_4\",xlabel=\"t\",ylabel=\"x1(t)\")\n",
    "for i in n \n",
    "    sol1=RK_4(sistema1,[0.0,1.0,cos(i*π/6),sin(i*π/6)],tiempo1)\n",
    "    plot!(tiempo1,sol1[:,1],label =\"n=$(i)\", lw=1.0)\n",
    "end\n",
    "plot!()"
   ]
  },
  {
   "cell_type": "code",
   "execution_count": null,
   "metadata": {},
   "outputs": [],
   "source": [
    "plot(title=\"Solución para y con diversos valores de n usando RK_4\",xlabel=\"t\",ylabel=\"x2(t)\")\n",
    "for i in n \n",
    "    sol1=RK_4(sistema1,[0.0,1.0,cos(i*π/6),sin(i*π/6)],tiempo1)\n",
    "    plot!(tiempo1,sol1[:,2],label =\"n=$(i)\", lw=1.0)\n",
    "end\n",
    "plot!()"
   ]
  },
  {
   "cell_type": "code",
   "execution_count": null,
   "metadata": {},
   "outputs": [],
   "source": [
    "plot(title=\"Solución para v_x con diversos valores de n usando RK_4\",xlabel=\"t\",ylabel=\"x3(t)\")\n",
    "for i in n \n",
    "    sol1=RK_4(sistema1,[0.0,1.0,cos(i*π/6),sin(i*π/6)],tiempo1)\n",
    "    plot!(tiempo1,sol1[:,3],label =\"n=$(i)\", lw=1.0)\n",
    "end\n",
    "plot!()"
   ]
  },
  {
   "cell_type": "code",
   "execution_count": null,
   "metadata": {},
   "outputs": [],
   "source": [
    "plot(title=\"Solución para v_y con diversos valores de n usando RK_4\",xlabel=\"t\",ylabel=\"x4(t)\")\n",
    "for i in n \n",
    "    sol1=RK_4(sistema1,[0.0,1.0,cos(i*π/6),sin(i*π/6)],tiempo1)\n",
    "    plot!(tiempo1,sol1[:,4],label =\"n=$(i)\", lw=1.0)\n",
    "end\n",
    "plot!()"
   ]
  },
  {
   "cell_type": "markdown",
   "metadata": {},
   "source": [
    "#### (c) Genere una función que calcule la energía para las distintas condiciones iniciales y detenga la simulación cuando esta sea menor al 30 % de su valor inicial. Cabe mencionar que debe hacer su simulación (paso de integración) de tal manera que el error en la trayectoria no tenga variaciones de más del 1 %, es decir se debe asegurar convergencia a la solución con error de a lo mas 1 %."
   ]
  },
  {
   "cell_type": "markdown",
   "metadata": {},
   "source": [
    "La energía total de nuestro sistema será:\n",
    "$$E=\\frac{m}{2}(v_x^{2}+v_y^{2})+\\frac{k}{2}(x^{2}+y^{2}) $$\n",
    "Sustituimos k=1=m y se tiene que\n",
    "$$E=\\frac{1}{2}(v_x^{2}+v_y^{2}+x^{2}+y^{2}) $$\n",
    "Así, definimos una función que nos de la energía del sistema a cada tiempo:"
   ]
  },
  {
   "cell_type": "code",
   "execution_count": null,
   "metadata": {},
   "outputs": [],
   "source": [
    "function energia(p0,t,EDO)\n",
    "    #Definimos los arreglos donde anexaremos la información sobre las posiciones y velocidades\n",
    "    x=RK_4(EDO,p0,t)[:,1]\n",
    "    y=RK_4(EDO,p0,t)[:,2]\n",
    "    vx=RK_4(EDO,p0,t)[:,3]\n",
    "    vy=RK_4(EDO,p0,t)[:,4]\n",
    "    #Definimos el arreglo donde guardaremos la información de la energía a cada tiempo\n",
    "    U=[]\n",
    "    #Definimos la energía inicial\n",
    "    Uinicial=0.5*(x[1]^2+y[1]^2+vx[1]^2+vy[1]^2)\n",
    "    #Realizamos un ciclo para obtener la energía en los tiempos posteriores\n",
    "    for i in 1:length(t)\n",
    "    #Anexamos la ecuación para la i-ésima posición, velocidad\n",
    "        energia=0.5*(x[i]^2+y[i]^2+vx[i]^2+vy[i]^2)\n",
    "        #Debido a que el sistema perderá energía, le pedimos al sistema que guarde la información\n",
    "        #cuando la energía sea mayor a 30%\n",
    "        if energia>=0.3*Uinicial\n",
    "            push!(U,energia)\n",
    "        end\n",
    "    end\n",
    "    return U\n",
    "end"
   ]
  },
  {
   "cell_type": "code",
   "execution_count": null,
   "metadata": {},
   "outputs": [],
   "source": [
    "function energia2(p0,t,EDO)\n",
    "    #Definimos los arreglos donde anexaremos la información sobre las posiciones y velocidades\n",
    "    x=RK_4(EDO,p0,t)[:,1]\n",
    "    y=RK_4(EDO,p0,t)[:,2]\n",
    "    vx=RK_4(EDO,p0,t)[:,3]\n",
    "    vy=RK_4(EDO,p0,t)[:,4]\n",
    "    #Definimos el arreglo donde guardaremos la información de la energía a cada tiempo\n",
    "    U=[]\n",
    "    #Definimos la energía inicial\n",
    "    Uinicial=0.5*(x[1]^2+y[1]^2+vx[1]^2+vy[1]^2)\n",
    "    #Realizamos un ciclo para obtener la energía en los tiempos posteriores\n",
    "    for i in 1:length(t)\n",
    "        energia=0.5*(x[i]^2+y[i]^2+vx[i]^2+vy[i]^2)\n",
    "        if energia>=0.3*Uinicial\n",
    "            push!(U,energia)\n",
    "        else\n",
    "            return U\n",
    "        end \n",
    "    end \n",
    "   \n",
    "end"
   ]
  },
  {
   "cell_type": "code",
   "execution_count": null,
   "metadata": {},
   "outputs": [],
   "source": [
    "function energiatiempo(p0,t,EDO)\n",
    "    #Definimos los arreglos donde anexaremos la información sobre las posiciones y velocidades\n",
    "    x=RK_4(EDO,p0,t)[:,1]\n",
    "    y=RK_4(EDO,p0,t)[:,2]\n",
    "    vx=RK_4(EDO,p0,t)[:,3]\n",
    "    vy=RK_4(EDO,p0,t)[:,4]\n",
    "    #Definimos el arreglo donde guardaremos la información de la energía a cada tiempo\n",
    "    U=[]\n",
    "    tiempo=[]\n",
    "    #Definimos la energía inicial\n",
    "    Uinicial=0.5*(x[1]^2+y[1]^2+vx[1]^2+vy[1]^2)\n",
    "    #Realizamos un ciclo para obtener la energía en los tiempos posteriores\n",
    "    for i in 1:length(t)\n",
    "        energia=0.5*(x[i]^2+y[i]^2+vx[i]^2+vy[i]^2)\n",
    "        if energia>=0.3*Uinicial\n",
    "    \n",
    "            #push!(U,energia)\n",
    "            push!(tiempo,t[i])\n",
    "        else\n",
    "            return tiempo\n",
    "        end \n",
    "    end \n",
    "   \n",
    "end"
   ]
  },
  {
   "cell_type": "markdown",
   "metadata": {},
   "source": [
    "Ahora, para ver que tenemos una convergencia de 1%, definamos una función que nos de la máxima variación que tiene nuestra, comparando la solución dada con el método Runge-Kutta de 2do orden y de 4to orden, analizando que se cumpla que el error es menor a 0.01.\n",
    "Se hace uso del método de Runge-Kutta de segundo orden, debido a que si quisieramos utilizar el mismo método, se tendría que cambiar el paso de integración, por lo que los tiempos no necesariamente serían iguales y no se podrían comparar las solciones correctamente."
   ]
  },
  {
   "cell_type": "code",
   "execution_count": null,
   "metadata": {},
   "outputs": [],
   "source": [
    "#Pedimos dos soluciones\n",
    "function variacion(sol1,sol2)\n",
    "    #Guardamos la información de la velocidad y posición en arreglos.\n",
    "    x1=sol1[:,1]\n",
    "    y1=sol1[:,2]\n",
    "    vx1=sol1[:,3]\n",
    "    vy1=sol1[:,4]\n",
    "    x2=sol2[:,1]\n",
    "    y2=sol2[:,2]\n",
    "    vx2=sol2[:,3]\n",
    "    vy2=sol2[:,4]\n",
    "    #Definimos los arreglos donde anexaremos la diferencia en soluciones a cada tiempo\n",
    "    difx=[]\n",
    "    dify=[]\n",
    "    difvx=[]\n",
    "    difvy=[]\n",
    "    #Hacemos un ciclo donde iremos anexando las diferencias de cada solución\n",
    "    for i in 1:length(sol1[:,1])\n",
    "        push!(difx,abs(x1[i]-x2[i]))\n",
    "        push!(dify,abs(y2[i]-y1[i]))\n",
    "        push!(difvx,abs(vx1[i]-vx2[i]))\n",
    "        push!(difvy,abs(vy1[i]-vy2[i]))\n",
    "    end\n",
    "    #Definimos el arreglo donde anexamos el maximo de cada una de las diferencias en las soluciones en x,y,vx y vy\n",
    "    dif=[maximum(difx),maximum(dify),maximum(difvx),maximum(difvy)]\n",
    "    #Obtener la diferencia máxima\n",
    "    max=maximum(dif)\n",
    "    return max\n",
    "end"
   ]
  },
  {
   "cell_type": "markdown",
   "metadata": {},
   "source": [
    "Probemos la función."
   ]
  },
  {
   "cell_type": "code",
   "execution_count": null,
   "metadata": {},
   "outputs": [],
   "source": [
    "tiempoprueba=collect(0:0.01:70π)\n",
    "variacion(RK_4(sistema1,[0.0,1.0,1.0,0.0],tiempoprueba),RK_2(sistema1,[0.0,1.0,1.0,0.0],tiempoprueba))"
   ]
  },
  {
   "cell_type": "markdown",
   "metadata": {},
   "source": [
    "Hagamos un ciclo donde se analice la convergencia de las soluciones en un tiempo y notemos si se cumple la solución."
   ]
  },
  {
   "cell_type": "code",
   "execution_count": null,
   "metadata": {},
   "outputs": [],
   "source": [
    "#Definimos nuestro conjunto de n's\n",
    "n=collect(0:11)\n",
    "#Definimos el tiempo donde evaluaremos la función\n",
    "tiempo1_v=collect(0:0.01:70π)\n",
    "#Creamos un arreglo donde anexaremos la convergencia de nuestras soluciones a diferentes i\n",
    "variaciones=[]\n",
    "for i in n \n",
    "    push!(variaciones, variacion(RK_4(sistema1,[0.0,1.0,cos(i*π/6),sin(i*π/6)],tiempo1_v),RK_2(sistema1,[0.0,1.0,cos(i*π/6),sin(i*π/6)],tiempo1_v)))\n",
    "end\n",
    "#Le pedimos a nuestro arrelo que nos regrese la variación convergencia máxima de todas las soluciones.\n",
    "return(maximum(variaciones))"
   ]
  },
  {
   "cell_type": "markdown",
   "metadata": {},
   "source": [
    "Vemos que se cumple que la convergencia de 0.01, con el tiempo llamado tiempo1_v, así, podemos proceder a obtener la energía para las diferentes n's."
   ]
  },
  {
   "cell_type": "code",
   "execution_count": null,
   "metadata": {},
   "outputs": [],
   "source": [
    "tiempo1_v=collect(0:0.01:70π)\n",
    "plot(title=\"Energía del sistema\",xlabel=\"t\",ylabel=\"U[N]\")\n",
    "for i in n \n",
    "    U=(energia2([0.0,1.0,cos(i*π/6),sin(i*π/6)],tiempo1_v,sistema1))\n",
    "    t=(energiatiempo([0.0,1.0,cos(i*π/6),sin(i*π/6)],tiempo1_v,sistema1))\n",
    "    plot!(t,U,label =\"n=$(i)\", lw=1.0)\n",
    "end\n",
    "plot!()"
   ]
  },
  {
   "cell_type": "markdown",
   "metadata": {},
   "source": [
    "Al presentar los resultados en una gráfica notamos como la simulación sólo nos devuelve los datos hasta que la energía es menor al 30% de la inicial."
   ]
  },
  {
   "cell_type": "markdown",
   "metadata": {},
   "source": [
    "#### (d) Dibuje las gráficas del momento angular para los casos anteirores en el inciso (1b). "
   ]
  },
  {
   "cell_type": "markdown",
   "metadata": {},
   "source": [
    "Sabemos que el momento angular se define como \n",
    "$$\\vec{L}=\\vec{r}\\times m\\vec{v} $$\n",
    "Sin embargo, debido a que la posición y velocidad se encuentran confinadas en el plano xy, el momento angular será:\n",
    "$$\\vec{L}=m(xv_y-yv_x)\\hat{e}_z $$\n",
    "Entonces dados $x,vy,vx,y$ definimos una función que nos regrese el momento angular. "
   ]
  },
  {
   "cell_type": "code",
   "execution_count": null,
   "metadata": {},
   "outputs": [],
   "source": [
    "function MomentoAngular(x,y,vx,vy,m=1)\n",
    "    momento=[]\n",
    "    for i in 1:length(x)\n",
    "        push!(momento,m*(x[i]*vy[i]-y[i]*vx[i]))\n",
    "    end\n",
    "    return momento\n",
    "end"
   ]
  },
  {
   "cell_type": "code",
   "execution_count": null,
   "metadata": {},
   "outputs": [],
   "source": [
    "tiempo1_v=collect(0:0.01:70π)\n",
    "plot(title=\"Momento en el eje z\",xlabel=\"t\",ylabel=\"L\")\n",
    "for i in n \n",
    "    sol=RK_4(sistema1,[0.0,1.0,cos(i*π/6),sin(i*π/6)],tiempo1_v)\n",
    "    momento=MomentoAngular(sol[:,1],sol[:,2],sol[:,3],sol[:,4])\n",
    "    plot!(tiempo1_v,momento,label =\"n=$(i)\", lw=1.0)\n",
    "end\n",
    "plot!()"
   ]
  },
  {
   "cell_type": "markdown",
   "metadata": {},
   "source": [
    "#### (e) Tome de manera arbitraria alguna condición inicial y dibuje el espacio fase (px, x)."
   ]
  },
  {
   "cell_type": "markdown",
   "metadata": {},
   "source": [
    "Iniciamos generando nuestra condición inicial random:"
   ]
  },
  {
   "cell_type": "code",
   "execution_count": null,
   "metadata": {},
   "outputs": [],
   "source": [
    "condicion=[rand(1:10),rand(1:10),rand(1:10),rand(1:10)]"
   ]
  },
  {
   "cell_type": "code",
   "execution_count": null,
   "metadata": {},
   "outputs": [],
   "source": [
    "tiempo1_v=collect(0:0.01:70π)\n",
    "plot(title=\"Espacio fase\",xlabel=\"x\",ylabel=\"px\")\n",
    "x=RK_4(sistema1,condicion,tiempo1_v)[:,1]\n",
    "vx=RK_4(sistema1,condicion,tiempo1_v)[:,3]\n",
    "plot!(x,vx)"
   ]
  },
  {
   "cell_type": "markdown",
   "metadata": {},
   "source": [
    "#### 2.Suponga que se tiene el sistema como en el problema anterior, pero ahora la partícula tiene carga q>0 y en el origen también se encuentra una partícula de carga q>0.\n",
    "#### Sin considerar la fricción, ¿El sistema puede tener órbitas cerradas? De ser asím encuentre algunas de las órbitas o muestre que el sistema no puede tener este tipo de óbitas. (Apoye sus argumentos con alguna simulación)."
   ]
  },
  {
   "cell_type": "markdown",
   "metadata": {},
   "source": [
    "Debido a la segunda ley de Newton, tendremos que la fuerza total del sistema será igual a la masa por la aceleración del sistema. Además, la fuerza total sobre el sistema será la dada en el ejercicio, sin embargo debido a que tenemos dos partículas cargadas debemos anexarle la fuerza de Coulomb en coordenadas cartesianas.\n",
    "$$m\\vec{a}=\\vec{F}+\\vec{F}_{C}=m\\frac{d^{2}\\vec{r}}{dt^{2}} $$"
   ]
  },
  {
   "cell_type": "markdown",
   "metadata": {},
   "source": [
    "Debido a que una de las cargas se encuentra en el origen, la fuerza de Coulomb se reduce a \n",
    "$$\\vec{F}_{C}=\\frac{q^{2}}{4\\pi\\epsilon_0r^{2}}\\vec{r} $$"
   ]
  },
  {
   "cell_type": "markdown",
   "metadata": {},
   "source": [
    "Así, la expresión final de la fuerza, en el caso sin fricción es:\n",
    "$$m\\vec{a}=-k\\vec{r}+\\frac{q^{2}}{4\\pi\\epsilon_0r^{2}}\\vec{r}=m\\frac{d^{2}\\vec{r}}{dt^{2}}  $$"
   ]
  },
  {
   "cell_type": "markdown",
   "metadata": {},
   "source": [
    "Notemos que en este caso la energía se conserva, así que es de esperarse que el sistema realice órbitas cerradas.\n",
    "Pero sólo en el caso de que la fuerza de Coulomb sea más pequeña que la fuerza de reestitución, esto para que la fuerza de reestitución venza a la fuerza de Coulomb y el objeto pueda regresar a su sistema inicial."
   ]
  },
  {
   "cell_type": "markdown",
   "metadata": {},
   "source": [
    "Debido a que tomamos corrdenadas cartesianas tendremos que: "
   ]
  },
  {
   "cell_type": "markdown",
   "metadata": {},
   "source": [
    "$$m\\vec{a}=-kx\\hat{x}-ky\\hat{y}+\\frac{q^{2}}{4\\pi\\epsilon_0(x^{2}+y^{2})}(x\\hat{x}+y\\hat{y})=m\\frac{d^{2}\\vec{r}}{dt^{2}}$$"
   ]
  },
  {
   "cell_type": "markdown",
   "metadata": {},
   "source": [
    "Por lo cual, separando por componentes obtenemos"
   ]
  },
  {
   "cell_type": "markdown",
   "metadata": {},
   "source": [
    "En x\n",
    "$$m\\frac{d^2x}{dt}=-kx+\\frac{q^{2}x}{4\\pi\\epsilon_0(x^{2}+y^{2})} $$\n",
    "En y\n",
    "$$ m\\frac{d^2y}{dt}=-ky+\\frac{q^{2}y}{4\\pi\\epsilon_0(x^{2}+y^{2})} $$"
   ]
  },
  {
   "cell_type": "markdown",
   "metadata": {},
   "source": [
    "Así, tomando m=1, podemos describir los siguientes sistemas de ecuaciones diferenciales:"
   ]
  },
  {
   "cell_type": "markdown",
   "metadata": {},
   "source": [
    "$$x'=v_x$$\n",
    "$$y'=v_y$$"
   ]
  },
  {
   "cell_type": "markdown",
   "metadata": {},
   "source": [
    "$$v'_x=-kx+\\frac{q^{2}x}{4\\pi\\epsilon_0(x^{2}+y^{2})^{3/2}} $$\n",
    "$$v'_y=-ky+\\frac{q^{2}y}{4\\pi\\epsilon_0(x^{2}+y^{2})^{3/2}} $$\n",
    "Teniendo el sistema de ecuaciónes, con k=1, definamos una función que nos devuelva la información de este sistema:"
   ]
  },
  {
   "cell_type": "code",
   "execution_count": 12,
   "metadata": {},
   "outputs": [
    {
     "data": {
      "text/plain": [
       "sistema2_a (generic function with 1 method)"
      ]
     },
     "execution_count": 12,
     "metadata": {},
     "output_type": "execute_result"
    }
   ],
   "source": [
    "function sistema2_a(x,t)\n",
    "    epsilon=8.85418781e-12\n",
    "    q=0.0000000000000001\n",
    "    c=q^2/(4*pi*epsilon)\n",
    "    dx=x[3]\n",
    "    dy=x[4]\n",
    "    r=x[1]^2+x[2]^2\n",
    "    dv_x=-x[1]+(c)*(x[1]/(r))\n",
    "    dv_y=-x[2]+(c)*(x[2]/(r))\n",
    "    #Notemos que se omitio el if debido a que no tenemos la fricción que nos da esa condición\n",
    "    return [dx,dy,dv_x,dv_y]\n",
    "end"
   ]
  },
  {
   "cell_type": "code",
   "execution_count": 13,
   "metadata": {},
   "outputs": [
    {
     "data": {
      "image/svg+xml": [
       "<?xml version=\"1.0\" encoding=\"utf-8\"?>\n",
       "<svg xmlns=\"http://www.w3.org/2000/svg\" xmlns:xlink=\"http://www.w3.org/1999/xlink\" width=\"600\" height=\"400\" viewBox=\"0 0 2400 1600\">\n",
       "<defs>\n",
       "  <clipPath id=\"clip310\">\n",
       "    <rect x=\"0\" y=\"0\" width=\"2400\" height=\"1600\"/>\n",
       "  </clipPath>\n",
       "</defs>\n",
       "<path clip-path=\"url(#clip310)\" d=\"\n",
       "M0 1600 L2400 1600 L2400 0 L0 0  Z\n",
       "  \" fill=\"#ffffff\" fill-rule=\"evenodd\" fill-opacity=\"1\"/>\n",
       "<defs>\n",
       "  <clipPath id=\"clip311\">\n",
       "    <rect x=\"480\" y=\"0\" width=\"1681\" height=\"1600\"/>\n",
       "  </clipPath>\n",
       "</defs>\n",
       "<path clip-path=\"url(#clip310)\" d=\"\n",
       "M242.922 1423.18 L2352.76 1423.18 L2352.76 47.2441 L242.922 47.2441  Z\n",
       "  \" fill=\"#ffffff\" fill-rule=\"evenodd\" fill-opacity=\"1\"/>\n",
       "<defs>\n",
       "  <clipPath id=\"clip312\">\n",
       "    <rect x=\"242\" y=\"47\" width=\"2111\" height=\"1377\"/>\n",
       "  </clipPath>\n",
       "</defs>\n",
       "<polyline clip-path=\"url(#clip312)\" style=\"stroke:#000000; stroke-width:2; stroke-opacity:0.1; fill:none\" points=\"\n",
       "  302.633,1423.18 302.633,47.2441 \n",
       "  \"/>\n",
       "<polyline clip-path=\"url(#clip312)\" style=\"stroke:#000000; stroke-width:2; stroke-opacity:0.1; fill:none\" points=\"\n",
       "  800.235,1423.18 800.235,47.2441 \n",
       "  \"/>\n",
       "<polyline clip-path=\"url(#clip312)\" style=\"stroke:#000000; stroke-width:2; stroke-opacity:0.1; fill:none\" points=\"\n",
       "  1297.84,1423.18 1297.84,47.2441 \n",
       "  \"/>\n",
       "<polyline clip-path=\"url(#clip312)\" style=\"stroke:#000000; stroke-width:2; stroke-opacity:0.1; fill:none\" points=\"\n",
       "  1795.44,1423.18 1795.44,47.2441 \n",
       "  \"/>\n",
       "<polyline clip-path=\"url(#clip312)\" style=\"stroke:#000000; stroke-width:2; stroke-opacity:0.1; fill:none\" points=\"\n",
       "  2293.04,1423.18 2293.04,47.2441 \n",
       "  \"/>\n",
       "<polyline clip-path=\"url(#clip310)\" style=\"stroke:#000000; stroke-width:4; stroke-opacity:1; fill:none\" points=\"\n",
       "  242.922,1423.18 2352.76,1423.18 \n",
       "  \"/>\n",
       "<polyline clip-path=\"url(#clip310)\" style=\"stroke:#000000; stroke-width:4; stroke-opacity:1; fill:none\" points=\"\n",
       "  302.633,1423.18 302.633,1406.67 \n",
       "  \"/>\n",
       "<polyline clip-path=\"url(#clip310)\" style=\"stroke:#000000; stroke-width:4; stroke-opacity:1; fill:none\" points=\"\n",
       "  800.235,1423.18 800.235,1406.67 \n",
       "  \"/>\n",
       "<polyline clip-path=\"url(#clip310)\" style=\"stroke:#000000; stroke-width:4; stroke-opacity:1; fill:none\" points=\"\n",
       "  1297.84,1423.18 1297.84,1406.67 \n",
       "  \"/>\n",
       "<polyline clip-path=\"url(#clip310)\" style=\"stroke:#000000; stroke-width:4; stroke-opacity:1; fill:none\" points=\"\n",
       "  1795.44,1423.18 1795.44,1406.67 \n",
       "  \"/>\n",
       "<polyline clip-path=\"url(#clip310)\" style=\"stroke:#000000; stroke-width:4; stroke-opacity:1; fill:none\" points=\"\n",
       "  2293.04,1423.18 2293.04,1406.67 \n",
       "  \"/>\n",
       "<path clip-path=\"url(#clip310)\" d=\"M 0 0 M256.417 1467.02 L286.093 1467.02 L286.093 1470.96 L256.417 1470.96 L256.417 1467.02 Z\" fill=\"#000000\" fill-rule=\"evenodd\" fill-opacity=\"1\" /><path clip-path=\"url(#clip310)\" d=\"M 0 0 M291.973 1479.92 L299.612 1479.92 L299.612 1453.55 L291.302 1455.22 L291.302 1450.96 L299.565 1449.29 L304.241 1449.29 L304.241 1479.92 L311.88 1479.92 L311.88 1483.85 L291.973 1483.85 L291.973 1479.92 Z\" fill=\"#000000\" fill-rule=\"evenodd\" fill-opacity=\"1\" /><path clip-path=\"url(#clip310)\" d=\"M 0 0 M316.95 1477.97 L321.834 1477.97 L321.834 1483.85 L316.95 1483.85 L316.95 1477.97 Z\" fill=\"#000000\" fill-rule=\"evenodd\" fill-opacity=\"1\" /><path clip-path=\"url(#clip310)\" d=\"M 0 0 M336.903 1452.37 Q333.292 1452.37 331.463 1455.94 Q329.658 1459.48 329.658 1466.61 Q329.658 1473.71 331.463 1477.28 Q333.292 1480.82 336.903 1480.82 Q340.537 1480.82 342.343 1477.28 Q344.172 1473.71 344.172 1466.61 Q344.172 1459.48 342.343 1455.94 Q340.537 1452.37 336.903 1452.37 M336.903 1448.67 Q342.713 1448.67 345.769 1453.27 Q348.848 1457.86 348.848 1466.61 Q348.848 1475.33 345.769 1479.94 Q342.713 1484.52 336.903 1484.52 Q331.093 1484.52 328.014 1479.94 Q324.959 1475.33 324.959 1466.61 Q324.959 1457.86 328.014 1453.27 Q331.093 1448.67 336.903 1448.67 Z\" fill=\"#000000\" fill-rule=\"evenodd\" fill-opacity=\"1\" /><path clip-path=\"url(#clip310)\" d=\"M 0 0 M753.905 1467.02 L783.58 1467.02 L783.58 1470.96 L753.905 1470.96 L753.905 1467.02 Z\" fill=\"#000000\" fill-rule=\"evenodd\" fill-opacity=\"1\" /><path clip-path=\"url(#clip310)\" d=\"M 0 0 M798.65 1452.37 Q795.039 1452.37 793.21 1455.94 Q791.404 1459.48 791.404 1466.61 Q791.404 1473.71 793.21 1477.28 Q795.039 1480.82 798.65 1480.82 Q802.284 1480.82 804.09 1477.28 Q805.918 1473.71 805.918 1466.61 Q805.918 1459.48 804.09 1455.94 Q802.284 1452.37 798.65 1452.37 M798.65 1448.67 Q804.46 1448.67 807.515 1453.27 Q810.594 1457.86 810.594 1466.61 Q810.594 1475.33 807.515 1479.94 Q804.46 1484.52 798.65 1484.52 Q792.84 1484.52 789.761 1479.94 Q786.705 1475.33 786.705 1466.61 Q786.705 1457.86 789.761 1453.27 Q792.84 1448.67 798.65 1448.67 Z\" fill=\"#000000\" fill-rule=\"evenodd\" fill-opacity=\"1\" /><path clip-path=\"url(#clip310)\" d=\"M 0 0 M815.664 1477.97 L820.548 1477.97 L820.548 1483.85 L815.664 1483.85 L815.664 1477.97 Z\" fill=\"#000000\" fill-rule=\"evenodd\" fill-opacity=\"1\" /><path clip-path=\"url(#clip310)\" d=\"M 0 0 M825.663 1449.29 L844.02 1449.29 L844.02 1453.23 L829.946 1453.23 L829.946 1461.7 Q830.964 1461.35 831.983 1461.19 Q833.001 1461 834.02 1461 Q839.807 1461 843.187 1464.18 Q846.566 1467.35 846.566 1472.76 Q846.566 1478.34 843.094 1481.44 Q839.622 1484.52 833.302 1484.52 Q831.126 1484.52 828.858 1484.15 Q826.613 1483.78 824.205 1483.04 L824.205 1478.34 Q826.288 1479.48 828.511 1480.03 Q830.733 1480.59 833.21 1480.59 Q837.214 1480.59 839.552 1478.48 Q841.89 1476.38 841.89 1472.76 Q841.89 1469.15 839.552 1467.05 Q837.214 1464.94 833.21 1464.94 Q831.335 1464.94 829.46 1465.36 Q827.608 1465.77 825.663 1466.65 L825.663 1449.29 Z\" fill=\"#000000\" fill-rule=\"evenodd\" fill-opacity=\"1\" /><path clip-path=\"url(#clip310)\" d=\"M 0 0 M1279.35 1452.37 Q1275.74 1452.37 1273.91 1455.94 Q1272.11 1459.48 1272.11 1466.61 Q1272.11 1473.71 1273.91 1477.28 Q1275.74 1480.82 1279.35 1480.82 Q1282.99 1480.82 1284.79 1477.28 Q1286.62 1473.71 1286.62 1466.61 Q1286.62 1459.48 1284.79 1455.94 Q1282.99 1452.37 1279.35 1452.37 M1279.35 1448.67 Q1285.16 1448.67 1288.22 1453.27 Q1291.3 1457.86 1291.3 1466.61 Q1291.3 1475.33 1288.22 1479.94 Q1285.16 1484.52 1279.35 1484.52 Q1273.54 1484.52 1270.47 1479.94 Q1267.41 1475.33 1267.41 1466.61 Q1267.41 1457.86 1270.47 1453.27 Q1273.54 1448.67 1279.35 1448.67 Z\" fill=\"#000000\" fill-rule=\"evenodd\" fill-opacity=\"1\" /><path clip-path=\"url(#clip310)\" d=\"M 0 0 M1296.37 1477.97 L1301.25 1477.97 L1301.25 1483.85 L1296.37 1483.85 L1296.37 1477.97 Z\" fill=\"#000000\" fill-rule=\"evenodd\" fill-opacity=\"1\" /><path clip-path=\"url(#clip310)\" d=\"M 0 0 M1316.32 1452.37 Q1312.71 1452.37 1310.88 1455.94 Q1309.08 1459.48 1309.08 1466.61 Q1309.08 1473.71 1310.88 1477.28 Q1312.71 1480.82 1316.32 1480.82 Q1319.96 1480.82 1321.76 1477.28 Q1323.59 1473.71 1323.59 1466.61 Q1323.59 1459.48 1321.76 1455.94 Q1319.96 1452.37 1316.32 1452.37 M1316.32 1448.67 Q1322.13 1448.67 1325.19 1453.27 Q1328.27 1457.86 1328.27 1466.61 Q1328.27 1475.33 1325.19 1479.94 Q1322.13 1484.52 1316.32 1484.52 Q1310.51 1484.52 1307.43 1479.94 Q1304.38 1475.33 1304.38 1466.61 Q1304.38 1457.86 1307.43 1453.27 Q1310.51 1448.67 1316.32 1448.67 Z\" fill=\"#000000\" fill-rule=\"evenodd\" fill-opacity=\"1\" /><path clip-path=\"url(#clip310)\" d=\"M 0 0 M1777.46 1452.37 Q1773.84 1452.37 1772.02 1455.94 Q1770.21 1459.48 1770.21 1466.61 Q1770.21 1473.71 1772.02 1477.28 Q1773.84 1480.82 1777.46 1480.82 Q1781.09 1480.82 1782.89 1477.28 Q1784.72 1473.71 1784.72 1466.61 Q1784.72 1459.48 1782.89 1455.94 Q1781.09 1452.37 1777.46 1452.37 M1777.46 1448.67 Q1783.27 1448.67 1786.32 1453.27 Q1789.4 1457.86 1789.4 1466.61 Q1789.4 1475.33 1786.32 1479.94 Q1783.27 1484.52 1777.46 1484.52 Q1771.64 1484.52 1768.57 1479.94 Q1765.51 1475.33 1765.51 1466.61 Q1765.51 1457.86 1768.57 1453.27 Q1771.64 1448.67 1777.46 1448.67 Z\" fill=\"#000000\" fill-rule=\"evenodd\" fill-opacity=\"1\" /><path clip-path=\"url(#clip310)\" d=\"M 0 0 M1794.47 1477.97 L1799.35 1477.97 L1799.35 1483.85 L1794.47 1483.85 L1794.47 1477.97 Z\" fill=\"#000000\" fill-rule=\"evenodd\" fill-opacity=\"1\" /><path clip-path=\"url(#clip310)\" d=\"M 0 0 M1804.47 1449.29 L1822.83 1449.29 L1822.83 1453.23 L1808.75 1453.23 L1808.75 1461.7 Q1809.77 1461.35 1810.79 1461.19 Q1811.81 1461 1812.83 1461 Q1818.61 1461 1821.99 1464.18 Q1825.37 1467.35 1825.37 1472.76 Q1825.37 1478.34 1821.9 1481.44 Q1818.43 1484.52 1812.11 1484.52 Q1809.93 1484.52 1807.66 1484.15 Q1805.42 1483.78 1803.01 1483.04 L1803.01 1478.34 Q1805.09 1479.48 1807.32 1480.03 Q1809.54 1480.59 1812.02 1480.59 Q1816.02 1480.59 1818.36 1478.48 Q1820.7 1476.38 1820.7 1472.76 Q1820.7 1469.15 1818.36 1467.05 Q1816.02 1464.94 1812.02 1464.94 Q1810.14 1464.94 1808.27 1465.36 Q1806.41 1465.77 1804.47 1466.65 L1804.47 1449.29 Z\" fill=\"#000000\" fill-rule=\"evenodd\" fill-opacity=\"1\" /><path clip-path=\"url(#clip310)\" d=\"M 0 0 M2264.94 1479.92 L2272.58 1479.92 L2272.58 1453.55 L2264.27 1455.22 L2264.27 1450.96 L2272.53 1449.29 L2277.21 1449.29 L2277.21 1479.92 L2284.85 1479.92 L2284.85 1483.85 L2264.94 1483.85 L2264.94 1479.92 Z\" fill=\"#000000\" fill-rule=\"evenodd\" fill-opacity=\"1\" /><path clip-path=\"url(#clip310)\" d=\"M 0 0 M2289.92 1477.97 L2294.8 1477.97 L2294.8 1483.85 L2289.92 1483.85 L2289.92 1477.97 Z\" fill=\"#000000\" fill-rule=\"evenodd\" fill-opacity=\"1\" /><path clip-path=\"url(#clip310)\" d=\"M 0 0 M2309.87 1452.37 Q2306.26 1452.37 2304.43 1455.94 Q2302.63 1459.48 2302.63 1466.61 Q2302.63 1473.71 2304.43 1477.28 Q2306.26 1480.82 2309.87 1480.82 Q2313.51 1480.82 2315.31 1477.28 Q2317.14 1473.71 2317.14 1466.61 Q2317.14 1459.48 2315.31 1455.94 Q2313.51 1452.37 2309.87 1452.37 M2309.87 1448.67 Q2315.68 1448.67 2318.74 1453.27 Q2321.82 1457.86 2321.82 1466.61 Q2321.82 1475.33 2318.74 1479.94 Q2315.68 1484.52 2309.87 1484.52 Q2304.06 1484.52 2300.98 1479.94 Q2297.93 1475.33 2297.93 1466.61 Q2297.93 1457.86 2300.98 1453.27 Q2304.06 1448.67 2309.87 1448.67 Z\" fill=\"#000000\" fill-rule=\"evenodd\" fill-opacity=\"1\" /><path clip-path=\"url(#clip310)\" d=\"M 0 0 M1206.54 1510.27 L1206.54 1520.4 L1218.6 1520.4 L1218.6 1524.95 L1206.54 1524.95 L1206.54 1544.3 Q1206.54 1548.66 1207.72 1549.9 Q1208.93 1551.14 1212.59 1551.14 L1218.6 1551.14 L1218.6 1556.04 L1212.59 1556.04 Q1205.81 1556.04 1203.23 1553.53 Q1200.65 1550.98 1200.65 1544.3 L1200.65 1524.95 L1196.35 1524.95 L1196.35 1520.4 L1200.65 1520.4 L1200.65 1510.27 L1206.54 1510.27 Z\" fill=\"#000000\" fill-rule=\"evenodd\" fill-opacity=\"1\" /><path clip-path=\"url(#clip310)\" d=\"M 0 0 M1224.74 1520.4 L1230.6 1520.4 L1230.6 1556.04 L1224.74 1556.04 L1224.74 1520.4 M1224.74 1506.52 L1230.6 1506.52 L1230.6 1513.93 L1224.74 1513.93 L1224.74 1506.52 Z\" fill=\"#000000\" fill-rule=\"evenodd\" fill-opacity=\"1\" /><path clip-path=\"url(#clip310)\" d=\"M 0 0 M1267.24 1536.76 L1267.24 1539.62 L1240.31 1539.62 Q1240.69 1545.67 1243.94 1548.85 Q1247.22 1552 1253.04 1552 Q1256.41 1552 1259.56 1551.17 Q1262.75 1550.35 1265.87 1548.69 L1265.87 1554.23 Q1262.72 1555.57 1259.41 1556.27 Q1256.1 1556.97 1252.69 1556.97 Q1244.16 1556.97 1239.16 1552 Q1234.2 1547.04 1234.2 1538.57 Q1234.2 1529.82 1238.91 1524.69 Q1243.65 1519.54 1251.67 1519.54 Q1258.86 1519.54 1263.03 1524.18 Q1267.24 1528.8 1267.24 1536.76 M1261.38 1535.04 Q1261.32 1530.23 1258.67 1527.37 Q1256.06 1524.5 1251.74 1524.5 Q1246.83 1524.5 1243.87 1527.27 Q1240.95 1530.04 1240.5 1535.07 L1261.38 1535.04 Z\" fill=\"#000000\" fill-rule=\"evenodd\" fill-opacity=\"1\" /><path clip-path=\"url(#clip310)\" d=\"M 0 0 M1301.13 1527.24 Q1303.33 1523.29 1306.38 1521.41 Q1309.44 1519.54 1313.58 1519.54 Q1319.15 1519.54 1322.17 1523.45 Q1325.2 1527.33 1325.2 1534.53 L1325.2 1556.04 L1319.31 1556.04 L1319.31 1534.72 Q1319.31 1529.59 1317.49 1527.11 Q1315.68 1524.63 1311.95 1524.63 Q1307.4 1524.63 1304.76 1527.65 Q1302.12 1530.68 1302.12 1535.9 L1302.12 1556.04 L1296.23 1556.04 L1296.23 1534.72 Q1296.23 1529.56 1294.42 1527.11 Q1292.6 1524.63 1288.82 1524.63 Q1284.33 1524.63 1281.69 1527.68 Q1279.04 1530.71 1279.04 1535.9 L1279.04 1556.04 L1273.16 1556.04 L1273.16 1520.4 L1279.04 1520.4 L1279.04 1525.93 Q1281.05 1522.66 1283.85 1521.1 Q1286.65 1519.54 1290.5 1519.54 Q1294.39 1519.54 1297.09 1521.51 Q1299.83 1523.48 1301.13 1527.24 Z\" fill=\"#000000\" fill-rule=\"evenodd\" fill-opacity=\"1\" /><path clip-path=\"url(#clip310)\" d=\"M 0 0 M1337 1550.7 L1337 1569.6 L1331.12 1569.6 L1331.12 1520.4 L1337 1520.4 L1337 1525.81 Q1338.85 1522.62 1341.65 1521.1 Q1344.48 1519.54 1348.4 1519.54 Q1354.89 1519.54 1358.93 1524.69 Q1363.01 1529.85 1363.01 1538.25 Q1363.01 1546.65 1358.93 1551.81 Q1354.89 1556.97 1348.4 1556.97 Q1344.48 1556.97 1341.65 1555.44 Q1338.85 1553.88 1337 1550.7 M1356.93 1538.25 Q1356.93 1531.79 1354.25 1528.13 Q1351.61 1524.44 1346.97 1524.44 Q1342.32 1524.44 1339.65 1528.13 Q1337 1531.79 1337 1538.25 Q1337 1544.71 1339.65 1548.4 Q1342.32 1552.07 1346.97 1552.07 Q1351.61 1552.07 1354.25 1548.4 Q1356.93 1544.71 1356.93 1538.25 Z\" fill=\"#000000\" fill-rule=\"evenodd\" fill-opacity=\"1\" /><path clip-path=\"url(#clip310)\" d=\"M 0 0 M1382.96 1524.5 Q1378.25 1524.5 1375.52 1528.19 Q1372.78 1531.85 1372.78 1538.25 Q1372.78 1544.65 1375.48 1548.34 Q1378.22 1552 1382.96 1552 Q1387.64 1552 1390.38 1548.31 Q1393.12 1544.62 1393.12 1538.25 Q1393.12 1531.92 1390.38 1528.23 Q1387.64 1524.5 1382.96 1524.5 M1382.96 1519.54 Q1390.6 1519.54 1394.96 1524.5 Q1399.32 1529.47 1399.32 1538.25 Q1399.32 1547 1394.96 1552 Q1390.6 1556.97 1382.96 1556.97 Q1375.29 1556.97 1370.93 1552 Q1366.6 1547 1366.6 1538.25 Q1366.6 1529.47 1370.93 1524.5 Q1375.29 1519.54 1382.96 1519.54 Z\" fill=\"#000000\" fill-rule=\"evenodd\" fill-opacity=\"1\" /><polyline clip-path=\"url(#clip312)\" style=\"stroke:#000000; stroke-width:2; stroke-opacity:0.1; fill:none\" points=\"\n",
       "  242.922,1384.24 2352.76,1384.24 \n",
       "  \"/>\n",
       "<polyline clip-path=\"url(#clip312)\" style=\"stroke:#000000; stroke-width:2; stroke-opacity:0.1; fill:none\" points=\"\n",
       "  242.922,1059.73 2352.76,1059.73 \n",
       "  \"/>\n",
       "<polyline clip-path=\"url(#clip312)\" style=\"stroke:#000000; stroke-width:2; stroke-opacity:0.1; fill:none\" points=\"\n",
       "  242.922,735.212 2352.76,735.212 \n",
       "  \"/>\n",
       "<polyline clip-path=\"url(#clip312)\" style=\"stroke:#000000; stroke-width:2; stroke-opacity:0.1; fill:none\" points=\"\n",
       "  242.922,410.699 2352.76,410.699 \n",
       "  \"/>\n",
       "<polyline clip-path=\"url(#clip312)\" style=\"stroke:#000000; stroke-width:2; stroke-opacity:0.1; fill:none\" points=\"\n",
       "  242.922,86.1857 2352.76,86.1857 \n",
       "  \"/>\n",
       "<polyline clip-path=\"url(#clip310)\" style=\"stroke:#000000; stroke-width:4; stroke-opacity:1; fill:none\" points=\"\n",
       "  242.922,1423.18 242.922,47.2441 \n",
       "  \"/>\n",
       "<polyline clip-path=\"url(#clip310)\" style=\"stroke:#000000; stroke-width:4; stroke-opacity:1; fill:none\" points=\"\n",
       "  242.922,1384.24 268.24,1384.24 \n",
       "  \"/>\n",
       "<polyline clip-path=\"url(#clip310)\" style=\"stroke:#000000; stroke-width:4; stroke-opacity:1; fill:none\" points=\"\n",
       "  242.922,1059.73 268.24,1059.73 \n",
       "  \"/>\n",
       "<polyline clip-path=\"url(#clip310)\" style=\"stroke:#000000; stroke-width:4; stroke-opacity:1; fill:none\" points=\"\n",
       "  242.922,735.212 268.24,735.212 \n",
       "  \"/>\n",
       "<polyline clip-path=\"url(#clip310)\" style=\"stroke:#000000; stroke-width:4; stroke-opacity:1; fill:none\" points=\"\n",
       "  242.922,410.699 268.24,410.699 \n",
       "  \"/>\n",
       "<polyline clip-path=\"url(#clip310)\" style=\"stroke:#000000; stroke-width:4; stroke-opacity:1; fill:none\" points=\"\n",
       "  242.922,86.1857 268.24,86.1857 \n",
       "  \"/>\n",
       "<path clip-path=\"url(#clip310)\" d=\"M 0 0 M114.492 1384.69 L144.167 1384.69 L144.167 1388.63 L114.492 1388.63 L114.492 1384.69 Z\" fill=\"#000000\" fill-rule=\"evenodd\" fill-opacity=\"1\" /><path clip-path=\"url(#clip310)\" d=\"M 0 0 M150.047 1397.58 L157.686 1397.58 L157.686 1371.22 L149.376 1372.89 L149.376 1368.63 L157.64 1366.96 L162.315 1366.96 L162.315 1397.58 L169.954 1397.58 L169.954 1401.52 L150.047 1401.52 L150.047 1397.58 Z\" fill=\"#000000\" fill-rule=\"evenodd\" fill-opacity=\"1\" /><path clip-path=\"url(#clip310)\" d=\"M 0 0 M175.024 1395.64 L179.908 1395.64 L179.908 1401.52 L175.024 1401.52 L175.024 1395.64 Z\" fill=\"#000000\" fill-rule=\"evenodd\" fill-opacity=\"1\" /><path clip-path=\"url(#clip310)\" d=\"M 0 0 M194.977 1370.04 Q191.366 1370.04 189.538 1373.6 Q187.732 1377.14 187.732 1384.27 Q187.732 1391.38 189.538 1394.95 Q191.366 1398.49 194.977 1398.49 Q198.612 1398.49 200.417 1394.95 Q202.246 1391.38 202.246 1384.27 Q202.246 1377.14 200.417 1373.6 Q198.612 1370.04 194.977 1370.04 M194.977 1366.33 Q200.787 1366.33 203.843 1370.94 Q206.922 1375.52 206.922 1384.27 Q206.922 1393 203.843 1397.61 Q200.787 1402.19 194.977 1402.19 Q189.167 1402.19 186.088 1397.61 Q183.033 1393 183.033 1384.27 Q183.033 1375.52 186.088 1370.94 Q189.167 1366.33 194.977 1366.33 Z\" fill=\"#000000\" fill-rule=\"evenodd\" fill-opacity=\"1\" /><path clip-path=\"url(#clip310)\" d=\"M 0 0 M114.26 1060.18 L143.936 1060.18 L143.936 1064.11 L114.26 1064.11 L114.26 1060.18 Z\" fill=\"#000000\" fill-rule=\"evenodd\" fill-opacity=\"1\" /><path clip-path=\"url(#clip310)\" d=\"M 0 0 M159.005 1045.52 Q155.394 1045.52 153.566 1049.09 Q151.76 1052.63 151.76 1059.76 Q151.76 1066.87 153.566 1070.43 Q155.394 1073.97 159.005 1073.97 Q162.64 1073.97 164.445 1070.43 Q166.274 1066.87 166.274 1059.76 Q166.274 1052.63 164.445 1049.09 Q162.64 1045.52 159.005 1045.52 M159.005 1041.82 Q164.815 1041.82 167.871 1046.43 Q170.95 1051.01 170.95 1059.76 Q170.95 1068.49 167.871 1073.09 Q164.815 1077.68 159.005 1077.68 Q153.195 1077.68 150.116 1073.09 Q147.061 1068.49 147.061 1059.76 Q147.061 1051.01 150.116 1046.43 Q153.195 1041.82 159.005 1041.82 Z\" fill=\"#000000\" fill-rule=\"evenodd\" fill-opacity=\"1\" /><path clip-path=\"url(#clip310)\" d=\"M 0 0 M176.019 1071.13 L180.903 1071.13 L180.903 1077.01 L176.019 1077.01 L176.019 1071.13 Z\" fill=\"#000000\" fill-rule=\"evenodd\" fill-opacity=\"1\" /><path clip-path=\"url(#clip310)\" d=\"M 0 0 M186.019 1042.45 L204.375 1042.45 L204.375 1046.38 L190.301 1046.38 L190.301 1054.85 Q191.32 1054.51 192.338 1054.34 Q193.357 1054.16 194.375 1054.16 Q200.162 1054.16 203.542 1057.33 Q206.922 1060.5 206.922 1065.92 Q206.922 1071.5 203.449 1074.6 Q199.977 1077.68 193.658 1077.68 Q191.482 1077.68 189.213 1077.31 Q186.968 1076.94 184.561 1076.2 L184.561 1071.5 Q186.644 1072.63 188.866 1073.19 Q191.088 1073.74 193.565 1073.74 Q197.57 1073.74 199.908 1071.64 Q202.246 1069.53 202.246 1065.92 Q202.246 1062.31 199.908 1060.2 Q197.57 1058.09 193.565 1058.09 Q191.69 1058.09 189.815 1058.51 Q187.963 1058.93 186.019 1059.81 L186.019 1042.45 Z\" fill=\"#000000\" fill-rule=\"evenodd\" fill-opacity=\"1\" /><path clip-path=\"url(#clip310)\" d=\"M 0 0 M158.01 721.011 Q154.399 721.011 152.57 724.576 Q150.765 728.118 150.765 735.247 Q150.765 742.354 152.57 745.918 Q154.399 749.46 158.01 749.46 Q161.644 749.46 163.45 745.918 Q165.278 742.354 165.278 735.247 Q165.278 728.118 163.45 724.576 Q161.644 721.011 158.01 721.011 M158.01 717.307 Q163.82 717.307 166.876 721.914 Q169.954 726.497 169.954 735.247 Q169.954 743.974 166.876 748.58 Q163.82 753.164 158.01 753.164 Q152.2 753.164 149.121 748.58 Q146.066 743.974 146.066 735.247 Q146.066 726.497 149.121 721.914 Q152.2 717.307 158.01 717.307 Z\" fill=\"#000000\" fill-rule=\"evenodd\" fill-opacity=\"1\" /><path clip-path=\"url(#clip310)\" d=\"M 0 0 M175.024 746.613 L179.908 746.613 L179.908 752.492 L175.024 752.492 L175.024 746.613 Z\" fill=\"#000000\" fill-rule=\"evenodd\" fill-opacity=\"1\" /><path clip-path=\"url(#clip310)\" d=\"M 0 0 M194.977 721.011 Q191.366 721.011 189.538 724.576 Q187.732 728.118 187.732 735.247 Q187.732 742.354 189.538 745.918 Q191.366 749.46 194.977 749.46 Q198.612 749.46 200.417 745.918 Q202.246 742.354 202.246 735.247 Q202.246 728.118 200.417 724.576 Q198.612 721.011 194.977 721.011 M194.977 717.307 Q200.787 717.307 203.843 721.914 Q206.922 726.497 206.922 735.247 Q206.922 743.974 203.843 748.58 Q200.787 753.164 194.977 753.164 Q189.167 753.164 186.088 748.58 Q183.033 743.974 183.033 735.247 Q183.033 726.497 186.088 721.914 Q189.167 717.307 194.977 717.307 Z\" fill=\"#000000\" fill-rule=\"evenodd\" fill-opacity=\"1\" /><path clip-path=\"url(#clip310)\" d=\"M 0 0 M159.005 396.498 Q155.394 396.498 153.566 400.063 Q151.76 403.604 151.76 410.734 Q151.76 417.84 153.566 421.405 Q155.394 424.947 159.005 424.947 Q162.64 424.947 164.445 421.405 Q166.274 417.84 166.274 410.734 Q166.274 403.604 164.445 400.063 Q162.64 396.498 159.005 396.498 M159.005 392.794 Q164.815 392.794 167.871 397.401 Q170.95 401.984 170.95 410.734 Q170.95 419.461 167.871 424.067 Q164.815 428.65 159.005 428.65 Q153.195 428.65 150.116 424.067 Q147.061 419.461 147.061 410.734 Q147.061 401.984 150.116 397.401 Q153.195 392.794 159.005 392.794 Z\" fill=\"#000000\" fill-rule=\"evenodd\" fill-opacity=\"1\" /><path clip-path=\"url(#clip310)\" d=\"M 0 0 M176.019 422.099 L180.903 422.099 L180.903 427.979 L176.019 427.979 L176.019 422.099 Z\" fill=\"#000000\" fill-rule=\"evenodd\" fill-opacity=\"1\" /><path clip-path=\"url(#clip310)\" d=\"M 0 0 M186.019 393.419 L204.375 393.419 L204.375 397.354 L190.301 397.354 L190.301 405.826 Q191.32 405.479 192.338 405.317 Q193.357 405.132 194.375 405.132 Q200.162 405.132 203.542 408.303 Q206.922 411.475 206.922 416.891 Q206.922 422.47 203.449 425.572 Q199.977 428.65 193.658 428.65 Q191.482 428.65 189.213 428.28 Q186.968 427.91 184.561 427.169 L184.561 422.47 Q186.644 423.604 188.866 424.16 Q191.088 424.715 193.565 424.715 Q197.57 424.715 199.908 422.609 Q202.246 420.502 202.246 416.891 Q202.246 413.28 199.908 411.174 Q197.57 409.067 193.565 409.067 Q191.69 409.067 189.815 409.484 Q187.963 409.9 186.019 410.78 L186.019 393.419 Z\" fill=\"#000000\" fill-rule=\"evenodd\" fill-opacity=\"1\" /><path clip-path=\"url(#clip310)\" d=\"M 0 0 M150.047 99.5305 L157.686 99.5305 L157.686 73.1649 L149.376 74.8316 L149.376 70.5723 L157.64 68.9057 L162.315 68.9057 L162.315 99.5305 L169.954 99.5305 L169.954 103.466 L150.047 103.466 L150.047 99.5305 Z\" fill=\"#000000\" fill-rule=\"evenodd\" fill-opacity=\"1\" /><path clip-path=\"url(#clip310)\" d=\"M 0 0 M175.024 97.5861 L179.908 97.5861 L179.908 103.466 L175.024 103.466 L175.024 97.5861 Z\" fill=\"#000000\" fill-rule=\"evenodd\" fill-opacity=\"1\" /><path clip-path=\"url(#clip310)\" d=\"M 0 0 M194.977 71.9844 Q191.366 71.9844 189.538 75.5492 Q187.732 79.0908 187.732 86.2204 Q187.732 93.3268 189.538 96.8916 Q191.366 100.433 194.977 100.433 Q198.612 100.433 200.417 96.8916 Q202.246 93.3268 202.246 86.2204 Q202.246 79.0908 200.417 75.5492 Q198.612 71.9844 194.977 71.9844 M194.977 68.2807 Q200.787 68.2807 203.843 72.8871 Q206.922 77.4704 206.922 86.2204 Q206.922 94.9472 203.843 99.5537 Q200.787 104.137 194.977 104.137 Q189.167 104.137 186.088 99.5537 Q183.033 94.9472 183.033 86.2204 Q183.033 77.4704 186.088 72.8871 Q189.167 68.2807 194.977 68.2807 Z\" fill=\"#000000\" fill-rule=\"evenodd\" fill-opacity=\"1\" /><path clip-path=\"url(#clip310)\" d=\"M 0 0 M82.657 842.761 L101.563 842.761 L101.563 848.649 L52.3562 848.649 L52.3562 842.761 L57.7671 842.761 Q54.5842 840.915 53.0564 838.114 Q51.4968 835.281 51.4968 831.366 Q51.4968 824.873 56.6531 820.831 Q61.8093 816.757 70.212 816.757 Q78.6147 816.757 83.771 820.831 Q88.9272 824.873 88.9272 831.366 Q88.9272 835.281 87.3994 838.114 Q85.8398 840.915 82.657 842.761 M70.212 822.836 Q63.7508 822.836 60.0905 825.51 Q56.3984 828.151 56.3984 832.798 Q56.3984 837.445 60.0905 840.119 Q63.7508 842.761 70.212 842.761 Q76.6732 842.761 80.3653 840.119 Q84.0256 837.445 84.0256 832.798 Q84.0256 828.151 80.3653 825.51 Q76.6732 822.836 70.212 822.836 Z\" fill=\"#000000\" fill-rule=\"evenodd\" fill-opacity=\"1\" /><path clip-path=\"url(#clip310)\" d=\"M 0 0 M56.4621 796.8 Q56.4621 801.511 60.1542 804.248 Q63.8145 806.985 70.212 806.985 Q76.6095 806.985 80.3017 804.28 Q83.9619 801.543 83.9619 796.8 Q83.9619 792.121 80.2698 789.384 Q76.5777 786.647 70.212 786.647 Q63.8781 786.647 60.186 789.384 Q56.4621 792.121 56.4621 796.8 M51.4968 796.8 Q51.4968 789.161 56.4621 784.801 Q61.4273 780.44 70.212 780.44 Q78.9649 780.44 83.9619 784.801 Q88.9272 789.161 88.9272 796.8 Q88.9272 804.471 83.9619 808.831 Q78.9649 813.16 70.212 813.16 Q61.4273 813.16 56.4621 808.831 Q51.4968 804.471 51.4968 796.8 Z\" fill=\"#000000\" fill-rule=\"evenodd\" fill-opacity=\"1\" /><path clip-path=\"url(#clip310)\" d=\"M 0 0 M53.4065 751.572 L58.9447 751.572 Q57.6716 754.054 57.035 756.728 Q56.3984 759.402 56.3984 762.266 Q56.3984 766.627 57.7352 768.823 Q59.072 770.987 61.7456 770.987 Q63.7826 770.987 64.9603 769.428 Q66.1061 767.868 67.1565 763.157 L67.6021 761.152 Q68.9389 754.914 71.3897 752.304 Q73.8086 749.662 78.1691 749.662 Q83.1344 749.662 86.0308 753.609 Q88.9272 757.524 88.9272 764.399 Q88.9272 767.263 88.3543 770.382 Q87.8132 773.47 86.6992 776.907 L80.6518 776.907 Q82.3387 773.661 83.198 770.51 Q84.0256 767.359 84.0256 764.271 Q84.0256 760.134 82.6251 757.906 Q81.1929 755.678 78.6147 755.678 Q76.2276 755.678 74.9545 757.301 Q73.6813 758.892 72.5037 764.335 L72.0262 766.372 Q70.8804 771.815 68.5251 774.234 Q66.138 776.653 62.0002 776.653 Q56.9713 776.653 54.2341 773.088 Q51.4968 769.523 51.4968 762.966 Q51.4968 759.72 51.9743 756.855 Q52.4517 753.991 53.4065 751.572 Z\" fill=\"#000000\" fill-rule=\"evenodd\" fill-opacity=\"1\" /><path clip-path=\"url(#clip310)\" d=\"M 0 0 M52.3562 743.519 L52.3562 737.663 L88.0042 737.663 L88.0042 743.519 L52.3562 743.519 M38.479 743.519 L38.479 737.663 L45.895 737.663 L45.895 743.519 L38.479 743.519 Z\" fill=\"#000000\" fill-rule=\"evenodd\" fill-opacity=\"1\" /><path clip-path=\"url(#clip310)\" d=\"M 0 0 M53.7248 705.866 L59.1993 705.866 Q57.8307 708.349 57.1623 710.863 Q56.4621 713.346 56.4621 715.892 Q56.4621 721.589 60.0905 724.74 Q63.6872 727.891 70.212 727.891 Q76.7369 727.891 80.3653 724.74 Q83.9619 721.589 83.9619 715.892 Q83.9619 713.346 83.2935 710.863 Q82.5933 708.349 81.2247 705.866 L86.6355 705.866 Q87.7814 708.317 88.3543 710.959 Q88.9272 713.569 88.9272 716.529 Q88.9272 724.581 83.8664 729.324 Q78.8057 734.066 70.212 734.066 Q61.491 734.066 56.4939 729.292 Q51.4968 724.486 51.4968 716.147 Q51.4968 713.441 52.0697 710.863 Q52.6108 708.285 53.7248 705.866 Z\" fill=\"#000000\" fill-rule=\"evenodd\" fill-opacity=\"1\" /><path clip-path=\"url(#clip310)\" d=\"M 0 0 M52.3562 699.723 L52.3562 693.867 L88.0042 693.867 L88.0042 699.723 L52.3562 699.723 M38.479 699.723 L38.479 693.867 L45.895 693.867 L45.895 699.723 L38.479 699.723 Z\" fill=\"#000000\" fill-rule=\"evenodd\" fill-opacity=\"1\" /><path clip-path=\"url(#clip310)\" d=\"M 0 0 M56.4621 673.91 Q56.4621 678.621 60.1542 681.358 Q63.8145 684.095 70.212 684.095 Q76.6095 684.095 80.3017 681.39 Q83.9619 678.653 83.9619 673.91 Q83.9619 669.231 80.2698 666.494 Q76.5777 663.757 70.212 663.757 Q63.8781 663.757 60.186 666.494 Q56.4621 669.231 56.4621 673.91 M51.4968 673.91 Q51.4968 666.271 56.4621 661.911 Q61.4273 657.55 70.212 657.55 Q78.9649 657.55 83.9619 661.911 Q88.9272 666.271 88.9272 673.91 Q88.9272 681.581 83.9619 685.941 Q78.9649 690.27 70.212 690.27 Q61.4273 690.27 56.4621 685.941 Q51.4968 681.581 51.4968 673.91 M35.869 669.486 L35.869 663.152 L47.8365 673.528 L47.8365 678.398 L35.869 669.486 Z\" fill=\"#000000\" fill-rule=\"evenodd\" fill-opacity=\"1\" /><path clip-path=\"url(#clip310)\" d=\"M 0 0 M66.4881 621.775 L88.0042 621.775 L88.0042 627.632 L66.679 627.632 Q61.6183 627.632 59.1038 629.605 Q56.5894 631.578 56.5894 635.525 Q56.5894 640.267 59.6131 643.005 Q62.6368 645.742 67.8567 645.742 L88.0042 645.742 L88.0042 651.63 L52.3562 651.63 L52.3562 645.742 L57.8944 645.742 Q54.6797 643.641 53.0883 640.809 Q51.4968 637.944 51.4968 634.22 Q51.4968 628.077 55.3163 624.926 Q59.1038 621.775 66.4881 621.775 Z\" fill=\"#000000\" fill-rule=\"evenodd\" fill-opacity=\"1\" /><polyline clip-path=\"url(#clip312)\" style=\"stroke:#009af9; stroke-width:4; stroke-opacity:1; fill:none\" points=\"\n",
       "  1297.84,86.1857 1307.79,86.2181 1317.74,86.3155 1327.69,86.4777 1337.64,86.7048 1347.58,86.9968 1357.51,87.3536 1367.45,87.7751 1377.37,88.2615 1387.29,88.8125 \n",
       "  1397.19,89.4281 1407.09,90.1083 1416.98,90.8531 1426.85,91.6622 1436.71,92.5358 1446.56,93.4735 1456.39,94.4755 1466.21,95.5415 1476.01,96.6716 1485.79,97.8654 \n",
       "  1495.56,99.123 1505.3,100.444 1515.02,101.829 1524.72,103.277 1534.4,104.788 1544.06,106.362 1553.69,107.999 1563.29,109.699 1572.87,111.462 1582.42,113.287 \n",
       "  1591.94,115.173 1601.43,117.122 1610.9,119.133 1620.33,121.206 1629.73,123.339 1639.09,125.534 1648.42,127.79 1657.72,130.107 1666.98,132.484 1676.2,134.922 \n",
       "  1685.39,137.419 1694.54,139.976 1703.64,142.593 1712.71,145.269 1721.74,148.004 1730.72,150.798 1739.66,153.65 1748.55,156.561 1757.4,159.529 1766.21,162.555 \n",
       "  1774.97,165.638 1783.68,168.778 1792.34,171.975 1800.95,175.228 1809.51,178.537 1818.02,181.901 1826.48,185.321 1834.88,188.796 1843.23,192.326 1851.53,195.91 \n",
       "  1859.77,199.548 1867.96,203.239 1876.09,206.984 1884.16,210.781 1892.17,214.631 1900.12,218.533 1908.02,222.486 1915.85,226.491 1923.62,230.547 1931.32,234.653 \n",
       "  1938.97,238.809 1946.55,243.015 1954.06,247.27 1961.51,251.574 1968.89,255.927 1976.21,260.327 1983.46,264.774 1990.64,269.269 1997.75,273.811 2004.79,278.398 \n",
       "  2011.76,283.031 2018.65,287.71 2025.48,292.433 2032.23,297.2 2038.91,302.011 2045.52,306.866 2052.05,311.763 2058.5,316.703 2064.88,321.684 2071.18,326.707 \n",
       "  2077.41,331.771 2083.56,336.875 2089.63,342.019 2095.61,347.202 2101.52,352.424 2107.35,357.685 2113.1,362.983 2118.77,368.318 2124.35,373.69 2129.86,379.098 \n",
       "  2135.27,384.542 2140.61,390.021 2145.86,395.534 2151.03,401.081 2156.11,406.662 2161.1,412.276 2166.01,417.921 2170.83,423.599 2175.57,429.308 2180.21,435.047 \n",
       "  2184.77,440.816 2189.24,446.615 2193.62,452.443 2197.91,458.299 2202.12,464.182 2206.23,470.093 2210.25,476.03 2214.17,481.994 2218.01,487.982 2221.76,493.995 \n",
       "  2225.41,500.033 2228.97,506.093 2232.44,512.177 2235.81,518.283 2239.09,524.411 2242.27,530.56 2245.36,536.729 2248.36,542.918 2251.26,549.127 2254.07,555.354 \n",
       "  2256.78,561.599 2259.39,567.861 2261.91,574.14 2264.33,580.435 2266.66,586.746 2268.88,593.071 2271.01,599.411 2273.05,605.764 2274.98,612.13 2276.82,618.509 \n",
       "  2278.56,624.899 2280.21,631.3 2281.75,637.712 2283.2,644.133 2284.54,650.564 2285.79,657.003 2286.94,663.45 2287.99,669.904 2288.94,676.364 2289.8,682.83 \n",
       "  2290.55,689.302 2291.21,695.778 2291.76,702.258 2292.22,708.742 2292.57,715.228 2292.83,721.716 2292.99,728.205 2293.04,734.696 2293,741.186 2292.86,747.675 \n",
       "  2292.62,754.164 2292.28,760.65 2291.84,767.134 2291.3,773.615 2290.66,780.092 2289.92,786.564 2289.09,793.031 2288.15,799.493 2287.12,805.948 2285.98,812.396 \n",
       "  2284.75,818.836 2283.42,825.268 2281.99,831.691 2280.46,838.104 2278.83,844.507 2277.11,850.899 2275.28,857.279 2273.36,863.648 2271.35,870.003 2269.23,876.345 \n",
       "  2267.02,882.673 2264.71,888.986 2262.3,895.283 2259.8,901.565 2257.2,907.83 2254.5,914.078 2251.71,920.308 2248.83,926.519 2245.85,932.711 2242.77,938.884 \n",
       "  2239.6,945.036 2236.34,951.167 2232.98,957.277 2229.53,963.364 2225.98,969.429 2222.34,975.47 2218.61,981.487 2214.79,987.479 2210.88,993.446 2206.87,999.388 \n",
       "  2202.78,1005.3 2198.59,1011.19 2194.31,1017.05 2189.95,1022.88 2185.49,1028.69 2180.95,1034.46 2176.31,1040.21 2171.59,1045.92 2166.79,1051.6 2161.89,1057.25 \n",
       "  2156.91,1062.87 2151.84,1068.46 2146.69,1074.01 2141.45,1079.53 2136.13,1085.01 2130.72,1090.46 2125.24,1095.88 2119.66,1101.25 2114.01,1106.59 2108.27,1111.9 \n",
       "  2102.46,1117.17 2096.56,1122.39 2090.58,1127.58 2084.53,1132.73 2078.39,1137.84 2072.18,1142.91 2065.89,1147.94 2059.52,1152.93 2053.08,1157.88 2046.56,1162.78 \n",
       "  2039.97,1167.64 2033.3,1172.46 2026.56,1177.24 2019.74,1181.97 2012.86,1186.65 2005.9,1191.29 1998.87,1195.89 1991.77,1200.44 1984.6,1204.94 1977.37,1209.39 \n",
       "  1970.06,1213.8 1962.69,1218.16 1955.25,1222.47 1947.75,1226.74 1940.18,1230.95 1932.55,1235.11 1924.85,1239.23 1917.09,1243.29 1909.27,1247.3 1901.38,1251.27 \n",
       "  1893.44,1255.18 1885.44,1259.03 1877.38,1262.84 1869.26,1266.59 1861.08,1270.29 1852.85,1273.94 1844.56,1277.53 1836.22,1281.07 1827.82,1284.55 1819.37,1287.98 \n",
       "  1810.87,1291.36 1802.31,1294.67 1793.71,1297.94 1785.06,1301.14 1776.36,1304.29 1767.61,1307.38 1758.81,1310.42 1749.97,1313.4 1741.08,1316.31 1732.15,1319.18 \n",
       "  1723.17,1321.98 1714.15,1324.72 1705.09,1327.41 1695.99,1330.04 1686.85,1332.6 1677.67,1335.11 1668.45,1337.56 1659.2,1339.94 1649.91,1342.27 1640.58,1344.54 \n",
       "  1631.22,1346.74 1621.83,1348.88 1612.4,1350.97 1602.94,1352.99 1593.46,1354.95 1583.94,1356.84 1574.39,1358.68 1564.82,1360.45 1555.22,1362.16 1545.59,1363.81 \n",
       "  1535.94,1365.39 1526.27,1366.91 1516.57,1368.37 1506.85,1369.76 1497.11,1371.1 1487.35,1372.36 1477.57,1373.57 1467.77,1374.71 1457.96,1375.78 1448.13,1376.8 \n",
       "  1438.28,1377.74 1428.42,1378.63 1418.55,1379.45 1408.67,1380.2 1398.77,1380.89 1388.86,1381.52 1378.95,1382.08 1369.03,1382.58 1359.1,1383.01 1349.16,1383.38 \n",
       "  1339.22,1383.68 1329.27,1383.92 1319.33,1384.09 1309.38,1384.2 1299.42,1384.24 1289.47,1384.22 1279.52,1384.13 1269.57,1383.98 1259.62,1383.76 1249.68,1383.48 \n",
       "  1239.74,1383.13 1229.81,1382.72 1219.89,1382.25 1209.97,1381.7 1200.06,1381.1 1190.16,1380.43 1180.27,1379.69 1170.4,1378.9 1160.53,1378.03 1150.68,1377.1 \n",
       "  1140.85,1376.11 1131.03,1375.06 1121.23,1373.94 1111.44,1372.75 1101.68,1371.51 1091.93,1370.2 1082.2,1368.82 1072.5,1367.38 1062.82,1365.88 1053.16,1364.32 \n",
       "  1043.52,1362.69 1033.91,1361 1024.33,1359.25 1014.78,1357.43 1005.25,1355.56 995.752,1353.62 986.285,1351.62 976.849,1349.55 967.445,1347.43 958.074,1345.24 \n",
       "  948.737,1343 939.435,1340.69 930.169,1338.32 920.939,1335.9 911.747,1333.41 902.594,1330.86 893.481,1328.25 884.407,1325.59 875.375,1322.86 866.386,1320.08 \n",
       "  857.439,1317.23 848.537,1314.33 839.68,1311.37 830.868,1308.36 822.103,1305.28 813.385,1302.15 804.716,1298.96 796.097,1295.72 787.527,1292.42 779.009,1289.06 \n",
       "  770.542,1285.65 762.129,1282.19 753.768,1278.66 745.462,1275.09 737.212,1271.46 729.017,1267.78 720.88,1264.04 712.8,1260.25 704.778,1256.41 696.816,1252.52 \n",
       "  688.914,1248.57 681.073,1244.57 673.293,1240.53 665.576,1236.43 657.922,1232.28 650.332,1228.08 642.807,1223.84 635.348,1219.54 627.954,1215.19 620.628,1210.8 \n",
       "  613.37,1206.36 606.179,1201.87 599.058,1197.34 592.007,1192.76 585.027,1188.13 578.117,1183.46 571.28,1178.75 564.515,1173.99 557.824,1169.18 551.207,1164.34 \n",
       "  544.664,1159.44 538.197,1154.51 531.805,1149.54 525.491,1144.52 519.253,1139.46 513.094,1134.37 507.012,1129.23 501.01,1124.05 495.088,1118.83 489.246,1113.58 \n",
       "  483.484,1108.29 477.804,1102.96 472.207,1097.59 466.691,1092.19 461.259,1086.75 455.911,1081.28 450.646,1075.77 445.467,1070.23 440.372,1064.65 435.364,1059.05 \n",
       "  430.441,1053.4 425.606,1047.73 420.857,1042.03 416.196,1036.29 411.624,1030.53 407.14,1024.74 402.745,1018.91 398.44,1013.06 394.224,1007.18 390.099,1001.27 \n",
       "  386.065,995.342 382.122,989.383 378.27,983.398 374.511,977.389 370.843,971.355 367.269,965.298 363.787,959.218 360.399,953.116 357.105,946.991 353.904,940.846 \n",
       "  350.799,934.68 347.787,928.494 344.871,922.288 342.05,916.064 339.325,909.822 336.696,903.562 334.162,897.286 331.725,890.993 329.385,884.685 327.141,878.362 \n",
       "  324.995,872.025 322.946,865.673 320.994,859.309 319.14,852.933 317.384,846.544 315.726,840.145 314.166,833.735 312.704,827.315 311.341,820.886 310.077,814.448 \n",
       "  308.911,808.002 307.845,801.55 306.877,795.09 306.008,788.625 305.239,782.154 304.569,775.678 303.998,769.199 303.527,762.716 303.155,756.23 302.882,749.742 \n",
       "  302.709,743.253 302.636,736.763 302.662,730.273 302.787,723.783 303.012,717.294 303.337,710.808 303.76,704.323 304.284,697.842 304.907,691.364 305.628,684.891 \n",
       "  306.45,678.423 307.37,671.961 308.389,665.505 309.508,659.056 310.725,652.614 312.041,646.181 313.455,639.756 314.968,633.342 316.579,626.937 318.289,620.543 \n",
       "  320.096,614.161 322.001,607.791 324.004,601.433 326.104,595.089 328.301,588.759 330.595,582.444 332.986,576.143 335.473,569.859 338.057,563.591 340.736,557.341 \n",
       "  343.512,551.108 346.382,544.894 349.348,538.698 352.409,532.523 355.564,526.367 358.813,520.233 362.157,514.12 365.594,508.029 369.124,501.961 372.747,495.916 \n",
       "  376.462,489.895 380.27,483.898 384.169,477.927 388.16,471.982 392.242,466.062 396.414,460.17 400.677,454.305 405.029,448.468 409.47,442.66 414.001,436.882 \n",
       "  418.619,431.133 423.326,425.414 428.12,419.727 433.001,414.07 437.968,408.447 443.022,402.855 448.161,397.297 453.385,391.773 458.693,386.283 464.085,380.828 \n",
       "  469.561,375.409 475.12,370.025 480.76,364.678 486.483,359.368 492.286,354.096 498.171,348.861 504.135,343.666 510.178,338.509 516.3,333.392 522.501,328.316 \n",
       "  528.779,323.28 535.134,318.285 541.565,313.332 548.071,308.421 554.653,303.553 561.309,298.728 568.039,293.946 574.842,289.209 581.717,284.517 588.663,279.869 \n",
       "  595.681,275.267 602.768,270.711 609.926,266.201 617.152,261.738 624.446,257.323 631.807,252.956 639.235,248.636 646.729,244.365 654.288,240.144 661.911,235.972 \n",
       "  669.598,231.85 677.348,227.778 685.16,223.757 693.033,219.787 700.966,215.868 708.96,212.002 717.012,208.188 725.122,204.426 733.289,200.718 741.513,197.063 \n",
       "  749.793,193.462 758.127,189.915 766.516,186.422 774.957,182.985 783.451,179.602 791.996,176.276 800.592,173.005 809.237,169.79 817.932,166.632 826.674,163.531 \n",
       "  835.464,160.487 844.299,157.5 853.18,154.571 862.106,151.7 871.075,148.888 880.087,146.134 889.14,143.439 898.235,140.804 907.369,138.227 916.543,135.711 \n",
       "  925.754,133.254 935.003,130.858 944.288,128.522 953.608,126.247 962.963,124.032 972.352,121.879 981.772,119.787 991.225,117.756 1000.71,115.788 1010.22,113.881 \n",
       "  1019.76,112.036 1029.33,110.254 1038.93,108.534 1048.55,106.877 1058.2,105.283 1067.87,103.752 1077.56,102.283 1087.28,100.879 1097.02,99.5371 1106.77,98.2592 \n",
       "  1116.55,97.0451 1126.34,95.8947 1136.16,94.8083 1145.98,93.7859 1155.83,92.8277 1165.68,91.9337 1175.55,91.104 1185.44,90.3387 1195.33,89.6379 1205.23,89.0017 \n",
       "  1215.15,88.4301 1225.07,87.9232 1235,87.481 1244.93,87.1036 1254.87,86.791 1264.82,86.5432 1274.77,86.3603 1284.72,86.2423 1294.67,86.1891 1304.62,86.2009 \n",
       "  1314.57,86.2776 1324.52,86.4192 1334.47,86.6256 1344.41,86.8969 1354.35,87.2331 1364.28,87.634 1374.21,88.0997 1384.13,88.6301 1394.04,89.2252 1403.94,89.8848 \n",
       "  1413.83,90.609 1423.71,91.3977 1433.57,92.2507 1443.42,93.168 1453.26,94.1496 1463.08,95.1952 1472.89,96.3048 1482.68,97.4784 1492.45,98.7157 1502.2,100.017 \n",
       "  1511.93,101.381 1521.64,102.809 1531.32,104.3 1540.98,105.854 1550.62,107.471 1560.23,109.151 1569.82,110.894 1579.38,112.699 1588.91,114.566 1598.41,116.495 \n",
       "  1607.89,118.486 1617.33,120.539 1626.74,122.653 1636.11,124.829 1645.45,127.065 1654.76,129.363 1664.03,131.721 1673.27,134.139 1682.47,136.617 1691.63,139.156 \n",
       "  1700.75,141.753 1709.83,144.411 1718.87,147.127 1727.86,149.902 1736.82,152.736 1745.72,155.628 1754.59,158.577 1763.41,161.585 1772.18,164.65 1780.91,167.772 \n",
       "  1789.58,170.95 1798.21,174.185 1806.79,177.477 1815.31,180.824 1823.79,184.226 1832.21,187.683 1840.58,191.196 1848.89,194.762 1857.15,198.383 1865.36,202.057 \n",
       "  1873.5,205.785 1881.59,209.566 1889.62,213.399 1897.6,217.284 1905.51,221.222 1913.36,225.21 1921.15,229.25 1928.88,233.34 1936.54,237.48 1944.14,241.67 \n",
       "  1951.67,245.91 1959.14,250.198 1966.55,254.535 1973.89,258.92 1981.16,263.353 1988.36,267.833 1995.49,272.359 2002.55,276.932 2009.54,281.551 2016.46,286.215 \n",
       "  2023.31,290.923 2030.09,295.677 2036.79,300.474 2043.42,305.315 2049.98,310.199 2056.45,315.125 2062.86,320.093 2069.19,325.103 2075.43,330.154 2081.61,335.245 \n",
       "  2087.7,340.376 2093.72,345.547 2099.65,350.757 2105.51,356.005 2111.28,361.291 2116.97,366.615 2122.58,371.975 2128.11,377.372 2133.56,382.804 2138.92,388.272 \n",
       "  2144.2,393.774 2149.39,399.311 2154.5,404.881 2159.52,410.484 2164.46,416.12 2169.31,421.787 2174.07,427.486 2178.74,433.216 2183.33,438.976 2187.83,444.765 \n",
       "  2192.24,450.584 2196.56,456.431 2200.79,462.305 2204.93,468.208 2208.98,474.136 2212.93,480.091 2216.8,486.072 2220.57,492.077 2224.26,498.107 2227.84,504.16 \n",
       "  2231.34,510.237 2234.74,516.336 2238.05,522.457 2241.27,528.599 2244.39,534.762 2247.42,540.945 2250.35,547.147 2253.18,553.368 2255.92,559.607 2258.57,565.864 \n",
       "  2261.12,572.138 2263.57,578.428 2265.93,584.734 2268.18,591.055 2270.35,597.39 2272.41,603.739 2274.38,610.101 2276.25,616.476 2278.02,622.863 2279.69,629.26 \n",
       "  2281.27,635.669 2282.75,642.087 2284.12,648.515 2285.4,654.951 2286.59,661.395 2287.67,667.847 2288.65,674.306 2289.54,680.77 2290.32,687.24 2291.01,693.715 \n",
       "  2291.59,700.194 2292.08,706.676 2292.47,713.162 2292.76,719.649 2292.95,726.138 2293.04,732.628 2293.03,739.118 2292.92,745.608 2292.71,752.097 2292.4,758.584 \n",
       "  2291.99,765.069 2291.48,771.551 2290.88,778.029 2290.17,784.503 2289.36,790.972 2288.46,797.435 2287.46,803.892 2286.35,810.343 2285.15,816.785 2283.85,823.22 \n",
       "  2282.45,829.646 2280.96,836.062 2279.36,842.468 2277.67,848.864 2275.87,855.248 2273.99,861.62 2272,867.98 2269.91,874.326 2267.73,880.659 2265.45,886.976 \n",
       "  2263.08,893.279 2260.61,899.566 2258.04,905.836 2255.37,912.09 2252.61,918.325 2249.76,924.543 2246.81,930.741 2243.76,936.92 2240.62,943.079 2237.39,949.216 \n",
       "  2234.06,955.333 2230.64,961.427 2227.12,967.499 2223.51,973.548 2219.81,979.573 2216.02,985.573 2212.13,991.548 2208.16,997.498 2204.09,1003.42 2199.93,1009.32 \n",
       "  2195.68,1015.19 2191.35,1021.03 2186.92,1026.84 2182.4,1032.62 2177.8,1038.38 2173.11,1044.1 2168.33,1049.79 2163.46,1055.46 2158.5,1061.08 2153.47,1066.68 \n",
       "  2148.34,1072.24 2143.13,1077.77 2137.83,1083.27 2132.46,1088.73 2126.99,1094.16 2121.45,1099.54 2115.82,1104.9 2110.11,1110.21 2104.32,1115.49 2098.45,1120.73 \n",
       "  2092.5,1125.93 2086.47,1131.1 2080.36,1136.22 2074.17,1141.3 2067.9,1146.35 2061.56,1151.35 2055.14,1156.31 2048.65,1161.22 2042.08,1166.1 2035.43,1170.93 \n",
       "  2028.71,1175.72 2021.92,1180.46 2015.06,1185.16 2008.12,1189.82 2001.12,1194.43 1994.04,1198.99 1986.9,1203.51 1979.68,1207.98 1972.4,1212.4 1965.05,1216.78 \n",
       "  1957.63,1221.1 1950.15,1225.38 1942.6,1229.61 1934.98,1233.79 1927.31,1237.92 1919.57,1242 1911.76,1246.03 1903.9,1250.01 1895.98,1253.94 1887.99,1257.81 \n",
       "  1879.95,1261.63 1871.85,1265.4 1863.69,1269.12 1855.48,1272.78 1847.21,1276.39 1838.88,1279.95 1830.5,1283.45 1822.07,1286.9 1813.58,1290.29 1805.04,1293.62 \n",
       "  1796.46,1296.9 1787.82,1300.13 1779.13,1303.29 1770.4,1306.4 1761.62,1309.46 1752.79,1312.45 1743.91,1315.39 1735,1318.27 1726.03,1321.09 1717.03,1323.86 \n",
       "  1707.98,1326.56 1698.89,1329.21 1689.76,1331.79 1680.6,1334.32 1671.39,1336.78 1662.15,1339.19 1652.87,1341.53 1643.55,1343.82 1634.21,1346.04 1624.82,1348.21 \n",
       "  1615.41,1350.31 1605.96,1352.35 1596.48,1354.33 1586.97,1356.24 1577.44,1358.1 1567.87,1359.89 1558.28,1361.62 1548.66,1363.29 1539.02,1364.89 1529.35,1366.43 \n",
       "  1519.66,1367.91 1509.95,1369.33 1500.21,1370.68 1490.46,1371.97 1480.69,1373.19 1470.89,1374.35 1461.09,1375.45 1451.26,1376.48 1441.42,1377.45 1431.56,1378.35 \n",
       "  1421.7,1379.19 1411.82,1379.97 1401.92,1380.68 1392.02,1381.33 1382.11,1381.91 1372.19,1382.43 1362.26,1382.88 1352.33,1383.27 1342.39,1383.59 1332.44,1383.85 \n",
       "  1322.49,1384.04 1312.54,1384.17 1302.59,1384.23 1292.64,1384.23 1282.69,1384.16 1272.74,1384.03 1262.79,1383.84 1252.85,1383.58 1242.91,1383.25 1232.97,1382.86 \n",
       "  1223.05,1382.4 1213.13,1381.88 1203.22,1381.3 1193.31,1380.65 1183.42,1379.94 1173.54,1379.16 1163.67,1378.31 1153.82,1377.41 1143.98,1376.44 1134.16,1375.4 \n",
       "  1124.35,1374.3 1114.56,1373.14 1104.78,1371.91 1095.03,1370.62 1085.3,1369.27 1075.59,1367.85 1065.9,1366.37 1056.23,1364.82 1046.59,1363.22 1036.97,1361.55 \n",
       "  1027.38,1359.81 1017.82,1358.02 1008.28,1356.16 998.774,1354.24 989.297,1352.26 979.851,1350.22 970.437,1348.11 961.055,1345.95 951.707,1343.72 942.394,1341.43 \n",
       "  933.116,1339.08 923.875,1336.68 914.671,1334.21 905.506,1331.68 896.379,1329.09 887.293,1326.44 878.248,1323.73 869.245,1320.97 860.285,1318.14 851.368,1315.26 \n",
       "  842.496,1312.32 833.67,1309.32 824.89,1306.27 816.157,1303.15 807.473,1299.98 798.837,1296.76 790.252,1293.48 781.717,1290.14 773.234,1286.74 764.803,1283.3 \n",
       "  756.426,1279.79 748.102,1276.23 739.834,1272.62 731.621,1268.96 723.466,1265.24 715.367,1261.46 707.327,1257.64 699.346,1253.76 691.424,1249.83 683.564,1245.85 \n",
       "  675.765,1241.82 668.028,1237.74 660.354,1233.61 652.743,1229.43 645.197,1225.19 637.717,1220.91 630.302,1216.58 622.955,1212.21 615.674,1207.78 608.462,1203.31 \n",
       "  601.319,1198.79 594.246,1194.22 587.243,1189.61 580.311,1184.96 573.45,1180.25 566.662,1175.51 559.948,1170.72 553.307,1165.88 546.74,1161.01 540.249,1156.09 \n",
       "  533.833,1151.13 527.494,1146.12 521.232,1141.08 515.047,1135.99 508.941,1130.87 502.914,1125.7 496.966,1120.5 491.098,1115.26 485.311,1109.98 479.605,1104.66 \n",
       "  473.981,1099.31 468.439,1093.92 462.981,1088.49 457.605,1083.03 452.314,1077.53 447.107,1072 441.986,1066.43 436.95,1060.84 432,1055.2 427.137,1049.54 \n",
       "  422.36,1043.85 417.672,1038.12 413.071,1032.37 408.559,1026.58 404.135,1020.77 399.801,1014.93 395.557,1009.06 391.403,1003.16 387.34,997.234 383.368,991.284 \n",
       "  379.487,985.307 375.698,979.306 372.002,973.28 368.397,967.23 364.886,961.157 361.468,955.062 358.144,948.944 354.914,942.805 351.778,936.646 348.736,930.466 \n",
       "  345.79,924.267 342.939,918.049 340.183,911.812 337.523,905.558 334.959,899.287 332.491,892.999 330.12,886.696 327.846,880.378 325.668,874.045 323.588,867.698 \n",
       "  321.605,861.338 319.72,854.965 317.933,848.58 316.244,842.184 314.652,835.777 313.159,829.361 311.765,822.934 310.469,816.499 309.272,810.056 308.174,803.606 \n",
       "  307.175,797.148 306.275,790.685 305.474,784.215 304.772,777.741 304.169,771.263 303.666,764.781 303.263,758.296 302.958,751.809 302.754,745.32 302.648,738.83 \n",
       "  302.643,732.34 302.737,725.85 302.93,719.361 303.223,712.874 303.615,706.388 304.107,699.906 304.698,693.427 305.388,686.953 306.178,680.483 307.066,674.019 \n",
       "  308.054,667.56 309.141,661.109 310.327,654.665 311.611,648.229 312.994,641.802 314.476,635.384 316.056,628.976 317.734,622.579 319.51,616.193 321.384,609.818 \n",
       "  323.355,603.457 325.424,597.108 327.591,590.774 329.854,584.454 332.214,578.149 334.671,571.859 337.224,565.586 339.873,559.33 342.617,553.092 345.458,546.871 \n",
       "  348.393,540.67 351.424,534.488 354.549,528.326 357.768,522.185 361.082,516.065 364.489,509.967 367.99,503.891 371.583,497.839 375.269,491.81 379.047,485.806 \n",
       "  382.918,479.826 386.879,473.873 390.932,467.945 395.076,462.044 399.309,456.17 403.633,450.325 408.046,444.507 412.548,438.719 417.139,432.961 421.817,427.232 \n",
       "  426.584,421.535 431.437,415.869 436.377,410.235 441.403,404.633 446.515,399.064 451.712,393.529 456.993,388.028 462.359,382.562 467.808,377.131 473.34,371.736 \n",
       "  478.955,366.377 484.651,361.056 490.429,355.771 496.288,350.525 502.226,345.317 508.245,340.148 514.342,335.018 520.518,329.929 526.771,324.88 533.101,319.872 \n",
       "  539.508,314.905 545.991,309.981 552.549,305.099 559.181,300.26 565.888,295.465 572.667,290.713 579.519,286.007 586.443,281.345 593.438,276.728 600.503,272.157 \n",
       "  607.638,267.633 614.843,263.155 622.115,258.724 629.455,254.342 636.862,250.007 644.335,245.721 651.873,241.483 659.476,237.295 667.143,233.157 674.873,229.069 \n",
       "  682.665,225.032 690.519,221.046 698.433,217.111 706.407,213.228 714.441,209.397 722.533,205.619 730.682,201.893 738.888,198.221 747.15,194.603 755.467,191.039 \n",
       "  763.838,187.529 772.263,184.074 780.74,180.674 789.269,177.329 797.849,174.041 806.478,170.808 815.157,167.632 823.884,164.513 832.659,161.45 841.48,158.445 \n",
       "  850.347,155.498 859.258,152.609 868.214,149.778 877.212,147.005 886.252,144.292 895.334,141.637 904.455,139.042 913.616,136.506 922.816,134.03 932.053,131.615 \n",
       "  941.327,129.26 950.636,126.965 959.98,124.731 969.358,122.558 978.768,120.447 988.211,118.397 997.684,116.408 1007.19,114.482 1016.72,112.617 1026.28,110.815 \n",
       "  1035.87,109.075 1045.48,107.398 1055.12,105.784 1064.79,104.233 1074.47,102.744 1084.18,101.319 1093.91,99.9577 1103.66,98.6595 1113.43,97.4251 1123.22,96.2544 \n",
       "  1133.03,95.1476 1142.85,94.1048 1152.69,93.1261 1162.54,92.2116 1172.41,91.3614 1182.29,90.5756 1192.18,89.8543 1202.08,89.1975 1211.99,88.6053 1221.91,88.0778 \n",
       "  1231.83,87.615 1241.77,87.2169 1251.71,86.8837 1261.65,86.6152 1271.6,86.4117 1281.55,86.273 1291.5,86.1992 1301.45,86.1903 1311.4,86.2463 1321.35,86.3672 \n",
       "  1331.3,86.553 1341.24,86.8036 1351.18,87.1191 1361.12,87.4994 1371.05,87.9445 1380.97,88.4543 1390.88,89.0288 1400.79,89.6679 1410.68,90.3715 1420.56,91.1396 \n",
       "  1430.43,91.9722 1440.29,92.869 1450.13,93.8301 1459.96,94.8554 1469.77,95.9446 1479.56,97.0978 1489.34,98.3148 1499.09,99.5955 1508.83,100.94 1518.55,102.347 \n",
       "  1528.24,103.818 1537.91,105.353 1547.55,106.95 1557.18,108.61 1566.77,110.332 1576.34,112.117 1585.88,113.965 1595.39,115.874 1604.87,117.845 1614.32,119.879 \n",
       "  1623.74,121.973 1633.13,124.129 1642.48,126.346 1651.8,128.624 1661.08,130.963 1670.33,133.362 1679.54,135.822 1688.71,138.341 1697.85,140.92 1706.94,143.558 \n",
       "  1715.99,146.256 1725,149.012 1733.97,151.827 1742.89,154.7 1751.77,157.632 1760.6,160.621 1769.39,163.667 1778.13,166.771 1786.82,169.932 1795.47,173.149 \n",
       "  1804.06,176.422 1812.6,179.752 1821.1,183.136 1829.53,186.576 1837.92,190.071 1846.25,193.621 1854.53,197.224 1862.75,200.881 1870.92,204.592 1879.02,208.356 \n",
       "  1887.07,212.172 1895.06,216.041 1902.99,219.962 1910.86,223.934 1918.67,227.958 1926.42,232.032 1934.1,236.156 1941.73,240.33 1949.28,244.554 1956.77,248.827 \n",
       "  1964.2,253.149 1971.56,257.518 1978.85,261.936 1986.07,266.401 1993.22,270.912 2000.31,275.47 2007.32,280.075 2014.27,284.724 2021.14,289.419 2027.94,294.158 \n",
       "  2034.66,298.941 2041.32,303.768 2047.9,308.638 2054.4,313.551 2060.83,318.506 2067.18,323.503 2073.45,328.541 2079.65,333.619 2085.77,338.738 2091.81,343.896 \n",
       "  2097.77,349.093 2103.65,354.329 2109.45,359.603 2115.17,364.915 2120.81,370.264 2126.36,375.649 2131.83,381.07 2137.22,386.526 2142.53,392.018 2147.75,397.544 \n",
       "  2152.88,403.103 2157.93,408.696 2162.89,414.321 2167.77,419.979 2172.56,425.667 2177.26,431.387 2181.88,437.138 2186.4,442.918 2190.84,448.727 2195.19,454.565 \n",
       "  2199.45,460.431 2203.62,466.325 2207.7,472.245 2211.68,478.192 2215.58,484.164 2219.38,490.162 2223.09,496.184 2226.71,502.23 2230.24,508.299 2233.67,514.391 \n",
       "  2237.01,520.505 2240.25,526.64 2243.41,532.797 2246.46,538.973 2249.42,545.169 2252.29,551.385 2255.06,557.618 2257.74,563.869 2260.32,570.138 2262.8,576.423 \n",
       "  2265.19,582.724 2267.47,589.04 2269.67,595.371 2271.76,601.715 2273.76,608.073 2275.66,614.444 2277.47,620.827 2279.17,627.221 2280.78,633.626 2282.29,640.042 \n",
       "  2283.7,646.466 2285.01,652.9 2286.22,659.342 2287.33,665.791 2288.35,672.248 2289.26,678.71 2290.08,685.179 2290.8,691.652 2291.42,698.13 2291.94,704.611 \n",
       "  2292.36,711.096 2292.68,717.583 2292.9,724.071 2293.02,730.561 2293.04,737.051 2292.96,743.541 2292.78,750.03 2292.51,756.518 2292.13,763.004 2291.65,769.487 \n",
       "  2291.08,775.966 2290.4,782.441 2289.63,788.912 2288.76,795.377 2287.79,801.836 2286.71,808.289 2285.55,814.734 2284.28,821.171 2282.91,827.6 2281.44,834.019 \n",
       "  2279.88,840.429 2278.22,846.828 2276.46,853.216 2274.6,859.592 2272.64,865.956 2270.59,872.306 2268.44,878.643 2266.19,884.966 2263.84,891.273 2261.4,897.565 \n",
       "  2258.87,903.841 2256.23,910.1 2253.5,916.341 2250.68,922.564 2247.76,928.769 2244.74,934.954 2241.63,941.119 2238.43,947.264 2235.13,953.387 2231.74,959.488 \n",
       "  2228.25,965.568 2224.67,971.624 2221,977.656 2217.24,983.664 2213.38,989.648 2209.43,995.606 2205.4,1001.54 2201.27,1007.44 2197.05,1013.32 2192.74,1019.17 \n",
       "  2188.34,1024.99 2183.85,1030.79 2179.27,1036.55 2174.61,1042.28 2169.86,1047.98 2165.02,1053.66 2160.09,1059.3 2155.08,1064.9 2149.98,1070.48 2144.8,1076.02 \n",
       "  2139.53,1081.52 2134.18,1086.99 2128.74,1092.43 2123.22,1097.83 2117.62,1103.2 2111.94,1108.52 2106.17,1113.81 2100.33,1119.07 2094.4,1124.28 2088.4,1129.46 \n",
       "  2082.31,1134.59 2076.15,1139.69 2069.91,1144.74 2063.59,1149.76 2057.19,1154.73 2050.72,1159.66 2044.18,1164.55 2037.56,1169.4 2030.86,1174.2 2024.09,1178.96 \n",
       "  2017.25,1183.67 2010.34,1188.34 2003.36,1192.96 1996.3,1197.54 1989.18,1202.07 1981.99,1206.56 1974.72,1211 1967.39,1215.39 1960,1219.73 1952.54,1224.02 \n",
       "  1945.01,1228.27 1937.42,1232.47 1929.76,1236.61 1922.04,1240.71 1914.26,1244.75 1906.41,1248.75 1898.51,1252.69 1890.54,1256.58 1882.52,1260.42 1874.44,1264.21 \n",
       "  1866.3,1267.94 1858.1,1271.62 1849.85,1275.25 1841.54,1278.82 1833.18,1282.34 1824.76,1285.8 1816.29,1289.21 1807.77,1292.57 1799.2,1295.86 1790.58,1299.11 \n",
       "  1781.9,1302.29 1773.19,1305.42 1764.42,1308.49 1755.6,1311.5 1746.74,1314.46 1737.84,1317.36 1728.89,1320.2 1719.9,1322.98 1710.87,1325.7 1701.79,1328.37 \n",
       "  1692.68,1330.97 1683.52,1333.52 1674.33,1336 1665.1,1338.43 1655.83,1340.79 1646.53,1343.1 1637.19,1345.34 1627.81,1347.52 1618.41,1349.65 1608.97,1351.71 \n",
       "  1599.5,1353.7 1590,1355.64 1580.48,1357.51 1570.92,1359.33 1561.34,1361.08 1551.73,1362.76 1542.09,1364.39 1532.43,1365.95 1522.75,1367.45 1513.04,1368.88 \n",
       "  1503.32,1370.25 1493.57,1371.56 1483.8,1372.81 1474.01,1373.99 1464.21,1375.11 1454.39,1376.16 1444.56,1377.15 1434.7,1378.07 1424.84,1378.93 1414.96,1379.73 \n",
       "  1405.08,1380.46 1395.18,1381.13 1385.27,1381.73 1375.35,1382.27 1365.42,1382.74 1355.49,1383.15 1345.55,1383.49 1335.61,1383.77 1325.66,1383.99 1315.71,1384.13 \n",
       "  1305.76,1384.22 1295.81,1384.24 1285.86,1384.19 1275.91,1384.08 1265.96,1383.91 1256.02,1383.67 1246.07,1383.36 1236.14,1382.99 1226.21,1382.56 1216.29,1382.06 \n",
       "  1206.37,1381.49 1196.47,1380.86 1186.57,1380.17 1176.69,1379.41 1166.82,1378.59 1156.96,1377.7 1147.11,1376.75 1137.28,1375.74 1127.47,1374.66 1117.67,1373.51 \n",
       "  1107.89,1372.31 1098.14,1371.04 1088.4,1369.7 1078.68,1368.31 1068.98,1366.84 1059.31,1365.32 1049.66,1363.73 1040.03,1362.08 1030.43,1360.37 1020.86,1358.6 \n",
       "  1011.32,1356.76 1001.8,1354.86 992.313,1352.9 982.857,1350.87 973.432,1348.79 964.04,1346.64 954.681,1344.44 945.357,1342.17 936.068,1339.84 926.815,1337.45 \n",
       "  917.599,1335 908.421,1332.49 899.282,1329.92 890.183,1327.29 881.125,1324.6 872.108,1321.86 863.134,1319.05 854.203,1316.19 845.317,1313.26 836.476,1310.28 \n",
       "  827.681,1307.25 818.934,1304.15 810.234,1301 801.583,1297.79 792.981,1294.53 784.43,1291.21 775.93,1287.83 767.483,1284.4 759.088,1280.91 750.748,1277.37 \n",
       "  742.462,1273.78 734.231,1270.13 726.057,1266.43 717.941,1262.67 709.882,1258.86 701.882,1255 693.941,1251.09 686.061,1247.13 678.242,1243.11 670.485,1239.05 \n",
       "  662.791,1234.93 655.161,1230.76 647.594,1226.55 640.093,1222.28 632.657,1217.97 625.288,1213.61 617.986,1209.2 610.752,1204.74 603.587,1200.23 596.491,1195.68 \n",
       "  589.466,1191.09 582.511,1186.44 575.628,1181.76 568.817,1177.02 562.079,1172.25 555.414,1167.43 548.824,1162.56 542.309,1157.66 535.869,1152.71 529.505,1147.72 \n",
       "  523.218,1142.69 517.009,1137.62 510.878,1132.51 504.825,1127.35 498.852,1122.16 492.959,1116.93 487.146,1111.66 481.414,1106.36 475.764,1101.02 470.196,1095.64 \n",
       "  464.711,1090.22 459.309,1084.77 453.991,1079.28 448.757,1073.76 443.608,1068.21 438.545,1062.62 433.568,1057 428.677,1051.35 423.872,1045.67 419.156,1039.95 \n",
       "  414.527,1034.2 409.987,1028.43 405.535,1022.62 401.172,1016.79 396.9,1010.93 392.717,1005.04 388.625,999.124 384.624,993.182 380.714,987.213 376.895,981.22 \n",
       "  373.169,975.202 369.536,969.16 365.995,963.094 362.547,957.006 359.193,950.895 355.933,944.763 352.767,938.61 349.695,932.437 346.718,926.244 343.837,920.031 \n",
       "  341.051,913.801 338.36,907.552 335.765,901.286 333.267,895.004 330.865,888.706 328.56,882.392 326.352,876.063 324.24,869.721 322.227,863.365 320.31,856.996 \n",
       "  318.492,850.615 316.771,844.223 315.149,837.819 313.625,831.406 312.199,824.982 310.872,818.55 309.643,812.109 308.513,805.661 307.483,799.206 306.551,792.744 \n",
       "  305.718,786.277 304.985,779.804 304.351,773.327 303.816,766.846 303.381,760.362 303.045,753.876 302.808,747.387 302.671,740.898 302.634,734.407 302.696,727.917 \n",
       "  302.858,721.428 303.119,714.94 303.479,708.454 303.939,701.971 304.499,695.491 305.158,689.015 305.916,682.543 306.773,676.077 307.729,669.617 308.784,663.163 \n",
       "  309.939,656.717 311.192,650.278 312.543,643.848 313.994,637.427 315.542,631.016 317.189,624.615 318.934,618.226 320.777,611.848 322.717,605.482 324.755,599.129 \n",
       "  326.89,592.79 329.123,586.465 331.452,580.155 333.878,573.861 336.4,567.583 339.019,561.321 341.733,555.077 344.543,548.851 347.448,542.643 350.448,536.455 \n",
       "  353.543,530.286 356.733,524.139 360.016,518.012 363.394,511.907 366.865,505.824 370.429,499.764 374.085,493.728 377.834,487.716 381.675,481.728 385.608,475.766 \n",
       "  389.632,469.83 393.746,463.921 397.951,458.038 402.246,452.184 406.631,446.357 411.105,440.56 415.667,434.792 420.318,429.054 425.056,423.346 429.882,417.67 \n",
       "  434.794,412.026 439.793,406.414 444.878,400.834 450.047,395.289 455.302,389.777 460.641,384.3 466.064,378.857 471.569,373.451 477.158,368.08 482.828,362.747 \n",
       "  488.58,357.45 494.413,352.192 500.326,346.971 506.319,341.79 512.392,336.648 518.542,331.545 524.771,326.484 531.077,321.462 537.459,316.483 543.918,311.545 \n",
       "  550.452,306.65 557.061,301.797 563.744,296.988 570.5,292.222 577.329,287.501 584.23,282.825 591.202,278.194 598.245,273.608 605.358,269.069 612.541,264.576 \n",
       "  619.791,260.131 627.11,255.733 634.496,251.383 641.948,247.081 649.465,242.828 657.048,238.624 664.694,234.47 672.404,230.366 680.176,226.313 688.011,222.31 \n",
       "  695.906,218.359 703.861,214.459 711.876,210.612 719.949,206.817 728.08,203.074 736.268,199.385 744.512,195.75 752.812,192.168 761.166,188.641 769.574,185.169 \n",
       "  778.034,181.751 786.547,178.389 795.11,175.082 803.724,171.832 812.388,168.638 821.099,165.5 829.859,162.42 838.665,159.396 847.518,156.431 856.415,153.523 \n",
       "  865.356,150.673 874.341,147.882 883.368,145.15 892.437,142.476 901.546,139.862 910.694,137.307 919.882,134.813 929.107,132.378 938.369,130.003 947.667,127.689 \n",
       "  957,125.436 966.367,123.244 975.767,121.113 985.2,119.043 994.663,117.035 1004.16,115.089 1013.68,113.205 1023.23,111.383 1032.81,109.623 1042.42,107.926 \n",
       "  1052.05,106.292 1061.7,104.72 1071.38,103.212 1081.09,101.767 1090.81,100.385 1100.55,99.0663 1110.32,97.8115 1120.1,96.6205 1129.9,95.4933 1139.72,94.4302 \n",
       "  1149.55,93.431 1159.4,92.4961 1169.26,91.6254 1179.14,90.8191 1189.03,90.0773 1198.92,89.3999 1208.83,88.7871 1218.75,88.239 1228.67,87.7555 1238.6,87.3369 \n",
       "  1248.54,86.983 1258.48,86.6939 1268.43,86.4696 1278.38,86.3103 1288.33,86.2158 1298.28,86.1862 1308.23,86.2216 1318.18,86.3218 1328.13,86.4869 1338.08,86.7169 \n",
       "  1348.02,87.0118 1357.96,87.3714 1367.89,87.7959 1377.81,88.2851 1387.73,88.8389 1397.63,89.4575 1407.53,90.1405 1417.42,90.8881 1427.29,91.7002 1437.15,92.5765 \n",
       "  1447,93.5172 1456.83,94.522 1466.64,95.5909 1476.44,96.7237 1486.23,97.9204 1495.99,99.1808 1505.73,100.505 1515.45,101.892 1525.15,103.343 1534.83,104.857 \n",
       "  1544.48,106.434 1554.11,108.074 1563.72,109.777 1573.29,111.542 1582.84,113.369 1592.36,115.259 1601.85,117.211 1611.32,119.224 1620.75,121.3 1630.14,123.436 \n",
       "  1639.51,125.634 1648.84,127.892 1658.13,130.212 1667.39,132.592 1676.61,135.032 1685.8,137.532 1694.94,140.092 1704.05,142.711 1713.11,145.39 1722.14,148.128 \n",
       "  1731.12,150.924 1740.05,153.779 1748.95,156.692 1757.8,159.663 1766.6,162.691 1775.35,165.777 1784.06,168.919 1792.72,172.118 1801.33,175.374 1809.89,178.685 \n",
       "  1818.4,182.052 1826.85,185.475 1835.25,188.952 1843.6,192.484 1851.9,196.071 1860.14,199.711 1868.32,203.405 1876.45,207.151 1884.52,210.951 1892.52,214.803 \n",
       "  1900.47,218.708 1908.36,222.664 1916.19,226.671 1923.96,230.729 1931.66,234.837 1939.3,238.996 1946.88,243.204 1954.39,247.461 1961.84,251.767 1969.22,256.121 \n",
       "  1976.53,260.524 1983.78,264.973 1990.95,269.47 1998.06,274.014 2005.1,278.603 2012.06,283.238 2018.96,287.919 2025.78,292.644 2032.53,297.413 2039.21,302.226 \n",
       "  2045.81,307.083 2052.34,311.982 2058.79,316.923 2065.16,321.907 2071.46,326.932 2077.68,331.997 2083.83,337.103 2089.89,342.249 2095.88,347.434 2101.78,352.657 \n",
       "  2107.61,357.919 2113.36,363.219 2119.02,368.556 2124.6,373.93 2130.1,379.339 2135.51,384.785 2140.84,390.265 2146.09,395.78 2151.25,401.329 2156.33,406.911 \n",
       "  2161.32,412.526 2166.23,418.173 2171.04,423.852 2175.78,429.562 2180.42,435.303 2184.97,441.074 2189.44,446.874 2193.82,452.703 2198.1,458.56 2202.3,464.445 \n",
       "  2206.41,470.356 2210.42,476.295 2214.35,482.259 2218.18,488.249 2221.92,494.263 2225.57,500.301 2229.12,506.363 2232.59,512.448 2235.96,518.555 2239.23,524.684 \n",
       "  2242.41,530.833 2245.5,537.004 2248.49,543.194 2251.39,549.403 2254.19,555.631 2256.89,561.876 2259.5,568.139 2262.02,574.419 2264.44,580.715 2266.76,587.026 \n",
       "  2268.98,593.353 2271.11,599.693 2273.14,606.047 2275.07,612.414 2276.9,618.793 2278.64,625.183 2280.28,631.585 2281.82,637.997 2283.26,644.419 2284.6,650.85 \n",
       "  2285.84,657.289 2286.99,663.736 2288.04,670.19 2288.98,676.651 2289.83,683.118 2290.58,689.59 2291.23,696.066 2291.78,702.546 2292.23,709.03 2292.58,715.516 \n",
       "  2292.84,722.004 2292.99,728.494 2293.04,734.984 2293,741.474 2292.85,747.964 2292.61,754.452 2292.26,760.938 2291.82,767.422 2291.27,773.902 2290.63,780.379 \n",
       "  2289.89,786.851 2289.05,793.318 2288.11,799.779 2287.07,806.234 2285.93,812.682 2284.69,819.122 2283.35,825.553 2281.92,831.976 2280.39,838.388 2278.76,844.791 \n",
       "  2277.03,851.182 2275.2,857.562 2273.27,863.93 2271.25,870.285 2269.13,876.626 2266.92,882.953 2264.6,889.266 2262.19,895.563 2259.68,901.843 2257.08,908.108 \n",
       "  2254.38,914.355 2251.59,920.584 2248.7,926.794 2245.71,932.986 2242.63,939.157 2239.46,945.309 2236.19,951.439 2232.83,957.547 2229.37,963.634 2225.82,969.697 \n",
       "  2222.18,975.737 2218.45,981.753 2214.62,987.745 2210.7,993.711 2206.69,999.651 2202.59,1005.56 2198.4,1011.45 2194.12,1017.31 2189.75,1023.14 2185.29,1028.94 \n",
       "  2180.74,1034.72 2176.11,1040.46 2171.38,1046.17 2166.57,1051.85 2161.67,1057.5 2156.69,1063.12 2151.61,1068.7 2146.46,1074.26 2141.22,1079.77 2135.89,1085.26 \n",
       "  2130.48,1090.7 2124.99,1096.12 2119.41,1101.49 2113.76,1106.83 2108.02,1112.13 2102.2,1117.4 2096.3,1122.62 2090.32,1127.81 2084.26,1132.96 2078.12,1138.07 \n",
       "  2071.9,1143.14 2065.61,1148.17 2059.24,1153.15 2052.79,1158.1 2046.27,1163 2039.67,1167.86 2033,1172.67 2026.26,1177.45 2019.44,1182.17 2012.55,1186.86 \n",
       "  2005.59,1191.5 1998.56,1196.09 1991.46,1200.64 1984.28,1205.14 1977.04,1209.59 1969.74,1213.99 1962.36,1218.35 1954.92,1222.66 1947.41,1226.92 1939.84,1231.13 \n",
       "  1932.2,1235.3 1924.5,1239.41 1916.74,1243.47 1908.92,1247.48 1901.03,1251.44 1893.09,1255.35 1885.08,1259.2 1877.02,1263.01 1868.9,1266.76 1860.72,1270.46 \n",
       "  1852.48,1274.1 1844.19,1277.69 1835.84,1281.23 1827.45,1284.71 1818.99,1288.13 1810.49,1291.5 1801.93,1294.82 1793.33,1298.08 1784.67,1301.28 1775.97,1304.43 \n",
       "  1767.22,1307.52 1758.42,1310.55 1749.57,1313.53 1740.68,1316.44 1731.75,1319.3 1722.77,1322.1 1713.75,1324.84 1704.69,1327.53 1695.58,1330.15 1686.44,1332.71 \n",
       "  1677.26,1335.22 1668.04,1337.66 1658.79,1340.05 1649.49,1342.37 1640.17,1344.63 1630.8,1346.84 1621.41,1348.98 1611.98,1351.06 1602.52,1353.07 1593.03,1355.03 \n",
       "  1583.51,1356.92 1573.97,1358.76 1564.39,1360.53 1554.79,1362.23 1545.16,1363.88 1535.51,1365.46 1525.84,1366.98 1516.14,1368.43 1506.42,1369.82 1496.68,1371.15 \n",
       "  1486.91,1372.42 1477.13,1373.62 1467.34,1374.76 1457.52,1375.83 1447.69,1376.84 1437.84,1377.78 1427.98,1378.66 1418.11,1379.48 1408.23,1380.23 1398.33,1380.92 \n",
       "  1388.42,1381.54 1378.51,1382.1 1368.59,1382.6 1358.66,1383.03 1348.72,1383.39 1338.78,1383.69 1328.83,1383.92 1318.88,1384.09 1308.93,1384.2 1298.98,1384.24 \n",
       "  1289.03,1384.21 1279.08,1384.12 1269.13,1383.97 1259.18,1383.75 1249.24,1383.46 1239.3,1383.11 1229.37,1382.7 1219.45,1382.22 1209.53,1381.68 1199.62,1381.07 \n",
       "  1189.72,1380.4 1179.84,1379.66 1169.96,1378.86 1160.1,1377.99 1150.25,1377.06 1140.41,1376.07 1130.59,1375.01 1120.79,1373.89 1111.01,1372.7 1101.24,1371.45 \n",
       "  1091.5,1370.14 1081.77,1368.76 1072.07,1367.32 1062.39,1365.81 1052.73,1364.25 1043.1,1362.62 1033.49,1360.92 1023.91,1359.17 1014.35,1357.35 1004.83,1355.47 \n",
       "  995.331,1353.53 985.865,1351.53 976.431,1349.46 967.028,1347.33 957.659,1345.15 948.323,1342.9 939.023,1340.59 929.758,1338.22 920.53,1335.79 911.34,1333.29 \n",
       "  902.189,1330.74 893.077,1328.13 884.006,1325.47 874.976,1322.74 865.988,1319.95 857.043,1317.1 848.143,1314.2 839.288,1311.24 830.478,1308.22 821.715,1305.14 \n",
       "  813,1302.01 804.333,1298.82 795.716,1295.57 787.148,1292.27 778.632,1288.91 770.168,1285.5 761.757,1282.03 753.399,1278.51 745.095,1274.93 736.847,1271.3 \n",
       "  728.655,1267.61 720.52,1263.87 712.443,1260.08 704.424,1256.24 696.464,1252.34 688.565,1248.39 680.726,1244.4 672.95,1240.35 665.235,1236.25 657.584,1232.09 \n",
       "  649.997,1227.89 642.475,1223.65 635.019,1219.35 627.628,1215 620.305,1210.61 613.049,1206.16 605.862,1201.67 598.744,1197.14 591.696,1192.56 584.719,1187.93 \n",
       "  577.813,1183.25 570.979,1178.54 564.217,1173.77 557.529,1168.97 550.915,1164.12 544.376,1159.23 537.912,1154.29 531.524,1149.31 525.213,1144.3 518.979,1139.24 \n",
       "  512.822,1134.14 506.745,1129 500.746,1123.82 494.827,1118.6 488.989,1113.35 483.231,1108.05 477.555,1102.72 471.961,1097.35 466.449,1091.95 461.02,1086.51 \n",
       "  455.676,1081.03 450.415,1075.53 445.239,1069.98 440.149,1064.41 435.144,1058.8 430.225,1053.15 425.393,1047.48 420.649,1041.77 415.992,1036.04 411.423,1030.27 \n",
       "  406.943,1024.48 402.553,1018.65 398.251,1012.8 394.04,1006.92 389.919,1001.01 385.888,995.077 381.949,989.117 378.102,983.132 374.346,977.121 370.683,971.087 \n",
       "  367.113,965.029 363.636,958.947 360.252,952.844 356.961,946.719 353.765,940.572 350.664,934.405 347.657,928.218 344.745,922.012 341.928,915.787 339.207,909.544 \n",
       "  336.582,903.284 334.053,897.007 331.62,890.713 329.284,884.405 327.045,878.081 324.903,871.743 322.858,865.391 320.91,859.026 319.061,852.649 317.309,846.26 \n",
       "  315.655,839.86 314.1,833.45 312.643,827.029 311.284,820.6 310.024,814.162 308.863,807.716 307.8,801.263 306.837,794.803 305.973,788.337 305.208,781.866 \n",
       "  304.542,775.391 303.976,768.911 303.509,762.428 303.141,755.942 302.873,749.454 302.704,742.965 302.635,736.475 302.666,729.985 302.796,723.495 303.025,717.006 \n",
       "  303.354,710.52 303.782,704.035 304.31,697.554 304.937,691.077 305.664,684.604 306.489,678.136 307.414,671.674 308.438,665.218 309.561,658.769 310.782,652.328 \n",
       "  312.102,645.895 313.521,639.471 315.038,633.057 316.654,626.653 318.368,620.26 320.179,613.878 322.089,607.508 324.096,601.151 326.2,594.808 328.401,588.478 \n",
       "  330.7,582.164 333.095,575.864 335.587,569.581 338.174,563.314 340.858,557.064 343.638,550.832 346.513,544.618 349.483,538.424 352.548,532.249 355.707,526.095 \n",
       "  358.961,519.961 362.308,513.849 365.749,507.759 369.283,501.692 372.911,495.648 376.63,489.628 380.442,483.633 384.345,477.663 388.34,471.718 392.426,465.8 \n",
       "  396.602,459.909 400.869,454.046 405.225,448.21 409.67,442.403 414.205,436.626 418.827,430.878 423.538,425.161 428.336,419.475 433.22,413.82 438.192,408.198 \n",
       "  443.249,402.608 448.392,397.052 453.619,391.529 458.931,386.041 464.327,380.587 469.807,375.169 475.369,369.787 481.013,364.442 486.739,359.134 492.547,353.863 \n",
       "  498.434,348.63 504.402,343.436 510.449,338.282 516.575,333.166 522.779,328.092 529.06,323.057 535.418,318.065 541.853,313.113 548.363,308.204 554.948,303.338 \n",
       "  561.607,298.515 568.34,293.736 575.146,289 582.024,284.31 588.974,279.664 595.994,275.064 603.085,270.51 610.246,266.002 617.475,261.542 624.772,257.129 \n",
       "  632.136,252.763 639.567,248.446 647.064,244.177 654.626,239.958 662.252,235.788 669.942,231.668 677.694,227.598 685.509,223.58 693.384,219.612 701.321,215.696 \n",
       "  709.316,211.832 717.371,208.02 725.484,204.261 733.654,200.555 741.88,196.902 750.162,193.303 758.499,189.759 766.89,186.269 775.334,182.834 783.83,179.454 \n",
       "  792.377,176.13 800.975,172.861 809.623,169.649 818.319,166.494 827.064,163.395 835.855,160.353 844.693,157.369 853.576,154.443 862.504,151.575 871.475,148.765 \n",
       "  880.488,146.014 889.544,143.322 898.64,140.688 907.776,138.115 916.951,135.601 926.164,133.147 935.415,130.753 944.701,128.42 954.023,126.147 963.38,123.936 \n",
       "  972.769,121.785 982.192,119.696 991.646,117.668 1001.13,115.702 1010.64,113.798 1020.19,111.956 1029.76,110.177 1039.36,108.46 1048.98,106.806 1058.63,105.214 \n",
       "  1068.3,103.686 1077.99,102.22 1087.71,100.818 1097.45,99.4795 1107.21,98.2045 1116.98,96.9931 1126.78,95.8456 1136.59,94.762 1146.42,93.7425 1156.26,92.7871 \n",
       "  1166.12,91.896 1175.99,91.0691 1185.88,90.3067 1195.77,89.6088 1205.67,88.9755 1215.59,88.4067 1225.51,87.9027 1235.44,87.4634 1245.37,87.0888 1255.31,86.7791 \n",
       "  1265.26,86.5342 1275.21,86.3542 1285.16,86.239 1295.11,86.1888 1305.06,86.2035 1315.01,86.283 1324.96,86.4275 1334.91,86.6368 1344.85,86.911 1354.79,87.25 \n",
       "  1364.72,87.6538 1374.65,88.1224 1384.57,88.6557 1394.48,89.2536 1404.38,89.9161 1414.27,90.6432 1424.15,91.4347 1434.01,92.2906 1443.86,93.2108 1453.7,94.1951 \n",
       "  1463.52,95.2436 1473.32,96.3561 1483.11,97.5325 1492.88,98.7726 1502.63,100.076 1512.36,101.444 1522.07,102.874 1531.75,104.368 1541.41,105.925 1551.05,107.545 \n",
       "  1560.66,109.228 1570.25,110.973 1579.8,112.781 1589.33,114.651 1598.83,116.583 1608.31,118.577 1617.75,120.632 1627.15,122.749 1636.53,124.927 1645.87,127.167 \n",
       "  1655.17,129.467 1664.45,131.827 1673.68,134.248 1682.88,136.729 1692.03,139.27 1701.15,141.871 1710.23,144.531 1719.27,147.249 1728.26,150.027 1737.21,152.863 \n",
       "  1746.12,155.758 1754.98,158.71 1763.8,161.72 1772.57,164.788 1781.29,167.912 1789.97,171.093 1798.59,174.331 1807.17,177.625 1815.69,180.974 1824.16,184.379 \n",
       "  1832.58,187.839 1840.95,191.353 1849.26,194.922 1857.52,198.546 1865.72,202.222 1873.86,205.952 1881.95,209.735 1889.98,213.571 1897.95,217.459 1905.86,221.398 \n",
       "  1913.71,225.389 1921.49,229.431 1929.22,233.523 1936.88,237.666 1944.47,241.858 1952.01,246.1 1959.47,250.39 1966.88,254.729 1974.21,259.116 1981.48,263.551 \n",
       "  1988.67,268.033 1995.8,272.562 2002.86,277.136 2009.85,281.757 2016.77,286.423 2023.61,291.134 2030.39,295.889 2037.09,300.688 2043.71,305.531 2050.26,310.417 \n",
       "  2056.74,315.345 2063.14,320.315 2069.46,325.327 2075.71,330.379 2081.88,335.472 2087.97,340.605 2093.98,345.778 2099.91,350.989 2105.76,356.239 2111.53,361.527 \n",
       "  2117.22,366.852 2122.83,372.214 2128.36,377.612 2133.8,383.046 2139.16,388.516 2144.43,394.02 2149.62,399.558 2154.72,405.129 2159.74,410.734 2164.67,416.371 \n",
       "  2169.52,422.04 2174.28,427.74 2178.95,433.471 2183.53,439.232 2188.03,445.023 2192.43,450.843 2196.75,456.691 2200.97,462.567 2205.11,468.471 2209.15,474.401 \n",
       "  2213.11,480.357 2216.97,486.338 2220.74,492.345 2224.42,498.375 2228,504.43 2231.49,510.507 2234.89,516.607 2238.2,522.729 2241.41,528.872 2244.53,535.036 \n",
       "  2247.55,541.22 2250.47,547.423 2253.31,553.645 2256.04,559.885 2258.68,566.143 2261.23,572.417 2263.68,578.708 2266.03,585.015 2268.28,591.336 2270.44,597.672 \n",
       "  2272.5,604.021 2274.46,610.384 2276.33,616.759 2278.1,623.147 2279.76,629.545 2281.34,635.954 2282.81,642.372 2284.18,648.8 2285.46,655.237 2286.64,661.682 \n",
       "  2287.71,668.134 2288.69,674.593 2289.57,681.057 2290.35,687.528 2291.03,694.003 2291.62,700.482 2292.1,706.964 2292.48,713.45 2292.77,719.937 2292.95,726.426 \n",
       "  2293.04,732.916 2293.02,739.407 2292.91,745.897 2292.69,752.385 2292.38,758.872 2291.97,765.357 2291.46,771.839 2290.85,778.317 2290.14,784.79 2289.33,791.259 \n",
       "  2288.42,797.722 2287.41,804.179 2286.3,810.629 2285.1,817.071 2283.79,823.505 2282.39,829.931 2280.89,836.347 2279.29,842.753 2277.59,849.148 2275.79,855.531 \n",
       "  2273.9,861.903 2271.91,868.262 2269.82,874.608 2267.63,880.939 2265.35,887.256 2262.97,893.558 2260.49,899.845 2257.92,906.114 2255.25,912.367 2252.49,918.602 \n",
       "  2249.63,924.818 2246.67,931.016 2243.62,937.194 2240.48,943.351 2237.24,949.488 2233.91,955.604 2230.48,961.697 2226.96,967.768 2223.35,973.816 2219.64,979.84 \n",
       "  2215.85,985.839 2211.96,991.813 2207.98,997.761 2203.91,1003.68 2199.75,1009.58 2195.49,1015.45 2191.15,1021.29 2186.72,1027.1 2182.2,1032.88 2177.59,1038.63 \n",
       "  2172.89,1044.36 2168.11,1050.05 2163.24,1055.71 2158.28,1061.33 2153.24,1066.93 2148.11,1072.49 2142.9,1078.02 2137.6,1083.51 2132.21,1088.97 2126.75,1094.4 \n",
       "  2121.2,1099.78 2115.57,1105.13 2109.85,1110.45 2104.06,1115.73 2098.19,1120.96 2092.23,1126.16 2086.2,1131.32 2080.08,1136.45 2073.89,1141.53 2067.62,1146.57 \n",
       "  2061.28,1151.57 2054.85,1156.53 2048.36,1161.44 2041.78,1166.31 2035.13,1171.14 2028.41,1175.93 2021.62,1180.67 2014.75,1185.37 2007.81,1190.02 2000.8,1194.63 \n",
       "  1993.73,1199.19 1986.58,1203.71 1979.36,1208.18 1972.07,1212.6 1964.72,1216.97 1957.3,1221.29 1949.81,1225.57 1942.26,1229.8 1934.64,1233.98 1926.96,1238.1 \n",
       "  1919.22,1242.18 1911.42,1246.21 1903.55,1250.18 1895.62,1254.11 1887.64,1257.98 1879.59,1261.8 1871.49,1265.57 1863.33,1269.28 1855.11,1272.94 1846.84,1276.55 \n",
       "  1838.51,1280.11 1830.13,1283.6 1821.69,1287.05 1813.2,1290.44 1804.66,1293.77 1796.07,1297.05 1787.43,1300.27 1778.75,1303.43 1770.01,1306.54 1761.22,1309.59 \n",
       "  1752.39,1312.58 1743.52,1315.52 1734.6,1318.4 1725.63,1321.22 1716.63,1323.98 1707.58,1326.68 1698.49,1329.32 1689.36,1331.9 1680.19,1334.43 1670.98,1336.89 \n",
       "  1661.74,1339.29 1652.46,1341.64 1643.14,1343.92 1633.79,1346.14 1624.4,1348.3 1614.99,1350.4 1605.54,1352.44 1596.06,1354.41 1586.55,1356.33 1577.01,1358.18 \n",
       "  1567.44,1359.97 1557.85,1361.7 1548.23,1363.36 1538.59,1364.96 1528.92,1366.5 1519.23,1367.98 1509.51,1369.39 1499.78,1370.74 1490.03,1372.02 1480.25,1373.24 \n",
       "  1470.46,1374.4 1460.65,1375.49 1450.82,1376.52 1440.98,1377.49 1431.13,1378.39 1421.26,1379.23 1411.38,1380 1401.48,1380.71 1391.58,1381.35 1381.67,1381.93 \n",
       "  1371.75,1382.45 1361.82,1382.9 1351.88,1383.28 1341.95,1383.6 1332,1383.86 1322.05,1384.05 1312.1,1384.17 1302.15,1384.23 1292.2,1384.23 1282.25,1384.16 \n",
       "  1272.3,1384.02 1262.35,1383.83 1252.41,1383.56 1242.47,1383.23 1232.53,1382.84 1222.61,1382.38 1212.69,1381.86 1202.78,1381.27 1192.87,1380.62 1182.98,1379.9 \n",
       "  1173.1,1379.12 1163.24,1378.27 1153.38,1377.36 1143.54,1376.39 1133.72,1375.35 1123.91,1374.25 1114.12,1373.08 1104.35,1371.85 1094.6,1370.56 1084.87,1369.2 \n",
       "  1075.16,1367.78 1065.47,1366.3 1055.8,1364.75 1046.16,1363.14 1036.55,1361.47 1026.96,1359.73 1017.39,1357.94 1007.86,1356.08 998.353,1354.15 988.877,1352.17 \n",
       "  979.433,1350.12 970.02,1348.02 960.64,1345.85 951.293,1343.62 941.982,1341.33 932.705,1338.98 923.466,1336.57 914.264,1334.09 905.1,1331.56 895.975,1328.97 \n",
       "  886.891,1326.32 877.848,1323.61 868.846,1320.84 859.888,1318.02 850.973,1315.13 842.104,1312.19 833.279,1309.19 824.501,1306.13 815.771,1303.01 807.088,1299.84 \n",
       "  798.455,1296.61 789.872,1293.33 781.339,1289.99 772.859,1286.59 764.43,1283.14 756.055,1279.63 747.734,1276.07 739.469,1272.46 731.259,1268.79 723.105,1265.07 \n",
       "  715.009,1261.3 706.972,1257.47 698.993,1253.59 691.075,1249.66 683.217,1245.67 675.42,1241.64 667.686,1237.56 660.015,1233.42 652.407,1229.24 644.864,1225 \n",
       "  637.387,1220.72 629.975,1216.39 622.63,1212.01 615.353,1207.58 608.144,1203.11 601.004,1198.59 593.934,1194.02 586.934,1189.41 580.005,1184.75 573.148,1180.04 \n",
       "  566.363,1175.3 559.652,1170.5 553.014,1165.67 546.451,1160.79 539.963,1155.87 533.551,1150.9 527.215,1145.9 520.956,1140.85 514.775,1135.77 508.672,1130.64 \n",
       "  502.648,1125.47 496.704,1120.27 490.84,1115.02 485.056,1109.74 479.354,1104.42 473.734,1099.07 468.196,1093.67 462.741,1088.25 457.369,1082.78 452.082,1077.28 \n",
       "  446.879,1071.75 441.761,1066.19 436.729,1060.59 431.783,1054.95 426.923,1049.29 422.151,1043.59 417.466,1037.87 412.869,1032.11 408.361,1026.33 403.942,1020.51 \n",
       "  399.612,1014.67 395.372,1008.8 391.222,1002.9 387.163,996.97 383.194,991.018 379.318,985.041 375.533,979.038 371.84,973.011 368.24,966.961 364.733,960.887 \n",
       "  361.32,954.79 357.999,948.672 354.773,942.532 351.642,936.372 348.604,930.191 345.662,923.991 342.815,917.772 340.064,911.535 337.408,905.28 334.848,899.008 \n",
       "  332.385,892.72 330.018,886.416 327.748,880.097 325.575,873.763 323.499,867.416 321.52,861.055 319.639,854.682 317.857,848.296 316.172,841.9 314.585,835.493 \n",
       "  313.096,829.075 311.706,822.649 310.415,816.213 309.222,809.77 308.128,803.319 307.134,796.861 306.238,790.397 305.441,783.928 304.744,777.454 304.146,770.975 \n",
       "  303.647,764.493 303.248,758.008 302.948,751.521 302.748,745.032 302.647,738.542 302.646,732.052 302.744,725.562 302.941,719.073 303.239,712.586 303.635,706.101 \n",
       "  304.131,699.618 304.727,693.14 305.422,686.665 306.216,680.196 307.109,673.732 308.101,667.274 309.192,660.823 310.383,654.379 311.671,647.944 313.059,641.517 \n",
       "  314.545,635.099 316.129,628.692 317.811,622.295 319.592,615.909 321.47,609.536 323.446,603.175 325.519,596.827 327.69,590.493 329.957,584.173 332.322,577.869 \n",
       "  334.783,571.58 337.34,565.308 339.993,559.053 342.742,552.815 345.587,546.596 348.527,540.395 351.561,534.214 354.691,528.053 357.914,521.913 361.232,515.794 \n",
       "  364.643,509.696 368.148,503.622 371.745,497.571 375.436,491.543 379.218,485.54 383.092,479.562 387.058,473.609 391.115,467.683 395.263,461.783 399.5,455.91 \n",
       "  403.828,450.066 408.245,444.25 412.751,438.463 417.345,432.706 422.028,426.979 426.798,421.283 431.655,415.618 436.599,409.985 441.629,404.385 446.745,398.818 \n",
       "  451.945,393.284 457.231,387.785 462.6,382.32 468.053,376.891 473.589,371.498 479.207,366.141 484.907,360.82 490.688,355.538 496.55,350.293 502.493,345.087 \n",
       "  508.514,339.919 514.615,334.792 520.794,329.704 527.051,324.657 533.385,319.651 539.795,314.686 546.281,309.764 552.842,304.884 559.478,300.047 566.188,295.253 \n",
       "  572.97,290.504 579.826,285.799 586.753,281.139 593.751,276.524 600.819,271.956 607.957,267.433 615.165,262.958 622.44,258.529 629.783,254.148 637.193,249.816 \n",
       "  644.669,245.532 652.21,241.297 659.816,237.111 667.485,232.975 675.218,228.889 683.013,224.854 690.869,220.87 698.786,216.938 706.763,213.057 714.799,209.228 \n",
       "  722.894,205.452 731.046,201.729 739.254,198.06 747.518,194.444 755.838,190.882 764.211,187.375 772.638,183.922 781.118,180.525 789.649,177.183 798.231,173.896 \n",
       "  806.863,170.666 815.544,167.493 824.273,164.376 833.05,161.316 841.873,158.314 850.742,155.369 859.655,152.482 868.613,149.654 877.613,146.884 886.655,144.173 \n",
       "  895.738,141.521 904.862,138.928 914.025,136.395 923.226,133.922 932.464,131.509 941.74,129.157 951.05,126.865 960.396,124.634 969.775,122.464 979.187,120.355 \n",
       "  988.631,118.308 998.106,116.322 1007.61,114.398 1017.14,112.536 1026.71,110.737 1036.3,109 1045.91,107.326 1055.55,105.714 1065.22,104.166 1074.9,102.68 \n",
       "  1084.61,101.258 1094.34,99.8992 1104.1,98.6039 1113.87,97.3722 1123.66,96.2044 1133.46,95.1004 1143.29,94.0605 1153.13,93.0846 1162.98,92.173 1172.85,91.3257 \n",
       "  1182.73,90.5428 1192.62,89.8243 1202.52,89.1704 1212.43,88.581 1222.35,88.0564 1232.28,87.5964 1242.21,87.2013 1252.15,86.8709 1262.09,86.6053 1272.04,86.4046 \n",
       "  1281.99,86.2688 1291.94,86.1979 1301.89,86.1919 1311.84,86.2508 1321.79,86.3746 1331.74,86.5632 1341.69,86.8168 1351.63,87.1351 1361.56,87.5183 1371.49,87.9663 \n",
       "  1381.41,88.4789 1391.32,89.0563 1401.23,89.6982 1411.12,90.4048 1421,91.1757 1430.87,92.0111 1440.73,92.9109 1450.57,93.8748 1460.39,94.9029 1470.2,95.995 \n",
       "  1480,97.151 1489.77,98.3708 1499.53,99.6544 1509.26,101.001 1518.98,102.412 1528.67,103.886 1538.34,105.423 1547.98,107.022 1557.6,108.685 1567.2,110.411 \n",
       "  1576.76,112.198 1586.3,114.048 1595.81,115.961 1605.29,117.935 1614.74,119.971 1624.16,122.068 1633.55,124.227 1642.9,126.447 1652.21,128.728 1661.5,131.069 \n",
       "  1670.74,133.471 1679.95,135.933 1689.12,138.454 1698.25,141.036 1707.34,143.677 1716.39,146.377 1725.4,149.136 1734.36,151.954 1743.29,154.83 1752.16,157.764 \n",
       "  1760.99,160.755 1769.78,163.805 1778.52,166.911 1787.21,170.074 1795.85,173.294 1804.44,176.569 1812.98,179.901 1821.47,183.288 1829.91,186.731 1838.29,190.228 \n",
       "  1846.62,193.78 1854.9,197.386 1863.11,201.045 1871.28,204.759 1879.38,208.525 1887.43,212.344 1895.42,216.215 1903.34,220.138 1911.21,224.112 1919.02,228.138 \n",
       "  1926.76,232.214 1934.44,236.341 1942.06,240.517 1949.62,244.743 1957.1,249.018 1964.53,253.342 1971.88,257.714 1979.17,262.133 1986.39,266.6 1993.54,271.114 \n",
       "  2000.62,275.674 2007.63,280.28 2014.57,284.932 2021.44,289.629 2028.24,294.37 2034.96,299.155 2041.61,303.984 2048.19,308.856 2054.69,313.771 2061.11,318.727 \n",
       "  2067.46,323.726 2073.73,328.766 2079.92,333.846 2086.04,338.966 2092.07,344.126 2098.03,349.325 2103.91,354.563 2109.7,359.839 2115.42,365.152 2121.05,370.502 \n",
       "  2126.6,375.889 2132.07,381.312 2137.46,386.77 2142.76,392.263 2147.97,397.79 2153.11,403.351 2158.15,408.945 2163.11,414.572 2167.98,420.231 2172.77,425.921 \n",
       "  2177.47,431.642 2182.08,437.394 2186.6,443.175 2191.04,448.986 2195.38,454.825 2199.64,460.693 2203.8,466.587 2207.87,472.509 2211.86,478.457 2215.75,484.43 \n",
       "  2219.55,490.429 2223.25,496.452 2226.87,502.499 2230.39,508.569 2233.82,514.662 2237.15,520.777 2240.4,526.913 2243.54,533.071 2246.59,539.248 2249.55,545.445 \n",
       "  2252.41,551.661 2255.18,557.896 2257.85,564.148 2260.43,570.417 2262.91,576.703 2265.29,583.004 2267.57,589.321 2269.76,595.652 2271.85,601.998 2273.85,608.356 \n",
       "  2275.74,614.727 2277.54,621.111 2279.24,627.506 2280.85,633.911 2282.35,640.327 2283.76,646.752 2285.06,653.186 2286.27,659.628 2287.38,666.078 2288.39,672.535 \n",
       "  2289.3,678.998 2290.11,685.466 2290.83,691.94 2291.44,698.418 2291.96,704.899 2292.37,711.384 2292.69,717.871 2292.9,724.359 2293.02,730.849 2293.04,737.339 \n",
       "  2292.95,743.829 2292.77,750.319 2292.49,756.806 2292.11,763.292 2291.63,769.774 2291.05,776.254 2290.37,782.729 2289.59,789.199 2288.72,795.664 2287.74,802.123 \n",
       "  2286.66,808.575 2285.49,815.02 2284.22,821.457 2282.85,827.885 2281.37,834.304 2279.81,840.713 2278.14,847.112 2276.37,853.499 2274.51,859.875 2272.55,866.238 \n",
       "  2270.49,872.588 2268.34,878.924 2266.09,885.246 2263.74,891.553 2261.29,897.844 2258.75,904.119 2256.11,910.377 2253.38,916.618 2250.55,922.84 2247.62,929.044 \n",
       "  2244.6,935.228 2241.49,941.392 2238.28,947.536 2234.98,953.658 2231.58,959.759 2228.09,965.837 2224.51,971.892 2220.83,977.923 2217.07,983.93 2213.21,989.913 \n",
       "  2209.26,995.869 2205.21,1001.8 2201.08,1007.7 2196.86,1013.58 2192.54,1019.43 2188.14,1025.25 2183.65,1031.04 2179.07,1036.8 2174.4,1042.54 2169.64,1048.24 \n",
       "  2164.8,1053.91 2159.87,1059.54 2154.85,1065.15 2149.75,1070.72 2144.57,1076.26 2139.29,1081.77 2133.94,1087.24 2128.5,1092.67 2122.98,1098.07 2117.37,1103.43 \n",
       "  2111.68,1108.76 2105.91,1114.05 2100.06,1119.3 2094.14,1124.51 2088.13,1129.69 2082.04,1134.82 2075.87,1139.91 2069.63,1144.97 2063.31,1149.98 2056.91,1154.95 \n",
       "  2050.43,1159.88 2043.88,1164.77 2037.26,1169.61 2030.56,1174.41 2023.79,1179.17 2016.95,1183.88 2010.03,1188.55 2003.05,1193.17 1995.99,1197.74 1988.86,1202.27 \n",
       "  1981.66,1206.76 1974.4,1211.19 1967.07,1215.58 1959.67,1219.92 1952.2,1224.21 1944.67,1228.46 1937.08,1232.65 1929.42,1236.79 1921.69,1240.89 1913.91,1244.93 \n",
       "  1906.06,1248.92 1898.16,1252.86 1890.19,1256.75 1882.16,1260.59 1874.08,1264.37 1865.93,1268.11 1857.73,1271.78 1849.48,1275.41 1841.17,1278.98 1832.8,1282.5 \n",
       "  1824.38,1285.96 1815.91,1289.36 1807.39,1292.71 1798.82,1296.01 1790.19,1299.25 1781.52,1302.43 1772.8,1305.56 1764.03,1308.63 1755.21,1311.64 1746.35,1314.59 \n",
       "  1737.44,1317.49 1728.49,1320.32 1719.5,1323.1 1710.46,1325.82 1701.39,1328.49 1692.27,1331.09 1683.11,1333.63 1673.92,1336.11 1664.69,1338.54 1655.42,1340.9 \n",
       "  1646.11,1343.2 1636.77,1345.44 1627.4,1347.62 1617.99,1349.74 1608.55,1351.8 1599.08,1353.79 1589.58,1355.72 1580.05,1357.6 1570.49,1359.41 1560.91,1361.15 \n",
       "  1551.3,1362.84 1541.66,1364.46 1532,1366.02 1522.32,1367.51 1512.61,1368.94 1502.88,1370.31 1493.13,1371.62 1483.37,1372.86 1473.58,1374.04 1463.78,1375.15 \n",
       "  1453.95,1376.2 1444.12,1377.19 1434.27,1378.11 1424.4,1378.97 1414.52,1379.76 1404.64,1380.49 1394.74,1381.15 1384.83,1381.75 1374.91,1382.29 1364.98,1382.76 \n",
       "  1355.05,1383.16 1345.11,1383.51 1335.17,1383.78 1325.22,1383.99 1315.27,1384.14 1305.32,1384.22 1295.37,1384.24 1285.42,1384.19 1275.47,1384.07 1265.52,1383.9 \n",
       "  1255.57,1383.65 1245.63,1383.34 1235.7,1382.97 1225.77,1382.53 1215.85,1382.03 1205.93,1381.46 1196.03,1380.83 1186.13,1380.14 1176.25,1379.38 1166.38,1378.55 \n",
       "  1156.52,1377.66 1146.68,1376.71 1136.85,1375.69 1127.03,1374.61 1117.24,1373.46 1107.46,1372.25 1097.7,1370.98 1087.96,1369.64 1078.25,1368.24 1068.55,1366.78 \n",
       "  1058.88,1365.25 1049.23,1363.66 1039.61,1362.01 1030.01,1360.29 1020.44,1358.52 1010.89,1356.68 1001.38,1354.77 991.892,1352.81 982.438,1350.78 973.015,1348.69 \n",
       "  963.624,1346.55 954.267,1344.34 944.944,1342.06 935.656,1339.73 926.405,1337.34 917.191,1334.89 908.015,1332.38 898.877,1329.8 889.78,1327.17 880.724,1324.48 \n",
       "  871.709,1321.73 862.737,1318.92 853.808,1316.06 844.924,1313.13 836.085,1310.15 827.292,1307.11 818.547,1304.01 809.849,1300.86 801.2,1297.65 792.601,1294.38 \n",
       "  784.052,1291.06 775.554,1287.68 767.109,1284.25 758.717,1280.76 750.379,1277.21 742.096,1273.62 733.868,1269.97 725.696,1266.26 717.582,1262.5 709.526,1258.69 \n",
       "  701.528,1254.83 693.591,1250.92 685.713,1246.95 677.897,1242.93 670.143,1238.86 662.452,1234.74 654.824,1230.58 647.26,1226.36 639.762,1222.09 632.329,1217.77 \n",
       "  624.963,1213.41 617.664,1209 610.433,1204.54 603.271,1200.03 596.179,1195.48 589.156,1190.88 582.204,1186.24 575.324,1181.55 568.517,1176.81 561.782,1172.03 \n",
       "  555.121,1167.21 548.534,1162.35 542.022,1157.44 535.585,1152.49 529.225,1147.5 522.942,1142.46 516.736,1137.39 510.608,1132.28 504.559,1127.12 498.589,1121.93 \n",
       "  492.699,1116.7 486.89,1111.43 481.162,1106.12 475.515,1100.78 469.951,1095.4 464.47,1089.98 459.071,1084.53 453.757,1079.04 448.527,1073.52 443.382,1067.96 \n",
       "  438.323,1062.37 433.349,1056.75 428.462,1051.1 423.662,1045.41 418.949,1039.7 414.324,1033.95 409.788,1028.17 405.34,1022.37 400.982,1016.53 396.713,1010.67 \n",
       "  392.534,1004.78 388.446,998.861 384.449,992.917 380.543,986.948 376.729,980.953 373.007,974.934 369.377,968.891 365.841,962.824 362.397,956.735 359.047,950.623 \n",
       "  355.791,944.49 352.629,938.336 349.562,932.162 346.589,925.968 343.712,919.755 340.93,913.523 338.244,907.274 335.653,901.008 333.159,894.724 330.761,888.425 \n",
       "  328.46,882.111 326.256,875.782 324.15,869.439 322.14,863.082 320.228,856.713 318.414,850.331 316.698,843.938 315.08,837.535 313.56,831.12 312.139,824.697 \n",
       "  310.816,818.264 309.592,811.823 308.466,805.375 307.44,798.919 306.513,792.457 305.684,785.989 304.955,779.516 304.326,773.039 303.795,766.558 303.364,760.074 \n",
       "  303.033,753.587 302.801,747.099 302.668,740.609 302.635,734.119 302.702,727.629 302.868,721.14 303.134,714.652 303.499,708.166 303.963,701.683 304.527,695.203 \n",
       "  305.19,688.727 305.952,682.256 306.814,675.79 307.775,669.33 308.834,662.877 309.993,656.431 311.25,649.993 312.606,643.563 314.061,637.142 315.614,630.732 \n",
       "  317.265,624.331 319.014,617.942 320.861,611.565 322.806,605.2 324.849,598.848 326.988,592.509 329.225,586.185 331.558,579.876 333.989,573.582 336.515,567.304 \n",
       "  339.138,561.043 341.856,554.8 344.671,548.575 347.58,542.368 350.585,536.181 353.684,530.013 356.877,523.866 360.165,517.74 363.547,511.636 367.022,505.554 \n",
       "  370.59,499.496 374.25,493.461 378.004,487.45 381.849,481.463 385.785,475.502 389.813,469.567 393.932,463.659 398.141,457.778 402.44,451.925 406.829,446.099 \n",
       "  411.306,440.303 415.873,434.537 420.527,428.8 425.269,423.094 430.099,417.419 435.015,411.776 440.018,406.165 445.106,400.588 450.28,395.043 455.538,389.533 \n",
       "  460.881,384.057 466.307,378.617 471.816,373.212 477.409,367.843 483.083,362.511 488.838,357.216 494.675,351.959 500.591,346.741 506.588,341.561 512.664,336.421 \n",
       "  518.818,331.32 525.05,326.26 531.359,321.241 537.745,316.263 544.207,311.327 550.744,306.433 557.357,301.583 564.043,296.775 570.802,292.012 577.634,287.293 \n",
       "  584.539,282.618 591.514,277.989 598.56,273.406 605.676,268.869 612.862,264.378 620.115,259.935 627.437,255.539 634.826,251.191 642.281,246.891 649.801,242.64 \n",
       "  657.386,238.439 665.036,234.287 672.748,230.185 680.523,226.134 688.36,222.134 696.258,218.185 704.216,214.288 712.233,210.442 720.309,206.65 728.443,202.91 \n",
       "  736.633,199.223 744.88,195.59 753.182,192.011 761.539,188.486 769.949,185.016 778.411,181.601 786.926,178.241 795.492,174.937 804.108,171.689 812.774,168.498 \n",
       "  821.488,165.363 830.249,162.285 839.058,159.264 847.912,156.301 856.811,153.396 865.755,150.549 874.741,147.76 883.77,145.03 892.841,142.359 901.951,139.748 \n",
       "  911.102,137.196 920.291,134.704 929.518,132.272 938.781,129.9 948.081,127.588 957.415,125.338 966.784,123.148 976.186,121.02 985.619,118.953 995.085,116.948 \n",
       "  1004.58,115.004 1014.1,113.123 1023.66,111.304 1033.24,109.547 1042.84,107.853 1052.48,106.221 1062.13,104.652 1071.81,103.147 1081.52,101.704 1091.24,100.325 \n",
       "  1100.99,99.0097 1110.75,97.7578 1120.54,96.5696 1130.34,95.4453 1140.16,94.3849 1149.99,93.3887 1159.84,92.4566 1169.7,91.5888 1179.58,90.7853 1189.47,90.0463 \n",
       "  1199.36,89.3718 1209.27,88.7619 1219.19,88.2167 1229.11,87.7361 1239.04,87.3203 1248.98,86.9692 1258.92,86.683 1268.87,86.4617 1278.82,86.3052 1288.77,86.2136 \n",
       "  1298.72,86.1869 1308.67,86.2252 1318.62,86.3283 1328.57,86.4963 1338.52,86.7292 1348.46,87.0269 1358.4,87.3894 1368.33,87.8167 1378.25,88.3088 1388.17,88.8655 \n",
       "  1398.07,89.4869 1407.97,90.1729 1417.85,90.9233 1427.73,91.7382 1437.59,92.6175 1447.43,93.561 1457.26,94.5686 1467.08,95.6403 1476.88,96.776 1486.66,97.9755 \n",
       "  1496.42,99.2388 1506.16,100.566 1515.88,101.956 1525.58,103.41 1535.26,104.926 1544.91,106.506 1554.54,108.149 1564.14,109.854 1573.72,111.622 1583.27,113.453 \n",
       "  1592.79,115.345 1602.28,117.3 1611.74,119.316 1621.16,121.394 1630.56,123.533 1639.92,125.733 1649.25,127.995 1658.54,130.317 1667.8,132.699 1677.02,135.142 \n",
       "  1686.2,137.645 1695.35,140.207 1704.45,142.83 1713.51,145.511 1722.53,148.251 1731.51,151.05 1740.45,153.907 1749.34,156.823 1758.19,159.796 1766.99,162.827 \n",
       "  1775.74,165.915 1784.45,169.06 1793.1,172.262 1801.71,175.52 1810.27,178.834 1818.77,182.204 1827.23,185.628 1835.63,189.108 1843.97,192.643 1852.27,196.231 \n",
       "  1860.5,199.874 1868.68,203.57 1876.81,207.32 1884.87,211.122 1892.88,214.976 1900.83,218.883 1908.71,222.841 1916.54,226.85 1924.3,230.91 1932,235.021 \n",
       "  1939.64,239.182 1947.22,243.392 1954.72,247.651 1962.17,251.96 1969.54,256.316 1976.85,260.721 1984.1,265.173 1991.27,269.671 1998.37,274.217 2005.41,278.808 \n",
       "  2012.37,283.446 2019.26,288.128 2026.08,292.855 2032.83,297.626 2039.5,302.441 2046.1,307.3 2052.62,312.201 2059.07,317.144 2065.44,322.129 2071.74,327.156 \n",
       "  2077.96,332.223 2084.1,337.331 2090.16,342.478 2096.14,347.665 2102.04,352.89 2107.87,358.154 2113.61,363.456 2119.27,368.794 2124.84,374.169 2130.34,379.581 \n",
       "  2135.75,385.028 2141.08,390.509 2146.32,396.026 2151.48,401.576 2156.55,407.16 2161.54,412.776 2166.44,418.425 2171.26,424.105 2175.98,429.817 2180.62,435.559 \n",
       "  2185.17,441.331 2189.63,447.132 2194.01,452.962 2198.29,458.821 2202.48,464.707 2206.59,470.62 2210.6,476.559 2214.52,482.525 2218.35,488.516 2222.08,494.531 \n",
       "  2225.73,500.57 2229.28,506.633 2232.74,512.719 2236.1,518.827 2239.37,524.957 2242.55,531.107 2245.63,537.278 2248.62,543.469 2251.51,549.679 2254.31,555.908 \n",
       "  2257.01,562.154 2259.62,568.418 2262.13,574.699 2264.54,580.995 2266.86,587.307 2269.08,593.634 2271.2,599.975 2273.22,606.329 2275.15,612.697 2276.98,619.076 \n",
       "  2278.71,625.467 2280.35,631.87 2281.88,638.282 2283.32,644.704 2284.66,651.136 2285.9,657.575 2287.04,664.023 2288.08,670.477 2289.02,676.938 2289.87,683.405 \n",
       "  2290.61,689.877 2291.26,696.354 2291.8,702.834 2292.25,709.318 2292.6,715.804 2292.85,722.292 2292.99,728.782 2293.04,735.272 2292.99,741.762 2292.84,748.252 \n",
       "  2292.59,754.74 2292.24,761.226 2291.79,767.71 2291.25,774.19 2290.6,780.667 2289.85,787.139 2289.01,793.605 2288.06,800.066 2287.02,806.521 2285.87,812.968 \n",
       "  2284.63,819.407 2283.29,825.839 2281.85,832.261 2280.32,838.673 2278.68,845.075 2276.95,851.466 2275.12,857.845 2273.19,864.212 2271.16,870.567 2269.04,876.907 \n",
       "  2266.81,883.234 2264.5,889.545 2262.08,895.842 2259.57,902.122 2256.96,908.385 2254.26,914.632 2251.46,920.86 2248.57,927.07 2245.58,933.26 2242.49,939.431 \n",
       "  2239.31,945.581 2236.04,951.71 2232.67,957.818 2229.21,963.903 2225.66,969.966 2222.02,976.005 2218.28,982.02 2214.45,988.01 2210.52,993.975 2206.51,999.914 \n",
       "  2202.41,1005.83 2198.21,1011.71 2193.93,1017.57 2189.55,1023.4 2185.09,1029.2 2180.54,1034.97 2175.9,1040.71 2171.17,1046.42 2166.35,1052.1 2161.45,1057.75 \n",
       "  2156.46,1063.37 2151.39,1068.95 2146.23,1074.5 2140.98,1080.02 2135.65,1085.5 2130.24,1090.94 2124.74,1096.35 2119.16,1101.73 2113.5,1107.07 2107.76,1112.37 \n",
       "  2101.94,1117.63 2096.03,1122.86 2090.05,1128.04 2083.99,1133.19 2077.84,1138.29 2071.62,1143.36 2065.33,1148.39 2058.95,1153.37 2052.5,1158.31 2045.98,1163.21 \n",
       "  2039.38,1168.07 2032.7,1172.89 2025.96,1177.66 2019.14,1182.38 2012.24,1187.06 2005.28,1191.7 1998.24,1196.29 1991.14,1200.84 1983.96,1205.33 1976.72,1209.79 \n",
       "  1969.41,1214.19 1962.03,1218.54 1954.59,1222.85 1947.08,1227.11 1939.5,1231.32 1931.86,1235.48 1924.16,1239.59 1916.4,1243.65 1908.57,1247.66 1900.68,1251.61 \n",
       "  1892.73,1255.52 1884.72,1259.37 1876.66,1263.17 1868.53,1266.92 1860.35,1270.62 1852.11,1274.26 1843.82,1277.85 1835.47,1281.38 1827.07,1284.86 1818.62,1288.28 \n",
       "  1810.11,1291.65 1801.55,1294.97 1792.94,1298.22 1784.29,1301.42 1775.58,1304.57 1766.83,1307.65 1758.02,1310.68 1749.18,1313.66 1740.29,1316.57 1731.35,1319.43 \n",
       "  1722.37,1322.22 1713.35,1324.96 1704.28,1327.64 1695.18,1330.26 1686.03,1332.83 1676.85,1335.33 1667.63,1337.77 1658.37,1340.15 1649.08,1342.47 1639.75,1344.73 \n",
       "  1630.39,1346.93 1620.99,1349.07 1611.56,1351.15 1602.1,1353.16 1592.61,1355.12 1583.09,1357.01 1573.54,1358.84 1563.97,1360.6 1554.36,1362.31 1544.73,1363.95 \n",
       "  1535.08,1365.53 1525.4,1367.04 1515.71,1368.49 1505.98,1369.88 1496.24,1371.21 1486.48,1372.47 1476.7,1373.67 1466.9,1374.8 1457.08,1375.88 1447.25,1376.88 \n",
       "  1437.41,1377.82 1427.55,1378.7 1417.67,1379.52 1407.79,1380.27 1397.89,1380.95 1387.98,1381.57 1378.07,1382.13 1368.15,1382.62 1358.21,1383.04 1348.28,1383.4 \n",
       "  1338.34,1383.7 1328.39,1383.93 1318.44,1384.1 1308.49,1384.2 1298.54,1384.24 1288.59,1384.21 1278.64,1384.12 1268.69,1383.96 1258.74,1383.74 1248.8,1383.45 \n",
       "  1238.86,1383.1 1228.93,1382.68 1219.01,1382.2 1209.09,1381.65 1199.18,1381.04 1189.28,1380.37 1179.4,1379.63 1169.52,1378.82 1159.66,1377.95 1149.81,1377.02 \n",
       "  1139.98,1376.02 1130.16,1374.96 1120.36,1373.83 1110.57,1372.64 1100.81,1371.39 1091.06,1370.07 1081.34,1368.69 1071.64,1367.25 1061.96,1365.74 1052.3,1364.17 \n",
       "  1042.67,1362.54 1033.06,1360.85 1023.48,1359.09 1013.93,1357.27 1004.41,1355.39 994.91,1353.44 985.446,1351.43 976.013,1349.37 966.612,1347.24 957.244,1345.05 \n",
       "  947.91,1342.79 938.611,1340.48 929.348,1338.11 920.122,1335.68 910.933,1333.18 901.784,1330.63 892.674,1328.02 883.604,1325.34 874.576,1322.61 865.59,1319.82 \n",
       "  856.648,1316.98 847.749,1314.07 838.896,1311.11 830.088,1308.08 821.327,1305.01 812.614,1301.87 803.95,1298.68 795.334,1295.43 786.77,1292.12 778.256,1288.76 \n",
       "  769.794,1285.35 761.385,1281.87 753.029,1278.35 744.728,1274.77 736.483,1271.13 728.293,1267.45 720.16,1263.71 712.086,1259.91 704.069,1256.07 696.113,1252.17 \n",
       "  688.216,1248.22 680.38,1244.22 672.606,1240.16 664.895,1236.06 657.247,1231.91 649.663,1227.71 642.143,1223.45 634.69,1219.15 627.302,1214.81 619.982,1210.41 \n",
       "  612.729,1205.96 605.545,1201.47 598.43,1196.93 591.385,1192.35 584.411,1187.72 577.508,1183.05 570.677,1178.33 563.919,1173.56 557.235,1168.75 550.624,1163.9 \n",
       "  544.088,1159.01 537.627,1154.07 531.243,1149.09 524.935,1144.07 518.704,1139.01 512.551,1133.91 506.477,1128.77 500.482,1123.59 494.567,1118.37 488.732,1113.11 \n",
       "  482.978,1107.82 477.305,1102.48 471.715,1097.11 466.207,1091.71 460.782,1086.27 455.441,1080.79 450.184,1075.28 445.012,1069.73 439.925,1064.16 434.924,1058.55 \n",
       "  430.01,1052.9 425.182,1047.23 420.441,1041.52 415.788,1035.78 411.223,1030.02 406.747,1024.22 402.36,1018.39 398.063,1012.54 393.856,1006.66 389.739,1000.75 \n",
       "  385.712,994.813 381.777,988.852 377.934,982.865 374.183,976.854 370.524,970.818 366.957,964.759 363.484,958.677 360.104,952.572 356.818,946.446 353.626,940.299 \n",
       "  350.529,934.131 347.526,927.943 344.618,921.736 341.806,915.51 339.089,909.267 336.468,903.005 333.943,896.728 331.515,890.433 329.183,884.124 326.948,877.799 \n",
       "  324.81,871.461 322.77,865.108 320.827,858.743 318.982,852.365 317.234,845.976 315.585,839.576 314.034,833.165 312.581,826.744 311.227,820.314 309.971,813.876 \n",
       "  308.814,807.429 307.756,800.976 306.797,794.516 305.938,788.05 305.177,781.579 304.516,775.103 303.954,768.623 303.491,762.14 303.128,755.654 302.864,749.166 \n",
       "  302.7,742.677 302.635,736.186 302.67,729.696 302.805,723.207 303.038,716.718 303.372,710.232 303.804,703.748 304.337,697.267 304.968,690.789 305.699,684.317 \n",
       "  306.529,677.849 307.458,671.387 308.486,664.932 309.613,658.483 310.839,652.042 312.164,645.61 313.587,639.186 315.109,632.773 316.729,626.369 318.447,619.976 \n",
       "  320.263,613.595 322.176,607.226 324.188,600.869 326.296,594.527 328.502,588.198 330.805,581.884 333.204,575.585 335.7,569.302 338.292,563.036 340.98,556.787 \n",
       "  343.764,550.556 346.643,544.343 349.618,538.149 352.687,531.976 355.85,525.822 359.108,519.689 362.46,513.578 365.905,507.489 369.443,501.423 373.075,495.38 \n",
       "  376.798,489.362 380.614,483.367 384.522,477.398 388.521,471.455 392.61,465.538 396.791,459.648 401.061,453.786 405.421,447.952 409.871,442.146 414.409,436.37 \n",
       "  419.035,430.624 423.75,424.908 428.551,419.223 433.44,413.57 438.415,407.949 443.476,402.361 448.623,396.806 453.854,391.285 459.17,385.798 464.57,380.346 \n",
       "  470.053,374.93 475.619,369.549 481.267,364.206 486.996,358.899 492.807,353.63 498.698,348.399 504.669,343.207 510.72,338.054 516.849,332.941 523.057,327.868 \n",
       "  529.341,322.835 535.703,317.844 542.141,312.895 548.654,307.988 555.243,303.123 561.905,298.302 568.641,293.525 575.45,288.791 582.332,284.103 589.285,279.459 \n",
       "  596.308,274.861 603.402,270.309 610.566,265.804 617.798,261.345 625.098,256.934 632.465,252.571 639.899,248.256 647.399,243.989 654.963,239.772 662.592,235.604 \n",
       "  670.285,231.487 678.04,227.419 685.858,223.403 693.736,219.437 701.675,215.523 709.673,211.662 717.731,207.852 725.846,204.095 734.019,200.392 742.247,196.742 \n",
       "  750.532,193.145 758.871,189.603 767.264,186.116 775.71,182.683 784.209,179.306 792.758,175.984 801.359,172.718 810.008,169.508 818.707,166.355 827.454,163.259 \n",
       "  836.247,160.22 845.087,157.239 853.972,154.315 862.901,151.449 871.874,148.642 880.89,145.893 889.947,143.204 899.045,140.573 908.183,138.002 917.36,135.491 \n",
       "  926.575,133.04 935.827,130.649 945.115,128.318 954.438,126.048 963.796,123.839 973.187,121.691 982.611,119.605 992.066,117.58 1001.55,115.617 1011.07,113.716 \n",
       "  1020.61,111.877 1030.18,110.1 1039.78,108.386 1049.41,106.734 1059.06,105.145 1068.73,103.62 1078.42,102.157 1088.14,100.758 1097.88,99.422 1107.64,98.1498 \n",
       "  1117.42,96.9413 1127.21,95.7966 1137.03,94.7159 1146.86,93.6992 1156.7,92.7467 1166.56,91.8584 1176.43,91.0344 1186.31,90.2749 1196.21,89.5798 1206.11,88.9493 \n",
       "  1216.03,88.3835 1225.95,87.8823 1235.88,87.4459 1245.82,87.0742 1255.76,86.7673 1265.7,86.5253 1275.65,86.3482 1285.6,86.2359 1295.55,86.1886 1305.5,86.2061 \n",
       "  1315.46,86.2886 1325.4,86.4359 1335.35,86.6481 1345.29,86.9252 1355.23,87.2671 1365.16,87.6738 1375.09,88.1452 1385.01,88.6813 1394.92,89.2822 1404.82,89.9475 \n",
       "  1414.71,90.6775 1424.58,91.4718 1434.45,92.3306 1444.3,93.2536 1454.14,94.2408 1463.96,95.2922 1473.76,96.4075 1483.55,97.5867 1493.31,98.8296 1503.06,100.136 \n",
       "  1512.79,101.506 1522.5,102.94 1532.18,104.437 1541.84,105.996 1551.48,107.619 1561.09,109.304 1570.67,111.053 1580.23,112.863 1589.76,114.736 1599.26,116.67 \n",
       "  1608.73,118.667 1618.16,120.725 1627.57,122.845 1636.94,125.026 1646.28,127.268 1655.59,129.571 1664.86,131.934 1674.09,134.358 1683.28,136.841 1692.44,139.385 \n",
       "  1701.55,141.988 1710.63,144.65 1719.67,147.372 1728.66,150.152 1737.61,152.991 1746.51,155.888 1755.37,158.843 1764.19,161.856 1772.96,164.926 1781.68,168.053 \n",
       "  1790.35,171.236 1798.97,174.476 1807.55,177.773 1816.07,181.124 1824.54,184.532 1832.96,187.994 1841.32,191.511 1849.63,195.083 1857.88,198.708 1866.08,202.387 \n",
       "  1874.22,206.12 1882.31,209.905 1890.33,213.743 1898.3,217.633 1906.21,221.575 1914.05,225.568 1921.84,229.612 1929.56,233.706 1937.22,237.851 1944.81,242.046 \n",
       "  1952.34,246.29 1959.8,250.582 1967.2,254.923 1974.53,259.313 1981.8,263.749 1988.99,268.233 1996.12,272.764 2003.17,277.341 2010.16,281.964 2017.07,286.632 \n",
       "  2023.92,291.345 2030.69,296.102 2037.38,300.903 2044,305.748 2050.55,310.635 2057.03,315.565 2063.42,320.537 2069.74,325.55 2075.99,330.605 2082.15,335.7 \n",
       "  2088.24,340.835 2094.24,346.009 2100.17,351.222 2106.02,356.474 2111.79,361.763 2117.47,367.09 2123.08,372.453 2128.6,377.853 2134.04,383.289 2139.39,388.76 \n",
       "  2144.66,394.265 2149.85,399.805 2154.95,405.378 2159.96,410.984 2164.89,416.622 2169.73,422.293 2174.49,427.994 2179.15,433.727 2183.73,439.489 2188.22,445.281 \n",
       "  2192.62,451.102 2196.93,456.952 2201.16,462.829 2205.29,468.734 2209.33,474.665 2213.28,480.622 2217.14,486.605 2220.9,492.612 2224.58,498.644 2228.16,504.7 \n",
       "  2231.65,510.778 2235.04,516.879 2238.34,523.002 2241.55,529.146 2244.66,535.31 2247.68,541.495 2250.6,547.699 2253.43,553.922 2256.16,560.163 2258.8,566.421 \n",
       "  2261.34,572.696 2263.78,578.988 2266.13,585.295 2268.38,591.617 2270.53,597.954 2272.59,604.304 2274.55,610.667 2276.41,617.043 2278.17,623.43 2279.84,629.829 \n",
       "  2281.4,636.239 2282.87,642.658 2284.24,649.086 2285.51,655.523 2286.68,661.968 2287.76,668.421 2288.73,674.88 2289.61,681.345 2290.38,687.815 2291.06,694.29 \n",
       "  2291.64,700.77 2292.12,707.252 2292.5,713.738 2292.78,720.226 2292.96,726.715 2293.04,733.205 2293.02,739.695 2292.9,746.185 2292.68,752.673 2292.36,759.16 \n",
       "  2291.95,765.645 2291.43,772.126 2290.82,778.604 2290.1,785.078 2289.29,791.546 2288.37,798.009 2287.36,804.465 2286.25,810.915 2285.04,817.357 2283.73,823.791 \n",
       "  2282.32,830.216 2280.82,836.631 2279.21,843.037 2277.51,849.431 2275.71,855.814 2273.81,862.186 2271.82,868.544 2269.72,874.889 2267.53,881.22 2265.24,887.537 \n",
       "  2262.86,893.838 2260.38,900.123 2257.8,906.392 2255.13,912.644 2252.36,918.878 2249.5,925.094 2246.54,931.29 2243.48,937.467 2240.34,943.624 2237.09,949.76 \n",
       "  2233.76,955.875 2230.33,961.967 2226.8,968.037 2223.19,974.084 2219.48,980.106 2215.68,986.104 2211.78,992.077 2207.8,998.025 2203.72,1003.95 2199.56,1009.84 \n",
       "  2195.3,1015.71 2190.96,1021.55 2186.52,1027.36 2182,1033.14 2177.38,1038.89 2172.68,1044.61 2167.9,1050.3 2163.02,1055.96 2158.06,1061.58 2153.01,1067.18 \n",
       "  2147.88,1072.74 2142.66,1078.26 2137.36,1083.76 2131.97,1089.21 2126.5,1094.63 2120.95,1100.02 2115.31,1105.37 2109.6,1110.68 2103.8,1115.96 2097.92,1121.2 \n",
       "  2091.96,1126.39 2085.93,1131.55 2079.81,1136.67 2073.61,1141.75 2067.34,1146.79 2060.99,1151.79 2054.57,1156.74 2048.06,1161.66 2041.49,1166.53 2034.84,1171.36 \n",
       "  2028.11,1176.14 2021.32,1180.88 2014.45,1185.58 2007.5,1190.23 2000.49,1194.83 1993.41,1199.39 1986.26,1203.91 1979.04,1208.37 1971.75,1212.79 1964.39,1217.16 \n",
       "  1956.97,1221.49 1949.48,1225.76 1941.92,1229.98 1934.3,1234.16 1926.62,1238.29 1918.88,1242.36 1911.07,1246.39 1903.2,1250.36 1895.27,1254.28 1887.28,1258.15 \n",
       "  1879.23,1261.97 1871.13,1265.73 1862.96,1269.45 1854.74,1273.11 1846.47,1276.71 1838.14,1280.26 1829.75,1283.76 1821.31,1287.2 1812.82,1290.59 1804.28,1293.92 \n",
       "  1795.69,1297.19 1787.05,1300.41 1778.36,1303.57 1769.62,1306.68 1760.83,1309.72 1752,1312.72 1743.12,1315.65 1734.2,1318.52 1725.23,1321.34 1716.23,1324.1 \n",
       "  1707.17,1326.8 1698.08,1329.44 1688.95,1332.02 1679.78,1334.54 1670.57,1337 1661.33,1339.4 1652.04,1341.74 1642.73,1344.02 1633.37,1346.24 1623.99,1348.4 \n",
       "  1614.57,1350.49 1605.12,1352.53 1595.64,1354.5 1586.13,1356.41 1576.59,1358.26 1567.02,1360.05 1557.42,1361.77 1547.8,1363.43 1538.16,1365.03 1528.49,1366.57 \n",
       "  1518.8,1368.04 1509.08,1369.45 1499.35,1370.79 1489.59,1372.08 1479.82,1373.3 1470.02,1374.45 1460.21,1375.54 1450.39,1376.57 1440.54,1377.53 1430.69,1378.43 \n",
       "  1420.82,1379.26 1410.94,1380.03 1401.04,1380.74 1391.14,1381.38 1381.23,1381.96 1371.31,1382.47 1361.38,1382.91 1351.44,1383.3 1341.5,1383.61 1331.56,1383.87 \n",
       "  1321.61,1384.05 1311.66,1384.18 1301.71,1384.23 1291.76,1384.23 1281.81,1384.15 1271.86,1384.02 1261.91,1383.81 1251.97,1383.55 1242.03,1383.22 1232.09,1382.82 \n",
       "  1222.17,1382.36 1212.25,1381.83 1202.34,1381.24 1192.44,1380.59 1182.54,1379.87 1172.67,1379.08 1162.8,1378.24 1152.95,1377.32 1143.11,1376.35 1133.28,1375.3 \n",
       "  1123.48,1374.2 1113.69,1373.03 1103.92,1371.8 1094.17,1370.5 1084.43,1369.14 1074.73,1367.72 1065.04,1366.23 1055.37,1364.68 1045.73,1363.07 1036.12,1361.39 \n",
       "  1026.53,1359.65 1016.97,1357.85 1007.44,1355.99 997.932,1354.07 988.457,1352.08 979.014,1350.03 969.603,1347.92 960.224,1345.75 950.879,1343.52 941.569,1341.22 \n",
       "  932.295,1338.87 923.057,1336.46 913.856,1333.98 904.694,1331.45 895.571,1328.86 886.489,1326.2 877.447,1323.49 868.448,1320.72 859.491,1317.89 850.579,1315 \n",
       "  841.711,1312.06 832.889,1309.05 824.113,1305.99 815.385,1302.87 806.704,1299.7 798.073,1296.47 789.492,1293.18 780.962,1289.84 772.484,1286.44 764.058,1282.99 \n",
       "  755.685,1279.48 747.367,1275.91 739.103,1272.3 730.896,1268.63 722.745,1264.9 714.652,1261.13 706.617,1257.3 698.641,1253.41 690.725,1249.48 682.87,1245.5 \n",
       "  675.076,1241.46 667.344,1237.37 659.676,1233.24 652.071,1229.05 644.531,1224.81 637.057,1220.53 629.648,1216.2 622.306,1211.81 615.032,1207.39 607.826,1202.91 \n",
       "  600.689,1198.39 593.622,1193.82 586.625,1189.2 579.7,1184.54 572.846,1179.83 566.064,1175.08 559.356,1170.29 552.722,1165.45 546.162,1160.57 539.677,1155.65 \n",
       "  533.268,1150.68 526.936,1145.68 520.681,1140.63 514.503,1135.54 508.404,1130.41 502.383,1125.24 496.443,1120.04 490.582,1114.79 484.802,1109.51 479.103,1104.19 \n",
       "  473.487,1098.83 467.952,1093.43 462.501,1088 457.133,1082.54 451.85,1077.04 446.65,1071.5 441.536,1065.94 436.508,1060.34 431.566,1054.7 426.71,1049.04 \n",
       "  421.942,1043.34 417.261,1037.61 412.668,1031.86 408.164,1026.07 403.748,1020.25 399.422,1014.41 395.186,1008.53 391.04,1002.63 386.985,996.707 383.021,990.753 \n",
       "  379.148,984.775 375.368,978.771 371.679,972.743 368.083,966.691 364.58,960.616 361.171,954.519 357.855,948.4 354.633,942.259 351.505,936.097 348.472,929.916 \n",
       "  345.534,923.715 342.692,917.495 339.944,911.257 337.293,905.002 334.737,898.729 332.278,892.44 329.916,886.135 327.65,879.816 325.481,873.481 323.41,867.133 \n",
       "  321.435,860.772 319.559,854.398 317.78,848.012 316.1,841.615 314.517,835.208 313.033,828.79 311.648,822.363 310.361,815.927 309.172,809.484 308.083,803.032 \n",
       "  307.092,796.574 306.201,790.11 305.409,783.641 304.716,777.166 304.122,770.687 303.628,764.205 303.233,757.72 302.938,751.233 302.742,744.744 302.645,738.254 \n",
       "  302.649,731.764 302.751,725.274 302.953,718.785 303.255,712.298 303.656,705.813 304.157,699.331 304.756,692.852 305.456,686.378 306.254,679.909 307.152,673.445 \n",
       "  308.148,666.987 309.244,660.537 310.438,654.093 311.732,647.658 313.123,641.232 314.614,634.815 316.202,628.408 317.889,622.011 319.674,615.626 321.557,609.253 \n",
       "  323.537,602.893 325.614,596.545 327.789,590.212 330.061,583.893 332.43,577.59 334.895,571.302 337.456,565.03 340.114,558.775 342.867,552.539 345.716,546.32 \n",
       "  348.66,540.12 351.699,533.94 354.833,527.78 358.06,521.64 361.382,515.522 364.798,509.426 368.306,503.353 371.908,497.303 375.602,491.276 379.389,485.274 \n",
       "  383.267,479.297 387.237,473.345 391.298,467.42 395.45,461.522 399.691,455.65 404.023,449.807 408.444,443.993 412.954,438.207 417.552,432.451 422.239,426.726 \n",
       "  427.013,421.031 431.874,415.368 436.821,409.736 441.855,404.137 446.974,398.572 452.179,393.04 457.468,387.542 462.841,382.079 468.297,376.651 473.837,371.259 \n",
       "  479.459,365.904 485.163,360.585 490.948,355.304 496.813,350.061 502.759,344.857 508.784,339.691 514.889,334.565 521.071,329.479 527.331,324.434 533.668,319.43 \n",
       "  540.082,314.467 546.572,309.546 553.136,304.668 559.775,299.833 566.488,295.042 573.274,290.294 580.132,285.591 587.062,280.933 594.064,276.321 601.135,271.754 \n",
       "  608.277,267.234 615.487,262.76 622.765,258.334 630.111,253.955 637.524,249.625 645.003,245.343 652.547,241.11 660.156,236.927 667.828,232.793 675.563,228.709 \n",
       "  683.361,224.677 691.22,220.695 699.14,216.765 707.119,212.886 715.158,209.06 723.255,205.286 731.409,201.566 739.62,197.899 747.887,194.285 756.209,190.726 \n",
       "  764.585,187.221 773.014,183.771 781.496,180.375 790.03,177.036 798.614,173.752 807.248,170.525 815.931,167.354 824.663,164.239 833.441,161.182 842.266,158.182 \n",
       "  851.137,155.24 860.053,152.356 869.012,149.53 878.014,146.763 887.058,144.054 896.143,141.405 905.268,138.815 914.433,136.285 923.635,133.814 932.876,131.404 \n",
       "  942.153,129.054 951.465,126.765 960.812,124.537 970.193,122.369 979.606,120.263 989.051,118.219 998.527,116.236 1008.03,114.315 1017.57,112.456 1027.13,110.659 \n",
       "  1036.72,108.925 1046.34,107.253 1055.98,105.645 1065.65,104.099 1075.33,102.616 1085.05,101.197 1094.78,99.8408 1104.53,98.5483 1114.3,97.3195 1124.09,96.1545 \n",
       "  1133.9,95.0534 1143.72,94.0163 1153.56,93.0433 1163.42,92.1345 1173.29,91.2901 1183.16,90.51 1193.06,89.7944 1202.96,89.1433 1212.87,88.5569 1222.79,88.0351 \n",
       "  1232.72,87.578 1242.65,87.1857 1252.59,86.8582 1262.53,86.5956 1272.48,86.3977 1282.43,86.2648 1292.38,86.1968 1302.33,86.1937 1312.29,86.2554 1322.24,86.3821 \n",
       "  1332.18,86.5736 1342.13,86.8301 1352.07,87.1513 1362,87.5374 1371.93,87.9882 1381.85,88.5037 1391.76,89.0839 1401.67,89.7288 1411.56,90.4381 1421.44,91.212 \n",
       "  1431.31,92.0502 1441.16,92.9528 1451,93.9196 1460.83,94.9505 1470.64,96.0455 1480.43,97.2043 1490.2,98.427 1499.96,99.7133 1509.69,101.063 1519.41,102.477 \n",
       "  1529.1,103.953 1538.77,105.493 1548.41,107.095 1558.03,108.761 1567.62,110.489 1577.19,112.28 1586.72,114.133 1596.23,116.048 1605.71,118.025 1615.16,120.063 \n",
       "  1624.58,122.163 1633.96,124.325 1643.31,126.547 1652.63,128.831 1661.91,131.175 1671.15,133.579 1680.36,136.044 1689.53,138.568 1698.65,141.153 1707.74,143.796 \n",
       "  1716.79,146.499 1725.8,149.26 1734.76,152.081 1743.68,154.959 1752.56,157.896 1761.39,160.89 1770.17,163.942 1778.9,167.051 1787.59,170.216 1796.23,173.438 \n",
       "  1804.82,176.717 1813.36,180.051 1821.85,183.441 1830.28,186.885 1838.66,190.385 1846.99,193.939 1855.26,197.548 1863.48,201.21 1871.64,204.925 1879.74,208.694 \n",
       "  1887.78,212.515 1895.77,216.388 1903.69,220.314 1911.56,224.29 1919.36,228.318 1927.1,232.397 1934.78,236.526 1942.4,240.704 1949.95,244.933 1957.43,249.21 \n",
       "  1964.85,253.536 1972.21,257.909 1979.49,262.331 1986.71,266.8 1993.86,271.316 2000.93,275.878 2007.94,280.486 2014.88,285.14 2021.74,289.839 2028.54,294.582 \n",
       "  2035.26,299.369 2041.9,304.2 2048.47,309.074 2054.97,313.99 2061.39,318.949 2067.74,323.949 2074,328.991 2080.19,334.073 2086.31,339.195 2092.34,344.356 \n",
       "  2098.29,349.557 2104.17,354.797 2109.96,360.074 2115.67,365.389 2121.3,370.741 2126.85,376.129 2132.31,381.554 2137.69,387.013 2142.99,392.508 2148.2,398.036 \n",
       "  2153.33,403.599 2158.37,409.195 2163.33,414.823 2168.2,420.483 2172.98,426.175 2177.68,431.897 2182.28,437.65 2186.8,443.433 2191.23,449.245 2195.57,455.085 \n",
       "  2199.82,460.954 2203.98,466.85 2208.05,472.773 2212.03,478.722 2215.92,484.696 2219.71,490.696 2223.42,496.72 2227.03,502.768 2230.54,508.839 2233.97,514.933 \n",
       "  2237.3,521.049 2240.54,527.187 2243.68,533.345 2246.73,539.523 2249.68,545.721 2252.54,551.938 2255.3,558.173 2257.97,564.426 2260.54,570.696 2263.01,576.982 \n",
       "  2265.39,583.284 2267.67,589.602 2269.86,595.934 2271.94,602.28 2273.93,608.639 2275.83,615.011 2277.62,621.395 2279.32,627.79 2280.91,634.196 2282.41,640.612 \n",
       "  2283.81,647.038 2285.12,653.472 2286.32,659.915 2287.43,666.365 2288.43,672.822 2289.34,679.285 2290.15,685.754 2290.86,692.227 2291.47,698.705 2291.98,705.187 \n",
       "  2292.39,711.672 2292.7,718.159 2292.91,724.648 2293.02,731.137 2293.03,737.628 2292.95,744.118 2292.76,750.607 2292.48,757.094 2292.09,763.58 2291.61,770.062 \n",
       "  2291.02,776.541 2290.34,783.016 2289.56,789.486 2288.67,795.951 2287.69,802.409 2286.61,808.861 2285.43,815.306 2284.16,821.742 2282.78,828.17 2281.31,834.589 \n",
       "  2279.73,840.998 2278.06,847.396 2276.29,853.782 2274.43,860.157 2272.46,866.52 2270.4,872.869 2268.24,879.205 2265.98,885.526 2263.63,891.832 2261.18,898.123 \n",
       "  2258.63,904.397 2255.99,910.654 2253.25,916.894 2250.42,923.116 2247.49,929.318 2244.47,935.502 2241.35,941.665 2238.14,947.808 2234.83,953.929 2231.43,960.029 \n",
       "  2227.94,966.106 2224.35,972.16 2220.67,978.19 2216.9,984.196 2213.03,990.178 2209.08,996.133 2205.03,1002.06 2200.89,1007.97 2196.67,1013.84 2192.35,1019.69 \n",
       "  2187.94,1025.51 2183.45,1031.3 2178.86,1037.06 2174.19,1042.79 2169.43,1048.49 2164.58,1054.16 2159.65,1059.79 2154.63,1065.4 2149.52,1070.97 2144.33,1076.51 \n",
       "  2139.06,1082.01 2133.7,1087.48 2128.25,1092.91 2122.73,1098.31 2117.12,1103.67 2111.43,1108.99 2105.66,1114.28 2099.8,1119.53 2093.87,1124.74 2087.86,1129.91 \n",
       "  2081.77,1135.05 2075.6,1140.14 2069.35,1145.19 2063.02,1150.2 2056.62,1155.17 2050.14,1160.1 2043.59,1164.98 2036.96,1169.82 2030.26,1174.62 2023.49,1179.38 \n",
       "  2016.64,1184.09 2009.72,1188.75 2002.73,1193.37 1995.67,1197.95 1988.54,1202.47 1981.34,1206.96 1974.07,1211.39 1966.74,1215.78 1959.34,1220.11 1951.87,1224.4 \n",
       "  1944.34,1228.64 1936.74,1232.84 1929.07,1236.98 1921.35,1241.07 1913.56,1245.11 1905.71,1249.1 1897.8,1253.04 1889.83,1256.92 1881.8,1260.76 1873.71,1264.54 \n",
       "  1865.57,1268.27 1857.37,1271.95 1849.11,1275.57 1840.8,1279.14 1832.43,1282.65 1824.01,1286.11 1815.53,1289.51 1807.01,1292.86 1798.43,1296.15 1789.81,1299.39 \n",
       "  1781.13,1302.57 1772.41,1305.69 1763.64,1308.76 1754.82,1311.77 1745.96,1314.72 1737.05,1317.61 1728.09,1320.45 1719.1,1323.23 1710.06,1325.94 1700.98,1328.6 \n",
       "  1691.86,1331.2 1682.71,1333.74 1673.51,1336.22 1664.27,1338.64 1655,1341 1645.7,1343.3 1636.36,1345.54 1626.98,1347.71 1617.57,1349.83 1608.13,1351.88 \n",
       "  1598.66,1353.88 1589.16,1355.81 1579.63,1357.68 1570.07,1359.48 1560.48,1361.23 1550.87,1362.91 1541.23,1364.53 1531.57,1366.08 1521.89,1367.58 1512.18,1369.01 \n",
       "  1502.45,1370.37 1492.7,1371.67 1482.93,1372.91 1473.14,1374.09 1463.34,1375.2 1453.52,1376.25 1443.68,1377.23 1433.83,1378.15 1423.96,1379 1414.09,1379.79 \n",
       "  1404.2,1380.52 1394.3,1381.18 1384.39,1381.78 1374.47,1382.31 1364.54,1382.78 1354.61,1383.18 1344.67,1383.52 1334.73,1383.79 1324.78,1384 1314.83,1384.14 \n",
       "  1304.88,1384.22 \n",
       "  \"/>\n",
       "<path clip-path=\"url(#clip310)\" d=\"\n",
       "M2022.77 214.069 L2282.43 214.069 L2282.43 93.1086 L2022.77 93.1086  Z\n",
       "  \" fill=\"#ffffff\" fill-rule=\"evenodd\" fill-opacity=\"1\"/>\n",
       "<polyline clip-path=\"url(#clip310)\" style=\"stroke:#000000; stroke-width:4; stroke-opacity:1; fill:none\" points=\"\n",
       "  2022.77,214.069 2282.43,214.069 2282.43,93.1086 2022.77,93.1086 2022.77,214.069 \n",
       "  \"/>\n",
       "<polyline clip-path=\"url(#clip310)\" style=\"stroke:#009af9; stroke-width:4; stroke-opacity:1; fill:none\" points=\"\n",
       "  2046.21,153.589 2186.87,153.589 \n",
       "  \"/>\n",
       "<path clip-path=\"url(#clip310)\" d=\"M 0 0 M2224.15 173.276 Q2222.35 177.906 2220.64 179.318 Q2218.92 180.73 2216.05 180.73 L2212.65 180.73 L2212.65 177.165 L2215.15 177.165 Q2216.91 177.165 2217.88 176.332 Q2218.85 175.498 2220.03 172.396 L2220.8 170.452 L2210.31 144.943 L2214.83 144.943 L2222.93 165.221 L2231.03 144.943 L2235.54 144.943 L2224.15 173.276 Z\" fill=\"#000000\" fill-rule=\"evenodd\" fill-opacity=\"1\" /></svg>\n"
      ]
     },
     "execution_count": 13,
     "metadata": {},
     "output_type": "execute_result"
    }
   ],
   "source": [
    "tiempo2=collect(0:0.01:17π)\n",
    "plot(title=\"\",xlabel=\"tiempo\",ylabel=\"posición\")\n",
    "sol=RK_4(sistema2_a,[0.0,1.0,1.0,0.0],tiempo2)\n",
    "y=sol[:,2]\n",
    "x=sol[:,1]\n",
    "cero=\n",
    "plot!(x,y,label=\"y\")\n",
    "#plot!(tiempo2,x,label=\"x\")\n",
    "#plot!(tiempo2,label=\"x\")"
   ]
  },
  {
   "cell_type": "markdown",
   "metadata": {},
   "source": [
    "#### b. Considerando fricción, ¿El sistema puede tener órbitas cerradas?. De ser así, encuentre algunas de estas órbitas o muestre que el sistema no puede tener este tipo de ´orbitas. (Apoye sus argumentos con alguna simulación)."
   ]
  },
  {
   "cell_type": "markdown",
   "metadata": {},
   "source": [
    "Iniciemos analizando la fuerza del sistema para poder obtener el sistema de ecuaciónes lineales diferenciales. En este caso, la fuerza será la obtenida en el inciso anterior, sumando la dada por la fuerza de fricción."
   ]
  },
  {
   "cell_type": "markdown",
   "metadata": {},
   "source": [
    "Por lo cual se obtiene que:\n",
    "Si $|\\vec{v}|≤1$\n",
    "$$m\\vec{a}=-k\\vec{r}+\\frac{q^{2}}{4\\pi\\epsilon_0r^{2}}\\vec{r}−γ\\frac{d\\vec{r}}{dt} $$\n",
    "Si $|\\vec{v}|>1$\n",
    "$$m\\vec{a}=-k\\vec{r}+\\frac{q^{2}}{4\\pi\\epsilon_0r^{2}}\\vec{r}−µ(\\frac{dr}{dt})^{1/2}\\frac{d\\vec{r}}{dt}$$"
   ]
  },
  {
   "cell_type": "markdown",
   "metadata": {},
   "source": [
    "Por lo que el sistema de ecuaciones es\n",
    "$$x'=v_x $$\n",
    "$$y'=v_y$$\n",
    "$$ \\begin{cases}\n",
    " v_x'=−x−0.1v_x &   si  & |\\vec{v}|≤1 \\\\\n",
    "v_x'=−x−0.2\\left(v_x^{2}+v_y^{2}\\right)^{1/4}v_x+\\frac{q^{2}x}{4\\pi\\epsilon_0(x^{2}+y^{2})^{3/2}} &  si  & |\\vec{v}|>1\n",
    "\\end{cases}$$\n",
    "En el eje y:\n",
    "$$ \\begin{cases}\n",
    "v'_y=−y−0.1v_y &   si  & |\\vec{v}|≤1 \\\\\n",
    "v_y'=−y−0.2\\left(v_x^{2}+v_y^{2}\\right)^{1/4}v_y+\\frac{q^{2}y}{4\\pi\\epsilon_0(x^{2}+y^{2})^{3/2}} &  si  & |\\vec{v}|>1\n",
    "\\end{cases}$$\n",
    "Con esto,definamos una función que nos devuelva la información de este sistema."
   ]
  },
  {
   "cell_type": "code",
   "execution_count": 15,
   "metadata": {},
   "outputs": [
    {
     "data": {
      "text/plain": [
       "sistema2_b (generic function with 1 method)"
      ]
     },
     "execution_count": 15,
     "metadata": {},
     "output_type": "execute_result"
    }
   ],
   "source": [
    "function sistema2_b(x,t)\n",
    "    epsilon=8.85418781e-12\n",
    "    q=0.0000000000000001\n",
    "    c=q^2/(4*pi*epsilon)\n",
    "    dx=x[3]\n",
    "    dy=x[4]\n",
    "    r=x[1]^2+x[2]^2\n",
    "    v=x[3]^2+x[4]^2\n",
    "    if sqrt(v)<=1\n",
    "        dv_x=-x[1]-0.1*x[3]+((c)*(x[1]/(r)))\n",
    "        dv_y=-x[2]-0.1*x[4]+((c)*(x[2]/(r)))\n",
    "    else\n",
    "        dv_x=-x[1]-0.2*(v^(1/4))*x[3]+((c)*(x[1]/(r)))\n",
    "        dv_y=-x[2]-0.2*(v^(1/4))*x[4]+((c)*(x[2]/(r)))\n",
    "    end\n",
    "    return [dx,dy,dv_x,dv_y]\n",
    "end"
   ]
  },
  {
   "cell_type": "code",
   "execution_count": null,
   "metadata": {},
   "outputs": [],
   "source": []
  },
  {
   "cell_type": "markdown",
   "metadata": {},
   "source": [
    "#### 3. Se tiene la siguiente función: $$f(x,y)=2e^{(x+1)^{2}}\\left(e^{-(y+2)^{2}}+e^{-(y-2)^{2}}\\right)+6x(x^{2}+y^{2})e^{-(x^{2}+y^{2})}-1$$ Encuentre los puntos $(\\~x, \\~y)$ tales que $f(\\~x, \\~y)=0$ y dibuje estos puntos en el plano xy.\n",
    "#### Hint: Como podrá notar los puntos a buscar se encuentran en la región x, y ∈ (−4, 4) × (−4, 4). Una forma de obtener los puntos es haciendo un barrido para x fija y encontrando todas las raíces de la ecuación en términos de y. Entre más fino haga el barrido, la curva de nivel que se encuentre será mejor."
   ]
  },
  {
   "cell_type": "code",
   "execution_count": null,
   "metadata": {},
   "outputs": [],
   "source": [
    "function raiz_bf(funcion,intervalo,error=1e-4)\n",
    "    raiz = 0.5*(intervalo[1]+intervalo[2])\n",
    "    iteracion = 0\n",
    "    while abs(intervalo[2]-intervalo[1]) > error\n",
    "        f_izq , f_med = funcion(intervalo[1]) , funcion(raiz)\n",
    "        if f_izq*f_med < 0\n",
    "            intervalo[2] = raiz\n",
    "        else\n",
    "            intervalo[1] = raiz\n",
    "        end\n",
    "        raiz = 0.5*(intervalo[1]+intervalo[2])\n",
    "        iteracion += 1\n",
    "    end\n",
    "    return raiz,iteracion\n",
    "end"
   ]
  },
  {
   "cell_type": "code",
   "execution_count": null,
   "metadata": {},
   "outputs": [],
   "source": []
  },
  {
   "cell_type": "code",
   "execution_count": null,
   "metadata": {},
   "outputs": [],
   "source": [
    "function raiz_NewtonMult2(funcion,inicio,fin,delta,f_prima,error=1e-4)\n",
    "    #Definimos el número de trozos en los que dividiremos nuestro sistema\n",
    "    cortes=floor(Int,(fin-inicio)/delta)\n",
    "    #Definimos el arreglo donde anexaremos las raíces\n",
    "    raices=[]\n",
    "    iteraciones=[]\n",
    "    #Hacemos un ciclo dónde se buscarán las raíces tomando como inicio puntos en ese espacio\n",
    "    for i in 0:cortes-1\n",
    "        #Integramos el método de Newton para cada i\n",
    "        iteracion = 0\n",
    "        #Definimos nuestro punto de inicio\n",
    "        p_ini=inicio+i*delta\n",
    "        while abs(funcion(p_ini)) > error\n",
    "            p_ini += -(funcion(p_ini)/f_prima(p_ini))\n",
    "            iteracion +=1\n",
    "        end\n",
    "        #Anexamos la raíz encontrada al arreglo raíces\n",
    "        push!(raices,p_ini)\n",
    "    end\n",
    "    #Salimos del ciclo for y le pedimos a la función que nos regrese el arreglo de las raíces\n",
    "    return raices\n",
    "end"
   ]
  },
  {
   "cell_type": "code",
   "execution_count": null,
   "metadata": {},
   "outputs": [],
   "source": [
    "function raiz_NewtonMult(funcion,intervalo,delta,f_prima,error=1e-4)\n",
    "    #Definimos el número de trozos en los que dividiremos nuestro sistema\n",
    "    \n",
    "    cortes=floor(Int,((intervalo[2]-intervalo[1])*delta))\n",
    "    #Int((intervalo[2]-intervalo[1])*delta)\n",
    "    #Definimos el arreglo donde anexaremos las raíces\n",
    "    raices=[]\n",
    "    iteraciones=[]\n",
    "    #Hacemos un ciclo dónde se buscarán las raíces tomando como inicio puntos en ese espacio\n",
    "    for i in 1:3\n",
    "        #Integramos el método de Newton para cada i\n",
    "        iteracion = 0\n",
    "        #Definimos nuestro punto de inicio\n",
    "        p_ini=intervalo[1]+i*delta\n",
    "        while abs(funcion(p_ini)) > error\n",
    "            p_ini += -(funcion(p_ini)/f_prima(p_ini))\n",
    "            iteracion +=1\n",
    "        end\n",
    "        #Anexamos la raíz encontrada al arreglo raíces\n",
    "        push!(raices,p_ini)\n",
    "    end\n",
    "    #Salimos del ciclo for y le pedimos a la función que nos regrese el arreglo de las raíces\n",
    "    return raices\n",
    "end"
   ]
  },
  {
   "cell_type": "code",
   "execution_count": null,
   "metadata": {},
   "outputs": [],
   "source": [
    "raiz_NewtonMult(sin,[-1π,2π],0.1,cos)"
   ]
  },
  {
   "cell_type": "code",
   "execution_count": null,
   "metadata": {},
   "outputs": [],
   "source": [
    "function raiz_NewtonMult2(funcion,inicio,fin,delta,f_prima,error=1e-4)\n",
    "    #Definimos el número de trozos en los que dividiremos nuestro sistema\n",
    "    cortes=floor(Int,(fin-inicio)/delta)\n",
    "    #Definimos el arreglo donde anexaremos las raíces\n",
    "    raices=[]\n",
    "    iteraciones=[]\n",
    "    #Hacemos un ciclo dónde se buscarán las raíces tomando como inicio puntos en ese espacio\n",
    "    for i in 0:cortes-1\n",
    "        #Integramos el método de Newton para cada i\n",
    "        iteracion = 0\n",
    "        #Definimos nuestro punto de inicio\n",
    "        p_ini=inicio+i*delta\n",
    "        while abs(funcion(p_ini)) > error\n",
    "            p_ini += -(funcion(p_ini)/f_prima(p_ini))\n",
    "            iteracion +=1\n",
    "        end\n",
    "        #Anexamos la raíz encontrada al arreglo raíces\n",
    "        push!(raices,p_ini)\n",
    "    end\n",
    "    #Salimos del ciclo for y le pedimos a la función que nos regrese el arreglo de las raíces\n",
    "    return raices\n",
    "end"
   ]
  },
  {
   "cell_type": "code",
   "execution_count": null,
   "metadata": {},
   "outputs": [],
   "source": [
    "function raiz_NewtonMult2filtro(funcion,inicio,fin,delta,f_prima,error=1e-4)\n",
    "    #Definimos el número de trozos en los que dividiremos nuestro sistema\n",
    "    cortes=floor(Int,(fin-inicio)/delta)\n",
    "    #Definimos el arreglo donde anexaremos las raíces\n",
    "    raices=[]\n",
    "    iteraciones=[]\n",
    "    #Hacemos un ciclo dónde se buscarán las raíces tomando como inicio puntos en ese espacio\n",
    "    for i in 0:cortes-1\n",
    "        #Integramos el método de Newton para cada i\n",
    "        iteracion = 0\n",
    "        #Definimos nuestro punto de inicio\n",
    "        p_ini=inicio+i*delta\n",
    "        while abs(funcion(p_ini)) > error\n",
    "            p_ini += -(funcion(p_ini)/f_prima(p_ini))\n",
    "            iteracion +=1\n",
    "        end\n",
    "        #Anexamos la raíz encontrada al arreglo raíces, para ello descartamos las raíces que divergen debido al método de Newton\n",
    "        if p_ini==Inf \n",
    "            false\n",
    "        else\n",
    "        # Y anexamos las raíces que no divergen\n",
    "            push!(raices,p_ini)\n",
    "        end\n",
    "    end\n",
    "    #Hagamos un segundo filtrado para tener raíces únicas\n",
    "    #Le pedimos a la función que nos regrese el arreglo de las raíces\n",
    "    return raices\n",
    "end"
   ]
  },
  {
   "cell_type": "code",
   "execution_count": null,
   "metadata": {},
   "outputs": [],
   "source": [
    "f(x,y=0)=2*exp(-(x+1)^2)*(exp(-(y+2)^2)+exp(-(y-2)^2)) + 6*x*(x^2 + y^2)*exp(-(x^2+y^2))-1\n",
    "#df(x,y=0)=12*x^2*exp(-x^2-y^2)-12*x^2*exp(-x^2-y^2)*(x^2+y^2)+6*exp(-x^2-y^2)*(x^2+y^2)"
   ]
  },
  {
   "cell_type": "code",
   "execution_count": null,
   "metadata": {},
   "outputs": [],
   "source": [
    "dfx(x,y=0)=-4*exp(-(x+1)^2)*(x+1)*(exp(-(y-2)^2)+exp(-(y+2)^2))+(exp(-x^2-y^2)*(18*x^2+6*y^2))-(12*x^2*(x^2+y^2)*exp(-(x^2+y^2)))"
   ]
  },
  {
   "cell_type": "code",
   "execution_count": null,
   "metadata": {},
   "outputs": [],
   "source": [
    "raices2=[]\n",
    "y02=collect(-4:1:4)\n",
    "ys2=[]\n",
    "for y0 in yp\n",
    "    fx(x,y=y0)=2*exp(-(x+1)^2)*(exp(-(y+2)^2)+exp(-(y-2)^2)) + 6*x*(x^2 + y^2)*exp(-(x^2+y^2))-1\n",
    "    dfx(x,y=y0)=-4*exp(-(x+1)^2)*(x+1)*(exp(-(y-2)^2)+exp(-(y+2)^2))+(exp(-x^2-y^2)*(18*x^2+6*y^2))-(12*x^2*(x^2+y^2)*exp(-(x^2+y^2)))\n",
    "    n=length(find_zeros(fx,-4,4))\n",
    "    for i in 1:n\n",
    "        elemento=raiz_NewtonMult2filtro(fx,-4,4,1,dfx)\n",
    "        push!(raices2,elemento)\n",
    "        push!(ys2,y02)\n",
    "        #scatter!(y0,elemento,xlabel=\"x\",ylabel=\"f(x)\")\n",
    "    end\n",
    "end\n",
    "scatter(raices2,ys2,xlabel=\"x\",ylabel=\"y\")"
   ]
  },
  {
   "cell_type": "code",
   "execution_count": null,
   "metadata": {},
   "outputs": [],
   "source": [
    "raiz_NewtonMult2filtro(f,-4,4,1.5,dfx)"
   ]
  },
  {
   "cell_type": "code",
   "execution_count": null,
   "metadata": {},
   "outputs": [],
   "source": [
    "#Creamos la función para filtrar las raíces y así tener raíces únicas\n",
    "function filtrodraiz(f,raices,error=1e-4)\n",
    "    nraices=length(raices)\n",
    "    i=1\n",
    "    #func=f(raices[i])\n",
    "    raiz1=[],[]\n",
    "    inicio=1\n",
    "    raiz_inicio=raiz[inicio]\n",
    "    for i in 1:nraices\n",
    "    while raices[i]-raiz_inicio<=error\n",
    "        if abs(raices[i]-raiz_inicio)<=error\n",
    "        suma+=raiz[i]\n",
    "        i+=1\n",
    "        else\n",
    "        raiz_inicio=raiz[i]\n",
    "        end\n",
    "    end\n",
    "  \n",
    "end"
   ]
  },
  {
   "cell_type": "code",
   "execution_count": null,
   "metadata": {},
   "outputs": [],
   "source": [
    "function raiz_Newton(funcion,p_ini,f_prima,error=1e-4)\n",
    "    iteracion = 0\n",
    "    while abs(funcion(p_ini)) > error\n",
    "        p_ini += -(funcion(p_ini)/f_prima(p_ini))\n",
    "        iteracion +=1\n",
    "    end\n",
    "    return p_ini,iteracion\n",
    "end"
   ]
  },
  {
   "cell_type": "code",
   "execution_count": null,
   "metadata": {},
   "outputs": [],
   "source": [
    "raices=[]\n",
    "yp=collect(-4:0.001:4)\n",
    "ys=[]\n",
    "for y0 in yp\n",
    "    fx(x,y=y0)=2*exp(-(x+1)^2)*(exp(-(y+2)^2)+exp(-(y-2)^2)) + 6*x*(x^2 + y^2)*exp(-(x^2+y^2))-1\n",
    "    n=length(find_zeros(fx,-4,4))\n",
    "    for i in 1:n\n",
    "        elemento=find_zeros(fx,-4,4)[i]\n",
    "        push!(raices,elemento)\n",
    "        push!(ys,y0)\n",
    "    end\n",
    "end\n",
    "scatter(raices,ys,xlabel=\"x\",ylabel=\"y\")"
   ]
  },
  {
   "cell_type": "code",
   "execution_count": null,
   "metadata": {},
   "outputs": [],
   "source": [
    "f(x,y)=2*exp((x+1)^2)*(exp(-(y+2)^2)+exp(-(y-2)^2))+6*x*(x^2+y^2)*exp(-(x^2+y^2))-1"
   ]
  }
 ],
 "metadata": {
  "kernelspec": {
   "display_name": "Julia 1.5.1",
   "language": "julia",
   "name": "julia-1.5"
  },
  "language_info": {
   "file_extension": ".jl",
   "mimetype": "application/julia",
   "name": "julia",
   "version": "1.5.1"
  }
 },
 "nbformat": 4,
 "nbformat_minor": 4
}
