{
 "cells": [
  {
   "cell_type": "code",
   "execution_count": 1,
   "metadata": {},
   "outputs": [],
   "source": [
    "using Plots\n",
    "using LaTeXStrings\n",
    "using Roots"
   ]
  },
  {
   "cell_type": "markdown",
   "metadata": {},
   "source": [
    "# Examen 2\n",
    "## Física computacional\n",
    "#### Aquino Chapa Martha Abril \n",
    "Hecho en Julia "
   ]
  },
  {
   "cell_type": "markdown",
   "metadata": {},
   "source": [
    "#### 1. Se tiene un oscilador armónico en dos dimensiones (xy) en el que la fuerza está dada por $\\vec{F}= −k\\vec{r}$ y se tiene una fricción $\\vec{f}_{fric} = −γ\\vec{v}$ si $|\\vec{v}| ≤ 1$, pero cuando $|\\vec{v}| > 1$ la fricción es $\\vec{f}_{fric} = −µv^{3/2}\\hat{v}$. Si m = 1, k = 1, γ = 0.1 y µ = 0.2, resuelva las siguientes ejercicios:"
   ]
  },
  {
   "cell_type": "markdown",
   "metadata": {},
   "source": [
    "#### (a) Encuentre las ecuaciones de movimiento en coordenadas cartesianas. No es necesario resolver las ecuaciones."
   ]
  },
  {
   "cell_type": "markdown",
   "metadata": {},
   "source": [
    "Debido a la segunda ley de Newton, tendremos que la fuerza total del sistema será igual a la masa por la aceleración del sistema. Así se tiene que:\n",
    "$$m\\vec{a}=\\vec{F}+\\vec{f}_{fric}=m\\frac{d^{2}\\vec{r}}{dt^{2}} $$"
   ]
  },
  {
   "cell_type": "markdown",
   "metadata": {},
   "source": [
    "Por lo cual se obtiene que:\n",
    "Si $|\\vec{v}|≤1$\n",
    "$$m\\frac{d^{2}\\vec{r}}{dt^{2}} =−k\\vec{r}−γ\\vec{v}=−k\\vec{r}−γ\\frac{d\\vec{r}}{dt} $$\n",
    "Si $|\\vec{v}|>1$\n",
    "$$m\\frac{d^{2}\\vec{r}}{dt^{2}} =−k\\vec{r}−µv^{3/2}\\hat{v}=−k\\vec{r}−µv^{1/2}\\vec{v}=−k\\vec{r}−µ(\\frac{dr}{dt})^{1/2}\\frac{d\\vec{r}}{dt}$$"
   ]
  },
  {
   "cell_type": "markdown",
   "metadata": {},
   "source": [
    "Ahora, sustituimos los valores dados y separamos las ecuaciones por componentes cartesianas.\n",
    "\n",
    "En la coordenada $x$:"
   ]
  },
  {
   "cell_type": "markdown",
   "metadata": {},
   "source": [
    "$$ \\begin{cases}\n",
    " m\\frac{d^{2}x}{dt^{2}}=−kx−γ\\frac{dx}{dt} &   si  & |\\vec{v}|≤1 \\\\\n",
    "m\\frac{d^{2}x}{dt^{2}}=−kx−µ\\left(\\left(\\frac{dx}{dt}\\right)^{2}+\\left(\\frac{dy}{dt}\\right)\\right)^{1/4}\\frac{dx}{dt} &  si  & |\\vec{v}|>1\n",
    "\\end{cases}$$"
   ]
  },
  {
   "cell_type": "markdown",
   "metadata": {},
   "source": [
    "En el eje y:\n",
    "$$ \\begin{cases}\n",
    " m\\frac{d^{2}y}{dt^{2}}=−ky−γ\\frac{dy}{dt} &   si  & |\\vec{v}|≤1 \\\\\n",
    "m\\frac{d^{2}y}{dt^{2}}=−ky−µ\\left(\\left(\\frac{dx}{dt}\\right)^{2}+\\left(\\frac{dy}{dt}\\right)\\right)^{1/4}\\frac{dy}{dt} &  si  & |\\vec{v}|>1\n",
    "\\end{cases}$$"
   ]
  },
  {
   "cell_type": "markdown",
   "metadata": {},
   "source": [
    "Sustituyendo las constantes dadas:"
   ]
  },
  {
   "cell_type": "markdown",
   "metadata": {},
   "source": [
    "En el eje x:\n",
    "$$ \\begin{cases}\n",
    " \\frac{d^{2}x}{dt^{2}}=−x−0.1\\frac{dx}{dt} &   si  & |\\vec{v}|≤1 \\\\\n",
    "\\frac{d^{2}x}{dt^{2}}=−x−0.2\\left(\\left(\\frac{dx}{dt}\\right)^{2}+\\left(\\frac{dy}{dt}\\right)\\right)^{1/4}\\frac{dx}{dt} &  si  & |\\vec{v}|>1\n",
    "\\end{cases}$$\n",
    "En el eje y:\n",
    "$$ \\begin{cases}\n",
    " \\frac{d^{2}y}{dt^{2}}=−y−0.1\\frac{dy}{dt} &   si  & |\\vec{v}|≤1 \\\\\n",
    "\\frac{d^{2}y}{dt^{2}}=−y−0.2\\left(\\left(\\frac{dx}{dt}\\right)^{2}+\\left(\\frac{dy}{dt}\\right)\\right)^{1/4}\\frac{dy}{dt} &  si  & |\\vec{v}|>1\n",
    "\\end{cases}$$\n"
   ]
  },
  {
   "cell_type": "markdown",
   "metadata": {},
   "source": [
    "Con lo cual podemos escribir el siguiente sistema de ecuaciones diferenciales:"
   ]
  },
  {
   "cell_type": "markdown",
   "metadata": {},
   "source": [
    "$$x'=v_x $$\n",
    "$$y'=v_y$$\n",
    "$$ \\begin{cases}\n",
    " v_x'=−x−0.1v_x &   si  & |\\vec{v}|≤1 \\\\\n",
    "v_x'=−x−0.2\\left(v_x^{2}+v_y^{2}\\right)^{1/4}v_x &  si  & |\\vec{v}|>1\n",
    "\\end{cases}$$\n",
    "En el eje y:\n",
    "$$ \\begin{cases}\n",
    "v'_y=−y−0.1v_y &   si  & |\\vec{v}|≤1 \\\\\n",
    "v_y'=−y−0.2\\left(v_x^{2}+v_y^{2}\\right)^{1/4}v_y &  si  & |\\vec{v}|>1\n",
    "\\end{cases}$$"
   ]
  },
  {
   "cell_type": "markdown",
   "metadata": {},
   "source": [
    "#### (b) Utilice el método de Runge-Kutta de 4to orden para encontrar la solución a las ecuaciones de movimiento en el inciso anterior con condiciones iniciales $\\vec{r}_0 = (0, 1)$ y $\\vec{v}_0 = (\\cos θ,\\sin θ)$, donde $\\theta =\\frac{\\pi n}{6}$ con n = 0, 1, 2, 3, ..., 10, 11."
   ]
  },
  {
   "cell_type": "markdown",
   "metadata": {},
   "source": [
    "Con las ecuaciones anteriores, podemos crear una función que nos devuelva la información del sistema de ecuaciones diferenciales lineales."
   ]
  },
  {
   "cell_type": "code",
   "execution_count": null,
   "metadata": {},
   "outputs": [],
   "source": [
    "function sistema1(x,t)\n",
    "    dx=x[3]\n",
    "    dy=x[4]\n",
    "    v=x[3]^2+x[4]^2\n",
    "    if sqrt(v)<=1\n",
    "        dv_x=-x[1]-0.1*x[3]\n",
    "        dv_y=-x[2]-0.1*x[4]\n",
    "    else\n",
    "        dv_x=-x[1]-0.2*(v^(1/4))*x[3]\n",
    "        dv_y=-x[2]-0.2*(v^(1/4))*x[4]\n",
    "    end\n",
    "    return [dx,dy,dv_x,dv_y]\n",
    "end"
   ]
  },
  {
   "cell_type": "markdown",
   "metadata": {},
   "source": [
    "Ahora, extraemos la función de Runge-Kutta de 4to orden visto en clase:"
   ]
  },
  {
   "cell_type": "code",
   "execution_count": null,
   "metadata": {},
   "outputs": [],
   "source": [
    "function RK_4(edo,x_ini,t)\n",
    "    sol = zeros( length(t) , length(x_ini) )\n",
    "    sol[1,:] .= x_ini\n",
    "    δ = t[2]-t[1]\n",
    "    for i in 1:length(t)-1\n",
    "        k1 = edo(sol[i,:],t[i])\n",
    "        k2 = edo(sol[i,:] .+ 0.5*δ.*k1 , t[i] + 0.5*δ)\n",
    "        k3 = edo(sol[i,:] .+ 0.5*δ.*k2 , t[i] + 0.5*δ)\n",
    "        k4 = edo(sol[i,:] .+ δ.*k2 , t[i] + δ)\n",
    "        sol[i+1,:] .= sol[i,:] .+ (δ/6.0).*(k1 .+ 2.0.*k2 .+ 2.0.*k3 .+ k4)\n",
    "    end\n",
    "    return sol\n",
    "end"
   ]
  },
  {
   "cell_type": "markdown",
   "metadata": {},
   "source": [
    "Probamos nuestra solución con n=0."
   ]
  },
  {
   "cell_type": "code",
   "execution_count": null,
   "metadata": {},
   "outputs": [],
   "source": [
    "tiempo1_p=collect(0:0.01:70π)\n",
    "sol1_p=RK_4(sistema1,[0.0,1.0,1.0,0.0],tiempo1_p)"
   ]
  },
  {
   "cell_type": "markdown",
   "metadata": {},
   "source": [
    "Ahora, creamos un ciclo para cumplir la condición de que $\\theta=\\frac{\\pi n}{6}$ con n = 0, 1, 2, 3, ..., 10, 11."
   ]
  },
  {
   "cell_type": "code",
   "execution_count": null,
   "metadata": {},
   "outputs": [],
   "source": [
    "#Definimos nuestro conjunto de n's\n",
    "n=collect(0:11)\n",
    "#Definimos el tiempo donde evaluaremos la función\n",
    "tiempo1=collect(0:0.1:100)\n",
    "for i in n \n",
    "    sol1=RK_4(sistema1,[0.0,1.0,cos(i*π/6),sin(i*π/6)],tiempo1)\n",
    "end"
   ]
  },
  {
   "cell_type": "markdown",
   "metadata": {},
   "source": [
    "Presentamos el resultado a manera de gráfica:"
   ]
  },
  {
   "cell_type": "code",
   "execution_count": null,
   "metadata": {},
   "outputs": [],
   "source": [
    "plot(title=\"Solución para x_1 con diversos valores de n usando RK_4\",xlabel=\"t\",ylabel=\"x1(t)\")\n",
    "for i in n \n",
    "    sol1=RK_4(sistema1,[0.0,1.0,cos(i*π/6),sin(i*π/6)],tiempo1)\n",
    "    plot!(tiempo1,sol1[:,1],label =\"n=$(i)\", lw=1.0)\n",
    "end\n",
    "plot!()"
   ]
  },
  {
   "cell_type": "code",
   "execution_count": null,
   "metadata": {},
   "outputs": [],
   "source": [
    "plot(title=\"Solución para x_2 con diversos valores de n usando RK_4\",xlabel=\"t\",ylabel=\"x2(t)\")\n",
    "for i in n \n",
    "    sol1=RK_4(sistema1,[0.0,1.0,cos(i*π/6),sin(i*π/6)],tiempo1)\n",
    "    plot!(tiempo1,sol1[:,2],label =\"n=$(i)\", lw=1.0)\n",
    "end\n",
    "plot!()"
   ]
  },
  {
   "cell_type": "code",
   "execution_count": null,
   "metadata": {},
   "outputs": [],
   "source": [
    "plot(title=\"Solución para x_3 con diversos valores de n usando RK_4\",xlabel=\"t\",ylabel=\"x3(t)\")\n",
    "for i in n \n",
    "    sol1=RK_4(sistema1,[0.0,1.0,cos(i*π/6),sin(i*π/6)],tiempo1)\n",
    "    plot!(tiempo1,sol1[:,3],label =\"n=$(i)\", lw=1.0)\n",
    "end\n",
    "plot!()"
   ]
  },
  {
   "cell_type": "code",
   "execution_count": null,
   "metadata": {},
   "outputs": [],
   "source": [
    "plot(title=\"Solución para x_4 con diversos valores de n usando RK_4\",xlabel=\"t\",ylabel=\"x4(t)\")\n",
    "for i in n \n",
    "    sol1=RK_4(sistema1,[0.0,1.0,cos(i*π/6),sin(i*π/6)],tiempo1)\n",
    "    plot!(tiempo1,sol1[:,4],label =\"n=$(i)\", lw=1.0)\n",
    "end\n",
    "plot!()"
   ]
  },
  {
   "cell_type": "markdown",
   "metadata": {},
   "source": [
    "#### (c) Genere una función que calcule la energía para las distintas condiciones iniciales y detenga la simulación cuando esta sea menor al 30 % de su valor inicial. Cabe mencionar que debe hacer su simulación (paso de integración) de tal manera que el error en la trayectoria no tenga variaciones de más del 1 %, es decir se debe asegurar convergencia a la solución con error de a lo mas 1 %."
   ]
  },
  {
   "cell_type": "markdown",
   "metadata": {},
   "source": [
    "La energía total de nuestro sistema será:\n",
    "$$U=\\frac{m}{2}(v_x^{2}+v_y^{2})+\\frac{k}{2}(x^{2}+y^{2}) $$\n",
    "Sustituimos k=1=m y se tiene que\n",
    "$$U=\\frac{1}{2}(v_x^{2}+v_y^{2}+x^{2}+y^{2}) $$\n",
    "Así, definimos una función que nos de la energía del sistema a cada tiempo:"
   ]
  },
  {
   "cell_type": "code",
   "execution_count": null,
   "metadata": {},
   "outputs": [],
   "source": [
    "function energia1(p0,t,EDO)\n",
    "    x=zeros(length(t))\n",
    "    y=zeros(length(t))\n",
    "    vx=zeros(length(t))\n",
    "    vy=zeros(length(t))\n",
    "    x=RK_4(EDO,p0,t)[:,1]\n",
    "    y=RK_4(EDO,p0,t)[:,2]\n",
    "    vx=RK_4(EDO,p0,t)[:,3]\n",
    "    vy=RK_4(EDO,p0,t)[:,4]\n",
    "    #Definimos el arreglo donde guardaremos la información de la energía\n",
    "    U=zeros(length(t))\n",
    "    U[1]=0.5*(x[1]^2+y[1]^2+vx[1]^2+vy[1]^2)\n",
    "    for i in 2:length(t)\n",
    "        U[i]=0.5*(x[i]^2+y[i]^2+vx[i]^2+vy[i]^2)\n",
    "        if U[i]>=0.3*U[1]\n",
    "            println(U[i])\n",
    "        end\n",
    "    end\n",
    "end"
   ]
  },
  {
   "cell_type": "markdown",
   "metadata": {},
   "source": [
    "Obtengamos las variaciones de nuestra solución usando el porcentaje de diferencia:\n",
    "$$dif\\%=\\frac{|x_{i+1}-x_{i}|}{|x_i|} $$"
   ]
  },
  {
   "cell_type": "code",
   "execution_count": null,
   "metadata": {},
   "outputs": [],
   "source": [
    "function variacion(p0,t,EDO)\n",
    "    #x=zeros(length(t))\n",
    "    #y=zeros(length(t))\n",
    "    #vx=zeros(length(t))\n",
    "    #vy=zeros(length(t))\n",
    "    #Definimos la difere\n",
    "    x=RK_4(EDO,p0,t)[:,1]\n",
    "    y=RK_4(EDO,p0,t)[:,2]\n",
    "    vx=RK_4(EDO,p0,t)[:,3]\n",
    "    vy=RK_4(EDO,p0,t)[:,4]\n",
    "    difx=zeros(length(t))\n",
    "    dify=zeros(length(t))\n",
    "    difvx=zeros(length(t))\n",
    "    difvy=zeros(length(t))\n",
    "    for i in 2:length(t)\n",
    "        if x[i-1]!=0\n",
    "            difx[i]=abs((x[i]-x[i-1])/(x[i-1]))\n",
    "        else\n",
    "            difx[i]=-0\n",
    "        end\n",
    "        dify[i]=abs((y[i]-y[i-1])/(y[i-1]))\n",
    "        difvx[i]=abs((vx[i]-vx[i-1])/(vx[i-1]))\n",
    "        difvy[i]=abs((vy[i]-vy[i-1])/(vy[i-1]))\n",
    "    end\n",
    "    #mdifx=max(difx)\n",
    "    return maximum(difx)\n",
    "end"
   ]
  },
  {
   "cell_type": "code",
   "execution_count": null,
   "metadata": {},
   "outputs": [],
   "source": [
    "tiempo1v=collect(0:0.01:0.01)\n",
    "variacion([0.0,1.0,1.0,0.0],tiempo1v,sistema1)"
   ]
  },
  {
   "cell_type": "code",
   "execution_count": null,
   "metadata": {},
   "outputs": [],
   "source": [
    "tiempo1c=collect(0:0.01:70π)\n",
    "energia1([0.0,1.0,1.0,0.0],tiempo1c,sistema1)"
   ]
  },
  {
   "cell_type": "markdown",
   "metadata": {},
   "source": [
    "#### (d) Dibuje las gráficas del momento angular para los casos anteirores en el inciso (1b). "
   ]
  },
  {
   "cell_type": "markdown",
   "metadata": {},
   "source": [
    "#### (e) Tome de manera arbitraria alguna condición inicial y dibuje el espacio fase (px, x)."
   ]
  },
  {
   "cell_type": "markdown",
   "metadata": {},
   "source": [
    "#### 3. Se tiene la siguiente función: $$f(x,y)=2e^{(x+1)^{2}}\\left(e^{-(y+2)^{2}}+e^{-(y-2)^{2}}\\right)+6x(x^{2}+y^{2})e^{-(x^{2}+y^{2})}-1$$ Encuentre los puntos $(\\~x, \\~y)$ tales que $f(\\~x, \\~y)=0$ y dibuje estos puntos en el plano xy.\n",
    "#### Hint: Como podrá notar los puntos a buscar se encuentran en la región x, y ∈ (−4, 4) × (−4, 4). Una forma de obtener los puntos es haciendo un barrido para x fija y encontrando todas las raíces de la ecuación en términos de y. Entre más fino haga el barrido, la curva de nivel que se encuentre será mejor."
   ]
  },
  {
   "cell_type": "code",
   "execution_count": null,
   "metadata": {},
   "outputs": [],
   "source": [
    "function raiz_NewtonMult(funcion,intervalo,delta,f_prima,error=1e-4)\n",
    "    #Definimos el número de trozos en los que dividiremos nuestro sistema\n",
    "    \n",
    "    cortes=floor(Int,((intervalo[2]-intervalo[1])*delta))\n",
    "    #Int((intervalo[2]-intervalo[1])*delta)\n",
    "    #Definimos el arreglo donde anexaremos las raíces\n",
    "    raices=[]\n",
    "    iteraciones=[]\n",
    "    #Hacemos un ciclo dónde se buscarán las raíces tomando como inicio puntos en ese espacio\n",
    "    for i in 1:3\n",
    "        #Integramos el método de Newton para cada i\n",
    "        iteracion = 0\n",
    "        #Definimos nuestro punto de inicio\n",
    "        p_ini=intervalo[1]+i*delta\n",
    "        while abs(funcion(p_ini)) > error\n",
    "            p_ini += -(funcion(p_ini)/f_prima(p_ini))\n",
    "            iteracion +=1\n",
    "        end\n",
    "        #Anexamos la raíz encontrada al arreglo raíces\n",
    "        push!(raices,p_ini)\n",
    "    end\n",
    "    #Salimos del ciclo for y le pedimos a la función que nos regrese el arreglo de las raíces\n",
    "    return raices\n",
    "end"
   ]
  },
  {
   "cell_type": "code",
   "execution_count": null,
   "metadata": {},
   "outputs": [],
   "source": [
    "raiz_NewtonMult(sin,[-1π,2π],0.1,cos)"
   ]
  },
  {
   "cell_type": "code",
   "execution_count": 8,
   "metadata": {},
   "outputs": [
    {
     "data": {
      "text/plain": [
       "raiz_NewtonMult2 (generic function with 2 methods)"
      ]
     },
     "execution_count": 8,
     "metadata": {},
     "output_type": "execute_result"
    }
   ],
   "source": [
    "function raiz_NewtonMult2(funcion,inicio,fin,delta,f_prima,error=1e-4)\n",
    "    #Definimos el número de trozos en los que dividiremos nuestro sistema\n",
    "    cortes=floor(Int,(fin-inicio)/delta)\n",
    "    #Definimos el arreglo donde anexaremos las raíces\n",
    "    raices=[]\n",
    "    iteraciones=[]\n",
    "    #Hacemos un ciclo dónde se buscarán las raíces tomando como inicio puntos en ese espacio\n",
    "    for i in 0:cortes-1\n",
    "        #Integramos el método de Newton para cada i\n",
    "        iteracion = 0\n",
    "        #Definimos nuestro punto de inicio\n",
    "        p_ini=inicio+i*delta\n",
    "        while abs(funcion(p_ini)) > error\n",
    "            p_ini += -(funcion(p_ini)/f_prima(p_ini))\n",
    "            iteracion +=1\n",
    "        end\n",
    "        #Anexamos la raíz encontrada al arreglo raíces\n",
    "        push!(raices,p_ini)\n",
    "    end\n",
    "    #Salimos del ciclo for y le pedimos a la función que nos regrese el arreglo de las raíces\n",
    "    return raices\n",
    "end"
   ]
  },
  {
   "cell_type": "code",
   "execution_count": 16,
   "metadata": {},
   "outputs": [
    {
     "data": {
      "text/plain": [
       "raiz_NewtonMult2filtro (generic function with 2 methods)"
      ]
     },
     "execution_count": 16,
     "metadata": {},
     "output_type": "execute_result"
    }
   ],
   "source": [
    "function raiz_NewtonMult2filtro(funcion,inicio,fin,delta,f_prima,error=1e-4)\n",
    "    #Definimos el número de trozos en los que dividiremos nuestro sistema\n",
    "    cortes=floor(Int,(fin-inicio)/delta)\n",
    "    #Definimos el arreglo donde anexaremos las raíces\n",
    "    raices=[]\n",
    "    iteraciones=[]\n",
    "    #Hacemos un ciclo dónde se buscarán las raíces tomando como inicio puntos en ese espacio\n",
    "    for i in 0:cortes-1\n",
    "        #Integramos el método de Newton para cada i\n",
    "        iteracion = 0\n",
    "        #Definimos nuestro punto de inicio\n",
    "        p_ini=inicio+i*delta\n",
    "        while abs(funcion(p_ini)) > error\n",
    "            p_ini += -(funcion(p_ini)/f_prima(p_ini))\n",
    "            iteracion +=1\n",
    "        end\n",
    "        #Anexamos la raíz encontrada al arreglo raíces\n",
    "        if p_ini==Inf\n",
    "            false\n",
    "        else\n",
    "            push!(raices,p_ini)\n",
    "        end\n",
    "    end\n",
    "    #Salimos del ciclo for y le pedimos a la función que nos regrese el arreglo de las raíces\n",
    "    return raices\n",
    "end"
   ]
  },
  {
   "cell_type": "code",
   "execution_count": 2,
   "metadata": {},
   "outputs": [
    {
     "data": {
      "text/plain": [
       "f (generic function with 2 methods)"
      ]
     },
     "execution_count": 2,
     "metadata": {},
     "output_type": "execute_result"
    }
   ],
   "source": [
    "f(x,y=0)=2*exp(-(x+1)^2)*(exp(-(y+2)^2)+exp(-(y-2)^2)) + 6*x*(x^2 + y^2)*exp(-(x^2+y^2))-1\n",
    "#df(x,y=0)=12*x^2*exp(-x^2-y^2)-12*x^2*exp(-x^2-y^2)*(x^2+y^2)+6*exp(-x^2-y^2)*(x^2+y^2)"
   ]
  },
  {
   "cell_type": "code",
   "execution_count": 17,
   "metadata": {},
   "outputs": [
    {
     "data": {
      "text/plain": [
       "dfx (generic function with 2 methods)"
      ]
     },
     "execution_count": 17,
     "metadata": {},
     "output_type": "execute_result"
    }
   ],
   "source": [
    "dfx(x,y=0)=-4*exp(-(x+1)^2)*(x+1)*(exp(-(y-2)^2)+exp(-(y+2)^2))+(exp(-x^2-y^2)*(18*x^2+6*y^2))-(12*x^2*(x^2+y^2)*exp(-(x^2+y^2)))"
   ]
  },
  {
   "cell_type": "code",
   "execution_count": 19,
   "metadata": {},
   "outputs": [
    {
     "data": {
      "text/plain": [
       "3-element Array{Any,1}:\n",
       " 0.6260313908578603\n",
       " 0.6260311571090578\n",
       " 1.9469265118941532"
      ]
     },
     "execution_count": 19,
     "metadata": {},
     "output_type": "execute_result"
    }
   ],
   "source": [
    "raiz_NewtonMult2filtro(f,-4,4,1.5,dfx)"
   ]
  },
  {
   "cell_type": "code",
   "execution_count": 22,
   "metadata": {},
   "outputs": [
    {
     "data": {
      "text/plain": [
       "raiz_Newton (generic function with 2 methods)"
      ]
     },
     "execution_count": 22,
     "metadata": {},
     "output_type": "execute_result"
    }
   ],
   "source": [
    "function raiz_Newton(funcion,p_ini,f_prima,error=1e-4)\n",
    "    iteracion = 0\n",
    "    while abs(funcion(p_ini)) > error\n",
    "        p_ini += -(funcion(p_ini)/f_prima(p_ini))\n",
    "        iteracion +=1\n",
    "    end\n",
    "    return p_ini,iteracion\n",
    "end"
   ]
  },
  {
   "cell_type": "code",
   "execution_count": 24,
   "metadata": {},
   "outputs": [
    {
     "data": {
      "text/plain": [
       "(Inf, 2)"
      ]
     },
     "execution_count": 24,
     "metadata": {},
     "output_type": "execute_result"
    }
   ],
   "source": [
    "raiz_Newton(f,-4,dfx)"
   ]
  },
  {
   "cell_type": "code",
   "execution_count": 9,
   "metadata": {},
   "outputs": [
    {
     "data": {
      "text/plain": [
       "raiz_bf (generic function with 2 methods)"
      ]
     },
     "execution_count": 9,
     "metadata": {},
     "output_type": "execute_result"
    }
   ],
   "source": [
    "function raiz_bf(funcion,intervalo,error=1e-4)\n",
    "    raiz = 0.5*(intervalo[1]+intervalo[2])\n",
    "    iteracion = 0\n",
    "    while abs(intervalo[2]-intervalo[1]) > error\n",
    "        f_izq , f_med = funcion(intervalo[1]) , funcion(raiz)\n",
    "        if f_izq*f_med < 0\n",
    "            intervalo[2] = raiz\n",
    "        else\n",
    "            intervalo[1] = raiz\n",
    "        end\n",
    "        raiz = 0.5*(intervalo[1]+intervalo[2])\n",
    "        iteracion += 1\n",
    "    end\n",
    "    return raiz,iteracion\n",
    "end"
   ]
  },
  {
   "cell_type": "code",
   "execution_count": 14,
   "metadata": {},
   "outputs": [
    {
     "data": {
      "text/plain": [
       "(1.946955871582031, 15)"
      ]
     },
     "execution_count": 14,
     "metadata": {},
     "output_type": "execute_result"
    }
   ],
   "source": [
    "raiz_bf(f,[0.9,3])"
   ]
  },
  {
   "cell_type": "code",
   "execution_count": null,
   "metadata": {},
   "outputs": [],
   "source": [
    "x = collect(-1π:0.1:2π)\n",
    "plot(x,sin.(x),label=\"sin(x)\",xlabel=\"x\",ylabel=\"f(x)\")\n",
    "#raices=raiz_NewtonMult2(cos,-1π,2π,2,-sin)\n",
    "#scatter!([raices[1]],[0],label=\"raíz\")\n",
    "#scatter!([raices[2]],[0],label=\"raíz\")\n",
    "#scatter!([raices[3]],[0],label=\"raíz\")\n",
    "#scatter!([raices[4]],[0],label=\"raíz\")"
   ]
  },
  {
   "cell_type": "code",
   "execution_count": null,
   "metadata": {},
   "outputs": [],
   "source": [
    "f(x,y)=2*exp((x+1)^2)*(exp(-(y+2)^2)+exp(-(y-2)^2))+6*x*(x^2+y^2)*exp(-(x^2+y^2))-1"
   ]
  }
 ],
 "metadata": {
  "kernelspec": {
   "display_name": "Julia 1.5.1",
   "language": "julia",
   "name": "julia-1.5"
  },
  "language_info": {
   "file_extension": ".jl",
   "mimetype": "application/julia",
   "name": "julia",
   "version": "1.5.1"
  }
 },
 "nbformat": 4,
 "nbformat_minor": 4
}
