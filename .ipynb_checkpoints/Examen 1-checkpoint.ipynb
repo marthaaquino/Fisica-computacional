{
 "cells": [
  {
   "cell_type": "markdown",
   "metadata": {},
   "source": [
    "# Examen 1\n",
    "## Aquino Chapa Martha Abril\n",
    "Hecho en Python 🐍"
   ]
  },
  {
   "cell_type": "code",
   "execution_count": 1,
   "metadata": {},
   "outputs": [],
   "source": [
    "#importamos las paqueterías\n",
    "from pylab import *\n",
    "import random\n",
    "from numpy import array\n",
    "import math"
   ]
  },
  {
   "cell_type": "markdown",
   "metadata": {},
   "source": [
    "Definimos la función que integrará:"
   ]
  },
  {
   "cell_type": "code",
   "execution_count": 2,
   "metadata": {},
   "outputs": [],
   "source": [
    "#Definimos la función con la cual podemos obtener la integral de una función\n",
    "def int1(f,x):\n",
    "    #Definimos el espacio entre dos puntos contiguos en la malla\n",
    "    h = x[1] - x[0]\n",
    "    #Le damos un valor incial a la integral desde el cual empezará a sumar el valor de la integral\n",
    "    integral = 0 \n",
    "    #Definimos la condiciones en las cuales se evaluará nuestra integral:\n",
    "    #Si la malla en la cual vamos a integrar es par, pedimos que saque la integral a partir de segundo elemento\n",
    "    if mod(len(f),2) == 0:\n",
    "        inicio = 2\n",
    "    #Si el número de puntos en la malla no es par le pedimos que inicie un elemento despues del primer elemento en la malla\n",
    "    elif mod(len(f),2) == 1:\n",
    "        inicio = 1\n",
    "    #Definimos la parte del código con la que sumaremos las particiones de la integral y que vaya saltando 2 puntos\n",
    "    for i in range(inicio,len(f)-1,2):\n",
    "        integral += f[i+1] + 4*f[i] + f[i-1]\n",
    "    integral = integral*(h/3)\n",
    "    #la integral en la frontera es\n",
    "    if mod(len(f),2) == 0:\n",
    "        integral += (h/48)*(23*f[0] + 26*f[1] - 4*f[2] + 6*f[3] -3*f[4])\n",
    "    return integral"
   ]
  },
  {
   "cell_type": "markdown",
   "metadata": {},
   "source": [
    "### 1.En clase vimos como en un arreglo puede representar la gráfica de una función f(x) con los puntos {xi,fi} con i = 1, 2, 3, ..., N. También vimos como obtener las primeras derivadas numéricas en cadapunto, f'(xi) y f''(xi), es decir, podemos obtener el conjunto de puntos {xi, f'i } y {xi, f''i}. Esteproblema consiste en hacer lo mismo pero para el caso de la integral, y para ello realice una función que tenga como entrada los puntos {xi, fi} y que regrese {xi, Fi}, donde Fi representa la integral de la función hasta el xi-ésimo punto. Para corroborar que su función trabaja de manera adecuada, puede utilizar la función cos(x) en el intervalo [0, 2π]. Puede utilizar cualquier algoritmo de integración que vimos en clase o en las tareas.\n"
   ]
  },
  {
   "cell_type": "code",
   "execution_count": 8,
   "metadata": {},
   "outputs": [],
   "source": [
    "def fun1 (i,f):\n",
    "    a=min(x)\n",
    "    b=max(x)\n",
    "    h=x[1]-x[0]\n",
    "    c=i*h\n",
    "    #n=int((b-a)/(x[1]-x[0]))\n",
    "    y=linspace(a,c,i)\n",
    "    F=i*h,int1(f,y)\n",
    "    return F"
   ]
  },
  {
   "cell_type": "code",
   "execution_count": 15,
   "metadata": {},
   "outputs": [
    {
     "name": "stdout",
     "output_type": "stream",
     "text": [
      "(0.06346651825433926, -1.8755822978056003e-08)\n"
     ]
    }
   ],
   "source": [
    "x=linspace(0,pi,100)\n",
    "print(fun1(2,np.cos(x)))"
   ]
  },
  {
   "cell_type": "markdown",
   "metadata": {},
   "source": [
    "### 2."
   ]
  },
  {
   "cell_type": "markdown",
   "metadata": {},
   "source": [
    "#### a) Haga la gráfica de datos"
   ]
  },
  {
   "cell_type": "code",
   "execution_count": null,
   "metadata": {},
   "outputs": [],
   "source": [
    "from pylab import *\n",
    "datos = loadtxt ('t_acel.dat' )\n",
    "\n",
    "title(\"Gráfica de datos\"),xlabel(\"Tiempo\"),ylabel('Aceleración'),grid()\n",
    "plot(datos[:,0],datos[:,1])\n"
   ]
  },
  {
   "cell_type": "markdown",
   "metadata": {},
   "source": [
    "#### b) Calcule la derivada en cada punto utilizando algoritmos que desprecian términos en $h^{3}$ y $h^{5}$. Compare las gráficas de cada uno de los algoritmos y proporcione el error máximo entre los algoritmos utilizados.\n"
   ]
  },
  {
   "cell_type": "markdown",
   "metadata": {},
   "source": [
    "Antes de empezar a trabajar con las derivadas, debemos observar si la malla es uniforme:"
   ]
  },
  {
   "cell_type": "code",
   "execution_count": null,
   "metadata": {},
   "outputs": [],
   "source": [
    "#Definimos un arreglo que llenaremos de la diferencia del tiempo entre dos puntos contiguos\n",
    "m=np.zeros(len(datos[:,0]))\n",
    "#Definimos un ciclo for para obtener las diferencia entre puntos\n",
    "for i in range (1,len(datos[:,0])):\n",
    "    m[i]=x[i]-x[i-1]\n",
    "#Obtenemos la diferencia entre el espacio más grande entre puntos y el más pequeño\n",
    "print(max(m)-min(m))\n",
    "\n"
   ]
  },
  {
   "cell_type": "markdown",
   "metadata": {},
   "source": [
    "Vemos entonces que debido a que el máximo y el mínimo no son iguales, entonces la malla no es uniforme, así que tendremos que trabajar con algoritmos no simétricos."
   ]
  },
  {
   "cell_type": "markdown",
   "metadata": {},
   "source": [
    "En la tarea vimos que la derivada de segundo orden está dada por:"
   ]
  },
  {
   "cell_type": "markdown",
   "metadata": {},
   "source": [
    "$$ f'(x_i)=\\frac{f_{i+1}-f_{i-1}}{x_{i+1}-x_{i-1}}$$"
   ]
  },
  {
   "cell_type": "markdown",
   "metadata": {},
   "source": [
    "Y en los extremos se deben usar las relaciones:"
   ]
  },
  {
   "cell_type": "markdown",
   "metadata": {},
   "source": [
    "$$f'(x_0)=\\frac{-0.5f_2+2f_1-1.5f_0}{x_1-x_0}$$\n",
    "\n",
    "$$f'(x_0)=-\\frac{-0.5f_2+2f_1-1.5f_0}{x_{N}-x_{N-1}}$$"
   ]
  },
  {
   "cell_type": "markdown",
   "metadata": {},
   "source": [
    "Donde estamos asumiento que nuestro conjuntos de puntos tiene N+1 elementos.\n",
    "\n",
    "Ahora si, definamos nuestra función para obtener las derivada de orden 2, donde se desprecian términos $h^{3}$."
   ]
  },
  {
   "cell_type": "code",
   "execution_count": null,
   "metadata": {},
   "outputs": [],
   "source": [
    "def deriv_h3(f,x):\n",
    "    f_prima = zeros(len(f))\n",
    "    #h = x[1] - x[0]\n",
    "    #dosh = 2*h\n",
    "    #Iniciamos obteniendo la derivada en los puntos que no están en las fronteras\n",
    "    for i in range(1,len(f)-1):\n",
    "        f_prima[i] = ( f[i+1]-f[i-1] )/(x[i+1]-x[i-1])\n",
    "    #Obtenemos la derivada en el primer punto\n",
    "    f_prima[0] = ( -0.5*f[2] + 2*f[1] -1.5*f[0] )/(x[1]-x[0])\n",
    "    # calcular el ultimo punto\n",
    "    f_prima[-1] = -( -0.5*f[-3] + 2*f[-2] -1.5*f[-1] )/(x[-1]-x[-2])    \n",
    "    return f_prima"
   ]
  },
  {
   "cell_type": "code",
   "execution_count": null,
   "metadata": {},
   "outputs": [],
   "source": [
    "#Graficamos ahora la derivada en cada tiempo, donde f serán las aceleraciónes y x los tiempos\n",
    "title(\"Derivada de orden 2\"),xlabel(\"Tiempo\"),ylabel('Derivada de la aceleración'),grid()\n",
    "plot(datos[:,0],deriv_h3(datos[:,1],datos[:,0]))"
   ]
  },
  {
   "cell_type": "markdown",
   "metadata": {},
   "source": [
    "Ahora, para la derivada de orden 4 donde se desprecian términos $h^{5}$ se tiene que está está dada por:"
   ]
  },
  {
   "cell_type": "markdown",
   "metadata": {},
   "source": [
    "### 3. Sabemos que $\\int_{1}^{\\infty}{\\frac{dx}{x^{2}}}$, sin embargo numéricamente no es factible utilizar el infinito. De esta manera genere una forma de calcular dicha integral hasta obtener una precisión de 10−3. Explique su procedimiento de tal manera que pueda garantizar el resultado de dicha integral y cual sería su generalización."
   ]
  },
  {
   "cell_type": "code",
   "execution_count": null,
   "metadata": {},
   "outputs": [],
   "source": [
    "#Le damos un valor inicial al espacio donde evaluaremos nuestra integral (1,i,100)\n",
    "i=1\n",
    "#El orden del mayor error que deseamos obtener\n",
    "error=0.001\n",
    "#print(abs(1-int1(x**(-2),x)))\n",
    "#La malla donde evaluaremos al integra\n",
    "x=linspace(1,i,100)\n",
    "#El ciclo que nos irá aumentando el intervalo de integración, el cual se cumplirá mientrar el error de la malla (a,i,n) sea mayor al error\n",
    "while (abs(1-int1(x**(-2),x)))>=error:\n",
    "#Iremos aumentando de un punto a nuestra malla\n",
    "    i +=1\n",
    "#Definimos nuestro nuevo espacio i\n",
    "    x=linspace(1,i,100)\n",
    "#Si el error de la integral es menor al propuesto le pedimos al que nos imprima el número i\n",
    "if  (abs(1-int1(x**(-2),x)))<=error:\n",
    "    print(i)"
   ]
  },
  {
   "cell_type": "code",
   "execution_count": null,
   "metadata": {},
   "outputs": [],
   "source": [
    "#Hacemos nuestra malla con la i obtenida en la celda anterior\n",
    "x=linspace(1,i,100)\n",
    "print(\"La integral es: \",int1(x**(-2),x))\n",
    "print('El error de la integral es: ',abs(1-int1(x**(-2),x)))"
   ]
  }
 ],
 "metadata": {
  "kernelspec": {
   "display_name": "Python 3",
   "language": "python",
   "name": "python3"
  },
  "language_info": {
   "codemirror_mode": {
    "name": "ipython",
    "version": 3
   },
   "file_extension": ".py",
   "mimetype": "text/x-python",
   "name": "python",
   "nbconvert_exporter": "python",
   "pygments_lexer": "ipython3",
   "version": "3.7.6"
  }
 },
 "nbformat": 4,
 "nbformat_minor": 4
}
