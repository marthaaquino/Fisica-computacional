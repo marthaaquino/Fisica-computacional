{
 "cells": [
  {
   "cell_type": "markdown",
   "metadata": {},
   "source": [
    "<div class=\"alert alert-info\" role=\"alert\">\n",
    " <p class =\"lead\"> \n",
    " <h1>Física Computacional </h1>\n",
    " <h2>Proyecto Final</h2>\n",
    " </div>\n",
    "\n",
    "<img src=\"https://upload.wikimedia.org/wikipedia/commons/thumb/1/1f/Julia_Programming_Language_Logo.svg/1200px-Julia_Programming_Language_Logo.svg.png\" style=\"height:42px;display:inline\">\n",
    "\n",
    "> Autores: Aquino Chapa Martha Abril, Castro Granados Celeste y Rizo Franco Samantha"
   ]
  },
  {
   "cell_type": "code",
   "execution_count": 2,
   "metadata": {},
   "outputs": [],
   "source": [
    "using Plots"
   ]
  },
  {
   "cell_type": "markdown",
   "metadata": {},
   "source": [
    "# Planteamiento del Problema:"
   ]
  },
  {
   "cell_type": "markdown",
   "metadata": {},
   "source": [
    "Supongamos una astronauta orbitando alrededor de la Tierra y de repente lanza con una fuerza $\\vec{F}$ una herramienta hacia el espacio exterior. ¿Se volverán a encontrar en algún momento la astronauta y su herramienta?"
   ]
  },
  {
   "cell_type": "markdown",
   "metadata": {},
   "source": [
    "# Desarrollo del problema."
   ]
  },
  {
   "cell_type": "markdown",
   "metadata": {},
   "source": [
    "Consideraremos un sistema conformado exclusivamente conformado por la Tierra, la astornauta y la herramienta."
   ]
  },
  {
   "cell_type": "markdown",
   "metadata": {},
   "source": [
    "Recordemos que la fuerza gravitacional que siente una masa $m_1$ debido a una masa $m_2$ , separadas por una distancia $r$, es:\n",
    "\n",
    "$$ \\vec{F_{12}} = - G \\frac{m_1 m_2}{(r_{12})^2} \\hat{r_{12}}$$\n",
    "\n",
    "Con $G$ la constante de gravitación de Newton ($G = 6.67 \\times 10^{−11} N m^2/kg^2$) y $\\hat{r_{12}}$ el vector unitario con\n",
    "origen en la partícula 1 y que apunta a la partícula 2."
   ]
  },
  {
   "cell_type": "markdown",
   "metadata": {},
   "source": [
    "> *Como nota interesante: los satélites se mantienen en su órbita gracias a un determinado equilibrio de fuerzas. La fuerza de la gravedad, que lo mantiene unido a la Tierra o el objeto sobre el que se mueven, y la inercia del peso, que es la fuerza que tiene el propio satélite que lo empuja fuera de la órbita. Si este equilibrio se rompe, el satélite puede salirse de su órbita.*"
   ]
  },
  {
   "cell_type": "markdown",
   "metadata": {},
   "source": [
    "Tomaremos a la Tierra como el centro de referencia de nuestro sistema y realizaremos un análisis físico tomando encuenta solamente las interacciones debidas a la fuerza gravitacional. Además, la fuerza gravitacional Tierra-astronauta y Tierra-herramienta es prácticamente nula, por lo cual la Tierra puede ser considerada el origen de un sistema de referencia fijo.\n",
    "Por lo tanto, podemos enfocarnos en análizar solamente el movimiento de la astronauta y de la herramienta a partir de la fuerza gravitacional que siente cada uno de ellos debido a la interacción con los demás cuerpos del sistema. "
   ]
  },
  {
   "cell_type": "markdown",
   "metadata": {},
   "source": [
    "Dicho lo anterior, describimos las ecuaciones de movimiento en el esquema newtoniano: \n",
    "\n",
    "1. **Ecuaciones del astronauta:**\n",
    "\n",
    "Sea $\\vec f = m_A \\vec{a_A}$ la fuerza con que la astronauta lanza la herramienta, por lo cual, la fuerza sobre la astronauta se describe como\n",
    "\n",
    "$$ \\Rightarrow m_A\\ddot{\\vec{r}}_A=-\\frac{GM_Tm_A}{r_A^2}\\hat{r_A}+\\frac{Gm_Am_H}{|\\vec{r}_A-\\vec{r}_H|^2}(\\vec{r}_H-\\vec{r}_A)-m_A\\vec{a}_A$$\n",
    "\n",
    "Realizamos el siguiente cambio de variable $\\tau=\\sqrt{GM_T}$ (las unidades de tiempo están en términos de $\\tau$) y tenemos que:\n",
    "\n",
    "$$\\frac{d}{d\\tau}=\\frac{dt}{d\\tau}\\frac{d}{dt}=\\frac{1}{\\sqrt{GM_T}}\\frac{d}{dt}\\quad\\quad \\Rightarrow \\quad\\quad \\frac{d^2}{d\\tau}=\\frac{1}{GM_T}\\frac{d^2}{dt^2}$$\n",
    "\n",
    "De esta manera:\n",
    "\n",
    "$$\\frac{1}{GM_T}\\frac{d^2\\vec{r}_A}{dt^2}=\\frac{d^2\\vec{r}_A}{d\\tau^2}=-\\frac{\\vec{r}_A}{r_A^3}+\\frac{m_H}{M_T}\\frac{(\\vec{r}_H-\\vec{r}_A)}{|\\vec{r}_H-\\vec{r}_A|^3}-\\frac{\\vec{a}_A}{GM_T}$$\n",
    "\n",
    "Ahora, sea $\\vec{r}_{HA}=(\\vec{r}_H-\\vec{r}_A)\\Rightarrow$ $r_{HA}$ es la norma de $\\vec{r}_{HA}$. \n",
    "\n",
    "$$\\Rightarrow \\frac{d^2\\vec{r}_A}{d\\tau^2}=-\\frac{\\vec{r}_A}{r_A^3}+\\frac{m_H}{M_T}\\frac{\\vec{r}_{HA}}{r_{HA}^3}-\\frac{\\vec{a}_A}{GM_T}$$\n",
    "\n",
    "Consideramos que el movimiento se realiza en el plano $xy$, por lo tanto:\n",
    "\n",
    "$$\\frac{d^2 x_A}{d\\tau^2}=-\\frac{x_A}{r_A^3}+\\frac{m_H}{M_T}\\frac{(x_H-x_A)}{r_{HA}^3}-\\frac{a_{AX}}{GM_T}$$\n",
    "$$\\frac{d^2 y_A}{d\\tau^2}=-\\frac{y_A}{r_A^3}+\\frac{m_H}{M_T}\\frac{(y_H-y_A)}{r_{HA}^3}-\\frac{a_{AY}}{GM_T}$$\n",
    "\n",
    "2. **Ecuaciones de la herramienta:**\n",
    "\n",
    "Recordamos primero que la fuerza con la que el astronauta lanza la herramienta es $$\\vec{F}_A=m_A\\vec{a}_A$$.\n",
    "\n",
    "Luego, la tercera ley de Newton establece que con toda acción ocurre siempre una reacción igual y contraria: i.e. las acciones mutuas de dos cuerpos siempre son iguales y dirigidas en sentido opuesto, por lo que, sea $\\vec{F}_A$ la fuerza que siente el astronauta al lanzar la herramienta y $\\vec{F}_H$ la fuerza que siente la herramienta al ser lanzada:\n",
    "$$ \\Rightarrow \\vec{F}_A=-\\vec{F}_H$$\n",
    "$$\\Rightarrow m_A\\vec{a}_A=-m_H\\vec{a}_H$$\n",
    "\n",
    "Por lo que podemos relacionar la aceleración que siente el astronauta con la que siente la herramienta por medio de las siguientes expresiones: \n",
    "\n",
    "$$\\vec{a}_A=-\\frac{m_H\\vec{a}_H}{m_A}\\quad\\quad\\wedge\\quad\\quad \\vec{a}_H=-\\frac{m_A\\vec{a}_A}{m_H}$$\n",
    "\n",
    "Ahora, seguimos un procedimiento análogo al anterior para escribir las ecuaciones de la herramienta: \n",
    "\n",
    "$$ \\Rightarrow m_H\\ddot{\\vec{r}}_H=-\\frac{GM_Tm_H}{r_H^2}\\hat{r}_H+\\frac{Gm_Hm_A}{|\\vec{r}_H-\\vec{r}_A|^2}(\\vec{r}_A-\\vec{r}_H)-m_H\\vec{a}_H$$\n",
    "\n",
    "Realizamos nuevamente el cambio de variable $\\tau=\\sqrt{GM_T}$ (las unidades de tiempo están en términos de $\\tau$) y tenemos que:\n",
    "\n",
    "$$\\frac{d}{d\\tau}=\\frac{dt}{d\\tau}\\frac{d}{dt}=\\frac{1}{\\sqrt{GM_T}}\\frac{d}{dt}\\quad\\quad \\Rightarrow \\quad\\quad \\frac{d^2}{d\\tau}=\\frac{1}{GM_T}\\frac{d^2}{dt^2}$$\n",
    "\n",
    "De esta manera:\n",
    "$$\\frac{1}{GM_T}\\frac{d^2\\vec{r}_H}{dt^2}=\\frac{d^2\\vec{r}_H}{d\\tau^2}=-\\frac{\\vec{r}_H}{r_H^3}+\\frac{m_A}{M_T}\\frac{(\\vec{r}_A-\\vec{r}_H)}{|\\vec{r}_A-\\vec{r}_H|^3}-\\frac{\\vec{a}_H}{GM_T}$$\n",
    "\n",
    "Ahora, sea $\\vec{r}_{AH}=(\\vec{r}_A-\\vec{r}_H) \\Rightarrow r_{AH}$ es la norma de $\\vec{r_AH}$, y además $r_{AH}=r_{HA}$.\n",
    "\n",
    "$$\\Rightarrow \\frac{d^2\\vec{r}_H}{d\\tau^2}=-\\frac{\\vec{r}_H}{r_H^3}+\\frac{m_A}{M_T}\\frac{\\vec{r}_{HA}}{r_{HA}^3}-\\frac{\\vec{a}_H}{GM_T}$$\n",
    "\n",
    "Consideramos que el movimiento se realiza en el plano $xy$, por lo tanto:\n",
    "\n",
    "$$\\frac{d^2 x_H}{d\\tau^2}=-\\frac{x_H}{r_H^3}+\\frac{m_A}{M_T}\\frac{(x_H - x_A)}{r_{HA}^3}-\\frac{a_{HX}}{GM_T}$$\n",
    "$$\\frac{d^2 y_H}{d\\tau^2}=-\\frac{y_H}{r_H^3}+\\frac{m_A}{M_T}\\frac{(y_H - y_A)}{r_{HA}^3}-\\frac{a_{HY}}{GM_T}$$"
   ]
  },
  {
   "cell_type": "code",
   "execution_count": 4,
   "metadata": {},
   "outputs": [
    {
     "data": {
      "text/plain": [
       "sistema_AH (generic function with 2 methods)"
      ]
     },
     "execution_count": 4,
     "metadata": {},
     "output_type": "execute_result"
    }
   ],
   "source": [
    "### r=[xA,yA,vxA,vyA,xH,yH,vxH,vyH]\n",
    "### r= 1, 2,  3,  4,  5, 6, 7,  8\n",
    "function sistema_AH(r,t,axH,ayH)\n",
    "    G=6.674e-11 #constante de gravitación universal\n",
    "    mT=5.972e24 #masa de la Tierra\n",
    "    mA=70 #masa de la astronauta\n",
    "    mH=5 #masa de la herramienta\n",
    "    \n",
    "    #definimos la aceleracion sobre la astronauta debido al lanzamiento de la herramienta\n",
    "    axA=-(mH/mA)*axH\n",
    "    ayA=-(mH/mA)*ayH\n",
    "    \n",
    "    #definimos la distancia del astronauta a la Luna\n",
    "    rA = sqrt(r[1]^2 + r[2]^2)\n",
    "    #definimos la distancia de la herramienta a la Luna\n",
    "    rH=sqrt(r[5]^2 + r[6]^2)\n",
    "    #definimos la distancia del astronauta a la herramienta\n",
    "    rAH=sqrt((r[1]-r[5])^2 + (r[2]-r[6])^2)\n",
    "    \n",
    "    #Ecuaciones del astronauta\n",
    "    vxA = r[3]\n",
    "    dvxA = -( r[1]/(rA^3) )+( (mH/mT)*((r[5]-r[1])/(rAH^3)) )+(axA/(G*mT))\n",
    "    \n",
    "    vyA = r[4]\n",
    "    dvyA = -( r[2]/(rA^3) )+( (mH/mT)*((r[6]-r[2])/(rAH^3)) )+(ayA/(G*mT))\n",
    "    #Ecuaciones de la herramienta\n",
    "    vxH=r[7]\n",
    "    dvxH = -( r[5]/(rH^3) )-( (mA/mT)*((r[5]-r[1])/(rAH^3)) )+(axH/(G*mT))\n",
    "    \n",
    "    vyH=r[8]\n",
    "    dvyH = -( r[6]/(rH^3) )-( (mA/mT)*((r[6]-r[2])/(rAH^3)) )+(ayH/(G*mT))\n",
    "    \n",
    "    return([vxA,vyA,dvxA,dvyA,vxH,vyH,dvxH,dvyH])\n",
    "end    "
   ]
  },
  {
   "cell_type": "markdown",
   "metadata": {},
   "source": [
    "Y definimos también la función del método de Runge-Kutta de orden, 4 vista en clase para poder resolver nuestro sistema de ecuaciones diferenciales, en clase vimos (***Notebook 10***) que la implementación del algoritmo anterior se realiza con la siguiente función."
   ]
  },
  {
   "cell_type": "code",
   "execution_count": 10,
   "metadata": {},
   "outputs": [
    {
     "data": {
      "text/plain": [
       "RK_4 (generic function with 2 methods)"
      ]
     },
     "execution_count": 10,
     "metadata": {},
     "output_type": "execute_result"
    }
   ],
   "source": [
    "function RK_4(edo,x_ini,t,axH,ayH)\n",
    "    sol = zeros( length(t) , length(x_ini) )\n",
    "    sol[1,:] .= x_ini\n",
    "    δ = t[2]-t[1]\n",
    "    for i in 1:length(t)-1\n",
    "        k1 = edo(sol[i,:],t[i],axH,ayH)\n",
    "        k2 = edo(sol[i,:] .+ 0.5*δ.*k1 , t[i] + 0.5*δ,axH,ayH)\n",
    "        k3 = edo(sol[i,:] .+ 0.5*δ.*k2 , t[i] + 0.5*δ,axH,ayH)\n",
    "        k4 = edo(sol[i,:] .+ δ.*k2 , t[i] + δ,axH,ayH)\n",
    "        sol[i+1,:] .= sol[i,:] .+ (δ/6.0).*(k1 .+ 2.0.*k2 .+ 2.0.*k3 .+ k4)\n",
    "    end\n",
    "    return sol\n",
    "end"
   ]
  },
  {
   "cell_type": "markdown",
   "metadata": {},
   "source": [
    "Si consideramos una altura de $r_A=350 km$ desde la superficie de la Tierra para el astronauta y $r_H=350.00065km$ para la herramienta (65 cm más que corresponde al largo promedio de un brazo y queremos que pueda agarrar la herramienta nuevamente), recordemos que ell radio de la Tierra es aproximadamente 6371km,\n",
    "$$\\Rightarrow \\frac{r_A+r_T}{r_T}=\\frac{350km+6371 km}{6371 km}=1.0549364307016167 $$\n",
    "$$\\Rightarrow \\frac{r_H+r_T}{r_T}=\\frac{350.00065km+6371 km}{6371 km}=1.0549365327264166 $$\n",
    "tenemos que el radio del astronauta es $1.0549364307016167$ veces el radio de la Tierra y el radio de la herramienta es $1.0549365327264166$ veces el radio de la Tierra. \n",
    "\n",
    "Definimos los radios:"
   ]
  },
  {
   "cell_type": "code",
   "execution_count": 6,
   "metadata": {},
   "outputs": [
    {
     "data": {
      "text/plain": [
       "6721.00065"
      ]
     },
     "execution_count": 6,
     "metadata": {},
     "output_type": "execute_result"
    }
   ],
   "source": [
    "rA_sf=1.0549364307016167*6371  #sf significa sin factor\n",
    "rH_sf=1.0549365327264166*6371"
   ]
  },
  {
   "cell_type": "markdown",
   "metadata": {},
   "source": [
    "Recordamos que en el planteamiento de las ecuaciones hicimos un cambio de variable $\\tau=\\sqrt{GM_T}$, por lo tanto, hay que multiplicar los radios anteriores por un factor $1/\\sqrt{GM_T}$ para contrarrestarlo. \n",
    "En donde $M_T$ es la masa de la tierra. "
   ]
  },
  {
   "cell_type": "code",
   "execution_count": 7,
   "metadata": {},
   "outputs": [
    {
     "data": {
      "text/plain": [
       "0.00033665179676993767"
      ]
     },
     "execution_count": 7,
     "metadata": {},
     "output_type": "execute_result"
    }
   ],
   "source": [
    "G=6.674e-11\n",
    "mT=5.972e24\n",
    "rA_cf=rA_sf/(sqrt(G*mT)) #cf significa que ya fueron multiplicados por el factor: con factor\n",
    "rH_cf=rH_sf/(sqrt(G*mT))"
   ]
  },
  {
   "cell_type": "markdown",
   "metadata": {},
   "source": [
    "Ahora, los valores que obtuvimos son muy pequeños, por lo tanto vamos a normalizarlos para facilitar. Tomaremos como factor de normalizacion 1/rA_cf $\\Rightarrow rA=1$"
   ]
  },
  {
   "cell_type": "code",
   "execution_count": 8,
   "metadata": {},
   "outputs": [
    {
     "data": {
      "text/plain": [
       "2970.428514882344"
      ]
     },
     "execution_count": 8,
     "metadata": {},
     "output_type": "execute_result"
    }
   ],
   "source": [
    "normalizacion=1/rA_cf"
   ]
  },
  {
   "cell_type": "markdown",
   "metadata": {},
   "source": [
    "Y ahora si definimos nuestros radios. "
   ]
  },
  {
   "cell_type": "code",
   "execution_count": 9,
   "metadata": {},
   "outputs": [
    {
     "name": "stdout",
     "output_type": "stream",
     "text": [
      "0.9999999999999999\n",
      "1.0000000967117988\n"
     ]
    }
   ],
   "source": [
    "rA=rA_cf*normalizacion\n",
    "rH=rH_cf*normalizacion\n",
    "println(rA)\n",
    "println(rH)"
   ]
  },
  {
   "cell_type": "markdown",
   "metadata": {},
   "source": [
    "Ahora vamos a suponer que tanto el astronauta como la herramienta empiezan en una posicion (x,0) en donde x corresponderá a la altura, es decir, los radios definidos arriba:\n",
    "Como condición inicial de la velocidad utilizaremos la velocidad órbital que es la velocidad aproximada a la que debe estar la astronauta para que su órbita sea estable. Para deducir está velocidad recordemos que la fuerza de gravedad es una fuerza de aceleración centrípeta (está dirigida hacia el centro de curvatura de la trayectoria):\n",
    "$$F_{gravedad}=F_{centrípeta}$$\n",
    "$$\\Rightarrow \\frac{GM_Tm}{r^{2}}={m}\\frac{v^{2}}{r}$$\n",
    "Despejamos la velocidad para obtener la velocidad órbital:\n",
    "$$\\Rightarrow v_{órbital}=\\sqrt{\\frac{GM_T}{r}}$$\n",
    "Donde $G$ es la constante gravitacional, $M_T$ es la masa de la Tierra y $r$ es el radio de la órbita, podemos ver que la velocidad de órbita es independiente de la masa del objeto en órbita (ya sea la astronauta o la herramienta).\n",
    "Realizamos nuevamente el cambio de variable $\\tau=\\sqrt{GM_T}$ (las unidades de tiempo están en términos de $\\tau$) y tenemos que:\n",
    "\n",
    "$$\\frac{d}{d\\tau}=\\frac{dt}{d\\tau}\\frac{d}{dt}=\\frac{1}{\\sqrt{GM_T}}\\frac{d}{dt}$$\n",
    "\n",
    "De esta manera:\n",
    "$$\\Rightarrow \\frac{d}{d\\tau}r_{órbital}=\\frac{dt}{d\\tau}\\frac{d}{dt}r_{órbital}=\\frac{1}{\\sqrt{GM_T}}\\sqrt{\\frac{GM_T}{r}}$$\n",
    "$$\\Rightarrow v_{órbital}=\\frac{1}{\\sqrt{r}}$$\n",
    "Finalmente, dejaremos correr la simulación un tiempo $\\tau=10\\pi$ que representa 5 ciclos del astronauta a una distancia unitaria de la Tierra (por eso normalizamos antes)."
   ]
  },
  {
   "cell_type": "code",
   "execution_count": 11,
   "metadata": {},
   "outputs": [
    {
     "data": {
      "image/svg+xml": [
       "<?xml version=\"1.0\" encoding=\"utf-8\"?>\n",
       "<svg xmlns=\"http://www.w3.org/2000/svg\" xmlns:xlink=\"http://www.w3.org/1999/xlink\" width=\"600\" height=\"400\" viewBox=\"0 0 2400 1600\">\n",
       "<defs>\n",
       "  <clipPath id=\"clip360\">\n",
       "    <rect x=\"0\" y=\"0\" width=\"2400\" height=\"1600\"/>\n",
       "  </clipPath>\n",
       "</defs>\n",
       "<path clip-path=\"url(#clip360)\" d=\"\n",
       "M0 1600 L2400 1600 L2400 0 L0 0  Z\n",
       "  \" fill=\"#ffffff\" fill-rule=\"evenodd\" fill-opacity=\"1\"/>\n",
       "<defs>\n",
       "  <clipPath id=\"clip361\">\n",
       "    <rect x=\"480\" y=\"0\" width=\"1681\" height=\"1600\"/>\n",
       "  </clipPath>\n",
       "</defs>\n",
       "<path clip-path=\"url(#clip360)\" d=\"\n",
       "M205.723 1423.18 L2352.76 1423.18 L2352.76 123.472 L205.723 123.472  Z\n",
       "  \" fill=\"#ffffff\" fill-rule=\"evenodd\" fill-opacity=\"1\"/>\n",
       "<defs>\n",
       "  <clipPath id=\"clip362\">\n",
       "    <rect x=\"205\" y=\"123\" width=\"2148\" height=\"1301\"/>\n",
       "  </clipPath>\n",
       "</defs>\n",
       "<polyline clip-path=\"url(#clip362)\" style=\"stroke:#000000; stroke-width:2; stroke-opacity:0.1; fill:none\" points=\"\n",
       "  205.723,1423.18 205.723,123.472 \n",
       "  \"/>\n",
       "<polyline clip-path=\"url(#clip362)\" style=\"stroke:#000000; stroke-width:2; stroke-opacity:0.1; fill:none\" points=\"\n",
       "  742.481,1423.18 742.481,123.472 \n",
       "  \"/>\n",
       "<polyline clip-path=\"url(#clip362)\" style=\"stroke:#000000; stroke-width:2; stroke-opacity:0.1; fill:none\" points=\"\n",
       "  1279.24,1423.18 1279.24,123.472 \n",
       "  \"/>\n",
       "<polyline clip-path=\"url(#clip362)\" style=\"stroke:#000000; stroke-width:2; stroke-opacity:0.1; fill:none\" points=\"\n",
       "  1816,1423.18 1816,123.472 \n",
       "  \"/>\n",
       "<polyline clip-path=\"url(#clip362)\" style=\"stroke:#000000; stroke-width:2; stroke-opacity:0.1; fill:none\" points=\"\n",
       "  2352.76,1423.18 2352.76,123.472 \n",
       "  \"/>\n",
       "<polyline clip-path=\"url(#clip360)\" style=\"stroke:#000000; stroke-width:4; stroke-opacity:1; fill:none\" points=\"\n",
       "  205.723,1423.18 2352.76,1423.18 \n",
       "  \"/>\n",
       "<polyline clip-path=\"url(#clip360)\" style=\"stroke:#000000; stroke-width:4; stroke-opacity:1; fill:none\" points=\"\n",
       "  205.723,1423.18 205.723,1407.58 \n",
       "  \"/>\n",
       "<polyline clip-path=\"url(#clip360)\" style=\"stroke:#000000; stroke-width:4; stroke-opacity:1; fill:none\" points=\"\n",
       "  742.481,1423.18 742.481,1407.58 \n",
       "  \"/>\n",
       "<polyline clip-path=\"url(#clip360)\" style=\"stroke:#000000; stroke-width:4; stroke-opacity:1; fill:none\" points=\"\n",
       "  1279.24,1423.18 1279.24,1407.58 \n",
       "  \"/>\n",
       "<polyline clip-path=\"url(#clip360)\" style=\"stroke:#000000; stroke-width:4; stroke-opacity:1; fill:none\" points=\"\n",
       "  1816,1423.18 1816,1407.58 \n",
       "  \"/>\n",
       "<polyline clip-path=\"url(#clip360)\" style=\"stroke:#000000; stroke-width:4; stroke-opacity:1; fill:none\" points=\"\n",
       "  2352.76,1423.18 2352.76,1407.58 \n",
       "  \"/>\n",
       "<path clip-path=\"url(#clip360)\" d=\"M 0 0 M178.177 1467.02 L207.852 1467.02 L207.852 1470.96 L178.177 1470.96 L178.177 1467.02 Z\" fill=\"#000000\" fill-rule=\"evenodd\" fill-opacity=\"1\" /><path clip-path=\"url(#clip360)\" d=\"M 0 0 M216.95 1479.92 L233.269 1479.92 L233.269 1483.85 L211.325 1483.85 L211.325 1479.92 Q213.987 1477.16 218.57 1472.53 Q223.176 1467.88 224.357 1466.54 Q226.602 1464.01 227.482 1462.28 Q228.385 1460.52 228.385 1458.83 Q228.385 1456.07 226.44 1454.34 Q224.519 1452.6 221.417 1452.6 Q219.218 1452.6 216.764 1453.37 Q214.334 1454.13 211.556 1455.68 L211.556 1450.96 Q214.38 1449.82 216.834 1449.25 Q219.288 1448.67 221.325 1448.67 Q226.695 1448.67 229.889 1451.35 Q233.084 1454.04 233.084 1458.53 Q233.084 1460.66 232.274 1462.58 Q231.487 1464.48 229.38 1467.07 Q228.801 1467.74 225.7 1470.96 Q222.598 1474.15 216.95 1479.92 Z\" fill=\"#000000\" fill-rule=\"evenodd\" fill-opacity=\"1\" /><path clip-path=\"url(#clip360)\" d=\"M 0 0 M714.75 1467.02 L744.426 1467.02 L744.426 1470.96 L714.75 1470.96 L714.75 1467.02 Z\" fill=\"#000000\" fill-rule=\"evenodd\" fill-opacity=\"1\" /><path clip-path=\"url(#clip360)\" d=\"M 0 0 M750.305 1479.92 L757.944 1479.92 L757.944 1453.55 L749.634 1455.22 L749.634 1450.96 L757.898 1449.29 L762.574 1449.29 L762.574 1479.92 L770.212 1479.92 L770.212 1483.85 L750.305 1483.85 L750.305 1479.92 Z\" fill=\"#000000\" fill-rule=\"evenodd\" fill-opacity=\"1\" /><path clip-path=\"url(#clip360)\" d=\"M 0 0 M1279.24 1452.37 Q1275.63 1452.37 1273.8 1455.94 Q1271.99 1459.48 1271.99 1466.61 Q1271.99 1473.71 1273.8 1477.28 Q1275.63 1480.82 1279.24 1480.82 Q1282.87 1480.82 1284.68 1477.28 Q1286.51 1473.71 1286.51 1466.61 Q1286.51 1459.48 1284.68 1455.94 Q1282.87 1452.37 1279.24 1452.37 M1279.24 1448.67 Q1285.05 1448.67 1288.11 1453.27 Q1291.18 1457.86 1291.18 1466.61 Q1291.18 1475.33 1288.11 1479.94 Q1285.05 1484.52 1279.24 1484.52 Q1273.43 1484.52 1270.35 1479.94 Q1267.29 1475.33 1267.29 1466.61 Q1267.29 1457.86 1270.35 1453.27 Q1273.43 1448.67 1279.24 1448.67 Z\" fill=\"#000000\" fill-rule=\"evenodd\" fill-opacity=\"1\" /><path clip-path=\"url(#clip360)\" d=\"M 0 0 M1806.38 1479.92 L1814.02 1479.92 L1814.02 1453.55 L1805.71 1455.22 L1805.71 1450.96 L1813.97 1449.29 L1818.65 1449.29 L1818.65 1479.92 L1826.29 1479.92 L1826.29 1483.85 L1806.38 1483.85 L1806.38 1479.92 Z\" fill=\"#000000\" fill-rule=\"evenodd\" fill-opacity=\"1\" /><path clip-path=\"url(#clip360)\" d=\"M 0 0 M2347.41 1479.92 L2363.73 1479.92 L2363.73 1483.85 L2341.78 1483.85 L2341.78 1479.92 Q2344.45 1477.16 2349.03 1472.53 Q2353.64 1467.88 2354.82 1466.54 Q2357.06 1464.01 2357.94 1462.28 Q2358.84 1460.52 2358.84 1458.83 Q2358.84 1456.07 2356.9 1454.34 Q2354.98 1452.6 2351.88 1452.6 Q2349.68 1452.6 2347.22 1453.37 Q2344.79 1454.13 2342.02 1455.68 L2342.02 1450.96 Q2344.84 1449.82 2347.29 1449.25 Q2349.75 1448.67 2351.78 1448.67 Q2357.15 1448.67 2360.35 1451.35 Q2363.54 1454.04 2363.54 1458.53 Q2363.54 1460.66 2362.73 1462.58 Q2361.95 1464.48 2359.84 1467.07 Q2359.26 1467.74 2356.16 1470.96 Q2353.06 1474.15 2347.41 1479.92 Z\" fill=\"#000000\" fill-rule=\"evenodd\" fill-opacity=\"1\" /><path clip-path=\"url(#clip360)\" d=\"M 0 0 M1295.85 1520.4 L1282.96 1537.74 L1296.52 1556.04 L1289.62 1556.04 L1279.24 1542.04 L1268.86 1556.04 L1261.96 1556.04 L1275.8 1537.39 L1263.13 1520.4 L1270.04 1520.4 L1279.49 1533.1 L1288.95 1520.4 L1295.85 1520.4 Z\" fill=\"#000000\" fill-rule=\"evenodd\" fill-opacity=\"1\" /><polyline clip-path=\"url(#clip362)\" style=\"stroke:#000000; stroke-width:2; stroke-opacity:0.1; fill:none\" points=\"\n",
       "  205.723,1423.18 2352.76,1423.18 \n",
       "  \"/>\n",
       "<polyline clip-path=\"url(#clip362)\" style=\"stroke:#000000; stroke-width:2; stroke-opacity:0.1; fill:none\" points=\"\n",
       "  205.723,1098.25 2352.76,1098.25 \n",
       "  \"/>\n",
       "<polyline clip-path=\"url(#clip362)\" style=\"stroke:#000000; stroke-width:2; stroke-opacity:0.1; fill:none\" points=\"\n",
       "  205.723,773.326 2352.76,773.326 \n",
       "  \"/>\n",
       "<polyline clip-path=\"url(#clip362)\" style=\"stroke:#000000; stroke-width:2; stroke-opacity:0.1; fill:none\" points=\"\n",
       "  205.723,448.399 2352.76,448.399 \n",
       "  \"/>\n",
       "<polyline clip-path=\"url(#clip362)\" style=\"stroke:#000000; stroke-width:2; stroke-opacity:0.1; fill:none\" points=\"\n",
       "  205.723,123.472 2352.76,123.472 \n",
       "  \"/>\n",
       "<polyline clip-path=\"url(#clip360)\" style=\"stroke:#000000; stroke-width:4; stroke-opacity:1; fill:none\" points=\"\n",
       "  205.723,1423.18 205.723,123.472 \n",
       "  \"/>\n",
       "<polyline clip-path=\"url(#clip360)\" style=\"stroke:#000000; stroke-width:4; stroke-opacity:1; fill:none\" points=\"\n",
       "  205.723,1423.18 231.487,1423.18 \n",
       "  \"/>\n",
       "<polyline clip-path=\"url(#clip360)\" style=\"stroke:#000000; stroke-width:4; stroke-opacity:1; fill:none\" points=\"\n",
       "  205.723,1098.25 231.487,1098.25 \n",
       "  \"/>\n",
       "<polyline clip-path=\"url(#clip360)\" style=\"stroke:#000000; stroke-width:4; stroke-opacity:1; fill:none\" points=\"\n",
       "  205.723,773.326 231.487,773.326 \n",
       "  \"/>\n",
       "<polyline clip-path=\"url(#clip360)\" style=\"stroke:#000000; stroke-width:4; stroke-opacity:1; fill:none\" points=\"\n",
       "  205.723,448.399 231.487,448.399 \n",
       "  \"/>\n",
       "<polyline clip-path=\"url(#clip360)\" style=\"stroke:#000000; stroke-width:4; stroke-opacity:1; fill:none\" points=\"\n",
       "  205.723,123.472 231.487,123.472 \n",
       "  \"/>\n",
       "<path clip-path=\"url(#clip360)\" d=\"M 0 0 M114.631 1423.63 L144.306 1423.63 L144.306 1427.57 L114.631 1427.57 L114.631 1423.63 Z\" fill=\"#000000\" fill-rule=\"evenodd\" fill-opacity=\"1\" /><path clip-path=\"url(#clip360)\" d=\"M 0 0 M153.403 1436.52 L169.723 1436.52 L169.723 1440.46 L147.778 1440.46 L147.778 1436.52 Q150.441 1433.77 155.024 1429.14 Q159.63 1424.49 160.811 1423.15 Q163.056 1420.62 163.936 1418.89 Q164.839 1417.13 164.839 1415.44 Q164.839 1412.68 162.894 1410.95 Q160.973 1409.21 157.871 1409.21 Q155.672 1409.21 153.218 1409.97 Q150.788 1410.74 148.01 1412.29 L148.01 1407.57 Q150.834 1406.43 153.288 1405.85 Q155.741 1405.27 157.778 1405.27 Q163.149 1405.27 166.343 1407.96 Q169.538 1410.65 169.538 1415.14 Q169.538 1417.27 168.727 1419.19 Q167.94 1421.08 165.834 1423.68 Q165.255 1424.35 162.153 1427.57 Q159.052 1430.76 153.403 1436.52 Z\" fill=\"#000000\" fill-rule=\"evenodd\" fill-opacity=\"1\" /><path clip-path=\"url(#clip360)\" d=\"M 0 0 M114.26 1098.7 L143.936 1098.7 L143.936 1102.64 L114.26 1102.64 L114.26 1098.7 Z\" fill=\"#000000\" fill-rule=\"evenodd\" fill-opacity=\"1\" /><path clip-path=\"url(#clip360)\" d=\"M 0 0 M149.816 1111.6 L157.454 1111.6 L157.454 1085.23 L149.144 1086.9 L149.144 1082.64 L157.408 1080.97 L162.084 1080.97 L162.084 1111.6 L169.723 1111.6 L169.723 1115.53 L149.816 1115.53 L149.816 1111.6 Z\" fill=\"#000000\" fill-rule=\"evenodd\" fill-opacity=\"1\" /><path clip-path=\"url(#clip360)\" d=\"M 0 0 M157.778 759.125 Q154.167 759.125 152.339 762.689 Q150.533 766.231 150.533 773.361 Q150.533 780.467 152.339 784.032 Q154.167 787.574 157.778 787.574 Q161.413 787.574 163.218 784.032 Q165.047 780.467 165.047 773.361 Q165.047 766.231 163.218 762.689 Q161.413 759.125 157.778 759.125 M157.778 755.421 Q163.589 755.421 166.644 760.027 Q169.723 764.611 169.723 773.361 Q169.723 782.088 166.644 786.694 Q163.589 791.277 157.778 791.277 Q151.968 791.277 148.89 786.694 Q145.834 782.088 145.834 773.361 Q145.834 764.611 148.89 760.027 Q151.968 755.421 157.778 755.421 Z\" fill=\"#000000\" fill-rule=\"evenodd\" fill-opacity=\"1\" /><path clip-path=\"url(#clip360)\" d=\"M 0 0 M149.816 461.744 L157.454 461.744 L157.454 435.378 L149.144 437.045 L149.144 432.786 L157.408 431.119 L162.084 431.119 L162.084 461.744 L169.723 461.744 L169.723 465.679 L149.816 465.679 L149.816 461.744 Z\" fill=\"#000000\" fill-rule=\"evenodd\" fill-opacity=\"1\" /><path clip-path=\"url(#clip360)\" d=\"M 0 0 M153.403 136.817 L169.723 136.817 L169.723 140.752 L147.778 140.752 L147.778 136.817 Q150.441 134.062 155.024 129.433 Q159.63 124.78 160.811 123.437 Q163.056 120.914 163.936 119.178 Q164.839 117.419 164.839 115.729 Q164.839 112.974 162.894 111.238 Q160.973 109.502 157.871 109.502 Q155.672 109.502 153.218 110.266 Q150.788 111.03 148.01 112.581 L148.01 107.859 Q150.834 106.725 153.288 106.146 Q155.741 105.567 157.778 105.567 Q163.149 105.567 166.343 108.252 Q169.538 110.937 169.538 115.428 Q169.538 117.558 168.727 119.479 Q167.94 121.377 165.834 123.97 Q165.255 124.641 162.153 127.859 Q159.052 131.053 153.403 136.817 Z\" fill=\"#000000\" fill-rule=\"evenodd\" fill-opacity=\"1\" /><path clip-path=\"url(#clip360)\" d=\"M 0 0 M91.3143 771.639 Q97.68 774.122 99.6216 776.477 Q101.563 778.832 101.563 782.779 L101.563 787.458 L96.6615 787.458 L96.6615 784.02 Q96.6615 781.601 95.5157 780.265 Q94.3699 778.928 90.1048 777.305 L87.4312 776.254 L52.3562 790.673 L52.3562 784.466 L80.238 773.326 L52.3562 762.186 L52.3562 755.979 L91.3143 771.639 Z\" fill=\"#000000\" fill-rule=\"evenodd\" fill-opacity=\"1\" /><path clip-path=\"url(#clip360)\" d=\"M 0 0 M707.414 14.0809 L707.414 22.0612 Q702.755 19.8332 698.623 18.7395 Q694.491 17.6457 690.643 17.6457 Q683.959 17.6457 680.313 20.2383 Q676.708 22.8309 676.708 27.611 Q676.708 31.6214 679.098 33.6873 Q681.528 35.7128 688.253 36.9686 L693.195 37.9813 Q702.35 39.7232 706.685 44.1387 Q711.06 48.5136 711.06 55.8863 Q711.06 64.6767 705.145 69.2137 Q699.271 73.7508 687.888 73.7508 Q683.594 73.7508 678.733 72.7785 Q673.913 71.8063 668.728 69.9024 L668.728 61.4765 Q673.71 64.2716 678.49 65.6895 Q683.27 67.1073 687.888 67.1073 Q694.896 67.1073 698.704 64.3527 Q702.512 61.598 702.512 56.4939 Q702.512 52.0379 699.758 49.5264 Q697.043 47.0148 690.805 45.759 L685.822 44.7868 Q676.667 42.9639 672.576 39.075 Q668.485 35.1862 668.485 28.2591 Q668.485 20.2383 674.115 15.6203 Q679.787 11.0023 689.711 11.0023 Q693.965 11.0023 698.38 11.7719 Q702.796 12.5416 707.414 14.0809 Z\" fill=\"#000000\" fill-rule=\"evenodd\" fill-opacity=\"1\" /><path clip-path=\"url(#clip360)\" d=\"M 0 0 M718.878 27.2059 L726.331 27.2059 L726.331 72.576 L718.878 72.576 L718.878 27.2059 M718.878 9.54393 L726.331 9.54393 L726.331 18.9825 L718.878 18.9825 L718.878 9.54393 Z\" fill=\"#000000\" fill-rule=\"evenodd\" fill-opacity=\"1\" /><path clip-path=\"url(#clip360)\" d=\"M 0 0 M763.073 28.5427 L763.073 35.5912 Q759.913 33.9709 756.511 33.1607 Q753.108 32.3505 749.462 32.3505 Q743.912 32.3505 741.117 34.0519 Q738.363 35.7533 738.363 39.156 Q738.363 41.7486 740.348 43.2475 Q742.333 44.7058 748.328 46.0426 L750.88 46.6097 Q758.82 48.3111 762.141 51.4303 Q765.504 54.509 765.504 60.0587 Q765.504 66.3781 760.481 70.0644 Q755.498 73.7508 746.748 73.7508 Q743.102 73.7508 739.132 73.0216 Q735.203 72.3329 730.828 70.9151 L730.828 63.2184 Q734.96 65.3654 738.97 66.4591 Q742.981 67.5124 746.91 67.5124 Q752.176 67.5124 755.012 65.73 Q757.847 63.9071 757.847 60.6258 Q757.847 57.5877 755.782 55.9673 Q753.756 54.3469 746.829 52.8481 L744.236 52.2405 Q737.309 50.7821 734.231 47.7845 Q731.152 44.7463 731.152 39.4801 Q731.152 33.0797 735.689 29.5959 Q740.226 26.1121 748.571 26.1121 Q752.703 26.1121 756.349 26.7198 Q759.994 27.3274 763.073 28.5427 Z\" fill=\"#000000\" fill-rule=\"evenodd\" fill-opacity=\"1\" /><path clip-path=\"url(#clip360)\" d=\"M 0 0 M780.695 14.324 L780.695 27.2059 L796.048 27.2059 L796.048 32.9987 L780.695 32.9987 L780.695 57.6282 Q780.695 63.1779 782.193 64.7578 Q783.733 66.3376 788.391 66.3376 L796.048 66.3376 L796.048 72.576 L788.391 72.576 Q779.763 72.576 776.482 69.3758 Q773.2 66.1351 773.2 57.6282 L773.2 32.9987 L767.732 32.9987 L767.732 27.2059 L773.2 27.2059 L773.2 14.324 L780.695 14.324 Z\" fill=\"#000000\" fill-rule=\"evenodd\" fill-opacity=\"1\" /><path clip-path=\"url(#clip360)\" d=\"M 0 0 M842.673 48.0275 L842.673 51.6733 L808.403 51.6733 Q808.889 59.3701 813.021 63.421 Q817.193 67.4314 824.606 67.4314 Q828.9 67.4314 832.911 66.3781 Q836.962 65.3249 840.932 63.2184 L840.932 70.267 Q836.921 71.9684 832.708 72.8596 Q828.495 73.7508 824.161 73.7508 Q813.304 73.7508 806.944 67.4314 Q800.625 61.1119 800.625 50.3365 Q800.625 39.1965 806.62 32.6746 Q812.656 26.1121 822.864 26.1121 Q832.02 26.1121 837.326 32.0264 Q842.673 37.9003 842.673 48.0275 M835.22 45.84 Q835.139 39.7232 831.776 36.0774 Q828.455 32.4315 822.946 32.4315 Q816.707 32.4315 812.94 35.9558 Q809.213 39.4801 808.646 45.8805 L835.22 45.84 Z\" fill=\"#000000\" fill-rule=\"evenodd\" fill-opacity=\"1\" /><path clip-path=\"url(#clip360)\" d=\"M 0 0 M885.816 35.9153 Q888.611 30.8922 892.5 28.5022 Q896.388 26.1121 901.655 26.1121 Q908.744 26.1121 912.592 31.0947 Q916.44 36.0368 916.44 45.1919 L916.44 72.576 L908.946 72.576 L908.946 45.4349 Q908.946 38.913 906.637 35.7533 Q904.328 32.5936 899.589 32.5936 Q893.796 32.5936 890.434 36.4419 Q887.071 40.2903 887.071 46.9338 L887.071 72.576 L879.577 72.576 L879.577 45.4349 Q879.577 38.8725 877.268 35.7533 Q874.959 32.5936 870.139 32.5936 Q864.427 32.5936 861.065 36.4824 Q857.702 40.3308 857.702 46.9338 L857.702 72.576 L850.208 72.576 L850.208 27.2059 L857.702 27.2059 L857.702 34.2544 Q860.254 30.082 863.819 28.0971 Q867.384 26.1121 872.286 26.1121 Q877.228 26.1121 880.671 28.6237 Q884.155 31.1352 885.816 35.9153 Z\" fill=\"#000000\" fill-rule=\"evenodd\" fill-opacity=\"1\" /><path clip-path=\"url(#clip360)\" d=\"M 0 0 M944.878 49.7694 Q935.844 49.7694 932.36 51.8354 Q928.877 53.9013 928.877 58.8839 Q928.877 62.8538 931.469 65.2034 Q934.102 67.5124 938.599 67.5124 Q944.797 67.5124 948.524 63.1374 Q952.291 58.7219 952.291 51.4303 L952.291 49.7694 L944.878 49.7694 M959.745 46.6907 L959.745 72.576 L952.291 72.576 L952.291 65.6895 Q949.739 69.8214 945.931 71.8063 Q942.123 73.7508 936.614 73.7508 Q929.646 73.7508 925.514 69.8619 Q921.423 65.9325 921.423 59.3701 Q921.423 51.7138 926.527 47.825 Q931.672 43.9361 941.84 43.9361 L952.291 43.9361 L952.291 43.2069 Q952.291 38.0623 948.888 35.2672 Q945.526 32.4315 939.409 32.4315 Q935.52 32.4315 931.834 33.3632 Q928.147 34.295 924.745 36.1584 L924.745 29.2718 Q928.836 27.692 932.685 26.9223 Q936.533 26.1121 940.179 26.1121 Q950.022 26.1121 954.883 31.2163 Q959.745 36.3204 959.745 46.6907 Z\" fill=\"#000000\" fill-rule=\"evenodd\" fill-opacity=\"1\" /><path clip-path=\"url(#clip360)\" d=\"M 0 0 M1014.47 20.1573 L1003.37 50.2555 L1025.61 50.2555 L1014.47 20.1573 M1009.85 12.096 L1019.13 12.096 L1042.18 72.576 L1033.67 72.576 L1028.16 57.061 L1000.9 57.061 L995.393 72.576 L986.764 72.576 L1009.85 12.096 Z\" fill=\"#000000\" fill-rule=\"evenodd\" fill-opacity=\"1\" /><path clip-path=\"url(#clip360)\" d=\"M 0 0 M1078.92 28.5427 L1078.92 35.5912 Q1075.76 33.9709 1072.36 33.1607 Q1068.96 32.3505 1065.31 32.3505 Q1059.76 32.3505 1056.97 34.0519 Q1054.21 35.7533 1054.21 39.156 Q1054.21 41.7486 1056.2 43.2475 Q1058.18 44.7058 1064.18 46.0426 L1066.73 46.6097 Q1074.67 48.3111 1077.99 51.4303 Q1081.35 54.509 1081.35 60.0587 Q1081.35 66.3781 1076.33 70.0644 Q1071.35 73.7508 1062.6 73.7508 Q1058.95 73.7508 1054.98 73.0216 Q1051.05 72.3329 1046.68 70.9151 L1046.68 63.2184 Q1050.81 65.3654 1054.82 66.4591 Q1058.83 67.5124 1062.76 67.5124 Q1068.03 67.5124 1070.86 65.73 Q1073.7 63.9071 1073.7 60.6258 Q1073.7 57.5877 1071.63 55.9673 Q1069.61 54.3469 1062.68 52.8481 L1060.09 52.2405 Q1053.16 50.7821 1050.08 47.7845 Q1047 44.7463 1047 39.4801 Q1047 33.0797 1051.54 29.5959 Q1056.08 26.1121 1064.42 26.1121 Q1068.55 26.1121 1072.2 26.7198 Q1075.84 27.3274 1078.92 28.5427 Z\" fill=\"#000000\" fill-rule=\"evenodd\" fill-opacity=\"1\" /><path clip-path=\"url(#clip360)\" d=\"M 0 0 M1096.54 14.324 L1096.54 27.2059 L1111.9 27.2059 L1111.9 32.9987 L1096.54 32.9987 L1096.54 57.6282 Q1096.54 63.1779 1098.04 64.7578 Q1099.58 66.3376 1104.24 66.3376 L1111.9 66.3376 L1111.9 72.576 L1104.24 72.576 Q1095.61 72.576 1092.33 69.3758 Q1089.05 66.1351 1089.05 57.6282 L1089.05 32.9987 L1083.58 32.9987 L1083.58 27.2059 L1089.05 27.2059 L1089.05 14.324 L1096.54 14.324 Z\" fill=\"#000000\" fill-rule=\"evenodd\" fill-opacity=\"1\" /><path clip-path=\"url(#clip360)\" d=\"M 0 0 M1146.01 34.1734 Q1144.75 33.4443 1143.25 33.1202 Q1141.79 32.7556 1140.01 32.7556 Q1133.69 32.7556 1130.29 36.8875 Q1126.93 40.9789 1126.93 48.6757 L1126.93 72.576 L1119.43 72.576 L1119.43 27.2059 L1126.93 27.2059 L1126.93 34.2544 Q1129.27 30.1225 1133.04 28.1376 Q1136.81 26.1121 1142.2 26.1121 Q1142.97 26.1121 1143.9 26.2337 Q1144.83 26.3147 1145.96 26.5172 L1146.01 34.1734 Z\" fill=\"#000000\" fill-rule=\"evenodd\" fill-opacity=\"1\" /><path clip-path=\"url(#clip360)\" d=\"M 0 0 M1169.58 32.4315 Q1163.59 32.4315 1160.1 37.1306 Q1156.62 41.7891 1156.62 49.9314 Q1156.62 58.0738 1160.06 62.7728 Q1163.55 67.4314 1169.58 67.4314 Q1175.54 67.4314 1179.02 62.7323 Q1182.5 58.0333 1182.5 49.9314 Q1182.5 41.8701 1179.02 37.1711 Q1175.54 32.4315 1169.58 32.4315 M1169.58 26.1121 Q1179.3 26.1121 1184.85 32.4315 Q1190.4 38.7509 1190.4 49.9314 Q1190.4 61.0714 1184.85 67.4314 Q1179.3 73.7508 1169.58 73.7508 Q1159.82 73.7508 1154.27 67.4314 Q1148.76 61.0714 1148.76 49.9314 Q1148.76 38.7509 1154.27 32.4315 Q1159.82 26.1121 1169.58 26.1121 Z\" fill=\"#000000\" fill-rule=\"evenodd\" fill-opacity=\"1\" /><path clip-path=\"url(#clip360)\" d=\"M 0 0 M1235.94 45.1919 L1235.94 72.576 L1228.48 72.576 L1228.48 45.4349 Q1228.48 38.994 1225.97 35.7938 Q1223.46 32.5936 1218.44 32.5936 Q1212.4 32.5936 1208.92 36.4419 Q1205.43 40.2903 1205.43 46.9338 L1205.43 72.576 L1197.94 72.576 L1197.94 27.2059 L1205.43 27.2059 L1205.43 34.2544 Q1208.11 30.163 1211.71 28.1376 Q1215.36 26.1121 1220.1 26.1121 Q1227.91 26.1121 1231.92 30.9732 Q1235.94 35.7938 1235.94 45.1919 Z\" fill=\"#000000\" fill-rule=\"evenodd\" fill-opacity=\"1\" /><path clip-path=\"url(#clip360)\" d=\"M 0 0 M1264.37 49.7694 Q1255.34 49.7694 1251.86 51.8354 Q1248.37 53.9013 1248.37 58.8839 Q1248.37 62.8538 1250.96 65.2034 Q1253.6 67.5124 1258.09 67.5124 Q1264.29 67.5124 1268.02 63.1374 Q1271.79 58.7219 1271.79 51.4303 L1271.79 49.7694 L1264.37 49.7694 M1279.24 46.6907 L1279.24 72.576 L1271.79 72.576 L1271.79 65.6895 Q1269.23 69.8214 1265.43 71.8063 Q1261.62 73.7508 1256.11 73.7508 Q1249.14 73.7508 1245.01 69.8619 Q1240.92 65.9325 1240.92 59.3701 Q1240.92 51.7138 1246.02 47.825 Q1251.17 43.9361 1261.33 43.9361 L1271.79 43.9361 L1271.79 43.2069 Q1271.79 38.0623 1268.38 35.2672 Q1265.02 32.4315 1258.9 32.4315 Q1255.01 32.4315 1251.33 33.3632 Q1247.64 34.295 1244.24 36.1584 L1244.24 29.2718 Q1248.33 27.692 1252.18 26.9223 Q1256.03 26.1121 1259.67 26.1121 Q1269.52 26.1121 1274.38 31.2163 Q1279.24 36.3204 1279.24 46.6907 Z\" fill=\"#000000\" fill-rule=\"evenodd\" fill-opacity=\"1\" /><path clip-path=\"url(#clip360)\" d=\"M 0 0 M1286.29 54.671 L1286.29 27.2059 L1293.74 27.2059 L1293.74 54.3874 Q1293.74 60.8284 1296.25 64.0691 Q1298.76 67.2693 1303.79 67.2693 Q1309.82 67.2693 1313.31 63.421 Q1316.83 59.5726 1316.83 52.9291 L1316.83 27.2059 L1324.29 27.2059 L1324.29 72.576 L1316.83 72.576 L1316.83 65.6084 Q1314.12 69.7404 1310.51 71.7658 Q1306.95 73.7508 1302.21 73.7508 Q1294.39 73.7508 1290.34 68.8897 Q1286.29 64.0286 1286.29 54.671 M1305.04 26.1121 L1305.04 26.1121 Z\" fill=\"#000000\" fill-rule=\"evenodd\" fill-opacity=\"1\" /><path clip-path=\"url(#clip360)\" d=\"M 0 0 M1339.48 14.324 L1339.48 27.2059 L1354.83 27.2059 L1354.83 32.9987 L1339.48 32.9987 L1339.48 57.6282 Q1339.48 63.1779 1340.98 64.7578 Q1342.51 66.3376 1347.17 66.3376 L1354.83 66.3376 L1354.83 72.576 L1347.17 72.576 Q1338.54 72.576 1335.26 69.3758 Q1331.98 66.1351 1331.98 57.6282 L1331.98 32.9987 L1326.51 32.9987 L1326.51 27.2059 L1331.98 27.2059 L1331.98 14.324 L1339.48 14.324 Z\" fill=\"#000000\" fill-rule=\"evenodd\" fill-opacity=\"1\" /><path clip-path=\"url(#clip360)\" d=\"M 0 0 M1383.27 49.7694 Q1374.23 49.7694 1370.75 51.8354 Q1367.27 53.9013 1367.27 58.8839 Q1367.27 62.8538 1369.86 65.2034 Q1372.49 67.5124 1376.99 67.5124 Q1383.19 67.5124 1386.91 63.1374 Q1390.68 58.7219 1390.68 51.4303 L1390.68 49.7694 L1383.27 49.7694 M1398.13 46.6907 L1398.13 72.576 L1390.68 72.576 L1390.68 65.6895 Q1388.13 69.8214 1384.32 71.8063 Q1380.51 73.7508 1375 73.7508 Q1368.04 73.7508 1363.9 69.8619 Q1359.81 65.9325 1359.81 59.3701 Q1359.81 51.7138 1364.92 47.825 Q1370.06 43.9361 1380.23 43.9361 L1390.68 43.9361 L1390.68 43.2069 Q1390.68 38.0623 1387.28 35.2672 Q1383.91 32.4315 1377.8 32.4315 Q1373.91 32.4315 1370.22 33.3632 Q1366.54 34.295 1363.13 36.1584 L1363.13 29.2718 Q1367.23 27.692 1371.07 26.9223 Q1374.92 26.1121 1378.57 26.1121 Q1388.41 26.1121 1393.27 31.2163 Q1398.13 36.3204 1398.13 46.6907 Z\" fill=\"#000000\" fill-rule=\"evenodd\" fill-opacity=\"1\" /><path clip-path=\"url(#clip360)\" d=\"M 0 0 M1402.18 46.5287 L1424.02 46.5287 L1424.02 53.1722 L1402.18 53.1722 L1402.18 46.5287 Z\" fill=\"#000000\" fill-rule=\"evenodd\" fill-opacity=\"1\" /><path clip-path=\"url(#clip360)\" d=\"M 0 0 M1432.16 12.096 L1440.34 12.096 L1440.34 36.8875 L1470.08 36.8875 L1470.08 12.096 L1478.26 12.096 L1478.26 72.576 L1470.08 72.576 L1470.08 43.7741 L1440.34 43.7741 L1440.34 72.576 L1432.16 72.576 L1432.16 12.096 Z\" fill=\"#000000\" fill-rule=\"evenodd\" fill-opacity=\"1\" /><path clip-path=\"url(#clip360)\" d=\"M 0 0 M1524.89 48.0275 L1524.89 51.6733 L1490.62 51.6733 Q1491.1 59.3701 1495.23 63.421 Q1499.41 67.4314 1506.82 67.4314 Q1511.11 67.4314 1515.12 66.3781 Q1519.17 65.3249 1523.14 63.2184 L1523.14 70.267 Q1519.13 71.9684 1514.92 72.8596 Q1510.71 73.7508 1506.37 73.7508 Q1495.52 73.7508 1489.16 67.4314 Q1482.84 61.1119 1482.84 50.3365 Q1482.84 39.1965 1488.83 32.6746 Q1494.87 26.1121 1505.08 26.1121 Q1514.23 26.1121 1519.54 32.0264 Q1524.89 37.9003 1524.89 48.0275 M1517.43 45.84 Q1517.35 39.7232 1513.99 36.0774 Q1510.67 32.4315 1505.16 32.4315 Q1498.92 32.4315 1495.15 35.9558 Q1491.43 39.4801 1490.86 45.8805 L1517.43 45.84 Z\" fill=\"#000000\" fill-rule=\"evenodd\" fill-opacity=\"1\" /><path clip-path=\"url(#clip360)\" d=\"M 0 0 M1558.99 34.1734 Q1557.74 33.4443 1556.24 33.1202 Q1554.78 32.7556 1553 32.7556 Q1546.68 32.7556 1543.28 36.8875 Q1539.92 40.9789 1539.92 48.6757 L1539.92 72.576 L1532.42 72.576 L1532.42 27.2059 L1539.92 27.2059 L1539.92 34.2544 Q1542.26 30.1225 1546.03 28.1376 Q1549.8 26.1121 1555.19 26.1121 Q1555.96 26.1121 1556.89 26.2337 Q1557.82 26.3147 1558.95 26.5172 L1558.99 34.1734 Z\" fill=\"#000000\" fill-rule=\"evenodd\" fill-opacity=\"1\" /><path clip-path=\"url(#clip360)\" d=\"M 0 0 M1591.65 34.1734 Q1590.39 33.4443 1588.89 33.1202 Q1587.43 32.7556 1585.65 32.7556 Q1579.33 32.7556 1575.93 36.8875 Q1572.57 40.9789 1572.57 48.6757 L1572.57 72.576 L1565.07 72.576 L1565.07 27.2059 L1572.57 27.2059 L1572.57 34.2544 Q1574.91 30.1225 1578.68 28.1376 Q1582.45 26.1121 1587.84 26.1121 Q1588.61 26.1121 1589.54 26.2337 Q1590.47 26.3147 1591.6 26.5172 L1591.65 34.1734 Z\" fill=\"#000000\" fill-rule=\"evenodd\" fill-opacity=\"1\" /><path clip-path=\"url(#clip360)\" d=\"M 0 0 M1620.08 49.7694 Q1611.05 49.7694 1607.57 51.8354 Q1604.08 53.9013 1604.08 58.8839 Q1604.08 62.8538 1606.67 65.2034 Q1609.31 67.5124 1613.8 67.5124 Q1620 67.5124 1623.73 63.1374 Q1627.5 58.7219 1627.5 51.4303 L1627.5 49.7694 L1620.08 49.7694 M1634.95 46.6907 L1634.95 72.576 L1627.5 72.576 L1627.5 65.6895 Q1624.94 69.8214 1621.14 71.8063 Q1617.33 73.7508 1611.82 73.7508 Q1604.85 73.7508 1600.72 69.8619 Q1596.63 65.9325 1596.63 59.3701 Q1596.63 51.7138 1601.73 47.825 Q1606.88 43.9361 1617.04 43.9361 L1627.5 43.9361 L1627.5 43.2069 Q1627.5 38.0623 1624.09 35.2672 Q1620.73 32.4315 1614.61 32.4315 Q1610.72 32.4315 1607.04 33.3632 Q1603.35 34.295 1599.95 36.1584 L1599.95 29.2718 Q1604.04 27.692 1607.89 26.9223 Q1611.74 26.1121 1615.38 26.1121 Q1625.23 26.1121 1630.09 31.2163 Q1634.95 36.3204 1634.95 46.6907 Z\" fill=\"#000000\" fill-rule=\"evenodd\" fill-opacity=\"1\" /><path clip-path=\"url(#clip360)\" d=\"M 0 0 M1678.09 35.9153 Q1680.89 30.8922 1684.78 28.5022 Q1688.66 26.1121 1693.93 26.1121 Q1701.02 26.1121 1704.87 31.0947 Q1708.72 36.0368 1708.72 45.1919 L1708.72 72.576 L1701.22 72.576 L1701.22 45.4349 Q1701.22 38.913 1698.91 35.7533 Q1696.6 32.5936 1691.86 32.5936 Q1686.07 32.5936 1682.71 36.4419 Q1679.35 40.2903 1679.35 46.9338 L1679.35 72.576 L1671.85 72.576 L1671.85 45.4349 Q1671.85 38.8725 1669.54 35.7533 Q1667.23 32.5936 1662.41 32.5936 Q1656.7 32.5936 1653.34 36.4824 Q1649.98 40.3308 1649.98 46.9338 L1649.98 72.576 L1642.48 72.576 L1642.48 27.2059 L1649.98 27.2059 L1649.98 34.2544 Q1652.53 30.082 1656.09 28.0971 Q1659.66 26.1121 1664.56 26.1121 Q1669.5 26.1121 1672.95 28.6237 Q1676.43 31.1352 1678.09 35.9153 Z\" fill=\"#000000\" fill-rule=\"evenodd\" fill-opacity=\"1\" /><path clip-path=\"url(#clip360)\" d=\"M 0 0 M1716.53 27.2059 L1723.99 27.2059 L1723.99 72.576 L1716.53 72.576 L1716.53 27.2059 M1716.53 9.54393 L1723.99 9.54393 L1723.99 18.9825 L1716.53 18.9825 L1716.53 9.54393 Z\" fill=\"#000000\" fill-rule=\"evenodd\" fill-opacity=\"1\" /><path clip-path=\"url(#clip360)\" d=\"M 0 0 M1770.61 48.0275 L1770.61 51.6733 L1736.34 51.6733 Q1736.83 59.3701 1740.96 63.421 Q1745.13 67.4314 1752.55 67.4314 Q1756.84 67.4314 1760.85 66.3781 Q1764.9 65.3249 1768.87 63.2184 L1768.87 70.267 Q1764.86 71.9684 1760.65 72.8596 Q1756.44 73.7508 1752.1 73.7508 Q1741.24 73.7508 1734.89 67.4314 Q1728.57 61.1119 1728.57 50.3365 Q1728.57 39.1965 1734.56 32.6746 Q1740.6 26.1121 1750.81 26.1121 Q1759.96 26.1121 1765.27 32.0264 Q1770.61 37.9003 1770.61 48.0275 M1763.16 45.84 Q1763.08 39.7232 1759.72 36.0774 Q1756.4 32.4315 1750.89 32.4315 Q1744.65 32.4315 1740.88 35.9558 Q1737.15 39.4801 1736.59 45.8805 L1763.16 45.84 Z\" fill=\"#000000\" fill-rule=\"evenodd\" fill-opacity=\"1\" /><path clip-path=\"url(#clip360)\" d=\"M 0 0 M1816.15 45.1919 L1816.15 72.576 L1808.69 72.576 L1808.69 45.4349 Q1808.69 38.994 1806.18 35.7938 Q1803.67 32.5936 1798.65 32.5936 Q1792.61 32.5936 1789.13 36.4419 Q1785.64 40.2903 1785.64 46.9338 L1785.64 72.576 L1778.15 72.576 L1778.15 27.2059 L1785.64 27.2059 L1785.64 34.2544 Q1788.32 30.163 1791.92 28.1376 Q1795.57 26.1121 1800.31 26.1121 Q1808.13 26.1121 1812.14 30.9732 Q1816.15 35.7938 1816.15 45.1919 Z\" fill=\"#000000\" fill-rule=\"evenodd\" fill-opacity=\"1\" /><path clip-path=\"url(#clip360)\" d=\"M 0 0 M1831.34 14.324 L1831.34 27.2059 L1846.69 27.2059 L1846.69 32.9987 L1831.34 32.9987 L1831.34 57.6282 Q1831.34 63.1779 1832.84 64.7578 Q1834.38 66.3376 1839.03 66.3376 L1846.69 66.3376 L1846.69 72.576 L1839.03 72.576 Q1830.41 72.576 1827.12 69.3758 Q1823.84 66.1351 1823.84 57.6282 L1823.84 32.9987 L1818.37 32.9987 L1818.37 27.2059 L1823.84 27.2059 L1823.84 14.324 L1831.34 14.324 Z\" fill=\"#000000\" fill-rule=\"evenodd\" fill-opacity=\"1\" /><path clip-path=\"url(#clip360)\" d=\"M 0 0 M1875.13 49.7694 Q1866.09 49.7694 1862.61 51.8354 Q1859.13 53.9013 1859.13 58.8839 Q1859.13 62.8538 1861.72 65.2034 Q1864.35 67.5124 1868.85 67.5124 Q1875.05 67.5124 1878.77 63.1374 Q1882.54 58.7219 1882.54 51.4303 L1882.54 49.7694 L1875.13 49.7694 M1889.99 46.6907 L1889.99 72.576 L1882.54 72.576 L1882.54 65.6895 Q1879.99 69.8214 1876.18 71.8063 Q1872.37 73.7508 1866.86 73.7508 Q1859.9 73.7508 1855.76 69.8619 Q1851.67 65.9325 1851.67 59.3701 Q1851.67 51.7138 1856.78 47.825 Q1861.92 43.9361 1872.09 43.9361 L1882.54 43.9361 L1882.54 43.2069 Q1882.54 38.0623 1879.14 35.2672 Q1875.78 32.4315 1869.66 32.4315 Q1865.77 32.4315 1862.08 33.3632 Q1858.4 34.295 1854.99 36.1584 L1854.99 29.2718 Q1859.09 27.692 1862.93 26.9223 Q1866.78 26.1121 1870.43 26.1121 Q1880.27 26.1121 1885.13 31.2163 Q1889.99 36.3204 1889.99 46.6907 Z\" fill=\"#000000\" fill-rule=\"evenodd\" fill-opacity=\"1\" /><polyline clip-path=\"url(#clip362)\" style=\"stroke:#009af9; stroke-width:4; stroke-opacity:1; fill:none\" points=\"\n",
       "  1816,773.326 1752.79,617.043 1574.35,498.285 1324.68,445.133 1063.59,469.534 852.277,565.068 739.178,709.008 749.295,868.012 879.234,1006 1098.85,1092.33 \n",
       "  1358.81,1108.44 1602.01,1051.51 1776.21,934.519 1844.98,782.948 1794.8,629.031 1637.14,504.851 1405.37,435.782 1147.38,435.534 915.596,503.686 756.395,626.103 \n",
       "  700.997,778.056 759.648,929.351 920.08,1050.39 1150.44,1117.91 1405.96,1119.35 1637.8,1054.95 1802.44,937.348 1869.64,788.919 1827.66,637.364 1684.94,510.528 \n",
       "  1468.11,431.359 1216.81,413.9 976.349,460.952 789.565,563.791 689.289,703.91 692.727,856.448 798.723,994.668 988.292,1094.65 1228.27,1139.4 1477.29,1121.6 \n",
       "  1693.04,1044.67 1839.39,921.946 1892.31,774.216 1843.57,626.149 1701.75,502.153 1490.56,422.417 1244.7,399.717 1004.15,437.483 807.624,529.381 686.423,660.468 \n",
       "  659.557,809.692 730.874,953.323 888.687,1068.75 1107.86,1138.04 1353.95,1150.63 1588.76,1104.89 1776.28,1008.15 1888.11,875.451 1907.69,727.118 1832.51,585.599 \n",
       "  1674.27,472.09 1456.92,403.414 1212.97,389.6 \n",
       "  \"/>\n",
       "<polyline clip-path=\"url(#clip362)\" style=\"stroke:#e26f46; stroke-width:4; stroke-opacity:1; fill:none\" points=\"\n",
       "  1816,773.326 1752.79,617.043 1574.35,498.285 1324.68,445.133 1063.59,469.534 852.277,565.068 739.178,709.008 749.295,868.012 879.234,1006 1098.85,1092.33 \n",
       "  1358.81,1108.44 1602.01,1051.51 1776.21,934.519 1844.98,782.949 1794.8,629.032 1637.14,504.851 1405.37,435.782 1147.38,435.534 915.596,503.686 756.395,626.102 \n",
       "  700.997,778.055 759.647,929.35 920.08,1050.39 1150.44,1117.91 1405.96,1119.35 1637.8,1054.95 1802.44,937.348 1869.64,788.919 1827.66,637.364 1684.94,510.528 \n",
       "  1468.11,431.36 1216.81,413.9 976.35,460.952 789.566,563.791 689.289,703.909 692.727,856.448 798.722,994.668 988.291,1094.65 1228.26,1139.4 1477.29,1121.6 \n",
       "  1693.04,1044.67 1839.39,921.946 1892.31,774.217 1843.57,626.149 1701.75,502.154 1490.56,422.417 1244.71,399.717 1004.15,437.482 807.624,529.38 686.424,660.467 \n",
       "  659.556,809.691 730.873,953.322 888.686,1068.75 1107.85,1138.04 1353.95,1150.63 1588.76,1104.89 1776.28,1008.15 1888.11,875.451 1907.69,727.119 1832.51,585.6 \n",
       "  1674.27,472.091 1456.92,403.415 1212.97,389.6 \n",
       "  \"/>\n",
       "<circle clip-path=\"url(#clip362)\" cx=\"1279.24\" cy=\"773.326\" r=\"36\" fill=\"#008000\" fill-rule=\"evenodd\" fill-opacity=\"1\" stroke=\"#000000\" stroke-opacity=\"1\" stroke-width=\"3.2\"/>\n",
       "<path clip-path=\"url(#clip360)\" d=\"\n",
       "M1636.36 408.716 L2281.19 408.716 L2281.19 166.796 L1636.36 166.796  Z\n",
       "  \" fill=\"#ffffff\" fill-rule=\"evenodd\" fill-opacity=\"1\"/>\n",
       "<polyline clip-path=\"url(#clip360)\" style=\"stroke:#000000; stroke-width:4; stroke-opacity:1; fill:none\" points=\"\n",
       "  1636.36,408.716 2281.19,408.716 2281.19,166.796 1636.36,166.796 1636.36,408.716 \n",
       "  \"/>\n",
       "<polyline clip-path=\"url(#clip360)\" style=\"stroke:#009af9; stroke-width:4; stroke-opacity:1; fill:none\" points=\"\n",
       "  1660.21,227.276 1803.35,227.276 \n",
       "  \"/>\n",
       "<path clip-path=\"url(#clip360)\" d=\"M 0 0 M1843.22 213.167 Q1838.13 213.167 1835.12 216.963 Q1832.14 220.76 1832.14 227.31 Q1832.14 233.838 1835.12 237.634 Q1838.13 241.431 1843.22 241.431 Q1848.32 241.431 1851.28 237.634 Q1854.27 233.838 1854.27 227.31 Q1854.27 220.76 1851.28 216.963 Q1848.32 213.167 1843.22 213.167 M1843.22 209.371 Q1850.49 209.371 1854.84 214.255 Q1859.2 219.116 1859.2 227.31 Q1859.2 235.482 1854.84 240.366 Q1850.49 245.227 1843.22 245.227 Q1835.93 245.227 1831.56 240.366 Q1827.21 235.505 1827.21 227.31 Q1827.21 219.116 1831.56 214.255 Q1835.93 209.371 1843.22 209.371 Z\" fill=\"#000000\" fill-rule=\"evenodd\" fill-opacity=\"1\" /><path clip-path=\"url(#clip360)\" d=\"M 0 0 M1878.69 222.611 Q1877.97 222.195 1877.11 222.01 Q1876.28 221.801 1875.26 221.801 Q1871.65 221.801 1869.71 224.162 Q1867.78 226.5 1867.78 230.898 L1867.78 244.556 L1863.5 244.556 L1863.5 218.63 L1867.78 218.63 L1867.78 222.658 Q1869.13 220.297 1871.28 219.162 Q1873.43 218.005 1876.51 218.005 Q1876.95 218.005 1877.48 218.074 Q1878.02 218.121 1878.66 218.236 L1878.69 222.611 Z\" fill=\"#000000\" fill-rule=\"evenodd\" fill-opacity=\"1\" /><path clip-path=\"url(#clip360)\" d=\"M 0 0 M1901.77 231.616 Q1901.77 226.917 1899.82 224.255 Q1897.9 221.57 1894.52 221.57 Q1891.14 221.57 1889.2 224.255 Q1887.27 226.917 1887.27 231.616 Q1887.27 236.315 1889.2 239 Q1891.14 241.662 1894.52 241.662 Q1897.9 241.662 1899.82 239 Q1901.77 236.315 1901.77 231.616 M1887.27 222.565 Q1888.62 220.25 1890.65 219.139 Q1892.71 218.005 1895.56 218.005 Q1900.28 218.005 1903.22 221.755 Q1906.19 225.505 1906.19 231.616 Q1906.19 237.727 1903.22 241.477 Q1900.28 245.227 1895.56 245.227 Q1892.71 245.227 1890.65 244.116 Q1888.62 242.982 1887.27 240.667 L1887.27 244.556 L1882.99 244.556 L1882.99 208.537 L1887.27 208.537 L1887.27 222.565 Z\" fill=\"#000000\" fill-rule=\"evenodd\" fill-opacity=\"1\" /><path clip-path=\"url(#clip360)\" d=\"M 0 0 M1910.65 218.63 L1914.91 218.63 L1914.91 244.556 L1910.65 244.556 L1910.65 218.63 M1910.65 208.537 L1914.91 208.537 L1914.91 213.931 L1910.65 213.931 L1910.65 208.537 Z\" fill=\"#000000\" fill-rule=\"evenodd\" fill-opacity=\"1\" /><path clip-path=\"url(#clip360)\" d=\"M 0 0 M1923.59 211.269 L1923.59 218.63 L1932.37 218.63 L1932.37 221.94 L1923.59 221.94 L1923.59 236.014 Q1923.59 239.185 1924.45 240.088 Q1925.33 240.991 1927.99 240.991 L1932.37 240.991 L1932.37 244.556 L1927.99 244.556 Q1923.06 244.556 1921.19 242.727 Q1919.31 240.875 1919.31 236.014 L1919.31 221.94 L1916.19 221.94 L1916.19 218.63 L1919.31 218.63 L1919.31 211.269 L1923.59 211.269 Z\" fill=\"#000000\" fill-rule=\"evenodd\" fill-opacity=\"1\" /><path clip-path=\"url(#clip360)\" d=\"M 0 0 M1948.62 231.523 Q1943.45 231.523 1941.46 232.704 Q1939.47 233.884 1939.47 236.732 Q1939.47 239 1940.95 240.343 Q1942.46 241.662 1945.03 241.662 Q1948.57 241.662 1950.7 239.162 Q1952.85 236.639 1952.85 232.472 L1952.85 231.523 L1948.62 231.523 M1957.11 229.764 L1957.11 244.556 L1952.85 244.556 L1952.85 240.621 Q1951.39 242.982 1949.22 244.116 Q1947.04 245.227 1943.89 245.227 Q1939.91 245.227 1937.55 243.005 Q1935.21 240.759 1935.21 237.009 Q1935.21 232.634 1938.13 230.412 Q1941.07 228.19 1946.88 228.19 L1952.85 228.19 L1952.85 227.773 Q1952.85 224.834 1950.91 223.236 Q1948.99 221.616 1945.49 221.616 Q1943.27 221.616 1941.16 222.148 Q1939.06 222.681 1937.11 223.746 L1937.11 219.81 Q1939.45 218.908 1941.65 218.468 Q1943.85 218.005 1945.93 218.005 Q1951.56 218.005 1954.33 220.922 Q1957.11 223.838 1957.11 229.764 Z\" fill=\"#000000\" fill-rule=\"evenodd\" fill-opacity=\"1\" /><path clip-path=\"url(#clip360)\" d=\"M 0 0 M1988.39 214.602 L1982.04 231.801 L1994.75 231.801 L1988.39 214.602 M1985.75 209.996 L1991.05 209.996 L2004.22 244.556 L1999.36 244.556 L1996.21 235.69 L1980.63 235.69 L1977.48 244.556 L1972.55 244.556 L1985.75 209.996 Z\" fill=\"#000000\" fill-rule=\"evenodd\" fill-opacity=\"1\" /><path clip-path=\"url(#clip360)\" d=\"M 0 0 M2025.21 219.394 L2025.21 223.422 Q2023.41 222.496 2021.46 222.033 Q2019.52 221.57 2017.44 221.57 Q2014.26 221.57 2012.67 222.542 Q2011.09 223.514 2011.09 225.459 Q2011.09 226.94 2012.23 227.797 Q2013.36 228.63 2016.79 229.394 L2018.25 229.718 Q2022.78 230.69 2024.68 232.472 Q2026.6 234.232 2026.6 237.403 Q2026.6 241.014 2023.73 243.121 Q2020.88 245.227 2015.88 245.227 Q2013.8 245.227 2011.53 244.81 Q2009.29 244.417 2006.79 243.607 L2006.79 239.209 Q2009.15 240.435 2011.44 241.06 Q2013.73 241.662 2015.98 241.662 Q2018.99 241.662 2020.61 240.644 Q2022.23 239.602 2022.23 237.727 Q2022.23 235.991 2021.05 235.065 Q2019.89 234.139 2015.93 233.283 L2014.45 232.935 Q2010.49 232.102 2008.73 230.389 Q2006.97 228.653 2006.97 225.644 Q2006.97 221.986 2009.57 219.996 Q2012.16 218.005 2016.93 218.005 Q2019.29 218.005 2021.37 218.352 Q2023.45 218.699 2025.21 219.394 Z\" fill=\"#000000\" fill-rule=\"evenodd\" fill-opacity=\"1\" /><path clip-path=\"url(#clip360)\" d=\"M 0 0 M2035.28 211.269 L2035.28 218.63 L2044.06 218.63 L2044.06 221.94 L2035.28 221.94 L2035.28 236.014 Q2035.28 239.185 2036.14 240.088 Q2037.02 240.991 2039.68 240.991 L2044.06 240.991 L2044.06 244.556 L2039.68 244.556 Q2034.75 244.556 2032.88 242.727 Q2031 240.875 2031 236.014 L2031 221.94 L2027.88 221.94 L2027.88 218.63 L2031 218.63 L2031 211.269 L2035.28 211.269 Z\" fill=\"#000000\" fill-rule=\"evenodd\" fill-opacity=\"1\" /><path clip-path=\"url(#clip360)\" d=\"M 0 0 M2063.55 222.611 Q2062.83 222.195 2061.97 222.01 Q2061.14 221.801 2060.12 221.801 Q2056.51 221.801 2054.57 224.162 Q2052.64 226.5 2052.64 230.898 L2052.64 244.556 L2048.36 244.556 L2048.36 218.63 L2052.64 218.63 L2052.64 222.658 Q2053.99 220.297 2056.14 219.162 Q2058.29 218.005 2061.37 218.005 Q2061.81 218.005 2062.34 218.074 Q2062.88 218.121 2063.52 218.236 L2063.55 222.611 Z\" fill=\"#000000\" fill-rule=\"evenodd\" fill-opacity=\"1\" /><path clip-path=\"url(#clip360)\" d=\"M 0 0 M2077.02 221.616 Q2073.59 221.616 2071.6 224.301 Q2069.61 226.963 2069.61 231.616 Q2069.61 236.269 2071.58 238.954 Q2073.57 241.616 2077.02 241.616 Q2080.42 241.616 2082.41 238.931 Q2084.4 236.246 2084.4 231.616 Q2084.4 227.01 2082.41 224.324 Q2080.42 221.616 2077.02 221.616 M2077.02 218.005 Q2082.57 218.005 2085.75 221.616 Q2088.92 225.227 2088.92 231.616 Q2088.92 237.982 2085.75 241.616 Q2082.57 245.227 2077.02 245.227 Q2071.44 245.227 2068.27 241.616 Q2065.12 237.982 2065.12 231.616 Q2065.12 225.227 2068.27 221.616 Q2071.44 218.005 2077.02 218.005 Z\" fill=\"#000000\" fill-rule=\"evenodd\" fill-opacity=\"1\" /><path clip-path=\"url(#clip360)\" d=\"M 0 0 M2114.94 228.908 L2114.94 244.556 L2110.68 244.556 L2110.68 229.047 Q2110.68 225.366 2109.24 223.537 Q2107.81 221.709 2104.94 221.709 Q2101.49 221.709 2099.5 223.908 Q2097.5 226.107 2097.5 229.903 L2097.5 244.556 L2093.22 244.556 L2093.22 218.63 L2097.5 218.63 L2097.5 222.658 Q2099.03 220.32 2101.09 219.162 Q2103.18 218.005 2105.88 218.005 Q2110.35 218.005 2112.64 220.783 Q2114.94 223.537 2114.94 228.908 Z\" fill=\"#000000\" fill-rule=\"evenodd\" fill-opacity=\"1\" /><path clip-path=\"url(#clip360)\" d=\"M 0 0 M2131.19 231.523 Q2126.02 231.523 2124.03 232.704 Q2122.04 233.884 2122.04 236.732 Q2122.04 239 2123.52 240.343 Q2125.03 241.662 2127.6 241.662 Q2131.14 241.662 2133.27 239.162 Q2135.42 236.639 2135.42 232.472 L2135.42 231.523 L2131.19 231.523 M2139.68 229.764 L2139.68 244.556 L2135.42 244.556 L2135.42 240.621 Q2133.96 242.982 2131.79 244.116 Q2129.61 245.227 2126.46 245.227 Q2122.48 245.227 2120.12 243.005 Q2117.78 240.759 2117.78 237.009 Q2117.78 232.634 2120.7 230.412 Q2123.64 228.19 2129.45 228.19 L2135.42 228.19 L2135.42 227.773 Q2135.42 224.834 2133.48 223.236 Q2131.56 221.616 2128.06 221.616 Q2125.84 221.616 2123.73 222.148 Q2121.63 222.681 2119.68 223.746 L2119.68 219.81 Q2122.02 218.908 2124.22 218.468 Q2126.42 218.005 2128.5 218.005 Q2134.12 218.005 2136.9 220.922 Q2139.68 223.838 2139.68 229.764 Z\" fill=\"#000000\" fill-rule=\"evenodd\" fill-opacity=\"1\" /><path clip-path=\"url(#clip360)\" d=\"M 0 0 M2143.71 234.324 L2143.71 218.63 L2147.97 218.63 L2147.97 234.162 Q2147.97 237.843 2149.4 239.695 Q2150.84 241.523 2153.71 241.523 Q2157.16 241.523 2159.15 239.324 Q2161.16 237.125 2161.16 233.329 L2161.16 218.63 L2165.42 218.63 L2165.42 244.556 L2161.16 244.556 L2161.16 240.574 Q2159.61 242.935 2157.55 244.093 Q2155.51 245.227 2152.81 245.227 Q2148.34 245.227 2146.02 242.449 Q2143.71 239.671 2143.71 234.324 M2154.43 218.005 L2154.43 218.005 Z\" fill=\"#000000\" fill-rule=\"evenodd\" fill-opacity=\"1\" /><path clip-path=\"url(#clip360)\" d=\"M 0 0 M2174.1 211.269 L2174.1 218.63 L2182.87 218.63 L2182.87 221.94 L2174.1 221.94 L2174.1 236.014 Q2174.1 239.185 2174.96 240.088 Q2175.84 240.991 2178.5 240.991 L2182.87 240.991 L2182.87 244.556 L2178.5 244.556 Q2173.57 244.556 2171.69 242.727 Q2169.82 240.875 2169.82 236.014 L2169.82 221.94 L2166.69 221.94 L2166.69 218.63 L2169.82 218.63 L2169.82 211.269 L2174.1 211.269 Z\" fill=\"#000000\" fill-rule=\"evenodd\" fill-opacity=\"1\" /><path clip-path=\"url(#clip360)\" d=\"M 0 0 M2199.12 231.523 Q2193.96 231.523 2191.97 232.704 Q2189.98 233.884 2189.98 236.732 Q2189.98 239 2191.46 240.343 Q2192.97 241.662 2195.54 241.662 Q2199.08 241.662 2201.21 239.162 Q2203.36 236.639 2203.36 232.472 L2203.36 231.523 L2199.12 231.523 M2207.62 229.764 L2207.62 244.556 L2203.36 244.556 L2203.36 240.621 Q2201.9 242.982 2199.73 244.116 Q2197.55 245.227 2194.4 245.227 Q2190.42 245.227 2188.06 243.005 Q2185.72 240.759 2185.72 237.009 Q2185.72 232.634 2188.64 230.412 Q2191.58 228.19 2197.39 228.19 L2203.36 228.19 L2203.36 227.773 Q2203.36 224.834 2201.42 223.236 Q2199.49 221.616 2196 221.616 Q2193.78 221.616 2191.67 222.148 Q2189.56 222.681 2187.62 223.746 L2187.62 219.81 Q2189.96 218.908 2192.16 218.468 Q2194.36 218.005 2196.44 218.005 Q2202.06 218.005 2204.84 220.922 Q2207.62 223.838 2207.62 229.764 Z\" fill=\"#000000\" fill-rule=\"evenodd\" fill-opacity=\"1\" /><polyline clip-path=\"url(#clip360)\" style=\"stroke:#e26f46; stroke-width:4; stroke-opacity:1; fill:none\" points=\"\n",
       "  1660.21,287.756 1803.35,287.756 \n",
       "  \"/>\n",
       "<path clip-path=\"url(#clip360)\" d=\"M 0 0 M1843.22 273.647 Q1838.13 273.647 1835.12 277.443 Q1832.14 281.24 1832.14 287.79 Q1832.14 294.318 1835.12 298.114 Q1838.13 301.911 1843.22 301.911 Q1848.32 301.911 1851.28 298.114 Q1854.27 294.318 1854.27 287.79 Q1854.27 281.24 1851.28 277.443 Q1848.32 273.647 1843.22 273.647 M1843.22 269.851 Q1850.49 269.851 1854.84 274.735 Q1859.2 279.596 1859.2 287.79 Q1859.2 295.962 1854.84 300.846 Q1850.49 305.707 1843.22 305.707 Q1835.93 305.707 1831.56 300.846 Q1827.21 295.985 1827.21 287.79 Q1827.21 279.596 1831.56 274.735 Q1835.93 269.851 1843.22 269.851 Z\" fill=\"#000000\" fill-rule=\"evenodd\" fill-opacity=\"1\" /><path clip-path=\"url(#clip360)\" d=\"M 0 0 M1878.69 283.091 Q1877.97 282.675 1877.11 282.49 Q1876.28 282.281 1875.26 282.281 Q1871.65 282.281 1869.71 284.642 Q1867.78 286.98 1867.78 291.378 L1867.78 305.036 L1863.5 305.036 L1863.5 279.11 L1867.78 279.11 L1867.78 283.138 Q1869.13 280.777 1871.28 279.642 Q1873.43 278.485 1876.51 278.485 Q1876.95 278.485 1877.48 278.554 Q1878.02 278.601 1878.66 278.716 L1878.69 283.091 Z\" fill=\"#000000\" fill-rule=\"evenodd\" fill-opacity=\"1\" /><path clip-path=\"url(#clip360)\" d=\"M 0 0 M1901.77 292.096 Q1901.77 287.397 1899.82 284.735 Q1897.9 282.05 1894.52 282.05 Q1891.14 282.05 1889.2 284.735 Q1887.27 287.397 1887.27 292.096 Q1887.27 296.795 1889.2 299.48 Q1891.14 302.142 1894.52 302.142 Q1897.9 302.142 1899.82 299.48 Q1901.77 296.795 1901.77 292.096 M1887.27 283.045 Q1888.62 280.73 1890.65 279.619 Q1892.71 278.485 1895.56 278.485 Q1900.28 278.485 1903.22 282.235 Q1906.19 285.985 1906.19 292.096 Q1906.19 298.207 1903.22 301.957 Q1900.28 305.707 1895.56 305.707 Q1892.71 305.707 1890.65 304.596 Q1888.62 303.462 1887.27 301.147 L1887.27 305.036 L1882.99 305.036 L1882.99 269.017 L1887.27 269.017 L1887.27 283.045 Z\" fill=\"#000000\" fill-rule=\"evenodd\" fill-opacity=\"1\" /><path clip-path=\"url(#clip360)\" d=\"M 0 0 M1910.65 279.11 L1914.91 279.11 L1914.91 305.036 L1910.65 305.036 L1910.65 279.11 M1910.65 269.017 L1914.91 269.017 L1914.91 274.411 L1910.65 274.411 L1910.65 269.017 Z\" fill=\"#000000\" fill-rule=\"evenodd\" fill-opacity=\"1\" /><path clip-path=\"url(#clip360)\" d=\"M 0 0 M1923.59 271.749 L1923.59 279.11 L1932.37 279.11 L1932.37 282.42 L1923.59 282.42 L1923.59 296.494 Q1923.59 299.665 1924.45 300.568 Q1925.33 301.471 1927.99 301.471 L1932.37 301.471 L1932.37 305.036 L1927.99 305.036 Q1923.06 305.036 1921.19 303.207 Q1919.31 301.355 1919.31 296.494 L1919.31 282.42 L1916.19 282.42 L1916.19 279.11 L1919.31 279.11 L1919.31 271.749 L1923.59 271.749 Z\" fill=\"#000000\" fill-rule=\"evenodd\" fill-opacity=\"1\" /><path clip-path=\"url(#clip360)\" d=\"M 0 0 M1948.62 292.003 Q1943.45 292.003 1941.46 293.184 Q1939.47 294.364 1939.47 297.212 Q1939.47 299.48 1940.95 300.823 Q1942.46 302.142 1945.03 302.142 Q1948.57 302.142 1950.7 299.642 Q1952.85 297.119 1952.85 292.952 L1952.85 292.003 L1948.62 292.003 M1957.11 290.244 L1957.11 305.036 L1952.85 305.036 L1952.85 301.101 Q1951.39 303.462 1949.22 304.596 Q1947.04 305.707 1943.89 305.707 Q1939.91 305.707 1937.55 303.485 Q1935.21 301.239 1935.21 297.489 Q1935.21 293.114 1938.13 290.892 Q1941.07 288.67 1946.88 288.67 L1952.85 288.67 L1952.85 288.253 Q1952.85 285.314 1950.91 283.716 Q1948.99 282.096 1945.49 282.096 Q1943.27 282.096 1941.16 282.628 Q1939.06 283.161 1937.11 284.226 L1937.11 280.29 Q1939.45 279.388 1941.65 278.948 Q1943.85 278.485 1945.93 278.485 Q1951.56 278.485 1954.33 281.402 Q1957.11 284.318 1957.11 290.244 Z\" fill=\"#000000\" fill-rule=\"evenodd\" fill-opacity=\"1\" /><path clip-path=\"url(#clip360)\" d=\"M 0 0 M1998.2 289.388 L1998.2 305.036 L1993.94 305.036 L1993.94 289.527 Q1993.94 285.846 1992.51 284.017 Q1991.07 282.189 1988.2 282.189 Q1984.75 282.189 1982.76 284.388 Q1980.77 286.587 1980.77 290.383 L1980.77 305.036 L1976.49 305.036 L1976.49 269.017 L1980.77 269.017 L1980.77 283.138 Q1982.3 280.8 1984.36 279.642 Q1986.44 278.485 1989.15 278.485 Q1993.62 278.485 1995.91 281.263 Q1998.2 284.017 1998.2 289.388 Z\" fill=\"#000000\" fill-rule=\"evenodd\" fill-opacity=\"1\" /><path clip-path=\"url(#clip360)\" d=\"M 0 0 M2024.84 291.008 L2024.84 293.091 L2005.26 293.091 Q2005.54 297.489 2007.9 299.804 Q2010.28 302.096 2014.52 302.096 Q2016.97 302.096 2019.26 301.494 Q2021.58 300.892 2023.85 299.689 L2023.85 303.716 Q2021.56 304.688 2019.15 305.198 Q2016.74 305.707 2014.26 305.707 Q2008.06 305.707 2004.43 302.096 Q2000.82 298.485 2000.82 292.327 Q2000.82 285.962 2004.24 282.235 Q2007.69 278.485 2013.52 278.485 Q2018.76 278.485 2021.79 281.865 Q2024.84 285.221 2024.84 291.008 M2020.58 289.758 Q2020.54 286.263 2018.62 284.179 Q2016.72 282.096 2013.57 282.096 Q2010.01 282.096 2007.85 284.11 Q2005.72 286.124 2005.4 289.781 L2020.58 289.758 Z\" fill=\"#000000\" fill-rule=\"evenodd\" fill-opacity=\"1\" /><path clip-path=\"url(#clip360)\" d=\"M 0 0 M2044.33 283.091 Q2043.62 282.675 2042.76 282.49 Q2041.93 282.281 2040.91 282.281 Q2037.3 282.281 2035.35 284.642 Q2033.43 286.98 2033.43 291.378 L2033.43 305.036 L2029.15 305.036 L2029.15 279.11 L2033.43 279.11 L2033.43 283.138 Q2034.77 280.777 2036.93 279.642 Q2039.08 278.485 2042.16 278.485 Q2042.6 278.485 2043.13 278.554 Q2043.66 278.601 2044.31 278.716 L2044.33 283.091 Z\" fill=\"#000000\" fill-rule=\"evenodd\" fill-opacity=\"1\" /><path clip-path=\"url(#clip360)\" d=\"M 0 0 M2062.99 283.091 Q2062.27 282.675 2061.42 282.49 Q2060.58 282.281 2059.57 282.281 Q2055.95 282.281 2054.01 284.642 Q2052.09 286.98 2052.09 291.378 L2052.09 305.036 L2047.81 305.036 L2047.81 279.11 L2052.09 279.11 L2052.09 283.138 Q2053.43 280.777 2055.58 279.642 Q2057.74 278.485 2060.82 278.485 Q2061.25 278.485 2061.79 278.554 Q2062.32 278.601 2062.97 278.716 L2062.99 283.091 Z\" fill=\"#000000\" fill-rule=\"evenodd\" fill-opacity=\"1\" /><path clip-path=\"url(#clip360)\" d=\"M 0 0 M2079.24 292.003 Q2074.08 292.003 2072.09 293.184 Q2070.1 294.364 2070.1 297.212 Q2070.1 299.48 2071.58 300.823 Q2073.08 302.142 2075.65 302.142 Q2079.19 302.142 2081.32 299.642 Q2083.48 297.119 2083.48 292.952 L2083.48 292.003 L2079.24 292.003 M2087.74 290.244 L2087.74 305.036 L2083.48 305.036 L2083.48 301.101 Q2082.02 303.462 2079.84 304.596 Q2077.67 305.707 2074.52 305.707 Q2070.54 305.707 2068.18 303.485 Q2065.84 301.239 2065.84 297.489 Q2065.84 293.114 2068.75 290.892 Q2071.69 288.67 2077.5 288.67 L2083.48 288.67 L2083.48 288.253 Q2083.48 285.314 2081.53 283.716 Q2079.61 282.096 2076.12 282.096 Q2073.89 282.096 2071.79 282.628 Q2069.68 283.161 2067.74 284.226 L2067.74 280.29 Q2070.07 279.388 2072.27 278.948 Q2074.47 278.485 2076.56 278.485 Q2082.18 278.485 2084.96 281.402 Q2087.74 284.318 2087.74 290.244 Z\" fill=\"#000000\" fill-rule=\"evenodd\" fill-opacity=\"1\" /><path clip-path=\"url(#clip360)\" d=\"M 0 0 M2112.39 284.087 Q2113.99 281.216 2116.21 279.851 Q2118.43 278.485 2121.44 278.485 Q2125.49 278.485 2127.69 281.332 Q2129.89 284.156 2129.89 289.388 L2129.89 305.036 L2125.61 305.036 L2125.61 289.527 Q2125.61 285.8 2124.29 283.994 Q2122.97 282.189 2120.26 282.189 Q2116.95 282.189 2115.03 284.388 Q2113.11 286.587 2113.11 290.383 L2113.11 305.036 L2108.82 305.036 L2108.82 289.527 Q2108.82 285.777 2107.5 283.994 Q2106.19 282.189 2103.43 282.189 Q2100.17 282.189 2098.25 284.411 Q2096.32 286.61 2096.32 290.383 L2096.32 305.036 L2092.04 305.036 L2092.04 279.11 L2096.32 279.11 L2096.32 283.138 Q2097.78 280.753 2099.82 279.619 Q2101.86 278.485 2104.66 278.485 Q2107.48 278.485 2109.45 279.92 Q2111.44 281.355 2112.39 284.087 Z\" fill=\"#000000\" fill-rule=\"evenodd\" fill-opacity=\"1\" /><path clip-path=\"url(#clip360)\" d=\"M 0 0 M2134.36 279.11 L2138.62 279.11 L2138.62 305.036 L2134.36 305.036 L2134.36 279.11 M2134.36 269.017 L2138.62 269.017 L2138.62 274.411 L2134.36 274.411 L2134.36 269.017 Z\" fill=\"#000000\" fill-rule=\"evenodd\" fill-opacity=\"1\" /><path clip-path=\"url(#clip360)\" d=\"M 0 0 M2165.26 291.008 L2165.26 293.091 L2145.68 293.091 Q2145.95 297.489 2148.31 299.804 Q2150.7 302.096 2154.94 302.096 Q2157.39 302.096 2159.68 301.494 Q2162 300.892 2164.26 299.689 L2164.26 303.716 Q2161.97 304.688 2159.56 305.198 Q2157.16 305.707 2154.68 305.707 Q2148.48 305.707 2144.84 302.096 Q2141.23 298.485 2141.23 292.327 Q2141.23 285.962 2144.66 282.235 Q2148.11 278.485 2153.94 278.485 Q2159.17 278.485 2162.2 281.865 Q2165.26 285.221 2165.26 291.008 M2161 289.758 Q2160.95 286.263 2159.03 284.179 Q2157.13 282.096 2153.99 282.096 Q2150.42 282.096 2148.27 284.11 Q2146.14 286.124 2145.81 289.781 L2161 289.758 Z\" fill=\"#000000\" fill-rule=\"evenodd\" fill-opacity=\"1\" /><path clip-path=\"url(#clip360)\" d=\"M 0 0 M2191.28 289.388 L2191.28 305.036 L2187.02 305.036 L2187.02 289.527 Q2187.02 285.846 2185.58 284.017 Q2184.15 282.189 2181.28 282.189 Q2177.83 282.189 2175.84 284.388 Q2173.85 286.587 2173.85 290.383 L2173.85 305.036 L2169.56 305.036 L2169.56 279.11 L2173.85 279.11 L2173.85 283.138 Q2175.37 280.8 2177.43 279.642 Q2179.52 278.485 2182.23 278.485 Q2186.69 278.485 2188.99 281.263 Q2191.28 284.017 2191.28 289.388 Z\" fill=\"#000000\" fill-rule=\"evenodd\" fill-opacity=\"1\" /><path clip-path=\"url(#clip360)\" d=\"M 0 0 M2199.96 271.749 L2199.96 279.11 L2208.73 279.11 L2208.73 282.42 L2199.96 282.42 L2199.96 296.494 Q2199.96 299.665 2200.81 300.568 Q2201.69 301.471 2204.36 301.471 L2208.73 301.471 L2208.73 305.036 L2204.36 305.036 Q2199.43 305.036 2197.55 303.207 Q2195.68 301.355 2195.68 296.494 L2195.68 282.42 L2192.55 282.42 L2192.55 279.11 L2195.68 279.11 L2195.68 271.749 L2199.96 271.749 Z\" fill=\"#000000\" fill-rule=\"evenodd\" fill-opacity=\"1\" /><path clip-path=\"url(#clip360)\" d=\"M 0 0 M2224.98 292.003 Q2219.82 292.003 2217.83 293.184 Q2215.84 294.364 2215.84 297.212 Q2215.84 299.48 2217.32 300.823 Q2218.82 302.142 2221.39 302.142 Q2224.93 302.142 2227.06 299.642 Q2229.22 297.119 2229.22 292.952 L2229.22 292.003 L2224.98 292.003 M2233.48 290.244 L2233.48 305.036 L2229.22 305.036 L2229.22 301.101 Q2227.76 303.462 2225.58 304.596 Q2223.41 305.707 2220.26 305.707 Q2216.28 305.707 2213.92 303.485 Q2211.58 301.239 2211.58 297.489 Q2211.58 293.114 2214.49 290.892 Q2217.43 288.67 2223.24 288.67 L2229.22 288.67 L2229.22 288.253 Q2229.22 285.314 2227.27 283.716 Q2225.35 282.096 2221.86 282.096 Q2219.63 282.096 2217.53 282.628 Q2215.42 283.161 2213.48 284.226 L2213.48 280.29 Q2215.81 279.388 2218.01 278.948 Q2220.21 278.485 2222.3 278.485 Q2227.92 278.485 2230.7 281.402 Q2233.48 284.318 2233.48 290.244 Z\" fill=\"#000000\" fill-rule=\"evenodd\" fill-opacity=\"1\" /><circle clip-path=\"url(#clip360)\" cx=\"1731.78\" cy=\"348.236\" r=\"23\" fill=\"#008000\" fill-rule=\"evenodd\" fill-opacity=\"1\" stroke=\"#000000\" stroke-opacity=\"1\" stroke-width=\"2.048\"/>\n",
       "<path clip-path=\"url(#clip360)\" d=\"M 0 0 M1827.21 330.956 L1856.44 330.956 L1856.44 334.891 L1844.17 334.891 L1844.17 365.516 L1839.47 365.516 L1839.47 334.891 L1827.21 334.891 L1827.21 330.956 Z\" fill=\"#000000\" fill-rule=\"evenodd\" fill-opacity=\"1\" /><path clip-path=\"url(#clip360)\" d=\"M 0 0 M1859.45 339.59 L1863.71 339.59 L1863.71 365.516 L1859.45 365.516 L1859.45 339.59 M1859.45 329.497 L1863.71 329.497 L1863.71 334.891 L1859.45 334.891 L1859.45 329.497 Z\" fill=\"#000000\" fill-rule=\"evenodd\" fill-opacity=\"1\" /><path clip-path=\"url(#clip360)\" d=\"M 0 0 M1890.35 351.488 L1890.35 353.571 L1870.77 353.571 Q1871.05 357.969 1873.41 360.284 Q1875.79 362.576 1880.03 362.576 Q1882.48 362.576 1884.77 361.974 Q1887.09 361.372 1889.36 360.169 L1889.36 364.196 Q1887.07 365.168 1884.66 365.678 Q1882.25 366.187 1879.77 366.187 Q1873.57 366.187 1869.94 362.576 Q1866.33 358.965 1866.33 352.807 Q1866.33 346.442 1869.75 342.715 Q1873.2 338.965 1879.03 338.965 Q1884.27 338.965 1887.3 342.345 Q1890.35 345.701 1890.35 351.488 M1886.09 350.238 Q1886.05 346.743 1884.13 344.659 Q1882.23 342.576 1879.08 342.576 Q1875.52 342.576 1873.36 344.59 Q1871.23 346.604 1870.91 350.261 L1886.09 350.238 Z\" fill=\"#000000\" fill-rule=\"evenodd\" fill-opacity=\"1\" /><path clip-path=\"url(#clip360)\" d=\"M 0 0 M1909.84 343.571 Q1909.13 343.155 1908.27 342.97 Q1907.44 342.761 1906.42 342.761 Q1902.81 342.761 1900.86 345.122 Q1898.94 347.46 1898.94 351.858 L1898.94 365.516 L1894.66 365.516 L1894.66 339.59 L1898.94 339.59 L1898.94 343.618 Q1900.28 341.257 1902.44 340.122 Q1904.59 338.965 1907.67 338.965 Q1908.11 338.965 1908.64 339.034 Q1909.17 339.081 1909.82 339.196 L1909.84 343.571 Z\" fill=\"#000000\" fill-rule=\"evenodd\" fill-opacity=\"1\" /><path clip-path=\"url(#clip360)\" d=\"M 0 0 M1928.5 343.571 Q1927.78 343.155 1926.93 342.97 Q1926.09 342.761 1925.08 342.761 Q1921.46 342.761 1919.52 345.122 Q1917.6 347.46 1917.6 351.858 L1917.6 365.516 L1913.32 365.516 L1913.32 339.59 L1917.6 339.59 L1917.6 343.618 Q1918.94 341.257 1921.09 340.122 Q1923.25 338.965 1926.33 338.965 Q1926.76 338.965 1927.3 339.034 Q1927.83 339.081 1928.48 339.196 L1928.5 343.571 Z\" fill=\"#000000\" fill-rule=\"evenodd\" fill-opacity=\"1\" /><path clip-path=\"url(#clip360)\" d=\"M 0 0 M1944.75 352.483 Q1939.59 352.483 1937.6 353.664 Q1935.61 354.844 1935.61 357.692 Q1935.61 359.96 1937.09 361.303 Q1938.59 362.622 1941.16 362.622 Q1944.7 362.622 1946.83 360.122 Q1948.99 357.599 1948.99 353.432 L1948.99 352.483 L1944.75 352.483 M1953.25 350.724 L1953.25 365.516 L1948.99 365.516 L1948.99 361.581 Q1947.53 363.942 1945.35 365.076 Q1943.18 366.187 1940.03 366.187 Q1936.05 366.187 1933.69 363.965 Q1931.35 361.719 1931.35 357.969 Q1931.35 353.594 1934.26 351.372 Q1937.2 349.15 1943.01 349.15 L1948.99 349.15 L1948.99 348.733 Q1948.99 345.794 1947.04 344.196 Q1945.12 342.576 1941.63 342.576 Q1939.4 342.576 1937.3 343.108 Q1935.19 343.641 1933.25 344.706 L1933.25 340.77 Q1935.58 339.868 1937.78 339.428 Q1939.98 338.965 1942.07 338.965 Q1947.69 338.965 1950.47 341.882 Q1953.25 344.798 1953.25 350.724 Z\" fill=\"#000000\" fill-rule=\"evenodd\" fill-opacity=\"1\" /></svg>\n"
      ]
     },
     "execution_count": 11,
     "metadata": {},
     "output_type": "execute_result"
    }
   ],
   "source": [
    "tiempo=collect(0:0.5:10*π)\n",
    "\n",
    "xA,yA,vxA,vyA = rA, 0.0, 0.0, 1/sqrt(rA)\n",
    "xH,yH,vxH,vyH = rH, 0.0, 0.0, 1/sqrt(rH)\n",
    "cond_inic = [xA,yA,vxA,vyA,xH,yH,vxH,vyH]\n",
    "solucion=RK_4(sistema_AH,cond_inic,tiempo,100,100)\n",
    "\n",
    "#solucion=[xA,yA,vxA,vyA,xH,yH,vxH,vyH]\n",
    "\n",
    "plot(title=\"Sistema Astronauta-Herramienta\",xlabel=\"x\",ylabel=\"y\")\n",
    "plot!(solucion[:,1],solucion[:,2], label=\"Orbita Astronauta\",lw=1.0)\n",
    "plot!(solucion[:,5],solucion[:,6], label=\"Orbita herramienta\",lw=1.0)\n",
    "scatter!([0],[0],markershape=:circle,markersize=10,markercolor=:green,label=\"Tierra\",xlim=(-2,2),ylim=(-2,2))"
   ]
  },
  {
   "cell_type": "markdown",
   "metadata": {},
   "source": [
    "Definimos una función a la cual le entreguemos la distancia del astronauta desde la superficie terreste y nos devuelva el radio del astronauta respecto al centro de la tierra y de la herramienta respecto al centor de la Tierra normalizado."
   ]
  },
  {
   "cell_type": "code",
   "execution_count": 14,
   "metadata": {},
   "outputs": [
    {
     "data": {
      "text/plain": [
       "distancias (generic function with 2 methods)"
      ]
     },
     "execution_count": 14,
     "metadata": {},
     "output_type": "execute_result"
    }
   ],
   "source": [
    "function distancias(r_A)\n",
    "    G=6.674e-11 #Constante gravitacional\n",
    "    mT=5.972e24 #Masa de la Tierra\n",
    "    r_H=r_A+0.00065 #El radio de la herramienta inicialmente es el radio de la astronauta más la distancia de su brazo\n",
    "    #Definimos la proporcion de la posicion del astronauta respecto al radio de la Tierra\n",
    "    rA_proporcion=(r_A+6371)/6371\n",
    "    rH_proporcion=(r_H+6371)/6371\n",
    "    \n",
    "    rA_sf=1.0549364307016167*6371  #sf significa sin factor\n",
    "    rH_sf=1.0549365327264166*6371\n",
    "    #Multiplicamos por 1/τ\n",
    "    rA_cf=rA_sf/(sqrt(G*mT)) #cf significa que ya fueron multiplicados por el factor: con factor\n",
    "    rH_cf=rH_sf/(sqrt(G*mT))\n",
    "    #Lo normalizamos\n",
    "    normalizacion=1/rA_cf\n",
    "    rA=rA_cf*normalizacion\n",
    "    rH=rH_cf*normalizacion\n",
    "    return rA,rH\n",
    "end"
   ]
  },
  {
   "cell_type": "code",
   "execution_count": 24,
   "metadata": {},
   "outputs": [
    {
     "data": {
      "image/svg+xml": [
       "<?xml version=\"1.0\" encoding=\"utf-8\"?>\n",
       "<svg xmlns=\"http://www.w3.org/2000/svg\" xmlns:xlink=\"http://www.w3.org/1999/xlink\" width=\"600\" height=\"400\" viewBox=\"0 0 2400 1600\">\n",
       "<defs>\n",
       "  <clipPath id=\"clip0400\">\n",
       "    <rect x=\"0\" y=\"0\" width=\"2400\" height=\"1600\"/>\n",
       "  </clipPath>\n",
       "</defs>\n",
       "<path clip-path=\"url(#clip0400)\" d=\"\n",
       "M0 1600 L2400 1600 L2400 0 L0 0  Z\n",
       "  \" fill=\"#ffffff\" fill-rule=\"evenodd\" fill-opacity=\"1\"/>\n",
       "<defs>\n",
       "  <clipPath id=\"clip0401\">\n",
       "    <rect x=\"480\" y=\"0\" width=\"1681\" height=\"1600\"/>\n",
       "  </clipPath>\n",
       "</defs>\n",
       "<path clip-path=\"url(#clip0400)\" d=\"\n",
       "M203.721 1425.62 L2352.76 1425.62 L2352.76 121.675 L203.721 121.675  Z\n",
       "  \" fill=\"#ffffff\" fill-rule=\"evenodd\" fill-opacity=\"1\"/>\n",
       "<defs>\n",
       "  <clipPath id=\"clip0402\">\n",
       "    <rect x=\"203\" y=\"121\" width=\"2150\" height=\"1305\"/>\n",
       "  </clipPath>\n",
       "</defs>\n",
       "<polyline clip-path=\"url(#clip0402)\" style=\"stroke:#000000; stroke-width:2; stroke-opacity:0.1; fill:none\" points=\"\n",
       "  203.721,1425.62 203.721,121.675 \n",
       "  \"/>\n",
       "<polyline clip-path=\"url(#clip0402)\" style=\"stroke:#000000; stroke-width:2; stroke-opacity:0.1; fill:none\" points=\"\n",
       "  740.979,1425.62 740.979,121.675 \n",
       "  \"/>\n",
       "<polyline clip-path=\"url(#clip0402)\" style=\"stroke:#000000; stroke-width:2; stroke-opacity:0.1; fill:none\" points=\"\n",
       "  1278.24,1425.62 1278.24,121.675 \n",
       "  \"/>\n",
       "<polyline clip-path=\"url(#clip0402)\" style=\"stroke:#000000; stroke-width:2; stroke-opacity:0.1; fill:none\" points=\"\n",
       "  1815.5,1425.62 1815.5,121.675 \n",
       "  \"/>\n",
       "<polyline clip-path=\"url(#clip0402)\" style=\"stroke:#000000; stroke-width:2; stroke-opacity:0.1; fill:none\" points=\"\n",
       "  2352.76,1425.62 2352.76,121.675 \n",
       "  \"/>\n",
       "<polyline clip-path=\"url(#clip0402)\" style=\"stroke:#000000; stroke-width:2; stroke-opacity:0.1; fill:none\" points=\"\n",
       "  203.721,1425.62 2352.76,1425.62 \n",
       "  \"/>\n",
       "<polyline clip-path=\"url(#clip0402)\" style=\"stroke:#000000; stroke-width:2; stroke-opacity:0.1; fill:none\" points=\"\n",
       "  203.721,1099.63 2352.76,1099.63 \n",
       "  \"/>\n",
       "<polyline clip-path=\"url(#clip0402)\" style=\"stroke:#000000; stroke-width:2; stroke-opacity:0.1; fill:none\" points=\"\n",
       "  203.721,773.647 2352.76,773.647 \n",
       "  \"/>\n",
       "<polyline clip-path=\"url(#clip0402)\" style=\"stroke:#000000; stroke-width:2; stroke-opacity:0.1; fill:none\" points=\"\n",
       "  203.721,447.661 2352.76,447.661 \n",
       "  \"/>\n",
       "<polyline clip-path=\"url(#clip0402)\" style=\"stroke:#000000; stroke-width:2; stroke-opacity:0.1; fill:none\" points=\"\n",
       "  203.721,121.675 2352.76,121.675 \n",
       "  \"/>\n",
       "<polyline clip-path=\"url(#clip0400)\" style=\"stroke:#000000; stroke-width:4; stroke-opacity:1; fill:none\" points=\"\n",
       "  203.721,1425.62 2352.76,1425.62 \n",
       "  \"/>\n",
       "<polyline clip-path=\"url(#clip0400)\" style=\"stroke:#000000; stroke-width:4; stroke-opacity:1; fill:none\" points=\"\n",
       "  203.721,1425.62 203.721,121.675 \n",
       "  \"/>\n",
       "<polyline clip-path=\"url(#clip0400)\" style=\"stroke:#000000; stroke-width:4; stroke-opacity:1; fill:none\" points=\"\n",
       "  203.721,1425.62 203.721,1409.97 \n",
       "  \"/>\n",
       "<polyline clip-path=\"url(#clip0400)\" style=\"stroke:#000000; stroke-width:4; stroke-opacity:1; fill:none\" points=\"\n",
       "  740.979,1425.62 740.979,1409.97 \n",
       "  \"/>\n",
       "<polyline clip-path=\"url(#clip0400)\" style=\"stroke:#000000; stroke-width:4; stroke-opacity:1; fill:none\" points=\"\n",
       "  1278.24,1425.62 1278.24,1409.97 \n",
       "  \"/>\n",
       "<polyline clip-path=\"url(#clip0400)\" style=\"stroke:#000000; stroke-width:4; stroke-opacity:1; fill:none\" points=\"\n",
       "  1815.5,1425.62 1815.5,1409.97 \n",
       "  \"/>\n",
       "<polyline clip-path=\"url(#clip0400)\" style=\"stroke:#000000; stroke-width:4; stroke-opacity:1; fill:none\" points=\"\n",
       "  2352.76,1425.62 2352.76,1409.97 \n",
       "  \"/>\n",
       "<polyline clip-path=\"url(#clip0400)\" style=\"stroke:#000000; stroke-width:4; stroke-opacity:1; fill:none\" points=\"\n",
       "  203.721,1425.62 229.509,1425.62 \n",
       "  \"/>\n",
       "<polyline clip-path=\"url(#clip0400)\" style=\"stroke:#000000; stroke-width:4; stroke-opacity:1; fill:none\" points=\"\n",
       "  203.721,1099.63 229.509,1099.63 \n",
       "  \"/>\n",
       "<polyline clip-path=\"url(#clip0400)\" style=\"stroke:#000000; stroke-width:4; stroke-opacity:1; fill:none\" points=\"\n",
       "  203.721,773.647 229.509,773.647 \n",
       "  \"/>\n",
       "<polyline clip-path=\"url(#clip0400)\" style=\"stroke:#000000; stroke-width:4; stroke-opacity:1; fill:none\" points=\"\n",
       "  203.721,447.661 229.509,447.661 \n",
       "  \"/>\n",
       "<polyline clip-path=\"url(#clip0400)\" style=\"stroke:#000000; stroke-width:4; stroke-opacity:1; fill:none\" points=\"\n",
       "  203.721,121.675 229.509,121.675 \n",
       "  \"/>\n",
       "<g clip-path=\"url(#clip0400)\">\n",
       "<text style=\"fill:#000000; fill-opacity:1; font-family:Arial,Helvetica Neue,Helvetica,sans-serif; font-size:48px; text-anchor:middle;\" transform=\"rotate(0, 203.721, 1479.62)\" x=\"203.721\" y=\"1479.62\">-2</text>\n",
       "</g>\n",
       "<g clip-path=\"url(#clip0400)\">\n",
       "<text style=\"fill:#000000; fill-opacity:1; font-family:Arial,Helvetica Neue,Helvetica,sans-serif; font-size:48px; text-anchor:middle;\" transform=\"rotate(0, 740.979, 1479.62)\" x=\"740.979\" y=\"1479.62\">-1</text>\n",
       "</g>\n",
       "<g clip-path=\"url(#clip0400)\">\n",
       "<text style=\"fill:#000000; fill-opacity:1; font-family:Arial,Helvetica Neue,Helvetica,sans-serif; font-size:48px; text-anchor:middle;\" transform=\"rotate(0, 1278.24, 1479.62)\" x=\"1278.24\" y=\"1479.62\">0</text>\n",
       "</g>\n",
       "<g clip-path=\"url(#clip0400)\">\n",
       "<text style=\"fill:#000000; fill-opacity:1; font-family:Arial,Helvetica Neue,Helvetica,sans-serif; font-size:48px; text-anchor:middle;\" transform=\"rotate(0, 1815.5, 1479.62)\" x=\"1815.5\" y=\"1479.62\">1</text>\n",
       "</g>\n",
       "<g clip-path=\"url(#clip0400)\">\n",
       "<text style=\"fill:#000000; fill-opacity:1; font-family:Arial,Helvetica Neue,Helvetica,sans-serif; font-size:48px; text-anchor:middle;\" transform=\"rotate(0, 2352.76, 1479.62)\" x=\"2352.76\" y=\"1479.62\">2</text>\n",
       "</g>\n",
       "<g clip-path=\"url(#clip0400)\">\n",
       "<text style=\"fill:#000000; fill-opacity:1; font-family:Arial,Helvetica Neue,Helvetica,sans-serif; font-size:48px; text-anchor:end;\" transform=\"rotate(0, 179.721, 1443.12)\" x=\"179.721\" y=\"1443.12\">-2</text>\n",
       "</g>\n",
       "<g clip-path=\"url(#clip0400)\">\n",
       "<text style=\"fill:#000000; fill-opacity:1; font-family:Arial,Helvetica Neue,Helvetica,sans-serif; font-size:48px; text-anchor:end;\" transform=\"rotate(0, 179.721, 1117.13)\" x=\"179.721\" y=\"1117.13\">-1</text>\n",
       "</g>\n",
       "<g clip-path=\"url(#clip0400)\">\n",
       "<text style=\"fill:#000000; fill-opacity:1; font-family:Arial,Helvetica Neue,Helvetica,sans-serif; font-size:48px; text-anchor:end;\" transform=\"rotate(0, 179.721, 791.147)\" x=\"179.721\" y=\"791.147\">0</text>\n",
       "</g>\n",
       "<g clip-path=\"url(#clip0400)\">\n",
       "<text style=\"fill:#000000; fill-opacity:1; font-family:Arial,Helvetica Neue,Helvetica,sans-serif; font-size:48px; text-anchor:end;\" transform=\"rotate(0, 179.721, 465.161)\" x=\"179.721\" y=\"465.161\">1</text>\n",
       "</g>\n",
       "<g clip-path=\"url(#clip0400)\">\n",
       "<text style=\"fill:#000000; fill-opacity:1; font-family:Arial,Helvetica Neue,Helvetica,sans-serif; font-size:48px; text-anchor:end;\" transform=\"rotate(0, 179.721, 139.175)\" x=\"179.721\" y=\"139.175\">2</text>\n",
       "</g>\n",
       "<g clip-path=\"url(#clip0400)\">\n",
       "<text style=\"fill:#000000; fill-opacity:1; font-family:Arial,Helvetica Neue,Helvetica,sans-serif; font-size:84px; text-anchor:middle;\" transform=\"rotate(0, 1278.24, 73.2)\" x=\"1278.24\" y=\"73.2\">Sistema Astronauta-Herramienta</text>\n",
       "</g>\n",
       "<g clip-path=\"url(#clip0400)\">\n",
       "<text style=\"fill:#000000; fill-opacity:1; font-family:Arial,Helvetica Neue,Helvetica,sans-serif; font-size:66px; text-anchor:middle;\" transform=\"rotate(0, 1278.24, 1559.48)\" x=\"1278.24\" y=\"1559.48\">x</text>\n",
       "</g>\n",
       "<g clip-path=\"url(#clip0400)\">\n",
       "<text style=\"fill:#000000; fill-opacity:1; font-family:Arial,Helvetica Neue,Helvetica,sans-serif; font-size:66px; text-anchor:middle;\" transform=\"rotate(-90, 89.2861, 773.647)\" x=\"89.2861\" y=\"773.647\">y</text>\n",
       "</g>\n",
       "<polyline clip-path=\"url(#clip0402)\" style=\"stroke:#009af9; stroke-width:4; stroke-opacity:1; fill:none\" points=\"\n",
       "  1815.5,773.647 1752.23,616.855 1573.63,497.71 1323.72,444.385 1062.39,468.865 850.878,564.71 737.673,709.12 747.8,868.642 877.86,1007.08 1097.68,1093.69 \n",
       "  1357.88,1109.86 1601.31,1052.74 1775.67,935.365 1844.51,783.301 1794.28,628.882 1636.48,504.297 1404.48,435.003 1146.25,434.755 914.256,503.129 754.906,625.944 \n",
       "  699.457,778.392 758.162,930.18 918.744,1051.61 1149.32,1119.35 1405.07,1120.8 1637.13,1056.19 1801.92,938.203 1869.19,789.291 1827.17,637.242 1684.32,509.992 \n",
       "  1467.29,430.566 1215.75,413.049 975.066,460.255 788.108,563.429 687.737,704.005 691.179,857.04 797.274,995.71 987.019,1096.02 1227.22,1140.92 1476.47,1123.06 \n",
       "  1692.42,1045.88 1838.91,922.751 1891.88,774.54 1843.09,625.99 1701.14,501.59 1489.75,421.594 1243.67,398.821 1002.9,436.709 806.183,528.907 684.869,660.421 \n",
       "  657.978,810.131 729.362,954.23 887.322,1070.04 1106.69,1139.55 1353.02,1152.18 1588.05,1106.29 1775.74,1009.23 1887.68,876.104 1907.28,727.288 1832.02,585.308 \n",
       "  1673.63,471.429 1456.08,402.53 1211.91,388.67 \n",
       "  \"/>\n",
       "<polyline clip-path=\"url(#clip0402)\" style=\"stroke:#e26f46; stroke-width:4; stroke-opacity:1; fill:none\" points=\"\n",
       "  1815.5,773.647 1752.23,616.855 1573.63,497.71 1323.72,444.385 1062.39,468.865 850.878,564.71 737.673,709.12 747.799,868.641 877.86,1007.08 1097.68,1093.69 \n",
       "  1357.88,1109.86 1601.31,1052.74 1775.67,935.365 1844.51,783.301 1794.28,628.882 1636.48,504.297 1404.48,435.003 1146.25,434.754 914.256,503.128 754.906,625.944 \n",
       "  699.456,778.392 758.162,930.18 918.744,1051.61 1149.32,1119.35 1405.07,1120.8 1637.13,1056.19 1801.92,938.203 1869.19,789.291 1827.17,637.242 1684.32,509.992 \n",
       "  1467.29,430.566 1215.75,413.049 975.067,460.255 788.108,563.429 687.738,704.004 691.179,857.039 797.273,995.71 987.018,1096.02 1227.22,1140.92 1476.47,1123.06 \n",
       "  1692.42,1045.88 1838.91,922.752 1891.88,774.54 1843.09,625.991 1701.14,501.591 1489.75,421.594 1243.67,398.821 1002.9,436.709 806.183,528.906 684.87,660.42 \n",
       "  657.978,810.13 729.361,954.23 887.321,1070.04 1106.69,1139.55 1353.02,1152.18 1588.05,1106.29 1775.74,1009.23 1887.68,876.105 1907.28,727.289 1832.03,585.309 \n",
       "  1673.63,471.43 1456.09,402.53 1211.91,388.67 \n",
       "  \"/>\n",
       "<polyline clip-path=\"url(#clip0402)\" style=\"stroke:#3da44d; stroke-width:4; stroke-opacity:1; fill:none\" points=\"\n",
       "  1815.5,773.647 1752.23,616.855 1573.63,497.71 1323.72,444.385 1062.39,468.865 850.878,564.71 737.673,709.12 747.8,868.642 877.86,1007.08 1097.68,1093.69 \n",
       "  1357.88,1109.86 1601.31,1052.74 1775.67,935.365 1844.51,783.301 1794.28,628.882 1636.48,504.297 1404.48,435.003 1146.25,434.755 914.256,503.129 754.906,625.944 \n",
       "  699.457,778.392 758.162,930.18 918.744,1051.61 1149.32,1119.35 1405.07,1120.8 1637.13,1056.19 1801.92,938.203 1869.19,789.291 1827.17,637.242 1684.32,509.992 \n",
       "  1467.29,430.566 1215.75,413.049 975.066,460.255 788.108,563.429 687.737,704.005 691.179,857.04 797.274,995.71 987.019,1096.02 1227.22,1140.92 1476.47,1123.06 \n",
       "  1692.42,1045.88 1838.91,922.751 1891.88,774.54 1843.09,625.99 1701.14,501.59 1489.75,421.594 1243.67,398.821 1002.9,436.709 806.183,528.907 684.869,660.421 \n",
       "  657.978,810.131 729.362,954.23 887.322,1070.04 1106.69,1139.55 1353.02,1152.18 1588.05,1106.29 1775.74,1009.23 1887.68,876.104 1907.28,727.288 1832.02,585.308 \n",
       "  1673.63,471.429 1456.08,402.53 1211.91,388.67 \n",
       "  \"/>\n",
       "<polyline clip-path=\"url(#clip0402)\" style=\"stroke:#c271d2; stroke-width:4; stroke-opacity:1; fill:none\" points=\"\n",
       "  1815.5,773.647 1752.23,616.855 1573.63,497.71 1323.72,444.385 1062.39,468.865 850.878,564.71 737.673,709.12 747.799,868.641 877.86,1007.08 1097.68,1093.69 \n",
       "  1357.88,1109.86 1601.31,1052.74 1775.67,935.365 1844.51,783.301 1794.28,628.882 1636.48,504.297 1404.48,435.003 1146.25,434.754 914.256,503.128 754.906,625.944 \n",
       "  699.456,778.392 758.162,930.18 918.744,1051.61 1149.32,1119.35 1405.07,1120.8 1637.13,1056.19 1801.92,938.203 1869.19,789.291 1827.17,637.242 1684.32,509.992 \n",
       "  1467.29,430.566 1215.75,413.049 975.067,460.255 788.108,563.429 687.738,704.004 691.179,857.039 797.273,995.71 987.018,1096.02 1227.22,1140.92 1476.47,1123.06 \n",
       "  1692.42,1045.88 1838.91,922.752 1891.88,774.54 1843.09,625.991 1701.14,501.591 1489.75,421.594 1243.67,398.821 1002.9,436.709 806.183,528.906 684.87,660.42 \n",
       "  657.978,810.13 729.361,954.23 887.321,1070.04 1106.69,1139.55 1353.02,1152.18 1588.05,1106.29 1775.74,1009.23 1887.68,876.105 1907.28,727.289 1832.03,585.309 \n",
       "  1673.63,471.43 1456.09,402.53 1211.91,388.67 \n",
       "  \"/>\n",
       "<polyline clip-path=\"url(#clip0402)\" style=\"stroke:#ac8d18; stroke-width:4; stroke-opacity:1; fill:none\" points=\"\n",
       "  1815.5,773.647 1752.23,616.855 1573.63,497.71 1323.72,444.385 1062.39,468.865 850.878,564.71 737.673,709.12 747.8,868.642 877.86,1007.08 1097.68,1093.69 \n",
       "  1357.88,1109.86 1601.31,1052.74 1775.67,935.365 1844.51,783.301 1794.28,628.882 1636.48,504.297 1404.48,435.003 1146.25,434.755 914.256,503.129 754.906,625.944 \n",
       "  699.457,778.392 758.162,930.18 918.744,1051.61 1149.32,1119.35 1405.07,1120.8 1637.13,1056.19 1801.92,938.203 1869.19,789.291 1827.17,637.242 1684.32,509.992 \n",
       "  1467.29,430.566 1215.75,413.049 975.066,460.255 788.108,563.429 687.737,704.005 691.179,857.04 797.274,995.71 987.019,1096.02 1227.22,1140.92 1476.47,1123.06 \n",
       "  1692.42,1045.88 1838.91,922.751 1891.88,774.54 1843.09,625.99 1701.14,501.59 1489.75,421.594 1243.67,398.821 1002.9,436.709 806.183,528.907 684.869,660.421 \n",
       "  657.978,810.131 729.362,954.23 887.322,1070.04 1106.69,1139.55 1353.02,1152.18 1588.05,1106.29 1775.74,1009.23 1887.68,876.104 1907.28,727.288 1832.02,585.308 \n",
       "  1673.63,471.429 1456.08,402.53 1211.91,388.67 \n",
       "  \"/>\n",
       "<polyline clip-path=\"url(#clip0402)\" style=\"stroke:#00a9ad; stroke-width:4; stroke-opacity:1; fill:none\" points=\"\n",
       "  1815.5,773.647 1752.23,616.855 1573.63,497.71 1323.72,444.385 1062.39,468.865 850.878,564.71 737.673,709.12 747.799,868.641 877.86,1007.08 1097.68,1093.69 \n",
       "  1357.88,1109.86 1601.31,1052.74 1775.67,935.365 1844.51,783.301 1794.28,628.882 1636.48,504.297 1404.48,435.003 1146.25,434.754 914.256,503.128 754.906,625.944 \n",
       "  699.456,778.392 758.162,930.18 918.744,1051.61 1149.32,1119.35 1405.07,1120.8 1637.13,1056.19 1801.92,938.203 1869.19,789.291 1827.17,637.242 1684.32,509.992 \n",
       "  1467.29,430.566 1215.75,413.049 975.067,460.255 788.108,563.429 687.738,704.004 691.179,857.039 797.273,995.71 987.018,1096.02 1227.22,1140.92 1476.47,1123.06 \n",
       "  1692.42,1045.88 1838.91,922.752 1891.88,774.54 1843.09,625.991 1701.14,501.591 1489.75,421.594 1243.67,398.821 1002.9,436.709 806.183,528.906 684.87,660.42 \n",
       "  657.978,810.13 729.361,954.23 887.321,1070.04 1106.69,1139.55 1353.02,1152.18 1588.05,1106.29 1775.74,1009.23 1887.68,876.105 1907.28,727.289 1832.03,585.309 \n",
       "  1673.63,471.43 1456.09,402.53 1211.91,388.67 \n",
       "  \"/>\n",
       "<polyline clip-path=\"url(#clip0402)\" style=\"stroke:#ed5d92; stroke-width:4; stroke-opacity:1; fill:none\" points=\"\n",
       "  1815.5,773.647 1752.23,616.855 1573.63,497.71 1323.72,444.385 1062.39,468.865 850.878,564.71 737.673,709.12 747.8,868.642 877.86,1007.08 1097.68,1093.69 \n",
       "  1357.88,1109.86 1601.31,1052.74 1775.67,935.365 1844.51,783.301 1794.28,628.882 1636.48,504.297 1404.48,435.003 1146.25,434.755 914.256,503.129 754.906,625.944 \n",
       "  699.457,778.392 758.162,930.18 918.744,1051.61 1149.32,1119.35 1405.07,1120.8 1637.13,1056.19 1801.92,938.203 1869.19,789.291 1827.17,637.242 1684.32,509.992 \n",
       "  1467.29,430.566 1215.75,413.049 975.066,460.255 788.108,563.429 687.737,704.005 691.179,857.04 797.274,995.71 987.019,1096.02 1227.22,1140.92 1476.47,1123.06 \n",
       "  1692.42,1045.88 1838.91,922.751 1891.88,774.54 1843.09,625.99 1701.14,501.59 1489.75,421.594 1243.67,398.821 1002.9,436.709 806.183,528.907 684.869,660.421 \n",
       "  657.978,810.131 729.362,954.23 887.322,1070.04 1106.69,1139.55 1353.02,1152.18 1588.05,1106.29 1775.74,1009.23 1887.68,876.104 1907.28,727.288 1832.02,585.308 \n",
       "  1673.63,471.429 1456.08,402.53 1211.91,388.67 \n",
       "  \"/>\n",
       "<polyline clip-path=\"url(#clip0402)\" style=\"stroke:#c68125; stroke-width:4; stroke-opacity:1; fill:none\" points=\"\n",
       "  1815.5,773.647 1752.23,616.855 1573.63,497.71 1323.72,444.385 1062.39,468.865 850.878,564.71 737.673,709.12 747.799,868.641 877.86,1007.08 1097.68,1093.69 \n",
       "  1357.88,1109.86 1601.31,1052.74 1775.67,935.365 1844.51,783.301 1794.28,628.882 1636.48,504.297 1404.48,435.003 1146.25,434.754 914.256,503.128 754.906,625.944 \n",
       "  699.456,778.392 758.162,930.18 918.744,1051.61 1149.32,1119.35 1405.07,1120.8 1637.13,1056.19 1801.92,938.203 1869.19,789.291 1827.17,637.242 1684.32,509.992 \n",
       "  1467.29,430.566 1215.75,413.049 975.067,460.255 788.108,563.429 687.738,704.004 691.179,857.039 797.273,995.71 987.018,1096.02 1227.22,1140.92 1476.47,1123.06 \n",
       "  1692.42,1045.88 1838.91,922.752 1891.88,774.54 1843.09,625.991 1701.14,501.591 1489.75,421.594 1243.67,398.821 1002.9,436.709 806.183,528.906 684.87,660.42 \n",
       "  657.978,810.13 729.361,954.23 887.321,1070.04 1106.69,1139.55 1353.02,1152.18 1588.05,1106.29 1775.74,1009.23 1887.68,876.105 1907.28,727.289 1832.03,585.309 \n",
       "  1673.63,471.43 1456.09,402.53 1211.91,388.67 \n",
       "  \"/>\n",
       "<polyline clip-path=\"url(#clip0402)\" style=\"stroke:#00a98d; stroke-width:4; stroke-opacity:1; fill:none\" points=\"\n",
       "  1815.5,773.647 1752.23,616.855 1573.63,497.71 1323.72,444.385 1062.39,468.865 850.878,564.71 737.673,709.12 747.8,868.642 877.86,1007.08 1097.68,1093.69 \n",
       "  1357.88,1109.86 1601.31,1052.74 1775.67,935.365 1844.51,783.301 1794.28,628.882 1636.48,504.297 1404.48,435.003 1146.25,434.755 914.256,503.129 754.906,625.944 \n",
       "  699.457,778.392 758.162,930.18 918.744,1051.61 1149.32,1119.35 1405.07,1120.8 1637.13,1056.19 1801.92,938.203 1869.19,789.291 1827.17,637.242 1684.32,509.992 \n",
       "  1467.29,430.566 1215.75,413.049 975.066,460.255 788.108,563.429 687.737,704.005 691.179,857.04 797.274,995.71 987.019,1096.02 1227.22,1140.92 1476.47,1123.06 \n",
       "  1692.42,1045.88 1838.91,922.751 1891.88,774.54 1843.09,625.99 1701.14,501.59 1489.75,421.594 1243.67,398.821 1002.9,436.709 806.183,528.907 684.869,660.421 \n",
       "  657.978,810.131 729.362,954.23 887.322,1070.04 1106.69,1139.55 1353.02,1152.18 1588.05,1106.29 1775.74,1009.23 1887.68,876.104 1907.28,727.288 1832.02,585.308 \n",
       "  1673.63,471.429 1456.08,402.53 1211.91,388.67 \n",
       "  \"/>\n",
       "<polyline clip-path=\"url(#clip0402)\" style=\"stroke:#8e971d; stroke-width:4; stroke-opacity:1; fill:none\" points=\"\n",
       "  1815.5,773.647 1752.23,616.855 1573.63,497.71 1323.72,444.385 1062.39,468.865 850.878,564.71 737.673,709.12 747.799,868.641 877.86,1007.08 1097.68,1093.69 \n",
       "  1357.88,1109.86 1601.31,1052.74 1775.67,935.365 1844.51,783.301 1794.28,628.882 1636.48,504.297 1404.48,435.003 1146.25,434.754 914.256,503.128 754.906,625.944 \n",
       "  699.456,778.392 758.162,930.18 918.744,1051.61 1149.32,1119.35 1405.07,1120.8 1637.13,1056.19 1801.92,938.203 1869.19,789.291 1827.17,637.242 1684.32,509.992 \n",
       "  1467.29,430.566 1215.75,413.049 975.067,460.255 788.108,563.429 687.738,704.004 691.179,857.039 797.273,995.71 987.018,1096.02 1227.22,1140.92 1476.47,1123.06 \n",
       "  1692.42,1045.88 1838.91,922.752 1891.88,774.54 1843.09,625.991 1701.14,501.591 1489.75,421.594 1243.67,398.821 1002.9,436.709 806.183,528.906 684.87,660.42 \n",
       "  657.978,810.13 729.361,954.23 887.321,1070.04 1106.69,1139.55 1353.02,1152.18 1588.05,1106.29 1775.74,1009.23 1887.68,876.105 1907.28,727.289 1832.03,585.309 \n",
       "  1673.63,471.43 1456.09,402.53 1211.91,388.67 \n",
       "  \"/>\n",
       "<polyline clip-path=\"url(#clip0402)\" style=\"stroke:#00a8cb; stroke-width:4; stroke-opacity:1; fill:none\" points=\"\n",
       "  1815.5,773.647 1752.23,616.855 1573.63,497.71 1323.72,444.385 1062.39,468.865 850.878,564.71 737.673,709.12 747.8,868.642 877.86,1007.08 1097.68,1093.69 \n",
       "  1357.88,1109.86 1601.31,1052.74 1775.67,935.365 1844.51,783.301 1794.28,628.882 1636.48,504.297 1404.48,435.003 1146.25,434.755 914.256,503.129 754.906,625.944 \n",
       "  699.457,778.392 758.162,930.18 918.744,1051.61 1149.32,1119.35 1405.07,1120.8 1637.13,1056.19 1801.92,938.203 1869.19,789.291 1827.17,637.242 1684.32,509.992 \n",
       "  1467.29,430.566 1215.75,413.049 975.066,460.255 788.108,563.429 687.737,704.005 691.179,857.04 797.274,995.71 987.019,1096.02 1227.22,1140.92 1476.47,1123.06 \n",
       "  1692.42,1045.88 1838.91,922.751 1891.88,774.54 1843.09,625.99 1701.14,501.59 1489.75,421.594 1243.67,398.821 1002.9,436.709 806.183,528.907 684.869,660.421 \n",
       "  657.978,810.131 729.362,954.23 887.322,1070.04 1106.69,1139.55 1353.02,1152.18 1588.05,1106.29 1775.74,1009.23 1887.68,876.104 1907.28,727.288 1832.02,585.308 \n",
       "  1673.63,471.429 1456.08,402.53 1211.91,388.67 \n",
       "  \"/>\n",
       "<polyline clip-path=\"url(#clip0402)\" style=\"stroke:#9b7fe8; stroke-width:4; stroke-opacity:1; fill:none\" points=\"\n",
       "  1815.5,773.647 1752.23,616.855 1573.63,497.71 1323.72,444.385 1062.39,468.865 850.878,564.71 737.673,709.12 747.799,868.641 877.86,1007.08 1097.68,1093.69 \n",
       "  1357.88,1109.86 1601.31,1052.74 1775.67,935.365 1844.51,783.301 1794.28,628.882 1636.48,504.297 1404.48,435.003 1146.25,434.754 914.256,503.128 754.906,625.944 \n",
       "  699.456,778.392 758.162,930.18 918.744,1051.61 1149.32,1119.35 1405.07,1120.8 1637.13,1056.19 1801.92,938.203 1869.19,789.291 1827.17,637.242 1684.32,509.992 \n",
       "  1467.29,430.566 1215.75,413.049 975.067,460.255 788.108,563.429 687.738,704.004 691.179,857.039 797.273,995.71 987.018,1096.02 1227.22,1140.92 1476.47,1123.06 \n",
       "  1692.42,1045.88 1838.91,922.752 1891.88,774.54 1843.09,625.991 1701.14,501.591 1489.75,421.594 1243.67,398.821 1002.9,436.709 806.183,528.906 684.87,660.42 \n",
       "  657.978,810.13 729.361,954.23 887.321,1070.04 1106.69,1139.55 1353.02,1152.18 1588.05,1106.29 1775.74,1009.23 1887.68,876.105 1907.28,727.289 1832.03,585.309 \n",
       "  1673.63,471.43 1456.09,402.53 1211.91,388.67 \n",
       "  \"/>\n",
       "<circle clip-path=\"url(#clip0402)\" cx=\"1278.24\" cy=\"773.647\" r=\"36\" fill=\"#008000\" fill-rule=\"evenodd\" fill-opacity=\"1\" stroke=\"#000000\" stroke-opacity=\"1\" stroke-width=\"3.2\"/>\n",
       "<path clip-path=\"url(#clip0400)\" d=\"\n",
       "M1358.61 1051.92 L2280.76 1051.92 L2280.76 205.195 L1358.61 205.195  Z\n",
       "  \" fill=\"#ffffff\" fill-rule=\"evenodd\" fill-opacity=\"1\"/>\n",
       "<polyline clip-path=\"url(#clip0400)\" style=\"stroke:#000000; stroke-width:4; stroke-opacity:1; fill:none\" points=\"\n",
       "  1358.61,1051.92 2280.76,1051.92 2280.76,205.195 1358.61,205.195 1358.61,1051.92 \n",
       "  \"/>\n",
       "<polyline clip-path=\"url(#clip0400)\" style=\"stroke:#009af9; stroke-width:4; stroke-opacity:1; fill:none\" points=\"\n",
       "  1382.61,265.675 1526.61,265.675 \n",
       "  \"/>\n",
       "<g clip-path=\"url(#clip0400)\">\n",
       "<text style=\"fill:#000000; fill-opacity:1; font-family:Arial,Helvetica Neue,Helvetica,sans-serif; font-size:48px; text-anchor:start;\" transform=\"rotate(0, 1550.61, 283.175)\" x=\"1550.61\" y=\"283.175\">Orbita Astronauta para 300 km</text>\n",
       "</g>\n",
       "<polyline clip-path=\"url(#clip0400)\" style=\"stroke:#e26f46; stroke-width:4; stroke-opacity:1; fill:none\" points=\"\n",
       "  1382.61,326.155 1526.61,326.155 \n",
       "  \"/>\n",
       "<g clip-path=\"url(#clip0400)\">\n",
       "<text style=\"fill:#000000; fill-opacity:1; font-family:Arial,Helvetica Neue,Helvetica,sans-serif; font-size:48px; text-anchor:start;\" transform=\"rotate(0, 1550.61, 343.655)\" x=\"1550.61\" y=\"343.655\">Orbita herramienta para 300 km</text>\n",
       "</g>\n",
       "<polyline clip-path=\"url(#clip0400)\" style=\"stroke:#3da44d; stroke-width:4; stroke-opacity:1; fill:none\" points=\"\n",
       "  1382.61,386.635 1526.61,386.635 \n",
       "  \"/>\n",
       "<g clip-path=\"url(#clip0400)\">\n",
       "<text style=\"fill:#000000; fill-opacity:1; font-family:Arial,Helvetica Neue,Helvetica,sans-serif; font-size:48px; text-anchor:start;\" transform=\"rotate(0, 1550.61, 404.135)\" x=\"1550.61\" y=\"404.135\">Orbita Astronauta para 320 km</text>\n",
       "</g>\n",
       "<polyline clip-path=\"url(#clip0400)\" style=\"stroke:#c271d2; stroke-width:4; stroke-opacity:1; fill:none\" points=\"\n",
       "  1382.61,447.115 1526.61,447.115 \n",
       "  \"/>\n",
       "<g clip-path=\"url(#clip0400)\">\n",
       "<text style=\"fill:#000000; fill-opacity:1; font-family:Arial,Helvetica Neue,Helvetica,sans-serif; font-size:48px; text-anchor:start;\" transform=\"rotate(0, 1550.61, 464.615)\" x=\"1550.61\" y=\"464.615\">Orbita herramienta para 320 km</text>\n",
       "</g>\n",
       "<polyline clip-path=\"url(#clip0400)\" style=\"stroke:#ac8d18; stroke-width:4; stroke-opacity:1; fill:none\" points=\"\n",
       "  1382.61,507.595 1526.61,507.595 \n",
       "  \"/>\n",
       "<g clip-path=\"url(#clip0400)\">\n",
       "<text style=\"fill:#000000; fill-opacity:1; font-family:Arial,Helvetica Neue,Helvetica,sans-serif; font-size:48px; text-anchor:start;\" transform=\"rotate(0, 1550.61, 525.095)\" x=\"1550.61\" y=\"525.095\">Orbita Astronauta para 340 km</text>\n",
       "</g>\n",
       "<polyline clip-path=\"url(#clip0400)\" style=\"stroke:#00a9ad; stroke-width:4; stroke-opacity:1; fill:none\" points=\"\n",
       "  1382.61,568.075 1526.61,568.075 \n",
       "  \"/>\n",
       "<g clip-path=\"url(#clip0400)\">\n",
       "<text style=\"fill:#000000; fill-opacity:1; font-family:Arial,Helvetica Neue,Helvetica,sans-serif; font-size:48px; text-anchor:start;\" transform=\"rotate(0, 1550.61, 585.575)\" x=\"1550.61\" y=\"585.575\">Orbita herramienta para 340 km</text>\n",
       "</g>\n",
       "<polyline clip-path=\"url(#clip0400)\" style=\"stroke:#ed5d92; stroke-width:4; stroke-opacity:1; fill:none\" points=\"\n",
       "  1382.61,628.555 1526.61,628.555 \n",
       "  \"/>\n",
       "<g clip-path=\"url(#clip0400)\">\n",
       "<text style=\"fill:#000000; fill-opacity:1; font-family:Arial,Helvetica Neue,Helvetica,sans-serif; font-size:48px; text-anchor:start;\" transform=\"rotate(0, 1550.61, 646.055)\" x=\"1550.61\" y=\"646.055\">Orbita Astronauta para 360 km</text>\n",
       "</g>\n",
       "<polyline clip-path=\"url(#clip0400)\" style=\"stroke:#c68125; stroke-width:4; stroke-opacity:1; fill:none\" points=\"\n",
       "  1382.61,689.035 1526.61,689.035 \n",
       "  \"/>\n",
       "<g clip-path=\"url(#clip0400)\">\n",
       "<text style=\"fill:#000000; fill-opacity:1; font-family:Arial,Helvetica Neue,Helvetica,sans-serif; font-size:48px; text-anchor:start;\" transform=\"rotate(0, 1550.61, 706.535)\" x=\"1550.61\" y=\"706.535\">Orbita herramienta para 360 km</text>\n",
       "</g>\n",
       "<polyline clip-path=\"url(#clip0400)\" style=\"stroke:#00a98d; stroke-width:4; stroke-opacity:1; fill:none\" points=\"\n",
       "  1382.61,749.515 1526.61,749.515 \n",
       "  \"/>\n",
       "<g clip-path=\"url(#clip0400)\">\n",
       "<text style=\"fill:#000000; fill-opacity:1; font-family:Arial,Helvetica Neue,Helvetica,sans-serif; font-size:48px; text-anchor:start;\" transform=\"rotate(0, 1550.61, 767.015)\" x=\"1550.61\" y=\"767.015\">Orbita Astronauta para 380 km</text>\n",
       "</g>\n",
       "<polyline clip-path=\"url(#clip0400)\" style=\"stroke:#8e971d; stroke-width:4; stroke-opacity:1; fill:none\" points=\"\n",
       "  1382.61,809.995 1526.61,809.995 \n",
       "  \"/>\n",
       "<g clip-path=\"url(#clip0400)\">\n",
       "<text style=\"fill:#000000; fill-opacity:1; font-family:Arial,Helvetica Neue,Helvetica,sans-serif; font-size:48px; text-anchor:start;\" transform=\"rotate(0, 1550.61, 827.495)\" x=\"1550.61\" y=\"827.495\">Orbita herramienta para 380 km</text>\n",
       "</g>\n",
       "<polyline clip-path=\"url(#clip0400)\" style=\"stroke:#00a8cb; stroke-width:4; stroke-opacity:1; fill:none\" points=\"\n",
       "  1382.61,870.475 1526.61,870.475 \n",
       "  \"/>\n",
       "<g clip-path=\"url(#clip0400)\">\n",
       "<text style=\"fill:#000000; fill-opacity:1; font-family:Arial,Helvetica Neue,Helvetica,sans-serif; font-size:48px; text-anchor:start;\" transform=\"rotate(0, 1550.61, 887.975)\" x=\"1550.61\" y=\"887.975\">Orbita Astronauta para 400 km</text>\n",
       "</g>\n",
       "<polyline clip-path=\"url(#clip0400)\" style=\"stroke:#9b7fe8; stroke-width:4; stroke-opacity:1; fill:none\" points=\"\n",
       "  1382.61,930.955 1526.61,930.955 \n",
       "  \"/>\n",
       "<g clip-path=\"url(#clip0400)\">\n",
       "<text style=\"fill:#000000; fill-opacity:1; font-family:Arial,Helvetica Neue,Helvetica,sans-serif; font-size:48px; text-anchor:start;\" transform=\"rotate(0, 1550.61, 948.455)\" x=\"1550.61\" y=\"948.455\">Orbita herramienta para 400 km</text>\n",
       "</g>\n",
       "<circle clip-path=\"url(#clip0400)\" cx=\"1466.61\" cy=\"991.435\" r=\"21\" fill=\"#008000\" fill-rule=\"evenodd\" fill-opacity=\"1\" stroke=\"#000000\" stroke-opacity=\"1\" stroke-width=\"3.2\"/>\n",
       "<g clip-path=\"url(#clip0400)\">\n",
       "<text style=\"fill:#000000; fill-opacity:1; font-family:Arial,Helvetica Neue,Helvetica,sans-serif; font-size:48px; text-anchor:start;\" transform=\"rotate(0, 1550.61, 1008.94)\" x=\"1550.61\" y=\"1008.94\">Tierra</text>\n",
       "</g>\n",
       "</svg>\n"
      ]
     },
     "execution_count": 24,
     "metadata": {},
     "output_type": "execute_result"
    }
   ],
   "source": [
    "tiempo=collect(0:0.5:10*π)\n",
    "plot(title=\"Sistema Astronauta-Herramienta\",xlabel=\"x\",ylabel=\"y\")\n",
    "for i in 300:20:400\n",
    "    sol=distancias(i)\n",
    "    xA,yA,vxA,vyA = sol[1], 0.0, 0.0, 1/sqrt(sol[1])\n",
    "    xH,yH,vxH,vyH = sol[2], 0.0, 0.0, 1/sqrt(sol[2])\n",
    "    cond_inic = [xA,yA,vxA,vyA,xH,yH,vxH,vyH]\n",
    "    solucion=RK_4(sistema_AH,cond_inic,tiempo)\n",
    "    #solucion=[xA,yA,vxA,vyA,xH,yH,vxH,vyH]\n",
    "    plot!(solucion[:,1],solucion[:,2], label=\"Orbita Astronauta para $i km\",lw=1.0)\n",
    "    plot!(solucion[:,5],solucion[:,6], label=\"Orbita herramienta para $i km\",lw=1.0)\n",
    "end\n",
    "scatter!([0],[0],markershape=:circle,markersize=10,markercolor=:green,label=\"Tierra\",xlim=(-2,2),ylim=(-2,2))"
   ]
  },
  {
   "cell_type": "markdown",
   "metadata": {},
   "source": [
    "Ahora programamos nuevamente el sistema Tierra-herramienta-astronauta pero agregamos a aceleración de la herramienta en x, y como una variable: Para raaficar diferentes orbitas dependiendo de la aceleración inicial de la herramienta."
   ]
  },
  {
   "cell_type": "code",
   "execution_count": 61,
   "metadata": {},
   "outputs": [
    {
     "data": {
      "text/plain": [
       "sistema_AH_aceleracion (generic function with 1 method)"
      ]
     },
     "execution_count": 61,
     "metadata": {},
     "output_type": "execute_result"
    }
   ],
   "source": [
    "### r=[xA,yA,vxA,vyA,xH,yH,vxH,vyH,axH,ayH]\n",
    "### r= 1, 2,  3,  4,  5, 6, 7,  8, 9,  10\n",
    "function sistema_AH_aceleracion(r,t)\n",
    "    G=6.674e-11 #constante de gravitación universal\n",
    "    mT=5.972e24 #masa de la Tierra\n",
    "    mA=70 #masa de la astronauta\n",
    "    mH=5 #masa de la herramienta\n",
    "    \n",
    "    #Definimos la aceleración de la herramienta\n",
    "    axH = r[9]\n",
    "    ayH = r[10]\n",
    "    #definimos la aceleracion sobre la astronauta debido al lanzamiento de la herramienta\n",
    "    axA=-(mH/mA)*r[9]\n",
    "    ayA=-(mH/mA)*r[10]\n",
    "    \n",
    "    #definimos la distancia del astronauta a la Luna\n",
    "    rA = sqrt(r[1]^2 + r[2]^2)\n",
    "    #definimos la distancia de la herramienta a la Luna\n",
    "    rH=sqrt(r[5]^2 + r[6]^2)\n",
    "    #definimos la distancia del astronauta a la herramienta\n",
    "    rAH=sqrt((r[1]-r[5])^2 + (r[2]-r[6])^2)\n",
    "    \n",
    "    #Ecuaciones del astronauta\n",
    "    vxA = r[3]\n",
    "    dvxA = -( r[1]/(rA^3) )+( (mH/mT)*((r[5]-r[1])/(rAH^3)) )+(axA/(G*mT))\n",
    "    \n",
    "    vyA = r[4]\n",
    "    dvyA = -( r[2]/(rA^3) )+( (mH/mT)*((r[6]-r[2])/(rAH^3)) )+(ayA/(G*mT))\n",
    "    #Ecuaciones de la herramienta\n",
    "    vxH=r[7]\n",
    "    dvxH = -( r[5]/(rH^3) )-( (mA/mT)*((r[5]-r[1])/(rAH^3)) )+(axH/(G*mT))\n",
    "    \n",
    "    vyH=r[8]\n",
    "    dvyH = -( r[6]/(rH^3) )-( (mA/mT)*((r[6]-r[2])/(rAH^3)) )+(ayH/(G*mT))\n",
    "    \n",
    "    return([vxA,vyA,dvxA,dvyA,vxH,vyH,dvxH,dvyH,axA,ayA])\n",
    "end    "
   ]
  },
  {
   "cell_type": "code",
   "execution_count": null,
   "metadata": {},
   "outputs": [],
   "source": [
    "tiempo=collect(0:0.5:10*π)\n",
    "plot(title=\"Sistema Astronauta-Herramienta\",xlabel=\"x\",ylabel=\"y\")\n",
    "for i in 100:1000:10000\n",
    "    ayHi=i\n",
    "    axH = 100\n",
    "    xA,yA,vxA,vyA = rA, 0.0, 0.0, 1/sqrt(rA)\n",
    "    xH,yH,vxH,vyH = rH, 0.0, 0.0, 1/sqrt(rH)\n",
    "    cond_inic = [xA,yA,vxA,vyA,xH,yH,vxH,vyH,axH,ayHi]\n",
    "    solucion=RK_4(sistema_AH_aceleracion,cond_inic,tiempo)\n",
    "\n",
    "    #solucion=[xA,yA,vxA,vyA,xH,yH,vxH,vyH,axH,ayH]\n",
    "    plot!(solucion[:,1],solucion[:,2], label=\"Orbita Astronauta\",lw=1.0)\n",
    "    plot!(solucion[:,5],solucion[:,6], label=\"Orbita herramienta\",lw=1.0)\n",
    "end\n",
    "scatter!([0],[0],markershape=:circle,markersize=10,markercolor=:green,label=\"Tierra\",xlim=(-2,2),ylim=(-2,2))"
   ]
  },
  {
   "cell_type": "code",
   "execution_count": null,
   "metadata": {},
   "outputs": [],
   "source": []
  }
 ],
 "metadata": {
  "@webio": {
   "lastCommId": null,
   "lastKernelId": null
  },
  "kernelspec": {
   "display_name": "Julia 1.5.1",
   "language": "julia",
   "name": "julia-1.5"
  },
  "language_info": {
   "file_extension": ".jl",
   "mimetype": "application/julia",
   "name": "julia",
   "version": "1.5.1"
  }
 },
 "nbformat": 4,
 "nbformat_minor": 4
}
