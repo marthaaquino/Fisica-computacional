{
 "cells": [
  {
   "cell_type": "code",
   "execution_count": 4,
   "metadata": {},
   "outputs": [],
   "source": [
    "using Plots\n",
    "using LaTeXStrings"
   ]
  },
  {
   "cell_type": "code",
   "execution_count": 17,
   "metadata": {
    "scrolled": true
   },
   "outputs": [
    {
     "data": {
      "text/plain": [
       "circ (generic function with 2 methods)"
      ]
     },
     "execution_count": 17,
     "metadata": {},
     "output_type": "execute_result"
    }
   ],
   "source": [
    "function circ(x)\n",
    "    return [x[1],x[2],x[3]+x[1]]\n",
    "end "
   ]
  },
  {
   "cell_type": "code",
   "execution_count": 6,
   "metadata": {},
   "outputs": [
    {
     "data": {
      "text/plain": [
       "jacobiano (generic function with 1 method)"
      ]
     },
     "execution_count": 6,
     "metadata": {},
     "output_type": "execute_result"
    }
   ],
   "source": [
    "#jacobiano autónomo general\n",
    "function jacobiano(xi,h,func)\n",
    "    m=func(xi)\n",
    "    jac=zeros(length(func(xi)),length(xi))\n",
    "    for i in 1:length(func(xi)), j in 1:length(xi)\n",
    "        xp1=zeros(length(xi))\n",
    "        xp2=zeros(length(xi))\n",
    "        for k in 1:length(xi)\n",
    "            if  k==j #k==i ||\n",
    "                xp1[k]=xi[j]+h\n",
    "                xp2[k]=xi[j]-h\n",
    "            else\n",
    "                xp1[k]=xi[j]\n",
    "                xp2[k]=xi[j]\n",
    "            end\n",
    "        end\n",
    "        jac[i,j]=(circ(xp1)[i]-circ(xp2)[i])/(xp1[j]-xp2[j])\n",
    "    end\n",
    "    return jac\n",
    "end"
   ]
  },
  {
   "cell_type": "markdown",
   "metadata": {},
   "source": []
  },
  {
   "cell_type": "code",
   "execution_count": 9,
   "metadata": {},
   "outputs": [
    {
     "data": {
      "text/plain": [
       "jacobianotemp (generic function with 1 method)"
      ]
     },
     "execution_count": 9,
     "metadata": {},
     "output_type": "execute_result"
    }
   ],
   "source": [
    "#jacobiano autónomo general\n",
    "function jacobianotemp(xi,h,func)\n",
    "    m=func(xi)\n",
    "    jac=zeros(length(func(xi)),length(xi))\n",
    "    for i in 1:length(func(xi)), j in 1:length(xi)\n",
    "        xp1=zeros(length(xi))\n",
    "        xp2=zeros(length(xi))\n",
    "        for k in 1:length(xi)\n",
    "            if  k==j #k==i ||\n",
    "                xp1[k]=xi[j]+h\n",
    "                xp2[k]=xi[j]-h\n",
    "            else\n",
    "                xp1[k]=xi[j]\n",
    "                xp2[k]=xi[j]\n",
    "            end\n",
    "        end\n",
    "        jac[i,j]=(circ(xp1)[i]-circ(xp2)[i])/(xp1[j]-xp2[j])\n",
    "    end\n",
    "    return jac\n",
    "end"
   ]
  },
  {
   "cell_type": "code",
   "execution_count": 18,
   "metadata": {},
   "outputs": [
    {
     "data": {
      "text/plain": [
       "3×3 Array{Float64,2}:\n",
       " 1.0  0.0  0.0\n",
       " 0.0  1.0  0.0\n",
       " 1.0  0.0  1.0"
      ]
     },
     "execution_count": 18,
     "metadata": {},
     "output_type": "execute_result"
    }
   ],
   "source": [
    "x=1,1,1\n",
    "A=jacobianotemp(x,0.1,circ)"
   ]
  },
  {
   "cell_type": "code",
   "execution_count": null,
   "metadata": {},
   "outputs": [],
   "source": [
    "function jacobianot(xi,t,h,func)\n",
    "    m=func(xi,t)\n",
    "    jac=zeros(length(func(xi,t)),(length(xi)+1))\n",
    "    #j entradas de la función\n",
    "    #i num de variables\n",
    "    for i in 1:length(func(xi,t)) \n",
    "        for j in 1:length(xi)\n",
    "            xp1=zeros(length(xi))\n",
    "            xp2=zeros(length(xi))\n",
    "            for k in 1:length(xi)\n",
    "                if  k==j #k==i ||\n",
    "                xp1[k]=xi[j]+h\n",
    "                xp2[k]=xi[j]-h\n",
    "                else\n",
    "                    xp1[k]=xi[j]\n",
    "                    xp2[k]=xi[j]\n",
    "                end\n",
    "            end\n",
    "      \n",
    "            jac[i,j]=(circ(xp1)[i]-circ(xp2)[i])/(xp1[j]-xp2[j])\n",
    "            end \n",
    "        t1=t-h\n",
    "        t2=t+h\n",
    "        jac[i,length(xi)+1]=(circ(xi,t2)[i]-circ(xi-t1)[i])/(t2-t1)\n",
    "    end\n",
    "\n",
    "    return jac\n",
    "end"
   ]
  }
 ],
 "metadata": {
  "kernelspec": {
   "display_name": "Julia 1.5.1",
   "language": "julia",
   "name": "julia-1.5"
  },
  "language_info": {
   "file_extension": ".jl",
   "mimetype": "application/julia",
   "name": "julia",
   "version": "1.5.1"
  }
 },
 "nbformat": 4,
 "nbformat_minor": 4
}
