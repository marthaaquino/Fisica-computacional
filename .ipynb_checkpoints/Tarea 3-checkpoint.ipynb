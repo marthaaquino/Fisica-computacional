{
 "cells": [
  {
   "cell_type": "code",
   "execution_count": 4,
   "metadata": {},
   "outputs": [],
   "source": [
    "using Plots\n",
    "using LaTeXStrings"
   ]
  },
  {
   "cell_type": "code",
   "execution_count": 123,
   "metadata": {
    "scrolled": true
   },
   "outputs": [
    {
     "data": {
      "text/plain": [
       "circ (generic function with 2 methods)"
      ]
     },
     "execution_count": 123,
     "metadata": {},
     "output_type": "execute_result"
    }
   ],
   "source": [
    "function circ(x)\n",
    "    return [x[1],x[3]+x[1]]\n",
    "end "
   ]
  },
  {
   "cell_type": "markdown",
   "metadata": {},
   "source": [
    "##### 1.- En clase vimos el método de Euler mejorado en el que nosotros introducimos el Jacobiano de forma analítica para ser evaluado por el método de integración. Realice una función que implemente el mismo método de integración, pero en lugar de calcular el Jacobiano con una función que lo evalúa analíticamente, ahora sea calculado de manera numérica utilizando la derivación numérica."
   ]
  },
  {
   "cell_type": "code",
   "execution_count": 127,
   "metadata": {},
   "outputs": [
    {
     "data": {
      "text/plain": [
       "jacobiano (generic function with 1 method)"
      ]
     },
     "execution_count": 127,
     "metadata": {},
     "output_type": "execute_result"
    }
   ],
   "source": [
    "#jacobiano autónomo general\n",
    "function jacobiano(xi,h,func)\n",
    "    \n",
    "    jac=zeros(length(func(xi)),length(xi))\n",
    "    \n",
    "    for i in 1:length(func(xi)), j in 1:length(xi)\n",
    "        \n",
    "        xp1=zeros(length(xi))\n",
    "        xp2=zeros(length(xi))\n",
    "        for k in 1:length(xi)\n",
    "            if  k==j #k==i ||\n",
    "                xp1[k]=xi[j]+h\n",
    "                xp2[k]=xi[j]-h\n",
    "            else\n",
    "                xp1[k]=xi[j]\n",
    "                xp2[k]=xi[j]\n",
    "            end\n",
    "        end\n",
    "        jac[i,j]=(func(xp1)[i]-func(xp2)[i])/(xp1[j]-xp2[j])\n",
    "    end\n",
    "    return jac\n",
    "end"
   ]
  },
  {
   "cell_type": "markdown",
   "metadata": {},
   "source": []
  },
  {
   "cell_type": "code",
   "execution_count": 128,
   "metadata": {},
   "outputs": [
    {
     "data": {
      "text/plain": [
       "jacobianotemp (generic function with 1 method)"
      ]
     },
     "execution_count": 128,
     "metadata": {},
     "output_type": "execute_result"
    }
   ],
   "source": [
    "#jacobiano autónomo general\n",
    "function jacobianotemp(xi,h,func)\n",
    "    m=func(xi)\n",
    "    jac=zeros(length(func(xi)),length(xi))\n",
    "    for i in 1:length(func(xi)), j in 1:length(xi)\n",
    "        xp1=zeros(length(xi))\n",
    "        xp2=zeros(length(xi))\n",
    "        for k in 1:length(xi)\n",
    "            if  k==j #k==i ||\n",
    "                xp1[k]=xi[j]+h\n",
    "                xp2[k]=xi[j]-h\n",
    "            else\n",
    "                xp1[k]=xi[j]\n",
    "                xp2[k]=xi[j]\n",
    "            end\n",
    "        end\n",
    "        jac[i,j]=(func(xp1)[i]-func(xp2)[i])/(xp1[j]-xp2[j])\n",
    "    end\n",
    "    return jac\n",
    "end"
   ]
  },
  {
   "cell_type": "code",
   "execution_count": 129,
   "metadata": {},
   "outputs": [
    {
     "data": {
      "text/plain": [
       "2×3 Array{Float64,2}:\n",
       " 1.0  0.0  0.0\n",
       " 1.0  0.0  1.0"
      ]
     },
     "execution_count": 129,
     "metadata": {},
     "output_type": "execute_result"
    }
   ],
   "source": [
    "x=1,1,1\n",
    "A=jacobianotemp(x,0.1,circ)"
   ]
  },
  {
   "cell_type": "code",
   "execution_count": 130,
   "metadata": {},
   "outputs": [
    {
     "data": {
      "text/plain": [
       "Euler_mejorado_J (generic function with 2 methods)"
      ]
     },
     "execution_count": 130,
     "metadata": {},
     "output_type": "execute_result"
    }
   ],
   "source": [
    "function Euler_mejorado_J(edo,p_ini,t,jacob)\n",
    "    # Este solo tiene J y g sin dependencia temporal.\n",
    "    sol = zeros(length(t),length(p_ini))\n",
    "    sol[1,:] = p_ini\n",
    "    δ = t[2]-t[1]\n",
    "    for i in 1:(length(t)-1)\n",
    "        J=jacobianotemp(xi, δ ,edo)\n",
    "        sol[i+1,:] .= sol[i,:] .+ δ .*edo(sol[i,:],t[i])\n",
    "        sol[i+1,:] .+= 0.5*(δ^2) .*(jacob(sol[i,:],t[i]) *edo(sol[i,:],t[i])) # ojo sistema autonomo\n",
    "    end\n",
    "    return sol\n",
    "end"
   ]
  },
  {
   "cell_type": "code",
   "execution_count": 119,
   "metadata": {},
   "outputs": [
    {
     "ename": "LoadError",
     "evalue": "syntax: incomplete: \"function\" at In[119]:1 requires end",
     "output_type": "error",
     "traceback": [
      "syntax: incomplete: \"function\" at In[119]:1 requires end",
      "",
      "Stacktrace:",
      " [1] top-level scope at In[119]:1",
      " [2] include_string(::Function, ::Module, ::String, ::String) at .\\loading.jl:1091"
     ]
    }
   ],
   "source": [
    "function Euler_mejorado_Jp(edo,p_ini,t,jacob)\n",
    "    # Este solo tiene J y g sin dependencia temporal.\n",
    "    sol = zeros(length(t),length(p_ini))\n",
    "    sol[1,:] = p_ini\n",
    "    δ = t[2]-t[1]\n",
    "    for i in 1:(length(t)-1)\n",
    "        xi=[i for i in sol[i,:]]\n",
    "        push!(xi,t[i])\n",
    "        J=jacobianotemp(xi,h,func)\n",
    "        eval_edo=[sol[1,:],t[i]]\n",
    "        if length(eval_edo)==lenght(p_ini)\n",
    "            sol[i+1,:] .= sol[i,:] .+δ .*eval_edo\n",
    "        else \n",
    "            sol[i+1,:] .= sol[i,:] .+ δ .*edo[1:(end-1)]\n",
    "\n",
    "        sol[i+1,:] .+= 0.5*(δ^2) .*(J*edo(sol[i,:],t[i])) # ojo sistema autonomo\n",
    "        end\n",
    "    return sol\n",
    "end"
   ]
  },
  {
   "cell_type": "markdown",
   "metadata": {},
   "source": [
    "### 2.- Utilizando los integradores de Euler mejorado con Jacobiano analítico, Euler mejorado con Jacobiano numérico, Runge-Kutta de $2^{\\circ}$ orden y Runge-Kutta de $4^{\\circ}$ orden, encuentre un paso de integración que proporcione una precisión de $10^{−4}$ en la solución para la siguiente ecuación:\n",
    "\n",
    "$$\n",
    "\\dddot{y} + \\ddot{y}^2 - 3\\dot{y}^3 + \\cos^2{y} = e^{-t}\\sin{3t}\n",
    "$$\n",
    "\n",
    "##### Con condiciones iniciales $\\ddot{y}(1)=1$, $\\dot{y}(1)=2$, $y(1)=1$. En particular, ¿qué sucede en en $t\\in[1,2]$ y $t\\in[1,2.1]$?"
   ]
  },
  {
   "cell_type": "markdown",
   "metadata": {},
   "source": [
    "Transcribimos las funciones Euler mejorado con Jacobiano analítico:"
   ]
  },
  {
   "cell_type": "code",
   "execution_count": 47,
   "metadata": {},
   "outputs": [
    {
     "data": {
      "text/plain": [
       "Euler_mejorado_J_t_p (generic function with 2 methods)"
      ]
     },
     "execution_count": 47,
     "metadata": {},
     "output_type": "execute_result"
    }
   ],
   "source": [
    "function Euler_mejorado_J_t_p(edo,p_ini,t,jacob)\n",
    "    # J y g con dependencia temporal y de parametros externos\n",
    "    sol = zeros(length(t),length(p_ini))\n",
    "    sol[1,:] = p_ini\n",
    "    δ = t[2]-t[1]\n",
    "    for i in 1:(length(t)-1)\n",
    "        eval_edo = edo(sol[i,:],t[i])\n",
    "        if length(eval_edo) == length(p_ini)\n",
    "            sol[i+1,:] .= sol[i,:] .+ δ .*eval_edo\n",
    "        else\n",
    "            sol[i+1,:] .= sol[i,:] .+ δ .*eval_edo[1:(end-1)]\n",
    "        end\n",
    "        sol[i+1,:] .+= 0.5*(δ^2) .*(jacob(sol[i,:],t[i]) *eval_edo )\n",
    "    end\n",
    "    return sol\n",
    "end"
   ]
  },
  {
   "cell_type": "markdown",
   "metadata": {},
   "source": [
    "Runge-Kutta de 2do orden: "
   ]
  },
  {
   "cell_type": "code",
   "execution_count": 54,
   "metadata": {},
   "outputs": [
    {
     "data": {
      "text/plain": [
       "RK_2 (generic function with 1 method)"
      ]
     },
     "execution_count": 54,
     "metadata": {},
     "output_type": "execute_result"
    }
   ],
   "source": [
    "function RK_2(edo,x_ini,t)\n",
    "    sol = zeros( length(t) , length(x_ini) )\n",
    "    sol[1,:] .= x_ini\n",
    "    δ = t[2]-t[1]\n",
    "    for i in 1:length(t)-1\n",
    "        k1 = sol[i,:] .+ 0.5*δ .*edo(sol[i,:],t[i])\n",
    "        sol[i+1,:] .= sol[i,:] .+ δ*edo(k1,t[i]+0.5*δ)\n",
    "    end\n",
    "    return sol\n",
    "end"
   ]
  },
  {
   "cell_type": "markdown",
   "metadata": {},
   "source": [
    "Runge-Kutta de 4to orden:"
   ]
  },
  {
   "cell_type": "code",
   "execution_count": 43,
   "metadata": {},
   "outputs": [
    {
     "data": {
      "text/plain": [
       "RK_4 (generic function with 1 method)"
      ]
     },
     "execution_count": 43,
     "metadata": {},
     "output_type": "execute_result"
    }
   ],
   "source": [
    "function RK_4(edo,x_ini,t)\n",
    "    sol = zeros( length(t) , length(x_ini) )\n",
    "    sol[1,:] .= x_ini\n",
    "    δ = t[2]-t[1]\n",
    "    for i in 1:length(t)-1\n",
    "        k1 = edo(sol[i,:],t[i])\n",
    "        k2 = edo(sol[i,:] .+ 0.5*δ.*k1 , t[i] + 0.5*δ)\n",
    "        k3 = edo(sol[i,:] .+ 0.5*δ.*k2 , t[i] + 0.5*δ)\n",
    "        k4 = edo(sol[i,:] .+ δ.*k2 , t[i] + δ)\n",
    "        sol[i+1,:] .= sol[i,:] .+ (δ/6.0).*(k1 .+ 2.0.*k2 .+ 2.0.*k3 .+ k4)\n",
    "    end\n",
    "    return sol\n",
    "end"
   ]
  },
  {
   "cell_type": "markdown",
   "metadata": {},
   "source": [
    "Ahora definimos las funciones de las ecuaciones diferenciales. Para ello notemos que podemos reescribir la ecuación diferencial como un sistema de ecuaciones diferenciales:\n",
    "\n",
    "$$\n",
    "x_1=y\\\\\n",
    "\\dot{x}_1 = x_2\\\\\n",
    "\\dot{x}_2 = x_3\\\\\n",
    "\\dot{x}_3 = -x_3^2 + 3x_2^3 - \\cos^2{(x_1)} + e^{-t}\\sin{(3t)}\n",
    "$$\n",
    "\n",
    "Y cuyas condiciones iniciales son: $x_1(1)=1$, $x_2(1)=2$ y $x_3(1)=1$. Las cuales, podemos escribir en una función de la siguiente manera:"
   ]
  },
  {
   "cell_type": "code",
   "execution_count": 49,
   "metadata": {},
   "outputs": [
    {
     "data": {
      "text/plain": [
       "EDO1 (generic function with 1 method)"
      ]
     },
     "execution_count": 49,
     "metadata": {},
     "output_type": "execute_result"
    }
   ],
   "source": [
    "function EDO1(vec,t)\n",
    "    # vec = [x1, x2, x3]\n",
    "    dx1 = vec[2]\n",
    "    dx2 = vec[3]\n",
    "    dx3 = -vec[3]*vec[3] + 3*vec[2]*vec[2]*vec[2] - cos(vec[1])*cos(vec[1]) + exp(-t)*sin(3*t)\n",
    "    return [dx1,dx2,dx3,1.0]\n",
    "end"
   ]
  },
  {
   "cell_type": "markdown",
   "metadata": {},
   "source": [
    "Y ahora definimos su Jacobiano analítico"
   ]
  },
  {
   "cell_type": "code",
   "execution_count": 45,
   "metadata": {},
   "outputs": [
    {
     "data": {
      "text/plain": [
       "EDO1_J (generic function with 1 method)"
      ]
     },
     "execution_count": 45,
     "metadata": {},
     "output_type": "execute_result"
    }
   ],
   "source": [
    "function EDO1_J(vec,t)\n",
    "    # vec = [x1, x2, x3]\n",
    "    J = zeros(3,4)\n",
    "    J[1,2] = 1.0\n",
    "    J[2,3] = 1.0\n",
    "    J[3,1] = 2*cos(vec[1])*sin(vec[1])\n",
    "    J[3,2] = 9*vec[2]*vec[2]\n",
    "    J[3,3] = -2*vec[3]\n",
    "    J[3,4] = 3*exp(-1*t)*cos(3*t)-exp(-1*t)*sin(3*t)\n",
    "    return J\n",
    "end"
   ]
  },
  {
   "cell_type": "markdown",
   "metadata": {},
   "source": [
    "Ahora resolvamos esta ecuación diferencial con los diversos métodos en t=[1,2], para obtener un error de menos de 10^{-4}"
   ]
  },
  {
   "cell_type": "markdown",
   "metadata": {},
   "source": [
    "#### 3.- Modifique las funciones integradoras que programamos en clase (Euler mejorado, Runge-Kutta de $2^{\\circ}$ orden y Runge-Kutta de $4^{\\circ}$ orden) para que se puedan pasar argumentos opcionales al sistema de ecuaciones diferenciales de tal manera que se puedan modificar parámetros al momento de hacer la integración. Una vez hecho esto, obtenga la solución de la siguiente ecuación diferencial\n",
    "\n",
    "$$\n",
    "\\ddot{x} + \\frac{1}{10}\\dot{x}+4\\sin{x} = \\frac{1}{2}\\sin{(\\omega t)}\n",
    "$$\n",
    "\n",
    "#### Con condiciones iniciales $\\dot{x}(0)=1$ y $x(0)=1$ y para $\\omega\\in\\{1,1.1,1.2,1.3,...,2.9,3\\}$. Realice la gráfica de algunas soluciones que representen el comportamiento de la solución en función de $\\omega$ y explique su resultado. La solución debe tener una precisión de por lo menos $10^{−5}$."
   ]
  },
  {
   "cell_type": "markdown",
   "metadata": {},
   "source": [
    "Notemos que podemos escribir la ecuación diferencial como un sistema de ecuaciones diferenciales donde:\n",
    "$$\n",
    "x=x_1\\\\\n",
    "\\dot{x}_1 = x_2\\\\\n",
    "\\dot{x}_2 = -\\frac{1}{10}x_2 - 4\\sin{(x_1)} + \\frac{1}{2}\\sin{(\\omega t)}\n",
    "$$\n",
    "Ahora escribamos este sistema como una función en Julia y su jacobiano de manera analítica."
   ]
  },
  {
   "cell_type": "code",
   "execution_count": 152,
   "metadata": {},
   "outputs": [
    {
     "data": {
      "text/plain": [
       "EDO2 (generic function with 2 methods)"
      ]
     },
     "execution_count": 152,
     "metadata": {},
     "output_type": "execute_result"
    }
   ],
   "source": [
    "function EDO2(vec,t,ω)\n",
    "    # vec = [x1, x2]\n",
    "    dx1 = vec[2]\n",
    "    dx2 = -vec[2]/10 - 4*sin(vec[1]) + 0.5*sin(ω*t)\n",
    "    return [dx1,dx2]#1.0]\n",
    "end"
   ]
  },
  {
   "cell_type": "markdown",
   "metadata": {},
   "source": [
    "Ahora el jacobiano analítico:"
   ]
  },
  {
   "cell_type": "code",
   "execution_count": 155,
   "metadata": {},
   "outputs": [
    {
     "data": {
      "text/plain": [
       "EDO2_J (generic function with 1 method)"
      ]
     },
     "execution_count": 155,
     "metadata": {},
     "output_type": "execute_result"
    }
   ],
   "source": [
    "function EDO2_J(vec,t,ω)\n",
    "    # param = [ omega ]\n",
    "    # vec = [x1, x2]\n",
    "    #ω = param\n",
    "    J = zeros(length(vec),length(vec)+1)\n",
    "    J[1,2] = 1.0\n",
    "    J[2,1] = -4*cos(vec[1])\n",
    "    J[2,2] = -1/10\n",
    "    J[2,3] = 0.5*ω*cos(ω*t)\n",
    "    return J\n",
    "end"
   ]
  },
  {
   "cell_type": "markdown",
   "metadata": {},
   "source": [
    "Ahora modifiquemos las funciones de Euler mejorado:"
   ]
  },
  {
   "cell_type": "code",
   "execution_count": 159,
   "metadata": {},
   "outputs": [
    {
     "data": {
      "text/plain": [
       "Euler_mejorado_J (generic function with 2 methods)"
      ]
     },
     "execution_count": 159,
     "metadata": {},
     "output_type": "execute_result"
    }
   ],
   "source": [
    "function Euler_mejorado_J(edo,p_ini,t,jacob,ω)\n",
    "    # J y g con dependencia temporal y de parametros externos\n",
    "    sol = zeros(length(t),length(p_ini))\n",
    "    sol[1,:] = p_ini\n",
    "    δ = t[2]-t[1]\n",
    "    for i in 1:(length(t)-1)\n",
    "        eval_edo = edo(sol[i,:],t[i],ω)\n",
    "        if length(eval_edo) == length(p_ini)\n",
    "            sol[i+1,:] .= sol[i,:] .+ δ .*eval_edo\n",
    "        else\n",
    "            sol[i+1,:] .= sol[i,:] .+ δ .*eval_edo[1:(end-1)]\n",
    "        end\n",
    "        sol[i+1,:] .+= 0.5*(δ^2) .*(jacob(sol[i,:],t[i],ω) *eval_edo )\n",
    "    end\n",
    "    return sol\n",
    "end"
   ]
  },
  {
   "cell_type": "code",
   "execution_count": 163,
   "metadata": {},
   "outputs": [
    {
     "data": {
      "image/svg+xml": [
       "<?xml version=\"1.0\" encoding=\"utf-8\"?>\n",
       "<svg xmlns=\"http://www.w3.org/2000/svg\" xmlns:xlink=\"http://www.w3.org/1999/xlink\" width=\"600\" height=\"400\" viewBox=\"0 0 2400 1600\">\n",
       "<defs>\n",
       "  <clipPath id=\"clip840\">\n",
       "    <rect x=\"0\" y=\"0\" width=\"2400\" height=\"1600\"/>\n",
       "  </clipPath>\n",
       "</defs>\n",
       "<path clip-path=\"url(#clip840)\" d=\"\n",
       "M0 1600 L2400 1600 L2400 0 L0 0  Z\n",
       "  \" fill=\"#ffffff\" fill-rule=\"evenodd\" fill-opacity=\"1\"/>\n",
       "<defs>\n",
       "  <clipPath id=\"clip841\">\n",
       "    <rect x=\"480\" y=\"0\" width=\"1681\" height=\"1600\"/>\n",
       "  </clipPath>\n",
       "</defs>\n",
       "<path clip-path=\"url(#clip840)\" d=\"\n",
       "M244.079 1423.18 L2352.76 1423.18 L2352.76 123.472 L244.079 123.472  Z\n",
       "  \" fill=\"#ffffff\" fill-rule=\"evenodd\" fill-opacity=\"1\"/>\n",
       "<defs>\n",
       "  <clipPath id=\"clip842\">\n",
       "    <rect x=\"244\" y=\"123\" width=\"2110\" height=\"1301\"/>\n",
       "  </clipPath>\n",
       "</defs>\n",
       "<polyline clip-path=\"url(#clip842)\" style=\"stroke:#000000; stroke-width:2; stroke-opacity:0.1; fill:none\" points=\"\n",
       "  303.759,1423.18 303.759,123.472 \n",
       "  \"/>\n",
       "<polyline clip-path=\"url(#clip842)\" style=\"stroke:#000000; stroke-width:2; stroke-opacity:0.1; fill:none\" points=\"\n",
       "  620.529,1423.18 620.529,123.472 \n",
       "  \"/>\n",
       "<polyline clip-path=\"url(#clip842)\" style=\"stroke:#000000; stroke-width:2; stroke-opacity:0.1; fill:none\" points=\"\n",
       "  937.299,1423.18 937.299,123.472 \n",
       "  \"/>\n",
       "<polyline clip-path=\"url(#clip842)\" style=\"stroke:#000000; stroke-width:2; stroke-opacity:0.1; fill:none\" points=\"\n",
       "  1254.07,1423.18 1254.07,123.472 \n",
       "  \"/>\n",
       "<polyline clip-path=\"url(#clip842)\" style=\"stroke:#000000; stroke-width:2; stroke-opacity:0.1; fill:none\" points=\"\n",
       "  1570.84,1423.18 1570.84,123.472 \n",
       "  \"/>\n",
       "<polyline clip-path=\"url(#clip842)\" style=\"stroke:#000000; stroke-width:2; stroke-opacity:0.1; fill:none\" points=\"\n",
       "  1887.61,1423.18 1887.61,123.472 \n",
       "  \"/>\n",
       "<polyline clip-path=\"url(#clip842)\" style=\"stroke:#000000; stroke-width:2; stroke-opacity:0.1; fill:none\" points=\"\n",
       "  2204.38,1423.18 2204.38,123.472 \n",
       "  \"/>\n",
       "<polyline clip-path=\"url(#clip840)\" style=\"stroke:#000000; stroke-width:4; stroke-opacity:1; fill:none\" points=\"\n",
       "  244.079,1423.18 2352.76,1423.18 \n",
       "  \"/>\n",
       "<polyline clip-path=\"url(#clip840)\" style=\"stroke:#000000; stroke-width:4; stroke-opacity:1; fill:none\" points=\"\n",
       "  303.759,1423.18 303.759,1407.58 \n",
       "  \"/>\n",
       "<polyline clip-path=\"url(#clip840)\" style=\"stroke:#000000; stroke-width:4; stroke-opacity:1; fill:none\" points=\"\n",
       "  620.529,1423.18 620.529,1407.58 \n",
       "  \"/>\n",
       "<polyline clip-path=\"url(#clip840)\" style=\"stroke:#000000; stroke-width:4; stroke-opacity:1; fill:none\" points=\"\n",
       "  937.299,1423.18 937.299,1407.58 \n",
       "  \"/>\n",
       "<polyline clip-path=\"url(#clip840)\" style=\"stroke:#000000; stroke-width:4; stroke-opacity:1; fill:none\" points=\"\n",
       "  1254.07,1423.18 1254.07,1407.58 \n",
       "  \"/>\n",
       "<polyline clip-path=\"url(#clip840)\" style=\"stroke:#000000; stroke-width:4; stroke-opacity:1; fill:none\" points=\"\n",
       "  1570.84,1423.18 1570.84,1407.58 \n",
       "  \"/>\n",
       "<polyline clip-path=\"url(#clip840)\" style=\"stroke:#000000; stroke-width:4; stroke-opacity:1; fill:none\" points=\"\n",
       "  1887.61,1423.18 1887.61,1407.58 \n",
       "  \"/>\n",
       "<polyline clip-path=\"url(#clip840)\" style=\"stroke:#000000; stroke-width:4; stroke-opacity:1; fill:none\" points=\"\n",
       "  2204.38,1423.18 2204.38,1407.58 \n",
       "  \"/>\n",
       "<path clip-path=\"url(#clip840)\" d=\"M 0 0 M303.759 1452.37 Q300.148 1452.37 298.319 1455.94 Q296.513 1459.48 296.513 1466.61 Q296.513 1473.71 298.319 1477.28 Q300.148 1480.82 303.759 1480.82 Q307.393 1480.82 309.198 1477.28 Q311.027 1473.71 311.027 1466.61 Q311.027 1459.48 309.198 1455.94 Q307.393 1452.37 303.759 1452.37 M303.759 1448.67 Q309.569 1448.67 312.624 1453.27 Q315.703 1457.86 315.703 1466.61 Q315.703 1475.33 312.624 1479.94 Q309.569 1484.52 303.759 1484.52 Q297.948 1484.52 294.87 1479.94 Q291.814 1475.33 291.814 1466.61 Q291.814 1457.86 294.87 1453.27 Q297.948 1448.67 303.759 1448.67 Z\" fill=\"#000000\" fill-rule=\"evenodd\" fill-opacity=\"1\" /><path clip-path=\"url(#clip840)\" d=\"M 0 0 M610.911 1479.92 L618.55 1479.92 L618.55 1453.55 L610.24 1455.22 L610.24 1450.96 L618.504 1449.29 L623.179 1449.29 L623.179 1479.92 L630.818 1479.92 L630.818 1483.85 L610.911 1483.85 L610.911 1479.92 Z\" fill=\"#000000\" fill-rule=\"evenodd\" fill-opacity=\"1\" /><path clip-path=\"url(#clip840)\" d=\"M 0 0 M931.952 1479.92 L948.271 1479.92 L948.271 1483.85 L926.327 1483.85 L926.327 1479.92 Q928.989 1477.16 933.572 1472.53 Q938.179 1467.88 939.359 1466.54 Q941.605 1464.01 942.484 1462.28 Q943.387 1460.52 943.387 1458.83 Q943.387 1456.07 941.443 1454.34 Q939.522 1452.6 936.42 1452.6 Q934.221 1452.6 931.767 1453.37 Q929.336 1454.13 926.559 1455.68 L926.559 1450.96 Q929.383 1449.82 931.836 1449.25 Q934.29 1448.67 936.327 1448.67 Q941.697 1448.67 944.892 1451.35 Q948.086 1454.04 948.086 1458.53 Q948.086 1460.66 947.276 1462.58 Q946.489 1464.48 944.383 1467.07 Q943.804 1467.74 940.702 1470.96 Q937.6 1474.15 931.952 1479.92 Z\" fill=\"#000000\" fill-rule=\"evenodd\" fill-opacity=\"1\" /><path clip-path=\"url(#clip840)\" d=\"M 0 0 M1258.32 1465.22 Q1261.67 1465.94 1263.55 1468.2 Q1265.45 1470.47 1265.45 1473.81 Q1265.45 1478.92 1261.93 1481.72 Q1258.41 1484.52 1251.93 1484.52 Q1249.75 1484.52 1247.44 1484.08 Q1245.15 1483.67 1242.69 1482.81 L1242.69 1478.3 Q1244.64 1479.43 1246.95 1480.01 Q1249.27 1480.59 1251.79 1480.59 Q1256.19 1480.59 1258.48 1478.85 Q1260.79 1477.12 1260.79 1473.81 Q1260.79 1470.75 1258.64 1469.04 Q1256.51 1467.3 1252.69 1467.3 L1248.66 1467.3 L1248.66 1463.46 L1252.88 1463.46 Q1256.33 1463.46 1258.16 1462.09 Q1259.98 1460.7 1259.98 1458.11 Q1259.98 1455.45 1258.09 1454.04 Q1256.21 1452.6 1252.69 1452.6 Q1250.77 1452.6 1248.57 1453.02 Q1246.37 1453.44 1243.73 1454.31 L1243.73 1450.15 Q1246.4 1449.41 1248.71 1449.04 Q1251.05 1448.67 1253.11 1448.67 Q1258.43 1448.67 1261.53 1451.1 Q1264.64 1453.5 1264.64 1457.63 Q1264.64 1460.5 1262.99 1462.49 Q1261.35 1464.45 1258.32 1465.22 Z\" fill=\"#000000\" fill-rule=\"evenodd\" fill-opacity=\"1\" /><path clip-path=\"url(#clip840)\" d=\"M 0 0 M1573.85 1453.37 L1562.04 1471.81 L1573.85 1471.81 L1573.85 1453.37 M1572.62 1449.29 L1578.5 1449.29 L1578.5 1471.81 L1583.43 1471.81 L1583.43 1475.7 L1578.5 1475.7 L1578.5 1483.85 L1573.85 1483.85 L1573.85 1475.7 L1558.25 1475.7 L1558.25 1471.19 L1572.62 1449.29 Z\" fill=\"#000000\" fill-rule=\"evenodd\" fill-opacity=\"1\" /><path clip-path=\"url(#clip840)\" d=\"M 0 0 M1877.89 1449.29 L1896.24 1449.29 L1896.24 1453.23 L1882.17 1453.23 L1882.17 1461.7 Q1883.19 1461.35 1884.21 1461.19 Q1885.23 1461 1886.24 1461 Q1892.03 1461 1895.41 1464.18 Q1898.79 1467.35 1898.79 1472.76 Q1898.79 1478.34 1895.32 1481.44 Q1891.85 1484.52 1885.53 1484.52 Q1883.35 1484.52 1881.08 1484.15 Q1878.84 1483.78 1876.43 1483.04 L1876.43 1478.34 Q1878.51 1479.48 1880.74 1480.03 Q1882.96 1480.59 1885.43 1480.59 Q1889.44 1480.59 1891.78 1478.48 Q1894.11 1476.38 1894.11 1472.76 Q1894.11 1469.15 1891.78 1467.05 Q1889.44 1464.94 1885.43 1464.94 Q1883.56 1464.94 1881.68 1465.36 Q1879.83 1465.77 1877.89 1466.65 L1877.89 1449.29 Z\" fill=\"#000000\" fill-rule=\"evenodd\" fill-opacity=\"1\" /><path clip-path=\"url(#clip840)\" d=\"M 0 0 M2204.79 1464.71 Q2201.64 1464.71 2199.79 1466.86 Q2197.96 1469.01 2197.96 1472.76 Q2197.96 1476.49 2199.79 1478.67 Q2201.64 1480.82 2204.79 1480.82 Q2207.93 1480.82 2209.76 1478.67 Q2211.61 1476.49 2211.61 1472.76 Q2211.61 1469.01 2209.76 1466.86 Q2207.93 1464.71 2204.79 1464.71 M2214.07 1450.06 L2214.07 1454.31 Q2212.31 1453.48 2210.5 1453.04 Q2208.72 1452.6 2206.96 1452.6 Q2202.33 1452.6 2199.88 1455.73 Q2197.45 1458.85 2197.1 1465.17 Q2198.47 1463.16 2200.53 1462.09 Q2202.59 1461 2205.06 1461 Q2210.27 1461 2213.28 1464.18 Q2216.31 1467.32 2216.31 1472.76 Q2216.31 1478.09 2213.17 1481.31 Q2210.02 1484.52 2204.79 1484.52 Q2198.79 1484.52 2195.62 1479.94 Q2192.45 1475.33 2192.45 1466.61 Q2192.45 1458.41 2196.34 1453.55 Q2200.23 1448.67 2206.78 1448.67 Q2208.54 1448.67 2210.32 1449.01 Q2212.12 1449.36 2214.07 1450.06 Z\" fill=\"#000000\" fill-rule=\"evenodd\" fill-opacity=\"1\" /><path clip-path=\"url(#clip840)\" d=\"M 0 0 M1297.48 1510.27 L1297.48 1520.4 L1309.54 1520.4 L1309.54 1524.95 L1297.48 1524.95 L1297.48 1544.3 Q1297.48 1548.66 1298.66 1549.9 Q1299.87 1551.14 1303.53 1551.14 L1309.54 1551.14 L1309.54 1556.04 L1303.53 1556.04 Q1296.75 1556.04 1294.17 1553.53 Q1291.59 1550.98 1291.59 1544.3 L1291.59 1524.95 L1287.29 1524.95 L1287.29 1520.4 L1291.59 1520.4 L1291.59 1510.27 L1297.48 1510.27 Z\" fill=\"#000000\" fill-rule=\"evenodd\" fill-opacity=\"1\" /><polyline clip-path=\"url(#clip842)\" style=\"stroke:#000000; stroke-width:2; stroke-opacity:0.1; fill:none\" points=\"\n",
       "  244.079,1199.45 2352.76,1199.45 \n",
       "  \"/>\n",
       "<polyline clip-path=\"url(#clip842)\" style=\"stroke:#000000; stroke-width:2; stroke-opacity:0.1; fill:none\" points=\"\n",
       "  244.079,973.912 2352.76,973.912 \n",
       "  \"/>\n",
       "<polyline clip-path=\"url(#clip842)\" style=\"stroke:#000000; stroke-width:2; stroke-opacity:0.1; fill:none\" points=\"\n",
       "  244.079,748.374 2352.76,748.374 \n",
       "  \"/>\n",
       "<polyline clip-path=\"url(#clip842)\" style=\"stroke:#000000; stroke-width:2; stroke-opacity:0.1; fill:none\" points=\"\n",
       "  244.079,522.837 2352.76,522.837 \n",
       "  \"/>\n",
       "<polyline clip-path=\"url(#clip842)\" style=\"stroke:#000000; stroke-width:2; stroke-opacity:0.1; fill:none\" points=\"\n",
       "  244.079,297.299 2352.76,297.299 \n",
       "  \"/>\n",
       "<polyline clip-path=\"url(#clip840)\" style=\"stroke:#000000; stroke-width:4; stroke-opacity:1; fill:none\" points=\"\n",
       "  244.079,1423.18 244.079,123.472 \n",
       "  \"/>\n",
       "<polyline clip-path=\"url(#clip840)\" style=\"stroke:#000000; stroke-width:4; stroke-opacity:1; fill:none\" points=\"\n",
       "  244.079,1199.45 269.383,1199.45 \n",
       "  \"/>\n",
       "<polyline clip-path=\"url(#clip840)\" style=\"stroke:#000000; stroke-width:4; stroke-opacity:1; fill:none\" points=\"\n",
       "  244.079,973.912 269.383,973.912 \n",
       "  \"/>\n",
       "<polyline clip-path=\"url(#clip840)\" style=\"stroke:#000000; stroke-width:4; stroke-opacity:1; fill:none\" points=\"\n",
       "  244.079,748.374 269.383,748.374 \n",
       "  \"/>\n",
       "<polyline clip-path=\"url(#clip840)\" style=\"stroke:#000000; stroke-width:4; stroke-opacity:1; fill:none\" points=\"\n",
       "  244.079,522.837 269.383,522.837 \n",
       "  \"/>\n",
       "<polyline clip-path=\"url(#clip840)\" style=\"stroke:#000000; stroke-width:4; stroke-opacity:1; fill:none\" points=\"\n",
       "  244.079,297.299 269.383,297.299 \n",
       "  \"/>\n",
       "<path clip-path=\"url(#clip840)\" d=\"M 0 0 M114.26 1199.9 L143.936 1199.9 L143.936 1203.84 L114.26 1203.84 L114.26 1199.9 Z\" fill=\"#000000\" fill-rule=\"evenodd\" fill-opacity=\"1\" /><path clip-path=\"url(#clip840)\" d=\"M 0 0 M159.005 1185.25 Q155.394 1185.25 153.566 1188.81 Q151.76 1192.35 151.76 1199.48 Q151.76 1206.59 153.566 1210.16 Q155.394 1213.7 159.005 1213.7 Q162.64 1213.7 164.445 1210.16 Q166.274 1206.59 166.274 1199.48 Q166.274 1192.35 164.445 1188.81 Q162.64 1185.25 159.005 1185.25 M159.005 1181.54 Q164.815 1181.54 167.871 1186.15 Q170.95 1190.73 170.95 1199.48 Q170.95 1208.21 167.871 1212.82 Q164.815 1217.4 159.005 1217.4 Q153.195 1217.4 150.116 1212.82 Q147.061 1208.21 147.061 1199.48 Q147.061 1190.73 150.116 1186.15 Q153.195 1181.54 159.005 1181.54 Z\" fill=\"#000000\" fill-rule=\"evenodd\" fill-opacity=\"1\" /><path clip-path=\"url(#clip840)\" d=\"M 0 0 M176.019 1210.85 L180.903 1210.85 L180.903 1216.73 L176.019 1216.73 L176.019 1210.85 Z\" fill=\"#000000\" fill-rule=\"evenodd\" fill-opacity=\"1\" /><path clip-path=\"url(#clip840)\" d=\"M 0 0 M196.551 1197.59 Q193.403 1197.59 191.551 1199.74 Q189.723 1201.89 189.723 1205.64 Q189.723 1209.37 191.551 1211.54 Q193.403 1213.7 196.551 1213.7 Q199.7 1213.7 201.528 1211.54 Q203.38 1209.37 203.38 1205.64 Q203.38 1201.89 201.528 1199.74 Q199.7 1197.59 196.551 1197.59 M205.834 1182.93 L205.834 1187.19 Q204.074 1186.36 202.269 1185.92 Q200.487 1185.48 198.727 1185.48 Q194.098 1185.48 191.644 1188.6 Q189.213 1191.73 188.866 1198.05 Q190.232 1196.04 192.292 1194.97 Q194.352 1193.88 196.829 1193.88 Q202.037 1193.88 205.047 1197.05 Q208.079 1200.2 208.079 1205.64 Q208.079 1210.97 204.931 1214.18 Q201.783 1217.4 196.551 1217.4 Q190.556 1217.4 187.385 1212.82 Q184.213 1208.21 184.213 1199.48 Q184.213 1191.29 188.102 1186.43 Q191.991 1181.54 198.542 1181.54 Q200.301 1181.54 202.084 1181.89 Q203.889 1182.24 205.834 1182.93 Z\" fill=\"#000000\" fill-rule=\"evenodd\" fill-opacity=\"1\" /><path clip-path=\"url(#clip840)\" d=\"M 0 0 M115.07 974.363 L144.746 974.363 L144.746 978.298 L115.07 978.298 L115.07 974.363 Z\" fill=\"#000000\" fill-rule=\"evenodd\" fill-opacity=\"1\" /><path clip-path=\"url(#clip840)\" d=\"M 0 0 M159.815 959.711 Q156.204 959.711 154.376 963.275 Q152.57 966.817 152.57 973.947 Q152.57 981.053 154.376 984.618 Q156.204 988.16 159.815 988.16 Q163.45 988.16 165.255 984.618 Q167.084 981.053 167.084 973.947 Q167.084 966.817 165.255 963.275 Q163.45 959.711 159.815 959.711 M159.815 956.007 Q165.626 956.007 168.681 960.613 Q171.76 965.197 171.76 973.947 Q171.76 982.673 168.681 987.28 Q165.626 991.863 159.815 991.863 Q154.005 991.863 150.927 987.28 Q147.871 982.673 147.871 973.947 Q147.871 965.197 150.927 960.613 Q154.005 956.007 159.815 956.007 Z\" fill=\"#000000\" fill-rule=\"evenodd\" fill-opacity=\"1\" /><path clip-path=\"url(#clip840)\" d=\"M 0 0 M176.829 985.312 L181.713 985.312 L181.713 991.192 L176.829 991.192 L176.829 985.312 Z\" fill=\"#000000\" fill-rule=\"evenodd\" fill-opacity=\"1\" /><path clip-path=\"url(#clip840)\" d=\"M 0 0 M200.95 972.558 Q204.306 973.275 206.181 975.544 Q208.079 977.812 208.079 981.146 Q208.079 986.261 204.561 989.062 Q201.042 991.863 194.561 991.863 Q192.385 991.863 190.07 991.423 Q187.778 991.007 185.325 990.15 L185.325 985.636 Q187.269 986.771 189.584 987.349 Q191.899 987.928 194.422 987.928 Q198.82 987.928 201.112 986.192 Q203.426 984.456 203.426 981.146 Q203.426 978.09 201.274 976.377 Q199.144 974.641 195.325 974.641 L191.297 974.641 L191.297 970.798 L195.51 970.798 Q198.959 970.798 200.787 969.433 Q202.616 968.044 202.616 965.451 Q202.616 962.789 200.718 961.377 Q198.843 959.942 195.325 959.942 Q193.403 959.942 191.204 960.359 Q189.005 960.775 186.366 961.655 L186.366 957.488 Q189.028 956.748 191.343 956.377 Q193.681 956.007 195.741 956.007 Q201.065 956.007 204.167 958.437 Q207.269 960.845 207.269 964.965 Q207.269 967.836 205.625 969.826 Q203.982 971.794 200.95 972.558 Z\" fill=\"#000000\" fill-rule=\"evenodd\" fill-opacity=\"1\" /><path clip-path=\"url(#clip840)\" d=\"M 0 0 M159.167 734.173 Q155.556 734.173 153.728 737.738 Q151.922 741.279 151.922 748.409 Q151.922 755.516 153.728 759.08 Q155.556 762.622 159.167 762.622 Q162.802 762.622 164.607 759.08 Q166.436 755.516 166.436 748.409 Q166.436 741.279 164.607 737.738 Q162.802 734.173 159.167 734.173 M159.167 730.469 Q164.977 730.469 168.033 735.076 Q171.112 739.659 171.112 748.409 Q171.112 757.136 168.033 761.742 Q164.977 766.326 159.167 766.326 Q153.357 766.326 150.278 761.742 Q147.223 757.136 147.223 748.409 Q147.223 739.659 150.278 735.076 Q153.357 730.469 159.167 730.469 Z\" fill=\"#000000\" fill-rule=\"evenodd\" fill-opacity=\"1\" /><path clip-path=\"url(#clip840)\" d=\"M 0 0 M176.181 759.775 L181.065 759.775 L181.065 765.654 L176.181 765.654 L176.181 759.775 Z\" fill=\"#000000\" fill-rule=\"evenodd\" fill-opacity=\"1\" /><path clip-path=\"url(#clip840)\" d=\"M 0 0 M196.135 734.173 Q192.524 734.173 190.695 737.738 Q188.889 741.279 188.889 748.409 Q188.889 755.516 190.695 759.08 Q192.524 762.622 196.135 762.622 Q199.769 762.622 201.575 759.08 Q203.403 755.516 203.403 748.409 Q203.403 741.279 201.575 737.738 Q199.769 734.173 196.135 734.173 M196.135 730.469 Q201.945 730.469 205 735.076 Q208.079 739.659 208.079 748.409 Q208.079 757.136 205 761.742 Q201.945 766.326 196.135 766.326 Q190.325 766.326 187.246 761.742 Q184.19 757.136 184.19 748.409 Q184.19 739.659 187.246 735.076 Q190.325 730.469 196.135 730.469 Z\" fill=\"#000000\" fill-rule=\"evenodd\" fill-opacity=\"1\" /><path clip-path=\"url(#clip840)\" d=\"M 0 0 M159.815 508.635 Q156.204 508.635 154.376 512.2 Q152.57 515.742 152.57 522.871 Q152.57 529.978 154.376 533.543 Q156.204 537.084 159.815 537.084 Q163.45 537.084 165.255 533.543 Q167.084 529.978 167.084 522.871 Q167.084 515.742 165.255 512.2 Q163.45 508.635 159.815 508.635 M159.815 504.932 Q165.626 504.932 168.681 509.538 Q171.76 514.122 171.76 522.871 Q171.76 531.598 168.681 536.205 Q165.626 540.788 159.815 540.788 Q154.005 540.788 150.927 536.205 Q147.871 531.598 147.871 522.871 Q147.871 514.122 150.927 509.538 Q154.005 504.932 159.815 504.932 Z\" fill=\"#000000\" fill-rule=\"evenodd\" fill-opacity=\"1\" /><path clip-path=\"url(#clip840)\" d=\"M 0 0 M176.829 534.237 L181.713 534.237 L181.713 540.117 L176.829 540.117 L176.829 534.237 Z\" fill=\"#000000\" fill-rule=\"evenodd\" fill-opacity=\"1\" /><path clip-path=\"url(#clip840)\" d=\"M 0 0 M200.95 521.483 Q204.306 522.2 206.181 524.469 Q208.079 526.737 208.079 530.071 Q208.079 535.186 204.561 537.987 Q201.042 540.788 194.561 540.788 Q192.385 540.788 190.07 540.348 Q187.778 539.932 185.325 539.075 L185.325 534.561 Q187.269 535.696 189.584 536.274 Q191.899 536.853 194.422 536.853 Q198.82 536.853 201.112 535.117 Q203.426 533.381 203.426 530.071 Q203.426 527.015 201.274 525.302 Q199.144 523.566 195.325 523.566 L191.297 523.566 L191.297 519.723 L195.51 519.723 Q198.959 519.723 200.787 518.358 Q202.616 516.969 202.616 514.376 Q202.616 511.714 200.718 510.302 Q198.843 508.867 195.325 508.867 Q193.403 508.867 191.204 509.284 Q189.005 509.7 186.366 510.58 L186.366 506.413 Q189.028 505.673 191.343 505.302 Q193.681 504.932 195.741 504.932 Q201.065 504.932 204.167 507.362 Q207.269 509.77 207.269 513.89 Q207.269 516.76 205.625 518.751 Q203.982 520.719 200.95 521.483 Z\" fill=\"#000000\" fill-rule=\"evenodd\" fill-opacity=\"1\" /><path clip-path=\"url(#clip840)\" d=\"M 0 0 M159.005 283.098 Q155.394 283.098 153.566 286.663 Q151.76 290.204 151.76 297.334 Q151.76 304.44 153.566 308.005 Q155.394 311.547 159.005 311.547 Q162.64 311.547 164.445 308.005 Q166.274 304.44 166.274 297.334 Q166.274 290.204 164.445 286.663 Q162.64 283.098 159.005 283.098 M159.005 279.394 Q164.815 279.394 167.871 284.001 Q170.95 288.584 170.95 297.334 Q170.95 306.061 167.871 310.667 Q164.815 315.25 159.005 315.25 Q153.195 315.25 150.116 310.667 Q147.061 306.061 147.061 297.334 Q147.061 288.584 150.116 284.001 Q153.195 279.394 159.005 279.394 Z\" fill=\"#000000\" fill-rule=\"evenodd\" fill-opacity=\"1\" /><path clip-path=\"url(#clip840)\" d=\"M 0 0 M176.019 308.7 L180.903 308.7 L180.903 314.579 L176.019 314.579 L176.019 308.7 Z\" fill=\"#000000\" fill-rule=\"evenodd\" fill-opacity=\"1\" /><path clip-path=\"url(#clip840)\" d=\"M 0 0 M196.551 295.436 Q193.403 295.436 191.551 297.589 Q189.723 299.741 189.723 303.491 Q189.723 307.218 191.551 309.394 Q193.403 311.547 196.551 311.547 Q199.7 311.547 201.528 309.394 Q203.38 307.218 203.38 303.491 Q203.38 299.741 201.528 297.589 Q199.7 295.436 196.551 295.436 M205.834 280.783 L205.834 285.042 Q204.074 284.209 202.269 283.769 Q200.487 283.329 198.727 283.329 Q194.098 283.329 191.644 286.454 Q189.213 289.579 188.866 295.899 Q190.232 293.885 192.292 292.82 Q194.352 291.732 196.829 291.732 Q202.037 291.732 205.047 294.903 Q208.079 298.052 208.079 303.491 Q208.079 308.815 204.931 312.033 Q201.783 315.25 196.551 315.25 Q190.556 315.25 187.385 310.667 Q184.213 306.061 184.213 297.334 Q184.213 289.14 188.102 284.278 Q191.991 279.394 198.542 279.394 Q200.301 279.394 202.084 279.741 Q203.889 280.089 205.834 280.783 Z\" fill=\"#000000\" fill-rule=\"evenodd\" fill-opacity=\"1\" /><path clip-path=\"url(#clip840)\" d=\"M 0 0 M52.3562 788.731 L69.7028 801.622 L88.0042 788.063 L88.0042 794.969 L73.9996 805.345 L88.0042 815.722 L88.0042 822.628 L69.3526 808.783 L52.3562 821.451 L52.3562 814.544 L65.0558 805.091 L52.3562 795.638 L52.3562 788.731 Z\" fill=\"#000000\" fill-rule=\"evenodd\" fill-opacity=\"1\" /><path clip-path=\"url(#clip840)\" d=\"M 0 0 M38.5426 767.851 Q45.8632 772.116 53.0246 774.185 Q60.186 776.254 67.5384 776.254 Q74.8908 776.254 82.1159 774.185 Q89.3091 772.085 96.5979 767.851 L96.5979 772.944 Q89.1182 777.718 81.8931 780.105 Q74.668 782.461 67.5384 782.461 Q60.4406 782.461 53.2474 780.105 Q46.0542 777.75 38.5426 772.944 L38.5426 767.851 Z\" fill=\"#000000\" fill-rule=\"evenodd\" fill-opacity=\"1\" /><path clip-path=\"url(#clip840)\" d=\"M 0 0 M42.2347 755.916 L52.3562 755.916 L52.3562 743.853 L56.9077 743.853 L56.9077 755.916 L76.2594 755.916 Q80.6199 755.916 81.8613 754.738 Q83.1026 753.529 83.1026 749.868 L83.1026 743.853 L88.0042 743.853 L88.0042 749.868 Q88.0042 756.648 85.4897 759.226 Q82.9434 761.804 76.2594 761.804 L56.9077 761.804 L56.9077 766.101 L52.3562 766.101 L52.3562 761.804 L42.2347 761.804 L42.2347 755.916 Z\" fill=\"#000000\" fill-rule=\"evenodd\" fill-opacity=\"1\" /><path clip-path=\"url(#clip840)\" d=\"M 0 0 M38.5426 738.633 L38.5426 733.54 Q46.0542 728.766 53.2474 726.411 Q60.4406 724.024 67.5384 724.024 Q74.668 724.024 81.8931 726.411 Q89.1182 728.766 96.5979 733.54 L96.5979 738.633 Q89.3091 734.4 82.1159 732.331 Q74.8908 730.23 67.5384 730.23 Q60.186 730.23 53.0246 732.331 Q45.8632 734.4 38.5426 738.633 Z\" fill=\"#000000\" fill-rule=\"evenodd\" fill-opacity=\"1\" /><path clip-path=\"url(#clip840)\" d=\"M 0 0 M87.663 14.0809 L87.663 22.0612 Q83.0045 19.8332 78.8725 18.7395 Q74.7406 17.6457 70.8923 17.6457 Q64.2083 17.6457 60.5624 20.2383 Q56.9571 22.8309 56.9571 27.611 Q56.9571 31.6214 59.3472 33.6873 Q61.7777 35.7128 68.5022 36.9686 L73.4443 37.9813 Q82.5994 39.7232 86.9338 44.1387 Q91.3088 48.5136 91.3088 55.8863 Q91.3088 64.6767 85.3945 69.2137 Q79.5207 73.7508 68.1376 73.7508 Q63.8437 73.7508 58.9826 72.7785 Q54.162 71.8063 48.9769 69.9024 L48.9769 61.4765 Q53.9595 64.2716 58.7395 65.6895 Q63.5196 67.1073 68.1376 67.1073 Q75.1457 67.1073 78.9536 64.3527 Q82.7614 61.598 82.7614 56.4939 Q82.7614 52.0379 80.0068 49.5264 Q77.2927 47.0148 71.0543 45.759 L66.0717 44.7868 Q56.9166 42.9639 52.8252 39.075 Q48.7338 35.1862 48.7338 28.2591 Q48.7338 20.2383 54.3646 15.6203 Q60.0358 11.0023 69.9605 11.0023 Q74.214 11.0023 78.6295 11.7719 Q83.045 12.5416 87.663 14.0809 Z\" fill=\"#000000\" fill-rule=\"evenodd\" fill-opacity=\"1\" /><path clip-path=\"url(#clip840)\" d=\"M 0 0 M99.1271 27.2059 L106.581 27.2059 L106.581 72.576 L99.1271 72.576 L99.1271 27.2059 M99.1271 9.54393 L106.581 9.54393 L106.581 18.9825 L99.1271 18.9825 L99.1271 9.54393 Z\" fill=\"#000000\" fill-rule=\"evenodd\" fill-opacity=\"1\" /><path clip-path=\"url(#clip840)\" d=\"M 0 0 M143.322 28.5427 L143.322 35.5912 Q140.163 33.9709 136.76 33.1607 Q133.357 32.3505 129.711 32.3505 Q124.162 32.3505 121.367 34.0519 Q118.612 35.7533 118.612 39.156 Q118.612 41.7486 120.597 43.2475 Q122.582 44.7058 128.577 46.0426 L131.129 46.6097 Q139.069 48.3111 142.391 51.4303 Q145.753 54.509 145.753 60.0587 Q145.753 66.3781 140.73 70.0644 Q135.747 73.7508 126.997 73.7508 Q123.351 73.7508 119.382 73.0216 Q115.452 72.3329 111.077 70.9151 L111.077 63.2184 Q115.209 65.3654 119.22 66.4591 Q123.23 67.5124 127.159 67.5124 Q132.425 67.5124 135.261 65.73 Q138.097 63.9071 138.097 60.6258 Q138.097 57.5877 136.031 55.9673 Q134.005 54.3469 127.078 52.8481 L124.486 52.2405 Q117.559 50.7821 114.48 47.7845 Q111.401 44.7463 111.401 39.4801 Q111.401 33.0797 115.938 29.5959 Q120.475 26.1121 128.82 26.1121 Q132.952 26.1121 136.598 26.7198 Q140.244 27.3274 143.322 28.5427 Z\" fill=\"#000000\" fill-rule=\"evenodd\" fill-opacity=\"1\" /><path clip-path=\"url(#clip840)\" d=\"M 0 0 M160.944 14.324 L160.944 27.2059 L176.297 27.2059 L176.297 32.9987 L160.944 32.9987 L160.944 57.6282 Q160.944 63.1779 162.443 64.7578 Q163.982 66.3376 168.641 66.3376 L176.297 66.3376 L176.297 72.576 L168.641 72.576 Q160.012 72.576 156.731 69.3758 Q153.45 66.1351 153.45 57.6282 L153.45 32.9987 L147.981 32.9987 L147.981 27.2059 L153.45 27.2059 L153.45 14.324 L160.944 14.324 Z\" fill=\"#000000\" fill-rule=\"evenodd\" fill-opacity=\"1\" /><path clip-path=\"url(#clip840)\" d=\"M 0 0 M222.923 48.0275 L222.923 51.6733 L188.652 51.6733 Q189.138 59.3701 193.27 63.421 Q197.442 67.4314 204.856 67.4314 Q209.15 67.4314 213.16 66.3781 Q217.211 65.3249 221.181 63.2184 L221.181 70.267 Q217.17 71.9684 212.957 72.8596 Q208.745 73.7508 204.41 73.7508 Q193.554 73.7508 187.194 67.4314 Q180.874 61.1119 180.874 50.3365 Q180.874 39.1965 186.87 32.6746 Q192.905 26.1121 203.114 26.1121 Q212.269 26.1121 217.575 32.0264 Q222.923 37.9003 222.923 48.0275 M215.469 45.84 Q215.388 39.7232 212.026 36.0774 Q208.704 32.4315 203.195 32.4315 Q196.956 32.4315 193.189 35.9558 Q189.462 39.4801 188.895 45.8805 L215.469 45.84 Z\" fill=\"#000000\" fill-rule=\"evenodd\" fill-opacity=\"1\" /><path clip-path=\"url(#clip840)\" d=\"M 0 0 M266.065 35.9153 Q268.86 30.8922 272.749 28.5022 Q276.638 26.1121 281.904 26.1121 Q288.993 26.1121 292.841 31.0947 Q296.69 36.0368 296.69 45.1919 L296.69 72.576 L289.195 72.576 L289.195 45.4349 Q289.195 38.913 286.886 35.7533 Q284.577 32.5936 279.838 32.5936 Q274.045 32.5936 270.683 36.4419 Q267.321 40.2903 267.321 46.9338 L267.321 72.576 L259.826 72.576 L259.826 45.4349 Q259.826 38.8725 257.517 35.7533 Q255.208 32.5936 250.388 32.5936 Q244.676 32.5936 241.314 36.4824 Q237.952 40.3308 237.952 46.9338 L237.952 72.576 L230.457 72.576 L230.457 27.2059 L237.952 27.2059 L237.952 34.2544 Q240.504 30.082 244.068 28.0971 Q247.633 26.1121 252.535 26.1121 Q257.477 26.1121 260.92 28.6237 Q264.404 31.1352 266.065 35.9153 Z\" fill=\"#000000\" fill-rule=\"evenodd\" fill-opacity=\"1\" /><path clip-path=\"url(#clip840)\" d=\"M 0 0 M325.127 49.7694 Q316.093 49.7694 312.61 51.8354 Q309.126 53.9013 309.126 58.8839 Q309.126 62.8538 311.719 65.2034 Q314.352 67.5124 318.848 67.5124 Q325.046 67.5124 328.773 63.1374 Q332.54 58.7219 332.54 51.4303 L332.54 49.7694 L325.127 49.7694 M339.994 46.6907 L339.994 72.576 L332.54 72.576 L332.54 65.6895 Q329.988 69.8214 326.18 71.8063 Q322.372 73.7508 316.863 73.7508 Q309.896 73.7508 305.764 69.8619 Q301.672 65.9325 301.672 59.3701 Q301.672 51.7138 306.776 47.825 Q311.921 43.9361 322.089 43.9361 L332.54 43.9361 L332.54 43.2069 Q332.54 38.0623 329.137 35.2672 Q325.775 32.4315 319.658 32.4315 Q315.769 32.4315 312.083 33.3632 Q308.397 34.295 304.994 36.1584 L304.994 29.2718 Q309.085 27.692 312.934 26.9223 Q316.782 26.1121 320.428 26.1121 Q330.272 26.1121 335.133 31.2163 Q339.994 36.3204 339.994 46.6907 Z\" fill=\"#000000\" fill-rule=\"evenodd\" fill-opacity=\"1\" /><path clip-path=\"url(#clip840)\" d=\"M 0 0 M406.834 28.9478 L406.834 35.9153 Q403.674 34.1734 400.474 33.3227 Q397.314 32.4315 394.073 32.4315 Q386.822 32.4315 382.812 37.0496 Q378.801 41.6271 378.801 49.9314 Q378.801 58.2358 382.812 62.8538 Q386.822 67.4314 394.073 67.4314 Q397.314 67.4314 400.474 66.5807 Q403.674 65.6895 406.834 63.9476 L406.834 70.8341 Q403.715 72.2924 400.352 73.0216 Q397.031 73.7508 393.263 73.7508 Q383.014 73.7508 376.979 67.3098 Q370.943 60.8689 370.943 49.9314 Q370.943 38.832 377.019 32.472 Q383.136 26.1121 393.749 26.1121 Q397.193 26.1121 400.474 26.8413 Q403.755 27.5299 406.834 28.9478 Z\" fill=\"#000000\" fill-rule=\"evenodd\" fill-opacity=\"1\" /><path clip-path=\"url(#clip840)\" d=\"M 0 0 M432.233 32.4315 Q426.238 32.4315 422.754 37.1306 Q419.27 41.7891 419.27 49.9314 Q419.27 58.0738 422.713 62.7728 Q426.197 67.4314 432.233 67.4314 Q438.188 67.4314 441.672 62.7323 Q445.155 58.0333 445.155 49.9314 Q445.155 41.8701 441.672 37.1711 Q438.188 32.4315 432.233 32.4315 M432.233 26.1121 Q441.955 26.1121 447.505 32.4315 Q453.055 38.7509 453.055 49.9314 Q453.055 61.0714 447.505 67.4314 Q441.955 73.7508 432.233 73.7508 Q422.47 73.7508 416.92 67.4314 Q411.411 61.0714 411.411 49.9314 Q411.411 38.7509 416.92 32.4315 Q422.47 26.1121 432.233 26.1121 Z\" fill=\"#000000\" fill-rule=\"evenodd\" fill-opacity=\"1\" /><path clip-path=\"url(#clip840)\" d=\"M 0 0 M498.587 45.1919 L498.587 72.576 L491.133 72.576 L491.133 45.4349 Q491.133 38.994 488.621 35.7938 Q486.11 32.5936 481.087 32.5936 Q475.051 32.5936 471.567 36.4419 Q468.083 40.2903 468.083 46.9338 L468.083 72.576 L460.589 72.576 L460.589 27.2059 L468.083 27.2059 L468.083 34.2544 Q470.757 30.163 474.362 28.1376 Q478.008 26.1121 482.748 26.1121 Q490.566 26.1121 494.576 30.9732 Q498.587 35.7938 498.587 45.1919 Z\" fill=\"#000000\" fill-rule=\"evenodd\" fill-opacity=\"1\" /><path clip-path=\"url(#clip840)\" d=\"M 0 0 M562.632 34.0924 L562.632 9.54393 L570.085 9.54393 L570.085 72.576 L562.632 72.576 L562.632 65.7705 Q560.282 69.8214 556.677 71.8063 Q553.112 73.7508 548.089 73.7508 Q539.865 73.7508 534.68 67.1883 Q529.536 60.6258 529.536 49.9314 Q529.536 39.2371 534.68 32.6746 Q539.865 26.1121 548.089 26.1121 Q553.112 26.1121 556.677 28.0971 Q560.282 30.0415 562.632 34.0924 M537.232 49.9314 Q537.232 58.1548 540.595 62.8538 Q543.997 67.5124 549.912 67.5124 Q555.826 67.5124 559.229 62.8538 Q562.632 58.1548 562.632 49.9314 Q562.632 41.7081 559.229 37.0496 Q555.826 32.3505 549.912 32.3505 Q543.997 32.3505 540.595 37.0496 Q537.232 41.7081 537.232 49.9314 Z\" fill=\"#000000\" fill-rule=\"evenodd\" fill-opacity=\"1\" /><path clip-path=\"url(#clip840)\" d=\"M 0 0 M577.903 27.2059 L585.357 27.2059 L585.357 72.576 L577.903 72.576 L577.903 27.2059 M577.903 9.54393 L585.357 9.54393 L585.357 18.9825 L577.903 18.9825 L577.903 9.54393 Z\" fill=\"#000000\" fill-rule=\"evenodd\" fill-opacity=\"1\" /><path clip-path=\"url(#clip840)\" d=\"M 0 0 M616.144 9.54393 L616.144 15.7418 L609.014 15.7418 Q605.004 15.7418 603.424 17.3622 Q601.885 18.9825 601.885 23.1955 L601.885 27.2059 L614.159 27.2059 L614.159 32.9987 L601.885 32.9987 L601.885 72.576 L594.391 72.576 L594.391 32.9987 L587.261 32.9987 L587.261 27.2059 L594.391 27.2059 L594.391 24.0462 Q594.391 16.471 597.915 13.0277 Q601.439 9.54393 609.095 9.54393 L616.144 9.54393 Z\" fill=\"#000000\" fill-rule=\"evenodd\" fill-opacity=\"1\" /><path clip-path=\"url(#clip840)\" d=\"M 0 0 M662.77 48.0275 L662.77 51.6733 L628.499 51.6733 Q628.985 59.3701 633.117 63.421 Q637.29 67.4314 644.703 67.4314 Q648.997 67.4314 653.007 66.3781 Q657.058 65.3249 661.028 63.2184 L661.028 70.267 Q657.018 71.9684 652.805 72.8596 Q648.592 73.7508 644.257 73.7508 Q633.401 73.7508 627.041 67.4314 Q620.721 61.1119 620.721 50.3365 Q620.721 39.1965 626.717 32.6746 Q632.753 26.1121 642.961 26.1121 Q652.116 26.1121 657.423 32.0264 Q662.77 37.9003 662.77 48.0275 M655.316 45.84 Q655.235 39.7232 651.873 36.0774 Q648.551 32.4315 643.042 32.4315 Q636.804 32.4315 633.036 35.9558 Q629.309 39.4801 628.742 45.8805 L655.316 45.84 Z\" fill=\"#000000\" fill-rule=\"evenodd\" fill-opacity=\"1\" /><path clip-path=\"url(#clip840)\" d=\"M 0 0 M696.878 34.1734 Q695.623 33.4443 694.124 33.1202 Q692.666 32.7556 690.883 32.7556 Q684.564 32.7556 681.161 36.8875 Q677.799 40.9789 677.799 48.6757 L677.799 72.576 L670.305 72.576 L670.305 27.2059 L677.799 27.2059 L677.799 34.2544 Q680.148 30.1225 683.916 28.1376 Q687.683 26.1121 693.071 26.1121 Q693.84 26.1121 694.772 26.2337 Q695.704 26.3147 696.838 26.5172 L696.878 34.1734 Z\" fill=\"#000000\" fill-rule=\"evenodd\" fill-opacity=\"1\" /><path clip-path=\"url(#clip840)\" d=\"M 0 0 M741.681 48.0275 L741.681 51.6733 L707.411 51.6733 Q707.897 59.3701 712.029 63.421 Q716.201 67.4314 723.614 67.4314 Q727.908 67.4314 731.919 66.3781 Q735.97 65.3249 739.94 63.2184 L739.94 70.267 Q735.929 71.9684 731.716 72.8596 Q727.503 73.7508 723.169 73.7508 Q712.312 73.7508 705.953 67.4314 Q699.633 61.1119 699.633 50.3365 Q699.633 39.1965 705.628 32.6746 Q711.664 26.1121 721.873 26.1121 Q731.028 26.1121 736.334 32.0264 Q741.681 37.9003 741.681 48.0275 M734.228 45.84 Q734.147 39.7232 730.785 36.0774 Q727.463 32.4315 721.954 32.4315 Q715.715 32.4315 711.948 35.9558 Q708.221 39.4801 707.654 45.8805 L734.228 45.84 Z\" fill=\"#000000\" fill-rule=\"evenodd\" fill-opacity=\"1\" /><path clip-path=\"url(#clip840)\" d=\"M 0 0 M787.214 45.1919 L787.214 72.576 L779.76 72.576 L779.76 45.4349 Q779.76 38.994 777.248 35.7938 Q774.737 32.5936 769.714 32.5936 Q763.678 32.5936 760.194 36.4419 Q756.71 40.2903 756.71 46.9338 L756.71 72.576 L749.216 72.576 L749.216 27.2059 L756.71 27.2059 L756.71 34.2544 Q759.384 30.163 762.989 28.1376 Q766.635 26.1121 771.375 26.1121 Q779.193 26.1121 783.203 30.9732 Q787.214 35.7938 787.214 45.1919 Z\" fill=\"#000000\" fill-rule=\"evenodd\" fill-opacity=\"1\" /><path clip-path=\"url(#clip840)\" d=\"M 0 0 M802.405 14.324 L802.405 27.2059 L817.757 27.2059 L817.757 32.9987 L802.405 32.9987 L802.405 57.6282 Q802.405 63.1779 803.903 64.7578 Q805.443 66.3376 810.101 66.3376 L817.757 66.3376 L817.757 72.576 L810.101 72.576 Q801.473 72.576 798.192 69.3758 Q794.91 66.1351 794.91 57.6282 L794.91 32.9987 L789.442 32.9987 L789.442 27.2059 L794.91 27.2059 L794.91 14.324 L802.405 14.324 Z\" fill=\"#000000\" fill-rule=\"evenodd\" fill-opacity=\"1\" /><path clip-path=\"url(#clip840)\" d=\"M 0 0 M864.383 48.0275 L864.383 51.6733 L830.113 51.6733 Q830.599 59.3701 834.731 63.421 Q838.903 67.4314 846.316 67.4314 Q850.61 67.4314 854.621 66.3781 Q858.672 65.3249 862.641 63.2184 L862.641 70.267 Q858.631 71.9684 854.418 72.8596 Q850.205 73.7508 845.871 73.7508 Q835.014 73.7508 828.654 67.4314 Q822.335 61.1119 822.335 50.3365 Q822.335 39.1965 828.33 32.6746 Q834.366 26.1121 844.574 26.1121 Q853.729 26.1121 859.036 32.0264 Q864.383 37.9003 864.383 48.0275 M856.93 45.84 Q856.849 39.7232 853.486 36.0774 Q850.165 32.4315 844.655 32.4315 Q838.417 32.4315 834.65 35.9558 Q830.923 39.4801 830.356 45.8805 L856.93 45.84 Z\" fill=\"#000000\" fill-rule=\"evenodd\" fill-opacity=\"1\" /><path clip-path=\"url(#clip840)\" d=\"M 0 0 M901.125 28.5427 L901.125 35.5912 Q897.965 33.9709 894.563 33.1607 Q891.16 32.3505 887.514 32.3505 Q881.964 32.3505 879.169 34.0519 Q876.415 35.7533 876.415 39.156 Q876.415 41.7486 878.399 43.2475 Q880.384 44.7058 886.38 46.0426 L888.932 46.6097 Q896.872 48.3111 900.193 51.4303 Q903.556 54.509 903.556 60.0587 Q903.556 66.3781 898.532 70.0644 Q893.55 73.7508 884.8 73.7508 Q881.154 73.7508 877.184 73.0216 Q873.255 72.3329 868.88 70.9151 L868.88 63.2184 Q873.012 65.3654 877.022 66.4591 Q881.033 67.5124 884.962 67.5124 Q890.228 67.5124 893.064 65.73 Q895.899 63.9071 895.899 60.6258 Q895.899 57.5877 893.833 55.9673 Q891.808 54.3469 884.881 52.8481 L882.288 52.2405 Q875.361 50.7821 872.283 47.7845 Q869.204 44.7463 869.204 39.4801 Q869.204 33.0797 873.741 29.5959 Q878.278 26.1121 886.623 26.1121 Q890.755 26.1121 894.401 26.7198 Q898.046 27.3274 901.125 28.5427 Z\" fill=\"#000000\" fill-rule=\"evenodd\" fill-opacity=\"1\" /><path clip-path=\"url(#clip840)\" d=\"M 0 0 M932.398 27.2059 L940.297 27.2059 L954.475 65.2844 L968.654 27.2059 L976.553 27.2059 L959.539 72.576 L949.412 72.576 L932.398 27.2059 Z\" fill=\"#000000\" fill-rule=\"evenodd\" fill-opacity=\"1\" /><path clip-path=\"url(#clip840)\" d=\"M 0 0 M1004.99 49.7694 Q995.957 49.7694 992.473 51.8354 Q988.989 53.9013 988.989 58.8839 Q988.989 62.8538 991.582 65.2034 Q994.215 67.5124 998.711 67.5124 Q1004.91 67.5124 1008.64 63.1374 Q1012.4 58.7219 1012.4 51.4303 L1012.4 49.7694 L1004.99 49.7694 M1019.86 46.6907 L1019.86 72.576 L1012.4 72.576 L1012.4 65.6895 Q1009.85 69.8214 1006.04 71.8063 Q1002.24 73.7508 996.726 73.7508 Q989.759 73.7508 985.627 69.8619 Q981.536 65.9325 981.536 59.3701 Q981.536 51.7138 986.64 47.825 Q991.784 43.9361 1001.95 43.9361 L1012.4 43.9361 L1012.4 43.2069 Q1012.4 38.0623 1009 35.2672 Q1005.64 32.4315 999.522 32.4315 Q995.633 32.4315 991.946 33.3632 Q988.26 34.295 984.857 36.1584 L984.857 29.2718 Q988.949 27.692 992.797 26.9223 Q996.645 26.1121 1000.29 26.1121 Q1010.13 26.1121 1015 31.2163 Q1019.86 36.3204 1019.86 46.6907 Z\" fill=\"#000000\" fill-rule=\"evenodd\" fill-opacity=\"1\" /><path clip-path=\"url(#clip840)\" d=\"M 0 0 M1027.68 9.54393 L1035.13 9.54393 L1035.13 72.576 L1027.68 72.576 L1027.68 9.54393 Z\" fill=\"#000000\" fill-rule=\"evenodd\" fill-opacity=\"1\" /><path clip-path=\"url(#clip840)\" d=\"M 0 0 M1060.53 32.4315 Q1054.53 32.4315 1051.05 37.1306 Q1047.57 41.7891 1047.57 49.9314 Q1047.57 58.0738 1051.01 62.7728 Q1054.49 67.4314 1060.53 67.4314 Q1066.48 67.4314 1069.97 62.7323 Q1073.45 58.0333 1073.45 49.9314 Q1073.45 41.8701 1069.97 37.1711 Q1066.48 32.4315 1060.53 32.4315 M1060.53 26.1121 Q1070.25 26.1121 1075.8 32.4315 Q1081.35 38.7509 1081.35 49.9314 Q1081.35 61.0714 1075.8 67.4314 Q1070.25 73.7508 1060.53 73.7508 Q1050.77 73.7508 1045.22 67.4314 Q1039.71 61.0714 1039.71 49.9314 Q1039.71 38.7509 1045.22 32.4315 Q1050.77 26.1121 1060.53 26.1121 Z\" fill=\"#000000\" fill-rule=\"evenodd\" fill-opacity=\"1\" /><path clip-path=\"url(#clip840)\" d=\"M 0 0 M1115.46 34.1734 Q1114.2 33.4443 1112.7 33.1202 Q1111.25 32.7556 1109.46 32.7556 Q1103.14 32.7556 1099.74 36.8875 Q1096.38 40.9789 1096.38 48.6757 L1096.38 72.576 L1088.88 72.576 L1088.88 27.2059 L1096.38 27.2059 L1096.38 34.2544 Q1098.73 30.1225 1102.5 28.1376 Q1106.26 26.1121 1111.65 26.1121 Q1112.42 26.1121 1113.35 26.2337 Q1114.28 26.3147 1115.42 26.5172 L1115.46 34.1734 Z\" fill=\"#000000\" fill-rule=\"evenodd\" fill-opacity=\"1\" /><path clip-path=\"url(#clip840)\" d=\"M 0 0 M1160.26 48.0275 L1160.26 51.6733 L1125.99 51.6733 Q1126.48 59.3701 1130.61 63.421 Q1134.78 67.4314 1142.19 67.4314 Q1146.49 67.4314 1150.5 66.3781 Q1154.55 65.3249 1158.52 63.2184 L1158.52 70.267 Q1154.51 71.9684 1150.3 72.8596 Q1146.08 73.7508 1141.75 73.7508 Q1130.89 73.7508 1124.53 67.4314 Q1118.21 61.1119 1118.21 50.3365 Q1118.21 39.1965 1124.21 32.6746 Q1130.24 26.1121 1140.45 26.1121 Q1149.61 26.1121 1154.91 32.0264 Q1160.26 37.9003 1160.26 48.0275 M1152.81 45.84 Q1152.73 39.7232 1149.36 36.0774 Q1146.04 32.4315 1140.53 32.4315 Q1134.3 32.4315 1130.53 35.9558 Q1126.8 39.4801 1126.23 45.8805 L1152.81 45.84 Z\" fill=\"#000000\" fill-rule=\"evenodd\" fill-opacity=\"1\" /><path clip-path=\"url(#clip840)\" d=\"M 0 0 M1197 28.5427 L1197 35.5912 Q1193.84 33.9709 1190.44 33.1607 Q1187.04 32.3505 1183.39 32.3505 Q1177.84 32.3505 1175.05 34.0519 Q1172.29 35.7533 1172.29 39.156 Q1172.29 41.7486 1174.28 43.2475 Q1176.26 44.7058 1182.26 46.0426 L1184.81 46.6097 Q1192.75 48.3111 1196.07 51.4303 Q1199.43 54.509 1199.43 60.0587 Q1199.43 66.3781 1194.41 70.0644 Q1189.43 73.7508 1180.68 73.7508 Q1177.03 73.7508 1173.06 73.0216 Q1169.13 72.3329 1164.76 70.9151 L1164.76 63.2184 Q1168.89 65.3654 1172.9 66.4591 Q1176.91 67.5124 1180.84 67.5124 Q1186.11 67.5124 1188.94 65.73 Q1191.78 63.9071 1191.78 60.6258 Q1191.78 57.5877 1189.71 55.9673 Q1187.69 54.3469 1180.76 52.8481 L1178.17 52.2405 Q1171.24 50.7821 1168.16 47.7845 Q1165.08 44.7463 1165.08 39.4801 Q1165.08 33.0797 1169.62 29.5959 Q1174.16 26.1121 1182.5 26.1121 Q1186.63 26.1121 1190.28 26.7198 Q1193.92 27.3274 1197 28.5427 Z\" fill=\"#000000\" fill-rule=\"evenodd\" fill-opacity=\"1\" /><path clip-path=\"url(#clip840)\" d=\"M 0 0 M1240.83 65.7705 L1240.83 89.8329 L1233.34 89.8329 L1233.34 27.2059 L1240.83 27.2059 L1240.83 34.0924 Q1243.18 30.0415 1246.75 28.0971 Q1250.35 26.1121 1255.34 26.1121 Q1263.6 26.1121 1268.74 32.6746 Q1273.93 39.2371 1273.93 49.9314 Q1273.93 60.6258 1268.74 67.1883 Q1263.6 73.7508 1255.34 73.7508 Q1250.35 73.7508 1246.75 71.8063 Q1243.18 69.8214 1240.83 65.7705 M1266.19 49.9314 Q1266.19 41.7081 1262.79 37.0496 Q1259.43 32.3505 1253.51 32.3505 Q1247.6 32.3505 1244.2 37.0496 Q1240.83 41.7081 1240.83 49.9314 Q1240.83 58.1548 1244.2 62.8538 Q1247.6 67.5124 1253.51 67.5124 Q1259.43 67.5124 1262.79 62.8538 Q1266.19 58.1548 1266.19 49.9314 Z\" fill=\"#000000\" fill-rule=\"evenodd\" fill-opacity=\"1\" /><path clip-path=\"url(#clip840)\" d=\"M 0 0 M1302.37 49.7694 Q1293.33 49.7694 1289.85 51.8354 Q1286.37 53.9013 1286.37 58.8839 Q1286.37 62.8538 1288.96 65.2034 Q1291.59 67.5124 1296.09 67.5124 Q1302.29 67.5124 1306.01 63.1374 Q1309.78 58.7219 1309.78 51.4303 L1309.78 49.7694 L1302.37 49.7694 M1317.23 46.6907 L1317.23 72.576 L1309.78 72.576 L1309.78 65.6895 Q1307.23 69.8214 1303.42 71.8063 Q1299.61 73.7508 1294.1 73.7508 Q1287.14 73.7508 1283 69.8619 Q1278.91 65.9325 1278.91 59.3701 Q1278.91 51.7138 1284.02 47.825 Q1289.16 43.9361 1299.33 43.9361 L1309.78 43.9361 L1309.78 43.2069 Q1309.78 38.0623 1306.38 35.2672 Q1303.02 32.4315 1296.9 32.4315 Q1293.01 32.4315 1289.32 33.3632 Q1285.64 34.295 1282.23 36.1584 L1282.23 29.2718 Q1286.33 27.692 1290.17 26.9223 Q1294.02 26.1121 1297.67 26.1121 Q1307.51 26.1121 1312.37 31.2163 Q1317.23 36.3204 1317.23 46.6907 Z\" fill=\"#000000\" fill-rule=\"evenodd\" fill-opacity=\"1\" /><path clip-path=\"url(#clip840)\" d=\"M 0 0 M1351.34 34.1734 Q1350.09 33.4443 1348.59 33.1202 Q1347.13 32.7556 1345.35 32.7556 Q1339.03 32.7556 1335.63 36.8875 Q1332.26 40.9789 1332.26 48.6757 L1332.26 72.576 L1324.77 72.576 L1324.77 27.2059 L1332.26 27.2059 L1332.26 34.2544 Q1334.61 30.1225 1338.38 28.1376 Q1342.15 26.1121 1347.53 26.1121 Q1348.3 26.1121 1349.24 26.2337 Q1350.17 26.3147 1351.3 26.5172 L1351.34 34.1734 Z\" fill=\"#000000\" fill-rule=\"evenodd\" fill-opacity=\"1\" /><path clip-path=\"url(#clip840)\" d=\"M 0 0 M1379.78 49.7694 Q1370.75 49.7694 1367.26 51.8354 Q1363.78 53.9013 1363.78 58.8839 Q1363.78 62.8538 1366.37 65.2034 Q1369 67.5124 1373.5 67.5124 Q1379.7 67.5124 1383.43 63.1374 Q1387.19 58.7219 1387.19 51.4303 L1387.19 49.7694 L1379.78 49.7694 M1394.65 46.6907 L1394.65 72.576 L1387.19 72.576 L1387.19 65.6895 Q1384.64 69.8214 1380.83 71.8063 Q1377.03 73.7508 1371.52 73.7508 Q1364.55 73.7508 1360.42 69.8619 Q1356.33 65.9325 1356.33 59.3701 Q1356.33 51.7138 1361.43 47.825 Q1366.57 43.9361 1376.74 43.9361 L1387.19 43.9361 L1387.19 43.2069 Q1387.19 38.0623 1383.79 35.2672 Q1380.43 32.4315 1374.31 32.4315 Q1370.42 32.4315 1366.74 33.3632 Q1363.05 34.295 1359.65 36.1584 L1359.65 29.2718 Q1363.74 27.692 1367.59 26.9223 Q1371.44 26.1121 1375.08 26.1121 Q1384.92 26.1121 1389.79 31.2163 Q1394.65 36.3204 1394.65 46.6907 Z\" fill=\"#000000\" fill-rule=\"evenodd\" fill-opacity=\"1\" /><path clip-path=\"url(#clip840)\" d=\"M 0 0 M1446.42 32.4315 Q1440.42 32.4315 1436.94 37.1306 Q1433.45 41.7891 1433.45 49.9314 Q1433.45 58.0738 1436.9 62.7728 Q1440.38 67.4314 1446.42 67.4314 Q1452.37 67.4314 1455.86 62.7323 Q1459.34 58.0333 1459.34 49.9314 Q1459.34 41.8701 1455.86 37.1711 Q1452.37 32.4315 1446.42 32.4315 M1446.42 26.1121 Q1456.14 26.1121 1461.69 32.4315 Q1467.24 38.7509 1467.24 49.9314 Q1467.24 61.0714 1461.69 67.4314 Q1456.14 73.7508 1446.42 73.7508 Q1436.65 73.7508 1431.1 67.4314 Q1425.6 61.0714 1425.6 49.9314 Q1425.6 38.7509 1431.1 32.4315 Q1436.65 26.1121 1446.42 26.1121 Z\" fill=\"#000000\" fill-rule=\"evenodd\" fill-opacity=\"1\" /><path clip-path=\"url(#clip840)\" d=\"M 0 0 M1510.38 35.9153 Q1513.18 30.8922 1517.07 28.5022 Q1520.95 26.1121 1526.22 26.1121 Q1533.31 26.1121 1537.16 31.0947 Q1541.01 36.0368 1541.01 45.1919 L1541.01 72.576 L1533.51 72.576 L1533.51 45.4349 Q1533.51 38.913 1531.2 35.7533 Q1528.89 32.5936 1524.15 32.5936 Q1518.36 32.5936 1515 36.4419 Q1511.64 40.2903 1511.64 46.9338 L1511.64 72.576 L1504.14 72.576 L1504.14 45.4349 Q1504.14 38.8725 1501.83 35.7533 Q1499.52 32.5936 1494.7 32.5936 Q1488.99 32.5936 1485.63 36.4824 Q1482.27 40.3308 1482.27 46.9338 L1482.27 72.576 L1474.77 72.576 L1474.77 27.2059 L1482.27 27.2059 L1482.27 34.2544 Q1484.82 30.082 1488.38 28.0971 Q1491.95 26.1121 1496.85 26.1121 Q1501.79 26.1121 1505.24 28.6237 Q1508.72 31.1352 1510.38 35.9153 Z\" fill=\"#000000\" fill-rule=\"evenodd\" fill-opacity=\"1\" /><path clip-path=\"url(#clip840)\" d=\"M 0 0 M1587.63 48.0275 L1587.63 51.6733 L1553.36 51.6733 Q1553.85 59.3701 1557.98 63.421 Q1562.15 67.4314 1569.56 67.4314 Q1573.86 67.4314 1577.87 66.3781 Q1581.92 65.3249 1585.89 63.2184 L1585.89 70.267 Q1581.88 71.9684 1577.67 72.8596 Q1573.45 73.7508 1569.12 73.7508 Q1558.26 73.7508 1551.9 67.4314 Q1545.58 61.1119 1545.58 50.3365 Q1545.58 39.1965 1551.58 32.6746 Q1557.61 26.1121 1567.82 26.1121 Q1576.98 26.1121 1582.28 32.0264 Q1587.63 37.9003 1587.63 48.0275 M1580.18 45.84 Q1580.1 39.7232 1576.73 36.0774 Q1573.41 32.4315 1567.9 32.4315 Q1561.67 32.4315 1557.9 35.9558 Q1554.17 39.4801 1553.6 45.8805 L1580.18 45.84 Z\" fill=\"#000000\" fill-rule=\"evenodd\" fill-opacity=\"1\" /><path clip-path=\"url(#clip840)\" d=\"M 0 0 M1625.31 49.3643 Q1625.31 41.2625 1621.94 36.8065 Q1618.62 32.3505 1612.59 32.3505 Q1606.59 32.3505 1603.23 36.8065 Q1599.91 41.2625 1599.91 49.3643 Q1599.91 57.4256 1603.23 61.8816 Q1606.59 66.3376 1612.59 66.3376 Q1618.62 66.3376 1621.94 61.8816 Q1625.31 57.4256 1625.31 49.3643 M1632.76 66.9452 Q1632.76 78.5308 1627.61 84.1616 Q1622.47 89.8329 1611.86 89.8329 Q1607.93 89.8329 1604.44 89.2252 Q1600.96 88.6581 1597.68 87.4428 L1597.68 80.1917 Q1600.96 81.9741 1604.16 82.8248 Q1607.36 83.6755 1610.68 83.6755 Q1618.01 83.6755 1621.66 79.8271 Q1625.31 76.0193 1625.31 68.282 L1625.31 64.5957 Q1623 68.6061 1619.39 70.5911 Q1615.79 72.576 1610.76 72.576 Q1602.42 72.576 1597.31 66.2161 Q1592.21 59.8562 1592.21 49.3643 Q1592.21 38.832 1597.31 32.472 Q1602.42 26.1121 1610.76 26.1121 Q1615.79 26.1121 1619.39 28.0971 Q1623 30.082 1625.31 34.0924 L1625.31 27.2059 L1632.76 27.2059 L1632.76 66.9452 Z\" fill=\"#000000\" fill-rule=\"evenodd\" fill-opacity=\"1\" /><path clip-path=\"url(#clip840)\" d=\"M 0 0 M1661.2 49.7694 Q1652.16 49.7694 1648.68 51.8354 Q1645.2 53.9013 1645.2 58.8839 Q1645.2 62.8538 1647.79 65.2034 Q1650.42 67.5124 1654.92 67.5124 Q1661.12 67.5124 1664.84 63.1374 Q1668.61 58.7219 1668.61 51.4303 L1668.61 49.7694 L1661.2 49.7694 M1676.06 46.6907 L1676.06 72.576 L1668.61 72.576 L1668.61 65.6895 Q1666.06 69.8214 1662.25 71.8063 Q1658.44 73.7508 1652.93 73.7508 Q1645.96 73.7508 1641.83 69.8619 Q1637.74 65.9325 1637.74 59.3701 Q1637.74 51.7138 1642.85 47.825 Q1647.99 43.9361 1658.16 43.9361 L1668.61 43.9361 L1668.61 43.2069 Q1668.61 38.0623 1665.21 35.2672 Q1661.84 32.4315 1655.73 32.4315 Q1651.84 32.4315 1648.15 33.3632 Q1644.47 34.295 1641.06 36.1584 L1641.06 29.2718 Q1645.15 27.692 1649 26.9223 Q1652.85 26.1121 1656.5 26.1121 Q1666.34 26.1121 1671.2 31.2163 Q1676.06 36.3204 1676.06 46.6907 Z\" fill=\"#000000\" fill-rule=\"evenodd\" fill-opacity=\"1\" /><path clip-path=\"url(#clip840)\" d=\"M 0 0 M1709.48 54.671 L1709.48 27.2059 L1716.94 27.2059 L1716.94 54.3874 Q1716.94 60.8284 1719.45 64.0691 Q1721.96 67.2693 1726.98 67.2693 Q1733.02 67.2693 1736.5 63.421 Q1740.03 59.5726 1740.03 52.9291 L1740.03 27.2059 L1747.48 27.2059 L1747.48 72.576 L1740.03 72.576 L1740.03 65.6084 Q1737.31 69.7404 1733.71 71.7658 Q1730.14 73.7508 1725.4 73.7508 Q1717.58 73.7508 1713.53 68.8897 Q1709.48 64.0286 1709.48 54.671 M1728.24 26.1121 L1728.24 26.1121 Z\" fill=\"#000000\" fill-rule=\"evenodd\" fill-opacity=\"1\" /><path clip-path=\"url(#clip840)\" d=\"M 0 0 M1784.22 28.5427 L1784.22 35.5912 Q1781.06 33.9709 1777.66 33.1607 Q1774.26 32.3505 1770.61 32.3505 Q1765.06 32.3505 1762.27 34.0519 Q1759.51 35.7533 1759.51 39.156 Q1759.51 41.7486 1761.5 43.2475 Q1763.48 44.7058 1769.48 46.0426 L1772.03 46.6097 Q1779.97 48.3111 1783.29 51.4303 Q1786.65 54.509 1786.65 60.0587 Q1786.65 66.3781 1781.63 70.0644 Q1776.65 73.7508 1767.9 73.7508 Q1764.25 73.7508 1760.28 73.0216 Q1756.35 72.3329 1751.98 70.9151 L1751.98 63.2184 Q1756.11 65.3654 1760.12 66.4591 Q1764.13 67.5124 1768.06 67.5124 Q1773.33 67.5124 1776.16 65.73 Q1779 63.9071 1779 60.6258 Q1779 57.5877 1776.93 55.9673 Q1774.91 54.3469 1767.98 52.8481 L1765.39 52.2405 Q1758.46 50.7821 1755.38 47.7845 Q1752.3 44.7463 1752.3 39.4801 Q1752.3 33.0797 1756.84 29.5959 Q1761.38 26.1121 1769.72 26.1121 Q1773.85 26.1121 1777.5 26.7198 Q1781.14 27.3274 1784.22 28.5427 Z\" fill=\"#000000\" fill-rule=\"evenodd\" fill-opacity=\"1\" /><path clip-path=\"url(#clip840)\" d=\"M 0 0 M1815.09 49.7694 Q1806.06 49.7694 1802.57 51.8354 Q1799.09 53.9013 1799.09 58.8839 Q1799.09 62.8538 1801.68 65.2034 Q1804.31 67.5124 1808.81 67.5124 Q1815.01 67.5124 1818.74 63.1374 Q1822.5 58.7219 1822.5 51.4303 L1822.5 49.7694 L1815.09 49.7694 M1829.96 46.6907 L1829.96 72.576 L1822.5 72.576 L1822.5 65.6895 Q1819.95 69.8214 1816.14 71.8063 Q1812.34 73.7508 1806.83 73.7508 Q1799.86 73.7508 1795.73 69.8619 Q1791.64 65.9325 1791.64 59.3701 Q1791.64 51.7138 1796.74 47.825 Q1801.88 43.9361 1812.05 43.9361 L1822.5 43.9361 L1822.5 43.2069 Q1822.5 38.0623 1819.1 35.2672 Q1815.74 32.4315 1809.62 32.4315 Q1805.73 32.4315 1802.05 33.3632 Q1798.36 34.295 1794.96 36.1584 L1794.96 29.2718 Q1799.05 27.692 1802.9 26.9223 Q1806.75 26.1121 1810.39 26.1121 Q1820.23 26.1121 1825.1 31.2163 Q1829.96 36.3204 1829.96 46.6907 Z\" fill=\"#000000\" fill-rule=\"evenodd\" fill-opacity=\"1\" /><path clip-path=\"url(#clip840)\" d=\"M 0 0 M1875.49 45.1919 L1875.49 72.576 L1868.04 72.576 L1868.04 45.4349 Q1868.04 38.994 1865.52 35.7938 Q1863.01 32.5936 1857.99 32.5936 Q1851.95 32.5936 1848.47 36.4419 Q1844.99 40.2903 1844.99 46.9338 L1844.99 72.576 L1837.49 72.576 L1837.49 27.2059 L1844.99 27.2059 L1844.99 34.2544 Q1847.66 30.163 1851.26 28.1376 Q1854.91 26.1121 1859.65 26.1121 Q1867.47 26.1121 1871.48 30.9732 Q1875.49 35.7938 1875.49 45.1919 Z\" fill=\"#000000\" fill-rule=\"evenodd\" fill-opacity=\"1\" /><path clip-path=\"url(#clip840)\" d=\"M 0 0 M1913.16 34.0924 L1913.16 9.54393 L1920.62 9.54393 L1920.62 72.576 L1913.16 72.576 L1913.16 65.7705 Q1910.81 69.8214 1907.21 71.8063 Q1903.64 73.7508 1898.62 73.7508 Q1890.4 73.7508 1885.21 67.1883 Q1880.07 60.6258 1880.07 49.9314 Q1880.07 39.2371 1885.21 32.6746 Q1890.4 26.1121 1898.62 26.1121 Q1903.64 26.1121 1907.21 28.0971 Q1910.81 30.0415 1913.16 34.0924 M1887.76 49.9314 Q1887.76 58.1548 1891.13 62.8538 Q1894.53 67.5124 1900.44 67.5124 Q1906.36 67.5124 1909.76 62.8538 Q1913.16 58.1548 1913.16 49.9314 Q1913.16 41.7081 1909.76 37.0496 Q1906.36 32.3505 1900.44 32.3505 Q1894.53 32.3505 1891.13 37.0496 Q1887.76 41.7081 1887.76 49.9314 Z\" fill=\"#000000\" fill-rule=\"evenodd\" fill-opacity=\"1\" /><path clip-path=\"url(#clip840)\" d=\"M 0 0 M1946.02 32.4315 Q1940.02 32.4315 1936.54 37.1306 Q1933.05 41.7891 1933.05 49.9314 Q1933.05 58.0738 1936.5 62.7728 Q1939.98 67.4314 1946.02 67.4314 Q1951.97 67.4314 1955.45 62.7323 Q1958.94 58.0333 1958.94 49.9314 Q1958.94 41.8701 1955.45 37.1711 Q1951.97 32.4315 1946.02 32.4315 M1946.02 26.1121 Q1955.74 26.1121 1961.29 32.4315 Q1966.84 38.7509 1966.84 49.9314 Q1966.84 61.0714 1961.29 67.4314 Q1955.74 73.7508 1946.02 73.7508 Q1936.25 73.7508 1930.7 67.4314 Q1925.19 61.0714 1925.19 49.9314 Q1925.19 38.7509 1930.7 32.4315 Q1936.25 26.1121 1946.02 26.1121 Z\" fill=\"#000000\" fill-rule=\"evenodd\" fill-opacity=\"1\" /><path clip-path=\"url(#clip840)\" d=\"M 0 0 M2001.35 12.096 L2039.59 12.096 L2039.59 18.9825 L2009.53 18.9825 L2009.53 36.8875 L2038.34 36.8875 L2038.34 43.7741 L2009.53 43.7741 L2009.53 65.6895 L2040.32 65.6895 L2040.32 72.576 L2001.35 72.576 L2001.35 12.096 Z\" fill=\"#000000\" fill-rule=\"evenodd\" fill-opacity=\"1\" /><path clip-path=\"url(#clip840)\" d=\"M 0 0 M2047.37 54.671 L2047.37 27.2059 L2054.82 27.2059 L2054.82 54.3874 Q2054.82 60.8284 2057.33 64.0691 Q2059.85 67.2693 2064.87 67.2693 Q2070.9 67.2693 2074.39 63.421 Q2077.91 59.5726 2077.91 52.9291 L2077.91 27.2059 L2085.37 27.2059 L2085.37 72.576 L2077.91 72.576 L2077.91 65.6084 Q2075.2 69.7404 2071.59 71.7658 Q2068.03 73.7508 2063.29 73.7508 Q2055.47 73.7508 2051.42 68.8897 Q2047.37 64.0286 2047.37 54.671 M2066.12 26.1121 L2066.12 26.1121 Z\" fill=\"#000000\" fill-rule=\"evenodd\" fill-opacity=\"1\" /><path clip-path=\"url(#clip840)\" d=\"M 0 0 M2093.18 9.54393 L2100.64 9.54393 L2100.64 72.576 L2093.18 72.576 L2093.18 9.54393 Z\" fill=\"#000000\" fill-rule=\"evenodd\" fill-opacity=\"1\" /><path clip-path=\"url(#clip840)\" d=\"M 0 0 M2147.26 48.0275 L2147.26 51.6733 L2112.99 51.6733 Q2113.48 59.3701 2117.61 63.421 Q2121.78 67.4314 2129.2 67.4314 Q2133.49 67.4314 2137.5 66.3781 Q2141.55 65.3249 2145.52 63.2184 L2145.52 70.267 Q2141.51 71.9684 2137.3 72.8596 Q2133.09 73.7508 2128.75 73.7508 Q2117.9 73.7508 2111.54 67.4314 Q2105.22 61.1119 2105.22 50.3365 Q2105.22 39.1965 2111.21 32.6746 Q2117.25 26.1121 2127.46 26.1121 Q2136.61 26.1121 2141.92 32.0264 Q2147.26 37.9003 2147.26 48.0275 M2139.81 45.84 Q2139.73 39.7232 2136.37 36.0774 Q2133.05 32.4315 2127.54 32.4315 Q2121.3 32.4315 2117.53 35.9558 Q2113.8 39.4801 2113.24 45.8805 L2139.81 45.84 Z\" fill=\"#000000\" fill-rule=\"evenodd\" fill-opacity=\"1\" /><path clip-path=\"url(#clip840)\" d=\"M 0 0 M2181.37 34.1734 Q2180.12 33.4443 2178.62 33.1202 Q2177.16 32.7556 2175.38 32.7556 Q2169.06 32.7556 2165.66 36.8875 Q2162.29 40.9789 2162.29 48.6757 L2162.29 72.576 L2154.8 72.576 L2154.8 27.2059 L2162.29 27.2059 L2162.29 34.2544 Q2164.64 30.1225 2168.41 28.1376 Q2172.18 26.1121 2177.56 26.1121 Q2178.33 26.1121 2179.27 26.2337 Q2180.2 26.3147 2181.33 26.5172 L2181.37 34.1734 Z\" fill=\"#000000\" fill-rule=\"evenodd\" fill-opacity=\"1\" /><path clip-path=\"url(#clip840)\" d=\"M 0 0 M2215.89 12.096 L2228.08 12.096 L2243.51 53.2532 L2259.03 12.096 L2271.22 12.096 L2271.22 72.576 L2263.24 72.576 L2263.24 19.4686 L2247.65 60.9499 L2239.42 60.9499 L2223.83 19.4686 L2223.83 72.576 L2215.89 72.576 L2215.89 12.096 Z\" fill=\"#000000\" fill-rule=\"evenodd\" fill-opacity=\"1\" /><path clip-path=\"url(#clip840)\" d=\"M 0 0 M2317.85 48.0275 L2317.85 51.6733 L2283.58 51.6733 Q2284.06 59.3701 2288.2 63.421 Q2292.37 67.4314 2299.78 67.4314 Q2304.07 67.4314 2308.09 66.3781 Q2312.14 65.3249 2316.11 63.2184 L2316.11 70.267 Q2312.1 71.9684 2307.88 72.8596 Q2303.67 73.7508 2299.34 73.7508 Q2288.48 73.7508 2282.12 67.4314 Q2275.8 61.1119 2275.8 50.3365 Q2275.8 39.1965 2281.79 32.6746 Q2287.83 26.1121 2298.04 26.1121 Q2307.19 26.1121 2312.5 32.0264 Q2317.85 37.9003 2317.85 48.0275 M2310.39 45.84 Q2310.31 39.7232 2306.95 36.0774 Q2303.63 32.4315 2298.12 32.4315 Q2291.88 32.4315 2288.11 35.9558 Q2284.39 39.4801 2283.82 45.8805 L2310.39 45.84 Z\" fill=\"#000000\" fill-rule=\"evenodd\" fill-opacity=\"1\" /><path clip-path=\"url(#clip840)\" d=\"M 0 0 M2325.67 27.2059 L2333.12 27.2059 L2333.12 73.3862 Q2333.12 82.0551 2329.8 85.944 Q2326.52 89.8329 2319.18 89.8329 L2316.35 89.8329 L2316.35 83.5134 L2318.33 83.5134 Q2322.59 83.5134 2324.13 81.5285 Q2325.67 79.5841 2325.67 73.3862 L2325.67 27.2059 M2325.67 9.54393 L2333.12 9.54393 L2333.12 18.9825 L2325.67 18.9825 L2325.67 9.54393 Z\" fill=\"#000000\" fill-rule=\"evenodd\" fill-opacity=\"1\" /><path clip-path=\"url(#clip840)\" d=\"M 0 0 M2358.52 32.4315 Q2352.52 32.4315 2349.04 37.1306 Q2345.56 41.7891 2345.56 49.9314 Q2345.56 58.0738 2349 62.7728 Q2352.48 67.4314 2358.52 67.4314 Q2364.47 67.4314 2367.96 62.7323 Q2371.44 58.0333 2371.44 49.9314 Q2371.44 41.8701 2367.96 37.1711 Q2364.47 32.4315 2358.52 32.4315 M2358.52 26.1121 Q2368.24 26.1121 2373.79 32.4315 Q2379.34 38.7509 2379.34 49.9314 Q2379.34 61.0714 2373.79 67.4314 Q2368.24 73.7508 2358.52 73.7508 Q2348.76 73.7508 2343.21 67.4314 Q2337.7 61.0714 2337.7 49.9314 Q2337.7 38.7509 2343.21 32.4315 Q2348.76 26.1121 2358.52 26.1121 Z\" fill=\"#000000\" fill-rule=\"evenodd\" fill-opacity=\"1\" /><path clip-path=\"url(#clip840)\" d=\"M 0 0 M2413.45 34.1734 Q2412.19 33.4443 2410.69 33.1202 Q2409.24 32.7556 2407.45 32.7556 Q2401.13 32.7556 2397.73 36.8875 Q2394.37 40.9789 2394.37 48.6757 L2394.37 72.576 L2386.88 72.576 L2386.88 27.2059 L2394.37 27.2059 L2394.37 34.2544 Q2396.72 30.1225 2400.49 28.1376 Q2404.25 26.1121 2409.64 26.1121 Q2410.41 26.1121 2411.34 26.2337 Q2412.27 26.3147 2413.41 26.5172 L2413.45 34.1734 Z\" fill=\"#000000\" fill-rule=\"evenodd\" fill-opacity=\"1\" /><path clip-path=\"url(#clip840)\" d=\"M 0 0 M2441.89 49.7694 Q2432.85 49.7694 2429.37 51.8354 Q2425.89 53.9013 2425.89 58.8839 Q2425.89 62.8538 2428.48 65.2034 Q2431.11 67.5124 2435.61 67.5124 Q2441.81 67.5124 2445.53 63.1374 Q2449.3 58.7219 2449.3 51.4303 L2449.3 49.7694 L2441.89 49.7694 M2456.75 46.6907 L2456.75 72.576 L2449.3 72.576 L2449.3 65.6895 Q2446.75 69.8214 2442.94 71.8063 Q2439.13 73.7508 2433.62 73.7508 Q2426.66 73.7508 2422.52 69.8619 Q2418.43 65.9325 2418.43 59.3701 Q2418.43 51.7138 2423.54 47.825 Q2428.68 43.9361 2438.85 43.9361 L2449.3 43.9361 L2449.3 43.2069 Q2449.3 38.0623 2445.9 35.2672 Q2442.53 32.4315 2436.42 32.4315 Q2432.53 32.4315 2428.84 33.3632 Q2425.16 34.295 2421.75 36.1584 L2421.75 29.2718 Q2425.84 27.692 2429.69 26.9223 Q2433.54 26.1121 2437.19 26.1121 Q2447.03 26.1121 2451.89 31.2163 Q2456.75 36.3204 2456.75 46.6907 Z\" fill=\"#000000\" fill-rule=\"evenodd\" fill-opacity=\"1\" /><path clip-path=\"url(#clip840)\" d=\"M 0 0 M2494.43 34.0924 L2494.43 9.54393 L2501.88 9.54393 L2501.88 72.576 L2494.43 72.576 L2494.43 65.7705 Q2492.08 69.8214 2488.47 71.8063 Q2484.91 73.7508 2479.88 73.7508 Q2471.66 73.7508 2466.48 67.1883 Q2461.33 60.6258 2461.33 49.9314 Q2461.33 39.2371 2466.48 32.6746 Q2471.66 26.1121 2479.88 26.1121 Q2484.91 26.1121 2488.47 28.0971 Q2492.08 30.0415 2494.43 34.0924 M2469.03 49.9314 Q2469.03 58.1548 2472.39 62.8538 Q2475.79 67.5124 2481.71 67.5124 Q2487.62 67.5124 2491.02 62.8538 Q2494.43 58.1548 2494.43 49.9314 Q2494.43 41.7081 2491.02 37.0496 Q2487.62 32.3505 2481.71 32.3505 Q2475.79 32.3505 2472.39 37.0496 Q2469.03 41.7081 2469.03 49.9314 Z\" fill=\"#000000\" fill-rule=\"evenodd\" fill-opacity=\"1\" /><path clip-path=\"url(#clip840)\" d=\"M 0 0 M2527.28 32.4315 Q2521.28 32.4315 2517.8 37.1306 Q2514.32 41.7891 2514.32 49.9314 Q2514.32 58.0738 2517.76 62.7728 Q2521.24 67.4314 2527.28 67.4314 Q2533.23 67.4314 2536.72 62.7323 Q2540.2 58.0333 2540.2 49.9314 Q2540.2 41.8701 2536.72 37.1711 Q2533.23 32.4315 2527.28 32.4315 M2527.28 26.1121 Q2537 26.1121 2542.55 32.4315 Q2548.1 38.7509 2548.1 49.9314 Q2548.1 61.0714 2542.55 67.4314 Q2537 73.7508 2527.28 73.7508 Q2517.52 73.7508 2511.97 67.4314 Q2506.46 61.0714 2506.46 49.9314 Q2506.46 38.7509 2511.97 32.4315 Q2517.52 26.1121 2527.28 26.1121 Z\" fill=\"#000000\" fill-rule=\"evenodd\" fill-opacity=\"1\" /><polyline clip-path=\"url(#clip842)\" style=\"stroke:#009af9; stroke-width:4; stroke-opacity:1; fill:none\" points=\"\n",
       "  303.759,748.374 306.926,740.86 310.094,733.356 313.262,725.865 316.429,718.389 319.597,710.931 322.765,703.494 325.933,696.079 329.1,688.691 332.268,681.33 \n",
       "  335.436,674.001 338.603,666.704 341.771,659.444 344.939,652.221 348.106,645.04 351.274,637.901 354.442,630.808 357.61,623.763 360.777,616.768 363.945,609.826 \n",
       "  367.113,602.939 370.28,596.109 373.448,589.338 376.616,582.629 379.784,575.984 382.951,569.405 386.119,562.894 389.287,556.454 392.454,550.085 395.622,543.792 \n",
       "  398.79,537.574 401.957,531.435 405.125,525.376 408.293,519.399 411.461,513.506 414.628,507.698 417.796,501.979 420.964,496.348 424.131,490.809 427.299,485.362 \n",
       "  430.467,480.009 433.634,474.752 436.802,469.592 439.97,464.531 443.138,459.571 446.305,454.711 449.473,449.955 452.641,445.303 455.808,440.757 458.976,436.317 \n",
       "  462.144,431.986 465.312,427.763 468.479,423.651 471.647,419.65 474.815,415.762 477.982,411.986 481.15,408.325 484.318,404.779 487.485,401.349 490.653,398.035 \n",
       "  493.821,394.839 496.989,391.761 500.156,388.802 503.324,385.963 506.492,383.243 509.659,380.645 512.827,378.167 515.995,375.811 519.162,373.576 522.33,371.464 \n",
       "  525.498,369.475 528.666,367.609 531.833,365.866 535.001,364.246 538.169,362.75 541.336,361.377 544.504,360.129 547.672,359.004 550.839,358.003 554.007,357.125 \n",
       "  557.175,356.371 560.343,355.741 563.51,355.234 566.678,354.85 569.846,354.59 573.013,354.451 576.181,354.436 579.349,354.542 582.517,354.769 585.684,355.118 \n",
       "  588.852,355.587 592.02,356.177 595.187,356.886 598.355,357.713 601.523,358.66 604.69,359.724 607.858,360.904 611.026,362.201 614.194,363.614 617.361,365.141 \n",
       "  620.529,366.781 623.697,368.535 626.864,370.401 630.032,372.377 633.2,374.463 636.367,376.659 639.535,378.962 642.703,381.372 645.871,383.888 649.038,386.508 \n",
       "  652.206,389.231 655.374,392.056 658.541,394.982 661.709,398.007 664.877,401.131 668.045,404.351 671.212,407.666 674.38,411.076 677.548,414.577 680.715,418.17 \n",
       "  683.883,421.851 687.051,425.621 690.218,429.477 693.386,433.417 696.554,437.441 699.722,441.545 702.889,445.729 706.057,449.991 709.225,454.329 712.392,458.742 \n",
       "  715.56,463.226 718.728,467.782 721.895,472.406 725.063,477.097 728.231,481.853 731.399,486.671 734.566,491.551 737.734,496.49 740.902,501.486 744.069,506.538 \n",
       "  747.237,511.642 750.405,516.797 753.573,522.001 756.74,527.252 759.908,532.547 763.076,537.886 766.243,543.264 769.411,548.681 772.579,554.134 775.746,559.621 \n",
       "  778.914,565.139 782.082,570.688 785.25,576.263 788.417,581.864 791.585,587.487 794.753,593.131 797.92,598.794 801.088,604.473 804.256,610.165 807.423,615.87 \n",
       "  810.591,621.584 813.759,627.305 816.927,633.031 820.094,638.759 823.262,644.488 826.43,650.216 829.597,655.939 832.765,661.656 835.933,667.364 839.101,673.062 \n",
       "  842.268,678.747 845.436,684.416 848.604,690.069 851.771,695.701 854.939,701.312 858.107,706.9 861.274,712.461 864.442,717.994 867.61,723.497 870.778,728.967 \n",
       "  873.945,734.404 877.113,739.803 880.281,745.165 883.448,750.486 886.616,755.764 889.784,760.998 892.951,766.185 896.119,771.324 899.287,776.413 902.455,781.45 \n",
       "  905.622,786.433 908.79,791.36 911.958,796.23 915.125,801.04 918.293,805.789 921.461,810.476 924.628,815.098 927.796,819.654 930.964,824.143 934.132,828.562 \n",
       "  937.299,832.911 940.467,837.187 943.635,841.39 946.802,845.517 949.97,849.568 953.138,853.541 956.306,857.435 959.473,861.248 962.641,864.98 965.809,868.628 \n",
       "  968.976,872.193 972.144,875.672 975.312,879.064 978.479,882.37 981.647,885.587 984.815,888.714 987.983,891.751 991.15,894.697 994.318,897.551 997.486,900.311 \n",
       "  1000.65,902.978 1003.82,905.551 1006.99,908.029 1010.16,910.41 1013.32,912.696 1016.49,914.884 1019.66,916.975 1022.83,918.968 1026,920.863 1029.16,922.659 \n",
       "  1032.33,924.356 1035.5,925.953 1038.67,927.45 1041.83,928.848 1045,930.146 1048.17,931.343 1051.34,932.44 1054.5,933.436 1057.67,934.333 1060.84,935.128 \n",
       "  1064.01,935.823 1067.18,936.418 1070.34,936.913 1073.51,937.308 1076.68,937.604 1079.85,937.8 1083.01,937.896 1086.18,937.894 1089.35,937.794 1092.52,937.596 \n",
       "  1095.68,937.3 1098.85,936.908 1102.02,936.419 1105.19,935.834 1108.36,935.154 1111.52,934.379 1114.69,933.511 1117.86,932.55 1121.03,931.496 1124.19,930.351 \n",
       "  1127.36,929.116 1130.53,927.79 1133.7,926.376 1136.86,924.874 1140.03,923.285 1143.2,921.611 1146.37,919.852 1149.54,918.009 1152.7,916.083 1155.87,914.077 \n",
       "  1159.04,911.99 1162.21,909.824 1165.37,907.581 1168.54,905.261 1171.71,902.867 1174.88,900.398 1178.04,897.858 1181.21,895.247 1184.38,892.566 1187.55,889.817 \n",
       "  1190.72,887.002 1193.88,884.122 1197.05,881.179 1200.22,878.174 1203.39,875.109 1206.55,871.985 1209.72,868.805 1212.89,865.569 1216.06,862.28 1219.22,858.939 \n",
       "  1222.39,855.547 1225.56,852.108 1228.73,848.622 1231.9,845.091 1235.06,841.518 1238.23,837.903 1241.4,834.249 1244.57,830.557 1247.73,826.831 1250.9,823.07 \n",
       "  1254.07,819.278 1257.24,815.456 1260.41,811.606 1263.57,807.73 1266.74,803.83 1269.91,799.908 1273.08,795.965 1276.24,792.005 1279.41,788.029 1282.58,784.038 \n",
       "  1285.75,780.035 1288.91,776.022 1292.08,772.001 1295.25,767.973 1298.42,763.941 1301.59,759.907 1304.75,755.873 1307.92,751.841 1311.09,747.812 1314.26,743.789 \n",
       "  1317.42,739.773 1320.59,735.767 1323.76,731.773 1326.93,727.792 1330.09,723.827 1333.26,719.88 1336.43,715.951 1339.6,712.044 1342.77,708.161 1345.93,704.302 \n",
       "  1349.1,700.471 1352.27,696.668 1355.44,692.896 1358.6,689.157 1361.77,685.452 1364.94,681.783 1368.11,678.153 1371.27,674.562 1374.44,671.013 1377.61,667.507 \n",
       "  1380.78,664.046 1383.95,660.632 1387.11,657.266 1390.28,653.95 1393.45,650.686 1396.62,647.475 1399.78,644.319 1402.95,641.22 1406.12,638.178 1409.29,635.196 \n",
       "  1412.45,632.274 1415.62,629.415 1418.79,626.62 1421.96,623.89 1425.13,621.226 1428.29,618.631 1431.46,616.104 1434.63,613.648 1437.8,611.263 1440.96,608.951 \n",
       "  1444.13,606.714 1447.3,604.551 1450.47,602.465 1453.63,600.456 1456.8,598.525 1459.97,596.674 1463.14,594.903 1466.31,593.214 1469.47,591.607 1472.64,590.083 \n",
       "  1475.81,588.643 1478.98,587.287 1482.14,586.017 1485.31,584.834 1488.48,583.737 1491.65,582.728 1494.82,581.807 1497.98,580.975 1501.15,580.232 1504.32,579.579 \n",
       "  1507.49,579.016 1510.65,578.544 1513.82,578.163 1516.99,577.873 1520.16,577.675 1523.32,577.569 1526.49,577.556 1529.66,577.635 1532.83,577.806 1536,578.07 \n",
       "  1539.16,578.427 1542.33,578.877 1545.5,579.42 1548.67,580.056 1551.83,580.784 1555,581.605 1558.17,582.518 1561.34,583.524 1564.5,584.622 1567.67,585.812 \n",
       "  1570.84,587.093 1574.01,588.465 1577.18,589.928 1580.34,591.482 1583.51,593.125 1586.68,594.858 1589.85,596.679 1593.01,598.589 1596.18,600.586 1599.35,602.671 \n",
       "  1602.52,604.842 1605.68,607.098 1608.85,609.44 1612.02,611.865 1615.19,614.374 1618.36,616.965 1621.52,619.637 1624.69,622.39 1627.86,625.223 1631.03,628.134 \n",
       "  1634.19,631.123 1637.36,634.188 1640.53,637.328 1643.7,640.543 1646.86,643.831 1650.03,647.19 1653.2,650.62 1656.37,654.12 1659.54,657.688 1662.7,661.322 \n",
       "  1665.87,665.022 1669.04,668.785 1672.21,672.611 1675.37,676.499 1678.54,680.446 1681.71,684.451 1684.88,688.513 1688.05,692.63 1691.21,696.801 1694.38,701.023 \n",
       "  1697.55,705.296 1700.72,709.617 1703.88,713.986 1707.05,718.4 1710.22,722.858 1713.39,727.357 1716.55,731.897 1719.72,736.475 1722.89,741.09 1726.06,745.739 \n",
       "  1729.23,750.422 1732.39,755.136 1735.56,759.879 1738.73,764.65 1741.9,769.447 1745.06,774.267 1748.23,779.11 1751.4,783.972 1754.57,788.852 1757.73,793.749 \n",
       "  1760.9,798.66 1764.07,803.583 1767.24,808.517 1770.41,813.459 1773.57,818.407 1776.74,823.36 1779.91,828.316 1783.08,833.273 1786.24,838.228 1789.41,843.18 \n",
       "  1792.58,848.126 1795.75,853.066 1798.91,857.996 1802.08,862.916 1805.25,867.822 1808.42,872.714 1811.59,877.589 1814.75,882.445 1817.92,887.28 1821.09,892.093 \n",
       "  1824.26,896.881 1827.42,901.643 1830.59,906.377 1833.76,911.081 1836.93,915.752 1840.09,920.39 1843.26,924.992 1846.43,929.557 1849.6,934.083 1852.77,938.568 \n",
       "  1855.93,943.01 1859.1,947.407 1862.27,951.759 1865.44,956.062 1868.6,960.316 1871.77,964.519 1874.94,968.668 1878.11,972.763 1881.27,976.802 1884.44,980.783 \n",
       "  1887.61,984.705 1890.78,988.566 1893.95,992.365 1897.11,996.1 1900.28,999.769 1903.45,1003.37 1906.62,1006.91 1909.78,1010.37 1912.95,1013.77 1916.12,1017.09 \n",
       "  1919.29,1020.34 1922.46,1023.51 1925.62,1026.61 1928.79,1029.63 1931.96,1032.57 1935.13,1035.43 1938.29,1038.21 1941.46,1040.91 1944.63,1043.53 1947.8,1046.06 \n",
       "  1950.96,1048.51 1954.13,1050.87 1957.3,1053.14 1960.47,1055.33 1963.64,1057.42 1966.8,1059.43 1969.97,1061.35 1973.14,1063.17 1976.31,1064.91 1979.47,1066.55 \n",
       "  1982.64,1068.09 1985.81,1069.54 1988.98,1070.9 1992.14,1072.16 1995.31,1073.33 1998.48,1074.4 2001.65,1075.37 2004.82,1076.24 2007.98,1077.02 2011.15,1077.7 \n",
       "  2014.32,1078.28 2017.49,1078.75 2020.65,1079.13 2023.82,1079.41 2026.99,1079.59 2030.16,1079.67 2033.32,1079.65 2036.49,1079.53 2039.66,1079.31 2042.83,1078.98 \n",
       "  2046,1078.56 2049.16,1078.04 2052.33,1077.41 2055.5,1076.68 2058.67,1075.86 2061.83,1074.93 2065,1073.9 2068.17,1072.77 2071.34,1071.54 2074.5,1070.21 \n",
       "  2077.67,1068.79 2080.84,1067.26 2084.01,1065.63 2087.18,1063.91 2090.34,1062.09 2093.51,1060.17 2096.68,1058.15 2099.85,1056.04 2103.01,1053.83 2106.18,1051.53 \n",
       "  2109.35,1049.13 2112.52,1046.63 2115.68,1044.05 2118.85,1041.37 2122.02,1038.6 2125.19,1035.74 2128.36,1032.79 2131.52,1029.75 2134.69,1026.62 2137.86,1023.4 \n",
       "  2141.03,1020.1 2144.19,1016.71 2147.36,1013.24 2150.53,1009.68 2153.7,1006.04 2156.87,1002.32 2160.03,998.519 2163.2,994.639 2166.37,990.682 2169.54,986.649 \n",
       "  2172.7,982.54 2175.87,978.357 2179.04,974.101 2182.21,969.774 2185.37,965.378 2188.54,960.912 2191.71,956.38 2194.88,951.782 2198.05,947.12 2201.21,942.395 \n",
       "  2204.38,937.609 2207.55,932.763 2210.72,927.86 2213.88,922.9 2217.05,917.885 2220.22,912.817 2223.39,907.697 2226.55,902.528 2229.72,897.311 2232.89,892.047 \n",
       "  2236.06,886.739 2239.23,881.388 2242.39,875.995 2245.56,870.564 2248.73,865.095 2251.9,859.59 2255.06,854.052 2258.23,848.481 2261.4,842.881 2264.57,837.252 \n",
       "  2267.73,831.597 2270.9,825.917 2274.07,820.215 2277.24,814.493 2280.41,808.751 2283.57,802.993 2286.74,797.22 2289.91,791.435 2293.08,785.638 \n",
       "  \"/>\n",
       "<polyline clip-path=\"url(#clip842)\" style=\"stroke:#e26f46; stroke-width:4; stroke-opacity:1; fill:none\" points=\"\n",
       "  303.759,748.374 306.926,740.86 310.094,733.356 313.262,725.864 316.429,718.387 319.597,710.927 322.765,703.487 325.933,696.069 329.1,688.675 332.268,681.308 \n",
       "  335.436,673.97 338.603,666.663 341.771,659.39 344.939,652.154 348.106,644.955 351.274,637.797 354.442,630.682 357.61,623.612 360.777,616.589 363.945,609.616 \n",
       "  367.113,602.694 370.28,595.826 373.448,589.014 376.616,582.259 379.784,575.565 382.951,568.932 386.119,562.364 389.287,555.861 392.454,549.426 395.622,543.061 \n",
       "  398.79,536.768 401.957,530.547 405.125,524.403 408.293,518.335 411.461,512.346 414.628,506.437 417.796,500.611 420.964,494.868 424.131,489.211 427.299,483.641 \n",
       "  430.467,478.159 433.634,472.767 436.802,467.467 439.97,462.259 443.138,457.146 446.305,452.129 449.473,447.208 452.641,442.386 455.808,437.663 458.976,433.04 \n",
       "  462.144,428.52 465.312,424.103 468.479,419.789 471.647,415.581 474.815,411.479 477.982,407.484 481.15,403.597 484.318,399.819 487.485,396.151 490.653,392.594 \n",
       "  493.821,389.148 496.989,385.814 500.156,382.593 503.324,379.486 506.492,376.494 509.659,373.616 512.827,370.853 515.995,368.207 519.162,365.677 522.33,363.264 \n",
       "  525.498,360.969 528.666,358.792 531.833,356.732 535.001,354.791 538.169,352.969 541.336,351.266 544.504,349.683 547.672,348.219 550.839,346.874 554.007,345.649 \n",
       "  557.175,344.545 560.343,343.56 563.51,342.694 566.678,341.949 569.846,341.324 573.013,340.818 576.181,340.432 579.349,340.166 582.517,340.019 585.684,339.991 \n",
       "  588.852,340.082 592.02,340.291 595.187,340.619 598.355,341.064 601.523,341.628 604.69,342.308 607.858,343.105 611.026,344.018 614.194,345.048 617.361,346.192 \n",
       "  620.529,347.451 623.697,348.824 626.864,350.311 630.032,351.91 633.2,353.621 636.367,355.444 639.535,357.378 642.703,359.421 645.871,361.573 649.038,363.834 \n",
       "  652.206,366.202 655.374,368.677 658.541,371.257 661.709,373.941 664.877,376.73 668.045,379.621 671.212,382.613 674.38,385.706 677.548,388.899 680.715,392.189 \n",
       "  683.883,395.577 687.051,399.061 690.218,402.64 693.386,406.312 696.554,410.076 699.722,413.932 702.889,417.877 706.057,421.91 709.225,426.03 712.392,430.236 \n",
       "  715.56,434.526 718.728,438.898 721.895,443.352 725.063,447.886 728.231,452.498 731.399,457.186 734.566,461.949 737.734,466.786 740.902,471.695 744.069,476.674 \n",
       "  747.237,481.722 750.405,486.837 753.573,492.016 756.74,497.26 759.908,502.565 763.076,507.93 766.243,513.353 769.411,518.833 772.579,524.367 775.746,529.954 \n",
       "  778.914,535.592 782.082,541.279 785.25,547.014 788.417,552.793 791.585,558.616 794.753,564.481 797.92,570.385 801.088,576.327 804.256,582.304 807.423,588.315 \n",
       "  810.591,594.358 813.759,600.43 816.927,606.53 820.094,612.656 823.262,618.806 826.43,624.977 829.597,631.168 832.765,637.377 835.933,643.602 839.101,649.84 \n",
       "  842.268,656.09 845.436,662.349 848.604,668.616 851.771,674.888 854.939,681.165 858.107,687.442 861.274,693.719 864.442,699.994 867.61,706.264 870.778,712.527 \n",
       "  873.945,718.782 877.113,725.027 880.281,731.259 883.448,737.477 886.616,743.678 889.784,749.861 892.951,756.024 896.119,762.164 899.287,768.281 902.455,774.371 \n",
       "  905.622,780.434 908.79,786.467 911.958,792.469 915.125,798.437 918.293,804.37 921.461,810.266 924.628,816.123 927.796,821.94 930.964,827.715 934.132,833.446 \n",
       "  937.299,839.132 940.467,844.77 943.635,850.36 946.802,855.899 949.97,861.386 953.138,866.819 956.306,872.198 959.473,877.519 962.641,882.783 965.809,887.987 \n",
       "  968.976,893.13 972.144,898.211 975.312,903.228 978.479,908.181 981.647,913.066 984.815,917.884 987.983,922.634 991.15,927.313 994.318,931.921 997.486,936.456 \n",
       "  1000.65,940.918 1003.82,945.305 1006.99,949.616 1010.16,953.851 1013.32,958.007 1016.49,962.085 1019.66,966.084 1022.83,970.001 1026,973.838 1029.16,977.592 \n",
       "  1032.33,981.263 1035.5,984.849 1038.67,988.352 1041.83,991.769 1045,995.1 1048.17,998.344 1051.34,1001.5 1054.5,1004.57 1057.67,1007.55 1060.84,1010.44 \n",
       "  1064.01,1013.24 1067.18,1015.96 1070.34,1018.58 1073.51,1021.11 1076.68,1023.55 1079.85,1025.9 1083.01,1028.16 1086.18,1030.32 1089.35,1032.39 1092.52,1034.37 \n",
       "  1095.68,1036.26 1098.85,1038.06 1102.02,1039.76 1105.19,1041.37 1108.36,1042.89 1111.52,1044.31 1114.69,1045.64 1117.86,1046.88 1121.03,1048.02 1124.19,1049.07 \n",
       "  1127.36,1050.03 1130.53,1050.9 1133.7,1051.67 1136.86,1052.36 1140.03,1052.95 1143.2,1053.44 1146.37,1053.85 1149.54,1054.17 1152.7,1054.39 1155.87,1054.53 \n",
       "  1159.04,1054.57 1162.21,1054.53 1165.37,1054.4 1168.54,1054.17 1171.71,1053.86 1174.88,1053.47 1178.04,1052.98 1181.21,1052.41 1184.38,1051.76 1187.55,1051.01 \n",
       "  1190.72,1050.19 1193.88,1049.28 1197.05,1048.28 1200.22,1047.21 1203.39,1046.05 1206.55,1044.81 1209.72,1043.49 1212.89,1042.1 1216.06,1040.62 1219.22,1039.06 \n",
       "  1222.39,1037.43 1225.56,1035.73 1228.73,1033.94 1231.9,1032.09 1235.06,1030.16 1238.23,1028.15 1241.4,1026.08 1244.57,1023.94 1247.73,1021.72 1250.9,1019.44 \n",
       "  1254.07,1017.1 1257.24,1014.68 1260.41,1012.2 1263.57,1009.66 1266.74,1007.05 1269.91,1004.38 1273.08,1001.66 1276.24,998.869 1279.41,996.024 1282.58,993.121 \n",
       "  1285.75,990.163 1288.91,987.15 1292.08,984.083 1295.25,980.965 1298.42,977.796 1301.59,974.577 1304.75,971.31 1307.92,967.996 1311.09,964.636 1314.26,961.232 \n",
       "  1317.42,957.784 1320.59,954.295 1323.76,950.766 1326.93,947.197 1330.09,943.591 1333.26,939.948 1336.43,936.27 1339.6,932.558 1342.77,928.815 1345.93,925.04 \n",
       "  1349.1,921.235 1352.27,917.403 1355.44,913.543 1358.6,909.659 1361.77,905.75 1364.94,901.818 1368.11,897.866 1371.27,893.893 1374.44,889.902 1377.61,885.894 \n",
       "  1380.78,881.87 1383.95,877.832 1387.11,873.782 1390.28,869.719 1393.45,865.647 1396.62,861.565 1399.78,857.477 1402.95,853.382 1406.12,849.282 1409.29,845.18 \n",
       "  1412.45,841.075 1415.62,836.97 1418.79,832.866 1421.96,828.763 1425.13,824.664 1428.29,820.57 1431.46,816.482 1434.63,812.401 1437.8,808.329 1440.96,804.266 \n",
       "  1444.13,800.215 1447.3,796.176 1450.47,792.15 1453.63,788.14 1456.8,784.145 1459.97,780.168 1463.14,776.209 1466.31,772.27 1469.47,768.352 1472.64,764.455 \n",
       "  1475.81,760.582 1478.98,756.733 1482.14,752.908 1485.31,749.111 1488.48,745.34 1491.65,741.598 1494.82,737.886 1497.98,734.203 1501.15,730.553 1504.32,726.934 \n",
       "  1507.49,723.349 1510.65,719.799 1513.82,716.283 1516.99,712.804 1520.16,709.361 1523.32,705.957 1526.49,702.591 1529.66,699.264 1532.83,695.978 1536,692.733 \n",
       "  1539.16,689.529 1542.33,686.368 1545.5,683.25 1548.67,680.176 1551.83,677.147 1555,674.162 1558.17,671.224 1561.34,668.332 1564.5,665.486 1567.67,662.689 \n",
       "  1570.84,659.939 1574.01,657.238 1577.18,654.586 1580.34,651.983 1583.51,649.43 1586.68,646.928 1589.85,644.476 1593.01,642.075 1596.18,639.726 1599.35,637.428 \n",
       "  1602.52,635.183 1605.68,632.99 1608.85,630.849 1612.02,628.761 1615.19,626.727 1618.36,624.745 1621.52,622.817 1624.69,620.942 1627.86,619.121 1631.03,617.354 \n",
       "  1634.19,615.641 1637.36,613.981 1640.53,612.375 1643.7,610.824 1646.86,609.326 1650.03,607.882 1653.2,606.492 1656.37,605.156 1659.54,603.873 1662.7,602.644 \n",
       "  1665.87,601.468 1669.04,600.346 1672.21,599.277 1675.37,598.261 1678.54,597.297 1681.71,596.386 1684.88,595.528 1688.05,594.721 1691.21,593.966 1694.38,593.263 \n",
       "  1697.55,592.61 1700.72,592.009 1703.88,591.457 1707.05,590.956 1710.22,590.505 1713.39,590.103 1716.55,589.75 1719.72,589.445 1722.89,589.188 1726.06,588.979 \n",
       "  1729.23,588.816 1732.39,588.701 1735.56,588.631 1738.73,588.607 1741.9,588.628 1745.06,588.693 1748.23,588.803 1751.4,588.956 1754.57,589.151 1757.73,589.389 \n",
       "  1760.9,589.668 1764.07,589.988 1767.24,590.349 1770.41,590.749 1773.57,591.189 1776.74,591.666 1779.91,592.182 1783.08,592.735 1786.24,593.324 1789.41,593.948 \n",
       "  1792.58,594.608 1795.75,595.302 1798.91,596.03 1802.08,596.791 1805.25,597.583 1808.42,598.408 1811.59,599.263 1814.75,600.148 1817.92,601.062 1821.09,602.004 \n",
       "  1824.26,602.975 1827.42,603.972 1830.59,604.996 1833.76,606.045 1836.93,607.119 1840.09,608.216 1843.26,609.337 1846.43,610.48 1849.6,611.645 1852.77,612.831 \n",
       "  1855.93,614.037 1859.1,615.262 1862.27,616.506 1865.44,617.767 1868.6,619.046 1871.77,620.341 1874.94,621.651 1878.11,622.976 1881.27,624.315 1884.44,625.667 \n",
       "  1887.61,627.031 1890.78,628.407 1893.95,629.795 1897.11,631.192 1900.28,632.599 1903.45,634.015 1906.62,635.438 1909.78,636.869 1912.95,638.307 1916.12,639.75 \n",
       "  1919.29,641.198 1922.46,642.651 1925.62,644.108 1928.79,645.568 1931.96,647.03 1935.13,648.494 1938.29,649.959 1941.46,651.425 1944.63,652.89 1947.8,654.355 \n",
       "  1950.96,655.818 1954.13,657.279 1957.3,658.737 1960.47,660.192 1963.64,661.643 1966.8,663.09 1969.97,664.532 1973.14,665.968 1976.31,667.398 1979.47,668.821 \n",
       "  1982.64,670.238 1985.81,671.647 1988.98,673.047 1992.14,674.439 1995.31,675.822 1998.48,677.196 2001.65,678.559 2004.82,679.912 2007.98,681.254 2011.15,682.585 \n",
       "  2014.32,683.904 2017.49,685.212 2020.65,686.507 2023.82,687.789 2026.99,689.058 2030.16,690.313 2033.32,691.555 2036.49,692.783 2039.66,693.997 2042.83,695.196 \n",
       "  2046,696.38 2049.16,697.549 2052.33,698.703 2055.5,699.841 2058.67,700.964 2061.83,702.071 2065,703.161 2068.17,704.235 2071.34,705.293 2074.5,706.335 \n",
       "  2077.67,707.36 2080.84,708.368 2084.01,709.359 2087.18,710.333 2090.34,711.29 2093.51,712.231 2096.68,713.154 2099.85,714.06 2103.01,714.949 2106.18,715.821 \n",
       "  2109.35,716.676 2112.52,717.514 2115.68,718.335 2118.85,719.139 2122.02,719.926 2125.19,720.696 2128.36,721.45 2131.52,722.187 2134.69,722.908 2137.86,723.613 \n",
       "  2141.03,724.301 2144.19,724.973 2147.36,725.63 2150.53,726.271 2153.7,726.897 2156.87,727.507 2160.03,728.102 2163.2,728.683 2166.37,729.249 2169.54,729.8 \n",
       "  2172.7,730.338 2175.87,730.862 2179.04,731.373 2182.21,731.87 2185.37,732.354 2188.54,732.826 2191.71,733.286 2194.88,733.733 2198.05,734.169 2201.21,734.594 \n",
       "  2204.38,735.008 2207.55,735.411 2210.72,735.804 2213.88,736.188 2217.05,736.562 2220.22,736.926 2223.39,737.282 2226.55,737.63 2229.72,737.97 2232.89,738.303 \n",
       "  2236.06,738.628 2239.23,738.947 2242.39,739.26 2245.56,739.567 2248.73,739.868 2251.9,740.165 2255.06,740.457 2258.23,740.745 2261.4,741.03 2264.57,741.311 \n",
       "  2267.73,741.59 2270.9,741.866 2274.07,742.141 2277.24,742.414 2280.41,742.687 2283.57,742.959 2286.74,743.231 2289.91,743.504 2293.08,743.777 \n",
       "  \"/>\n",
       "<polyline clip-path=\"url(#clip842)\" style=\"stroke:#3da44d; stroke-width:4; stroke-opacity:1; fill:none\" points=\"\n",
       "  303.759,748.374 306.926,740.86 310.094,733.356 313.262,725.863 316.429,718.385 319.597,710.924 322.765,703.481 325.933,696.058 329.1,688.659 332.268,681.286 \n",
       "  335.436,673.939 338.603,666.622 341.771,659.337 344.939,652.086 348.106,644.871 351.274,637.694 354.442,630.557 357.61,623.462 360.777,616.412 363.945,609.408 \n",
       "  367.113,602.452 370.28,595.546 373.448,588.693 376.616,581.894 379.784,575.151 382.951,568.466 386.119,561.841 389.287,555.278 392.454,548.779 395.622,542.345 \n",
       "  398.79,535.978 401.957,529.68 405.125,523.452 408.293,517.297 411.461,511.216 414.628,505.211 417.796,499.283 420.964,493.434 424.131,487.666 427.299,481.98 \n",
       "  430.467,476.377 433.634,470.859 436.802,465.428 439.97,460.085 443.138,454.831 446.305,449.667 449.473,444.596 452.641,439.618 455.808,434.735 458.976,429.947 \n",
       "  462.144,425.257 465.312,420.665 468.479,416.173 471.647,411.781 474.815,407.491 477.982,403.304 481.15,399.22 484.318,395.242 487.485,391.369 490.653,387.604 \n",
       "  493.821,383.946 496.989,380.396 500.156,376.957 503.324,373.628 506.492,370.41 509.659,367.304 512.827,364.311 515.995,361.431 519.162,358.666 522.33,356.016 \n",
       "  525.498,353.481 528.666,351.063 531.833,348.761 535.001,346.577 538.169,344.511 541.336,342.563 544.504,340.734 547.672,339.025 550.839,337.435 554.007,335.966 \n",
       "  557.175,334.617 560.343,333.39 563.51,332.283 566.678,331.298 569.846,330.436 573.013,329.695 576.181,329.077 579.349,328.581 582.517,328.208 585.684,327.958 \n",
       "  588.852,327.83 592.02,327.826 595.187,327.945 598.355,328.187 601.523,328.552 604.69,329.041 607.858,329.652 611.026,330.386 614.194,331.243 617.361,332.223 \n",
       "  620.529,333.326 623.697,334.551 626.864,335.898 630.032,337.367 633.2,338.957 636.367,340.669 639.535,342.502 642.703,344.455 645.871,346.529 649.038,348.723 \n",
       "  652.206,351.036 655.374,353.468 658.541,356.018 661.709,358.686 664.877,361.471 668.045,364.373 671.212,367.391 674.38,370.524 677.548,373.772 680.715,377.134 \n",
       "  683.883,380.609 687.051,384.197 690.218,387.896 693.386,391.706 696.554,395.625 699.722,399.654 702.889,403.79 706.057,408.034 709.225,412.383 712.392,416.838 \n",
       "  715.56,421.396 718.728,426.057 721.895,430.819 725.063,435.682 728.231,440.644 731.399,445.705 734.566,450.861 737.734,456.113 740.902,461.459 744.069,466.898 \n",
       "  747.237,472.428 750.405,478.048 753.573,483.756 756.74,489.55 759.908,495.43 763.076,501.394 766.243,507.439 769.411,513.565 772.579,519.77 775.746,526.052 \n",
       "  778.914,532.409 782.082,538.839 785.25,545.342 788.417,551.914 791.585,558.554 794.753,565.26 797.92,572.031 801.088,578.864 804.256,585.757 807.423,592.708 \n",
       "  810.591,599.716 813.759,606.778 816.927,613.892 820.094,621.056 823.262,628.268 826.43,635.526 829.597,642.828 832.765,650.171 835.933,657.553 839.101,664.972 \n",
       "  842.268,672.426 845.436,679.913 848.604,687.429 851.771,694.974 854.939,702.544 858.107,710.137 861.274,717.751 864.442,725.384 867.61,733.033 870.778,740.695 \n",
       "  873.945,748.369 877.113,756.052 880.281,763.742 883.448,771.435 886.616,779.13 889.784,786.825 892.951,794.516 896.119,802.202 899.287,809.88 902.455,817.547 \n",
       "  905.622,825.202 908.79,832.841 911.958,840.462 915.125,848.063 918.293,855.642 921.461,863.196 924.628,870.722 927.796,878.218 930.964,885.682 934.132,893.111 \n",
       "  937.299,900.504 940.467,907.857 943.635,915.168 946.802,922.435 949.97,929.656 953.138,936.828 956.306,943.95 959.473,951.018 962.641,958.03 965.809,964.985 \n",
       "  968.976,971.879 972.144,978.712 975.312,985.48 978.479,992.181 981.647,998.814 984.815,1005.38 987.983,1011.87 991.15,1018.28 994.318,1024.62 997.486,1030.87 \n",
       "  1000.65,1037.05 1003.82,1043.15 1006.99,1049.15 1010.16,1055.08 1013.32,1060.91 1016.49,1066.65 1019.66,1072.3 1022.83,1077.86 1026,1083.32 1029.16,1088.68 \n",
       "  1032.33,1093.94 1035.5,1099.1 1038.67,1104.16 1041.83,1109.12 1045,1113.96 1048.17,1118.7 1051.34,1123.33 1054.5,1127.85 1057.67,1132.26 1060.84,1136.55 \n",
       "  1064.01,1140.73 1067.18,1144.79 1070.34,1148.74 1073.51,1152.56 1076.68,1156.26 1079.85,1159.85 1083.01,1163.3 1086.18,1166.64 1089.35,1169.85 1092.52,1172.93 \n",
       "  1095.68,1175.88 1098.85,1178.71 1102.02,1181.41 1105.19,1183.97 1108.36,1186.4 1111.52,1188.71 1114.69,1190.87 1117.86,1192.9 1121.03,1194.8 1124.19,1196.56 \n",
       "  1127.36,1198.19 1130.53,1199.67 1133.7,1201.02 1136.86,1202.23 1140.03,1203.3 1143.2,1204.23 1146.37,1205.01 1149.54,1205.66 1152.7,1206.16 1155.87,1206.52 \n",
       "  1159.04,1206.74 1162.21,1206.82 1165.37,1206.75 1168.54,1206.54 1171.71,1206.18 1174.88,1205.68 1178.04,1205.03 1181.21,1204.24 1184.38,1203.31 1187.55,1202.22 \n",
       "  1190.72,1201 1193.88,1199.63 1197.05,1198.11 1200.22,1196.45 1203.39,1194.64 1206.55,1192.69 1209.72,1190.59 1212.89,1188.35 1216.06,1185.96 1219.22,1183.43 \n",
       "  1222.39,1180.76 1225.56,1177.94 1228.73,1174.98 1231.9,1171.88 1235.06,1168.63 1238.23,1165.24 1241.4,1161.72 1244.57,1158.05 1247.73,1154.24 1250.9,1150.3 \n",
       "  1254.07,1146.21 1257.24,1141.99 1260.41,1137.63 1263.57,1133.14 1266.74,1128.51 1269.91,1123.75 1273.08,1118.86 1276.24,1113.84 1279.41,1108.68 1282.58,1103.4 \n",
       "  1285.75,1097.99 1288.91,1092.45 1292.08,1086.79 1295.25,1081.01 1298.42,1075.1 1301.59,1069.07 1304.75,1062.93 1307.92,1056.66 1311.09,1050.28 1314.26,1043.79 \n",
       "  1317.42,1037.18 1320.59,1030.47 1323.76,1023.64 1326.93,1016.71 1330.09,1009.67 1333.26,1002.53 1336.43,995.294 1339.6,987.956 1342.77,980.521 1345.93,972.992 \n",
       "  1349.1,965.371 1352.27,957.661 1355.44,949.863 1358.6,941.98 1361.77,934.015 1364.94,925.97 1368.11,917.847 1371.27,909.649 1374.44,901.379 1377.61,893.039 \n",
       "  1380.78,884.632 1383.95,876.161 1387.11,867.628 1390.28,859.037 1393.45,850.389 1396.62,841.688 1399.78,832.937 1402.95,824.139 1406.12,815.296 1409.29,806.412 \n",
       "  1412.45,797.489 1415.62,788.531 1418.79,779.54 1421.96,770.521 1425.13,761.475 1428.29,752.406 1431.46,743.317 1434.63,734.212 1437.8,725.092 1440.96,715.962 \n",
       "  1444.13,706.825 1447.3,697.684 1450.47,688.542 1453.63,679.403 1456.8,670.269 1459.97,661.143 1463.14,652.03 1466.31,642.932 1469.47,633.852 1472.64,624.793 \n",
       "  1475.81,615.76 1478.98,606.755 1482.14,597.78 1485.31,588.841 1488.48,579.938 1491.65,571.077 1494.82,562.259 1497.98,553.488 1501.15,544.767 1504.32,536.1 \n",
       "  1507.49,527.489 1510.65,518.937 1513.82,510.447 1516.99,502.023 1520.16,493.667 1523.32,485.382 1526.49,477.171 1529.66,469.038 1532.83,460.984 1536,453.013 \n",
       "  1539.16,445.128 1542.33,437.331 1545.5,429.625 1548.67,422.013 1551.83,414.498 1555,407.081 1558.17,399.767 1561.34,392.556 1564.5,385.452 1567.67,378.458 \n",
       "  1570.84,371.575 1574.01,364.807 1577.18,358.155 1580.34,351.622 1583.51,345.209 1586.68,338.921 1589.85,332.758 1593.01,326.722 1596.18,320.817 1599.35,315.043 \n",
       "  1602.52,309.404 1605.68,303.9 1608.85,298.534 1612.02,293.309 1615.19,288.225 1618.36,283.284 1621.52,278.489 1624.69,273.841 1627.86,269.342 1631.03,264.993 \n",
       "  1634.19,260.797 1637.36,256.754 1640.53,252.866 1643.7,249.135 1646.86,245.562 1650.03,242.148 1653.2,238.896 1656.37,235.805 1659.54,232.878 1662.7,230.116 \n",
       "  1665.87,227.52 1669.04,225.09 1672.21,222.829 1675.37,220.736 1678.54,218.814 1681.71,217.063 1684.88,215.484 1688.05,214.078 1691.21,212.846 1694.38,211.788 \n",
       "  1697.55,210.905 1700.72,210.198 1703.88,209.668 1707.05,209.315 1710.22,209.14 1713.39,209.144 1716.55,209.326 1719.72,209.687 1722.89,210.227 1726.06,210.948 \n",
       "  1729.23,211.849 1732.39,212.93 1735.56,214.191 1738.73,215.634 1741.9,217.257 1745.06,219.061 1748.23,221.046 1751.4,223.211 1754.57,225.557 1757.73,228.083 \n",
       "  1760.9,230.79 1764.07,233.677 1767.24,236.743 1770.41,239.988 1773.57,243.412 1776.74,247.014 1779.91,250.794 1783.08,254.751 1786.24,258.884 1789.41,263.193 \n",
       "  1792.58,267.676 1795.75,272.334 1798.91,277.165 1802.08,282.167 1805.25,287.341 1808.42,292.685 1811.59,298.197 1814.75,303.877 1817.92,309.723 1821.09,315.734 \n",
       "  1824.26,321.908 1827.42,328.244 1830.59,334.741 1833.76,341.396 1836.93,348.208 1840.09,355.175 1843.26,362.296 1846.43,369.568 1849.6,376.99 1852.77,384.56 \n",
       "  1855.93,392.274 1859.1,400.132 1862.27,408.131 1865.44,416.268 1868.6,424.542 1871.77,432.949 1874.94,441.488 1878.11,450.155 1881.27,458.948 1884.44,467.865 \n",
       "  1887.61,476.902 1890.78,486.056 1893.95,495.326 1897.11,504.707 1900.28,514.196 1903.45,523.791 1906.62,533.489 1909.78,543.286 1912.95,553.178 1916.12,563.163 \n",
       "  1919.29,573.237 1922.46,583.397 1925.62,593.639 1928.79,603.959 1931.96,614.355 1935.13,624.821 1938.29,635.355 1941.46,645.953 1944.63,656.611 1947.8,667.326 \n",
       "  1950.96,678.092 1954.13,688.907 1957.3,699.767 1960.47,710.666 1963.64,721.603 1966.8,732.572 1969.97,743.569 1973.14,754.591 1976.31,765.632 1979.47,776.69 \n",
       "  1982.64,787.76 1985.81,798.838 1988.98,809.92 1992.14,821.001 1995.31,832.077 1998.48,843.145 2001.65,854.2 2004.82,865.238 2007.98,876.255 2011.15,887.246 \n",
       "  2014.32,898.207 2017.49,909.136 2020.65,920.026 2023.82,930.875 2026.99,941.677 2030.16,952.43 2033.32,963.129 2036.49,973.77 2039.66,984.349 2042.83,994.862 \n",
       "  2046,1005.31 2049.16,1015.68 2052.33,1025.97 2055.5,1036.18 2058.67,1046.31 2061.83,1056.34 2065,1066.29 2068.17,1076.14 2071.34,1085.89 2074.5,1095.53 \n",
       "  2077.67,1105.07 2080.84,1114.5 2084.01,1123.82 2087.18,1133.02 2090.34,1142.1 2093.51,1151.05 2096.68,1159.88 2099.85,1168.58 2103.01,1177.15 2106.18,1185.58 \n",
       "  2109.35,1193.87 2112.52,1202.02 2115.68,1210.03 2118.85,1217.89 2122.02,1225.6 2125.19,1233.15 2128.36,1240.56 2131.52,1247.8 2134.69,1254.88 2137.86,1261.8 \n",
       "  2141.03,1268.56 2144.19,1275.14 2147.36,1281.56 2150.53,1287.8 2153.7,1293.88 2156.87,1299.77 2160.03,1305.49 2163.2,1311.02 2166.37,1316.37 2169.54,1321.54 \n",
       "  2172.7,1326.52 2175.87,1331.32 2179.04,1335.92 2182.21,1340.34 2185.37,1344.56 2188.54,1348.58 2191.71,1352.41 2194.88,1356.04 2198.05,1359.48 2201.21,1362.71 \n",
       "  2204.38,1365.74 2207.55,1368.57 2210.72,1371.19 2213.88,1373.61 2217.05,1375.82 2220.22,1377.83 2223.39,1379.63 2226.55,1381.21 2229.72,1382.59 2232.89,1383.76 \n",
       "  2236.06,1384.71 2239.23,1385.45 2242.39,1385.98 2245.56,1386.3 2248.73,1386.4 2251.9,1386.28 2255.06,1385.95 2258.23,1385.4 2261.4,1384.64 2264.57,1383.66 \n",
       "  2267.73,1382.46 2270.9,1381.05 2274.07,1379.42 2277.24,1377.57 2280.41,1375.51 2283.57,1373.22 2286.74,1370.72 2289.91,1368.01 2293.08,1365.07 \n",
       "  \"/>\n",
       "<polyline clip-path=\"url(#clip842)\" style=\"stroke:#c271d2; stroke-width:4; stroke-opacity:1; fill:none\" points=\"\n",
       "  303.759,748.374 306.926,740.86 310.094,733.356 313.262,725.863 316.429,718.383 319.597,710.92 322.765,703.474 325.933,696.048 329.1,688.644 332.268,681.263 \n",
       "  335.436,673.909 338.603,666.582 341.771,659.284 344.939,652.019 348.106,644.787 351.274,637.591 354.442,630.433 357.61,623.314 360.777,616.236 363.945,609.202 \n",
       "  367.113,602.212 370.28,595.27 373.448,588.377 376.616,581.535 379.784,574.745 382.951,568.009 386.119,561.33 389.287,554.708 392.454,548.147 395.622,541.646 \n",
       "  398.79,535.209 401.957,528.837 405.125,522.532 408.293,516.295 411.461,510.127 414.628,504.032 417.796,498.009 420.964,492.062 424.131,486.191 427.299,480.397 \n",
       "  430.467,474.684 433.634,469.052 436.802,463.502 439.97,458.036 443.138,452.656 446.305,447.363 449.473,442.159 452.641,437.045 455.808,432.022 458.976,427.092 \n",
       "  462.144,422.256 465.312,417.515 468.479,412.871 471.647,408.326 474.815,403.88 477.982,399.535 481.15,395.292 484.318,391.152 487.485,387.116 490.653,383.186 \n",
       "  493.821,379.363 496.989,375.648 500.156,372.043 503.324,368.547 506.492,365.163 509.659,361.891 512.827,358.733 515.995,355.69 519.162,352.762 522.33,349.951 \n",
       "  525.498,347.258 528.666,344.683 531.833,342.227 535.001,339.892 538.169,337.679 541.336,335.588 544.504,333.619 547.672,331.775 550.839,330.056 554.007,328.462 \n",
       "  557.175,326.994 560.343,325.654 563.51,324.441 566.678,323.357 569.846,322.402 573.013,321.577 576.181,320.883 579.349,320.319 582.517,319.888 585.684,319.588 \n",
       "  588.852,319.421 592.02,319.388 595.187,319.488 598.355,319.723 601.523,320.092 604.69,320.596 607.858,321.236 611.026,322.011 614.194,322.922 617.361,323.97 \n",
       "  620.529,325.154 623.697,326.475 626.864,327.933 630.032,329.528 633.2,331.26 636.367,333.129 639.535,335.136 642.703,337.28 645.871,339.561 649.038,341.979 \n",
       "  652.206,344.534 655.374,347.227 658.541,350.056 661.709,353.021 664.877,356.123 668.045,359.361 671.212,362.734 674.38,366.242 677.548,369.885 680.715,373.663 \n",
       "  683.883,377.574 687.051,381.618 690.218,385.794 693.386,390.103 696.554,394.542 699.722,399.112 702.889,403.811 706.057,408.639 709.225,413.595 712.392,418.677 \n",
       "  715.56,423.885 718.728,429.218 721.895,434.674 725.063,440.252 728.231,445.952 731.399,451.771 734.566,457.709 737.734,463.763 740.902,469.933 744.069,476.218 \n",
       "  747.237,482.614 750.405,489.122 753.573,495.739 756.74,502.463 759.908,509.293 763.076,516.226 766.243,523.262 769.411,530.397 772.579,537.631 775.746,544.96 \n",
       "  778.914,552.383 782.082,559.897 785.25,567.501 788.417,575.192 791.585,582.967 794.753,590.825 797.92,598.762 801.088,606.777 804.256,614.867 807.423,623.029 \n",
       "  810.591,631.26 813.759,639.559 816.927,647.921 820.094,656.345 823.262,664.827 826.43,673.365 829.597,681.956 832.765,690.596 835.933,699.283 839.101,708.013 \n",
       "  842.268,716.785 845.436,725.594 848.604,734.437 851.771,743.311 854.939,752.213 858.107,761.14 861.274,770.088 864.442,779.055 867.61,788.036 870.778,797.029 \n",
       "  873.945,806.03 877.113,815.035 880.281,824.042 883.448,833.047 886.616,842.046 889.784,851.036 892.951,860.014 896.119,868.976 899.287,877.918 902.455,886.838 \n",
       "  905.622,895.731 908.79,904.594 911.958,913.424 915.125,922.217 918.293,930.969 921.461,939.678 924.628,948.34 927.796,956.95 930.964,965.507 934.132,974.006 \n",
       "  937.299,982.444 940.467,990.817 943.635,999.122 946.802,1007.36 949.97,1015.52 953.138,1023.6 956.306,1031.6 959.473,1039.51 962.641,1047.34 965.809,1055.08 \n",
       "  968.976,1062.72 972.144,1070.27 975.312,1077.71 978.479,1085.05 981.647,1092.29 984.815,1099.41 987.983,1106.42 991.15,1113.32 994.318,1120.1 997.486,1126.75 \n",
       "  1000.65,1133.28 1003.82,1139.69 1006.99,1145.96 1010.16,1152.1 1013.32,1158.11 1016.49,1163.97 1019.66,1169.7 1022.83,1175.28 1026,1180.72 1029.16,1186.01 \n",
       "  1032.33,1191.15 1035.5,1196.14 1038.67,1200.97 1041.83,1205.64 1045,1210.15 1048.17,1214.5 1051.34,1218.69 1054.5,1222.71 1057.67,1226.56 1060.84,1230.25 \n",
       "  1064.01,1233.76 1067.18,1237.09 1070.34,1240.25 1073.51,1243.24 1076.68,1246.04 1079.85,1248.67 1083.01,1251.11 1086.18,1253.36 1089.35,1255.44 1092.52,1257.32 \n",
       "  1095.68,1259.02 1098.85,1260.53 1102.02,1261.85 1105.19,1262.97 1108.36,1263.91 1111.52,1264.65 1114.69,1265.19 1117.86,1265.54 1121.03,1265.69 1124.19,1265.65 \n",
       "  1127.36,1265.41 1130.53,1264.96 1133.7,1264.32 1136.86,1263.48 1140.03,1262.44 1143.2,1261.2 1146.37,1259.76 1149.54,1258.12 1152.7,1256.27 1155.87,1254.23 \n",
       "  1159.04,1251.98 1162.21,1249.53 1165.37,1246.88 1168.54,1244.03 1171.71,1240.98 1174.88,1237.73 1178.04,1234.28 1181.21,1230.63 1184.38,1226.78 1187.55,1222.73 \n",
       "  1190.72,1218.49 1193.88,1214.05 1197.05,1209.41 1200.22,1204.58 1203.39,1199.56 1206.55,1194.34 1209.72,1188.93 1212.89,1183.34 1216.06,1177.55 1219.22,1171.58 \n",
       "  1222.39,1165.43 1225.56,1159.09 1228.73,1152.57 1231.9,1145.87 1235.06,1138.99 1238.23,1131.94 1241.4,1124.71 1244.57,1117.32 1247.73,1109.75 1250.9,1102.02 \n",
       "  1254.07,1094.13 1257.24,1086.07 1260.41,1077.86 1263.57,1069.49 1266.74,1060.97 1269.91,1052.3 1273.08,1043.48 1276.24,1034.52 1279.41,1025.43 1282.58,1016.19 \n",
       "  1285.75,1006.82 1288.91,997.327 1292.08,987.704 1295.25,977.959 1298.42,968.096 1301.59,958.119 1304.75,948.031 1307.92,937.837 1311.09,927.54 1314.26,917.146 \n",
       "  1317.42,906.658 1320.59,896.08 1323.76,885.417 1326.93,874.674 1330.09,863.854 1333.26,852.962 1336.43,842.004 1339.6,830.983 1342.77,819.905 1345.93,808.774 \n",
       "  1349.1,797.594 1352.27,786.372 1355.44,775.111 1358.6,763.817 1361.77,752.495 1364.94,741.149 1368.11,729.785 1371.27,718.408 1374.44,707.022 1377.61,695.633 \n",
       "  1380.78,684.246 1383.95,672.866 1387.11,661.498 1390.28,650.147 1393.45,638.819 1396.62,627.518 1399.78,616.249 1402.95,605.018 1406.12,593.83 1409.29,582.689 \n",
       "  1412.45,571.601 1415.62,560.57 1418.79,549.602 1421.96,538.702 1425.13,527.874 1428.29,517.123 1431.46,506.454 1434.63,495.873 1437.8,485.383 1440.96,474.989 \n",
       "  1444.13,464.697 1447.3,454.509 1450.47,444.432 1453.63,434.47 1456.8,424.626 1459.97,414.906 1463.14,405.314 1466.31,395.853 1469.47,386.528 1472.64,377.344 \n",
       "  1475.81,368.303 1478.98,359.411 1482.14,350.671 1485.31,342.086 1488.48,333.661 1491.65,325.399 1494.82,317.304 1497.98,309.379 1501.15,301.628 1504.32,294.053 \n",
       "  1507.49,286.659 1510.65,279.449 1513.82,272.424 1516.99,265.59 1520.16,258.948 1523.32,252.501 1526.49,246.253 1529.66,240.205 1532.83,234.36 1536,228.722 \n",
       "  1539.16,223.292 1542.33,218.073 1545.5,213.066 1548.67,208.275 1551.83,203.701 1555,199.347 1558.17,195.213 1561.34,191.303 1564.5,187.618 1567.67,184.159 \n",
       "  1570.84,180.928 1574.01,177.927 1577.18,175.157 1580.34,172.619 1583.51,170.315 1586.68,168.246 1589.85,166.412 1593.01,164.816 1596.18,163.457 1599.35,162.337 \n",
       "  1602.52,161.456 1605.68,160.815 1608.85,160.415 1612.02,160.256 1615.19,160.339 1618.36,160.663 1621.52,161.229 1624.69,162.038 1627.86,163.089 1631.03,164.381 \n",
       "  1634.19,165.916 1637.36,167.693 1640.53,169.711 1643.7,171.97 1646.86,174.47 1650.03,177.21 1653.2,180.189 1656.37,183.407 1659.54,186.862 1662.7,190.554 \n",
       "  1665.87,194.482 1669.04,198.644 1672.21,203.039 1675.37,207.666 1678.54,212.524 1681.71,217.611 1684.88,222.925 1688.05,228.464 1691.21,234.227 1694.38,240.212 \n",
       "  1697.55,246.416 1700.72,252.838 1703.88,259.475 1707.05,266.325 1710.22,273.385 1713.39,280.654 1716.55,288.127 1719.72,295.803 1722.89,303.678 1726.06,311.75 \n",
       "  1729.23,320.016 1732.39,328.471 1735.56,337.114 1738.73,345.94 1741.9,354.946 1745.06,364.129 1748.23,373.485 1751.4,383.009 1754.57,392.698 1757.73,402.549 \n",
       "  1760.9,412.557 1764.07,422.717 1767.24,433.025 1770.41,443.478 1773.57,454.071 1776.74,464.798 1779.91,475.656 1783.08,486.639 1786.24,497.744 1789.41,508.964 \n",
       "  1792.58,520.295 1795.75,531.732 1798.91,543.269 1802.08,554.903 1805.25,566.626 1808.42,578.434 1811.59,590.322 1814.75,602.284 1817.92,614.315 1821.09,626.408 \n",
       "  1824.26,638.559 1827.42,650.762 1830.59,663.011 1833.76,675.3 1836.93,687.624 1840.09,699.977 1843.26,712.353 1846.43,724.746 1849.6,737.15 1852.77,749.56 \n",
       "  1855.93,761.97 1859.1,774.373 1862.27,786.764 1865.44,799.138 1868.6,811.488 1871.77,823.809 1874.94,836.094 1878.11,848.338 1881.27,860.535 1884.44,872.68 \n",
       "  1887.61,884.767 1890.78,896.79 1893.95,908.743 1897.11,920.621 1900.28,932.419 1903.45,944.131 1906.62,955.752 1909.78,967.276 1912.95,978.698 1916.12,990.013 \n",
       "  1919.29,1001.22 1922.46,1012.3 1925.62,1023.27 1928.79,1034.1 1931.96,1044.81 1935.13,1055.37 1938.29,1065.8 1941.46,1076.08 1944.63,1086.21 1947.8,1096.18 \n",
       "  1950.96,1106 1954.13,1115.65 1957.3,1125.14 1960.47,1134.45 1963.64,1143.59 1966.8,1152.55 1969.97,1161.33 1973.14,1169.92 1976.31,1178.32 1979.47,1186.53 \n",
       "  1982.64,1194.54 1985.81,1202.35 1988.98,1209.96 1992.14,1217.36 1995.31,1224.55 1998.48,1231.53 2001.65,1238.3 2004.82,1244.85 2007.98,1251.18 2011.15,1257.29 \n",
       "  2014.32,1263.17 2017.49,1268.83 2020.65,1274.26 2023.82,1279.46 2026.99,1284.43 2030.16,1289.16 2033.32,1293.66 2036.49,1297.92 2039.66,1301.95 2042.83,1305.73 \n",
       "  2046,1309.27 2049.16,1312.57 2052.33,1315.63 2055.5,1318.44 2058.67,1321.01 2061.83,1323.33 2065,1325.4 2068.17,1327.22 2071.34,1328.8 2074.5,1330.13 \n",
       "  2077.67,1331.22 2080.84,1332.05 2084.01,1332.63 2087.18,1332.97 2090.34,1333.05 2093.51,1332.89 2096.68,1332.48 2099.85,1331.82 2103.01,1330.92 2106.18,1329.77 \n",
       "  2109.35,1328.37 2112.52,1326.72 2115.68,1324.83 2118.85,1322.7 2122.02,1320.33 2125.19,1317.71 2128.36,1314.85 2131.52,1311.76 2134.69,1308.42 2137.86,1304.85 \n",
       "  2141.03,1301.05 2144.19,1297.01 2147.36,1292.74 2150.53,1288.24 2153.7,1283.52 2156.87,1278.56 2160.03,1273.39 2163.2,1268 2166.37,1262.38 2169.54,1256.55 \n",
       "  2172.7,1250.51 2175.87,1244.26 2179.04,1237.79 2182.21,1231.13 2185.37,1224.26 2188.54,1217.19 2191.71,1209.92 2194.88,1202.46 2198.05,1194.82 2201.21,1186.98 \n",
       "  2204.38,1178.96 2207.55,1170.77 2210.72,1162.4 2213.88,1153.85 2217.05,1145.14 2220.22,1136.26 2223.39,1127.23 2226.55,1118.03 2229.72,1108.69 2232.89,1099.2 \n",
       "  2236.06,1089.56 2239.23,1079.79 2242.39,1069.88 2245.56,1059.84 2248.73,1049.68 2251.9,1039.39 2255.06,1028.99 2258.23,1018.49 2261.4,1007.87 2264.57,997.155 \n",
       "  2267.73,986.343 2270.9,975.441 2274.07,964.454 2277.24,953.387 2280.41,942.244 2283.57,931.032 2286.74,919.756 2289.91,908.421 2293.08,897.033 \n",
       "  \"/>\n",
       "<polyline clip-path=\"url(#clip842)\" style=\"stroke:#ac8d18; stroke-width:4; stroke-opacity:1; fill:none\" points=\"\n",
       "  303.759,748.374 306.926,740.86 310.094,733.355 313.262,725.862 316.429,718.381 319.597,710.916 322.765,703.467 325.933,696.037 329.1,688.628 332.268,681.241 \n",
       "  335.436,673.878 338.603,666.541 341.771,659.232 344.939,651.952 348.106,644.704 351.274,637.489 354.442,630.31 357.61,623.167 360.777,616.062 363.945,608.998 \n",
       "  367.113,601.977 370.28,594.999 373.448,588.067 376.616,581.182 379.784,574.347 382.951,567.563 386.119,560.831 389.287,554.154 392.454,547.534 395.622,540.971 \n",
       "  398.79,534.468 401.957,528.026 405.125,521.648 408.293,515.334 411.461,509.087 414.628,502.909 417.796,496.8 420.964,490.763 424.131,484.799 427.299,478.911 \n",
       "  430.467,473.099 433.634,467.366 436.802,461.712 439.97,456.141 443.138,450.652 446.305,445.249 449.473,439.933 452.641,434.704 455.808,429.566 458.976,424.52 \n",
       "  462.144,419.566 465.312,414.707 468.479,409.945 471.647,405.28 474.815,400.716 477.982,396.252 481.15,391.891 484.318,387.634 487.485,383.483 490.653,379.44 \n",
       "  493.821,375.505 496.989,371.68 500.156,367.968 503.324,364.369 506.492,360.885 509.659,357.517 512.827,354.267 515.995,351.136 519.162,348.125 522.33,345.237 \n",
       "  525.498,342.473 528.666,339.833 531.833,337.319 535.001,334.933 538.169,332.676 541.336,330.549 544.504,328.553 547.672,326.691 550.839,324.962 554.007,323.368 \n",
       "  557.175,321.911 560.343,320.591 563.51,319.41 566.678,318.369 569.846,317.469 573.013,316.711 576.181,316.096 579.349,315.626 582.517,315.3 585.684,315.12 \n",
       "  588.852,315.087 592.02,315.202 595.187,315.465 598.355,315.878 601.523,316.441 604.69,317.155 607.858,318.021 611.026,319.039 614.194,320.209 617.361,321.533 \n",
       "  620.529,323.011 623.697,324.644 626.864,326.431 630.032,328.373 633.2,330.471 636.367,332.724 639.535,335.134 642.703,337.699 645.871,340.421 649.038,343.298 \n",
       "  652.206,346.332 655.374,349.522 658.541,352.868 661.709,356.37 664.877,360.027 668.045,363.839 671.212,367.807 674.38,371.928 677.548,376.203 680.715,380.631 \n",
       "  683.883,385.212 687.051,389.944 690.218,394.827 693.386,399.86 696.554,405.042 699.722,410.372 702.889,415.849 706.057,421.471 709.225,427.238 712.392,433.147 \n",
       "  715.56,439.198 718.728,445.389 721.895,451.719 725.063,458.185 728.231,464.786 731.399,471.52 734.566,478.385 737.734,485.379 740.902,492.5 744.069,499.746 \n",
       "  747.237,507.115 750.405,514.604 753.573,522.21 756.74,529.932 759.908,537.767 763.076,545.711 766.243,553.763 769.411,561.919 772.579,570.177 775.746,578.533 \n",
       "  778.914,586.985 782.082,595.529 785.25,604.162 788.417,612.881 791.585,621.683 794.753,630.563 797.92,639.519 801.088,648.547 804.256,657.644 807.423,666.805 \n",
       "  810.591,676.027 813.759,685.306 816.927,694.638 820.094,704.02 823.262,713.447 826.43,722.915 829.597,732.421 832.765,741.96 835.933,751.527 839.101,761.12 \n",
       "  842.268,770.733 845.436,780.362 848.604,790.003 851.771,799.651 854.939,809.303 858.107,818.954 861.274,828.599 864.442,838.235 867.61,847.856 870.778,857.458 \n",
       "  873.945,867.036 877.113,876.587 880.281,886.106 883.448,895.588 886.616,905.029 889.784,914.424 892.951,923.769 896.119,933.059 899.287,942.291 902.455,951.459 \n",
       "  905.622,960.559 908.79,969.588 911.958,978.539 915.125,987.41 918.293,996.196 921.461,1004.89 924.628,1013.5 927.796,1022 930.964,1030.41 934.132,1038.7 \n",
       "  937.299,1046.89 940.467,1054.97 943.635,1062.92 946.802,1070.76 949.97,1078.46 953.138,1086.04 956.306,1093.49 959.473,1100.8 962.641,1107.97 965.809,1114.99 \n",
       "  968.976,1121.87 972.144,1128.6 975.312,1135.17 978.479,1141.59 981.647,1147.84 984.815,1153.93 987.983,1159.86 991.15,1165.61 994.318,1171.19 997.486,1176.6 \n",
       "  1000.65,1181.83 1003.82,1186.88 1006.99,1191.74 1010.16,1196.42 1013.32,1200.91 1016.49,1205.21 1019.66,1209.32 1022.83,1213.23 1026,1216.94 1029.16,1220.46 \n",
       "  1032.33,1223.77 1035.5,1226.89 1038.67,1229.79 1041.83,1232.5 1045,1234.99 1048.17,1237.27 1051.34,1239.35 1054.5,1241.21 1057.67,1242.86 1060.84,1244.3 \n",
       "  1064.01,1245.52 1067.18,1246.53 1070.34,1247.32 1073.51,1247.89 1076.68,1248.25 1079.85,1248.38 1083.01,1248.3 1086.18,1248 1089.35,1247.48 1092.52,1246.74 \n",
       "  1095.68,1245.78 1098.85,1244.61 1102.02,1243.21 1105.19,1241.6 1108.36,1239.76 1111.52,1237.72 1114.69,1235.45 1117.86,1232.97 1121.03,1230.27 1124.19,1227.36 \n",
       "  1127.36,1224.23 1130.53,1220.89 1133.7,1217.34 1136.86,1213.59 1140.03,1209.62 1143.2,1205.45 1146.37,1201.07 1149.54,1196.49 1152.7,1191.7 1155.87,1186.72 \n",
       "  1159.04,1181.54 1162.21,1176.17 1165.37,1170.6 1168.54,1164.84 1171.71,1158.9 1174.88,1152.77 1178.04,1146.46 1181.21,1139.96 1184.38,1133.29 1187.55,1126.45 \n",
       "  1190.72,1119.44 1193.88,1112.25 1197.05,1104.91 1200.22,1097.4 1203.39,1089.74 1206.55,1081.92 1209.72,1073.95 1212.89,1065.84 1216.06,1057.58 1219.22,1049.19 \n",
       "  1222.39,1040.66 1225.56,1032 1228.73,1023.21 1231.9,1014.3 1235.06,1005.28 1238.23,996.139 1241.4,986.892 1244.57,977.541 1247.73,968.09 1250.9,958.545 \n",
       "  1254.07,948.91 1257.24,939.19 1260.41,929.39 1263.57,919.514 1266.74,909.568 1269.91,899.557 1273.08,889.486 1276.24,879.359 1279.41,869.183 1282.58,858.961 \n",
       "  1285.75,848.7 1288.91,838.405 1292.08,828.08 1295.25,817.732 1298.42,807.364 1301.59,796.984 1304.75,786.595 1307.92,776.204 1311.09,765.814 1314.26,755.433 \n",
       "  1317.42,745.065 1320.59,734.715 1323.76,724.388 1326.93,714.09 1330.09,703.826 1333.26,693.601 1336.43,683.42 1339.6,673.288 1342.77,663.211 1345.93,653.192 \n",
       "  1349.1,643.238 1352.27,633.353 1355.44,623.542 1358.6,613.809 1361.77,604.16 1364.94,594.599 1368.11,585.13 1371.27,575.759 1374.44,566.489 1377.61,557.325 \n",
       "  1380.78,548.271 1383.95,539.332 1387.11,530.511 1390.28,521.813 1393.45,513.241 1396.62,504.8 1399.78,496.493 1402.95,488.324 1406.12,480.296 1409.29,472.413 \n",
       "  1412.45,464.678 1415.62,457.095 1418.79,449.666 1421.96,442.396 1425.13,435.286 1428.29,428.34 1431.46,421.56 1434.63,414.95 1437.8,408.511 1440.96,402.246 \n",
       "  1444.13,396.158 1447.3,390.248 1450.47,384.519 1453.63,378.973 1456.8,373.612 1459.97,368.437 1463.14,363.451 1466.31,358.654 1469.47,354.049 1472.64,349.636 \n",
       "  1475.81,345.417 1478.98,341.394 1482.14,337.566 1485.31,333.936 1488.48,330.503 1491.65,327.27 1494.82,324.235 1497.98,321.401 1501.15,318.767 1504.32,316.333 \n",
       "  1507.49,314.1 1510.65,312.068 1513.82,310.237 1516.99,308.607 1520.16,307.177 1523.32,305.948 1526.49,304.919 1529.66,304.09 1532.83,303.459 1536,303.027 \n",
       "  1539.16,302.793 1542.33,302.755 1545.5,302.913 1548.67,303.266 1551.83,303.813 1555,304.552 1558.17,305.483 1561.34,306.603 1564.5,307.912 1567.67,309.408 \n",
       "  1570.84,311.089 1574.01,312.954 1577.18,315.001 1580.34,317.227 1583.51,319.632 1586.68,322.213 1589.85,324.968 1593.01,327.895 1596.18,330.991 1599.35,334.255 \n",
       "  1602.52,337.684 1605.68,341.276 1608.85,345.027 1612.02,348.937 1615.19,353.001 1618.36,357.218 1621.52,361.584 1624.69,366.097 1627.86,370.754 1631.03,375.552 \n",
       "  1634.19,380.488 1637.36,385.559 1640.53,390.762 1643.7,396.095 1646.86,401.553 1650.03,407.133 1653.2,412.833 1656.37,418.649 1659.54,424.578 1662.7,430.616 \n",
       "  1665.87,436.76 1669.04,443.007 1672.21,449.353 1675.37,455.795 1678.54,462.329 1681.71,468.951 1684.88,475.659 1688.05,482.448 1691.21,489.315 1694.38,496.256 \n",
       "  1697.55,503.268 1700.72,510.347 1703.88,517.489 1707.05,524.691 1710.22,531.949 1713.39,539.26 1716.55,546.619 1719.72,554.023 1722.89,561.469 1726.06,568.952 \n",
       "  1729.23,576.469 1732.39,584.017 1735.56,591.591 1738.73,599.189 1741.9,606.806 1745.06,614.439 1748.23,622.085 1751.4,629.74 1754.57,637.4 1757.73,645.061 \n",
       "  1760.9,652.722 1764.07,660.377 1767.24,668.024 1770.41,675.659 1773.57,683.279 1776.74,690.881 1779.91,698.461 1783.08,706.017 1786.24,713.544 1789.41,721.041 \n",
       "  1792.58,728.503 1795.75,735.929 1798.91,743.314 1802.08,750.657 1805.25,757.954 1808.42,765.202 1811.59,772.399 1814.75,779.541 1817.92,786.628 1821.09,793.655 \n",
       "  1824.26,800.62 1827.42,807.521 1830.59,814.356 1833.76,821.122 1836.93,827.816 1840.09,834.438 1843.26,840.984 1846.43,847.453 1849.6,853.842 1852.77,860.15 \n",
       "  1855.93,866.375 1859.1,872.514 1862.27,878.567 1865.44,884.532 1868.6,890.407 1871.77,896.19 1874.94,901.88 1878.11,907.476 1881.27,912.976 1884.44,918.38 \n",
       "  1887.61,923.685 1890.78,928.891 1893.95,933.997 1897.11,939.002 1900.28,943.904 1903.45,948.703 1906.62,953.399 1909.78,957.99 1912.95,962.475 1916.12,966.855 \n",
       "  1919.29,971.128 1922.46,975.295 1925.62,979.354 1928.79,983.305 1931.96,987.148 1935.13,990.883 1938.29,994.509 1941.46,998.026 1944.63,1001.43 1947.8,1004.73 \n",
       "  1950.96,1007.92 1954.13,1011.01 1957.3,1013.98 1960.47,1016.84 1963.64,1019.6 1966.8,1022.24 1969.97,1024.78 1973.14,1027.21 1976.31,1029.54 1979.47,1031.75 \n",
       "  1982.64,1033.86 1985.81,1035.86 1988.98,1037.76 1992.14,1039.55 1995.31,1041.24 1998.48,1042.82 2001.65,1044.3 2004.82,1045.68 2007.98,1046.95 2011.15,1048.12 \n",
       "  2014.32,1049.19 2017.49,1050.16 2020.65,1051.03 2023.82,1051.8 2026.99,1052.47 2030.16,1053.05 2033.32,1053.53 2036.49,1053.91 2039.66,1054.2 2042.83,1054.39 \n",
       "  2046,1054.49 2049.16,1054.5 2052.33,1054.42 2055.5,1054.25 2058.67,1053.98 2061.83,1053.63 2065,1053.19 2068.17,1052.66 2071.34,1052.05 2074.5,1051.35 \n",
       "  2077.67,1050.57 2080.84,1049.7 2084.01,1048.75 2087.18,1047.72 2090.34,1046.61 2093.51,1045.42 2096.68,1044.15 2099.85,1042.8 2103.01,1041.37 2106.18,1039.87 \n",
       "  2109.35,1038.29 2112.52,1036.64 2115.68,1034.92 2118.85,1033.12 2122.02,1031.25 2125.19,1029.31 2128.36,1027.3 2131.52,1025.22 2134.69,1023.07 2137.86,1020.85 \n",
       "  2141.03,1018.57 2144.19,1016.22 2147.36,1013.8 2150.53,1011.32 2153.7,1008.78 2156.87,1006.17 2160.03,1003.5 2163.2,1000.77 2166.37,997.978 2169.54,995.127 \n",
       "  2172.7,992.216 2175.87,989.247 2179.04,986.22 2182.21,983.136 2185.37,979.995 2188.54,976.798 2191.71,973.546 2194.88,970.24 2198.05,966.88 2201.21,963.467 \n",
       "  2204.38,960.002 2207.55,956.484 2210.72,952.916 2213.88,949.297 2217.05,945.628 2220.22,941.91 2223.39,938.143 2226.55,934.328 2229.72,930.466 2232.89,926.557 \n",
       "  2236.06,922.602 2239.23,918.602 2242.39,914.556 2245.56,910.467 2248.73,906.334 2251.9,902.158 2255.06,897.94 2258.23,893.68 2261.4,889.38 2264.57,885.038 \n",
       "  2267.73,880.658 2270.9,876.238 2274.07,871.78 2277.24,867.285 2280.41,862.752 2283.57,858.184 2286.74,853.58 2289.91,848.941 2293.08,844.269 \n",
       "  \"/>\n",
       "<path clip-path=\"url(#clip840)\" d=\"\n",
       "M1807.01 529.676 L2282.47 529.676 L2282.47 166.796 L1807.01 166.796  Z\n",
       "  \" fill=\"#ffffff\" fill-rule=\"evenodd\" fill-opacity=\"1\"/>\n",
       "<polyline clip-path=\"url(#clip840)\" style=\"stroke:#000000; stroke-width:4; stroke-opacity:1; fill:none\" points=\"\n",
       "  1807.01,529.676 2282.47,529.676 2282.47,166.796 1807.01,166.796 1807.01,529.676 \n",
       "  \"/>\n",
       "<polyline clip-path=\"url(#clip840)\" style=\"stroke:#009af9; stroke-width:4; stroke-opacity:1; fill:none\" points=\"\n",
       "  1830.44,227.276 1971.02,227.276 \n",
       "  \"/>\n",
       "<path clip-path=\"url(#clip840)\" d=\"M 0 0 M2006.35 221.616 Q2002.92 221.616 2000.93 224.301 Q1998.94 226.963 1998.94 231.616 Q1998.94 236.269 2000.91 238.954 Q2002.9 241.616 2006.35 241.616 Q2009.75 241.616 2011.74 238.931 Q2013.73 236.246 2013.73 231.616 Q2013.73 227.01 2011.74 224.324 Q2009.75 221.616 2006.35 221.616 M2006.35 218.005 Q2011.9 218.005 2015.08 221.616 Q2018.25 225.227 2018.25 231.616 Q2018.25 237.982 2015.08 241.616 Q2011.9 245.227 2006.35 245.227 Q2000.77 245.227 1997.6 241.616 Q1994.45 237.982 1994.45 231.616 Q1994.45 225.227 1997.6 221.616 Q2000.77 218.005 2006.35 218.005 Z\" fill=\"#000000\" fill-rule=\"evenodd\" fill-opacity=\"1\" /><path clip-path=\"url(#clip840)\" d=\"M 0 0 M2042.9 223.607 Q2044.5 220.736 2046.72 219.371 Q2048.94 218.005 2051.95 218.005 Q2056 218.005 2058.2 220.852 Q2060.4 223.676 2060.4 228.908 L2060.4 244.556 L2056.12 244.556 L2056.12 229.047 Q2056.12 225.32 2054.8 223.514 Q2053.48 221.709 2050.77 221.709 Q2047.46 221.709 2045.54 223.908 Q2043.62 226.107 2043.62 229.903 L2043.62 244.556 L2039.34 244.556 L2039.34 229.047 Q2039.34 225.297 2038.02 223.514 Q2036.7 221.709 2033.94 221.709 Q2030.68 221.709 2028.76 223.931 Q2026.84 226.13 2026.84 229.903 L2026.84 244.556 L2022.55 244.556 L2022.55 218.63 L2026.84 218.63 L2026.84 222.658 Q2028.29 220.273 2030.33 219.139 Q2032.37 218.005 2035.17 218.005 Q2037.99 218.005 2039.96 219.44 Q2041.95 220.875 2042.9 223.607 Z\" fill=\"#000000\" fill-rule=\"evenodd\" fill-opacity=\"1\" /><path clip-path=\"url(#clip840)\" d=\"M 0 0 M2087.04 230.528 L2087.04 232.611 L2067.46 232.611 Q2067.74 237.009 2070.1 239.324 Q2072.48 241.616 2076.72 241.616 Q2079.17 241.616 2081.46 241.014 Q2083.78 240.412 2086.05 239.209 L2086.05 243.236 Q2083.76 244.208 2081.35 244.718 Q2078.94 245.227 2076.46 245.227 Q2070.26 245.227 2066.63 241.616 Q2063.02 238.005 2063.02 231.847 Q2063.02 225.482 2066.44 221.755 Q2069.89 218.005 2075.72 218.005 Q2080.96 218.005 2083.99 221.385 Q2087.04 224.741 2087.04 230.528 M2082.78 229.278 Q2082.74 225.783 2080.82 223.699 Q2078.92 221.616 2075.77 221.616 Q2072.21 221.616 2070.05 223.63 Q2067.92 225.644 2067.6 229.301 L2082.78 229.278 Z\" fill=\"#000000\" fill-rule=\"evenodd\" fill-opacity=\"1\" /><path clip-path=\"url(#clip840)\" d=\"M 0 0 M2108.57 231.292 Q2108.57 226.662 2106.65 224.116 Q2104.75 221.57 2101.3 221.57 Q2097.88 221.57 2095.96 224.116 Q2094.06 226.662 2094.06 231.292 Q2094.06 235.898 2095.96 238.445 Q2097.88 240.991 2101.3 240.991 Q2104.75 240.991 2106.65 238.445 Q2108.57 235.898 2108.57 231.292 M2112.83 241.338 Q2112.83 247.958 2109.89 251.176 Q2106.95 254.417 2100.89 254.417 Q2098.64 254.417 2096.65 254.07 Q2094.66 253.745 2092.78 253.051 L2092.78 248.908 Q2094.66 249.926 2096.49 250.412 Q2098.32 250.898 2100.21 250.898 Q2104.4 250.898 2106.49 248.699 Q2108.57 246.523 2108.57 242.102 L2108.57 239.996 Q2107.25 242.287 2105.19 243.421 Q2103.13 244.556 2100.26 244.556 Q2095.49 244.556 2092.58 240.921 Q2089.66 237.287 2089.66 231.292 Q2089.66 225.273 2092.58 221.639 Q2095.49 218.005 2100.26 218.005 Q2103.13 218.005 2105.19 219.139 Q2107.25 220.273 2108.57 222.565 L2108.57 218.63 L2112.83 218.63 L2112.83 241.338 Z\" fill=\"#000000\" fill-rule=\"evenodd\" fill-opacity=\"1\" /><path clip-path=\"url(#clip840)\" d=\"M 0 0 M2129.08 231.523 Q2123.92 231.523 2121.93 232.704 Q2119.94 233.884 2119.94 236.732 Q2119.94 239 2121.42 240.343 Q2122.92 241.662 2125.49 241.662 Q2129.03 241.662 2131.16 239.162 Q2133.32 236.639 2133.32 232.472 L2133.32 231.523 L2129.08 231.523 M2137.58 229.764 L2137.58 244.556 L2133.32 244.556 L2133.32 240.621 Q2131.86 242.982 2129.68 244.116 Q2127.51 245.227 2124.36 245.227 Q2120.38 245.227 2118.02 243.005 Q2115.68 240.759 2115.68 237.009 Q2115.68 232.634 2118.59 230.412 Q2121.53 228.19 2127.34 228.19 L2133.32 228.19 L2133.32 227.773 Q2133.32 224.834 2131.37 223.236 Q2129.45 221.616 2125.96 221.616 Q2123.73 221.616 2121.63 222.148 Q2119.52 222.681 2117.58 223.746 L2117.58 219.81 Q2119.91 218.908 2122.11 218.468 Q2124.31 218.005 2126.39 218.005 Q2132.02 218.005 2134.8 220.922 Q2137.58 223.838 2137.58 229.764 Z\" fill=\"#000000\" fill-rule=\"evenodd\" fill-opacity=\"1\" /><path clip-path=\"url(#clip840)\" d=\"M 0 0 M2142.6 223.028 L2172.27 223.028 L2172.27 226.917 L2142.6 226.917 L2142.6 223.028 M2142.6 232.472 L2172.27 232.472 L2172.27 236.408 L2142.6 236.408 L2142.6 232.472 Z\" fill=\"#000000\" fill-rule=\"evenodd\" fill-opacity=\"1\" /><path clip-path=\"url(#clip840)\" d=\"M 0 0 M2178.15 240.621 L2185.79 240.621 L2185.79 214.255 L2177.48 215.922 L2177.48 211.662 L2185.75 209.996 L2190.42 209.996 L2190.42 240.621 L2198.06 240.621 L2198.06 244.556 L2178.15 244.556 L2178.15 240.621 Z\" fill=\"#000000\" fill-rule=\"evenodd\" fill-opacity=\"1\" /><path clip-path=\"url(#clip840)\" d=\"M 0 0 M2203.13 238.676 L2208.01 238.676 L2208.01 244.556 L2203.13 244.556 L2203.13 238.676 Z\" fill=\"#000000\" fill-rule=\"evenodd\" fill-opacity=\"1\" /><path clip-path=\"url(#clip840)\" d=\"M 0 0 M2223.08 213.074 Q2219.47 213.074 2217.64 216.639 Q2215.84 220.181 2215.84 227.31 Q2215.84 234.417 2217.64 237.982 Q2219.47 241.523 2223.08 241.523 Q2226.72 241.523 2228.52 237.982 Q2230.35 234.417 2230.35 227.31 Q2230.35 220.181 2228.52 216.639 Q2226.72 213.074 2223.08 213.074 M2223.08 209.371 Q2228.89 209.371 2231.95 213.977 Q2235.03 218.56 2235.03 227.31 Q2235.03 236.037 2231.95 240.644 Q2228.89 245.227 2223.08 245.227 Q2217.27 245.227 2214.2 240.644 Q2211.14 236.037 2211.14 227.31 Q2211.14 218.56 2214.2 213.977 Q2217.27 209.371 2223.08 209.371 Z\" fill=\"#000000\" fill-rule=\"evenodd\" fill-opacity=\"1\" /><polyline clip-path=\"url(#clip840)\" style=\"stroke:#e26f46; stroke-width:4; stroke-opacity:1; fill:none\" points=\"\n",
       "  1830.44,287.756 1971.02,287.756 \n",
       "  \"/>\n",
       "<path clip-path=\"url(#clip840)\" d=\"M 0 0 M2006.35 282.096 Q2002.92 282.096 2000.93 284.781 Q1998.94 287.443 1998.94 292.096 Q1998.94 296.749 2000.91 299.434 Q2002.9 302.096 2006.35 302.096 Q2009.75 302.096 2011.74 299.411 Q2013.73 296.726 2013.73 292.096 Q2013.73 287.49 2011.74 284.804 Q2009.75 282.096 2006.35 282.096 M2006.35 278.485 Q2011.9 278.485 2015.08 282.096 Q2018.25 285.707 2018.25 292.096 Q2018.25 298.462 2015.08 302.096 Q2011.9 305.707 2006.35 305.707 Q2000.77 305.707 1997.6 302.096 Q1994.45 298.462 1994.45 292.096 Q1994.45 285.707 1997.6 282.096 Q2000.77 278.485 2006.35 278.485 Z\" fill=\"#000000\" fill-rule=\"evenodd\" fill-opacity=\"1\" /><path clip-path=\"url(#clip840)\" d=\"M 0 0 M2042.9 284.087 Q2044.5 281.216 2046.72 279.851 Q2048.94 278.485 2051.95 278.485 Q2056 278.485 2058.2 281.332 Q2060.4 284.156 2060.4 289.388 L2060.4 305.036 L2056.12 305.036 L2056.12 289.527 Q2056.12 285.8 2054.8 283.994 Q2053.48 282.189 2050.77 282.189 Q2047.46 282.189 2045.54 284.388 Q2043.62 286.587 2043.62 290.383 L2043.62 305.036 L2039.34 305.036 L2039.34 289.527 Q2039.34 285.777 2038.02 283.994 Q2036.7 282.189 2033.94 282.189 Q2030.68 282.189 2028.76 284.411 Q2026.84 286.61 2026.84 290.383 L2026.84 305.036 L2022.55 305.036 L2022.55 279.11 L2026.84 279.11 L2026.84 283.138 Q2028.29 280.753 2030.33 279.619 Q2032.37 278.485 2035.17 278.485 Q2037.99 278.485 2039.96 279.92 Q2041.95 281.355 2042.9 284.087 Z\" fill=\"#000000\" fill-rule=\"evenodd\" fill-opacity=\"1\" /><path clip-path=\"url(#clip840)\" d=\"M 0 0 M2087.04 291.008 L2087.04 293.091 L2067.46 293.091 Q2067.74 297.489 2070.1 299.804 Q2072.48 302.096 2076.72 302.096 Q2079.17 302.096 2081.46 301.494 Q2083.78 300.892 2086.05 299.689 L2086.05 303.716 Q2083.76 304.688 2081.35 305.198 Q2078.94 305.707 2076.46 305.707 Q2070.26 305.707 2066.63 302.096 Q2063.02 298.485 2063.02 292.327 Q2063.02 285.962 2066.44 282.235 Q2069.89 278.485 2075.72 278.485 Q2080.96 278.485 2083.99 281.865 Q2087.04 285.221 2087.04 291.008 M2082.78 289.758 Q2082.74 286.263 2080.82 284.179 Q2078.92 282.096 2075.77 282.096 Q2072.21 282.096 2070.05 284.11 Q2067.92 286.124 2067.6 289.781 L2082.78 289.758 Z\" fill=\"#000000\" fill-rule=\"evenodd\" fill-opacity=\"1\" /><path clip-path=\"url(#clip840)\" d=\"M 0 0 M2108.57 291.772 Q2108.57 287.142 2106.65 284.596 Q2104.75 282.05 2101.3 282.05 Q2097.88 282.05 2095.96 284.596 Q2094.06 287.142 2094.06 291.772 Q2094.06 296.378 2095.96 298.925 Q2097.88 301.471 2101.3 301.471 Q2104.75 301.471 2106.65 298.925 Q2108.57 296.378 2108.57 291.772 M2112.83 301.818 Q2112.83 308.438 2109.89 311.656 Q2106.95 314.897 2100.89 314.897 Q2098.64 314.897 2096.65 314.55 Q2094.66 314.225 2092.78 313.531 L2092.78 309.388 Q2094.66 310.406 2096.49 310.892 Q2098.32 311.378 2100.21 311.378 Q2104.4 311.378 2106.49 309.179 Q2108.57 307.003 2108.57 302.582 L2108.57 300.476 Q2107.25 302.767 2105.19 303.901 Q2103.13 305.036 2100.26 305.036 Q2095.49 305.036 2092.58 301.401 Q2089.66 297.767 2089.66 291.772 Q2089.66 285.753 2092.58 282.119 Q2095.49 278.485 2100.26 278.485 Q2103.13 278.485 2105.19 279.619 Q2107.25 280.753 2108.57 283.045 L2108.57 279.11 L2112.83 279.11 L2112.83 301.818 Z\" fill=\"#000000\" fill-rule=\"evenodd\" fill-opacity=\"1\" /><path clip-path=\"url(#clip840)\" d=\"M 0 0 M2129.08 292.003 Q2123.92 292.003 2121.93 293.184 Q2119.94 294.364 2119.94 297.212 Q2119.94 299.48 2121.42 300.823 Q2122.92 302.142 2125.49 302.142 Q2129.03 302.142 2131.16 299.642 Q2133.32 297.119 2133.32 292.952 L2133.32 292.003 L2129.08 292.003 M2137.58 290.244 L2137.58 305.036 L2133.32 305.036 L2133.32 301.101 Q2131.86 303.462 2129.68 304.596 Q2127.51 305.707 2124.36 305.707 Q2120.38 305.707 2118.02 303.485 Q2115.68 301.239 2115.68 297.489 Q2115.68 293.114 2118.59 290.892 Q2121.53 288.67 2127.34 288.67 L2133.32 288.67 L2133.32 288.253 Q2133.32 285.314 2131.37 283.716 Q2129.45 282.096 2125.96 282.096 Q2123.73 282.096 2121.63 282.628 Q2119.52 283.161 2117.58 284.226 L2117.58 280.29 Q2119.91 279.388 2122.11 278.948 Q2124.31 278.485 2126.39 278.485 Q2132.02 278.485 2134.8 281.402 Q2137.58 284.318 2137.58 290.244 Z\" fill=\"#000000\" fill-rule=\"evenodd\" fill-opacity=\"1\" /><path clip-path=\"url(#clip840)\" d=\"M 0 0 M2142.6 283.508 L2172.27 283.508 L2172.27 287.397 L2142.6 287.397 L2142.6 283.508 M2142.6 292.952 L2172.27 292.952 L2172.27 296.888 L2142.6 296.888 L2142.6 292.952 Z\" fill=\"#000000\" fill-rule=\"evenodd\" fill-opacity=\"1\" /><path clip-path=\"url(#clip840)\" d=\"M 0 0 M2178.15 301.101 L2185.79 301.101 L2185.79 274.735 L2177.48 276.402 L2177.48 272.142 L2185.75 270.476 L2190.42 270.476 L2190.42 301.101 L2198.06 301.101 L2198.06 305.036 L2178.15 305.036 L2178.15 301.101 Z\" fill=\"#000000\" fill-rule=\"evenodd\" fill-opacity=\"1\" /><path clip-path=\"url(#clip840)\" d=\"M 0 0 M2203.13 299.156 L2208.01 299.156 L2208.01 305.036 L2203.13 305.036 L2203.13 299.156 Z\" fill=\"#000000\" fill-rule=\"evenodd\" fill-opacity=\"1\" /><path clip-path=\"url(#clip840)\" d=\"M 0 0 M2213.13 270.476 L2231.49 270.476 L2231.49 274.411 L2217.41 274.411 L2217.41 282.883 Q2218.43 282.536 2219.45 282.374 Q2220.47 282.189 2221.49 282.189 Q2227.27 282.189 2230.65 285.36 Q2234.03 288.531 2234.03 293.948 Q2234.03 299.526 2230.56 302.628 Q2227.09 305.707 2220.77 305.707 Q2218.59 305.707 2216.32 305.337 Q2214.08 304.966 2211.67 304.226 L2211.67 299.526 Q2213.76 300.661 2215.98 301.216 Q2218.2 301.772 2220.68 301.772 Q2224.68 301.772 2227.02 299.665 Q2229.36 297.559 2229.36 293.948 Q2229.36 290.337 2227.02 288.23 Q2224.68 286.124 2220.68 286.124 Q2218.8 286.124 2216.93 286.54 Q2215.07 286.957 2213.13 287.837 L2213.13 270.476 Z\" fill=\"#000000\" fill-rule=\"evenodd\" fill-opacity=\"1\" /><polyline clip-path=\"url(#clip840)\" style=\"stroke:#3da44d; stroke-width:4; stroke-opacity:1; fill:none\" points=\"\n",
       "  1830.44,348.236 1971.02,348.236 \n",
       "  \"/>\n",
       "<path clip-path=\"url(#clip840)\" d=\"M 0 0 M2006.35 342.576 Q2002.92 342.576 2000.93 345.261 Q1998.94 347.923 1998.94 352.576 Q1998.94 357.229 2000.91 359.914 Q2002.9 362.576 2006.35 362.576 Q2009.75 362.576 2011.74 359.891 Q2013.73 357.206 2013.73 352.576 Q2013.73 347.97 2011.74 345.284 Q2009.75 342.576 2006.35 342.576 M2006.35 338.965 Q2011.9 338.965 2015.08 342.576 Q2018.25 346.187 2018.25 352.576 Q2018.25 358.942 2015.08 362.576 Q2011.9 366.187 2006.35 366.187 Q2000.77 366.187 1997.6 362.576 Q1994.45 358.942 1994.45 352.576 Q1994.45 346.187 1997.6 342.576 Q2000.77 338.965 2006.35 338.965 Z\" fill=\"#000000\" fill-rule=\"evenodd\" fill-opacity=\"1\" /><path clip-path=\"url(#clip840)\" d=\"M 0 0 M2042.9 344.567 Q2044.5 341.696 2046.72 340.331 Q2048.94 338.965 2051.95 338.965 Q2056 338.965 2058.2 341.812 Q2060.4 344.636 2060.4 349.868 L2060.4 365.516 L2056.12 365.516 L2056.12 350.007 Q2056.12 346.28 2054.8 344.474 Q2053.48 342.669 2050.77 342.669 Q2047.46 342.669 2045.54 344.868 Q2043.62 347.067 2043.62 350.863 L2043.62 365.516 L2039.34 365.516 L2039.34 350.007 Q2039.34 346.257 2038.02 344.474 Q2036.7 342.669 2033.94 342.669 Q2030.68 342.669 2028.76 344.891 Q2026.84 347.09 2026.84 350.863 L2026.84 365.516 L2022.55 365.516 L2022.55 339.59 L2026.84 339.59 L2026.84 343.618 Q2028.29 341.233 2030.33 340.099 Q2032.37 338.965 2035.17 338.965 Q2037.99 338.965 2039.96 340.4 Q2041.95 341.835 2042.9 344.567 Z\" fill=\"#000000\" fill-rule=\"evenodd\" fill-opacity=\"1\" /><path clip-path=\"url(#clip840)\" d=\"M 0 0 M2087.04 351.488 L2087.04 353.571 L2067.46 353.571 Q2067.74 357.969 2070.1 360.284 Q2072.48 362.576 2076.72 362.576 Q2079.17 362.576 2081.46 361.974 Q2083.78 361.372 2086.05 360.169 L2086.05 364.196 Q2083.76 365.168 2081.35 365.678 Q2078.94 366.187 2076.46 366.187 Q2070.26 366.187 2066.63 362.576 Q2063.02 358.965 2063.02 352.807 Q2063.02 346.442 2066.44 342.715 Q2069.89 338.965 2075.72 338.965 Q2080.96 338.965 2083.99 342.345 Q2087.04 345.701 2087.04 351.488 M2082.78 350.238 Q2082.74 346.743 2080.82 344.659 Q2078.92 342.576 2075.77 342.576 Q2072.21 342.576 2070.05 344.59 Q2067.92 346.604 2067.6 350.261 L2082.78 350.238 Z\" fill=\"#000000\" fill-rule=\"evenodd\" fill-opacity=\"1\" /><path clip-path=\"url(#clip840)\" d=\"M 0 0 M2108.57 352.252 Q2108.57 347.622 2106.65 345.076 Q2104.75 342.53 2101.3 342.53 Q2097.88 342.53 2095.96 345.076 Q2094.06 347.622 2094.06 352.252 Q2094.06 356.858 2095.96 359.405 Q2097.88 361.951 2101.3 361.951 Q2104.75 361.951 2106.65 359.405 Q2108.57 356.858 2108.57 352.252 M2112.83 362.298 Q2112.83 368.918 2109.89 372.136 Q2106.95 375.377 2100.89 375.377 Q2098.64 375.377 2096.65 375.03 Q2094.66 374.705 2092.78 374.011 L2092.78 369.868 Q2094.66 370.886 2096.49 371.372 Q2098.32 371.858 2100.21 371.858 Q2104.4 371.858 2106.49 369.659 Q2108.57 367.483 2108.57 363.062 L2108.57 360.956 Q2107.25 363.247 2105.19 364.381 Q2103.13 365.516 2100.26 365.516 Q2095.49 365.516 2092.58 361.881 Q2089.66 358.247 2089.66 352.252 Q2089.66 346.233 2092.58 342.599 Q2095.49 338.965 2100.26 338.965 Q2103.13 338.965 2105.19 340.099 Q2107.25 341.233 2108.57 343.525 L2108.57 339.59 L2112.83 339.59 L2112.83 362.298 Z\" fill=\"#000000\" fill-rule=\"evenodd\" fill-opacity=\"1\" /><path clip-path=\"url(#clip840)\" d=\"M 0 0 M2129.08 352.483 Q2123.92 352.483 2121.93 353.664 Q2119.94 354.844 2119.94 357.692 Q2119.94 359.96 2121.42 361.303 Q2122.92 362.622 2125.49 362.622 Q2129.03 362.622 2131.16 360.122 Q2133.32 357.599 2133.32 353.432 L2133.32 352.483 L2129.08 352.483 M2137.58 350.724 L2137.58 365.516 L2133.32 365.516 L2133.32 361.581 Q2131.86 363.942 2129.68 365.076 Q2127.51 366.187 2124.36 366.187 Q2120.38 366.187 2118.02 363.965 Q2115.68 361.719 2115.68 357.969 Q2115.68 353.594 2118.59 351.372 Q2121.53 349.15 2127.34 349.15 L2133.32 349.15 L2133.32 348.733 Q2133.32 345.794 2131.37 344.196 Q2129.45 342.576 2125.96 342.576 Q2123.73 342.576 2121.63 343.108 Q2119.52 343.641 2117.58 344.706 L2117.58 340.77 Q2119.91 339.868 2122.11 339.428 Q2124.31 338.965 2126.39 338.965 Q2132.02 338.965 2134.8 341.882 Q2137.58 344.798 2137.58 350.724 Z\" fill=\"#000000\" fill-rule=\"evenodd\" fill-opacity=\"1\" /><path clip-path=\"url(#clip840)\" d=\"M 0 0 M2142.6 343.988 L2172.27 343.988 L2172.27 347.877 L2142.6 347.877 L2142.6 343.988 M2142.6 353.432 L2172.27 353.432 L2172.27 357.368 L2142.6 357.368 L2142.6 353.432 Z\" fill=\"#000000\" fill-rule=\"evenodd\" fill-opacity=\"1\" /><path clip-path=\"url(#clip840)\" d=\"M 0 0 M2181.37 361.581 L2197.69 361.581 L2197.69 365.516 L2175.75 365.516 L2175.75 361.581 Q2178.41 358.826 2182.99 354.196 Q2187.6 349.544 2188.78 348.201 Q2191.02 345.678 2191.9 343.942 Q2192.81 342.183 2192.81 340.493 Q2192.81 337.738 2190.86 336.002 Q2188.94 334.266 2185.84 334.266 Q2183.64 334.266 2181.19 335.03 Q2178.76 335.794 2175.98 337.345 L2175.98 332.622 Q2178.8 331.488 2181.26 330.909 Q2183.71 330.331 2185.75 330.331 Q2191.12 330.331 2194.31 333.016 Q2197.51 335.701 2197.51 340.192 Q2197.51 342.321 2196.7 344.243 Q2195.91 346.141 2193.8 348.733 Q2193.22 349.405 2190.12 352.622 Q2187.02 355.817 2181.37 361.581 Z\" fill=\"#000000\" fill-rule=\"evenodd\" fill-opacity=\"1\" /><path clip-path=\"url(#clip840)\" d=\"M 0 0 M2202.76 359.636 L2207.64 359.636 L2207.64 365.516 L2202.76 365.516 L2202.76 359.636 Z\" fill=\"#000000\" fill-rule=\"evenodd\" fill-opacity=\"1\" /><path clip-path=\"url(#clip840)\" d=\"M 0 0 M2222.71 334.034 Q2219.1 334.034 2217.27 337.599 Q2215.47 341.141 2215.47 348.27 Q2215.47 355.377 2217.27 358.942 Q2219.1 362.483 2222.71 362.483 Q2226.35 362.483 2228.15 358.942 Q2229.98 355.377 2229.98 348.27 Q2229.98 341.141 2228.15 337.599 Q2226.35 334.034 2222.71 334.034 M2222.71 330.331 Q2228.52 330.331 2231.58 334.937 Q2234.66 339.52 2234.66 348.27 Q2234.66 356.997 2231.58 361.604 Q2228.52 366.187 2222.71 366.187 Q2216.9 366.187 2213.82 361.604 Q2210.77 356.997 2210.77 348.27 Q2210.77 339.52 2213.82 334.937 Q2216.9 330.331 2222.71 330.331 Z\" fill=\"#000000\" fill-rule=\"evenodd\" fill-opacity=\"1\" /><polyline clip-path=\"url(#clip840)\" style=\"stroke:#c271d2; stroke-width:4; stroke-opacity:1; fill:none\" points=\"\n",
       "  1830.44,408.716 1971.02,408.716 \n",
       "  \"/>\n",
       "<path clip-path=\"url(#clip840)\" d=\"M 0 0 M2006.35 403.056 Q2002.92 403.056 2000.93 405.741 Q1998.94 408.403 1998.94 413.056 Q1998.94 417.709 2000.91 420.394 Q2002.9 423.056 2006.35 423.056 Q2009.75 423.056 2011.74 420.371 Q2013.73 417.686 2013.73 413.056 Q2013.73 408.45 2011.74 405.764 Q2009.75 403.056 2006.35 403.056 M2006.35 399.445 Q2011.9 399.445 2015.08 403.056 Q2018.25 406.667 2018.25 413.056 Q2018.25 419.422 2015.08 423.056 Q2011.9 426.667 2006.35 426.667 Q2000.77 426.667 1997.6 423.056 Q1994.45 419.422 1994.45 413.056 Q1994.45 406.667 1997.6 403.056 Q2000.77 399.445 2006.35 399.445 Z\" fill=\"#000000\" fill-rule=\"evenodd\" fill-opacity=\"1\" /><path clip-path=\"url(#clip840)\" d=\"M 0 0 M2042.9 405.047 Q2044.5 402.176 2046.72 400.811 Q2048.94 399.445 2051.95 399.445 Q2056 399.445 2058.2 402.292 Q2060.4 405.116 2060.4 410.348 L2060.4 425.996 L2056.12 425.996 L2056.12 410.487 Q2056.12 406.76 2054.8 404.954 Q2053.48 403.149 2050.77 403.149 Q2047.46 403.149 2045.54 405.348 Q2043.62 407.547 2043.62 411.343 L2043.62 425.996 L2039.34 425.996 L2039.34 410.487 Q2039.34 406.737 2038.02 404.954 Q2036.7 403.149 2033.94 403.149 Q2030.68 403.149 2028.76 405.371 Q2026.84 407.57 2026.84 411.343 L2026.84 425.996 L2022.55 425.996 L2022.55 400.07 L2026.84 400.07 L2026.84 404.098 Q2028.29 401.713 2030.33 400.579 Q2032.37 399.445 2035.17 399.445 Q2037.99 399.445 2039.96 400.88 Q2041.95 402.315 2042.9 405.047 Z\" fill=\"#000000\" fill-rule=\"evenodd\" fill-opacity=\"1\" /><path clip-path=\"url(#clip840)\" d=\"M 0 0 M2087.04 411.968 L2087.04 414.051 L2067.46 414.051 Q2067.74 418.449 2070.1 420.764 Q2072.48 423.056 2076.72 423.056 Q2079.17 423.056 2081.46 422.454 Q2083.78 421.852 2086.05 420.649 L2086.05 424.676 Q2083.76 425.648 2081.35 426.158 Q2078.94 426.667 2076.46 426.667 Q2070.26 426.667 2066.63 423.056 Q2063.02 419.445 2063.02 413.287 Q2063.02 406.922 2066.44 403.195 Q2069.89 399.445 2075.72 399.445 Q2080.96 399.445 2083.99 402.825 Q2087.04 406.181 2087.04 411.968 M2082.78 410.718 Q2082.74 407.223 2080.82 405.139 Q2078.92 403.056 2075.77 403.056 Q2072.21 403.056 2070.05 405.07 Q2067.92 407.084 2067.6 410.741 L2082.78 410.718 Z\" fill=\"#000000\" fill-rule=\"evenodd\" fill-opacity=\"1\" /><path clip-path=\"url(#clip840)\" d=\"M 0 0 M2108.57 412.732 Q2108.57 408.102 2106.65 405.556 Q2104.75 403.01 2101.3 403.01 Q2097.88 403.01 2095.96 405.556 Q2094.06 408.102 2094.06 412.732 Q2094.06 417.338 2095.96 419.885 Q2097.88 422.431 2101.3 422.431 Q2104.75 422.431 2106.65 419.885 Q2108.57 417.338 2108.57 412.732 M2112.83 422.778 Q2112.83 429.398 2109.89 432.616 Q2106.95 435.857 2100.89 435.857 Q2098.64 435.857 2096.65 435.51 Q2094.66 435.185 2092.78 434.491 L2092.78 430.348 Q2094.66 431.366 2096.49 431.852 Q2098.32 432.338 2100.21 432.338 Q2104.4 432.338 2106.49 430.139 Q2108.57 427.963 2108.57 423.542 L2108.57 421.436 Q2107.25 423.727 2105.19 424.861 Q2103.13 425.996 2100.26 425.996 Q2095.49 425.996 2092.58 422.361 Q2089.66 418.727 2089.66 412.732 Q2089.66 406.713 2092.58 403.079 Q2095.49 399.445 2100.26 399.445 Q2103.13 399.445 2105.19 400.579 Q2107.25 401.713 2108.57 404.005 L2108.57 400.07 L2112.83 400.07 L2112.83 422.778 Z\" fill=\"#000000\" fill-rule=\"evenodd\" fill-opacity=\"1\" /><path clip-path=\"url(#clip840)\" d=\"M 0 0 M2129.08 412.963 Q2123.92 412.963 2121.93 414.144 Q2119.94 415.324 2119.94 418.172 Q2119.94 420.44 2121.42 421.783 Q2122.92 423.102 2125.49 423.102 Q2129.03 423.102 2131.16 420.602 Q2133.32 418.079 2133.32 413.912 L2133.32 412.963 L2129.08 412.963 M2137.58 411.204 L2137.58 425.996 L2133.32 425.996 L2133.32 422.061 Q2131.86 424.422 2129.68 425.556 Q2127.51 426.667 2124.36 426.667 Q2120.38 426.667 2118.02 424.445 Q2115.68 422.199 2115.68 418.449 Q2115.68 414.074 2118.59 411.852 Q2121.53 409.63 2127.34 409.63 L2133.32 409.63 L2133.32 409.213 Q2133.32 406.274 2131.37 404.676 Q2129.45 403.056 2125.96 403.056 Q2123.73 403.056 2121.63 403.588 Q2119.52 404.121 2117.58 405.186 L2117.58 401.25 Q2119.91 400.348 2122.11 399.908 Q2124.31 399.445 2126.39 399.445 Q2132.02 399.445 2134.8 402.362 Q2137.58 405.278 2137.58 411.204 Z\" fill=\"#000000\" fill-rule=\"evenodd\" fill-opacity=\"1\" /><path clip-path=\"url(#clip840)\" d=\"M 0 0 M2142.6 404.468 L2172.27 404.468 L2172.27 408.357 L2142.6 408.357 L2142.6 404.468 M2142.6 413.912 L2172.27 413.912 L2172.27 417.848 L2142.6 417.848 L2142.6 413.912 Z\" fill=\"#000000\" fill-rule=\"evenodd\" fill-opacity=\"1\" /><path clip-path=\"url(#clip840)\" d=\"M 0 0 M2181.37 422.061 L2197.69 422.061 L2197.69 425.996 L2175.75 425.996 L2175.75 422.061 Q2178.41 419.306 2182.99 414.676 Q2187.6 410.024 2188.78 408.681 Q2191.02 406.158 2191.9 404.422 Q2192.81 402.663 2192.81 400.973 Q2192.81 398.218 2190.86 396.482 Q2188.94 394.746 2185.84 394.746 Q2183.64 394.746 2181.19 395.51 Q2178.76 396.274 2175.98 397.825 L2175.98 393.102 Q2178.8 391.968 2181.26 391.389 Q2183.71 390.811 2185.75 390.811 Q2191.12 390.811 2194.31 393.496 Q2197.51 396.181 2197.51 400.672 Q2197.51 402.801 2196.7 404.723 Q2195.91 406.621 2193.8 409.213 Q2193.22 409.885 2190.12 413.102 Q2187.02 416.297 2181.37 422.061 Z\" fill=\"#000000\" fill-rule=\"evenodd\" fill-opacity=\"1\" /><path clip-path=\"url(#clip840)\" d=\"M 0 0 M2202.76 420.116 L2207.64 420.116 L2207.64 425.996 L2202.76 425.996 L2202.76 420.116 Z\" fill=\"#000000\" fill-rule=\"evenodd\" fill-opacity=\"1\" /><path clip-path=\"url(#clip840)\" d=\"M 0 0 M2212.76 391.436 L2231.12 391.436 L2231.12 395.371 L2217.04 395.371 L2217.04 403.843 Q2218.06 403.496 2219.08 403.334 Q2220.1 403.149 2221.12 403.149 Q2226.9 403.149 2230.28 406.32 Q2233.66 409.491 2233.66 414.908 Q2233.66 420.486 2230.19 423.588 Q2226.72 426.667 2220.4 426.667 Q2218.22 426.667 2215.95 426.297 Q2213.71 425.926 2211.3 425.186 L2211.3 420.486 Q2213.39 421.621 2215.61 422.176 Q2217.83 422.732 2220.31 422.732 Q2224.31 422.732 2226.65 420.625 Q2228.99 418.519 2228.99 414.908 Q2228.99 411.297 2226.65 409.19 Q2224.31 407.084 2220.31 407.084 Q2218.43 407.084 2216.56 407.5 Q2214.7 407.917 2212.76 408.797 L2212.76 391.436 Z\" fill=\"#000000\" fill-rule=\"evenodd\" fill-opacity=\"1\" /><polyline clip-path=\"url(#clip840)\" style=\"stroke:#ac8d18; stroke-width:4; stroke-opacity:1; fill:none\" points=\"\n",
       "  1830.44,469.196 1971.02,469.196 \n",
       "  \"/>\n",
       "<path clip-path=\"url(#clip840)\" d=\"M 0 0 M2006.35 463.536 Q2002.92 463.536 2000.93 466.221 Q1998.94 468.883 1998.94 473.536 Q1998.94 478.189 2000.91 480.874 Q2002.9 483.536 2006.35 483.536 Q2009.75 483.536 2011.74 480.851 Q2013.73 478.166 2013.73 473.536 Q2013.73 468.93 2011.74 466.244 Q2009.75 463.536 2006.35 463.536 M2006.35 459.925 Q2011.9 459.925 2015.08 463.536 Q2018.25 467.147 2018.25 473.536 Q2018.25 479.902 2015.08 483.536 Q2011.9 487.147 2006.35 487.147 Q2000.77 487.147 1997.6 483.536 Q1994.45 479.902 1994.45 473.536 Q1994.45 467.147 1997.6 463.536 Q2000.77 459.925 2006.35 459.925 Z\" fill=\"#000000\" fill-rule=\"evenodd\" fill-opacity=\"1\" /><path clip-path=\"url(#clip840)\" d=\"M 0 0 M2042.9 465.527 Q2044.5 462.656 2046.72 461.291 Q2048.94 459.925 2051.95 459.925 Q2056 459.925 2058.2 462.772 Q2060.4 465.596 2060.4 470.828 L2060.4 486.476 L2056.12 486.476 L2056.12 470.967 Q2056.12 467.24 2054.8 465.434 Q2053.48 463.629 2050.77 463.629 Q2047.46 463.629 2045.54 465.828 Q2043.62 468.027 2043.62 471.823 L2043.62 486.476 L2039.34 486.476 L2039.34 470.967 Q2039.34 467.217 2038.02 465.434 Q2036.7 463.629 2033.94 463.629 Q2030.68 463.629 2028.76 465.851 Q2026.84 468.05 2026.84 471.823 L2026.84 486.476 L2022.55 486.476 L2022.55 460.55 L2026.84 460.55 L2026.84 464.578 Q2028.29 462.193 2030.33 461.059 Q2032.37 459.925 2035.17 459.925 Q2037.99 459.925 2039.96 461.36 Q2041.95 462.795 2042.9 465.527 Z\" fill=\"#000000\" fill-rule=\"evenodd\" fill-opacity=\"1\" /><path clip-path=\"url(#clip840)\" d=\"M 0 0 M2087.04 472.448 L2087.04 474.531 L2067.46 474.531 Q2067.74 478.929 2070.1 481.244 Q2072.48 483.536 2076.72 483.536 Q2079.17 483.536 2081.46 482.934 Q2083.78 482.332 2086.05 481.129 L2086.05 485.156 Q2083.76 486.128 2081.35 486.638 Q2078.94 487.147 2076.46 487.147 Q2070.26 487.147 2066.63 483.536 Q2063.02 479.925 2063.02 473.767 Q2063.02 467.402 2066.44 463.675 Q2069.89 459.925 2075.72 459.925 Q2080.96 459.925 2083.99 463.305 Q2087.04 466.661 2087.04 472.448 M2082.78 471.198 Q2082.74 467.703 2080.82 465.619 Q2078.92 463.536 2075.77 463.536 Q2072.21 463.536 2070.05 465.55 Q2067.92 467.564 2067.6 471.221 L2082.78 471.198 Z\" fill=\"#000000\" fill-rule=\"evenodd\" fill-opacity=\"1\" /><path clip-path=\"url(#clip840)\" d=\"M 0 0 M2108.57 473.212 Q2108.57 468.582 2106.65 466.036 Q2104.75 463.49 2101.3 463.49 Q2097.88 463.49 2095.96 466.036 Q2094.06 468.582 2094.06 473.212 Q2094.06 477.818 2095.96 480.365 Q2097.88 482.911 2101.3 482.911 Q2104.75 482.911 2106.65 480.365 Q2108.57 477.818 2108.57 473.212 M2112.83 483.258 Q2112.83 489.878 2109.89 493.096 Q2106.95 496.337 2100.89 496.337 Q2098.64 496.337 2096.65 495.99 Q2094.66 495.665 2092.78 494.971 L2092.78 490.828 Q2094.66 491.846 2096.49 492.332 Q2098.32 492.818 2100.21 492.818 Q2104.4 492.818 2106.49 490.619 Q2108.57 488.443 2108.57 484.022 L2108.57 481.916 Q2107.25 484.207 2105.19 485.341 Q2103.13 486.476 2100.26 486.476 Q2095.49 486.476 2092.58 482.841 Q2089.66 479.207 2089.66 473.212 Q2089.66 467.193 2092.58 463.559 Q2095.49 459.925 2100.26 459.925 Q2103.13 459.925 2105.19 461.059 Q2107.25 462.193 2108.57 464.485 L2108.57 460.55 L2112.83 460.55 L2112.83 483.258 Z\" fill=\"#000000\" fill-rule=\"evenodd\" fill-opacity=\"1\" /><path clip-path=\"url(#clip840)\" d=\"M 0 0 M2129.08 473.443 Q2123.92 473.443 2121.93 474.624 Q2119.94 475.804 2119.94 478.652 Q2119.94 480.92 2121.42 482.263 Q2122.92 483.582 2125.49 483.582 Q2129.03 483.582 2131.16 481.082 Q2133.32 478.559 2133.32 474.392 L2133.32 473.443 L2129.08 473.443 M2137.58 471.684 L2137.58 486.476 L2133.32 486.476 L2133.32 482.541 Q2131.86 484.902 2129.68 486.036 Q2127.51 487.147 2124.36 487.147 Q2120.38 487.147 2118.02 484.925 Q2115.68 482.679 2115.68 478.929 Q2115.68 474.554 2118.59 472.332 Q2121.53 470.11 2127.34 470.11 L2133.32 470.11 L2133.32 469.693 Q2133.32 466.754 2131.37 465.156 Q2129.45 463.536 2125.96 463.536 Q2123.73 463.536 2121.63 464.068 Q2119.52 464.601 2117.58 465.666 L2117.58 461.73 Q2119.91 460.828 2122.11 460.388 Q2124.31 459.925 2126.39 459.925 Q2132.02 459.925 2134.8 462.842 Q2137.58 465.758 2137.58 471.684 Z\" fill=\"#000000\" fill-rule=\"evenodd\" fill-opacity=\"1\" /><path clip-path=\"url(#clip840)\" d=\"M 0 0 M2142.6 464.948 L2172.27 464.948 L2172.27 468.837 L2142.6 468.837 L2142.6 464.948 M2142.6 474.392 L2172.27 474.392 L2172.27 478.328 L2142.6 478.328 L2142.6 474.392 Z\" fill=\"#000000\" fill-rule=\"evenodd\" fill-opacity=\"1\" /><path clip-path=\"url(#clip840)\" d=\"M 0 0 M2191.51 467.842 Q2194.87 468.559 2196.74 470.828 Q2198.64 473.096 2198.64 476.429 Q2198.64 481.545 2195.12 484.346 Q2191.6 487.147 2185.12 487.147 Q2182.95 487.147 2180.63 486.707 Q2178.34 486.291 2175.89 485.434 L2175.89 480.92 Q2177.83 482.054 2180.14 482.633 Q2182.46 483.212 2184.98 483.212 Q2189.38 483.212 2191.67 481.476 Q2193.99 479.74 2193.99 476.429 Q2193.99 473.374 2191.83 471.661 Q2189.7 469.925 2185.89 469.925 L2181.86 469.925 L2181.86 466.082 L2186.07 466.082 Q2189.52 466.082 2191.35 464.717 Q2193.18 463.328 2193.18 460.735 Q2193.18 458.073 2191.28 456.661 Q2189.4 455.226 2185.89 455.226 Q2183.96 455.226 2181.76 455.643 Q2179.57 456.059 2176.93 456.939 L2176.93 452.772 Q2179.59 452.031 2181.9 451.661 Q2184.24 451.291 2186.3 451.291 Q2191.63 451.291 2194.73 453.721 Q2197.83 456.129 2197.83 460.249 Q2197.83 463.119 2196.19 465.11 Q2194.54 467.078 2191.51 467.842 Z\" fill=\"#000000\" fill-rule=\"evenodd\" fill-opacity=\"1\" /><path clip-path=\"url(#clip840)\" d=\"M 0 0 M2203.71 480.596 L2208.59 480.596 L2208.59 486.476 L2203.71 486.476 L2203.71 480.596 Z\" fill=\"#000000\" fill-rule=\"evenodd\" fill-opacity=\"1\" /><path clip-path=\"url(#clip840)\" d=\"M 0 0 M2223.66 454.994 Q2220.05 454.994 2218.22 458.559 Q2216.42 462.101 2216.42 469.23 Q2216.42 476.337 2218.22 479.902 Q2220.05 483.443 2223.66 483.443 Q2227.3 483.443 2229.1 479.902 Q2230.93 476.337 2230.93 469.23 Q2230.93 462.101 2229.1 458.559 Q2227.3 454.994 2223.66 454.994 M2223.66 451.291 Q2229.47 451.291 2232.53 455.897 Q2235.61 460.48 2235.61 469.23 Q2235.61 477.957 2232.53 482.564 Q2229.47 487.147 2223.66 487.147 Q2217.85 487.147 2214.77 482.564 Q2211.72 477.957 2211.72 469.23 Q2211.72 460.48 2214.77 455.897 Q2217.85 451.291 2223.66 451.291 Z\" fill=\"#000000\" fill-rule=\"evenodd\" fill-opacity=\"1\" /></svg>\n"
      ]
     },
     "execution_count": 163,
     "metadata": {},
     "output_type": "execute_result"
    }
   ],
   "source": [
    "plot(title=\"Sistema con diferentes valores para omega usando Euler Mejorado\",xlabel=\"t\",ylabel=\"x(t)\")\n",
    "tiempo = collect(0:0.01:2π)\n",
    "omegas = collect(1:0.5:3) #tomamos solamente 5 valores de ω\n",
    "for ω in omegas\n",
    "    solucion = Euler_mejorado_J(EDO2,[0,1],tiempo,EDO2_J,ω)\n",
    "    plot!(tiempo,solucion[:,1],label =\"omega=$(ω)\", lw=1.0)\n",
    "end\n",
    "plot!()"
   ]
  },
  {
   "cell_type": "code",
   "execution_count": 168,
   "metadata": {},
   "outputs": [
    {
     "data": {
      "text/plain": [
       "RK_2_1 (generic function with 1 method)"
      ]
     },
     "execution_count": 168,
     "metadata": {},
     "output_type": "execute_result"
    }
   ],
   "source": [
    "function RK_2_1(edo,x_ini,t,ω)\n",
    "    sol = zeros( length(t) , length(x_ini) )\n",
    "    sol[1,:] .= x_ini\n",
    "    δ = t[2]-t[1]\n",
    "    for i in 1:length(t)-1\n",
    "        k1 = sol[i,:] .+ 0.5*δ .*edo(sol[i,:],t[i],ω) #solo agregamos un param para que no haya problemas de matcheo\n",
    "        sol[i+1,:] .= sol[i,:] .+ δ*edo(k1,t[i]+0.5*δ,ω)\n",
    "    end\n",
    "    return sol\n",
    "end"
   ]
  },
  {
   "cell_type": "code",
   "execution_count": 175,
   "metadata": {},
   "outputs": [
    {
     "ename": "LoadError",
     "evalue": "DimensionMismatch(\"arrays could not be broadcast to a common size; got a dimension with lengths 2 and 3\")",
     "output_type": "error",
     "traceback": [
      "DimensionMismatch(\"arrays could not be broadcast to a common size; got a dimension with lengths 2 and 3\")",
      "",
      "Stacktrace:",
      " [1] _bcs1 at .\\broadcast.jl:501 [inlined]",
      " [2] _bcs at .\\broadcast.jl:495 [inlined]",
      " [3] broadcast_shape at .\\broadcast.jl:489 [inlined]",
      " [4] combine_axes at .\\broadcast.jl:484 [inlined]",
      " [5] instantiate at .\\broadcast.jl:266 [inlined]",
      " [6] materialize at .\\broadcast.jl:837 [inlined]",
      " [7] RK_2_1(::typeof(EDO2), ::Array{Float64,1}, ::Array{Float64,1}, ::Float64) at .\\In[168]:6",
      " [8] top-level scope at .\\In[175]:5",
      " [9] include_string(::Function, ::Module, ::String, ::String) at .\\loading.jl:1091"
     ]
    }
   ],
   "source": [
    "plot(title=\"Sistema con diferentes valores para omega usando Euler Mejorado\",xlabel=\"t\",ylabel=\"x(t)\")\n",
    "tiempo = collect(0:0.01:2π)\n",
    "omegas = collect(1:0.5:3) #tomamos solamente 5 valores de ω\n",
    "for ω in omegas\n",
    "    solucion = RK_2_1(EDO2,[0.0,1.0],tiempo,ω)\n",
    "    plot!(tiempo,solucion[:,1],label =\"omega=$(ω)\", lw=1.0)\n",
    "end\n",
    "plot!()"
   ]
  },
  {
   "cell_type": "code",
   "execution_count": 134,
   "metadata": {},
   "outputs": [
    {
     "data": {
      "text/plain": [
       "RK_4_1 (generic function with 1 method)"
      ]
     },
     "execution_count": 134,
     "metadata": {},
     "output_type": "execute_result"
    }
   ],
   "source": [
    "function RK_4_1(edo,x_ini,t,ω)\n",
    "    sol = zeros( length(t) , length(x_ini) )\n",
    "    sol[1,:] .= x_ini\n",
    "    δ = t[2]-t[1]\n",
    "    for i in 1:length(t)-1\n",
    "        k1 = edo(sol[i,:],t[i],ω)\n",
    "        k2 = edo(sol[i,:] .+ 0.5*δ.*k1 , t[i] + 0.5*δ,ω)\n",
    "        k3 = edo(sol[i,:] .+ 0.5*δ.*k2 , t[i] + 0.5*δ,ω)\n",
    "        k4 = edo(sol[i,:] .+ δ.*k2 , t[i] + δ,ω)\n",
    "        sol[i+1,:] .= sol[i,:] .+ (δ/6.0).*(k1 .+ 2.0.*k2 .+ 2.0.*k3 .+ k4)\n",
    "    end\n",
    "    return sol\n",
    "end"
   ]
  },
  {
   "cell_type": "markdown",
   "metadata": {},
   "source": [
    "Entonces resolvamos el sistema con las condiciones dadas y para diversas omegas, para ello, encontremos el espacio en nuestra malla para que nos de un error menor a 10^{-5}"
   ]
  }
 ],
 "metadata": {
  "kernelspec": {
   "display_name": "Julia 1.5.1",
   "language": "julia",
   "name": "julia-1.5"
  },
  "language_info": {
   "file_extension": ".jl",
   "mimetype": "application/julia",
   "name": "julia",
   "version": "1.5.1"
  }
 },
 "nbformat": 4,
 "nbformat_minor": 4
}
