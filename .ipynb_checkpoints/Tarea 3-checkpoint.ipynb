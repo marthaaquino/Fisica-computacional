{
 "cells": [
  {
   "cell_type": "code",
   "execution_count": null,
   "metadata": {},
   "outputs": [],
   "source": [
    "using Plots\n",
    "using LaTeXStrings"
   ]
  },
  {
   "cell_type": "markdown",
   "metadata": {},
   "source": [
    "# TAREA 3\n",
    "\n",
    "# FÍSICA COMPUTACIONAL\n",
    "\n",
    "## Aquino Chapa Martha Abril\n",
    "\n",
    "Hecho en Julia 🔴🟢🟣"
   ]
  },
  {
   "cell_type": "markdown",
   "metadata": {},
   "source": [
    "#### 1.- En clase vimos el método de Euler mejorado en el que nosotros introducimos el Jacobiano de forma analítica para ser evaluado por el método de integración. Realice una función que implemente el mismo método de integración, pero en lugar de calcular el Jacobiano con una función que lo evalúa analíticamente, ahora sea calculado de manera numérica utilizando la derivación numérica."
   ]
  },
  {
   "cell_type": "markdown",
   "metadata": {},
   "source": [
    "Iniciemos obteniendo la función que nos de el jacobiano. Para ello, tomemos en cuenta que la deerivada parcial de una función será aumentando en la variable respecto a la cual derivaremos, el aumento:\n",
    "$$\\frac{\\partial f(\\vec{x}_0)}{\\partial x_i}=\\frac{f(\\vec{x}_0+h\\vec{e_i})-f(f(\\vec{x}_0-h\\vec{e_i})}{2h}$$"
   ]
  },
  {
   "cell_type": "markdown",
   "metadata": {},
   "source": [
    "Y debido a que en el jacobiano requiremos la derivada parcial de la j-ésima entrada del jacobiano, a partir de lo anterior esta estará dada por:\n",
    "$$\\frac{\\partial f(\\vec{x}_0)_j}{\\partial x_i}=\\frac{f(\\vec{x}_0+h\\vec{e_i})_j-f(f(\\vec{x}_0-h\\vec{e_i})_j}{2h}$$\n",
    "Dicho lo anterior, definamos la función que nos de la matriz jacobiana."
   ]
  },
  {
   "cell_type": "code",
   "execution_count": 4,
   "metadata": {},
   "outputs": [
    {
     "data": {
      "text/plain": [
       "jacobianotemp (generic function with 1 method)"
      ]
     },
     "execution_count": 4,
     "metadata": {},
     "output_type": "execute_result"
    }
   ],
   "source": [
    "#jacobiano autónomo \n",
    "#la entrada xi consiste en las variables espaciales del problema, donde obtendremos las parciales\n",
    "#h el paso para la obtención de las derivadas parciales\n",
    "#func es la función a la cual sacaremos el jacobiano\n",
    "#t el tiempo donde evaluaremos la parcial temporal\n",
    "function jacobianotemp(xi,h,func,t)\n",
    "    #Definimos las entradas de la matriz\n",
    "    jac=zeros(length(func(xi,t)),length(xi)+1)\n",
    "    #hacemos un ciclo donde iremos llenando las entradas de nuestra matriz.\n",
    "    for i in 1:length(func(xi,t)), j in 1:length(xi)\n",
    "        #Definiremlos los vetores xp1 y xp2, como los vectores que tiene un aumento o desaumento en la i-ésima entrda.\n",
    "        xp1=zeros(length(xi))\n",
    "        xp2=zeros(length(xi))\n",
    "        #Creamos un ciclo con el cual definiremos las entradas de los vectores donde evaluaremos la función para obtener la derivada parcial\n",
    "        for k in 1:length(xi)\n",
    "            #Aqui sólo agregamos el incremento a la j-ésima entrada del vector\n",
    "            if  k==j \n",
    "                xp1[k]=xi[j]+h\n",
    "                xp2[k]=xi[j]-h\n",
    "            else\n",
    "                #Dejamos todas las demás entradas igual\n",
    "                xp1[k]=xi[j]\n",
    "                xp2[k]=xi[j]\n",
    "            end\n",
    "        end\n",
    "        #Definimos la entrada ij de la matriz jacobiana, sin tomar en cuenta la entrada de la parcial temporal\n",
    "        jac[i,j]=(func(xp1,t)[i]-func(xp2,t)[i])/(xp1[j]-xp2[j])\n",
    "        #definimos las componentes de la columna de la parcial temporal\n",
    "        jac[i,length(xi)+1]=(func(xi,t+h)[i]-func(xi,t-h)[i])/(2h)\n",
    "    end\n",
    "    return jac\n",
    "end"
   ]
  },
  {
   "cell_type": "markdown",
   "metadata": {},
   "source": [
    "Ahora modifiquemos la función Euler_mejorado_J_t que hace uso del jacobiano con dependencia temporal para anexarle el Jacobiano analítico."
   ]
  },
  {
   "cell_type": "code",
   "execution_count": 5,
   "metadata": {},
   "outputs": [
    {
     "data": {
      "text/plain": [
       "Euler_mejorado_Jnum (generic function with 1 method)"
      ]
     },
     "execution_count": 5,
     "metadata": {},
     "output_type": "execute_result"
    }
   ],
   "source": [
    "#Debemos nuestra funcion euler mejorado consistirá de la función que nos da la ecuación diferencia (edo)\n",
    "#La función edo_1, que es la función, con un elemento 1 en la última entrada, ejemplo [x,y,z,1]\n",
    "#p_ini las condiciones iniciales de la posición\n",
    "#t el tiempo\n",
    "function Euler_mejorado_Jnum(edo,edo_1,p_ini,t)\n",
    "    # J y g con dependencia temporal.\n",
    "    sol = zeros(length(t),length(p_ini))\n",
    "    sol[1,:] = p_ini\n",
    "    δ = t[2]-t[1]\n",
    "    for i in 1:(length(t)-1)\n",
    "        eval_edo = edo(sol[i,:],t[i])\n",
    "        #definimos g* que es la función por la que multiplicaremos el jacobiano\n",
    "        g=edo_1(sol[i,:],t[i])\n",
    "        if length(eval_edo) == length(p_ini)\n",
    "            sol[i+1,:] .= sol[i,:] .+ δ .*eval_edo\n",
    "        else\n",
    "            sol[i+1,:] .= sol[i,:] .+ δ .*eval_edo[1:(end-1)]\n",
    "        end\n",
    "        #cambiamos jacob por nuestra función del jacobiano que obtuvimos\n",
    "        sol[i+1,:] .+= 0.5*(δ^2) .*(jacobianotemp(sol[i,:],δ,edo,t[i]) *g )\n",
    "    end\n",
    "    return sol\n",
    "end"
   ]
  },
  {
   "cell_type": "markdown",
   "metadata": {},
   "source": [
    "Probemos que nuestra función sirve tomando el sistema de ecuaciones diferenciales del ejercicio 2 (se puede analizar con más detenimiento la obteniención del sistema de ecuaciones en la sección del ejercicio 2).\n",
    "Iniciamos definiendo la función que nos de el sistema de ecuaciones diferenciales:"
   ]
  },
  {
   "cell_type": "code",
   "execution_count": 6,
   "metadata": {},
   "outputs": [
    {
     "data": {
      "text/plain": [
       "sistema1_t (generic function with 1 method)"
      ]
     },
     "execution_count": 6,
     "metadata": {},
     "output_type": "execute_result"
    }
   ],
   "source": [
    "function sistema1_t(xyz,t)\n",
    "    # xyz = [x1, x2, x3]\n",
    "    dx = xyz[2]\n",
    "    dy = xyz[3]\n",
    "    dz = -xyz[3]*xyz[3] + 3*xyz[2]*xyz[2]*xyz[2] - cos(xyz[1])*cos(xyz[1]) + exp(-1*t)*sin(3*t)\n",
    "    return [dx,dy,dz]\n",
    "end"
   ]
  },
  {
   "cell_type": "markdown",
   "metadata": {},
   "source": [
    "Definimos una función auxilia que sea similar a la función anterior pero expandida, con una segunda entrada unitaria, que es la que nos dará g*."
   ]
  },
  {
   "cell_type": "code",
   "execution_count": 7,
   "metadata": {},
   "outputs": [
    {
     "data": {
      "text/plain": [
       "sistema1_ta (generic function with 1 method)"
      ]
     },
     "execution_count": 7,
     "metadata": {},
     "output_type": "execute_result"
    }
   ],
   "source": [
    "function sistema1_ta(xyz,t)\n",
    "    # xyz = [x1, x2, x3]\n",
    "    dx = xyz[2]\n",
    "    dy = xyz[3]\n",
    "    dz = -xyz[3]*xyz[3] + 3*xyz[2]*xyz[2]*xyz[2] - cos(xyz[1])*cos(xyz[1]) + exp(-1*t)*sin(3*t)\n",
    "    return [dx,dy,dz,1.0]\n",
    "end"
   ]
  },
  {
   "cell_type": "code",
   "execution_count": 8,
   "metadata": {},
   "outputs": [
    {
     "data": {
      "text/plain": [
       "6×3 Array{Float64,2}:\n",
       " 1.0      2.0       1.0\n",
       " 1.205    2.2138    3.23192\n",
       " 1.44254  2.64661   5.43167\n",
       " 1.73436  3.31959   8.33056\n",
       " 2.10797  4.35329  13.1254\n",
       " 2.60893  6.03956  21.9648"
      ]
     },
     "execution_count": 8,
     "metadata": {},
     "output_type": "execute_result"
    }
   ],
   "source": [
    "#Definimos el tiempo donde evaluaremos:\n",
    "tiempo = collect(1:0.1:1.5)\n",
    "solucion = Euler_mejorado_Jnum(sistema1_t,sistema1_ta,[1.0,2.0,1.0],tiempo)"
   ]
  },
  {
   "cell_type": "markdown",
   "metadata": {},
   "source": [
    "Apreciamos que funciona la función y no modifica las condiciones iniciales."
   ]
  },
  {
   "cell_type": "markdown",
   "metadata": {},
   "source": [
    "### 2.- Utilizando los integradores de Euler mejorado con Jacobiano analítico, Euler mejorado con Jacobiano numérico, Runge-Kutta de $2^{\\circ}$ orden y Runge-Kutta de $4^{\\circ}$ orden, encuentre un paso de integración que proporcione una precisión de $10^{−4}$ en la solución para la siguiente ecuación:\n",
    "\n",
    "$$\n",
    "\\dddot{y} + \\ddot{y}^2 - 3\\dot{y}^3 + \\cos^2{y} = e^{-t}\\sin{3t}\n",
    "$$\n",
    "\n",
    "##### Con condiciones iniciales $\\ddot{y}(1)=1$, $\\dot{y}(1)=2$, $y(1)=1$. En particular, ¿qué sucede en en $t\\in[1,2]$ y $t\\in[1,2.1]$?"
   ]
  },
  {
   "cell_type": "markdown",
   "metadata": {},
   "source": [
    "Extraemos las funciones vistas en clase, iniciamos en el Euler_mejorado con dependencia temporal: "
   ]
  },
  {
   "cell_type": "code",
   "execution_count": 9,
   "metadata": {},
   "outputs": [
    {
     "data": {
      "text/plain": [
       "Euler_mejorado_J_t (generic function with 1 method)"
      ]
     },
     "execution_count": 9,
     "metadata": {},
     "output_type": "execute_result"
    }
   ],
   "source": [
    "function Euler_mejorado_J_t(edo,p_ini,t,jacob)\n",
    "    # J y g con dependencia temporal.\n",
    "    sol = zeros(length(t),length(p_ini))\n",
    "    sol[1,:] = p_ini\n",
    "    δ = t[2]-t[1]\n",
    "    for i in 1:(length(t)-1)\n",
    "        eval_edo = edo(sol[i,:],t[i])\n",
    "        if length(eval_edo) == length(p_ini)\n",
    "            sol[i+1,:] .= sol[i,:] .+ δ .*eval_edo\n",
    "        else\n",
    "            sol[i+1,:] .= sol[i,:] .+ δ .*eval_edo[1:(end-1)]\n",
    "        end\n",
    "        sol[i+1,:] .+= 0.5*(δ^2) .*(jacob(sol[i,:],t[i]) *eval_edo )\n",
    "    end\n",
    "    return sol\n",
    "end"
   ]
  },
  {
   "cell_type": "markdown",
   "metadata": {},
   "source": [
    "Runge-Kutta de 2do orden: "
   ]
  },
  {
   "cell_type": "code",
   "execution_count": 10,
   "metadata": {},
   "outputs": [
    {
     "data": {
      "text/plain": [
       "RK_2 (generic function with 1 method)"
      ]
     },
     "execution_count": 10,
     "metadata": {},
     "output_type": "execute_result"
    }
   ],
   "source": [
    "function RK_2(edo,x_ini,t)\n",
    "    sol = zeros( length(t) , length(x_ini) )\n",
    "    sol[1,:] .= x_ini\n",
    "    δ = t[2]-t[1]\n",
    "    for i in 1:length(t)-1\n",
    "        k1 = sol[i,:] .+ 0.5*δ .*edo(sol[i,:],t[i])\n",
    "        sol[i+1,:] .= sol[i,:] .+ δ*edo(k1,t[i]+0.5*δ)\n",
    "    end\n",
    "    return sol\n",
    "end"
   ]
  },
  {
   "cell_type": "markdown",
   "metadata": {},
   "source": [
    "Runge-Kutta de 4to orden:"
   ]
  },
  {
   "cell_type": "code",
   "execution_count": 11,
   "metadata": {},
   "outputs": [
    {
     "data": {
      "text/plain": [
       "RK_4 (generic function with 1 method)"
      ]
     },
     "execution_count": 11,
     "metadata": {},
     "output_type": "execute_result"
    }
   ],
   "source": [
    "function RK_4(edo,x_ini,t)\n",
    "    sol = zeros( length(t) , length(x_ini) )\n",
    "    sol[1,:] .= x_ini\n",
    "    δ = t[2]-t[1]\n",
    "    for i in 1:length(t)-1\n",
    "        k1 = edo(sol[i,:],t[i])\n",
    "        k2 = edo(sol[i,:] .+ 0.5*δ.*k1 , t[i] + 0.5*δ)\n",
    "        k3 = edo(sol[i,:] .+ 0.5*δ.*k2 , t[i] + 0.5*δ)\n",
    "        k4 = edo(sol[i,:] .+ δ.*k2 , t[i] + δ)\n",
    "        sol[i+1,:] .= sol[i,:] .+ (δ/6.0).*(k1 .+ 2.0.*k2 .+ 2.0.*k3 .+ k4)\n",
    "    end\n",
    "    return sol\n",
    "end"
   ]
  },
  {
   "cell_type": "markdown",
   "metadata": {},
   "source": [
    "Ahora definimos las funciones de las ecuaciones diferenciales. Para ello notemos que podemos reescribir la ecuación diferencial como un sistema de ecuaciones diferenciales:\n",
    "\n",
    "$$\n",
    "x_1=y\\\\\n",
    "\\dot{x}_1 = x_2\\\\\n",
    "\\dot{x}_2 = x_3\\\\\n",
    "\\dot{x}_3 = -x_3^2 + 3x_2^3 - \\cos^2{(x_1)} + e^{-t}\\sin{(3t)}\n",
    "$$\n",
    "\n",
    "Y cuyas condiciones iniciales son: $x_1(1)=1$, $x_2(1)=2$ y $x_3(1)=1$. Las cuales, podemos escribir en una función de la siguiente manera:"
   ]
  },
  {
   "cell_type": "markdown",
   "metadata": {},
   "source": [
    "Notemos entonces que el jacobiano del sistema es:\n",
    "$$J^{*}=\\begin{pmatrix}\n",
    "0 & 1 & 0&0\\\\\n",
    "0 & 0 & 1&0\\\\\n",
    "2\\sin(x_1)\\cos(x_1) & 9x_2^{2} & -2x_3&3e^{-t}\\cos(3t)-e^{-t}\\sin(3t)\n",
    "\\end{pmatrix}$$"
   ]
  },
  {
   "cell_type": "markdown",
   "metadata": {},
   "source": [
    "Definimos la función que nos de la ecuación diferencial:"
   ]
  },
  {
   "cell_type": "code",
   "execution_count": 13,
   "metadata": {},
   "outputs": [
    {
     "data": {
      "text/plain": [
       "EDO1 (generic function with 1 method)"
      ]
     },
     "execution_count": 13,
     "metadata": {},
     "output_type": "execute_result"
    }
   ],
   "source": [
    "function EDO1(vec,t)\n",
    "    # vec = [x1, x2, x3]\n",
    "    dx1 = vec[2]\n",
    "    dx2 = vec[3]\n",
    "    dx3 = -vec[3]*vec[3] + 3*vec[2]*vec[2]*vec[2] - cos(vec[1])*cos(vec[1]) + exp(-t)*sin(3*t)\n",
    "    return [dx1,dx2,dx3]\n",
    "end"
   ]
  },
  {
   "cell_type": "markdown",
   "metadata": {},
   "source": [
    "Definimos la función para la ecuación diferencial, aumentandole 1 en la última entrada."
   ]
  },
  {
   "cell_type": "code",
   "execution_count": 12,
   "metadata": {},
   "outputs": [
    {
     "data": {
      "text/plain": [
       "EDO1a (generic function with 1 method)"
      ]
     },
     "execution_count": 12,
     "metadata": {},
     "output_type": "execute_result"
    }
   ],
   "source": [
    "function EDO1a(vec,t)\n",
    "    # vec = [x1, x2, x3]\n",
    "    dx1 = vec[2]\n",
    "    dx2 = vec[3]\n",
    "    dx3 = -vec[3]*vec[3] + 3*vec[2]*vec[2]*vec[2] - cos(vec[1])*cos(vec[1]) + exp(-t)*sin(3*t)\n",
    "    return [dx1,dx2,dx3,1.0]\n",
    "end"
   ]
  },
  {
   "cell_type": "markdown",
   "metadata": {},
   "source": [
    "Y ahora definimos su Jacobiano analítico"
   ]
  },
  {
   "cell_type": "code",
   "execution_count": null,
   "metadata": {},
   "outputs": [],
   "source": [
    "function EDO1_J(vec,t)\n",
    "    # vec = [x1, x2, x3]\n",
    "    J = zeros(3,4)\n",
    "    J[1,2] = 1.0\n",
    "    J[2,3] = 1.0\n",
    "    J[3,1] = 2*cos(vec[1])*sin(vec[1])\n",
    "    J[3,2] = 9*vec[2]*vec[2]\n",
    "    J[3,3] = -2*vec[3]\n",
    "    J[3,4] = 3*exp(-1*t)*cos(3*t)-exp(-1*t)*sin(3*t)\n",
    "    return J\n",
    "end"
   ]
  },
  {
   "cell_type": "markdown",
   "metadata": {},
   "source": [
    "Ahora resolvamos esta ecuación diferencial con los diversos métodos en t=[1,2], para obtener un error de menos de 10^{-4}"
   ]
  },
  {
   "cell_type": "code",
   "execution_count": null,
   "metadata": {},
   "outputs": [],
   "source": []
  },
  {
   "cell_type": "markdown",
   "metadata": {},
   "source": [
    "#### 3.- Modifique las funciones integradoras que programamos en clase (Euler mejorado, Runge-Kutta de $2^{\\circ}$ orden y Runge-Kutta de $4^{\\circ}$ orden) para que se puedan pasar argumentos opcionales al sistema de ecuaciones diferenciales de tal manera que se puedan modificar parámetros al momento de hacer la integración. Una vez hecho esto, obtenga la solución de la siguiente ecuación diferencial\n",
    "\n",
    "$$\n",
    "\\ddot{x} + \\frac{1}{10}\\dot{x}+4\\sin{x} = \\frac{1}{2}\\sin{(\\omega t)}\n",
    "$$\n",
    "\n",
    "#### Con condiciones iniciales $\\dot{x}(0)=1$ y $x(0)=1$ y para $\\omega\\in\\{1,1.1,1.2,1.3,...,2.9,3\\}$. Realice la gráfica de algunas soluciones que representen el comportamiento de la solución en función de $\\omega$ y explique su resultado. La solución debe tener una precisión de por lo menos $10^{−5}$."
   ]
  },
  {
   "cell_type": "markdown",
   "metadata": {},
   "source": [
    "Notemos que podemos escribir la ecuación diferencial como un sistema de ecuaciones diferenciales donde:\n",
    "$$\n",
    "x=x_1\\\\\n",
    "\\dot{x}_1 = x_2\\\\\n",
    "\\dot{x}_2 = -\\frac{1}{10}x_2 - 4\\sin{(x_1)} + \\frac{1}{2}\\sin{(\\omega t)}\n",
    "$$\n",
    "Ahora escribamos este sistema como una función en Julia y su jacobiano de manera analítica."
   ]
  },
  {
   "cell_type": "code",
   "execution_count": null,
   "metadata": {},
   "outputs": [],
   "source": [
    "function EDO2(vec,t,ω)\n",
    "    # vec = [x1, x2]\n",
    "    dx1 = vec[2]\n",
    "    dx2 = -vec[2]/10 - 4*sin(vec[1]) + 0.5*sin(ω*t)\n",
    "    return [dx1,dx2,1.0]\n",
    "end"
   ]
  },
  {
   "cell_type": "markdown",
   "metadata": {},
   "source": [
    "Ahora el jacobiano analítico:"
   ]
  },
  {
   "cell_type": "code",
   "execution_count": null,
   "metadata": {},
   "outputs": [],
   "source": [
    "function EDO2_J(vec,t,ω)\n",
    "    # param = [ omega ]\n",
    "    # vec = [x1, x2]\n",
    "    #ω = param\n",
    "    J = zeros(length(vec),length(vec)+1)\n",
    "    J[1,2] = 1.0\n",
    "    J[2,1] = -4*cos(vec[1])\n",
    "    J[2,2] = -1/10\n",
    "    J[2,3] = 0.5*ω*cos(ω*t)\n",
    "    return J\n",
    "end"
   ]
  },
  {
   "cell_type": "markdown",
   "metadata": {},
   "source": [
    "Ahora modifiquemos las funciones de Euler mejorado:"
   ]
  },
  {
   "cell_type": "code",
   "execution_count": null,
   "metadata": {},
   "outputs": [],
   "source": [
    "function Euler_mejorado_omega(edo,p_ini,t,jacob,ω)\n",
    "    # J y g con dependencia temporal y de parametros externos\n",
    "    sol = zeros(length(t),length(p_ini))\n",
    "    sol[1,:] = p_ini\n",
    "    δ = t[2]-t[1]\n",
    "    for i in 1:(length(t)-1)\n",
    "        eval_edo = edo(sol[i,:],t[i],ω)\n",
    "        if length(eval_edo) == length(p_ini)\n",
    "            sol[i+1,:] .= sol[i,:] .+ δ .*eval_edo\n",
    "        else\n",
    "            sol[i+1,:] .= sol[i,:] .+ δ .*eval_edo[1:(end-1)]\n",
    "        end\n",
    "        sol[i+1,:] .+= 0.5*(δ^2) .*(jacob(sol[i,:],t[i],ω) *eval_edo )\n",
    "    end\n",
    "    return sol\n",
    "end"
   ]
  },
  {
   "cell_type": "markdown",
   "metadata": {},
   "source": [
    "Definimos la ecuación diferencia para los métodos de Runge-Kutta."
   ]
  },
  {
   "cell_type": "code",
   "execution_count": null,
   "metadata": {},
   "outputs": [],
   "source": [
    "function EDO2_1(vec,t,ω)\n",
    "    # vec = [x1, x2]\n",
    "    dx1 = vec[2]\n",
    "    dx2 = -vec[2]/10 - 4*sin(vec[1]) + 0.5*sin(ω*t)\n",
    "    return [dx1,dx2]#,1.0]\n",
    "end"
   ]
  },
  {
   "cell_type": "markdown",
   "metadata": {},
   "source": [
    "Modificamos la función de Runge-Kutta de 2do orden:"
   ]
  },
  {
   "cell_type": "code",
   "execution_count": null,
   "metadata": {},
   "outputs": [],
   "source": [
    "function RK_2_1(edo,x_ini,t,ω)\n",
    "    sol = zeros( length(t) , length(x_ini) )\n",
    "    sol[1,:] .= x_ini\n",
    "    δ = t[2]-t[1]\n",
    "    for i in 1:length(t)-1\n",
    "        k1 = sol[i,:] .+ 0.5*δ .*edo(sol[i,:],t[i],ω) #solo agregamos un param para que no haya problemas de matcheo\n",
    "        sol[i+1,:] .= sol[i,:] .+ δ*edo(k1,t[i]+0.5*δ,ω)\n",
    "    end\n",
    "    return sol\n",
    "end"
   ]
  },
  {
   "cell_type": "markdown",
   "metadata": {},
   "source": [
    "Modificamos la función de Runge-Kutta de 4to orden:"
   ]
  },
  {
   "cell_type": "code",
   "execution_count": null,
   "metadata": {},
   "outputs": [],
   "source": [
    "function RK_4_1(edo,x_ini,t,ω)\n",
    "    sol = zeros( length(t) , length(x_ini) )\n",
    "    sol[1,:] .= x_ini\n",
    "    δ = t[2]-t[1]\n",
    "    for i in 1:length(t)-1\n",
    "        k1 = edo(sol[i,:],t[i],ω)\n",
    "        k2 = edo(sol[i,:] .+ 0.5*δ.*k1 , t[i] + 0.5*δ,ω)\n",
    "        k3 = edo(sol[i,:] .+ 0.5*δ.*k2 , t[i] + 0.5*δ,ω)\n",
    "        k4 = edo(sol[i,:] .+ δ.*k2 , t[i] + δ,ω)\n",
    "        sol[i+1,:] .= sol[i,:] .+ (δ/6.0).*(k1 .+ 2.0.*k2 .+ 2.0.*k3 .+ k4)\n",
    "    end\n",
    "    return sol\n",
    "end"
   ]
  },
  {
   "cell_type": "code",
   "execution_count": null,
   "metadata": {},
   "outputs": [],
   "source": [
    "plot(title=\"Sistema con diferentes valores para omega usando Euler Mejorado\",xlabel=\"t\",ylabel=\"x(t)\")\n",
    "tiempo = collect(0:0.01:70π)\n",
    "omegas = collect(1:0.5:3) #tomamos solamente 5 valores de ω\n",
    "for ω in omegas\n",
    "    solucion = RK_4_1(EDO2_1,[1.0,0.0],tiempo,ω)\n",
    "    plot!(tiempo,solucion[:,1],label =\"omega=$(ω)\", lw=1.0)\n",
    "end\n",
    "plot!()"
   ]
  },
  {
   "cell_type": "markdown",
   "metadata": {},
   "source": [
    "Ya que probamos nuestras funciones, entonces resolvamos el sistema con las condiciones dadas y para diversas omegas, para ello, encontremos el espacio en nuestra malla para que nos de un error menor a 10^{-5}"
   ]
  },
  {
   "cell_type": "markdown",
   "metadata": {},
   "source": [
    "####  4.- Considere el siguiente sistema de ecuaciones diferenciales\n",
    "\n",
    "$$\n",
    "\\frac{dx}{dt} = 10(y-x)\\\\\n",
    "\\frac{dy}{dt} = x(28-z) - y\\\\\n",
    "\\frac{dz}{dt} = xy - \\frac{8}{3}z\n",
    "$$\n",
    "\n",
    "#### Realice una integración numérica del sistema de ecuaciones con el método de Runge-Kutta de $4^{\\circ}$ y realice los siguientes ejercicios:\n",
    "#### (a)  Elija una condición inicial aleatoria en el $x,y,z\\in[-5,5]$ y realice la gráfica de la solución en el plano $xy$, $xz$ y $yz$, comente sus observaciones. \n",
    "\n",
    "#### (b) Ahora tome 3 soluciones parecidas. Para ello proponga 3 condiciones iniciales tales que en la coordenada en $y$ las condiciones iniciales difieran entre si en $10^{−2}$.\n",
    "\n",
    "#### Nota: De preferencia realice integraciones con tiempos relativamente largos en los que pueda apreciar diferencias en el comportamiento de las soluciones. Además asegure que cada una de las soluciones que encuentre sea convergente en por lo menos 5 cifras ($10^{-5}$), es decir encuentre un paso adecuado para realizar la integración."
   ]
  },
  {
   "cell_type": "markdown",
   "metadata": {},
   "source": [
    "Escribamos la función que nos de el sistema de ecuaciones:"
   ]
  },
  {
   "cell_type": "code",
   "execution_count": null,
   "metadata": {},
   "outputs": [],
   "source": [
    "function EDO3(vec,t)\n",
    "    # vec = [x1, x2, x3]\n",
    "    dx = 10*vec[2] - 10*vec[1]\n",
    "    dy = 28*vec[1] - vec[1]*vec[3] - vec[2]\n",
    "    dz = vec[1]*vec[2] - 8*vec[3]/3\n",
    "    return [dx,dy,dz]\n",
    "end"
   ]
  },
  {
   "cell_type": "markdown",
   "metadata": {},
   "source": [
    "Para escojer nuestras condiciones iniciales tomemos 5 y un valor aleatorio entre 0 y 1."
   ]
  },
  {
   "cell_type": "code",
   "execution_count": null,
   "metadata": {},
   "outputs": [],
   "source": [
    "vec0=[5rand(),-5rand(),5rand()]"
   ]
  },
  {
   "cell_type": "markdown",
   "metadata": {},
   "source": [
    "Veamos cual es el valor del paso para tener la condición de la convergencia pedida."
   ]
  },
  {
   "cell_type": "code",
   "execution_count": null,
   "metadata": {},
   "outputs": [],
   "source": [
    "function convergencia(h)\n",
    "    tiempo = collect(0:h:13π)\n",
    "    sol1=RK_4(EDO3,vec0,tiempo) #introducimos las condiciones iniciales aleatorias\n",
    "    sol2=RK_2(EDO3,vec0,tiempo)\n",
    "    #error en x\n",
    "    m=length(tiempo)\n",
    "    ex=collect(zeros(length(m)))\n",
    "    ey=collect(zeros(length(sol1[:,2])))\n",
    "    ez=collect(zeros(length(sol1[:,3])))\n",
    "    for i in 1:length(sol1[:,1])\n",
    "        ex[i]= (abs(sol1[i,1]-sol2[i,1]))\n",
    "        ey[i]= (abs(sol1[i,2]-sol2[i,2]))\n",
    "        ez[i]= (abs(sol1[i,3]-sol2[i,3]))\n",
    "    end\n",
    "    m1=max(ex)\n",
    "    m2=max(ey)\n",
    "    m3=max(ez)\n",
    "    return maximum(m1,m2,m3)\n",
    "    \n",
    "end"
   ]
  },
  {
   "cell_type": "code",
   "execution_count": null,
   "metadata": {},
   "outputs": [],
   "source": [
    "convergencia(10)"
   ]
  },
  {
   "cell_type": "markdown",
   "metadata": {},
   "source": [
    "Realicemos la gráfica de la solución en el plano xy:"
   ]
  },
  {
   "cell_type": "code",
   "execution_count": null,
   "metadata": {},
   "outputs": [],
   "source": [
    "tiempo = collect(0:0.01:13π)\n",
    "solucion4 = RK_4(EDO3,vec0,tiempo) #introducimos las condiciones iniciales aleatorias\n",
    "plot(title=\"Espacio Fase en el plano xy\",xlabel=\"x(t)\",ylabel=\"y(t)\")\n",
    "plot!(solucion4[:,1],solucion4[:,2])\n",
    "plot!(legend=false)"
   ]
  },
  {
   "cell_type": "markdown",
   "metadata": {},
   "source": [
    "Para el plano xz:"
   ]
  },
  {
   "cell_type": "code",
   "execution_count": null,
   "metadata": {},
   "outputs": [],
   "source": [
    "plot(title=\"Espacio Fase en el plano xz\",xlabel=\"x(t)\",ylabel=\"z(t)\")\n",
    "plot!(solucion4[:,1],solucion4[:,3])\n",
    "plot!(legend=false)"
   ]
  },
  {
   "cell_type": "markdown",
   "metadata": {},
   "source": [
    "En el plano yx:"
   ]
  },
  {
   "cell_type": "code",
   "execution_count": null,
   "metadata": {},
   "outputs": [],
   "source": [
    "plot(title=\"Espacio Fase en el plano yz\",xlabel=\"y(t)\",ylabel=\"z(t)\")\n",
    "plot!(solucion4[:,2],solucion4[:,3])\n",
    "plot!(legend=false)"
   ]
  },
  {
   "cell_type": "markdown",
   "metadata": {},
   "source": [
    "Observaciones:"
   ]
  },
  {
   "cell_type": "markdown",
   "metadata": {},
   "source": [
    "b) Iniciamos escogiendo nuestras soluciones en función de las condiciones inciales pasadas."
   ]
  },
  {
   "cell_type": "code",
   "execution_count": null,
   "metadata": {},
   "outputs": [],
   "source": [
    "vec0_1=[vec0[1]+0.1,vec0[2]+0.001,vec0[3]-0.1]\n",
    "tiempo = collect(0:0.01:13π)\n",
    "solucion4_1 = RK_4(EDO3,vec0_1,tiempo)"
   ]
  },
  {
   "cell_type": "markdown",
   "metadata": {},
   "source": [
    "Obtengamos los espacio fase para la solución con la segunda solución:"
   ]
  },
  {
   "cell_type": "code",
   "execution_count": null,
   "metadata": {},
   "outputs": [],
   "source": [
    "plot(title=\"Espacio Fase en el plano xy\",xlabel=\"x(t)\",ylabel=\"z(t)\")\n",
    "plot!(solucion4_1[:,1],solucion4_1[:,2])\n",
    "plot!(legend=false)"
   ]
  },
  {
   "cell_type": "code",
   "execution_count": null,
   "metadata": {},
   "outputs": [],
   "source": [
    "plot(title=\"Espacio Fase en el plano xz\",xlabel=\"x(t)\",ylabel=\"z(t)\")\n",
    "plot!(solucion4_1[:,1],solucion4_1[:,3])\n",
    "plot!(legend=false)"
   ]
  },
  {
   "cell_type": "code",
   "execution_count": null,
   "metadata": {},
   "outputs": [],
   "source": [
    "plot(title=\"Espacio Fase en el plano yz\",xlabel=\"x(t)\",ylabel=\"z(t)\")\n",
    "plot!(solucion4_1[:,2],solucion4_1[:,3])\n",
    "plot!(legend=false)"
   ]
  },
  {
   "cell_type": "markdown",
   "metadata": {},
   "source": [
    "Chequemos la precisión de nuestros calculos obteniendo la diferencia entre la solución dada por el código Rugen-Kutta de orden 2 con el de 4to orden."
   ]
  },
  {
   "cell_type": "code",
   "execution_count": null,
   "metadata": {},
   "outputs": [],
   "source": [
    "presicion(0.1)"
   ]
  }
 ],
 "metadata": {
  "kernelspec": {
   "display_name": "Julia 1.5.1",
   "language": "julia",
   "name": "julia-1.5"
  },
  "language_info": {
   "file_extension": ".jl",
   "mimetype": "application/julia",
   "name": "julia",
   "version": "1.5.1"
  }
 },
 "nbformat": 4,
 "nbformat_minor": 4
}
