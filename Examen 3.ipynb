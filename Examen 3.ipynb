{
 "cells": [
  {
   "cell_type": "code",
   "execution_count": 1,
   "metadata": {},
   "outputs": [],
   "source": [
    "using Plots\n",
    "using LaTeXStrings\n",
    "using PyPlot\n",
    "using LinearAlgebra\n",
    "using DataFrames"
   ]
  },
  {
   "cell_type": "markdown",
   "metadata": {},
   "source": [
    "# Tarea - examen 3\n",
    "## Física Computacional\n",
    "### Aquino Chapa Martha Abril\n",
    "Hecho en Julia 🔴🟢🟣"
   ]
  },
  {
   "cell_type": "markdown",
   "metadata": {},
   "source": [
    "## Problema 1. \n",
    "####  Encuentra la solución numérica para la ecuación diferencial $∇^{2}\\phi=0$ en dos dimensiones con condiciones a la frontera $\\phi(0, y) = \\phi(x, 0) = \\phi(1, y) = \\phi(x, 1) = 0$ y $\\phi = 1$ para todos los puntos x, y en dos círculos de radio 1/4 con centros en (0.4, 0.5) y (0.6, 0.5).\n",
    "#### Dibuje las líneas de campo vectorial que se generan de obtener $-\\nabla\\phi$."
   ]
  },
  {
   "cell_type": "markdown",
   "metadata": {},
   "source": [
    "Iniciamos definiendo la malla con la que trabajaremos, la cual debe cumplir con las condiciones a la frontera dadas."
   ]
  },
  {
   "cell_type": "code",
   "execution_count": null,
   "metadata": {},
   "outputs": [],
   "source": [
    "function Malla_circ2(x,y,r,V_0=1.0)\n",
    "    #Definimos el arreglo donde anexaremos el valor de cada potencial\n",
    "    Mat=zeros(length(x),length(y))\n",
    "    #Realizamos dos ciclos para llenar las entradas del arreglo Mat\n",
    "    for i in 2:length(y)-1\n",
    "        for j in 2:length(x)-1\n",
    "            #Si elemento x[j],y[i] está en la frontera, le pedimos a la función que la entrada de la matriz sea la condición a la frontera\n",
    "            if sqrt((x[j]-0.4)^2+(y[i]-0.5)^2 )<=r || sqrt((x[j]-0.6)^2+(y[i]-0.5)^2 )<=r\n",
    "                Mat[i,j]=V_0\n",
    "            else\n",
    "            #Si el elemento de la malla no está en la frontera le pedimos que llene el correspondiente arreglo de la Matriz con un número aleatorio\n",
    "                Mat[i,j] = rand()\n",
    "            end\n",
    "        end\n",
    "    end\n",
    "    #Le pedimos a la función que nos regrese la matriz Mat\n",
    "    return Mat\n",
    "end "
   ]
  },
  {
   "cell_type": "markdown",
   "metadata": {},
   "source": [
    "Probamos nuestra malla para corroborar que cumpla con las condiciones de frontera impuestas."
   ]
  },
  {
   "cell_type": "code",
   "execution_count": null,
   "metadata": {},
   "outputs": [],
   "source": [
    "#Definimos las x's y y's de nuestro espacio\n",
    "x_prueba=collect(0:0.01:1)\n",
    "y_prueba=collect(0:0.01:1)\n",
    "#Aplicamos la x y y a la malla\n",
    "malla_prueba=Malla_circ2(x_prueba,y_prueba,0.25)\n",
    "#Presentamos los valores de la malla como una distribución de potenciales.\n",
    "heatmap(x_prueba,y_prueba,malla_prueba)"
   ]
  },
  {
   "cell_type": "markdown",
   "metadata": {},
   "source": [
    "Notamos que se cumplen las condiciones a la frontera, es decir, tener $\\phi=1$ en todos los puntos dentro de los dos círculos."
   ]
  },
  {
   "cell_type": "markdown",
   "metadata": {},
   "source": [
    "Así que definimos la función que nos permite resolver la ecuación diferencial. Para ello, recordemos que a partir de una discretización es posible encontrar la solución a la ecuación:\n",
    "$$\\nabla^{2}\\phi=0, $$\n",
    "con el método de Jacobi o de relajación que consiste en iterar el promedio de los puntos vecinos de un elemento hasta que converja la solción, la cual está dada por la siguiente expresión\n",
    "$$\\phi_{ij}={\\frac{1}{4}}\\left(\\phi_{i+1,j}+\\phi_{i-1,j}+\\phi_{i,j+1}+\\phi_{i,j-1} \\right). $$\n",
    "Con ello, definimos la siguiente función que implementa el método de relajación."
   ]
  },
  {
   "cell_type": "code",
   "execution_count": null,
   "metadata": {},
   "outputs": [],
   "source": [
    "function relax(Mat,V_0=1.0)\n",
    "    #Aplicaremos el método sólo en los puntos interiores puesto que es ahí donde se encuentra bien definido\n",
    "    #Definimos los elementos x y y que consisten en las filas y columnas de la matriz para determinar la longitud\n",
    "    #de nuestra malla\n",
    "    y=Mat[:,1]\n",
    "    x=Mat[1,:]\n",
    "    for i in 2:length(y)-1\n",
    "        for j in 2:length(x)-1\n",
    "            #Realizamos el método para el elemento i,j de nuestra malla\n",
    "            if Mat[i,j] !=V_0\n",
    "                Mat[i,j]=0.25(Mat[i+1,j]+Mat[i-1,j]+Mat[i,j+1]+Mat[i,j-1])\n",
    "            end\n",
    "        end\n",
    "    end\n",
    "    #regresamos nuestra malla a la cual ya se le aplico el método de relajación.\n",
    "    return Mat\n",
    "end"
   ]
  },
  {
   "cell_type": "markdown",
   "metadata": {},
   "source": [
    "Sin embargo, en la función anterior no se definió en ningún momento la convergencia de la solución. \n",
    "Para esto, definimos la siguiente función que aplicará múltiples veces el método de relajación hasta que la convergencia de la solución sea menor al error pedido."
   ]
  },
  {
   "cell_type": "code",
   "execution_count": null,
   "metadata": {},
   "outputs": [],
   "source": [
    "function met_jacobi(Mat,error=1e-5)\n",
    "    #Definimos dos elementos, la cuenta que nos marcará las repeticiones del método y el testigo que avalará que la condición de error se cumple\n",
    "    testigo,cuenta=true,0\n",
    "    #Abrimos un ciclo el cual se cumplirá hasta que el testigo no corroboré que se cumplió la condición de convergencia\n",
    "    while testigo==true\n",
    "        #Se realiza una copia de la malla para poder comparar la nueva solución con la solución anterior y de esa manera\n",
    "        # determinar cuando se cumple la convergencia\n",
    "        Mat_old=copy(Mat)\n",
    "        #Aplicamos el método de relación\n",
    "        Mat=relax(Mat)\n",
    "        #Sumamos a la cuenta una aplicación del método de relación en cada ciclo\n",
    "        cuenta+= 1\n",
    "        #Anexamos un condicional el cual, si la diferencia entre la malla a la cual se le aplico el método de relación y la\n",
    "        #anterior, es menor al error, el testigo cambiará a falso y se concluirá con la aplicación del ciclo while\n",
    "        if maximum(abs.(Mat .- Mat_old))<=error\n",
    "            testigo=false\n",
    "        end\n",
    "    end\n",
    "    #Al concluir con la convergencia le pedimos a la función que regrese la malla y el número de veces que se aplico el \n",
    "    #método de relación\n",
    "    return Mat,cuenta\n",
    "end"
   ]
  },
  {
   "cell_type": "markdown",
   "metadata": {},
   "source": [
    "Ya que poseemos las herramientas para resolver la ecuación diferencial, aplicaremos *met\\_jacobi* a la malla que definimos en un principio."
   ]
  },
  {
   "cell_type": "code",
   "execution_count": null,
   "metadata": {
    "scrolled": true
   },
   "outputs": [],
   "source": [
    "#Definimos el espacio en x\n",
    "x1=collect(0:0.01:1)\n",
    "#Definimos el espacio en y\n",
    "y1=collect(0:0.01:1)\n",
    "# Con x, y  y el radio de la circunferencias definimos nuestra malla inicial\n",
    "ϕ=Malla_circ2(x1,y1,0.25)\n",
    "#Aplicamos el método de jacobi a la malla\n",
    "ϕ,num=met_jacobi(ϕ)\n",
    "#Le pedimos al programa que nos grafique la distribución del potencial\n",
    "plot!(title=\"φ[V]\",xlabel=\"x\",ylabel=\"y\")\n",
    "heatmap!(x1,y1,ϕ)"
   ]
  },
  {
   "cell_type": "markdown",
   "metadata": {},
   "source": [
    "Obteniendo las equipotenciales del potencial obtenido."
   ]
  },
  {
   "cell_type": "code",
   "execution_count": null,
   "metadata": {},
   "outputs": [],
   "source": [
    "plot!(title=\"Equipotenciales\",xlabel=\"x\",ylabel=\"y\")\n",
    "contourf!(x1,y1,ϕ)"
   ]
  },
  {
   "cell_type": "markdown",
   "metadata": {},
   "source": [
    "Para obtener el campo es necesario definir una función que nos regrese el gradiente, debido a que estamos haciendo uso de coordenadas cartesianas y de dos variables, se restringirá a esas variables la función."
   ]
  },
  {
   "cell_type": "code",
   "execution_count": null,
   "metadata": {},
   "outputs": [],
   "source": [
    "## Definimos una función que nos regrese la parte x del gradiente\n",
    "function gradiente(x,y,ϕ)\n",
    "    #Definimos la distancia entre puntos en la malla en el eje x\n",
    "    hx=x[2]-x[1]\n",
    "    #Definimos la distancia entre puntos en la malla en el eje y\n",
    "    hy=y[2]-y[1]\n",
    "    #Definimos nuestros arreglos donde anexaremos la primera y la segunda componente del gradiente\n",
    "    gradx=zeros(length(x),length(y))\n",
    "    grady=zeros(length(x),length(y))\n",
    "    #Realizamos un ciclo que corra dentro de los elementos anteriores para obtener las derivadas parciales en cartesianas\n",
    "    for i in 2:length(y)-1\n",
    "        for j in 2:length(x)-1\n",
    "            #Definimos la i,j entrada del vector gradiente en x\n",
    "            gradx[i,j]=(ϕ[i,j+1]-ϕ[i,j-1])/hx\n",
    "            #Definimos la i,j entrada del vector gradiente en y\n",
    "            grady[i,j]=(ϕ[i+1,j]-ϕ[i-1,j])/hy\n",
    "        end\n",
    "    end\n",
    "    #Regresamos el gradiente\n",
    "    return gradx,grady\n",
    "end"
   ]
  },
  {
   "cell_type": "markdown",
   "metadata": {},
   "source": [
    "Con ello gráficamos el campo."
   ]
  },
  {
   "cell_type": "code",
   "execution_count": null,
   "metadata": {},
   "outputs": [],
   "source": [
    "E_x,E_y=-1 .*gradiente_x(x1,y1,ϕ)\n",
    "streamplot(x1,y1,E_x,E_y)"
   ]
  },
  {
   "cell_type": "markdown",
   "metadata": {},
   "source": [
    "## Problema 2. \n",
    "#### Encuentre la solución a la ecuación de Fourier en 2D con condición a la frontera $\\phi(0, y) = \\phi(x, 0) = \\phi(1, y) = \\phi(x, 1) = 0$ y con condición inicial $\\phi(x, y, 0) = 0$ para todos los puntos afuera de los dos círculos de radio 1/4 con centros en (0.4, 0.5) y (0.6, 0.5), y $\\phi = 1$ para todos los puntos dentro del los dos círculos anteriores. \n",
    "#### Puede suponer que el coeficiente de difusión es 1."
   ]
  },
  {
   "cell_type": "markdown",
   "metadata": {},
   "source": [
    "En clase se vió le método de Crank-Nicholson, el cual se aplica en los puntos interiores de la malla con la que se trabaja.\n",
    "Iniciamos entonces definiendo la malla con la que trabajaremos, la cual debe de cumplir con las condiciones iniciales y de frontera."
   ]
  },
  {
   "cell_type": "code",
   "execution_count": null,
   "metadata": {},
   "outputs": [],
   "source": [
    "function Psi_ini_circ2(x,y)\n",
    "    Nx,Ny = length(x),length(y)\n",
    "    phi=zeros(Ny,Nx)\n",
    "    #cordenada y\n",
    "    for i in 2:Nx-1\n",
    "       for j in 2:Ny-1\n",
    "            #Si se cumple la condición de frontera y condición inicial\n",
    "            if sqrt(( x[i]-0.4 )^2+(y[j]-0.5)^2)<=(1/4) || sqrt(( x[i]-0.6 )^2+(y[j]-0.5)^2)<=(1/4)\n",
    "                #Pedimos que phi sea 1\n",
    "                phi[j,i]=1\n",
    "            end\n",
    "        end\n",
    "    end\n",
    "    return phi\n",
    "end"
   ]
  },
  {
   "cell_type": "markdown",
   "metadata": {},
   "source": [
    "Definimos las funciones que implemental el método de Crank-Nicholson."
   ]
  },
  {
   "cell_type": "code",
   "execution_count": null,
   "metadata": {},
   "outputs": [],
   "source": [
    "function Mat_evol_CN_2D(x,y,t,D=1.0)\n",
    "    Nx,Ny=length(x),length(y)\n",
    "    #Definimos los pasos de las entradas x,y y t\n",
    "    Δx,Δy,Δt=x[2]-x[1],y[2]-y[1],t[2]-t[1]\n",
    "    r = (D*Δt)/(2*Δx*Δy)\n",
    "    println(\"r = \",r)\n",
    "    #Definimos nuestras matrices\n",
    "    A=zeros( (Nx-2)*(Ny-2) ,(Nx-2)*(Ny-2) )\n",
    "    B=zeros( (Nx-2)*(Ny-2) ,(Nx-2)*(Ny-2) )\n",
    "    #Definimos los elementos de la diagonal de las matrices A y B\n",
    "    for i in 1:Nx-2\n",
    "       for j in 1:Ny-2\n",
    "            A[ (Ny-2)*(i-1)+j , (Ny-2)*(i-1)+j ]=1+4*r\n",
    "            \n",
    "            B[ (Ny-2)*(i-1)+j , (Ny-2)*(i-1)+j ]=1-4*r\n",
    "        end\n",
    "    end\n",
    "    #Definimos los elementos de la diagonal superior e inferior de las matrices A y B\n",
    "    for i in 1:Nx-2\n",
    "       for j in 1:Ny-3\n",
    "            A[ (Ny-2)*(i-1)+j , (Ny-2)*(i-1)+j+1 ]=-r\n",
    "            A[ (Ny-2)*(i-1)+j+1 , (Ny-2)*(i-1)+j ]=-r\n",
    "            \n",
    "            B[ (Ny-2)*(i-1)+j , (Ny-2)*(i-1)+j+1 ]=r\n",
    "            B[ (Ny-2)*(i-1)+j+1 , (Ny-2)*(i-1)+j ]=r\n",
    "        end\n",
    "    end\n",
    "\n",
    "    # Elementos diagonales de la diagonal superior e inferior\n",
    "    for i in 1:Nx-3\n",
    "       for j in 1:Ny-2\n",
    "            A[ (Ny-2)*(i-1)+j , (Ny-2)*(i)+j ]=-r\n",
    "            A[ (Ny-2)*(i)+j , (Ny-2)*(i-1)+j ]=-r\n",
    "            \n",
    "            B[ (Ny-2)*(i-1)+j , (Ny-2)*(i)+j ]=r\n",
    "            B[ (Ny-2)*(i)+j , (Ny-2)*(i-1)+j ]=r\n",
    "        end\n",
    "    end\n",
    "    A_inversa=inv(A)\n",
    "    Evol = A_inversa*B\n",
    "    return Evol\n",
    "end"
   ]
  },
  {
   "cell_type": "markdown",
   "metadata": {},
   "source": [
    "Programando el método de Crack-Nicholson"
   ]
  },
  {
   "cell_type": "code",
   "execution_count": null,
   "metadata": {},
   "outputs": [],
   "source": [
    "function Cranck_Nicholson_2D(Ψ₀,M_evo,t)\n",
    "   #Vamos a guardar las diagonales\n",
    "    Nx,Ny,Nt=length(Ψ₀[:,1]),length(Ψ₀[1,:]),length(t)\n",
    "    Ψ_xy_t=zeros(Nx,Ny,Nt) #Copiando Psi inicial a la solución final\n",
    "    Ψ_xy_t[:,:,1] = Ψ₀\n",
    "    Ψ_in_t = reshape( Ψ₀[2:end-1,2:end-1],((Nx-2)*(Ny-2),1))  \n",
    "    for i in 2:Nt\n",
    "       Ψ_in_t = M_evo*Ψ_in_t\n",
    "        Ψ_xy_t[2:end-1,2:end-1,i]=reshape(Ψ_in_t,(Nx-2,Ny-2))\n",
    "    end\n",
    "    return Ψ_xy_t\n",
    "end"
   ]
  },
  {
   "cell_type": "markdown",
   "metadata": {},
   "source": [
    "Definiendo la malla donde trabajaremos:"
   ]
  },
  {
   "cell_type": "code",
   "execution_count": null,
   "metadata": {},
   "outputs": [],
   "source": [
    "#Nuestra malla para el eje x\n",
    "x2=collect(0:0.01:1)\n",
    "#La malla para el eje y\n",
    "y2=collect(0:0.01:1)\n",
    "#El intervalo de tiempo donde trabajaremos\n",
    "t2=collect(0:0.0001:0.02)\n",
    "#La malla con la condicion inicial\n",
    "psi_mat2 = Psi_ini_circ2(x2,y2)\n",
    "#Presentamos la malla inicial como una distribución\n",
    "heatmap(x2,y2,psi_mat2)"
   ]
  },
  {
   "cell_type": "markdown",
   "metadata": {},
   "source": [
    "Vemos que cumple con las condiciones iniciales y de frontera, así, podemos inciar a aplicar el método de Crank-Nicholson."
   ]
  },
  {
   "cell_type": "code",
   "execution_count": null,
   "metadata": {},
   "outputs": [],
   "source": [
    "M_t2 = Mat_evol_CN_2D(x2,y2,t2);"
   ]
  },
  {
   "cell_type": "code",
   "execution_count": null,
   "metadata": {},
   "outputs": [],
   "source": [
    "#Obtemos la solución para diversos tiempos\n",
    "Psi_total3 = Cranck_Nicholson_2D(psi_mat2,M_t2,t2);"
   ]
  },
  {
   "cell_type": "markdown",
   "metadata": {},
   "source": [
    "Presentamos la distribución, que podemos tomar como una distribución de calor, a un tiempo t=200."
   ]
  },
  {
   "cell_type": "code",
   "execution_count": null,
   "metadata": {},
   "outputs": [],
   "source": [
    "heatmap(x2,y2,Psi_total3[:,:,200],clim=(0,1),aspect_ratio=:equal)"
   ]
  },
  {
   "cell_type": "markdown",
   "metadata": {},
   "source": [
    "Calculando las isotermas a un tiempo t=200"
   ]
  },
  {
   "cell_type": "code",
   "execution_count": null,
   "metadata": {},
   "outputs": [],
   "source": [
    "contourf!(x2,y2,Psi_total3[:,:,200],clim=(0,1),aspect_ratio=:equal)"
   ]
  },
  {
   "cell_type": "markdown",
   "metadata": {},
   "source": [
    "Mostramos el resultado con una pequeña animación que muestre la evolución del sistema, o difusión de calor."
   ]
  },
  {
   "cell_type": "code",
   "execution_count": null,
   "metadata": {},
   "outputs": [],
   "source": [
    "mi_peli=@animate for i =1:length(t2)\n",
    "    heatmap(x2,y2,Psi_total3[:,:,i],clim=(0,1),aspect_ratio=:equal)\n",
    "end\n",
    "gif(mi_peli,\"dos_circ_calor.gif\",fps=20)"
   ]
  },
  {
   "cell_type": "markdown",
   "metadata": {},
   "source": [
    "## Problema 3\n",
    "####  Encuentre los estados estacionarios de la ecuación de onda en 2D para una membrana rectangular $L_x = \\pi$, $L_y = 2\\pi$. Compare la solución numérica de los eigenvalores con la solución analítica. \n",
    "#### ¿Qué sucede con la solución si ahora $L_x = \\pi$, $L_y=\\sqrt{2\\pi}$?"
   ]
  },
  {
   "cell_type": "markdown",
   "metadata": {},
   "source": [
    "Iniciamos definiendo una función que resuelva para ecuación de onda en 2 dimensiones."
   ]
  },
  {
   "cell_type": "code",
   "execution_count": 2,
   "metadata": {},
   "outputs": [
    {
     "data": {
      "text/plain": [
       "Mat_onda_2D (generic function with 1 method)"
      ]
     },
     "execution_count": 2,
     "metadata": {},
     "output_type": "execute_result"
    }
   ],
   "source": [
    "function Mat_onda_2D(x,y)\n",
    "   #Puntos interiores \n",
    "    Nx,Ny=length(x),length(y)\n",
    "    A=zeros(Nx*Ny,Nx*Ny)\n",
    "    #para la diagonal\n",
    "    for i in 1:Nx\n",
    "       for j in 1:Ny\n",
    "            A[Ny*(i-1)+j,Ny*(i-1)+j]=-4\n",
    "        end\n",
    "    end\n",
    "    #para la diagonal principal\n",
    "    #Diagonal superior e inferior del bloque principal\n",
    "    for i in 1:Nx\n",
    "       for j in 1:Ny-1\n",
    "            A[Ny*(i-1)+j,Ny*(i-1)+j+1]=1\n",
    "            A[Ny*(i-1)+j+1,Ny*(i-1)+j]=1\n",
    "        end\n",
    "    end\n",
    "    #\n",
    "    for i in 1:Nx-1\n",
    "       for j in 1:Ny\n",
    "            A[Ny*(i-1)+j,Ny*(i)+j]=1\n",
    "            A[Ny*(i)+j,Ny*(i-1)+j]=1\n",
    "        end\n",
    "    end\n",
    "    \n",
    "    return A\n",
    "end"
   ]
  },
  {
   "cell_type": "markdown",
   "metadata": {},
   "source": [
    "Obteniendo los eigenvalores del sistema."
   ]
  },
  {
   "cell_type": "code",
   "execution_count": null,
   "metadata": {},
   "outputs": [],
   "source": [
    "#Definimos puntos en x de la malla de la membrana\n",
    "x=collect(0:0.04:pi)\n",
    "#Puntos en y de la membrana\n",
    "y=collect(0:0.04:(2*pi))\n",
    "#Debido a que estamos tomando una distancia entre puntos en x y y igual, la distancia entre ellos es\n",
    "h=x[2]-x[1]\n",
    "#Definimos la matriz a la cual sacaremos los eigenvalores p\n",
    "M=Mat_onda_2D(x[2:end-1],y[2:end-1])\n",
    "#Obtenemos los eigenvalores de la matriz\n",
    "vals = eigvals(M)\n",
    "#Obtenemos los nodos de vibración pedidos y los acomodamos de menor a mayor\n",
    "valores=sort(sqrt.(-vals)/(h))"
   ]
  },
  {
   "cell_type": "markdown",
   "metadata": {},
   "source": [
    "Los eigenvalores del problema de una membrana, de manera analítica, están dados por:\n",
    "$$\\lambda_{nm}=c\\pi\\sqrt{{\\frac{m^2}{a^2}}+{\\frac{n^2}{b^2}}} $$"
   ]
  },
  {
   "cell_type": "markdown",
   "metadata": {},
   "source": [
    "Donde *n* y *m* son enteros y *a* y *b* corresponden a las longitudes del ancho y largo de la membrana. Entonces definamos algunos eigenvalores y comparemoslos con los obtenidos de manera númerica."
   ]
  },
  {
   "cell_type": "code",
   "execution_count": null,
   "metadata": {},
   "outputs": [],
   "source": [
    "#Definimos las n's y m's que debem ser enteros\n",
    "n=collect(1:1:3)\n",
    "m=collect(1:1:3)\n",
    "#El ancho y largo de la membrana\n",
    "a=π\n",
    "b=2π\n",
    "#La función que nos de el eigenvalor correspondiente a n y m\n",
    "f(n,m)=π*sqrt.(m^2/a^2+n^2/b^2)\n",
    "#Definimos un arreglo vacío al cual iremos anexando los eigenvalores\n",
    "λ=[]\n",
    "#Realizamos un ciclo para obtener los eigenvalores para cada n y m\n",
    "for i in n\n",
    "    for j in m\n",
    "       push!(λ,f(i,j))\n",
    "    end\n",
    "end\n",
    "#Regresamos los eigenvalores obtenidos y los ordenamos de menor a  mayor\n",
    "return sort(λ)"
   ]
  },
  {
   "cell_type": "markdown",
   "metadata": {},
   "source": [
    "Ahora, realicemos una comparación con los primeros eigenvalores obtenidos de manera númerica."
   ]
  },
  {
   "cell_type": "code",
   "execution_count": null,
   "metadata": {},
   "outputs": [],
   "source": [
    "data=DataFrame(Analítico=sort(λ),Numérico=valores[1:length(λ)])"
   ]
  },
  {
   "cell_type": "markdown",
   "metadata": {},
   "source": [
    "Apreciamos que hasta el elemento 5, la diferencia entre el eigenvalor númerico, en comparación con el obtenido de manera analítica es menor a 0.02, el cual es un error que podríamos considerar pequeño.\n",
    "Sin embargo para valores más altos la diferencia crece de manera considerable, esto se debe a que estamos tomando valores de *n* y *m*, pequeños, conforme tomemos conjuntos más grandes, la diferencia será notable después de más puntos. Tomemos más valores de n y m para comprobar lo anterior."
   ]
  },
  {
   "cell_type": "code",
   "execution_count": null,
   "metadata": {},
   "outputs": [],
   "source": [
    "#Definimos las n's y m's que debem ser enteros\n",
    "n1=collect(1:1:10)\n",
    "m1=collect(1:1:10)\n",
    "#El ancho y largo de la membrana\n",
    "a=π\n",
    "b=2π\n",
    "#La función que nos de el eigenvalor correspondiente a n y m\n",
    "f(n,m)=π*sqrt.(m^2/a^2+n^2/b^2)\n",
    "#Definimos un arreglo vacío al cual iremos anexando los eigenvalores\n",
    "λ1=[]\n",
    "#Realizamos un ciclo para obtener los eigenvalores para cada n y m\n",
    "for i in n1\n",
    "    for j in m1\n",
    "       push!(λ1,f(i,j))\n",
    "    end\n",
    "end\n",
    "#Regresamos los eigenvalores obtenidos y los ordenamos de menor a  mayor\n",
    "return sort(λ1)\n",
    "data1=DataFrame(Analítico=sort(λ1),Numérico=valores[1:length(λ1)])"
   ]
  },
  {
   "cell_type": "markdown",
   "metadata": {},
   "source": [
    "En este caso, notamos que, almenos hasta el treintavo elemento, la diferencia entre eigenvalores puede seguir considerandose pequeña.\n",
    "\n",
    "Ahora veamos que pasa cuando las condiciones de longitud en la membrana cambian. Para ello realizaremos un proceso similar al anterior."
   ]
  },
  {
   "cell_type": "code",
   "execution_count": 3,
   "metadata": {},
   "outputs": [
    {
     "data": {
      "text/plain": [
       "8470-element Array{Float64,1}:\n",
       "  1.2305967607738395\n",
       "  1.7366104075384434\n",
       "  2.1340058421473715\n",
       "  2.3488064218590026\n",
       "  2.4607779774388803\n",
       "  2.925150278887474\n",
       "  3.0025976688311933\n",
       "  3.1007295076383197\n",
       "  3.334062206896571\n",
       "  3.472060671645796\n",
       "  3.6754750384566726\n",
       "  3.690128276803642\n",
       "  4.06801294307617\n",
       "  ⋮\n",
       " 70.61432541135511\n",
       " 70.61508962850411\n",
       " 70.62538350120563\n",
       " 70.63203259995088\n",
       " 70.64266045754842\n",
       " 70.64689948779824\n",
       " 70.6501485904026\n",
       " 70.66784680281208\n",
       " 70.67165703726393\n",
       " 70.67846927506052\n",
       " 70.68934986468956\n",
       " 70.69996910616236"
      ]
     },
     "execution_count": 3,
     "metadata": {},
     "output_type": "execute_result"
    }
   ],
   "source": [
    "#Definimos puntos en x de la malla de la membrana\n",
    "x_1=collect(0:0.04:pi)\n",
    "#Puntos en y de la membrana\n",
    "y_1=collect(0:0.04:(sqrt(2)*pi))\n",
    "#Debido a que estamos tomando una distancia entre puntos en x y y igual, la distancia entre ellos es\n",
    "h_1=x_1[2]-x_1[1]\n",
    "#Definimos la matriz a la cual sacaremos los eigenvalores p\n",
    "M_1=Mat_onda_2D(x_1[2:end-1],y_1[2:end-1])\n",
    "#Obtenemos los eigenvalores de la matriz\n",
    "vals_1 = eigvals(M_1)\n",
    "#Obtenemos los nodos de vibración pedidos y los acomodamos de menor a mayor\n",
    "valores_1=sort(sqrt.(-vals_1)/(h_1))"
   ]
  },
  {
   "cell_type": "markdown",
   "metadata": {},
   "source": [
    "Comparando con los eigenvalores analíticos."
   ]
  },
  {
   "cell_type": "code",
   "execution_count": 6,
   "metadata": {},
   "outputs": [
    {
     "data": {
      "text/html": [
       "<table class=\"data-frame\"><thead><tr><th></th><th>Analítico</th><th>Numérico</th></tr><tr><th></th><th>Any</th><th>Float64</th></tr></thead><tbody><p>100 rows × 2 columns</p><tr><th>1</th><td>1.22474</td><td>1.2306</td></tr><tr><th>2</th><td>1.73205</td><td>1.73661</td></tr><tr><th>3</th><td>2.12132</td><td>2.13401</td></tr><tr><th>4</th><td>2.34521</td><td>2.34881</td></tr><tr><th>5</th><td>2.44949</td><td>2.46078</td></tr><tr><th>6</th><td>2.91548</td><td>2.92515</td></tr><tr><th>7</th><td>3.0</td><td>3.0026</td></tr><tr><th>8</th><td>3.08221</td><td>3.10073</td></tr><tr><th>9</th><td>3.31662</td><td>3.33406</td></tr><tr><th>10</th><td>3.4641</td><td>3.47206</td></tr><tr><th>11</th><td>3.67423</td><td>3.67548</td></tr><tr><th>12</th><td>3.67423</td><td>3.69013</td></tr><tr><th>13</th><td>4.06202</td><td>4.06801</td></tr><tr><th>14</th><td>4.06202</td><td>4.08507</td></tr><tr><th>15</th><td>4.12311</td><td>4.13712</td></tr><tr><th>16</th><td>4.24264</td><td>4.26488</td></tr><tr><th>17</th><td>4.3589</td><td>4.3582</td></tr><tr><th>18</th><td>4.52769</td><td>4.54866</td></tr><tr><th>19</th><td>4.63681</td><td>4.64858</td></tr><tr><th>20</th><td>4.69042</td><td>4.69398</td></tr><tr><th>21</th><td>4.89898</td><td>4.91823</td></tr><tr><th>22</th><td>5.04975</td><td>5.04633</td></tr><tr><th>23</th><td>5.04975</td><td>5.07566</td></tr><tr><th>24</th><td>5.19615</td><td>5.20519</td></tr><tr><th>25</th><td>5.19615</td><td>5.22147</td></tr><tr><th>26</th><td>5.33854</td><td>5.33901</td></tr><tr><th>27</th><td>5.33854</td><td>5.35561</td></tr><tr><th>28</th><td>5.43139</td><td>5.45571</td></tr><tr><th>29</th><td>5.74456</td><td>5.73748</td></tr><tr><th>30</th><td>5.74456</td><td>5.76745</td></tr><tr><th>&vellip;</th><td>&vellip;</td><td>&vellip;</td></tr></tbody></table>"
      ],
      "text/latex": [
       "\\begin{tabular}{r|cc}\n",
       "\t& Analítico & Numérico\\\\\n",
       "\t\\hline\n",
       "\t& Any & Float64\\\\\n",
       "\t\\hline\n",
       "\t1 & 1.22474 & 1.2306 \\\\\n",
       "\t2 & 1.73205 & 1.73661 \\\\\n",
       "\t3 & 2.12132 & 2.13401 \\\\\n",
       "\t4 & 2.34521 & 2.34881 \\\\\n",
       "\t5 & 2.44949 & 2.46078 \\\\\n",
       "\t6 & 2.91548 & 2.92515 \\\\\n",
       "\t7 & 3.0 & 3.0026 \\\\\n",
       "\t8 & 3.08221 & 3.10073 \\\\\n",
       "\t9 & 3.31662 & 3.33406 \\\\\n",
       "\t10 & 3.4641 & 3.47206 \\\\\n",
       "\t11 & 3.67423 & 3.67548 \\\\\n",
       "\t12 & 3.67423 & 3.69013 \\\\\n",
       "\t13 & 4.06202 & 4.06801 \\\\\n",
       "\t14 & 4.06202 & 4.08507 \\\\\n",
       "\t15 & 4.12311 & 4.13712 \\\\\n",
       "\t16 & 4.24264 & 4.26488 \\\\\n",
       "\t17 & 4.3589 & 4.3582 \\\\\n",
       "\t18 & 4.52769 & 4.54866 \\\\\n",
       "\t19 & 4.63681 & 4.64858 \\\\\n",
       "\t20 & 4.69042 & 4.69398 \\\\\n",
       "\t21 & 4.89898 & 4.91823 \\\\\n",
       "\t22 & 5.04975 & 5.04633 \\\\\n",
       "\t23 & 5.04975 & 5.07566 \\\\\n",
       "\t24 & 5.19615 & 5.20519 \\\\\n",
       "\t25 & 5.19615 & 5.22147 \\\\\n",
       "\t26 & 5.33854 & 5.33901 \\\\\n",
       "\t27 & 5.33854 & 5.35561 \\\\\n",
       "\t28 & 5.43139 & 5.45571 \\\\\n",
       "\t29 & 5.74456 & 5.73748 \\\\\n",
       "\t30 & 5.74456 & 5.76745 \\\\\n",
       "\t$\\dots$ & $\\dots$ & $\\dots$ \\\\\n",
       "\\end{tabular}\n"
      ],
      "text/plain": [
       "100×2 DataFrame\n",
       "│ Row │ Analítico │ Numérico │\n",
       "│     │ \u001b[90mAny\u001b[39m       │ \u001b[90mFloat64\u001b[39m  │\n",
       "├─────┼───────────┼──────────┤\n",
       "│ 1   │ 1.22474   │ 1.2306   │\n",
       "│ 2   │ 1.73205   │ 1.73661  │\n",
       "│ 3   │ 2.12132   │ 2.13401  │\n",
       "│ 4   │ 2.34521   │ 2.34881  │\n",
       "│ 5   │ 2.44949   │ 2.46078  │\n",
       "│ 6   │ 2.91548   │ 2.92515  │\n",
       "│ 7   │ 3.0       │ 3.0026   │\n",
       "│ 8   │ 3.08221   │ 3.10073  │\n",
       "│ 9   │ 3.31662   │ 3.33406  │\n",
       "│ 10  │ 3.4641    │ 3.47206  │\n",
       "⋮\n",
       "│ 90  │ 10.3923   │ 9.44624  │\n",
       "│ 91  │ 10.6066   │ 9.47028  │\n",
       "│ 92  │ 10.6301   │ 9.6319   │\n",
       "│ 93  │ 10.6771   │ 9.68117  │\n",
       "│ 94  │ 10.8628   │ 9.80991  │\n",
       "│ 95  │ 11.0227   │ 9.81904  │\n",
       "│ 96  │ 11.158    │ 9.83183  │\n",
       "│ 97  │ 11.4455   │ 9.89262  │\n",
       "│ 98  │ 11.4891   │ 9.95409  │\n",
       "│ 99  │ 11.8533   │ 9.96041  │\n",
       "│ 100 │ 12.2474   │ 9.99233  │"
      ]
     },
     "execution_count": 6,
     "metadata": {},
     "output_type": "execute_result"
    }
   ],
   "source": [
    "#Definimos las n's y m's que debem ser enteros\n",
    "n1_1=collect(1:1:10)\n",
    "m1_1=collect(1:1:10)\n",
    "#El ancho y largo de la membrana\n",
    "a_1=π\n",
    "b_1=sqrt(2)*π\n",
    "#La función que nos de el eigenvalor correspondiente a n y m\n",
    "f_1(n,m)=π*sqrt.(m^2/a_1^2+n^2/b_1^2)\n",
    "#Definimos un arreglo vacío al cual iremos anexando los eigenvalores\n",
    "λ1_1=[]\n",
    "#Realizamos un ciclo para obtener los eigenvalores para cada n y m\n",
    "for i in n1_1\n",
    "    for j in m1_1\n",
    "       push!(λ1_1,f_1(i,j))\n",
    "    end\n",
    "end\n",
    "#Regresamos los eigenvalores obtenidos y los ordenamos de menor a  mayor\n",
    "return sort(λ1_1)\n",
    "data1_1=DataFrame(Analítico=sort(λ1_1),Numérico=valores_1[1:length(λ1_1)])"
   ]
  }
 ],
 "metadata": {
  "kernelspec": {
   "display_name": "Julia 1.5.1",
   "language": "julia",
   "name": "julia-1.5"
  },
  "language_info": {
   "file_extension": ".jl",
   "mimetype": "application/julia",
   "name": "julia",
   "version": "1.5.1"
  }
 },
 "nbformat": 4,
 "nbformat_minor": 4
}
