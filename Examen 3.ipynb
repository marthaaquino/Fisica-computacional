{
 "cells": [
  {
   "cell_type": "code",
   "execution_count": 22,
   "metadata": {},
   "outputs": [],
   "source": [
    "using Plots\n",
    "using LaTeXStrings\n",
    "using PyPlot\n",
    "using LinearAlgebra\n",
    "using DataFrames"
   ]
  },
  {
   "cell_type": "markdown",
   "metadata": {},
   "source": [
    "# Tarea - examen 3\n",
    "## Física Computacional\n",
    "### Aquino Chapa Martha Abril\n",
    "Hecho en Julia 🔴🟢🟣"
   ]
  },
  {
   "cell_type": "markdown",
   "metadata": {},
   "source": [
    "## Problema 1. \n",
    "####  Encuentra la solución numérica para la ecuación diferencial $∇^{2}\\phi=0$ en dos dimensiones con condiciones a la frontera $\\phi(0, y) = \\phi(x, 0) = \\phi(1, y) = \\phi(x, 1) = 0$ y $\\phi = 1$ para todos los puntos x, y en dos círculos de radio 1/4 con centros en (0.4, 0.5) y (0.6, 0.5).\n",
    "#### Dibuje las líneas de campo vectorial que se generan de obtener $-\\nabla\\phi$."
   ]
  },
  {
   "cell_type": "markdown",
   "metadata": {},
   "source": [
    "Iniciamos definiendo la malla con la que trabajaremos, la cual debe cumplir con las condiciones a la frontera dadas."
   ]
  },
  {
   "cell_type": "code",
   "execution_count": null,
   "metadata": {},
   "outputs": [],
   "source": [
    "function Malla_circ2(x,y,r,V_0=1.0)\n",
    "    #Definimos el arreglo donde anexaremos el valor de cada potencial\n",
    "    Mat=zeros(length(x),length(y))\n",
    "    #Realizamos dos ciclos para llenar las entradas del arreglo Mat\n",
    "    for i in 2:length(y)-1\n",
    "        for j in 2:length(x)-1\n",
    "            #Si elemento x[j],y[i] está en la frontera, le pedimos a la función que la entrada de la matriz sea la condición a la frontera\n",
    "            if sqrt((x[j]-0.4)^2+(y[i]-0.5)^2 )<=r || sqrt((x[j]-0.6)^2+(y[i]-0.5)^2 )<=r\n",
    "                Mat[i,j]=V_0\n",
    "            else\n",
    "            #Si el elemento de la malla no está en la frontera le pedimos que llene el correspondiente arreglo de la Matriz con un número aleatorio\n",
    "                Mat[i,j] = rand()\n",
    "            end\n",
    "        end\n",
    "    end\n",
    "    #Le pedimos a la función que nos regrese la matriz Mat\n",
    "    return Mat\n",
    "end "
   ]
  },
  {
   "cell_type": "markdown",
   "metadata": {},
   "source": [
    "Probamos nuestra malla para corroborar que cumpla con las condiciones de frontera impuestas."
   ]
  },
  {
   "cell_type": "code",
   "execution_count": null,
   "metadata": {},
   "outputs": [],
   "source": [
    "#Definimos las x's y y's de nuestro espacio\n",
    "x_prueba=collect(0:0.01:1)\n",
    "y_prueba=collect(0:0.01:1)\n",
    "#Aplicamos la x y y a la malla\n",
    "malla_prueba=Malla_circ2(x_prueba,y_prueba,0.25)\n",
    "#Presentamos los valores de la malla como una distribución de potenciales.\n",
    "heatmap(x_prueba,y_prueba,malla_prueba)"
   ]
  },
  {
   "cell_type": "markdown",
   "metadata": {},
   "source": [
    "Notamos que se cumplen las condiciones a la frontera, es decir, tener $\\phi=1$ en todos los puntos dentro de los dos círculos."
   ]
  },
  {
   "cell_type": "markdown",
   "metadata": {},
   "source": [
    "Así que definimos la función que nos permite resolver la ecuación diferencial. Para ello, recordemos que a partir de una discretización es posible encontrar la solución a la ecuación:\n",
    "$$\\nabla^{2}\\phi=0, $$\n",
    "con el método de Jacobi o de relajación que consiste en iterar el promedio de los puntos vecinos de un elemento hasta que converja la solción, la cual está dada por la siguiente expresión\n",
    "$$\\phi_{ij}={\\frac{1}{4}}\\left(\\phi_{i+1,j}+\\phi_{i-1,j}+\\phi_{i,j+1}+\\phi_{i,j-1} \\right). $$\n",
    "Con ello, definimos la siguiente función que implementa el método de relajación."
   ]
  },
  {
   "cell_type": "code",
   "execution_count": null,
   "metadata": {},
   "outputs": [],
   "source": [
    "function relax(Mat,V_0=1.0)\n",
    "    #Aplicaremos el método sólo en los puntos interiores puesto que es ahí donde se encuentra bien definido\n",
    "    #Definimos los elementos x y y que consisten en las filas y columnas de la matriz para determinar la longitud\n",
    "    #de nuestra malla\n",
    "    y=Mat[:,1]\n",
    "    x=Mat[1,:]\n",
    "    for i in 2:length(y)-1\n",
    "        for j in 2:length(x)-1\n",
    "            #Realizamos el método para el elemento i,j de nuestra malla\n",
    "            if Mat[i,j] !=V_0\n",
    "                Mat[i,j]=0.25(Mat[i+1,j]+Mat[i-1,j]+Mat[i,j+1]+Mat[i,j-1])\n",
    "            end\n",
    "        end\n",
    "    end\n",
    "    #regresamos nuestra malla a la cual ya se le aplico el método de relajación.\n",
    "    return Mat\n",
    "end"
   ]
  },
  {
   "cell_type": "markdown",
   "metadata": {},
   "source": [
    "Sin embargo, en la función anterior no se definió en ningún momento la convergencia de la solución. \n",
    "Para esto, definimos la siguiente función que aplicará múltiples veces el método de relajación hasta que la convergencia de la solución sea menor al error pedido."
   ]
  },
  {
   "cell_type": "code",
   "execution_count": null,
   "metadata": {},
   "outputs": [],
   "source": [
    "function met_jacobi(Mat,error=1e-5)\n",
    "    #Definimos dos elementos, la cuenta que nos marcará las repeticiones del método y el testigo que avalará que la condición de error se cumple\n",
    "    testigo,cuenta=true,0\n",
    "    #Abrimos un ciclo el cual se cumplirá hasta que el testigo no corroboré que se cumplió la condición de convergencia\n",
    "    while testigo==true\n",
    "        #Se realiza una copia de la malla para poder comparar la nueva solución con la solución anterior y de esa manera\n",
    "        # determinar cuando se cumple la convergencia\n",
    "        Mat_old=copy(Mat)\n",
    "        #Aplicamos el método de relación\n",
    "        Mat=relax(Mat)\n",
    "        #Sumamos a la cuenta una aplicación del método de relación en cada ciclo\n",
    "        cuenta+= 1\n",
    "        #Anexamos un condicional el cual, si la diferencia entre la malla a la cual se le aplico el método de relación y la\n",
    "        #anterior, es menor al error, el testigo cambiará a falso y se concluirá con la aplicación del ciclo while\n",
    "        if maximum(abs.(Mat .- Mat_old))<=error\n",
    "            testigo=false\n",
    "        end\n",
    "    end\n",
    "    #Al concluir con la convergencia le pedimos a la función que regrese la malla y el número de veces que se aplico el \n",
    "    #método de relación\n",
    "    return Mat,cuenta\n",
    "end"
   ]
  },
  {
   "cell_type": "markdown",
   "metadata": {},
   "source": [
    "Ya que poseemos las herramientas para resolver la ecuación diferencial, aplicaremos *met\\_jacobi* a la malla que definimos en un principio."
   ]
  },
  {
   "cell_type": "code",
   "execution_count": null,
   "metadata": {
    "scrolled": true
   },
   "outputs": [],
   "source": [
    "#Definimos el espacio en x\n",
    "x1=collect(0:0.01:1)\n",
    "#Definimos el espacio en y\n",
    "y1=collect(0:0.01:1)\n",
    "# Con x, y  y el radio de la circunferencias definimos nuestra malla inicial\n",
    "ϕ=Malla_circ2(x1,y1,0.25)\n",
    "#Aplicamos el método de jacobi a la malla\n",
    "ϕ,num=met_jacobi(ϕ)\n",
    "#Le pedimos al programa que nos grafique la distribución del potencial\n",
    "plot!(title=\"φ[V]\",xlabel=\"x\",ylabel=\"y\")\n",
    "heatmap!(x1,y1,ϕ)"
   ]
  },
  {
   "cell_type": "markdown",
   "metadata": {},
   "source": [
    "Obteniendo las equipotenciales del potencial obtenido."
   ]
  },
  {
   "cell_type": "code",
   "execution_count": null,
   "metadata": {},
   "outputs": [],
   "source": [
    "plot!(title=\"Equipotenciales\",xlabel=\"x\",ylabel=\"y\")\n",
    "contourf!(x1,y1,ϕ)"
   ]
  },
  {
   "cell_type": "markdown",
   "metadata": {},
   "source": [
    "Para obtener el campo es necesario definir una función que nos regrese el gradiente, debido a que estamos haciendo uso de coordenadas cartesianas y de dos variables, se restringirá a esas variables la función."
   ]
  },
  {
   "cell_type": "code",
   "execution_count": null,
   "metadata": {},
   "outputs": [],
   "source": [
    "## Definimos una función que nos regrese la parte x del gradiente\n",
    "function gradiente(x,y,ϕ)\n",
    "    #Definimos la distancia entre puntos en la malla en el eje x\n",
    "    hx=x[2]-x[1]\n",
    "    #Definimos la distancia entre puntos en la malla en el eje y\n",
    "    hy=y[2]-y[1]\n",
    "    #Definimos nuestros arreglos donde anexaremos la primera y la segunda componente del gradiente\n",
    "    gradx=zeros(length(x),length(y))\n",
    "    grady=zeros(length(x),length(y))\n",
    "    #Realizamos un ciclo que corra dentro de los elementos anteriores para obtener las derivadas parciales en cartesianas\n",
    "    for i in 2:length(y)-1\n",
    "        for j in 2:length(x)-1\n",
    "            #Definimos la i,j entrada del vector gradiente en x\n",
    "            gradx[i,j]=(ϕ[i,j+1]-ϕ[i,j-1])/hx\n",
    "            #Definimos la i,j entrada del vector gradiente en y\n",
    "            grady[i,j]=(ϕ[i+1,j]-ϕ[i-1,j])/hy\n",
    "        end\n",
    "    end\n",
    "    #Regresamos el gradiente\n",
    "    return gradx,grady\n",
    "end"
   ]
  },
  {
   "cell_type": "markdown",
   "metadata": {},
   "source": [
    "Con ello gráficamos el campo."
   ]
  },
  {
   "cell_type": "code",
   "execution_count": null,
   "metadata": {},
   "outputs": [],
   "source": [
    "E_x,E_y=-1 .*gradiente_x(x1,y1,ϕ)\n",
    "streamplot(x1,y1,E_x,E_y)"
   ]
  },
  {
   "cell_type": "markdown",
   "metadata": {},
   "source": [
    "## Problema 2. \n",
    "#### Encuentre la solución a la ecuación de Fourier en 2D con condición a la frontera $\\phi(0, y) = \\phi(x, 0) = \\phi(1, y) = \\phi(x, 1) = 0$ y con condición inicial $\\phi(x, y, 0) = 0$ para todos los puntos afuera de los dos círculos de radio 1/4 con centros en (0.4, 0.5) y (0.6, 0.5), y $\\phi = 1$ para todos los puntos dentro del los dos círculos anteriores. \n",
    "#### Puede suponer que el coeficiente de difusión es 1."
   ]
  },
  {
   "cell_type": "markdown",
   "metadata": {},
   "source": [
    "En clase se vió le método de Crank-Nicholson, el cual se aplica en los puntos interiores de la malla con la que se trabaja.\n",
    "Iniciamos entonces definiendo la malla con la que trabajaremos, la cual debe de cumplir con las condiciones iniciales y de frontera."
   ]
  },
  {
   "cell_type": "code",
   "execution_count": null,
   "metadata": {},
   "outputs": [],
   "source": [
    "function Psi_ini_circ2(x,y)\n",
    "    Nx,Ny = length(x),length(y)\n",
    "    phi=zeros(Ny,Nx)\n",
    "    #cordenada y\n",
    "    for i in 2:Nx-1\n",
    "       for j in 2:Ny-1\n",
    "            #Si se cumple la condición de frontera y condición inicial\n",
    "            if sqrt(( x[i]-0.4 )^2+(y[j]-0.5)^2)<=(1/4) || sqrt(( x[i]-0.6 )^2+(y[j]-0.5)^2)<=(1/4)\n",
    "                #Pedimos que phi sea 1\n",
    "                phi[j,i]=1\n",
    "            end\n",
    "        end\n",
    "    end\n",
    "    return phi\n",
    "end"
   ]
  },
  {
   "cell_type": "markdown",
   "metadata": {},
   "source": [
    "Definimos las funciones que implemental el método de Crank-Nicholson."
   ]
  },
  {
   "cell_type": "code",
   "execution_count": null,
   "metadata": {},
   "outputs": [],
   "source": [
    "function Mat_evol_CN_2D(x,y,t,D=1.0)\n",
    "    Nx,Ny=length(x),length(y)\n",
    "    #Definimos los pasos de las entradas x,y y t\n",
    "    Δx,Δy,Δt=x[2]-x[1],y[2]-y[1],t[2]-t[1]\n",
    "    r = (D*Δt)/(2*Δx*Δy)\n",
    "    println(\"r = \",r)\n",
    "    #Definimos nuestras matrices\n",
    "    A=zeros( (Nx-2)*(Ny-2) ,(Nx-2)*(Ny-2) )\n",
    "    B=zeros( (Nx-2)*(Ny-2) ,(Nx-2)*(Ny-2) )\n",
    "    #Definimos los elementos de la diagonal de las matrices A y B\n",
    "    for i in 1:Nx-2\n",
    "       for j in 1:Ny-2\n",
    "            A[ (Ny-2)*(i-1)+j , (Ny-2)*(i-1)+j ]=1+4*r\n",
    "            \n",
    "            B[ (Ny-2)*(i-1)+j , (Ny-2)*(i-1)+j ]=1-4*r\n",
    "        end\n",
    "    end\n",
    "    #Definimos los elementos de la diagonal superior e inferior de las matrices A y B\n",
    "    for i in 1:Nx-2\n",
    "       for j in 1:Ny-3\n",
    "            A[ (Ny-2)*(i-1)+j , (Ny-2)*(i-1)+j+1 ]=-r\n",
    "            A[ (Ny-2)*(i-1)+j+1 , (Ny-2)*(i-1)+j ]=-r\n",
    "            \n",
    "            B[ (Ny-2)*(i-1)+j , (Ny-2)*(i-1)+j+1 ]=r\n",
    "            B[ (Ny-2)*(i-1)+j+1 , (Ny-2)*(i-1)+j ]=r\n",
    "        end\n",
    "    end\n",
    "\n",
    "    # Elementos diagonales de la diagonal superior e inferior\n",
    "    for i in 1:Nx-3\n",
    "       for j in 1:Ny-2\n",
    "            A[ (Ny-2)*(i-1)+j , (Ny-2)*(i)+j ]=-r\n",
    "            A[ (Ny-2)*(i)+j , (Ny-2)*(i-1)+j ]=-r\n",
    "            \n",
    "            B[ (Ny-2)*(i-1)+j , (Ny-2)*(i)+j ]=r\n",
    "            B[ (Ny-2)*(i)+j , (Ny-2)*(i-1)+j ]=r\n",
    "        end\n",
    "    end\n",
    "    A_inversa=inv(A)\n",
    "    Evol = A_inversa*B\n",
    "    return Evol\n",
    "end"
   ]
  },
  {
   "cell_type": "markdown",
   "metadata": {},
   "source": [
    "Programando el método de Crack-Nicholson"
   ]
  },
  {
   "cell_type": "code",
   "execution_count": null,
   "metadata": {},
   "outputs": [],
   "source": [
    "function Cranck_Nicholson_2D(Ψ₀,M_evo,t)\n",
    "   #Vamos a guardar las diagonales\n",
    "    Nx,Ny,Nt=length(Ψ₀[:,1]),length(Ψ₀[1,:]),length(t)\n",
    "    Ψ_xy_t=zeros(Nx,Ny,Nt) #Copiando Psi inicial a la solución final\n",
    "    Ψ_xy_t[:,:,1] = Ψ₀\n",
    "    Ψ_in_t = reshape( Ψ₀[2:end-1,2:end-1],((Nx-2)*(Ny-2),1))  \n",
    "    for i in 2:Nt\n",
    "       Ψ_in_t = M_evo*Ψ_in_t\n",
    "        Ψ_xy_t[2:end-1,2:end-1,i]=reshape(Ψ_in_t,(Nx-2,Ny-2))\n",
    "    end\n",
    "    return Ψ_xy_t\n",
    "end"
   ]
  },
  {
   "cell_type": "markdown",
   "metadata": {},
   "source": [
    "Definiendo la malla donde trabajaremos:"
   ]
  },
  {
   "cell_type": "code",
   "execution_count": null,
   "metadata": {},
   "outputs": [],
   "source": [
    "#Nuestra malla para el eje x\n",
    "x2=collect(0:0.01:1)\n",
    "#La malla para el eje y\n",
    "y2=collect(0:0.01:1)\n",
    "#El intervalo de tiempo donde trabajaremos\n",
    "t2=collect(0:0.0001:0.02)\n",
    "#La malla con la condicion inicial\n",
    "psi_mat2 = Psi_ini_circ2(x2,y2)\n",
    "#Presentamos la malla inicial como una distribución\n",
    "heatmap(x2,y2,psi_mat2)"
   ]
  },
  {
   "cell_type": "markdown",
   "metadata": {},
   "source": [
    "Vemos que cumple con las condiciones iniciales y de frontera, así, podemos inciar a aplicar el método de Crank-Nicholson."
   ]
  },
  {
   "cell_type": "code",
   "execution_count": null,
   "metadata": {},
   "outputs": [],
   "source": [
    "M_t2 = Mat_evol_CN_2D(x2,y2,t2);"
   ]
  },
  {
   "cell_type": "code",
   "execution_count": null,
   "metadata": {},
   "outputs": [],
   "source": [
    "#Obtemos la solución para diversos tiempos\n",
    "Psi_total3 = Cranck_Nicholson_2D(psi_mat2,M_t2,t2);"
   ]
  },
  {
   "cell_type": "markdown",
   "metadata": {},
   "source": [
    "Presentamos la distribución, que podemos tomar como una distribución de calor, a un tiempo t=200."
   ]
  },
  {
   "cell_type": "code",
   "execution_count": null,
   "metadata": {},
   "outputs": [],
   "source": [
    "heatmap(x2,y2,Psi_total3[:,:,200],clim=(0,1),aspect_ratio=:equal)"
   ]
  },
  {
   "cell_type": "markdown",
   "metadata": {},
   "source": [
    "Calculando las isotermas a un tiempo t=200"
   ]
  },
  {
   "cell_type": "code",
   "execution_count": null,
   "metadata": {},
   "outputs": [],
   "source": [
    "contourf!(x2,y2,Psi_total3[:,:,200],clim=(0,1),aspect_ratio=:equal)"
   ]
  },
  {
   "cell_type": "markdown",
   "metadata": {},
   "source": [
    "Mostramos el resultado con una pequeña animación que muestre la evolución del sistema, o difusión de calor."
   ]
  },
  {
   "cell_type": "code",
   "execution_count": null,
   "metadata": {},
   "outputs": [],
   "source": [
    "mi_peli=@animate for i =1:length(t2)\n",
    "    heatmap(x2,y2,Psi_total3[:,:,i],clim=(0,1),aspect_ratio=:equal)\n",
    "end\n",
    "gif(mi_peli,\"dos_circ_calor.gif\",fps=20)"
   ]
  },
  {
   "cell_type": "markdown",
   "metadata": {},
   "source": [
    "## Problema 3\n",
    "####  Encuentre los estados estacionarios de la ecuación de onda en 2D para una membrana rectangular $L_x = \\pi$, $L_y = 2\\pi$. Compare la solución numérica de los eigenvalores con la solución analítica. \n",
    "#### ¿Qué sucede con la solución si ahora $L_x = \\pi$, $L_y=\\sqrt{2\\pi}$?"
   ]
  },
  {
   "cell_type": "markdown",
   "metadata": {},
   "source": [
    "Iniciamos definiendo una función que resuelva para ecuación de onda en 2 dimensiones."
   ]
  },
  {
   "cell_type": "code",
   "execution_count": 2,
   "metadata": {},
   "outputs": [
    {
     "data": {
      "text/plain": [
       "Mat_onda_2D (generic function with 1 method)"
      ]
     },
     "execution_count": 2,
     "metadata": {},
     "output_type": "execute_result"
    }
   ],
   "source": [
    "function Mat_onda_2D(x,y)\n",
    "   #Puntos interiores \n",
    "    Nx,Ny=length(x),length(y)\n",
    "    A=zeros(Nx*Ny,Nx*Ny)\n",
    "    #para la diagonal\n",
    "    for i in 1:Nx\n",
    "       for j in 1:Ny\n",
    "            A[Ny*(i-1)+j,Ny*(i-1)+j]=-4\n",
    "        end\n",
    "    end\n",
    "    #para la diagonal principal\n",
    "    #Diagonal superior e inferior del bloque principal\n",
    "    for i in 1:Nx\n",
    "       for j in 1:Ny-1\n",
    "            A[Ny*(i-1)+j,Ny*(i-1)+j+1]=1\n",
    "            A[Ny*(i-1)+j+1,Ny*(i-1)+j]=1\n",
    "        end\n",
    "    end\n",
    "    #\n",
    "    for i in 1:Nx-1\n",
    "       for j in 1:Ny\n",
    "            A[Ny*(i-1)+j,Ny*(i)+j]=1\n",
    "            A[Ny*(i)+j,Ny*(i-1)+j]=1\n",
    "        end\n",
    "    end\n",
    "    \n",
    "    return A\n",
    "end"
   ]
  },
  {
   "cell_type": "markdown",
   "metadata": {},
   "source": [
    "Obteniendo los eigenvalores del sistema."
   ]
  },
  {
   "cell_type": "code",
   "execution_count": 3,
   "metadata": {},
   "outputs": [
    {
     "data": {
      "text/plain": [
       "12012-element Array{Float64,1}:\n",
       "  1.1242764815419704\n",
       "  1.419377812589252\n",
       "  1.8070304481207162\n",
       "  2.0745144380618163\n",
       "  2.2395700083539625\n",
       "  2.248165012091844\n",
       "  2.5109702481569536\n",
       "  2.695343560234242\n",
       "  2.838183639070937\n",
       "  3.060090308947231\n",
       "  3.164185160894178\n",
       "  3.180375522927318\n",
       "  3.210060662111736\n",
       "  ⋮\n",
       " 70.63911955519518\n",
       " 70.63984663253142\n",
       " 70.64443252869376\n",
       " 70.6536956827526\n",
       " 70.65928900783142\n",
       " 70.66608117345201\n",
       " 70.6749301667739\n",
       " 70.675203050134\n",
       " 70.68024044841907\n",
       " 70.68758477243112\n",
       " 70.69643107417075\n",
       " 70.7017397409213"
      ]
     },
     "execution_count": 3,
     "metadata": {},
     "output_type": "execute_result"
    }
   ],
   "source": [
    "#Definimos puntos en x de la malla de la membrana\n",
    "x=collect(0:0.04:pi)\n",
    "#Puntos en y de la membrana\n",
    "y=collect(0:0.04:(2*pi))\n",
    "#Debido a que estamos tomando una distancia entre puntos en x y y igual, la distancia entre ellos es\n",
    "h=x[2]-x[1]\n",
    "#Definimos la matriz a la cual sacaremos los eigenvalores p\n",
    "M=Mat_onda_2D(x[2:end-1],y[2:end-1])\n",
    "#Obtenemos los eigenvalores de la matriz\n",
    "vals = eigvals(M)\n",
    "#Obtenemos los nodos de vibración pedidos y los acomodamos de menor a mayor\n",
    "valores=sort(sqrt.(-vals)/(h))"
   ]
  },
  {
   "cell_type": "markdown",
   "metadata": {},
   "source": [
    "Los eigenvalores del problema de una membrana, de manera analítica, están dados por:\n",
    "$$\\lambda_{nm}=c\\pi\\sqrt{{\\frac{m^2}{a^2}}+{\\frac{n^2}{b^2}}} $$"
   ]
  },
  {
   "cell_type": "markdown",
   "metadata": {},
   "source": [
    "Donde *n* y *m* son enteros y *a* y *b* corresponden a las longitudes del ancho y largo de la membrana. Entonces definamos algunos eigenvalores y comparemoslos con los obtenidos de manera númerica."
   ]
  },
  {
   "cell_type": "code",
   "execution_count": 34,
   "metadata": {},
   "outputs": [
    {
     "data": {
      "text/plain": [
       "9-element Array{Any,1}:\n",
       " 1.1180339887498947\n",
       " 1.414213562373095\n",
       " 1.8027756377319948\n",
       " 2.0615528128088303\n",
       " 2.2360679774997894\n",
       " 2.5\n",
       " 3.0413812651491097\n",
       " 3.162277660168379\n",
       " 3.354101966249684"
      ]
     },
     "execution_count": 34,
     "metadata": {},
     "output_type": "execute_result"
    }
   ],
   "source": [
    "#Definimos las n's y m's que debem ser enteros\n",
    "n=collect(1:1:3)\n",
    "m=collect(1:1:3)\n",
    "#El ancho y largo de la membrana\n",
    "a=π\n",
    "b=2π\n",
    "#La función que nos de el eigenvalor correspondiente a n y m\n",
    "f(n,m)=π*sqrt.(m^2/a^2+n^2/b^2)\n",
    "#Definimos un arreglo vacío al cual iremos anexando los eigenvalores\n",
    "λ=[]\n",
    "#Realizamos un ciclo para obtener los eigenvalores para cada n y m\n",
    "for i in n\n",
    "    for j in m\n",
    "       push!(λ,f(i,j))\n",
    "    end\n",
    "end\n",
    "#Regresamos los eigenvalores obtenidos y los ordenamos de menor a  mayor\n",
    "return sort(λ)"
   ]
  },
  {
   "cell_type": "markdown",
   "metadata": {},
   "source": [
    "Ahora, realicemos una comparación con los primeros eigenvalores obtenidos de manera númerica."
   ]
  },
  {
   "cell_type": "code",
   "execution_count": 39,
   "metadata": {},
   "outputs": [
    {
     "data": {
      "text/html": [
       "<table class=\"data-frame\"><thead><tr><th></th><th>Analítico</th><th>Numérico</th></tr><tr><th></th><th>Any</th><th>Float64</th></tr></thead><tbody><p>9 rows × 2 columns</p><tr><th>1</th><td>1.11803</td><td>1.12428</td></tr><tr><th>2</th><td>1.41421</td><td>1.41938</td></tr><tr><th>3</th><td>1.80278</td><td>1.80703</td></tr><tr><th>4</th><td>2.06155</td><td>2.07451</td></tr><tr><th>5</th><td>2.23607</td><td>2.23957</td></tr><tr><th>6</th><td>2.5</td><td>2.24817</td></tr><tr><th>7</th><td>3.04138</td><td>2.51097</td></tr><tr><th>8</th><td>3.16228</td><td>2.69534</td></tr><tr><th>9</th><td>3.3541</td><td>2.83818</td></tr></tbody></table>"
      ],
      "text/latex": [
       "\\begin{tabular}{r|cc}\n",
       "\t& Analítico & Numérico\\\\\n",
       "\t\\hline\n",
       "\t& Any & Float64\\\\\n",
       "\t\\hline\n",
       "\t1 & 1.11803 & 1.12428 \\\\\n",
       "\t2 & 1.41421 & 1.41938 \\\\\n",
       "\t3 & 1.80278 & 1.80703 \\\\\n",
       "\t4 & 2.06155 & 2.07451 \\\\\n",
       "\t5 & 2.23607 & 2.23957 \\\\\n",
       "\t6 & 2.5 & 2.24817 \\\\\n",
       "\t7 & 3.04138 & 2.51097 \\\\\n",
       "\t8 & 3.16228 & 2.69534 \\\\\n",
       "\t9 & 3.3541 & 2.83818 \\\\\n",
       "\\end{tabular}\n"
      ],
      "text/plain": [
       "9×2 DataFrame\n",
       "│ Row │ Analítico │ Numérico │\n",
       "│     │ \u001b[90mAny\u001b[39m       │ \u001b[90mFloat64\u001b[39m  │\n",
       "├─────┼───────────┼──────────┤\n",
       "│ 1   │ 1.11803   │ 1.12428  │\n",
       "│ 2   │ 1.41421   │ 1.41938  │\n",
       "│ 3   │ 1.80278   │ 1.80703  │\n",
       "│ 4   │ 2.06155   │ 2.07451  │\n",
       "│ 5   │ 2.23607   │ 2.23957  │\n",
       "│ 6   │ 2.5       │ 2.24817  │\n",
       "│ 7   │ 3.04138   │ 2.51097  │\n",
       "│ 8   │ 3.16228   │ 2.69534  │\n",
       "│ 9   │ 3.3541    │ 2.83818  │"
      ]
     },
     "execution_count": 39,
     "metadata": {},
     "output_type": "execute_result"
    }
   ],
   "source": [
    "data=DataFrame(Analítico=sort(λ),Numérico=valores[1:length(λ)])"
   ]
  },
  {
   "cell_type": "markdown",
   "metadata": {},
   "source": [
    "Apreciamos que hasta el elemento 5, la diferencia entre el eigenvalor númerico, en comparación con el obtenido de manera analítica es menor a 0.02, el cual es un error que podríamos considerar pequeño.\n",
    "Sin embargo para valores más altos la diferencia crece de manera considerable, esto se debe a que estamos tomando valores de *n* y *m*, pequeños, conforme tomemos conjuntos más grandes, la diferencia será notable después de más puntos. Tomemos más valores de n y m para comprobar lo anterior."
   ]
  },
  {
   "cell_type": "code",
   "execution_count": 40,
   "metadata": {},
   "outputs": [
    {
     "data": {
      "text/html": [
       "<table class=\"data-frame\"><thead><tr><th></th><th>Analítico</th><th>Numérico</th></tr><tr><th></th><th>Any</th><th>Float64</th></tr></thead><tbody><p>100 rows × 2 columns</p><tr><th>1</th><td>1.11803</td><td>1.12428</td></tr><tr><th>2</th><td>1.41421</td><td>1.41938</td></tr><tr><th>3</th><td>1.80278</td><td>1.80703</td></tr><tr><th>4</th><td>2.06155</td><td>2.07451</td></tr><tr><th>5</th><td>2.23607</td><td>2.23957</td></tr><tr><th>6</th><td>2.23607</td><td>2.24817</td></tr><tr><th>7</th><td>2.5</td><td>2.51097</td></tr><tr><th>8</th><td>2.69258</td><td>2.69534</td></tr><tr><th>9</th><td>2.82843</td><td>2.83818</td></tr><tr><th>10</th><td>3.04138</td><td>3.06009</td></tr><tr><th>11</th><td>3.16228</td><td>3.16419</td></tr><tr><th>12</th><td>3.16228</td><td>3.18038</td></tr><tr><th>13</th><td>3.20156</td><td>3.21006</td></tr><tr><th>14</th><td>3.3541</td><td>3.37128</td></tr><tr><th>15</th><td>3.60555</td><td>3.61271</td></tr><tr><th>16</th><td>3.60555</td><td>3.62158</td></tr><tr><th>17</th><td>3.64005</td><td>3.6409</td></tr><tr><th>18</th><td>3.90512</td><td>3.91983</td></tr><tr><th>19</th><td>4.03113</td><td>4.0368</td></tr><tr><th>20</th><td>4.03113</td><td>4.05431</td></tr><tr><th>21</th><td>4.12311</td><td>4.1226</td></tr><tr><th>22</th><td>4.12311</td><td>4.14585</td></tr><tr><th>23</th><td>4.24264</td><td>4.25585</td></tr><tr><th>24</th><td>4.272</td><td>4.29404</td></tr><tr><th>25</th><td>4.47214</td><td>4.47609</td></tr><tr><th>26</th><td>4.47214</td><td>4.49323</td></tr><tr><th>27</th><td>4.60977</td><td>4.60756</td></tr><tr><th>28</th><td>4.60977</td><td>4.62129</td></tr><tr><th>29</th><td>4.71699</td><td>4.73691</td></tr><tr><th>30</th><td>4.92443</td><td>4.92638</td></tr><tr><th>&vellip;</th><td>&vellip;</td><td>&vellip;</td></tr></tbody></table>"
      ],
      "text/latex": [
       "\\begin{tabular}{r|cc}\n",
       "\t& Analítico & Numérico\\\\\n",
       "\t\\hline\n",
       "\t& Any & Float64\\\\\n",
       "\t\\hline\n",
       "\t1 & 1.11803 & 1.12428 \\\\\n",
       "\t2 & 1.41421 & 1.41938 \\\\\n",
       "\t3 & 1.80278 & 1.80703 \\\\\n",
       "\t4 & 2.06155 & 2.07451 \\\\\n",
       "\t5 & 2.23607 & 2.23957 \\\\\n",
       "\t6 & 2.23607 & 2.24817 \\\\\n",
       "\t7 & 2.5 & 2.51097 \\\\\n",
       "\t8 & 2.69258 & 2.69534 \\\\\n",
       "\t9 & 2.82843 & 2.83818 \\\\\n",
       "\t10 & 3.04138 & 3.06009 \\\\\n",
       "\t11 & 3.16228 & 3.16419 \\\\\n",
       "\t12 & 3.16228 & 3.18038 \\\\\n",
       "\t13 & 3.20156 & 3.21006 \\\\\n",
       "\t14 & 3.3541 & 3.37128 \\\\\n",
       "\t15 & 3.60555 & 3.61271 \\\\\n",
       "\t16 & 3.60555 & 3.62158 \\\\\n",
       "\t17 & 3.64005 & 3.6409 \\\\\n",
       "\t18 & 3.90512 & 3.91983 \\\\\n",
       "\t19 & 4.03113 & 4.0368 \\\\\n",
       "\t20 & 4.03113 & 4.05431 \\\\\n",
       "\t21 & 4.12311 & 4.1226 \\\\\n",
       "\t22 & 4.12311 & 4.14585 \\\\\n",
       "\t23 & 4.24264 & 4.25585 \\\\\n",
       "\t24 & 4.272 & 4.29404 \\\\\n",
       "\t25 & 4.47214 & 4.47609 \\\\\n",
       "\t26 & 4.47214 & 4.49323 \\\\\n",
       "\t27 & 4.60977 & 4.60756 \\\\\n",
       "\t28 & 4.60977 & 4.62129 \\\\\n",
       "\t29 & 4.71699 & 4.73691 \\\\\n",
       "\t30 & 4.92443 & 4.92638 \\\\\n",
       "\t$\\dots$ & $\\dots$ & $\\dots$ \\\\\n",
       "\\end{tabular}\n"
      ],
      "text/plain": [
       "100×2 DataFrame\n",
       "│ Row │ Analítico │ Numérico │\n",
       "│     │ \u001b[90mAny\u001b[39m       │ \u001b[90mFloat64\u001b[39m  │\n",
       "├─────┼───────────┼──────────┤\n",
       "│ 1   │ 1.11803   │ 1.12428  │\n",
       "│ 2   │ 1.41421   │ 1.41938  │\n",
       "│ 3   │ 1.80278   │ 1.80703  │\n",
       "│ 4   │ 2.06155   │ 2.07451  │\n",
       "│ 5   │ 2.23607   │ 2.23957  │\n",
       "│ 6   │ 2.23607   │ 2.24817  │\n",
       "│ 7   │ 2.5       │ 2.51097  │\n",
       "│ 8   │ 2.69258   │ 2.69534  │\n",
       "│ 9   │ 2.82843   │ 2.83818  │\n",
       "│ 10  │ 3.04138   │ 3.06009  │\n",
       "⋮\n",
       "│ 90  │ 10.0499   │ 8.06223  │\n",
       "│ 91  │ 10.0623   │ 8.08272  │\n",
       "│ 92  │ 10.1119   │ 8.08297  │\n",
       "│ 93  │ 10.198    │ 8.15361  │\n",
       "│ 94  │ 10.2956   │ 8.15972  │\n",
       "│ 95  │ 10.3078   │ 8.20467  │\n",
       "│ 96  │ 10.4403   │ 8.22028  │\n",
       "│ 97  │ 10.5948   │ 8.26628  │\n",
       "│ 98  │ 10.7703   │ 8.34075  │\n",
       "│ 99  │ 10.9659   │ 8.40122  │\n",
       "│ 100 │ 11.1803   │ 8.48957  │"
      ]
     },
     "execution_count": 40,
     "metadata": {},
     "output_type": "execute_result"
    }
   ],
   "source": [
    "#Definimos las n's y m's que debem ser enteros\n",
    "n1=collect(1:1:10)\n",
    "m1=collect(1:1:10)\n",
    "#El ancho y largo de la membrana\n",
    "a=π\n",
    "b=2π\n",
    "#La función que nos de el eigenvalor correspondiente a n y m\n",
    "f(n,m)=π*sqrt.(m^2/a^2+n^2/b^2)\n",
    "#Definimos un arreglo vacío al cual iremos anexando los eigenvalores\n",
    "λ1=[]\n",
    "#Realizamos un ciclo para obtener los eigenvalores para cada n y m\n",
    "for i in n1\n",
    "    for j in m1\n",
    "       push!(λ1,f(i,j))\n",
    "    end\n",
    "end\n",
    "#Regresamos los eigenvalores obtenidos y los ordenamos de menor a  mayor\n",
    "return sort(λ1)\n",
    "data1=DataFrame(Analítico=sort(λ1),Numérico=valores[1:length(λ1)])"
   ]
  },
  {
   "cell_type": "markdown",
   "metadata": {},
   "source": [
    "En este caso, notamos que, almenos hasta el treintavo elemento, la diferencia entre eigenvalores puede seguir considerandose pequeña.\n",
    "\n",
    "Ahora veamos que pasa cuando las condiciones de longitud en la membrana cambian. Para ello realizaremos un proceso similar al anterior."
   ]
  },
  {
   "cell_type": "code",
   "execution_count": null,
   "metadata": {},
   "outputs": [],
   "source": [
    "#Definimos puntos en x de la malla de la membrana\n",
    "x_1=collect(0:0.04:pi)\n",
    "#Puntos en y de la membrana\n",
    "y_1=collect(0:0.04:(sqrt(2)*pi))\n",
    "#Debido a que estamos tomando una distancia entre puntos en x y y igual, la distancia entre ellos es\n",
    "h_1=x[2]-x[1]\n",
    "#Definimos la matriz a la cual sacaremos los eigenvalores p\n",
    "M_1=Mat_onda_2D(x[2:end-1],y[2:end-1])\n",
    "#Obtenemos los eigenvalores de la matriz\n",
    "vals_1 = eigvals(M)\n",
    "#Obtenemos los nodos de vibración pedidos y los acomodamos de menor a mayor\n",
    "valores_1=sort(sqrt.(-vals)/(h))"
   ]
  },
  {
   "cell_type": "code",
   "execution_count": null,
   "metadata": {},
   "outputs": [],
   "source": []
  },
  {
   "cell_type": "code",
   "execution_count": null,
   "metadata": {},
   "outputs": [],
   "source": []
  }
 ],
 "metadata": {
  "kernelspec": {
   "display_name": "Julia 1.5.1",
   "language": "julia",
   "name": "julia-1.5"
  },
  "language_info": {
   "file_extension": ".jl",
   "mimetype": "application/julia",
   "name": "julia",
   "version": "1.5.1"
  }
 },
 "nbformat": 4,
 "nbformat_minor": 4
}
