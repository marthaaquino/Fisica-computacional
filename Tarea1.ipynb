{
 "cells": [
  {
   "cell_type": "markdown",
   "metadata": {},
   "source": [
    "# Tarea 1 de Física computacional\n",
    "## Aquino Chapa Martha Abril\n",
    "### Hecho en Python"
   ]
  },
  {
   "cell_type": "code",
   "execution_count": 7,
   "metadata": {},
   "outputs": [],
   "source": [
    "from pylab import *\n",
    "import random\n",
    "from numpy import array\n",
    "from numpy import *\n",
    "import math"
   ]
  },
  {
   "cell_type": "markdown",
   "metadata": {},
   "source": [
    "## 1. Realice y explique los desarrollos necesarios para obtener los siguientes algoritmos:\n",
    "##### (a) Encuentre una expresi´on para la segunda derivada num´erica de orden 4 con malla uniforme. (Se desprecian téminos $h^{5}$ en la serie de Taylor)\n"
   ]
  },
  {
   "cell_type": "markdown",
   "metadata": {},
   "source": [
    "Iniciamos expandiendo en serie de Taylor la función f en 4 diferentes puntos alrededor de $x_0$\n",
    "\n",
    "$$\n",
    "f(x_0+h)=f(x_0) + f^{(1)}(x_0)h + \\frac{f^{(2)}(x_0)}{2!}h^2 + \\frac{f^{(3)}(x_0)}{3!}h^3 + \\frac{f^{(4)}(x_0)}{4!}h^4 + \\mathcal{O}(h^5)\n",
    "$$\n",
    "$$\n",
    "f(x_0-h)=f(x_0) - f^{(1)}(x_0)h + \\frac{f^{(2)}(x_0)}{2!}h^2 - \\frac{f^{(3)}(x_0)}{3!}h^3 + \\frac{f^{(4)}(x_0)}{4!}h^4 + \\mathcal{O}(h^5)\n",
    "$$\n",
    "$$\n",
    "f(x_0+2h)=f(x_0) + 2f^{(1)}(x_0)h + 2f^{(2)}(x_0)h^2 + \\frac{4}{3}f^{(3)}(x_0)h^3 + \\frac{2}{3}f^{(4)}(x_0)h^4 + \\mathcal{O}(h^5)\n",
    "$$\n",
    "$$\n",
    "f(x_0-2h)=f(x_0) - 2f^{(1)}(x_0)h + 2f^{(2)}(x_0)h^2 - \\frac{4}{3}f^{(3)}(x_0)h^3 + \\frac{2}{3}f^{(4)}(x_0)h^4 + \\mathcal{O}(h^5)\n",
    "$$\n",
    "Debido a que queremos queremos la segunda derivada de orden cuatro despreciamos los términos de orden $h^5$, sumamos la primera y segunda expresión así como la tercera y cuarta expresión. Con lo que obtenemos las siguientes dos ecuaciones:\n",
    "\n",
    "$$\n",
    "f(x_0+h)+f(x_0-h)=2f(x_0)+f^{(2)}(x_0)h^2 + \\frac{1}{12}f^{(4)}(x_0)h^4\n",
    "$$\n",
    "$$\n",
    "f(x_0+2h)+f(x_0-2h)=2f(x_0)+4f^{(2)}(x_0)h^2 + \\frac{4}{3}f^{(4)}(x_0)h^4\n",
    "$$\n",
    "\n",
    "Ahora mutiplicamos la primera de estas igualdades por $16$ y la segundad igualdad por $-1$ y despreciando términos al cubo, tenemos el siguiente sistema de ecuaciones:\n",
    "$$\n",
    "16f(x_0+h)+16f(x_0-h)=32f(x_0) + 16f^{(2)}(x_0)h^2 + \\frac{4}{3}f^{(4)}(x_0)h^4\n",
    "$$\n",
    "$$\n",
    "-f(x_0+2h)-f(x_0-2h)=-2f(x_0)-4f^{(2)}(x_0)h^2 - \\frac{4}{3}f^{(4)}(x_0)h^4\n",
    "$$\n",
    "Al sumar las dos ecuaciones anteriores se obtiene: \n",
    "$$\n",
    "16f(x_0+h)+16f(x_0-h)-f(x_0+2h)-f(x_0-2h)=30f(x_0)+12f^{(2)}(x_0)h^2\n",
    "$$\n",
    "\n",
    "Por lo que tenemos la expresión para la segunda derivada de orden cuatro:\n",
    "\n",
    "$$\n",
    "f^{(2)}(x_0) = \\frac{16f(x_0+h)+16f(x_0-h)-f(x_0+2h)-f(x_0-2h) - 30f(x_0)}{12h^2}\n",
    "$$\n",
    "%Donde se ha tomado $h=[x+i]-h[i]$ y con esto nos es posible escribir la segunda derivada de orden cuatro en $x[i]$ como:\n",
    "%$$\n",
    "%f_i'' = \\frac{-\\frac{26}{3}f_{i+1}+\\frac{19}{2}f_{i+2}-\\frac{14}{3}f_{i+3}+\\frac{11}{12}f_{i+4}+\\frac{35}{12}f_i}{h^2}\n",
    "%$$\n",
    "\n",
    "Hay que notar que la expresión anterior hace uso del hecho de que se tienen puntos a la derecha y a la izquiera de $x_0$, por lo cual la expresión anterior no se vale en los puntos frontera. Entonces obtengamos la derivada en los puntos frontera. Por lo cual es necesario conocer la segunda entrada del siguiente sistema de ecuaciones:\n",
    "$$\n",
    "\\begin{bmatrix}\n",
    "1 & \\frac{1}{2} & \\frac{1}{6} & \\frac{1}{24} \\\\\n",
    "2 & 2 & \\frac{4}{3} & \\frac{2}{3} \\\\\n",
    "3 & \\frac{9}{2} & \\frac{9}{2} & \\frac{27}{8} \\\\\n",
    "4 & 8 & \\frac{32}{3} & \\frac{32}{3}\n",
    "\\end{bmatrix}\n",
    "\\begin{bmatrix}\n",
    "hf_i' \\\\\n",
    "h^2f_i'' \\\\\n",
    "h^3f_i''' \\\\\n",
    "h^4f_i''''\n",
    "\\end{bmatrix}\n",
    "=\n",
    "\\begin{bmatrix}\n",
    "f_{i+1}-f_i \\\\\n",
    "f_{i+2}-f_i \\\\\n",
    "f_{i+3}-f_i \\\\\n",
    "f_{i+4}-f_i \n",
    "\\end{bmatrix}\n",
    "$$\n",
    "Al resolver se llega a que:\n",
    "$$\n",
    "f_i'' = \\frac{-\\frac{26}{3}f_{i+1}+\\frac{19}{2}f_{i+2}-\\frac{14}{3}f_{i+3}+\\frac{11}{12}f_{i+4}+\\frac{35}{12}f_i}{h^2}\n",
    "$$\n",
    "\n"
   ]
  },
  {
   "cell_type": "markdown",
   "metadata": {},
   "source": [
    "##### (b) Encuentre una expresión para la derivada numérica de 2o orden para una malla no uniforme. (Se desprecian términos $h^{3}$ en la serie de Taylor)\n",
    "Debido a que queremos la derivada en una malla no uniforme, tendremos dos valores de h, h1 para el lado izquierdo y h2 para el lado derecho, además despreciaremos términos $h^{3}$, consideremos entonces los siguientes expansiones en serie de Taylor alrededor de un punto $x_0$:\n",
    "$$\n",
    "f(x_0-h_1)=f(x_0)-f^{(1)}(x_0)h_1 + \\frac{1}{2}f^{(2)}(x_0)h_1^2 + \\mathcal{O}(h^3)\n",
    "$$\n",
    "\n",
    "$$\n",
    "f(x_0+h_2)=f(x_0)+f^{(1)}(x_0)h_2 + \\frac{1}{2}f^{(2)}(x_0)h_2^2 + \\mathcal{O}(h^3)\n",
    "$$\n",
    "Nultiplicamos por $h_2$ la primera ecuación y por $h_2$ la segunda y las restamos las ecuaciones anteriores se obtiene:\n"
   ]
  },
  {
   "cell_type": "markdown",
   "metadata": {},
   "source": [
    "$$ h_2^{2}f(x_0-h_1)=h_2^{2}f(x_0)-h_2^{2}f^{(1)}(x_0)h_1+{\\frac{1}{2}}f^{(2)}(x_0)h_1^{2}+\\mathcal{O}(h^{3})  $$\n",
    "\n",
    "$$\n",
    "h_1^{2}f(x_0+h_2)=h_1^{2}f(x_0)+h_1^{2}f^{(1)}(x_0)h_2 + h_1^{2}\\frac{1}{2}f^{(2)}(x_0)h_2^2 + \\mathcal{O}(h^3)\n",
    "$$"
   ]
  },
  {
   "cell_type": "markdown",
   "metadata": {},
   "source": [
    "Restando las dos ecuaciones anteriores:\n",
    "$$h_1^{2}f(x_0+h_2)-h_2^{2}f(x_0-h_1)=f(x_0)(h_1^{2}-h_2^{2})+f^{(1)}(x_0)(h_2^{2}h_1+h_2h_1^{2}) $$"
   ]
  },
  {
   "cell_type": "markdown",
   "metadata": {},
   "source": [
    "Por lo cual se obtiene que la segunda derivada de 2do orden, en los puntos que no están en la frontera está dados por:\n",
    "$$ f^{(1)}(x_0)={\\frac{h_1^{2}f(x_0+h_2)-h_2^{2}f(x_0-h_1)-f(x_0)(h_1^{2}-h_2^{2})}{h_2^{2}h_1+h_2h_1^{2}}} $$\n",
    "\n",
    "Veamos ahora la situación con los puntos en la frontera:\n"
   ]
  },
  {
   "cell_type": "markdown",
   "metadata": {},
   "source": [
    "$$\n",
    "\\begin{bmatrix}\n",
    "-h_1 & \\frac{h_1^{2}}{2}\\\\\n",
    "h_2 &  \\frac{h_2^{2}}{1} \\\\\n",
    "\\end{bmatrix}\n",
    "\\begin{bmatrix}\n",
    "f_i' \\\\\n",
    "f_i'' \\\\\n",
    "\\end{bmatrix}\n",
    "=\n",
    "\\begin{bmatrix}\n",
    "f_{i-1}-f_i \\\\\n",
    "f_{i+1}-f_i \\\\\n",
    "\\end{bmatrix}\n",
    "$$\n",
    "Cuya solución para la frontera y tomando h1=-h2\n",
    "$$ f^{(1)}(x_0)=-\\frac{2f(x_0)+}{2h} $$"
   ]
  },
  {
   "cell_type": "markdown",
   "metadata": {},
   "source": [
    "##### (c) Encuentre una expresión para la segunda derivada numérica de 2o orden con malla no uniforme. (Se desprecian términos $h^{3}$  en la serie de Taylor)\n",
    "\n",
    "Debido a que queremos la derivada en una malla no uniforme, tendremos dos valores de h, h1 para el lado izquierdo y h2 para el lado derecho, además despreciaremos términos $h^{3}$, consideremos entonces los siguientes expansiones en serie de Taylor alrededor de un punto $x_0$:\n",
    "$$ f(x0-h_1)=f(x_0)-f^{(1)}(x_0)h_1+{1/2}f^{(2)}(x_0)h_1^{2}+\\mathcal{O}(h_1^{3})  $$\n",
    "$$ f(x0+h_2)=f(x_0)+f^{(1)}(x_0)h_2+{1/2}f^{(2)}(x_0)h_2^{2}+\\mathcal{O}(h_2^{3})  $$\n",
    "\n",
    "Multiplicando por $h_1$ y por $h_2$ la segunda y la primera ecuación se obtiene que:"
   ]
  },
  {
   "cell_type": "markdown",
   "metadata": {},
   "source": [
    "$$ h_2f(x0-h_1)=h_2f(x_0)-h_2f^{(1)}(x_0)h_1+{1/2}h_2f^{(2)}(x_0)h_1^{2}+\\mathcal{O}(h_1^{3})  $$\n",
    "$$ h_1f(x0+h_2)=h_1f(x_0)+h_1f^{(1)}(x_0)h_2+{1/2}h_1f^{(2)}(x_0)h_2^{2}+\\mathcal{O}(h_2^{3})  $$"
   ]
  },
  {
   "cell_type": "markdown",
   "metadata": {},
   "source": [
    "Sumando las ecuaciones anteriores:\n",
    "$$h_2f(x_0-h_1)+h_1f(x_0+h_2)=f(x_0)(h_2+h_1)+f^{(2)}(x_0)(h_2h_1^{2}+h_1h_2^{2})+\\mathcal{O}(h_1^{3},h_2^{3})   $$"
   ]
  },
  {
   "cell_type": "markdown",
   "metadata": {},
   "source": [
    "$$ f^{(2)}(x_0)=2\\frac{h_2f(x_0-h_1)+h_1f(x_0+h_2)-f(x_0)(h_2+h_1)}{(h_2h_1^{2}+h_1h_2^{2})}+\\mathcal{O}(h_1^{3},h_2^{3})  $$"
   ]
  },
  {
   "cell_type": "markdown",
   "metadata": {},
   "source": [
    "Obtengamos ahora la derivada en los extremos:"
   ]
  },
  {
   "cell_type": "markdown",
   "metadata": {},
   "source": [
    "### 2. Utilizando las funciones anteriores calcule el tiempo promedio para una malla con 500 puntos en cadauno de los algoritmos anteriores. De una explicación de las ventajas y desventajas de cada una las funciones antes mencionadas."
   ]
  },
  {
   "cell_type": "markdown",
   "metadata": {},
   "source": [
    "###### Iniciamos obteniendo el tiempo con una malla uniforme y con la función segunda derivada de orden 4:"
   ]
  },
  {
   "cell_type": "code",
   "execution_count": 8,
   "metadata": {},
   "outputs": [],
   "source": [
    "##Definimos la segunda derivada de orden 4 para una función f y cuya malla es uniforme.\n",
    "def deriv1(f,x):\n",
    "    f_prima1 = zeros(len(f))\n",
    "    h=x[1]-x[0]\n",
    "    for i in range (len(f)-2):\n",
    "        f_prima1[i]=(16*f[i+1]+16*f[i-1]-f[i+2]-f[i-2]-30*f[i])/(12*h*h)\n",
    "    # calcular el ultimo punto\n",
    "  #  f_prima1[0] = (16*f[1]+16*f[-1]-f[2]-f[-2]-30*f[0])/(12*h*h)\n",
    "##Revisar punto frontera\n",
    "    f_prima1[-1] = (16*f[-2]+16*f[0]-f[-3]-f[-1]-30*f[-1])/(12*h*h)\n",
    "    return f_prima1"
   ]
  },
  {
   "cell_type": "code",
   "execution_count": 10,
   "metadata": {},
   "outputs": [
    {
     "data": {
      "image/png": "[encoded data removed]",
      "text/plain": [
       "<Figure size 432x288 with 1 Axes>"
      ]
     },
     "metadata": {
      "needs_background": "light"
     },
     "output_type": "display_data"
    }
   ],
   "source": [
    "###Escogemos la malla uniforme\n",
    "x1 = linspace(0,2*pi,500)\n",
    "y1 = cos(x1)\n",
    "y_deriv1 = -cos(x1)\n",
    "y_num_deriv1 = deriv1(y1,x1)\n",
    "#plot(x1,y1,label=\"$f(x)$\")\n",
    "#Graficamos para corroborar que la derivada numerica corresponda con la derivinada analítica\n",
    "plot(x1,y_deriv1,label=\"$f'(x)$\")\n",
    "plot(x1,y_num_deriv1,label=\"f'(x) numérica\")\n",
    "legend(),grid()\n",
    "show()"
   ]
  },
  {
   "cell_type": "code",
   "execution_count": null,
   "metadata": {},
   "outputs": [],
   "source": [
    "## Obtenemos el tiempo\n",
    "#Obtenemos el tiempo de la función \n",
    "%timeit (deriv1(y,x))"
   ]
  },
  {
   "cell_type": "markdown",
   "metadata": {},
   "source": [
    "###### Obteniendo el tiempo con una malla no unfirme y con la función primera derivada de orden 2:\n"
   ]
  },
  {
   "cell_type": "code",
   "execution_count": 11,
   "metadata": {},
   "outputs": [],
   "source": [
    "##Checar cual de las dos funciones siguientes es la derivada\n",
    "##Definimos la primera derivada para una función f y cuya malla no es uniforme.\n",
    "def deriv(f,x):\n",
    "    f_prima = zeros(len(f))\n",
    "    for i in range (2,len(f)-1):\n",
    "        #h[i]=x[i]-x[i-1] #distancia a la izquierda de xi\n",
    "        #g[i]=x[i+1]-x[i]\n",
    "        f_prima[i]=(f[i+1]-f[i-1])/(x[i]-x[i-1]+x[i+1]-x[i])\n",
    "    # calcular el ultimo punto\n",
    "        h1=x[2]-x[1]\n",
    "        h2=x[3]-x[2]\n",
    "        \n",
    "        h11=x[-1]-x[-2]\n",
    "        h22=x[0]-x[-1]\n",
    "        f_prima[1] = h2*(f[2]-f[1] )/(h1*h2-h1*h1)- h1*(f[3]-f[1])/(h2*h2-h2*h1)\n",
    "       # f_prima[-1]=-(h11*(f[-2]-f[-1])/(h22*h11-h22*h22))+(h22*(f[-3]-f[-1])/(h11*h11-h22*h11))\n",
    "       # f_prima[-1]=-(h11*(f[-2]-f[-1])/(h22*h11-h22*h22))+(h22*(f[-3]-f[-1])/(h11*h11-h22*h11))### revisar\n",
    "    return f_prima\n",
    "##Definimos una función f para transformar cualquier malla uniforme a una no uniforme.\n",
    "def f(x):\n",
    "    return x#**(1/2)\n",
    "###Escogemos la malla\n",
    "x = np.linspace(0, 2*pi, 50) #2*np.pi*f(np.linspace(0, 1, 50, endpoint=False))\n",
    "##Escogemos la funcion f a la cual le aplicaremos la primera derivada\n",
    "y = cos(x)\n",
    "#y_deriv = -sin(x)\n",
    "#y_num_deriv = deriv(y,x)\n",
    "#plot(x,y,label=\"$f(x)$\")\n",
    "#plot(x,y_deriv,label=\"$f'(x)$\")\n",
    "#plot(x,y_num_deriv,label=\"f'(x) numérica\")\n",
    "#legend(),grid()\n",
    "#show()"
   ]
  },
  {
   "cell_type": "code",
   "execution_count": 12,
   "metadata": {},
   "outputs": [],
   "source": [
    "# primer derivada en un malla no uniforme\n",
    "def deriv(f,x):\n",
    "    f_prima = zeros(len(f))\n",
    "    for i in range (2,len(f)-1):\n",
    "        #h[i]=x[i]-x[i-1] #distancia a la izquierda de xi\n",
    "        #g[i]=x[i+1]-x[i]\n",
    "        f_prima[i]=(f[i+1]-f[i-1])/(x[i]-x[i-1]+x[i+1]-x[i])\n",
    "    # calcular el ultimo punto\n",
    "        h1=x[2]-x[1]\n",
    "        h2=x[3]-x[2]\n",
    "        \n",
    "        h11=x[-1]-x[-2]\n",
    "        h22=x[0]-x[-1]\n",
    "        f_prima[1] = h2*(f[2]-f[1] )/(h1*h2-h1*h1)- h1*(f[3]-f[1])/(h2*h2-h2*h1)\n",
    "       # f_prima[-1]=-(h11*(f[-2]-f[-1])/(h22*h11-h22*h22))+(h22*(f[-3]-f[-1])/(h11*h11-h22*h11))\n",
    "       # f_prima[-1]=-(h11*(f[-2]-f[-1])/(h22*h11-h22*h22))+(h22*(f[-3]-f[-1])/(h11*h11-h22*h11))### revisar\n",
    "    return f_prima"
   ]
  },
  {
   "cell_type": "code",
   "execution_count": null,
   "metadata": {},
   "outputs": [],
   "source": [
    "#Definimos una función que nos modificará una malla uniforme\n",
    "def f(x):\n",
    "    return x#**(1/2)\n",
    "#Definimos la malla uniforme con 500 puntos y se le aplica la funcion\n",
    "x = 2*np.pi*f(np.linspace(0, 1, 500, endpoint=False))\n",
    "#Definimos la función a la que le aplicaremos la derivida\n",
    "y = cos(x)\n",
    "#y_deriv = -sin(x)\n",
    "y_num_deriv = deriv(y,x)\n",
    "#plot(x,y,label=\"$f(x)$\")\n",
    "#plot(x,y_deriv,label=\"$f'(x)$\")\n",
    "#plot(x,y_num_deriv,label=\"f'(x) numérica\")\n",
    "#legend(),grid()\n",
    "#show()"
   ]
  },
  {
   "cell_type": "code",
   "execution_count": null,
   "metadata": {},
   "outputs": [],
   "source": [
    "#Obtenemos el tiempo de la función \n",
    "%timeit (deriv(y,x))"
   ]
  },
  {
   "cell_type": "markdown",
   "metadata": {},
   "source": [
    "###### Obteniendo el tiempo con una malla no unfirme y con la función segunda derivada de orden 2:"
   ]
  },
  {
   "cell_type": "code",
   "execution_count": 16,
   "metadata": {},
   "outputs": [
    {
     "data": {
      "image/png": "[encoded data removed]",
      "text/plain": [
       "<Figure size 432x288 with 1 Axes>"
      ]
     },
     "metadata": {
      "needs_background": "light"
     },
     "output_type": "display_data"
    }
   ],
   "source": [
    "##Definimos la segunda derivada para una función f y cuya malla no es uniforme.\n",
    "def deriv2(f,x):\n",
    "    f_prima2 = zeros(len(f))\n",
    "\n",
    "    for i in range (len(f)-1):\n",
    "        #h[i]=x[i+1]-x[i]#h2\n",
    "        #g[i]=x[i]-x[i-1]#h1\n",
    "        f_prima2[i]=2*(((x[i+1]-x[i])*f[i-1])+((x[i]-x[i-1])*f[i+1])-(f[i]*(x[i+1]-x[i]+x[i]-x[i-1])))/((x[i+1]-x[i])*(x[i]-x[i-1])*(x[i]-x[i-1])**2+(x[i]-x[i-1])*(x[i+1]-x[i])**2)\n",
    "    # calcular el ultimo punto\n",
    "        #h1=x[2]-x[1]\n",
    "        #h2=x[3]-x[2]\n",
    "        \n",
    "        #h11=x[-1]-x[-2]\n",
    "        #h22=x[0]-x[-1]\n",
    "        #f_prima2[1] = h2*(f[2]-f[1] )/(h1*h2-h1*h1)- h1*(f[3]-f[1])/(h2*h2-h2*h1)\n",
    "       # f_prima[-1]=-(h11*(f[-2]-f[-1])/(h22*h11-h22*h22))+(h22*(f[-3]-f[-1])/(h11*h11-h22*h11))\n",
    "       # f_prima[-1]=-(h11*(f[-2]-f[-1])/(h22*h11-h22*h22))+(h22*(f[-3]-f[-1])/(h11*h11-h22*h11))### revisar\n",
    "    return f_prima2\n",
    "\n",
    "##Definimos una función f para transformar cualquier malla uniforme a una no uniforme.\n",
    "def f(x):\n",
    "    return x#**(1/2)\n",
    "###Escogemos la malla\n",
    "x = np.linspace(0, 2*pi, 50) #2*np.pi*f(np.linspace(0, 1, 50, endpoint=False))\n",
    "##Escogemos la funcion f a la cual le aplicaremos la primera derivada\n",
    "y = cos(x)\n",
    "y_deriv2 = -cos(x)\n",
    "y_num_deriv = deriv2(y,x)\n",
    "#plot(x,y,label=\"$f(x)$\")\n",
    "plot(x,y_deriv2,label=\"$f'(x)$\")\n",
    "plot(x,y_num_deriv,label=\"f'(x) numérica\")\n",
    "legend(),grid()\n",
    "show()"
   ]
  },
  {
   "cell_type": "code",
   "execution_count": 15,
   "metadata": {},
   "outputs": [
    {
     "name": "stdout",
     "output_type": "stream",
     "text": [
      "623 µs ± 29.8 µs per loop (mean ± std. dev. of 7 runs, 1000 loops each)\n"
     ]
    }
   ],
   "source": [
    "#Obtenemos el tiempo de la función \n",
    "%timeit (deriv2(y,x))"
   ]
  },
  {
   "cell_type": "markdown",
   "metadata": {},
   "source": [
    "### 3. Calcule la derivada analítica de las funciones $f(x) = e^{−x^{2}} sin(10x)$ con $x \\in [−5, 5]$ , y $g(x)=-\\frac{2}{x^{6}}+{\\frac{1}{x^{12}}}$ con $x \\in [0.5, 5]$. Realice las gráficas de las funciones y sus primeras dos derivadas. Con las funciones del problema 1, encuentre una malla adecuada para cada caso en el que el error de cálculo sea menor que $10−5$ para cualquier punto. ¿Las mallas tienen el mismo espacio entre puntos de la malla?, explique porque si o porque no."
   ]
  },
  {
   "cell_type": "markdown",
   "metadata": {},
   "source": [
    "Iniciemos obtiene la derivada analítica:\n",
    "$$f'(x)=2e^{-x^{2}}(5\\cos(10x)-x\\sin(10x) $$\n",
    "Por otro lado::\n",
    "$$g'(x)={\\frac{12}{x^{-7}}}-{\\frac{12}{x^{13}}} $$ "
   ]
  },
  {
   "cell_type": "code",
   "execution_count": 19,
   "metadata": {},
   "outputs": [
    {
     "data": {
      "image/png": "[encoded data removed]",
      "text/plain": [
       "<Figure size 432x288 with 1 Axes>"
      ]
     },
     "metadata": {
      "needs_background": "light"
     },
     "output_type": "display_data"
    }
   ],
   "source": [
    "#graficando la primera función de -5 a 5\n",
    "x=linspace(-5,5,500)\n",
    "y=exp(-(x**2))*sin(10*x)\n",
    "plot(x,y,label=\"f(x)\")\n",
    "legend(),grid()\n",
    "show()"
   ]
  },
  {
   "cell_type": "code",
   "execution_count": 23,
   "metadata": {},
   "outputs": [
    {
     "data": {
      "image/png": "[encoded data removed]",
      "text/plain": [
       "<Figure size 432x288 with 1 Axes>"
      ]
     },
     "metadata": {
      "needs_background": "light"
     },
     "output_type": "display_data"
    }
   ],
   "source": [
    "#graficando la segunda funcion\n",
    "x1=linspace(0.5,5,500)\n",
    "y1=(-2/(x**6))+(1/x**12)\n",
    "plot(x1,y1,label=\"f(x)\")\n",
    "legend(),grid()\n",
    "show()"
   ]
  },
  {
   "cell_type": "markdown",
   "metadata": {},
   "source": [
    "### 4. Suponga que tiene la función $sinc(x) =\\frac{ sin(3x)}{x}$ en el intervalo$ [−2π, 2π]$. Calcule la derivada analítica de dicha función y calcule la derivada numérica utilizando una malla uniforme.\n",
    "\n",
    "### (a) Dependiendo del lenguaje de programación que utilice, averig\\\"e la manera de obtener los tiempos de ejecución para calcular la derivada utilizando los algoritmos de 2o y 4o orden.\n",
    "\n",
    "### (b) Comparando con la solución analítica, encuentre el espacio entre los puntos de la malla para que el error máximo en el cálculo sea menor a $10^{-5}$ para cada algoritmo.\n",
    "\n",
    "### (c) Realice la gráfica del “Número de puntos en el espaciamiento de la malla” vs “Tiempo de ejecución” partiendo de un espaciamiento en los puntos en la malla de 0.25 hasta el espaciamiento encontrado en el inciso b). Por o menos considere 15 puntos, es decir 15 mallas deferentes, para realizar este ejercicio.\n",
    "\n",
    "### (d) ¿Qué puede concluir de este experimento numérico?"
   ]
  },
  {
   "cell_type": "code",
   "execution_count": null,
   "metadata": {},
   "outputs": [],
   "source": [
    "M=(m1,m2)\n",
    "#print(M)"
   ]
  },
  {
   "cell_type": "code",
   "execution_count": null,
   "metadata": {},
   "outputs": [],
   "source": [
    "m1 = []\n",
    "for m in range(1,100):\n",
    "    m1.append(2*pi/m)\n",
    "m1.sort()\n",
    "#print (m1)\n",
    "m2 = []\n",
    "for n in range(9802,10202):\n",
    "    m2.append(n)\n",
    "m2.sort()\n",
    "#print(m2)"
   ]
  },
  {
   "cell_type": "code",
   "execution_count": null,
   "metadata": {},
   "outputs": [],
   "source": []
  }
 ],
 "metadata": {
  "kernelspec": {
   "display_name": "Python 3",
   "language": "python",
   "name": "python3"
  },
  "language_info": {
   "codemirror_mode": {
    "name": "ipython",
    "version": 3
   },
   "file_extension": ".py",
   "mimetype": "text/x-python",
   "name": "python",
   "nbconvert_exporter": "python",
   "pygments_lexer": "ipython3",
   "version": "3.7.6"
  }
 },
 "nbformat": 4,
 "nbformat_minor": 4
}
